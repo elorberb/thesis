{
 "cells": [
  {
   "cell_type": "code",
   "execution_count": 2,
   "metadata": {},
   "outputs": [],
   "source": [
    "from src.annotation_handling.segmentsai_handler import SegmentsAIHandler"
   ]
  },
  {
   "cell_type": "code",
   "execution_count": 3,
   "metadata": {},
   "outputs": [],
   "source": [
    "segmentsai_handler = SegmentsAIHandler()\n",
    "dataset_identifier = \"etaylor/cannabis_patches_week9_15_06_2023_3x_regular_IMG_2198\"\n"
   ]
  },
  {
   "cell_type": "code",
   "execution_count": 33,
   "metadata": {},
   "outputs": [],
   "source": [
    "# Fetch the samples\n",
    "samples = segmentsai_handler.client.get_samples(dataset_identifier)\n",
    "\n",
    "# mapping between label class to the class name\n",
    "class_mapping = {\n",
    "    1: 'clear',\n",
    "    2: 'cloudy',\n",
    "    3: 'amber'\n",
    "}\n",
    "\n",
    "# Initialize counters for each trichome type\n",
    "distribution = {\n",
    "    'clear': 0,\n",
    "    'cloudy': 0,\n",
    "    'amber': 0\n",
    "}\n",
    "\n",
    "labels = [segmentsai_handler.client.get_label(sample.uuid) for sample in samples]\n",
    "\n",
    "# Count each type of annotation\n",
    "for label in labels:\n",
    "    for annotation in label.attributes.annotations:\n",
    "        trichome_type = class_mapping[annotation.category_id]  # Assuming 'label' is where the type is stored\n",
    "        if trichome_type in distribution:\n",
    "            distribution[trichome_type] += 1"
   ]
  },
  {
   "cell_type": "code",
   "execution_count": 34,
   "metadata": {},
   "outputs": [
    {
     "data": {
      "text/plain": [
       "{'clear': 48, 'cloudy': 148, 'amber': 10}"
      ]
     },
     "execution_count": 34,
     "metadata": {},
     "output_type": "execute_result"
    }
   ],
   "source": [
    "distribution"
   ]
  },
  {
   "cell_type": "code",
   "execution_count": 31,
   "metadata": {},
   "outputs": [],
   "source": [
    "label = labels[1]"
   ]
  },
  {
   "cell_type": "code",
   "execution_count": 32,
   "metadata": {},
   "outputs": [
    {
     "data": {
      "text/plain": [
       "[Annotation(id=1, category_id=2, attributes=None),\n",
       " Annotation(id=2, category_id=2, attributes=None),\n",
       " Annotation(id=3, category_id=2, attributes=None),\n",
       " Annotation(id=4, category_id=2, attributes=None)]"
      ]
     },
     "execution_count": 32,
     "metadata": {},
     "output_type": "execute_result"
    }
   ],
   "source": [
    "label.attributes.annotations"
   ]
  },
  {
   "cell_type": "code",
   "execution_count": null,
   "metadata": {},
   "outputs": [],
   "source": []
  }
 ],
 "metadata": {
  "kernelspec": {
   "display_name": "detectron",
   "language": "python",
   "name": "python3"
  },
  "language_info": {
   "codemirror_mode": {
    "name": "ipython",
    "version": 3
   },
   "file_extension": ".py",
   "mimetype": "text/x-python",
   "name": "python",
   "nbconvert_exporter": "python",
   "pygments_lexer": "ipython3",
   "version": "3.9.18"
  }
 },
 "nbformat": 4,
 "nbformat_minor": 2
}
