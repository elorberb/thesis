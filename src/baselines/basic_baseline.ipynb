{
 "cells": [
  {
   "cell_type": "code",
   "execution_count": 1,
   "metadata": {},
   "outputs": [],
   "source": [
    "import pickle\n",
    "\n",
    "#load annotated data\n",
    "with open('/home/etaylor/code_projects/thesis/metadata/images_annotated.pkl', 'rb') as f:\n",
    "    annotated_data = pickle.load(f)"
   ]
  },
  {
   "cell_type": "code",
   "execution_count": 2,
   "metadata": {},
   "outputs": [
    {
     "name": "stdout",
     "output_type": "stream",
     "text": [
      "['IMG_2129', 'IMG_2198', 'IMG_0546', 'IMG_1079', 'IMG_0543', 'IMG_1818', 'IMG_0540', 'IMG_2153', 'IMG_0016', 'IMG_0542', 'IMG_1085', 'IMG_0014', 'IMG_1875', 'IMG_1857', 'IMG_0545', 'IMG_2285', 'IMG_2242', 'IMG_1787', 'IMG_1082', 'IMG_0017', 'IMG_1753', 'IMG_0003', 'IMG_2145', 'IMG_1093', 'IMG_0547', 'IMG_0001']\n"
     ]
    }
   ],
   "source": [
    "print(annotated_data)"
   ]
  },
  {
   "cell_type": "code",
   "execution_count": 3,
   "metadata": {},
   "outputs": [],
   "source": [
    "#TODO create function that given a dataset calculates the number of each trichome class - Done\n",
    "\n",
    "# TODO: create a baseline model that given an image calculates the number of each trichome class\n",
    "\n",
    "# TODO: evaluate the baseline model with metrics like RMSE to the ground truth\n",
    "\n",
    "# TODO: compare the results of the baseline model with the results of the human annotators\n",
    "\n",
    "# TODO: compare the results of the baseline with the models that i already trained: YOLO, mask RCNN, RT_DTR "
   ]
  },
  {
   "cell_type": "code",
   "execution_count": 4,
   "metadata": {},
   "outputs": [
    {
     "name": "stdout",
     "output_type": "stream",
     "text": [
      "get the distribution for image IMG_2129\n",
      "Distribution for image IMG_2129: \n",
      "{'clear': 75, 'cloudy': 216, 'amber': 9}\n",
      "get the distribution for image IMG_2198\n",
      "Distribution for image IMG_2198: \n",
      "{'clear': 48, 'cloudy': 148, 'amber': 10}\n",
      "get the distribution for image IMG_0546\n",
      "Distribution for image IMG_0546: \n",
      "{'clear': 25, 'cloudy': 78, 'amber': 2}\n",
      "get the distribution for image IMG_1079\n",
      "Distribution for image IMG_1079: \n",
      "{'clear': 68, 'cloudy': 79, 'amber': 6}\n",
      "get the distribution for image IMG_0543\n",
      "Distribution for image IMG_0543: \n",
      "{'clear': 79, 'cloudy': 167, 'amber': 0}\n",
      "get the distribution for image IMG_1818\n",
      "Distribution for image IMG_1818: \n",
      "{'clear': 17, 'cloudy': 197, 'amber': 25}\n",
      "get the distribution for image IMG_0540\n",
      "Distribution for image IMG_0540: \n",
      "{'clear': 91, 'cloudy': 54, 'amber': 0}\n",
      "get the distribution for image IMG_2153\n",
      "Distribution for image IMG_2153: \n",
      "{'clear': 38, 'cloudy': 120, 'amber': 28}\n",
      "get the distribution for image IMG_0016\n",
      "Distribution for image IMG_0016: \n",
      "{'clear': 77, 'cloudy': 38, 'amber': 0}\n",
      "get the distribution for image IMG_0542\n",
      "Distribution for image IMG_0542: \n",
      "{'clear': 36, 'cloudy': 49, 'amber': 0}\n",
      "get the distribution for image IMG_1085\n",
      "Distribution for image IMG_1085: \n",
      "{'clear': 9, 'cloudy': 136, 'amber': 5}\n",
      "get the distribution for image IMG_0014\n",
      "Distribution for image IMG_0014: \n",
      "{'clear': 56, 'cloudy': 54, 'amber': 1}\n",
      "get the distribution for image IMG_1875\n",
      "Distribution for image IMG_1875: \n",
      "{'clear': 7, 'cloudy': 77, 'amber': 9}\n",
      "get the distribution for image IMG_1857\n",
      "Distribution for image IMG_1857: \n",
      "{'clear': 7, 'cloudy': 163, 'amber': 17}\n",
      "get the distribution for image IMG_0545\n",
      "Distribution for image IMG_0545: \n",
      "{'clear': 81, 'cloudy': 74, 'amber': 2}\n",
      "get the distribution for image IMG_2285\n",
      "Distribution for image IMG_2285: \n",
      "{'clear': 30, 'cloudy': 128, 'amber': 12}\n",
      "get the distribution for image IMG_2242\n",
      "Distribution for image IMG_2242: \n",
      "{'clear': 0, 'cloudy': 35, 'amber': 36}\n",
      "get the distribution for image IMG_1787\n",
      "Distribution for image IMG_1787: \n",
      "{'clear': 3, 'cloudy': 104, 'amber': 60}\n",
      "get the distribution for image IMG_1082\n",
      "Distribution for image IMG_1082: \n",
      "{'clear': 10, 'cloudy': 86, 'amber': 1}\n",
      "get the distribution for image IMG_0017\n",
      "Distribution for image IMG_0017: \n",
      "{'clear': 106, 'cloudy': 59, 'amber': 3}\n",
      "get the distribution for image IMG_1753\n",
      "Distribution for image IMG_1753: \n",
      "{'clear': 74, 'cloudy': 21, 'amber': 0}\n",
      "get the distribution for image IMG_0003\n",
      "Distribution for image IMG_0003: \n",
      "{'clear': 130, 'cloudy': 61, 'amber': 0}\n",
      "get the distribution for image IMG_2145\n",
      "Distribution for image IMG_2145: \n",
      "{'clear': 51, 'cloudy': 110, 'amber': 61}\n",
      "get the distribution for image IMG_1093\n",
      "Distribution for image IMG_1093: \n",
      "{'clear': 33, 'cloudy': 143, 'amber': 36}\n",
      "get the distribution for image IMG_0547\n",
      "Distribution for image IMG_0547: \n",
      "{'clear': 117, 'cloudy': 264, 'amber': 4}\n",
      "get the distribution for image IMG_0001\n",
      "Distribution for image IMG_0001: \n",
      "{'clear': 83, 'cloudy': 140, 'amber': 1}\n"
     ]
    }
   ],
   "source": [
    "from src.annotation_handling.segmentsai_handler import SegmentsAIHandler\n",
    "segments_handler = SegmentsAIHandler()\n",
    "images_trichome_distribution = {}\n",
    "# get the trichome distribution for each annotated image dataset\n",
    "for image_number in annotated_data:\n",
    "    print(f\"get the distribution for image {image_number}\")\n",
    "    trichome_distribution = segments_handler.get_trichome_distribution(image_number)\n",
    "    images_trichome_distribution[image_number] = trichome_distribution\n",
    "    print(f\"Distribution for image {image_number}: \\n{trichome_distribution}\")"
   ]
  },
  {
   "cell_type": "markdown",
   "metadata": {},
   "source": [
    "### Image Regression model to predict the number of trichomes from each class"
   ]
  },
  {
   "cell_type": "code",
   "execution_count": 5,
   "metadata": {},
   "outputs": [
    {
     "data": {
      "text/plain": [
       "'2.7.14'"
      ]
     },
     "execution_count": 5,
     "metadata": {},
     "output_type": "execute_result"
    }
   ],
   "source": [
    "import fastai\n",
    "fastai.__version__"
   ]
  },
  {
   "cell_type": "code",
   "execution_count": 9,
   "metadata": {},
   "outputs": [],
   "source": [
    "from fastai.vision import *\n",
    "import config\n",
    "import pandas as pd"
   ]
  },
  {
   "cell_type": "code",
   "execution_count": 10,
   "metadata": {},
   "outputs": [
    {
     "data": {
      "text/html": [
       "<div>\n",
       "<style scoped>\n",
       "    .dataframe tbody tr th:only-of-type {\n",
       "        vertical-align: middle;\n",
       "    }\n",
       "\n",
       "    .dataframe tbody tr th {\n",
       "        vertical-align: top;\n",
       "    }\n",
       "\n",
       "    .dataframe thead th {\n",
       "        text-align: right;\n",
       "    }\n",
       "</style>\n",
       "<table border=\"1\" class=\"dataframe\">\n",
       "  <thead>\n",
       "    <tr style=\"text-align: right;\">\n",
       "      <th></th>\n",
       "      <th>filename</th>\n",
       "      <th>clear</th>\n",
       "      <th>cloudy</th>\n",
       "      <th>amber</th>\n",
       "    </tr>\n",
       "  </thead>\n",
       "  <tbody>\n",
       "    <tr>\n",
       "      <th>0</th>\n",
       "      <td>/sise/home/etaylor/images/raw_images/week9_15_...</td>\n",
       "      <td>75</td>\n",
       "      <td>216</td>\n",
       "      <td>9</td>\n",
       "    </tr>\n",
       "    <tr>\n",
       "      <th>1</th>\n",
       "      <td>/sise/home/etaylor/images/raw_images/week9_15_...</td>\n",
       "      <td>48</td>\n",
       "      <td>148</td>\n",
       "      <td>10</td>\n",
       "    </tr>\n",
       "    <tr>\n",
       "      <th>2</th>\n",
       "      <td>/sise/home/etaylor/images/raw_images/week6_22_...</td>\n",
       "      <td>25</td>\n",
       "      <td>78</td>\n",
       "      <td>2</td>\n",
       "    </tr>\n",
       "    <tr>\n",
       "      <th>3</th>\n",
       "      <td>/sise/home/etaylor/images/raw_images/week7_01_...</td>\n",
       "      <td>68</td>\n",
       "      <td>79</td>\n",
       "      <td>6</td>\n",
       "    </tr>\n",
       "    <tr>\n",
       "      <th>4</th>\n",
       "      <td>/sise/home/etaylor/images/raw_images/week6_22_...</td>\n",
       "      <td>79</td>\n",
       "      <td>167</td>\n",
       "      <td>0</td>\n",
       "    </tr>\n",
       "  </tbody>\n",
       "</table>\n",
       "</div>"
      ],
      "text/plain": [
       "                                            filename  clear  cloudy  amber\n",
       "0  /sise/home/etaylor/images/raw_images/week9_15_...     75     216      9\n",
       "1  /sise/home/etaylor/images/raw_images/week9_15_...     48     148     10\n",
       "2  /sise/home/etaylor/images/raw_images/week6_22_...     25      78      2\n",
       "3  /sise/home/etaylor/images/raw_images/week7_01_...     68      79      6\n",
       "4  /sise/home/etaylor/images/raw_images/week6_22_...     79     167      0"
      ]
     },
     "execution_count": 10,
     "metadata": {},
     "output_type": "execute_result"
    }
   ],
   "source": [
    "images_annotations = []\n",
    "# create a csv file for each image path and the trichome value\n",
    "for image_number, image_dist in images_trichome_distribution.items():\n",
    "    image_path = config.get_image_path(image_number)\n",
    "    images_annotations.append({\"filename\":image_path,\n",
    "                                \"clear\": image_dist.get(\"clear\", 0),\n",
    "                                \"cloudy\": image_dist.get(\"cloudy\", 0),\n",
    "                                \"amber\": image_dist.get(\"amber\", 0)})\n",
    "df = pd.DataFrame(images_annotations)\n",
    "df.head()"
   ]
  },
  {
   "cell_type": "code",
   "execution_count": null,
   "metadata": {},
   "outputs": [],
   "source": []
  }
 ],
 "metadata": {
  "kernelspec": {
   "display_name": "detectron",
   "language": "python",
   "name": "python3"
  },
  "language_info": {
   "codemirror_mode": {
    "name": "ipython",
    "version": 3
   },
   "file_extension": ".py",
   "mimetype": "text/x-python",
   "name": "python",
   "nbconvert_exporter": "python",
   "pygments_lexer": "ipython3",
   "version": "3.10.13"
  }
 },
 "nbformat": 4,
 "nbformat_minor": 2
}
