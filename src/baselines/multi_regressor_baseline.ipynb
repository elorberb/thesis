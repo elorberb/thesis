{
 "cells": [
  {
   "cell_type": "code",
   "execution_count": 1,
   "metadata": {},
   "outputs": [],
   "source": [
    "import pickle\n",
    "\n",
    "#load annotated data\n",
    "with open('/home/etaylor/code_projects/thesis/metadata/images_annotated.pkl', 'rb') as f:\n",
    "    annotated_data = pickle.load(f)"
   ]
  },
  {
   "cell_type": "code",
   "execution_count": 2,
   "metadata": {},
   "outputs": [
    {
     "name": "stdout",
     "output_type": "stream",
     "text": [
      "['IMG_2129', 'IMG_2198', 'IMG_0546', 'IMG_1079', 'IMG_0543', 'IMG_1818', 'IMG_0540', 'IMG_2153', 'IMG_0016', 'IMG_0542', 'IMG_1085', 'IMG_0014', 'IMG_1875', 'IMG_1857', 'IMG_0545', 'IMG_2285', 'IMG_2242', 'IMG_1787', 'IMG_1082', 'IMG_0017', 'IMG_1753', 'IMG_0003', 'IMG_2145', 'IMG_1093', 'IMG_0547', 'IMG_0001']\n"
     ]
    }
   ],
   "source": [
    "print(annotated_data)"
   ]
  },
  {
   "cell_type": "code",
   "execution_count": null,
   "metadata": {},
   "outputs": [],
   "source": [
    "#TODO create function that given a dataset calculates the number of each trichome class\n",
    "\n",
    "# TODO: create a baseline model that given an image calculates the number of each trichome class\n",
    "\n",
    "# TODO: evaluate the baseline model with metrics like MAE to the ground truth\n",
    "\n",
    "# TODO: compare the results of the baseline model with the results of the human annotators\n",
    "\n",
    "# TODO: compare the results of the baseline with the models that i already trainned: YOLO, mask RCNN, RT_DTR "
   ]
  }
 ],
 "metadata": {
  "kernelspec": {
   "display_name": "detectron",
   "language": "python",
   "name": "python3"
  },
  "language_info": {
   "codemirror_mode": {
    "name": "ipython",
    "version": 3
   },
   "file_extension": ".py",
   "mimetype": "text/x-python",
   "name": "python",
   "nbconvert_exporter": "python",
   "pygments_lexer": "ipython3",
   "version": "3.9.18"
  }
 },
 "nbformat": 4,
 "nbformat_minor": 2
}
