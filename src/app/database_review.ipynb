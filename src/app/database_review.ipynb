{
 "cells": [
  {
   "cell_type": "code",
   "execution_count": 1,
   "metadata": {
    "ExecuteTime": {
     "end_time": "2024-02-09T20:24:57.926548700Z",
     "start_time": "2024-02-09T20:24:56.480010900Z"
    }
   },
   "outputs": [],
   "source": [
    "import constants as const\n",
    "import firebase_admin\n",
    "from firebase_admin import credentials, firestore\n",
    "import pandas as pd\n",
    "import os"
   ]
  },
  {
   "cell_type": "code",
   "execution_count": null,
   "outputs": [],
   "source": [
    "os.environ[\"HTTP_PROXY\"] = \"\"\n",
    "os.environ[\"HTTPS_PROXY\"] = \"\""
   ],
   "metadata": {
    "collapsed": false
   }
  },
  {
   "cell_type": "code",
   "execution_count": 2,
   "metadata": {
    "ExecuteTime": {
     "end_time": "2024-02-09T20:25:00.480873200Z",
     "start_time": "2024-02-09T20:25:00.417624100Z"
    }
   },
   "outputs": [],
   "source": [
    "# connect to the firestore database\n",
    "cred = credentials.Certificate(const.FIREBASE_CRED_PATH)\n",
    "firebase_admin.initialize_app(cred)\n",
    "db = firestore.client()"
   ]
  },
  {
   "cell_type": "code",
   "execution_count": 11,
   "outputs": [],
   "source": [
    "def collection_to_dataframe(coll_name):\n",
    "    \n",
    "    # get the collection reference\n",
    "    coll_ref = db.collection(coll_name)\n",
    "    # Initialize an empty list to hold the documents' data\n",
    "    data = []\n",
    "    \n",
    "    # Stream the documents from the collection\n",
    "    docs = coll_ref.stream()\n",
    "    \n",
    "    # Iterate over the documents and convert each to a dictionary\n",
    "    for doc in docs:\n",
    "        doc_data = doc.to_dict()\n",
    "        doc_data['document_id'] = doc.id  # Optionally include the document ID\n",
    "        data.append(doc_data)\n",
    "    \n",
    "    # Convert the list of dictionaries to a pandas DataFrame\n",
    "    df = pd.DataFrame(data)\n",
    "    \n",
    "    return df"
   ],
   "metadata": {
    "collapsed": false,
    "ExecuteTime": {
     "end_time": "2024-02-09T20:33:57.102935300Z",
     "start_time": "2024-02-09T20:33:57.093643800Z"
    }
   }
  },
  {
   "cell_type": "code",
   "execution_count": 22,
   "outputs": [],
   "source": [
    "participants_df = collection_to_dataframe(const.FIREBASE_PARTICIPANTS_COLLECTION)\n",
    "experiment_feedback_df = collection_to_dataframe(const.FIREBASE_EXPERIMENT_FEEDBACK_COLLECTION)\n",
    "post_questionnaire_df = collection_to_dataframe(const.FIREBASE_POST_QUESTIONNAIRE_FEEDBACK_COLLECTION)"
   ],
   "metadata": {
    "collapsed": false,
    "ExecuteTime": {
     "end_time": "2024-02-09T21:08:35.012931500Z",
     "start_time": "2024-02-09T21:08:32.810922400Z"
    }
   }
  },
  {
   "cell_type": "code",
   "execution_count": 26,
   "outputs": [
    {
     "data": {
      "text/plain": "         entity_type company  age  gender             email  \\\n0          Incubator    dasd   18  Female     dsad@dasd.das   \n1          Incubator    test   18    Male    test@test.test   \n2  Commercial Grower     sda   18  Female        etay@fd.cd   \n3          Incubator    dsad   18  Female     dad@dsad.dsad   \n4          Incubator    dsad   18  Female     dsad@dasd.das   \n5          Incubator   intel   28    Male  remote@gmail.com   \n6          Incubator    DSAD   18  Female         s@DSA.DAS   \n\n                         participant_id participant_name  \\\n0  196abdb2-b07e-4da2-9bfd-226351be68ab             dasd   \n1  3a53f3ab-fe9f-4165-ab78-43fa4f9cd45c             test   \n2  6e7b311a-6f85-4baf-8842-ed56a7d567a2             etay   \n3  73bf5ddb-0683-4d84-af6e-474817a24dcb           fdsfds   \n4  805dc036-01d9-4649-8ae9-b67b344fe9e3             dasd   \n5  9386e70b-87c2-4515-953d-06bd417dc5d1           remote   \n6  f6b3cca4-65a5-4a7d-86ee-b5adff0bf95f               sA   \n\n                            document_id  \n0  196abdb2-b07e-4da2-9bfd-226351be68ab  \n1  3a53f3ab-fe9f-4165-ab78-43fa4f9cd45c  \n2  6e7b311a-6f85-4baf-8842-ed56a7d567a2  \n3  73bf5ddb-0683-4d84-af6e-474817a24dcb  \n4  805dc036-01d9-4649-8ae9-b67b344fe9e3  \n5  9386e70b-87c2-4515-953d-06bd417dc5d1  \n6  f6b3cca4-65a5-4a7d-86ee-b5adff0bf95f  ",
      "text/html": "<div>\n<style scoped>\n    .dataframe tbody tr th:only-of-type {\n        vertical-align: middle;\n    }\n\n    .dataframe tbody tr th {\n        vertical-align: top;\n    }\n\n    .dataframe thead th {\n        text-align: right;\n    }\n</style>\n<table border=\"1\" class=\"dataframe\">\n  <thead>\n    <tr style=\"text-align: right;\">\n      <th></th>\n      <th>entity_type</th>\n      <th>company</th>\n      <th>age</th>\n      <th>gender</th>\n      <th>email</th>\n      <th>participant_id</th>\n      <th>participant_name</th>\n      <th>document_id</th>\n    </tr>\n  </thead>\n  <tbody>\n    <tr>\n      <th>0</th>\n      <td>Incubator</td>\n      <td>dasd</td>\n      <td>18</td>\n      <td>Female</td>\n      <td>dsad@dasd.das</td>\n      <td>196abdb2-b07e-4da2-9bfd-226351be68ab</td>\n      <td>dasd</td>\n      <td>196abdb2-b07e-4da2-9bfd-226351be68ab</td>\n    </tr>\n    <tr>\n      <th>1</th>\n      <td>Incubator</td>\n      <td>test</td>\n      <td>18</td>\n      <td>Male</td>\n      <td>test@test.test</td>\n      <td>3a53f3ab-fe9f-4165-ab78-43fa4f9cd45c</td>\n      <td>test</td>\n      <td>3a53f3ab-fe9f-4165-ab78-43fa4f9cd45c</td>\n    </tr>\n    <tr>\n      <th>2</th>\n      <td>Commercial Grower</td>\n      <td>sda</td>\n      <td>18</td>\n      <td>Female</td>\n      <td>etay@fd.cd</td>\n      <td>6e7b311a-6f85-4baf-8842-ed56a7d567a2</td>\n      <td>etay</td>\n      <td>6e7b311a-6f85-4baf-8842-ed56a7d567a2</td>\n    </tr>\n    <tr>\n      <th>3</th>\n      <td>Incubator</td>\n      <td>dsad</td>\n      <td>18</td>\n      <td>Female</td>\n      <td>dad@dsad.dsad</td>\n      <td>73bf5ddb-0683-4d84-af6e-474817a24dcb</td>\n      <td>fdsfds</td>\n      <td>73bf5ddb-0683-4d84-af6e-474817a24dcb</td>\n    </tr>\n    <tr>\n      <th>4</th>\n      <td>Incubator</td>\n      <td>dsad</td>\n      <td>18</td>\n      <td>Female</td>\n      <td>dsad@dasd.das</td>\n      <td>805dc036-01d9-4649-8ae9-b67b344fe9e3</td>\n      <td>dasd</td>\n      <td>805dc036-01d9-4649-8ae9-b67b344fe9e3</td>\n    </tr>\n    <tr>\n      <th>5</th>\n      <td>Incubator</td>\n      <td>intel</td>\n      <td>28</td>\n      <td>Male</td>\n      <td>remote@gmail.com</td>\n      <td>9386e70b-87c2-4515-953d-06bd417dc5d1</td>\n      <td>remote</td>\n      <td>9386e70b-87c2-4515-953d-06bd417dc5d1</td>\n    </tr>\n    <tr>\n      <th>6</th>\n      <td>Incubator</td>\n      <td>DSAD</td>\n      <td>18</td>\n      <td>Female</td>\n      <td>s@DSA.DAS</td>\n      <td>f6b3cca4-65a5-4a7d-86ee-b5adff0bf95f</td>\n      <td>sA</td>\n      <td>f6b3cca4-65a5-4a7d-86ee-b5adff0bf95f</td>\n    </tr>\n  </tbody>\n</table>\n</div>"
     },
     "execution_count": 26,
     "metadata": {},
     "output_type": "execute_result"
    }
   ],
   "source": [
    "participants_df"
   ],
   "metadata": {
    "collapsed": false,
    "ExecuteTime": {
     "end_time": "2024-02-09T21:09:29.285385Z",
     "start_time": "2024-02-09T21:09:29.227523100Z"
    }
   }
  },
  {
   "cell_type": "code",
   "execution_count": 24,
   "outputs": [
    {
     "data": {
      "text/plain": "                                          image_path  clear_percentage  \\\n0  https://storage.googleapis.com/trichome_classi...                 0   \n1  https://storage.googleapis.com/trichome_classi...                31   \n2  https://storage.googleapis.com/trichome_classi...                 0   \n3  https://storage.googleapis.com/trichome_classi...                 0   \n4  https://storage.googleapis.com/trichome_classi...                 0   \n\n   maturity_level image_number  amber_percentage  cloudy_percentage  \\\n0  Nearly Harvest     IMG_1144                 2                 98   \n1      At Harvest     IMG_1182                 5                 64   \n2   Over Maturity     IMG_2257                15                 85   \n3  Nearly Harvest     IMG_2271                 4                 96   \n4   Over Maturity     IMG_2191                24                 76   \n\n                         participant_id            timestamp  \\\n0  3a53f3ab-fe9f-4165-ab78-43fa4f9cd45c  2024-02-09 22:38:29   \n1  3a53f3ab-fe9f-4165-ab78-43fa4f9cd45c  2024-02-09 22:37:49   \n2  9386e70b-87c2-4515-953d-06bd417dc5d1  2024-02-09 21:07:51   \n3  9386e70b-87c2-4515-953d-06bd417dc5d1  2024-02-09 21:07:39   \n4  3a53f3ab-fe9f-4165-ab78-43fa4f9cd45c  2024-02-09 22:38:15   \n\n   time_taken_seconds           document_id  \n0               13.46  AM2aNjrGSonvC8smCgbF  \n1                9.78  JFICqzZmabikbqYyhcWA  \n2               11.15  Rtldq1s83JHhP5V5JKxC  \n3               19.47  X1WY2q5r5wtrTUt3rgni  \n4               12.43  d1hziJctBiPySzh4Ny7o  ",
      "text/html": "<div>\n<style scoped>\n    .dataframe tbody tr th:only-of-type {\n        vertical-align: middle;\n    }\n\n    .dataframe tbody tr th {\n        vertical-align: top;\n    }\n\n    .dataframe thead th {\n        text-align: right;\n    }\n</style>\n<table border=\"1\" class=\"dataframe\">\n  <thead>\n    <tr style=\"text-align: right;\">\n      <th></th>\n      <th>image_path</th>\n      <th>clear_percentage</th>\n      <th>maturity_level</th>\n      <th>image_number</th>\n      <th>amber_percentage</th>\n      <th>cloudy_percentage</th>\n      <th>participant_id</th>\n      <th>timestamp</th>\n      <th>time_taken_seconds</th>\n      <th>document_id</th>\n    </tr>\n  </thead>\n  <tbody>\n    <tr>\n      <th>0</th>\n      <td>https://storage.googleapis.com/trichome_classi...</td>\n      <td>0</td>\n      <td>Nearly Harvest</td>\n      <td>IMG_1144</td>\n      <td>2</td>\n      <td>98</td>\n      <td>3a53f3ab-fe9f-4165-ab78-43fa4f9cd45c</td>\n      <td>2024-02-09 22:38:29</td>\n      <td>13.46</td>\n      <td>AM2aNjrGSonvC8smCgbF</td>\n    </tr>\n    <tr>\n      <th>1</th>\n      <td>https://storage.googleapis.com/trichome_classi...</td>\n      <td>31</td>\n      <td>At Harvest</td>\n      <td>IMG_1182</td>\n      <td>5</td>\n      <td>64</td>\n      <td>3a53f3ab-fe9f-4165-ab78-43fa4f9cd45c</td>\n      <td>2024-02-09 22:37:49</td>\n      <td>9.78</td>\n      <td>JFICqzZmabikbqYyhcWA</td>\n    </tr>\n    <tr>\n      <th>2</th>\n      <td>https://storage.googleapis.com/trichome_classi...</td>\n      <td>0</td>\n      <td>Over Maturity</td>\n      <td>IMG_2257</td>\n      <td>15</td>\n      <td>85</td>\n      <td>9386e70b-87c2-4515-953d-06bd417dc5d1</td>\n      <td>2024-02-09 21:07:51</td>\n      <td>11.15</td>\n      <td>Rtldq1s83JHhP5V5JKxC</td>\n    </tr>\n    <tr>\n      <th>3</th>\n      <td>https://storage.googleapis.com/trichome_classi...</td>\n      <td>0</td>\n      <td>Nearly Harvest</td>\n      <td>IMG_2271</td>\n      <td>4</td>\n      <td>96</td>\n      <td>9386e70b-87c2-4515-953d-06bd417dc5d1</td>\n      <td>2024-02-09 21:07:39</td>\n      <td>19.47</td>\n      <td>X1WY2q5r5wtrTUt3rgni</td>\n    </tr>\n    <tr>\n      <th>4</th>\n      <td>https://storage.googleapis.com/trichome_classi...</td>\n      <td>0</td>\n      <td>Over Maturity</td>\n      <td>IMG_2191</td>\n      <td>24</td>\n      <td>76</td>\n      <td>3a53f3ab-fe9f-4165-ab78-43fa4f9cd45c</td>\n      <td>2024-02-09 22:38:15</td>\n      <td>12.43</td>\n      <td>d1hziJctBiPySzh4Ny7o</td>\n    </tr>\n  </tbody>\n</table>\n</div>"
     },
     "execution_count": 24,
     "metadata": {},
     "output_type": "execute_result"
    }
   ],
   "source": [
    "experiment_feedback_df.head()"
   ],
   "metadata": {
    "collapsed": false,
    "ExecuteTime": {
     "end_time": "2024-02-09T21:08:35.291360600Z",
     "start_time": "2024-02-09T21:08:35.161529800Z"
    }
   }
  },
  {
   "cell_type": "code",
   "execution_count": 25,
   "outputs": [
    {
     "data": {
      "text/plain": "  experience_level educational_background additional_comments difficulty  \\\n0           Expert            High School                       Moderate   \n1             None           No Education                       Moderate   \n\n  suggestions vision_quality                        participant_id confidence  \\\n0                         No  3a53f3ab-fe9f-4165-ab78-43fa4f9cd45c     Medium   \n1                         No  9386e70b-87c2-4515-953d-06bd417dc5d1     Medium   \n\n            document_id  \n0  Onzp5CVWVTwgfiQb6yRs  \n1  uASnqgRM3BMAdmrH4noo  ",
      "text/html": "<div>\n<style scoped>\n    .dataframe tbody tr th:only-of-type {\n        vertical-align: middle;\n    }\n\n    .dataframe tbody tr th {\n        vertical-align: top;\n    }\n\n    .dataframe thead th {\n        text-align: right;\n    }\n</style>\n<table border=\"1\" class=\"dataframe\">\n  <thead>\n    <tr style=\"text-align: right;\">\n      <th></th>\n      <th>experience_level</th>\n      <th>educational_background</th>\n      <th>additional_comments</th>\n      <th>difficulty</th>\n      <th>suggestions</th>\n      <th>vision_quality</th>\n      <th>participant_id</th>\n      <th>confidence</th>\n      <th>document_id</th>\n    </tr>\n  </thead>\n  <tbody>\n    <tr>\n      <th>0</th>\n      <td>Expert</td>\n      <td>High School</td>\n      <td></td>\n      <td>Moderate</td>\n      <td></td>\n      <td>No</td>\n      <td>3a53f3ab-fe9f-4165-ab78-43fa4f9cd45c</td>\n      <td>Medium</td>\n      <td>Onzp5CVWVTwgfiQb6yRs</td>\n    </tr>\n    <tr>\n      <th>1</th>\n      <td>None</td>\n      <td>No Education</td>\n      <td></td>\n      <td>Moderate</td>\n      <td></td>\n      <td>No</td>\n      <td>9386e70b-87c2-4515-953d-06bd417dc5d1</td>\n      <td>Medium</td>\n      <td>uASnqgRM3BMAdmrH4noo</td>\n    </tr>\n  </tbody>\n</table>\n</div>"
     },
     "execution_count": 25,
     "metadata": {},
     "output_type": "execute_result"
    }
   ],
   "source": [
    "post_questionnaire_df.head()"
   ],
   "metadata": {
    "collapsed": false,
    "ExecuteTime": {
     "end_time": "2024-02-09T21:08:35.941231200Z",
     "start_time": "2024-02-09T21:08:35.858119600Z"
    }
   }
  },
  {
   "cell_type": "code",
   "execution_count": null,
   "outputs": [],
   "source": [],
   "metadata": {
    "collapsed": false
   }
  }
 ],
 "metadata": {
  "kernelspec": {
   "name": "thesis_exp_app",
   "language": "python",
   "display_name": "thesis_exp_app"
  },
  "language_info": {
   "codemirror_mode": {
    "name": "ipython",
    "version": 3
   },
   "file_extension": ".py",
   "mimetype": "text/x-python",
   "name": "python",
   "nbconvert_exporter": "python",
   "pygments_lexer": "ipython3",
   "version": "3.9.18"
  }
 },
 "nbformat": 4,
 "nbformat_minor": 2
}
