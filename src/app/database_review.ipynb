{
 "cells": [
  {
   "cell_type": "code",
   "execution_count": 10,
   "metadata": {},
   "outputs": [],
   "source": [
    "import sqlite3\n",
    "import pandas as pd\n",
    "import config"
   ]
  },
  {
   "cell_type": "code",
   "execution_count": 11,
   "metadata": {},
   "outputs": [],
   "source": [
    "conn = sqlite3.connect(config.EXPERIMENT_DATABASE_FILE)"
   ]
  },
  {
   "cell_type": "code",
   "execution_count": 12,
   "metadata": {},
   "outputs": [],
   "source": [
    "# Function to query data from a table\n",
    "def get_table(conn, table_name):\n",
    "    query = f\"SELECT * FROM {table_name}\"\n",
    "    return pd.read_sql_query(query, conn)"
   ]
  },
  {
   "cell_type": "code",
   "execution_count": null,
   "metadata": {},
   "outputs": [],
   "source": [
    "# Query each table and assign to separate DataFrame variables\n",
    "df_pre_questionnaire = get_table(conn, 'pre_questionnaire')\n",
    "df_experiment_feedback = get_table(conn, 'experiment_feedback')\n",
    "df_post_questionnaire = get_table(conn, 'post_questionnaire')\n",
    "\n",
    "# Close the connection\n",
    "conn.close()"
   ]
  },
  {
   "cell_type": "code",
   "execution_count": 14,
   "metadata": {},
   "outputs": [
    {
     "name": "stdout",
     "output_type": "stream",
     "text": [
      "Pre-Questionnaire Data:\n"
     ]
    },
    {
     "data": {
      "text/html": [
       "<div>\n",
       "<style scoped>\n",
       "    .dataframe tbody tr th:only-of-type {\n",
       "        vertical-align: middle;\n",
       "    }\n",
       "\n",
       "    .dataframe tbody tr th {\n",
       "        vertical-align: top;\n",
       "    }\n",
       "\n",
       "    .dataframe thead th {\n",
       "        text-align: right;\n",
       "    }\n",
       "</style>\n",
       "<table border=\"1\" class=\"dataframe\">\n",
       "  <thead>\n",
       "    <tr style=\"text-align: right;\">\n",
       "      <th></th>\n",
       "      <th>id</th>\n",
       "      <th>user_name</th>\n",
       "      <th>age</th>\n",
       "      <th>gender</th>\n",
       "      <th>prior_experience</th>\n",
       "      <th>familiarity</th>\n",
       "    </tr>\n",
       "  </thead>\n",
       "  <tbody>\n",
       "    <tr>\n",
       "      <th>0</th>\n",
       "      <td>1</td>\n",
       "      <td>dwef</td>\n",
       "      <td>18</td>\n",
       "      <td>Female</td>\n",
       "      <td>Yes</td>\n",
       "      <td>Novice</td>\n",
       "    </tr>\n",
       "  </tbody>\n",
       "</table>\n",
       "</div>"
      ],
      "text/plain": [
       "   id user_name  age  gender prior_experience familiarity\n",
       "0   1      dwef   18  Female              Yes      Novice"
      ]
     },
     "execution_count": 14,
     "metadata": {},
     "output_type": "execute_result"
    }
   ],
   "source": [
    "# Examine each DataFrame\n",
    "print(\"Pre-Questionnaire Data:\")\n",
    "df_pre_questionnaire.head()  # Display the first few rows"
   ]
  },
  {
   "cell_type": "code",
   "execution_count": 15,
   "metadata": {},
   "outputs": [
    {
     "name": "stdout",
     "output_type": "stream",
     "text": [
      "\n",
      "Experiment Feedback Data:\n"
     ]
    },
    {
     "data": {
      "text/html": [
       "<div>\n",
       "<style scoped>\n",
       "    .dataframe tbody tr th:only-of-type {\n",
       "        vertical-align: middle;\n",
       "    }\n",
       "\n",
       "    .dataframe tbody tr th {\n",
       "        vertical-align: top;\n",
       "    }\n",
       "\n",
       "    .dataframe thead th {\n",
       "        text-align: right;\n",
       "    }\n",
       "</style>\n",
       "<table border=\"1\" class=\"dataframe\">\n",
       "  <thead>\n",
       "    <tr style=\"text-align: right;\">\n",
       "      <th></th>\n",
       "      <th>id</th>\n",
       "      <th>user_name</th>\n",
       "      <th>timestamp</th>\n",
       "      <th>image_path</th>\n",
       "      <th>clear_percentage</th>\n",
       "      <th>cloudy_percentage</th>\n",
       "      <th>amber_percentage</th>\n",
       "      <th>maturity_level</th>\n",
       "      <th>time_taken_seconds</th>\n",
       "    </tr>\n",
       "  </thead>\n",
       "  <tbody>\n",
       "    <tr>\n",
       "      <th>0</th>\n",
       "      <td>1</td>\n",
       "      <td>dwef</td>\n",
       "      <td>2024-01-13 12:14:32</td>\n",
       "      <td>/sise/home/etaylor/images/raw_images/week5_18_...</td>\n",
       "      <td>0</td>\n",
       "      <td>0</td>\n",
       "      <td>100</td>\n",
       "      <td>10</td>\n",
       "      <td>52.82</td>\n",
       "    </tr>\n",
       "    <tr>\n",
       "      <th>1</th>\n",
       "      <td>2</td>\n",
       "      <td>dwef</td>\n",
       "      <td>2024-01-13 12:14:33</td>\n",
       "      <td>/sise/home/etaylor/images/raw_images/week5_18_...</td>\n",
       "      <td>0</td>\n",
       "      <td>0</td>\n",
       "      <td>100</td>\n",
       "      <td>10</td>\n",
       "      <td>0.86</td>\n",
       "    </tr>\n",
       "    <tr>\n",
       "      <th>2</th>\n",
       "      <td>3</td>\n",
       "      <td>dwef</td>\n",
       "      <td>2024-01-13 12:14:33</td>\n",
       "      <td>/sise/home/etaylor/images/raw_images/week5_18_...</td>\n",
       "      <td>0</td>\n",
       "      <td>0</td>\n",
       "      <td>100</td>\n",
       "      <td>10</td>\n",
       "      <td>0.81</td>\n",
       "    </tr>\n",
       "    <tr>\n",
       "      <th>3</th>\n",
       "      <td>4</td>\n",
       "      <td>dwef</td>\n",
       "      <td>2024-01-13 12:14:34</td>\n",
       "      <td>/sise/home/etaylor/images/raw_images/week5_18_...</td>\n",
       "      <td>0</td>\n",
       "      <td>0</td>\n",
       "      <td>100</td>\n",
       "      <td>10</td>\n",
       "      <td>0.79</td>\n",
       "    </tr>\n",
       "  </tbody>\n",
       "</table>\n",
       "</div>"
      ],
      "text/plain": [
       "   id user_name            timestamp  \\\n",
       "0   1      dwef  2024-01-13 12:14:32   \n",
       "1   2      dwef  2024-01-13 12:14:33   \n",
       "2   3      dwef  2024-01-13 12:14:33   \n",
       "3   4      dwef  2024-01-13 12:14:34   \n",
       "\n",
       "                                          image_path  clear_percentage  \\\n",
       "0  /sise/home/etaylor/images/raw_images/week5_18_...                 0   \n",
       "1  /sise/home/etaylor/images/raw_images/week5_18_...                 0   \n",
       "2  /sise/home/etaylor/images/raw_images/week5_18_...                 0   \n",
       "3  /sise/home/etaylor/images/raw_images/week5_18_...                 0   \n",
       "\n",
       "   cloudy_percentage  amber_percentage  maturity_level  time_taken_seconds  \n",
       "0                  0               100              10               52.82  \n",
       "1                  0               100              10                0.86  \n",
       "2                  0               100              10                0.81  \n",
       "3                  0               100              10                0.79  "
      ]
     },
     "execution_count": 15,
     "metadata": {},
     "output_type": "execute_result"
    }
   ],
   "source": [
    "print(\"\\nExperiment Feedback Data:\")\n",
    "df_experiment_feedback.head()"
   ]
  },
  {
   "cell_type": "code",
   "execution_count": 16,
   "metadata": {},
   "outputs": [
    {
     "name": "stdout",
     "output_type": "stream",
     "text": [
      "\n",
      "Post-Questionnaire Data:\n"
     ]
    },
    {
     "data": {
      "text/html": [
       "<div>\n",
       "<style scoped>\n",
       "    .dataframe tbody tr th:only-of-type {\n",
       "        vertical-align: middle;\n",
       "    }\n",
       "\n",
       "    .dataframe tbody tr th {\n",
       "        vertical-align: top;\n",
       "    }\n",
       "\n",
       "    .dataframe thead th {\n",
       "        text-align: right;\n",
       "    }\n",
       "</style>\n",
       "<table border=\"1\" class=\"dataframe\">\n",
       "  <thead>\n",
       "    <tr style=\"text-align: right;\">\n",
       "      <th></th>\n",
       "      <th>id</th>\n",
       "      <th>user_name</th>\n",
       "      <th>difficulty</th>\n",
       "      <th>experience_level</th>\n",
       "      <th>cultivation_purpose</th>\n",
       "      <th>vision_quality</th>\n",
       "      <th>ui_feedback</th>\n",
       "      <th>confidence</th>\n",
       "      <th>educational_background</th>\n",
       "      <th>technical_expertise</th>\n",
       "      <th>time_of_day</th>\n",
       "      <th>image_impressions</th>\n",
       "      <th>suggestions</th>\n",
       "      <th>assistive_devices</th>\n",
       "      <th>additional_comments</th>\n",
       "    </tr>\n",
       "  </thead>\n",
       "  <tbody>\n",
       "    <tr>\n",
       "      <th>0</th>\n",
       "      <td>1</td>\n",
       "      <td>dwef</td>\n",
       "      <td>Very Hard</td>\n",
       "      <td>None</td>\n",
       "      <td>Medicinal</td>\n",
       "      <td>No</td>\n",
       "      <td>ee</td>\n",
       "      <td>50</td>\n",
       "      <td>cc</td>\n",
       "      <td>3</td>\n",
       "      <td>Morning</td>\n",
       "      <td>bb</td>\n",
       "      <td>aa</td>\n",
       "      <td>1</td>\n",
       "      <td>gg</td>\n",
       "    </tr>\n",
       "  </tbody>\n",
       "</table>\n",
       "</div>"
      ],
      "text/plain": [
       "   id user_name difficulty experience_level cultivation_purpose  \\\n",
       "0   1      dwef  Very Hard             None           Medicinal   \n",
       "\n",
       "  vision_quality ui_feedback  confidence educational_background  \\\n",
       "0             No          ee          50                     cc   \n",
       "\n",
       "   technical_expertise time_of_day image_impressions suggestions  \\\n",
       "0                    3     Morning                bb          aa   \n",
       "\n",
       "   assistive_devices additional_comments  \n",
       "0                  1                  gg  "
      ]
     },
     "execution_count": 16,
     "metadata": {},
     "output_type": "execute_result"
    }
   ],
   "source": [
    "print(\"\\nPost-Questionnaire Data:\")\n",
    "df_post_questionnaire.head()"
   ]
  }
 ],
 "metadata": {
  "kernelspec": {
   "display_name": "gui",
   "language": "python",
   "name": "python3"
  },
  "language_info": {
   "codemirror_mode": {
    "name": "ipython",
    "version": 3
   },
   "file_extension": ".py",
   "mimetype": "text/x-python",
   "name": "python",
   "nbconvert_exporter": "python",
   "pygments_lexer": "ipython3",
   "version": "3.9.18"
  }
 },
 "nbformat": 4,
 "nbformat_minor": 2
}
