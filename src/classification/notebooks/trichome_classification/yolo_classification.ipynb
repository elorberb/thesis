{
 "cells": [
  {
   "cell_type": "code",
   "execution_count": 1,
   "metadata": {},
   "outputs": [],
   "source": [
    "%matplotlib inline"
   ]
  },
  {
   "cell_type": "markdown",
   "metadata": {},
   "source": [
    "## Datasets Preparation"
   ]
  },
  {
   "cell_type": "markdown",
   "metadata": {},
   "source": [
    "- Create Balanced Data set from the good quality images of the 1.25x \n",
    "- This dataset will have 200 images for each class.\n",
    "- the remain images will be moved to the Val and Test datasets.\n",
    "- The split between the val - test will be 50%-50%.\n",
    "- I want to measure the performance of balanced dataset compared to the original which received good score"
   ]
  },
  {
   "cell_type": "code",
   "execution_count": 2,
   "metadata": {},
   "outputs": [],
   "source": [
    "# import YOLO model\n",
    "from ultralytics import YOLO\n",
    "import cv2\n",
    "import matplotlib.pyplot as plt\n",
    "from sklearn.metrics import classification_report, confusion_matrix, accuracy_score, precision_score, recall_score, f1_score\n",
    "import os"
   ]
  },
  {
   "cell_type": "markdown",
   "metadata": {},
   "source": [
    "## Comparison between Different Yolo Models\n",
    "Currently only YOLO v8 and v11 support image classification\n",
    "- YOLO v8\n",
    "- YOLO v11\n"
   ]
  },
  {
   "cell_type": "code",
   "execution_count": 3,
   "metadata": {},
   "outputs": [],
   "source": [
    "import os\n",
    "\n",
    "yolo_checkpoints_folder = \"/home/etaylor/code_projects/thesis/checkpoints/trichome_image_classification/yolo\"\n",
    "\n",
    "yolo_classification_checkpoints = {\n",
    "    \"YOLOv8\": {\n",
    "        \"Nano\": os.path.join(yolo_checkpoints_folder, \"yolov8n-cls.pt\"),\n",
    "        \"Small\": os.path.join(yolo_checkpoints_folder, \"yolov8s-cls.pt\"),\n",
    "        \"Medium\": os.path.join(yolo_checkpoints_folder, \"yolov8m-cls.pt\"),\n",
    "        \"Large\": os.path.join(yolo_checkpoints_folder, \"yolov8l-cls.pt\"),\n",
    "        \"XLarge\": os.path.join(yolo_checkpoints_folder, \"yolov8x-cls.pt\"),\n",
    "    },\n",
    "        \"YOLOv11\": {\n",
    "        \"Nano\": os.path.join(yolo_checkpoints_folder, \"yolo11n-cls.pt\"),\n",
    "        \"Small\": os.path.join(yolo_checkpoints_folder, \"yolo11s-cls.pt\"),\n",
    "        \"Medium\": os.path.join(yolo_checkpoints_folder, \"yolo11m-cls.pt\"),\n",
    "        \"Large\": os.path.join(yolo_checkpoints_folder, \"yolo11l-cls.pt\"),\n",
    "        \"XLarge\": os.path.join(yolo_checkpoints_folder, \"yolo11x-cls.pt\"),\n",
    "    },\n",
    "}"
   ]
  },
  {
   "cell_type": "markdown",
   "metadata": {},
   "source": [
    "Functions to fine tune each model and then evaluate it"
   ]
  },
  {
   "cell_type": "code",
   "execution_count": 8,
   "metadata": {},
   "outputs": [],
   "source": [
    "def train_model(data_path, model_name, model_size, epochs=10, imgsz=128):\n",
    "    # Load the model checkpoint\n",
    "    checkpoint = yolo_classification_checkpoints[model_name][model_size]\n",
    "    model = YOLO(checkpoint)\n",
    "    \n",
    "    # Train the model\n",
    "    model.train(data=data_path, epochs=epochs, imgsz=imgsz)\n",
    "    \n",
    "    return model\n",
    "\n",
    "def eval_model(model, test_data_path):\n",
    "    # Get class names from the test dataset directory\n",
    "    class_names = sorted(os.listdir(test_data_path))\n",
    "    class_to_idx = {class_name: idx for idx, class_name in enumerate(class_names)}\n",
    "\n",
    "    # Initialize lists for true labels (y_test) and predicted labels (y_pred)\n",
    "    y_test = []\n",
    "    y_pred = []\n",
    "\n",
    "    # Initialize a list to store image data for plotting\n",
    "    images_for_plotting = []\n",
    "\n",
    "    # Process each class in the test directory\n",
    "    for class_name in class_names:\n",
    "        class_dir = os.path.join(test_data_path, class_name)\n",
    "        for img_name in os.listdir(class_dir):\n",
    "            img_path = os.path.join(class_dir, img_name)\n",
    "            \n",
    "            # Load the image and run the model prediction\n",
    "            img = cv2.imread(img_path)\n",
    "            img_rgb = cv2.cvtColor(img, cv2.COLOR_BGR2RGB)  # Convert to RGB for matplotlib\n",
    "            results = model(img)\n",
    "            \n",
    "            # Get the predicted class index\n",
    "            predicted_idx = int(results[0].probs.data.argmax())\n",
    "            \n",
    "            # Append true and predicted labels\n",
    "            y_test.append(class_to_idx[class_name])\n",
    "            y_pred.append(predicted_idx)\n",
    "            \n",
    "            # Store the image, true label, and predicted label for plotting\n",
    "            images_for_plotting.append((img_rgb, class_name, class_names[predicted_idx]))\n",
    "\n",
    "    # Evaluate using classification metrics\n",
    "    classification_report_result = classification_report(y_test, y_pred, target_names=class_names)\n",
    "    accuracy = accuracy_score(y_test, y_pred)\n",
    "    confusion_matrix_result = confusion_matrix(y_test, y_pred)\n",
    "    precision = precision_score(y_test, y_pred, average='weighted')\n",
    "    recall = recall_score(y_test, y_pred, average='weighted')\n",
    "    f1 = f1_score(y_test, y_pred, average='weighted')\n",
    "    \n",
    "    return classification_report_result, accuracy, confusion_matrix_result, precision, recall, f1, images_for_plotting\n",
    "    \n",
    "def plot_results(images_for_plotting):\n",
    "    # Plot images with true and predicted labels\n",
    "    plt.figure(figsize=(12, 12))\n",
    "    num_images = len(images_for_plotting)  # Display all images (adjust as needed)\n",
    "    rows = (num_images // 4) + 1  # Adjust rows based on the number of images\n",
    "\n",
    "    for i in range(num_images):\n",
    "        img, true_label, pred_label = images_for_plotting[i]\n",
    "        plt.subplot(rows, 4, i + 1)  # Dynamic row setting\n",
    "        plt.imshow(img)\n",
    "        plt.title(f\"True: {true_label}\\nPred: {pred_label}\", color=\"green\" if true_label == pred_label else \"red\")\n",
    "        plt.axis('off')\n",
    "\n",
    "    plt.tight_layout()\n",
    "    plt.show()"
   ]
  },
  {
   "cell_type": "markdown",
   "metadata": {},
   "source": [
    "Train models on multiple datasets for cross validation"
   ]
  },
  {
   "cell_type": "code",
   "execution_count": null,
   "metadata": {},
   "outputs": [],
   "source": [
    "import os\n",
    "\n",
    "# iterate over each dataset in the datasets folder\n",
    "balanced_datasets = \"/home/etaylor/code_projects/thesis/classification_datasets/trichome_classification/trichome_dataset_125_good_quality/balanced_datasets\"\n",
    "data_paths = [os.path.join(balanced_datasets, dataset) for dataset in os.listdir(balanced_datasets)]\n",
    "\n",
    "results = []  # List to store the evaluation results\n",
    "\n",
    "for i, data_path in enumerate(data_paths):\n",
    "    test_data_path = os.path.join(data_path, \"test\")\n",
    "    # run the functions for each of the models\n",
    "    for model_name in yolo_classification_checkpoints:\n",
    "        for model_size in yolo_classification_checkpoints[model_name]:\n",
    "            print(f\"Training {model_name} {model_size} model...\")\n",
    "            model = train_model(data_path, model_name, model_size, epochs=10, imgsz=128)\n",
    "            \n",
    "            print(f\"Evaluating {model_name} {model_size} model...\")\n",
    "            classification_report_result, accuracy, confusion_matrix_result, precision, recall, f1, images_for_plotting = eval_model(model, test_data_path)\n",
    "            \n",
    "            # create saving folder if does not exist\n",
    "            if not os.path.exists(f\"/home/etaylor/code_projects/thesis/checkpoints/trichome_image_classification/yolo/{model_name}\"):\n",
    "                os.makedirs(f\"/home/etaylor/code_projects/thesis/checkpoints/trichome_image_classification/yolo/{model_name}\")\n",
    "            \n",
    "            # save model\n",
    "            model.save(f\"/home/etaylor/code_projects/thesis/checkpoints/trichome_image_classification/yolo/{model_name}/{model_size}_dataset_{i}.pt\")\n",
    "            \n",
    "            # Append the evaluation results to the list\n",
    "            results.append({\n",
    "                \"Model_Name\": model_name,\n",
    "                \"Model_Size\": model_size,\n",
    "                \"Classification Report\": classification_report_result,\n",
    "                \"Accuracy\": accuracy,\n",
    "                \"Average Precision\": precision,\n",
    "                \"Average Recall\": recall,\n",
    "                \"Average f1\": f1,\n",
    "                \"Confusion Matrix\": confusion_matrix_result,\n",
    "                \"Images for Plotting\": images_for_plotting\n",
    "            })"
   ]
  },
  {
   "cell_type": "markdown",
   "metadata": {},
   "source": [
    "Train Models on a single dataset"
   ]
  },
  {
   "cell_type": "markdown",
   "metadata": {},
   "source": [
    "Split the data by ratio for train and val"
   ]
  },
  {
   "cell_type": "code",
   "execution_count": 4,
   "metadata": {},
   "outputs": [],
   "source": [
    "import os\n",
    "import random\n",
    "import shutil\n",
    "\n",
    "def split_images_by_ratio(\n",
    "    source_class_path,\n",
    "    target_train_path,\n",
    "    target_test_path,\n",
    "    train_ratio=0.75\n",
    "):\n",
    "    \"\"\"\n",
    "    Splits images from `source_class_path` into train and test folders, \n",
    "    using `train_ratio` proportion for training and (1 - train_ratio) for testing.\n",
    "    This split is done PER CLASS folder (so each class has the same ratio).\n",
    "\n",
    "    :param source_class_path: Path to the folder containing images for a single class\n",
    "    :param target_train_path: Path to the 'train/class_name' folder for the training images\n",
    "    :param target_test_path:  Path to the 'test/class_name' folder for the testing images\n",
    "    :param train_ratio:       Proportion of images to use for the training set (0 to 1).\n",
    "    \"\"\"\n",
    "\n",
    "    # Get all files (only actual files) in the class folder.\n",
    "    images = [\n",
    "        f for f in os.listdir(source_class_path) \n",
    "        if os.path.isfile(os.path.join(source_class_path, f))\n",
    "    ]\n",
    "\n",
    "    # Shuffle the list of images\n",
    "    random.shuffle(images)\n",
    "\n",
    "    # Compute the split index for train vs test\n",
    "    split_index = int(len(images) * train_ratio)\n",
    "\n",
    "    # Train images are up to the split_index, test images are after that\n",
    "    train_images = images[:split_index]\n",
    "    test_images  = images[split_index:]\n",
    "\n",
    "    # Copy images to the train directory\n",
    "    for i, img_name in enumerate(train_images):\n",
    "        src_img_path  = os.path.join(source_class_path, img_name)\n",
    "        # We can prepend an index to avoid filename collisions\n",
    "        dest_img_path = os.path.join(target_train_path, f\"{i}_{img_name}\")\n",
    "        shutil.copy2(src_img_path, dest_img_path)\n",
    "\n",
    "    # Copy images to the test directory\n",
    "    for i, img_name in enumerate(test_images):\n",
    "        src_img_path  = os.path.join(source_class_path, img_name)\n",
    "        dest_img_path = os.path.join(target_test_path, f\"{i}_{img_name}\")\n",
    "        shutil.copy2(src_img_path, dest_img_path)\n",
    "\n",
    "\n",
    "def create_train_test_split_by_ratio(\n",
    "    dataset_path,\n",
    "    split_dataset_path,\n",
    "    train_ratio=0.8\n",
    "):\n",
    "    \"\"\"\n",
    "    Iterates through each class folder in `dataset_path` and splits images\n",
    "    into train/test subfolders under `split_dataset_path`, \n",
    "    respecting the chosen train:test ratio for each class independently.\n",
    "\n",
    "    :param dataset_path:       Path to the folder that contains subfolders for each class\n",
    "    :param split_dataset_path: Path to the folder where the train/test split will be created\n",
    "    :param train_ratio:        Proportion of images that will go into the train set (0 to 1)\n",
    "    \"\"\"\n",
    "\n",
    "    # Create the output folder if it doesn't exist\n",
    "    os.makedirs(split_dataset_path, exist_ok=True)\n",
    "\n",
    "    # The new train/test dirs:\n",
    "    train_root = os.path.join(split_dataset_path, \"train\")\n",
    "    test_root  = os.path.join(split_dataset_path, \"val\")\n",
    "    os.makedirs(train_root, exist_ok=True)\n",
    "    os.makedirs(test_root, exist_ok=True)\n",
    "\n",
    "    # Iterate over each class folder in the dataset\n",
    "    for class_name in os.listdir(dataset_path):\n",
    "        class_path = os.path.join(dataset_path, class_name)\n",
    "\n",
    "        # Skip if it's not a directory, or if it's 'train'/'test' already in the source\n",
    "        if not os.path.isdir(class_path):\n",
    "            continue\n",
    "        if class_name.lower() in [\"train\", \"val\"]:\n",
    "            # Skip if you already have train/test in the original folder\n",
    "            # (Remove this check if you want to handle them differently)\n",
    "            continue\n",
    "\n",
    "        # Create class subfolders in the new train and test directories\n",
    "        target_train_path = os.path.join(train_root, class_name)\n",
    "        target_test_path  = os.path.join(test_root,  class_name)\n",
    "        os.makedirs(target_train_path, exist_ok=True)\n",
    "        os.makedirs(target_test_path,  exist_ok=True)\n",
    "\n",
    "        print(f\"Splitting class '{class_name}' images with ratio {train_ratio*100:.0f}% / {100 - train_ratio*100:.0f}% ...\")\n",
    "\n",
    "        # Perform the ratio-based split for this class\n",
    "        split_images_by_ratio(\n",
    "            source_class_path=class_path,\n",
    "            target_train_path=target_train_path,\n",
    "            target_test_path=target_test_path,\n",
    "            train_ratio=train_ratio\n",
    "        )\n",
    "\n",
    "    print(\"\\nDone! Train/test split created at:\", split_dataset_path)\n",
    "\n",
    "\n",
    "def print_dataset_stats(split_dataset_path):\n",
    "    \"\"\"\n",
    "    Prints the number of images in each class under train/ and test/ folders,\n",
    "    and shows totals for train and test sets.\n",
    "    \"\"\"\n",
    "    train_path = os.path.join(split_dataset_path, \"train\")\n",
    "    test_path = os.path.join(split_dataset_path, \"val\")\n",
    "\n",
    "    # Check if train/test directories exist\n",
    "    if not os.path.isdir(train_path):\n",
    "        print(f\"Train directory does not exist: {train_path}\")\n",
    "        return\n",
    "    if not os.path.isdir(test_path):\n",
    "        print(f\"Test directory does not exist: {test_path}\")\n",
    "        return\n",
    "\n",
    "    print(\"===== TRAIN FOLDER STATS =====\")\n",
    "    train_total = 0\n",
    "    for class_name in os.listdir(train_path):\n",
    "        class_dir = os.path.join(train_path, class_name)\n",
    "        if not os.path.isdir(class_dir):\n",
    "            continue\n",
    "\n",
    "        # Count how many files are in this class directory\n",
    "        images = [\n",
    "            f for f in os.listdir(class_dir)\n",
    "            if os.path.isfile(os.path.join(class_dir, f))\n",
    "        ]\n",
    "        n_images = len(images)\n",
    "        train_total += n_images\n",
    "        print(f\"  Class '{class_name}': {n_images} images\")\n",
    "\n",
    "    print(f\"Total images in train folder: {train_total}\\n\")\n",
    "\n",
    "    print(\"===== TEST FOLDER STATS =====\")\n",
    "    test_total = 0\n",
    "    for class_name in os.listdir(test_path):\n",
    "        class_dir = os.path.join(test_path, class_name)\n",
    "        if not os.path.isdir(class_dir):\n",
    "            continue\n",
    "\n",
    "        images = [\n",
    "            f for f in os.listdir(class_dir)\n",
    "            if os.path.isfile(os.path.join(class_dir, f))\n",
    "        ]\n",
    "        n_images = len(images)\n",
    "        test_total += n_images\n",
    "        print(f\"  Class '{class_name}': {n_images} images\")\n",
    "\n",
    "    print(f\"Total images in test folder: {test_total}\")"
   ]
  },
  {
   "cell_type": "code",
   "execution_count": 5,
   "metadata": {},
   "outputs": [
    {
     "name": "stdout",
     "output_type": "stream",
     "text": [
      "Splitting class 'amber' images with ratio 75% / 25% ...\n",
      "Splitting class 'clear' images with ratio 75% / 25% ...\n",
      "Splitting class 'cloudy' images with ratio 75% / 25% ...\n",
      "\n",
      "Done! Train/test split created at: /home/etaylor/code_projects/thesis/classification_datasets/trichome_classification/extracted_trichomes_images/balanced_good_quality\n"
     ]
    }
   ],
   "source": [
    "dataset_path = \"/home/etaylor/code_projects/thesis/classification_datasets/trichome_classification/extracted_trichomes_images/good_quality\"\n",
    "balanced_dataset = \"/home/etaylor/code_projects/thesis/classification_datasets/trichome_classification/extracted_trichomes_images/balanced_good_quality\"\n",
    "train_ratio = 0.75\n",
    "# Adjust target_count as needed\n",
    "create_train_test_split_by_ratio(\n",
    "    dataset_path=dataset_path,\n",
    "    split_dataset_path=balanced_dataset,\n",
    "    train_ratio=train_ratio\n",
    ")"
   ]
  },
  {
   "cell_type": "code",
   "execution_count": 6,
   "metadata": {},
   "outputs": [
    {
     "name": "stdout",
     "output_type": "stream",
     "text": [
      "===== TRAIN FOLDER STATS =====\n",
      "  Class 'amber': 155 images\n",
      "  Class 'clear': 153 images\n",
      "  Class 'cloudy': 154 images\n",
      "Total images in train folder: 462\n",
      "\n",
      "===== TEST FOLDER STATS =====\n",
      "  Class 'amber': 52 images\n",
      "  Class 'clear': 52 images\n",
      "  Class 'cloudy': 52 images\n",
      "Total images in test folder: 156\n"
     ]
    }
   ],
   "source": [
    "print_dataset_stats(balanced_dataset)"
   ]
  },
  {
   "cell_type": "code",
   "execution_count": 9,
   "metadata": {},
   "outputs": [
    {
     "name": "stdout",
     "output_type": "stream",
     "text": [
      "Training YOLOv8 Nano model...\n",
      "Ultralytics 8.3.56 🚀 Python-3.9.19 torch-2.3.1+cu121 CUDA:0 (NVIDIA GeForce RTX 3090, 24253MiB)\n",
      "\u001b[34m\u001b[1mengine/trainer: \u001b[0mtask=classify, mode=train, model=/home/etaylor/code_projects/thesis/checkpoints/trichome_image_classification/yolo/yolov8n-cls.pt, data=/home/etaylor/code_projects/thesis/classification_datasets/trichome_classification/extracted_trichomes_images/balanced_good_quality, epochs=10, time=None, patience=100, batch=16, imgsz=128, save=True, save_period=-1, cache=False, device=None, workers=8, project=None, name=train333, exist_ok=False, pretrained=True, optimizer=auto, verbose=True, seed=0, deterministic=True, single_cls=False, rect=False, cos_lr=False, close_mosaic=10, resume=False, amp=True, fraction=1.0, profile=False, freeze=None, multi_scale=False, overlap_mask=True, mask_ratio=4, dropout=0.0, val=True, split=val, save_json=False, save_hybrid=False, conf=None, iou=0.7, max_det=300, half=False, dnn=False, plots=True, source=None, vid_stride=1, stream_buffer=False, visualize=False, augment=False, agnostic_nms=False, classes=None, retina_masks=False, embed=None, show=False, save_frames=False, save_txt=False, save_conf=False, save_crop=False, show_labels=True, show_conf=True, show_boxes=True, line_width=None, format=torchscript, keras=False, optimize=False, int8=False, dynamic=False, simplify=True, opset=None, workspace=None, nms=False, lr0=0.01, lrf=0.01, momentum=0.937, weight_decay=0.0005, warmup_epochs=3.0, warmup_momentum=0.8, warmup_bias_lr=0.1, box=7.5, cls=0.5, dfl=1.5, pose=12.0, kobj=1.0, nbs=64, hsv_h=0.015, hsv_s=0.7, hsv_v=0.4, degrees=0.0, translate=0.1, scale=0.5, shear=0.0, perspective=0.0, flipud=0.0, fliplr=0.5, bgr=0.0, mosaic=1.0, mixup=0.0, copy_paste=0.0, copy_paste_mode=flip, auto_augment=randaugment, erasing=0.4, crop_fraction=1.0, cfg=None, tracker=botsort.yaml, save_dir=/home/etaylor/runs/classify/train333\n",
      "\u001b[34m\u001b[1mtrain:\u001b[0m /sise/home/etaylor/code_projects/thesis/classification_datasets/trichome_classification/extracted_trichomes_images/balanced_good_quality/train... found 462 images in 3 classes ✅ \n",
      "\u001b[34m\u001b[1mval:\u001b[0m /sise/home/etaylor/code_projects/thesis/classification_datasets/trichome_classification/extracted_trichomes_images/balanced_good_quality/val... found 156 images in 3 classes ✅ \n",
      "\u001b[34m\u001b[1mtest:\u001b[0m None...\n",
      "Overriding model.yaml nc=1000 with nc=3\n",
      "\n",
      "                   from  n    params  module                                       arguments                     \n",
      "  0                  -1  1       464  ultralytics.nn.modules.conv.Conv             [3, 16, 3, 2]                 \n",
      "  1                  -1  1      4672  ultralytics.nn.modules.conv.Conv             [16, 32, 3, 2]                \n",
      "  2                  -1  1      7360  ultralytics.nn.modules.block.C2f             [32, 32, 1, True]             \n",
      "  3                  -1  1     18560  ultralytics.nn.modules.conv.Conv             [32, 64, 3, 2]                \n",
      "  4                  -1  2     49664  ultralytics.nn.modules.block.C2f             [64, 64, 2, True]             \n",
      "  5                  -1  1     73984  ultralytics.nn.modules.conv.Conv             [64, 128, 3, 2]               \n",
      "  6                  -1  2    197632  ultralytics.nn.modules.block.C2f             [128, 128, 2, True]           \n",
      "  7                  -1  1    295424  ultralytics.nn.modules.conv.Conv             [128, 256, 3, 2]              \n",
      "  8                  -1  1    460288  ultralytics.nn.modules.block.C2f             [256, 256, 1, True]           \n",
      "  9                  -1  1    334083  ultralytics.nn.modules.head.Classify         [256, 3]                      \n",
      "YOLOv8n-cls summary: 99 layers, 1,442,131 parameters, 1,442,131 gradients, 3.4 GFLOPs\n",
      "Transferred 156/158 items from pretrained weights\n",
      "\u001b[34m\u001b[1mTensorBoard: \u001b[0mStart with 'tensorboard --logdir /home/etaylor/runs/classify/train333', view at http://localhost:6006/\n",
      "\u001b[34m\u001b[1mAMP: \u001b[0mrunning Automatic Mixed Precision (AMP) checks...\n",
      "\u001b[34m\u001b[1mAMP: \u001b[0mchecks passed ✅\n"
     ]
    },
    {
     "name": "stderr",
     "output_type": "stream",
     "text": [
      "\u001b[34m\u001b[1mtrain: \u001b[0mScanning /sise/home/etaylor/code_projects/thesis/classification_datasets/trichome_classification/extracted_trichomes_images/balanced_good_quality/train... 462 images, 0 corrupt: 100%|██████████| 462/462 [00:00<00:00, 1832.56it/s]"
     ]
    },
    {
     "name": "stdout",
     "output_type": "stream",
     "text": [
      "\u001b[34m\u001b[1mtrain: \u001b[0mNew cache created: /sise/home/etaylor/code_projects/thesis/classification_datasets/trichome_classification/extracted_trichomes_images/balanced_good_quality/train.cache\n"
     ]
    },
    {
     "name": "stderr",
     "output_type": "stream",
     "text": [
      "\n",
      "/home/etaylor/.conda/envs/detectron_fastai/lib/python3.9/site-packages/torch/utils/data/dataloader.py:558: UserWarning: This DataLoader will create 8 worker processes in total. Our suggested max number of worker in current system is 6, which is smaller than what this DataLoader is going to create. Please be aware that excessive worker creation might get DataLoader running slow or even freeze, lower the worker number to avoid potential slowness/freeze if necessary.\n",
      "  warnings.warn(_create_warning_msg(\n",
      "\u001b[34m\u001b[1mval: \u001b[0mScanning /sise/home/etaylor/code_projects/thesis/classification_datasets/trichome_classification/extracted_trichomes_images/balanced_good_quality/val... 156 images, 0 corrupt: 100%|██████████| 156/156 [00:00<00:00, 1440.48it/s]"
     ]
    },
    {
     "name": "stdout",
     "output_type": "stream",
     "text": [
      "\u001b[34m\u001b[1mval: \u001b[0mNew cache created: /sise/home/etaylor/code_projects/thesis/classification_datasets/trichome_classification/extracted_trichomes_images/balanced_good_quality/val.cache\n"
     ]
    },
    {
     "name": "stderr",
     "output_type": "stream",
     "text": [
      "\n"
     ]
    },
    {
     "name": "stdout",
     "output_type": "stream",
     "text": [
      "\u001b[34m\u001b[1moptimizer:\u001b[0m 'optimizer=auto' found, ignoring 'lr0=0.01' and 'momentum=0.937' and determining best 'optimizer', 'lr0' and 'momentum' automatically... \n",
      "\u001b[34m\u001b[1moptimizer:\u001b[0m AdamW(lr=0.000714, momentum=0.9) with parameter groups 26 weight(decay=0.0), 27 weight(decay=0.0005), 27 bias(decay=0.0)\n",
      "\u001b[34m\u001b[1mTensorBoard: \u001b[0mmodel graph visualization added ✅\n",
      "Image sizes 128 train, 128 val\n",
      "Using 8 dataloader workers\n",
      "Logging results to \u001b[1m/home/etaylor/runs/classify/train333\u001b[0m\n",
      "Starting training for 10 epochs...\n"
     ]
    },
    {
     "name": "stderr",
     "output_type": "stream",
     "text": [
      "/home/etaylor/.conda/envs/detectron_fastai/lib/python3.9/site-packages/torch/utils/data/dataloader.py:558: UserWarning: This DataLoader will create 8 worker processes in total. Our suggested max number of worker in current system is 6, which is smaller than what this DataLoader is going to create. Please be aware that excessive worker creation might get DataLoader running slow or even freeze, lower the worker number to avoid potential slowness/freeze if necessary.\n",
      "  warnings.warn(_create_warning_msg(\n"
     ]
    },
    {
     "name": "stdout",
     "output_type": "stream",
     "text": [
      "\n",
      "      Epoch    GPU_mem       loss  Instances       Size\n"
     ]
    },
    {
     "name": "stderr",
     "output_type": "stream",
     "text": [
      "       1/10     0.518G      1.062         14        128: 100%|██████████| 29/29 [00:08<00:00,  3.50it/s]\n",
      "               classes   top1_acc   top5_acc: 100%|██████████| 5/5 [00:00<00:00, 14.41it/s]"
     ]
    },
    {
     "name": "stdout",
     "output_type": "stream",
     "text": [
      "                   all      0.744          1\n"
     ]
    },
    {
     "name": "stderr",
     "output_type": "stream",
     "text": [
      "\n"
     ]
    },
    {
     "name": "stdout",
     "output_type": "stream",
     "text": [
      "\n",
      "      Epoch    GPU_mem       loss  Instances       Size\n"
     ]
    },
    {
     "name": "stderr",
     "output_type": "stream",
     "text": [
      "       2/10      0.51G     0.7165         14        128: 100%|██████████| 29/29 [00:00<00:00, 38.52it/s]\n",
      "               classes   top1_acc   top5_acc: 100%|██████████| 5/5 [00:00<00:00, 129.32it/s]\n"
     ]
    },
    {
     "name": "stdout",
     "output_type": "stream",
     "text": [
      "                   all      0.872          1\n",
      "\n",
      "      Epoch    GPU_mem       loss  Instances       Size\n"
     ]
    },
    {
     "name": "stderr",
     "output_type": "stream",
     "text": [
      "       3/10      0.51G     0.4343         14        128: 100%|██████████| 29/29 [00:00<00:00, 34.74it/s]\n",
      "               classes   top1_acc   top5_acc: 100%|██████████| 5/5 [00:00<00:00, 104.69it/s]"
     ]
    },
    {
     "name": "stdout",
     "output_type": "stream",
     "text": [
      "                   all      0.962          1\n"
     ]
    },
    {
     "name": "stderr",
     "output_type": "stream",
     "text": [
      "\n"
     ]
    },
    {
     "name": "stdout",
     "output_type": "stream",
     "text": [
      "\n",
      "      Epoch    GPU_mem       loss  Instances       Size\n"
     ]
    },
    {
     "name": "stderr",
     "output_type": "stream",
     "text": [
      "       4/10      0.51G      0.333         14        128: 100%|██████████| 29/29 [00:00<00:00, 37.32it/s]\n",
      "               classes   top1_acc   top5_acc: 100%|██████████| 5/5 [00:00<00:00, 140.24it/s]"
     ]
    },
    {
     "name": "stdout",
     "output_type": "stream",
     "text": [
      "                   all      0.955          1\n"
     ]
    },
    {
     "name": "stderr",
     "output_type": "stream",
     "text": [
      "\n"
     ]
    },
    {
     "name": "stdout",
     "output_type": "stream",
     "text": [
      "\n",
      "      Epoch    GPU_mem       loss  Instances       Size\n"
     ]
    },
    {
     "name": "stderr",
     "output_type": "stream",
     "text": [
      "       5/10      0.51G     0.3169         14        128: 100%|██████████| 29/29 [00:00<00:00, 37.47it/s]\n",
      "               classes   top1_acc   top5_acc: 100%|██████████| 5/5 [00:00<00:00, 114.67it/s]"
     ]
    },
    {
     "name": "stdout",
     "output_type": "stream",
     "text": [
      "                   all      0.917          1\n"
     ]
    },
    {
     "name": "stderr",
     "output_type": "stream",
     "text": [
      "\n"
     ]
    },
    {
     "name": "stdout",
     "output_type": "stream",
     "text": [
      "\n",
      "      Epoch    GPU_mem       loss  Instances       Size\n"
     ]
    },
    {
     "name": "stderr",
     "output_type": "stream",
     "text": [
      "       6/10      0.51G     0.3046         14        128: 100%|██████████| 29/29 [00:00<00:00, 38.79it/s]\n",
      "               classes   top1_acc   top5_acc: 100%|██████████| 5/5 [00:00<00:00, 127.45it/s]"
     ]
    },
    {
     "name": "stdout",
     "output_type": "stream",
     "text": [
      "                   all      0.949          1\n"
     ]
    },
    {
     "name": "stderr",
     "output_type": "stream",
     "text": [
      "\n"
     ]
    },
    {
     "name": "stdout",
     "output_type": "stream",
     "text": [
      "\n",
      "      Epoch    GPU_mem       loss  Instances       Size\n"
     ]
    },
    {
     "name": "stderr",
     "output_type": "stream",
     "text": [
      "       7/10      0.51G     0.3144         14        128: 100%|██████████| 29/29 [00:00<00:00, 33.31it/s]\n",
      "               classes   top1_acc   top5_acc: 100%|██████████| 5/5 [00:00<00:00, 118.86it/s]"
     ]
    },
    {
     "name": "stdout",
     "output_type": "stream",
     "text": [
      "                   all      0.942          1\n"
     ]
    },
    {
     "name": "stderr",
     "output_type": "stream",
     "text": [
      "\n"
     ]
    },
    {
     "name": "stdout",
     "output_type": "stream",
     "text": [
      "\n",
      "      Epoch    GPU_mem       loss  Instances       Size\n"
     ]
    },
    {
     "name": "stderr",
     "output_type": "stream",
     "text": [
      "       8/10     0.512G     0.2354         14        128: 100%|██████████| 29/29 [00:00<00:00, 38.54it/s]\n",
      "               classes   top1_acc   top5_acc: 100%|██████████| 5/5 [00:00<00:00, 120.66it/s]"
     ]
    },
    {
     "name": "stdout",
     "output_type": "stream",
     "text": [
      "                   all      0.949          1\n"
     ]
    },
    {
     "name": "stderr",
     "output_type": "stream",
     "text": [
      "\n"
     ]
    },
    {
     "name": "stdout",
     "output_type": "stream",
     "text": [
      "\n",
      "      Epoch    GPU_mem       loss  Instances       Size\n"
     ]
    },
    {
     "name": "stderr",
     "output_type": "stream",
     "text": [
      "       9/10      0.51G     0.2346         14        128: 100%|██████████| 29/29 [00:00<00:00, 37.27it/s]\n",
      "               classes   top1_acc   top5_acc: 100%|██████████| 5/5 [00:00<00:00, 118.61it/s]"
     ]
    },
    {
     "name": "stdout",
     "output_type": "stream",
     "text": [
      "                   all      0.942          1\n"
     ]
    },
    {
     "name": "stderr",
     "output_type": "stream",
     "text": [
      "\n"
     ]
    },
    {
     "name": "stdout",
     "output_type": "stream",
     "text": [
      "\n",
      "      Epoch    GPU_mem       loss  Instances       Size\n"
     ]
    },
    {
     "name": "stderr",
     "output_type": "stream",
     "text": [
      "      10/10      0.51G     0.2307         14        128: 100%|██████████| 29/29 [00:00<00:00, 38.23it/s]\n",
      "               classes   top1_acc   top5_acc: 100%|██████████| 5/5 [00:00<00:00, 118.09it/s]"
     ]
    },
    {
     "name": "stdout",
     "output_type": "stream",
     "text": [
      "                   all      0.955          1\n"
     ]
    },
    {
     "name": "stderr",
     "output_type": "stream",
     "text": [
      "\n"
     ]
    },
    {
     "name": "stdout",
     "output_type": "stream",
     "text": [
      "\n",
      "10 epochs completed in 0.006 hours.\n",
      "Optimizer stripped from /home/etaylor/runs/classify/train333/weights/last.pt, 3.0MB\n",
      "Optimizer stripped from /home/etaylor/runs/classify/train333/weights/best.pt, 3.0MB\n",
      "\n",
      "Validating /home/etaylor/runs/classify/train333/weights/best.pt...\n",
      "Ultralytics 8.3.56 🚀 Python-3.9.19 torch-2.3.1+cu121 CUDA:0 (NVIDIA GeForce RTX 3090, 24253MiB)\n",
      "YOLOv8n-cls summary (fused): 73 layers, 1,438,723 parameters, 0 gradients, 3.3 GFLOPs\n",
      "\u001b[34m\u001b[1mtrain:\u001b[0m /sise/home/etaylor/code_projects/thesis/classification_datasets/trichome_classification/extracted_trichomes_images/balanced_good_quality/train... found 462 images in 3 classes ✅ \n",
      "\u001b[34m\u001b[1mval:\u001b[0m /sise/home/etaylor/code_projects/thesis/classification_datasets/trichome_classification/extracted_trichomes_images/balanced_good_quality/val... found 156 images in 3 classes ✅ \n",
      "\u001b[34m\u001b[1mtest:\u001b[0m None...\n"
     ]
    },
    {
     "name": "stderr",
     "output_type": "stream",
     "text": [
      "               classes   top1_acc   top5_acc: 100%|██████████| 5/5 [00:00<00:00, 11.73it/s]\n"
     ]
    },
    {
     "name": "stdout",
     "output_type": "stream",
     "text": [
      "                   all      0.962          1\n",
      "Speed: 0.0ms preprocess, 0.7ms inference, 0.0ms loss, 0.0ms postprocess per image\n",
      "Results saved to \u001b[1m/home/etaylor/runs/classify/train333\u001b[0m\n",
      "Evaluating YOLOv8 Nano model...\n",
      "\n",
      "0: 128x128 amber 0.99, cloudy 0.01, clear 0.00, 3.3ms\n",
      "Speed: 15.5ms preprocess, 3.3ms inference, 0.1ms postprocess per image at shape (1, 3, 128, 128)\n",
      "\n",
      "0: 128x128 amber 0.55, cloudy 0.42, clear 0.03, 3.2ms\n",
      "Speed: 1.3ms preprocess, 3.2ms inference, 0.0ms postprocess per image at shape (1, 3, 128, 128)\n",
      "\n",
      "0: 128x128 amber 0.98, cloudy 0.02, clear 0.00, 3.3ms\n",
      "Speed: 1.6ms preprocess, 3.3ms inference, 0.0ms postprocess per image at shape (1, 3, 128, 128)\n",
      "\n",
      "0: 128x128 amber 1.00, cloudy 0.00, clear 0.00, 3.0ms\n",
      "Speed: 1.5ms preprocess, 3.0ms inference, 0.0ms postprocess per image at shape (1, 3, 128, 128)\n",
      "\n",
      "0: 128x128 amber 1.00, cloudy 0.00, clear 0.00, 2.9ms\n",
      "Speed: 1.2ms preprocess, 2.9ms inference, 0.0ms postprocess per image at shape (1, 3, 128, 128)\n",
      "\n",
      "0: 128x128 amber 1.00, clear 0.00, cloudy 0.00, 2.9ms\n",
      "Speed: 1.2ms preprocess, 2.9ms inference, 0.0ms postprocess per image at shape (1, 3, 128, 128)\n",
      "\n",
      "0: 128x128 amber 1.00, cloudy 0.00, clear 0.00, 2.8ms\n",
      "Speed: 1.3ms preprocess, 2.8ms inference, 0.0ms postprocess per image at shape (1, 3, 128, 128)\n",
      "\n",
      "0: 128x128 amber 0.94, cloudy 0.04, clear 0.03, 2.8ms\n",
      "Speed: 1.1ms preprocess, 2.8ms inference, 0.0ms postprocess per image at shape (1, 3, 128, 128)\n",
      "\n",
      "0: 128x128 amber 0.67, cloudy 0.33, clear 0.00, 2.8ms\n",
      "Speed: 1.1ms preprocess, 2.8ms inference, 0.0ms postprocess per image at shape (1, 3, 128, 128)\n",
      "\n",
      "0: 128x128 amber 1.00, cloudy 0.00, clear 0.00, 2.8ms\n",
      "Speed: 1.1ms preprocess, 2.8ms inference, 0.0ms postprocess per image at shape (1, 3, 128, 128)\n",
      "\n",
      "0: 128x128 amber 1.00, cloudy 0.00, clear 0.00, 2.8ms\n",
      "Speed: 1.1ms preprocess, 2.8ms inference, 0.0ms postprocess per image at shape (1, 3, 128, 128)\n",
      "\n",
      "0: 128x128 amber 1.00, clear 0.00, cloudy 0.00, 2.8ms\n",
      "Speed: 1.1ms preprocess, 2.8ms inference, 0.0ms postprocess per image at shape (1, 3, 128, 128)\n",
      "\n",
      "0: 128x128 amber 0.78, cloudy 0.19, clear 0.02, 2.8ms\n",
      "Speed: 1.3ms preprocess, 2.8ms inference, 0.0ms postprocess per image at shape (1, 3, 128, 128)\n",
      "\n",
      "0: 128x128 amber 0.91, cloudy 0.09, clear 0.00, 2.8ms\n",
      "Speed: 1.1ms preprocess, 2.8ms inference, 0.0ms postprocess per image at shape (1, 3, 128, 128)\n",
      "\n",
      "0: 128x128 amber 0.53, cloudy 0.41, clear 0.06, 2.8ms\n",
      "Speed: 1.1ms preprocess, 2.8ms inference, 0.0ms postprocess per image at shape (1, 3, 128, 128)\n",
      "\n",
      "0: 128x128 amber 1.00, cloudy 0.00, clear 0.00, 2.8ms\n",
      "Speed: 1.1ms preprocess, 2.8ms inference, 0.0ms postprocess per image at shape (1, 3, 128, 128)\n",
      "\n",
      "0: 128x128 amber 1.00, cloudy 0.00, clear 0.00, 2.8ms\n",
      "Speed: 1.1ms preprocess, 2.8ms inference, 0.0ms postprocess per image at shape (1, 3, 128, 128)\n",
      "\n",
      "0: 128x128 amber 1.00, cloudy 0.00, clear 0.00, 3.1ms\n",
      "Speed: 1.2ms preprocess, 3.1ms inference, 0.0ms postprocess per image at shape (1, 3, 128, 128)\n",
      "\n",
      "0: 128x128 amber 0.99, cloudy 0.00, clear 0.00, 2.9ms\n",
      "Speed: 1.5ms preprocess, 2.9ms inference, 0.0ms postprocess per image at shape (1, 3, 128, 128)\n",
      "\n",
      "0: 128x128 amber 1.00, cloudy 0.00, clear 0.00, 3.0ms\n",
      "Speed: 1.5ms preprocess, 3.0ms inference, 0.0ms postprocess per image at shape (1, 3, 128, 128)\n",
      "\n",
      "0: 128x128 amber 0.69, cloudy 0.16, clear 0.15, 3.0ms\n",
      "Speed: 1.3ms preprocess, 3.0ms inference, 0.0ms postprocess per image at shape (1, 3, 128, 128)\n",
      "\n",
      "0: 128x128 amber 1.00, cloudy 0.00, clear 0.00, 2.9ms\n",
      "Speed: 1.2ms preprocess, 2.9ms inference, 0.0ms postprocess per image at shape (1, 3, 128, 128)\n",
      "\n",
      "0: 128x128 amber 1.00, cloudy 0.00, clear 0.00, 2.9ms\n",
      "Speed: 1.4ms preprocess, 2.9ms inference, 0.0ms postprocess per image at shape (1, 3, 128, 128)\n",
      "\n",
      "0: 128x128 amber 0.98, cloudy 0.01, clear 0.00, 2.9ms\n",
      "Speed: 1.2ms preprocess, 2.9ms inference, 0.0ms postprocess per image at shape (1, 3, 128, 128)\n",
      "\n",
      "0: 128x128 amber 0.89, cloudy 0.09, clear 0.02, 3.0ms\n",
      "Speed: 1.4ms preprocess, 3.0ms inference, 0.0ms postprocess per image at shape (1, 3, 128, 128)\n",
      "\n",
      "0: 128x128 amber 0.98, clear 0.02, cloudy 0.01, 3.1ms\n",
      "Speed: 1.5ms preprocess, 3.1ms inference, 0.0ms postprocess per image at shape (1, 3, 128, 128)\n",
      "\n",
      "0: 128x128 amber 0.82, cloudy 0.18, clear 0.01, 3.0ms\n",
      "Speed: 1.5ms preprocess, 3.0ms inference, 0.0ms postprocess per image at shape (1, 3, 128, 128)\n",
      "\n",
      "0: 128x128 amber 1.00, cloudy 0.00, clear 0.00, 3.1ms\n",
      "Speed: 1.3ms preprocess, 3.1ms inference, 0.1ms postprocess per image at shape (1, 3, 128, 128)\n",
      "\n",
      "0: 128x128 amber 1.00, cloudy 0.00, clear 0.00, 3.1ms\n",
      "Speed: 1.5ms preprocess, 3.1ms inference, 0.0ms postprocess per image at shape (1, 3, 128, 128)\n",
      "\n",
      "0: 128x128 amber 1.00, clear 0.00, cloudy 0.00, 3.1ms\n",
      "Speed: 1.6ms preprocess, 3.1ms inference, 0.1ms postprocess per image at shape (1, 3, 128, 128)\n",
      "\n",
      "0: 128x128 amber 1.00, cloudy 0.00, clear 0.00, 3.1ms\n",
      "Speed: 1.4ms preprocess, 3.1ms inference, 0.1ms postprocess per image at shape (1, 3, 128, 128)\n",
      "\n",
      "0: 128x128 amber 0.92, cloudy 0.07, clear 0.01, 3.1ms\n",
      "Speed: 1.4ms preprocess, 3.1ms inference, 0.0ms postprocess per image at shape (1, 3, 128, 128)\n",
      "\n",
      "0: 128x128 amber 0.99, cloudy 0.01, clear 0.00, 3.0ms\n",
      "Speed: 1.3ms preprocess, 3.0ms inference, 0.0ms postprocess per image at shape (1, 3, 128, 128)\n",
      "\n",
      "0: 128x128 amber 0.99, cloudy 0.00, clear 0.00, 3.1ms\n",
      "Speed: 1.3ms preprocess, 3.1ms inference, 0.0ms postprocess per image at shape (1, 3, 128, 128)\n",
      "\n",
      "0: 128x128 amber 1.00, cloudy 0.00, clear 0.00, 3.0ms\n",
      "Speed: 1.4ms preprocess, 3.0ms inference, 0.0ms postprocess per image at shape (1, 3, 128, 128)\n",
      "\n",
      "0: 128x128 amber 1.00, cloudy 0.00, clear 0.00, 3.2ms\n",
      "Speed: 1.5ms preprocess, 3.2ms inference, 0.0ms postprocess per image at shape (1, 3, 128, 128)\n",
      "\n",
      "0: 128x128 amber 1.00, cloudy 0.00, clear 0.00, 4.0ms\n",
      "Speed: 1.9ms preprocess, 4.0ms inference, 0.1ms postprocess per image at shape (1, 3, 128, 128)\n",
      "\n",
      "0: 128x128 amber 0.99, cloudy 0.01, clear 0.00, 4.0ms\n",
      "Speed: 1.8ms preprocess, 4.0ms inference, 0.1ms postprocess per image at shape (1, 3, 128, 128)\n",
      "\n",
      "0: 128x128 amber 0.97, cloudy 0.03, clear 0.00, 3.1ms\n",
      "Speed: 1.7ms preprocess, 3.1ms inference, 0.0ms postprocess per image at shape (1, 3, 128, 128)\n",
      "\n",
      "0: 128x128 amber 0.99, cloudy 0.01, clear 0.00, 3.0ms\n",
      "Speed: 1.5ms preprocess, 3.0ms inference, 0.0ms postprocess per image at shape (1, 3, 128, 128)\n",
      "\n",
      "0: 128x128 amber 0.97, cloudy 0.02, clear 0.02, 3.0ms\n",
      "Speed: 1.5ms preprocess, 3.0ms inference, 0.0ms postprocess per image at shape (1, 3, 128, 128)\n",
      "\n",
      "0: 128x128 amber 0.99, cloudy 0.00, clear 0.00, 3.4ms\n",
      "Speed: 1.7ms preprocess, 3.4ms inference, 0.0ms postprocess per image at shape (1, 3, 128, 128)\n",
      "\n",
      "0: 128x128 amber 0.61, cloudy 0.28, clear 0.11, 3.2ms\n",
      "Speed: 1.5ms preprocess, 3.2ms inference, 0.0ms postprocess per image at shape (1, 3, 128, 128)\n",
      "\n",
      "0: 128x128 amber 1.00, cloudy 0.00, clear 0.00, 3.1ms\n",
      "Speed: 1.5ms preprocess, 3.1ms inference, 0.0ms postprocess per image at shape (1, 3, 128, 128)\n",
      "\n",
      "0: 128x128 amber 0.99, clear 0.00, cloudy 0.00, 3.1ms\n",
      "Speed: 1.4ms preprocess, 3.1ms inference, 0.0ms postprocess per image at shape (1, 3, 128, 128)\n",
      "\n",
      "0: 128x128 amber 0.98, cloudy 0.01, clear 0.01, 3.6ms\n",
      "Speed: 1.4ms preprocess, 3.6ms inference, 0.1ms postprocess per image at shape (1, 3, 128, 128)\n",
      "\n",
      "0: 128x128 amber 0.98, clear 0.01, cloudy 0.00, 3.6ms\n",
      "Speed: 2.0ms preprocess, 3.6ms inference, 0.1ms postprocess per image at shape (1, 3, 128, 128)\n",
      "\n",
      "0: 128x128 amber 1.00, cloudy 0.00, clear 0.00, 4.1ms\n",
      "Speed: 1.5ms preprocess, 4.1ms inference, 0.1ms postprocess per image at shape (1, 3, 128, 128)\n",
      "\n",
      "0: 128x128 amber 0.93, cloudy 0.06, clear 0.01, 4.0ms\n",
      "Speed: 1.9ms preprocess, 4.0ms inference, 0.1ms postprocess per image at shape (1, 3, 128, 128)\n",
      "\n",
      "0: 128x128 amber 1.00, cloudy 0.00, clear 0.00, 4.1ms\n",
      "Speed: 1.7ms preprocess, 4.1ms inference, 0.1ms postprocess per image at shape (1, 3, 128, 128)\n",
      "\n",
      "0: 128x128 amber 1.00, cloudy 0.00, clear 0.00, 4.1ms\n",
      "Speed: 1.8ms preprocess, 4.1ms inference, 0.1ms postprocess per image at shape (1, 3, 128, 128)\n",
      "\n",
      "0: 128x128 cloudy 0.90, amber 0.09, clear 0.02, 4.1ms\n",
      "Speed: 1.9ms preprocess, 4.1ms inference, 0.1ms postprocess per image at shape (1, 3, 128, 128)\n",
      "\n",
      "0: 128x128 clear 0.98, cloudy 0.02, amber 0.00, 5.1ms\n",
      "Speed: 2.2ms preprocess, 5.1ms inference, 0.2ms postprocess per image at shape (1, 3, 128, 128)\n",
      "\n",
      "0: 128x128 clear 1.00, amber 0.00, cloudy 0.00, 5.1ms\n",
      "Speed: 1.8ms preprocess, 5.1ms inference, 0.1ms postprocess per image at shape (1, 3, 128, 128)\n",
      "\n",
      "0: 128x128 clear 1.00, amber 0.00, cloudy 0.00, 4.3ms\n",
      "Speed: 1.8ms preprocess, 4.3ms inference, 0.1ms postprocess per image at shape (1, 3, 128, 128)\n",
      "\n",
      "0: 128x128 clear 0.98, cloudy 0.02, amber 0.00, 3.1ms\n",
      "Speed: 1.5ms preprocess, 3.1ms inference, 0.0ms postprocess per image at shape (1, 3, 128, 128)\n",
      "\n",
      "0: 128x128 clear 1.00, cloudy 0.00, amber 0.00, 4.3ms\n",
      "Speed: 2.0ms preprocess, 4.3ms inference, 0.1ms postprocess per image at shape (1, 3, 128, 128)\n",
      "\n",
      "0: 128x128 clear 0.94, amber 0.04, cloudy 0.02, 3.9ms\n",
      "Speed: 1.9ms preprocess, 3.9ms inference, 0.1ms postprocess per image at shape (1, 3, 128, 128)\n",
      "\n",
      "0: 128x128 clear 0.99, cloudy 0.01, amber 0.00, 4.6ms\n",
      "Speed: 2.2ms preprocess, 4.6ms inference, 0.1ms postprocess per image at shape (1, 3, 128, 128)\n",
      "\n",
      "0: 128x128 clear 0.99, amber 0.00, cloudy 0.00, 3.4ms\n",
      "Speed: 2.2ms preprocess, 3.4ms inference, 0.1ms postprocess per image at shape (1, 3, 128, 128)\n",
      "\n",
      "0: 128x128 clear 0.85, cloudy 0.15, amber 0.00, 4.2ms\n",
      "Speed: 2.1ms preprocess, 4.2ms inference, 0.1ms postprocess per image at shape (1, 3, 128, 128)\n",
      "\n",
      "0: 128x128 clear 0.98, amber 0.02, cloudy 0.01, 3.6ms\n",
      "Speed: 2.7ms preprocess, 3.6ms inference, 0.0ms postprocess per image at shape (1, 3, 128, 128)\n",
      "\n",
      "0: 128x128 clear 1.00, cloudy 0.00, amber 0.00, 2.9ms\n",
      "Speed: 1.2ms preprocess, 2.9ms inference, 0.0ms postprocess per image at shape (1, 3, 128, 128)\n",
      "\n",
      "0: 128x128 clear 0.65, cloudy 0.30, amber 0.05, 3.7ms\n",
      "Speed: 1.3ms preprocess, 3.7ms inference, 0.1ms postprocess per image at shape (1, 3, 128, 128)\n",
      "\n",
      "0: 128x128 clear 0.93, cloudy 0.07, amber 0.00, 3.2ms\n",
      "Speed: 1.6ms preprocess, 3.2ms inference, 0.0ms postprocess per image at shape (1, 3, 128, 128)\n",
      "\n",
      "0: 128x128 clear 0.76, cloudy 0.21, amber 0.03, 3.1ms\n",
      "Speed: 1.4ms preprocess, 3.1ms inference, 0.0ms postprocess per image at shape (1, 3, 128, 128)\n",
      "\n",
      "0: 128x128 clear 1.00, cloudy 0.00, amber 0.00, 3.2ms\n",
      "Speed: 1.5ms preprocess, 3.2ms inference, 0.0ms postprocess per image at shape (1, 3, 128, 128)\n",
      "\n",
      "0: 128x128 clear 0.99, cloudy 0.01, amber 0.00, 3.1ms\n",
      "Speed: 1.5ms preprocess, 3.1ms inference, 0.0ms postprocess per image at shape (1, 3, 128, 128)\n",
      "\n",
      "0: 128x128 clear 0.95, cloudy 0.05, amber 0.00, 3.1ms\n",
      "Speed: 1.4ms preprocess, 3.1ms inference, 0.0ms postprocess per image at shape (1, 3, 128, 128)\n",
      "\n",
      "0: 128x128 clear 1.00, cloudy 0.00, amber 0.00, 3.0ms\n",
      "Speed: 1.6ms preprocess, 3.0ms inference, 0.0ms postprocess per image at shape (1, 3, 128, 128)\n",
      "\n",
      "0: 128x128 clear 0.98, cloudy 0.02, amber 0.00, 3.2ms\n",
      "Speed: 1.4ms preprocess, 3.2ms inference, 0.0ms postprocess per image at shape (1, 3, 128, 128)\n",
      "\n",
      "0: 128x128 clear 0.86, cloudy 0.14, amber 0.00, 3.2ms\n",
      "Speed: 1.7ms preprocess, 3.2ms inference, 0.0ms postprocess per image at shape (1, 3, 128, 128)\n",
      "\n",
      "0: 128x128 clear 1.00, cloudy 0.00, amber 0.00, 3.2ms\n",
      "Speed: 1.4ms preprocess, 3.2ms inference, 0.1ms postprocess per image at shape (1, 3, 128, 128)\n",
      "\n",
      "0: 128x128 clear 0.97, cloudy 0.03, amber 0.00, 4.5ms\n",
      "Speed: 1.9ms preprocess, 4.5ms inference, 0.1ms postprocess per image at shape (1, 3, 128, 128)\n",
      "\n",
      "0: 128x128 clear 0.98, cloudy 0.02, amber 0.00, 3.1ms\n",
      "Speed: 1.6ms preprocess, 3.1ms inference, 0.0ms postprocess per image at shape (1, 3, 128, 128)\n",
      "\n",
      "0: 128x128 clear 0.94, cloudy 0.06, amber 0.01, 4.1ms\n",
      "Speed: 2.0ms preprocess, 4.1ms inference, 0.1ms postprocess per image at shape (1, 3, 128, 128)\n",
      "\n",
      "0: 128x128 clear 0.99, cloudy 0.01, amber 0.00, 4.0ms\n",
      "Speed: 2.0ms preprocess, 4.0ms inference, 0.1ms postprocess per image at shape (1, 3, 128, 128)\n",
      "\n",
      "0: 128x128 clear 1.00, cloudy 0.00, amber 0.00, 4.0ms\n",
      "Speed: 2.0ms preprocess, 4.0ms inference, 0.1ms postprocess per image at shape (1, 3, 128, 128)\n",
      "\n",
      "0: 128x128 clear 0.73, cloudy 0.27, amber 0.01, 3.1ms\n",
      "Speed: 1.4ms preprocess, 3.1ms inference, 0.0ms postprocess per image at shape (1, 3, 128, 128)\n",
      "\n",
      "0: 128x128 cloudy 0.91, clear 0.09, amber 0.00, 4.1ms\n",
      "Speed: 1.8ms preprocess, 4.1ms inference, 0.1ms postprocess per image at shape (1, 3, 128, 128)\n",
      "\n",
      "0: 128x128 clear 0.98, cloudy 0.02, amber 0.00, 4.7ms\n",
      "Speed: 2.6ms preprocess, 4.7ms inference, 0.1ms postprocess per image at shape (1, 3, 128, 128)\n",
      "\n",
      "0: 128x128 clear 1.00, cloudy 0.00, amber 0.00, 4.9ms\n",
      "Speed: 2.3ms preprocess, 4.9ms inference, 0.1ms postprocess per image at shape (1, 3, 128, 128)\n",
      "\n",
      "0: 128x128 clear 0.93, cloudy 0.06, amber 0.01, 3.2ms\n",
      "Speed: 1.6ms preprocess, 3.2ms inference, 0.0ms postprocess per image at shape (1, 3, 128, 128)\n",
      "\n",
      "0: 128x128 clear 0.97, cloudy 0.03, amber 0.01, 4.1ms\n",
      "Speed: 1.8ms preprocess, 4.1ms inference, 0.1ms postprocess per image at shape (1, 3, 128, 128)\n",
      "\n",
      "0: 128x128 clear 0.97, amber 0.02, cloudy 0.01, 3.1ms\n",
      "Speed: 1.5ms preprocess, 3.1ms inference, 0.0ms postprocess per image at shape (1, 3, 128, 128)\n",
      "\n",
      "0: 128x128 clear 0.99, cloudy 0.01, amber 0.00, 3.4ms\n",
      "Speed: 1.7ms preprocess, 3.4ms inference, 0.0ms postprocess per image at shape (1, 3, 128, 128)\n",
      "\n",
      "0: 128x128 clear 0.98, cloudy 0.01, amber 0.01, 4.0ms\n",
      "Speed: 1.7ms preprocess, 4.0ms inference, 0.1ms postprocess per image at shape (1, 3, 128, 128)\n",
      "\n",
      "0: 128x128 clear 0.81, cloudy 0.18, amber 0.01, 3.3ms\n",
      "Speed: 2.2ms preprocess, 3.3ms inference, 0.0ms postprocess per image at shape (1, 3, 128, 128)\n",
      "\n",
      "0: 128x128 amber 0.90, clear 0.08, cloudy 0.02, 3.3ms\n",
      "Speed: 1.4ms preprocess, 3.3ms inference, 0.0ms postprocess per image at shape (1, 3, 128, 128)\n",
      "\n",
      "0: 128x128 clear 1.00, cloudy 0.00, amber 0.00, 4.1ms\n",
      "Speed: 1.9ms preprocess, 4.1ms inference, 0.1ms postprocess per image at shape (1, 3, 128, 128)\n",
      "\n",
      "0: 128x128 clear 0.99, cloudy 0.01, amber 0.00, 4.3ms\n",
      "Speed: 2.1ms preprocess, 4.3ms inference, 0.1ms postprocess per image at shape (1, 3, 128, 128)\n",
      "\n",
      "0: 128x128 clear 0.98, cloudy 0.01, amber 0.01, 3.2ms\n",
      "Speed: 1.5ms preprocess, 3.2ms inference, 0.0ms postprocess per image at shape (1, 3, 128, 128)\n",
      "\n",
      "0: 128x128 clear 0.96, cloudy 0.04, amber 0.00, 3.1ms\n",
      "Speed: 1.6ms preprocess, 3.1ms inference, 0.0ms postprocess per image at shape (1, 3, 128, 128)\n",
      "\n",
      "0: 128x128 clear 0.60, cloudy 0.40, amber 0.00, 3.2ms\n",
      "Speed: 1.5ms preprocess, 3.2ms inference, 0.0ms postprocess per image at shape (1, 3, 128, 128)\n",
      "\n",
      "0: 128x128 cloudy 0.82, clear 0.17, amber 0.00, 3.1ms\n",
      "Speed: 1.8ms preprocess, 3.1ms inference, 0.0ms postprocess per image at shape (1, 3, 128, 128)\n",
      "\n",
      "0: 128x128 clear 0.99, cloudy 0.01, amber 0.00, 3.0ms\n",
      "Speed: 1.5ms preprocess, 3.0ms inference, 0.1ms postprocess per image at shape (1, 3, 128, 128)\n",
      "\n",
      "0: 128x128 clear 0.84, amber 0.12, cloudy 0.04, 3.7ms\n",
      "Speed: 1.3ms preprocess, 3.7ms inference, 0.1ms postprocess per image at shape (1, 3, 128, 128)\n",
      "\n",
      "0: 128x128 clear 0.82, amber 0.12, cloudy 0.05, 3.9ms\n",
      "Speed: 1.7ms preprocess, 3.9ms inference, 0.1ms postprocess per image at shape (1, 3, 128, 128)\n",
      "\n",
      "0: 128x128 clear 0.86, amber 0.07, cloudy 0.07, 4.0ms\n",
      "Speed: 2.0ms preprocess, 4.0ms inference, 0.0ms postprocess per image at shape (1, 3, 128, 128)\n",
      "\n",
      "0: 128x128 clear 0.76, cloudy 0.23, amber 0.01, 3.3ms\n",
      "Speed: 1.8ms preprocess, 3.3ms inference, 0.1ms postprocess per image at shape (1, 3, 128, 128)\n",
      "\n",
      "0: 128x128 clear 0.83, cloudy 0.12, amber 0.04, 3.2ms\n",
      "Speed: 1.9ms preprocess, 3.2ms inference, 0.1ms postprocess per image at shape (1, 3, 128, 128)\n",
      "\n",
      "0: 128x128 clear 1.00, cloudy 0.00, amber 0.00, 3.4ms\n",
      "Speed: 1.7ms preprocess, 3.4ms inference, 0.0ms postprocess per image at shape (1, 3, 128, 128)\n",
      "\n",
      "0: 128x128 clear 0.99, amber 0.01, cloudy 0.01, 2.9ms\n",
      "Speed: 1.3ms preprocess, 2.9ms inference, 0.0ms postprocess per image at shape (1, 3, 128, 128)\n",
      "\n",
      "0: 128x128 clear 0.91, cloudy 0.09, amber 0.00, 2.9ms\n",
      "Speed: 1.2ms preprocess, 2.9ms inference, 0.0ms postprocess per image at shape (1, 3, 128, 128)\n",
      "\n",
      "0: 128x128 cloudy 0.76, clear 0.23, amber 0.01, 2.9ms\n",
      "Speed: 1.4ms preprocess, 2.9ms inference, 0.0ms postprocess per image at shape (1, 3, 128, 128)\n",
      "\n",
      "0: 128x128 cloudy 0.99, clear 0.01, amber 0.00, 2.8ms\n",
      "Speed: 1.3ms preprocess, 2.8ms inference, 0.0ms postprocess per image at shape (1, 3, 128, 128)\n",
      "\n",
      "0: 128x128 cloudy 0.99, clear 0.01, amber 0.00, 2.8ms\n",
      "Speed: 1.3ms preprocess, 2.8ms inference, 0.0ms postprocess per image at shape (1, 3, 128, 128)\n",
      "\n",
      "0: 128x128 cloudy 0.99, clear 0.00, amber 0.00, 2.8ms\n",
      "Speed: 1.3ms preprocess, 2.8ms inference, 0.0ms postprocess per image at shape (1, 3, 128, 128)\n",
      "\n",
      "0: 128x128 cloudy 0.99, clear 0.01, amber 0.00, 2.8ms\n",
      "Speed: 1.4ms preprocess, 2.8ms inference, 0.0ms postprocess per image at shape (1, 3, 128, 128)\n",
      "\n",
      "0: 128x128 cloudy 0.94, clear 0.06, amber 0.00, 2.9ms\n",
      "Speed: 1.3ms preprocess, 2.9ms inference, 0.0ms postprocess per image at shape (1, 3, 128, 128)\n",
      "\n",
      "0: 128x128 cloudy 0.98, clear 0.02, amber 0.00, 3.0ms\n",
      "Speed: 1.4ms preprocess, 3.0ms inference, 0.1ms postprocess per image at shape (1, 3, 128, 128)\n",
      "\n",
      "0: 128x128 cloudy 1.00, clear 0.00, amber 0.00, 2.9ms\n",
      "Speed: 1.3ms preprocess, 2.9ms inference, 0.0ms postprocess per image at shape (1, 3, 128, 128)\n",
      "\n",
      "0: 128x128 cloudy 0.99, clear 0.01, amber 0.00, 2.8ms\n",
      "Speed: 1.4ms preprocess, 2.8ms inference, 0.0ms postprocess per image at shape (1, 3, 128, 128)\n",
      "\n",
      "0: 128x128 cloudy 0.82, clear 0.15, amber 0.03, 2.8ms\n",
      "Speed: 1.3ms preprocess, 2.8ms inference, 0.0ms postprocess per image at shape (1, 3, 128, 128)\n",
      "\n",
      "0: 128x128 cloudy 0.99, clear 0.01, amber 0.00, 2.8ms\n",
      "Speed: 1.3ms preprocess, 2.8ms inference, 0.0ms postprocess per image at shape (1, 3, 128, 128)\n",
      "\n",
      "0: 128x128 cloudy 0.77, clear 0.23, amber 0.00, 2.9ms\n",
      "Speed: 1.4ms preprocess, 2.9ms inference, 0.1ms postprocess per image at shape (1, 3, 128, 128)\n",
      "\n",
      "0: 128x128 cloudy 1.00, clear 0.00, amber 0.00, 2.9ms\n",
      "Speed: 1.6ms preprocess, 2.9ms inference, 0.0ms postprocess per image at shape (1, 3, 128, 128)\n",
      "\n",
      "0: 128x128 cloudy 0.97, clear 0.03, amber 0.00, 2.8ms\n",
      "Speed: 1.4ms preprocess, 2.8ms inference, 0.0ms postprocess per image at shape (1, 3, 128, 128)\n",
      "\n",
      "0: 128x128 cloudy 0.75, clear 0.20, amber 0.04, 3.2ms\n",
      "Speed: 1.4ms preprocess, 3.2ms inference, 0.0ms postprocess per image at shape (1, 3, 128, 128)\n",
      "\n",
      "0: 128x128 cloudy 1.00, amber 0.00, clear 0.00, 3.0ms\n",
      "Speed: 1.2ms preprocess, 3.0ms inference, 0.0ms postprocess per image at shape (1, 3, 128, 128)\n",
      "\n",
      "0: 128x128 cloudy 0.99, clear 0.01, amber 0.00, 2.9ms\n",
      "Speed: 1.5ms preprocess, 2.9ms inference, 0.0ms postprocess per image at shape (1, 3, 128, 128)\n",
      "\n",
      "0: 128x128 cloudy 0.57, clear 0.40, amber 0.02, 2.9ms\n",
      "Speed: 1.4ms preprocess, 2.9ms inference, 0.0ms postprocess per image at shape (1, 3, 128, 128)\n",
      "\n",
      "0: 128x128 cloudy 0.99, clear 0.01, amber 0.00, 2.8ms\n",
      "Speed: 1.3ms preprocess, 2.8ms inference, 0.0ms postprocess per image at shape (1, 3, 128, 128)\n",
      "\n",
      "0: 128x128 cloudy 1.00, clear 0.00, amber 0.00, 3.0ms\n",
      "Speed: 1.3ms preprocess, 3.0ms inference, 0.0ms postprocess per image at shape (1, 3, 128, 128)\n",
      "\n",
      "0: 128x128 cloudy 0.99, clear 0.00, amber 0.00, 2.9ms\n",
      "Speed: 1.3ms preprocess, 2.9ms inference, 0.0ms postprocess per image at shape (1, 3, 128, 128)\n",
      "\n",
      "0: 128x128 cloudy 1.00, clear 0.00, amber 0.00, 2.9ms\n",
      "Speed: 1.2ms preprocess, 2.9ms inference, 0.0ms postprocess per image at shape (1, 3, 128, 128)\n",
      "\n",
      "0: 128x128 cloudy 0.56, clear 0.43, amber 0.01, 3.0ms\n",
      "Speed: 1.3ms preprocess, 3.0ms inference, 0.0ms postprocess per image at shape (1, 3, 128, 128)\n",
      "\n",
      "0: 128x128 cloudy 0.99, clear 0.01, amber 0.00, 3.0ms\n",
      "Speed: 1.4ms preprocess, 3.0ms inference, 0.0ms postprocess per image at shape (1, 3, 128, 128)\n",
      "\n",
      "0: 128x128 cloudy 1.00, clear 0.00, amber 0.00, 2.9ms\n",
      "Speed: 1.4ms preprocess, 2.9ms inference, 0.0ms postprocess per image at shape (1, 3, 128, 128)\n",
      "\n",
      "0: 128x128 cloudy 0.89, clear 0.11, amber 0.00, 3.0ms\n",
      "Speed: 1.1ms preprocess, 3.0ms inference, 0.0ms postprocess per image at shape (1, 3, 128, 128)\n",
      "\n",
      "0: 128x128 cloudy 1.00, clear 0.00, amber 0.00, 2.9ms\n",
      "Speed: 1.2ms preprocess, 2.9ms inference, 0.0ms postprocess per image at shape (1, 3, 128, 128)\n",
      "\n",
      "0: 128x128 cloudy 1.00, clear 0.00, amber 0.00, 3.5ms\n",
      "Speed: 1.6ms preprocess, 3.5ms inference, 0.0ms postprocess per image at shape (1, 3, 128, 128)\n",
      "\n",
      "0: 128x128 cloudy 1.00, amber 0.00, clear 0.00, 3.4ms\n",
      "Speed: 1.2ms preprocess, 3.4ms inference, 0.0ms postprocess per image at shape (1, 3, 128, 128)\n",
      "\n",
      "0: 128x128 cloudy 0.97, clear 0.03, amber 0.00, 3.1ms\n",
      "Speed: 1.4ms preprocess, 3.1ms inference, 0.0ms postprocess per image at shape (1, 3, 128, 128)\n",
      "\n",
      "0: 128x128 cloudy 0.61, clear 0.38, amber 0.01, 3.2ms\n",
      "Speed: 1.5ms preprocess, 3.2ms inference, 0.0ms postprocess per image at shape (1, 3, 128, 128)\n",
      "\n",
      "0: 128x128 cloudy 0.91, amber 0.06, clear 0.03, 3.1ms\n",
      "Speed: 1.6ms preprocess, 3.1ms inference, 0.0ms postprocess per image at shape (1, 3, 128, 128)\n",
      "\n",
      "0: 128x128 cloudy 1.00, clear 0.00, amber 0.00, 2.9ms\n",
      "Speed: 1.5ms preprocess, 2.9ms inference, 0.0ms postprocess per image at shape (1, 3, 128, 128)\n",
      "\n",
      "0: 128x128 cloudy 0.99, clear 0.01, amber 0.00, 3.0ms\n",
      "Speed: 1.5ms preprocess, 3.0ms inference, 0.0ms postprocess per image at shape (1, 3, 128, 128)\n",
      "\n",
      "0: 128x128 clear 0.77, cloudy 0.22, amber 0.01, 2.9ms\n",
      "Speed: 1.4ms preprocess, 2.9ms inference, 0.0ms postprocess per image at shape (1, 3, 128, 128)\n",
      "\n",
      "0: 128x128 cloudy 0.95, clear 0.05, amber 0.00, 3.0ms\n",
      "Speed: 1.5ms preprocess, 3.0ms inference, 0.0ms postprocess per image at shape (1, 3, 128, 128)\n",
      "\n",
      "0: 128x128 cloudy 0.79, amber 0.14, clear 0.08, 3.7ms\n",
      "Speed: 1.6ms preprocess, 3.7ms inference, 0.0ms postprocess per image at shape (1, 3, 128, 128)\n",
      "\n",
      "0: 128x128 cloudy 0.94, clear 0.06, amber 0.00, 3.0ms\n",
      "Speed: 1.8ms preprocess, 3.0ms inference, 0.0ms postprocess per image at shape (1, 3, 128, 128)\n",
      "\n",
      "0: 128x128 cloudy 1.00, clear 0.00, amber 0.00, 2.9ms\n",
      "Speed: 1.4ms preprocess, 2.9ms inference, 0.0ms postprocess per image at shape (1, 3, 128, 128)\n",
      "\n",
      "0: 128x128 cloudy 0.93, clear 0.07, amber 0.00, 3.2ms\n",
      "Speed: 1.6ms preprocess, 3.2ms inference, 0.0ms postprocess per image at shape (1, 3, 128, 128)\n",
      "\n",
      "0: 128x128 cloudy 1.00, clear 0.00, amber 0.00, 4.2ms\n",
      "Speed: 1.9ms preprocess, 4.2ms inference, 0.0ms postprocess per image at shape (1, 3, 128, 128)\n",
      "\n",
      "0: 128x128 clear 1.00, cloudy 0.00, amber 0.00, 3.1ms\n",
      "Speed: 1.6ms preprocess, 3.1ms inference, 0.0ms postprocess per image at shape (1, 3, 128, 128)\n",
      "\n",
      "0: 128x128 cloudy 1.00, clear 0.00, amber 0.00, 3.6ms\n",
      "Speed: 1.6ms preprocess, 3.6ms inference, 0.0ms postprocess per image at shape (1, 3, 128, 128)\n",
      "\n",
      "0: 128x128 cloudy 1.00, clear 0.00, amber 0.00, 3.4ms\n",
      "Speed: 1.5ms preprocess, 3.4ms inference, 0.0ms postprocess per image at shape (1, 3, 128, 128)\n",
      "\n",
      "0: 128x128 cloudy 1.00, clear 0.00, amber 0.00, 4.1ms\n",
      "Speed: 2.1ms preprocess, 4.1ms inference, 0.1ms postprocess per image at shape (1, 3, 128, 128)\n",
      "\n",
      "0: 128x128 cloudy 0.99, clear 0.01, amber 0.00, 3.1ms\n",
      "Speed: 2.1ms preprocess, 3.1ms inference, 0.0ms postprocess per image at shape (1, 3, 128, 128)\n",
      "\n",
      "0: 128x128 cloudy 1.00, clear 0.00, amber 0.00, 3.7ms\n",
      "Speed: 2.1ms preprocess, 3.7ms inference, 0.1ms postprocess per image at shape (1, 3, 128, 128)\n",
      "\n",
      "0: 128x128 cloudy 0.96, clear 0.04, amber 0.00, 4.7ms\n",
      "Speed: 2.0ms preprocess, 4.7ms inference, 0.1ms postprocess per image at shape (1, 3, 128, 128)\n",
      "\n",
      "0: 128x128 cloudy 1.00, clear 0.00, amber 0.00, 3.5ms\n",
      "Speed: 1.7ms preprocess, 3.5ms inference, 0.1ms postprocess per image at shape (1, 3, 128, 128)\n",
      "\n",
      "0: 128x128 cloudy 0.96, clear 0.04, amber 0.00, 4.5ms\n",
      "Speed: 2.0ms preprocess, 4.5ms inference, 0.1ms postprocess per image at shape (1, 3, 128, 128)\n",
      "\n",
      "0: 128x128 cloudy 1.00, clear 0.00, amber 0.00, 4.7ms\n",
      "Speed: 1.9ms preprocess, 4.7ms inference, 0.1ms postprocess per image at shape (1, 3, 128, 128)\n",
      "\n",
      "0: 128x128 cloudy 0.99, clear 0.01, amber 0.00, 4.6ms\n",
      "Speed: 2.0ms preprocess, 4.6ms inference, 0.1ms postprocess per image at shape (1, 3, 128, 128)\n",
      "Training YOLOv8 Small model...\n",
      "Ultralytics 8.3.56 🚀 Python-3.9.19 torch-2.3.1+cu121 CUDA:0 (NVIDIA GeForce RTX 3090, 24253MiB)\n",
      "\u001b[34m\u001b[1mengine/trainer: \u001b[0mtask=classify, mode=train, model=/home/etaylor/code_projects/thesis/checkpoints/trichome_image_classification/yolo/yolov8s-cls.pt, data=/home/etaylor/code_projects/thesis/classification_datasets/trichome_classification/extracted_trichomes_images/balanced_good_quality, epochs=10, time=None, patience=100, batch=16, imgsz=128, save=True, save_period=-1, cache=False, device=None, workers=8, project=None, name=train334, exist_ok=False, pretrained=True, optimizer=auto, verbose=True, seed=0, deterministic=True, single_cls=False, rect=False, cos_lr=False, close_mosaic=10, resume=False, amp=True, fraction=1.0, profile=False, freeze=None, multi_scale=False, overlap_mask=True, mask_ratio=4, dropout=0.0, val=True, split=val, save_json=False, save_hybrid=False, conf=None, iou=0.7, max_det=300, half=False, dnn=False, plots=True, source=None, vid_stride=1, stream_buffer=False, visualize=False, augment=False, agnostic_nms=False, classes=None, retina_masks=False, embed=None, show=False, save_frames=False, save_txt=False, save_conf=False, save_crop=False, show_labels=True, show_conf=True, show_boxes=True, line_width=None, format=torchscript, keras=False, optimize=False, int8=False, dynamic=False, simplify=True, opset=None, workspace=None, nms=False, lr0=0.01, lrf=0.01, momentum=0.937, weight_decay=0.0005, warmup_epochs=3.0, warmup_momentum=0.8, warmup_bias_lr=0.1, box=7.5, cls=0.5, dfl=1.5, pose=12.0, kobj=1.0, nbs=64, hsv_h=0.015, hsv_s=0.7, hsv_v=0.4, degrees=0.0, translate=0.1, scale=0.5, shear=0.0, perspective=0.0, flipud=0.0, fliplr=0.5, bgr=0.0, mosaic=1.0, mixup=0.0, copy_paste=0.0, copy_paste_mode=flip, auto_augment=randaugment, erasing=0.4, crop_fraction=1.0, cfg=None, tracker=botsort.yaml, save_dir=/home/etaylor/runs/classify/train334\n",
      "\u001b[34m\u001b[1mtrain:\u001b[0m /sise/home/etaylor/code_projects/thesis/classification_datasets/trichome_classification/extracted_trichomes_images/balanced_good_quality/train... found 462 images in 3 classes ✅ \n",
      "\u001b[34m\u001b[1mval:\u001b[0m /sise/home/etaylor/code_projects/thesis/classification_datasets/trichome_classification/extracted_trichomes_images/balanced_good_quality/val... found 156 images in 3 classes ✅ \n",
      "\u001b[34m\u001b[1mtest:\u001b[0m None...\n",
      "Overriding model.yaml nc=1000 with nc=3\n",
      "\n",
      "                   from  n    params  module                                       arguments                     \n",
      "  0                  -1  1       928  ultralytics.nn.modules.conv.Conv             [3, 32, 3, 2]                 \n",
      "  1                  -1  1     18560  ultralytics.nn.modules.conv.Conv             [32, 64, 3, 2]                \n",
      "  2                  -1  1     29056  ultralytics.nn.modules.block.C2f             [64, 64, 1, True]             \n",
      "  3                  -1  1     73984  ultralytics.nn.modules.conv.Conv             [64, 128, 3, 2]               \n",
      "  4                  -1  2    197632  ultralytics.nn.modules.block.C2f             [128, 128, 2, True]           \n",
      "  5                  -1  1    295424  ultralytics.nn.modules.conv.Conv             [128, 256, 3, 2]              \n",
      "  6                  -1  2    788480  ultralytics.nn.modules.block.C2f             [256, 256, 2, True]           \n",
      "  7                  -1  1   1180672  ultralytics.nn.modules.conv.Conv             [256, 512, 3, 2]              \n",
      "  8                  -1  1   1838080  ultralytics.nn.modules.block.C2f             [512, 512, 1, True]           \n",
      "  9                  -1  1    661763  ultralytics.nn.modules.head.Classify         [512, 3]                      \n",
      "YOLOv8s-cls summary: 99 layers, 5,084,579 parameters, 5,084,579 gradients, 12.6 GFLOPs\n",
      "Transferred 156/158 items from pretrained weights\n",
      "\u001b[34m\u001b[1mTensorBoard: \u001b[0mStart with 'tensorboard --logdir /home/etaylor/runs/classify/train334', view at http://localhost:6006/\n",
      "\u001b[34m\u001b[1mAMP: \u001b[0mrunning Automatic Mixed Precision (AMP) checks...\n",
      "\u001b[34m\u001b[1mAMP: \u001b[0mchecks passed ✅\n"
     ]
    },
    {
     "name": "stderr",
     "output_type": "stream",
     "text": [
      "\u001b[34m\u001b[1mtrain: \u001b[0mScanning /sise/home/etaylor/code_projects/thesis/classification_datasets/trichome_classification/extracted_trichomes_images/balanced_good_quality/train... 462 images, 0 corrupt: 100%|██████████| 462/462 [00:00<?, ?it/s]\n",
      "/home/etaylor/.conda/envs/detectron_fastai/lib/python3.9/site-packages/torch/utils/data/dataloader.py:558: UserWarning: This DataLoader will create 8 worker processes in total. Our suggested max number of worker in current system is 6, which is smaller than what this DataLoader is going to create. Please be aware that excessive worker creation might get DataLoader running slow or even freeze, lower the worker number to avoid potential slowness/freeze if necessary.\n",
      "  warnings.warn(_create_warning_msg(\n",
      "\u001b[34m\u001b[1mval: \u001b[0mScanning /sise/home/etaylor/code_projects/thesis/classification_datasets/trichome_classification/extracted_trichomes_images/balanced_good_quality/val... 156 images, 0 corrupt: 100%|██████████| 156/156 [00:00<?, ?it/s]\n"
     ]
    },
    {
     "name": "stdout",
     "output_type": "stream",
     "text": [
      "\u001b[34m\u001b[1moptimizer:\u001b[0m 'optimizer=auto' found, ignoring 'lr0=0.01' and 'momentum=0.937' and determining best 'optimizer', 'lr0' and 'momentum' automatically... \n",
      "\u001b[34m\u001b[1moptimizer:\u001b[0m AdamW(lr=0.000714, momentum=0.9) with parameter groups 26 weight(decay=0.0), 27 weight(decay=0.0005), 27 bias(decay=0.0)\n",
      "\u001b[34m\u001b[1mTensorBoard: \u001b[0mmodel graph visualization added ✅\n",
      "Image sizes 128 train, 128 val\n",
      "Using 8 dataloader workers\n",
      "Logging results to \u001b[1m/home/etaylor/runs/classify/train334\u001b[0m\n",
      "Starting training for 10 epochs...\n"
     ]
    },
    {
     "name": "stderr",
     "output_type": "stream",
     "text": [
      "/home/etaylor/.conda/envs/detectron_fastai/lib/python3.9/site-packages/torch/utils/data/dataloader.py:558: UserWarning: This DataLoader will create 8 worker processes in total. Our suggested max number of worker in current system is 6, which is smaller than what this DataLoader is going to create. Please be aware that excessive worker creation might get DataLoader running slow or even freeze, lower the worker number to avoid potential slowness/freeze if necessary.\n",
      "  warnings.warn(_create_warning_msg(\n"
     ]
    },
    {
     "name": "stdout",
     "output_type": "stream",
     "text": [
      "\n",
      "      Epoch    GPU_mem       loss  Instances       Size\n"
     ]
    },
    {
     "name": "stderr",
     "output_type": "stream",
     "text": [
      "       1/10     0.547G      1.021         14        128: 100%|██████████| 29/29 [00:01<00:00, 14.77it/s]\n",
      "               classes   top1_acc   top5_acc: 100%|██████████| 5/5 [00:00<00:00, 21.24it/s]"
     ]
    },
    {
     "name": "stdout",
     "output_type": "stream",
     "text": [
      "                   all      0.808          1\n"
     ]
    },
    {
     "name": "stderr",
     "output_type": "stream",
     "text": [
      "\n"
     ]
    },
    {
     "name": "stdout",
     "output_type": "stream",
     "text": [
      "\n",
      "      Epoch    GPU_mem       loss  Instances       Size\n"
     ]
    },
    {
     "name": "stderr",
     "output_type": "stream",
     "text": [
      "       2/10     0.549G     0.6304         14        128: 100%|██████████| 29/29 [00:00<00:00, 33.52it/s]\n",
      "               classes   top1_acc   top5_acc: 100%|██████████| 5/5 [00:00<00:00, 107.43it/s]"
     ]
    },
    {
     "name": "stdout",
     "output_type": "stream",
     "text": [
      "                   all      0.904          1\n"
     ]
    },
    {
     "name": "stderr",
     "output_type": "stream",
     "text": [
      "\n"
     ]
    },
    {
     "name": "stdout",
     "output_type": "stream",
     "text": [
      "\n",
      "      Epoch    GPU_mem       loss  Instances       Size\n"
     ]
    },
    {
     "name": "stderr",
     "output_type": "stream",
     "text": [
      "       3/10     0.684G     0.3914         14        128: 100%|██████████| 29/29 [00:00<00:00, 37.40it/s]\n",
      "               classes   top1_acc   top5_acc: 100%|██████████| 5/5 [00:00<00:00, 121.45it/s]"
     ]
    },
    {
     "name": "stdout",
     "output_type": "stream",
     "text": [
      "                   all      0.942          1\n"
     ]
    },
    {
     "name": "stderr",
     "output_type": "stream",
     "text": [
      "\n"
     ]
    },
    {
     "name": "stdout",
     "output_type": "stream",
     "text": [
      "\n",
      "      Epoch    GPU_mem       loss  Instances       Size\n"
     ]
    },
    {
     "name": "stderr",
     "output_type": "stream",
     "text": [
      "       4/10     0.684G     0.2973         14        128: 100%|██████████| 29/29 [00:00<00:00, 36.06it/s]\n",
      "               classes   top1_acc   top5_acc: 100%|██████████| 5/5 [00:00<00:00, 122.16it/s]"
     ]
    },
    {
     "name": "stdout",
     "output_type": "stream",
     "text": [
      "                   all      0.942          1\n"
     ]
    },
    {
     "name": "stderr",
     "output_type": "stream",
     "text": [
      "\n"
     ]
    },
    {
     "name": "stdout",
     "output_type": "stream",
     "text": [
      "\n",
      "      Epoch    GPU_mem       loss  Instances       Size\n"
     ]
    },
    {
     "name": "stderr",
     "output_type": "stream",
     "text": [
      "       5/10     0.684G     0.2892         14        128: 100%|██████████| 29/29 [00:00<00:00, 39.99it/s]\n",
      "               classes   top1_acc   top5_acc: 100%|██████████| 5/5 [00:00<00:00, 112.58it/s]"
     ]
    },
    {
     "name": "stdout",
     "output_type": "stream",
     "text": [
      "                   all      0.949          1\n"
     ]
    },
    {
     "name": "stderr",
     "output_type": "stream",
     "text": [
      "\n"
     ]
    },
    {
     "name": "stdout",
     "output_type": "stream",
     "text": [
      "\n",
      "      Epoch    GPU_mem       loss  Instances       Size\n"
     ]
    },
    {
     "name": "stderr",
     "output_type": "stream",
     "text": [
      "       6/10     0.684G     0.2463         14        128: 100%|██████████| 29/29 [00:00<00:00, 38.10it/s]\n",
      "               classes   top1_acc   top5_acc: 100%|██████████| 5/5 [00:00<00:00, 117.67it/s]"
     ]
    },
    {
     "name": "stdout",
     "output_type": "stream",
     "text": [
      "                   all      0.949          1\n"
     ]
    },
    {
     "name": "stderr",
     "output_type": "stream",
     "text": [
      "\n"
     ]
    },
    {
     "name": "stdout",
     "output_type": "stream",
     "text": [
      "\n",
      "      Epoch    GPU_mem       loss  Instances       Size\n"
     ]
    },
    {
     "name": "stderr",
     "output_type": "stream",
     "text": [
      "       7/10     0.684G     0.2709         14        128: 100%|██████████| 29/29 [00:00<00:00, 39.38it/s]\n",
      "               classes   top1_acc   top5_acc: 100%|██████████| 5/5 [00:00<00:00, 126.90it/s]"
     ]
    },
    {
     "name": "stdout",
     "output_type": "stream",
     "text": [
      "                   all      0.949          1\n"
     ]
    },
    {
     "name": "stderr",
     "output_type": "stream",
     "text": [
      "\n"
     ]
    },
    {
     "name": "stdout",
     "output_type": "stream",
     "text": [
      "\n",
      "      Epoch    GPU_mem       loss  Instances       Size\n"
     ]
    },
    {
     "name": "stderr",
     "output_type": "stream",
     "text": [
      "       8/10     0.684G     0.1922         14        128: 100%|██████████| 29/29 [00:00<00:00, 34.72it/s]\n",
      "               classes   top1_acc   top5_acc: 100%|██████████| 5/5 [00:00<00:00, 123.26it/s]"
     ]
    },
    {
     "name": "stdout",
     "output_type": "stream",
     "text": [
      "                   all      0.962          1\n"
     ]
    },
    {
     "name": "stderr",
     "output_type": "stream",
     "text": [
      "\n"
     ]
    },
    {
     "name": "stdout",
     "output_type": "stream",
     "text": [
      "\n",
      "      Epoch    GPU_mem       loss  Instances       Size\n"
     ]
    },
    {
     "name": "stderr",
     "output_type": "stream",
     "text": [
      "       9/10     0.682G     0.1839         14        128: 100%|██████████| 29/29 [00:00<00:00, 35.12it/s]\n",
      "               classes   top1_acc   top5_acc: 100%|██████████| 5/5 [00:00<00:00, 109.04it/s]"
     ]
    },
    {
     "name": "stdout",
     "output_type": "stream",
     "text": [
      "                   all      0.942          1\n"
     ]
    },
    {
     "name": "stderr",
     "output_type": "stream",
     "text": [
      "\n"
     ]
    },
    {
     "name": "stdout",
     "output_type": "stream",
     "text": [
      "\n",
      "      Epoch    GPU_mem       loss  Instances       Size\n"
     ]
    },
    {
     "name": "stderr",
     "output_type": "stream",
     "text": [
      "      10/10     0.684G     0.1994         14        128: 100%|██████████| 29/29 [00:00<00:00, 39.22it/s]\n",
      "               classes   top1_acc   top5_acc: 100%|██████████| 5/5 [00:00<00:00, 123.08it/s]"
     ]
    },
    {
     "name": "stdout",
     "output_type": "stream",
     "text": [
      "                   all      0.968          1\n"
     ]
    },
    {
     "name": "stderr",
     "output_type": "stream",
     "text": [
      "\n"
     ]
    },
    {
     "name": "stdout",
     "output_type": "stream",
     "text": [
      "\n",
      "10 epochs completed in 0.004 hours.\n",
      "Optimizer stripped from /home/etaylor/runs/classify/train334/weights/last.pt, 10.3MB\n",
      "Optimizer stripped from /home/etaylor/runs/classify/train334/weights/best.pt, 10.3MB\n",
      "\n",
      "Validating /home/etaylor/runs/classify/train334/weights/best.pt...\n",
      "Ultralytics 8.3.56 🚀 Python-3.9.19 torch-2.3.1+cu121 CUDA:0 (NVIDIA GeForce RTX 3090, 24253MiB)\n",
      "YOLOv8s-cls summary (fused): 73 layers, 5,079,043 parameters, 0 gradients, 12.5 GFLOPs\n",
      "\u001b[34m\u001b[1mtrain:\u001b[0m /sise/home/etaylor/code_projects/thesis/classification_datasets/trichome_classification/extracted_trichomes_images/balanced_good_quality/train... found 462 images in 3 classes ✅ \n",
      "\u001b[34m\u001b[1mval:\u001b[0m /sise/home/etaylor/code_projects/thesis/classification_datasets/trichome_classification/extracted_trichomes_images/balanced_good_quality/val... found 156 images in 3 classes ✅ \n",
      "\u001b[34m\u001b[1mtest:\u001b[0m None...\n"
     ]
    },
    {
     "name": "stderr",
     "output_type": "stream",
     "text": [
      "               classes   top1_acc   top5_acc: 100%|██████████| 5/5 [00:00<00:00, 27.50it/s]\n"
     ]
    },
    {
     "name": "stdout",
     "output_type": "stream",
     "text": [
      "                   all      0.968          1\n",
      "Speed: 0.0ms preprocess, 0.8ms inference, 0.0ms loss, 0.0ms postprocess per image\n",
      "Results saved to \u001b[1m/home/etaylor/runs/classify/train334\u001b[0m\n",
      "Evaluating YOLOv8 Small model...\n",
      "\n",
      "0: 128x128 amber 1.00, cloudy 0.00, clear 0.00, 3.0ms\n",
      "Speed: 1.5ms preprocess, 3.0ms inference, 0.1ms postprocess per image at shape (1, 3, 128, 128)\n",
      "\n",
      "0: 128x128 amber 0.96, cloudy 0.02, clear 0.02, 3.1ms\n",
      "Speed: 1.6ms preprocess, 3.1ms inference, 0.0ms postprocess per image at shape (1, 3, 128, 128)\n",
      "\n",
      "0: 128x128 amber 1.00, cloudy 0.00, clear 0.00, 3.0ms\n",
      "Speed: 1.5ms preprocess, 3.0ms inference, 0.0ms postprocess per image at shape (1, 3, 128, 128)\n",
      "\n",
      "0: 128x128 amber 1.00, cloudy 0.00, clear 0.00, 3.0ms\n",
      "Speed: 1.5ms preprocess, 3.0ms inference, 0.0ms postprocess per image at shape (1, 3, 128, 128)\n",
      "\n",
      "0: 128x128 amber 1.00, cloudy 0.00, clear 0.00, 3.4ms\n",
      "Speed: 1.5ms preprocess, 3.4ms inference, 0.1ms postprocess per image at shape (1, 3, 128, 128)\n",
      "\n",
      "0: 128x128 amber 0.82, clear 0.18, cloudy 0.00, 3.4ms\n",
      "Speed: 1.5ms preprocess, 3.4ms inference, 0.1ms postprocess per image at shape (1, 3, 128, 128)\n",
      "\n",
      "0: 128x128 amber 1.00, cloudy 0.00, clear 0.00, 3.1ms\n",
      "Speed: 1.4ms preprocess, 3.1ms inference, 0.0ms postprocess per image at shape (1, 3, 128, 128)\n",
      "\n",
      "0: 128x128 amber 0.98, clear 0.01, cloudy 0.01, 3.1ms\n",
      "Speed: 1.5ms preprocess, 3.1ms inference, 0.0ms postprocess per image at shape (1, 3, 128, 128)\n",
      "\n",
      "0: 128x128 amber 1.00, cloudy 0.00, clear 0.00, 4.1ms\n",
      "Speed: 2.1ms preprocess, 4.1ms inference, 0.0ms postprocess per image at shape (1, 3, 128, 128)\n",
      "\n",
      "0: 128x128 amber 1.00, clear 0.00, cloudy 0.00, 4.1ms\n",
      "Speed: 2.0ms preprocess, 4.1ms inference, 0.1ms postprocess per image at shape (1, 3, 128, 128)\n",
      "\n",
      "0: 128x128 amber 1.00, cloudy 0.00, clear 0.00, 3.6ms\n",
      "Speed: 1.5ms preprocess, 3.6ms inference, 0.1ms postprocess per image at shape (1, 3, 128, 128)\n",
      "\n",
      "0: 128x128 amber 1.00, cloudy 0.00, clear 0.00, 3.1ms\n",
      "Speed: 1.6ms preprocess, 3.1ms inference, 0.0ms postprocess per image at shape (1, 3, 128, 128)\n",
      "\n",
      "0: 128x128 amber 0.94, cloudy 0.06, clear 0.00, 3.9ms\n",
      "Speed: 1.9ms preprocess, 3.9ms inference, 0.0ms postprocess per image at shape (1, 3, 128, 128)\n",
      "\n",
      "0: 128x128 amber 0.99, cloudy 0.01, clear 0.00, 4.0ms\n",
      "Speed: 1.5ms preprocess, 4.0ms inference, 0.1ms postprocess per image at shape (1, 3, 128, 128)\n",
      "\n",
      "0: 128x128 amber 0.97, cloudy 0.03, clear 0.00, 3.4ms\n",
      "Speed: 1.5ms preprocess, 3.4ms inference, 0.0ms postprocess per image at shape (1, 3, 128, 128)\n",
      "\n",
      "0: 128x128 amber 1.00, cloudy 0.00, clear 0.00, 3.1ms\n",
      "Speed: 1.5ms preprocess, 3.1ms inference, 0.0ms postprocess per image at shape (1, 3, 128, 128)\n",
      "\n",
      "0: 128x128 amber 1.00, cloudy 0.00, clear 0.00, 3.9ms\n",
      "Speed: 1.8ms preprocess, 3.9ms inference, 0.1ms postprocess per image at shape (1, 3, 128, 128)\n",
      "\n",
      "0: 128x128 amber 0.85, cloudy 0.10, clear 0.04, 3.0ms\n",
      "Speed: 1.5ms preprocess, 3.0ms inference, 0.0ms postprocess per image at shape (1, 3, 128, 128)\n",
      "\n",
      "0: 128x128 amber 0.92, clear 0.07, cloudy 0.01, 3.0ms\n",
      "Speed: 1.4ms preprocess, 3.0ms inference, 0.0ms postprocess per image at shape (1, 3, 128, 128)\n",
      "\n",
      "0: 128x128 amber 1.00, cloudy 0.00, clear 0.00, 2.9ms\n",
      "Speed: 1.3ms preprocess, 2.9ms inference, 0.0ms postprocess per image at shape (1, 3, 128, 128)\n",
      "\n",
      "0: 128x128 amber 0.97, cloudy 0.02, clear 0.01, 3.0ms\n",
      "Speed: 1.2ms preprocess, 3.0ms inference, 0.0ms postprocess per image at shape (1, 3, 128, 128)\n",
      "\n",
      "0: 128x128 amber 1.00, cloudy 0.00, clear 0.00, 2.8ms\n",
      "Speed: 1.3ms preprocess, 2.8ms inference, 0.0ms postprocess per image at shape (1, 3, 128, 128)\n",
      "\n",
      "0: 128x128 amber 0.99, cloudy 0.00, clear 0.00, 3.0ms\n",
      "Speed: 1.3ms preprocess, 3.0ms inference, 0.0ms postprocess per image at shape (1, 3, 128, 128)\n",
      "\n",
      "0: 128x128 amber 0.95, clear 0.03, cloudy 0.02, 3.0ms\n",
      "Speed: 1.4ms preprocess, 3.0ms inference, 0.0ms postprocess per image at shape (1, 3, 128, 128)\n",
      "\n",
      "0: 128x128 amber 0.99, cloudy 0.01, clear 0.00, 3.1ms\n",
      "Speed: 1.2ms preprocess, 3.1ms inference, 0.0ms postprocess per image at shape (1, 3, 128, 128)\n",
      "\n",
      "0: 128x128 amber 0.99, clear 0.00, cloudy 0.00, 3.0ms\n",
      "Speed: 1.5ms preprocess, 3.0ms inference, 0.0ms postprocess per image at shape (1, 3, 128, 128)\n",
      "\n",
      "0: 128x128 amber 0.94, cloudy 0.05, clear 0.01, 3.1ms\n",
      "Speed: 1.5ms preprocess, 3.1ms inference, 0.0ms postprocess per image at shape (1, 3, 128, 128)\n",
      "\n",
      "0: 128x128 amber 1.00, cloudy 0.00, clear 0.00, 3.2ms\n",
      "Speed: 1.5ms preprocess, 3.2ms inference, 0.0ms postprocess per image at shape (1, 3, 128, 128)\n",
      "\n",
      "0: 128x128 amber 1.00, cloudy 0.00, clear 0.00, 3.1ms\n",
      "Speed: 1.5ms preprocess, 3.1ms inference, 0.0ms postprocess per image at shape (1, 3, 128, 128)\n",
      "\n",
      "0: 128x128 amber 0.97, cloudy 0.02, clear 0.01, 3.3ms\n",
      "Speed: 1.5ms preprocess, 3.3ms inference, 0.0ms postprocess per image at shape (1, 3, 128, 128)\n",
      "\n",
      "0: 128x128 amber 0.97, cloudy 0.03, clear 0.00, 3.1ms\n",
      "Speed: 1.2ms preprocess, 3.1ms inference, 0.0ms postprocess per image at shape (1, 3, 128, 128)\n",
      "\n",
      "0: 128x128 amber 0.91, cloudy 0.08, clear 0.01, 3.7ms\n",
      "Speed: 1.5ms preprocess, 3.7ms inference, 0.1ms postprocess per image at shape (1, 3, 128, 128)\n",
      "\n",
      "0: 128x128 amber 0.99, cloudy 0.01, clear 0.00, 3.0ms\n",
      "Speed: 1.6ms preprocess, 3.0ms inference, 0.0ms postprocess per image at shape (1, 3, 128, 128)\n",
      "\n",
      "0: 128x128 amber 0.99, cloudy 0.00, clear 0.00, 3.9ms\n",
      "Speed: 1.6ms preprocess, 3.9ms inference, 0.0ms postprocess per image at shape (1, 3, 128, 128)\n",
      "\n",
      "0: 128x128 amber 1.00, cloudy 0.00, clear 0.00, 3.0ms\n",
      "Speed: 1.3ms preprocess, 3.0ms inference, 0.0ms postprocess per image at shape (1, 3, 128, 128)\n",
      "\n",
      "0: 128x128 amber 1.00, cloudy 0.00, clear 0.00, 3.1ms\n",
      "Speed: 1.4ms preprocess, 3.1ms inference, 0.0ms postprocess per image at shape (1, 3, 128, 128)\n",
      "\n",
      "0: 128x128 amber 1.00, clear 0.00, cloudy 0.00, 2.9ms\n",
      "Speed: 1.2ms preprocess, 2.9ms inference, 0.0ms postprocess per image at shape (1, 3, 128, 128)\n",
      "\n",
      "0: 128x128 amber 0.93, cloudy 0.07, clear 0.00, 3.1ms\n",
      "Speed: 1.3ms preprocess, 3.1ms inference, 0.0ms postprocess per image at shape (1, 3, 128, 128)\n",
      "\n",
      "0: 128x128 amber 0.99, cloudy 0.01, clear 0.00, 2.9ms\n",
      "Speed: 1.3ms preprocess, 2.9ms inference, 0.0ms postprocess per image at shape (1, 3, 128, 128)\n",
      "\n",
      "0: 128x128 amber 1.00, cloudy 0.00, clear 0.00, 3.9ms\n",
      "Speed: 1.8ms preprocess, 3.9ms inference, 0.0ms postprocess per image at shape (1, 3, 128, 128)\n",
      "\n",
      "0: 128x128 amber 0.91, clear 0.08, cloudy 0.02, 3.8ms\n",
      "Speed: 1.5ms preprocess, 3.8ms inference, 0.0ms postprocess per image at shape (1, 3, 128, 128)\n",
      "\n",
      "0: 128x128 amber 0.88, cloudy 0.07, clear 0.05, 3.8ms\n",
      "Speed: 1.7ms preprocess, 3.8ms inference, 0.0ms postprocess per image at shape (1, 3, 128, 128)\n",
      "\n",
      "0: 128x128 amber 0.54, clear 0.38, cloudy 0.08, 2.9ms\n",
      "Speed: 1.3ms preprocess, 2.9ms inference, 0.0ms postprocess per image at shape (1, 3, 128, 128)\n",
      "\n",
      "0: 128x128 amber 0.99, cloudy 0.00, clear 0.00, 2.9ms\n",
      "Speed: 1.3ms preprocess, 2.9ms inference, 0.0ms postprocess per image at shape (1, 3, 128, 128)\n",
      "\n",
      "0: 128x128 amber 1.00, cloudy 0.00, clear 0.00, 3.0ms\n",
      "Speed: 1.4ms preprocess, 3.0ms inference, 0.0ms postprocess per image at shape (1, 3, 128, 128)\n",
      "\n",
      "0: 128x128 amber 1.00, cloudy 0.00, clear 0.00, 3.0ms\n",
      "Speed: 1.1ms preprocess, 3.0ms inference, 0.0ms postprocess per image at shape (1, 3, 128, 128)\n",
      "\n",
      "0: 128x128 amber 0.95, clear 0.04, cloudy 0.01, 3.0ms\n",
      "Speed: 1.2ms preprocess, 3.0ms inference, 0.0ms postprocess per image at shape (1, 3, 128, 128)\n",
      "\n",
      "0: 128x128 amber 1.00, cloudy 0.00, clear 0.00, 2.9ms\n",
      "Speed: 1.2ms preprocess, 2.9ms inference, 0.0ms postprocess per image at shape (1, 3, 128, 128)\n",
      "\n",
      "0: 128x128 amber 0.79, cloudy 0.20, clear 0.00, 2.9ms\n",
      "Speed: 1.4ms preprocess, 2.9ms inference, 0.0ms postprocess per image at shape (1, 3, 128, 128)\n",
      "\n",
      "0: 128x128 amber 1.00, clear 0.00, cloudy 0.00, 3.8ms\n",
      "Speed: 1.6ms preprocess, 3.8ms inference, 0.0ms postprocess per image at shape (1, 3, 128, 128)\n",
      "\n",
      "0: 128x128 amber 1.00, cloudy 0.00, clear 0.00, 2.9ms\n",
      "Speed: 1.2ms preprocess, 2.9ms inference, 0.0ms postprocess per image at shape (1, 3, 128, 128)\n",
      "\n",
      "0: 128x128 amber 0.64, cloudy 0.28, clear 0.08, 3.0ms\n",
      "Speed: 1.2ms preprocess, 3.0ms inference, 0.0ms postprocess per image at shape (1, 3, 128, 128)\n",
      "\n",
      "0: 128x128 clear 1.00, cloudy 0.00, amber 0.00, 3.0ms\n",
      "Speed: 1.2ms preprocess, 3.0ms inference, 0.0ms postprocess per image at shape (1, 3, 128, 128)\n",
      "\n",
      "0: 128x128 clear 0.99, cloudy 0.01, amber 0.00, 3.9ms\n",
      "Speed: 1.5ms preprocess, 3.9ms inference, 0.0ms postprocess per image at shape (1, 3, 128, 128)\n",
      "\n",
      "0: 128x128 clear 1.00, amber 0.00, cloudy 0.00, 3.8ms\n",
      "Speed: 1.5ms preprocess, 3.8ms inference, 0.0ms postprocess per image at shape (1, 3, 128, 128)\n",
      "\n",
      "0: 128x128 clear 1.00, amber 0.00, cloudy 0.00, 2.9ms\n",
      "Speed: 1.4ms preprocess, 2.9ms inference, 0.0ms postprocess per image at shape (1, 3, 128, 128)\n",
      "\n",
      "0: 128x128 clear 1.00, cloudy 0.00, amber 0.00, 2.9ms\n",
      "Speed: 1.2ms preprocess, 2.9ms inference, 0.0ms postprocess per image at shape (1, 3, 128, 128)\n",
      "\n",
      "0: 128x128 clear 1.00, cloudy 0.00, amber 0.00, 2.9ms\n",
      "Speed: 1.2ms preprocess, 2.9ms inference, 0.0ms postprocess per image at shape (1, 3, 128, 128)\n",
      "\n",
      "0: 128x128 clear 1.00, amber 0.00, cloudy 0.00, 3.0ms\n",
      "Speed: 1.1ms preprocess, 3.0ms inference, 0.0ms postprocess per image at shape (1, 3, 128, 128)\n",
      "\n",
      "0: 128x128 clear 1.00, amber 0.00, cloudy 0.00, 3.9ms\n",
      "Speed: 1.7ms preprocess, 3.9ms inference, 0.0ms postprocess per image at shape (1, 3, 128, 128)\n",
      "\n",
      "0: 128x128 clear 0.99, cloudy 0.01, amber 0.00, 3.9ms\n",
      "Speed: 1.6ms preprocess, 3.9ms inference, 0.0ms postprocess per image at shape (1, 3, 128, 128)\n",
      "\n",
      "0: 128x128 clear 1.00, cloudy 0.00, amber 0.00, 3.9ms\n",
      "Speed: 1.7ms preprocess, 3.9ms inference, 0.0ms postprocess per image at shape (1, 3, 128, 128)\n",
      "\n",
      "0: 128x128 clear 1.00, amber 0.00, cloudy 0.00, 3.8ms\n",
      "Speed: 1.5ms preprocess, 3.8ms inference, 0.0ms postprocess per image at shape (1, 3, 128, 128)\n",
      "\n",
      "0: 128x128 clear 0.99, cloudy 0.01, amber 0.00, 3.4ms\n",
      "Speed: 1.5ms preprocess, 3.4ms inference, 0.0ms postprocess per image at shape (1, 3, 128, 128)\n",
      "\n",
      "0: 128x128 clear 0.99, cloudy 0.01, amber 0.00, 3.1ms\n",
      "Speed: 1.4ms preprocess, 3.1ms inference, 0.0ms postprocess per image at shape (1, 3, 128, 128)\n",
      "\n",
      "0: 128x128 clear 0.99, cloudy 0.01, amber 0.00, 3.0ms\n",
      "Speed: 1.4ms preprocess, 3.0ms inference, 0.0ms postprocess per image at shape (1, 3, 128, 128)\n",
      "\n",
      "0: 128x128 clear 1.00, amber 0.00, cloudy 0.00, 3.2ms\n",
      "Speed: 1.6ms preprocess, 3.2ms inference, 0.0ms postprocess per image at shape (1, 3, 128, 128)\n",
      "\n",
      "0: 128x128 clear 1.00, cloudy 0.00, amber 0.00, 3.0ms\n",
      "Speed: 1.2ms preprocess, 3.0ms inference, 0.0ms postprocess per image at shape (1, 3, 128, 128)\n",
      "\n",
      "0: 128x128 clear 0.99, cloudy 0.01, amber 0.00, 4.2ms\n",
      "Speed: 1.7ms preprocess, 4.2ms inference, 0.1ms postprocess per image at shape (1, 3, 128, 128)\n",
      "\n",
      "0: 128x128 clear 1.00, amber 0.00, cloudy 0.00, 3.1ms\n",
      "Speed: 1.5ms preprocess, 3.1ms inference, 0.0ms postprocess per image at shape (1, 3, 128, 128)\n",
      "\n",
      "0: 128x128 clear 1.00, cloudy 0.00, amber 0.00, 3.1ms\n",
      "Speed: 1.4ms preprocess, 3.1ms inference, 0.0ms postprocess per image at shape (1, 3, 128, 128)\n",
      "\n",
      "0: 128x128 clear 1.00, cloudy 0.00, amber 0.00, 3.6ms\n",
      "Speed: 1.9ms preprocess, 3.6ms inference, 0.0ms postprocess per image at shape (1, 3, 128, 128)\n",
      "\n",
      "0: 128x128 clear 0.99, cloudy 0.00, amber 0.00, 2.9ms\n",
      "Speed: 1.2ms preprocess, 2.9ms inference, 0.0ms postprocess per image at shape (1, 3, 128, 128)\n",
      "\n",
      "0: 128x128 clear 1.00, cloudy 0.00, amber 0.00, 3.0ms\n",
      "Speed: 1.3ms preprocess, 3.0ms inference, 0.0ms postprocess per image at shape (1, 3, 128, 128)\n",
      "\n",
      "0: 128x128 clear 1.00, cloudy 0.00, amber 0.00, 3.0ms\n",
      "Speed: 1.3ms preprocess, 3.0ms inference, 0.0ms postprocess per image at shape (1, 3, 128, 128)\n",
      "\n",
      "0: 128x128 clear 1.00, cloudy 0.00, amber 0.00, 3.1ms\n",
      "Speed: 1.6ms preprocess, 3.1ms inference, 0.0ms postprocess per image at shape (1, 3, 128, 128)\n",
      "\n",
      "0: 128x128 clear 1.00, cloudy 0.00, amber 0.00, 2.9ms\n",
      "Speed: 1.4ms preprocess, 2.9ms inference, 0.0ms postprocess per image at shape (1, 3, 128, 128)\n",
      "\n",
      "0: 128x128 clear 1.00, cloudy 0.00, amber 0.00, 2.9ms\n",
      "Speed: 1.3ms preprocess, 2.9ms inference, 0.0ms postprocess per image at shape (1, 3, 128, 128)\n",
      "\n",
      "0: 128x128 clear 0.69, cloudy 0.31, amber 0.01, 3.1ms\n",
      "Speed: 1.2ms preprocess, 3.1ms inference, 0.1ms postprocess per image at shape (1, 3, 128, 128)\n",
      "\n",
      "0: 128x128 cloudy 0.68, clear 0.31, amber 0.01, 3.0ms\n",
      "Speed: 1.4ms preprocess, 3.0ms inference, 0.0ms postprocess per image at shape (1, 3, 128, 128)\n",
      "\n",
      "0: 128x128 clear 1.00, cloudy 0.00, amber 0.00, 3.2ms\n",
      "Speed: 1.7ms preprocess, 3.2ms inference, 0.1ms postprocess per image at shape (1, 3, 128, 128)\n",
      "\n",
      "0: 128x128 clear 1.00, cloudy 0.00, amber 0.00, 4.3ms\n",
      "Speed: 1.4ms preprocess, 4.3ms inference, 0.1ms postprocess per image at shape (1, 3, 128, 128)\n",
      "\n",
      "0: 128x128 clear 1.00, cloudy 0.00, amber 0.00, 4.7ms\n",
      "Speed: 2.2ms preprocess, 4.7ms inference, 0.1ms postprocess per image at shape (1, 3, 128, 128)\n",
      "\n",
      "0: 128x128 clear 1.00, cloudy 0.00, amber 0.00, 3.1ms\n",
      "Speed: 1.5ms preprocess, 3.1ms inference, 0.0ms postprocess per image at shape (1, 3, 128, 128)\n",
      "\n",
      "0: 128x128 clear 0.99, amber 0.00, cloudy 0.00, 3.5ms\n",
      "Speed: 1.6ms preprocess, 3.5ms inference, 0.1ms postprocess per image at shape (1, 3, 128, 128)\n",
      "\n",
      "0: 128x128 clear 1.00, cloudy 0.00, amber 0.00, 3.3ms\n",
      "Speed: 1.9ms preprocess, 3.3ms inference, 0.1ms postprocess per image at shape (1, 3, 128, 128)\n",
      "\n",
      "0: 128x128 clear 0.99, amber 0.01, cloudy 0.01, 3.2ms\n",
      "Speed: 1.8ms preprocess, 3.2ms inference, 0.0ms postprocess per image at shape (1, 3, 128, 128)\n",
      "\n",
      "0: 128x128 clear 1.00, cloudy 0.00, amber 0.00, 3.5ms\n",
      "Speed: 1.8ms preprocess, 3.5ms inference, 0.0ms postprocess per image at shape (1, 3, 128, 128)\n",
      "\n",
      "0: 128x128 clear 0.94, amber 0.05, cloudy 0.01, 3.1ms\n",
      "Speed: 1.8ms preprocess, 3.1ms inference, 0.0ms postprocess per image at shape (1, 3, 128, 128)\n",
      "\n",
      "0: 128x128 clear 1.00, amber 0.00, cloudy 0.00, 3.1ms\n",
      "Speed: 1.5ms preprocess, 3.1ms inference, 0.0ms postprocess per image at shape (1, 3, 128, 128)\n",
      "\n",
      "0: 128x128 clear 1.00, cloudy 0.00, amber 0.00, 3.2ms\n",
      "Speed: 1.5ms preprocess, 3.2ms inference, 0.1ms postprocess per image at shape (1, 3, 128, 128)\n",
      "\n",
      "0: 128x128 clear 1.00, cloudy 0.00, amber 0.00, 3.2ms\n",
      "Speed: 1.5ms preprocess, 3.2ms inference, 0.0ms postprocess per image at shape (1, 3, 128, 128)\n",
      "\n",
      "0: 128x128 clear 0.96, cloudy 0.04, amber 0.00, 4.0ms\n",
      "Speed: 1.8ms preprocess, 4.0ms inference, 0.0ms postprocess per image at shape (1, 3, 128, 128)\n",
      "\n",
      "0: 128x128 clear 1.00, cloudy 0.00, amber 0.00, 4.8ms\n",
      "Speed: 1.9ms preprocess, 4.8ms inference, 0.1ms postprocess per image at shape (1, 3, 128, 128)\n",
      "\n",
      "0: 128x128 clear 0.99, cloudy 0.01, amber 0.00, 4.9ms\n",
      "Speed: 2.0ms preprocess, 4.9ms inference, 0.1ms postprocess per image at shape (1, 3, 128, 128)\n",
      "\n",
      "0: 128x128 clear 1.00, amber 0.00, cloudy 0.00, 3.1ms\n",
      "Speed: 1.6ms preprocess, 3.1ms inference, 0.0ms postprocess per image at shape (1, 3, 128, 128)\n",
      "\n",
      "0: 128x128 clear 1.00, amber 0.00, cloudy 0.00, 3.5ms\n",
      "Speed: 1.6ms preprocess, 3.5ms inference, 0.0ms postprocess per image at shape (1, 3, 128, 128)\n",
      "\n",
      "0: 128x128 clear 0.98, amber 0.01, cloudy 0.01, 3.3ms\n",
      "Speed: 1.6ms preprocess, 3.3ms inference, 0.0ms postprocess per image at shape (1, 3, 128, 128)\n",
      "\n",
      "0: 128x128 clear 1.00, cloudy 0.00, amber 0.00, 3.1ms\n",
      "Speed: 1.9ms preprocess, 3.1ms inference, 0.0ms postprocess per image at shape (1, 3, 128, 128)\n",
      "\n",
      "0: 128x128 clear 0.83, cloudy 0.15, amber 0.03, 5.1ms\n",
      "Speed: 2.1ms preprocess, 5.1ms inference, 0.1ms postprocess per image at shape (1, 3, 128, 128)\n",
      "\n",
      "0: 128x128 clear 0.99, cloudy 0.01, amber 0.00, 4.7ms\n",
      "Speed: 1.9ms preprocess, 4.7ms inference, 0.1ms postprocess per image at shape (1, 3, 128, 128)\n",
      "\n",
      "0: 128x128 clear 1.00, cloudy 0.00, amber 0.00, 4.4ms\n",
      "Speed: 2.0ms preprocess, 4.4ms inference, 0.1ms postprocess per image at shape (1, 3, 128, 128)\n",
      "\n",
      "0: 128x128 clear 1.00, cloudy 0.00, amber 0.00, 3.1ms\n",
      "Speed: 1.5ms preprocess, 3.1ms inference, 0.0ms postprocess per image at shape (1, 3, 128, 128)\n",
      "\n",
      "0: 128x128 clear 1.00, cloudy 0.00, amber 0.00, 3.1ms\n",
      "Speed: 1.4ms preprocess, 3.1ms inference, 0.1ms postprocess per image at shape (1, 3, 128, 128)\n",
      "\n",
      "0: 128x128 cloudy 0.85, clear 0.14, amber 0.02, 3.0ms\n",
      "Speed: 1.3ms preprocess, 3.0ms inference, 0.0ms postprocess per image at shape (1, 3, 128, 128)\n",
      "\n",
      "0: 128x128 cloudy 0.92, clear 0.08, amber 0.00, 3.1ms\n",
      "Speed: 1.4ms preprocess, 3.1ms inference, 0.0ms postprocess per image at shape (1, 3, 128, 128)\n",
      "\n",
      "0: 128x128 cloudy 0.99, clear 0.01, amber 0.00, 3.1ms\n",
      "Speed: 1.3ms preprocess, 3.1ms inference, 0.0ms postprocess per image at shape (1, 3, 128, 128)\n",
      "\n",
      "0: 128x128 cloudy 1.00, clear 0.00, amber 0.00, 3.4ms\n",
      "Speed: 1.8ms preprocess, 3.4ms inference, 0.1ms postprocess per image at shape (1, 3, 128, 128)\n",
      "\n",
      "0: 128x128 cloudy 0.77, clear 0.19, amber 0.04, 4.3ms\n",
      "Speed: 1.9ms preprocess, 4.3ms inference, 0.1ms postprocess per image at shape (1, 3, 128, 128)\n",
      "\n",
      "0: 128x128 cloudy 1.00, clear 0.00, amber 0.00, 4.0ms\n",
      "Speed: 1.9ms preprocess, 4.0ms inference, 0.1ms postprocess per image at shape (1, 3, 128, 128)\n",
      "\n",
      "0: 128x128 cloudy 0.99, clear 0.01, amber 0.00, 3.6ms\n",
      "Speed: 1.8ms preprocess, 3.6ms inference, 0.0ms postprocess per image at shape (1, 3, 128, 128)\n",
      "\n",
      "0: 128x128 cloudy 0.99, clear 0.01, amber 0.00, 3.1ms\n",
      "Speed: 1.5ms preprocess, 3.1ms inference, 0.0ms postprocess per image at shape (1, 3, 128, 128)\n",
      "\n",
      "0: 128x128 cloudy 0.97, clear 0.03, amber 0.00, 3.0ms\n",
      "Speed: 1.5ms preprocess, 3.0ms inference, 0.1ms postprocess per image at shape (1, 3, 128, 128)\n",
      "\n",
      "0: 128x128 cloudy 0.81, amber 0.16, clear 0.03, 3.3ms\n",
      "Speed: 1.5ms preprocess, 3.3ms inference, 0.0ms postprocess per image at shape (1, 3, 128, 128)\n",
      "\n",
      "0: 128x128 cloudy 1.00, amber 0.00, clear 0.00, 3.0ms\n",
      "Speed: 1.5ms preprocess, 3.0ms inference, 0.0ms postprocess per image at shape (1, 3, 128, 128)\n",
      "\n",
      "0: 128x128 cloudy 0.96, clear 0.04, amber 0.00, 3.1ms\n",
      "Speed: 1.5ms preprocess, 3.1ms inference, 0.0ms postprocess per image at shape (1, 3, 128, 128)\n",
      "\n",
      "0: 128x128 cloudy 0.99, clear 0.01, amber 0.00, 3.1ms\n",
      "Speed: 1.4ms preprocess, 3.1ms inference, 0.0ms postprocess per image at shape (1, 3, 128, 128)\n",
      "\n",
      "0: 128x128 cloudy 1.00, clear 0.00, amber 0.00, 3.0ms\n",
      "Speed: 1.5ms preprocess, 3.0ms inference, 0.0ms postprocess per image at shape (1, 3, 128, 128)\n",
      "\n",
      "0: 128x128 clear 0.54, cloudy 0.24, amber 0.22, 3.0ms\n",
      "Speed: 1.2ms preprocess, 3.0ms inference, 0.0ms postprocess per image at shape (1, 3, 128, 128)\n",
      "\n",
      "0: 128x128 cloudy 1.00, clear 0.00, amber 0.00, 3.6ms\n",
      "Speed: 1.7ms preprocess, 3.6ms inference, 0.0ms postprocess per image at shape (1, 3, 128, 128)\n",
      "\n",
      "0: 128x128 cloudy 0.96, clear 0.03, amber 0.00, 3.0ms\n",
      "Speed: 1.2ms preprocess, 3.0ms inference, 0.0ms postprocess per image at shape (1, 3, 128, 128)\n",
      "\n",
      "0: 128x128 cloudy 0.99, clear 0.01, amber 0.00, 3.0ms\n",
      "Speed: 1.4ms preprocess, 3.0ms inference, 0.0ms postprocess per image at shape (1, 3, 128, 128)\n",
      "\n",
      "0: 128x128 cloudy 0.96, clear 0.03, amber 0.00, 2.9ms\n",
      "Speed: 1.2ms preprocess, 2.9ms inference, 0.0ms postprocess per image at shape (1, 3, 128, 128)\n",
      "\n",
      "0: 128x128 cloudy 1.00, clear 0.00, amber 0.00, 3.0ms\n",
      "Speed: 1.4ms preprocess, 3.0ms inference, 0.0ms postprocess per image at shape (1, 3, 128, 128)\n",
      "\n",
      "0: 128x128 cloudy 1.00, clear 0.00, amber 0.00, 3.0ms\n",
      "Speed: 1.2ms preprocess, 3.0ms inference, 0.0ms postprocess per image at shape (1, 3, 128, 128)\n",
      "\n",
      "0: 128x128 cloudy 0.99, clear 0.01, amber 0.00, 2.9ms\n",
      "Speed: 1.2ms preprocess, 2.9ms inference, 0.0ms postprocess per image at shape (1, 3, 128, 128)\n",
      "\n",
      "0: 128x128 cloudy 0.55, clear 0.41, amber 0.03, 2.9ms\n",
      "Speed: 1.2ms preprocess, 2.9ms inference, 0.0ms postprocess per image at shape (1, 3, 128, 128)\n",
      "\n",
      "0: 128x128 cloudy 1.00, amber 0.00, clear 0.00, 2.9ms\n",
      "Speed: 1.4ms preprocess, 2.9ms inference, 0.0ms postprocess per image at shape (1, 3, 128, 128)\n",
      "\n",
      "0: 128x128 cloudy 0.94, clear 0.06, amber 0.01, 2.9ms\n",
      "Speed: 1.1ms preprocess, 2.9ms inference, 0.0ms postprocess per image at shape (1, 3, 128, 128)\n",
      "\n",
      "0: 128x128 clear 0.98, cloudy 0.02, amber 0.00, 2.9ms\n",
      "Speed: 1.1ms preprocess, 2.9ms inference, 0.0ms postprocess per image at shape (1, 3, 128, 128)\n",
      "\n",
      "0: 128x128 cloudy 0.99, amber 0.00, clear 0.00, 2.8ms\n",
      "Speed: 1.1ms preprocess, 2.8ms inference, 0.0ms postprocess per image at shape (1, 3, 128, 128)\n",
      "\n",
      "0: 128x128 cloudy 1.00, clear 0.00, amber 0.00, 2.9ms\n",
      "Speed: 1.2ms preprocess, 2.9ms inference, 0.0ms postprocess per image at shape (1, 3, 128, 128)\n",
      "\n",
      "0: 128x128 cloudy 0.96, clear 0.03, amber 0.01, 3.0ms\n",
      "Speed: 1.2ms preprocess, 3.0ms inference, 0.0ms postprocess per image at shape (1, 3, 128, 128)\n",
      "\n",
      "0: 128x128 cloudy 1.00, amber 0.00, clear 0.00, 3.0ms\n",
      "Speed: 1.2ms preprocess, 3.0ms inference, 0.0ms postprocess per image at shape (1, 3, 128, 128)\n",
      "\n",
      "0: 128x128 cloudy 0.89, clear 0.11, amber 0.01, 3.0ms\n",
      "Speed: 1.2ms preprocess, 3.0ms inference, 0.0ms postprocess per image at shape (1, 3, 128, 128)\n",
      "\n",
      "0: 128x128 cloudy 0.76, amber 0.20, clear 0.03, 2.8ms\n",
      "Speed: 1.1ms preprocess, 2.8ms inference, 0.0ms postprocess per image at shape (1, 3, 128, 128)\n",
      "\n",
      "0: 128x128 cloudy 1.00, amber 0.00, clear 0.00, 3.0ms\n",
      "Speed: 1.4ms preprocess, 3.0ms inference, 0.0ms postprocess per image at shape (1, 3, 128, 128)\n",
      "\n",
      "0: 128x128 cloudy 0.94, clear 0.06, amber 0.00, 2.9ms\n",
      "Speed: 1.4ms preprocess, 2.9ms inference, 0.0ms postprocess per image at shape (1, 3, 128, 128)\n",
      "\n",
      "0: 128x128 cloudy 0.55, clear 0.45, amber 0.00, 3.0ms\n",
      "Speed: 1.3ms preprocess, 3.0ms inference, 0.0ms postprocess per image at shape (1, 3, 128, 128)\n",
      "\n",
      "0: 128x128 clear 0.80, cloudy 0.20, amber 0.00, 2.9ms\n",
      "Speed: 1.2ms preprocess, 2.9ms inference, 0.0ms postprocess per image at shape (1, 3, 128, 128)\n",
      "\n",
      "0: 128x128 cloudy 0.60, clear 0.34, amber 0.06, 2.9ms\n",
      "Speed: 1.2ms preprocess, 2.9ms inference, 0.0ms postprocess per image at shape (1, 3, 128, 128)\n",
      "\n",
      "0: 128x128 cloudy 1.00, clear 0.00, amber 0.00, 3.0ms\n",
      "Speed: 1.2ms preprocess, 3.0ms inference, 0.0ms postprocess per image at shape (1, 3, 128, 128)\n",
      "\n",
      "0: 128x128 cloudy 0.99, amber 0.00, clear 0.00, 3.2ms\n",
      "Speed: 1.4ms preprocess, 3.2ms inference, 0.0ms postprocess per image at shape (1, 3, 128, 128)\n",
      "\n",
      "0: 128x128 cloudy 0.88, clear 0.12, amber 0.00, 3.0ms\n",
      "Speed: 1.2ms preprocess, 3.0ms inference, 0.0ms postprocess per image at shape (1, 3, 128, 128)\n",
      "\n",
      "0: 128x128 cloudy 1.00, amber 0.00, clear 0.00, 2.9ms\n",
      "Speed: 1.2ms preprocess, 2.9ms inference, 0.0ms postprocess per image at shape (1, 3, 128, 128)\n",
      "\n",
      "0: 128x128 clear 0.99, cloudy 0.01, amber 0.00, 4.2ms\n",
      "Speed: 1.7ms preprocess, 4.2ms inference, 0.1ms postprocess per image at shape (1, 3, 128, 128)\n",
      "\n",
      "0: 128x128 cloudy 1.00, amber 0.00, clear 0.00, 3.1ms\n",
      "Speed: 1.3ms preprocess, 3.1ms inference, 0.0ms postprocess per image at shape (1, 3, 128, 128)\n",
      "\n",
      "0: 128x128 cloudy 1.00, clear 0.00, amber 0.00, 4.3ms\n",
      "Speed: 1.8ms preprocess, 4.3ms inference, 0.0ms postprocess per image at shape (1, 3, 128, 128)\n",
      "\n",
      "0: 128x128 cloudy 1.00, clear 0.00, amber 0.00, 3.0ms\n",
      "Speed: 1.5ms preprocess, 3.0ms inference, 0.0ms postprocess per image at shape (1, 3, 128, 128)\n",
      "\n",
      "0: 128x128 cloudy 1.00, clear 0.00, amber 0.00, 3.0ms\n",
      "Speed: 1.3ms preprocess, 3.0ms inference, 0.0ms postprocess per image at shape (1, 3, 128, 128)\n",
      "\n",
      "0: 128x128 cloudy 0.98, amber 0.01, clear 0.01, 3.1ms\n",
      "Speed: 1.5ms preprocess, 3.1ms inference, 0.0ms postprocess per image at shape (1, 3, 128, 128)\n",
      "\n",
      "0: 128x128 cloudy 0.67, clear 0.32, amber 0.02, 3.0ms\n",
      "Speed: 1.3ms preprocess, 3.0ms inference, 0.0ms postprocess per image at shape (1, 3, 128, 128)\n",
      "\n",
      "0: 128x128 cloudy 0.97, clear 0.02, amber 0.01, 3.1ms\n",
      "Speed: 1.2ms preprocess, 3.1ms inference, 0.0ms postprocess per image at shape (1, 3, 128, 128)\n",
      "\n",
      "0: 128x128 cloudy 1.00, clear 0.00, amber 0.00, 4.1ms\n",
      "Speed: 1.8ms preprocess, 4.1ms inference, 0.1ms postprocess per image at shape (1, 3, 128, 128)\n",
      "\n",
      "0: 128x128 cloudy 1.00, amber 0.00, clear 0.00, 3.0ms\n",
      "Speed: 1.3ms preprocess, 3.0ms inference, 0.0ms postprocess per image at shape (1, 3, 128, 128)\n",
      "\n",
      "0: 128x128 cloudy 1.00, clear 0.00, amber 0.00, 3.3ms\n",
      "Speed: 1.3ms preprocess, 3.3ms inference, 0.0ms postprocess per image at shape (1, 3, 128, 128)\n",
      "Training YOLOv8 Medium model...\n",
      "Ultralytics 8.3.56 🚀 Python-3.9.19 torch-2.3.1+cu121 CUDA:0 (NVIDIA GeForce RTX 3090, 24253MiB)\n",
      "\u001b[34m\u001b[1mengine/trainer: \u001b[0mtask=classify, mode=train, model=/home/etaylor/code_projects/thesis/checkpoints/trichome_image_classification/yolo/yolov8m-cls.pt, data=/home/etaylor/code_projects/thesis/classification_datasets/trichome_classification/extracted_trichomes_images/balanced_good_quality, epochs=10, time=None, patience=100, batch=16, imgsz=128, save=True, save_period=-1, cache=False, device=None, workers=8, project=None, name=train335, exist_ok=False, pretrained=True, optimizer=auto, verbose=True, seed=0, deterministic=True, single_cls=False, rect=False, cos_lr=False, close_mosaic=10, resume=False, amp=True, fraction=1.0, profile=False, freeze=None, multi_scale=False, overlap_mask=True, mask_ratio=4, dropout=0.0, val=True, split=val, save_json=False, save_hybrid=False, conf=None, iou=0.7, max_det=300, half=False, dnn=False, plots=True, source=None, vid_stride=1, stream_buffer=False, visualize=False, augment=False, agnostic_nms=False, classes=None, retina_masks=False, embed=None, show=False, save_frames=False, save_txt=False, save_conf=False, save_crop=False, show_labels=True, show_conf=True, show_boxes=True, line_width=None, format=torchscript, keras=False, optimize=False, int8=False, dynamic=False, simplify=True, opset=None, workspace=None, nms=False, lr0=0.01, lrf=0.01, momentum=0.937, weight_decay=0.0005, warmup_epochs=3.0, warmup_momentum=0.8, warmup_bias_lr=0.1, box=7.5, cls=0.5, dfl=1.5, pose=12.0, kobj=1.0, nbs=64, hsv_h=0.015, hsv_s=0.7, hsv_v=0.4, degrees=0.0, translate=0.1, scale=0.5, shear=0.0, perspective=0.0, flipud=0.0, fliplr=0.5, bgr=0.0, mosaic=1.0, mixup=0.0, copy_paste=0.0, copy_paste_mode=flip, auto_augment=randaugment, erasing=0.4, crop_fraction=1.0, cfg=None, tracker=botsort.yaml, save_dir=/home/etaylor/runs/classify/train335\n",
      "\u001b[34m\u001b[1mtrain:\u001b[0m /sise/home/etaylor/code_projects/thesis/classification_datasets/trichome_classification/extracted_trichomes_images/balanced_good_quality/train... found 462 images in 3 classes ✅ \n",
      "\u001b[34m\u001b[1mval:\u001b[0m /sise/home/etaylor/code_projects/thesis/classification_datasets/trichome_classification/extracted_trichomes_images/balanced_good_quality/val... found 156 images in 3 classes ✅ \n",
      "\u001b[34m\u001b[1mtest:\u001b[0m None...\n",
      "Overriding model.yaml nc=1000 with nc=3\n",
      "\n",
      "                   from  n    params  module                                       arguments                     \n",
      "  0                  -1  1      1392  ultralytics.nn.modules.conv.Conv             [3, 48, 3, 2]                 \n",
      "  1                  -1  1     41664  ultralytics.nn.modules.conv.Conv             [48, 96, 3, 2]                \n",
      "  2                  -1  2    111360  ultralytics.nn.modules.block.C2f             [96, 96, 2, True]             \n",
      "  3                  -1  1    166272  ultralytics.nn.modules.conv.Conv             [96, 192, 3, 2]               \n",
      "  4                  -1  4    813312  ultralytics.nn.modules.block.C2f             [192, 192, 4, True]           \n",
      "  5                  -1  1    664320  ultralytics.nn.modules.conv.Conv             [192, 384, 3, 2]              \n",
      "  6                  -1  4   3248640  ultralytics.nn.modules.block.C2f             [384, 384, 4, True]           \n",
      "  7                  -1  1   2655744  ultralytics.nn.modules.conv.Conv             [384, 768, 3, 2]              \n",
      "  8                  -1  2   7084032  ultralytics.nn.modules.block.C2f             [768, 768, 2, True]           \n",
      "  9                  -1  1    989443  ultralytics.nn.modules.head.Classify         [768, 3]                      \n",
      "YOLOv8m-cls summary: 141 layers, 15,776,179 parameters, 15,776,179 gradients, 41.9 GFLOPs\n",
      "Transferred 228/230 items from pretrained weights\n",
      "\u001b[34m\u001b[1mTensorBoard: \u001b[0mStart with 'tensorboard --logdir /home/etaylor/runs/classify/train335', view at http://localhost:6006/\n",
      "\u001b[34m\u001b[1mAMP: \u001b[0mrunning Automatic Mixed Precision (AMP) checks...\n",
      "\u001b[34m\u001b[1mAMP: \u001b[0mchecks passed ✅\n"
     ]
    },
    {
     "name": "stderr",
     "output_type": "stream",
     "text": [
      "\u001b[34m\u001b[1mtrain: \u001b[0mScanning /sise/home/etaylor/code_projects/thesis/classification_datasets/trichome_classification/extracted_trichomes_images/balanced_good_quality/train... 462 images, 0 corrupt: 100%|██████████| 462/462 [00:00<?, ?it/s]\n",
      "/home/etaylor/.conda/envs/detectron_fastai/lib/python3.9/site-packages/torch/utils/data/dataloader.py:558: UserWarning: This DataLoader will create 8 worker processes in total. Our suggested max number of worker in current system is 6, which is smaller than what this DataLoader is going to create. Please be aware that excessive worker creation might get DataLoader running slow or even freeze, lower the worker number to avoid potential slowness/freeze if necessary.\n",
      "  warnings.warn(_create_warning_msg(\n",
      "\u001b[34m\u001b[1mval: \u001b[0mScanning /sise/home/etaylor/code_projects/thesis/classification_datasets/trichome_classification/extracted_trichomes_images/balanced_good_quality/val... 156 images, 0 corrupt: 100%|██████████| 156/156 [00:00<?, ?it/s]\n"
     ]
    },
    {
     "name": "stdout",
     "output_type": "stream",
     "text": [
      "\u001b[34m\u001b[1moptimizer:\u001b[0m 'optimizer=auto' found, ignoring 'lr0=0.01' and 'momentum=0.937' and determining best 'optimizer', 'lr0' and 'momentum' automatically... \n",
      "\u001b[34m\u001b[1moptimizer:\u001b[0m AdamW(lr=0.000714, momentum=0.9) with parameter groups 38 weight(decay=0.0), 39 weight(decay=0.0005), 39 bias(decay=0.0)\n",
      "\u001b[34m\u001b[1mTensorBoard: \u001b[0mmodel graph visualization added ✅\n",
      "Image sizes 128 train, 128 val\n",
      "Using 8 dataloader workers\n",
      "Logging results to \u001b[1m/home/etaylor/runs/classify/train335\u001b[0m\n",
      "Starting training for 10 epochs...\n"
     ]
    },
    {
     "name": "stderr",
     "output_type": "stream",
     "text": [
      "/home/etaylor/.conda/envs/detectron_fastai/lib/python3.9/site-packages/torch/utils/data/dataloader.py:558: UserWarning: This DataLoader will create 8 worker processes in total. Our suggested max number of worker in current system is 6, which is smaller than what this DataLoader is going to create. Please be aware that excessive worker creation might get DataLoader running slow or even freeze, lower the worker number to avoid potential slowness/freeze if necessary.\n",
      "  warnings.warn(_create_warning_msg(\n"
     ]
    },
    {
     "name": "stdout",
     "output_type": "stream",
     "text": [
      "\n",
      "      Epoch    GPU_mem       loss  Instances       Size\n"
     ]
    },
    {
     "name": "stderr",
     "output_type": "stream",
     "text": [
      "       1/10     0.875G       1.04         14        128: 100%|██████████| 29/29 [00:02<00:00, 13.27it/s]\n",
      "               classes   top1_acc   top5_acc: 100%|██████████| 5/5 [00:00<00:00, 21.19it/s]"
     ]
    },
    {
     "name": "stdout",
     "output_type": "stream",
     "text": [
      "                   all      0.763          1\n"
     ]
    },
    {
     "name": "stderr",
     "output_type": "stream",
     "text": [
      "\n"
     ]
    },
    {
     "name": "stdout",
     "output_type": "stream",
     "text": [
      "\n",
      "      Epoch    GPU_mem       loss  Instances       Size\n"
     ]
    },
    {
     "name": "stderr",
     "output_type": "stream",
     "text": [
      "       2/10     0.843G     0.6047         14        128: 100%|██████████| 29/29 [00:01<00:00, 28.43it/s]\n",
      "               classes   top1_acc   top5_acc: 100%|██████████| 5/5 [00:00<00:00, 87.57it/s]"
     ]
    },
    {
     "name": "stdout",
     "output_type": "stream",
     "text": [
      "                   all      0.891          1\n"
     ]
    },
    {
     "name": "stderr",
     "output_type": "stream",
     "text": [
      "\n"
     ]
    },
    {
     "name": "stdout",
     "output_type": "stream",
     "text": [
      "\n",
      "      Epoch    GPU_mem       loss  Instances       Size\n"
     ]
    },
    {
     "name": "stderr",
     "output_type": "stream",
     "text": [
      "       3/10     0.843G     0.3682         14        128: 100%|██████████| 29/29 [00:01<00:00, 24.62it/s]\n",
      "               classes   top1_acc   top5_acc: 100%|██████████| 5/5 [00:00<00:00, 97.66it/s]"
     ]
    },
    {
     "name": "stdout",
     "output_type": "stream",
     "text": [
      "                   all      0.936          1\n"
     ]
    },
    {
     "name": "stderr",
     "output_type": "stream",
     "text": [
      "\n"
     ]
    },
    {
     "name": "stdout",
     "output_type": "stream",
     "text": [
      "\n",
      "      Epoch    GPU_mem       loss  Instances       Size\n"
     ]
    },
    {
     "name": "stderr",
     "output_type": "stream",
     "text": [
      "       4/10     0.843G     0.2579         14        128: 100%|██████████| 29/29 [00:00<00:00, 29.08it/s]\n",
      "               classes   top1_acc   top5_acc: 100%|██████████| 5/5 [00:00<00:00, 75.21it/s]"
     ]
    },
    {
     "name": "stdout",
     "output_type": "stream",
     "text": [
      "                   all      0.942          1\n"
     ]
    },
    {
     "name": "stderr",
     "output_type": "stream",
     "text": [
      "\n"
     ]
    },
    {
     "name": "stdout",
     "output_type": "stream",
     "text": [
      "\n",
      "      Epoch    GPU_mem       loss  Instances       Size\n"
     ]
    },
    {
     "name": "stderr",
     "output_type": "stream",
     "text": [
      "       5/10     0.843G     0.3699         14        128: 100%|██████████| 29/29 [00:00<00:00, 29.74it/s]\n",
      "               classes   top1_acc   top5_acc: 100%|██████████| 5/5 [00:00<00:00, 98.70it/s]"
     ]
    },
    {
     "name": "stdout",
     "output_type": "stream",
     "text": [
      "                   all      0.949          1\n"
     ]
    },
    {
     "name": "stderr",
     "output_type": "stream",
     "text": [
      "\n"
     ]
    },
    {
     "name": "stdout",
     "output_type": "stream",
     "text": [
      "\n",
      "      Epoch    GPU_mem       loss  Instances       Size\n"
     ]
    },
    {
     "name": "stderr",
     "output_type": "stream",
     "text": [
      "       6/10     0.845G     0.2867         14        128: 100%|██████████| 29/29 [00:01<00:00, 24.95it/s]\n",
      "               classes   top1_acc   top5_acc: 100%|██████████| 5/5 [00:00<00:00, 100.61it/s]"
     ]
    },
    {
     "name": "stdout",
     "output_type": "stream",
     "text": [
      "                   all      0.917          1\n"
     ]
    },
    {
     "name": "stderr",
     "output_type": "stream",
     "text": [
      "\n"
     ]
    },
    {
     "name": "stdout",
     "output_type": "stream",
     "text": [
      "\n",
      "      Epoch    GPU_mem       loss  Instances       Size\n"
     ]
    },
    {
     "name": "stderr",
     "output_type": "stream",
     "text": [
      "       7/10     0.843G     0.2958         14        128: 100%|██████████| 29/29 [00:00<00:00, 29.18it/s]\n",
      "               classes   top1_acc   top5_acc: 100%|██████████| 5/5 [00:00<00:00, 103.44it/s]\n"
     ]
    },
    {
     "name": "stdout",
     "output_type": "stream",
     "text": [
      "                   all      0.968          1\n",
      "\n",
      "      Epoch    GPU_mem       loss  Instances       Size\n"
     ]
    },
    {
     "name": "stderr",
     "output_type": "stream",
     "text": [
      "       8/10     0.843G     0.2059         14        128: 100%|██████████| 29/29 [00:00<00:00, 30.05it/s]\n",
      "               classes   top1_acc   top5_acc: 100%|██████████| 5/5 [00:00<00:00, 97.60it/s]"
     ]
    },
    {
     "name": "stdout",
     "output_type": "stream",
     "text": [
      "                   all      0.955          1\n"
     ]
    },
    {
     "name": "stderr",
     "output_type": "stream",
     "text": [
      "\n"
     ]
    },
    {
     "name": "stdout",
     "output_type": "stream",
     "text": [
      "\n",
      "      Epoch    GPU_mem       loss  Instances       Size\n"
     ]
    },
    {
     "name": "stderr",
     "output_type": "stream",
     "text": [
      "       9/10     0.843G     0.1686         14        128: 100%|██████████| 29/29 [00:00<00:00, 30.15it/s]\n",
      "               classes   top1_acc   top5_acc: 100%|██████████| 5/5 [00:00<00:00, 98.03it/s]"
     ]
    },
    {
     "name": "stdout",
     "output_type": "stream",
     "text": [
      "                   all      0.955          1\n"
     ]
    },
    {
     "name": "stderr",
     "output_type": "stream",
     "text": [
      "\n"
     ]
    },
    {
     "name": "stdout",
     "output_type": "stream",
     "text": [
      "\n",
      "      Epoch    GPU_mem       loss  Instances       Size\n"
     ]
    },
    {
     "name": "stderr",
     "output_type": "stream",
     "text": [
      "      10/10     0.843G     0.1682         14        128: 100%|██████████| 29/29 [00:00<00:00, 29.34it/s]\n",
      "               classes   top1_acc   top5_acc: 100%|██████████| 5/5 [00:00<00:00, 91.21it/s]"
     ]
    },
    {
     "name": "stdout",
     "output_type": "stream",
     "text": [
      "                   all      0.962          1\n"
     ]
    },
    {
     "name": "stderr",
     "output_type": "stream",
     "text": [
      "\n"
     ]
    },
    {
     "name": "stdout",
     "output_type": "stream",
     "text": [
      "\n",
      "10 epochs completed in 0.028 hours.\n",
      "Optimizer stripped from /home/etaylor/runs/classify/train335/weights/last.pt, 31.7MB\n",
      "Optimizer stripped from /home/etaylor/runs/classify/train335/weights/best.pt, 31.7MB\n",
      "\n",
      "Validating /home/etaylor/runs/classify/train335/weights/best.pt...\n",
      "Ultralytics 8.3.56 🚀 Python-3.9.19 torch-2.3.1+cu121 CUDA:0 (NVIDIA GeForce RTX 3090, 24253MiB)\n",
      "YOLOv8m-cls summary (fused): 103 layers, 15,766,499 parameters, 0 gradients, 41.6 GFLOPs\n",
      "\u001b[34m\u001b[1mtrain:\u001b[0m /sise/home/etaylor/code_projects/thesis/classification_datasets/trichome_classification/extracted_trichomes_images/balanced_good_quality/train... found 462 images in 3 classes ✅ \n",
      "\u001b[34m\u001b[1mval:\u001b[0m /sise/home/etaylor/code_projects/thesis/classification_datasets/trichome_classification/extracted_trichomes_images/balanced_good_quality/val... found 156 images in 3 classes ✅ \n",
      "\u001b[34m\u001b[1mtest:\u001b[0m None...\n"
     ]
    },
    {
     "name": "stderr",
     "output_type": "stream",
     "text": [
      "               classes   top1_acc   top5_acc: 100%|██████████| 5/5 [00:00<00:00, 28.85it/s]\n"
     ]
    },
    {
     "name": "stdout",
     "output_type": "stream",
     "text": [
      "                   all      0.968          1\n",
      "Speed: 0.0ms preprocess, 1.0ms inference, 0.0ms loss, 0.0ms postprocess per image\n",
      "Results saved to \u001b[1m/home/etaylor/runs/classify/train335\u001b[0m\n",
      "Evaluating YOLOv8 Medium model...\n",
      "\n",
      "0: 128x128 amber 1.00, cloudy 0.00, clear 0.00, 4.0ms\n",
      "Speed: 1.4ms preprocess, 4.0ms inference, 0.1ms postprocess per image at shape (1, 3, 128, 128)\n",
      "\n",
      "0: 128x128 amber 0.98, clear 0.01, cloudy 0.01, 4.0ms\n",
      "Speed: 1.3ms preprocess, 4.0ms inference, 0.0ms postprocess per image at shape (1, 3, 128, 128)\n",
      "\n",
      "0: 128x128 amber 1.00, cloudy 0.00, clear 0.00, 4.5ms\n",
      "Speed: 1.4ms preprocess, 4.5ms inference, 0.0ms postprocess per image at shape (1, 3, 128, 128)\n",
      "\n",
      "0: 128x128 amber 0.98, clear 0.01, cloudy 0.01, 4.4ms\n",
      "Speed: 1.3ms preprocess, 4.4ms inference, 0.0ms postprocess per image at shape (1, 3, 128, 128)\n",
      "\n",
      "0: 128x128 amber 0.99, cloudy 0.01, clear 0.00, 4.2ms\n",
      "Speed: 1.5ms preprocess, 4.2ms inference, 0.0ms postprocess per image at shape (1, 3, 128, 128)\n",
      "\n",
      "0: 128x128 amber 0.82, clear 0.17, cloudy 0.01, 4.7ms\n",
      "Speed: 1.5ms preprocess, 4.7ms inference, 0.1ms postprocess per image at shape (1, 3, 128, 128)\n",
      "\n",
      "0: 128x128 amber 1.00, cloudy 0.00, clear 0.00, 4.2ms\n",
      "Speed: 1.5ms preprocess, 4.2ms inference, 0.0ms postprocess per image at shape (1, 3, 128, 128)\n",
      "\n",
      "0: 128x128 amber 1.00, cloudy 0.00, clear 0.00, 4.4ms\n",
      "Speed: 1.4ms preprocess, 4.4ms inference, 0.0ms postprocess per image at shape (1, 3, 128, 128)\n",
      "\n",
      "0: 128x128 amber 0.64, cloudy 0.36, clear 0.00, 4.1ms\n",
      "Speed: 1.4ms preprocess, 4.1ms inference, 0.0ms postprocess per image at shape (1, 3, 128, 128)\n",
      "\n",
      "0: 128x128 amber 1.00, clear 0.00, cloudy 0.00, 4.2ms\n",
      "Speed: 1.6ms preprocess, 4.2ms inference, 0.0ms postprocess per image at shape (1, 3, 128, 128)\n",
      "\n",
      "0: 128x128 amber 1.00, cloudy 0.00, clear 0.00, 4.4ms\n",
      "Speed: 1.6ms preprocess, 4.4ms inference, 0.0ms postprocess per image at shape (1, 3, 128, 128)\n",
      "\n",
      "0: 128x128 amber 1.00, cloudy 0.00, clear 0.00, 4.2ms\n",
      "Speed: 1.4ms preprocess, 4.2ms inference, 0.0ms postprocess per image at shape (1, 3, 128, 128)\n",
      "\n",
      "0: 128x128 amber 0.97, cloudy 0.03, clear 0.00, 5.4ms\n",
      "Speed: 1.7ms preprocess, 5.4ms inference, 0.0ms postprocess per image at shape (1, 3, 128, 128)\n",
      "\n",
      "0: 128x128 amber 1.00, cloudy 0.00, clear 0.00, 4.1ms\n",
      "Speed: 1.4ms preprocess, 4.1ms inference, 0.0ms postprocess per image at shape (1, 3, 128, 128)\n",
      "\n",
      "0: 128x128 amber 0.99, cloudy 0.00, clear 0.00, 4.1ms\n",
      "Speed: 1.5ms preprocess, 4.1ms inference, 0.0ms postprocess per image at shape (1, 3, 128, 128)\n",
      "\n",
      "0: 128x128 amber 1.00, clear 0.00, cloudy 0.00, 4.1ms\n",
      "Speed: 1.1ms preprocess, 4.1ms inference, 0.0ms postprocess per image at shape (1, 3, 128, 128)\n",
      "\n",
      "0: 128x128 amber 1.00, clear 0.00, cloudy 0.00, 4.2ms\n",
      "Speed: 1.3ms preprocess, 4.2ms inference, 0.0ms postprocess per image at shape (1, 3, 128, 128)\n",
      "\n",
      "0: 128x128 amber 0.76, cloudy 0.15, clear 0.09, 4.0ms\n",
      "Speed: 1.3ms preprocess, 4.0ms inference, 0.0ms postprocess per image at shape (1, 3, 128, 128)\n",
      "\n",
      "0: 128x128 amber 1.00, clear 0.00, cloudy 0.00, 4.1ms\n",
      "Speed: 1.2ms preprocess, 4.1ms inference, 0.0ms postprocess per image at shape (1, 3, 128, 128)\n",
      "\n",
      "0: 128x128 amber 1.00, cloudy 0.00, clear 0.00, 4.2ms\n",
      "Speed: 1.2ms preprocess, 4.2ms inference, 0.0ms postprocess per image at shape (1, 3, 128, 128)\n",
      "\n",
      "0: 128x128 amber 1.00, cloudy 0.00, clear 0.00, 4.0ms\n",
      "Speed: 1.1ms preprocess, 4.0ms inference, 0.0ms postprocess per image at shape (1, 3, 128, 128)\n",
      "\n",
      "0: 128x128 amber 1.00, clear 0.00, cloudy 0.00, 4.0ms\n",
      "Speed: 1.1ms preprocess, 4.0ms inference, 0.0ms postprocess per image at shape (1, 3, 128, 128)\n",
      "\n",
      "0: 128x128 amber 1.00, cloudy 0.00, clear 0.00, 4.0ms\n",
      "Speed: 1.1ms preprocess, 4.0ms inference, 0.0ms postprocess per image at shape (1, 3, 128, 128)\n",
      "\n",
      "0: 128x128 amber 0.97, cloudy 0.02, clear 0.01, 4.0ms\n",
      "Speed: 1.4ms preprocess, 4.0ms inference, 0.0ms postprocess per image at shape (1, 3, 128, 128)\n",
      "\n",
      "0: 128x128 amber 0.99, cloudy 0.01, clear 0.00, 4.1ms\n",
      "Speed: 1.3ms preprocess, 4.1ms inference, 0.0ms postprocess per image at shape (1, 3, 128, 128)\n",
      "\n",
      "0: 128x128 amber 1.00, cloudy 0.00, clear 0.00, 4.1ms\n",
      "Speed: 1.4ms preprocess, 4.1ms inference, 0.0ms postprocess per image at shape (1, 3, 128, 128)\n",
      "\n",
      "0: 128x128 amber 1.00, cloudy 0.00, clear 0.00, 4.1ms\n",
      "Speed: 1.3ms preprocess, 4.1ms inference, 0.0ms postprocess per image at shape (1, 3, 128, 128)\n",
      "\n",
      "0: 128x128 amber 1.00, cloudy 0.00, clear 0.00, 4.1ms\n",
      "Speed: 1.3ms preprocess, 4.1ms inference, 0.0ms postprocess per image at shape (1, 3, 128, 128)\n",
      "\n",
      "0: 128x128 amber 1.00, clear 0.00, cloudy 0.00, 5.0ms\n",
      "Speed: 1.3ms preprocess, 5.0ms inference, 0.0ms postprocess per image at shape (1, 3, 128, 128)\n",
      "\n",
      "0: 128x128 amber 1.00, cloudy 0.00, clear 0.00, 4.3ms\n",
      "Speed: 1.4ms preprocess, 4.3ms inference, 0.0ms postprocess per image at shape (1, 3, 128, 128)\n",
      "\n",
      "0: 128x128 amber 1.00, cloudy 0.00, clear 0.00, 4.2ms\n",
      "Speed: 1.2ms preprocess, 4.2ms inference, 0.0ms postprocess per image at shape (1, 3, 128, 128)\n",
      "\n",
      "0: 128x128 amber 0.95, clear 0.03, cloudy 0.01, 4.3ms\n",
      "Speed: 1.2ms preprocess, 4.3ms inference, 0.0ms postprocess per image at shape (1, 3, 128, 128)\n",
      "\n",
      "0: 128x128 amber 1.00, cloudy 0.00, clear 0.00, 4.1ms\n",
      "Speed: 1.5ms preprocess, 4.1ms inference, 0.0ms postprocess per image at shape (1, 3, 128, 128)\n",
      "\n",
      "0: 128x128 amber 1.00, cloudy 0.00, clear 0.00, 4.2ms\n",
      "Speed: 1.3ms preprocess, 4.2ms inference, 0.0ms postprocess per image at shape (1, 3, 128, 128)\n",
      "\n",
      "0: 128x128 amber 1.00, cloudy 0.00, clear 0.00, 4.1ms\n",
      "Speed: 1.4ms preprocess, 4.1ms inference, 0.0ms postprocess per image at shape (1, 3, 128, 128)\n",
      "\n",
      "0: 128x128 amber 1.00, cloudy 0.00, clear 0.00, 4.1ms\n",
      "Speed: 1.1ms preprocess, 4.1ms inference, 0.0ms postprocess per image at shape (1, 3, 128, 128)\n",
      "\n",
      "0: 128x128 amber 1.00, cloudy 0.00, clear 0.00, 4.2ms\n",
      "Speed: 1.2ms preprocess, 4.2ms inference, 0.0ms postprocess per image at shape (1, 3, 128, 128)\n",
      "\n",
      "0: 128x128 amber 1.00, cloudy 0.00, clear 0.00, 4.1ms\n",
      "Speed: 1.2ms preprocess, 4.1ms inference, 0.0ms postprocess per image at shape (1, 3, 128, 128)\n",
      "\n",
      "0: 128x128 amber 1.00, cloudy 0.00, clear 0.00, 4.1ms\n",
      "Speed: 1.2ms preprocess, 4.1ms inference, 0.0ms postprocess per image at shape (1, 3, 128, 128)\n",
      "\n",
      "0: 128x128 amber 1.00, cloudy 0.00, clear 0.00, 4.3ms\n",
      "Speed: 1.4ms preprocess, 4.3ms inference, 0.0ms postprocess per image at shape (1, 3, 128, 128)\n",
      "\n",
      "0: 128x128 amber 0.98, clear 0.01, cloudy 0.01, 4.3ms\n",
      "Speed: 1.3ms preprocess, 4.3ms inference, 0.0ms postprocess per image at shape (1, 3, 128, 128)\n",
      "\n",
      "0: 128x128 amber 0.89, cloudy 0.10, clear 0.01, 4.1ms\n",
      "Speed: 1.5ms preprocess, 4.1ms inference, 0.0ms postprocess per image at shape (1, 3, 128, 128)\n",
      "\n",
      "0: 128x128 amber 0.99, cloudy 0.01, clear 0.00, 4.3ms\n",
      "Speed: 1.4ms preprocess, 4.3ms inference, 0.0ms postprocess per image at shape (1, 3, 128, 128)\n",
      "\n",
      "0: 128x128 amber 1.00, cloudy 0.00, clear 0.00, 4.3ms\n",
      "Speed: 1.6ms preprocess, 4.3ms inference, 0.0ms postprocess per image at shape (1, 3, 128, 128)\n",
      "\n",
      "0: 128x128 amber 1.00, clear 0.00, cloudy 0.00, 4.4ms\n",
      "Speed: 1.3ms preprocess, 4.4ms inference, 0.0ms postprocess per image at shape (1, 3, 128, 128)\n",
      "\n",
      "0: 128x128 amber 0.98, clear 0.01, cloudy 0.00, 4.1ms\n",
      "Speed: 1.2ms preprocess, 4.1ms inference, 0.0ms postprocess per image at shape (1, 3, 128, 128)\n",
      "\n",
      "0: 128x128 amber 0.87, clear 0.13, cloudy 0.01, 5.0ms\n",
      "Speed: 1.2ms preprocess, 5.0ms inference, 0.1ms postprocess per image at shape (1, 3, 128, 128)\n",
      "\n",
      "0: 128x128 amber 1.00, cloudy 0.00, clear 0.00, 5.1ms\n",
      "Speed: 1.6ms preprocess, 5.1ms inference, 0.0ms postprocess per image at shape (1, 3, 128, 128)\n",
      "\n",
      "0: 128x128 amber 1.00, cloudy 0.00, clear 0.00, 4.4ms\n",
      "Speed: 1.7ms preprocess, 4.4ms inference, 0.0ms postprocess per image at shape (1, 3, 128, 128)\n",
      "\n",
      "0: 128x128 amber 1.00, cloudy 0.00, clear 0.00, 5.0ms\n",
      "Speed: 1.7ms preprocess, 5.0ms inference, 0.1ms postprocess per image at shape (1, 3, 128, 128)\n",
      "\n",
      "0: 128x128 amber 1.00, cloudy 0.00, clear 0.00, 4.7ms\n",
      "Speed: 1.5ms preprocess, 4.7ms inference, 0.0ms postprocess per image at shape (1, 3, 128, 128)\n",
      "\n",
      "0: 128x128 amber 0.90, cloudy 0.07, clear 0.03, 4.9ms\n",
      "Speed: 1.8ms preprocess, 4.9ms inference, 0.1ms postprocess per image at shape (1, 3, 128, 128)\n",
      "\n",
      "0: 128x128 clear 0.71, cloudy 0.29, amber 0.01, 4.9ms\n",
      "Speed: 1.6ms preprocess, 4.9ms inference, 0.0ms postprocess per image at shape (1, 3, 128, 128)\n",
      "\n",
      "0: 128x128 clear 0.99, cloudy 0.01, amber 0.00, 4.5ms\n",
      "Speed: 1.4ms preprocess, 4.5ms inference, 0.0ms postprocess per image at shape (1, 3, 128, 128)\n",
      "\n",
      "0: 128x128 clear 0.98, cloudy 0.02, amber 0.01, 4.6ms\n",
      "Speed: 1.5ms preprocess, 4.6ms inference, 0.0ms postprocess per image at shape (1, 3, 128, 128)\n",
      "\n",
      "0: 128x128 clear 0.96, cloudy 0.04, amber 0.00, 5.0ms\n",
      "Speed: 1.8ms preprocess, 5.0ms inference, 0.1ms postprocess per image at shape (1, 3, 128, 128)\n",
      "\n",
      "0: 128x128 clear 1.00, amber 0.00, cloudy 0.00, 4.3ms\n",
      "Speed: 1.8ms preprocess, 4.3ms inference, 0.0ms postprocess per image at shape (1, 3, 128, 128)\n",
      "\n",
      "0: 128x128 clear 0.99, cloudy 0.01, amber 0.00, 4.5ms\n",
      "Speed: 1.5ms preprocess, 4.5ms inference, 0.0ms postprocess per image at shape (1, 3, 128, 128)\n",
      "\n",
      "0: 128x128 clear 1.00, cloudy 0.00, amber 0.00, 6.8ms\n",
      "Speed: 2.0ms preprocess, 6.8ms inference, 0.1ms postprocess per image at shape (1, 3, 128, 128)\n",
      "\n",
      "0: 128x128 clear 1.00, cloudy 0.00, amber 0.00, 4.6ms\n",
      "Speed: 2.0ms preprocess, 4.6ms inference, 0.0ms postprocess per image at shape (1, 3, 128, 128)\n",
      "\n",
      "0: 128x128 clear 0.96, cloudy 0.04, amber 0.00, 5.6ms\n",
      "Speed: 1.9ms preprocess, 5.6ms inference, 0.1ms postprocess per image at shape (1, 3, 128, 128)\n",
      "\n",
      "0: 128x128 clear 0.99, cloudy 0.01, amber 0.00, 6.2ms\n",
      "Speed: 2.0ms preprocess, 6.2ms inference, 0.0ms postprocess per image at shape (1, 3, 128, 128)\n",
      "\n",
      "0: 128x128 clear 1.00, cloudy 0.00, amber 0.00, 4.5ms\n",
      "Speed: 1.6ms preprocess, 4.5ms inference, 0.0ms postprocess per image at shape (1, 3, 128, 128)\n",
      "\n",
      "0: 128x128 clear 0.93, cloudy 0.05, amber 0.02, 4.3ms\n",
      "Speed: 1.5ms preprocess, 4.3ms inference, 0.0ms postprocess per image at shape (1, 3, 128, 128)\n",
      "\n",
      "0: 128x128 clear 0.97, cloudy 0.03, amber 0.00, 4.3ms\n",
      "Speed: 1.3ms preprocess, 4.3ms inference, 0.0ms postprocess per image at shape (1, 3, 128, 128)\n",
      "\n",
      "0: 128x128 clear 0.82, cloudy 0.17, amber 0.01, 4.5ms\n",
      "Speed: 1.4ms preprocess, 4.5ms inference, 0.1ms postprocess per image at shape (1, 3, 128, 128)\n",
      "\n",
      "0: 128x128 clear 1.00, cloudy 0.00, amber 0.00, 4.1ms\n",
      "Speed: 1.5ms preprocess, 4.1ms inference, 0.0ms postprocess per image at shape (1, 3, 128, 128)\n",
      "\n",
      "0: 128x128 clear 1.00, cloudy 0.00, amber 0.00, 4.6ms\n",
      "Speed: 1.2ms preprocess, 4.6ms inference, 0.0ms postprocess per image at shape (1, 3, 128, 128)\n",
      "\n",
      "0: 128x128 clear 0.60, cloudy 0.33, amber 0.06, 4.1ms\n",
      "Speed: 1.4ms preprocess, 4.1ms inference, 0.0ms postprocess per image at shape (1, 3, 128, 128)\n",
      "\n",
      "0: 128x128 clear 0.99, cloudy 0.00, amber 0.00, 4.7ms\n",
      "Speed: 1.7ms preprocess, 4.7ms inference, 0.0ms postprocess per image at shape (1, 3, 128, 128)\n",
      "\n",
      "0: 128x128 clear 1.00, cloudy 0.00, amber 0.00, 4.3ms\n",
      "Speed: 1.5ms preprocess, 4.3ms inference, 0.0ms postprocess per image at shape (1, 3, 128, 128)\n",
      "\n",
      "0: 128x128 clear 1.00, cloudy 0.00, amber 0.00, 4.3ms\n",
      "Speed: 1.3ms preprocess, 4.3ms inference, 0.0ms postprocess per image at shape (1, 3, 128, 128)\n",
      "\n",
      "0: 128x128 clear 1.00, cloudy 0.00, amber 0.00, 4.2ms\n",
      "Speed: 1.6ms preprocess, 4.2ms inference, 0.0ms postprocess per image at shape (1, 3, 128, 128)\n",
      "\n",
      "0: 128x128 clear 0.97, cloudy 0.02, amber 0.01, 4.3ms\n",
      "Speed: 1.4ms preprocess, 4.3ms inference, 0.0ms postprocess per image at shape (1, 3, 128, 128)\n",
      "\n",
      "0: 128x128 clear 0.98, cloudy 0.01, amber 0.00, 4.3ms\n",
      "Speed: 1.5ms preprocess, 4.3ms inference, 0.0ms postprocess per image at shape (1, 3, 128, 128)\n",
      "\n",
      "0: 128x128 clear 0.86, cloudy 0.14, amber 0.00, 4.2ms\n",
      "Speed: 1.5ms preprocess, 4.2ms inference, 0.0ms postprocess per image at shape (1, 3, 128, 128)\n",
      "\n",
      "0: 128x128 clear 1.00, cloudy 0.00, amber 0.00, 4.3ms\n",
      "Speed: 1.2ms preprocess, 4.3ms inference, 0.0ms postprocess per image at shape (1, 3, 128, 128)\n",
      "\n",
      "0: 128x128 clear 1.00, cloudy 0.00, amber 0.00, 4.2ms\n",
      "Speed: 1.4ms preprocess, 4.2ms inference, 0.0ms postprocess per image at shape (1, 3, 128, 128)\n",
      "\n",
      "0: 128x128 cloudy 0.84, clear 0.16, amber 0.00, 4.2ms\n",
      "Speed: 1.5ms preprocess, 4.2ms inference, 0.0ms postprocess per image at shape (1, 3, 128, 128)\n",
      "\n",
      "0: 128x128 cloudy 0.83, clear 0.16, amber 0.00, 4.3ms\n",
      "Speed: 1.5ms preprocess, 4.3ms inference, 0.0ms postprocess per image at shape (1, 3, 128, 128)\n",
      "\n",
      "0: 128x128 clear 0.89, cloudy 0.10, amber 0.01, 4.2ms\n",
      "Speed: 1.4ms preprocess, 4.2ms inference, 0.0ms postprocess per image at shape (1, 3, 128, 128)\n",
      "\n",
      "0: 128x128 clear 1.00, cloudy 0.00, amber 0.00, 4.2ms\n",
      "Speed: 1.5ms preprocess, 4.2ms inference, 0.0ms postprocess per image at shape (1, 3, 128, 128)\n",
      "\n",
      "0: 128x128 clear 0.91, cloudy 0.08, amber 0.00, 4.1ms\n",
      "Speed: 1.2ms preprocess, 4.1ms inference, 0.0ms postprocess per image at shape (1, 3, 128, 128)\n",
      "\n",
      "0: 128x128 clear 0.96, cloudy 0.04, amber 0.00, 4.2ms\n",
      "Speed: 1.2ms preprocess, 4.2ms inference, 0.0ms postprocess per image at shape (1, 3, 128, 128)\n",
      "\n",
      "0: 128x128 clear 0.97, cloudy 0.03, amber 0.00, 4.2ms\n",
      "Speed: 1.2ms preprocess, 4.2ms inference, 0.0ms postprocess per image at shape (1, 3, 128, 128)\n",
      "\n",
      "0: 128x128 clear 0.95, cloudy 0.04, amber 0.01, 4.3ms\n",
      "Speed: 1.2ms preprocess, 4.3ms inference, 0.0ms postprocess per image at shape (1, 3, 128, 128)\n",
      "\n",
      "0: 128x128 clear 0.99, amber 0.01, cloudy 0.00, 4.1ms\n",
      "Speed: 1.3ms preprocess, 4.1ms inference, 0.0ms postprocess per image at shape (1, 3, 128, 128)\n",
      "\n",
      "0: 128x128 clear 0.89, cloudy 0.08, amber 0.02, 4.1ms\n",
      "Speed: 1.4ms preprocess, 4.1ms inference, 0.0ms postprocess per image at shape (1, 3, 128, 128)\n",
      "\n",
      "0: 128x128 clear 0.95, cloudy 0.03, amber 0.02, 4.1ms\n",
      "Speed: 1.3ms preprocess, 4.1ms inference, 0.0ms postprocess per image at shape (1, 3, 128, 128)\n",
      "\n",
      "0: 128x128 clear 0.99, cloudy 0.01, amber 0.00, 4.1ms\n",
      "Speed: 1.2ms preprocess, 4.1ms inference, 0.0ms postprocess per image at shape (1, 3, 128, 128)\n",
      "\n",
      "0: 128x128 clear 0.99, cloudy 0.01, amber 0.00, 4.1ms\n",
      "Speed: 1.4ms preprocess, 4.1ms inference, 0.0ms postprocess per image at shape (1, 3, 128, 128)\n",
      "\n",
      "0: 128x128 clear 0.89, amber 0.06, cloudy 0.05, 4.6ms\n",
      "Speed: 1.1ms preprocess, 4.6ms inference, 0.0ms postprocess per image at shape (1, 3, 128, 128)\n",
      "\n",
      "0: 128x128 clear 0.65, cloudy 0.34, amber 0.01, 4.2ms\n",
      "Speed: 1.3ms preprocess, 4.2ms inference, 0.0ms postprocess per image at shape (1, 3, 128, 128)\n",
      "\n",
      "0: 128x128 clear 0.98, cloudy 0.02, amber 0.00, 4.1ms\n",
      "Speed: 1.5ms preprocess, 4.1ms inference, 0.0ms postprocess per image at shape (1, 3, 128, 128)\n",
      "\n",
      "0: 128x128 clear 1.00, cloudy 0.00, amber 0.00, 6.1ms\n",
      "Speed: 1.7ms preprocess, 6.1ms inference, 0.1ms postprocess per image at shape (1, 3, 128, 128)\n",
      "\n",
      "0: 128x128 clear 0.99, cloudy 0.01, amber 0.00, 4.7ms\n",
      "Speed: 1.8ms preprocess, 4.7ms inference, 0.0ms postprocess per image at shape (1, 3, 128, 128)\n",
      "\n",
      "0: 128x128 clear 1.00, cloudy 0.00, amber 0.00, 4.2ms\n",
      "Speed: 1.3ms preprocess, 4.2ms inference, 0.1ms postprocess per image at shape (1, 3, 128, 128)\n",
      "\n",
      "0: 128x128 clear 0.95, cloudy 0.04, amber 0.01, 4.2ms\n",
      "Speed: 1.2ms preprocess, 4.2ms inference, 0.0ms postprocess per image at shape (1, 3, 128, 128)\n",
      "\n",
      "0: 128x128 clear 0.94, cloudy 0.05, amber 0.02, 4.2ms\n",
      "Speed: 1.3ms preprocess, 4.2ms inference, 0.0ms postprocess per image at shape (1, 3, 128, 128)\n",
      "\n",
      "0: 128x128 clear 0.62, cloudy 0.36, amber 0.02, 4.3ms\n",
      "Speed: 1.2ms preprocess, 4.3ms inference, 0.0ms postprocess per image at shape (1, 3, 128, 128)\n",
      "\n",
      "0: 128x128 clear 1.00, cloudy 0.00, amber 0.00, 4.3ms\n",
      "Speed: 1.3ms preprocess, 4.3ms inference, 0.0ms postprocess per image at shape (1, 3, 128, 128)\n",
      "\n",
      "0: 128x128 clear 1.00, cloudy 0.00, amber 0.00, 6.0ms\n",
      "Speed: 1.5ms preprocess, 6.0ms inference, 0.1ms postprocess per image at shape (1, 3, 128, 128)\n",
      "\n",
      "0: 128x128 clear 0.96, cloudy 0.04, amber 0.00, 4.6ms\n",
      "Speed: 1.8ms preprocess, 4.6ms inference, 0.0ms postprocess per image at shape (1, 3, 128, 128)\n",
      "\n",
      "0: 128x128 clear 1.00, cloudy 0.00, amber 0.00, 4.4ms\n",
      "Speed: 1.5ms preprocess, 4.4ms inference, 0.0ms postprocess per image at shape (1, 3, 128, 128)\n",
      "\n",
      "0: 128x128 cloudy 0.98, clear 0.01, amber 0.00, 5.7ms\n",
      "Speed: 2.1ms preprocess, 5.7ms inference, 0.1ms postprocess per image at shape (1, 3, 128, 128)\n",
      "\n",
      "0: 128x128 cloudy 0.95, clear 0.05, amber 0.00, 4.6ms\n",
      "Speed: 1.8ms preprocess, 4.6ms inference, 0.1ms postprocess per image at shape (1, 3, 128, 128)\n",
      "\n",
      "0: 128x128 cloudy 1.00, clear 0.00, amber 0.00, 4.4ms\n",
      "Speed: 1.5ms preprocess, 4.4ms inference, 0.0ms postprocess per image at shape (1, 3, 128, 128)\n",
      "\n",
      "0: 128x128 cloudy 1.00, clear 0.00, amber 0.00, 5.5ms\n",
      "Speed: 1.8ms preprocess, 5.5ms inference, 0.1ms postprocess per image at shape (1, 3, 128, 128)\n",
      "\n",
      "0: 128x128 cloudy 0.97, clear 0.03, amber 0.00, 5.0ms\n",
      "Speed: 1.9ms preprocess, 5.0ms inference, 0.0ms postprocess per image at shape (1, 3, 128, 128)\n",
      "\n",
      "0: 128x128 cloudy 1.00, clear 0.00, amber 0.00, 4.3ms\n",
      "Speed: 1.5ms preprocess, 4.3ms inference, 0.0ms postprocess per image at shape (1, 3, 128, 128)\n",
      "\n",
      "0: 128x128 cloudy 0.99, clear 0.01, amber 0.00, 4.4ms\n",
      "Speed: 1.6ms preprocess, 4.4ms inference, 0.0ms postprocess per image at shape (1, 3, 128, 128)\n",
      "\n",
      "0: 128x128 cloudy 0.99, clear 0.01, amber 0.00, 5.3ms\n",
      "Speed: 2.0ms preprocess, 5.3ms inference, 0.1ms postprocess per image at shape (1, 3, 128, 128)\n",
      "\n",
      "0: 128x128 cloudy 0.99, clear 0.01, amber 0.00, 5.2ms\n",
      "Speed: 1.7ms preprocess, 5.2ms inference, 0.1ms postprocess per image at shape (1, 3, 128, 128)\n",
      "\n",
      "0: 128x128 amber 0.41, cloudy 0.37, clear 0.22, 6.0ms\n",
      "Speed: 1.9ms preprocess, 6.0ms inference, 0.1ms postprocess per image at shape (1, 3, 128, 128)\n",
      "\n",
      "0: 128x128 cloudy 1.00, clear 0.00, amber 0.00, 6.1ms\n",
      "Speed: 1.8ms preprocess, 6.1ms inference, 0.1ms postprocess per image at shape (1, 3, 128, 128)\n",
      "\n",
      "0: 128x128 cloudy 0.59, clear 0.40, amber 0.02, 5.6ms\n",
      "Speed: 1.9ms preprocess, 5.6ms inference, 0.1ms postprocess per image at shape (1, 3, 128, 128)\n",
      "\n",
      "0: 128x128 cloudy 0.99, clear 0.01, amber 0.00, 4.8ms\n",
      "Speed: 1.7ms preprocess, 4.8ms inference, 0.1ms postprocess per image at shape (1, 3, 128, 128)\n",
      "\n",
      "0: 128x128 cloudy 1.00, clear 0.00, amber 0.00, 5.0ms\n",
      "Speed: 1.7ms preprocess, 5.0ms inference, 0.0ms postprocess per image at shape (1, 3, 128, 128)\n",
      "\n",
      "0: 128x128 cloudy 0.68, clear 0.24, amber 0.08, 4.9ms\n",
      "Speed: 1.7ms preprocess, 4.9ms inference, 0.1ms postprocess per image at shape (1, 3, 128, 128)\n",
      "\n",
      "0: 128x128 cloudy 1.00, amber 0.00, clear 0.00, 4.7ms\n",
      "Speed: 1.8ms preprocess, 4.7ms inference, 0.0ms postprocess per image at shape (1, 3, 128, 128)\n",
      "\n",
      "0: 128x128 cloudy 0.99, clear 0.01, amber 0.00, 4.9ms\n",
      "Speed: 1.8ms preprocess, 4.9ms inference, 0.1ms postprocess per image at shape (1, 3, 128, 128)\n",
      "\n",
      "0: 128x128 cloudy 0.98, clear 0.01, amber 0.01, 5.2ms\n",
      "Speed: 2.3ms preprocess, 5.2ms inference, 0.1ms postprocess per image at shape (1, 3, 128, 128)\n",
      "\n",
      "0: 128x128 cloudy 1.00, clear 0.00, amber 0.00, 4.4ms\n",
      "Speed: 1.6ms preprocess, 4.4ms inference, 0.1ms postprocess per image at shape (1, 3, 128, 128)\n",
      "\n",
      "0: 128x128 cloudy 1.00, clear 0.00, amber 0.00, 4.4ms\n",
      "Speed: 1.4ms preprocess, 4.4ms inference, 0.0ms postprocess per image at shape (1, 3, 128, 128)\n",
      "\n",
      "0: 128x128 cloudy 0.98, clear 0.02, amber 0.00, 5.1ms\n",
      "Speed: 1.4ms preprocess, 5.1ms inference, 0.1ms postprocess per image at shape (1, 3, 128, 128)\n",
      "\n",
      "0: 128x128 cloudy 0.97, clear 0.03, amber 0.00, 5.1ms\n",
      "Speed: 1.6ms preprocess, 5.1ms inference, 0.1ms postprocess per image at shape (1, 3, 128, 128)\n",
      "\n",
      "0: 128x128 cloudy 0.73, amber 0.23, clear 0.04, 6.7ms\n",
      "Speed: 1.7ms preprocess, 6.7ms inference, 0.1ms postprocess per image at shape (1, 3, 128, 128)\n",
      "\n",
      "0: 128x128 cloudy 1.00, clear 0.00, amber 0.00, 5.1ms\n",
      "Speed: 2.0ms preprocess, 5.1ms inference, 0.0ms postprocess per image at shape (1, 3, 128, 128)\n",
      "\n",
      "0: 128x128 cloudy 1.00, clear 0.00, amber 0.00, 4.4ms\n",
      "Speed: 1.3ms preprocess, 4.4ms inference, 0.0ms postprocess per image at shape (1, 3, 128, 128)\n",
      "\n",
      "0: 128x128 clear 0.96, cloudy 0.04, amber 0.00, 4.4ms\n",
      "Speed: 1.4ms preprocess, 4.4ms inference, 0.0ms postprocess per image at shape (1, 3, 128, 128)\n",
      "\n",
      "0: 128x128 cloudy 1.00, clear 0.00, amber 0.00, 4.2ms\n",
      "Speed: 1.5ms preprocess, 4.2ms inference, 0.1ms postprocess per image at shape (1, 3, 128, 128)\n",
      "\n",
      "0: 128x128 cloudy 1.00, clear 0.00, amber 0.00, 4.5ms\n",
      "Speed: 1.5ms preprocess, 4.5ms inference, 0.0ms postprocess per image at shape (1, 3, 128, 128)\n",
      "\n",
      "0: 128x128 cloudy 1.00, clear 0.00, amber 0.00, 4.5ms\n",
      "Speed: 1.4ms preprocess, 4.5ms inference, 0.0ms postprocess per image at shape (1, 3, 128, 128)\n",
      "\n",
      "0: 128x128 cloudy 1.00, clear 0.00, amber 0.00, 4.3ms\n",
      "Speed: 1.3ms preprocess, 4.3ms inference, 0.0ms postprocess per image at shape (1, 3, 128, 128)\n",
      "\n",
      "0: 128x128 cloudy 0.76, clear 0.21, amber 0.03, 4.3ms\n",
      "Speed: 1.7ms preprocess, 4.3ms inference, 0.0ms postprocess per image at shape (1, 3, 128, 128)\n",
      "\n",
      "0: 128x128 cloudy 0.98, clear 0.01, amber 0.01, 4.4ms\n",
      "Speed: 1.3ms preprocess, 4.4ms inference, 0.0ms postprocess per image at shape (1, 3, 128, 128)\n",
      "\n",
      "0: 128x128 cloudy 1.00, clear 0.00, amber 0.00, 4.4ms\n",
      "Speed: 1.3ms preprocess, 4.4ms inference, 0.0ms postprocess per image at shape (1, 3, 128, 128)\n",
      "\n",
      "0: 128x128 cloudy 0.96, clear 0.03, amber 0.01, 4.3ms\n",
      "Speed: 1.5ms preprocess, 4.3ms inference, 0.0ms postprocess per image at shape (1, 3, 128, 128)\n",
      "\n",
      "0: 128x128 cloudy 0.97, clear 0.03, amber 0.00, 4.2ms\n",
      "Speed: 1.3ms preprocess, 4.2ms inference, 0.0ms postprocess per image at shape (1, 3, 128, 128)\n",
      "\n",
      "0: 128x128 cloudy 0.87, clear 0.13, amber 0.00, 4.2ms\n",
      "Speed: 1.3ms preprocess, 4.2ms inference, 0.0ms postprocess per image at shape (1, 3, 128, 128)\n",
      "\n",
      "0: 128x128 cloudy 0.82, amber 0.14, clear 0.04, 4.2ms\n",
      "Speed: 1.3ms preprocess, 4.2ms inference, 0.0ms postprocess per image at shape (1, 3, 128, 128)\n",
      "\n",
      "0: 128x128 cloudy 0.98, clear 0.02, amber 0.00, 4.3ms\n",
      "Speed: 1.5ms preprocess, 4.3ms inference, 0.0ms postprocess per image at shape (1, 3, 128, 128)\n",
      "\n",
      "0: 128x128 cloudy 1.00, clear 0.00, amber 0.00, 4.2ms\n",
      "Speed: 1.3ms preprocess, 4.2ms inference, 0.0ms postprocess per image at shape (1, 3, 128, 128)\n",
      "\n",
      "0: 128x128 cloudy 1.00, clear 0.00, amber 0.00, 4.3ms\n",
      "Speed: 1.2ms preprocess, 4.3ms inference, 0.0ms postprocess per image at shape (1, 3, 128, 128)\n",
      "\n",
      "0: 128x128 cloudy 1.00, clear 0.00, amber 0.00, 4.1ms\n",
      "Speed: 1.3ms preprocess, 4.1ms inference, 0.0ms postprocess per image at shape (1, 3, 128, 128)\n",
      "\n",
      "0: 128x128 clear 0.87, cloudy 0.13, amber 0.00, 4.2ms\n",
      "Speed: 1.3ms preprocess, 4.2ms inference, 0.0ms postprocess per image at shape (1, 3, 128, 128)\n",
      "\n",
      "0: 128x128 cloudy 0.98, clear 0.01, amber 0.01, 4.2ms\n",
      "Speed: 1.2ms preprocess, 4.2ms inference, 0.0ms postprocess per image at shape (1, 3, 128, 128)\n",
      "\n",
      "0: 128x128 cloudy 1.00, clear 0.00, amber 0.00, 4.1ms\n",
      "Speed: 1.2ms preprocess, 4.1ms inference, 0.0ms postprocess per image at shape (1, 3, 128, 128)\n",
      "\n",
      "0: 128x128 cloudy 1.00, clear 0.00, amber 0.00, 4.1ms\n",
      "Speed: 1.4ms preprocess, 4.1ms inference, 0.0ms postprocess per image at shape (1, 3, 128, 128)\n",
      "\n",
      "0: 128x128 cloudy 1.00, clear 0.00, amber 0.00, 4.2ms\n",
      "Speed: 1.3ms preprocess, 4.2ms inference, 0.0ms postprocess per image at shape (1, 3, 128, 128)\n",
      "\n",
      "0: 128x128 cloudy 1.00, clear 0.00, amber 0.00, 4.2ms\n",
      "Speed: 1.6ms preprocess, 4.2ms inference, 0.0ms postprocess per image at shape (1, 3, 128, 128)\n",
      "\n",
      "0: 128x128 cloudy 0.88, amber 0.06, clear 0.06, 4.7ms\n",
      "Speed: 1.4ms preprocess, 4.7ms inference, 0.0ms postprocess per image at shape (1, 3, 128, 128)\n",
      "\n",
      "0: 128x128 cloudy 0.99, clear 0.00, amber 0.00, 4.5ms\n",
      "Speed: 1.4ms preprocess, 4.5ms inference, 0.0ms postprocess per image at shape (1, 3, 128, 128)\n",
      "\n",
      "0: 128x128 cloudy 1.00, clear 0.00, amber 0.00, 4.2ms\n",
      "Speed: 1.4ms preprocess, 4.2ms inference, 0.0ms postprocess per image at shape (1, 3, 128, 128)\n",
      "\n",
      "0: 128x128 cloudy 1.00, clear 0.00, amber 0.00, 4.1ms\n",
      "Speed: 1.4ms preprocess, 4.1ms inference, 0.0ms postprocess per image at shape (1, 3, 128, 128)\n",
      "\n",
      "0: 128x128 cloudy 0.99, clear 0.01, amber 0.00, 4.1ms\n",
      "Speed: 1.2ms preprocess, 4.1ms inference, 0.0ms postprocess per image at shape (1, 3, 128, 128)\n",
      "Training YOLOv8 Large model...\n",
      "Ultralytics 8.3.56 🚀 Python-3.9.19 torch-2.3.1+cu121 CUDA:0 (NVIDIA GeForce RTX 3090, 24253MiB)\n",
      "\u001b[34m\u001b[1mengine/trainer: \u001b[0mtask=classify, mode=train, model=/home/etaylor/code_projects/thesis/checkpoints/trichome_image_classification/yolo/yolov8l-cls.pt, data=/home/etaylor/code_projects/thesis/classification_datasets/trichome_classification/extracted_trichomes_images/balanced_good_quality, epochs=10, time=None, patience=100, batch=16, imgsz=128, save=True, save_period=-1, cache=False, device=None, workers=8, project=None, name=train336, exist_ok=False, pretrained=True, optimizer=auto, verbose=True, seed=0, deterministic=True, single_cls=False, rect=False, cos_lr=False, close_mosaic=10, resume=False, amp=True, fraction=1.0, profile=False, freeze=None, multi_scale=False, overlap_mask=True, mask_ratio=4, dropout=0.0, val=True, split=val, save_json=False, save_hybrid=False, conf=None, iou=0.7, max_det=300, half=False, dnn=False, plots=True, source=None, vid_stride=1, stream_buffer=False, visualize=False, augment=False, agnostic_nms=False, classes=None, retina_masks=False, embed=None, show=False, save_frames=False, save_txt=False, save_conf=False, save_crop=False, show_labels=True, show_conf=True, show_boxes=True, line_width=None, format=torchscript, keras=False, optimize=False, int8=False, dynamic=False, simplify=True, opset=None, workspace=None, nms=False, lr0=0.01, lrf=0.01, momentum=0.937, weight_decay=0.0005, warmup_epochs=3.0, warmup_momentum=0.8, warmup_bias_lr=0.1, box=7.5, cls=0.5, dfl=1.5, pose=12.0, kobj=1.0, nbs=64, hsv_h=0.015, hsv_s=0.7, hsv_v=0.4, degrees=0.0, translate=0.1, scale=0.5, shear=0.0, perspective=0.0, flipud=0.0, fliplr=0.5, bgr=0.0, mosaic=1.0, mixup=0.0, copy_paste=0.0, copy_paste_mode=flip, auto_augment=randaugment, erasing=0.4, crop_fraction=1.0, cfg=None, tracker=botsort.yaml, save_dir=/home/etaylor/runs/classify/train336\n",
      "\u001b[34m\u001b[1mtrain:\u001b[0m /sise/home/etaylor/code_projects/thesis/classification_datasets/trichome_classification/extracted_trichomes_images/balanced_good_quality/train... found 462 images in 3 classes ✅ \n",
      "\u001b[34m\u001b[1mval:\u001b[0m /sise/home/etaylor/code_projects/thesis/classification_datasets/trichome_classification/extracted_trichomes_images/balanced_good_quality/val... found 156 images in 3 classes ✅ \n",
      "\u001b[34m\u001b[1mtest:\u001b[0m None...\n",
      "Overriding model.yaml nc=1000 with nc=3\n",
      "\n",
      "                   from  n    params  module                                       arguments                     \n",
      "  0                  -1  1      1856  ultralytics.nn.modules.conv.Conv             [3, 64, 3, 2]                 \n",
      "  1                  -1  1     73984  ultralytics.nn.modules.conv.Conv             [64, 128, 3, 2]               \n",
      "  2                  -1  3    279808  ultralytics.nn.modules.block.C2f             [128, 128, 3, True]           \n",
      "  3                  -1  1    295424  ultralytics.nn.modules.conv.Conv             [128, 256, 3, 2]              \n",
      "  4                  -1  6   2101248  ultralytics.nn.modules.block.C2f             [256, 256, 6, True]           \n",
      "  5                  -1  1   1180672  ultralytics.nn.modules.conv.Conv             [256, 512, 3, 2]              \n",
      "  6                  -1  6   8396800  ultralytics.nn.modules.block.C2f             [512, 512, 6, True]           \n",
      "  7                  -1  1   4720640  ultralytics.nn.modules.conv.Conv             [512, 1024, 3, 2]             \n",
      "  8                  -1  3  17836032  ultralytics.nn.modules.block.C2f             [1024, 1024, 3, True]         \n",
      "  9                  -1  1   1317123  ultralytics.nn.modules.head.Classify         [1024, 3]                     \n",
      "YOLOv8l-cls summary: 183 layers, 36,203,587 parameters, 36,203,587 gradients, 99.1 GFLOPs\n",
      "Transferred 300/302 items from pretrained weights\n",
      "\u001b[34m\u001b[1mTensorBoard: \u001b[0mStart with 'tensorboard --logdir /home/etaylor/runs/classify/train336', view at http://localhost:6006/\n",
      "\u001b[34m\u001b[1mAMP: \u001b[0mrunning Automatic Mixed Precision (AMP) checks...\n",
      "\u001b[34m\u001b[1mAMP: \u001b[0mchecks passed ✅\n"
     ]
    },
    {
     "name": "stderr",
     "output_type": "stream",
     "text": [
      "\u001b[34m\u001b[1mtrain: \u001b[0mScanning /sise/home/etaylor/code_projects/thesis/classification_datasets/trichome_classification/extracted_trichomes_images/balanced_good_quality/train... 462 images, 0 corrupt: 100%|██████████| 462/462 [00:00<?, ?it/s]\n",
      "/home/etaylor/.conda/envs/detectron_fastai/lib/python3.9/site-packages/torch/utils/data/dataloader.py:558: UserWarning: This DataLoader will create 8 worker processes in total. Our suggested max number of worker in current system is 6, which is smaller than what this DataLoader is going to create. Please be aware that excessive worker creation might get DataLoader running slow or even freeze, lower the worker number to avoid potential slowness/freeze if necessary.\n",
      "  warnings.warn(_create_warning_msg(\n",
      "\u001b[34m\u001b[1mval: \u001b[0mScanning /sise/home/etaylor/code_projects/thesis/classification_datasets/trichome_classification/extracted_trichomes_images/balanced_good_quality/val... 156 images, 0 corrupt: 100%|██████████| 156/156 [00:00<?, ?it/s]\n"
     ]
    },
    {
     "name": "stdout",
     "output_type": "stream",
     "text": [
      "\u001b[34m\u001b[1moptimizer:\u001b[0m 'optimizer=auto' found, ignoring 'lr0=0.01' and 'momentum=0.937' and determining best 'optimizer', 'lr0' and 'momentum' automatically... \n",
      "\u001b[34m\u001b[1moptimizer:\u001b[0m AdamW(lr=0.000714, momentum=0.9) with parameter groups 50 weight(decay=0.0), 51 weight(decay=0.0005), 51 bias(decay=0.0)\n",
      "\u001b[34m\u001b[1mTensorBoard: \u001b[0mmodel graph visualization added ✅\n",
      "Image sizes 128 train, 128 val\n",
      "Using 8 dataloader workers\n",
      "Logging results to \u001b[1m/home/etaylor/runs/classify/train336\u001b[0m\n",
      "Starting training for 10 epochs...\n"
     ]
    },
    {
     "name": "stderr",
     "output_type": "stream",
     "text": [
      "/home/etaylor/.conda/envs/detectron_fastai/lib/python3.9/site-packages/torch/utils/data/dataloader.py:558: UserWarning: This DataLoader will create 8 worker processes in total. Our suggested max number of worker in current system is 6, which is smaller than what this DataLoader is going to create. Please be aware that excessive worker creation might get DataLoader running slow or even freeze, lower the worker number to avoid potential slowness/freeze if necessary.\n",
      "  warnings.warn(_create_warning_msg(\n"
     ]
    },
    {
     "name": "stdout",
     "output_type": "stream",
     "text": [
      "\n",
      "      Epoch    GPU_mem       loss  Instances       Size\n"
     ]
    },
    {
     "name": "stderr",
     "output_type": "stream",
     "text": [
      "       1/10      1.73G      1.003         14        128: 100%|██████████| 29/29 [00:02<00:00, 14.04it/s]\n",
      "               classes   top1_acc   top5_acc: 100%|██████████| 5/5 [00:00<00:00, 19.34it/s]"
     ]
    },
    {
     "name": "stdout",
     "output_type": "stream",
     "text": [
      "                   all      0.699          1\n"
     ]
    },
    {
     "name": "stderr",
     "output_type": "stream",
     "text": [
      "\n"
     ]
    },
    {
     "name": "stdout",
     "output_type": "stream",
     "text": [
      "\n",
      "      Epoch    GPU_mem       loss  Instances       Size\n"
     ]
    },
    {
     "name": "stderr",
     "output_type": "stream",
     "text": [
      "       2/10      1.69G      0.636         14        128: 100%|██████████| 29/29 [00:01<00:00, 21.87it/s]\n",
      "               classes   top1_acc   top5_acc: 100%|██████████| 5/5 [00:00<00:00, 43.31it/s]"
     ]
    },
    {
     "name": "stdout",
     "output_type": "stream",
     "text": [
      "                   all      0.885          1\n"
     ]
    },
    {
     "name": "stderr",
     "output_type": "stream",
     "text": [
      "\n"
     ]
    },
    {
     "name": "stdout",
     "output_type": "stream",
     "text": [
      "\n",
      "      Epoch    GPU_mem       loss  Instances       Size\n"
     ]
    },
    {
     "name": "stderr",
     "output_type": "stream",
     "text": [
      "       3/10      1.67G     0.3375         14        128: 100%|██████████| 29/29 [00:01<00:00, 21.70it/s]\n",
      "               classes   top1_acc   top5_acc: 100%|██████████| 5/5 [00:00<00:00, 48.10it/s]"
     ]
    },
    {
     "name": "stdout",
     "output_type": "stream",
     "text": [
      "                   all      0.923          1\n"
     ]
    },
    {
     "name": "stderr",
     "output_type": "stream",
     "text": [
      "\n"
     ]
    },
    {
     "name": "stdout",
     "output_type": "stream",
     "text": [
      "\n",
      "      Epoch    GPU_mem       loss  Instances       Size\n"
     ]
    },
    {
     "name": "stderr",
     "output_type": "stream",
     "text": [
      "       4/10      1.67G     0.2266         14        128: 100%|██████████| 29/29 [00:01<00:00, 23.29it/s]\n",
      "               classes   top1_acc   top5_acc: 100%|██████████| 5/5 [00:00<00:00, 83.61it/s]"
     ]
    },
    {
     "name": "stdout",
     "output_type": "stream",
     "text": [
      "                   all      0.942          1\n"
     ]
    },
    {
     "name": "stderr",
     "output_type": "stream",
     "text": [
      "\n"
     ]
    },
    {
     "name": "stdout",
     "output_type": "stream",
     "text": [
      "\n",
      "      Epoch    GPU_mem       loss  Instances       Size\n"
     ]
    },
    {
     "name": "stderr",
     "output_type": "stream",
     "text": [
      "       5/10      1.65G      0.194         14        128: 100%|██████████| 29/29 [00:01<00:00, 23.45it/s]\n",
      "               classes   top1_acc   top5_acc: 100%|██████████| 5/5 [00:00<00:00, 74.52it/s]"
     ]
    },
    {
     "name": "stdout",
     "output_type": "stream",
     "text": [
      "                   all      0.929          1\n"
     ]
    },
    {
     "name": "stderr",
     "output_type": "stream",
     "text": [
      "\n"
     ]
    },
    {
     "name": "stdout",
     "output_type": "stream",
     "text": [
      "\n",
      "      Epoch    GPU_mem       loss  Instances       Size\n"
     ]
    },
    {
     "name": "stderr",
     "output_type": "stream",
     "text": [
      "       6/10      1.65G     0.1711         14        128: 100%|██████████| 29/29 [00:01<00:00, 24.94it/s]\n",
      "               classes   top1_acc   top5_acc: 100%|██████████| 5/5 [00:00<00:00, 71.89it/s]"
     ]
    },
    {
     "name": "stdout",
     "output_type": "stream",
     "text": [
      "                   all      0.949          1\n"
     ]
    },
    {
     "name": "stderr",
     "output_type": "stream",
     "text": [
      "\n"
     ]
    },
    {
     "name": "stdout",
     "output_type": "stream",
     "text": [
      "\n",
      "      Epoch    GPU_mem       loss  Instances       Size\n"
     ]
    },
    {
     "name": "stderr",
     "output_type": "stream",
     "text": [
      "       7/10      1.65G       0.21         14        128: 100%|██████████| 29/29 [00:01<00:00, 24.25it/s]\n",
      "               classes   top1_acc   top5_acc: 100%|██████████| 5/5 [00:00<00:00, 79.24it/s]"
     ]
    },
    {
     "name": "stdout",
     "output_type": "stream",
     "text": [
      "                   all      0.955          1\n"
     ]
    },
    {
     "name": "stderr",
     "output_type": "stream",
     "text": [
      "\n"
     ]
    },
    {
     "name": "stdout",
     "output_type": "stream",
     "text": [
      "\n",
      "      Epoch    GPU_mem       loss  Instances       Size\n"
     ]
    },
    {
     "name": "stderr",
     "output_type": "stream",
     "text": [
      "       8/10      1.65G     0.1354         14        128: 100%|██████████| 29/29 [00:01<00:00, 24.58it/s]\n",
      "               classes   top1_acc   top5_acc: 100%|██████████| 5/5 [00:00<00:00, 82.01it/s]"
     ]
    },
    {
     "name": "stdout",
     "output_type": "stream",
     "text": [
      "                   all      0.968          1\n"
     ]
    },
    {
     "name": "stderr",
     "output_type": "stream",
     "text": [
      "\n"
     ]
    },
    {
     "name": "stdout",
     "output_type": "stream",
     "text": [
      "\n",
      "      Epoch    GPU_mem       loss  Instances       Size\n"
     ]
    },
    {
     "name": "stderr",
     "output_type": "stream",
     "text": [
      "       9/10      1.65G       0.13         14        128: 100%|██████████| 29/29 [00:01<00:00, 24.81it/s]\n",
      "               classes   top1_acc   top5_acc: 100%|██████████| 5/5 [00:00<00:00, 72.73it/s]"
     ]
    },
    {
     "name": "stdout",
     "output_type": "stream",
     "text": [
      "                   all      0.955          1\n"
     ]
    },
    {
     "name": "stderr",
     "output_type": "stream",
     "text": [
      "\n"
     ]
    },
    {
     "name": "stdout",
     "output_type": "stream",
     "text": [
      "\n",
      "      Epoch    GPU_mem       loss  Instances       Size\n"
     ]
    },
    {
     "name": "stderr",
     "output_type": "stream",
     "text": [
      "      10/10      1.63G     0.1287         14        128: 100%|██████████| 29/29 [00:01<00:00, 24.83it/s]\n",
      "               classes   top1_acc   top5_acc: 100%|██████████| 5/5 [00:00<00:00, 78.57it/s]"
     ]
    },
    {
     "name": "stdout",
     "output_type": "stream",
     "text": [
      "                   all      0.962          1\n"
     ]
    },
    {
     "name": "stderr",
     "output_type": "stream",
     "text": [
      "\n"
     ]
    },
    {
     "name": "stdout",
     "output_type": "stream",
     "text": [
      "\n",
      "10 epochs completed in 0.031 hours.\n",
      "Optimizer stripped from /home/etaylor/runs/classify/train336/weights/last.pt, 72.6MB\n",
      "Optimizer stripped from /home/etaylor/runs/classify/train336/weights/best.pt, 72.6MB\n",
      "\n",
      "Validating /home/etaylor/runs/classify/train336/weights/best.pt...\n",
      "Ultralytics 8.3.56 🚀 Python-3.9.19 torch-2.3.1+cu121 CUDA:0 (NVIDIA GeForce RTX 3090, 24253MiB)\n",
      "YOLOv8l-cls summary (fused): 133 layers, 36,188,419 parameters, 0 gradients, 98.7 GFLOPs\n",
      "\u001b[34m\u001b[1mtrain:\u001b[0m /sise/home/etaylor/code_projects/thesis/classification_datasets/trichome_classification/extracted_trichomes_images/balanced_good_quality/train... found 462 images in 3 classes ✅ \n",
      "\u001b[34m\u001b[1mval:\u001b[0m /sise/home/etaylor/code_projects/thesis/classification_datasets/trichome_classification/extracted_trichomes_images/balanced_good_quality/val... found 156 images in 3 classes ✅ \n",
      "\u001b[34m\u001b[1mtest:\u001b[0m None...\n"
     ]
    },
    {
     "name": "stderr",
     "output_type": "stream",
     "text": [
      "               classes   top1_acc   top5_acc: 100%|██████████| 5/5 [00:00<00:00, 28.34it/s]\n"
     ]
    },
    {
     "name": "stdout",
     "output_type": "stream",
     "text": [
      "                   all      0.968          1\n",
      "Speed: 0.0ms preprocess, 1.1ms inference, 0.0ms loss, 0.0ms postprocess per image\n",
      "Results saved to \u001b[1m/home/etaylor/runs/classify/train336\u001b[0m\n",
      "Evaluating YOLOv8 Large model...\n",
      "\n",
      "0: 128x128 amber 1.00, cloudy 0.00, clear 0.00, 5.2ms\n",
      "Speed: 1.5ms preprocess, 5.2ms inference, 0.1ms postprocess per image at shape (1, 3, 128, 128)\n",
      "\n",
      "0: 128x128 amber 0.65, cloudy 0.30, clear 0.05, 5.9ms\n",
      "Speed: 1.7ms preprocess, 5.9ms inference, 0.0ms postprocess per image at shape (1, 3, 128, 128)\n",
      "\n",
      "0: 128x128 amber 1.00, cloudy 0.00, clear 0.00, 5.4ms\n",
      "Speed: 1.7ms preprocess, 5.4ms inference, 0.0ms postprocess per image at shape (1, 3, 128, 128)\n",
      "\n",
      "0: 128x128 amber 1.00, cloudy 0.00, clear 0.00, 7.5ms\n",
      "Speed: 1.7ms preprocess, 7.5ms inference, 0.1ms postprocess per image at shape (1, 3, 128, 128)\n",
      "\n",
      "0: 128x128 amber 0.99, cloudy 0.01, clear 0.00, 5.4ms\n",
      "Speed: 1.3ms preprocess, 5.4ms inference, 0.1ms postprocess per image at shape (1, 3, 128, 128)\n",
      "\n",
      "0: 128x128 amber 0.98, clear 0.02, cloudy 0.00, 5.4ms\n",
      "Speed: 1.5ms preprocess, 5.4ms inference, 0.0ms postprocess per image at shape (1, 3, 128, 128)\n",
      "\n",
      "0: 128x128 amber 1.00, cloudy 0.00, clear 0.00, 6.3ms\n",
      "Speed: 1.8ms preprocess, 6.3ms inference, 0.1ms postprocess per image at shape (1, 3, 128, 128)\n",
      "\n",
      "0: 128x128 amber 0.93, cloudy 0.05, clear 0.02, 5.5ms\n",
      "Speed: 1.4ms preprocess, 5.5ms inference, 0.0ms postprocess per image at shape (1, 3, 128, 128)\n",
      "\n",
      "0: 128x128 amber 0.86, cloudy 0.14, clear 0.00, 5.7ms\n",
      "Speed: 1.3ms preprocess, 5.7ms inference, 0.0ms postprocess per image at shape (1, 3, 128, 128)\n",
      "\n",
      "0: 128x128 amber 1.00, clear 0.00, cloudy 0.00, 5.6ms\n",
      "Speed: 1.5ms preprocess, 5.6ms inference, 0.0ms postprocess per image at shape (1, 3, 128, 128)\n",
      "\n",
      "0: 128x128 amber 1.00, cloudy 0.00, clear 0.00, 5.4ms\n",
      "Speed: 1.3ms preprocess, 5.4ms inference, 0.0ms postprocess per image at shape (1, 3, 128, 128)\n",
      "\n",
      "0: 128x128 amber 0.99, cloudy 0.01, clear 0.00, 5.5ms\n",
      "Speed: 1.4ms preprocess, 5.5ms inference, 0.0ms postprocess per image at shape (1, 3, 128, 128)\n",
      "\n",
      "0: 128x128 amber 0.79, cloudy 0.17, clear 0.04, 5.5ms\n",
      "Speed: 1.3ms preprocess, 5.5ms inference, 0.0ms postprocess per image at shape (1, 3, 128, 128)\n",
      "\n",
      "0: 128x128 amber 0.99, cloudy 0.01, clear 0.00, 6.8ms\n",
      "Speed: 1.7ms preprocess, 6.8ms inference, 0.0ms postprocess per image at shape (1, 3, 128, 128)\n",
      "\n",
      "0: 128x128 amber 0.97, cloudy 0.03, clear 0.01, 6.4ms\n",
      "Speed: 1.5ms preprocess, 6.4ms inference, 0.1ms postprocess per image at shape (1, 3, 128, 128)\n",
      "\n",
      "0: 128x128 amber 1.00, cloudy 0.00, clear 0.00, 5.3ms\n",
      "Speed: 1.5ms preprocess, 5.3ms inference, 0.0ms postprocess per image at shape (1, 3, 128, 128)\n",
      "\n",
      "0: 128x128 amber 1.00, clear 0.00, cloudy 0.00, 5.6ms\n",
      "Speed: 1.5ms preprocess, 5.6ms inference, 0.0ms postprocess per image at shape (1, 3, 128, 128)\n",
      "\n",
      "0: 128x128 amber 0.98, cloudy 0.02, clear 0.00, 5.8ms\n",
      "Speed: 1.7ms preprocess, 5.8ms inference, 0.0ms postprocess per image at shape (1, 3, 128, 128)\n",
      "\n",
      "0: 128x128 amber 1.00, cloudy 0.00, clear 0.00, 5.3ms\n",
      "Speed: 1.6ms preprocess, 5.3ms inference, 0.0ms postprocess per image at shape (1, 3, 128, 128)\n",
      "\n",
      "0: 128x128 amber 1.00, cloudy 0.00, clear 0.00, 5.4ms\n",
      "Speed: 1.4ms preprocess, 5.4ms inference, 0.0ms postprocess per image at shape (1, 3, 128, 128)\n",
      "\n",
      "0: 128x128 amber 0.92, cloudy 0.07, clear 0.01, 5.4ms\n",
      "Speed: 1.4ms preprocess, 5.4ms inference, 0.0ms postprocess per image at shape (1, 3, 128, 128)\n",
      "\n",
      "0: 128x128 amber 1.00, clear 0.00, cloudy 0.00, 6.3ms\n",
      "Speed: 1.6ms preprocess, 6.3ms inference, 0.0ms postprocess per image at shape (1, 3, 128, 128)\n",
      "\n",
      "0: 128x128 amber 0.97, cloudy 0.02, clear 0.00, 6.0ms\n",
      "Speed: 1.8ms preprocess, 6.0ms inference, 0.0ms postprocess per image at shape (1, 3, 128, 128)\n",
      "\n",
      "0: 128x128 amber 0.99, cloudy 0.01, clear 0.00, 5.2ms\n",
      "Speed: 1.2ms preprocess, 5.2ms inference, 0.0ms postprocess per image at shape (1, 3, 128, 128)\n",
      "\n",
      "0: 128x128 amber 0.91, cloudy 0.09, clear 0.01, 5.2ms\n",
      "Speed: 1.3ms preprocess, 5.2ms inference, 0.0ms postprocess per image at shape (1, 3, 128, 128)\n",
      "\n",
      "0: 128x128 amber 1.00, cloudy 0.00, clear 0.00, 5.1ms\n",
      "Speed: 1.2ms preprocess, 5.1ms inference, 0.0ms postprocess per image at shape (1, 3, 128, 128)\n",
      "\n",
      "0: 128x128 amber 0.96, cloudy 0.03, clear 0.00, 5.3ms\n",
      "Speed: 1.2ms preprocess, 5.3ms inference, 0.0ms postprocess per image at shape (1, 3, 128, 128)\n",
      "\n",
      "0: 128x128 amber 1.00, cloudy 0.00, clear 0.00, 5.1ms\n",
      "Speed: 1.3ms preprocess, 5.1ms inference, 0.0ms postprocess per image at shape (1, 3, 128, 128)\n",
      "\n",
      "0: 128x128 amber 0.99, clear 0.00, cloudy 0.00, 5.2ms\n",
      "Speed: 1.3ms preprocess, 5.2ms inference, 0.0ms postprocess per image at shape (1, 3, 128, 128)\n",
      "\n",
      "0: 128x128 amber 1.00, cloudy 0.00, clear 0.00, 5.2ms\n",
      "Speed: 1.3ms preprocess, 5.2ms inference, 0.0ms postprocess per image at shape (1, 3, 128, 128)\n",
      "\n",
      "0: 128x128 amber 1.00, cloudy 0.00, clear 0.00, 5.2ms\n",
      "Speed: 1.1ms preprocess, 5.2ms inference, 0.0ms postprocess per image at shape (1, 3, 128, 128)\n",
      "\n",
      "0: 128x128 amber 0.84, cloudy 0.13, clear 0.03, 5.4ms\n",
      "Speed: 1.3ms preprocess, 5.4ms inference, 0.0ms postprocess per image at shape (1, 3, 128, 128)\n",
      "\n",
      "0: 128x128 amber 0.92, cloudy 0.07, clear 0.01, 5.5ms\n",
      "Speed: 1.6ms preprocess, 5.5ms inference, 0.0ms postprocess per image at shape (1, 3, 128, 128)\n",
      "\n",
      "0: 128x128 amber 0.99, cloudy 0.01, clear 0.00, 5.5ms\n",
      "Speed: 1.5ms preprocess, 5.5ms inference, 0.0ms postprocess per image at shape (1, 3, 128, 128)\n",
      "\n",
      "0: 128x128 amber 0.98, cloudy 0.02, clear 0.00, 5.3ms\n",
      "Speed: 1.5ms preprocess, 5.3ms inference, 0.0ms postprocess per image at shape (1, 3, 128, 128)\n",
      "\n",
      "0: 128x128 amber 1.00, cloudy 0.00, clear 0.00, 5.4ms\n",
      "Speed: 1.4ms preprocess, 5.4ms inference, 0.0ms postprocess per image at shape (1, 3, 128, 128)\n",
      "\n",
      "0: 128x128 amber 0.99, cloudy 0.01, clear 0.00, 5.3ms\n",
      "Speed: 1.5ms preprocess, 5.3ms inference, 0.0ms postprocess per image at shape (1, 3, 128, 128)\n",
      "\n",
      "0: 128x128 amber 0.96, cloudy 0.03, clear 0.01, 5.4ms\n",
      "Speed: 1.4ms preprocess, 5.4ms inference, 0.0ms postprocess per image at shape (1, 3, 128, 128)\n",
      "\n",
      "0: 128x128 amber 0.98, cloudy 0.02, clear 0.00, 5.3ms\n",
      "Speed: 1.4ms preprocess, 5.3ms inference, 0.0ms postprocess per image at shape (1, 3, 128, 128)\n",
      "\n",
      "0: 128x128 amber 0.99, cloudy 0.01, clear 0.00, 5.4ms\n",
      "Speed: 1.5ms preprocess, 5.4ms inference, 0.0ms postprocess per image at shape (1, 3, 128, 128)\n",
      "\n",
      "0: 128x128 amber 1.00, cloudy 0.00, clear 0.00, 5.4ms\n",
      "Speed: 1.4ms preprocess, 5.4ms inference, 0.0ms postprocess per image at shape (1, 3, 128, 128)\n",
      "\n",
      "0: 128x128 amber 0.95, cloudy 0.04, clear 0.01, 5.3ms\n",
      "Speed: 1.4ms preprocess, 5.3ms inference, 0.0ms postprocess per image at shape (1, 3, 128, 128)\n",
      "\n",
      "0: 128x128 amber 0.99, cloudy 0.01, clear 0.00, 5.3ms\n",
      "Speed: 1.2ms preprocess, 5.3ms inference, 0.0ms postprocess per image at shape (1, 3, 128, 128)\n",
      "\n",
      "0: 128x128 amber 1.00, cloudy 0.00, clear 0.00, 5.3ms\n",
      "Speed: 1.4ms preprocess, 5.3ms inference, 0.0ms postprocess per image at shape (1, 3, 128, 128)\n",
      "\n",
      "0: 128x128 amber 1.00, cloudy 0.00, clear 0.00, 5.3ms\n",
      "Speed: 1.4ms preprocess, 5.3ms inference, 0.0ms postprocess per image at shape (1, 3, 128, 128)\n",
      "\n",
      "0: 128x128 amber 1.00, cloudy 0.00, clear 0.00, 5.3ms\n",
      "Speed: 1.3ms preprocess, 5.3ms inference, 0.0ms postprocess per image at shape (1, 3, 128, 128)\n",
      "\n",
      "0: 128x128 amber 0.99, clear 0.01, cloudy 0.00, 5.2ms\n",
      "Speed: 1.4ms preprocess, 5.2ms inference, 0.0ms postprocess per image at shape (1, 3, 128, 128)\n",
      "\n",
      "0: 128x128 amber 1.00, cloudy 0.00, clear 0.00, 5.3ms\n",
      "Speed: 1.3ms preprocess, 5.3ms inference, 0.0ms postprocess per image at shape (1, 3, 128, 128)\n",
      "\n",
      "0: 128x128 amber 0.97, cloudy 0.03, clear 0.00, 5.4ms\n",
      "Speed: 1.4ms preprocess, 5.4ms inference, 0.0ms postprocess per image at shape (1, 3, 128, 128)\n",
      "\n",
      "0: 128x128 amber 1.00, cloudy 0.00, clear 0.00, 6.4ms\n",
      "Speed: 1.6ms preprocess, 6.4ms inference, 0.0ms postprocess per image at shape (1, 3, 128, 128)\n",
      "\n",
      "0: 128x128 amber 1.00, cloudy 0.00, clear 0.00, 5.3ms\n",
      "Speed: 1.5ms preprocess, 5.3ms inference, 0.0ms postprocess per image at shape (1, 3, 128, 128)\n",
      "\n",
      "0: 128x128 amber 0.98, cloudy 0.02, clear 0.00, 5.2ms\n",
      "Speed: 1.4ms preprocess, 5.2ms inference, 0.0ms postprocess per image at shape (1, 3, 128, 128)\n",
      "\n",
      "0: 128x128 clear 0.98, cloudy 0.02, amber 0.00, 5.2ms\n",
      "Speed: 1.3ms preprocess, 5.2ms inference, 0.0ms postprocess per image at shape (1, 3, 128, 128)\n",
      "\n",
      "0: 128x128 clear 0.99, cloudy 0.01, amber 0.00, 6.9ms\n",
      "Speed: 1.7ms preprocess, 6.9ms inference, 0.0ms postprocess per image at shape (1, 3, 128, 128)\n",
      "\n",
      "0: 128x128 clear 0.98, amber 0.01, cloudy 0.01, 6.9ms\n",
      "Speed: 1.7ms preprocess, 6.9ms inference, 0.0ms postprocess per image at shape (1, 3, 128, 128)\n",
      "\n",
      "0: 128x128 clear 0.96, amber 0.03, cloudy 0.01, 5.2ms\n",
      "Speed: 1.3ms preprocess, 5.2ms inference, 0.0ms postprocess per image at shape (1, 3, 128, 128)\n",
      "\n",
      "0: 128x128 clear 1.00, cloudy 0.00, amber 0.00, 5.3ms\n",
      "Speed: 1.3ms preprocess, 5.3ms inference, 0.0ms postprocess per image at shape (1, 3, 128, 128)\n",
      "\n",
      "0: 128x128 clear 0.99, amber 0.00, cloudy 0.00, 5.2ms\n",
      "Speed: 1.3ms preprocess, 5.2ms inference, 0.0ms postprocess per image at shape (1, 3, 128, 128)\n",
      "\n",
      "0: 128x128 clear 1.00, amber 0.00, cloudy 0.00, 5.2ms\n",
      "Speed: 1.2ms preprocess, 5.2ms inference, 0.0ms postprocess per image at shape (1, 3, 128, 128)\n",
      "\n",
      "0: 128x128 clear 0.98, cloudy 0.02, amber 0.00, 5.4ms\n",
      "Speed: 1.5ms preprocess, 5.4ms inference, 0.0ms postprocess per image at shape (1, 3, 128, 128)\n",
      "\n",
      "0: 128x128 clear 0.75, cloudy 0.25, amber 0.00, 7.4ms\n",
      "Speed: 1.4ms preprocess, 7.4ms inference, 0.1ms postprocess per image at shape (1, 3, 128, 128)\n",
      "\n",
      "0: 128x128 clear 0.96, cloudy 0.02, amber 0.02, 5.9ms\n",
      "Speed: 1.5ms preprocess, 5.9ms inference, 0.0ms postprocess per image at shape (1, 3, 128, 128)\n",
      "\n",
      "0: 128x128 clear 1.00, cloudy 0.00, amber 0.00, 5.5ms\n",
      "Speed: 1.3ms preprocess, 5.5ms inference, 0.0ms postprocess per image at shape (1, 3, 128, 128)\n",
      "\n",
      "0: 128x128 clear 0.80, amber 0.15, cloudy 0.05, 5.4ms\n",
      "Speed: 1.4ms preprocess, 5.4ms inference, 0.0ms postprocess per image at shape (1, 3, 128, 128)\n",
      "\n",
      "0: 128x128 clear 0.99, cloudy 0.00, amber 0.00, 5.5ms\n",
      "Speed: 1.3ms preprocess, 5.5ms inference, 0.0ms postprocess per image at shape (1, 3, 128, 128)\n",
      "\n",
      "0: 128x128 clear 0.94, cloudy 0.04, amber 0.02, 5.5ms\n",
      "Speed: 1.3ms preprocess, 5.5ms inference, 0.0ms postprocess per image at shape (1, 3, 128, 128)\n",
      "\n",
      "0: 128x128 clear 0.98, cloudy 0.01, amber 0.00, 5.4ms\n",
      "Speed: 1.4ms preprocess, 5.4ms inference, 0.0ms postprocess per image at shape (1, 3, 128, 128)\n",
      "\n",
      "0: 128x128 clear 0.99, cloudy 0.01, amber 0.00, 5.4ms\n",
      "Speed: 1.6ms preprocess, 5.4ms inference, 0.0ms postprocess per image at shape (1, 3, 128, 128)\n",
      "\n",
      "0: 128x128 clear 0.96, cloudy 0.02, amber 0.02, 5.5ms\n",
      "Speed: 1.3ms preprocess, 5.5ms inference, 0.0ms postprocess per image at shape (1, 3, 128, 128)\n",
      "\n",
      "0: 128x128 clear 1.00, cloudy 0.00, amber 0.00, 5.6ms\n",
      "Speed: 1.4ms preprocess, 5.6ms inference, 0.0ms postprocess per image at shape (1, 3, 128, 128)\n",
      "\n",
      "0: 128x128 clear 1.00, cloudy 0.00, amber 0.00, 6.7ms\n",
      "Speed: 1.7ms preprocess, 6.7ms inference, 0.1ms postprocess per image at shape (1, 3, 128, 128)\n",
      "\n",
      "0: 128x128 clear 0.99, cloudy 0.01, amber 0.00, 6.7ms\n",
      "Speed: 1.6ms preprocess, 6.7ms inference, 0.1ms postprocess per image at shape (1, 3, 128, 128)\n",
      "\n",
      "0: 128x128 clear 0.99, cloudy 0.01, amber 0.00, 6.7ms\n",
      "Speed: 1.9ms preprocess, 6.7ms inference, 0.1ms postprocess per image at shape (1, 3, 128, 128)\n",
      "\n",
      "0: 128x128 clear 0.99, cloudy 0.01, amber 0.00, 6.6ms\n",
      "Speed: 1.6ms preprocess, 6.6ms inference, 0.1ms postprocess per image at shape (1, 3, 128, 128)\n",
      "\n",
      "0: 128x128 clear 0.96, cloudy 0.04, amber 0.00, 6.7ms\n",
      "Speed: 1.8ms preprocess, 6.7ms inference, 0.1ms postprocess per image at shape (1, 3, 128, 128)\n",
      "\n",
      "0: 128x128 clear 0.96, cloudy 0.04, amber 0.00, 5.7ms\n",
      "Speed: 2.0ms preprocess, 5.7ms inference, 0.0ms postprocess per image at shape (1, 3, 128, 128)\n",
      "\n",
      "0: 128x128 clear 0.95, amber 0.03, cloudy 0.02, 5.6ms\n",
      "Speed: 1.6ms preprocess, 5.6ms inference, 0.1ms postprocess per image at shape (1, 3, 128, 128)\n",
      "\n",
      "0: 128x128 clear 1.00, amber 0.00, cloudy 0.00, 5.6ms\n",
      "Speed: 1.6ms preprocess, 5.6ms inference, 0.1ms postprocess per image at shape (1, 3, 128, 128)\n",
      "\n",
      "0: 128x128 clear 0.75, cloudy 0.24, amber 0.01, 5.5ms\n",
      "Speed: 1.6ms preprocess, 5.5ms inference, 0.0ms postprocess per image at shape (1, 3, 128, 128)\n",
      "\n",
      "0: 128x128 cloudy 0.83, clear 0.14, amber 0.03, 5.7ms\n",
      "Speed: 2.1ms preprocess, 5.7ms inference, 0.0ms postprocess per image at shape (1, 3, 128, 128)\n",
      "\n",
      "0: 128x128 clear 0.99, cloudy 0.00, amber 0.00, 5.7ms\n",
      "Speed: 1.7ms preprocess, 5.7ms inference, 0.1ms postprocess per image at shape (1, 3, 128, 128)\n",
      "\n",
      "0: 128x128 clear 1.00, cloudy 0.00, amber 0.00, 5.5ms\n",
      "Speed: 1.7ms preprocess, 5.5ms inference, 0.0ms postprocess per image at shape (1, 3, 128, 128)\n",
      "\n",
      "0: 128x128 clear 0.99, cloudy 0.01, amber 0.00, 6.1ms\n",
      "Speed: 1.7ms preprocess, 6.1ms inference, 0.0ms postprocess per image at shape (1, 3, 128, 128)\n",
      "\n",
      "0: 128x128 clear 0.65, cloudy 0.33, amber 0.01, 5.5ms\n",
      "Speed: 1.5ms preprocess, 5.5ms inference, 0.0ms postprocess per image at shape (1, 3, 128, 128)\n",
      "\n",
      "0: 128x128 clear 0.96, cloudy 0.02, amber 0.02, 5.3ms\n",
      "Speed: 1.5ms preprocess, 5.3ms inference, 0.0ms postprocess per image at shape (1, 3, 128, 128)\n",
      "\n",
      "0: 128x128 clear 1.00, cloudy 0.00, amber 0.00, 5.7ms\n",
      "Speed: 1.4ms preprocess, 5.7ms inference, 0.0ms postprocess per image at shape (1, 3, 128, 128)\n",
      "\n",
      "0: 128x128 clear 0.98, cloudy 0.02, amber 0.01, 5.6ms\n",
      "Speed: 1.3ms preprocess, 5.6ms inference, 0.0ms postprocess per image at shape (1, 3, 128, 128)\n",
      "\n",
      "0: 128x128 clear 0.86, cloudy 0.12, amber 0.03, 5.4ms\n",
      "Speed: 1.4ms preprocess, 5.4ms inference, 0.1ms postprocess per image at shape (1, 3, 128, 128)\n",
      "\n",
      "0: 128x128 clear 0.62, amber 0.30, cloudy 0.08, 7.1ms\n",
      "Speed: 1.9ms preprocess, 7.1ms inference, 0.1ms postprocess per image at shape (1, 3, 128, 128)\n",
      "\n",
      "0: 128x128 clear 0.98, amber 0.01, cloudy 0.01, 5.5ms\n",
      "Speed: 1.5ms preprocess, 5.5ms inference, 0.0ms postprocess per image at shape (1, 3, 128, 128)\n",
      "\n",
      "0: 128x128 clear 1.00, amber 0.00, cloudy 0.00, 6.9ms\n",
      "Speed: 1.7ms preprocess, 6.9ms inference, 0.1ms postprocess per image at shape (1, 3, 128, 128)\n",
      "\n",
      "0: 128x128 clear 0.96, amber 0.02, cloudy 0.02, 5.8ms\n",
      "Speed: 1.6ms preprocess, 5.8ms inference, 0.0ms postprocess per image at shape (1, 3, 128, 128)\n",
      "\n",
      "0: 128x128 clear 0.86, cloudy 0.13, amber 0.00, 5.4ms\n",
      "Speed: 1.5ms preprocess, 5.4ms inference, 0.0ms postprocess per image at shape (1, 3, 128, 128)\n",
      "\n",
      "0: 128x128 clear 0.99, cloudy 0.01, amber 0.00, 5.4ms\n",
      "Speed: 1.3ms preprocess, 5.4ms inference, 0.0ms postprocess per image at shape (1, 3, 128, 128)\n",
      "\n",
      "0: 128x128 clear 1.00, cloudy 0.00, amber 0.00, 5.3ms\n",
      "Speed: 1.4ms preprocess, 5.3ms inference, 0.0ms postprocess per image at shape (1, 3, 128, 128)\n",
      "\n",
      "0: 128x128 clear 0.99, cloudy 0.01, amber 0.00, 7.8ms\n",
      "Speed: 1.8ms preprocess, 7.8ms inference, 0.1ms postprocess per image at shape (1, 3, 128, 128)\n",
      "\n",
      "0: 128x128 clear 0.99, amber 0.01, cloudy 0.00, 5.5ms\n",
      "Speed: 1.5ms preprocess, 5.5ms inference, 0.0ms postprocess per image at shape (1, 3, 128, 128)\n",
      "\n",
      "0: 128x128 clear 0.92, cloudy 0.04, amber 0.03, 5.3ms\n",
      "Speed: 1.3ms preprocess, 5.3ms inference, 0.0ms postprocess per image at shape (1, 3, 128, 128)\n",
      "\n",
      "0: 128x128 clear 0.99, cloudy 0.00, amber 0.00, 5.2ms\n",
      "Speed: 1.2ms preprocess, 5.2ms inference, 0.0ms postprocess per image at shape (1, 3, 128, 128)\n",
      "\n",
      "0: 128x128 clear 0.65, cloudy 0.19, amber 0.16, 5.2ms\n",
      "Speed: 1.4ms preprocess, 5.2ms inference, 0.0ms postprocess per image at shape (1, 3, 128, 128)\n",
      "\n",
      "0: 128x128 clear 0.99, cloudy 0.00, amber 0.00, 5.4ms\n",
      "Speed: 1.1ms preprocess, 5.4ms inference, 0.0ms postprocess per image at shape (1, 3, 128, 128)\n",
      "\n",
      "0: 128x128 clear 1.00, cloudy 0.00, amber 0.00, 5.5ms\n",
      "Speed: 1.2ms preprocess, 5.5ms inference, 0.0ms postprocess per image at shape (1, 3, 128, 128)\n",
      "\n",
      "0: 128x128 clear 1.00, cloudy 0.00, amber 0.00, 5.2ms\n",
      "Speed: 1.2ms preprocess, 5.2ms inference, 0.0ms postprocess per image at shape (1, 3, 128, 128)\n",
      "\n",
      "0: 128x128 clear 1.00, cloudy 0.00, amber 0.00, 5.2ms\n",
      "Speed: 1.3ms preprocess, 5.2ms inference, 0.0ms postprocess per image at shape (1, 3, 128, 128)\n",
      "\n",
      "0: 128x128 cloudy 0.51, clear 0.42, amber 0.07, 5.2ms\n",
      "Speed: 1.2ms preprocess, 5.2ms inference, 0.0ms postprocess per image at shape (1, 3, 128, 128)\n",
      "\n",
      "0: 128x128 cloudy 0.97, clear 0.03, amber 0.00, 5.1ms\n",
      "Speed: 1.3ms preprocess, 5.1ms inference, 0.0ms postprocess per image at shape (1, 3, 128, 128)\n",
      "\n",
      "0: 128x128 cloudy 0.99, clear 0.01, amber 0.00, 5.2ms\n",
      "Speed: 1.3ms preprocess, 5.2ms inference, 0.0ms postprocess per image at shape (1, 3, 128, 128)\n",
      "\n",
      "0: 128x128 cloudy 1.00, clear 0.00, amber 0.00, 5.3ms\n",
      "Speed: 1.4ms preprocess, 5.3ms inference, 0.0ms postprocess per image at shape (1, 3, 128, 128)\n",
      "\n",
      "0: 128x128 cloudy 1.00, clear 0.00, amber 0.00, 8.1ms\n",
      "Speed: 1.5ms preprocess, 8.1ms inference, 0.1ms postprocess per image at shape (1, 3, 128, 128)\n",
      "\n",
      "0: 128x128 cloudy 1.00, clear 0.00, amber 0.00, 7.4ms\n",
      "Speed: 1.9ms preprocess, 7.4ms inference, 0.1ms postprocess per image at shape (1, 3, 128, 128)\n",
      "\n",
      "0: 128x128 cloudy 0.95, clear 0.04, amber 0.01, 5.6ms\n",
      "Speed: 1.6ms preprocess, 5.6ms inference, 0.1ms postprocess per image at shape (1, 3, 128, 128)\n",
      "\n",
      "0: 128x128 cloudy 1.00, clear 0.00, amber 0.00, 5.5ms\n",
      "Speed: 1.6ms preprocess, 5.5ms inference, 0.0ms postprocess per image at shape (1, 3, 128, 128)\n",
      "\n",
      "0: 128x128 cloudy 1.00, clear 0.00, amber 0.00, 5.7ms\n",
      "Speed: 1.7ms preprocess, 5.7ms inference, 0.0ms postprocess per image at shape (1, 3, 128, 128)\n",
      "\n",
      "0: 128x128 amber 0.66, cloudy 0.26, clear 0.08, 5.5ms\n",
      "Speed: 1.6ms preprocess, 5.5ms inference, 0.0ms postprocess per image at shape (1, 3, 128, 128)\n",
      "\n",
      "0: 128x128 cloudy 1.00, clear 0.00, amber 0.00, 5.9ms\n",
      "Speed: 1.5ms preprocess, 5.9ms inference, 0.0ms postprocess per image at shape (1, 3, 128, 128)\n",
      "\n",
      "0: 128x128 cloudy 0.57, clear 0.42, amber 0.01, 5.7ms\n",
      "Speed: 1.6ms preprocess, 5.7ms inference, 0.0ms postprocess per image at shape (1, 3, 128, 128)\n",
      "\n",
      "0: 128x128 cloudy 0.96, clear 0.03, amber 0.01, 7.7ms\n",
      "Speed: 2.3ms preprocess, 7.7ms inference, 0.1ms postprocess per image at shape (1, 3, 128, 128)\n",
      "\n",
      "0: 128x128 cloudy 1.00, clear 0.00, amber 0.00, 7.0ms\n",
      "Speed: 2.1ms preprocess, 7.0ms inference, 0.1ms postprocess per image at shape (1, 3, 128, 128)\n",
      "\n",
      "0: 128x128 amber 0.75, cloudy 0.17, clear 0.08, 5.9ms\n",
      "Speed: 1.4ms preprocess, 5.9ms inference, 0.1ms postprocess per image at shape (1, 3, 128, 128)\n",
      "\n",
      "0: 128x128 cloudy 1.00, clear 0.00, amber 0.00, 5.9ms\n",
      "Speed: 1.3ms preprocess, 5.9ms inference, 0.0ms postprocess per image at shape (1, 3, 128, 128)\n",
      "\n",
      "0: 128x128 cloudy 1.00, clear 0.00, amber 0.00, 5.4ms\n",
      "Speed: 1.3ms preprocess, 5.4ms inference, 0.0ms postprocess per image at shape (1, 3, 128, 128)\n",
      "\n",
      "0: 128x128 cloudy 0.99, amber 0.01, clear 0.00, 5.3ms\n",
      "Speed: 1.3ms preprocess, 5.3ms inference, 0.0ms postprocess per image at shape (1, 3, 128, 128)\n",
      "\n",
      "0: 128x128 cloudy 1.00, clear 0.00, amber 0.00, 5.4ms\n",
      "Speed: 1.4ms preprocess, 5.4ms inference, 0.1ms postprocess per image at shape (1, 3, 128, 128)\n",
      "\n",
      "0: 128x128 cloudy 1.00, clear 0.00, amber 0.00, 5.7ms\n",
      "Speed: 1.4ms preprocess, 5.7ms inference, 0.1ms postprocess per image at shape (1, 3, 128, 128)\n",
      "\n",
      "0: 128x128 cloudy 1.00, amber 0.00, clear 0.00, 6.9ms\n",
      "Speed: 1.8ms preprocess, 6.9ms inference, 0.1ms postprocess per image at shape (1, 3, 128, 128)\n",
      "\n",
      "0: 128x128 cloudy 1.00, clear 0.00, amber 0.00, 7.2ms\n",
      "Speed: 1.9ms preprocess, 7.2ms inference, 0.1ms postprocess per image at shape (1, 3, 128, 128)\n",
      "\n",
      "0: 128x128 cloudy 0.87, amber 0.12, clear 0.01, 5.9ms\n",
      "Speed: 1.9ms preprocess, 5.9ms inference, 0.1ms postprocess per image at shape (1, 3, 128, 128)\n",
      "\n",
      "0: 128x128 cloudy 1.00, amber 0.00, clear 0.00, 5.8ms\n",
      "Speed: 1.8ms preprocess, 5.8ms inference, 0.1ms postprocess per image at shape (1, 3, 128, 128)\n",
      "\n",
      "0: 128x128 cloudy 1.00, clear 0.00, amber 0.00, 6.6ms\n",
      "Speed: 1.6ms preprocess, 6.6ms inference, 0.1ms postprocess per image at shape (1, 3, 128, 128)\n",
      "\n",
      "0: 128x128 cloudy 0.99, clear 0.01, amber 0.00, 5.9ms\n",
      "Speed: 1.7ms preprocess, 5.9ms inference, 0.1ms postprocess per image at shape (1, 3, 128, 128)\n",
      "\n",
      "0: 128x128 cloudy 1.00, clear 0.00, amber 0.00, 6.5ms\n",
      "Speed: 1.5ms preprocess, 6.5ms inference, 0.1ms postprocess per image at shape (1, 3, 128, 128)\n",
      "\n",
      "0: 128x128 cloudy 1.00, clear 0.00, amber 0.00, 7.8ms\n",
      "Speed: 1.7ms preprocess, 7.8ms inference, 0.1ms postprocess per image at shape (1, 3, 128, 128)\n",
      "\n",
      "0: 128x128 cloudy 1.00, clear 0.00, amber 0.00, 6.5ms\n",
      "Speed: 2.0ms preprocess, 6.5ms inference, 0.1ms postprocess per image at shape (1, 3, 128, 128)\n",
      "\n",
      "0: 128x128 cloudy 1.00, clear 0.00, amber 0.00, 7.6ms\n",
      "Speed: 2.2ms preprocess, 7.6ms inference, 0.1ms postprocess per image at shape (1, 3, 128, 128)\n",
      "\n",
      "0: 128x128 clear 0.81, cloudy 0.17, amber 0.02, 7.4ms\n",
      "Speed: 2.1ms preprocess, 7.4ms inference, 0.1ms postprocess per image at shape (1, 3, 128, 128)\n",
      "\n",
      "0: 128x128 cloudy 0.98, amber 0.02, clear 0.01, 7.3ms\n",
      "Speed: 1.8ms preprocess, 7.3ms inference, 0.1ms postprocess per image at shape (1, 3, 128, 128)\n",
      "\n",
      "0: 128x128 cloudy 1.00, clear 0.00, amber 0.00, 7.7ms\n",
      "Speed: 2.3ms preprocess, 7.7ms inference, 0.1ms postprocess per image at shape (1, 3, 128, 128)\n",
      "\n",
      "0: 128x128 cloudy 0.89, clear 0.10, amber 0.02, 7.4ms\n",
      "Speed: 2.1ms preprocess, 7.4ms inference, 0.1ms postprocess per image at shape (1, 3, 128, 128)\n",
      "\n",
      "0: 128x128 cloudy 0.55, clear 0.43, amber 0.01, 7.6ms\n",
      "Speed: 2.1ms preprocess, 7.6ms inference, 0.1ms postprocess per image at shape (1, 3, 128, 128)\n",
      "\n",
      "0: 128x128 cloudy 0.94, clear 0.05, amber 0.00, 6.2ms\n",
      "Speed: 1.7ms preprocess, 6.2ms inference, 0.1ms postprocess per image at shape (1, 3, 128, 128)\n",
      "\n",
      "0: 128x128 cloudy 0.93, amber 0.06, clear 0.01, 5.5ms\n",
      "Speed: 1.5ms preprocess, 5.5ms inference, 0.0ms postprocess per image at shape (1, 3, 128, 128)\n",
      "\n",
      "0: 128x128 cloudy 1.00, clear 0.00, amber 0.00, 6.9ms\n",
      "Speed: 1.4ms preprocess, 6.9ms inference, 0.1ms postprocess per image at shape (1, 3, 128, 128)\n",
      "\n",
      "0: 128x128 cloudy 1.00, clear 0.00, amber 0.00, 7.2ms\n",
      "Speed: 1.8ms preprocess, 7.2ms inference, 0.1ms postprocess per image at shape (1, 3, 128, 128)\n",
      "\n",
      "0: 128x128 cloudy 1.00, clear 0.00, amber 0.00, 7.1ms\n",
      "Speed: 2.0ms preprocess, 7.1ms inference, 0.1ms postprocess per image at shape (1, 3, 128, 128)\n",
      "\n",
      "0: 128x128 cloudy 1.00, clear 0.00, amber 0.00, 6.1ms\n",
      "Speed: 1.5ms preprocess, 6.1ms inference, 0.1ms postprocess per image at shape (1, 3, 128, 128)\n",
      "\n",
      "0: 128x128 clear 0.68, cloudy 0.31, amber 0.00, 7.6ms\n",
      "Speed: 1.9ms preprocess, 7.6ms inference, 0.1ms postprocess per image at shape (1, 3, 128, 128)\n",
      "\n",
      "0: 128x128 cloudy 0.99, clear 0.01, amber 0.01, 7.1ms\n",
      "Speed: 2.1ms preprocess, 7.1ms inference, 0.1ms postprocess per image at shape (1, 3, 128, 128)\n",
      "\n",
      "0: 128x128 cloudy 1.00, clear 0.00, amber 0.00, 7.3ms\n",
      "Speed: 2.1ms preprocess, 7.3ms inference, 0.1ms postprocess per image at shape (1, 3, 128, 128)\n",
      "\n",
      "0: 128x128 cloudy 1.00, clear 0.00, amber 0.00, 7.2ms\n",
      "Speed: 2.0ms preprocess, 7.2ms inference, 0.1ms postprocess per image at shape (1, 3, 128, 128)\n",
      "\n",
      "0: 128x128 cloudy 1.00, clear 0.00, amber 0.00, 7.3ms\n",
      "Speed: 2.1ms preprocess, 7.3ms inference, 0.1ms postprocess per image at shape (1, 3, 128, 128)\n",
      "\n",
      "0: 128x128 cloudy 1.00, clear 0.00, amber 0.00, 7.4ms\n",
      "Speed: 1.9ms preprocess, 7.4ms inference, 0.1ms postprocess per image at shape (1, 3, 128, 128)\n",
      "\n",
      "0: 128x128 cloudy 0.99, clear 0.01, amber 0.00, 7.3ms\n",
      "Speed: 2.0ms preprocess, 7.3ms inference, 0.1ms postprocess per image at shape (1, 3, 128, 128)\n",
      "\n",
      "0: 128x128 cloudy 0.99, clear 0.01, amber 0.00, 8.0ms\n",
      "Speed: 2.1ms preprocess, 8.0ms inference, 0.0ms postprocess per image at shape (1, 3, 128, 128)\n",
      "\n",
      "0: 128x128 cloudy 0.97, clear 0.02, amber 0.01, 7.4ms\n",
      "Speed: 2.1ms preprocess, 7.4ms inference, 0.0ms postprocess per image at shape (1, 3, 128, 128)\n",
      "\n",
      "0: 128x128 cloudy 1.00, amber 0.00, clear 0.00, 5.6ms\n",
      "Speed: 1.6ms preprocess, 5.6ms inference, 0.0ms postprocess per image at shape (1, 3, 128, 128)\n",
      "\n",
      "0: 128x128 cloudy 1.00, clear 0.00, amber 0.00, 5.7ms\n",
      "Speed: 1.5ms preprocess, 5.7ms inference, 0.1ms postprocess per image at shape (1, 3, 128, 128)\n",
      "Training YOLOv8 XLarge model...\n",
      "Ultralytics 8.3.56 🚀 Python-3.9.19 torch-2.3.1+cu121 CUDA:0 (NVIDIA GeForce RTX 3090, 24253MiB)\n",
      "\u001b[34m\u001b[1mengine/trainer: \u001b[0mtask=classify, mode=train, model=/home/etaylor/code_projects/thesis/checkpoints/trichome_image_classification/yolo/yolov8x-cls.pt, data=/home/etaylor/code_projects/thesis/classification_datasets/trichome_classification/extracted_trichomes_images/balanced_good_quality, epochs=10, time=None, patience=100, batch=16, imgsz=128, save=True, save_period=-1, cache=False, device=None, workers=8, project=None, name=train337, exist_ok=False, pretrained=True, optimizer=auto, verbose=True, seed=0, deterministic=True, single_cls=False, rect=False, cos_lr=False, close_mosaic=10, resume=False, amp=True, fraction=1.0, profile=False, freeze=None, multi_scale=False, overlap_mask=True, mask_ratio=4, dropout=0.0, val=True, split=val, save_json=False, save_hybrid=False, conf=None, iou=0.7, max_det=300, half=False, dnn=False, plots=True, source=None, vid_stride=1, stream_buffer=False, visualize=False, augment=False, agnostic_nms=False, classes=None, retina_masks=False, embed=None, show=False, save_frames=False, save_txt=False, save_conf=False, save_crop=False, show_labels=True, show_conf=True, show_boxes=True, line_width=None, format=torchscript, keras=False, optimize=False, int8=False, dynamic=False, simplify=True, opset=None, workspace=None, nms=False, lr0=0.01, lrf=0.01, momentum=0.937, weight_decay=0.0005, warmup_epochs=3.0, warmup_momentum=0.8, warmup_bias_lr=0.1, box=7.5, cls=0.5, dfl=1.5, pose=12.0, kobj=1.0, nbs=64, hsv_h=0.015, hsv_s=0.7, hsv_v=0.4, degrees=0.0, translate=0.1, scale=0.5, shear=0.0, perspective=0.0, flipud=0.0, fliplr=0.5, bgr=0.0, mosaic=1.0, mixup=0.0, copy_paste=0.0, copy_paste_mode=flip, auto_augment=randaugment, erasing=0.4, crop_fraction=1.0, cfg=None, tracker=botsort.yaml, save_dir=/home/etaylor/runs/classify/train337\n",
      "\u001b[34m\u001b[1mtrain:\u001b[0m /sise/home/etaylor/code_projects/thesis/classification_datasets/trichome_classification/extracted_trichomes_images/balanced_good_quality/train... found 462 images in 3 classes ✅ \n",
      "\u001b[34m\u001b[1mval:\u001b[0m /sise/home/etaylor/code_projects/thesis/classification_datasets/trichome_classification/extracted_trichomes_images/balanced_good_quality/val... found 156 images in 3 classes ✅ \n",
      "\u001b[34m\u001b[1mtest:\u001b[0m None...\n",
      "Overriding model.yaml nc=1000 with nc=3\n",
      "\n",
      "                   from  n    params  module                                       arguments                     \n",
      "  0                  -1  1      2320  ultralytics.nn.modules.conv.Conv             [3, 80, 3, 2]                 \n",
      "  1                  -1  1    115520  ultralytics.nn.modules.conv.Conv             [80, 160, 3, 2]               \n",
      "  2                  -1  3    436800  ultralytics.nn.modules.block.C2f             [160, 160, 3, True]           \n",
      "  3                  -1  1    461440  ultralytics.nn.modules.conv.Conv             [160, 320, 3, 2]              \n",
      "  4                  -1  6   3281920  ultralytics.nn.modules.block.C2f             [320, 320, 6, True]           \n",
      "  5                  -1  1   1844480  ultralytics.nn.modules.conv.Conv             [320, 640, 3, 2]              \n",
      "  6                  -1  6  13117440  ultralytics.nn.modules.block.C2f             [640, 640, 6, True]           \n",
      "  7                  -1  1   7375360  ultralytics.nn.modules.conv.Conv             [640, 1280, 3, 2]             \n",
      "  8                  -1  3  27865600  ultralytics.nn.modules.block.C2f             [1280, 1280, 3, True]         \n",
      "  9                  -1  1   1644803  ultralytics.nn.modules.head.Classify         [1280, 3]                     \n",
      "YOLOv8x-cls summary: 183 layers, 56,145,683 parameters, 56,145,683 gradients, 154.3 GFLOPs\n",
      "Transferred 300/302 items from pretrained weights\n",
      "\u001b[34m\u001b[1mTensorBoard: \u001b[0mStart with 'tensorboard --logdir /home/etaylor/runs/classify/train337', view at http://localhost:6006/\n",
      "\u001b[34m\u001b[1mAMP: \u001b[0mrunning Automatic Mixed Precision (AMP) checks...\n",
      "\u001b[34m\u001b[1mAMP: \u001b[0mchecks passed ✅\n"
     ]
    },
    {
     "name": "stderr",
     "output_type": "stream",
     "text": [
      "\u001b[34m\u001b[1mtrain: \u001b[0mScanning /sise/home/etaylor/code_projects/thesis/classification_datasets/trichome_classification/extracted_trichomes_images/balanced_good_quality/train... 462 images, 0 corrupt: 100%|██████████| 462/462 [00:00<?, ?it/s]\n",
      "/home/etaylor/.conda/envs/detectron_fastai/lib/python3.9/site-packages/torch/utils/data/dataloader.py:558: UserWarning: This DataLoader will create 8 worker processes in total. Our suggested max number of worker in current system is 6, which is smaller than what this DataLoader is going to create. Please be aware that excessive worker creation might get DataLoader running slow or even freeze, lower the worker number to avoid potential slowness/freeze if necessary.\n",
      "  warnings.warn(_create_warning_msg(\n",
      "\u001b[34m\u001b[1mval: \u001b[0mScanning /sise/home/etaylor/code_projects/thesis/classification_datasets/trichome_classification/extracted_trichomes_images/balanced_good_quality/val... 156 images, 0 corrupt: 100%|██████████| 156/156 [00:00<?, ?it/s]\n"
     ]
    },
    {
     "name": "stdout",
     "output_type": "stream",
     "text": [
      "\u001b[34m\u001b[1moptimizer:\u001b[0m 'optimizer=auto' found, ignoring 'lr0=0.01' and 'momentum=0.937' and determining best 'optimizer', 'lr0' and 'momentum' automatically... \n",
      "\u001b[34m\u001b[1moptimizer:\u001b[0m AdamW(lr=0.000714, momentum=0.9) with parameter groups 50 weight(decay=0.0), 51 weight(decay=0.0005), 51 bias(decay=0.0)\n",
      "\u001b[34m\u001b[1mTensorBoard: \u001b[0mmodel graph visualization added ✅\n",
      "Image sizes 128 train, 128 val\n",
      "Using 8 dataloader workers\n",
      "Logging results to \u001b[1m/home/etaylor/runs/classify/train337\u001b[0m\n",
      "Starting training for 10 epochs...\n"
     ]
    },
    {
     "name": "stderr",
     "output_type": "stream",
     "text": [
      "/home/etaylor/.conda/envs/detectron_fastai/lib/python3.9/site-packages/torch/utils/data/dataloader.py:558: UserWarning: This DataLoader will create 8 worker processes in total. Our suggested max number of worker in current system is 6, which is smaller than what this DataLoader is going to create. Please be aware that excessive worker creation might get DataLoader running slow or even freeze, lower the worker number to avoid potential slowness/freeze if necessary.\n",
      "  warnings.warn(_create_warning_msg(\n"
     ]
    },
    {
     "name": "stdout",
     "output_type": "stream",
     "text": [
      "\n",
      "      Epoch    GPU_mem       loss  Instances       Size\n"
     ]
    },
    {
     "name": "stderr",
     "output_type": "stream",
     "text": [
      "       1/10      2.97G       1.05         14        128: 100%|██████████| 29/29 [00:02<00:00, 13.55it/s]\n",
      "               classes   top1_acc   top5_acc: 100%|██████████| 5/5 [00:00<00:00, 21.62it/s]"
     ]
    },
    {
     "name": "stdout",
     "output_type": "stream",
     "text": [
      "                   all      0.718          1\n"
     ]
    },
    {
     "name": "stderr",
     "output_type": "stream",
     "text": [
      "\n"
     ]
    },
    {
     "name": "stdout",
     "output_type": "stream",
     "text": [
      "\n",
      "      Epoch    GPU_mem       loss  Instances       Size\n"
     ]
    },
    {
     "name": "stderr",
     "output_type": "stream",
     "text": [
      "       2/10      2.77G     0.6739         14        128: 100%|██████████| 29/29 [00:01<00:00, 21.80it/s]\n",
      "               classes   top1_acc   top5_acc: 100%|██████████| 5/5 [00:00<00:00, 86.43it/s]"
     ]
    },
    {
     "name": "stdout",
     "output_type": "stream",
     "text": [
      "                   all      0.891          1\n"
     ]
    },
    {
     "name": "stderr",
     "output_type": "stream",
     "text": [
      "\n"
     ]
    },
    {
     "name": "stdout",
     "output_type": "stream",
     "text": [
      "\n",
      "      Epoch    GPU_mem       loss  Instances       Size\n"
     ]
    },
    {
     "name": "stderr",
     "output_type": "stream",
     "text": [
      "       3/10      2.75G     0.3512         14        128: 100%|██████████| 29/29 [00:01<00:00, 23.29it/s]\n",
      "               classes   top1_acc   top5_acc: 100%|██████████| 5/5 [00:00<00:00, 62.54it/s]\n"
     ]
    },
    {
     "name": "stdout",
     "output_type": "stream",
     "text": [
      "                   all      0.929          1\n",
      "\n",
      "      Epoch    GPU_mem       loss  Instances       Size\n"
     ]
    },
    {
     "name": "stderr",
     "output_type": "stream",
     "text": [
      "       4/10      2.73G     0.2134         14        128: 100%|██████████| 29/29 [00:01<00:00, 25.18it/s]\n",
      "               classes   top1_acc   top5_acc: 100%|██████████| 5/5 [00:00<00:00, 81.59it/s]\n"
     ]
    },
    {
     "name": "stdout",
     "output_type": "stream",
     "text": [
      "                   all      0.929          1\n",
      "\n",
      "      Epoch    GPU_mem       loss  Instances       Size\n"
     ]
    },
    {
     "name": "stderr",
     "output_type": "stream",
     "text": [
      "       5/10      2.72G     0.2334         14        128: 100%|██████████| 29/29 [00:01<00:00, 26.04it/s]\n",
      "               classes   top1_acc   top5_acc: 100%|██████████| 5/5 [00:00<00:00, 80.55it/s]"
     ]
    },
    {
     "name": "stdout",
     "output_type": "stream",
     "text": [
      "                   all      0.936          1\n"
     ]
    },
    {
     "name": "stderr",
     "output_type": "stream",
     "text": [
      "\n"
     ]
    },
    {
     "name": "stdout",
     "output_type": "stream",
     "text": [
      "\n",
      "      Epoch    GPU_mem       loss  Instances       Size\n"
     ]
    },
    {
     "name": "stderr",
     "output_type": "stream",
     "text": [
      "       6/10       2.7G      0.191         14        128: 100%|██████████| 29/29 [00:01<00:00, 24.79it/s]\n",
      "               classes   top1_acc   top5_acc: 100%|██████████| 5/5 [00:00<00:00, 88.69it/s]"
     ]
    },
    {
     "name": "stdout",
     "output_type": "stream",
     "text": [
      "                   all      0.962          1\n"
     ]
    },
    {
     "name": "stderr",
     "output_type": "stream",
     "text": [
      "\n"
     ]
    },
    {
     "name": "stdout",
     "output_type": "stream",
     "text": [
      "\n",
      "      Epoch    GPU_mem       loss  Instances       Size\n"
     ]
    },
    {
     "name": "stderr",
     "output_type": "stream",
     "text": [
      "       7/10      2.71G     0.1731         14        128: 100%|██████████| 29/29 [00:01<00:00, 23.52it/s]\n",
      "               classes   top1_acc   top5_acc: 100%|██████████| 5/5 [00:00<00:00, 65.34it/s]"
     ]
    },
    {
     "name": "stdout",
     "output_type": "stream",
     "text": [
      "                   all      0.962          1\n"
     ]
    },
    {
     "name": "stderr",
     "output_type": "stream",
     "text": [
      "\n"
     ]
    },
    {
     "name": "stdout",
     "output_type": "stream",
     "text": [
      "\n",
      "      Epoch    GPU_mem       loss  Instances       Size\n"
     ]
    },
    {
     "name": "stderr",
     "output_type": "stream",
     "text": [
      "       8/10      2.71G     0.1269         14        128: 100%|██████████| 29/29 [00:01<00:00, 24.16it/s]\n",
      "               classes   top1_acc   top5_acc: 100%|██████████| 5/5 [00:00<00:00, 73.60it/s]"
     ]
    },
    {
     "name": "stdout",
     "output_type": "stream",
     "text": [
      "                   all      0.968          1\n"
     ]
    },
    {
     "name": "stderr",
     "output_type": "stream",
     "text": [
      "\n"
     ]
    },
    {
     "name": "stdout",
     "output_type": "stream",
     "text": [
      "\n",
      "      Epoch    GPU_mem       loss  Instances       Size\n"
     ]
    },
    {
     "name": "stderr",
     "output_type": "stream",
     "text": [
      "       9/10       2.7G     0.1164         14        128: 100%|██████████| 29/29 [00:01<00:00, 23.66it/s]\n",
      "               classes   top1_acc   top5_acc: 100%|██████████| 5/5 [00:00<00:00, 69.27it/s]"
     ]
    },
    {
     "name": "stdout",
     "output_type": "stream",
     "text": [
      "                   all      0.962          1\n"
     ]
    },
    {
     "name": "stderr",
     "output_type": "stream",
     "text": [
      "\n"
     ]
    },
    {
     "name": "stdout",
     "output_type": "stream",
     "text": [
      "\n",
      "      Epoch    GPU_mem       loss  Instances       Size\n"
     ]
    },
    {
     "name": "stderr",
     "output_type": "stream",
     "text": [
      "      10/10       2.7G     0.1327         14        128: 100%|██████████| 29/29 [00:01<00:00, 24.37it/s]\n",
      "               classes   top1_acc   top5_acc: 100%|██████████| 5/5 [00:00<00:00, 76.47it/s]"
     ]
    },
    {
     "name": "stdout",
     "output_type": "stream",
     "text": [
      "                   all      0.962          1\n"
     ]
    },
    {
     "name": "stderr",
     "output_type": "stream",
     "text": [
      "\n"
     ]
    },
    {
     "name": "stdout",
     "output_type": "stream",
     "text": [
      "\n",
      "10 epochs completed in 0.032 hours.\n",
      "Optimizer stripped from /home/etaylor/runs/classify/train337/weights/last.pt, 112.5MB\n",
      "Optimizer stripped from /home/etaylor/runs/classify/train337/weights/best.pt, 112.5MB\n",
      "\n",
      "Validating /home/etaylor/runs/classify/train337/weights/best.pt...\n",
      "Ultralytics 8.3.56 🚀 Python-3.9.19 torch-2.3.1+cu121 CUDA:0 (NVIDIA GeForce RTX 3090, 24253MiB)\n",
      "YOLOv8x-cls summary (fused): 133 layers, 56,127,043 parameters, 0 gradients, 153.8 GFLOPs\n",
      "\u001b[34m\u001b[1mtrain:\u001b[0m /sise/home/etaylor/code_projects/thesis/classification_datasets/trichome_classification/extracted_trichomes_images/balanced_good_quality/train... found 462 images in 3 classes ✅ \n",
      "\u001b[34m\u001b[1mval:\u001b[0m /sise/home/etaylor/code_projects/thesis/classification_datasets/trichome_classification/extracted_trichomes_images/balanced_good_quality/val... found 156 images in 3 classes ✅ \n",
      "\u001b[34m\u001b[1mtest:\u001b[0m None...\n"
     ]
    },
    {
     "name": "stderr",
     "output_type": "stream",
     "text": [
      "               classes   top1_acc   top5_acc: 100%|██████████| 5/5 [00:00<00:00, 27.19it/s]\n"
     ]
    },
    {
     "name": "stdout",
     "output_type": "stream",
     "text": [
      "                   all      0.968          1\n",
      "Speed: 0.0ms preprocess, 1.0ms inference, 0.0ms loss, 0.0ms postprocess per image\n",
      "Results saved to \u001b[1m/home/etaylor/runs/classify/train337\u001b[0m\n",
      "Evaluating YOLOv8 XLarge model...\n",
      "\n",
      "0: 128x128 amber 1.00, cloudy 0.00, clear 0.00, 5.1ms\n",
      "Speed: 1.5ms preprocess, 5.1ms inference, 0.1ms postprocess per image at shape (1, 3, 128, 128)\n",
      "\n",
      "0: 128x128 amber 0.96, cloudy 0.02, clear 0.02, 5.1ms\n",
      "Speed: 1.3ms preprocess, 5.1ms inference, 0.0ms postprocess per image at shape (1, 3, 128, 128)\n",
      "\n",
      "0: 128x128 amber 1.00, clear 0.00, cloudy 0.00, 5.1ms\n",
      "Speed: 1.3ms preprocess, 5.1ms inference, 0.0ms postprocess per image at shape (1, 3, 128, 128)\n",
      "\n",
      "0: 128x128 amber 1.00, cloudy 0.00, clear 0.00, 5.1ms\n",
      "Speed: 1.3ms preprocess, 5.1ms inference, 0.0ms postprocess per image at shape (1, 3, 128, 128)\n",
      "\n",
      "0: 128x128 amber 1.00, cloudy 0.00, clear 0.00, 5.1ms\n",
      "Speed: 1.2ms preprocess, 5.1ms inference, 0.0ms postprocess per image at shape (1, 3, 128, 128)\n",
      "\n",
      "0: 128x128 amber 0.89, clear 0.10, cloudy 0.01, 5.3ms\n",
      "Speed: 1.3ms preprocess, 5.3ms inference, 0.0ms postprocess per image at shape (1, 3, 128, 128)\n",
      "\n",
      "0: 128x128 amber 1.00, clear 0.00, cloudy 0.00, 5.2ms\n",
      "Speed: 1.3ms preprocess, 5.2ms inference, 0.0ms postprocess per image at shape (1, 3, 128, 128)\n",
      "\n",
      "0: 128x128 amber 0.98, cloudy 0.01, clear 0.00, 5.2ms\n",
      "Speed: 1.1ms preprocess, 5.2ms inference, 0.0ms postprocess per image at shape (1, 3, 128, 128)\n",
      "\n",
      "0: 128x128 amber 0.99, cloudy 0.01, clear 0.00, 5.1ms\n",
      "Speed: 1.3ms preprocess, 5.1ms inference, 0.0ms postprocess per image at shape (1, 3, 128, 128)\n",
      "\n",
      "0: 128x128 amber 1.00, clear 0.00, cloudy 0.00, 5.2ms\n",
      "Speed: 1.2ms preprocess, 5.2ms inference, 0.0ms postprocess per image at shape (1, 3, 128, 128)\n",
      "\n",
      "0: 128x128 amber 1.00, cloudy 0.00, clear 0.00, 5.1ms\n",
      "Speed: 1.3ms preprocess, 5.1ms inference, 0.0ms postprocess per image at shape (1, 3, 128, 128)\n",
      "\n",
      "0: 128x128 amber 0.99, cloudy 0.00, clear 0.00, 5.1ms\n",
      "Speed: 1.3ms preprocess, 5.1ms inference, 0.0ms postprocess per image at shape (1, 3, 128, 128)\n",
      "\n",
      "0: 128x128 amber 0.95, cloudy 0.04, clear 0.01, 5.1ms\n",
      "Speed: 1.3ms preprocess, 5.1ms inference, 0.0ms postprocess per image at shape (1, 3, 128, 128)\n",
      "\n",
      "0: 128x128 amber 0.98, cloudy 0.02, clear 0.00, 5.1ms\n",
      "Speed: 1.3ms preprocess, 5.1ms inference, 0.0ms postprocess per image at shape (1, 3, 128, 128)\n",
      "\n",
      "0: 128x128 amber 0.90, cloudy 0.07, clear 0.04, 5.1ms\n",
      "Speed: 1.3ms preprocess, 5.1ms inference, 0.0ms postprocess per image at shape (1, 3, 128, 128)\n",
      "\n",
      "0: 128x128 amber 1.00, clear 0.00, cloudy 0.00, 5.1ms\n",
      "Speed: 1.1ms preprocess, 5.1ms inference, 0.0ms postprocess per image at shape (1, 3, 128, 128)\n",
      "\n",
      "0: 128x128 amber 1.00, clear 0.00, cloudy 0.00, 5.1ms\n",
      "Speed: 1.1ms preprocess, 5.1ms inference, 0.0ms postprocess per image at shape (1, 3, 128, 128)\n",
      "\n",
      "0: 128x128 amber 0.88, cloudy 0.12, clear 0.00, 5.1ms\n",
      "Speed: 1.3ms preprocess, 5.1ms inference, 0.0ms postprocess per image at shape (1, 3, 128, 128)\n",
      "\n",
      "0: 128x128 amber 0.99, clear 0.01, cloudy 0.00, 5.1ms\n",
      "Speed: 1.3ms preprocess, 5.1ms inference, 0.0ms postprocess per image at shape (1, 3, 128, 128)\n",
      "\n",
      "0: 128x128 amber 1.00, cloudy 0.00, clear 0.00, 5.2ms\n",
      "Speed: 1.1ms preprocess, 5.2ms inference, 0.0ms postprocess per image at shape (1, 3, 128, 128)\n",
      "\n",
      "0: 128x128 amber 1.00, cloudy 0.00, clear 0.00, 5.2ms\n",
      "Speed: 1.1ms preprocess, 5.2ms inference, 0.0ms postprocess per image at shape (1, 3, 128, 128)\n",
      "\n",
      "0: 128x128 amber 1.00, cloudy 0.00, clear 0.00, 5.2ms\n",
      "Speed: 1.1ms preprocess, 5.2ms inference, 0.0ms postprocess per image at shape (1, 3, 128, 128)\n",
      "\n",
      "0: 128x128 amber 0.99, cloudy 0.00, clear 0.00, 5.1ms\n",
      "Speed: 1.1ms preprocess, 5.1ms inference, 0.0ms postprocess per image at shape (1, 3, 128, 128)\n",
      "\n",
      "0: 128x128 amber 0.96, cloudy 0.02, clear 0.02, 5.1ms\n",
      "Speed: 1.1ms preprocess, 5.1ms inference, 0.0ms postprocess per image at shape (1, 3, 128, 128)\n",
      "\n",
      "0: 128x128 amber 0.99, cloudy 0.00, clear 0.00, 5.2ms\n",
      "Speed: 1.3ms preprocess, 5.2ms inference, 0.0ms postprocess per image at shape (1, 3, 128, 128)\n",
      "\n",
      "0: 128x128 amber 1.00, clear 0.00, cloudy 0.00, 5.1ms\n",
      "Speed: 1.1ms preprocess, 5.1ms inference, 0.0ms postprocess per image at shape (1, 3, 128, 128)\n",
      "\n",
      "0: 128x128 amber 0.99, cloudy 0.01, clear 0.00, 5.2ms\n",
      "Speed: 1.1ms preprocess, 5.2ms inference, 0.0ms postprocess per image at shape (1, 3, 128, 128)\n",
      "\n",
      "0: 128x128 amber 1.00, clear 0.00, cloudy 0.00, 5.1ms\n",
      "Speed: 1.2ms preprocess, 5.1ms inference, 0.0ms postprocess per image at shape (1, 3, 128, 128)\n",
      "\n",
      "0: 128x128 amber 0.98, clear 0.01, cloudy 0.01, 5.1ms\n",
      "Speed: 1.1ms preprocess, 5.1ms inference, 0.0ms postprocess per image at shape (1, 3, 128, 128)\n",
      "\n",
      "0: 128x128 amber 0.99, cloudy 0.00, clear 0.00, 5.1ms\n",
      "Speed: 1.1ms preprocess, 5.1ms inference, 0.0ms postprocess per image at shape (1, 3, 128, 128)\n",
      "\n",
      "0: 128x128 amber 1.00, cloudy 0.00, clear 0.00, 5.2ms\n",
      "Speed: 1.1ms preprocess, 5.2ms inference, 0.0ms postprocess per image at shape (1, 3, 128, 128)\n",
      "\n",
      "0: 128x128 cloudy 0.78, amber 0.22, clear 0.00, 5.2ms\n",
      "Speed: 1.1ms preprocess, 5.2ms inference, 0.0ms postprocess per image at shape (1, 3, 128, 128)\n",
      "\n",
      "0: 128x128 amber 0.98, cloudy 0.01, clear 0.01, 5.2ms\n",
      "Speed: 1.3ms preprocess, 5.2ms inference, 0.0ms postprocess per image at shape (1, 3, 128, 128)\n",
      "\n",
      "0: 128x128 amber 0.99, cloudy 0.00, clear 0.00, 5.3ms\n",
      "Speed: 1.2ms preprocess, 5.3ms inference, 0.0ms postprocess per image at shape (1, 3, 128, 128)\n",
      "\n",
      "0: 128x128 amber 1.00, cloudy 0.00, clear 0.00, 5.2ms\n",
      "Speed: 1.1ms preprocess, 5.2ms inference, 0.0ms postprocess per image at shape (1, 3, 128, 128)\n",
      "\n",
      "0: 128x128 amber 1.00, cloudy 0.00, clear 0.00, 5.1ms\n",
      "Speed: 1.3ms preprocess, 5.1ms inference, 0.0ms postprocess per image at shape (1, 3, 128, 128)\n",
      "\n",
      "0: 128x128 amber 1.00, cloudy 0.00, clear 0.00, 5.2ms\n",
      "Speed: 1.1ms preprocess, 5.2ms inference, 0.0ms postprocess per image at shape (1, 3, 128, 128)\n",
      "\n",
      "0: 128x128 amber 0.98, cloudy 0.02, clear 0.00, 5.2ms\n",
      "Speed: 1.1ms preprocess, 5.2ms inference, 0.0ms postprocess per image at shape (1, 3, 128, 128)\n",
      "\n",
      "0: 128x128 amber 1.00, cloudy 0.00, clear 0.00, 5.1ms\n",
      "Speed: 1.3ms preprocess, 5.1ms inference, 0.0ms postprocess per image at shape (1, 3, 128, 128)\n",
      "\n",
      "0: 128x128 amber 1.00, cloudy 0.00, clear 0.00, 5.1ms\n",
      "Speed: 1.1ms preprocess, 5.1ms inference, 0.0ms postprocess per image at shape (1, 3, 128, 128)\n",
      "\n",
      "0: 128x128 amber 0.98, clear 0.01, cloudy 0.00, 5.2ms\n",
      "Speed: 1.1ms preprocess, 5.2ms inference, 0.0ms postprocess per image at shape (1, 3, 128, 128)\n",
      "\n",
      "0: 128x128 amber 0.95, cloudy 0.05, clear 0.01, 5.2ms\n",
      "Speed: 1.1ms preprocess, 5.2ms inference, 0.0ms postprocess per image at shape (1, 3, 128, 128)\n",
      "\n",
      "0: 128x128 amber 0.88, clear 0.10, cloudy 0.02, 5.2ms\n",
      "Speed: 1.1ms preprocess, 5.2ms inference, 0.0ms postprocess per image at shape (1, 3, 128, 128)\n",
      "\n",
      "0: 128x128 amber 1.00, cloudy 0.00, clear 0.00, 5.2ms\n",
      "Speed: 1.2ms preprocess, 5.2ms inference, 0.0ms postprocess per image at shape (1, 3, 128, 128)\n",
      "\n",
      "0: 128x128 amber 1.00, cloudy 0.00, clear 0.00, 5.2ms\n",
      "Speed: 1.2ms preprocess, 5.2ms inference, 0.0ms postprocess per image at shape (1, 3, 128, 128)\n",
      "\n",
      "0: 128x128 amber 0.99, clear 0.01, cloudy 0.00, 5.2ms\n",
      "Speed: 1.1ms preprocess, 5.2ms inference, 0.0ms postprocess per image at shape (1, 3, 128, 128)\n",
      "\n",
      "0: 128x128 amber 0.97, clear 0.02, cloudy 0.00, 5.3ms\n",
      "Speed: 1.3ms preprocess, 5.3ms inference, 0.1ms postprocess per image at shape (1, 3, 128, 128)\n",
      "\n",
      "0: 128x128 amber 1.00, cloudy 0.00, clear 0.00, 5.3ms\n",
      "Speed: 1.1ms preprocess, 5.3ms inference, 0.0ms postprocess per image at shape (1, 3, 128, 128)\n",
      "\n",
      "0: 128x128 amber 0.99, cloudy 0.01, clear 0.00, 5.2ms\n",
      "Speed: 1.1ms preprocess, 5.2ms inference, 0.1ms postprocess per image at shape (1, 3, 128, 128)\n",
      "\n",
      "0: 128x128 amber 1.00, cloudy 0.00, clear 0.00, 5.1ms\n",
      "Speed: 1.1ms preprocess, 5.1ms inference, 0.0ms postprocess per image at shape (1, 3, 128, 128)\n",
      "\n",
      "0: 128x128 amber 1.00, cloudy 0.00, clear 0.00, 5.2ms\n",
      "Speed: 1.1ms preprocess, 5.2ms inference, 0.0ms postprocess per image at shape (1, 3, 128, 128)\n",
      "\n",
      "0: 128x128 amber 0.87, cloudy 0.11, clear 0.02, 5.2ms\n",
      "Speed: 1.3ms preprocess, 5.2ms inference, 0.0ms postprocess per image at shape (1, 3, 128, 128)\n",
      "\n",
      "0: 128x128 clear 1.00, cloudy 0.00, amber 0.00, 5.2ms\n",
      "Speed: 1.1ms preprocess, 5.2ms inference, 0.0ms postprocess per image at shape (1, 3, 128, 128)\n",
      "\n",
      "0: 128x128 clear 0.96, amber 0.03, cloudy 0.01, 5.1ms\n",
      "Speed: 1.1ms preprocess, 5.1ms inference, 0.0ms postprocess per image at shape (1, 3, 128, 128)\n",
      "\n",
      "0: 128x128 clear 1.00, cloudy 0.00, amber 0.00, 5.2ms\n",
      "Speed: 1.3ms preprocess, 5.2ms inference, 0.0ms postprocess per image at shape (1, 3, 128, 128)\n",
      "\n",
      "0: 128x128 clear 1.00, cloudy 0.00, amber 0.00, 5.1ms\n",
      "Speed: 1.3ms preprocess, 5.1ms inference, 0.0ms postprocess per image at shape (1, 3, 128, 128)\n",
      "\n",
      "0: 128x128 clear 1.00, amber 0.00, cloudy 0.00, 5.1ms\n",
      "Speed: 1.1ms preprocess, 5.1ms inference, 0.0ms postprocess per image at shape (1, 3, 128, 128)\n",
      "\n",
      "0: 128x128 clear 0.99, amber 0.00, cloudy 0.00, 5.1ms\n",
      "Speed: 1.1ms preprocess, 5.1ms inference, 0.0ms postprocess per image at shape (1, 3, 128, 128)\n",
      "\n",
      "0: 128x128 clear 1.00, amber 0.00, cloudy 0.00, 5.1ms\n",
      "Speed: 1.3ms preprocess, 5.1ms inference, 0.0ms postprocess per image at shape (1, 3, 128, 128)\n",
      "\n",
      "0: 128x128 clear 0.91, cloudy 0.08, amber 0.01, 5.1ms\n",
      "Speed: 1.1ms preprocess, 5.1ms inference, 0.0ms postprocess per image at shape (1, 3, 128, 128)\n",
      "\n",
      "0: 128x128 clear 0.92, cloudy 0.08, amber 0.00, 5.1ms\n",
      "Speed: 1.1ms preprocess, 5.1ms inference, 0.0ms postprocess per image at shape (1, 3, 128, 128)\n",
      "\n",
      "0: 128x128 clear 1.00, amber 0.00, cloudy 0.00, 5.1ms\n",
      "Speed: 1.1ms preprocess, 5.1ms inference, 0.0ms postprocess per image at shape (1, 3, 128, 128)\n",
      "\n",
      "0: 128x128 clear 1.00, cloudy 0.00, amber 0.00, 5.2ms\n",
      "Speed: 1.1ms preprocess, 5.2ms inference, 0.0ms postprocess per image at shape (1, 3, 128, 128)\n",
      "\n",
      "0: 128x128 clear 0.96, amber 0.03, cloudy 0.01, 5.2ms\n",
      "Speed: 1.3ms preprocess, 5.2ms inference, 0.0ms postprocess per image at shape (1, 3, 128, 128)\n",
      "\n",
      "0: 128x128 clear 0.99, cloudy 0.01, amber 0.00, 5.2ms\n",
      "Speed: 1.1ms preprocess, 5.2ms inference, 0.0ms postprocess per image at shape (1, 3, 128, 128)\n",
      "\n",
      "0: 128x128 clear 1.00, amber 0.00, cloudy 0.00, 5.1ms\n",
      "Speed: 1.1ms preprocess, 5.1ms inference, 0.0ms postprocess per image at shape (1, 3, 128, 128)\n",
      "\n",
      "0: 128x128 clear 1.00, cloudy 0.00, amber 0.00, 5.1ms\n",
      "Speed: 1.1ms preprocess, 5.1ms inference, 0.0ms postprocess per image at shape (1, 3, 128, 128)\n",
      "\n",
      "0: 128x128 clear 1.00, cloudy 0.00, amber 0.00, 5.1ms\n",
      "Speed: 1.1ms preprocess, 5.1ms inference, 0.0ms postprocess per image at shape (1, 3, 128, 128)\n",
      "\n",
      "0: 128x128 clear 0.65, cloudy 0.28, amber 0.07, 5.1ms\n",
      "Speed: 1.1ms preprocess, 5.1ms inference, 0.0ms postprocess per image at shape (1, 3, 128, 128)\n",
      "\n",
      "0: 128x128 clear 1.00, amber 0.00, cloudy 0.00, 5.1ms\n",
      "Speed: 1.3ms preprocess, 5.1ms inference, 0.0ms postprocess per image at shape (1, 3, 128, 128)\n",
      "\n",
      "0: 128x128 clear 1.00, cloudy 0.00, amber 0.00, 5.2ms\n",
      "Speed: 1.2ms preprocess, 5.2ms inference, 0.0ms postprocess per image at shape (1, 3, 128, 128)\n",
      "\n",
      "0: 128x128 clear 1.00, amber 0.00, cloudy 0.00, 5.4ms\n",
      "Speed: 1.4ms preprocess, 5.4ms inference, 0.0ms postprocess per image at shape (1, 3, 128, 128)\n",
      "\n",
      "0: 128x128 clear 0.99, cloudy 0.01, amber 0.01, 5.2ms\n",
      "Speed: 1.3ms preprocess, 5.2ms inference, 0.0ms postprocess per image at shape (1, 3, 128, 128)\n",
      "\n",
      "0: 128x128 clear 1.00, cloudy 0.00, amber 0.00, 5.2ms\n",
      "Speed: 1.1ms preprocess, 5.2ms inference, 0.0ms postprocess per image at shape (1, 3, 128, 128)\n",
      "\n",
      "0: 128x128 clear 0.98, cloudy 0.02, amber 0.00, 5.2ms\n",
      "Speed: 1.2ms preprocess, 5.2ms inference, 0.0ms postprocess per image at shape (1, 3, 128, 128)\n",
      "\n",
      "0: 128x128 clear 0.84, cloudy 0.16, amber 0.00, 5.2ms\n",
      "Speed: 1.3ms preprocess, 5.2ms inference, 0.0ms postprocess per image at shape (1, 3, 128, 128)\n",
      "\n",
      "0: 128x128 clear 1.00, cloudy 0.00, amber 0.00, 5.1ms\n",
      "Speed: 1.3ms preprocess, 5.1ms inference, 0.0ms postprocess per image at shape (1, 3, 128, 128)\n",
      "\n",
      "0: 128x128 clear 1.00, cloudy 0.00, amber 0.00, 5.2ms\n",
      "Speed: 1.1ms preprocess, 5.2ms inference, 0.0ms postprocess per image at shape (1, 3, 128, 128)\n",
      "\n",
      "0: 128x128 cloudy 0.85, clear 0.14, amber 0.01, 5.2ms\n",
      "Speed: 1.1ms preprocess, 5.2ms inference, 0.0ms postprocess per image at shape (1, 3, 128, 128)\n",
      "\n",
      "0: 128x128 clear 0.63, cloudy 0.36, amber 0.01, 5.2ms\n",
      "Speed: 1.1ms preprocess, 5.2ms inference, 0.0ms postprocess per image at shape (1, 3, 128, 128)\n",
      "\n",
      "0: 128x128 clear 1.00, amber 0.00, cloudy 0.00, 5.2ms\n",
      "Speed: 1.1ms preprocess, 5.2ms inference, 0.0ms postprocess per image at shape (1, 3, 128, 128)\n",
      "\n",
      "0: 128x128 clear 1.00, cloudy 0.00, amber 0.00, 5.3ms\n",
      "Speed: 1.3ms preprocess, 5.3ms inference, 0.0ms postprocess per image at shape (1, 3, 128, 128)\n",
      "\n",
      "0: 128x128 clear 1.00, cloudy 0.00, amber 0.00, 5.3ms\n",
      "Speed: 1.1ms preprocess, 5.3ms inference, 0.0ms postprocess per image at shape (1, 3, 128, 128)\n",
      "\n",
      "0: 128x128 clear 0.81, cloudy 0.17, amber 0.01, 5.2ms\n",
      "Speed: 1.1ms preprocess, 5.2ms inference, 0.0ms postprocess per image at shape (1, 3, 128, 128)\n",
      "\n",
      "0: 128x128 clear 1.00, amber 0.00, cloudy 0.00, 5.3ms\n",
      "Speed: 1.1ms preprocess, 5.3ms inference, 0.0ms postprocess per image at shape (1, 3, 128, 128)\n",
      "\n",
      "0: 128x128 clear 1.00, cloudy 0.00, amber 0.00, 5.2ms\n",
      "Speed: 1.3ms preprocess, 5.2ms inference, 0.1ms postprocess per image at shape (1, 3, 128, 128)\n",
      "\n",
      "0: 128x128 clear 0.97, amber 0.02, cloudy 0.00, 5.2ms\n",
      "Speed: 1.1ms preprocess, 5.2ms inference, 0.0ms postprocess per image at shape (1, 3, 128, 128)\n",
      "\n",
      "0: 128x128 clear 1.00, amber 0.00, cloudy 0.00, 5.2ms\n",
      "Speed: 1.2ms preprocess, 5.2ms inference, 0.0ms postprocess per image at shape (1, 3, 128, 128)\n",
      "\n",
      "0: 128x128 clear 0.65, amber 0.31, cloudy 0.05, 5.3ms\n",
      "Speed: 1.2ms preprocess, 5.3ms inference, 0.0ms postprocess per image at shape (1, 3, 128, 128)\n",
      "\n",
      "0: 128x128 clear 1.00, cloudy 0.00, amber 0.00, 5.2ms\n",
      "Speed: 1.1ms preprocess, 5.2ms inference, 0.0ms postprocess per image at shape (1, 3, 128, 128)\n",
      "\n",
      "0: 128x128 clear 1.00, amber 0.00, cloudy 0.00, 5.2ms\n",
      "Speed: 1.3ms preprocess, 5.2ms inference, 0.0ms postprocess per image at shape (1, 3, 128, 128)\n",
      "\n",
      "0: 128x128 clear 0.95, cloudy 0.03, amber 0.02, 5.7ms\n",
      "Speed: 1.3ms preprocess, 5.7ms inference, 0.0ms postprocess per image at shape (1, 3, 128, 128)\n",
      "\n",
      "0: 128x128 cloudy 0.84, clear 0.16, amber 0.00, 5.2ms\n",
      "Speed: 1.2ms preprocess, 5.2ms inference, 0.0ms postprocess per image at shape (1, 3, 128, 128)\n",
      "\n",
      "0: 128x128 clear 0.97, cloudy 0.03, amber 0.00, 5.2ms\n",
      "Speed: 1.2ms preprocess, 5.2ms inference, 0.0ms postprocess per image at shape (1, 3, 128, 128)\n",
      "\n",
      "0: 128x128 clear 1.00, cloudy 0.00, amber 0.00, 5.2ms\n",
      "Speed: 1.2ms preprocess, 5.2ms inference, 0.0ms postprocess per image at shape (1, 3, 128, 128)\n",
      "\n",
      "0: 128x128 clear 1.00, cloudy 0.00, amber 0.00, 5.3ms\n",
      "Speed: 1.3ms preprocess, 5.3ms inference, 0.0ms postprocess per image at shape (1, 3, 128, 128)\n",
      "\n",
      "0: 128x128 clear 0.99, cloudy 0.00, amber 0.00, 5.3ms\n",
      "Speed: 1.3ms preprocess, 5.3ms inference, 0.0ms postprocess per image at shape (1, 3, 128, 128)\n",
      "\n",
      "0: 128x128 clear 0.58, amber 0.25, cloudy 0.16, 5.3ms\n",
      "Speed: 1.3ms preprocess, 5.3ms inference, 0.0ms postprocess per image at shape (1, 3, 128, 128)\n",
      "\n",
      "0: 128x128 clear 1.00, cloudy 0.00, amber 0.00, 5.2ms\n",
      "Speed: 1.3ms preprocess, 5.2ms inference, 0.0ms postprocess per image at shape (1, 3, 128, 128)\n",
      "\n",
      "0: 128x128 clear 0.89, cloudy 0.07, amber 0.05, 5.2ms\n",
      "Speed: 1.2ms preprocess, 5.2ms inference, 0.0ms postprocess per image at shape (1, 3, 128, 128)\n",
      "\n",
      "0: 128x128 clear 1.00, cloudy 0.00, amber 0.00, 5.1ms\n",
      "Speed: 1.2ms preprocess, 5.1ms inference, 0.1ms postprocess per image at shape (1, 3, 128, 128)\n",
      "\n",
      "0: 128x128 clear 1.00, amber 0.00, cloudy 0.00, 5.2ms\n",
      "Speed: 1.2ms preprocess, 5.2ms inference, 0.0ms postprocess per image at shape (1, 3, 128, 128)\n",
      "\n",
      "0: 128x128 clear 1.00, cloudy 0.00, amber 0.00, 5.2ms\n",
      "Speed: 1.2ms preprocess, 5.2ms inference, 0.0ms postprocess per image at shape (1, 3, 128, 128)\n",
      "\n",
      "0: 128x128 clear 1.00, cloudy 0.00, amber 0.00, 5.2ms\n",
      "Speed: 1.3ms preprocess, 5.2ms inference, 0.0ms postprocess per image at shape (1, 3, 128, 128)\n",
      "\n",
      "0: 128x128 cloudy 0.67, clear 0.20, amber 0.13, 5.2ms\n",
      "Speed: 1.3ms preprocess, 5.2ms inference, 0.0ms postprocess per image at shape (1, 3, 128, 128)\n",
      "\n",
      "0: 128x128 cloudy 0.99, clear 0.01, amber 0.00, 5.3ms\n",
      "Speed: 1.2ms preprocess, 5.3ms inference, 0.0ms postprocess per image at shape (1, 3, 128, 128)\n",
      "\n",
      "0: 128x128 cloudy 0.99, clear 0.01, amber 0.00, 5.1ms\n",
      "Speed: 1.2ms preprocess, 5.1ms inference, 0.0ms postprocess per image at shape (1, 3, 128, 128)\n",
      "\n",
      "0: 128x128 cloudy 1.00, clear 0.00, amber 0.00, 5.3ms\n",
      "Speed: 1.3ms preprocess, 5.3ms inference, 0.0ms postprocess per image at shape (1, 3, 128, 128)\n",
      "\n",
      "0: 128x128 cloudy 1.00, clear 0.00, amber 0.00, 5.2ms\n",
      "Speed: 1.3ms preprocess, 5.2ms inference, 0.0ms postprocess per image at shape (1, 3, 128, 128)\n",
      "\n",
      "0: 128x128 cloudy 0.99, clear 0.01, amber 0.00, 5.2ms\n",
      "Speed: 1.3ms preprocess, 5.2ms inference, 0.0ms postprocess per image at shape (1, 3, 128, 128)\n",
      "\n",
      "0: 128x128 cloudy 0.99, clear 0.01, amber 0.00, 5.2ms\n",
      "Speed: 1.6ms preprocess, 5.2ms inference, 0.0ms postprocess per image at shape (1, 3, 128, 128)\n",
      "\n",
      "0: 128x128 cloudy 1.00, clear 0.00, amber 0.00, 5.2ms\n",
      "Speed: 1.2ms preprocess, 5.2ms inference, 0.0ms postprocess per image at shape (1, 3, 128, 128)\n",
      "\n",
      "0: 128x128 cloudy 1.00, clear 0.00, amber 0.00, 5.2ms\n",
      "Speed: 1.2ms preprocess, 5.2ms inference, 0.0ms postprocess per image at shape (1, 3, 128, 128)\n",
      "\n",
      "0: 128x128 amber 0.85, clear 0.12, cloudy 0.02, 5.2ms\n",
      "Speed: 1.2ms preprocess, 5.2ms inference, 0.0ms postprocess per image at shape (1, 3, 128, 128)\n",
      "\n",
      "0: 128x128 cloudy 1.00, clear 0.00, amber 0.00, 5.2ms\n",
      "Speed: 1.3ms preprocess, 5.2ms inference, 0.0ms postprocess per image at shape (1, 3, 128, 128)\n",
      "\n",
      "0: 128x128 cloudy 0.72, clear 0.26, amber 0.02, 5.2ms\n",
      "Speed: 1.3ms preprocess, 5.2ms inference, 0.0ms postprocess per image at shape (1, 3, 128, 128)\n",
      "\n",
      "0: 128x128 cloudy 0.99, clear 0.01, amber 0.00, 5.2ms\n",
      "Speed: 1.3ms preprocess, 5.2ms inference, 0.0ms postprocess per image at shape (1, 3, 128, 128)\n",
      "\n",
      "0: 128x128 cloudy 1.00, clear 0.00, amber 0.00, 5.2ms\n",
      "Speed: 1.1ms preprocess, 5.2ms inference, 0.0ms postprocess per image at shape (1, 3, 128, 128)\n",
      "\n",
      "0: 128x128 cloudy 0.47, amber 0.40, clear 0.13, 5.2ms\n",
      "Speed: 1.1ms preprocess, 5.2ms inference, 0.0ms postprocess per image at shape (1, 3, 128, 128)\n",
      "\n",
      "0: 128x128 cloudy 1.00, clear 0.00, amber 0.00, 5.2ms\n",
      "Speed: 1.1ms preprocess, 5.2ms inference, 0.0ms postprocess per image at shape (1, 3, 128, 128)\n",
      "\n",
      "0: 128x128 cloudy 0.98, clear 0.02, amber 0.01, 5.2ms\n",
      "Speed: 1.2ms preprocess, 5.2ms inference, 0.0ms postprocess per image at shape (1, 3, 128, 128)\n",
      "\n",
      "0: 128x128 cloudy 1.00, amber 0.00, clear 0.00, 5.2ms\n",
      "Speed: 1.1ms preprocess, 5.2ms inference, 0.0ms postprocess per image at shape (1, 3, 128, 128)\n",
      "\n",
      "0: 128x128 cloudy 1.00, clear 0.00, amber 0.00, 5.3ms\n",
      "Speed: 1.1ms preprocess, 5.3ms inference, 0.0ms postprocess per image at shape (1, 3, 128, 128)\n",
      "\n",
      "0: 128x128 cloudy 1.00, clear 0.00, amber 0.00, 5.2ms\n",
      "Speed: 1.3ms preprocess, 5.2ms inference, 0.0ms postprocess per image at shape (1, 3, 128, 128)\n",
      "\n",
      "0: 128x128 cloudy 1.00, clear 0.00, amber 0.00, 5.2ms\n",
      "Speed: 1.1ms preprocess, 5.2ms inference, 0.0ms postprocess per image at shape (1, 3, 128, 128)\n",
      "\n",
      "0: 128x128 cloudy 1.00, clear 0.00, amber 0.00, 5.3ms\n",
      "Speed: 1.1ms preprocess, 5.3ms inference, 0.0ms postprocess per image at shape (1, 3, 128, 128)\n",
      "\n",
      "0: 128x128 cloudy 0.44, clear 0.42, amber 0.13, 5.2ms\n",
      "Speed: 1.1ms preprocess, 5.2ms inference, 0.0ms postprocess per image at shape (1, 3, 128, 128)\n",
      "\n",
      "0: 128x128 cloudy 1.00, clear 0.00, amber 0.00, 5.2ms\n",
      "Speed: 1.1ms preprocess, 5.2ms inference, 0.0ms postprocess per image at shape (1, 3, 128, 128)\n",
      "\n",
      "0: 128x128 cloudy 0.99, clear 0.01, amber 0.00, 5.2ms\n",
      "Speed: 1.3ms preprocess, 5.2ms inference, 0.0ms postprocess per image at shape (1, 3, 128, 128)\n",
      "\n",
      "0: 128x128 cloudy 0.68, clear 0.32, amber 0.00, 5.2ms\n",
      "Speed: 1.1ms preprocess, 5.2ms inference, 0.0ms postprocess per image at shape (1, 3, 128, 128)\n",
      "\n",
      "0: 128x128 cloudy 1.00, clear 0.00, amber 0.00, 5.2ms\n",
      "Speed: 1.1ms preprocess, 5.2ms inference, 0.0ms postprocess per image at shape (1, 3, 128, 128)\n",
      "\n",
      "0: 128x128 cloudy 1.00, clear 0.00, amber 0.00, 5.2ms\n",
      "Speed: 1.2ms preprocess, 5.2ms inference, 0.0ms postprocess per image at shape (1, 3, 128, 128)\n",
      "\n",
      "0: 128x128 cloudy 0.99, clear 0.00, amber 0.00, 5.2ms\n",
      "Speed: 1.1ms preprocess, 5.2ms inference, 0.0ms postprocess per image at shape (1, 3, 128, 128)\n",
      "\n",
      "0: 128x128 cloudy 1.00, clear 0.00, amber 0.00, 5.2ms\n",
      "Speed: 1.1ms preprocess, 5.2ms inference, 0.0ms postprocess per image at shape (1, 3, 128, 128)\n",
      "\n",
      "0: 128x128 cloudy 0.89, clear 0.11, amber 0.00, 5.2ms\n",
      "Speed: 1.1ms preprocess, 5.2ms inference, 0.0ms postprocess per image at shape (1, 3, 128, 128)\n",
      "\n",
      "0: 128x128 cloudy 1.00, clear 0.00, amber 0.00, 5.2ms\n",
      "Speed: 1.1ms preprocess, 5.2ms inference, 0.0ms postprocess per image at shape (1, 3, 128, 128)\n",
      "\n",
      "0: 128x128 cloudy 1.00, clear 0.00, amber 0.00, 5.2ms\n",
      "Speed: 1.3ms preprocess, 5.2ms inference, 0.0ms postprocess per image at shape (1, 3, 128, 128)\n",
      "\n",
      "0: 128x128 cloudy 1.00, clear 0.00, amber 0.00, 5.2ms\n",
      "Speed: 1.2ms preprocess, 5.2ms inference, 0.0ms postprocess per image at shape (1, 3, 128, 128)\n",
      "\n",
      "0: 128x128 cloudy 0.97, clear 0.03, amber 0.00, 5.2ms\n",
      "Speed: 1.1ms preprocess, 5.2ms inference, 0.0ms postprocess per image at shape (1, 3, 128, 128)\n",
      "\n",
      "0: 128x128 cloudy 0.92, clear 0.08, amber 0.00, 5.1ms\n",
      "Speed: 1.1ms preprocess, 5.1ms inference, 0.0ms postprocess per image at shape (1, 3, 128, 128)\n",
      "\n",
      "0: 128x128 cloudy 0.97, amber 0.03, clear 0.01, 5.2ms\n",
      "Speed: 1.3ms preprocess, 5.2ms inference, 0.0ms postprocess per image at shape (1, 3, 128, 128)\n",
      "\n",
      "0: 128x128 cloudy 0.94, clear 0.05, amber 0.00, 5.1ms\n",
      "Speed: 1.1ms preprocess, 5.1ms inference, 0.0ms postprocess per image at shape (1, 3, 128, 128)\n",
      "\n",
      "0: 128x128 cloudy 1.00, clear 0.00, amber 0.00, 5.2ms\n",
      "Speed: 1.1ms preprocess, 5.2ms inference, 0.0ms postprocess per image at shape (1, 3, 128, 128)\n",
      "\n",
      "0: 128x128 cloudy 1.00, clear 0.00, amber 0.00, 5.2ms\n",
      "Speed: 1.1ms preprocess, 5.2ms inference, 0.1ms postprocess per image at shape (1, 3, 128, 128)\n",
      "\n",
      "0: 128x128 cloudy 0.99, clear 0.00, amber 0.00, 5.1ms\n",
      "Speed: 1.1ms preprocess, 5.1ms inference, 0.0ms postprocess per image at shape (1, 3, 128, 128)\n",
      "\n",
      "0: 128x128 clear 0.92, cloudy 0.08, amber 0.00, 5.2ms\n",
      "Speed: 1.1ms preprocess, 5.2ms inference, 0.0ms postprocess per image at shape (1, 3, 128, 128)\n",
      "\n",
      "0: 128x128 cloudy 0.99, clear 0.01, amber 0.00, 5.1ms\n",
      "Speed: 1.1ms preprocess, 5.1ms inference, 0.0ms postprocess per image at shape (1, 3, 128, 128)\n",
      "\n",
      "0: 128x128 cloudy 1.00, clear 0.00, amber 0.00, 5.1ms\n",
      "Speed: 1.1ms preprocess, 5.1ms inference, 0.0ms postprocess per image at shape (1, 3, 128, 128)\n",
      "\n",
      "0: 128x128 cloudy 0.98, clear 0.02, amber 0.00, 5.2ms\n",
      "Speed: 1.2ms preprocess, 5.2ms inference, 0.0ms postprocess per image at shape (1, 3, 128, 128)\n",
      "\n",
      "0: 128x128 cloudy 1.00, clear 0.00, amber 0.00, 5.3ms\n",
      "Speed: 1.2ms preprocess, 5.3ms inference, 0.0ms postprocess per image at shape (1, 3, 128, 128)\n",
      "\n",
      "0: 128x128 cloudy 0.97, clear 0.02, amber 0.00, 5.3ms\n",
      "Speed: 1.2ms preprocess, 5.3ms inference, 0.0ms postprocess per image at shape (1, 3, 128, 128)\n",
      "\n",
      "0: 128x128 cloudy 0.98, clear 0.02, amber 0.00, 5.5ms\n",
      "Speed: 1.3ms preprocess, 5.5ms inference, 0.0ms postprocess per image at shape (1, 3, 128, 128)\n",
      "\n",
      "0: 128x128 cloudy 1.00, clear 0.00, amber 0.00, 5.2ms\n",
      "Speed: 1.3ms preprocess, 5.2ms inference, 0.0ms postprocess per image at shape (1, 3, 128, 128)\n",
      "\n",
      "0: 128x128 cloudy 1.00, clear 0.00, amber 0.00, 5.5ms\n",
      "Speed: 1.3ms preprocess, 5.5ms inference, 0.0ms postprocess per image at shape (1, 3, 128, 128)\n",
      "\n",
      "0: 128x128 cloudy 1.00, clear 0.00, amber 0.00, 5.2ms\n",
      "Speed: 1.4ms preprocess, 5.2ms inference, 0.0ms postprocess per image at shape (1, 3, 128, 128)\n",
      "\n",
      "0: 128x128 cloudy 1.00, clear 0.00, amber 0.00, 5.7ms\n",
      "Speed: 1.8ms preprocess, 5.7ms inference, 0.0ms postprocess per image at shape (1, 3, 128, 128)\n",
      "Training YOLOv11 Nano model...\n",
      "Ultralytics 8.3.56 🚀 Python-3.9.19 torch-2.3.1+cu121 CUDA:0 (NVIDIA GeForce RTX 3090, 24253MiB)\n",
      "\u001b[34m\u001b[1mengine/trainer: \u001b[0mtask=classify, mode=train, model=/home/etaylor/code_projects/thesis/checkpoints/trichome_image_classification/yolo/yolo11n-cls.pt, data=/home/etaylor/code_projects/thesis/classification_datasets/trichome_classification/extracted_trichomes_images/balanced_good_quality, epochs=10, time=None, patience=100, batch=16, imgsz=128, save=True, save_period=-1, cache=False, device=None, workers=8, project=None, name=train338, exist_ok=False, pretrained=True, optimizer=auto, verbose=True, seed=0, deterministic=True, single_cls=False, rect=False, cos_lr=False, close_mosaic=10, resume=False, amp=True, fraction=1.0, profile=False, freeze=None, multi_scale=False, overlap_mask=True, mask_ratio=4, dropout=0.0, val=True, split=val, save_json=False, save_hybrid=False, conf=None, iou=0.7, max_det=300, half=False, dnn=False, plots=True, source=None, vid_stride=1, stream_buffer=False, visualize=False, augment=False, agnostic_nms=False, classes=None, retina_masks=False, embed=None, show=False, save_frames=False, save_txt=False, save_conf=False, save_crop=False, show_labels=True, show_conf=True, show_boxes=True, line_width=None, format=torchscript, keras=False, optimize=False, int8=False, dynamic=False, simplify=True, opset=None, workspace=None, nms=False, lr0=0.01, lrf=0.01, momentum=0.937, weight_decay=0.0005, warmup_epochs=3.0, warmup_momentum=0.8, warmup_bias_lr=0.1, box=7.5, cls=0.5, dfl=1.5, pose=12.0, kobj=1.0, nbs=64, hsv_h=0.015, hsv_s=0.7, hsv_v=0.4, degrees=0.0, translate=0.1, scale=0.5, shear=0.0, perspective=0.0, flipud=0.0, fliplr=0.5, bgr=0.0, mosaic=1.0, mixup=0.0, copy_paste=0.0, copy_paste_mode=flip, auto_augment=randaugment, erasing=0.4, crop_fraction=1.0, cfg=None, tracker=botsort.yaml, save_dir=/home/etaylor/runs/classify/train338\n",
      "\u001b[34m\u001b[1mtrain:\u001b[0m /sise/home/etaylor/code_projects/thesis/classification_datasets/trichome_classification/extracted_trichomes_images/balanced_good_quality/train... found 462 images in 3 classes ✅ \n",
      "\u001b[34m\u001b[1mval:\u001b[0m /sise/home/etaylor/code_projects/thesis/classification_datasets/trichome_classification/extracted_trichomes_images/balanced_good_quality/val... found 156 images in 3 classes ✅ \n",
      "\u001b[34m\u001b[1mtest:\u001b[0m None...\n",
      "Overriding model.yaml nc=80 with nc=3\n",
      "\n",
      "                   from  n    params  module                                       arguments                     \n",
      "  0                  -1  1       464  ultralytics.nn.modules.conv.Conv             [3, 16, 3, 2]                 \n",
      "  1                  -1  1      4672  ultralytics.nn.modules.conv.Conv             [16, 32, 3, 2]                \n",
      "  2                  -1  1      6640  ultralytics.nn.modules.block.C3k2            [32, 64, 1, False, 0.25]      \n",
      "  3                  -1  1     36992  ultralytics.nn.modules.conv.Conv             [64, 64, 3, 2]                \n",
      "  4                  -1  1     26080  ultralytics.nn.modules.block.C3k2            [64, 128, 1, False, 0.25]     \n",
      "  5                  -1  1    147712  ultralytics.nn.modules.conv.Conv             [128, 128, 3, 2]              \n",
      "  6                  -1  1     87040  ultralytics.nn.modules.block.C3k2            [128, 128, 1, True]           \n",
      "  7                  -1  1    295424  ultralytics.nn.modules.conv.Conv             [128, 256, 3, 2]              \n",
      "  8                  -1  1    346112  ultralytics.nn.modules.block.C3k2            [256, 256, 1, True]           \n",
      "  9                  -1  1    249728  ultralytics.nn.modules.block.C2PSA           [256, 256, 1]                 \n",
      " 10                  -1  1    334083  ultralytics.nn.modules.head.Classify         [256, 3]                      \n",
      "YOLO11n-cls summary: 151 layers, 1,534,947 parameters, 1,534,947 gradients, 3.3 GFLOPs\n",
      "Transferred 234/236 items from pretrained weights\n",
      "\u001b[34m\u001b[1mTensorBoard: \u001b[0mStart with 'tensorboard --logdir /home/etaylor/runs/classify/train338', view at http://localhost:6006/\n",
      "\u001b[34m\u001b[1mAMP: \u001b[0mrunning Automatic Mixed Precision (AMP) checks...\n",
      "\u001b[34m\u001b[1mAMP: \u001b[0mchecks passed ✅\n"
     ]
    },
    {
     "name": "stderr",
     "output_type": "stream",
     "text": [
      "\u001b[34m\u001b[1mtrain: \u001b[0mScanning /sise/home/etaylor/code_projects/thesis/classification_datasets/trichome_classification/extracted_trichomes_images/balanced_good_quality/train... 462 images, 0 corrupt: 100%|██████████| 462/462 [00:00<?, ?it/s]\n",
      "/home/etaylor/.conda/envs/detectron_fastai/lib/python3.9/site-packages/torch/utils/data/dataloader.py:558: UserWarning: This DataLoader will create 8 worker processes in total. Our suggested max number of worker in current system is 6, which is smaller than what this DataLoader is going to create. Please be aware that excessive worker creation might get DataLoader running slow or even freeze, lower the worker number to avoid potential slowness/freeze if necessary.\n",
      "  warnings.warn(_create_warning_msg(\n",
      "\u001b[34m\u001b[1mval: \u001b[0mScanning /sise/home/etaylor/code_projects/thesis/classification_datasets/trichome_classification/extracted_trichomes_images/balanced_good_quality/val... 156 images, 0 corrupt: 100%|██████████| 156/156 [00:00<?, ?it/s]\n"
     ]
    },
    {
     "name": "stdout",
     "output_type": "stream",
     "text": [
      "\u001b[34m\u001b[1moptimizer:\u001b[0m 'optimizer=auto' found, ignoring 'lr0=0.01' and 'momentum=0.937' and determining best 'optimizer', 'lr0' and 'momentum' automatically... \n",
      "\u001b[34m\u001b[1moptimizer:\u001b[0m AdamW(lr=0.000714, momentum=0.9) with parameter groups 39 weight(decay=0.0), 40 weight(decay=0.0005), 40 bias(decay=0.0)\n",
      "\u001b[34m\u001b[1mTensorBoard: \u001b[0mmodel graph visualization added ✅\n",
      "Image sizes 128 train, 128 val\n",
      "Using 8 dataloader workers\n",
      "Logging results to \u001b[1m/home/etaylor/runs/classify/train338\u001b[0m\n",
      "Starting training for 10 epochs...\n"
     ]
    },
    {
     "name": "stderr",
     "output_type": "stream",
     "text": [
      "/home/etaylor/.conda/envs/detectron_fastai/lib/python3.9/site-packages/torch/utils/data/dataloader.py:558: UserWarning: This DataLoader will create 8 worker processes in total. Our suggested max number of worker in current system is 6, which is smaller than what this DataLoader is going to create. Please be aware that excessive worker creation might get DataLoader running slow or even freeze, lower the worker number to avoid potential slowness/freeze if necessary.\n",
      "  warnings.warn(_create_warning_msg(\n"
     ]
    },
    {
     "name": "stdout",
     "output_type": "stream",
     "text": [
      "\n",
      "      Epoch    GPU_mem       loss  Instances       Size\n"
     ]
    },
    {
     "name": "stderr",
     "output_type": "stream",
     "text": [
      "       1/10      2.85G      1.047         14        128: 100%|██████████| 29/29 [00:01<00:00, 17.14it/s]\n",
      "               classes   top1_acc   top5_acc: 100%|██████████| 5/5 [00:00<00:00, 19.13it/s]"
     ]
    },
    {
     "name": "stdout",
     "output_type": "stream",
     "text": [
      "                   all      0.744          1\n"
     ]
    },
    {
     "name": "stderr",
     "output_type": "stream",
     "text": [
      "\n"
     ]
    },
    {
     "name": "stdout",
     "output_type": "stream",
     "text": [
      "\n",
      "      Epoch    GPU_mem       loss  Instances       Size\n"
     ]
    },
    {
     "name": "stderr",
     "output_type": "stream",
     "text": [
      "       2/10      2.79G     0.6208         14        128: 100%|██████████| 29/29 [00:01<00:00, 26.87it/s]\n",
      "               classes   top1_acc   top5_acc: 100%|██████████| 5/5 [00:00<00:00, 76.91it/s]"
     ]
    },
    {
     "name": "stdout",
     "output_type": "stream",
     "text": [
      "                   all      0.904          1\n"
     ]
    },
    {
     "name": "stderr",
     "output_type": "stream",
     "text": [
      "\n"
     ]
    },
    {
     "name": "stdout",
     "output_type": "stream",
     "text": [
      "\n",
      "      Epoch    GPU_mem       loss  Instances       Size\n"
     ]
    },
    {
     "name": "stderr",
     "output_type": "stream",
     "text": [
      "       3/10      2.65G     0.3984         14        128: 100%|██████████| 29/29 [00:01<00:00, 26.61it/s]\n",
      "               classes   top1_acc   top5_acc: 100%|██████████| 5/5 [00:00<00:00, 97.73it/s]"
     ]
    },
    {
     "name": "stdout",
     "output_type": "stream",
     "text": [
      "                   all      0.942          1\n"
     ]
    },
    {
     "name": "stderr",
     "output_type": "stream",
     "text": [
      "\n"
     ]
    },
    {
     "name": "stdout",
     "output_type": "stream",
     "text": [
      "\n",
      "      Epoch    GPU_mem       loss  Instances       Size\n"
     ]
    },
    {
     "name": "stderr",
     "output_type": "stream",
     "text": [
      "       4/10      2.65G     0.2833         14        128: 100%|██████████| 29/29 [00:01<00:00, 26.05it/s]\n",
      "               classes   top1_acc   top5_acc: 100%|██████████| 5/5 [00:00<00:00, 97.21it/s]"
     ]
    },
    {
     "name": "stdout",
     "output_type": "stream",
     "text": [
      "                   all      0.936          1\n"
     ]
    },
    {
     "name": "stderr",
     "output_type": "stream",
     "text": [
      "\n"
     ]
    },
    {
     "name": "stdout",
     "output_type": "stream",
     "text": [
      "\n",
      "      Epoch    GPU_mem       loss  Instances       Size\n"
     ]
    },
    {
     "name": "stderr",
     "output_type": "stream",
     "text": [
      "       5/10      2.65G     0.2939         14        128: 100%|██████████| 29/29 [00:01<00:00, 27.95it/s]\n",
      "               classes   top1_acc   top5_acc: 100%|██████████| 5/5 [00:00<00:00, 88.72it/s]"
     ]
    },
    {
     "name": "stdout",
     "output_type": "stream",
     "text": [
      "                   all      0.917          1\n"
     ]
    },
    {
     "name": "stderr",
     "output_type": "stream",
     "text": [
      "\n"
     ]
    },
    {
     "name": "stdout",
     "output_type": "stream",
     "text": [
      "\n",
      "      Epoch    GPU_mem       loss  Instances       Size\n"
     ]
    },
    {
     "name": "stderr",
     "output_type": "stream",
     "text": [
      "       6/10      2.65G     0.2852         14        128: 100%|██████████| 29/29 [00:01<00:00, 27.56it/s]\n",
      "               classes   top1_acc   top5_acc: 100%|██████████| 5/5 [00:00<00:00, 83.70it/s]"
     ]
    },
    {
     "name": "stdout",
     "output_type": "stream",
     "text": [
      "                   all      0.936          1\n"
     ]
    },
    {
     "name": "stderr",
     "output_type": "stream",
     "text": [
      "\n"
     ]
    },
    {
     "name": "stdout",
     "output_type": "stream",
     "text": [
      "\n",
      "      Epoch    GPU_mem       loss  Instances       Size\n"
     ]
    },
    {
     "name": "stderr",
     "output_type": "stream",
     "text": [
      "       7/10      2.65G     0.2803         14        128: 100%|██████████| 29/29 [00:01<00:00, 27.14it/s]\n",
      "               classes   top1_acc   top5_acc: 100%|██████████| 5/5 [00:00<00:00, 80.62it/s]"
     ]
    },
    {
     "name": "stdout",
     "output_type": "stream",
     "text": [
      "                   all      0.936          1\n"
     ]
    },
    {
     "name": "stderr",
     "output_type": "stream",
     "text": [
      "\n"
     ]
    },
    {
     "name": "stdout",
     "output_type": "stream",
     "text": [
      "\n",
      "      Epoch    GPU_mem       loss  Instances       Size\n"
     ]
    },
    {
     "name": "stderr",
     "output_type": "stream",
     "text": [
      "       8/10      2.65G     0.2102         14        128: 100%|██████████| 29/29 [00:01<00:00, 27.08it/s]\n",
      "               classes   top1_acc   top5_acc: 100%|██████████| 5/5 [00:00<00:00, 89.93it/s]"
     ]
    },
    {
     "name": "stdout",
     "output_type": "stream",
     "text": [
      "                   all      0.949          1\n"
     ]
    },
    {
     "name": "stderr",
     "output_type": "stream",
     "text": [
      "\n"
     ]
    },
    {
     "name": "stdout",
     "output_type": "stream",
     "text": [
      "\n",
      "      Epoch    GPU_mem       loss  Instances       Size\n"
     ]
    },
    {
     "name": "stderr",
     "output_type": "stream",
     "text": [
      "       9/10      2.65G     0.1786         14        128: 100%|██████████| 29/29 [00:01<00:00, 27.81it/s]\n",
      "               classes   top1_acc   top5_acc: 100%|██████████| 5/5 [00:00<00:00, 88.59it/s]"
     ]
    },
    {
     "name": "stdout",
     "output_type": "stream",
     "text": [
      "                   all      0.949          1\n"
     ]
    },
    {
     "name": "stderr",
     "output_type": "stream",
     "text": [
      "\n"
     ]
    },
    {
     "name": "stdout",
     "output_type": "stream",
     "text": [
      "\n",
      "      Epoch    GPU_mem       loss  Instances       Size\n"
     ]
    },
    {
     "name": "stderr",
     "output_type": "stream",
     "text": [
      "      10/10      2.65G     0.1954         14        128: 100%|██████████| 29/29 [00:01<00:00, 27.51it/s]\n",
      "               classes   top1_acc   top5_acc: 100%|██████████| 5/5 [00:00<00:00, 82.53it/s]"
     ]
    },
    {
     "name": "stdout",
     "output_type": "stream",
     "text": [
      "                   all      0.949          1\n"
     ]
    },
    {
     "name": "stderr",
     "output_type": "stream",
     "text": [
      "\n"
     ]
    },
    {
     "name": "stdout",
     "output_type": "stream",
     "text": [
      "\n",
      "10 epochs completed in 0.027 hours.\n",
      "Optimizer stripped from /home/etaylor/runs/classify/train338/weights/last.pt, 3.2MB\n",
      "Optimizer stripped from /home/etaylor/runs/classify/train338/weights/best.pt, 3.2MB\n",
      "\n",
      "Validating /home/etaylor/runs/classify/train338/weights/best.pt...\n",
      "Ultralytics 8.3.56 🚀 Python-3.9.19 torch-2.3.1+cu121 CUDA:0 (NVIDIA GeForce RTX 3090, 24253MiB)\n",
      "YOLO11n-cls summary (fused): 112 layers, 1,529,867 parameters, 0 gradients, 3.2 GFLOPs\n",
      "\u001b[34m\u001b[1mtrain:\u001b[0m /sise/home/etaylor/code_projects/thesis/classification_datasets/trichome_classification/extracted_trichomes_images/balanced_good_quality/train... found 462 images in 3 classes ✅ \n",
      "\u001b[34m\u001b[1mval:\u001b[0m /sise/home/etaylor/code_projects/thesis/classification_datasets/trichome_classification/extracted_trichomes_images/balanced_good_quality/val... found 156 images in 3 classes ✅ \n",
      "\u001b[34m\u001b[1mtest:\u001b[0m None...\n"
     ]
    },
    {
     "name": "stderr",
     "output_type": "stream",
     "text": [
      "               classes   top1_acc   top5_acc: 100%|██████████| 5/5 [00:00<00:00, 25.74it/s]\n"
     ]
    },
    {
     "name": "stdout",
     "output_type": "stream",
     "text": [
      "                   all      0.949          1\n",
      "Speed: 0.0ms preprocess, 1.2ms inference, 0.0ms loss, 0.0ms postprocess per image\n",
      "Results saved to \u001b[1m/home/etaylor/runs/classify/train338\u001b[0m\n",
      "Evaluating YOLOv11 Nano model...\n",
      "\n",
      "0: 128x128 amber 1.00, cloudy 0.00, clear 0.00, 4.3ms\n",
      "Speed: 1.4ms preprocess, 4.3ms inference, 0.1ms postprocess per image at shape (1, 3, 128, 128)\n",
      "\n",
      "0: 128x128 amber 1.00, cloudy 0.00, clear 0.00, 4.5ms\n",
      "Speed: 1.3ms preprocess, 4.5ms inference, 0.0ms postprocess per image at shape (1, 3, 128, 128)\n",
      "\n",
      "0: 128x128 amber 1.00, cloudy 0.00, clear 0.00, 5.1ms\n",
      "Speed: 1.5ms preprocess, 5.1ms inference, 0.0ms postprocess per image at shape (1, 3, 128, 128)\n",
      "\n",
      "0: 128x128 amber 1.00, cloudy 0.00, clear 0.00, 4.6ms\n",
      "Speed: 1.6ms preprocess, 4.6ms inference, 0.0ms postprocess per image at shape (1, 3, 128, 128)\n",
      "\n",
      "0: 128x128 amber 1.00, cloudy 0.00, clear 0.00, 4.8ms\n",
      "Speed: 1.5ms preprocess, 4.8ms inference, 0.0ms postprocess per image at shape (1, 3, 128, 128)\n",
      "\n",
      "0: 128x128 amber 0.93, clear 0.07, cloudy 0.00, 4.6ms\n",
      "Speed: 1.4ms preprocess, 4.6ms inference, 0.0ms postprocess per image at shape (1, 3, 128, 128)\n",
      "\n",
      "0: 128x128 amber 0.97, clear 0.03, cloudy 0.01, 4.6ms\n",
      "Speed: 1.5ms preprocess, 4.6ms inference, 0.0ms postprocess per image at shape (1, 3, 128, 128)\n",
      "\n",
      "0: 128x128 amber 1.00, cloudy 0.00, clear 0.00, 4.5ms\n",
      "Speed: 1.5ms preprocess, 4.5ms inference, 0.0ms postprocess per image at shape (1, 3, 128, 128)\n",
      "\n",
      "0: 128x128 amber 0.99, cloudy 0.01, clear 0.00, 4.4ms\n",
      "Speed: 1.3ms preprocess, 4.4ms inference, 0.0ms postprocess per image at shape (1, 3, 128, 128)\n",
      "\n",
      "0: 128x128 amber 1.00, clear 0.00, cloudy 0.00, 5.1ms\n",
      "Speed: 1.5ms preprocess, 5.1ms inference, 0.1ms postprocess per image at shape (1, 3, 128, 128)\n",
      "\n",
      "0: 128x128 amber 1.00, cloudy 0.00, clear 0.00, 5.5ms\n",
      "Speed: 1.8ms preprocess, 5.5ms inference, 0.0ms postprocess per image at shape (1, 3, 128, 128)\n",
      "\n",
      "0: 128x128 amber 1.00, clear 0.00, cloudy 0.00, 4.8ms\n",
      "Speed: 1.5ms preprocess, 4.8ms inference, 0.0ms postprocess per image at shape (1, 3, 128, 128)\n",
      "\n",
      "0: 128x128 amber 0.99, cloudy 0.01, clear 0.00, 4.9ms\n",
      "Speed: 1.4ms preprocess, 4.9ms inference, 0.0ms postprocess per image at shape (1, 3, 128, 128)\n",
      "\n",
      "0: 128x128 amber 1.00, cloudy 0.00, clear 0.00, 6.9ms\n",
      "Speed: 1.8ms preprocess, 6.9ms inference, 0.1ms postprocess per image at shape (1, 3, 128, 128)\n",
      "\n",
      "0: 128x128 amber 0.86, cloudy 0.11, clear 0.03, 5.1ms\n",
      "Speed: 2.1ms preprocess, 5.1ms inference, 0.0ms postprocess per image at shape (1, 3, 128, 128)\n",
      "\n",
      "0: 128x128 amber 1.00, clear 0.00, cloudy 0.00, 6.8ms\n",
      "Speed: 2.1ms preprocess, 6.8ms inference, 0.1ms postprocess per image at shape (1, 3, 128, 128)\n",
      "\n",
      "0: 128x128 amber 1.00, clear 0.00, cloudy 0.00, 5.7ms\n",
      "Speed: 1.7ms preprocess, 5.7ms inference, 0.0ms postprocess per image at shape (1, 3, 128, 128)\n",
      "\n",
      "0: 128x128 amber 0.95, cloudy 0.04, clear 0.01, 5.2ms\n",
      "Speed: 1.9ms preprocess, 5.2ms inference, 0.1ms postprocess per image at shape (1, 3, 128, 128)\n",
      "\n",
      "0: 128x128 amber 0.96, clear 0.03, cloudy 0.00, 4.8ms\n",
      "Speed: 1.4ms preprocess, 4.8ms inference, 0.1ms postprocess per image at shape (1, 3, 128, 128)\n",
      "\n",
      "0: 128x128 amber 1.00, cloudy 0.00, clear 0.00, 5.2ms\n",
      "Speed: 1.8ms preprocess, 5.2ms inference, 0.0ms postprocess per image at shape (1, 3, 128, 128)\n",
      "\n",
      "0: 128x128 amber 1.00, cloudy 0.00, clear 0.00, 7.0ms\n",
      "Speed: 2.0ms preprocess, 7.0ms inference, 0.1ms postprocess per image at shape (1, 3, 128, 128)\n",
      "\n",
      "0: 128x128 amber 1.00, clear 0.00, cloudy 0.00, 4.7ms\n",
      "Speed: 1.8ms preprocess, 4.7ms inference, 0.0ms postprocess per image at shape (1, 3, 128, 128)\n",
      "\n",
      "0: 128x128 amber 1.00, cloudy 0.00, clear 0.00, 4.8ms\n",
      "Speed: 1.6ms preprocess, 4.8ms inference, 0.0ms postprocess per image at shape (1, 3, 128, 128)\n",
      "\n",
      "0: 128x128 amber 0.94, clear 0.03, cloudy 0.03, 7.3ms\n",
      "Speed: 2.0ms preprocess, 7.3ms inference, 0.1ms postprocess per image at shape (1, 3, 128, 128)\n",
      "\n",
      "0: 128x128 amber 0.99, cloudy 0.01, clear 0.00, 6.0ms\n",
      "Speed: 1.8ms preprocess, 6.0ms inference, 0.1ms postprocess per image at shape (1, 3, 128, 128)\n",
      "\n",
      "0: 128x128 amber 1.00, cloudy 0.00, clear 0.00, 6.3ms\n",
      "Speed: 2.0ms preprocess, 6.3ms inference, 0.1ms postprocess per image at shape (1, 3, 128, 128)\n",
      "\n",
      "0: 128x128 amber 0.99, cloudy 0.01, clear 0.00, 5.2ms\n",
      "Speed: 1.7ms preprocess, 5.2ms inference, 0.1ms postprocess per image at shape (1, 3, 128, 128)\n",
      "\n",
      "0: 128x128 amber 1.00, cloudy 0.00, clear 0.00, 4.8ms\n",
      "Speed: 1.5ms preprocess, 4.8ms inference, 0.0ms postprocess per image at shape (1, 3, 128, 128)\n",
      "\n",
      "0: 128x128 amber 1.00, cloudy 0.00, clear 0.00, 4.4ms\n",
      "Speed: 1.4ms preprocess, 4.4ms inference, 0.0ms postprocess per image at shape (1, 3, 128, 128)\n",
      "\n",
      "0: 128x128 amber 0.98, cloudy 0.02, clear 0.00, 4.8ms\n",
      "Speed: 1.4ms preprocess, 4.8ms inference, 0.0ms postprocess per image at shape (1, 3, 128, 128)\n",
      "\n",
      "0: 128x128 amber 0.99, cloudy 0.01, clear 0.00, 4.6ms\n",
      "Speed: 1.3ms preprocess, 4.6ms inference, 0.0ms postprocess per image at shape (1, 3, 128, 128)\n",
      "\n",
      "0: 128x128 amber 0.72, cloudy 0.25, clear 0.02, 4.6ms\n",
      "Speed: 1.5ms preprocess, 4.6ms inference, 0.0ms postprocess per image at shape (1, 3, 128, 128)\n",
      "\n",
      "0: 128x128 amber 0.99, cloudy 0.01, clear 0.00, 4.7ms\n",
      "Speed: 1.4ms preprocess, 4.7ms inference, 0.0ms postprocess per image at shape (1, 3, 128, 128)\n",
      "\n",
      "0: 128x128 amber 0.99, cloudy 0.01, clear 0.00, 5.0ms\n",
      "Speed: 1.4ms preprocess, 5.0ms inference, 0.1ms postprocess per image at shape (1, 3, 128, 128)\n",
      "\n",
      "0: 128x128 amber 1.00, cloudy 0.00, clear 0.00, 4.6ms\n",
      "Speed: 1.3ms preprocess, 4.6ms inference, 0.0ms postprocess per image at shape (1, 3, 128, 128)\n",
      "\n",
      "0: 128x128 amber 1.00, cloudy 0.00, clear 0.00, 4.6ms\n",
      "Speed: 1.3ms preprocess, 4.6ms inference, 0.1ms postprocess per image at shape (1, 3, 128, 128)\n",
      "\n",
      "0: 128x128 amber 1.00, cloudy 0.00, clear 0.00, 4.8ms\n",
      "Speed: 1.4ms preprocess, 4.8ms inference, 0.0ms postprocess per image at shape (1, 3, 128, 128)\n",
      "\n",
      "0: 128x128 amber 0.97, cloudy 0.03, clear 0.00, 4.6ms\n",
      "Speed: 1.2ms preprocess, 4.6ms inference, 0.0ms postprocess per image at shape (1, 3, 128, 128)\n",
      "\n",
      "0: 128x128 amber 1.00, cloudy 0.00, clear 0.00, 4.5ms\n",
      "Speed: 1.3ms preprocess, 4.5ms inference, 0.0ms postprocess per image at shape (1, 3, 128, 128)\n",
      "\n",
      "0: 128x128 amber 1.00, cloudy 0.00, clear 0.00, 4.5ms\n",
      "Speed: 1.3ms preprocess, 4.5ms inference, 0.0ms postprocess per image at shape (1, 3, 128, 128)\n",
      "\n",
      "0: 128x128 amber 0.99, clear 0.01, cloudy 0.00, 4.5ms\n",
      "Speed: 1.4ms preprocess, 4.5ms inference, 0.0ms postprocess per image at shape (1, 3, 128, 128)\n",
      "\n",
      "0: 128x128 amber 0.99, cloudy 0.00, clear 0.00, 4.5ms\n",
      "Speed: 1.3ms preprocess, 4.5ms inference, 0.0ms postprocess per image at shape (1, 3, 128, 128)\n",
      "\n",
      "0: 128x128 amber 0.99, clear 0.00, cloudy 0.00, 4.5ms\n",
      "Speed: 1.3ms preprocess, 4.5ms inference, 0.0ms postprocess per image at shape (1, 3, 128, 128)\n",
      "\n",
      "0: 128x128 amber 1.00, cloudy 0.00, clear 0.00, 4.5ms\n",
      "Speed: 1.3ms preprocess, 4.5ms inference, 0.0ms postprocess per image at shape (1, 3, 128, 128)\n",
      "\n",
      "0: 128x128 amber 1.00, cloudy 0.00, clear 0.00, 4.4ms\n",
      "Speed: 1.5ms preprocess, 4.4ms inference, 0.0ms postprocess per image at shape (1, 3, 128, 128)\n",
      "\n",
      "0: 128x128 amber 1.00, clear 0.00, cloudy 0.00, 4.6ms\n",
      "Speed: 1.3ms preprocess, 4.6ms inference, 0.0ms postprocess per image at shape (1, 3, 128, 128)\n",
      "\n",
      "0: 128x128 amber 0.93, clear 0.07, cloudy 0.00, 4.5ms\n",
      "Speed: 1.4ms preprocess, 4.5ms inference, 0.0ms postprocess per image at shape (1, 3, 128, 128)\n",
      "\n",
      "0: 128x128 amber 1.00, cloudy 0.00, clear 0.00, 4.5ms\n",
      "Speed: 1.4ms preprocess, 4.5ms inference, 0.0ms postprocess per image at shape (1, 3, 128, 128)\n",
      "\n",
      "0: 128x128 amber 0.99, cloudy 0.01, clear 0.00, 4.5ms\n",
      "Speed: 1.4ms preprocess, 4.5ms inference, 0.0ms postprocess per image at shape (1, 3, 128, 128)\n",
      "\n",
      "0: 128x128 amber 1.00, cloudy 0.00, clear 0.00, 4.4ms\n",
      "Speed: 1.3ms preprocess, 4.4ms inference, 0.0ms postprocess per image at shape (1, 3, 128, 128)\n",
      "\n",
      "0: 128x128 amber 1.00, cloudy 0.00, clear 0.00, 4.6ms\n",
      "Speed: 1.3ms preprocess, 4.6ms inference, 0.0ms postprocess per image at shape (1, 3, 128, 128)\n",
      "\n",
      "0: 128x128 amber 1.00, cloudy 0.00, clear 0.00, 4.6ms\n",
      "Speed: 1.4ms preprocess, 4.6ms inference, 0.0ms postprocess per image at shape (1, 3, 128, 128)\n",
      "\n",
      "0: 128x128 clear 0.99, cloudy 0.01, amber 0.00, 4.6ms\n",
      "Speed: 1.4ms preprocess, 4.6ms inference, 0.0ms postprocess per image at shape (1, 3, 128, 128)\n",
      "\n",
      "0: 128x128 clear 0.97, cloudy 0.02, amber 0.01, 4.5ms\n",
      "Speed: 1.4ms preprocess, 4.5ms inference, 0.0ms postprocess per image at shape (1, 3, 128, 128)\n",
      "\n",
      "0: 128x128 clear 1.00, amber 0.00, cloudy 0.00, 4.6ms\n",
      "Speed: 1.4ms preprocess, 4.6ms inference, 0.0ms postprocess per image at shape (1, 3, 128, 128)\n",
      "\n",
      "0: 128x128 clear 1.00, cloudy 0.00, amber 0.00, 4.8ms\n",
      "Speed: 1.4ms preprocess, 4.8ms inference, 0.0ms postprocess per image at shape (1, 3, 128, 128)\n",
      "\n",
      "0: 128x128 clear 1.00, cloudy 0.00, amber 0.00, 4.4ms\n",
      "Speed: 1.4ms preprocess, 4.4ms inference, 0.0ms postprocess per image at shape (1, 3, 128, 128)\n",
      "\n",
      "0: 128x128 clear 1.00, amber 0.00, cloudy 0.00, 4.8ms\n",
      "Speed: 1.6ms preprocess, 4.8ms inference, 0.0ms postprocess per image at shape (1, 3, 128, 128)\n",
      "\n",
      "0: 128x128 clear 0.99, cloudy 0.01, amber 0.00, 4.8ms\n",
      "Speed: 1.4ms preprocess, 4.8ms inference, 0.0ms postprocess per image at shape (1, 3, 128, 128)\n",
      "\n",
      "0: 128x128 clear 1.00, cloudy 0.00, amber 0.00, 4.5ms\n",
      "Speed: 1.4ms preprocess, 4.5ms inference, 0.0ms postprocess per image at shape (1, 3, 128, 128)\n",
      "\n",
      "0: 128x128 clear 0.92, cloudy 0.08, amber 0.00, 4.4ms\n",
      "Speed: 1.2ms preprocess, 4.4ms inference, 0.0ms postprocess per image at shape (1, 3, 128, 128)\n",
      "\n",
      "0: 128x128 clear 0.99, cloudy 0.01, amber 0.00, 4.6ms\n",
      "Speed: 1.2ms preprocess, 4.6ms inference, 0.0ms postprocess per image at shape (1, 3, 128, 128)\n",
      "\n",
      "0: 128x128 clear 1.00, cloudy 0.00, amber 0.00, 4.7ms\n",
      "Speed: 1.2ms preprocess, 4.7ms inference, 0.0ms postprocess per image at shape (1, 3, 128, 128)\n",
      "\n",
      "0: 128x128 clear 0.97, cloudy 0.02, amber 0.01, 4.7ms\n",
      "Speed: 1.3ms preprocess, 4.7ms inference, 0.0ms postprocess per image at shape (1, 3, 128, 128)\n",
      "\n",
      "0: 128x128 clear 1.00, cloudy 0.00, amber 0.00, 4.7ms\n",
      "Speed: 1.4ms preprocess, 4.7ms inference, 0.1ms postprocess per image at shape (1, 3, 128, 128)\n",
      "\n",
      "0: 128x128 clear 0.94, cloudy 0.05, amber 0.00, 4.9ms\n",
      "Speed: 1.5ms preprocess, 4.9ms inference, 0.0ms postprocess per image at shape (1, 3, 128, 128)\n",
      "\n",
      "0: 128x128 clear 1.00, amber 0.00, cloudy 0.00, 4.7ms\n",
      "Speed: 1.4ms preprocess, 4.7ms inference, 0.0ms postprocess per image at shape (1, 3, 128, 128)\n",
      "\n",
      "0: 128x128 clear 1.00, cloudy 0.00, amber 0.00, 4.6ms\n",
      "Speed: 1.3ms preprocess, 4.6ms inference, 0.0ms postprocess per image at shape (1, 3, 128, 128)\n",
      "\n",
      "0: 128x128 clear 0.97, cloudy 0.03, amber 0.00, 4.6ms\n",
      "Speed: 1.4ms preprocess, 4.6ms inference, 0.0ms postprocess per image at shape (1, 3, 128, 128)\n",
      "\n",
      "0: 128x128 clear 1.00, cloudy 0.00, amber 0.00, 4.6ms\n",
      "Speed: 1.4ms preprocess, 4.6ms inference, 0.0ms postprocess per image at shape (1, 3, 128, 128)\n",
      "\n",
      "0: 128x128 clear 1.00, cloudy 0.00, amber 0.00, 4.7ms\n",
      "Speed: 1.8ms preprocess, 4.7ms inference, 0.0ms postprocess per image at shape (1, 3, 128, 128)\n",
      "\n",
      "0: 128x128 clear 1.00, cloudy 0.00, amber 0.00, 4.5ms\n",
      "Speed: 1.3ms preprocess, 4.5ms inference, 0.0ms postprocess per image at shape (1, 3, 128, 128)\n",
      "\n",
      "0: 128x128 clear 1.00, cloudy 0.00, amber 0.00, 4.8ms\n",
      "Speed: 1.7ms preprocess, 4.8ms inference, 0.0ms postprocess per image at shape (1, 3, 128, 128)\n",
      "\n",
      "0: 128x128 clear 0.97, cloudy 0.03, amber 0.00, 4.5ms\n",
      "Speed: 1.4ms preprocess, 4.5ms inference, 0.0ms postprocess per image at shape (1, 3, 128, 128)\n",
      "\n",
      "0: 128x128 clear 0.75, cloudy 0.25, amber 0.00, 6.6ms\n",
      "Speed: 1.2ms preprocess, 6.6ms inference, 0.1ms postprocess per image at shape (1, 3, 128, 128)\n",
      "\n",
      "0: 128x128 clear 0.74, cloudy 0.26, amber 0.00, 5.9ms\n",
      "Speed: 2.1ms preprocess, 5.9ms inference, 0.1ms postprocess per image at shape (1, 3, 128, 128)\n",
      "\n",
      "0: 128x128 clear 0.99, amber 0.01, cloudy 0.00, 5.1ms\n",
      "Speed: 1.7ms preprocess, 5.1ms inference, 0.0ms postprocess per image at shape (1, 3, 128, 128)\n",
      "\n",
      "0: 128x128 clear 1.00, cloudy 0.00, amber 0.00, 4.9ms\n",
      "Speed: 1.6ms preprocess, 4.9ms inference, 0.0ms postprocess per image at shape (1, 3, 128, 128)\n",
      "\n",
      "0: 128x128 cloudy 0.88, clear 0.12, amber 0.00, 5.5ms\n",
      "Speed: 1.4ms preprocess, 5.5ms inference, 0.1ms postprocess per image at shape (1, 3, 128, 128)\n",
      "\n",
      "0: 128x128 cloudy 0.95, clear 0.05, amber 0.00, 5.8ms\n",
      "Speed: 1.9ms preprocess, 5.8ms inference, 0.0ms postprocess per image at shape (1, 3, 128, 128)\n",
      "\n",
      "0: 128x128 clear 0.98, cloudy 0.02, amber 0.00, 5.2ms\n",
      "Speed: 1.6ms preprocess, 5.2ms inference, 0.0ms postprocess per image at shape (1, 3, 128, 128)\n",
      "\n",
      "0: 128x128 clear 0.99, cloudy 0.01, amber 0.00, 5.0ms\n",
      "Speed: 1.5ms preprocess, 5.0ms inference, 0.0ms postprocess per image at shape (1, 3, 128, 128)\n",
      "\n",
      "0: 128x128 clear 0.96, cloudy 0.04, amber 0.00, 4.7ms\n",
      "Speed: 1.4ms preprocess, 4.7ms inference, 0.1ms postprocess per image at shape (1, 3, 128, 128)\n",
      "\n",
      "0: 128x128 clear 0.92, cloudy 0.08, amber 0.00, 5.1ms\n",
      "Speed: 1.3ms preprocess, 5.1ms inference, 0.1ms postprocess per image at shape (1, 3, 128, 128)\n",
      "\n",
      "0: 128x128 clear 1.00, cloudy 0.00, amber 0.00, 4.7ms\n",
      "Speed: 1.5ms preprocess, 4.7ms inference, 0.1ms postprocess per image at shape (1, 3, 128, 128)\n",
      "\n",
      "0: 128x128 clear 0.99, cloudy 0.01, amber 0.00, 6.2ms\n",
      "Speed: 1.9ms preprocess, 6.2ms inference, 0.1ms postprocess per image at shape (1, 3, 128, 128)\n",
      "\n",
      "0: 128x128 clear 0.99, amber 0.00, cloudy 0.00, 5.5ms\n",
      "Speed: 1.9ms preprocess, 5.5ms inference, 0.1ms postprocess per image at shape (1, 3, 128, 128)\n",
      "\n",
      "0: 128x128 clear 0.93, cloudy 0.07, amber 0.00, 5.3ms\n",
      "Speed: 1.4ms preprocess, 5.3ms inference, 0.1ms postprocess per image at shape (1, 3, 128, 128)\n",
      "\n",
      "0: 128x128 clear 0.68, amber 0.29, cloudy 0.04, 7.6ms\n",
      "Speed: 2.3ms preprocess, 7.6ms inference, 0.1ms postprocess per image at shape (1, 3, 128, 128)\n",
      "\n",
      "0: 128x128 clear 1.00, cloudy 0.00, amber 0.00, 6.2ms\n",
      "Speed: 1.9ms preprocess, 6.2ms inference, 0.1ms postprocess per image at shape (1, 3, 128, 128)\n",
      "\n",
      "0: 128x128 clear 1.00, cloudy 0.00, amber 0.00, 4.8ms\n",
      "Speed: 1.6ms preprocess, 4.8ms inference, 0.0ms postprocess per image at shape (1, 3, 128, 128)\n",
      "\n",
      "0: 128x128 clear 1.00, cloudy 0.00, amber 0.00, 4.6ms\n",
      "Speed: 1.5ms preprocess, 4.6ms inference, 0.0ms postprocess per image at shape (1, 3, 128, 128)\n",
      "\n",
      "0: 128x128 clear 0.98, cloudy 0.02, amber 0.00, 4.5ms\n",
      "Speed: 1.3ms preprocess, 4.5ms inference, 0.0ms postprocess per image at shape (1, 3, 128, 128)\n",
      "\n",
      "0: 128x128 clear 0.97, cloudy 0.03, amber 0.00, 4.4ms\n",
      "Speed: 1.4ms preprocess, 4.4ms inference, 0.0ms postprocess per image at shape (1, 3, 128, 128)\n",
      "\n",
      "0: 128x128 cloudy 0.61, clear 0.38, amber 0.00, 5.9ms\n",
      "Speed: 1.6ms preprocess, 5.9ms inference, 0.0ms postprocess per image at shape (1, 3, 128, 128)\n",
      "\n",
      "0: 128x128 clear 1.00, cloudy 0.00, amber 0.00, 4.7ms\n",
      "Speed: 1.3ms preprocess, 4.7ms inference, 0.0ms postprocess per image at shape (1, 3, 128, 128)\n",
      "\n",
      "0: 128x128 clear 1.00, amber 0.00, cloudy 0.00, 4.5ms\n",
      "Speed: 1.2ms preprocess, 4.5ms inference, 0.0ms postprocess per image at shape (1, 3, 128, 128)\n",
      "\n",
      "0: 128x128 clear 0.97, amber 0.02, cloudy 0.00, 4.7ms\n",
      "Speed: 1.1ms preprocess, 4.7ms inference, 0.1ms postprocess per image at shape (1, 3, 128, 128)\n",
      "\n",
      "0: 128x128 clear 1.00, cloudy 0.00, amber 0.00, 4.7ms\n",
      "Speed: 1.2ms preprocess, 4.7ms inference, 0.0ms postprocess per image at shape (1, 3, 128, 128)\n",
      "\n",
      "0: 128x128 clear 0.85, cloudy 0.15, amber 0.00, 4.6ms\n",
      "Speed: 1.4ms preprocess, 4.6ms inference, 0.1ms postprocess per image at shape (1, 3, 128, 128)\n",
      "\n",
      "0: 128x128 clear 0.97, cloudy 0.02, amber 0.01, 5.1ms\n",
      "Speed: 1.6ms preprocess, 5.1ms inference, 0.0ms postprocess per image at shape (1, 3, 128, 128)\n",
      "\n",
      "0: 128x128 clear 0.99, cloudy 0.01, amber 0.00, 5.9ms\n",
      "Speed: 1.8ms preprocess, 5.9ms inference, 0.1ms postprocess per image at shape (1, 3, 128, 128)\n",
      "\n",
      "0: 128x128 clear 0.98, cloudy 0.01, amber 0.00, 4.7ms\n",
      "Speed: 1.6ms preprocess, 4.7ms inference, 0.0ms postprocess per image at shape (1, 3, 128, 128)\n",
      "\n",
      "0: 128x128 clear 1.00, cloudy 0.00, amber 0.00, 4.6ms\n",
      "Speed: 1.3ms preprocess, 4.6ms inference, 0.0ms postprocess per image at shape (1, 3, 128, 128)\n",
      "\n",
      "0: 128x128 cloudy 0.52, clear 0.30, amber 0.19, 4.5ms\n",
      "Speed: 1.3ms preprocess, 4.5ms inference, 0.0ms postprocess per image at shape (1, 3, 128, 128)\n",
      "\n",
      "0: 128x128 cloudy 1.00, clear 0.00, amber 0.00, 4.6ms\n",
      "Speed: 1.3ms preprocess, 4.6ms inference, 0.0ms postprocess per image at shape (1, 3, 128, 128)\n",
      "\n",
      "0: 128x128 cloudy 1.00, clear 0.00, amber 0.00, 4.6ms\n",
      "Speed: 1.3ms preprocess, 4.6ms inference, 0.0ms postprocess per image at shape (1, 3, 128, 128)\n",
      "\n",
      "0: 128x128 cloudy 1.00, clear 0.00, amber 0.00, 4.6ms\n",
      "Speed: 1.2ms preprocess, 4.6ms inference, 0.0ms postprocess per image at shape (1, 3, 128, 128)\n",
      "\n",
      "0: 128x128 cloudy 0.71, clear 0.29, amber 0.00, 4.5ms\n",
      "Speed: 1.3ms preprocess, 4.5ms inference, 0.0ms postprocess per image at shape (1, 3, 128, 128)\n",
      "\n",
      "0: 128x128 cloudy 1.00, clear 0.00, amber 0.00, 4.5ms\n",
      "Speed: 1.3ms preprocess, 4.5ms inference, 0.0ms postprocess per image at shape (1, 3, 128, 128)\n",
      "\n",
      "0: 128x128 cloudy 0.98, clear 0.02, amber 0.00, 4.4ms\n",
      "Speed: 1.2ms preprocess, 4.4ms inference, 0.0ms postprocess per image at shape (1, 3, 128, 128)\n",
      "\n",
      "0: 128x128 cloudy 1.00, clear 0.00, amber 0.00, 4.4ms\n",
      "Speed: 1.1ms preprocess, 4.4ms inference, 0.0ms postprocess per image at shape (1, 3, 128, 128)\n",
      "\n",
      "0: 128x128 cloudy 1.00, clear 0.00, amber 0.00, 4.5ms\n",
      "Speed: 1.2ms preprocess, 4.5ms inference, 0.0ms postprocess per image at shape (1, 3, 128, 128)\n",
      "\n",
      "0: 128x128 cloudy 0.89, amber 0.09, clear 0.01, 6.1ms\n",
      "Speed: 1.8ms preprocess, 6.1ms inference, 0.0ms postprocess per image at shape (1, 3, 128, 128)\n",
      "\n",
      "0: 128x128 cloudy 1.00, clear 0.00, amber 0.00, 4.6ms\n",
      "Speed: 1.3ms preprocess, 4.6ms inference, 0.0ms postprocess per image at shape (1, 3, 128, 128)\n",
      "\n",
      "0: 128x128 clear 0.73, cloudy 0.27, amber 0.00, 4.3ms\n",
      "Speed: 1.3ms preprocess, 4.3ms inference, 0.0ms postprocess per image at shape (1, 3, 128, 128)\n",
      "\n",
      "0: 128x128 cloudy 1.00, amber 0.00, clear 0.00, 4.4ms\n",
      "Speed: 1.4ms preprocess, 4.4ms inference, 0.0ms postprocess per image at shape (1, 3, 128, 128)\n",
      "\n",
      "0: 128x128 cloudy 1.00, clear 0.00, amber 0.00, 4.4ms\n",
      "Speed: 1.4ms preprocess, 4.4ms inference, 0.0ms postprocess per image at shape (1, 3, 128, 128)\n",
      "\n",
      "0: 128x128 amber 0.77, cloudy 0.20, clear 0.04, 4.5ms\n",
      "Speed: 1.4ms preprocess, 4.5ms inference, 0.0ms postprocess per image at shape (1, 3, 128, 128)\n",
      "\n",
      "0: 128x128 cloudy 1.00, clear 0.00, amber 0.00, 4.6ms\n",
      "Speed: 1.5ms preprocess, 4.6ms inference, 0.0ms postprocess per image at shape (1, 3, 128, 128)\n",
      "\n",
      "0: 128x128 cloudy 0.99, amber 0.00, clear 0.00, 4.5ms\n",
      "Speed: 1.4ms preprocess, 4.5ms inference, 0.0ms postprocess per image at shape (1, 3, 128, 128)\n",
      "\n",
      "0: 128x128 cloudy 0.82, amber 0.13, clear 0.06, 4.3ms\n",
      "Speed: 1.3ms preprocess, 4.3ms inference, 0.0ms postprocess per image at shape (1, 3, 128, 128)\n",
      "\n",
      "0: 128x128 cloudy 1.00, clear 0.00, amber 0.00, 4.5ms\n",
      "Speed: 1.4ms preprocess, 4.5ms inference, 0.0ms postprocess per image at shape (1, 3, 128, 128)\n",
      "\n",
      "0: 128x128 cloudy 1.00, amber 0.00, clear 0.00, 4.4ms\n",
      "Speed: 1.3ms preprocess, 4.4ms inference, 0.0ms postprocess per image at shape (1, 3, 128, 128)\n",
      "\n",
      "0: 128x128 cloudy 1.00, clear 0.00, amber 0.00, 4.4ms\n",
      "Speed: 1.3ms preprocess, 4.4ms inference, 0.0ms postprocess per image at shape (1, 3, 128, 128)\n",
      "\n",
      "0: 128x128 cloudy 1.00, clear 0.00, amber 0.00, 4.3ms\n",
      "Speed: 1.2ms preprocess, 4.3ms inference, 0.0ms postprocess per image at shape (1, 3, 128, 128)\n",
      "\n",
      "0: 128x128 cloudy 0.85, amber 0.07, clear 0.07, 4.6ms\n",
      "Speed: 1.4ms preprocess, 4.6ms inference, 0.1ms postprocess per image at shape (1, 3, 128, 128)\n",
      "\n",
      "0: 128x128 cloudy 1.00, clear 0.00, amber 0.00, 4.8ms\n",
      "Speed: 1.3ms preprocess, 4.8ms inference, 0.1ms postprocess per image at shape (1, 3, 128, 128)\n",
      "\n",
      "0: 128x128 cloudy 1.00, clear 0.00, amber 0.00, 4.9ms\n",
      "Speed: 1.4ms preprocess, 4.9ms inference, 0.0ms postprocess per image at shape (1, 3, 128, 128)\n",
      "\n",
      "0: 128x128 clear 0.83, cloudy 0.17, amber 0.00, 4.7ms\n",
      "Speed: 1.6ms preprocess, 4.7ms inference, 0.0ms postprocess per image at shape (1, 3, 128, 128)\n",
      "\n",
      "0: 128x128 cloudy 1.00, clear 0.00, amber 0.00, 4.9ms\n",
      "Speed: 1.6ms preprocess, 4.9ms inference, 0.1ms postprocess per image at shape (1, 3, 128, 128)\n",
      "\n",
      "0: 128x128 cloudy 1.00, clear 0.00, amber 0.00, 4.8ms\n",
      "Speed: 1.7ms preprocess, 4.8ms inference, 0.1ms postprocess per image at shape (1, 3, 128, 128)\n",
      "\n",
      "0: 128x128 cloudy 1.00, amber 0.00, clear 0.00, 4.7ms\n",
      "Speed: 1.7ms preprocess, 4.7ms inference, 0.0ms postprocess per image at shape (1, 3, 128, 128)\n",
      "\n",
      "0: 128x128 cloudy 1.00, clear 0.00, amber 0.00, 4.7ms\n",
      "Speed: 1.4ms preprocess, 4.7ms inference, 0.0ms postprocess per image at shape (1, 3, 128, 128)\n",
      "\n",
      "0: 128x128 cloudy 0.83, clear 0.17, amber 0.00, 4.7ms\n",
      "Speed: 1.6ms preprocess, 4.7ms inference, 0.1ms postprocess per image at shape (1, 3, 128, 128)\n",
      "\n",
      "0: 128x128 cloudy 0.99, amber 0.01, clear 0.00, 4.8ms\n",
      "Speed: 1.3ms preprocess, 4.8ms inference, 0.0ms postprocess per image at shape (1, 3, 128, 128)\n",
      "\n",
      "0: 128x128 cloudy 1.00, amber 0.00, clear 0.00, 4.9ms\n",
      "Speed: 1.5ms preprocess, 4.9ms inference, 0.1ms postprocess per image at shape (1, 3, 128, 128)\n",
      "\n",
      "0: 128x128 cloudy 0.99, clear 0.01, amber 0.00, 6.1ms\n",
      "Speed: 1.8ms preprocess, 6.1ms inference, 0.1ms postprocess per image at shape (1, 3, 128, 128)\n",
      "\n",
      "0: 128x128 clear 0.83, cloudy 0.17, amber 0.00, 5.4ms\n",
      "Speed: 1.9ms preprocess, 5.4ms inference, 0.1ms postprocess per image at shape (1, 3, 128, 128)\n",
      "\n",
      "0: 128x128 cloudy 0.75, clear 0.25, amber 0.00, 4.7ms\n",
      "Speed: 1.4ms preprocess, 4.7ms inference, 0.0ms postprocess per image at shape (1, 3, 128, 128)\n",
      "\n",
      "0: 128x128 cloudy 0.86, amber 0.13, clear 0.01, 5.8ms\n",
      "Speed: 1.3ms preprocess, 5.8ms inference, 0.1ms postprocess per image at shape (1, 3, 128, 128)\n",
      "\n",
      "0: 128x128 cloudy 0.98, clear 0.01, amber 0.00, 6.1ms\n",
      "Speed: 1.8ms preprocess, 6.1ms inference, 0.1ms postprocess per image at shape (1, 3, 128, 128)\n",
      "\n",
      "0: 128x128 cloudy 1.00, amber 0.00, clear 0.00, 5.6ms\n",
      "Speed: 2.0ms preprocess, 5.6ms inference, 0.1ms postprocess per image at shape (1, 3, 128, 128)\n",
      "\n",
      "0: 128x128 cloudy 1.00, clear 0.00, amber 0.00, 5.9ms\n",
      "Speed: 1.4ms preprocess, 5.9ms inference, 0.1ms postprocess per image at shape (1, 3, 128, 128)\n",
      "\n",
      "0: 128x128 cloudy 1.00, amber 0.00, clear 0.00, 6.4ms\n",
      "Speed: 1.6ms preprocess, 6.4ms inference, 0.1ms postprocess per image at shape (1, 3, 128, 128)\n",
      "\n",
      "0: 128x128 clear 0.99, cloudy 0.01, amber 0.00, 7.2ms\n",
      "Speed: 2.1ms preprocess, 7.2ms inference, 0.1ms postprocess per image at shape (1, 3, 128, 128)\n",
      "\n",
      "0: 128x128 cloudy 0.98, amber 0.02, clear 0.00, 6.9ms\n",
      "Speed: 2.2ms preprocess, 6.9ms inference, 0.0ms postprocess per image at shape (1, 3, 128, 128)\n",
      "\n",
      "0: 128x128 cloudy 1.00, amber 0.00, clear 0.00, 6.5ms\n",
      "Speed: 1.9ms preprocess, 6.5ms inference, 0.0ms postprocess per image at shape (1, 3, 128, 128)\n",
      "\n",
      "0: 128x128 cloudy 0.99, clear 0.01, amber 0.00, 7.1ms\n",
      "Speed: 2.0ms preprocess, 7.1ms inference, 0.1ms postprocess per image at shape (1, 3, 128, 128)\n",
      "\n",
      "0: 128x128 cloudy 1.00, amber 0.00, clear 0.00, 6.2ms\n",
      "Speed: 2.1ms preprocess, 6.2ms inference, 0.1ms postprocess per image at shape (1, 3, 128, 128)\n",
      "\n",
      "0: 128x128 cloudy 1.00, amber 0.00, clear 0.00, 4.7ms\n",
      "Speed: 1.6ms preprocess, 4.7ms inference, 0.0ms postprocess per image at shape (1, 3, 128, 128)\n",
      "\n",
      "0: 128x128 cloudy 0.56, clear 0.42, amber 0.01, 4.8ms\n",
      "Speed: 1.7ms preprocess, 4.8ms inference, 0.0ms postprocess per image at shape (1, 3, 128, 128)\n",
      "\n",
      "0: 128x128 cloudy 1.00, clear 0.00, amber 0.00, 4.7ms\n",
      "Speed: 1.6ms preprocess, 4.7ms inference, 0.1ms postprocess per image at shape (1, 3, 128, 128)\n",
      "\n",
      "0: 128x128 cloudy 0.99, amber 0.01, clear 0.01, 5.1ms\n",
      "Speed: 1.7ms preprocess, 5.1ms inference, 0.0ms postprocess per image at shape (1, 3, 128, 128)\n",
      "\n",
      "0: 128x128 cloudy 0.99, amber 0.01, clear 0.00, 5.5ms\n",
      "Speed: 1.9ms preprocess, 5.5ms inference, 0.1ms postprocess per image at shape (1, 3, 128, 128)\n",
      "\n",
      "0: 128x128 cloudy 1.00, clear 0.00, amber 0.00, 4.7ms\n",
      "Speed: 1.4ms preprocess, 4.7ms inference, 0.0ms postprocess per image at shape (1, 3, 128, 128)\n",
      "Training YOLOv11 Small model...\n",
      "Ultralytics 8.3.56 🚀 Python-3.9.19 torch-2.3.1+cu121 CUDA:0 (NVIDIA GeForce RTX 3090, 24253MiB)\n",
      "\u001b[34m\u001b[1mengine/trainer: \u001b[0mtask=classify, mode=train, model=/home/etaylor/code_projects/thesis/checkpoints/trichome_image_classification/yolo/yolo11s-cls.pt, data=/home/etaylor/code_projects/thesis/classification_datasets/trichome_classification/extracted_trichomes_images/balanced_good_quality, epochs=10, time=None, patience=100, batch=16, imgsz=128, save=True, save_period=-1, cache=False, device=None, workers=8, project=None, name=train339, exist_ok=False, pretrained=True, optimizer=auto, verbose=True, seed=0, deterministic=True, single_cls=False, rect=False, cos_lr=False, close_mosaic=10, resume=False, amp=True, fraction=1.0, profile=False, freeze=None, multi_scale=False, overlap_mask=True, mask_ratio=4, dropout=0.0, val=True, split=val, save_json=False, save_hybrid=False, conf=None, iou=0.7, max_det=300, half=False, dnn=False, plots=True, source=None, vid_stride=1, stream_buffer=False, visualize=False, augment=False, agnostic_nms=False, classes=None, retina_masks=False, embed=None, show=False, save_frames=False, save_txt=False, save_conf=False, save_crop=False, show_labels=True, show_conf=True, show_boxes=True, line_width=None, format=torchscript, keras=False, optimize=False, int8=False, dynamic=False, simplify=True, opset=None, workspace=None, nms=False, lr0=0.01, lrf=0.01, momentum=0.937, weight_decay=0.0005, warmup_epochs=3.0, warmup_momentum=0.8, warmup_bias_lr=0.1, box=7.5, cls=0.5, dfl=1.5, pose=12.0, kobj=1.0, nbs=64, hsv_h=0.015, hsv_s=0.7, hsv_v=0.4, degrees=0.0, translate=0.1, scale=0.5, shear=0.0, perspective=0.0, flipud=0.0, fliplr=0.5, bgr=0.0, mosaic=1.0, mixup=0.0, copy_paste=0.0, copy_paste_mode=flip, auto_augment=randaugment, erasing=0.4, crop_fraction=1.0, cfg=None, tracker=botsort.yaml, save_dir=/home/etaylor/runs/classify/train339\n",
      "\u001b[34m\u001b[1mtrain:\u001b[0m /sise/home/etaylor/code_projects/thesis/classification_datasets/trichome_classification/extracted_trichomes_images/balanced_good_quality/train... found 462 images in 3 classes ✅ \n",
      "\u001b[34m\u001b[1mval:\u001b[0m /sise/home/etaylor/code_projects/thesis/classification_datasets/trichome_classification/extracted_trichomes_images/balanced_good_quality/val... found 156 images in 3 classes ✅ \n",
      "\u001b[34m\u001b[1mtest:\u001b[0m None...\n",
      "Overriding model.yaml nc=80 with nc=3\n",
      "\n",
      "                   from  n    params  module                                       arguments                     \n",
      "  0                  -1  1       928  ultralytics.nn.modules.conv.Conv             [3, 32, 3, 2]                 \n",
      "  1                  -1  1     18560  ultralytics.nn.modules.conv.Conv             [32, 64, 3, 2]                \n",
      "  2                  -1  1     26080  ultralytics.nn.modules.block.C3k2            [64, 128, 1, False, 0.25]     \n",
      "  3                  -1  1    147712  ultralytics.nn.modules.conv.Conv             [128, 128, 3, 2]              \n",
      "  4                  -1  1    103360  ultralytics.nn.modules.block.C3k2            [128, 256, 1, False, 0.25]    \n",
      "  5                  -1  1    590336  ultralytics.nn.modules.conv.Conv             [256, 256, 3, 2]              \n",
      "  6                  -1  1    346112  ultralytics.nn.modules.block.C3k2            [256, 256, 1, True]           \n",
      "  7                  -1  1   1180672  ultralytics.nn.modules.conv.Conv             [256, 512, 3, 2]              \n",
      "  8                  -1  1   1380352  ultralytics.nn.modules.block.C3k2            [512, 512, 1, True]           \n",
      "  9                  -1  1    990976  ultralytics.nn.modules.block.C2PSA           [512, 512, 1]                 \n",
      " 10                  -1  1    661763  ultralytics.nn.modules.head.Classify         [512, 3]                      \n",
      "YOLO11s-cls summary: 151 layers, 5,446,851 parameters, 5,446,851 gradients, 12.1 GFLOPs\n",
      "Transferred 234/236 items from pretrained weights\n",
      "\u001b[34m\u001b[1mTensorBoard: \u001b[0mStart with 'tensorboard --logdir /home/etaylor/runs/classify/train339', view at http://localhost:6006/\n",
      "\u001b[34m\u001b[1mAMP: \u001b[0mrunning Automatic Mixed Precision (AMP) checks...\n",
      "\u001b[34m\u001b[1mAMP: \u001b[0mchecks passed ✅\n"
     ]
    },
    {
     "name": "stderr",
     "output_type": "stream",
     "text": [
      "\u001b[34m\u001b[1mtrain: \u001b[0mScanning /sise/home/etaylor/code_projects/thesis/classification_datasets/trichome_classification/extracted_trichomes_images/balanced_good_quality/train... 462 images, 0 corrupt: 100%|██████████| 462/462 [00:00<?, ?it/s]\n",
      "/home/etaylor/.conda/envs/detectron_fastai/lib/python3.9/site-packages/torch/utils/data/dataloader.py:558: UserWarning: This DataLoader will create 8 worker processes in total. Our suggested max number of worker in current system is 6, which is smaller than what this DataLoader is going to create. Please be aware that excessive worker creation might get DataLoader running slow or even freeze, lower the worker number to avoid potential slowness/freeze if necessary.\n",
      "  warnings.warn(_create_warning_msg(\n",
      "\u001b[34m\u001b[1mval: \u001b[0mScanning /sise/home/etaylor/code_projects/thesis/classification_datasets/trichome_classification/extracted_trichomes_images/balanced_good_quality/val... 156 images, 0 corrupt: 100%|██████████| 156/156 [00:00<?, ?it/s]\n"
     ]
    },
    {
     "name": "stdout",
     "output_type": "stream",
     "text": [
      "\u001b[34m\u001b[1moptimizer:\u001b[0m 'optimizer=auto' found, ignoring 'lr0=0.01' and 'momentum=0.937' and determining best 'optimizer', 'lr0' and 'momentum' automatically... \n",
      "\u001b[34m\u001b[1moptimizer:\u001b[0m AdamW(lr=0.000714, momentum=0.9) with parameter groups 39 weight(decay=0.0), 40 weight(decay=0.0005), 40 bias(decay=0.0)\n",
      "\u001b[34m\u001b[1mTensorBoard: \u001b[0mmodel graph visualization added ✅\n",
      "Image sizes 128 train, 128 val\n",
      "Using 8 dataloader workers\n",
      "Logging results to \u001b[1m/home/etaylor/runs/classify/train339\u001b[0m\n",
      "Starting training for 10 epochs...\n"
     ]
    },
    {
     "name": "stderr",
     "output_type": "stream",
     "text": [
      "/home/etaylor/.conda/envs/detectron_fastai/lib/python3.9/site-packages/torch/utils/data/dataloader.py:558: UserWarning: This DataLoader will create 8 worker processes in total. Our suggested max number of worker in current system is 6, which is smaller than what this DataLoader is going to create. Please be aware that excessive worker creation might get DataLoader running slow or even freeze, lower the worker number to avoid potential slowness/freeze if necessary.\n",
      "  warnings.warn(_create_warning_msg(\n"
     ]
    },
    {
     "name": "stdout",
     "output_type": "stream",
     "text": [
      "\n",
      "      Epoch    GPU_mem       loss  Instances       Size\n"
     ]
    },
    {
     "name": "stderr",
     "output_type": "stream",
     "text": [
      "       1/10      2.68G       1.03         14        128: 100%|██████████| 29/29 [00:01<00:00, 18.65it/s]\n",
      "               classes   top1_acc   top5_acc: 100%|██████████| 5/5 [00:00<00:00, 24.17it/s]"
     ]
    },
    {
     "name": "stdout",
     "output_type": "stream",
     "text": [
      "                   all      0.776          1\n"
     ]
    },
    {
     "name": "stderr",
     "output_type": "stream",
     "text": [
      "\n"
     ]
    },
    {
     "name": "stdout",
     "output_type": "stream",
     "text": [
      "\n",
      "      Epoch    GPU_mem       loss  Instances       Size\n"
     ]
    },
    {
     "name": "stderr",
     "output_type": "stream",
     "text": [
      "       2/10      2.01G     0.5508         14        128: 100%|██████████| 29/29 [00:01<00:00, 25.88it/s]\n",
      "               classes   top1_acc   top5_acc: 100%|██████████| 5/5 [00:00<00:00, 87.64it/s]"
     ]
    },
    {
     "name": "stdout",
     "output_type": "stream",
     "text": [
      "                   all      0.891          1\n"
     ]
    },
    {
     "name": "stderr",
     "output_type": "stream",
     "text": [
      "\n"
     ]
    },
    {
     "name": "stdout",
     "output_type": "stream",
     "text": [
      "\n",
      "      Epoch    GPU_mem       loss  Instances       Size\n"
     ]
    },
    {
     "name": "stderr",
     "output_type": "stream",
     "text": [
      "       3/10      2.01G     0.3213         14        128: 100%|██████████| 29/29 [00:01<00:00, 25.29it/s]\n",
      "               classes   top1_acc   top5_acc: 100%|██████████| 5/5 [00:00<00:00, 76.00it/s]"
     ]
    },
    {
     "name": "stdout",
     "output_type": "stream",
     "text": [
      "                   all      0.917          1\n"
     ]
    },
    {
     "name": "stderr",
     "output_type": "stream",
     "text": [
      "\n"
     ]
    },
    {
     "name": "stdout",
     "output_type": "stream",
     "text": [
      "\n",
      "      Epoch    GPU_mem       loss  Instances       Size\n"
     ]
    },
    {
     "name": "stderr",
     "output_type": "stream",
     "text": [
      "       4/10      2.01G     0.2821         14        128: 100%|██████████| 29/29 [00:01<00:00, 25.84it/s]\n",
      "               classes   top1_acc   top5_acc: 100%|██████████| 5/5 [00:00<00:00, 88.26it/s]"
     ]
    },
    {
     "name": "stdout",
     "output_type": "stream",
     "text": [
      "                   all      0.949          1\n"
     ]
    },
    {
     "name": "stderr",
     "output_type": "stream",
     "text": [
      "\n"
     ]
    },
    {
     "name": "stdout",
     "output_type": "stream",
     "text": [
      "\n",
      "      Epoch    GPU_mem       loss  Instances       Size\n"
     ]
    },
    {
     "name": "stderr",
     "output_type": "stream",
     "text": [
      "       5/10      1.99G     0.3007         14        128: 100%|██████████| 29/29 [00:01<00:00, 26.27it/s]\n",
      "               classes   top1_acc   top5_acc: 100%|██████████| 5/5 [00:00<00:00, 86.31it/s]"
     ]
    },
    {
     "name": "stdout",
     "output_type": "stream",
     "text": [
      "                   all      0.923          1\n"
     ]
    },
    {
     "name": "stderr",
     "output_type": "stream",
     "text": [
      "\n"
     ]
    },
    {
     "name": "stdout",
     "output_type": "stream",
     "text": [
      "\n",
      "      Epoch    GPU_mem       loss  Instances       Size\n"
     ]
    },
    {
     "name": "stderr",
     "output_type": "stream",
     "text": [
      "       6/10      1.99G     0.2587         14        128: 100%|██████████| 29/29 [00:01<00:00, 28.49it/s]\n",
      "               classes   top1_acc   top5_acc: 100%|██████████| 5/5 [00:00<00:00, 85.17it/s]"
     ]
    },
    {
     "name": "stdout",
     "output_type": "stream",
     "text": [
      "                   all      0.936          1\n"
     ]
    },
    {
     "name": "stderr",
     "output_type": "stream",
     "text": [
      "\n"
     ]
    },
    {
     "name": "stdout",
     "output_type": "stream",
     "text": [
      "\n",
      "      Epoch    GPU_mem       loss  Instances       Size\n"
     ]
    },
    {
     "name": "stderr",
     "output_type": "stream",
     "text": [
      "       7/10      1.99G     0.3015         14        128: 100%|██████████| 29/29 [00:01<00:00, 23.04it/s]\n",
      "               classes   top1_acc   top5_acc: 100%|██████████| 5/5 [00:00<00:00, 70.06it/s]\n"
     ]
    },
    {
     "name": "stdout",
     "output_type": "stream",
     "text": [
      "                   all      0.949          1\n",
      "\n",
      "      Epoch    GPU_mem       loss  Instances       Size\n"
     ]
    },
    {
     "name": "stderr",
     "output_type": "stream",
     "text": [
      "       8/10      1.99G     0.2122         14        128: 100%|██████████| 29/29 [00:01<00:00, 28.50it/s]\n",
      "               classes   top1_acc   top5_acc: 100%|██████████| 5/5 [00:00<00:00, 86.90it/s]"
     ]
    },
    {
     "name": "stdout",
     "output_type": "stream",
     "text": [
      "                   all      0.955          1\n"
     ]
    },
    {
     "name": "stderr",
     "output_type": "stream",
     "text": [
      "\n"
     ]
    },
    {
     "name": "stdout",
     "output_type": "stream",
     "text": [
      "\n",
      "      Epoch    GPU_mem       loss  Instances       Size\n"
     ]
    },
    {
     "name": "stderr",
     "output_type": "stream",
     "text": [
      "       9/10      1.99G     0.1975         14        128: 100%|██████████| 29/29 [00:01<00:00, 26.70it/s]\n",
      "               classes   top1_acc   top5_acc: 100%|██████████| 5/5 [00:00<00:00, 86.35it/s]"
     ]
    },
    {
     "name": "stdout",
     "output_type": "stream",
     "text": [
      "                   all      0.936          1\n"
     ]
    },
    {
     "name": "stderr",
     "output_type": "stream",
     "text": [
      "\n"
     ]
    },
    {
     "name": "stdout",
     "output_type": "stream",
     "text": [
      "\n",
      "      Epoch    GPU_mem       loss  Instances       Size\n"
     ]
    },
    {
     "name": "stderr",
     "output_type": "stream",
     "text": [
      "      10/10      1.99G     0.1922         14        128: 100%|██████████| 29/29 [00:01<00:00, 27.87it/s]\n",
      "               classes   top1_acc   top5_acc: 100%|██████████| 5/5 [00:00<00:00, 83.74it/s]"
     ]
    },
    {
     "name": "stdout",
     "output_type": "stream",
     "text": [
      "                   all      0.936          1\n"
     ]
    },
    {
     "name": "stderr",
     "output_type": "stream",
     "text": [
      "\n"
     ]
    },
    {
     "name": "stdout",
     "output_type": "stream",
     "text": [
      "\n",
      "10 epochs completed in 0.027 hours.\n",
      "Optimizer stripped from /home/etaylor/runs/classify/train339/weights/last.pt, 11.0MB\n",
      "Optimizer stripped from /home/etaylor/runs/classify/train339/weights/best.pt, 11.0MB\n",
      "\n",
      "Validating /home/etaylor/runs/classify/train339/weights/best.pt...\n",
      "Ultralytics 8.3.56 🚀 Python-3.9.19 torch-2.3.1+cu121 CUDA:0 (NVIDIA GeForce RTX 3090, 24253MiB)\n",
      "YOLO11s-cls summary (fused): 112 layers, 5,437,971 parameters, 0 gradients, 12.0 GFLOPs\n",
      "\u001b[34m\u001b[1mtrain:\u001b[0m /sise/home/etaylor/code_projects/thesis/classification_datasets/trichome_classification/extracted_trichomes_images/balanced_good_quality/train... found 462 images in 3 classes ✅ \n",
      "\u001b[34m\u001b[1mval:\u001b[0m /sise/home/etaylor/code_projects/thesis/classification_datasets/trichome_classification/extracted_trichomes_images/balanced_good_quality/val... found 156 images in 3 classes ✅ \n",
      "\u001b[34m\u001b[1mtest:\u001b[0m None...\n"
     ]
    },
    {
     "name": "stderr",
     "output_type": "stream",
     "text": [
      "               classes   top1_acc   top5_acc: 100%|██████████| 5/5 [00:00<00:00, 22.83it/s]\n"
     ]
    },
    {
     "name": "stdout",
     "output_type": "stream",
     "text": [
      "                   all      0.955          1\n",
      "Speed: 0.0ms preprocess, 0.7ms inference, 0.0ms loss, 0.0ms postprocess per image\n",
      "Results saved to \u001b[1m/home/etaylor/runs/classify/train339\u001b[0m\n",
      "Evaluating YOLOv11 Small model...\n",
      "\n",
      "0: 128x128 amber 1.00, cloudy 0.00, clear 0.00, 5.4ms\n",
      "Speed: 1.8ms preprocess, 5.4ms inference, 0.1ms postprocess per image at shape (1, 3, 128, 128)\n",
      "\n",
      "0: 128x128 amber 0.95, cloudy 0.03, clear 0.02, 5.8ms\n",
      "Speed: 2.2ms preprocess, 5.8ms inference, 0.1ms postprocess per image at shape (1, 3, 128, 128)\n",
      "\n",
      "0: 128x128 amber 1.00, cloudy 0.00, clear 0.00, 5.6ms\n",
      "Speed: 1.7ms preprocess, 5.6ms inference, 0.1ms postprocess per image at shape (1, 3, 128, 128)\n",
      "\n",
      "0: 128x128 amber 1.00, cloudy 0.00, clear 0.00, 5.3ms\n",
      "Speed: 1.7ms preprocess, 5.3ms inference, 0.1ms postprocess per image at shape (1, 3, 128, 128)\n",
      "\n",
      "0: 128x128 amber 1.00, cloudy 0.00, clear 0.00, 5.0ms\n",
      "Speed: 1.8ms preprocess, 5.0ms inference, 0.0ms postprocess per image at shape (1, 3, 128, 128)\n",
      "\n",
      "0: 128x128 amber 0.99, clear 0.01, cloudy 0.00, 5.0ms\n",
      "Speed: 1.9ms preprocess, 5.0ms inference, 0.1ms postprocess per image at shape (1, 3, 128, 128)\n",
      "\n",
      "0: 128x128 amber 1.00, cloudy 0.00, clear 0.00, 5.2ms\n",
      "Speed: 1.9ms preprocess, 5.2ms inference, 0.0ms postprocess per image at shape (1, 3, 128, 128)\n",
      "\n",
      "0: 128x128 amber 0.99, cloudy 0.00, clear 0.00, 7.7ms\n",
      "Speed: 2.5ms preprocess, 7.7ms inference, 0.1ms postprocess per image at shape (1, 3, 128, 128)\n",
      "\n",
      "0: 128x128 amber 0.99, cloudy 0.01, clear 0.00, 7.2ms\n",
      "Speed: 2.0ms preprocess, 7.2ms inference, 0.1ms postprocess per image at shape (1, 3, 128, 128)\n",
      "\n",
      "0: 128x128 amber 1.00, clear 0.00, cloudy 0.00, 6.7ms\n",
      "Speed: 1.9ms preprocess, 6.7ms inference, 0.1ms postprocess per image at shape (1, 3, 128, 128)\n",
      "\n",
      "0: 128x128 amber 1.00, cloudy 0.00, clear 0.00, 4.8ms\n",
      "Speed: 1.7ms preprocess, 4.8ms inference, 0.1ms postprocess per image at shape (1, 3, 128, 128)\n",
      "\n",
      "0: 128x128 amber 1.00, cloudy 0.00, clear 0.00, 7.2ms\n",
      "Speed: 2.1ms preprocess, 7.2ms inference, 0.1ms postprocess per image at shape (1, 3, 128, 128)\n",
      "\n",
      "0: 128x128 amber 0.93, cloudy 0.07, clear 0.00, 7.1ms\n",
      "Speed: 1.9ms preprocess, 7.1ms inference, 0.1ms postprocess per image at shape (1, 3, 128, 128)\n",
      "\n",
      "0: 128x128 amber 1.00, cloudy 0.00, clear 0.00, 6.8ms\n",
      "Speed: 2.0ms preprocess, 6.8ms inference, 0.1ms postprocess per image at shape (1, 3, 128, 128)\n",
      "\n",
      "0: 128x128 amber 0.86, clear 0.07, cloudy 0.07, 5.1ms\n",
      "Speed: 1.7ms preprocess, 5.1ms inference, 0.1ms postprocess per image at shape (1, 3, 128, 128)\n",
      "\n",
      "0: 128x128 amber 1.00, cloudy 0.00, clear 0.00, 4.9ms\n",
      "Speed: 1.7ms preprocess, 4.9ms inference, 0.1ms postprocess per image at shape (1, 3, 128, 128)\n",
      "\n",
      "0: 128x128 amber 1.00, cloudy 0.00, clear 0.00, 5.7ms\n",
      "Speed: 2.2ms preprocess, 5.7ms inference, 0.0ms postprocess per image at shape (1, 3, 128, 128)\n",
      "\n",
      "0: 128x128 amber 0.84, cloudy 0.16, clear 0.01, 5.3ms\n",
      "Speed: 1.7ms preprocess, 5.3ms inference, 0.0ms postprocess per image at shape (1, 3, 128, 128)\n",
      "\n",
      "0: 128x128 amber 0.86, clear 0.13, cloudy 0.01, 4.8ms\n",
      "Speed: 1.3ms preprocess, 4.8ms inference, 0.0ms postprocess per image at shape (1, 3, 128, 128)\n",
      "\n",
      "0: 128x128 amber 1.00, cloudy 0.00, clear 0.00, 5.0ms\n",
      "Speed: 1.6ms preprocess, 5.0ms inference, 0.0ms postprocess per image at shape (1, 3, 128, 128)\n",
      "\n",
      "0: 128x128 amber 0.88, cloudy 0.09, clear 0.03, 4.8ms\n",
      "Speed: 1.5ms preprocess, 4.8ms inference, 0.0ms postprocess per image at shape (1, 3, 128, 128)\n",
      "\n",
      "0: 128x128 amber 1.00, clear 0.00, cloudy 0.00, 5.0ms\n",
      "Speed: 1.6ms preprocess, 5.0ms inference, 0.1ms postprocess per image at shape (1, 3, 128, 128)\n",
      "\n",
      "0: 128x128 amber 1.00, cloudy 0.00, clear 0.00, 4.6ms\n",
      "Speed: 1.4ms preprocess, 4.6ms inference, 0.0ms postprocess per image at shape (1, 3, 128, 128)\n",
      "\n",
      "0: 128x128 amber 0.98, clear 0.01, cloudy 0.00, 5.0ms\n",
      "Speed: 1.2ms preprocess, 5.0ms inference, 0.1ms postprocess per image at shape (1, 3, 128, 128)\n",
      "\n",
      "0: 128x128 amber 0.93, cloudy 0.06, clear 0.01, 4.5ms\n",
      "Speed: 1.4ms preprocess, 4.5ms inference, 0.0ms postprocess per image at shape (1, 3, 128, 128)\n",
      "\n",
      "0: 128x128 amber 1.00, clear 0.00, cloudy 0.00, 5.1ms\n",
      "Speed: 1.7ms preprocess, 5.1ms inference, 0.0ms postprocess per image at shape (1, 3, 128, 128)\n",
      "\n",
      "0: 128x128 amber 0.86, cloudy 0.11, clear 0.03, 4.6ms\n",
      "Speed: 1.4ms preprocess, 4.6ms inference, 0.0ms postprocess per image at shape (1, 3, 128, 128)\n",
      "\n",
      "0: 128x128 amber 1.00, cloudy 0.00, clear 0.00, 4.9ms\n",
      "Speed: 1.2ms preprocess, 4.9ms inference, 0.0ms postprocess per image at shape (1, 3, 128, 128)\n",
      "\n",
      "0: 128x128 amber 1.00, cloudy 0.00, clear 0.00, 4.7ms\n",
      "Speed: 1.4ms preprocess, 4.7ms inference, 0.0ms postprocess per image at shape (1, 3, 128, 128)\n",
      "\n",
      "0: 128x128 amber 1.00, cloudy 0.00, clear 0.00, 4.5ms\n",
      "Speed: 1.4ms preprocess, 4.5ms inference, 0.0ms postprocess per image at shape (1, 3, 128, 128)\n",
      "\n",
      "0: 128x128 amber 1.00, cloudy 0.00, clear 0.00, 5.0ms\n",
      "Speed: 1.8ms preprocess, 5.0ms inference, 0.1ms postprocess per image at shape (1, 3, 128, 128)\n",
      "\n",
      "0: 128x128 cloudy 0.62, amber 0.34, clear 0.04, 5.0ms\n",
      "Speed: 1.5ms preprocess, 5.0ms inference, 0.1ms postprocess per image at shape (1, 3, 128, 128)\n",
      "\n",
      "0: 128x128 amber 0.95, cloudy 0.05, clear 0.00, 5.6ms\n",
      "Speed: 1.9ms preprocess, 5.6ms inference, 0.0ms postprocess per image at shape (1, 3, 128, 128)\n",
      "\n",
      "0: 128x128 amber 0.98, cloudy 0.02, clear 0.00, 4.8ms\n",
      "Speed: 1.2ms preprocess, 4.8ms inference, 0.0ms postprocess per image at shape (1, 3, 128, 128)\n",
      "\n",
      "0: 128x128 amber 1.00, cloudy 0.00, clear 0.00, 5.2ms\n",
      "Speed: 1.3ms preprocess, 5.2ms inference, 0.0ms postprocess per image at shape (1, 3, 128, 128)\n",
      "\n",
      "0: 128x128 amber 1.00, cloudy 0.00, clear 0.00, 5.9ms\n",
      "Speed: 2.4ms preprocess, 5.9ms inference, 0.1ms postprocess per image at shape (1, 3, 128, 128)\n",
      "\n",
      "0: 128x128 amber 1.00, cloudy 0.00, clear 0.00, 4.8ms\n",
      "Speed: 1.7ms preprocess, 4.8ms inference, 0.0ms postprocess per image at shape (1, 3, 128, 128)\n",
      "\n",
      "0: 128x128 amber 0.78, cloudy 0.21, clear 0.01, 4.8ms\n",
      "Speed: 1.3ms preprocess, 4.8ms inference, 0.0ms postprocess per image at shape (1, 3, 128, 128)\n",
      "\n",
      "0: 128x128 amber 1.00, cloudy 0.00, clear 0.00, 4.9ms\n",
      "Speed: 1.6ms preprocess, 4.9ms inference, 0.0ms postprocess per image at shape (1, 3, 128, 128)\n",
      "\n",
      "0: 128x128 amber 1.00, cloudy 0.00, clear 0.00, 5.1ms\n",
      "Speed: 1.6ms preprocess, 5.1ms inference, 0.0ms postprocess per image at shape (1, 3, 128, 128)\n",
      "\n",
      "0: 128x128 amber 0.96, clear 0.04, cloudy 0.00, 5.2ms\n",
      "Speed: 1.7ms preprocess, 5.2ms inference, 0.1ms postprocess per image at shape (1, 3, 128, 128)\n",
      "\n",
      "0: 128x128 amber 0.91, cloudy 0.08, clear 0.01, 4.7ms\n",
      "Speed: 1.3ms preprocess, 4.7ms inference, 0.0ms postprocess per image at shape (1, 3, 128, 128)\n",
      "\n",
      "0: 128x128 amber 0.88, clear 0.07, cloudy 0.04, 4.6ms\n",
      "Speed: 1.4ms preprocess, 4.6ms inference, 0.0ms postprocess per image at shape (1, 3, 128, 128)\n",
      "\n",
      "0: 128x128 amber 0.99, cloudy 0.01, clear 0.00, 5.8ms\n",
      "Speed: 1.9ms preprocess, 5.8ms inference, 0.1ms postprocess per image at shape (1, 3, 128, 128)\n",
      "\n",
      "0: 128x128 amber 1.00, clear 0.00, cloudy 0.00, 5.0ms\n",
      "Speed: 1.4ms preprocess, 5.0ms inference, 0.0ms postprocess per image at shape (1, 3, 128, 128)\n",
      "\n",
      "0: 128x128 amber 1.00, clear 0.00, cloudy 0.00, 5.6ms\n",
      "Speed: 1.3ms preprocess, 5.6ms inference, 0.0ms postprocess per image at shape (1, 3, 128, 128)\n",
      "\n",
      "0: 128x128 amber 1.00, clear 0.00, cloudy 0.00, 5.1ms\n",
      "Speed: 1.8ms preprocess, 5.1ms inference, 0.0ms postprocess per image at shape (1, 3, 128, 128)\n",
      "\n",
      "0: 128x128 amber 1.00, cloudy 0.00, clear 0.00, 5.1ms\n",
      "Speed: 1.4ms preprocess, 5.1ms inference, 0.1ms postprocess per image at shape (1, 3, 128, 128)\n",
      "\n",
      "0: 128x128 amber 0.99, cloudy 0.01, clear 0.00, 4.7ms\n",
      "Speed: 1.5ms preprocess, 4.7ms inference, 0.0ms postprocess per image at shape (1, 3, 128, 128)\n",
      "\n",
      "0: 128x128 amber 1.00, cloudy 0.00, clear 0.00, 4.8ms\n",
      "Speed: 1.5ms preprocess, 4.8ms inference, 0.0ms postprocess per image at shape (1, 3, 128, 128)\n",
      "\n",
      "0: 128x128 amber 1.00, cloudy 0.00, clear 0.00, 4.7ms\n",
      "Speed: 1.4ms preprocess, 4.7ms inference, 0.0ms postprocess per image at shape (1, 3, 128, 128)\n",
      "\n",
      "0: 128x128 amber 0.99, cloudy 0.01, clear 0.00, 5.1ms\n",
      "Speed: 2.0ms preprocess, 5.1ms inference, 0.0ms postprocess per image at shape (1, 3, 128, 128)\n",
      "\n",
      "0: 128x128 clear 1.00, cloudy 0.00, amber 0.00, 4.8ms\n",
      "Speed: 1.5ms preprocess, 4.8ms inference, 0.1ms postprocess per image at shape (1, 3, 128, 128)\n",
      "\n",
      "0: 128x128 clear 0.91, cloudy 0.07, amber 0.02, 4.8ms\n",
      "Speed: 1.5ms preprocess, 4.8ms inference, 0.0ms postprocess per image at shape (1, 3, 128, 128)\n",
      "\n",
      "0: 128x128 clear 1.00, cloudy 0.00, amber 0.00, 6.5ms\n",
      "Speed: 1.6ms preprocess, 6.5ms inference, 0.1ms postprocess per image at shape (1, 3, 128, 128)\n",
      "\n",
      "0: 128x128 clear 1.00, amber 0.00, cloudy 0.00, 5.2ms\n",
      "Speed: 1.9ms preprocess, 5.2ms inference, 0.1ms postprocess per image at shape (1, 3, 128, 128)\n",
      "\n",
      "0: 128x128 clear 1.00, amber 0.00, cloudy 0.00, 5.7ms\n",
      "Speed: 1.9ms preprocess, 5.7ms inference, 0.0ms postprocess per image at shape (1, 3, 128, 128)\n",
      "\n",
      "0: 128x128 clear 0.99, amber 0.01, cloudy 0.00, 5.6ms\n",
      "Speed: 2.4ms preprocess, 5.6ms inference, 0.1ms postprocess per image at shape (1, 3, 128, 128)\n",
      "\n",
      "0: 128x128 clear 1.00, cloudy 0.00, amber 0.00, 5.5ms\n",
      "Speed: 1.5ms preprocess, 5.5ms inference, 0.1ms postprocess per image at shape (1, 3, 128, 128)\n",
      "\n",
      "0: 128x128 clear 1.00, amber 0.00, cloudy 0.00, 5.7ms\n",
      "Speed: 1.8ms preprocess, 5.7ms inference, 0.1ms postprocess per image at shape (1, 3, 128, 128)\n",
      "\n",
      "0: 128x128 clear 0.88, cloudy 0.12, amber 0.00, 4.9ms\n",
      "Speed: 1.6ms preprocess, 4.9ms inference, 0.0ms postprocess per image at shape (1, 3, 128, 128)\n",
      "\n",
      "0: 128x128 clear 0.99, cloudy 0.01, amber 0.00, 4.7ms\n",
      "Speed: 1.3ms preprocess, 4.7ms inference, 0.0ms postprocess per image at shape (1, 3, 128, 128)\n",
      "\n",
      "0: 128x128 clear 1.00, cloudy 0.00, amber 0.00, 7.2ms\n",
      "Speed: 2.0ms preprocess, 7.2ms inference, 0.1ms postprocess per image at shape (1, 3, 128, 128)\n",
      "\n",
      "0: 128x128 clear 0.93, cloudy 0.06, amber 0.01, 7.4ms\n",
      "Speed: 2.0ms preprocess, 7.4ms inference, 0.1ms postprocess per image at shape (1, 3, 128, 128)\n",
      "\n",
      "0: 128x128 clear 1.00, cloudy 0.00, amber 0.00, 6.3ms\n",
      "Speed: 2.0ms preprocess, 6.3ms inference, 0.1ms postprocess per image at shape (1, 3, 128, 128)\n",
      "\n",
      "0: 128x128 clear 0.72, cloudy 0.27, amber 0.01, 5.1ms\n",
      "Speed: 1.5ms preprocess, 5.1ms inference, 0.0ms postprocess per image at shape (1, 3, 128, 128)\n",
      "\n",
      "0: 128x128 clear 1.00, cloudy 0.00, amber 0.00, 5.0ms\n",
      "Speed: 1.6ms preprocess, 5.0ms inference, 0.0ms postprocess per image at shape (1, 3, 128, 128)\n",
      "\n",
      "0: 128x128 clear 1.00, cloudy 0.00, amber 0.00, 5.0ms\n",
      "Speed: 1.4ms preprocess, 5.0ms inference, 0.0ms postprocess per image at shape (1, 3, 128, 128)\n",
      "\n",
      "0: 128x128 clear 0.66, cloudy 0.32, amber 0.02, 8.9ms\n",
      "Speed: 2.2ms preprocess, 8.9ms inference, 0.1ms postprocess per image at shape (1, 3, 128, 128)\n",
      "\n",
      "0: 128x128 clear 1.00, cloudy 0.00, amber 0.00, 4.7ms\n",
      "Speed: 1.4ms preprocess, 4.7ms inference, 0.0ms postprocess per image at shape (1, 3, 128, 128)\n",
      "\n",
      "0: 128x128 clear 1.00, cloudy 0.00, amber 0.00, 6.2ms\n",
      "Speed: 2.1ms preprocess, 6.2ms inference, 0.0ms postprocess per image at shape (1, 3, 128, 128)\n",
      "\n",
      "0: 128x128 clear 1.00, cloudy 0.00, amber 0.00, 4.6ms\n",
      "Speed: 1.3ms preprocess, 4.6ms inference, 0.0ms postprocess per image at shape (1, 3, 128, 128)\n",
      "\n",
      "0: 128x128 clear 0.99, cloudy 0.01, amber 0.00, 4.7ms\n",
      "Speed: 1.4ms preprocess, 4.7ms inference, 0.0ms postprocess per image at shape (1, 3, 128, 128)\n",
      "\n",
      "0: 128x128 clear 1.00, cloudy 0.00, amber 0.00, 4.9ms\n",
      "Speed: 1.5ms preprocess, 4.9ms inference, 0.1ms postprocess per image at shape (1, 3, 128, 128)\n",
      "\n",
      "0: 128x128 clear 0.61, cloudy 0.39, amber 0.00, 5.5ms\n",
      "Speed: 1.5ms preprocess, 5.5ms inference, 0.1ms postprocess per image at shape (1, 3, 128, 128)\n",
      "\n",
      "0: 128x128 clear 0.93, cloudy 0.07, amber 0.00, 4.9ms\n",
      "Speed: 1.5ms preprocess, 4.9ms inference, 0.0ms postprocess per image at shape (1, 3, 128, 128)\n",
      "\n",
      "0: 128x128 clear 1.00, cloudy 0.00, amber 0.00, 18.9ms\n",
      "Speed: 1.7ms preprocess, 18.9ms inference, 0.1ms postprocess per image at shape (1, 3, 128, 128)\n",
      "\n",
      "0: 128x128 clear 1.00, cloudy 0.00, amber 0.00, 5.0ms\n",
      "Speed: 1.9ms preprocess, 5.0ms inference, 0.0ms postprocess per image at shape (1, 3, 128, 128)\n",
      "\n",
      "0: 128x128 cloudy 0.57, clear 0.43, amber 0.00, 4.7ms\n",
      "Speed: 1.3ms preprocess, 4.7ms inference, 0.0ms postprocess per image at shape (1, 3, 128, 128)\n",
      "\n",
      "0: 128x128 cloudy 0.56, clear 0.42, amber 0.02, 4.7ms\n",
      "Speed: 1.3ms preprocess, 4.7ms inference, 0.0ms postprocess per image at shape (1, 3, 128, 128)\n",
      "\n",
      "0: 128x128 clear 0.99, cloudy 0.01, amber 0.00, 4.8ms\n",
      "Speed: 1.4ms preprocess, 4.8ms inference, 0.0ms postprocess per image at shape (1, 3, 128, 128)\n",
      "\n",
      "0: 128x128 clear 1.00, cloudy 0.00, amber 0.00, 4.7ms\n",
      "Speed: 1.3ms preprocess, 4.7ms inference, 0.0ms postprocess per image at shape (1, 3, 128, 128)\n",
      "\n",
      "0: 128x128 clear 1.00, cloudy 0.00, amber 0.00, 4.8ms\n",
      "Speed: 1.4ms preprocess, 4.8ms inference, 0.0ms postprocess per image at shape (1, 3, 128, 128)\n",
      "\n",
      "0: 128x128 clear 0.99, cloudy 0.01, amber 0.00, 4.6ms\n",
      "Speed: 1.2ms preprocess, 4.6ms inference, 0.0ms postprocess per image at shape (1, 3, 128, 128)\n",
      "\n",
      "0: 128x128 clear 1.00, cloudy 0.00, amber 0.00, 4.8ms\n",
      "Speed: 1.2ms preprocess, 4.8ms inference, 0.0ms postprocess per image at shape (1, 3, 128, 128)\n",
      "\n",
      "0: 128x128 clear 1.00, cloudy 0.00, amber 0.00, 4.5ms\n",
      "Speed: 1.2ms preprocess, 4.5ms inference, 0.0ms postprocess per image at shape (1, 3, 128, 128)\n",
      "\n",
      "0: 128x128 clear 0.99, cloudy 0.00, amber 0.00, 4.8ms\n",
      "Speed: 1.4ms preprocess, 4.8ms inference, 0.1ms postprocess per image at shape (1, 3, 128, 128)\n",
      "\n",
      "0: 128x128 clear 0.95, cloudy 0.04, amber 0.00, 5.6ms\n",
      "Speed: 1.3ms preprocess, 5.6ms inference, 0.0ms postprocess per image at shape (1, 3, 128, 128)\n",
      "\n",
      "0: 128x128 clear 0.97, amber 0.02, cloudy 0.01, 4.6ms\n",
      "Speed: 1.5ms preprocess, 4.6ms inference, 0.0ms postprocess per image at shape (1, 3, 128, 128)\n",
      "\n",
      "0: 128x128 clear 1.00, cloudy 0.00, amber 0.00, 6.0ms\n",
      "Speed: 1.6ms preprocess, 6.0ms inference, 0.0ms postprocess per image at shape (1, 3, 128, 128)\n",
      "\n",
      "0: 128x128 clear 1.00, cloudy 0.00, amber 0.00, 4.6ms\n",
      "Speed: 1.2ms preprocess, 4.6ms inference, 0.0ms postprocess per image at shape (1, 3, 128, 128)\n",
      "\n",
      "0: 128x128 clear 1.00, amber 0.00, cloudy 0.00, 4.7ms\n",
      "Speed: 1.6ms preprocess, 4.7ms inference, 0.0ms postprocess per image at shape (1, 3, 128, 128)\n",
      "\n",
      "0: 128x128 clear 0.96, cloudy 0.04, amber 0.00, 4.6ms\n",
      "Speed: 1.6ms preprocess, 4.6ms inference, 0.0ms postprocess per image at shape (1, 3, 128, 128)\n",
      "\n",
      "0: 128x128 clear 0.99, cloudy 0.01, amber 0.00, 4.6ms\n",
      "Speed: 1.4ms preprocess, 4.6ms inference, 0.0ms postprocess per image at shape (1, 3, 128, 128)\n",
      "\n",
      "0: 128x128 clear 0.99, cloudy 0.01, amber 0.00, 4.5ms\n",
      "Speed: 1.4ms preprocess, 4.5ms inference, 0.0ms postprocess per image at shape (1, 3, 128, 128)\n",
      "\n",
      "0: 128x128 clear 1.00, cloudy 0.00, amber 0.00, 4.5ms\n",
      "Speed: 1.1ms preprocess, 4.5ms inference, 0.0ms postprocess per image at shape (1, 3, 128, 128)\n",
      "\n",
      "0: 128x128 clear 1.00, cloudy 0.00, amber 0.00, 5.0ms\n",
      "Speed: 1.4ms preprocess, 5.0ms inference, 0.0ms postprocess per image at shape (1, 3, 128, 128)\n",
      "\n",
      "0: 128x128 clear 0.96, cloudy 0.03, amber 0.02, 4.5ms\n",
      "Speed: 1.3ms preprocess, 4.5ms inference, 0.0ms postprocess per image at shape (1, 3, 128, 128)\n",
      "\n",
      "0: 128x128 clear 1.00, cloudy 0.00, amber 0.00, 4.6ms\n",
      "Speed: 1.3ms preprocess, 4.6ms inference, 0.0ms postprocess per image at shape (1, 3, 128, 128)\n",
      "\n",
      "0: 128x128 clear 0.94, cloudy 0.05, amber 0.01, 4.7ms\n",
      "Speed: 1.4ms preprocess, 4.7ms inference, 0.0ms postprocess per image at shape (1, 3, 128, 128)\n",
      "\n",
      "0: 128x128 clear 0.99, amber 0.01, cloudy 0.00, 6.3ms\n",
      "Speed: 1.7ms preprocess, 6.3ms inference, 0.1ms postprocess per image at shape (1, 3, 128, 128)\n",
      "\n",
      "0: 128x128 clear 0.98, cloudy 0.02, amber 0.00, 5.1ms\n",
      "Speed: 1.6ms preprocess, 5.1ms inference, 0.0ms postprocess per image at shape (1, 3, 128, 128)\n",
      "\n",
      "0: 128x128 clear 1.00, cloudy 0.00, amber 0.00, 4.6ms\n",
      "Speed: 1.3ms preprocess, 4.6ms inference, 0.0ms postprocess per image at shape (1, 3, 128, 128)\n",
      "\n",
      "0: 128x128 clear 1.00, cloudy 0.00, amber 0.00, 4.5ms\n",
      "Speed: 1.2ms preprocess, 4.5ms inference, 0.0ms postprocess per image at shape (1, 3, 128, 128)\n",
      "\n",
      "0: 128x128 cloudy 0.96, clear 0.03, amber 0.00, 4.7ms\n",
      "Speed: 1.5ms preprocess, 4.7ms inference, 0.0ms postprocess per image at shape (1, 3, 128, 128)\n",
      "\n",
      "0: 128x128 cloudy 0.95, clear 0.05, amber 0.00, 4.7ms\n",
      "Speed: 1.3ms preprocess, 4.7ms inference, 0.1ms postprocess per image at shape (1, 3, 128, 128)\n",
      "\n",
      "0: 128x128 cloudy 0.81, clear 0.19, amber 0.00, 4.8ms\n",
      "Speed: 1.5ms preprocess, 4.8ms inference, 0.0ms postprocess per image at shape (1, 3, 128, 128)\n",
      "\n",
      "0: 128x128 cloudy 0.99, clear 0.01, amber 0.00, 4.7ms\n",
      "Speed: 1.6ms preprocess, 4.7ms inference, 0.0ms postprocess per image at shape (1, 3, 128, 128)\n",
      "\n",
      "0: 128x128 cloudy 0.87, clear 0.13, amber 0.00, 4.8ms\n",
      "Speed: 1.7ms preprocess, 4.8ms inference, 0.0ms postprocess per image at shape (1, 3, 128, 128)\n",
      "\n",
      "0: 128x128 cloudy 1.00, clear 0.00, amber 0.00, 5.9ms\n",
      "Speed: 1.5ms preprocess, 5.9ms inference, 0.1ms postprocess per image at shape (1, 3, 128, 128)\n",
      "\n",
      "0: 128x128 cloudy 0.93, clear 0.06, amber 0.00, 4.8ms\n",
      "Speed: 1.5ms preprocess, 4.8ms inference, 0.0ms postprocess per image at shape (1, 3, 128, 128)\n",
      "\n",
      "0: 128x128 cloudy 1.00, clear 0.00, amber 0.00, 5.1ms\n",
      "Speed: 1.3ms preprocess, 5.1ms inference, 0.0ms postprocess per image at shape (1, 3, 128, 128)\n",
      "\n",
      "0: 128x128 cloudy 0.99, clear 0.01, amber 0.00, 7.8ms\n",
      "Speed: 1.7ms preprocess, 7.8ms inference, 0.1ms postprocess per image at shape (1, 3, 128, 128)\n",
      "\n",
      "0: 128x128 cloudy 0.78, amber 0.19, clear 0.03, 4.9ms\n",
      "Speed: 1.6ms preprocess, 4.9ms inference, 0.1ms postprocess per image at shape (1, 3, 128, 128)\n",
      "\n",
      "0: 128x128 cloudy 1.00, clear 0.00, amber 0.00, 6.9ms\n",
      "Speed: 5.3ms preprocess, 6.9ms inference, 0.1ms postprocess per image at shape (1, 3, 128, 128)\n",
      "\n",
      "0: 128x128 clear 0.94, cloudy 0.06, amber 0.00, 5.7ms\n",
      "Speed: 2.5ms preprocess, 5.7ms inference, 0.1ms postprocess per image at shape (1, 3, 128, 128)\n",
      "\n",
      "0: 128x128 cloudy 1.00, clear 0.00, amber 0.00, 5.9ms\n",
      "Speed: 1.7ms preprocess, 5.9ms inference, 0.1ms postprocess per image at shape (1, 3, 128, 128)\n",
      "\n",
      "0: 128x128 cloudy 1.00, clear 0.00, amber 0.00, 7.2ms\n",
      "Speed: 2.2ms preprocess, 7.2ms inference, 0.1ms postprocess per image at shape (1, 3, 128, 128)\n",
      "\n",
      "0: 128x128 cloudy 0.63, clear 0.27, amber 0.11, 7.3ms\n",
      "Speed: 2.0ms preprocess, 7.3ms inference, 0.1ms postprocess per image at shape (1, 3, 128, 128)\n",
      "\n",
      "0: 128x128 cloudy 0.99, clear 0.00, amber 0.00, 5.1ms\n",
      "Speed: 1.6ms preprocess, 5.1ms inference, 0.1ms postprocess per image at shape (1, 3, 128, 128)\n",
      "\n",
      "0: 128x128 cloudy 0.99, clear 0.00, amber 0.00, 5.0ms\n",
      "Speed: 1.6ms preprocess, 5.0ms inference, 0.1ms postprocess per image at shape (1, 3, 128, 128)\n",
      "\n",
      "0: 128x128 cloudy 1.00, clear 0.00, amber 0.00, 6.3ms\n",
      "Speed: 1.6ms preprocess, 6.3ms inference, 0.1ms postprocess per image at shape (1, 3, 128, 128)\n",
      "\n",
      "0: 128x128 cloudy 1.00, clear 0.00, amber 0.00, 7.3ms\n",
      "Speed: 2.2ms preprocess, 7.3ms inference, 0.1ms postprocess per image at shape (1, 3, 128, 128)\n",
      "\n",
      "0: 128x128 cloudy 1.00, clear 0.00, amber 0.00, 7.7ms\n",
      "Speed: 2.3ms preprocess, 7.7ms inference, 0.1ms postprocess per image at shape (1, 3, 128, 128)\n",
      "\n",
      "0: 128x128 cloudy 0.95, clear 0.05, amber 0.00, 6.5ms\n",
      "Speed: 2.0ms preprocess, 6.5ms inference, 0.1ms postprocess per image at shape (1, 3, 128, 128)\n",
      "\n",
      "0: 128x128 cloudy 1.00, clear 0.00, amber 0.00, 6.7ms\n",
      "Speed: 2.1ms preprocess, 6.7ms inference, 0.1ms postprocess per image at shape (1, 3, 128, 128)\n",
      "\n",
      "0: 128x128 cloudy 0.52, clear 0.44, amber 0.04, 6.6ms\n",
      "Speed: 2.2ms preprocess, 6.6ms inference, 0.1ms postprocess per image at shape (1, 3, 128, 128)\n",
      "\n",
      "0: 128x128 cloudy 1.00, clear 0.00, amber 0.00, 6.5ms\n",
      "Speed: 2.0ms preprocess, 6.5ms inference, 0.1ms postprocess per image at shape (1, 3, 128, 128)\n",
      "\n",
      "0: 128x128 cloudy 0.99, clear 0.01, amber 0.00, 6.5ms\n",
      "Speed: 2.1ms preprocess, 6.5ms inference, 0.1ms postprocess per image at shape (1, 3, 128, 128)\n",
      "\n",
      "0: 128x128 clear 0.90, cloudy 0.10, amber 0.00, 6.8ms\n",
      "Speed: 1.8ms preprocess, 6.8ms inference, 0.1ms postprocess per image at shape (1, 3, 128, 128)\n",
      "\n",
      "0: 128x128 cloudy 1.00, clear 0.00, amber 0.00, 5.8ms\n",
      "Speed: 1.5ms preprocess, 5.8ms inference, 0.1ms postprocess per image at shape (1, 3, 128, 128)\n",
      "\n",
      "0: 128x128 cloudy 1.00, clear 0.00, amber 0.00, 5.3ms\n",
      "Speed: 1.5ms preprocess, 5.3ms inference, 0.1ms postprocess per image at shape (1, 3, 128, 128)\n",
      "\n",
      "0: 128x128 cloudy 1.00, clear 0.00, amber 0.00, 5.2ms\n",
      "Speed: 1.6ms preprocess, 5.2ms inference, 0.0ms postprocess per image at shape (1, 3, 128, 128)\n",
      "\n",
      "0: 128x128 cloudy 0.97, clear 0.02, amber 0.01, 5.0ms\n",
      "Speed: 1.5ms preprocess, 5.0ms inference, 0.0ms postprocess per image at shape (1, 3, 128, 128)\n",
      "\n",
      "0: 128x128 cloudy 0.98, clear 0.02, amber 0.00, 4.9ms\n",
      "Speed: 1.4ms preprocess, 4.9ms inference, 0.0ms postprocess per image at shape (1, 3, 128, 128)\n",
      "\n",
      "0: 128x128 cloudy 0.68, clear 0.31, amber 0.01, 6.7ms\n",
      "Speed: 1.8ms preprocess, 6.7ms inference, 0.1ms postprocess per image at shape (1, 3, 128, 128)\n",
      "\n",
      "0: 128x128 cloudy 1.00, clear 0.00, amber 0.00, 5.5ms\n",
      "Speed: 1.4ms preprocess, 5.5ms inference, 0.1ms postprocess per image at shape (1, 3, 128, 128)\n",
      "\n",
      "0: 128x128 cloudy 1.00, clear 0.00, amber 0.00, 4.9ms\n",
      "Speed: 1.4ms preprocess, 4.9ms inference, 0.0ms postprocess per image at shape (1, 3, 128, 128)\n",
      "\n",
      "0: 128x128 clear 0.51, cloudy 0.48, amber 0.00, 4.7ms\n",
      "Speed: 1.4ms preprocess, 4.7ms inference, 0.0ms postprocess per image at shape (1, 3, 128, 128)\n",
      "\n",
      "0: 128x128 cloudy 0.81, clear 0.18, amber 0.00, 4.8ms\n",
      "Speed: 1.3ms preprocess, 4.8ms inference, 0.0ms postprocess per image at shape (1, 3, 128, 128)\n",
      "\n",
      "0: 128x128 cloudy 0.66, clear 0.29, amber 0.05, 4.7ms\n",
      "Speed: 1.3ms preprocess, 4.7ms inference, 0.0ms postprocess per image at shape (1, 3, 128, 128)\n",
      "\n",
      "0: 128x128 cloudy 0.97, clear 0.03, amber 0.00, 4.6ms\n",
      "Speed: 1.3ms preprocess, 4.6ms inference, 0.0ms postprocess per image at shape (1, 3, 128, 128)\n",
      "\n",
      "0: 128x128 cloudy 1.00, clear 0.00, amber 0.00, 5.0ms\n",
      "Speed: 1.3ms preprocess, 5.0ms inference, 0.0ms postprocess per image at shape (1, 3, 128, 128)\n",
      "\n",
      "0: 128x128 cloudy 0.93, clear 0.07, amber 0.00, 9.2ms\n",
      "Speed: 1.3ms preprocess, 9.2ms inference, 0.1ms postprocess per image at shape (1, 3, 128, 128)\n",
      "\n",
      "0: 128x128 cloudy 1.00, clear 0.00, amber 0.00, 6.1ms\n",
      "Speed: 1.7ms preprocess, 6.1ms inference, 0.1ms postprocess per image at shape (1, 3, 128, 128)\n",
      "\n",
      "0: 128x128 clear 0.61, cloudy 0.38, amber 0.00, 6.3ms\n",
      "Speed: 1.7ms preprocess, 6.3ms inference, 0.1ms postprocess per image at shape (1, 3, 128, 128)\n",
      "\n",
      "0: 128x128 cloudy 1.00, amber 0.00, clear 0.00, 4.6ms\n",
      "Speed: 1.3ms preprocess, 4.6ms inference, 0.0ms postprocess per image at shape (1, 3, 128, 128)\n",
      "\n",
      "0: 128x128 cloudy 0.98, clear 0.02, amber 0.00, 4.9ms\n",
      "Speed: 1.7ms preprocess, 4.9ms inference, 0.1ms postprocess per image at shape (1, 3, 128, 128)\n",
      "\n",
      "0: 128x128 cloudy 1.00, clear 0.00, amber 0.00, 4.8ms\n",
      "Speed: 1.5ms preprocess, 4.8ms inference, 0.0ms postprocess per image at shape (1, 3, 128, 128)\n",
      "\n",
      "0: 128x128 cloudy 1.00, clear 0.00, amber 0.00, 5.1ms\n",
      "Speed: 1.5ms preprocess, 5.1ms inference, 0.0ms postprocess per image at shape (1, 3, 128, 128)\n",
      "\n",
      "0: 128x128 cloudy 1.00, clear 0.00, amber 0.00, 6.4ms\n",
      "Speed: 1.7ms preprocess, 6.4ms inference, 0.1ms postprocess per image at shape (1, 3, 128, 128)\n",
      "\n",
      "0: 128x128 cloudy 0.98, clear 0.02, amber 0.00, 6.4ms\n",
      "Speed: 1.7ms preprocess, 6.4ms inference, 0.1ms postprocess per image at shape (1, 3, 128, 128)\n",
      "\n",
      "0: 128x128 cloudy 1.00, clear 0.00, amber 0.00, 5.5ms\n",
      "Speed: 1.4ms preprocess, 5.5ms inference, 0.1ms postprocess per image at shape (1, 3, 128, 128)\n",
      "\n",
      "0: 128x128 cloudy 1.00, clear 0.00, amber 0.00, 6.5ms\n",
      "Speed: 1.7ms preprocess, 6.5ms inference, 0.1ms postprocess per image at shape (1, 3, 128, 128)\n",
      "\n",
      "0: 128x128 cloudy 1.00, amber 0.00, clear 0.00, 6.9ms\n",
      "Speed: 1.7ms preprocess, 6.9ms inference, 0.1ms postprocess per image at shape (1, 3, 128, 128)\n",
      "\n",
      "0: 128x128 cloudy 1.00, clear 0.00, amber 0.00, 6.9ms\n",
      "Speed: 1.7ms preprocess, 6.9ms inference, 0.1ms postprocess per image at shape (1, 3, 128, 128)\n",
      "Training YOLOv11 Medium model...\n",
      "Ultralytics 8.3.56 🚀 Python-3.9.19 torch-2.3.1+cu121 CUDA:0 (NVIDIA GeForce RTX 3090, 24253MiB)\n",
      "\u001b[34m\u001b[1mengine/trainer: \u001b[0mtask=classify, mode=train, model=/home/etaylor/code_projects/thesis/checkpoints/trichome_image_classification/yolo/yolo11m-cls.pt, data=/home/etaylor/code_projects/thesis/classification_datasets/trichome_classification/extracted_trichomes_images/balanced_good_quality, epochs=10, time=None, patience=100, batch=16, imgsz=128, save=True, save_period=-1, cache=False, device=None, workers=8, project=None, name=train340, exist_ok=False, pretrained=True, optimizer=auto, verbose=True, seed=0, deterministic=True, single_cls=False, rect=False, cos_lr=False, close_mosaic=10, resume=False, amp=True, fraction=1.0, profile=False, freeze=None, multi_scale=False, overlap_mask=True, mask_ratio=4, dropout=0.0, val=True, split=val, save_json=False, save_hybrid=False, conf=None, iou=0.7, max_det=300, half=False, dnn=False, plots=True, source=None, vid_stride=1, stream_buffer=False, visualize=False, augment=False, agnostic_nms=False, classes=None, retina_masks=False, embed=None, show=False, save_frames=False, save_txt=False, save_conf=False, save_crop=False, show_labels=True, show_conf=True, show_boxes=True, line_width=None, format=torchscript, keras=False, optimize=False, int8=False, dynamic=False, simplify=True, opset=None, workspace=None, nms=False, lr0=0.01, lrf=0.01, momentum=0.937, weight_decay=0.0005, warmup_epochs=3.0, warmup_momentum=0.8, warmup_bias_lr=0.1, box=7.5, cls=0.5, dfl=1.5, pose=12.0, kobj=1.0, nbs=64, hsv_h=0.015, hsv_s=0.7, hsv_v=0.4, degrees=0.0, translate=0.1, scale=0.5, shear=0.0, perspective=0.0, flipud=0.0, fliplr=0.5, bgr=0.0, mosaic=1.0, mixup=0.0, copy_paste=0.0, copy_paste_mode=flip, auto_augment=randaugment, erasing=0.4, crop_fraction=1.0, cfg=None, tracker=botsort.yaml, save_dir=/home/etaylor/runs/classify/train340\n",
      "\u001b[34m\u001b[1mtrain:\u001b[0m /sise/home/etaylor/code_projects/thesis/classification_datasets/trichome_classification/extracted_trichomes_images/balanced_good_quality/train... found 462 images in 3 classes ✅ \n",
      "\u001b[34m\u001b[1mval:\u001b[0m /sise/home/etaylor/code_projects/thesis/classification_datasets/trichome_classification/extracted_trichomes_images/balanced_good_quality/val... found 156 images in 3 classes ✅ \n",
      "\u001b[34m\u001b[1mtest:\u001b[0m None...\n",
      "Overriding model.yaml nc=80 with nc=3\n",
      "\n",
      "                   from  n    params  module                                       arguments                     \n",
      "  0                  -1  1      1856  ultralytics.nn.modules.conv.Conv             [3, 64, 3, 2]                 \n",
      "  1                  -1  1     73984  ultralytics.nn.modules.conv.Conv             [64, 128, 3, 2]               \n",
      "  2                  -1  1    111872  ultralytics.nn.modules.block.C3k2            [128, 256, 1, True, 0.25]     \n",
      "  3                  -1  1    590336  ultralytics.nn.modules.conv.Conv             [256, 256, 3, 2]              \n",
      "  4                  -1  1    444928  ultralytics.nn.modules.block.C3k2            [256, 512, 1, True, 0.25]     \n",
      "  5                  -1  1   2360320  ultralytics.nn.modules.conv.Conv             [512, 512, 3, 2]              \n",
      "  6                  -1  1   1380352  ultralytics.nn.modules.block.C3k2            [512, 512, 1, True]           \n",
      "  7                  -1  1   2360320  ultralytics.nn.modules.conv.Conv             [512, 512, 3, 2]              \n",
      "  8                  -1  1   1380352  ultralytics.nn.modules.block.C3k2            [512, 512, 1, True]           \n",
      "  9                  -1  1    990976  ultralytics.nn.modules.block.C2PSA           [512, 512, 1]                 \n",
      " 10                  -1  1    661763  ultralytics.nn.modules.head.Classify         [512, 3]                      \n",
      "YOLO11m-cls summary: 187 layers, 10,357,059 parameters, 10,357,059 gradients, 39.6 GFLOPs\n",
      "Transferred 294/296 items from pretrained weights\n",
      "\u001b[34m\u001b[1mTensorBoard: \u001b[0mStart with 'tensorboard --logdir /home/etaylor/runs/classify/train340', view at http://localhost:6006/\n",
      "\u001b[34m\u001b[1mAMP: \u001b[0mrunning Automatic Mixed Precision (AMP) checks...\n",
      "\u001b[34m\u001b[1mAMP: \u001b[0mchecks passed ✅\n"
     ]
    },
    {
     "name": "stderr",
     "output_type": "stream",
     "text": [
      "\u001b[34m\u001b[1mtrain: \u001b[0mScanning /sise/home/etaylor/code_projects/thesis/classification_datasets/trichome_classification/extracted_trichomes_images/balanced_good_quality/train... 462 images, 0 corrupt: 100%|██████████| 462/462 [00:00<?, ?it/s]\n",
      "/home/etaylor/.conda/envs/detectron_fastai/lib/python3.9/site-packages/torch/utils/data/dataloader.py:558: UserWarning: This DataLoader will create 8 worker processes in total. Our suggested max number of worker in current system is 6, which is smaller than what this DataLoader is going to create. Please be aware that excessive worker creation might get DataLoader running slow or even freeze, lower the worker number to avoid potential slowness/freeze if necessary.\n",
      "  warnings.warn(_create_warning_msg(\n",
      "\u001b[34m\u001b[1mval: \u001b[0mScanning /sise/home/etaylor/code_projects/thesis/classification_datasets/trichome_classification/extracted_trichomes_images/balanced_good_quality/val... 156 images, 0 corrupt: 100%|██████████| 156/156 [00:00<?, ?it/s]\n"
     ]
    },
    {
     "name": "stdout",
     "output_type": "stream",
     "text": [
      "\u001b[34m\u001b[1moptimizer:\u001b[0m 'optimizer=auto' found, ignoring 'lr0=0.01' and 'momentum=0.937' and determining best 'optimizer', 'lr0' and 'momentum' automatically... \n",
      "\u001b[34m\u001b[1moptimizer:\u001b[0m AdamW(lr=0.000714, momentum=0.9) with parameter groups 49 weight(decay=0.0), 50 weight(decay=0.0005), 50 bias(decay=0.0)\n",
      "\u001b[34m\u001b[1mTensorBoard: \u001b[0mmodel graph visualization added ✅\n",
      "Image sizes 128 train, 128 val\n",
      "Using 8 dataloader workers\n",
      "Logging results to \u001b[1m/home/etaylor/runs/classify/train340\u001b[0m\n",
      "Starting training for 10 epochs...\n"
     ]
    },
    {
     "name": "stderr",
     "output_type": "stream",
     "text": [
      "/home/etaylor/.conda/envs/detectron_fastai/lib/python3.9/site-packages/torch/utils/data/dataloader.py:558: UserWarning: This DataLoader will create 8 worker processes in total. Our suggested max number of worker in current system is 6, which is smaller than what this DataLoader is going to create. Please be aware that excessive worker creation might get DataLoader running slow or even freeze, lower the worker number to avoid potential slowness/freeze if necessary.\n",
      "  warnings.warn(_create_warning_msg(\n"
     ]
    },
    {
     "name": "stdout",
     "output_type": "stream",
     "text": [
      "\n",
      "      Epoch    GPU_mem       loss  Instances       Size\n"
     ]
    },
    {
     "name": "stderr",
     "output_type": "stream",
     "text": [
      "       1/10      2.07G      1.096         14        128: 100%|██████████| 29/29 [00:02<00:00, 11.14it/s]\n",
      "               classes   top1_acc   top5_acc: 100%|██████████| 5/5 [00:00<00:00, 16.35it/s]"
     ]
    },
    {
     "name": "stdout",
     "output_type": "stream",
     "text": [
      "                   all      0.769          1\n"
     ]
    },
    {
     "name": "stderr",
     "output_type": "stream",
     "text": [
      "\n"
     ]
    },
    {
     "name": "stdout",
     "output_type": "stream",
     "text": [
      "\n",
      "      Epoch    GPU_mem       loss  Instances       Size\n"
     ]
    },
    {
     "name": "stderr",
     "output_type": "stream",
     "text": [
      "       2/10      1.37G      0.597         14        128: 100%|██████████| 29/29 [00:01<00:00, 22.11it/s]\n",
      "               classes   top1_acc   top5_acc: 100%|██████████| 5/5 [00:00<00:00, 72.76it/s]"
     ]
    },
    {
     "name": "stdout",
     "output_type": "stream",
     "text": [
      "                   all      0.904          1\n"
     ]
    },
    {
     "name": "stderr",
     "output_type": "stream",
     "text": [
      "\n"
     ]
    },
    {
     "name": "stdout",
     "output_type": "stream",
     "text": [
      "\n",
      "      Epoch    GPU_mem       loss  Instances       Size\n"
     ]
    },
    {
     "name": "stderr",
     "output_type": "stream",
     "text": [
      "       3/10      1.37G     0.3422         14        128: 100%|██████████| 29/29 [00:01<00:00, 23.16it/s]\n",
      "               classes   top1_acc   top5_acc: 100%|██████████| 5/5 [00:00<00:00, 76.58it/s]"
     ]
    },
    {
     "name": "stdout",
     "output_type": "stream",
     "text": [
      "                   all      0.936          1\n"
     ]
    },
    {
     "name": "stderr",
     "output_type": "stream",
     "text": [
      "\n"
     ]
    },
    {
     "name": "stdout",
     "output_type": "stream",
     "text": [
      "\n",
      "      Epoch    GPU_mem       loss  Instances       Size\n"
     ]
    },
    {
     "name": "stderr",
     "output_type": "stream",
     "text": [
      "       4/10      1.37G     0.2699         14        128: 100%|██████████| 29/29 [00:01<00:00, 23.63it/s]\n",
      "               classes   top1_acc   top5_acc: 100%|██████████| 5/5 [00:00<00:00, 70.62it/s]"
     ]
    },
    {
     "name": "stdout",
     "output_type": "stream",
     "text": [
      "                   all      0.917          1\n"
     ]
    },
    {
     "name": "stderr",
     "output_type": "stream",
     "text": [
      "\n"
     ]
    },
    {
     "name": "stdout",
     "output_type": "stream",
     "text": [
      "\n",
      "      Epoch    GPU_mem       loss  Instances       Size\n"
     ]
    },
    {
     "name": "stderr",
     "output_type": "stream",
     "text": [
      "       5/10      1.37G     0.2893         14        128: 100%|██████████| 29/29 [00:01<00:00, 23.22it/s]\n",
      "               classes   top1_acc   top5_acc: 100%|██████████| 5/5 [00:00<00:00, 67.44it/s]"
     ]
    },
    {
     "name": "stdout",
     "output_type": "stream",
     "text": [
      "                   all      0.949          1\n"
     ]
    },
    {
     "name": "stderr",
     "output_type": "stream",
     "text": [
      "\n"
     ]
    },
    {
     "name": "stdout",
     "output_type": "stream",
     "text": [
      "\n",
      "      Epoch    GPU_mem       loss  Instances       Size\n"
     ]
    },
    {
     "name": "stderr",
     "output_type": "stream",
     "text": [
      "       6/10      1.37G     0.2568         14        128: 100%|██████████| 29/29 [00:01<00:00, 22.78it/s]\n",
      "               classes   top1_acc   top5_acc: 100%|██████████| 5/5 [00:00<00:00, 71.95it/s]"
     ]
    },
    {
     "name": "stdout",
     "output_type": "stream",
     "text": [
      "                   all      0.917          1\n"
     ]
    },
    {
     "name": "stderr",
     "output_type": "stream",
     "text": [
      "\n"
     ]
    },
    {
     "name": "stdout",
     "output_type": "stream",
     "text": [
      "\n",
      "      Epoch    GPU_mem       loss  Instances       Size\n"
     ]
    },
    {
     "name": "stderr",
     "output_type": "stream",
     "text": [
      "       7/10      1.37G     0.2664         14        128: 100%|██████████| 29/29 [00:01<00:00, 24.10it/s]\n",
      "               classes   top1_acc   top5_acc: 100%|██████████| 5/5 [00:00<00:00, 76.85it/s]"
     ]
    },
    {
     "name": "stdout",
     "output_type": "stream",
     "text": [
      "                   all      0.936          1\n"
     ]
    },
    {
     "name": "stderr",
     "output_type": "stream",
     "text": [
      "\n"
     ]
    },
    {
     "name": "stdout",
     "output_type": "stream",
     "text": [
      "\n",
      "      Epoch    GPU_mem       loss  Instances       Size\n"
     ]
    },
    {
     "name": "stderr",
     "output_type": "stream",
     "text": [
      "       8/10      1.37G     0.2421         14        128: 100%|██████████| 29/29 [00:01<00:00, 23.07it/s]\n",
      "               classes   top1_acc   top5_acc: 100%|██████████| 5/5 [00:00<00:00, 80.51it/s]"
     ]
    },
    {
     "name": "stdout",
     "output_type": "stream",
     "text": [
      "                   all      0.962          1\n"
     ]
    },
    {
     "name": "stderr",
     "output_type": "stream",
     "text": [
      "\n"
     ]
    },
    {
     "name": "stdout",
     "output_type": "stream",
     "text": [
      "\n",
      "      Epoch    GPU_mem       loss  Instances       Size\n"
     ]
    },
    {
     "name": "stderr",
     "output_type": "stream",
     "text": [
      "       9/10      1.37G     0.1787         14        128: 100%|██████████| 29/29 [00:01<00:00, 23.81it/s]\n",
      "               classes   top1_acc   top5_acc: 100%|██████████| 5/5 [00:00<00:00, 70.00it/s]"
     ]
    },
    {
     "name": "stdout",
     "output_type": "stream",
     "text": [
      "                   all      0.968          1\n"
     ]
    },
    {
     "name": "stderr",
     "output_type": "stream",
     "text": [
      "\n"
     ]
    },
    {
     "name": "stdout",
     "output_type": "stream",
     "text": [
      "\n",
      "      Epoch    GPU_mem       loss  Instances       Size\n"
     ]
    },
    {
     "name": "stderr",
     "output_type": "stream",
     "text": [
      "      10/10      1.37G     0.1845         14        128: 100%|██████████| 29/29 [00:01<00:00, 23.47it/s]\n",
      "               classes   top1_acc   top5_acc: 100%|██████████| 5/5 [00:00<00:00, 68.87it/s]"
     ]
    },
    {
     "name": "stdout",
     "output_type": "stream",
     "text": [
      "                   all      0.962          1\n"
     ]
    },
    {
     "name": "stderr",
     "output_type": "stream",
     "text": [
      "\n"
     ]
    },
    {
     "name": "stdout",
     "output_type": "stream",
     "text": [
      "\n",
      "10 epochs completed in 0.029 hours.\n",
      "Optimizer stripped from /home/etaylor/runs/classify/train340/weights/last.pt, 20.9MB\n",
      "Optimizer stripped from /home/etaylor/runs/classify/train340/weights/best.pt, 20.9MB\n",
      "\n",
      "Validating /home/etaylor/runs/classify/train340/weights/best.pt...\n",
      "Ultralytics 8.3.56 🚀 Python-3.9.19 torch-2.3.1+cu121 CUDA:0 (NVIDIA GeForce RTX 3090, 24253MiB)\n",
      "YOLO11m-cls summary (fused): 138 layers, 10,345,475 parameters, 0 gradients, 39.3 GFLOPs\n",
      "\u001b[34m\u001b[1mtrain:\u001b[0m /sise/home/etaylor/code_projects/thesis/classification_datasets/trichome_classification/extracted_trichomes_images/balanced_good_quality/train... found 462 images in 3 classes ✅ \n",
      "\u001b[34m\u001b[1mval:\u001b[0m /sise/home/etaylor/code_projects/thesis/classification_datasets/trichome_classification/extracted_trichomes_images/balanced_good_quality/val... found 156 images in 3 classes ✅ \n",
      "\u001b[34m\u001b[1mtest:\u001b[0m None...\n"
     ]
    },
    {
     "name": "stderr",
     "output_type": "stream",
     "text": [
      "               classes   top1_acc   top5_acc: 100%|██████████| 5/5 [00:00<00:00, 28.89it/s]\n"
     ]
    },
    {
     "name": "stdout",
     "output_type": "stream",
     "text": [
      "                   all      0.968          1\n",
      "Speed: 0.0ms preprocess, 1.0ms inference, 0.0ms loss, 0.0ms postprocess per image\n",
      "Results saved to \u001b[1m/home/etaylor/runs/classify/train340\u001b[0m\n",
      "Evaluating YOLOv11 Medium model...\n",
      "\n",
      "0: 128x128 amber 1.00, cloudy 0.00, clear 0.00, 6.0ms\n",
      "Speed: 1.5ms preprocess, 6.0ms inference, 0.1ms postprocess per image at shape (1, 3, 128, 128)\n",
      "\n",
      "0: 128x128 amber 0.92, clear 0.07, cloudy 0.01, 6.0ms\n",
      "Speed: 1.3ms preprocess, 6.0ms inference, 0.0ms postprocess per image at shape (1, 3, 128, 128)\n",
      "\n",
      "0: 128x128 amber 1.00, cloudy 0.00, clear 0.00, 5.8ms\n",
      "Speed: 1.9ms preprocess, 5.8ms inference, 0.0ms postprocess per image at shape (1, 3, 128, 128)\n",
      "\n",
      "0: 128x128 amber 1.00, cloudy 0.00, clear 0.00, 5.5ms\n",
      "Speed: 1.6ms preprocess, 5.5ms inference, 0.1ms postprocess per image at shape (1, 3, 128, 128)\n",
      "\n",
      "0: 128x128 amber 0.99, cloudy 0.01, clear 0.00, 5.7ms\n",
      "Speed: 1.7ms preprocess, 5.7ms inference, 0.0ms postprocess per image at shape (1, 3, 128, 128)\n",
      "\n",
      "0: 128x128 amber 0.96, clear 0.04, cloudy 0.00, 5.5ms\n",
      "Speed: 1.4ms preprocess, 5.5ms inference, 0.0ms postprocess per image at shape (1, 3, 128, 128)\n",
      "\n",
      "0: 128x128 amber 1.00, cloudy 0.00, clear 0.00, 5.7ms\n",
      "Speed: 1.7ms preprocess, 5.7ms inference, 0.0ms postprocess per image at shape (1, 3, 128, 128)\n",
      "\n",
      "0: 128x128 amber 0.99, cloudy 0.01, clear 0.00, 5.6ms\n",
      "Speed: 1.5ms preprocess, 5.6ms inference, 0.0ms postprocess per image at shape (1, 3, 128, 128)\n",
      "\n",
      "0: 128x128 amber 0.96, cloudy 0.03, clear 0.00, 5.4ms\n",
      "Speed: 1.4ms preprocess, 5.4ms inference, 0.0ms postprocess per image at shape (1, 3, 128, 128)\n",
      "\n",
      "0: 128x128 amber 1.00, clear 0.00, cloudy 0.00, 5.6ms\n",
      "Speed: 1.4ms preprocess, 5.6ms inference, 0.0ms postprocess per image at shape (1, 3, 128, 128)\n",
      "\n",
      "0: 128x128 amber 1.00, cloudy 0.00, clear 0.00, 5.9ms\n",
      "Speed: 1.3ms preprocess, 5.9ms inference, 0.0ms postprocess per image at shape (1, 3, 128, 128)\n",
      "\n",
      "0: 128x128 amber 1.00, cloudy 0.00, clear 0.00, 5.7ms\n",
      "Speed: 1.4ms preprocess, 5.7ms inference, 0.0ms postprocess per image at shape (1, 3, 128, 128)\n",
      "\n",
      "0: 128x128 amber 0.99, cloudy 0.01, clear 0.00, 5.7ms\n",
      "Speed: 1.5ms preprocess, 5.7ms inference, 0.0ms postprocess per image at shape (1, 3, 128, 128)\n",
      "\n",
      "0: 128x128 amber 0.98, cloudy 0.02, clear 0.00, 5.6ms\n",
      "Speed: 1.5ms preprocess, 5.6ms inference, 0.0ms postprocess per image at shape (1, 3, 128, 128)\n",
      "\n",
      "0: 128x128 amber 0.98, cloudy 0.01, clear 0.00, 5.5ms\n",
      "Speed: 1.4ms preprocess, 5.5ms inference, 0.0ms postprocess per image at shape (1, 3, 128, 128)\n",
      "\n",
      "0: 128x128 amber 1.00, cloudy 0.00, clear 0.00, 5.6ms\n",
      "Speed: 1.3ms preprocess, 5.6ms inference, 0.0ms postprocess per image at shape (1, 3, 128, 128)\n",
      "\n",
      "0: 128x128 amber 1.00, cloudy 0.00, clear 0.00, 6.1ms\n",
      "Speed: 1.3ms preprocess, 6.1ms inference, 0.0ms postprocess per image at shape (1, 3, 128, 128)\n",
      "\n",
      "0: 128x128 amber 0.95, cloudy 0.04, clear 0.00, 5.5ms\n",
      "Speed: 1.5ms preprocess, 5.5ms inference, 0.0ms postprocess per image at shape (1, 3, 128, 128)\n",
      "\n",
      "0: 128x128 amber 1.00, clear 0.00, cloudy 0.00, 5.6ms\n",
      "Speed: 1.3ms preprocess, 5.6ms inference, 0.1ms postprocess per image at shape (1, 3, 128, 128)\n",
      "\n",
      "0: 128x128 amber 1.00, cloudy 0.00, clear 0.00, 5.6ms\n",
      "Speed: 1.7ms preprocess, 5.6ms inference, 0.0ms postprocess per image at shape (1, 3, 128, 128)\n",
      "\n",
      "0: 128x128 amber 0.95, cloudy 0.04, clear 0.01, 5.5ms\n",
      "Speed: 1.2ms preprocess, 5.5ms inference, 0.0ms postprocess per image at shape (1, 3, 128, 128)\n",
      "\n",
      "0: 128x128 amber 1.00, clear 0.00, cloudy 0.00, 5.6ms\n",
      "Speed: 1.5ms preprocess, 5.6ms inference, 0.0ms postprocess per image at shape (1, 3, 128, 128)\n",
      "\n",
      "0: 128x128 amber 1.00, cloudy 0.00, clear 0.00, 5.6ms\n",
      "Speed: 1.6ms preprocess, 5.6ms inference, 0.1ms postprocess per image at shape (1, 3, 128, 128)\n",
      "\n",
      "0: 128x128 amber 0.98, cloudy 0.01, clear 0.00, 7.4ms\n",
      "Speed: 1.7ms preprocess, 7.4ms inference, 0.0ms postprocess per image at shape (1, 3, 128, 128)\n",
      "\n",
      "0: 128x128 amber 0.93, cloudy 0.07, clear 0.00, 5.9ms\n",
      "Speed: 1.8ms preprocess, 5.9ms inference, 0.0ms postprocess per image at shape (1, 3, 128, 128)\n",
      "\n",
      "0: 128x128 amber 1.00, cloudy 0.00, clear 0.00, 5.7ms\n",
      "Speed: 1.3ms preprocess, 5.7ms inference, 0.0ms postprocess per image at shape (1, 3, 128, 128)\n",
      "\n",
      "0: 128x128 amber 0.97, cloudy 0.02, clear 0.00, 5.4ms\n",
      "Speed: 1.4ms preprocess, 5.4ms inference, 0.0ms postprocess per image at shape (1, 3, 128, 128)\n",
      "\n",
      "0: 128x128 amber 1.00, cloudy 0.00, clear 0.00, 5.4ms\n",
      "Speed: 1.6ms preprocess, 5.4ms inference, 0.0ms postprocess per image at shape (1, 3, 128, 128)\n",
      "\n",
      "0: 128x128 amber 1.00, cloudy 0.00, clear 0.00, 5.4ms\n",
      "Speed: 1.4ms preprocess, 5.4ms inference, 0.0ms postprocess per image at shape (1, 3, 128, 128)\n",
      "\n",
      "0: 128x128 amber 1.00, cloudy 0.00, clear 0.00, 6.4ms\n",
      "Speed: 1.5ms preprocess, 6.4ms inference, 0.0ms postprocess per image at shape (1, 3, 128, 128)\n",
      "\n",
      "0: 128x128 amber 1.00, cloudy 0.00, clear 0.00, 5.6ms\n",
      "Speed: 1.3ms preprocess, 5.6ms inference, 0.0ms postprocess per image at shape (1, 3, 128, 128)\n",
      "\n",
      "0: 128x128 amber 0.74, cloudy 0.26, clear 0.01, 5.5ms\n",
      "Speed: 1.4ms preprocess, 5.5ms inference, 0.0ms postprocess per image at shape (1, 3, 128, 128)\n",
      "\n",
      "0: 128x128 amber 0.51, cloudy 0.49, clear 0.00, 5.4ms\n",
      "Speed: 1.3ms preprocess, 5.4ms inference, 0.0ms postprocess per image at shape (1, 3, 128, 128)\n",
      "\n",
      "0: 128x128 amber 1.00, cloudy 0.00, clear 0.00, 5.5ms\n",
      "Speed: 1.4ms preprocess, 5.5ms inference, 0.0ms postprocess per image at shape (1, 3, 128, 128)\n",
      "\n",
      "0: 128x128 amber 1.00, cloudy 0.00, clear 0.00, 5.5ms\n",
      "Speed: 1.3ms preprocess, 5.5ms inference, 0.0ms postprocess per image at shape (1, 3, 128, 128)\n",
      "\n",
      "0: 128x128 amber 1.00, cloudy 0.00, clear 0.00, 5.6ms\n",
      "Speed: 1.4ms preprocess, 5.6ms inference, 0.0ms postprocess per image at shape (1, 3, 128, 128)\n",
      "\n",
      "0: 128x128 amber 1.00, cloudy 0.00, clear 0.00, 5.9ms\n",
      "Speed: 1.6ms preprocess, 5.9ms inference, 0.0ms postprocess per image at shape (1, 3, 128, 128)\n",
      "\n",
      "0: 128x128 amber 0.98, cloudy 0.02, clear 0.00, 5.5ms\n",
      "Speed: 1.3ms preprocess, 5.5ms inference, 0.0ms postprocess per image at shape (1, 3, 128, 128)\n",
      "\n",
      "0: 128x128 amber 0.98, cloudy 0.02, clear 0.00, 6.3ms\n",
      "Speed: 1.4ms preprocess, 6.3ms inference, 0.0ms postprocess per image at shape (1, 3, 128, 128)\n",
      "\n",
      "0: 128x128 amber 1.00, cloudy 0.00, clear 0.00, 5.6ms\n",
      "Speed: 1.5ms preprocess, 5.6ms inference, 0.0ms postprocess per image at shape (1, 3, 128, 128)\n",
      "\n",
      "0: 128x128 amber 0.96, clear 0.02, cloudy 0.02, 6.0ms\n",
      "Speed: 1.5ms preprocess, 6.0ms inference, 0.0ms postprocess per image at shape (1, 3, 128, 128)\n",
      "\n",
      "0: 128x128 amber 0.93, cloudy 0.06, clear 0.00, 6.0ms\n",
      "Speed: 1.7ms preprocess, 6.0ms inference, 0.1ms postprocess per image at shape (1, 3, 128, 128)\n",
      "\n",
      "0: 128x128 amber 0.98, cloudy 0.02, clear 0.00, 5.9ms\n",
      "Speed: 1.3ms preprocess, 5.9ms inference, 0.0ms postprocess per image at shape (1, 3, 128, 128)\n",
      "\n",
      "0: 128x128 amber 1.00, cloudy 0.00, clear 0.00, 5.7ms\n",
      "Speed: 1.6ms preprocess, 5.7ms inference, 0.0ms postprocess per image at shape (1, 3, 128, 128)\n",
      "\n",
      "0: 128x128 amber 1.00, cloudy 0.00, clear 0.00, 6.4ms\n",
      "Speed: 1.6ms preprocess, 6.4ms inference, 0.0ms postprocess per image at shape (1, 3, 128, 128)\n",
      "\n",
      "0: 128x128 amber 1.00, clear 0.00, cloudy 0.00, 6.0ms\n",
      "Speed: 1.3ms preprocess, 6.0ms inference, 0.0ms postprocess per image at shape (1, 3, 128, 128)\n",
      "\n",
      "0: 128x128 amber 1.00, clear 0.00, cloudy 0.00, 5.6ms\n",
      "Speed: 1.5ms preprocess, 5.6ms inference, 0.0ms postprocess per image at shape (1, 3, 128, 128)\n",
      "\n",
      "0: 128x128 amber 1.00, cloudy 0.00, clear 0.00, 6.2ms\n",
      "Speed: 1.4ms preprocess, 6.2ms inference, 0.0ms postprocess per image at shape (1, 3, 128, 128)\n",
      "\n",
      "0: 128x128 amber 0.99, cloudy 0.01, clear 0.00, 5.9ms\n",
      "Speed: 1.5ms preprocess, 5.9ms inference, 0.0ms postprocess per image at shape (1, 3, 128, 128)\n",
      "\n",
      "0: 128x128 amber 1.00, cloudy 0.00, clear 0.00, 7.0ms\n",
      "Speed: 1.9ms preprocess, 7.0ms inference, 0.0ms postprocess per image at shape (1, 3, 128, 128)\n",
      "\n",
      "0: 128x128 amber 1.00, cloudy 0.00, clear 0.00, 8.1ms\n",
      "Speed: 1.9ms preprocess, 8.1ms inference, 0.1ms postprocess per image at shape (1, 3, 128, 128)\n",
      "\n",
      "0: 128x128 amber 0.96, cloudy 0.03, clear 0.01, 5.7ms\n",
      "Speed: 1.6ms preprocess, 5.7ms inference, 0.0ms postprocess per image at shape (1, 3, 128, 128)\n",
      "\n",
      "0: 128x128 clear 0.97, cloudy 0.03, amber 0.00, 7.1ms\n",
      "Speed: 1.6ms preprocess, 7.1ms inference, 0.0ms postprocess per image at shape (1, 3, 128, 128)\n",
      "\n",
      "0: 128x128 clear 1.00, amber 0.00, cloudy 0.00, 6.7ms\n",
      "Speed: 1.8ms preprocess, 6.7ms inference, 0.1ms postprocess per image at shape (1, 3, 128, 128)\n",
      "\n",
      "0: 128x128 clear 1.00, cloudy 0.00, amber 0.00, 5.6ms\n",
      "Speed: 1.4ms preprocess, 5.6ms inference, 0.0ms postprocess per image at shape (1, 3, 128, 128)\n",
      "\n",
      "0: 128x128 clear 1.00, amber 0.00, cloudy 0.00, 6.3ms\n",
      "Speed: 1.8ms preprocess, 6.3ms inference, 0.0ms postprocess per image at shape (1, 3, 128, 128)\n",
      "\n",
      "0: 128x128 clear 1.00, cloudy 0.00, amber 0.00, 6.6ms\n",
      "Speed: 1.8ms preprocess, 6.6ms inference, 0.1ms postprocess per image at shape (1, 3, 128, 128)\n",
      "\n",
      "0: 128x128 clear 0.99, amber 0.01, cloudy 0.00, 6.5ms\n",
      "Speed: 1.7ms preprocess, 6.5ms inference, 0.1ms postprocess per image at shape (1, 3, 128, 128)\n",
      "\n",
      "0: 128x128 clear 1.00, amber 0.00, cloudy 0.00, 8.0ms\n",
      "Speed: 1.9ms preprocess, 8.0ms inference, 0.1ms postprocess per image at shape (1, 3, 128, 128)\n",
      "\n",
      "0: 128x128 clear 0.99, cloudy 0.01, amber 0.00, 7.7ms\n",
      "Speed: 1.7ms preprocess, 7.7ms inference, 0.1ms postprocess per image at shape (1, 3, 128, 128)\n",
      "\n",
      "0: 128x128 clear 0.80, cloudy 0.20, amber 0.01, 5.7ms\n",
      "Speed: 1.9ms preprocess, 5.7ms inference, 0.0ms postprocess per image at shape (1, 3, 128, 128)\n",
      "\n",
      "0: 128x128 clear 0.92, cloudy 0.07, amber 0.00, 6.4ms\n",
      "Speed: 1.4ms preprocess, 6.4ms inference, 0.1ms postprocess per image at shape (1, 3, 128, 128)\n",
      "\n",
      "0: 128x128 clear 1.00, amber 0.00, cloudy 0.00, 5.8ms\n",
      "Speed: 1.4ms preprocess, 5.8ms inference, 0.1ms postprocess per image at shape (1, 3, 128, 128)\n",
      "\n",
      "0: 128x128 clear 0.98, cloudy 0.02, amber 0.00, 5.6ms\n",
      "Speed: 1.5ms preprocess, 5.6ms inference, 0.0ms postprocess per image at shape (1, 3, 128, 128)\n",
      "\n",
      "0: 128x128 clear 0.94, cloudy 0.05, amber 0.01, 5.5ms\n",
      "Speed: 1.5ms preprocess, 5.5ms inference, 0.0ms postprocess per image at shape (1, 3, 128, 128)\n",
      "\n",
      "0: 128x128 clear 0.98, cloudy 0.02, amber 0.00, 5.5ms\n",
      "Speed: 1.4ms preprocess, 5.5ms inference, 0.0ms postprocess per image at shape (1, 3, 128, 128)\n",
      "\n",
      "0: 128x128 clear 1.00, cloudy 0.00, amber 0.00, 5.4ms\n",
      "Speed: 1.3ms preprocess, 5.4ms inference, 0.0ms postprocess per image at shape (1, 3, 128, 128)\n",
      "\n",
      "0: 128x128 clear 0.99, cloudy 0.01, amber 0.00, 5.3ms\n",
      "Speed: 1.3ms preprocess, 5.3ms inference, 0.0ms postprocess per image at shape (1, 3, 128, 128)\n",
      "\n",
      "0: 128x128 clear 0.97, cloudy 0.03, amber 0.01, 5.4ms\n",
      "Speed: 1.3ms preprocess, 5.4ms inference, 0.0ms postprocess per image at shape (1, 3, 128, 128)\n",
      "\n",
      "0: 128x128 clear 1.00, cloudy 0.00, amber 0.00, 5.4ms\n",
      "Speed: 1.3ms preprocess, 5.4ms inference, 0.0ms postprocess per image at shape (1, 3, 128, 128)\n",
      "\n",
      "0: 128x128 clear 1.00, cloudy 0.00, amber 0.00, 5.7ms\n",
      "Speed: 1.4ms preprocess, 5.7ms inference, 0.0ms postprocess per image at shape (1, 3, 128, 128)\n",
      "\n",
      "0: 128x128 clear 1.00, cloudy 0.00, amber 0.00, 5.8ms\n",
      "Speed: 1.7ms preprocess, 5.8ms inference, 0.1ms postprocess per image at shape (1, 3, 128, 128)\n",
      "\n",
      "0: 128x128 clear 0.96, amber 0.03, cloudy 0.01, 7.7ms\n",
      "Speed: 1.8ms preprocess, 7.7ms inference, 0.0ms postprocess per image at shape (1, 3, 128, 128)\n",
      "\n",
      "0: 128x128 clear 1.00, cloudy 0.00, amber 0.00, 5.7ms\n",
      "Speed: 1.3ms preprocess, 5.7ms inference, 0.0ms postprocess per image at shape (1, 3, 128, 128)\n",
      "\n",
      "0: 128x128 clear 0.76, cloudy 0.24, amber 0.00, 5.7ms\n",
      "Speed: 1.5ms preprocess, 5.7ms inference, 0.0ms postprocess per image at shape (1, 3, 128, 128)\n",
      "\n",
      "0: 128x128 clear 1.00, cloudy 0.00, amber 0.00, 5.7ms\n",
      "Speed: 1.4ms preprocess, 5.7ms inference, 0.0ms postprocess per image at shape (1, 3, 128, 128)\n",
      "\n",
      "0: 128x128 clear 1.00, amber 0.00, cloudy 0.00, 5.6ms\n",
      "Speed: 1.5ms preprocess, 5.6ms inference, 0.0ms postprocess per image at shape (1, 3, 128, 128)\n",
      "\n",
      "0: 128x128 clear 1.00, cloudy 0.00, amber 0.00, 5.7ms\n",
      "Speed: 1.3ms preprocess, 5.7ms inference, 0.0ms postprocess per image at shape (1, 3, 128, 128)\n",
      "\n",
      "0: 128x128 cloudy 0.65, clear 0.35, amber 0.00, 5.6ms\n",
      "Speed: 1.3ms preprocess, 5.6ms inference, 0.0ms postprocess per image at shape (1, 3, 128, 128)\n",
      "\n",
      "0: 128x128 clear 0.77, cloudy 0.23, amber 0.00, 5.7ms\n",
      "Speed: 1.4ms preprocess, 5.7ms inference, 0.0ms postprocess per image at shape (1, 3, 128, 128)\n",
      "\n",
      "0: 128x128 clear 0.95, cloudy 0.05, amber 0.00, 5.5ms\n",
      "Speed: 1.2ms preprocess, 5.5ms inference, 0.0ms postprocess per image at shape (1, 3, 128, 128)\n",
      "\n",
      "0: 128x128 clear 1.00, cloudy 0.00, amber 0.00, 5.5ms\n",
      "Speed: 1.3ms preprocess, 5.5ms inference, 0.0ms postprocess per image at shape (1, 3, 128, 128)\n",
      "\n",
      "0: 128x128 clear 0.99, cloudy 0.01, amber 0.00, 5.4ms\n",
      "Speed: 1.2ms preprocess, 5.4ms inference, 0.0ms postprocess per image at shape (1, 3, 128, 128)\n",
      "\n",
      "0: 128x128 clear 0.96, cloudy 0.04, amber 0.00, 5.4ms\n",
      "Speed: 1.3ms preprocess, 5.4ms inference, 0.0ms postprocess per image at shape (1, 3, 128, 128)\n",
      "\n",
      "0: 128x128 clear 1.00, cloudy 0.00, amber 0.00, 5.6ms\n",
      "Speed: 1.3ms preprocess, 5.6ms inference, 0.0ms postprocess per image at shape (1, 3, 128, 128)\n",
      "\n",
      "0: 128x128 clear 1.00, cloudy 0.00, amber 0.00, 5.5ms\n",
      "Speed: 1.2ms preprocess, 5.5ms inference, 0.0ms postprocess per image at shape (1, 3, 128, 128)\n",
      "\n",
      "0: 128x128 clear 0.98, amber 0.01, cloudy 0.00, 5.5ms\n",
      "Speed: 1.3ms preprocess, 5.5ms inference, 0.0ms postprocess per image at shape (1, 3, 128, 128)\n",
      "\n",
      "0: 128x128 clear 0.98, amber 0.01, cloudy 0.00, 5.4ms\n",
      "Speed: 1.5ms preprocess, 5.4ms inference, 0.0ms postprocess per image at shape (1, 3, 128, 128)\n",
      "\n",
      "0: 128x128 clear 0.92, amber 0.05, cloudy 0.03, 5.5ms\n",
      "Speed: 1.6ms preprocess, 5.5ms inference, 0.0ms postprocess per image at shape (1, 3, 128, 128)\n",
      "\n",
      "0: 128x128 clear 1.00, cloudy 0.00, amber 0.00, 5.5ms\n",
      "Speed: 1.4ms preprocess, 5.5ms inference, 0.1ms postprocess per image at shape (1, 3, 128, 128)\n",
      "\n",
      "0: 128x128 clear 1.00, cloudy 0.00, amber 0.00, 5.8ms\n",
      "Speed: 1.4ms preprocess, 5.8ms inference, 0.0ms postprocess per image at shape (1, 3, 128, 128)\n",
      "\n",
      "0: 128x128 clear 0.99, amber 0.01, cloudy 0.00, 5.3ms\n",
      "Speed: 1.3ms preprocess, 5.3ms inference, 0.0ms postprocess per image at shape (1, 3, 128, 128)\n",
      "\n",
      "0: 128x128 clear 0.55, cloudy 0.45, amber 0.00, 5.5ms\n",
      "Speed: 1.5ms preprocess, 5.5ms inference, 0.0ms postprocess per image at shape (1, 3, 128, 128)\n",
      "\n",
      "0: 128x128 clear 0.99, cloudy 0.01, amber 0.00, 5.3ms\n",
      "Speed: 1.4ms preprocess, 5.3ms inference, 0.0ms postprocess per image at shape (1, 3, 128, 128)\n",
      "\n",
      "0: 128x128 clear 0.99, cloudy 0.01, amber 0.00, 5.5ms\n",
      "Speed: 1.4ms preprocess, 5.5ms inference, 0.0ms postprocess per image at shape (1, 3, 128, 128)\n",
      "\n",
      "0: 128x128 clear 0.99, cloudy 0.00, amber 0.00, 5.6ms\n",
      "Speed: 1.5ms preprocess, 5.6ms inference, 0.0ms postprocess per image at shape (1, 3, 128, 128)\n",
      "\n",
      "0: 128x128 clear 1.00, cloudy 0.00, amber 0.00, 5.4ms\n",
      "Speed: 1.4ms preprocess, 5.4ms inference, 0.0ms postprocess per image at shape (1, 3, 128, 128)\n",
      "\n",
      "0: 128x128 clear 0.99, cloudy 0.01, amber 0.00, 5.6ms\n",
      "Speed: 1.4ms preprocess, 5.6ms inference, 0.0ms postprocess per image at shape (1, 3, 128, 128)\n",
      "\n",
      "0: 128x128 clear 1.00, cloudy 0.00, amber 0.00, 5.7ms\n",
      "Speed: 1.5ms preprocess, 5.7ms inference, 0.0ms postprocess per image at shape (1, 3, 128, 128)\n",
      "\n",
      "0: 128x128 clear 0.94, cloudy 0.05, amber 0.00, 6.1ms\n",
      "Speed: 1.5ms preprocess, 6.1ms inference, 0.0ms postprocess per image at shape (1, 3, 128, 128)\n",
      "\n",
      "0: 128x128 clear 0.98, cloudy 0.02, amber 0.00, 6.0ms\n",
      "Speed: 1.5ms preprocess, 6.0ms inference, 0.0ms postprocess per image at shape (1, 3, 128, 128)\n",
      "\n",
      "0: 128x128 clear 1.00, cloudy 0.00, amber 0.00, 5.6ms\n",
      "Speed: 1.3ms preprocess, 5.6ms inference, 0.0ms postprocess per image at shape (1, 3, 128, 128)\n",
      "\n",
      "0: 128x128 clear 1.00, cloudy 0.00, amber 0.00, 5.6ms\n",
      "Speed: 1.4ms preprocess, 5.6ms inference, 0.0ms postprocess per image at shape (1, 3, 128, 128)\n",
      "\n",
      "0: 128x128 clear 1.00, amber 0.00, cloudy 0.00, 5.6ms\n",
      "Speed: 1.3ms preprocess, 5.6ms inference, 0.0ms postprocess per image at shape (1, 3, 128, 128)\n",
      "\n",
      "0: 128x128 cloudy 0.99, clear 0.01, amber 0.00, 5.6ms\n",
      "Speed: 1.5ms preprocess, 5.6ms inference, 0.0ms postprocess per image at shape (1, 3, 128, 128)\n",
      "\n",
      "0: 128x128 cloudy 0.99, clear 0.01, amber 0.00, 5.6ms\n",
      "Speed: 1.3ms preprocess, 5.6ms inference, 0.0ms postprocess per image at shape (1, 3, 128, 128)\n",
      "\n",
      "0: 128x128 cloudy 0.96, clear 0.03, amber 0.00, 5.6ms\n",
      "Speed: 1.4ms preprocess, 5.6ms inference, 0.0ms postprocess per image at shape (1, 3, 128, 128)\n",
      "\n",
      "0: 128x128 cloudy 0.99, clear 0.00, amber 0.00, 5.6ms\n",
      "Speed: 1.3ms preprocess, 5.6ms inference, 0.0ms postprocess per image at shape (1, 3, 128, 128)\n",
      "\n",
      "0: 128x128 cloudy 0.95, clear 0.05, amber 0.01, 5.9ms\n",
      "Speed: 1.5ms preprocess, 5.9ms inference, 0.0ms postprocess per image at shape (1, 3, 128, 128)\n",
      "\n",
      "0: 128x128 cloudy 1.00, clear 0.00, amber 0.00, 5.7ms\n",
      "Speed: 1.4ms preprocess, 5.7ms inference, 0.0ms postprocess per image at shape (1, 3, 128, 128)\n",
      "\n",
      "0: 128x128 cloudy 0.77, clear 0.18, amber 0.05, 7.5ms\n",
      "Speed: 2.3ms preprocess, 7.5ms inference, 0.1ms postprocess per image at shape (1, 3, 128, 128)\n",
      "\n",
      "0: 128x128 cloudy 1.00, amber 0.00, clear 0.00, 5.8ms\n",
      "Speed: 1.4ms preprocess, 5.8ms inference, 0.0ms postprocess per image at shape (1, 3, 128, 128)\n",
      "\n",
      "0: 128x128 cloudy 0.99, clear 0.01, amber 0.00, 6.6ms\n",
      "Speed: 1.6ms preprocess, 6.6ms inference, 0.1ms postprocess per image at shape (1, 3, 128, 128)\n",
      "\n",
      "0: 128x128 cloudy 0.60, clear 0.33, amber 0.07, 8.3ms\n",
      "Speed: 1.9ms preprocess, 8.3ms inference, 0.1ms postprocess per image at shape (1, 3, 128, 128)\n",
      "\n",
      "0: 128x128 cloudy 1.00, clear 0.00, amber 0.00, 7.3ms\n",
      "Speed: 2.0ms preprocess, 7.3ms inference, 0.0ms postprocess per image at shape (1, 3, 128, 128)\n",
      "\n",
      "0: 128x128 clear 0.99, cloudy 0.01, amber 0.00, 6.1ms\n",
      "Speed: 2.0ms preprocess, 6.1ms inference, 0.0ms postprocess per image at shape (1, 3, 128, 128)\n",
      "\n",
      "0: 128x128 cloudy 0.98, clear 0.01, amber 0.01, 6.0ms\n",
      "Speed: 1.6ms preprocess, 6.0ms inference, 0.0ms postprocess per image at shape (1, 3, 128, 128)\n",
      "\n",
      "0: 128x128 cloudy 1.00, clear 0.00, amber 0.00, 6.0ms\n",
      "Speed: 1.6ms preprocess, 6.0ms inference, 0.1ms postprocess per image at shape (1, 3, 128, 128)\n",
      "\n",
      "0: 128x128 clear 0.64, amber 0.21, cloudy 0.14, 6.8ms\n",
      "Speed: 1.8ms preprocess, 6.8ms inference, 0.1ms postprocess per image at shape (1, 3, 128, 128)\n",
      "\n",
      "0: 128x128 cloudy 0.99, amber 0.00, clear 0.00, 5.9ms\n",
      "Speed: 1.5ms preprocess, 5.9ms inference, 0.1ms postprocess per image at shape (1, 3, 128, 128)\n",
      "\n",
      "0: 128x128 cloudy 0.99, clear 0.01, amber 0.00, 6.0ms\n",
      "Speed: 1.6ms preprocess, 6.0ms inference, 0.0ms postprocess per image at shape (1, 3, 128, 128)\n",
      "\n",
      "0: 128x128 cloudy 0.99, amber 0.01, clear 0.00, 6.2ms\n",
      "Speed: 1.8ms preprocess, 6.2ms inference, 0.0ms postprocess per image at shape (1, 3, 128, 128)\n",
      "\n",
      "0: 128x128 cloudy 0.98, amber 0.01, clear 0.01, 6.1ms\n",
      "Speed: 1.6ms preprocess, 6.1ms inference, 0.0ms postprocess per image at shape (1, 3, 128, 128)\n",
      "\n",
      "0: 128x128 cloudy 1.00, clear 0.00, amber 0.00, 6.3ms\n",
      "Speed: 2.1ms preprocess, 6.3ms inference, 0.0ms postprocess per image at shape (1, 3, 128, 128)\n",
      "\n",
      "0: 128x128 cloudy 0.99, clear 0.00, amber 0.00, 5.5ms\n",
      "Speed: 1.3ms preprocess, 5.5ms inference, 0.0ms postprocess per image at shape (1, 3, 128, 128)\n",
      "\n",
      "0: 128x128 cloudy 1.00, clear 0.00, amber 0.00, 5.4ms\n",
      "Speed: 1.4ms preprocess, 5.4ms inference, 0.0ms postprocess per image at shape (1, 3, 128, 128)\n",
      "\n",
      "0: 128x128 cloudy 0.91, clear 0.07, amber 0.03, 5.4ms\n",
      "Speed: 1.4ms preprocess, 5.4ms inference, 0.0ms postprocess per image at shape (1, 3, 128, 128)\n",
      "\n",
      "0: 128x128 cloudy 1.00, amber 0.00, clear 0.00, 5.4ms\n",
      "Speed: 1.3ms preprocess, 5.4ms inference, 0.0ms postprocess per image at shape (1, 3, 128, 128)\n",
      "\n",
      "0: 128x128 cloudy 1.00, clear 0.00, amber 0.00, 5.5ms\n",
      "Speed: 1.1ms preprocess, 5.5ms inference, 0.0ms postprocess per image at shape (1, 3, 128, 128)\n",
      "\n",
      "0: 128x128 clear 0.92, cloudy 0.08, amber 0.00, 5.5ms\n",
      "Speed: 1.4ms preprocess, 5.5ms inference, 0.0ms postprocess per image at shape (1, 3, 128, 128)\n",
      "\n",
      "0: 128x128 cloudy 1.00, clear 0.00, amber 0.00, 5.5ms\n",
      "Speed: 1.2ms preprocess, 5.5ms inference, 0.0ms postprocess per image at shape (1, 3, 128, 128)\n",
      "\n",
      "0: 128x128 cloudy 1.00, clear 0.00, amber 0.00, 5.7ms\n",
      "Speed: 1.2ms preprocess, 5.7ms inference, 0.0ms postprocess per image at shape (1, 3, 128, 128)\n",
      "\n",
      "0: 128x128 cloudy 0.99, amber 0.01, clear 0.00, 5.6ms\n",
      "Speed: 1.5ms preprocess, 5.6ms inference, 0.0ms postprocess per image at shape (1, 3, 128, 128)\n",
      "\n",
      "0: 128x128 cloudy 0.90, clear 0.10, amber 0.00, 6.4ms\n",
      "Speed: 1.6ms preprocess, 6.4ms inference, 0.0ms postprocess per image at shape (1, 3, 128, 128)\n",
      "\n",
      "0: 128x128 clear 0.69, cloudy 0.31, amber 0.00, 5.6ms\n",
      "Speed: 1.5ms preprocess, 5.6ms inference, 0.0ms postprocess per image at shape (1, 3, 128, 128)\n",
      "\n",
      "0: 128x128 cloudy 0.81, amber 0.15, clear 0.04, 6.8ms\n",
      "Speed: 1.6ms preprocess, 6.8ms inference, 0.0ms postprocess per image at shape (1, 3, 128, 128)\n",
      "\n",
      "0: 128x128 cloudy 1.00, amber 0.00, clear 0.00, 5.5ms\n",
      "Speed: 1.3ms preprocess, 5.5ms inference, 0.0ms postprocess per image at shape (1, 3, 128, 128)\n",
      "\n",
      "0: 128x128 cloudy 1.00, amber 0.00, clear 0.00, 5.6ms\n",
      "Speed: 1.4ms preprocess, 5.6ms inference, 0.0ms postprocess per image at shape (1, 3, 128, 128)\n",
      "\n",
      "0: 128x128 cloudy 0.83, clear 0.17, amber 0.00, 7.2ms\n",
      "Speed: 1.7ms preprocess, 7.2ms inference, 0.0ms postprocess per image at shape (1, 3, 128, 128)\n",
      "\n",
      "0: 128x128 cloudy 0.99, clear 0.01, amber 0.00, 5.5ms\n",
      "Speed: 1.4ms preprocess, 5.5ms inference, 0.1ms postprocess per image at shape (1, 3, 128, 128)\n",
      "\n",
      "0: 128x128 cloudy 0.65, amber 0.26, clear 0.10, 5.6ms\n",
      "Speed: 1.4ms preprocess, 5.6ms inference, 0.0ms postprocess per image at shape (1, 3, 128, 128)\n",
      "\n",
      "0: 128x128 cloudy 1.00, amber 0.00, clear 0.00, 5.6ms\n",
      "Speed: 1.5ms preprocess, 5.6ms inference, 0.0ms postprocess per image at shape (1, 3, 128, 128)\n",
      "\n",
      "0: 128x128 cloudy 0.99, amber 0.01, clear 0.00, 5.5ms\n",
      "Speed: 1.3ms preprocess, 5.5ms inference, 0.0ms postprocess per image at shape (1, 3, 128, 128)\n",
      "\n",
      "0: 128x128 cloudy 0.98, clear 0.02, amber 0.00, 5.3ms\n",
      "Speed: 1.4ms preprocess, 5.3ms inference, 0.0ms postprocess per image at shape (1, 3, 128, 128)\n",
      "\n",
      "0: 128x128 cloudy 1.00, amber 0.00, clear 0.00, 5.9ms\n",
      "Speed: 1.4ms preprocess, 5.9ms inference, 0.0ms postprocess per image at shape (1, 3, 128, 128)\n",
      "\n",
      "0: 128x128 cloudy 0.60, clear 0.40, amber 0.00, 5.5ms\n",
      "Speed: 1.3ms preprocess, 5.5ms inference, 0.0ms postprocess per image at shape (1, 3, 128, 128)\n",
      "\n",
      "0: 128x128 cloudy 0.97, amber 0.03, clear 0.01, 5.5ms\n",
      "Speed: 1.5ms preprocess, 5.5ms inference, 0.0ms postprocess per image at shape (1, 3, 128, 128)\n",
      "\n",
      "0: 128x128 cloudy 1.00, clear 0.00, amber 0.00, 7.3ms\n",
      "Speed: 1.5ms preprocess, 7.3ms inference, 0.0ms postprocess per image at shape (1, 3, 128, 128)\n",
      "\n",
      "0: 128x128 cloudy 1.00, clear 0.00, amber 0.00, 7.3ms\n",
      "Speed: 1.8ms preprocess, 7.3ms inference, 0.0ms postprocess per image at shape (1, 3, 128, 128)\n",
      "\n",
      "0: 128x128 cloudy 1.00, amber 0.00, clear 0.00, 5.5ms\n",
      "Speed: 1.4ms preprocess, 5.5ms inference, 0.0ms postprocess per image at shape (1, 3, 128, 128)\n",
      "\n",
      "0: 128x128 cloudy 0.99, clear 0.01, amber 0.00, 6.1ms\n",
      "Speed: 1.5ms preprocess, 6.1ms inference, 0.0ms postprocess per image at shape (1, 3, 128, 128)\n",
      "\n",
      "0: 128x128 cloudy 0.74, clear 0.21, amber 0.05, 5.5ms\n",
      "Speed: 1.3ms preprocess, 5.5ms inference, 0.0ms postprocess per image at shape (1, 3, 128, 128)\n",
      "\n",
      "0: 128x128 cloudy 1.00, amber 0.00, clear 0.00, 5.5ms\n",
      "Speed: 1.3ms preprocess, 5.5ms inference, 0.0ms postprocess per image at shape (1, 3, 128, 128)\n",
      "\n",
      "0: 128x128 cloudy 0.98, amber 0.01, clear 0.01, 5.5ms\n",
      "Speed: 1.2ms preprocess, 5.5ms inference, 0.0ms postprocess per image at shape (1, 3, 128, 128)\n",
      "\n",
      "0: 128x128 cloudy 1.00, amber 0.00, clear 0.00, 5.5ms\n",
      "Speed: 1.2ms preprocess, 5.5ms inference, 0.0ms postprocess per image at shape (1, 3, 128, 128)\n",
      "\n",
      "0: 128x128 cloudy 1.00, clear 0.00, amber 0.00, 5.5ms\n",
      "Speed: 1.4ms preprocess, 5.5ms inference, 0.0ms postprocess per image at shape (1, 3, 128, 128)\n",
      "Training YOLOv11 Large model...\n",
      "Ultralytics 8.3.56 🚀 Python-3.9.19 torch-2.3.1+cu121 CUDA:0 (NVIDIA GeForce RTX 3090, 24253MiB)\n",
      "\u001b[34m\u001b[1mengine/trainer: \u001b[0mtask=classify, mode=train, model=/home/etaylor/code_projects/thesis/checkpoints/trichome_image_classification/yolo/yolo11l-cls.pt, data=/home/etaylor/code_projects/thesis/classification_datasets/trichome_classification/extracted_trichomes_images/balanced_good_quality, epochs=10, time=None, patience=100, batch=16, imgsz=128, save=True, save_period=-1, cache=False, device=None, workers=8, project=None, name=train341, exist_ok=False, pretrained=True, optimizer=auto, verbose=True, seed=0, deterministic=True, single_cls=False, rect=False, cos_lr=False, close_mosaic=10, resume=False, amp=True, fraction=1.0, profile=False, freeze=None, multi_scale=False, overlap_mask=True, mask_ratio=4, dropout=0.0, val=True, split=val, save_json=False, save_hybrid=False, conf=None, iou=0.7, max_det=300, half=False, dnn=False, plots=True, source=None, vid_stride=1, stream_buffer=False, visualize=False, augment=False, agnostic_nms=False, classes=None, retina_masks=False, embed=None, show=False, save_frames=False, save_txt=False, save_conf=False, save_crop=False, show_labels=True, show_conf=True, show_boxes=True, line_width=None, format=torchscript, keras=False, optimize=False, int8=False, dynamic=False, simplify=True, opset=None, workspace=None, nms=False, lr0=0.01, lrf=0.01, momentum=0.937, weight_decay=0.0005, warmup_epochs=3.0, warmup_momentum=0.8, warmup_bias_lr=0.1, box=7.5, cls=0.5, dfl=1.5, pose=12.0, kobj=1.0, nbs=64, hsv_h=0.015, hsv_s=0.7, hsv_v=0.4, degrees=0.0, translate=0.1, scale=0.5, shear=0.0, perspective=0.0, flipud=0.0, fliplr=0.5, bgr=0.0, mosaic=1.0, mixup=0.0, copy_paste=0.0, copy_paste_mode=flip, auto_augment=randaugment, erasing=0.4, crop_fraction=1.0, cfg=None, tracker=botsort.yaml, save_dir=/home/etaylor/runs/classify/train341\n",
      "\u001b[34m\u001b[1mtrain:\u001b[0m /sise/home/etaylor/code_projects/thesis/classification_datasets/trichome_classification/extracted_trichomes_images/balanced_good_quality/train... found 462 images in 3 classes ✅ \n",
      "\u001b[34m\u001b[1mval:\u001b[0m /sise/home/etaylor/code_projects/thesis/classification_datasets/trichome_classification/extracted_trichomes_images/balanced_good_quality/val... found 156 images in 3 classes ✅ \n",
      "\u001b[34m\u001b[1mtest:\u001b[0m None...\n",
      "Overriding model.yaml nc=80 with nc=3\n",
      "\n",
      "                   from  n    params  module                                       arguments                     \n",
      "  0                  -1  1      1856  ultralytics.nn.modules.conv.Conv             [3, 64, 3, 2]                 \n",
      "  1                  -1  1     73984  ultralytics.nn.modules.conv.Conv             [64, 128, 3, 2]               \n",
      "  2                  -1  2    173824  ultralytics.nn.modules.block.C3k2            [128, 256, 2, True, 0.25]     \n",
      "  3                  -1  1    590336  ultralytics.nn.modules.conv.Conv             [256, 256, 3, 2]              \n",
      "  4                  -1  2    691712  ultralytics.nn.modules.block.C3k2            [256, 512, 2, True, 0.25]     \n",
      "  5                  -1  1   2360320  ultralytics.nn.modules.conv.Conv             [512, 512, 3, 2]              \n",
      "  6                  -1  2   2234368  ultralytics.nn.modules.block.C3k2            [512, 512, 2, True]           \n",
      "  7                  -1  1   2360320  ultralytics.nn.modules.conv.Conv             [512, 512, 3, 2]              \n",
      "  8                  -1  2   2234368  ultralytics.nn.modules.block.C3k2            [512, 512, 2, True]           \n",
      "  9                  -1  2   1455616  ultralytics.nn.modules.block.C2PSA           [512, 512, 2]                 \n",
      " 10                  -1  1    661763  ultralytics.nn.modules.head.Classify         [512, 3]                      \n",
      "YOLO11l-cls summary: 309 layers, 12,838,467 parameters, 12,838,467 gradients, 49.8 GFLOPs\n",
      "Transferred 492/494 items from pretrained weights\n",
      "\u001b[34m\u001b[1mTensorBoard: \u001b[0mStart with 'tensorboard --logdir /home/etaylor/runs/classify/train341', view at http://localhost:6006/\n",
      "\u001b[34m\u001b[1mAMP: \u001b[0mrunning Automatic Mixed Precision (AMP) checks...\n",
      "\u001b[34m\u001b[1mAMP: \u001b[0mchecks passed ✅\n"
     ]
    },
    {
     "name": "stderr",
     "output_type": "stream",
     "text": [
      "\u001b[34m\u001b[1mtrain: \u001b[0mScanning /sise/home/etaylor/code_projects/thesis/classification_datasets/trichome_classification/extracted_trichomes_images/balanced_good_quality/train... 462 images, 0 corrupt: 100%|██████████| 462/462 [00:00<?, ?it/s]\n",
      "/home/etaylor/.conda/envs/detectron_fastai/lib/python3.9/site-packages/torch/utils/data/dataloader.py:558: UserWarning: This DataLoader will create 8 worker processes in total. Our suggested max number of worker in current system is 6, which is smaller than what this DataLoader is going to create. Please be aware that excessive worker creation might get DataLoader running slow or even freeze, lower the worker number to avoid potential slowness/freeze if necessary.\n",
      "  warnings.warn(_create_warning_msg(\n",
      "\u001b[34m\u001b[1mval: \u001b[0mScanning /sise/home/etaylor/code_projects/thesis/classification_datasets/trichome_classification/extracted_trichomes_images/balanced_good_quality/val... 156 images, 0 corrupt: 100%|██████████| 156/156 [00:00<?, ?it/s]\n"
     ]
    },
    {
     "name": "stdout",
     "output_type": "stream",
     "text": [
      "\u001b[34m\u001b[1moptimizer:\u001b[0m 'optimizer=auto' found, ignoring 'lr0=0.01' and 'momentum=0.937' and determining best 'optimizer', 'lr0' and 'momentum' automatically... \n",
      "\u001b[34m\u001b[1moptimizer:\u001b[0m AdamW(lr=0.000714, momentum=0.9) with parameter groups 82 weight(decay=0.0), 83 weight(decay=0.0005), 83 bias(decay=0.0)\n",
      "\u001b[34m\u001b[1mTensorBoard: \u001b[0mmodel graph visualization added ✅\n",
      "Image sizes 128 train, 128 val\n",
      "Using 8 dataloader workers\n",
      "Logging results to \u001b[1m/home/etaylor/runs/classify/train341\u001b[0m\n",
      "Starting training for 10 epochs...\n"
     ]
    },
    {
     "name": "stderr",
     "output_type": "stream",
     "text": [
      "/home/etaylor/.conda/envs/detectron_fastai/lib/python3.9/site-packages/torch/utils/data/dataloader.py:558: UserWarning: This DataLoader will create 8 worker processes in total. Our suggested max number of worker in current system is 6, which is smaller than what this DataLoader is going to create. Please be aware that excessive worker creation might get DataLoader running slow or even freeze, lower the worker number to avoid potential slowness/freeze if necessary.\n",
      "  warnings.warn(_create_warning_msg(\n"
     ]
    },
    {
     "name": "stdout",
     "output_type": "stream",
     "text": [
      "\n",
      "      Epoch    GPU_mem       loss  Instances       Size\n"
     ]
    },
    {
     "name": "stderr",
     "output_type": "stream",
     "text": [
      "       1/10      1.69G      1.024         14        128: 100%|██████████| 29/29 [00:02<00:00, 11.93it/s]\n",
      "               classes   top1_acc   top5_acc: 100%|██████████| 5/5 [00:00<00:00, 35.41it/s]"
     ]
    },
    {
     "name": "stdout",
     "output_type": "stream",
     "text": [
      "                   all      0.782          1\n"
     ]
    },
    {
     "name": "stderr",
     "output_type": "stream",
     "text": [
      "\n"
     ]
    },
    {
     "name": "stdout",
     "output_type": "stream",
     "text": [
      "\n",
      "      Epoch    GPU_mem       loss  Instances       Size\n"
     ]
    },
    {
     "name": "stderr",
     "output_type": "stream",
     "text": [
      "       2/10      1.49G     0.5249         14        128: 100%|██████████| 29/29 [00:01<00:00, 14.67it/s]\n",
      "               classes   top1_acc   top5_acc: 100%|██████████| 5/5 [00:00<00:00, 54.02it/s]"
     ]
    },
    {
     "name": "stdout",
     "output_type": "stream",
     "text": [
      "                   all      0.942          1\n"
     ]
    },
    {
     "name": "stderr",
     "output_type": "stream",
     "text": [
      "\n"
     ]
    },
    {
     "name": "stdout",
     "output_type": "stream",
     "text": [
      "\n",
      "      Epoch    GPU_mem       loss  Instances       Size\n"
     ]
    },
    {
     "name": "stderr",
     "output_type": "stream",
     "text": [
      "       3/10      1.49G     0.3074         14        128: 100%|██████████| 29/29 [00:02<00:00, 13.88it/s]\n",
      "               classes   top1_acc   top5_acc: 100%|██████████| 5/5 [00:00<00:00, 46.19it/s]"
     ]
    },
    {
     "name": "stdout",
     "output_type": "stream",
     "text": [
      "                   all      0.942          1\n"
     ]
    },
    {
     "name": "stderr",
     "output_type": "stream",
     "text": [
      "\n"
     ]
    },
    {
     "name": "stdout",
     "output_type": "stream",
     "text": [
      "\n",
      "      Epoch    GPU_mem       loss  Instances       Size\n"
     ]
    },
    {
     "name": "stderr",
     "output_type": "stream",
     "text": [
      "       4/10      1.49G     0.2512         14        128: 100%|██████████| 29/29 [00:01<00:00, 16.82it/s]\n",
      "               classes   top1_acc   top5_acc: 100%|██████████| 5/5 [00:00<00:00, 60.93it/s]"
     ]
    },
    {
     "name": "stdout",
     "output_type": "stream",
     "text": [
      "                   all      0.949          1\n"
     ]
    },
    {
     "name": "stderr",
     "output_type": "stream",
     "text": [
      "\n"
     ]
    },
    {
     "name": "stdout",
     "output_type": "stream",
     "text": [
      "\n",
      "      Epoch    GPU_mem       loss  Instances       Size\n"
     ]
    },
    {
     "name": "stderr",
     "output_type": "stream",
     "text": [
      "       5/10      1.49G     0.2692         14        128: 100%|██████████| 29/29 [00:01<00:00, 17.35it/s]\n",
      "               classes   top1_acc   top5_acc: 100%|██████████| 5/5 [00:00<00:00, 59.50it/s]"
     ]
    },
    {
     "name": "stdout",
     "output_type": "stream",
     "text": [
      "                   all      0.949          1\n"
     ]
    },
    {
     "name": "stderr",
     "output_type": "stream",
     "text": [
      "\n"
     ]
    },
    {
     "name": "stdout",
     "output_type": "stream",
     "text": [
      "\n",
      "      Epoch    GPU_mem       loss  Instances       Size\n"
     ]
    },
    {
     "name": "stderr",
     "output_type": "stream",
     "text": [
      "       6/10      1.49G     0.2413         14        128: 100%|██████████| 29/29 [00:01<00:00, 17.32it/s]\n",
      "               classes   top1_acc   top5_acc: 100%|██████████| 5/5 [00:00<00:00, 57.19it/s]"
     ]
    },
    {
     "name": "stdout",
     "output_type": "stream",
     "text": [
      "                   all      0.962          1\n"
     ]
    },
    {
     "name": "stderr",
     "output_type": "stream",
     "text": [
      "\n"
     ]
    },
    {
     "name": "stdout",
     "output_type": "stream",
     "text": [
      "\n",
      "      Epoch    GPU_mem       loss  Instances       Size\n"
     ]
    },
    {
     "name": "stderr",
     "output_type": "stream",
     "text": [
      "       7/10      1.49G     0.2518         14        128: 100%|██████████| 29/29 [00:01<00:00, 17.56it/s]\n",
      "               classes   top1_acc   top5_acc: 100%|██████████| 5/5 [00:00<00:00, 54.94it/s]"
     ]
    },
    {
     "name": "stdout",
     "output_type": "stream",
     "text": [
      "                   all      0.968          1\n"
     ]
    },
    {
     "name": "stderr",
     "output_type": "stream",
     "text": [
      "\n"
     ]
    },
    {
     "name": "stdout",
     "output_type": "stream",
     "text": [
      "\n",
      "      Epoch    GPU_mem       loss  Instances       Size\n"
     ]
    },
    {
     "name": "stderr",
     "output_type": "stream",
     "text": [
      "       8/10      1.49G     0.2136         14        128: 100%|██████████| 29/29 [00:01<00:00, 17.10it/s]\n",
      "               classes   top1_acc   top5_acc: 100%|██████████| 5/5 [00:00<00:00, 51.94it/s]"
     ]
    },
    {
     "name": "stdout",
     "output_type": "stream",
     "text": [
      "                   all      0.949          1\n"
     ]
    },
    {
     "name": "stderr",
     "output_type": "stream",
     "text": [
      "\n"
     ]
    },
    {
     "name": "stdout",
     "output_type": "stream",
     "text": [
      "\n",
      "      Epoch    GPU_mem       loss  Instances       Size\n"
     ]
    },
    {
     "name": "stderr",
     "output_type": "stream",
     "text": [
      "       9/10      1.49G     0.1751         14        128: 100%|██████████| 29/29 [00:01<00:00, 17.81it/s]\n",
      "               classes   top1_acc   top5_acc: 100%|██████████| 5/5 [00:00<00:00, 53.36it/s]"
     ]
    },
    {
     "name": "stdout",
     "output_type": "stream",
     "text": [
      "                   all      0.962          1\n"
     ]
    },
    {
     "name": "stderr",
     "output_type": "stream",
     "text": [
      "\n"
     ]
    },
    {
     "name": "stdout",
     "output_type": "stream",
     "text": [
      "\n",
      "      Epoch    GPU_mem       loss  Instances       Size\n"
     ]
    },
    {
     "name": "stderr",
     "output_type": "stream",
     "text": [
      "      10/10      1.49G     0.1799         14        128: 100%|██████████| 29/29 [00:01<00:00, 17.51it/s]\n",
      "               classes   top1_acc   top5_acc: 100%|██████████| 5/5 [00:00<00:00, 52.05it/s]"
     ]
    },
    {
     "name": "stdout",
     "output_type": "stream",
     "text": [
      "                   all      0.974          1\n"
     ]
    },
    {
     "name": "stderr",
     "output_type": "stream",
     "text": [
      "\n"
     ]
    },
    {
     "name": "stdout",
     "output_type": "stream",
     "text": [
      "\n",
      "10 epochs completed in 0.030 hours.\n",
      "Optimizer stripped from /home/etaylor/runs/classify/train341/weights/last.pt, 25.9MB\n",
      "Optimizer stripped from /home/etaylor/runs/classify/train341/weights/best.pt, 25.9MB\n",
      "\n",
      "Validating /home/etaylor/runs/classify/train341/weights/best.pt...\n",
      "Ultralytics 8.3.56 🚀 Python-3.9.19 torch-2.3.1+cu121 CUDA:0 (NVIDIA GeForce RTX 3090, 24253MiB)\n",
      "YOLO11l-cls summary (fused): 227 layers, 12,822,275 parameters, 0 gradients, 49.3 GFLOPs\n",
      "\u001b[34m\u001b[1mtrain:\u001b[0m /sise/home/etaylor/code_projects/thesis/classification_datasets/trichome_classification/extracted_trichomes_images/balanced_good_quality/train... found 462 images in 3 classes ✅ \n",
      "\u001b[34m\u001b[1mval:\u001b[0m /sise/home/etaylor/code_projects/thesis/classification_datasets/trichome_classification/extracted_trichomes_images/balanced_good_quality/val... found 156 images in 3 classes ✅ \n",
      "\u001b[34m\u001b[1mtest:\u001b[0m None...\n"
     ]
    },
    {
     "name": "stderr",
     "output_type": "stream",
     "text": [
      "               classes   top1_acc   top5_acc: 100%|██████████| 5/5 [00:00<00:00, 20.15it/s]\n"
     ]
    },
    {
     "name": "stdout",
     "output_type": "stream",
     "text": [
      "                   all      0.974          1\n",
      "Speed: 0.0ms preprocess, 1.5ms inference, 0.0ms loss, 0.0ms postprocess per image\n",
      "Results saved to \u001b[1m/home/etaylor/runs/classify/train341\u001b[0m\n",
      "Evaluating YOLOv11 Large model...\n",
      "\n",
      "0: 128x128 amber 1.00, clear 0.00, cloudy 0.00, 8.4ms\n",
      "Speed: 1.4ms preprocess, 8.4ms inference, 0.1ms postprocess per image at shape (1, 3, 128, 128)\n",
      "\n",
      "0: 128x128 amber 1.00, cloudy 0.00, clear 0.00, 8.7ms\n",
      "Speed: 1.4ms preprocess, 8.7ms inference, 0.0ms postprocess per image at shape (1, 3, 128, 128)\n",
      "\n",
      "0: 128x128 amber 1.00, cloudy 0.00, clear 0.00, 8.7ms\n",
      "Speed: 1.2ms preprocess, 8.7ms inference, 0.0ms postprocess per image at shape (1, 3, 128, 128)\n",
      "\n",
      "0: 128x128 amber 1.00, cloudy 0.00, clear 0.00, 8.6ms\n",
      "Speed: 1.4ms preprocess, 8.6ms inference, 0.1ms postprocess per image at shape (1, 3, 128, 128)\n",
      "\n",
      "0: 128x128 amber 0.99, cloudy 0.01, clear 0.00, 8.7ms\n",
      "Speed: 1.2ms preprocess, 8.7ms inference, 0.0ms postprocess per image at shape (1, 3, 128, 128)\n",
      "\n",
      "0: 128x128 amber 1.00, clear 0.00, cloudy 0.00, 8.7ms\n",
      "Speed: 1.2ms preprocess, 8.7ms inference, 0.0ms postprocess per image at shape (1, 3, 128, 128)\n",
      "\n",
      "0: 128x128 amber 1.00, cloudy 0.00, clear 0.00, 8.7ms\n",
      "Speed: 1.2ms preprocess, 8.7ms inference, 0.0ms postprocess per image at shape (1, 3, 128, 128)\n",
      "\n",
      "0: 128x128 amber 1.00, clear 0.00, cloudy 0.00, 8.6ms\n",
      "Speed: 1.2ms preprocess, 8.6ms inference, 0.0ms postprocess per image at shape (1, 3, 128, 128)\n",
      "\n",
      "0: 128x128 amber 1.00, cloudy 0.00, clear 0.00, 8.7ms\n",
      "Speed: 1.3ms preprocess, 8.7ms inference, 0.0ms postprocess per image at shape (1, 3, 128, 128)\n",
      "\n",
      "0: 128x128 amber 1.00, clear 0.00, cloudy 0.00, 8.7ms\n",
      "Speed: 1.2ms preprocess, 8.7ms inference, 0.0ms postprocess per image at shape (1, 3, 128, 128)\n",
      "\n",
      "0: 128x128 amber 1.00, clear 0.00, cloudy 0.00, 9.1ms\n",
      "Speed: 1.4ms preprocess, 9.1ms inference, 0.0ms postprocess per image at shape (1, 3, 128, 128)\n",
      "\n",
      "0: 128x128 amber 1.00, clear 0.00, cloudy 0.00, 8.8ms\n",
      "Speed: 1.4ms preprocess, 8.8ms inference, 0.0ms postprocess per image at shape (1, 3, 128, 128)\n",
      "\n",
      "0: 128x128 amber 0.99, cloudy 0.00, clear 0.00, 9.5ms\n",
      "Speed: 1.3ms preprocess, 9.5ms inference, 0.0ms postprocess per image at shape (1, 3, 128, 128)\n",
      "\n",
      "0: 128x128 amber 1.00, cloudy 0.00, clear 0.00, 8.9ms\n",
      "Speed: 1.4ms preprocess, 8.9ms inference, 0.0ms postprocess per image at shape (1, 3, 128, 128)\n",
      "\n",
      "0: 128x128 amber 0.99, cloudy 0.00, clear 0.00, 8.7ms\n",
      "Speed: 1.3ms preprocess, 8.7ms inference, 0.1ms postprocess per image at shape (1, 3, 128, 128)\n",
      "\n",
      "0: 128x128 amber 1.00, cloudy 0.00, clear 0.00, 8.7ms\n",
      "Speed: 1.3ms preprocess, 8.7ms inference, 0.0ms postprocess per image at shape (1, 3, 128, 128)\n",
      "\n",
      "0: 128x128 amber 1.00, clear 0.00, cloudy 0.00, 8.9ms\n",
      "Speed: 1.3ms preprocess, 8.9ms inference, 0.0ms postprocess per image at shape (1, 3, 128, 128)\n",
      "\n",
      "0: 128x128 amber 0.98, cloudy 0.02, clear 0.00, 8.8ms\n",
      "Speed: 1.3ms preprocess, 8.8ms inference, 0.0ms postprocess per image at shape (1, 3, 128, 128)\n",
      "\n",
      "0: 128x128 amber 0.98, clear 0.01, cloudy 0.00, 8.9ms\n",
      "Speed: 1.2ms preprocess, 8.9ms inference, 0.0ms postprocess per image at shape (1, 3, 128, 128)\n",
      "\n",
      "0: 128x128 amber 1.00, clear 0.00, cloudy 0.00, 8.7ms\n",
      "Speed: 1.3ms preprocess, 8.7ms inference, 0.0ms postprocess per image at shape (1, 3, 128, 128)\n",
      "\n",
      "0: 128x128 amber 0.87, cloudy 0.07, clear 0.06, 8.8ms\n",
      "Speed: 1.3ms preprocess, 8.8ms inference, 0.0ms postprocess per image at shape (1, 3, 128, 128)\n",
      "\n",
      "0: 128x128 amber 1.00, cloudy 0.00, clear 0.00, 8.8ms\n",
      "Speed: 1.4ms preprocess, 8.8ms inference, 0.0ms postprocess per image at shape (1, 3, 128, 128)\n",
      "\n",
      "0: 128x128 amber 1.00, clear 0.00, cloudy 0.00, 8.7ms\n",
      "Speed: 1.3ms preprocess, 8.7ms inference, 0.0ms postprocess per image at shape (1, 3, 128, 128)\n",
      "\n",
      "0: 128x128 amber 0.93, clear 0.04, cloudy 0.04, 8.7ms\n",
      "Speed: 1.4ms preprocess, 8.7ms inference, 0.0ms postprocess per image at shape (1, 3, 128, 128)\n",
      "\n",
      "0: 128x128 amber 1.00, cloudy 0.00, clear 0.00, 8.8ms\n",
      "Speed: 1.3ms preprocess, 8.8ms inference, 0.0ms postprocess per image at shape (1, 3, 128, 128)\n",
      "\n",
      "0: 128x128 amber 1.00, cloudy 0.00, clear 0.00, 8.8ms\n",
      "Speed: 1.3ms preprocess, 8.8ms inference, 0.0ms postprocess per image at shape (1, 3, 128, 128)\n",
      "\n",
      "0: 128x128 amber 1.00, cloudy 0.00, clear 0.00, 8.8ms\n",
      "Speed: 1.3ms preprocess, 8.8ms inference, 0.0ms postprocess per image at shape (1, 3, 128, 128)\n",
      "\n",
      "0: 128x128 amber 1.00, cloudy 0.00, clear 0.00, 8.6ms\n",
      "Speed: 1.3ms preprocess, 8.6ms inference, 0.0ms postprocess per image at shape (1, 3, 128, 128)\n",
      "\n",
      "0: 128x128 amber 1.00, cloudy 0.00, clear 0.00, 8.7ms\n",
      "Speed: 1.4ms preprocess, 8.7ms inference, 0.0ms postprocess per image at shape (1, 3, 128, 128)\n",
      "\n",
      "0: 128x128 amber 1.00, cloudy 0.00, clear 0.00, 9.0ms\n",
      "Speed: 1.7ms preprocess, 9.0ms inference, 0.0ms postprocess per image at shape (1, 3, 128, 128)\n",
      "\n",
      "0: 128x128 amber 1.00, cloudy 0.00, clear 0.00, 8.6ms\n",
      "Speed: 1.3ms preprocess, 8.6ms inference, 0.0ms postprocess per image at shape (1, 3, 128, 128)\n",
      "\n",
      "0: 128x128 amber 0.93, cloudy 0.07, clear 0.00, 8.7ms\n",
      "Speed: 1.3ms preprocess, 8.7ms inference, 0.0ms postprocess per image at shape (1, 3, 128, 128)\n",
      "\n",
      "0: 128x128 amber 0.99, cloudy 0.01, clear 0.00, 8.7ms\n",
      "Speed: 1.3ms preprocess, 8.7ms inference, 0.0ms postprocess per image at shape (1, 3, 128, 128)\n",
      "\n",
      "0: 128x128 amber 0.99, cloudy 0.01, clear 0.00, 8.8ms\n",
      "Speed: 1.3ms preprocess, 8.8ms inference, 0.0ms postprocess per image at shape (1, 3, 128, 128)\n",
      "\n",
      "0: 128x128 amber 1.00, cloudy 0.00, clear 0.00, 8.8ms\n",
      "Speed: 1.2ms preprocess, 8.8ms inference, 0.0ms postprocess per image at shape (1, 3, 128, 128)\n",
      "\n",
      "0: 128x128 amber 1.00, cloudy 0.00, clear 0.00, 8.7ms\n",
      "Speed: 1.2ms preprocess, 8.7ms inference, 0.0ms postprocess per image at shape (1, 3, 128, 128)\n",
      "\n",
      "0: 128x128 amber 1.00, clear 0.00, cloudy 0.00, 8.7ms\n",
      "Speed: 1.2ms preprocess, 8.7ms inference, 0.0ms postprocess per image at shape (1, 3, 128, 128)\n",
      "\n",
      "0: 128x128 amber 1.00, cloudy 0.00, clear 0.00, 9.7ms\n",
      "Speed: 1.2ms preprocess, 9.7ms inference, 0.1ms postprocess per image at shape (1, 3, 128, 128)\n",
      "\n",
      "0: 128x128 amber 0.94, cloudy 0.05, clear 0.00, 12.8ms\n",
      "Speed: 1.8ms preprocess, 12.8ms inference, 0.1ms postprocess per image at shape (1, 3, 128, 128)\n",
      "\n",
      "0: 128x128 amber 1.00, cloudy 0.00, clear 0.00, 12.4ms\n",
      "Speed: 1.8ms preprocess, 12.4ms inference, 0.1ms postprocess per image at shape (1, 3, 128, 128)\n",
      "\n",
      "0: 128x128 amber 0.98, clear 0.02, cloudy 0.00, 12.5ms\n",
      "Speed: 2.0ms preprocess, 12.5ms inference, 0.1ms postprocess per image at shape (1, 3, 128, 128)\n",
      "\n",
      "0: 128x128 amber 0.90, cloudy 0.09, clear 0.00, 11.7ms\n",
      "Speed: 1.7ms preprocess, 11.7ms inference, 0.1ms postprocess per image at shape (1, 3, 128, 128)\n",
      "\n",
      "0: 128x128 amber 1.00, clear 0.00, cloudy 0.00, 11.7ms\n",
      "Speed: 1.8ms preprocess, 11.7ms inference, 0.1ms postprocess per image at shape (1, 3, 128, 128)\n",
      "\n",
      "0: 128x128 amber 1.00, cloudy 0.00, clear 0.00, 12.5ms\n",
      "Speed: 1.8ms preprocess, 12.5ms inference, 0.1ms postprocess per image at shape (1, 3, 128, 128)\n",
      "\n",
      "0: 128x128 amber 1.00, clear 0.00, cloudy 0.00, 9.4ms\n",
      "Speed: 1.6ms preprocess, 9.4ms inference, 0.1ms postprocess per image at shape (1, 3, 128, 128)\n",
      "\n",
      "0: 128x128 amber 0.83, cloudy 0.10, clear 0.07, 12.3ms\n",
      "Speed: 1.5ms preprocess, 12.3ms inference, 0.1ms postprocess per image at shape (1, 3, 128, 128)\n",
      "\n",
      "0: 128x128 amber 0.98, clear 0.02, cloudy 0.00, 12.7ms\n",
      "Speed: 2.1ms preprocess, 12.7ms inference, 0.1ms postprocess per image at shape (1, 3, 128, 128)\n",
      "\n",
      "0: 128x128 amber 1.00, clear 0.00, cloudy 0.00, 9.8ms\n",
      "Speed: 2.0ms preprocess, 9.8ms inference, 0.0ms postprocess per image at shape (1, 3, 128, 128)\n",
      "\n",
      "0: 128x128 amber 0.95, cloudy 0.04, clear 0.01, 8.9ms\n",
      "Speed: 1.4ms preprocess, 8.9ms inference, 0.0ms postprocess per image at shape (1, 3, 128, 128)\n",
      "\n",
      "0: 128x128 amber 1.00, cloudy 0.00, clear 0.00, 8.9ms\n",
      "Speed: 1.3ms preprocess, 8.9ms inference, 0.0ms postprocess per image at shape (1, 3, 128, 128)\n",
      "\n",
      "0: 128x128 amber 1.00, cloudy 0.00, clear 0.00, 8.9ms\n",
      "Speed: 1.3ms preprocess, 8.9ms inference, 0.0ms postprocess per image at shape (1, 3, 128, 128)\n",
      "\n",
      "0: 128x128 amber 0.89, cloudy 0.07, clear 0.03, 9.4ms\n",
      "Speed: 1.5ms preprocess, 9.4ms inference, 0.0ms postprocess per image at shape (1, 3, 128, 128)\n",
      "\n",
      "0: 128x128 clear 1.00, cloudy 0.00, amber 0.00, 8.9ms\n",
      "Speed: 1.2ms preprocess, 8.9ms inference, 0.1ms postprocess per image at shape (1, 3, 128, 128)\n",
      "\n",
      "0: 128x128 clear 0.99, cloudy 0.01, amber 0.00, 9.2ms\n",
      "Speed: 1.4ms preprocess, 9.2ms inference, 0.0ms postprocess per image at shape (1, 3, 128, 128)\n",
      "\n",
      "0: 128x128 clear 1.00, amber 0.00, cloudy 0.00, 8.8ms\n",
      "Speed: 1.2ms preprocess, 8.8ms inference, 0.0ms postprocess per image at shape (1, 3, 128, 128)\n",
      "\n",
      "0: 128x128 clear 1.00, cloudy 0.00, amber 0.00, 8.7ms\n",
      "Speed: 1.2ms preprocess, 8.7ms inference, 0.0ms postprocess per image at shape (1, 3, 128, 128)\n",
      "\n",
      "0: 128x128 clear 1.00, amber 0.00, cloudy 0.00, 8.7ms\n",
      "Speed: 1.2ms preprocess, 8.7ms inference, 0.0ms postprocess per image at shape (1, 3, 128, 128)\n",
      "\n",
      "0: 128x128 clear 1.00, amber 0.00, cloudy 0.00, 8.9ms\n",
      "Speed: 1.4ms preprocess, 8.9ms inference, 0.0ms postprocess per image at shape (1, 3, 128, 128)\n",
      "\n",
      "0: 128x128 clear 1.00, cloudy 0.00, amber 0.00, 9.0ms\n",
      "Speed: 1.3ms preprocess, 9.0ms inference, 0.1ms postprocess per image at shape (1, 3, 128, 128)\n",
      "\n",
      "0: 128x128 clear 0.99, cloudy 0.01, amber 0.00, 9.3ms\n",
      "Speed: 1.4ms preprocess, 9.3ms inference, 0.0ms postprocess per image at shape (1, 3, 128, 128)\n",
      "\n",
      "0: 128x128 clear 0.81, cloudy 0.18, amber 0.01, 9.1ms\n",
      "Speed: 1.4ms preprocess, 9.1ms inference, 0.0ms postprocess per image at shape (1, 3, 128, 128)\n",
      "\n",
      "0: 128x128 clear 0.99, cloudy 0.01, amber 0.00, 9.0ms\n",
      "Speed: 1.4ms preprocess, 9.0ms inference, 0.0ms postprocess per image at shape (1, 3, 128, 128)\n",
      "\n",
      "0: 128x128 clear 1.00, cloudy 0.00, amber 0.00, 9.6ms\n",
      "Speed: 1.2ms preprocess, 9.6ms inference, 0.1ms postprocess per image at shape (1, 3, 128, 128)\n",
      "\n",
      "0: 128x128 clear 0.99, cloudy 0.01, amber 0.00, 9.0ms\n",
      "Speed: 1.4ms preprocess, 9.0ms inference, 0.0ms postprocess per image at shape (1, 3, 128, 128)\n",
      "\n",
      "0: 128x128 clear 1.00, cloudy 0.00, amber 0.00, 9.4ms\n",
      "Speed: 1.7ms preprocess, 9.4ms inference, 0.0ms postprocess per image at shape (1, 3, 128, 128)\n",
      "\n",
      "0: 128x128 clear 1.00, cloudy 0.00, amber 0.00, 8.9ms\n",
      "Speed: 1.4ms preprocess, 8.9ms inference, 0.0ms postprocess per image at shape (1, 3, 128, 128)\n",
      "\n",
      "0: 128x128 clear 1.00, cloudy 0.00, amber 0.00, 9.2ms\n",
      "Speed: 1.4ms preprocess, 9.2ms inference, 0.0ms postprocess per image at shape (1, 3, 128, 128)\n",
      "\n",
      "0: 128x128 clear 0.99, cloudy 0.01, amber 0.00, 8.9ms\n",
      "Speed: 1.2ms preprocess, 8.9ms inference, 0.0ms postprocess per image at shape (1, 3, 128, 128)\n",
      "\n",
      "0: 128x128 clear 0.59, cloudy 0.28, amber 0.13, 8.8ms\n",
      "Speed: 1.2ms preprocess, 8.8ms inference, 0.0ms postprocess per image at shape (1, 3, 128, 128)\n",
      "\n",
      "0: 128x128 clear 1.00, cloudy 0.00, amber 0.00, 8.8ms\n",
      "Speed: 1.2ms preprocess, 8.8ms inference, 0.0ms postprocess per image at shape (1, 3, 128, 128)\n",
      "\n",
      "0: 128x128 clear 1.00, cloudy 0.00, amber 0.00, 8.8ms\n",
      "Speed: 1.2ms preprocess, 8.8ms inference, 0.0ms postprocess per image at shape (1, 3, 128, 128)\n",
      "\n",
      "0: 128x128 clear 0.99, cloudy 0.01, amber 0.00, 9.3ms\n",
      "Speed: 1.2ms preprocess, 9.3ms inference, 0.0ms postprocess per image at shape (1, 3, 128, 128)\n",
      "\n",
      "0: 128x128 clear 0.85, cloudy 0.15, amber 0.00, 9.2ms\n",
      "Speed: 1.4ms preprocess, 9.2ms inference, 0.0ms postprocess per image at shape (1, 3, 128, 128)\n",
      "\n",
      "0: 128x128 clear 1.00, cloudy 0.00, amber 0.00, 9.4ms\n",
      "Speed: 1.4ms preprocess, 9.4ms inference, 0.0ms postprocess per image at shape (1, 3, 128, 128)\n",
      "\n",
      "0: 128x128 clear 0.63, cloudy 0.37, amber 0.00, 9.3ms\n",
      "Speed: 1.8ms preprocess, 9.3ms inference, 0.1ms postprocess per image at shape (1, 3, 128, 128)\n",
      "\n",
      "0: 128x128 clear 0.61, cloudy 0.39, amber 0.00, 9.2ms\n",
      "Speed: 1.5ms preprocess, 9.2ms inference, 0.0ms postprocess per image at shape (1, 3, 128, 128)\n",
      "\n",
      "0: 128x128 clear 0.94, cloudy 0.03, amber 0.03, 9.0ms\n",
      "Speed: 1.4ms preprocess, 9.0ms inference, 0.0ms postprocess per image at shape (1, 3, 128, 128)\n",
      "\n",
      "0: 128x128 clear 1.00, cloudy 0.00, amber 0.00, 8.9ms\n",
      "Speed: 1.2ms preprocess, 8.9ms inference, 0.0ms postprocess per image at shape (1, 3, 128, 128)\n",
      "\n",
      "0: 128x128 cloudy 0.64, clear 0.35, amber 0.01, 8.9ms\n",
      "Speed: 1.3ms preprocess, 8.9ms inference, 0.0ms postprocess per image at shape (1, 3, 128, 128)\n",
      "\n",
      "0: 128x128 cloudy 0.72, clear 0.28, amber 0.00, 9.1ms\n",
      "Speed: 1.5ms preprocess, 9.1ms inference, 0.0ms postprocess per image at shape (1, 3, 128, 128)\n",
      "\n",
      "0: 128x128 clear 0.99, cloudy 0.01, amber 0.00, 8.8ms\n",
      "Speed: 1.2ms preprocess, 8.8ms inference, 0.0ms postprocess per image at shape (1, 3, 128, 128)\n",
      "\n",
      "0: 128x128 clear 1.00, cloudy 0.00, amber 0.00, 8.9ms\n",
      "Speed: 1.2ms preprocess, 8.9ms inference, 0.1ms postprocess per image at shape (1, 3, 128, 128)\n",
      "\n",
      "0: 128x128 clear 1.00, cloudy 0.00, amber 0.00, 8.9ms\n",
      "Speed: 1.4ms preprocess, 8.9ms inference, 0.0ms postprocess per image at shape (1, 3, 128, 128)\n",
      "\n",
      "0: 128x128 clear 0.90, cloudy 0.10, amber 0.00, 8.8ms\n",
      "Speed: 1.2ms preprocess, 8.8ms inference, 0.1ms postprocess per image at shape (1, 3, 128, 128)\n",
      "\n",
      "0: 128x128 clear 1.00, cloudy 0.00, amber 0.00, 8.9ms\n",
      "Speed: 1.4ms preprocess, 8.9ms inference, 0.1ms postprocess per image at shape (1, 3, 128, 128)\n",
      "\n",
      "0: 128x128 clear 1.00, cloudy 0.00, amber 0.00, 8.8ms\n",
      "Speed: 1.2ms preprocess, 8.8ms inference, 0.1ms postprocess per image at shape (1, 3, 128, 128)\n",
      "\n",
      "0: 128x128 clear 1.00, amber 0.00, cloudy 0.00, 8.9ms\n",
      "Speed: 1.3ms preprocess, 8.9ms inference, 0.0ms postprocess per image at shape (1, 3, 128, 128)\n",
      "\n",
      "0: 128x128 clear 0.98, cloudy 0.02, amber 0.00, 9.5ms\n",
      "Speed: 1.4ms preprocess, 9.5ms inference, 0.0ms postprocess per image at shape (1, 3, 128, 128)\n",
      "\n",
      "0: 128x128 clear 0.61, amber 0.32, cloudy 0.07, 12.5ms\n",
      "Speed: 1.6ms preprocess, 12.5ms inference, 0.1ms postprocess per image at shape (1, 3, 128, 128)\n",
      "\n",
      "0: 128x128 clear 1.00, cloudy 0.00, amber 0.00, 12.2ms\n",
      "Speed: 1.8ms preprocess, 12.2ms inference, 0.1ms postprocess per image at shape (1, 3, 128, 128)\n",
      "\n",
      "0: 128x128 clear 1.00, cloudy 0.00, amber 0.00, 12.3ms\n",
      "Speed: 1.8ms preprocess, 12.3ms inference, 0.1ms postprocess per image at shape (1, 3, 128, 128)\n",
      "\n",
      "0: 128x128 clear 1.00, cloudy 0.00, amber 0.00, 12.5ms\n",
      "Speed: 1.7ms preprocess, 12.5ms inference, 0.1ms postprocess per image at shape (1, 3, 128, 128)\n",
      "\n",
      "0: 128x128 clear 0.60, cloudy 0.39, amber 0.02, 11.9ms\n",
      "Speed: 1.7ms preprocess, 11.9ms inference, 0.1ms postprocess per image at shape (1, 3, 128, 128)\n",
      "\n",
      "0: 128x128 clear 0.96, cloudy 0.04, amber 0.00, 12.1ms\n",
      "Speed: 1.7ms preprocess, 12.1ms inference, 0.1ms postprocess per image at shape (1, 3, 128, 128)\n",
      "\n",
      "0: 128x128 clear 0.56, cloudy 0.43, amber 0.00, 10.1ms\n",
      "Speed: 1.7ms preprocess, 10.1ms inference, 0.1ms postprocess per image at shape (1, 3, 128, 128)\n",
      "\n",
      "0: 128x128 clear 1.00, cloudy 0.00, amber 0.00, 12.5ms\n",
      "Speed: 1.6ms preprocess, 12.5ms inference, 0.1ms postprocess per image at shape (1, 3, 128, 128)\n",
      "\n",
      "0: 128x128 clear 1.00, cloudy 0.00, amber 0.00, 12.8ms\n",
      "Speed: 2.1ms preprocess, 12.8ms inference, 0.1ms postprocess per image at shape (1, 3, 128, 128)\n",
      "\n",
      "0: 128x128 clear 0.98, amber 0.02, cloudy 0.00, 9.0ms\n",
      "Speed: 1.4ms preprocess, 9.0ms inference, 0.0ms postprocess per image at shape (1, 3, 128, 128)\n",
      "\n",
      "0: 128x128 clear 1.00, cloudy 0.00, amber 0.00, 8.8ms\n",
      "Speed: 1.3ms preprocess, 8.8ms inference, 0.0ms postprocess per image at shape (1, 3, 128, 128)\n",
      "\n",
      "0: 128x128 clear 0.64, cloudy 0.34, amber 0.01, 8.9ms\n",
      "Speed: 1.3ms preprocess, 8.9ms inference, 0.0ms postprocess per image at shape (1, 3, 128, 128)\n",
      "\n",
      "0: 128x128 clear 1.00, cloudy 0.00, amber 0.00, 9.0ms\n",
      "Speed: 1.2ms preprocess, 9.0ms inference, 0.1ms postprocess per image at shape (1, 3, 128, 128)\n",
      "\n",
      "0: 128x128 clear 1.00, amber 0.00, cloudy 0.00, 8.9ms\n",
      "Speed: 1.3ms preprocess, 8.9ms inference, 0.0ms postprocess per image at shape (1, 3, 128, 128)\n",
      "\n",
      "0: 128x128 clear 0.91, cloudy 0.09, amber 0.00, 8.8ms\n",
      "Speed: 1.2ms preprocess, 8.8ms inference, 0.0ms postprocess per image at shape (1, 3, 128, 128)\n",
      "\n",
      "0: 128x128 clear 1.00, amber 0.00, cloudy 0.00, 8.8ms\n",
      "Speed: 1.2ms preprocess, 8.8ms inference, 0.0ms postprocess per image at shape (1, 3, 128, 128)\n",
      "\n",
      "0: 128x128 cloudy 1.00, clear 0.00, amber 0.00, 8.9ms\n",
      "Speed: 1.4ms preprocess, 8.9ms inference, 0.0ms postprocess per image at shape (1, 3, 128, 128)\n",
      "\n",
      "0: 128x128 cloudy 0.99, clear 0.01, amber 0.00, 8.7ms\n",
      "Speed: 1.2ms preprocess, 8.7ms inference, 0.0ms postprocess per image at shape (1, 3, 128, 128)\n",
      "\n",
      "0: 128x128 cloudy 1.00, clear 0.00, amber 0.00, 9.2ms\n",
      "Speed: 1.2ms preprocess, 9.2ms inference, 0.0ms postprocess per image at shape (1, 3, 128, 128)\n",
      "\n",
      "0: 128x128 cloudy 1.00, clear 0.00, amber 0.00, 9.4ms\n",
      "Speed: 1.3ms preprocess, 9.4ms inference, 0.0ms postprocess per image at shape (1, 3, 128, 128)\n",
      "\n",
      "0: 128x128 cloudy 0.99, clear 0.01, amber 0.00, 9.2ms\n",
      "Speed: 1.4ms preprocess, 9.2ms inference, 0.0ms postprocess per image at shape (1, 3, 128, 128)\n",
      "\n",
      "0: 128x128 cloudy 0.99, clear 0.00, amber 0.00, 9.2ms\n",
      "Speed: 1.4ms preprocess, 9.2ms inference, 0.0ms postprocess per image at shape (1, 3, 128, 128)\n",
      "\n",
      "0: 128x128 cloudy 1.00, clear 0.00, amber 0.00, 9.0ms\n",
      "Speed: 1.2ms preprocess, 9.0ms inference, 0.0ms postprocess per image at shape (1, 3, 128, 128)\n",
      "\n",
      "0: 128x128 cloudy 1.00, clear 0.00, amber 0.00, 8.8ms\n",
      "Speed: 1.4ms preprocess, 8.8ms inference, 0.0ms postprocess per image at shape (1, 3, 128, 128)\n",
      "\n",
      "0: 128x128 cloudy 0.99, clear 0.01, amber 0.00, 8.8ms\n",
      "Speed: 1.3ms preprocess, 8.8ms inference, 0.0ms postprocess per image at shape (1, 3, 128, 128)\n",
      "\n",
      "0: 128x128 cloudy 0.93, amber 0.04, clear 0.02, 8.9ms\n",
      "Speed: 1.3ms preprocess, 8.9ms inference, 0.0ms postprocess per image at shape (1, 3, 128, 128)\n",
      "\n",
      "0: 128x128 cloudy 1.00, clear 0.00, amber 0.00, 8.7ms\n",
      "Speed: 1.3ms preprocess, 8.7ms inference, 0.0ms postprocess per image at shape (1, 3, 128, 128)\n",
      "\n",
      "0: 128x128 cloudy 0.79, clear 0.21, amber 0.00, 9.0ms\n",
      "Speed: 1.3ms preprocess, 9.0ms inference, 0.0ms postprocess per image at shape (1, 3, 128, 128)\n",
      "\n",
      "0: 128x128 cloudy 1.00, clear 0.00, amber 0.00, 8.8ms\n",
      "Speed: 1.4ms preprocess, 8.8ms inference, 0.1ms postprocess per image at shape (1, 3, 128, 128)\n",
      "\n",
      "0: 128x128 cloudy 1.00, clear 0.00, amber 0.00, 8.8ms\n",
      "Speed: 1.3ms preprocess, 8.8ms inference, 0.0ms postprocess per image at shape (1, 3, 128, 128)\n",
      "\n",
      "0: 128x128 cloudy 0.70, clear 0.18, amber 0.11, 8.7ms\n",
      "Speed: 1.3ms preprocess, 8.7ms inference, 0.0ms postprocess per image at shape (1, 3, 128, 128)\n",
      "\n",
      "0: 128x128 cloudy 1.00, clear 0.00, amber 0.00, 8.8ms\n",
      "Speed: 1.3ms preprocess, 8.8ms inference, 0.0ms postprocess per image at shape (1, 3, 128, 128)\n",
      "\n",
      "0: 128x128 cloudy 1.00, clear 0.00, amber 0.00, 8.7ms\n",
      "Speed: 1.4ms preprocess, 8.7ms inference, 0.1ms postprocess per image at shape (1, 3, 128, 128)\n",
      "\n",
      "0: 128x128 cloudy 0.98, amber 0.01, clear 0.01, 8.8ms\n",
      "Speed: 1.3ms preprocess, 8.8ms inference, 0.0ms postprocess per image at shape (1, 3, 128, 128)\n",
      "\n",
      "0: 128x128 cloudy 1.00, clear 0.00, amber 0.00, 8.6ms\n",
      "Speed: 1.3ms preprocess, 8.6ms inference, 0.0ms postprocess per image at shape (1, 3, 128, 128)\n",
      "\n",
      "0: 128x128 cloudy 1.00, amber 0.00, clear 0.00, 8.7ms\n",
      "Speed: 1.2ms preprocess, 8.7ms inference, 0.0ms postprocess per image at shape (1, 3, 128, 128)\n",
      "\n",
      "0: 128x128 cloudy 0.98, clear 0.02, amber 0.00, 8.7ms\n",
      "Speed: 1.3ms preprocess, 8.7ms inference, 0.0ms postprocess per image at shape (1, 3, 128, 128)\n",
      "\n",
      "0: 128x128 cloudy 1.00, clear 0.00, amber 0.00, 8.7ms\n",
      "Speed: 1.3ms preprocess, 8.7ms inference, 0.1ms postprocess per image at shape (1, 3, 128, 128)\n",
      "\n",
      "0: 128x128 cloudy 0.51, clear 0.33, amber 0.16, 8.7ms\n",
      "Speed: 1.4ms preprocess, 8.7ms inference, 0.0ms postprocess per image at shape (1, 3, 128, 128)\n",
      "\n",
      "0: 128x128 cloudy 1.00, clear 0.00, amber 0.00, 8.7ms\n",
      "Speed: 1.2ms preprocess, 8.7ms inference, 0.0ms postprocess per image at shape (1, 3, 128, 128)\n",
      "\n",
      "0: 128x128 cloudy 1.00, clear 0.00, amber 0.00, 8.7ms\n",
      "Speed: 1.4ms preprocess, 8.7ms inference, 0.1ms postprocess per image at shape (1, 3, 128, 128)\n",
      "\n",
      "0: 128x128 cloudy 0.89, clear 0.11, amber 0.00, 8.8ms\n",
      "Speed: 1.2ms preprocess, 8.8ms inference, 0.0ms postprocess per image at shape (1, 3, 128, 128)\n",
      "\n",
      "0: 128x128 cloudy 1.00, clear 0.00, amber 0.00, 8.7ms\n",
      "Speed: 1.4ms preprocess, 8.7ms inference, 0.0ms postprocess per image at shape (1, 3, 128, 128)\n",
      "\n",
      "0: 128x128 cloudy 1.00, clear 0.00, amber 0.00, 8.8ms\n",
      "Speed: 1.3ms preprocess, 8.8ms inference, 0.0ms postprocess per image at shape (1, 3, 128, 128)\n",
      "\n",
      "0: 128x128 cloudy 1.00, clear 0.00, amber 0.00, 8.8ms\n",
      "Speed: 1.4ms preprocess, 8.8ms inference, 0.0ms postprocess per image at shape (1, 3, 128, 128)\n",
      "\n",
      "0: 128x128 cloudy 0.99, clear 0.01, amber 0.00, 8.7ms\n",
      "Speed: 1.2ms preprocess, 8.7ms inference, 0.0ms postprocess per image at shape (1, 3, 128, 128)\n",
      "\n",
      "0: 128x128 cloudy 0.91, clear 0.08, amber 0.01, 8.8ms\n",
      "Speed: 1.2ms preprocess, 8.8ms inference, 0.1ms postprocess per image at shape (1, 3, 128, 128)\n",
      "\n",
      "0: 128x128 cloudy 1.00, amber 0.00, clear 0.00, 8.7ms\n",
      "Speed: 1.2ms preprocess, 8.7ms inference, 0.0ms postprocess per image at shape (1, 3, 128, 128)\n",
      "\n",
      "0: 128x128 cloudy 1.00, clear 0.00, amber 0.00, 8.7ms\n",
      "Speed: 1.2ms preprocess, 8.7ms inference, 0.0ms postprocess per image at shape (1, 3, 128, 128)\n",
      "\n",
      "0: 128x128 cloudy 1.00, clear 0.00, amber 0.00, 8.6ms\n",
      "Speed: 1.4ms preprocess, 8.6ms inference, 0.0ms postprocess per image at shape (1, 3, 128, 128)\n",
      "\n",
      "0: 128x128 cloudy 0.50, clear 0.50, amber 0.00, 8.7ms\n",
      "Speed: 1.2ms preprocess, 8.7ms inference, 0.0ms postprocess per image at shape (1, 3, 128, 128)\n",
      "\n",
      "0: 128x128 cloudy 0.99, clear 0.01, amber 0.00, 8.7ms\n",
      "Speed: 1.2ms preprocess, 8.7ms inference, 0.0ms postprocess per image at shape (1, 3, 128, 128)\n",
      "\n",
      "0: 128x128 cloudy 0.97, clear 0.01, amber 0.01, 8.8ms\n",
      "Speed: 1.2ms preprocess, 8.8ms inference, 0.0ms postprocess per image at shape (1, 3, 128, 128)\n",
      "\n",
      "0: 128x128 cloudy 0.99, clear 0.00, amber 0.00, 8.7ms\n",
      "Speed: 1.2ms preprocess, 8.7ms inference, 0.0ms postprocess per image at shape (1, 3, 128, 128)\n",
      "\n",
      "0: 128x128 cloudy 1.00, amber 0.00, clear 0.00, 8.7ms\n",
      "Speed: 1.2ms preprocess, 8.7ms inference, 0.0ms postprocess per image at shape (1, 3, 128, 128)\n",
      "\n",
      "0: 128x128 cloudy 0.94, clear 0.06, amber 0.00, 8.8ms\n",
      "Speed: 1.2ms preprocess, 8.8ms inference, 0.0ms postprocess per image at shape (1, 3, 128, 128)\n",
      "\n",
      "0: 128x128 cloudy 1.00, amber 0.00, clear 0.00, 9.0ms\n",
      "Speed: 1.2ms preprocess, 9.0ms inference, 0.0ms postprocess per image at shape (1, 3, 128, 128)\n",
      "\n",
      "0: 128x128 clear 0.65, cloudy 0.34, amber 0.01, 8.8ms\n",
      "Speed: 1.2ms preprocess, 8.8ms inference, 0.1ms postprocess per image at shape (1, 3, 128, 128)\n",
      "\n",
      "0: 128x128 cloudy 1.00, amber 0.00, clear 0.00, 8.9ms\n",
      "Speed: 1.2ms preprocess, 8.9ms inference, 0.0ms postprocess per image at shape (1, 3, 128, 128)\n",
      "\n",
      "0: 128x128 cloudy 1.00, clear 0.00, amber 0.00, 8.9ms\n",
      "Speed: 1.2ms preprocess, 8.9ms inference, 0.0ms postprocess per image at shape (1, 3, 128, 128)\n",
      "\n",
      "0: 128x128 cloudy 1.00, clear 0.00, amber 0.00, 8.8ms\n",
      "Speed: 1.2ms preprocess, 8.8ms inference, 0.0ms postprocess per image at shape (1, 3, 128, 128)\n",
      "\n",
      "0: 128x128 cloudy 1.00, clear 0.00, amber 0.00, 8.8ms\n",
      "Speed: 1.2ms preprocess, 8.8ms inference, 0.0ms postprocess per image at shape (1, 3, 128, 128)\n",
      "\n",
      "0: 128x128 cloudy 1.00, clear 0.00, amber 0.00, 8.7ms\n",
      "Speed: 1.2ms preprocess, 8.7ms inference, 0.0ms postprocess per image at shape (1, 3, 128, 128)\n",
      "\n",
      "0: 128x128 cloudy 0.99, clear 0.01, amber 0.00, 8.7ms\n",
      "Speed: 1.2ms preprocess, 8.7ms inference, 0.0ms postprocess per image at shape (1, 3, 128, 128)\n",
      "\n",
      "0: 128x128 cloudy 1.00, clear 0.00, amber 0.00, 8.9ms\n",
      "Speed: 1.2ms preprocess, 8.9ms inference, 0.0ms postprocess per image at shape (1, 3, 128, 128)\n",
      "\n",
      "0: 128x128 cloudy 1.00, clear 0.00, amber 0.00, 8.8ms\n",
      "Speed: 1.3ms preprocess, 8.8ms inference, 0.0ms postprocess per image at shape (1, 3, 128, 128)\n",
      "\n",
      "0: 128x128 cloudy 1.00, amber 0.00, clear 0.00, 8.8ms\n",
      "Speed: 1.1ms preprocess, 8.8ms inference, 0.0ms postprocess per image at shape (1, 3, 128, 128)\n",
      "\n",
      "0: 128x128 cloudy 1.00, clear 0.00, amber 0.00, 8.7ms\n",
      "Speed: 1.3ms preprocess, 8.7ms inference, 0.1ms postprocess per image at shape (1, 3, 128, 128)\n",
      "Training YOLOv11 XLarge model...\n",
      "Ultralytics 8.3.56 🚀 Python-3.9.19 torch-2.3.1+cu121 CUDA:0 (NVIDIA GeForce RTX 3090, 24253MiB)\n",
      "\u001b[34m\u001b[1mengine/trainer: \u001b[0mtask=classify, mode=train, model=/home/etaylor/code_projects/thesis/checkpoints/trichome_image_classification/yolo/yolo11x-cls.pt, data=/home/etaylor/code_projects/thesis/classification_datasets/trichome_classification/extracted_trichomes_images/balanced_good_quality, epochs=10, time=None, patience=100, batch=16, imgsz=128, save=True, save_period=-1, cache=False, device=None, workers=8, project=None, name=train342, exist_ok=False, pretrained=True, optimizer=auto, verbose=True, seed=0, deterministic=True, single_cls=False, rect=False, cos_lr=False, close_mosaic=10, resume=False, amp=True, fraction=1.0, profile=False, freeze=None, multi_scale=False, overlap_mask=True, mask_ratio=4, dropout=0.0, val=True, split=val, save_json=False, save_hybrid=False, conf=None, iou=0.7, max_det=300, half=False, dnn=False, plots=True, source=None, vid_stride=1, stream_buffer=False, visualize=False, augment=False, agnostic_nms=False, classes=None, retina_masks=False, embed=None, show=False, save_frames=False, save_txt=False, save_conf=False, save_crop=False, show_labels=True, show_conf=True, show_boxes=True, line_width=None, format=torchscript, keras=False, optimize=False, int8=False, dynamic=False, simplify=True, opset=None, workspace=None, nms=False, lr0=0.01, lrf=0.01, momentum=0.937, weight_decay=0.0005, warmup_epochs=3.0, warmup_momentum=0.8, warmup_bias_lr=0.1, box=7.5, cls=0.5, dfl=1.5, pose=12.0, kobj=1.0, nbs=64, hsv_h=0.015, hsv_s=0.7, hsv_v=0.4, degrees=0.0, translate=0.1, scale=0.5, shear=0.0, perspective=0.0, flipud=0.0, fliplr=0.5, bgr=0.0, mosaic=1.0, mixup=0.0, copy_paste=0.0, copy_paste_mode=flip, auto_augment=randaugment, erasing=0.4, crop_fraction=1.0, cfg=None, tracker=botsort.yaml, save_dir=/home/etaylor/runs/classify/train342\n",
      "\u001b[34m\u001b[1mtrain:\u001b[0m /sise/home/etaylor/code_projects/thesis/classification_datasets/trichome_classification/extracted_trichomes_images/balanced_good_quality/train... found 462 images in 3 classes ✅ \n",
      "\u001b[34m\u001b[1mval:\u001b[0m /sise/home/etaylor/code_projects/thesis/classification_datasets/trichome_classification/extracted_trichomes_images/balanced_good_quality/val... found 156 images in 3 classes ✅ \n",
      "\u001b[34m\u001b[1mtest:\u001b[0m None...\n",
      "Overriding model.yaml nc=80 with nc=3\n",
      "\n",
      "                   from  n    params  module                                       arguments                     \n",
      "  0                  -1  1      2784  ultralytics.nn.modules.conv.Conv             [3, 96, 3, 2]                 \n",
      "  1                  -1  1    166272  ultralytics.nn.modules.conv.Conv             [96, 192, 3, 2]               \n",
      "  2                  -1  2    389760  ultralytics.nn.modules.block.C3k2            [192, 384, 2, True, 0.25]     \n",
      "  3                  -1  1   1327872  ultralytics.nn.modules.conv.Conv             [384, 384, 3, 2]              \n",
      "  4                  -1  2   1553664  ultralytics.nn.modules.block.C3k2            [384, 768, 2, True, 0.25]     \n",
      "  5                  -1  1   5309952  ultralytics.nn.modules.conv.Conv             [768, 768, 3, 2]              \n",
      "  6                  -1  2   5022720  ultralytics.nn.modules.block.C3k2            [768, 768, 2, True]           \n",
      "  7                  -1  1   5309952  ultralytics.nn.modules.conv.Conv             [768, 768, 3, 2]              \n",
      "  8                  -1  2   5022720  ultralytics.nn.modules.block.C3k2            [768, 768, 2, True]           \n",
      "  9                  -1  2   3264768  ultralytics.nn.modules.block.C2PSA           [768, 768, 2]                 \n",
      " 10                  -1  1    989443  ultralytics.nn.modules.head.Classify         [768, 3]                      \n",
      "YOLO11x-cls summary: 309 layers, 28,359,907 parameters, 28,359,907 gradients, 111.0 GFLOPs\n",
      "Transferred 492/494 items from pretrained weights\n",
      "\u001b[34m\u001b[1mTensorBoard: \u001b[0mStart with 'tensorboard --logdir /home/etaylor/runs/classify/train342', view at http://localhost:6006/\n",
      "\u001b[34m\u001b[1mAMP: \u001b[0mrunning Automatic Mixed Precision (AMP) checks...\n",
      "\u001b[34m\u001b[1mAMP: \u001b[0mchecks passed ✅\n"
     ]
    },
    {
     "name": "stderr",
     "output_type": "stream",
     "text": [
      "\u001b[34m\u001b[1mtrain: \u001b[0mScanning /sise/home/etaylor/code_projects/thesis/classification_datasets/trichome_classification/extracted_trichomes_images/balanced_good_quality/train... 462 images, 0 corrupt: 100%|██████████| 462/462 [00:00<?, ?it/s]\n",
      "/home/etaylor/.conda/envs/detectron_fastai/lib/python3.9/site-packages/torch/utils/data/dataloader.py:558: UserWarning: This DataLoader will create 8 worker processes in total. Our suggested max number of worker in current system is 6, which is smaller than what this DataLoader is going to create. Please be aware that excessive worker creation might get DataLoader running slow or even freeze, lower the worker number to avoid potential slowness/freeze if necessary.\n",
      "  warnings.warn(_create_warning_msg(\n",
      "\u001b[34m\u001b[1mval: \u001b[0mScanning /sise/home/etaylor/code_projects/thesis/classification_datasets/trichome_classification/extracted_trichomes_images/balanced_good_quality/val... 156 images, 0 corrupt: 100%|██████████| 156/156 [00:00<?, ?it/s]\n"
     ]
    },
    {
     "name": "stdout",
     "output_type": "stream",
     "text": [
      "\u001b[34m\u001b[1moptimizer:\u001b[0m 'optimizer=auto' found, ignoring 'lr0=0.01' and 'momentum=0.937' and determining best 'optimizer', 'lr0' and 'momentum' automatically... \n",
      "\u001b[34m\u001b[1moptimizer:\u001b[0m AdamW(lr=0.000714, momentum=0.9) with parameter groups 82 weight(decay=0.0), 83 weight(decay=0.0005), 83 bias(decay=0.0)\n",
      "\u001b[34m\u001b[1mTensorBoard: \u001b[0mmodel graph visualization added ✅\n",
      "Image sizes 128 train, 128 val\n",
      "Using 8 dataloader workers\n",
      "Logging results to \u001b[1m/home/etaylor/runs/classify/train342\u001b[0m\n",
      "Starting training for 10 epochs...\n"
     ]
    },
    {
     "name": "stderr",
     "output_type": "stream",
     "text": [
      "/home/etaylor/.conda/envs/detectron_fastai/lib/python3.9/site-packages/torch/utils/data/dataloader.py:558: UserWarning: This DataLoader will create 8 worker processes in total. Our suggested max number of worker in current system is 6, which is smaller than what this DataLoader is going to create. Please be aware that excessive worker creation might get DataLoader running slow or even freeze, lower the worker number to avoid potential slowness/freeze if necessary.\n",
      "  warnings.warn(_create_warning_msg(\n"
     ]
    },
    {
     "name": "stdout",
     "output_type": "stream",
     "text": [
      "\n",
      "      Epoch    GPU_mem       loss  Instances       Size\n"
     ]
    },
    {
     "name": "stderr",
     "output_type": "stream",
     "text": [
      "       1/10      1.97G      1.019         14        128: 100%|██████████| 29/29 [00:02<00:00, 11.39it/s]\n",
      "               classes   top1_acc   top5_acc: 100%|██████████| 5/5 [00:00<00:00, 20.67it/s]"
     ]
    },
    {
     "name": "stdout",
     "output_type": "stream",
     "text": [
      "                   all       0.84          1\n"
     ]
    },
    {
     "name": "stderr",
     "output_type": "stream",
     "text": [
      "\n"
     ]
    },
    {
     "name": "stdout",
     "output_type": "stream",
     "text": [
      "\n",
      "      Epoch    GPU_mem       loss  Instances       Size\n"
     ]
    },
    {
     "name": "stderr",
     "output_type": "stream",
     "text": [
      "       2/10      1.87G     0.4628         14        128: 100%|██████████| 29/29 [00:01<00:00, 15.61it/s]\n",
      "               classes   top1_acc   top5_acc: 100%|██████████| 5/5 [00:00<00:00, 51.51it/s]"
     ]
    },
    {
     "name": "stdout",
     "output_type": "stream",
     "text": [
      "                   all      0.962          1\n"
     ]
    },
    {
     "name": "stderr",
     "output_type": "stream",
     "text": [
      "\n"
     ]
    },
    {
     "name": "stdout",
     "output_type": "stream",
     "text": [
      "\n",
      "      Epoch    GPU_mem       loss  Instances       Size\n"
     ]
    },
    {
     "name": "stderr",
     "output_type": "stream",
     "text": [
      "       3/10      1.87G     0.2871         14        128: 100%|██████████| 29/29 [00:01<00:00, 15.13it/s]\n",
      "               classes   top1_acc   top5_acc: 100%|██████████| 5/5 [00:00<00:00, 53.09it/s]"
     ]
    },
    {
     "name": "stdout",
     "output_type": "stream",
     "text": [
      "                   all      0.968          1\n"
     ]
    },
    {
     "name": "stderr",
     "output_type": "stream",
     "text": [
      "\n"
     ]
    },
    {
     "name": "stdout",
     "output_type": "stream",
     "text": [
      "\n",
      "      Epoch    GPU_mem       loss  Instances       Size\n"
     ]
    },
    {
     "name": "stderr",
     "output_type": "stream",
     "text": [
      "       4/10      1.87G     0.2437         14        128: 100%|██████████| 29/29 [00:01<00:00, 16.91it/s]\n",
      "               classes   top1_acc   top5_acc: 100%|██████████| 5/5 [00:00<00:00, 57.91it/s]"
     ]
    },
    {
     "name": "stdout",
     "output_type": "stream",
     "text": [
      "                   all      0.885          1\n"
     ]
    },
    {
     "name": "stderr",
     "output_type": "stream",
     "text": [
      "\n"
     ]
    },
    {
     "name": "stdout",
     "output_type": "stream",
     "text": [
      "\n",
      "      Epoch    GPU_mem       loss  Instances       Size\n"
     ]
    },
    {
     "name": "stderr",
     "output_type": "stream",
     "text": [
      "       5/10      1.87G     0.2793         14        128: 100%|██████████| 29/29 [00:01<00:00, 17.06it/s]\n",
      "               classes   top1_acc   top5_acc: 100%|██████████| 5/5 [00:00<00:00, 55.69it/s]"
     ]
    },
    {
     "name": "stdout",
     "output_type": "stream",
     "text": [
      "                   all      0.955          1\n"
     ]
    },
    {
     "name": "stderr",
     "output_type": "stream",
     "text": [
      "\n"
     ]
    },
    {
     "name": "stdout",
     "output_type": "stream",
     "text": [
      "\n",
      "      Epoch    GPU_mem       loss  Instances       Size\n"
     ]
    },
    {
     "name": "stderr",
     "output_type": "stream",
     "text": [
      "       6/10      1.87G     0.2244         14        128: 100%|██████████| 29/29 [00:01<00:00, 17.03it/s]\n",
      "               classes   top1_acc   top5_acc: 100%|██████████| 5/5 [00:00<00:00, 56.27it/s]"
     ]
    },
    {
     "name": "stdout",
     "output_type": "stream",
     "text": [
      "                   all      0.955          1\n"
     ]
    },
    {
     "name": "stderr",
     "output_type": "stream",
     "text": [
      "\n"
     ]
    },
    {
     "name": "stdout",
     "output_type": "stream",
     "text": [
      "\n",
      "      Epoch    GPU_mem       loss  Instances       Size\n"
     ]
    },
    {
     "name": "stderr",
     "output_type": "stream",
     "text": [
      "       7/10      1.87G     0.2497         14        128: 100%|██████████| 29/29 [00:01<00:00, 16.72it/s]\n",
      "               classes   top1_acc   top5_acc: 100%|██████████| 5/5 [00:00<00:00, 56.73it/s]"
     ]
    },
    {
     "name": "stdout",
     "output_type": "stream",
     "text": [
      "                   all      0.955          1\n"
     ]
    },
    {
     "name": "stderr",
     "output_type": "stream",
     "text": [
      "\n"
     ]
    },
    {
     "name": "stdout",
     "output_type": "stream",
     "text": [
      "\n",
      "      Epoch    GPU_mem       loss  Instances       Size\n"
     ]
    },
    {
     "name": "stderr",
     "output_type": "stream",
     "text": [
      "       8/10      1.87G     0.2102         14        128: 100%|██████████| 29/29 [00:01<00:00, 17.09it/s]\n",
      "               classes   top1_acc   top5_acc: 100%|██████████| 5/5 [00:00<00:00, 51.62it/s]"
     ]
    },
    {
     "name": "stdout",
     "output_type": "stream",
     "text": [
      "                   all      0.942          1\n"
     ]
    },
    {
     "name": "stderr",
     "output_type": "stream",
     "text": [
      "\n"
     ]
    },
    {
     "name": "stdout",
     "output_type": "stream",
     "text": [
      "\n",
      "      Epoch    GPU_mem       loss  Instances       Size\n"
     ]
    },
    {
     "name": "stderr",
     "output_type": "stream",
     "text": [
      "       9/10      1.87G     0.1558         14        128: 100%|██████████| 29/29 [00:01<00:00, 16.85it/s]\n",
      "               classes   top1_acc   top5_acc: 100%|██████████| 5/5 [00:00<00:00, 54.61it/s]"
     ]
    },
    {
     "name": "stdout",
     "output_type": "stream",
     "text": [
      "                   all      0.942          1\n"
     ]
    },
    {
     "name": "stderr",
     "output_type": "stream",
     "text": [
      "\n"
     ]
    },
    {
     "name": "stdout",
     "output_type": "stream",
     "text": [
      "\n",
      "      Epoch    GPU_mem       loss  Instances       Size\n"
     ]
    },
    {
     "name": "stderr",
     "output_type": "stream",
     "text": [
      "      10/10      1.87G     0.1619         14        128: 100%|██████████| 29/29 [00:01<00:00, 17.03it/s]\n",
      "               classes   top1_acc   top5_acc: 100%|██████████| 5/5 [00:00<00:00, 58.01it/s]"
     ]
    },
    {
     "name": "stdout",
     "output_type": "stream",
     "text": [
      "                   all      0.962          1\n"
     ]
    },
    {
     "name": "stderr",
     "output_type": "stream",
     "text": [
      "\n"
     ]
    },
    {
     "name": "stdout",
     "output_type": "stream",
     "text": [
      "\n",
      "10 epochs completed in 0.031 hours.\n",
      "Optimizer stripped from /home/etaylor/runs/classify/train342/weights/last.pt, 57.0MB\n",
      "Optimizer stripped from /home/etaylor/runs/classify/train342/weights/best.pt, 57.0MB\n",
      "\n",
      "Validating /home/etaylor/runs/classify/train342/weights/best.pt...\n",
      "Ultralytics 8.3.56 🚀 Python-3.9.19 torch-2.3.1+cu121 CUDA:0 (NVIDIA GeForce RTX 3090, 24253MiB)\n",
      "YOLO11x-cls summary (fused): 227 layers, 28,336,259 parameters, 0 gradients, 110.3 GFLOPs\n",
      "\u001b[34m\u001b[1mtrain:\u001b[0m /sise/home/etaylor/code_projects/thesis/classification_datasets/trichome_classification/extracted_trichomes_images/balanced_good_quality/train... found 462 images in 3 classes ✅ \n",
      "\u001b[34m\u001b[1mval:\u001b[0m /sise/home/etaylor/code_projects/thesis/classification_datasets/trichome_classification/extracted_trichomes_images/balanced_good_quality/val... found 156 images in 3 classes ✅ \n",
      "\u001b[34m\u001b[1mtest:\u001b[0m None...\n"
     ]
    },
    {
     "name": "stderr",
     "output_type": "stream",
     "text": [
      "               classes   top1_acc   top5_acc: 100%|██████████| 5/5 [00:00<00:00, 25.96it/s]\n"
     ]
    },
    {
     "name": "stdout",
     "output_type": "stream",
     "text": [
      "                   all      0.968          1\n",
      "Speed: 0.0ms preprocess, 1.2ms inference, 0.0ms loss, 0.0ms postprocess per image\n",
      "Results saved to \u001b[1m/home/etaylor/runs/classify/train342\u001b[0m\n",
      "Evaluating YOLOv11 XLarge model...\n",
      "\n",
      "0: 128x128 amber 1.00, clear 0.00, cloudy 0.00, 8.7ms\n",
      "Speed: 1.4ms preprocess, 8.7ms inference, 0.1ms postprocess per image at shape (1, 3, 128, 128)\n",
      "\n",
      "0: 128x128 amber 0.87, cloudy 0.09, clear 0.05, 8.9ms\n",
      "Speed: 1.3ms preprocess, 8.9ms inference, 0.0ms postprocess per image at shape (1, 3, 128, 128)\n",
      "\n",
      "0: 128x128 amber 1.00, clear 0.00, cloudy 0.00, 8.8ms\n",
      "Speed: 1.4ms preprocess, 8.8ms inference, 0.0ms postprocess per image at shape (1, 3, 128, 128)\n",
      "\n",
      "0: 128x128 amber 1.00, cloudy 0.00, clear 0.00, 8.9ms\n",
      "Speed: 1.3ms preprocess, 8.9ms inference, 0.0ms postprocess per image at shape (1, 3, 128, 128)\n",
      "\n",
      "0: 128x128 amber 0.97, cloudy 0.03, clear 0.00, 8.9ms\n",
      "Speed: 1.3ms preprocess, 8.9ms inference, 0.0ms postprocess per image at shape (1, 3, 128, 128)\n",
      "\n",
      "0: 128x128 amber 1.00, clear 0.00, cloudy 0.00, 8.9ms\n",
      "Speed: 1.3ms preprocess, 8.9ms inference, 0.0ms postprocess per image at shape (1, 3, 128, 128)\n",
      "\n",
      "0: 128x128 amber 1.00, cloudy 0.00, clear 0.00, 8.9ms\n",
      "Speed: 1.3ms preprocess, 8.9ms inference, 0.0ms postprocess per image at shape (1, 3, 128, 128)\n",
      "\n",
      "0: 128x128 amber 0.96, cloudy 0.04, clear 0.00, 8.9ms\n",
      "Speed: 1.3ms preprocess, 8.9ms inference, 0.0ms postprocess per image at shape (1, 3, 128, 128)\n",
      "\n",
      "0: 128x128 amber 0.84, cloudy 0.16, clear 0.00, 8.9ms\n",
      "Speed: 1.3ms preprocess, 8.9ms inference, 0.0ms postprocess per image at shape (1, 3, 128, 128)\n",
      "\n",
      "0: 128x128 amber 1.00, clear 0.00, cloudy 0.00, 8.9ms\n",
      "Speed: 1.3ms preprocess, 8.9ms inference, 0.0ms postprocess per image at shape (1, 3, 128, 128)\n",
      "\n",
      "0: 128x128 amber 0.99, cloudy 0.00, clear 0.00, 8.8ms\n",
      "Speed: 1.3ms preprocess, 8.8ms inference, 0.0ms postprocess per image at shape (1, 3, 128, 128)\n",
      "\n",
      "0: 128x128 amber 1.00, cloudy 0.00, clear 0.00, 9.0ms\n",
      "Speed: 1.3ms preprocess, 9.0ms inference, 0.0ms postprocess per image at shape (1, 3, 128, 128)\n",
      "\n",
      "0: 128x128 amber 0.86, cloudy 0.12, clear 0.01, 8.9ms\n",
      "Speed: 1.3ms preprocess, 8.9ms inference, 0.0ms postprocess per image at shape (1, 3, 128, 128)\n",
      "\n",
      "0: 128x128 amber 0.86, cloudy 0.11, clear 0.03, 8.9ms\n",
      "Speed: 1.4ms preprocess, 8.9ms inference, 0.0ms postprocess per image at shape (1, 3, 128, 128)\n",
      "\n",
      "0: 128x128 amber 0.97, cloudy 0.02, clear 0.01, 9.0ms\n",
      "Speed: 1.3ms preprocess, 9.0ms inference, 0.0ms postprocess per image at shape (1, 3, 128, 128)\n",
      "\n",
      "0: 128x128 amber 1.00, clear 0.00, cloudy 0.00, 8.8ms\n",
      "Speed: 1.3ms preprocess, 8.8ms inference, 0.0ms postprocess per image at shape (1, 3, 128, 128)\n",
      "\n",
      "0: 128x128 amber 1.00, clear 0.00, cloudy 0.00, 8.8ms\n",
      "Speed: 1.3ms preprocess, 8.8ms inference, 0.0ms postprocess per image at shape (1, 3, 128, 128)\n",
      "\n",
      "0: 128x128 amber 0.86, cloudy 0.12, clear 0.02, 8.8ms\n",
      "Speed: 1.4ms preprocess, 8.8ms inference, 0.0ms postprocess per image at shape (1, 3, 128, 128)\n",
      "\n",
      "0: 128x128 amber 0.96, clear 0.03, cloudy 0.01, 8.9ms\n",
      "Speed: 1.4ms preprocess, 8.9ms inference, 0.1ms postprocess per image at shape (1, 3, 128, 128)\n",
      "\n",
      "0: 128x128 amber 1.00, cloudy 0.00, clear 0.00, 8.9ms\n",
      "Speed: 1.2ms preprocess, 8.9ms inference, 0.0ms postprocess per image at shape (1, 3, 128, 128)\n",
      "\n",
      "0: 128x128 amber 0.97, cloudy 0.02, clear 0.01, 9.0ms\n",
      "Speed: 1.3ms preprocess, 9.0ms inference, 0.0ms postprocess per image at shape (1, 3, 128, 128)\n",
      "\n",
      "0: 128x128 amber 1.00, clear 0.00, cloudy 0.00, 8.9ms\n",
      "Speed: 1.2ms preprocess, 8.9ms inference, 0.0ms postprocess per image at shape (1, 3, 128, 128)\n",
      "\n",
      "0: 128x128 amber 0.99, cloudy 0.01, clear 0.00, 9.0ms\n",
      "Speed: 1.2ms preprocess, 9.0ms inference, 0.0ms postprocess per image at shape (1, 3, 128, 128)\n",
      "\n",
      "0: 128x128 amber 1.00, cloudy 0.00, clear 0.00, 9.0ms\n",
      "Speed: 1.4ms preprocess, 9.0ms inference, 0.0ms postprocess per image at shape (1, 3, 128, 128)\n",
      "\n",
      "0: 128x128 amber 0.99, cloudy 0.01, clear 0.00, 9.1ms\n",
      "Speed: 1.2ms preprocess, 9.1ms inference, 0.0ms postprocess per image at shape (1, 3, 128, 128)\n",
      "\n",
      "0: 128x128 amber 1.00, cloudy 0.00, clear 0.00, 9.2ms\n",
      "Speed: 1.2ms preprocess, 9.2ms inference, 0.0ms postprocess per image at shape (1, 3, 128, 128)\n",
      "\n",
      "0: 128x128 amber 0.98, cloudy 0.02, clear 0.00, 9.0ms\n",
      "Speed: 1.2ms preprocess, 9.0ms inference, 0.0ms postprocess per image at shape (1, 3, 128, 128)\n",
      "\n",
      "0: 128x128 amber 1.00, cloudy 0.00, clear 0.00, 9.0ms\n",
      "Speed: 1.2ms preprocess, 9.0ms inference, 0.0ms postprocess per image at shape (1, 3, 128, 128)\n",
      "\n",
      "0: 128x128 amber 0.99, cloudy 0.01, clear 0.01, 9.1ms\n",
      "Speed: 1.2ms preprocess, 9.1ms inference, 0.0ms postprocess per image at shape (1, 3, 128, 128)\n",
      "\n",
      "0: 128x128 amber 1.00, cloudy 0.00, clear 0.00, 8.9ms\n",
      "Speed: 1.3ms preprocess, 8.9ms inference, 0.0ms postprocess per image at shape (1, 3, 128, 128)\n",
      "\n",
      "0: 128x128 amber 0.95, cloudy 0.05, clear 0.00, 8.9ms\n",
      "Speed: 1.2ms preprocess, 8.9ms inference, 0.0ms postprocess per image at shape (1, 3, 128, 128)\n",
      "\n",
      "0: 128x128 amber 0.83, cloudy 0.17, clear 0.00, 9.0ms\n",
      "Speed: 1.2ms preprocess, 9.0ms inference, 0.1ms postprocess per image at shape (1, 3, 128, 128)\n",
      "\n",
      "0: 128x128 amber 0.65, cloudy 0.29, clear 0.06, 9.0ms\n",
      "Speed: 1.2ms preprocess, 9.0ms inference, 0.0ms postprocess per image at shape (1, 3, 128, 128)\n",
      "\n",
      "0: 128x128 amber 0.69, cloudy 0.31, clear 0.00, 9.0ms\n",
      "Speed: 1.2ms preprocess, 9.0ms inference, 0.0ms postprocess per image at shape (1, 3, 128, 128)\n",
      "\n",
      "0: 128x128 amber 0.99, cloudy 0.00, clear 0.00, 9.0ms\n",
      "Speed: 1.2ms preprocess, 9.0ms inference, 0.0ms postprocess per image at shape (1, 3, 128, 128)\n",
      "\n",
      "0: 128x128 amber 1.00, clear 0.00, cloudy 0.00, 8.9ms\n",
      "Speed: 1.2ms preprocess, 8.9ms inference, 0.0ms postprocess per image at shape (1, 3, 128, 128)\n",
      "\n",
      "0: 128x128 amber 1.00, cloudy 0.00, clear 0.00, 9.0ms\n",
      "Speed: 1.4ms preprocess, 9.0ms inference, 0.0ms postprocess per image at shape (1, 3, 128, 128)\n",
      "\n",
      "0: 128x128 amber 0.94, cloudy 0.05, clear 0.01, 8.9ms\n",
      "Speed: 1.2ms preprocess, 8.9ms inference, 0.0ms postprocess per image at shape (1, 3, 128, 128)\n",
      "\n",
      "0: 128x128 amber 0.93, cloudy 0.07, clear 0.00, 8.9ms\n",
      "Speed: 1.2ms preprocess, 8.9ms inference, 0.0ms postprocess per image at shape (1, 3, 128, 128)\n",
      "\n",
      "0: 128x128 amber 0.97, cloudy 0.02, clear 0.00, 8.8ms\n",
      "Speed: 1.2ms preprocess, 8.8ms inference, 0.0ms postprocess per image at shape (1, 3, 128, 128)\n",
      "\n",
      "0: 128x128 amber 0.87, clear 0.09, cloudy 0.04, 9.0ms\n",
      "Speed: 1.2ms preprocess, 9.0ms inference, 0.0ms postprocess per image at shape (1, 3, 128, 128)\n",
      "\n",
      "0: 128x128 amber 0.80, cloudy 0.20, clear 0.00, 8.9ms\n",
      "Speed: 1.2ms preprocess, 8.9ms inference, 0.0ms postprocess per image at shape (1, 3, 128, 128)\n",
      "\n",
      "0: 128x128 amber 0.89, clear 0.07, cloudy 0.04, 8.9ms\n",
      "Speed: 1.2ms preprocess, 8.9ms inference, 0.0ms postprocess per image at shape (1, 3, 128, 128)\n",
      "\n",
      "0: 128x128 amber 0.92, cloudy 0.07, clear 0.01, 9.0ms\n",
      "Speed: 1.5ms preprocess, 9.0ms inference, 0.0ms postprocess per image at shape (1, 3, 128, 128)\n",
      "\n",
      "0: 128x128 amber 1.00, cloudy 0.00, clear 0.00, 9.0ms\n",
      "Speed: 1.5ms preprocess, 9.0ms inference, 0.0ms postprocess per image at shape (1, 3, 128, 128)\n",
      "\n",
      "0: 128x128 amber 1.00, clear 0.00, cloudy 0.00, 9.2ms\n",
      "Speed: 1.2ms preprocess, 9.2ms inference, 0.1ms postprocess per image at shape (1, 3, 128, 128)\n",
      "\n",
      "0: 128x128 amber 1.00, clear 0.00, cloudy 0.00, 9.1ms\n",
      "Speed: 1.6ms preprocess, 9.1ms inference, 0.0ms postprocess per image at shape (1, 3, 128, 128)\n",
      "\n",
      "0: 128x128 amber 1.00, clear 0.00, cloudy 0.00, 8.9ms\n",
      "Speed: 1.3ms preprocess, 8.9ms inference, 0.0ms postprocess per image at shape (1, 3, 128, 128)\n",
      "\n",
      "0: 128x128 cloudy 0.88, amber 0.12, clear 0.00, 9.0ms\n",
      "Speed: 1.4ms preprocess, 9.0ms inference, 0.0ms postprocess per image at shape (1, 3, 128, 128)\n",
      "\n",
      "0: 128x128 amber 1.00, clear 0.00, cloudy 0.00, 8.9ms\n",
      "Speed: 1.3ms preprocess, 8.9ms inference, 0.1ms postprocess per image at shape (1, 3, 128, 128)\n",
      "\n",
      "0: 128x128 amber 1.00, cloudy 0.00, clear 0.00, 8.9ms\n",
      "Speed: 1.3ms preprocess, 8.9ms inference, 0.0ms postprocess per image at shape (1, 3, 128, 128)\n",
      "\n",
      "0: 128x128 amber 0.99, clear 0.00, cloudy 0.00, 9.0ms\n",
      "Speed: 1.3ms preprocess, 9.0ms inference, 0.0ms postprocess per image at shape (1, 3, 128, 128)\n",
      "\n",
      "0: 128x128 clear 0.94, cloudy 0.05, amber 0.01, 9.3ms\n",
      "Speed: 1.4ms preprocess, 9.3ms inference, 0.0ms postprocess per image at shape (1, 3, 128, 128)\n",
      "\n",
      "0: 128x128 clear 0.85, amber 0.09, cloudy 0.06, 9.4ms\n",
      "Speed: 1.5ms preprocess, 9.4ms inference, 0.0ms postprocess per image at shape (1, 3, 128, 128)\n",
      "\n",
      "0: 128x128 clear 0.99, amber 0.01, cloudy 0.00, 9.4ms\n",
      "Speed: 1.5ms preprocess, 9.4ms inference, 0.0ms postprocess per image at shape (1, 3, 128, 128)\n",
      "\n",
      "0: 128x128 clear 0.99, cloudy 0.00, amber 0.00, 9.2ms\n",
      "Speed: 1.7ms preprocess, 9.2ms inference, 0.0ms postprocess per image at shape (1, 3, 128, 128)\n",
      "\n",
      "0: 128x128 clear 0.98, cloudy 0.01, amber 0.01, 9.3ms\n",
      "Speed: 1.4ms preprocess, 9.3ms inference, 0.1ms postprocess per image at shape (1, 3, 128, 128)\n",
      "\n",
      "0: 128x128 clear 0.97, amber 0.02, cloudy 0.01, 9.5ms\n",
      "Speed: 1.6ms preprocess, 9.5ms inference, 0.1ms postprocess per image at shape (1, 3, 128, 128)\n",
      "\n",
      "0: 128x128 clear 0.77, cloudy 0.14, amber 0.10, 9.3ms\n",
      "Speed: 1.4ms preprocess, 9.3ms inference, 0.0ms postprocess per image at shape (1, 3, 128, 128)\n",
      "\n",
      "0: 128x128 clear 0.95, cloudy 0.03, amber 0.02, 9.1ms\n",
      "Speed: 1.5ms preprocess, 9.1ms inference, 0.0ms postprocess per image at shape (1, 3, 128, 128)\n",
      "\n",
      "0: 128x128 cloudy 0.77, clear 0.22, amber 0.02, 9.7ms\n",
      "Speed: 1.4ms preprocess, 9.7ms inference, 0.0ms postprocess per image at shape (1, 3, 128, 128)\n",
      "\n",
      "0: 128x128 clear 0.99, cloudy 0.01, amber 0.00, 9.1ms\n",
      "Speed: 1.4ms preprocess, 9.1ms inference, 0.0ms postprocess per image at shape (1, 3, 128, 128)\n",
      "\n",
      "0: 128x128 clear 0.94, amber 0.05, cloudy 0.01, 9.1ms\n",
      "Speed: 1.4ms preprocess, 9.1ms inference, 0.0ms postprocess per image at shape (1, 3, 128, 128)\n",
      "\n",
      "0: 128x128 clear 0.98, cloudy 0.01, amber 0.00, 10.0ms\n",
      "Speed: 1.2ms preprocess, 10.0ms inference, 0.0ms postprocess per image at shape (1, 3, 128, 128)\n",
      "\n",
      "0: 128x128 clear 0.97, cloudy 0.02, amber 0.01, 9.1ms\n",
      "Speed: 1.3ms preprocess, 9.1ms inference, 0.0ms postprocess per image at shape (1, 3, 128, 128)\n",
      "\n",
      "0: 128x128 clear 0.92, cloudy 0.07, amber 0.01, 9.0ms\n",
      "Speed: 1.2ms preprocess, 9.0ms inference, 0.0ms postprocess per image at shape (1, 3, 128, 128)\n",
      "\n",
      "0: 128x128 clear 1.00, amber 0.00, cloudy 0.00, 8.9ms\n",
      "Speed: 1.4ms preprocess, 8.9ms inference, 0.0ms postprocess per image at shape (1, 3, 128, 128)\n",
      "\n",
      "0: 128x128 clear 0.87, cloudy 0.07, amber 0.06, 8.8ms\n",
      "Speed: 1.2ms preprocess, 8.8ms inference, 0.0ms postprocess per image at shape (1, 3, 128, 128)\n",
      "\n",
      "0: 128x128 cloudy 0.56, clear 0.43, amber 0.00, 8.9ms\n",
      "Speed: 1.2ms preprocess, 8.9ms inference, 0.0ms postprocess per image at shape (1, 3, 128, 128)\n",
      "\n",
      "0: 128x128 clear 0.99, amber 0.01, cloudy 0.00, 9.0ms\n",
      "Speed: 1.2ms preprocess, 9.0ms inference, 0.0ms postprocess per image at shape (1, 3, 128, 128)\n",
      "\n",
      "0: 128x128 clear 0.99, cloudy 0.01, amber 0.00, 9.0ms\n",
      "Speed: 1.5ms preprocess, 9.0ms inference, 0.0ms postprocess per image at shape (1, 3, 128, 128)\n",
      "\n",
      "0: 128x128 clear 0.93, cloudy 0.04, amber 0.03, 9.0ms\n",
      "Speed: 1.3ms preprocess, 9.0ms inference, 0.0ms postprocess per image at shape (1, 3, 128, 128)\n",
      "\n",
      "0: 128x128 clear 0.97, cloudy 0.03, amber 0.00, 9.0ms\n",
      "Speed: 1.4ms preprocess, 9.0ms inference, 0.0ms postprocess per image at shape (1, 3, 128, 128)\n",
      "\n",
      "0: 128x128 clear 0.86, cloudy 0.13, amber 0.01, 8.9ms\n",
      "Speed: 1.2ms preprocess, 8.9ms inference, 0.0ms postprocess per image at shape (1, 3, 128, 128)\n",
      "\n",
      "0: 128x128 clear 0.98, cloudy 0.01, amber 0.00, 8.9ms\n",
      "Speed: 1.2ms preprocess, 8.9ms inference, 0.0ms postprocess per image at shape (1, 3, 128, 128)\n",
      "\n",
      "0: 128x128 clear 0.85, cloudy 0.14, amber 0.01, 9.0ms\n",
      "Speed: 1.2ms preprocess, 9.0ms inference, 0.0ms postprocess per image at shape (1, 3, 128, 128)\n",
      "\n",
      "0: 128x128 clear 1.00, cloudy 0.00, amber 0.00, 9.0ms\n",
      "Speed: 1.4ms preprocess, 9.0ms inference, 0.0ms postprocess per image at shape (1, 3, 128, 128)\n",
      "\n",
      "0: 128x128 clear 0.98, cloudy 0.02, amber 0.00, 9.1ms\n",
      "Speed: 1.2ms preprocess, 9.1ms inference, 0.0ms postprocess per image at shape (1, 3, 128, 128)\n",
      "\n",
      "0: 128x128 cloudy 0.55, clear 0.43, amber 0.02, 9.0ms\n",
      "Speed: 1.2ms preprocess, 9.0ms inference, 0.0ms postprocess per image at shape (1, 3, 128, 128)\n",
      "\n",
      "0: 128x128 clear 0.67, cloudy 0.33, amber 0.01, 9.1ms\n",
      "Speed: 1.2ms preprocess, 9.1ms inference, 0.0ms postprocess per image at shape (1, 3, 128, 128)\n",
      "\n",
      "0: 128x128 clear 0.61, cloudy 0.34, amber 0.04, 9.0ms\n",
      "Speed: 1.2ms preprocess, 9.0ms inference, 0.0ms postprocess per image at shape (1, 3, 128, 128)\n",
      "\n",
      "0: 128x128 clear 0.99, cloudy 0.00, amber 0.00, 9.0ms\n",
      "Speed: 1.2ms preprocess, 9.0ms inference, 0.1ms postprocess per image at shape (1, 3, 128, 128)\n",
      "\n",
      "0: 128x128 clear 0.98, cloudy 0.01, amber 0.01, 8.9ms\n",
      "Speed: 1.1ms preprocess, 8.9ms inference, 0.1ms postprocess per image at shape (1, 3, 128, 128)\n",
      "\n",
      "0: 128x128 clear 0.65, cloudy 0.35, amber 0.00, 8.9ms\n",
      "Speed: 1.2ms preprocess, 8.9ms inference, 0.0ms postprocess per image at shape (1, 3, 128, 128)\n",
      "\n",
      "0: 128x128 clear 0.84, cloudy 0.09, amber 0.07, 8.9ms\n",
      "Speed: 1.2ms preprocess, 8.9ms inference, 0.0ms postprocess per image at shape (1, 3, 128, 128)\n",
      "\n",
      "0: 128x128 clear 0.95, cloudy 0.03, amber 0.01, 8.9ms\n",
      "Speed: 1.2ms preprocess, 8.9ms inference, 0.0ms postprocess per image at shape (1, 3, 128, 128)\n",
      "\n",
      "0: 128x128 clear 0.90, cloudy 0.06, amber 0.04, 8.9ms\n",
      "Speed: 1.3ms preprocess, 8.9ms inference, 0.1ms postprocess per image at shape (1, 3, 128, 128)\n",
      "\n",
      "0: 128x128 clear 0.86, cloudy 0.13, amber 0.01, 9.1ms\n",
      "Speed: 1.2ms preprocess, 9.1ms inference, 0.0ms postprocess per image at shape (1, 3, 128, 128)\n",
      "\n",
      "0: 128x128 clear 0.40, cloudy 0.30, amber 0.30, 9.0ms\n",
      "Speed: 1.2ms preprocess, 9.0ms inference, 0.0ms postprocess per image at shape (1, 3, 128, 128)\n",
      "\n",
      "0: 128x128 clear 0.95, cloudy 0.03, amber 0.01, 9.0ms\n",
      "Speed: 1.2ms preprocess, 9.0ms inference, 0.0ms postprocess per image at shape (1, 3, 128, 128)\n",
      "\n",
      "0: 128x128 clear 0.72, cloudy 0.19, amber 0.09, 9.0ms\n",
      "Speed: 1.2ms preprocess, 9.0ms inference, 0.0ms postprocess per image at shape (1, 3, 128, 128)\n",
      "\n",
      "0: 128x128 clear 0.94, cloudy 0.03, amber 0.02, 9.0ms\n",
      "Speed: 1.1ms preprocess, 9.0ms inference, 0.0ms postprocess per image at shape (1, 3, 128, 128)\n",
      "\n",
      "0: 128x128 clear 0.61, cloudy 0.36, amber 0.03, 9.4ms\n",
      "Speed: 1.3ms preprocess, 9.4ms inference, 0.0ms postprocess per image at shape (1, 3, 128, 128)\n",
      "\n",
      "0: 128x128 clear 0.95, cloudy 0.04, amber 0.01, 9.1ms\n",
      "Speed: 1.2ms preprocess, 9.1ms inference, 0.0ms postprocess per image at shape (1, 3, 128, 128)\n",
      "\n",
      "0: 128x128 clear 0.82, cloudy 0.17, amber 0.01, 9.1ms\n",
      "Speed: 1.3ms preprocess, 9.1ms inference, 0.0ms postprocess per image at shape (1, 3, 128, 128)\n",
      "\n",
      "0: 128x128 clear 0.96, cloudy 0.03, amber 0.02, 9.0ms\n",
      "Speed: 1.4ms preprocess, 9.0ms inference, 0.0ms postprocess per image at shape (1, 3, 128, 128)\n",
      "\n",
      "0: 128x128 clear 0.99, cloudy 0.00, amber 0.00, 9.1ms\n",
      "Speed: 1.3ms preprocess, 9.1ms inference, 0.0ms postprocess per image at shape (1, 3, 128, 128)\n",
      "\n",
      "0: 128x128 clear 0.50, amber 0.45, cloudy 0.05, 9.0ms\n",
      "Speed: 1.3ms preprocess, 9.0ms inference, 0.0ms postprocess per image at shape (1, 3, 128, 128)\n",
      "\n",
      "0: 128x128 clear 0.89, cloudy 0.10, amber 0.01, 9.0ms\n",
      "Speed: 1.3ms preprocess, 9.0ms inference, 0.0ms postprocess per image at shape (1, 3, 128, 128)\n",
      "\n",
      "0: 128x128 clear 0.65, cloudy 0.34, amber 0.01, 9.0ms\n",
      "Speed: 1.2ms preprocess, 9.0ms inference, 0.0ms postprocess per image at shape (1, 3, 128, 128)\n",
      "\n",
      "0: 128x128 clear 0.74, cloudy 0.23, amber 0.03, 9.1ms\n",
      "Speed: 1.4ms preprocess, 9.1ms inference, 0.0ms postprocess per image at shape (1, 3, 128, 128)\n",
      "\n",
      "0: 128x128 clear 0.96, amber 0.03, cloudy 0.02, 9.0ms\n",
      "Speed: 1.3ms preprocess, 9.0ms inference, 0.0ms postprocess per image at shape (1, 3, 128, 128)\n",
      "\n",
      "0: 128x128 clear 0.99, cloudy 0.01, amber 0.00, 9.0ms\n",
      "Speed: 1.3ms preprocess, 9.0ms inference, 0.0ms postprocess per image at shape (1, 3, 128, 128)\n",
      "\n",
      "0: 128x128 clear 0.96, cloudy 0.03, amber 0.00, 9.0ms\n",
      "Speed: 1.3ms preprocess, 9.0ms inference, 0.1ms postprocess per image at shape (1, 3, 128, 128)\n",
      "\n",
      "0: 128x128 clear 0.52, cloudy 0.37, amber 0.12, 9.1ms\n",
      "Speed: 1.2ms preprocess, 9.1ms inference, 0.0ms postprocess per image at shape (1, 3, 128, 128)\n",
      "\n",
      "0: 128x128 cloudy 1.00, clear 0.00, amber 0.00, 9.1ms\n",
      "Speed: 1.3ms preprocess, 9.1ms inference, 0.0ms postprocess per image at shape (1, 3, 128, 128)\n",
      "\n",
      "0: 128x128 cloudy 1.00, clear 0.00, amber 0.00, 8.8ms\n",
      "Speed: 1.3ms preprocess, 8.8ms inference, 0.0ms postprocess per image at shape (1, 3, 128, 128)\n",
      "\n",
      "0: 128x128 cloudy 1.00, amber 0.00, clear 0.00, 9.2ms\n",
      "Speed: 1.4ms preprocess, 9.2ms inference, 0.0ms postprocess per image at shape (1, 3, 128, 128)\n",
      "\n",
      "0: 128x128 cloudy 0.99, clear 0.01, amber 0.00, 9.0ms\n",
      "Speed: 1.3ms preprocess, 9.0ms inference, 0.0ms postprocess per image at shape (1, 3, 128, 128)\n",
      "\n",
      "0: 128x128 cloudy 1.00, clear 0.00, amber 0.00, 9.0ms\n",
      "Speed: 1.2ms preprocess, 9.0ms inference, 0.0ms postprocess per image at shape (1, 3, 128, 128)\n",
      "\n",
      "0: 128x128 cloudy 1.00, clear 0.00, amber 0.00, 9.0ms\n",
      "Speed: 1.2ms preprocess, 9.0ms inference, 0.0ms postprocess per image at shape (1, 3, 128, 128)\n",
      "\n",
      "0: 128x128 cloudy 1.00, clear 0.00, amber 0.00, 8.9ms\n",
      "Speed: 1.3ms preprocess, 8.9ms inference, 0.0ms postprocess per image at shape (1, 3, 128, 128)\n",
      "\n",
      "0: 128x128 cloudy 1.00, clear 0.00, amber 0.00, 9.1ms\n",
      "Speed: 1.3ms preprocess, 9.1ms inference, 0.0ms postprocess per image at shape (1, 3, 128, 128)\n",
      "\n",
      "0: 128x128 cloudy 0.95, clear 0.03, amber 0.02, 9.6ms\n",
      "Speed: 1.2ms preprocess, 9.6ms inference, 0.1ms postprocess per image at shape (1, 3, 128, 128)\n",
      "\n",
      "0: 128x128 cloudy 1.00, clear 0.00, amber 0.00, 9.1ms\n",
      "Speed: 1.3ms preprocess, 9.1ms inference, 0.0ms postprocess per image at shape (1, 3, 128, 128)\n",
      "\n",
      "0: 128x128 cloudy 0.98, clear 0.02, amber 0.00, 9.0ms\n",
      "Speed: 1.4ms preprocess, 9.0ms inference, 0.0ms postprocess per image at shape (1, 3, 128, 128)\n",
      "\n",
      "0: 128x128 cloudy 0.99, clear 0.01, amber 0.00, 9.1ms\n",
      "Speed: 1.4ms preprocess, 9.1ms inference, 0.0ms postprocess per image at shape (1, 3, 128, 128)\n",
      "\n",
      "0: 128x128 cloudy 1.00, clear 0.00, amber 0.00, 9.0ms\n",
      "Speed: 1.2ms preprocess, 9.0ms inference, 0.0ms postprocess per image at shape (1, 3, 128, 128)\n",
      "\n",
      "0: 128x128 cloudy 0.59, clear 0.37, amber 0.04, 9.2ms\n",
      "Speed: 1.2ms preprocess, 9.2ms inference, 0.0ms postprocess per image at shape (1, 3, 128, 128)\n",
      "\n",
      "0: 128x128 cloudy 1.00, amber 0.00, clear 0.00, 9.1ms\n",
      "Speed: 1.4ms preprocess, 9.1ms inference, 0.0ms postprocess per image at shape (1, 3, 128, 128)\n",
      "\n",
      "0: 128x128 cloudy 1.00, clear 0.00, amber 0.00, 9.1ms\n",
      "Speed: 1.4ms preprocess, 9.1ms inference, 0.0ms postprocess per image at shape (1, 3, 128, 128)\n",
      "\n",
      "0: 128x128 cloudy 1.00, clear 0.00, amber 0.00, 9.0ms\n",
      "Speed: 1.2ms preprocess, 9.0ms inference, 0.0ms postprocess per image at shape (1, 3, 128, 128)\n",
      "\n",
      "0: 128x128 cloudy 0.99, clear 0.01, amber 0.00, 9.2ms\n",
      "Speed: 1.2ms preprocess, 9.2ms inference, 0.0ms postprocess per image at shape (1, 3, 128, 128)\n",
      "\n",
      "0: 128x128 cloudy 1.00, clear 0.00, amber 0.00, 9.1ms\n",
      "Speed: 1.4ms preprocess, 9.1ms inference, 0.0ms postprocess per image at shape (1, 3, 128, 128)\n",
      "\n",
      "0: 128x128 cloudy 1.00, clear 0.00, amber 0.00, 8.9ms\n",
      "Speed: 1.3ms preprocess, 8.9ms inference, 0.0ms postprocess per image at shape (1, 3, 128, 128)\n",
      "\n",
      "0: 128x128 cloudy 1.00, clear 0.00, amber 0.00, 9.0ms\n",
      "Speed: 1.2ms preprocess, 9.0ms inference, 0.0ms postprocess per image at shape (1, 3, 128, 128)\n",
      "\n",
      "0: 128x128 cloudy 0.49, clear 0.47, amber 0.04, 9.0ms\n",
      "Speed: 1.2ms preprocess, 9.0ms inference, 0.0ms postprocess per image at shape (1, 3, 128, 128)\n",
      "\n",
      "0: 128x128 cloudy 1.00, clear 0.00, amber 0.00, 9.0ms\n",
      "Speed: 1.3ms preprocess, 9.0ms inference, 0.0ms postprocess per image at shape (1, 3, 128, 128)\n",
      "\n",
      "0: 128x128 cloudy 0.97, clear 0.03, amber 0.00, 9.1ms\n",
      "Speed: 1.4ms preprocess, 9.1ms inference, 0.0ms postprocess per image at shape (1, 3, 128, 128)\n",
      "\n",
      "0: 128x128 clear 0.49, cloudy 0.48, amber 0.03, 9.0ms\n",
      "Speed: 1.4ms preprocess, 9.0ms inference, 0.0ms postprocess per image at shape (1, 3, 128, 128)\n",
      "\n",
      "0: 128x128 cloudy 1.00, clear 0.00, amber 0.00, 9.1ms\n",
      "Speed: 1.4ms preprocess, 9.1ms inference, 0.1ms postprocess per image at shape (1, 3, 128, 128)\n",
      "\n",
      "0: 128x128 cloudy 1.00, clear 0.00, amber 0.00, 10.6ms\n",
      "Speed: 1.4ms preprocess, 10.6ms inference, 0.1ms postprocess per image at shape (1, 3, 128, 128)\n",
      "\n",
      "0: 128x128 cloudy 1.00, clear 0.00, amber 0.00, 9.1ms\n",
      "Speed: 1.3ms preprocess, 9.1ms inference, 0.0ms postprocess per image at shape (1, 3, 128, 128)\n",
      "\n",
      "0: 128x128 cloudy 1.00, clear 0.00, amber 0.00, 9.1ms\n",
      "Speed: 1.2ms preprocess, 9.1ms inference, 0.0ms postprocess per image at shape (1, 3, 128, 128)\n",
      "\n",
      "0: 128x128 cloudy 1.00, clear 0.00, amber 0.00, 9.1ms\n",
      "Speed: 1.4ms preprocess, 9.1ms inference, 0.0ms postprocess per image at shape (1, 3, 128, 128)\n",
      "\n",
      "0: 128x128 cloudy 0.90, clear 0.07, amber 0.03, 9.1ms\n",
      "Speed: 1.4ms preprocess, 9.1ms inference, 0.0ms postprocess per image at shape (1, 3, 128, 128)\n",
      "\n",
      "0: 128x128 cloudy 1.00, clear 0.00, amber 0.00, 9.1ms\n",
      "Speed: 1.2ms preprocess, 9.1ms inference, 0.0ms postprocess per image at shape (1, 3, 128, 128)\n",
      "\n",
      "0: 128x128 cloudy 1.00, clear 0.00, amber 0.00, 9.3ms\n",
      "Speed: 1.5ms preprocess, 9.3ms inference, 0.0ms postprocess per image at shape (1, 3, 128, 128)\n",
      "\n",
      "0: 128x128 cloudy 0.99, clear 0.01, amber 0.00, 9.1ms\n",
      "Speed: 1.3ms preprocess, 9.1ms inference, 0.0ms postprocess per image at shape (1, 3, 128, 128)\n",
      "\n",
      "0: 128x128 cloudy 0.93, clear 0.07, amber 0.00, 9.0ms\n",
      "Speed: 1.2ms preprocess, 9.0ms inference, 0.0ms postprocess per image at shape (1, 3, 128, 128)\n",
      "\n",
      "0: 128x128 cloudy 0.82, amber 0.15, clear 0.03, 9.0ms\n",
      "Speed: 1.2ms preprocess, 9.0ms inference, 0.0ms postprocess per image at shape (1, 3, 128, 128)\n",
      "\n",
      "0: 128x128 cloudy 1.00, clear 0.00, amber 0.00, 9.0ms\n",
      "Speed: 1.3ms preprocess, 9.0ms inference, 0.0ms postprocess per image at shape (1, 3, 128, 128)\n",
      "\n",
      "0: 128x128 cloudy 0.98, clear 0.01, amber 0.01, 9.0ms\n",
      "Speed: 1.4ms preprocess, 9.0ms inference, 0.0ms postprocess per image at shape (1, 3, 128, 128)\n",
      "\n",
      "0: 128x128 cloudy 1.00, clear 0.00, amber 0.00, 9.0ms\n",
      "Speed: 1.2ms preprocess, 9.0ms inference, 0.0ms postprocess per image at shape (1, 3, 128, 128)\n",
      "\n",
      "0: 128x128 cloudy 0.99, clear 0.01, amber 0.01, 9.1ms\n",
      "Speed: 1.3ms preprocess, 9.1ms inference, 0.0ms postprocess per image at shape (1, 3, 128, 128)\n",
      "\n",
      "0: 128x128 cloudy 0.91, clear 0.09, amber 0.00, 9.0ms\n",
      "Speed: 1.2ms preprocess, 9.0ms inference, 0.0ms postprocess per image at shape (1, 3, 128, 128)\n",
      "\n",
      "0: 128x128 cloudy 0.95, amber 0.03, clear 0.02, 9.1ms\n",
      "Speed: 1.2ms preprocess, 9.1ms inference, 0.0ms postprocess per image at shape (1, 3, 128, 128)\n",
      "\n",
      "0: 128x128 cloudy 1.00, clear 0.00, amber 0.00, 9.1ms\n",
      "Speed: 1.2ms preprocess, 9.1ms inference, 0.0ms postprocess per image at shape (1, 3, 128, 128)\n",
      "\n",
      "0: 128x128 cloudy 1.00, clear 0.00, amber 0.00, 9.1ms\n",
      "Speed: 1.5ms preprocess, 9.1ms inference, 0.0ms postprocess per image at shape (1, 3, 128, 128)\n",
      "\n",
      "0: 128x128 cloudy 1.00, clear 0.00, amber 0.00, 9.1ms\n",
      "Speed: 1.2ms preprocess, 9.1ms inference, 0.0ms postprocess per image at shape (1, 3, 128, 128)\n",
      "\n",
      "0: 128x128 cloudy 0.99, clear 0.01, amber 0.00, 9.2ms\n",
      "Speed: 1.3ms preprocess, 9.2ms inference, 0.0ms postprocess per image at shape (1, 3, 128, 128)\n",
      "\n",
      "0: 128x128 cloudy 0.99, clear 0.01, amber 0.00, 9.1ms\n",
      "Speed: 1.4ms preprocess, 9.1ms inference, 0.0ms postprocess per image at shape (1, 3, 128, 128)\n",
      "\n",
      "0: 128x128 cloudy 1.00, clear 0.00, amber 0.00, 9.1ms\n",
      "Speed: 1.2ms preprocess, 9.1ms inference, 0.0ms postprocess per image at shape (1, 3, 128, 128)\n",
      "\n",
      "0: 128x128 cloudy 0.87, clear 0.08, amber 0.05, 9.0ms\n",
      "Speed: 1.2ms preprocess, 9.0ms inference, 0.0ms postprocess per image at shape (1, 3, 128, 128)\n",
      "\n",
      "0: 128x128 cloudy 1.00, clear 0.00, amber 0.00, 9.1ms\n",
      "Speed: 1.3ms preprocess, 9.1ms inference, 0.0ms postprocess per image at shape (1, 3, 128, 128)\n",
      "\n",
      "0: 128x128 cloudy 1.00, clear 0.00, amber 0.00, 9.0ms\n",
      "Speed: 1.2ms preprocess, 9.0ms inference, 0.0ms postprocess per image at shape (1, 3, 128, 128)\n"
     ]
    }
   ],
   "source": [
    "import os\n",
    "\n",
    "# iterate over each dataset in the datasets folder\n",
    "dataset_path = \"/home/etaylor/code_projects/thesis/classification_datasets/trichome_classification/extracted_trichomes_images/balanced_good_quality\"\n",
    "train_path = os.path.join(dataset_path, \"train\")\n",
    "test_path = os.path.join(dataset_path, \"val\")\n",
    "\n",
    "results = []  # List to store the evaluation results\n",
    "\n",
    "# run the functions for each of the models\n",
    "for model_name in yolo_classification_checkpoints:\n",
    "    for model_size in yolo_classification_checkpoints[model_name]:\n",
    "        print(f\"Training {model_name} {model_size} model...\")\n",
    "        model = train_model(dataset_path, model_name, model_size, epochs=10, imgsz=128)\n",
    "        \n",
    "        print(f\"Evaluating {model_name} {model_size} model...\")\n",
    "        classification_report_result, accuracy, confusion_matrix_result, precision, recall, f1, images_for_plotting = eval_model(model, test_path)\n",
    "        \n",
    "        # create saving folder if does not exist\n",
    "        if not os.path.exists(f\"/home/etaylor/code_projects/thesis/checkpoints/trichome_image_classification/yolo/balanced_good_quality/{model_name}\"):\n",
    "            os.makedirs(f\"/home/etaylor/code_projects/thesis/checkpoints/trichome_image_classification/yolo/balanced_good_quality/{model_name}\")\n",
    "        \n",
    "        # save model\n",
    "        model.save(f\"/home/etaylor/code_projects/thesis/checkpoints/trichome_image_classification/yolo/balanced_good_quality/{model_name}/{model_size}.pt\")\n",
    "        \n",
    "        # Append the evaluation results to the list\n",
    "        results.append({\n",
    "            \"Model_Name\": model_name,\n",
    "            \"Model_Size\": model_size,\n",
    "            \"Classification Report\": classification_report_result,\n",
    "            \"Accuracy\": accuracy,\n",
    "            \"Average Precision\": precision,\n",
    "            \"Average Recall\": recall,\n",
    "            \"Average f1\": f1,\n",
    "            \"Confusion Matrix\": confusion_matrix_result,\n",
    "            \"Images for Plotting\": images_for_plotting\n",
    "        })"
   ]
  },
  {
   "cell_type": "code",
   "execution_count": 12,
   "metadata": {},
   "outputs": [
    {
     "data": {
      "text/html": [
       "<div>\n",
       "<style scoped>\n",
       "    .dataframe tbody tr th:only-of-type {\n",
       "        vertical-align: middle;\n",
       "    }\n",
       "\n",
       "    .dataframe tbody tr th {\n",
       "        vertical-align: top;\n",
       "    }\n",
       "\n",
       "    .dataframe thead th {\n",
       "        text-align: right;\n",
       "    }\n",
       "</style>\n",
       "<table border=\"1\" class=\"dataframe\">\n",
       "  <thead>\n",
       "    <tr style=\"text-align: right;\">\n",
       "      <th></th>\n",
       "      <th>Model_Name</th>\n",
       "      <th>Model_Size</th>\n",
       "      <th>Classification Report</th>\n",
       "      <th>Accuracy</th>\n",
       "      <th>Average Precision</th>\n",
       "      <th>Average Recall</th>\n",
       "      <th>Average f1</th>\n",
       "      <th>Confusion Matrix</th>\n",
       "      <th>Images for Plotting</th>\n",
       "    </tr>\n",
       "  </thead>\n",
       "  <tbody>\n",
       "    <tr>\n",
       "      <th>0</th>\n",
       "      <td>YOLOv8</td>\n",
       "      <td>Nano</td>\n",
       "      <td>precision    recall  f1-score   ...</td>\n",
       "      <td>0.961538</td>\n",
       "      <td>0.961650</td>\n",
       "      <td>0.961538</td>\n",
       "      <td>0.961535</td>\n",
       "      <td>[[51, 0, 1], [1, 49, 2], [0, 2, 50]]</td>\n",
       "      <td>[([[[199 202 185]\\n [199 202 185]\\n [200 203 1...</td>\n",
       "    </tr>\n",
       "    <tr>\n",
       "      <th>1</th>\n",
       "      <td>YOLOv8</td>\n",
       "      <td>Small</td>\n",
       "      <td>precision    recall  f1-score   ...</td>\n",
       "      <td>0.967949</td>\n",
       "      <td>0.968955</td>\n",
       "      <td>0.967949</td>\n",
       "      <td>0.967922</td>\n",
       "      <td>[[52, 0, 0], [0, 51, 1], [0, 4, 48]]</td>\n",
       "      <td>[([[[199 202 185]\\n [199 202 185]\\n [200 203 1...</td>\n",
       "    </tr>\n",
       "    <tr>\n",
       "      <th>2</th>\n",
       "      <td>YOLOv8</td>\n",
       "      <td>Medium</td>\n",
       "      <td>precision    recall  f1-score   ...</td>\n",
       "      <td>0.967949</td>\n",
       "      <td>0.967818</td>\n",
       "      <td>0.967949</td>\n",
       "      <td>0.967824</td>\n",
       "      <td>[[52, 0, 0], [0, 50, 2], [1, 2, 49]]</td>\n",
       "      <td>[([[[199 202 185]\\n [199 202 185]\\n [200 203 1...</td>\n",
       "    </tr>\n",
       "    <tr>\n",
       "      <th>3</th>\n",
       "      <td>YOLOv8</td>\n",
       "      <td>Large</td>\n",
       "      <td>precision    recall  f1-score   ...</td>\n",
       "      <td>0.967949</td>\n",
       "      <td>0.968273</td>\n",
       "      <td>0.967949</td>\n",
       "      <td>0.967685</td>\n",
       "      <td>[[52, 0, 0], [0, 51, 1], [2, 2, 48]]</td>\n",
       "      <td>[([[[199 202 185]\\n [199 202 185]\\n [200 203 1...</td>\n",
       "    </tr>\n",
       "    <tr>\n",
       "      <th>4</th>\n",
       "      <td>YOLOv8</td>\n",
       "      <td>XLarge</td>\n",
       "      <td>precision    recall  f1-score   ...</td>\n",
       "      <td>0.967949</td>\n",
       "      <td>0.968186</td>\n",
       "      <td>0.967949</td>\n",
       "      <td>0.968008</td>\n",
       "      <td>[[51, 0, 1], [0, 50, 2], [1, 1, 50]]</td>\n",
       "      <td>[([[[199 202 185]\\n [199 202 185]\\n [200 203 1...</td>\n",
       "    </tr>\n",
       "    <tr>\n",
       "      <th>5</th>\n",
       "      <td>YOLOv11</td>\n",
       "      <td>Nano</td>\n",
       "      <td>precision    recall  f1-score   ...</td>\n",
       "      <td>0.948718</td>\n",
       "      <td>0.948553</td>\n",
       "      <td>0.948718</td>\n",
       "      <td>0.948459</td>\n",
       "      <td>[[52, 0, 0], [0, 49, 3], [1, 4, 47]]</td>\n",
       "      <td>[([[[199 202 185]\\n [199 202 185]\\n [200 203 1...</td>\n",
       "    </tr>\n",
       "    <tr>\n",
       "      <th>6</th>\n",
       "      <td>YOLOv11</td>\n",
       "      <td>Small</td>\n",
       "      <td>precision    recall  f1-score   ...</td>\n",
       "      <td>0.955128</td>\n",
       "      <td>0.955701</td>\n",
       "      <td>0.955128</td>\n",
       "      <td>0.955242</td>\n",
       "      <td>[[51, 0, 1], [0, 50, 2], [0, 4, 48]]</td>\n",
       "      <td>[([[[199 202 185]\\n [199 202 185]\\n [200 203 1...</td>\n",
       "    </tr>\n",
       "    <tr>\n",
       "      <th>7</th>\n",
       "      <td>YOLOv11</td>\n",
       "      <td>Medium</td>\n",
       "      <td>precision    recall  f1-score   ...</td>\n",
       "      <td>0.967949</td>\n",
       "      <td>0.968955</td>\n",
       "      <td>0.967949</td>\n",
       "      <td>0.967922</td>\n",
       "      <td>[[52, 0, 0], [0, 51, 1], [0, 4, 48]]</td>\n",
       "      <td>[([[[199 202 185]\\n [199 202 185]\\n [200 203 1...</td>\n",
       "    </tr>\n",
       "    <tr>\n",
       "      <th>8</th>\n",
       "      <td>YOLOv11</td>\n",
       "      <td>Large</td>\n",
       "      <td>precision    recall  f1-score   ...</td>\n",
       "      <td>0.980769</td>\n",
       "      <td>0.980885</td>\n",
       "      <td>0.980769</td>\n",
       "      <td>0.980767</td>\n",
       "      <td>[[52, 0, 0], [0, 50, 2], [0, 1, 51]]</td>\n",
       "      <td>[([[[199 202 185]\\n [199 202 185]\\n [200 203 1...</td>\n",
       "    </tr>\n",
       "    <tr>\n",
       "      <th>9</th>\n",
       "      <td>YOLOv11</td>\n",
       "      <td>XLarge</td>\n",
       "      <td>precision    recall  f1-score   ...</td>\n",
       "      <td>0.961538</td>\n",
       "      <td>0.962237</td>\n",
       "      <td>0.961538</td>\n",
       "      <td>0.961715</td>\n",
       "      <td>[[51, 0, 1], [0, 49, 3], [0, 2, 50]]</td>\n",
       "      <td>[([[[199 202 185]\\n [199 202 185]\\n [200 203 1...</td>\n",
       "    </tr>\n",
       "  </tbody>\n",
       "</table>\n",
       "</div>"
      ],
      "text/plain": [
       "  Model_Name Model_Size                              Classification Report  \\\n",
       "0     YOLOv8       Nano                precision    recall  f1-score   ...   \n",
       "1     YOLOv8      Small                precision    recall  f1-score   ...   \n",
       "2     YOLOv8     Medium                precision    recall  f1-score   ...   \n",
       "3     YOLOv8      Large                precision    recall  f1-score   ...   \n",
       "4     YOLOv8     XLarge                precision    recall  f1-score   ...   \n",
       "5    YOLOv11       Nano                precision    recall  f1-score   ...   \n",
       "6    YOLOv11      Small                precision    recall  f1-score   ...   \n",
       "7    YOLOv11     Medium                precision    recall  f1-score   ...   \n",
       "8    YOLOv11      Large                precision    recall  f1-score   ...   \n",
       "9    YOLOv11     XLarge                precision    recall  f1-score   ...   \n",
       "\n",
       "   Accuracy  Average Precision  Average Recall  Average f1  \\\n",
       "0  0.961538           0.961650        0.961538    0.961535   \n",
       "1  0.967949           0.968955        0.967949    0.967922   \n",
       "2  0.967949           0.967818        0.967949    0.967824   \n",
       "3  0.967949           0.968273        0.967949    0.967685   \n",
       "4  0.967949           0.968186        0.967949    0.968008   \n",
       "5  0.948718           0.948553        0.948718    0.948459   \n",
       "6  0.955128           0.955701        0.955128    0.955242   \n",
       "7  0.967949           0.968955        0.967949    0.967922   \n",
       "8  0.980769           0.980885        0.980769    0.980767   \n",
       "9  0.961538           0.962237        0.961538    0.961715   \n",
       "\n",
       "                       Confusion Matrix  \\\n",
       "0  [[51, 0, 1], [1, 49, 2], [0, 2, 50]]   \n",
       "1  [[52, 0, 0], [0, 51, 1], [0, 4, 48]]   \n",
       "2  [[52, 0, 0], [0, 50, 2], [1, 2, 49]]   \n",
       "3  [[52, 0, 0], [0, 51, 1], [2, 2, 48]]   \n",
       "4  [[51, 0, 1], [0, 50, 2], [1, 1, 50]]   \n",
       "5  [[52, 0, 0], [0, 49, 3], [1, 4, 47]]   \n",
       "6  [[51, 0, 1], [0, 50, 2], [0, 4, 48]]   \n",
       "7  [[52, 0, 0], [0, 51, 1], [0, 4, 48]]   \n",
       "8  [[52, 0, 0], [0, 50, 2], [0, 1, 51]]   \n",
       "9  [[51, 0, 1], [0, 49, 3], [0, 2, 50]]   \n",
       "\n",
       "                                 Images for Plotting  \n",
       "0  [([[[199 202 185]\\n [199 202 185]\\n [200 203 1...  \n",
       "1  [([[[199 202 185]\\n [199 202 185]\\n [200 203 1...  \n",
       "2  [([[[199 202 185]\\n [199 202 185]\\n [200 203 1...  \n",
       "3  [([[[199 202 185]\\n [199 202 185]\\n [200 203 1...  \n",
       "4  [([[[199 202 185]\\n [199 202 185]\\n [200 203 1...  \n",
       "5  [([[[199 202 185]\\n [199 202 185]\\n [200 203 1...  \n",
       "6  [([[[199 202 185]\\n [199 202 185]\\n [200 203 1...  \n",
       "7  [([[[199 202 185]\\n [199 202 185]\\n [200 203 1...  \n",
       "8  [([[[199 202 185]\\n [199 202 185]\\n [200 203 1...  \n",
       "9  [([[[199 202 185]\\n [199 202 185]\\n [200 203 1...  "
      ]
     },
     "execution_count": 12,
     "metadata": {},
     "output_type": "execute_result"
    }
   ],
   "source": [
    "import pandas as pd\n",
    "\n",
    "results_df = pd.DataFrame(results)\n",
    "results_df"
   ]
  },
  {
   "cell_type": "code",
   "execution_count": 13,
   "metadata": {},
   "outputs": [
    {
     "data": {
      "text/html": [
       "<div>\n",
       "<style scoped>\n",
       "    .dataframe tbody tr th:only-of-type {\n",
       "        vertical-align: middle;\n",
       "    }\n",
       "\n",
       "    .dataframe tbody tr th {\n",
       "        vertical-align: top;\n",
       "    }\n",
       "\n",
       "    .dataframe thead th {\n",
       "        text-align: right;\n",
       "    }\n",
       "</style>\n",
       "<table border=\"1\" class=\"dataframe\">\n",
       "  <thead>\n",
       "    <tr style=\"text-align: right;\">\n",
       "      <th></th>\n",
       "      <th>Model_Name</th>\n",
       "      <th>Model_Size</th>\n",
       "      <th>Classification Report</th>\n",
       "      <th>Accuracy</th>\n",
       "      <th>Average Precision</th>\n",
       "      <th>Average Recall</th>\n",
       "      <th>Average f1</th>\n",
       "      <th>Confusion Matrix</th>\n",
       "      <th>Images for Plotting</th>\n",
       "    </tr>\n",
       "  </thead>\n",
       "  <tbody>\n",
       "    <tr>\n",
       "      <th>8</th>\n",
       "      <td>YOLOv11</td>\n",
       "      <td>Large</td>\n",
       "      <td>precision    recall  f1-score   ...</td>\n",
       "      <td>0.980769</td>\n",
       "      <td>0.980885</td>\n",
       "      <td>0.980769</td>\n",
       "      <td>0.980767</td>\n",
       "      <td>[[52, 0, 0], [0, 50, 2], [0, 1, 51]]</td>\n",
       "      <td>[([[[199 202 185]\\n [199 202 185]\\n [200 203 1...</td>\n",
       "    </tr>\n",
       "    <tr>\n",
       "      <th>4</th>\n",
       "      <td>YOLOv8</td>\n",
       "      <td>XLarge</td>\n",
       "      <td>precision    recall  f1-score   ...</td>\n",
       "      <td>0.967949</td>\n",
       "      <td>0.968186</td>\n",
       "      <td>0.967949</td>\n",
       "      <td>0.968008</td>\n",
       "      <td>[[51, 0, 1], [0, 50, 2], [1, 1, 50]]</td>\n",
       "      <td>[([[[199 202 185]\\n [199 202 185]\\n [200 203 1...</td>\n",
       "    </tr>\n",
       "    <tr>\n",
       "      <th>1</th>\n",
       "      <td>YOLOv8</td>\n",
       "      <td>Small</td>\n",
       "      <td>precision    recall  f1-score   ...</td>\n",
       "      <td>0.967949</td>\n",
       "      <td>0.968955</td>\n",
       "      <td>0.967949</td>\n",
       "      <td>0.967922</td>\n",
       "      <td>[[52, 0, 0], [0, 51, 1], [0, 4, 48]]</td>\n",
       "      <td>[([[[199 202 185]\\n [199 202 185]\\n [200 203 1...</td>\n",
       "    </tr>\n",
       "    <tr>\n",
       "      <th>7</th>\n",
       "      <td>YOLOv11</td>\n",
       "      <td>Medium</td>\n",
       "      <td>precision    recall  f1-score   ...</td>\n",
       "      <td>0.967949</td>\n",
       "      <td>0.968955</td>\n",
       "      <td>0.967949</td>\n",
       "      <td>0.967922</td>\n",
       "      <td>[[52, 0, 0], [0, 51, 1], [0, 4, 48]]</td>\n",
       "      <td>[([[[199 202 185]\\n [199 202 185]\\n [200 203 1...</td>\n",
       "    </tr>\n",
       "    <tr>\n",
       "      <th>2</th>\n",
       "      <td>YOLOv8</td>\n",
       "      <td>Medium</td>\n",
       "      <td>precision    recall  f1-score   ...</td>\n",
       "      <td>0.967949</td>\n",
       "      <td>0.967818</td>\n",
       "      <td>0.967949</td>\n",
       "      <td>0.967824</td>\n",
       "      <td>[[52, 0, 0], [0, 50, 2], [1, 2, 49]]</td>\n",
       "      <td>[([[[199 202 185]\\n [199 202 185]\\n [200 203 1...</td>\n",
       "    </tr>\n",
       "    <tr>\n",
       "      <th>3</th>\n",
       "      <td>YOLOv8</td>\n",
       "      <td>Large</td>\n",
       "      <td>precision    recall  f1-score   ...</td>\n",
       "      <td>0.967949</td>\n",
       "      <td>0.968273</td>\n",
       "      <td>0.967949</td>\n",
       "      <td>0.967685</td>\n",
       "      <td>[[52, 0, 0], [0, 51, 1], [2, 2, 48]]</td>\n",
       "      <td>[([[[199 202 185]\\n [199 202 185]\\n [200 203 1...</td>\n",
       "    </tr>\n",
       "    <tr>\n",
       "      <th>9</th>\n",
       "      <td>YOLOv11</td>\n",
       "      <td>XLarge</td>\n",
       "      <td>precision    recall  f1-score   ...</td>\n",
       "      <td>0.961538</td>\n",
       "      <td>0.962237</td>\n",
       "      <td>0.961538</td>\n",
       "      <td>0.961715</td>\n",
       "      <td>[[51, 0, 1], [0, 49, 3], [0, 2, 50]]</td>\n",
       "      <td>[([[[199 202 185]\\n [199 202 185]\\n [200 203 1...</td>\n",
       "    </tr>\n",
       "    <tr>\n",
       "      <th>0</th>\n",
       "      <td>YOLOv8</td>\n",
       "      <td>Nano</td>\n",
       "      <td>precision    recall  f1-score   ...</td>\n",
       "      <td>0.961538</td>\n",
       "      <td>0.961650</td>\n",
       "      <td>0.961538</td>\n",
       "      <td>0.961535</td>\n",
       "      <td>[[51, 0, 1], [1, 49, 2], [0, 2, 50]]</td>\n",
       "      <td>[([[[199 202 185]\\n [199 202 185]\\n [200 203 1...</td>\n",
       "    </tr>\n",
       "    <tr>\n",
       "      <th>6</th>\n",
       "      <td>YOLOv11</td>\n",
       "      <td>Small</td>\n",
       "      <td>precision    recall  f1-score   ...</td>\n",
       "      <td>0.955128</td>\n",
       "      <td>0.955701</td>\n",
       "      <td>0.955128</td>\n",
       "      <td>0.955242</td>\n",
       "      <td>[[51, 0, 1], [0, 50, 2], [0, 4, 48]]</td>\n",
       "      <td>[([[[199 202 185]\\n [199 202 185]\\n [200 203 1...</td>\n",
       "    </tr>\n",
       "    <tr>\n",
       "      <th>5</th>\n",
       "      <td>YOLOv11</td>\n",
       "      <td>Nano</td>\n",
       "      <td>precision    recall  f1-score   ...</td>\n",
       "      <td>0.948718</td>\n",
       "      <td>0.948553</td>\n",
       "      <td>0.948718</td>\n",
       "      <td>0.948459</td>\n",
       "      <td>[[52, 0, 0], [0, 49, 3], [1, 4, 47]]</td>\n",
       "      <td>[([[[199 202 185]\\n [199 202 185]\\n [200 203 1...</td>\n",
       "    </tr>\n",
       "  </tbody>\n",
       "</table>\n",
       "</div>"
      ],
      "text/plain": [
       "  Model_Name Model_Size                              Classification Report  \\\n",
       "8    YOLOv11      Large                precision    recall  f1-score   ...   \n",
       "4     YOLOv8     XLarge                precision    recall  f1-score   ...   \n",
       "1     YOLOv8      Small                precision    recall  f1-score   ...   \n",
       "7    YOLOv11     Medium                precision    recall  f1-score   ...   \n",
       "2     YOLOv8     Medium                precision    recall  f1-score   ...   \n",
       "3     YOLOv8      Large                precision    recall  f1-score   ...   \n",
       "9    YOLOv11     XLarge                precision    recall  f1-score   ...   \n",
       "0     YOLOv8       Nano                precision    recall  f1-score   ...   \n",
       "6    YOLOv11      Small                precision    recall  f1-score   ...   \n",
       "5    YOLOv11       Nano                precision    recall  f1-score   ...   \n",
       "\n",
       "   Accuracy  Average Precision  Average Recall  Average f1  \\\n",
       "8  0.980769           0.980885        0.980769    0.980767   \n",
       "4  0.967949           0.968186        0.967949    0.968008   \n",
       "1  0.967949           0.968955        0.967949    0.967922   \n",
       "7  0.967949           0.968955        0.967949    0.967922   \n",
       "2  0.967949           0.967818        0.967949    0.967824   \n",
       "3  0.967949           0.968273        0.967949    0.967685   \n",
       "9  0.961538           0.962237        0.961538    0.961715   \n",
       "0  0.961538           0.961650        0.961538    0.961535   \n",
       "6  0.955128           0.955701        0.955128    0.955242   \n",
       "5  0.948718           0.948553        0.948718    0.948459   \n",
       "\n",
       "                       Confusion Matrix  \\\n",
       "8  [[52, 0, 0], [0, 50, 2], [0, 1, 51]]   \n",
       "4  [[51, 0, 1], [0, 50, 2], [1, 1, 50]]   \n",
       "1  [[52, 0, 0], [0, 51, 1], [0, 4, 48]]   \n",
       "7  [[52, 0, 0], [0, 51, 1], [0, 4, 48]]   \n",
       "2  [[52, 0, 0], [0, 50, 2], [1, 2, 49]]   \n",
       "3  [[52, 0, 0], [0, 51, 1], [2, 2, 48]]   \n",
       "9  [[51, 0, 1], [0, 49, 3], [0, 2, 50]]   \n",
       "0  [[51, 0, 1], [1, 49, 2], [0, 2, 50]]   \n",
       "6  [[51, 0, 1], [0, 50, 2], [0, 4, 48]]   \n",
       "5  [[52, 0, 0], [0, 49, 3], [1, 4, 47]]   \n",
       "\n",
       "                                 Images for Plotting  \n",
       "8  [([[[199 202 185]\\n [199 202 185]\\n [200 203 1...  \n",
       "4  [([[[199 202 185]\\n [199 202 185]\\n [200 203 1...  \n",
       "1  [([[[199 202 185]\\n [199 202 185]\\n [200 203 1...  \n",
       "7  [([[[199 202 185]\\n [199 202 185]\\n [200 203 1...  \n",
       "2  [([[[199 202 185]\\n [199 202 185]\\n [200 203 1...  \n",
       "3  [([[[199 202 185]\\n [199 202 185]\\n [200 203 1...  \n",
       "9  [([[[199 202 185]\\n [199 202 185]\\n [200 203 1...  \n",
       "0  [([[[199 202 185]\\n [199 202 185]\\n [200 203 1...  \n",
       "6  [([[[199 202 185]\\n [199 202 185]\\n [200 203 1...  \n",
       "5  [([[[199 202 185]\\n [199 202 185]\\n [200 203 1...  "
      ]
     },
     "execution_count": 13,
     "metadata": {},
     "output_type": "execute_result"
    }
   ],
   "source": [
    "# sort the model results based on the f1 score\n",
    "results_df = results_df.sort_values(by=\"Average f1\", ascending=False)\n",
    "results_df"
   ]
  },
  {
   "cell_type": "code",
   "execution_count": 14,
   "metadata": {},
   "outputs": [],
   "source": [
    "# create an average result dataframe for each of the models\n",
    "average_results = []\n",
    "\n",
    "for model_name in yolo_classification_checkpoints:\n",
    "    for model_size in yolo_classification_checkpoints[model_name]:\n",
    "        model_results = results_df[(results_df[\"Model_Name\"] == model_name) & (results_df[\"Model_Size\"] == model_size)]\n",
    "        \n",
    "        # Calculate the average accuracy\n",
    "        avg_accuracy = model_results[\"Accuracy\"].mean()\n",
    "        avg_precision = model_results[\"Average Precision\"].mean()\n",
    "        avg_recall = model_results[\"Average Recall\"].mean()\n",
    "        avg_f1 = model_results[\"Average f1\"].mean()\n",
    "        \n",
    "        # Calculate the average confusion matrix\n",
    "        avg_confusion_matrix = model_results[\"Confusion Matrix\"].mean(axis=0)\n",
    "        \n",
    "        # Append the average results to the list\n",
    "        average_results.append({\n",
    "            \"Model Name\": model_name,\n",
    "            \"Model Size\": model_size,\n",
    "            \"Average Accuracy\": avg_accuracy,\n",
    "            \"Average Precision\": avg_precision,\n",
    "            \"Average Recall\": avg_recall,\n",
    "            \"Average f1\": avg_f1,\n",
    "            \"Average Confusion Matrix\": avg_confusion_matrix\n",
    "        })"
   ]
  },
  {
   "cell_type": "code",
   "execution_count": 15,
   "metadata": {},
   "outputs": [
    {
     "data": {
      "text/html": [
       "<div>\n",
       "<style scoped>\n",
       "    .dataframe tbody tr th:only-of-type {\n",
       "        vertical-align: middle;\n",
       "    }\n",
       "\n",
       "    .dataframe tbody tr th {\n",
       "        vertical-align: top;\n",
       "    }\n",
       "\n",
       "    .dataframe thead th {\n",
       "        text-align: right;\n",
       "    }\n",
       "</style>\n",
       "<table border=\"1\" class=\"dataframe\">\n",
       "  <thead>\n",
       "    <tr style=\"text-align: right;\">\n",
       "      <th></th>\n",
       "      <th>Model Name</th>\n",
       "      <th>Model Size</th>\n",
       "      <th>Average Accuracy</th>\n",
       "      <th>Average Precision</th>\n",
       "      <th>Average Recall</th>\n",
       "      <th>Average f1</th>\n",
       "      <th>Average Confusion Matrix</th>\n",
       "    </tr>\n",
       "  </thead>\n",
       "  <tbody>\n",
       "    <tr>\n",
       "      <th>7</th>\n",
       "      <td>YOLOv11</td>\n",
       "      <td>Medium</td>\n",
       "      <td>0.939623</td>\n",
       "      <td>0.942376</td>\n",
       "      <td>0.939623</td>\n",
       "      <td>0.940035</td>\n",
       "      <td>[[87.0, 0.2, 1.8], [0.0, 22.2, 3.8], [3.8, 6.4...</td>\n",
       "    </tr>\n",
       "    <tr>\n",
       "      <th>2</th>\n",
       "      <td>YOLOv8</td>\n",
       "      <td>Medium</td>\n",
       "      <td>0.935849</td>\n",
       "      <td>0.938424</td>\n",
       "      <td>0.935849</td>\n",
       "      <td>0.936804</td>\n",
       "      <td>[[85.6, 0.4, 3.0], [0.0, 21.6, 4.4], [2.2, 7.0...</td>\n",
       "    </tr>\n",
       "    <tr>\n",
       "      <th>8</th>\n",
       "      <td>YOLOv11</td>\n",
       "      <td>Large</td>\n",
       "      <td>0.935849</td>\n",
       "      <td>0.938533</td>\n",
       "      <td>0.935849</td>\n",
       "      <td>0.936804</td>\n",
       "      <td>[[85.0, 0.6, 3.4], [0.0, 22.0, 4.0], [2.4, 6.6...</td>\n",
       "    </tr>\n",
       "    <tr>\n",
       "      <th>9</th>\n",
       "      <td>YOLOv11</td>\n",
       "      <td>XLarge</td>\n",
       "      <td>0.931321</td>\n",
       "      <td>0.932426</td>\n",
       "      <td>0.931321</td>\n",
       "      <td>0.931424</td>\n",
       "      <td>[[86.4, 0.8, 1.8], [0.0, 20.2, 5.8], [3.6, 6.2...</td>\n",
       "    </tr>\n",
       "    <tr>\n",
       "      <th>5</th>\n",
       "      <td>YOLOv11</td>\n",
       "      <td>Nano</td>\n",
       "      <td>0.926038</td>\n",
       "      <td>0.933875</td>\n",
       "      <td>0.926038</td>\n",
       "      <td>0.928361</td>\n",
       "      <td>[[84.2, 0.8, 4.0], [0.0, 22.6, 3.4], [2.0, 9.4...</td>\n",
       "    </tr>\n",
       "    <tr>\n",
       "      <th>4</th>\n",
       "      <td>YOLOv8</td>\n",
       "      <td>XLarge</td>\n",
       "      <td>0.924528</td>\n",
       "      <td>0.936192</td>\n",
       "      <td>0.924528</td>\n",
       "      <td>0.927342</td>\n",
       "      <td>[[86.6, 0.0, 2.4], [0.0, 22.0, 4.0], [2.6, 11....</td>\n",
       "    </tr>\n",
       "    <tr>\n",
       "      <th>3</th>\n",
       "      <td>YOLOv8</td>\n",
       "      <td>Large</td>\n",
       "      <td>0.923774</td>\n",
       "      <td>0.934698</td>\n",
       "      <td>0.923774</td>\n",
       "      <td>0.926850</td>\n",
       "      <td>[[86.6, 0.2, 2.2], [0.0, 22.4, 3.6], [2.6, 11....</td>\n",
       "    </tr>\n",
       "    <tr>\n",
       "      <th>0</th>\n",
       "      <td>YOLOv8</td>\n",
       "      <td>Nano</td>\n",
       "      <td>0.923019</td>\n",
       "      <td>0.934474</td>\n",
       "      <td>0.923019</td>\n",
       "      <td>0.926043</td>\n",
       "      <td>[[83.6, 0.8, 4.6], [0.0, 23.4, 2.6], [1.6, 10....</td>\n",
       "    </tr>\n",
       "    <tr>\n",
       "      <th>1</th>\n",
       "      <td>YOLOv8</td>\n",
       "      <td>Small</td>\n",
       "      <td>0.920755</td>\n",
       "      <td>0.929032</td>\n",
       "      <td>0.920755</td>\n",
       "      <td>0.922969</td>\n",
       "      <td>[[84.6, 0.8, 3.6], [0.0, 22.2, 3.8], [3.4, 9.4...</td>\n",
       "    </tr>\n",
       "    <tr>\n",
       "      <th>6</th>\n",
       "      <td>YOLOv11</td>\n",
       "      <td>Small</td>\n",
       "      <td>0.920755</td>\n",
       "      <td>0.929185</td>\n",
       "      <td>0.920755</td>\n",
       "      <td>0.922652</td>\n",
       "      <td>[[83.8, 0.4, 4.8], [0.0, 22.6, 3.4], [3.0, 9.4...</td>\n",
       "    </tr>\n",
       "  </tbody>\n",
       "</table>\n",
       "</div>"
      ],
      "text/plain": [
       "  Model Name Model Size  Average Accuracy  Average Precision  Average Recall  \\\n",
       "7    YOLOv11     Medium          0.939623           0.942376        0.939623   \n",
       "2     YOLOv8     Medium          0.935849           0.938424        0.935849   \n",
       "8    YOLOv11      Large          0.935849           0.938533        0.935849   \n",
       "9    YOLOv11     XLarge          0.931321           0.932426        0.931321   \n",
       "5    YOLOv11       Nano          0.926038           0.933875        0.926038   \n",
       "4     YOLOv8     XLarge          0.924528           0.936192        0.924528   \n",
       "3     YOLOv8      Large          0.923774           0.934698        0.923774   \n",
       "0     YOLOv8       Nano          0.923019           0.934474        0.923019   \n",
       "1     YOLOv8      Small          0.920755           0.929032        0.920755   \n",
       "6    YOLOv11      Small          0.920755           0.929185        0.920755   \n",
       "\n",
       "   Average f1                           Average Confusion Matrix  \n",
       "7    0.940035  [[87.0, 0.2, 1.8], [0.0, 22.2, 3.8], [3.8, 6.4...  \n",
       "2    0.936804  [[85.6, 0.4, 3.0], [0.0, 21.6, 4.4], [2.2, 7.0...  \n",
       "8    0.936804  [[85.0, 0.6, 3.4], [0.0, 22.0, 4.0], [2.4, 6.6...  \n",
       "9    0.931424  [[86.4, 0.8, 1.8], [0.0, 20.2, 5.8], [3.6, 6.2...  \n",
       "5    0.928361  [[84.2, 0.8, 4.0], [0.0, 22.6, 3.4], [2.0, 9.4...  \n",
       "4    0.927342  [[86.6, 0.0, 2.4], [0.0, 22.0, 4.0], [2.6, 11....  \n",
       "3    0.926850  [[86.6, 0.2, 2.2], [0.0, 22.4, 3.6], [2.6, 11....  \n",
       "0    0.926043  [[83.6, 0.8, 4.6], [0.0, 23.4, 2.6], [1.6, 10....  \n",
       "1    0.922969  [[84.6, 0.8, 3.6], [0.0, 22.2, 3.8], [3.4, 9.4...  \n",
       "6    0.922652  [[83.8, 0.4, 4.8], [0.0, 22.6, 3.4], [3.0, 9.4...  "
      ]
     },
     "execution_count": 15,
     "metadata": {},
     "output_type": "execute_result"
    }
   ],
   "source": [
    "average_results_df = pd.DataFrame(average_results)\n",
    "\n",
    "# sort the average results based on the f1 score\n",
    "average_results_df = average_results_df.sort_values(by=\"Average f1\", ascending=False)\n",
    "\n",
    "average_results_df\n"
   ]
  },
  {
   "cell_type": "code",
   "execution_count": 33,
   "metadata": {},
   "outputs": [],
   "source": [
    "# # save the results to a file\n",
    "# average_results_df.to_csv(\"yolo_classification_avg_results_for_5_datasets.csv\", index=False)\n",
    "# results_df.to_csv(\"yolo_classification_results_for_5_datasets.csv\", index=False)"
   ]
  },
  {
   "cell_type": "code",
   "execution_count": 36,
   "metadata": {},
   "outputs": [
    {
     "name": "stdout",
     "output_type": "stream",
     "text": [
      "Index(['Model Name', 'Model Size', 'Average Accuracy', 'Average Precision',\n",
      "       'Average Recall', 'Average f1', 'Average Confusion Matrix'],\n",
      "      dtype='object')\n"
     ]
    }
   ],
   "source": [
    "print(average_results_df.columns)"
   ]
  },
  {
   "cell_type": "code",
   "execution_count": 18,
   "metadata": {},
   "outputs": [
    {
     "data": {
      "text/plain": [
       "<Figure size 1600x1200 with 4 Axes>"
      ]
     },
     "metadata": {},
     "output_type": "display_data"
    }
   ],
   "source": [
    "import pandas as pd\n",
    "import matplotlib.pyplot as plt\n",
    "import seaborn as sns\n",
    "\n",
    "# Convert the average results to a DataFrame\n",
    "average_results_df = pd.DataFrame(average_results)\n",
    "\n",
    "# Plot the key metrics (accuracy, precision, recall, F1) across different models and sizes\n",
    "metrics = [\"Average Accuracy\", \"Average Precision\", \"Average Recall\", \"Average f1\"]\n",
    "\n",
    "plt.figure(figsize=(16, 12))\n",
    "\n",
    "for i, metric in enumerate(metrics, 1):\n",
    "    plt.subplot(2, 2, i)\n",
    "    sns.barplot(data=average_results_df, x=\"Model Size\", y=metric, hue=\"Model Name\")\n",
    "    plt.title(f\"Comparison of {metric} Across Models and Sizes\")\n",
    "    plt.ylabel(metric)\n",
    "    plt.xlabel(\"Model Size\")\n",
    "    plt.legend(title=\"Model Name\")\n",
    "\n",
    "plt.tight_layout()\n",
    "plt.show()\n"
   ]
  },
  {
   "cell_type": "code",
   "execution_count": 19,
   "metadata": {},
   "outputs": [
    {
     "data": {
      "text/plain": [
       "<Figure size 1500x2000 with 20 Axes>"
      ]
     },
     "metadata": {},
     "output_type": "display_data"
    }
   ],
   "source": [
    "import matplotlib.pyplot as plt\n",
    "import seaborn as sns\n",
    "\n",
    "# Define the number of rows and columns for the grid\n",
    "num_matrices = len(average_results_df)\n",
    "ncols = 3  # Number of columns in the grid\n",
    "nrows = (num_matrices // ncols) + (num_matrices % ncols > 0)  # Calculate rows needed\n",
    "\n",
    "# Set up the figure for the grid of confusion matrices\n",
    "fig, axes = plt.subplots(nrows=nrows, ncols=ncols, figsize=(ncols * 5, nrows * 5))\n",
    "\n",
    "# Flatten axes to easily iterate over them\n",
    "axes = axes.flatten()\n",
    "\n",
    "# Plot each confusion matrix in the grid\n",
    "for index, (ax, row) in enumerate(zip(axes, average_results_df.iterrows())):\n",
    "    row_data = row[1]\n",
    "    sns.heatmap(row_data[\"Average Confusion Matrix\"], annot=True, fmt=\".2f\", cmap=\"Blues\", cbar=True, ax=ax)\n",
    "    ax.set_title(f\"{row_data['Model Name']} - {row_data['Model Size']}\")\n",
    "    ax.set_xlabel(\"Predicted Class\")\n",
    "    ax.set_ylabel(\"True Class\")\n",
    "\n",
    "# Remove any unused subplots\n",
    "for i in range(num_matrices, len(axes)):\n",
    "    fig.delaxes(axes[i])\n",
    "\n",
    "plt.tight_layout()\n",
    "plt.show()\n"
   ]
  },
  {
   "cell_type": "markdown",
   "metadata": {},
   "source": [
    "## Experiment Settings\n",
    "- 200 Images for each class for training\n",
    "- The rest of the images goes to val and test sets\n",
    "- Val and test sets splits are 50%-50% (26 - clear, 150 - cloudy and 89 - amber )\n",
    "\n",
    "## Experiment results\n",
    "- Good Results\n",
    "- Around 93% for all metrics (accuracy, precision, recall and f1)\n",
    "- In conf matrix class 0 = amber, 1 = clear and 2 = cloudy\n",
    "- Best model to predict amber class is yolov8 Large.\n"
   ]
  },
  {
   "cell_type": "markdown",
   "metadata": {},
   "source": []
  }
 ],
 "metadata": {
  "kernelspec": {
   "display_name": "yolo8",
   "language": "python",
   "name": "python3"
  },
  "language_info": {
   "codemirror_mode": {
    "name": "ipython",
    "version": 3
   },
   "file_extension": ".py",
   "mimetype": "text/x-python",
   "name": "python",
   "nbconvert_exporter": "python",
   "pygments_lexer": "ipython3",
   "version": "3.9.19"
  }
 },
 "nbformat": 4,
 "nbformat_minor": 2
}
