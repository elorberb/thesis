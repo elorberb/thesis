{
 "cells": [
  {
   "cell_type": "code",
   "execution_count": 12,
   "metadata": {},
   "outputs": [
    {
     "name": "stdout",
     "output_type": "stream",
     "text": [
      "Number of files in /home/etaylor/code_projects/thesis/src/pipelines/end_to_end/results/extracted_trichomes_images/good_quality: 0\n",
      "Number of files in /home/etaylor/code_projects/thesis/src/pipelines/end_to_end/results/extracted_trichomes_images/good_quality/amber: 61\n",
      "Number of files in /home/etaylor/code_projects/thesis/src/pipelines/end_to_end/results/extracted_trichomes_images/good_quality/clear: 50\n",
      "Number of files in /home/etaylor/code_projects/thesis/src/pipelines/end_to_end/results/extracted_trichomes_images/good_quality/cloudy: 50\n"
     ]
    }
   ],
   "source": [
    "import os\n",
    "\n",
    "trichomes_dataset_path = \"/home/etaylor/code_projects/thesis/src/pipelines/end_to_end/results/extracted_trichomes_images/good_quality\"\n",
    "\n",
    "# Recursively iterate over each subdirectory and count the number of files\n",
    "for root, dirs, files in os.walk(trichomes_dataset_path):\n",
    "    file_count = len(files)\n",
    "    print(f\"Number of files in {root}: {file_count}\")\n",
    "\n"
   ]
  },
  {
   "cell_type": "code",
   "execution_count": null,
   "metadata": {},
   "outputs": [],
   "source": []
  }
 ],
 "metadata": {
  "kernelspec": {
   "display_name": "detectron_fastai",
   "language": "python",
   "name": "python3"
  },
  "language_info": {
   "codemirror_mode": {
    "name": "ipython",
    "version": 3
   },
   "file_extension": ".py",
   "mimetype": "text/x-python",
   "name": "python",
   "nbconvert_exporter": "python",
   "pygments_lexer": "ipython3",
   "version": "3.9.19"
  }
 },
 "nbformat": 4,
 "nbformat_minor": 2
}
