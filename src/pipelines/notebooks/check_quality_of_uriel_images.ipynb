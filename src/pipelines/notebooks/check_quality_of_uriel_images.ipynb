{
 "cells": [
  {
   "cell_type": "code",
   "execution_count": 2,
   "metadata": {},
   "outputs": [],
   "source": [
    "from src.pipelines.end_to_end import end_to_end_pipe as e2e\n",
    "from src.pipelines.end_to_end import end_to_end_utils as e2e_utils\n",
    "import os"
   ]
  },
  {
   "cell_type": "code",
   "execution_count": 3,
   "metadata": {},
   "outputs": [
    {
     "name": "stderr",
     "output_type": "stream",
     "text": [
      "12/02/2024 18:26:46 - INFO - src.pipelines.end_to_end.end_to_end_utils -   Loading the model.\n",
      "12/02/2024 18:27:14 - WARNING - fvcore.common.config -   Loading config /home/etaylor/code_projects/thesis/checkpoints/detectron2/COCO-Detection/faster_rcnn_R_50_C4_1x/29-04-2024_16-09-41/config.yaml with yaml.unsafe_load. Your machine may be at risk if the file contains malicious content.\n"
     ]
    },
    {
     "name": "stdout",
     "output_type": "stream",
     "text": [
      "/home/etaylor/code_projects/thesis/checkpoints/detectron2/COCO-Detection/faster_rcnn_R_50_C4_1x/29-04-2024_16-09-41/config.yaml not available in Model Zoo!\n"
     ]
    },
    {
     "name": "stderr",
     "output_type": "stream",
     "text": [
      "12/02/2024 18:27:16 - INFO - detectron2.checkpoint.detection_checkpoint -   [DetectionCheckpointer] Loading from /home/etaylor/code_projects/thesis/checkpoints/detectron2/COCO-Detection/faster_rcnn_R_50_C4_1x/29-04-2024_16-09-41/model_final.pth ...\n",
      "12/02/2024 18:27:16 - INFO - fvcore.common.checkpoint -   [Checkpointer] Loading from /home/etaylor/code_projects/thesis/checkpoints/detectron2/COCO-Detection/faster_rcnn_R_50_C4_1x/29-04-2024_16-09-41/model_final.pth ...\n",
      "12/02/2024 18:27:19 - WARNING - sahi.models.detectron2 -   Attribute 'thing_classes' does not exist in the metadata of dataset 'etaylor/cannabis_patches_train_26-04-2024_15-44-44': metadata is empty.\n"
     ]
    }
   ],
   "source": [
    "model_config = {\n",
    "    \"model_name\": \"faster_rcnn_R_50_C4_1x\",\n",
    "    \"checkpoint\": \"/home/etaylor/code_projects/thesis/checkpoints/detectron2/COCO-Detection/faster_rcnn_R_50_C4_1x/29-04-2024_16-09-41/model_final.pth\",\n",
    "    \"yaml_file\": \"/home/etaylor/code_projects/thesis/checkpoints/detectron2/COCO-Detection/faster_rcnn_R_50_C4_1x/29-04-2024_16-09-41/config.yaml\",\n",
    "}\n",
    "\n",
    "images_folder = \"/home/etaylor/code_projects/thesis/src/pipelines/notebooks/uriel_images\"\n",
    "output_base_folder = \"/home/etaylor/code_projects/thesis/src/pipelines/notebooks/uriel_images/uriel_images_results\"\n",
    "\n",
    "# Ensure output base directory exists\n",
    "os.makedirs(output_base_folder, exist_ok=True)\n",
    "\n",
    "patch_size = 512\n",
    "\n",
    "detection_model = e2e_utils.load_obj_detection_model(model_config, patch_size)\n"
   ]
  },
  {
   "cell_type": "code",
   "execution_count": 5,
   "metadata": {},
   "outputs": [
    {
     "name": "stderr",
     "output_type": "stream",
     "text": [
      "12/02/2024 18:29:01 - INFO - src.pipelines.end_to_end.end_to_end_pipe -   Processing images in folder: uriel_images\n",
      "12/02/2024 18:29:01 - INFO - src.pipelines.end_to_end.end_to_end_pipe -   Processing image: IMG_8423.JPG\n"
     ]
    },
    {
     "name": "stdout",
     "output_type": "stream",
     "text": [
      "Performing prediction on 48 slices.\n"
     ]
    },
    {
     "name": "stderr",
     "output_type": "stream",
     "text": [
      "12/02/2024 18:29:25 - INFO - src.pipelines.end_to_end.end_to_end_pipe -   Time taken to process image IMG_8423.JPG: 23.47 seconds\n",
      "12/02/2024 18:29:25 - INFO - src.pipelines.end_to_end.end_to_end_pipe -   Exporting visuals for IMG_8423\n",
      "12/02/2024 18:29:25 - INFO - src.pipelines.end_to_end.end_to_end_pipe -   Time taken to export visuals: 0.81 seconds\n",
      "12/02/2024 18:29:25 - INFO - src.pipelines.end_to_end.end_to_end_pipe -   Saving results for IMG_8423\n",
      "12/02/2024 18:29:26 - INFO - src.pipelines.end_to_end.end_to_end_pipe -   Results saved to JSON: /home/etaylor/code_projects/thesis/src/pipelines/notebooks/uriel_images/uriel_images_results/uriel_images/IMG_8423/IMG_8423_raw.json\n",
      "12/02/2024 18:29:26 - INFO - src.pipelines.end_to_end.end_to_end_pipe -   Class and normalized class distributions saved to JSON: /home/etaylor/code_projects/thesis/src/pipelines/notebooks/uriel_images/uriel_images_results/uriel_images/IMG_8423/IMG_8423_class_distribution.json\n",
      "12/02/2024 18:29:26 - INFO - src.pipelines.end_to_end.end_to_end_pipe -   Processing image: IMG_8435.JPG\n"
     ]
    },
    {
     "name": "stdout",
     "output_type": "stream",
     "text": [
      "Performing prediction on 48 slices.\n"
     ]
    },
    {
     "name": "stderr",
     "output_type": "stream",
     "text": [
      "12/02/2024 18:29:40 - INFO - src.pipelines.end_to_end.end_to_end_pipe -   Time taken to process image IMG_8435.JPG: 14.36 seconds\n",
      "12/02/2024 18:29:40 - INFO - src.pipelines.end_to_end.end_to_end_pipe -   Exporting visuals for IMG_8435\n",
      "12/02/2024 18:29:41 - INFO - src.pipelines.end_to_end.end_to_end_pipe -   Time taken to export visuals: 0.82 seconds\n",
      "12/02/2024 18:29:41 - INFO - src.pipelines.end_to_end.end_to_end_pipe -   Saving results for IMG_8435\n",
      "12/02/2024 18:29:41 - INFO - src.pipelines.end_to_end.end_to_end_pipe -   Results saved to JSON: /home/etaylor/code_projects/thesis/src/pipelines/notebooks/uriel_images/uriel_images_results/uriel_images/IMG_8435/IMG_8435_raw.json\n",
      "12/02/2024 18:29:41 - INFO - src.pipelines.end_to_end.end_to_end_pipe -   Class and normalized class distributions saved to JSON: /home/etaylor/code_projects/thesis/src/pipelines/notebooks/uriel_images/uriel_images_results/uriel_images/IMG_8435/IMG_8435_class_distribution.json\n",
      "12/02/2024 18:29:41 - INFO - src.pipelines.end_to_end.end_to_end_pipe -   Processing image: IMG_8447.JPG\n"
     ]
    },
    {
     "name": "stdout",
     "output_type": "stream",
     "text": [
      "Performing prediction on 48 slices.\n"
     ]
    },
    {
     "name": "stderr",
     "output_type": "stream",
     "text": [
      "12/02/2024 18:29:55 - INFO - src.pipelines.end_to_end.end_to_end_pipe -   Time taken to process image IMG_8447.JPG: 14.42 seconds\n",
      "12/02/2024 18:29:55 - INFO - src.pipelines.end_to_end.end_to_end_pipe -   Exporting visuals for IMG_8447\n",
      "12/02/2024 18:29:56 - INFO - src.pipelines.end_to_end.end_to_end_pipe -   Time taken to export visuals: 0.51 seconds\n",
      "12/02/2024 18:29:56 - INFO - src.pipelines.end_to_end.end_to_end_pipe -   Saving results for IMG_8447\n",
      "12/02/2024 18:29:56 - INFO - src.pipelines.end_to_end.end_to_end_pipe -   Results saved to JSON: /home/etaylor/code_projects/thesis/src/pipelines/notebooks/uriel_images/uriel_images_results/uriel_images/IMG_8447/IMG_8447_raw.json\n",
      "12/02/2024 18:29:56 - INFO - src.pipelines.end_to_end.end_to_end_pipe -   Class and normalized class distributions saved to JSON: /home/etaylor/code_projects/thesis/src/pipelines/notebooks/uriel_images/uriel_images_results/uriel_images/IMG_8447/IMG_8447_class_distribution.json\n",
      "12/02/2024 18:29:56 - INFO - src.pipelines.end_to_end.end_to_end_pipe -   Processing image: IMG_8463.JPG\n"
     ]
    },
    {
     "name": "stdout",
     "output_type": "stream",
     "text": [
      "Performing prediction on 48 slices.\n"
     ]
    },
    {
     "name": "stderr",
     "output_type": "stream",
     "text": [
      "12/02/2024 18:30:10 - INFO - src.pipelines.end_to_end.end_to_end_pipe -   Time taken to process image IMG_8463.JPG: 14.41 seconds\n",
      "12/02/2024 18:30:10 - INFO - src.pipelines.end_to_end.end_to_end_pipe -   Exporting visuals for IMG_8463\n",
      "12/02/2024 18:30:11 - INFO - src.pipelines.end_to_end.end_to_end_pipe -   Time taken to export visuals: 0.47 seconds\n",
      "12/02/2024 18:30:11 - INFO - src.pipelines.end_to_end.end_to_end_pipe -   Saving results for IMG_8463\n",
      "12/02/2024 18:30:11 - INFO - src.pipelines.end_to_end.end_to_end_pipe -   Results saved to JSON: /home/etaylor/code_projects/thesis/src/pipelines/notebooks/uriel_images/uriel_images_results/uriel_images/IMG_8463/IMG_8463_raw.json\n",
      "12/02/2024 18:30:11 - INFO - src.pipelines.end_to_end.end_to_end_pipe -   Class and normalized class distributions saved to JSON: /home/etaylor/code_projects/thesis/src/pipelines/notebooks/uriel_images/uriel_images_results/uriel_images/IMG_8463/IMG_8463_class_distribution.json\n",
      "12/02/2024 18:30:11 - INFO - src.pipelines.end_to_end.end_to_end_pipe -   Processing image: IMG_8466.JPG\n"
     ]
    },
    {
     "name": "stdout",
     "output_type": "stream",
     "text": [
      "Performing prediction on 48 slices.\n"
     ]
    },
    {
     "name": "stderr",
     "output_type": "stream",
     "text": [
      "12/02/2024 18:30:25 - INFO - src.pipelines.end_to_end.end_to_end_pipe -   Time taken to process image IMG_8466.JPG: 14.63 seconds\n",
      "12/02/2024 18:30:25 - INFO - src.pipelines.end_to_end.end_to_end_pipe -   Exporting visuals for IMG_8466\n",
      "12/02/2024 18:30:26 - INFO - src.pipelines.end_to_end.end_to_end_pipe -   Time taken to export visuals: 0.49 seconds\n",
      "12/02/2024 18:30:26 - INFO - src.pipelines.end_to_end.end_to_end_pipe -   Saving results for IMG_8466\n",
      "12/02/2024 18:30:26 - INFO - src.pipelines.end_to_end.end_to_end_pipe -   Results saved to JSON: /home/etaylor/code_projects/thesis/src/pipelines/notebooks/uriel_images/uriel_images_results/uriel_images/IMG_8466/IMG_8466_raw.json\n",
      "12/02/2024 18:30:26 - INFO - src.pipelines.end_to_end.end_to_end_pipe -   Class and normalized class distributions saved to JSON: /home/etaylor/code_projects/thesis/src/pipelines/notebooks/uriel_images/uriel_images_results/uriel_images/IMG_8466/IMG_8466_class_distribution.json\n",
      "12/02/2024 18:30:26 - INFO - src.pipelines.end_to_end.end_to_end_pipe -   Total time taken to process the folder: 84.62 seconds\n",
      "12/02/2024 18:30:26 - INFO - src.pipelines.end_to_end.end_to_end_pipe -   Computing aggregated class label distribution.\n",
      "12/02/2024 18:30:26 - INFO - src.pipelines.end_to_end.end_to_end_pipe -   Class and normalized class distributions saved to JSON: /home/etaylor/code_projects/thesis/src/pipelines/notebooks/uriel_images/uriel_images_results/uriel_images/class_distribution.json\n"
     ]
    }
   ],
   "source": [
    "e2e.process_images_in_folder(\n",
    "    folder_path=images_folder,\n",
    "    output_dir=output_base_folder,\n",
    "    detection_model=detection_model,\n",
    "    patch_size=patch_size,\n",
    ")"
   ]
  }
 ],
 "metadata": {
  "kernelspec": {
   "display_name": "detectron_fastai",
   "language": "python",
   "name": "python3"
  },
  "language_info": {
   "codemirror_mode": {
    "name": "ipython",
    "version": 3
   },
   "file_extension": ".py",
   "mimetype": "text/x-python",
   "name": "python",
   "nbconvert_exporter": "python",
   "pygments_lexer": "ipython3",
   "version": "3.9.19"
  }
 },
 "nbformat": 4,
 "nbformat_minor": 2
}
