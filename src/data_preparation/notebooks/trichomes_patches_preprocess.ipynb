{
 "cells": [
  {
   "cell_type": "code",
   "execution_count": null,
   "metadata": {
    "id": "22wCnyuXNLLr"
   },
   "outputs": [],
   "source": [
    "\n",
    "from src.data_preparation.image_loader import read_images_and_names\n",
    "from src.data_preparation.patch_cutter import preprocess_patches\n",
    "from src.utils.visualization import plot_images"
   ]
  },
  {
   "cell_type": "markdown",
   "metadata": {
    "id": "rDsZ2fwhOa1O"
   },
   "source": [
    "### Functions"
   ]
  },
  {
   "cell_type": "code",
   "execution_count": null,
   "metadata": {
    "id": "Nc_xp7CaNnus"
   },
   "outputs": [],
   "source": [
    "images_path = \"ADD_PATH\"\n",
    "trichomes_images = read_images_and_names(images_path)"
   ]
  },
  {
   "cell_type": "code",
   "execution_count": null,
   "metadata": {
    "colab": {
     "base_uri": "https://localhost:8080/"
    },
    "executionInfo": {
     "elapsed": 25,
     "status": "ok",
     "timestamp": 1684788785780,
     "user": {
      "displayName": "Etay Arie Lorberboym",
      "userId": "09023793730623968875"
     },
     "user_tz": -180
    },
    "id": "2VQsm_-PN8qs",
    "outputId": "8ca29719-1d90-416a-f63b-07ca45045ddd"
   },
   "outputs": [
    {
     "name": "stdout",
     "output_type": "stream",
     "text": [
      "amount of images 93\n"
     ]
    }
   ],
   "source": [
    "print(f\"amount of images {len(trichomes_images)}\")"
   ]
  },
  {
   "cell_type": "markdown",
   "metadata": {
    "id": "khe4f6bOPEqX"
   },
   "source": [
    "### Create patches from images"
   ]
  },
  {
   "cell_type": "code",
   "execution_count": null,
   "metadata": {
    "colab": {
     "base_uri": "https://localhost:8080/"
    },
    "executionInfo": {
     "elapsed": 25014,
     "status": "ok",
     "timestamp": 1684788810772,
     "user": {
      "displayName": "Etay Arie Lorberboym",
      "userId": "09023793730623968875"
     },
     "user_tz": -180
    },
    "id": "lhgWw-CXPD_C",
    "outputId": "71c5dfd0-5e9f-4c93-eedf-cd44aa98bb71"
   },
   "outputs": [
    {
     "name": "stderr",
     "output_type": "stream",
     "text": [
      "<ipython-input-23-b5d2bed00f94>:69: VisibleDeprecationWarning: Creating an ndarray from ragged nested sequences (which is a list-or-tuple of lists-or-tuples-or ndarrays with different lengths or shapes) is deprecated. If you meant to do this, you must specify 'dtype=object' when creating the ndarray.\n",
      "  return patches, np.array(patches_with_cords)\n"
     ]
    }
   ],
   "source": [
    "preprocess_patches(\"/content/trichomes_patches\", trichomes_images)"
   ]
  },
  {
   "cell_type": "markdown",
   "metadata": {
    "id": "j83Ml_92J80v"
   },
   "source": [
    "## Plot images by path"
   ]
  },
  {
   "cell_type": "code",
   "execution_count": null,
   "metadata": {
    "colab": {
     "base_uri": "https://localhost:8080/",
     "height": 1000,
     "output_embedded_package_id": "14FkkWN059k4rezpvSeaE9quRS_oqLzzk"
    },
    "executionInfo": {
     "elapsed": 9754,
     "status": "ok",
     "timestamp": 1684788820507,
     "user": {
      "displayName": "Etay Arie Lorberboym",
      "userId": "09023793730623968875"
     },
     "user_tz": -180
    },
    "id": "icqeTUi6KuNN",
    "outputId": "e5b2d23b-fb7f-4f59-87ce-f8b301fff614"
   },
   "outputs": [
    {
     "data": {
      "text/plain": [
       "Output hidden; open in https://colab.research.google.com to view."
      ]
     },
     "metadata": {},
     "output_type": "display_data"
    }
   ],
   "source": [
    "plot_images(\"/content/trichomes_patches/IMG_0072\")"
   ]
  },
  {
   "cell_type": "code",
   "execution_count": null,
   "metadata": {
    "colab": {
     "base_uri": "https://localhost:8080/",
     "height": 1000,
     "output_embedded_package_id": "1UVSzh1tNkxeJgbVC0uS7ucSq4XUffQIC"
    },
    "executionInfo": {
     "elapsed": 6967,
     "status": "ok",
     "timestamp": 1684788827442,
     "user": {
      "displayName": "Etay Arie Lorberboym",
      "userId": "09023793730623968875"
     },
     "user_tz": -180
    },
    "id": "wMPPCq1GLqgr",
    "outputId": "6c9c8a6e-23d4-464b-aaae-0249f768c83c"
   },
   "outputs": [
    {
     "data": {
      "text/plain": [
       "Output hidden; open in https://colab.research.google.com to view."
      ]
     },
     "metadata": {},
     "output_type": "display_data"
    }
   ],
   "source": [
    "plot_images(\"/content/trichomes_patches/IMG_9979\")"
   ]
  },
  {
   "cell_type": "code",
   "execution_count": null,
   "metadata": {
    "colab": {
     "base_uri": "https://localhost:8080/",
     "height": 1000,
     "output_embedded_package_id": "1l9A1BNeEpHZVEY5r9K30E_Tp9eNa60MG"
    },
    "executionInfo": {
     "elapsed": 6202,
     "status": "ok",
     "timestamp": 1684788833640,
     "user": {
      "displayName": "Etay Arie Lorberboym",
      "userId": "09023793730623968875"
     },
     "user_tz": -180
    },
    "id": "P8BIEICEMwml",
    "outputId": "1a58f8df-58f7-41bf-9274-a9120bb4775d"
   },
   "outputs": [
    {
     "data": {
      "text/plain": [
       "Output hidden; open in https://colab.research.google.com to view."
      ]
     },
     "metadata": {},
     "output_type": "display_data"
    }
   ],
   "source": [
    "plot_images(\"/content/trichomes_patches/IMG_9998\")"
   ]
  },
  {
   "cell_type": "code",
   "execution_count": null,
   "metadata": {
    "colab": {
     "base_uri": "https://localhost:8080/",
     "height": 1000,
     "output_embedded_package_id": "1syf5MgxWTK5xr_rl8FMRnI4mGPISvhFS"
    },
    "executionInfo": {
     "elapsed": 7294,
     "status": "ok",
     "timestamp": 1684788840930,
     "user": {
      "displayName": "Etay Arie Lorberboym",
      "userId": "09023793730623968875"
     },
     "user_tz": -180
    },
    "id": "I690ErqtM02N",
    "outputId": "3f0709ad-5b3c-46c7-9fbb-b9f6535de559"
   },
   "outputs": [
    {
     "data": {
      "text/plain": [
       "Output hidden; open in https://colab.research.google.com to view."
      ]
     },
     "metadata": {},
     "output_type": "display_data"
    }
   ],
   "source": [
    "plot_images(\"/content/trichomes_patches/IMG_0021\")"
   ]
  },
  {
   "cell_type": "code",
   "execution_count": null,
   "metadata": {
    "colab": {
     "base_uri": "https://localhost:8080/",
     "height": 1000,
     "output_embedded_package_id": "1aIqKFQWw7o7WqJ9QlGZTYGCgF83rfbPh"
    },
    "executionInfo": {
     "elapsed": 9740,
     "status": "ok",
     "timestamp": 1684788850666,
     "user": {
      "displayName": "Etay Arie Lorberboym",
      "userId": "09023793730623968875"
     },
     "user_tz": -180
    },
    "id": "umTGj6UAM6pA",
    "outputId": "7b9fe30e-580f-488d-aee1-5a4bc3a48195"
   },
   "outputs": [
    {
     "data": {
      "text/plain": [
       "Output hidden; open in https://colab.research.google.com to view."
      ]
     },
     "metadata": {},
     "output_type": "display_data"
    }
   ],
   "source": [
    "plot_images(\"/content/trichomes_patches/IMG_0045\")"
   ]
  },
  {
   "cell_type": "code",
   "execution_count": null,
   "metadata": {
    "colab": {
     "base_uri": "https://localhost:8080/",
     "height": 1000,
     "output_embedded_package_id": "1Rge90X4OEW9WU9Py-ANocoXjXYM-FBhb"
    },
    "executionInfo": {
     "elapsed": 7399,
     "status": "ok",
     "timestamp": 1684789114533,
     "user": {
      "displayName": "Etay Arie Lorberboym",
      "userId": "09023793730623968875"
     },
     "user_tz": -180
    },
    "id": "ZlTReOAyQYE9",
    "outputId": "12a318cd-2adf-49ad-adeb-677fc8250ae3"
   },
   "outputs": [
    {
     "data": {
      "text/plain": [
       "Output hidden; open in https://colab.research.google.com to view."
      ]
     },
     "metadata": {},
     "output_type": "display_data"
    }
   ],
   "source": [
    "plot_images(\"/content/trichomes_patches/IMG_0061\")"
   ]
  },
  {
   "cell_type": "code",
   "execution_count": null,
   "metadata": {
    "colab": {
     "base_uri": "https://localhost:8080/",
     "height": 1000,
     "output_embedded_package_id": "1kLQBXbhJ9deBMACc1LU8RrZXapSWnVjV"
    },
    "executionInfo": {
     "elapsed": 8505,
     "status": "ok",
     "timestamp": 1684789154246,
     "user": {
      "displayName": "Etay Arie Lorberboym",
      "userId": "09023793730623968875"
     },
     "user_tz": -180
    },
    "id": "HuBraRUsQh0B",
    "outputId": "c34cefa3-4e05-47c8-8f14-44b2c4f405a0"
   },
   "outputs": [
    {
     "data": {
      "text/plain": [
       "Output hidden; open in https://colab.research.google.com to view."
      ]
     },
     "metadata": {},
     "output_type": "display_data"
    }
   ],
   "source": [
    "plot_images(\"/content/trichomes_patches/IMG_0003\")"
   ]
  },
  {
   "cell_type": "code",
   "execution_count": null,
   "metadata": {
    "colab": {
     "base_uri": "https://localhost:8080/",
     "height": 1000,
     "output_embedded_package_id": "18yTbpAI-2KexeCj7cTLfjHpgt8f9Tbya"
    },
    "executionInfo": {
     "elapsed": 11383,
     "status": "ok",
     "timestamp": 1684789425770,
     "user": {
      "displayName": "Etay Arie Lorberboym",
      "userId": "09023793730623968875"
     },
     "user_tz": -180
    },
    "id": "yyh7vy_gRjYO",
    "outputId": "ceaa8bb0-2b16-4f79-e5d6-5d1e6667db34"
   },
   "outputs": [
    {
     "data": {
      "text/plain": [
       "Output hidden; open in https://colab.research.google.com to view."
      ]
     },
     "metadata": {},
     "output_type": "display_data"
    }
   ],
   "source": [
    "plot_images(\"/content/trichomes_patches/IMG_0044\")"
   ]
  },
  {
   "cell_type": "code",
   "execution_count": null,
   "metadata": {
    "colab": {
     "base_uri": "https://localhost:8080/",
     "height": 1000,
     "output_embedded_package_id": "19mFgmHQVvblX7chLIT37sIeFbHsMXWg3"
    },
    "executionInfo": {
     "elapsed": 12796,
     "status": "ok",
     "timestamp": 1684789599828,
     "user": {
      "displayName": "Etay Arie Lorberboym",
      "userId": "09023793730623968875"
     },
     "user_tz": -180
    },
    "id": "2fz8QnUfSNb1",
    "outputId": "48253ed1-03ff-4d80-8191-709928a972d1"
   },
   "outputs": [
    {
     "data": {
      "text/plain": [
       "Output hidden; open in https://colab.research.google.com to view."
      ]
     },
     "metadata": {},
     "output_type": "display_data"
    }
   ],
   "source": [
    "plot_images(\"/content/trichomes_patches/IMG_0023\")"
   ]
  }
 ],
 "metadata": {
  "colab": {
   "provenance": [
    {
     "file_id": "1hWY8JKoZZc0QZFDAkVqaa95iLn_hQdr2",
     "timestamp": 1684769064629
    }
   ]
  },
  "kernelspec": {
   "display_name": "Python 3",
   "name": "python3"
  },
  "language_info": {
   "name": "python"
  }
 },
 "nbformat": 4,
 "nbformat_minor": 0
}
