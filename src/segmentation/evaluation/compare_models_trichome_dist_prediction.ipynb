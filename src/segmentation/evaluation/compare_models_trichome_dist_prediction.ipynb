{
 "cells": [
  {
   "cell_type": "code",
   "execution_count": null,
   "metadata": {},
   "outputs": [],
   "source": [
    "import pandas as pd\n",
    "GROUND_TRUTH_METADATA_FILE = \"/home/etaylor/code_projects/thesis/metadata/ground_truth_metadata.csv\""
   ]
  },
  {
   "cell_type": "markdown",
   "metadata": {},
   "source": [
    "### Option 1 - Load the ground truth dataset"
   ]
  },
  {
   "cell_type": "code",
   "execution_count": null,
   "metadata": {},
   "outputs": [],
   "source": [
    "# load the ground_truth_df from the csv file\n",
    "ground_truth_df = pd.read_csv(GROUND_TRUTH_METADATA_FILE)\n",
    "ground_truth_df.head()"
   ]
  },
  {
   "cell_type": "markdown",
   "metadata": {},
   "source": [
    "### Option 2 - Calculate the Ground Truth Dataset"
   ]
  },
  {
   "cell_type": "code",
   "execution_count": null,
   "metadata": {},
   "outputs": [
    {
     "data": {
      "text/html": [
       "<div>\n",
       "<style scoped>\n",
       "    .dataframe tbody tr th:only-of-type {\n",
       "        vertical-align: middle;\n",
       "    }\n",
       "\n",
       "    .dataframe tbody tr th {\n",
       "        vertical-align: top;\n",
       "    }\n",
       "\n",
       "    .dataframe thead th {\n",
       "        text-align: right;\n",
       "    }\n",
       "</style>\n",
       "<table border=\"1\" class=\"dataframe\">\n",
       "  <thead>\n",
       "    <tr style=\"text-align: right;\">\n",
       "      <th></th>\n",
       "      <th>image_number</th>\n",
       "    </tr>\n",
       "  </thead>\n",
       "  <tbody>\n",
       "    <tr>\n",
       "      <th>0</th>\n",
       "      <td>IMG_2129</td>\n",
       "    </tr>\n",
       "    <tr>\n",
       "      <th>1</th>\n",
       "      <td>IMG_2198</td>\n",
       "    </tr>\n",
       "    <tr>\n",
       "      <th>2</th>\n",
       "      <td>IMG_0546</td>\n",
       "    </tr>\n",
       "    <tr>\n",
       "      <th>3</th>\n",
       "      <td>IMG_1079</td>\n",
       "    </tr>\n",
       "    <tr>\n",
       "      <th>4</th>\n",
       "      <td>IMG_0543</td>\n",
       "    </tr>\n",
       "  </tbody>\n",
       "</table>\n",
       "</div>"
      ],
      "text/plain": [
       "  image_number\n",
       "0     IMG_2129\n",
       "1     IMG_2198\n",
       "2     IMG_0546\n",
       "3     IMG_1079\n",
       "4     IMG_0543"
      ]
     },
     "metadata": {},
     "output_type": "display_data"
    }
   ],
   "source": [
    "import pickle\n",
    "import pandas as pd\n",
    "import config\n",
    "\n",
    "#load annotated data\n",
    "with open('/home/etaylor/code_projects/thesis/metadata/images_annotated.pkl', 'rb') as f:\n",
    "    users_annotated_data = pickle.load(f)\n",
    "    \n",
    "users_annotated_df = pd.DataFrame(users_annotated_data, columns=['image_number'])\n",
    "users_annotated_df.head()"
   ]
  },
  {
   "cell_type": "code",
   "execution_count": null,
   "metadata": {},
   "outputs": [
    {
     "name": "stdout",
     "output_type": "stream",
     "text": [
      "Number of records in the annotation tracking metadata file: 55\n",
      "Number of records in the annotation tracking metadata file that are also annotated by users: 50\n"
     ]
    },
    {
     "data": {
      "text/html": [
       "<div>\n",
       "<style scoped>\n",
       "    .dataframe tbody tr th:only-of-type {\n",
       "        vertical-align: middle;\n",
       "    }\n",
       "\n",
       "    .dataframe tbody tr th {\n",
       "        vertical-align: top;\n",
       "    }\n",
       "\n",
       "    .dataframe thead th {\n",
       "        text-align: right;\n",
       "    }\n",
       "</style>\n",
       "<table border=\"1\" class=\"dataframe\">\n",
       "  <thead>\n",
       "    <tr style=\"text-align: right;\">\n",
       "      <th></th>\n",
       "      <th>image_number</th>\n",
       "      <th>annotator</th>\n",
       "      <th>Time</th>\n",
       "      <th>done</th>\n",
       "    </tr>\n",
       "  </thead>\n",
       "  <tbody>\n",
       "    <tr>\n",
       "      <th>0</th>\n",
       "      <td>IMG_2198</td>\n",
       "      <td>dorins</td>\n",
       "      <td>2023-12-15 19:26:10</td>\n",
       "      <td>True</td>\n",
       "    </tr>\n",
       "    <tr>\n",
       "      <th>1</th>\n",
       "      <td>IMG_2153</td>\n",
       "      <td>dorins</td>\n",
       "      <td>2023-12-15 19:26:10</td>\n",
       "      <td>True</td>\n",
       "    </tr>\n",
       "    <tr>\n",
       "      <th>3</th>\n",
       "      <td>IMG_2145</td>\n",
       "      <td>Nirmalka</td>\n",
       "      <td>2023-12-15 19:26:10</td>\n",
       "      <td>True</td>\n",
       "    </tr>\n",
       "    <tr>\n",
       "      <th>4</th>\n",
       "      <td>IMG_2129</td>\n",
       "      <td>Nirmalka</td>\n",
       "      <td>2023-12-15 19:26:10</td>\n",
       "      <td>True</td>\n",
       "    </tr>\n",
       "    <tr>\n",
       "      <th>5</th>\n",
       "      <td>IMG_1875</td>\n",
       "      <td>dorins</td>\n",
       "      <td>2023-12-15 19:26:10</td>\n",
       "      <td>True</td>\n",
       "    </tr>\n",
       "  </tbody>\n",
       "</table>\n",
       "</div>"
      ],
      "text/plain": [
       "  image_number annotator                Time  done\n",
       "0     IMG_2198    dorins 2023-12-15 19:26:10  True\n",
       "1     IMG_2153    dorins 2023-12-15 19:26:10  True\n",
       "3     IMG_2145  Nirmalka 2023-12-15 19:26:10  True\n",
       "4     IMG_2129  Nirmalka 2023-12-15 19:26:10  True\n",
       "5     IMG_1875    dorins 2023-12-15 19:26:10  True"
      ]
     },
     "metadata": {},
     "output_type": "display_data"
    }
   ],
   "source": [
    "\n",
    "# Get the ground truth from the annotated metadata csv\n",
    "annotation_tracking_df = pd.read_csv(config.ANNOTATIONS_TRACKING_METADATA_FILE)\n",
    "\n",
    "# filter all records where done column is True\n",
    "annotation_tracking_df = annotation_tracking_df[annotation_tracking_df.done == True]\n",
    "print(f\"Number of records in the annotation tracking metadata file: {len(annotation_tracking_df)}\")\n",
    "\n",
    "# convert Time column to datetime from strtime\n",
    "annotation_tracking_df['Time'] = pd.to_datetime(annotation_tracking_df['Time'], format='%d-%m-%Y_%H-%M-%S')\n",
    "\n",
    "# filter all records that the image_number are in users_annotated_df or the Time is past 2024\n",
    "annotation_working_df = annotation_tracking_df[annotation_tracking_df.image_number.isin(users_annotated_df.image_number) | (annotation_tracking_df.Time > '2024-01-01')]\n",
    "print(f\"Number of records in the annotation tracking metadata file that are also annotated by users: {len(annotation_working_df)}\")\n",
    "annotation_working_df.head()"
   ]
  },
  {
   "cell_type": "code",
   "execution_count": null,
   "metadata": {},
   "outputs": [
    {
     "name": "stderr",
     "output_type": "stream",
     "text": [
      "INFO:segments.client:Initialized successfully.\n"
     ]
    },
    {
     "name": "stdout",
     "output_type": "stream",
     "text": [
      "get the distribution for image IMG_2198\n",
      "Distribution for image IMG_2198: \n",
      "{'clear': 48, 'cloudy': 148, 'amber': 10}\n",
      "get the distribution for image IMG_2153\n",
      "Distribution for image IMG_2153: \n",
      "{'clear': 38, 'cloudy': 120, 'amber': 28}\n",
      "get the distribution for image IMG_2145\n",
      "Distribution for image IMG_2145: \n",
      "{'clear': 51, 'cloudy': 110, 'amber': 61}\n",
      "get the distribution for image IMG_2129\n",
      "Distribution for image IMG_2129: \n",
      "{'clear': 75, 'cloudy': 216, 'amber': 9}\n",
      "get the distribution for image IMG_1875\n",
      "Distribution for image IMG_1875: \n",
      "{'clear': 7, 'cloudy': 77, 'amber': 9}\n",
      "get the distribution for image IMG_1787\n",
      "Distribution for image IMG_1787: \n",
      "{'clear': 3, 'cloudy': 104, 'amber': 60}\n",
      "get the distribution for image IMG_1857\n",
      "Distribution for image IMG_1857: \n",
      "{'clear': 7, 'cloudy': 163, 'amber': 17}\n",
      "get the distribution for image IMG_1753\n",
      "Distribution for image IMG_1753: \n",
      "{'clear': 74, 'cloudy': 21, 'amber': 0}\n",
      "get the distribution for image IMG_1818\n",
      "Distribution for image IMG_1818: \n",
      "{'clear': 17, 'cloudy': 197, 'amber': 25}\n",
      "get the distribution for image IMG_0014\n",
      "Distribution for image IMG_0014: \n",
      "{'clear': 56, 'cloudy': 54, 'amber': 1}\n",
      "get the distribution for image IMG_0003\n",
      "Distribution for image IMG_0003: \n",
      "{'clear': 130, 'cloudy': 61, 'amber': 0}\n",
      "get the distribution for image IMG_0001\n",
      "Distribution for image IMG_0001: \n",
      "{'clear': 83, 'cloudy': 140, 'amber': 1}\n",
      "get the distribution for image IMG_1093\n",
      "Distribution for image IMG_1093: \n",
      "{'clear': 33, 'cloudy': 143, 'amber': 36}\n",
      "get the distribution for image IMG_1085\n",
      "Distribution for image IMG_1085: \n",
      "{'clear': 9, 'cloudy': 136, 'amber': 5}\n",
      "get the distribution for image IMG_1079\n",
      "Distribution for image IMG_1079: \n",
      "{'clear': 68, 'cloudy': 79, 'amber': 6}\n",
      "get the distribution for image IMG_1082\n",
      "Distribution for image IMG_1082: \n",
      "{'clear': 10, 'cloudy': 86, 'amber': 1}\n",
      "get the distribution for image IMG_0016\n",
      "Distribution for image IMG_0016: \n",
      "{'clear': 77, 'cloudy': 38, 'amber': 0}\n",
      "get the distribution for image IMG_0017\n",
      "Distribution for image IMG_0017: \n",
      "{'clear': 106, 'cloudy': 59, 'amber': 3}\n",
      "get the distribution for image IMG_0540\n",
      "Distribution for image IMG_0540: \n",
      "{'clear': 91, 'cloudy': 54, 'amber': 0}\n",
      "get the distribution for image IMG_0542\n",
      "Distribution for image IMG_0542: \n",
      "{'clear': 36, 'cloudy': 49, 'amber': 0}\n",
      "get the distribution for image IMG_0543\n",
      "Distribution for image IMG_0543: \n",
      "{'clear': 79, 'cloudy': 167, 'amber': 0}\n",
      "get the distribution for image IMG_0545\n",
      "Distribution for image IMG_0545: \n",
      "{'clear': 81, 'cloudy': 74, 'amber': 2}\n",
      "get the distribution for image IMG_0546\n",
      "Distribution for image IMG_0546: \n",
      "{'clear': 25, 'cloudy': 78, 'amber': 2}\n",
      "get the distribution for image IMG_0547\n",
      "Distribution for image IMG_0547: \n",
      "{'clear': 117, 'cloudy': 264, 'amber': 4}\n",
      "get the distribution for image IMG_2242\n",
      "Distribution for image IMG_2242: \n",
      "{'clear': 0, 'cloudy': 35, 'amber': 36}\n",
      "get the distribution for image IMG_2285\n",
      "Distribution for image IMG_2285: \n",
      "{'clear': 30, 'cloudy': 128, 'amber': 12}\n",
      "get the distribution for image IMG_2276\n",
      "Distribution for image IMG_2276: \n",
      "{'clear': 19, 'cloudy': 112, 'amber': 10}\n",
      "get the distribution for image IMG_1182\n",
      "Distribution for image IMG_1182: \n",
      "{'clear': 14, 'cloudy': 65, 'amber': 5}\n",
      "get the distribution for image IMG_0581\n",
      "Distribution for image IMG_0581: \n",
      "{'clear': 97, 'cloudy': 151, 'amber': 0}\n",
      "get the distribution for image IMG_2271\n",
      "Distribution for image IMG_2271: \n",
      "{'clear': 23, 'cloudy': 58, 'amber': 12}\n",
      "get the distribution for image IMG_2235\n",
      "Distribution for image IMG_2235: \n",
      "{'clear': 1, 'cloudy': 42, 'amber': 43}\n",
      "get the distribution for image IMG_1144\n",
      "Distribution for image IMG_1144: \n",
      "{'clear': 6, 'cloudy': 72, 'amber': 0}\n",
      "get the distribution for image IMG_0048\n",
      "Distribution for image IMG_0048: \n",
      "{'clear': 33, 'cloudy': 131, 'amber': 1}\n",
      "get the distribution for image IMG_2167\n",
      "Distribution for image IMG_2167: \n",
      "{'clear': 4, 'cloudy': 35, 'amber': 19}\n",
      "get the distribution for image IMG_2163\n",
      "Distribution for image IMG_2163: \n",
      "{'clear': 14, 'cloudy': 59, 'amber': 24}\n",
      "get the distribution for image IMG_1111\n",
      "Distribution for image IMG_1111: \n",
      "{'clear': 59, 'cloudy': 57, 'amber': 2}\n",
      "get the distribution for image IMG_1096\n",
      "Distribution for image IMG_1096: \n",
      "{'clear': 30, 'cloudy': 121, 'amber': 39}\n",
      "get the distribution for image IMG_9998\n",
      "Distribution for image IMG_9998: \n",
      "{'clear': 109, 'cloudy': 80, 'amber': 0}\n",
      "get the distribution for image IMG_2134\n",
      "Distribution for image IMG_2134: \n",
      "{'clear': 35, 'cloudy': 87, 'amber': 7}\n",
      "get the distribution for image IMG_2157\n",
      "Distribution for image IMG_2157: \n",
      "{'clear': 9, 'cloudy': 73, 'amber': 42}\n",
      "get the distribution for image IMG_1186\n",
      "Distribution for image IMG_1186: \n",
      "{'clear': 65, 'cloudy': 27, 'amber': 1}\n",
      "get the distribution for image IMG_0612\n",
      "Distribution for image IMG_0612: \n",
      "{'clear': 94, 'cloudy': 111, 'amber': 1}\n",
      "get the distribution for image IMG_0045\n",
      "Distribution for image IMG_0045: \n",
      "{'clear': 119, 'cloudy': 100, 'amber': 8}\n",
      "get the distribution for image IMG_0019\n",
      "Distribution for image IMG_0019: \n",
      "{'clear': 144, 'cloudy': 100, 'amber': 4}\n",
      "get the distribution for image IMG_0562\n",
      "Distribution for image IMG_0562: \n",
      "{'clear': 5, 'cloudy': 41, 'amber': 4}\n",
      "get the distribution for image IMG_0572\n",
      "Distribution for image IMG_0572: \n",
      "{'clear': 79, 'cloudy': 65, 'amber': 3}\n",
      "get the distribution for image IMG_1784\n",
      "Distribution for image IMG_1784: \n",
      "{'clear': 130, 'cloudy': 60, 'amber': 4}\n",
      "get the distribution for image IMG_0058\n",
      "Distribution for image IMG_0058: \n",
      "{'clear': 78, 'cloudy': 31, 'amber': 0}\n",
      "get the distribution for image IMG_0597\n",
      "Distribution for image IMG_0597: \n",
      "{'clear': 27, 'cloudy': 7, 'amber': 0}\n",
      "get the distribution for image IMG_1827\n",
      "Distribution for image IMG_1827: \n",
      "{'clear': 43, 'cloudy': 63, 'amber': 18}\n"
     ]
    }
   ],
   "source": [
    "from src.annotation_handling.segmentsai_handler import SegmentsAIHandler\n",
    "segments_handler = SegmentsAIHandler()\n",
    "\n",
    "ground_truth_trichome_distribution = {}\n",
    "# get the trichome distribution for each annotated image dataset\n",
    "for image_number in annotation_working_df.image_number:\n",
    "    print(f\"get the distribution for image {image_number}\")\n",
    "    trichome_distribution = segments_handler.get_trichome_distribution(image_number)\n",
    "    ground_truth_trichome_distribution[image_number] = trichome_distribution\n",
    "    print(f\"Distribution for image {image_number}: \\n{trichome_distribution}\")"
   ]
  },
  {
   "cell_type": "code",
   "execution_count": null,
   "metadata": {},
   "outputs": [
    {
     "data": {
      "text/html": [
       "<div>\n",
       "<style scoped>\n",
       "    .dataframe tbody tr th:only-of-type {\n",
       "        vertical-align: middle;\n",
       "    }\n",
       "\n",
       "    .dataframe tbody tr th {\n",
       "        vertical-align: top;\n",
       "    }\n",
       "\n",
       "    .dataframe thead th {\n",
       "        text-align: right;\n",
       "    }\n",
       "</style>\n",
       "<table border=\"1\" class=\"dataframe\">\n",
       "  <thead>\n",
       "    <tr style=\"text-align: right;\">\n",
       "      <th></th>\n",
       "      <th>image_number</th>\n",
       "      <th>image_path</th>\n",
       "      <th>week_number</th>\n",
       "      <th>clear</th>\n",
       "      <th>cloudy</th>\n",
       "      <th>amber</th>\n",
       "    </tr>\n",
       "  </thead>\n",
       "  <tbody>\n",
       "    <tr>\n",
       "      <th>0</th>\n",
       "      <td>IMG_2198</td>\n",
       "      <td>/sise/home/etaylor/images/raw_images/week9_15_...</td>\n",
       "      <td>week9_15_06_2023</td>\n",
       "      <td>48</td>\n",
       "      <td>148</td>\n",
       "      <td>10</td>\n",
       "    </tr>\n",
       "    <tr>\n",
       "      <th>1</th>\n",
       "      <td>IMG_2153</td>\n",
       "      <td>/sise/home/etaylor/images/raw_images/week9_15_...</td>\n",
       "      <td>week9_15_06_2023</td>\n",
       "      <td>38</td>\n",
       "      <td>120</td>\n",
       "      <td>28</td>\n",
       "    </tr>\n",
       "    <tr>\n",
       "      <th>2</th>\n",
       "      <td>IMG_2145</td>\n",
       "      <td>/sise/home/etaylor/images/raw_images/week9_15_...</td>\n",
       "      <td>week9_15_06_2023</td>\n",
       "      <td>51</td>\n",
       "      <td>110</td>\n",
       "      <td>61</td>\n",
       "    </tr>\n",
       "    <tr>\n",
       "      <th>3</th>\n",
       "      <td>IMG_2129</td>\n",
       "      <td>/sise/home/etaylor/images/raw_images/week9_15_...</td>\n",
       "      <td>week9_15_06_2023</td>\n",
       "      <td>75</td>\n",
       "      <td>216</td>\n",
       "      <td>9</td>\n",
       "    </tr>\n",
       "    <tr>\n",
       "      <th>4</th>\n",
       "      <td>IMG_1875</td>\n",
       "      <td>/sise/home/etaylor/images/raw_images/week8_07_...</td>\n",
       "      <td>week8_07_06_2023</td>\n",
       "      <td>7</td>\n",
       "      <td>77</td>\n",
       "      <td>9</td>\n",
       "    </tr>\n",
       "  </tbody>\n",
       "</table>\n",
       "</div>"
      ],
      "text/plain": [
       "  image_number                                         image_path  \\\n",
       "0     IMG_2198  /sise/home/etaylor/images/raw_images/week9_15_...   \n",
       "1     IMG_2153  /sise/home/etaylor/images/raw_images/week9_15_...   \n",
       "2     IMG_2145  /sise/home/etaylor/images/raw_images/week9_15_...   \n",
       "3     IMG_2129  /sise/home/etaylor/images/raw_images/week9_15_...   \n",
       "4     IMG_1875  /sise/home/etaylor/images/raw_images/week8_07_...   \n",
       "\n",
       "        week_number  clear  cloudy  amber  \n",
       "0  week9_15_06_2023     48     148     10  \n",
       "1  week9_15_06_2023     38     120     28  \n",
       "2  week9_15_06_2023     51     110     61  \n",
       "3  week9_15_06_2023     75     216      9  \n",
       "4  week8_07_06_2023      7      77      9  "
      ]
     },
     "metadata": {},
     "output_type": "display_data"
    }
   ],
   "source": [
    "# organize the ground truth to a df\n",
    "images_annotations = []\n",
    "# create a csv file for each image path and the trichome value\n",
    "for image_number, image_dist in ground_truth_trichome_distribution.items():\n",
    "    image_path = config.get_image_path(image_number)\n",
    "    week, zoom_type = config.find_image_details(image_number)\n",
    "    images_annotations.append({\"image_number\": image_number,\n",
    "                                \"image_path\":image_path,\n",
    "                                \"week_number\": week,\n",
    "                                \"clear\": image_dist.get(\"clear\", 0),\n",
    "                                \"cloudy\": image_dist.get(\"cloudy\", 0),\n",
    "                                \"amber\": image_dist.get(\"amber\", 0)})\n",
    "ground_truth_df = pd.DataFrame(images_annotations)\n",
    "\n",
    "# save the ground_truth_df to a csv file with timestamp\n",
    "ground_truth_df.to_csv(GROUND_TRUTH_METADATA_FILE, index=False)\n",
    "\n",
    "ground_truth_df.head()"
   ]
  },
  {
   "cell_type": "code",
   "execution_count": null,
   "metadata": {},
   "outputs": [
    {
     "data": {
      "text/plain": [
       "week_number\n",
       "week9_15_06_2023    13\n",
       "week6_22_05_2023    11\n",
       "week5_18_05_2023    10\n",
       "week7_01_06_2023     9\n",
       "week8_07_06_2023     7\n",
       "Name: count, dtype: int64"
      ]
     },
     "metadata": {},
     "output_type": "display_data"
    }
   ],
   "source": [
    "ground_truth_df['week_number'].value_counts()"
   ]
  },
  {
   "cell_type": "markdown",
   "metadata": {},
   "source": [
    "### Preprocess patches of the train and test data for infrence with the models"
   ]
  },
  {
   "cell_type": "code",
   "execution_count": 4,
   "metadata": {},
   "outputs": [],
   "source": [
    "from src.pipelines.preprocessing_pipeline import preprocess_single_image\n",
    "\n",
    "\n",
    "# preprocess each image in the df to a dict\n",
    "preprocessed_images = {}\n",
    "\n",
    "for index, row in ground_truth_df.iterrows():\n",
    "    image_number = row[\"image_number\"]\n",
    "    image_path = row[\"image_path\"]\n",
    "    preprocessed_image = preprocess_single_image(image_path, image_number)\n",
    "    preprocessed_images[image_number] = preprocessed_image\n"
   ]
  },
  {
   "cell_type": "markdown",
   "metadata": {},
   "source": [
    "### Evaluation Function\n",
    "\n",
    "Here we should add all the eval functions.\n",
    "We should use both classification and regression metrics.\n",
    "For the classification we will use precision, recall, mAP, Confusion Matrix\n",
    "We should use RMSE,MSE, MAE, R-squared"
   ]
  },
  {
   "cell_type": "code",
   "execution_count": 5,
   "metadata": {},
   "outputs": [],
   "source": [
    "import numpy as np\n",
    "\n",
    "def calculate_rmse(ground_truth_df, preds_df):\n",
    "    # Merge the DataFrames on the image_number column\n",
    "    merged_df = pd.merge(ground_truth_df, preds_df, on=\"image_number\", suffixes=('_actual', '_pred'))\n",
    "\n",
    "    # Calculate squared differences for each trichome type\n",
    "    merged_df['clear_diff'] = (merged_df['clear_actual'] - merged_df['clear_pred']) ** 2\n",
    "    merged_df['cloudy_diff'] = (merged_df['cloudy_actual'] - merged_df['cloudy_pred']) ** 2\n",
    "    merged_df['amber_diff'] = (merged_df['amber_actual'] - merged_df['amber_pred']) ** 2\n",
    "\n",
    "    # Calculate RMSE for each trichome type\n",
    "    rmse_clear = np.sqrt(merged_df['clear_diff'].mean())\n",
    "    rmse_cloudy = np.sqrt(merged_df['cloudy_diff'].mean())\n",
    "    rmse_amber = np.sqrt(merged_df['amber_diff'].mean())\n",
    "\n",
    "    # Calculate overall RMSE\n",
    "    merged_df['total_diff'] = merged_df[['clear_diff', 'cloudy_diff', 'amber_diff']].sum(axis=1)\n",
    "    overall_rmse = np.sqrt(merged_df['total_diff'].mean())\n",
    "\n",
    "    # Return a dictionary containing RMSE for each class and the overall RMSE\n",
    "    return {\n",
    "        \"RMSE Clear\": rmse_clear,\n",
    "        \"RMSE Cloudy\": rmse_cloudy,\n",
    "        \"RMSE Amber\": rmse_amber,\n",
    "        \"Overall RMSE\": overall_rmse\n",
    "    }"
   ]
  },
  {
   "cell_type": "markdown",
   "metadata": {},
   "source": [
    "### Inference Using Detectron2 Mask RCNN"
   ]
  },
  {
   "cell_type": "code",
   "execution_count": 6,
   "metadata": {},
   "outputs": [
    {
     "name": "stderr",
     "output_type": "stream",
     "text": [
      "WARNING:fvcore.common.config:Loading config /home/etaylor/code_projects/thesis/checkpoints/detectron2/COCO-InstanceSegmentation/mask_rcnn_R_50_FPN_3x/30-12-2023_12-34-05_all_train_images/config.yaml with yaml.unsafe_load. Your machine may be at risk if the file contains malicious content.\n"
     ]
    },
    {
     "name": "stdout",
     "output_type": "stream",
     "text": [
      "\u001b[32m[04/19 19:32:50 d2.checkpoint.detection_checkpoint]: \u001b[0m[DetectionCheckpointer] Loading from /home/etaylor/code_projects/thesis/checkpoints/detectron2/COCO-InstanceSegmentation/mask_rcnn_R_50_FPN_3x/30-12-2023_12-34-05_all_train_images/model_final.pth ...\n"
     ]
    },
    {
     "name": "stderr",
     "output_type": "stream",
     "text": [
      "INFO:fvcore.common.checkpoint:[Checkpointer] Loading from /home/etaylor/code_projects/thesis/checkpoints/detectron2/COCO-InstanceSegmentation/mask_rcnn_R_50_FPN_3x/30-12-2023_12-34-05_all_train_images/model_final.pth ...\n"
     ]
    }
   ],
   "source": [
    "# Setup detectron2 logger\n",
    "from detectron2.utils.logger import setup_logger\n",
    "setup_logger()\n",
    "\n",
    "from detectron2.config import get_cfg\n",
    "from detectron2.engine import DefaultPredictor\n",
    "\n",
    "# load the best model config and weights\n",
    "checkpoint_path = \"/home/etaylor/code_projects/thesis/checkpoints/detectron2/COCO-InstanceSegmentation/mask_rcnn_R_50_FPN_3x/30-12-2023_12-34-05_all_train_images/model_final.pth\"\n",
    "config_yaml_path = \"/home/etaylor/code_projects/thesis/checkpoints/detectron2/COCO-InstanceSegmentation/mask_rcnn_R_50_FPN_3x/30-12-2023_12-34-05_all_train_images/config.yaml\"\n",
    "cfg = get_cfg()\n",
    "# load config\n",
    "cfg.merge_from_file(config_yaml_path)\n",
    "# define predictor\n",
    "# load checkpoint\n",
    "cfg.MODEL.WEIGHTS = checkpoint_path\n",
    "cfg.MODEL.ROI_HEADS.SCORE_THRESH_TEST = 0.5\n",
    "predictor = DefaultPredictor(cfg)"
   ]
  },
  {
   "cell_type": "code",
   "execution_count": 10,
   "metadata": {},
   "outputs": [],
   "source": [
    "def detect_trichome_dist_with_detectron(image_number, preprocessed_image, predictor):\n",
    "    \n",
    "    class_counts = {'clear': 0, 'cloudy': 0, 'amber': 0}\n",
    "    \n",
    "    # get the prediction\n",
    "    for image, _ in preprocessed_image[image_number]:\n",
    "        # predict the image\n",
    "        outputs = predictor(image)\n",
    "        \n",
    "        # Extract predictions\n",
    "        pred_classes = outputs['instances'].pred_classes.cpu().tolist()\n",
    "        \n",
    "        for class_id in pred_classes:\n",
    "            class_counts[config.ANNOTATIONS_CLASS_MAPPINGS[class_id]] += 1\n",
    "            \n",
    "    return class_counts"
   ]
  },
  {
   "cell_type": "code",
   "execution_count": 21,
   "metadata": {},
   "outputs": [
    {
     "name": "stdout",
     "output_type": "stream",
     "text": [
      "Predicting image IMG_2129\n",
      "Predicting image IMG_2198\n",
      "Predicting image IMG_0546\n",
      "Predicting image IMG_1079\n",
      "Predicting image IMG_0543\n",
      "Predicting image IMG_1818\n",
      "Predicting image IMG_0540\n",
      "Predicting image IMG_2153\n",
      "Predicting image IMG_0016\n",
      "Predicting image IMG_0542\n",
      "Predicting image IMG_1085\n",
      "Predicting image IMG_0014\n",
      "Predicting image IMG_1875\n",
      "Predicting image IMG_1857\n",
      "Predicting image IMG_0545\n",
      "Predicting image IMG_2285\n",
      "Predicting image IMG_2242\n",
      "Predicting image IMG_1787\n",
      "Predicting image IMG_1082\n",
      "Predicting image IMG_0017\n",
      "Predicting image IMG_1753\n",
      "Predicting image IMG_0003\n",
      "Predicting image IMG_2145\n",
      "Predicting image IMG_1093\n",
      "Predicting image IMG_0547\n",
      "Predicting image IMG_0001\n"
     ]
    },
    {
     "data": {
      "text/html": [
       "<div>\n",
       "<style scoped>\n",
       "    .dataframe tbody tr th:only-of-type {\n",
       "        vertical-align: middle;\n",
       "    }\n",
       "\n",
       "    .dataframe tbody tr th {\n",
       "        vertical-align: top;\n",
       "    }\n",
       "\n",
       "    .dataframe thead th {\n",
       "        text-align: right;\n",
       "    }\n",
       "</style>\n",
       "<table border=\"1\" class=\"dataframe\">\n",
       "  <thead>\n",
       "    <tr style=\"text-align: right;\">\n",
       "      <th></th>\n",
       "      <th>image_number</th>\n",
       "      <th>clear</th>\n",
       "      <th>cloudy</th>\n",
       "      <th>amber</th>\n",
       "    </tr>\n",
       "  </thead>\n",
       "  <tbody>\n",
       "    <tr>\n",
       "      <th>0</th>\n",
       "      <td>IMG_2129</td>\n",
       "      <td>86</td>\n",
       "      <td>245</td>\n",
       "      <td>16</td>\n",
       "    </tr>\n",
       "    <tr>\n",
       "      <th>1</th>\n",
       "      <td>IMG_2198</td>\n",
       "      <td>48</td>\n",
       "      <td>175</td>\n",
       "      <td>11</td>\n",
       "    </tr>\n",
       "    <tr>\n",
       "      <th>2</th>\n",
       "      <td>IMG_0546</td>\n",
       "      <td>69</td>\n",
       "      <td>76</td>\n",
       "      <td>3</td>\n",
       "    </tr>\n",
       "    <tr>\n",
       "      <th>3</th>\n",
       "      <td>IMG_1079</td>\n",
       "      <td>88</td>\n",
       "      <td>109</td>\n",
       "      <td>5</td>\n",
       "    </tr>\n",
       "    <tr>\n",
       "      <th>4</th>\n",
       "      <td>IMG_0543</td>\n",
       "      <td>98</td>\n",
       "      <td>188</td>\n",
       "      <td>4</td>\n",
       "    </tr>\n",
       "  </tbody>\n",
       "</table>\n",
       "</div>"
      ],
      "text/plain": [
       "  image_number  clear  cloudy  amber\n",
       "0     IMG_2129     86     245     16\n",
       "1     IMG_2198     48     175     11\n",
       "2     IMG_0546     69      76      3\n",
       "3     IMG_1079     88     109      5\n",
       "4     IMG_0543     98     188      4"
      ]
     },
     "execution_count": 21,
     "metadata": {},
     "output_type": "execute_result"
    }
   ],
   "source": [
    "# create predictions pandas dataframe using detectron2\n",
    "detectron_preds = []\n",
    "for image_number in preprocessed_images:\n",
    "    print(f\"Predicting image {image_number}\")\n",
    "    trichome_dist = detect_trichome_dist_with_detectron(image_number, preprocessed_images, predictor)\n",
    "    detectron_preds.append({\"image_number\": image_number,\n",
    "                            \"clear\": trichome_dist[\"clear\"],\n",
    "                            \"cloudy\": trichome_dist[\"cloudy\"],\n",
    "                            \"amber\": trichome_dist[\"amber\"]})\n",
    "\n",
    "detectron_preds_df = pd.DataFrame(detectron_preds)\n",
    "detectron_preds_df.head()"
   ]
  },
  {
   "cell_type": "code",
   "execution_count": 23,
   "metadata": {},
   "outputs": [
    {
     "name": "stdout",
     "output_type": "stream",
     "text": [
      "{'RMSE Clear': 29.454005865730075, 'RMSE Cloudy': 26.70061941085032, 'RMSE Amber': 8.833938053804856, 'Overall RMSE': 40.72468538859447}\n"
     ]
    }
   ],
   "source": [
    "rmse_results = calculate_rmse(ground_truth_df, detectron_preds_df)\n",
    "print(rmse_results)"
   ]
  },
  {
   "cell_type": "markdown",
   "metadata": {},
   "source": [
    "### Inference Using RT DETR"
   ]
  },
  {
   "cell_type": "code",
   "execution_count": 6,
   "metadata": {},
   "outputs": [],
   "source": [
    "from ultralytics import RTDETR\n",
    "\n",
    "model_checkpoint_path = '/home/etaylor/code_projects/thesis/src/segmentation/notebooks/YOLO/runs/detect/RT_DETR_train9/weights/best.pt'\n",
    "model = RTDETR(model_checkpoint_path)"
   ]
  },
  {
   "cell_type": "code",
   "execution_count": 7,
   "metadata": {},
   "outputs": [
    {
     "name": "stdout",
     "output_type": "stream",
     "text": [
      "\n",
      "0: 512x512 8 clears, 44 cloudys, 1 amber, 76.6ms\n",
      "Speed: 2.0ms preprocess, 76.6ms inference, 15.5ms postprocess per image at shape (1, 3, 512, 512)\n"
     ]
    }
   ],
   "source": [
    "results = model(preprocessed_images['IMG_0001'][5][0], imgsz=512)"
   ]
  },
  {
   "cell_type": "code",
   "execution_count": 8,
   "metadata": {},
   "outputs": [],
   "source": [
    "def detect_trichome_dist_with_ultralytics(image_number, preprocessed_image, predictor):\n",
    "    \n",
    "    class_counts = {'clear': 0, 'cloudy': 0, 'amber': 0}\n",
    "    \n",
    "    ultralytics_mapping_dict = {0: 'clear', 1: 'cloudy', 2: 'amber'}\n",
    "    \n",
    "    # get the prediction\n",
    "    for image, _ in preprocessed_image[image_number]:\n",
    "        # predict the image\n",
    "        outputs = predictor(image, imgsz=512, verbose=False)\n",
    "        \n",
    "        for pred in outputs:\n",
    "            for c in pred.boxes.cls:\n",
    "                class_counts[ultralytics_mapping_dict[int(c)]] += 1\n",
    "            \n",
    "    return class_counts"
   ]
  },
  {
   "cell_type": "code",
   "execution_count": 19,
   "metadata": {},
   "outputs": [
    {
     "name": "stdout",
     "output_type": "stream",
     "text": [
      "Predicting image IMG_2129\n"
     ]
    },
    {
     "name": "stdout",
     "output_type": "stream",
     "text": [
      "Predicting image IMG_2198\n",
      "Predicting image IMG_0546\n",
      "Predicting image IMG_1079\n",
      "Predicting image IMG_0543\n",
      "Predicting image IMG_1818\n",
      "Predicting image IMG_0540\n",
      "Predicting image IMG_2153\n",
      "Predicting image IMG_0016\n",
      "Predicting image IMG_0542\n",
      "Predicting image IMG_1085\n",
      "Predicting image IMG_0014\n",
      "Predicting image IMG_1875\n",
      "Predicting image IMG_1857\n",
      "Predicting image IMG_0545\n",
      "Predicting image IMG_2285\n",
      "Predicting image IMG_2242\n",
      "Predicting image IMG_1787\n",
      "Predicting image IMG_1082\n",
      "Predicting image IMG_0017\n",
      "Predicting image IMG_1753\n",
      "Predicting image IMG_0003\n",
      "Predicting image IMG_2145\n",
      "Predicting image IMG_1093\n",
      "Predicting image IMG_0547\n",
      "Predicting image IMG_0001\n"
     ]
    },
    {
     "data": {
      "text/html": [
       "<div>\n",
       "<style scoped>\n",
       "    .dataframe tbody tr th:only-of-type {\n",
       "        vertical-align: middle;\n",
       "    }\n",
       "\n",
       "    .dataframe tbody tr th {\n",
       "        vertical-align: top;\n",
       "    }\n",
       "\n",
       "    .dataframe thead th {\n",
       "        text-align: right;\n",
       "    }\n",
       "</style>\n",
       "<table border=\"1\" class=\"dataframe\">\n",
       "  <thead>\n",
       "    <tr style=\"text-align: right;\">\n",
       "      <th></th>\n",
       "      <th>image_number</th>\n",
       "      <th>clear</th>\n",
       "      <th>cloudy</th>\n",
       "      <th>amber</th>\n",
       "    </tr>\n",
       "  </thead>\n",
       "  <tbody>\n",
       "    <tr>\n",
       "      <th>0</th>\n",
       "      <td>IMG_2129</td>\n",
       "      <td>56</td>\n",
       "      <td>254</td>\n",
       "      <td>43</td>\n",
       "    </tr>\n",
       "    <tr>\n",
       "      <th>1</th>\n",
       "      <td>IMG_2198</td>\n",
       "      <td>26</td>\n",
       "      <td>243</td>\n",
       "      <td>30</td>\n",
       "    </tr>\n",
       "    <tr>\n",
       "      <th>2</th>\n",
       "      <td>IMG_0546</td>\n",
       "      <td>29</td>\n",
       "      <td>110</td>\n",
       "      <td>35</td>\n",
       "    </tr>\n",
       "    <tr>\n",
       "      <th>3</th>\n",
       "      <td>IMG_1079</td>\n",
       "      <td>60</td>\n",
       "      <td>223</td>\n",
       "      <td>13</td>\n",
       "    </tr>\n",
       "    <tr>\n",
       "      <th>4</th>\n",
       "      <td>IMG_0543</td>\n",
       "      <td>51</td>\n",
       "      <td>232</td>\n",
       "      <td>31</td>\n",
       "    </tr>\n",
       "  </tbody>\n",
       "</table>\n",
       "</div>"
      ],
      "text/plain": [
       "  image_number  clear  cloudy  amber\n",
       "0     IMG_2129     56     254     43\n",
       "1     IMG_2198     26     243     30\n",
       "2     IMG_0546     29     110     35\n",
       "3     IMG_1079     60     223     13\n",
       "4     IMG_0543     51     232     31"
      ]
     },
     "execution_count": 19,
     "metadata": {},
     "output_type": "execute_result"
    }
   ],
   "source": [
    "# create predictions pandas dataframe using detectron2\n",
    "RT_DETR_preds = []\n",
    "for image_number in preprocessed_images:\n",
    "    print(f\"Predicting image {image_number}\")\n",
    "    trichome_dist = detect_trichome_dist_with_ultralytics(image_number, preprocessed_images, model)\n",
    "    RT_DETR_preds.append({\"image_number\": image_number,\n",
    "                            \"clear\": trichome_dist[\"clear\"],\n",
    "                            \"cloudy\": trichome_dist[\"cloudy\"],\n",
    "                            \"amber\": trichome_dist[\"amber\"]})\n",
    "\n",
    "RT_DETR_preds_df = pd.DataFrame(RT_DETR_preds)\n",
    "RT_DETR_preds_df.head()"
   ]
  },
  {
   "cell_type": "code",
   "execution_count": 20,
   "metadata": {},
   "outputs": [
    {
     "name": "stdout",
     "output_type": "stream",
     "text": [
      "{'RMSE Clear': 23.456178454563048, 'RMSE Cloudy': 82.99397568498571, 'RMSE Amber': 23.17657969058088, 'Overall RMSE': 89.30479356588958}\n"
     ]
    }
   ],
   "source": [
    "rmse_results = calculate_rmse(ground_truth_df, RT_DETR_preds_df)\n",
    "print(rmse_results)"
   ]
  },
  {
   "cell_type": "markdown",
   "metadata": {},
   "source": [
    "### Inference Using Yolo V5"
   ]
  },
  {
   "cell_type": "code",
   "execution_count": 11,
   "metadata": {},
   "outputs": [],
   "source": [
    "from ultralytics import YOLO\n",
    "\n",
    "model_yolov5_checkpoint_path = '/home/etaylor/code_projects/thesis/src/segmentation/notebooks/YOLO/runs/detect/YOLOV5_train8/weights/best.pt'\n",
    "model_yolov5 = YOLO(model_yolov5_checkpoint_path)"
   ]
  },
  {
   "cell_type": "code",
   "execution_count": 12,
   "metadata": {},
   "outputs": [
    {
     "name": "stdout",
     "output_type": "stream",
     "text": [
      "Predicting image IMG_2129\n",
      "Predicting image IMG_2198\n",
      "Predicting image IMG_0546\n",
      "Predicting image IMG_1079\n",
      "Predicting image IMG_0543\n",
      "Predicting image IMG_1818\n",
      "Predicting image IMG_0540\n",
      "Predicting image IMG_2153\n",
      "Predicting image IMG_0016\n",
      "Predicting image IMG_0542\n",
      "Predicting image IMG_1085\n",
      "Predicting image IMG_0014\n",
      "Predicting image IMG_1875\n",
      "Predicting image IMG_1857\n",
      "Predicting image IMG_0545\n",
      "Predicting image IMG_2285\n",
      "Predicting image IMG_2242\n",
      "Predicting image IMG_1787\n",
      "Predicting image IMG_1082\n",
      "Predicting image IMG_0017\n",
      "Predicting image IMG_1753\n",
      "Predicting image IMG_0003\n",
      "Predicting image IMG_2145\n",
      "Predicting image IMG_1093\n",
      "Predicting image IMG_0547\n",
      "Predicting image IMG_0001\n"
     ]
    },
    {
     "data": {
      "text/html": [
       "<div>\n",
       "<style scoped>\n",
       "    .dataframe tbody tr th:only-of-type {\n",
       "        vertical-align: middle;\n",
       "    }\n",
       "\n",
       "    .dataframe tbody tr th {\n",
       "        vertical-align: top;\n",
       "    }\n",
       "\n",
       "    .dataframe thead th {\n",
       "        text-align: right;\n",
       "    }\n",
       "</style>\n",
       "<table border=\"1\" class=\"dataframe\">\n",
       "  <thead>\n",
       "    <tr style=\"text-align: right;\">\n",
       "      <th></th>\n",
       "      <th>image_number</th>\n",
       "      <th>clear</th>\n",
       "      <th>cloudy</th>\n",
       "      <th>amber</th>\n",
       "    </tr>\n",
       "  </thead>\n",
       "  <tbody>\n",
       "    <tr>\n",
       "      <th>0</th>\n",
       "      <td>IMG_2129</td>\n",
       "      <td>112</td>\n",
       "      <td>283</td>\n",
       "      <td>17</td>\n",
       "    </tr>\n",
       "    <tr>\n",
       "      <th>1</th>\n",
       "      <td>IMG_2198</td>\n",
       "      <td>65</td>\n",
       "      <td>216</td>\n",
       "      <td>15</td>\n",
       "    </tr>\n",
       "    <tr>\n",
       "      <th>2</th>\n",
       "      <td>IMG_0546</td>\n",
       "      <td>58</td>\n",
       "      <td>115</td>\n",
       "      <td>11</td>\n",
       "    </tr>\n",
       "    <tr>\n",
       "      <th>3</th>\n",
       "      <td>IMG_1079</td>\n",
       "      <td>101</td>\n",
       "      <td>172</td>\n",
       "      <td>8</td>\n",
       "    </tr>\n",
       "    <tr>\n",
       "      <th>4</th>\n",
       "      <td>IMG_0543</td>\n",
       "      <td>90</td>\n",
       "      <td>259</td>\n",
       "      <td>7</td>\n",
       "    </tr>\n",
       "  </tbody>\n",
       "</table>\n",
       "</div>"
      ],
      "text/plain": [
       "  image_number  clear  cloudy  amber\n",
       "0     IMG_2129    112     283     17\n",
       "1     IMG_2198     65     216     15\n",
       "2     IMG_0546     58     115     11\n",
       "3     IMG_1079    101     172      8\n",
       "4     IMG_0543     90     259      7"
      ]
     },
     "execution_count": 12,
     "metadata": {},
     "output_type": "execute_result"
    }
   ],
   "source": [
    "# create predictions pandas dataframe using detectron2\n",
    "yolov5_preds = []\n",
    "for image_number in preprocessed_images:\n",
    "    print(f\"Predicting image {image_number}\")\n",
    "    trichome_dist = detect_trichome_dist_with_ultralytics(image_number, preprocessed_images, model_yolov5)\n",
    "    yolov5_preds.append({\"image_number\": image_number,\n",
    "                            \"clear\": trichome_dist[\"clear\"],\n",
    "                            \"cloudy\": trichome_dist[\"cloudy\"],\n",
    "                            \"amber\": trichome_dist[\"amber\"]})\n",
    "\n",
    "yolov5_preds_df = pd.DataFrame(yolov5_preds)\n",
    "yolov5_preds_df.head()"
   ]
  },
  {
   "cell_type": "code",
   "execution_count": 13,
   "metadata": {},
   "outputs": [
    {
     "name": "stdout",
     "output_type": "stream",
     "text": [
      "{'RMSE Clear': 33.27681105283609, 'RMSE Cloudy': 70.24380618739497, 'RMSE Amber': 11.924441609245596, 'Overall RMSE': 78.63670115938721}\n"
     ]
    }
   ],
   "source": [
    "rmse_results = calculate_rmse(ground_truth_df, yolov5_preds_df)\n",
    "print(rmse_results)"
   ]
  },
  {
   "cell_type": "markdown",
   "metadata": {},
   "source": [
    "### Inference Using Yolo V8"
   ]
  },
  {
   "cell_type": "code",
   "execution_count": 21,
   "metadata": {},
   "outputs": [],
   "source": [
    "from ultralytics import YOLO\n",
    "\n",
    "model_yolov8_checkpoint_path = '/home/etaylor/code_projects/thesis/src/segmentation/notebooks/YOLO/runs/detect/YOLOV8_train2/weights/best.pt'\n",
    "model_yolov8 = YOLO(model_yolov8_checkpoint_path)"
   ]
  },
  {
   "cell_type": "code",
   "execution_count": 22,
   "metadata": {},
   "outputs": [
    {
     "name": "stdout",
     "output_type": "stream",
     "text": [
      "Predicting image IMG_2129\n",
      "Predicting image IMG_2198\n",
      "Predicting image IMG_0546\n",
      "Predicting image IMG_1079\n",
      "Predicting image IMG_0543\n",
      "Predicting image IMG_1818\n",
      "Predicting image IMG_0540\n",
      "Predicting image IMG_2153\n",
      "Predicting image IMG_0016\n",
      "Predicting image IMG_0542\n",
      "Predicting image IMG_1085\n",
      "Predicting image IMG_0014\n",
      "Predicting image IMG_1875\n",
      "Predicting image IMG_1857\n",
      "Predicting image IMG_0545\n",
      "Predicting image IMG_2285\n",
      "Predicting image IMG_2242\n",
      "Predicting image IMG_1787\n",
      "Predicting image IMG_1082\n",
      "Predicting image IMG_0017\n",
      "Predicting image IMG_1753\n",
      "Predicting image IMG_0003\n",
      "Predicting image IMG_2145\n",
      "Predicting image IMG_1093\n",
      "Predicting image IMG_0547\n",
      "Predicting image IMG_0001\n"
     ]
    },
    {
     "data": {
      "text/html": [
       "<div>\n",
       "<style scoped>\n",
       "    .dataframe tbody tr th:only-of-type {\n",
       "        vertical-align: middle;\n",
       "    }\n",
       "\n",
       "    .dataframe tbody tr th {\n",
       "        vertical-align: top;\n",
       "    }\n",
       "\n",
       "    .dataframe thead th {\n",
       "        text-align: right;\n",
       "    }\n",
       "</style>\n",
       "<table border=\"1\" class=\"dataframe\">\n",
       "  <thead>\n",
       "    <tr style=\"text-align: right;\">\n",
       "      <th></th>\n",
       "      <th>image_number</th>\n",
       "      <th>clear</th>\n",
       "      <th>cloudy</th>\n",
       "      <th>amber</th>\n",
       "    </tr>\n",
       "  </thead>\n",
       "  <tbody>\n",
       "    <tr>\n",
       "      <th>0</th>\n",
       "      <td>IMG_2129</td>\n",
       "      <td>156</td>\n",
       "      <td>233</td>\n",
       "      <td>15</td>\n",
       "    </tr>\n",
       "    <tr>\n",
       "      <th>1</th>\n",
       "      <td>IMG_2198</td>\n",
       "      <td>51</td>\n",
       "      <td>247</td>\n",
       "      <td>10</td>\n",
       "    </tr>\n",
       "    <tr>\n",
       "      <th>2</th>\n",
       "      <td>IMG_0546</td>\n",
       "      <td>53</td>\n",
       "      <td>120</td>\n",
       "      <td>4</td>\n",
       "    </tr>\n",
       "    <tr>\n",
       "      <th>3</th>\n",
       "      <td>IMG_1079</td>\n",
       "      <td>72</td>\n",
       "      <td>154</td>\n",
       "      <td>5</td>\n",
       "    </tr>\n",
       "    <tr>\n",
       "      <th>4</th>\n",
       "      <td>IMG_0543</td>\n",
       "      <td>82</td>\n",
       "      <td>228</td>\n",
       "      <td>3</td>\n",
       "    </tr>\n",
       "  </tbody>\n",
       "</table>\n",
       "</div>"
      ],
      "text/plain": [
       "  image_number  clear  cloudy  amber\n",
       "0     IMG_2129    156     233     15\n",
       "1     IMG_2198     51     247     10\n",
       "2     IMG_0546     53     120      4\n",
       "3     IMG_1079     72     154      5\n",
       "4     IMG_0543     82     228      3"
      ]
     },
     "execution_count": 22,
     "metadata": {},
     "output_type": "execute_result"
    }
   ],
   "source": [
    "# create predictions pandas dataframe using detectron2\n",
    "yolov8_preds = []\n",
    "for image_number in preprocessed_images:\n",
    "    print(f\"Predicting image {image_number}\")\n",
    "    trichome_dist = detect_trichome_dist_with_ultralytics(image_number, preprocessed_images, model_yolov8)\n",
    "    yolov8_preds.append({\"image_number\": image_number,\n",
    "                            \"clear\": trichome_dist[\"clear\"],\n",
    "                            \"cloudy\": trichome_dist[\"cloudy\"],\n",
    "                            \"amber\": trichome_dist[\"amber\"]})\n",
    "\n",
    "yolov8_preds_df = pd.DataFrame(yolov8_preds)\n",
    "yolov8_preds_df.head()"
   ]
  },
  {
   "cell_type": "code",
   "execution_count": 23,
   "metadata": {},
   "outputs": [
    {
     "name": "stdout",
     "output_type": "stream",
     "text": [
      "{'RMSE Clear': 45.738806953597525, 'RMSE Cloudy': 44.85446551819648, 'RMSE Amber': 11.283071049483484, 'Overall RMSE': 65.04820697582086}\n"
     ]
    }
   ],
   "source": [
    "rmse_results = calculate_rmse(ground_truth_df, yolov8_preds_df)\n",
    "print(rmse_results)"
   ]
  },
  {
   "cell_type": "markdown",
   "metadata": {},
   "source": [
    "### Inference Using Yolo V9"
   ]
  },
  {
   "cell_type": "code",
   "execution_count": 6,
   "metadata": {},
   "outputs": [],
   "source": [
    "from ultralytics import YOLO\n",
    "\n",
    "model_yolov9_checkpoint_path = '/home/etaylor/code_projects/thesis/src/segmentation/notebooks/YOLO/runs/detect/YOLOV9_train7/weights/best.pt'\n",
    "model_yolov9 = YOLO(model_yolov9_checkpoint_path)"
   ]
  },
  {
   "cell_type": "code",
   "execution_count": 9,
   "metadata": {},
   "outputs": [
    {
     "name": "stdout",
     "output_type": "stream",
     "text": [
      "Predicting image IMG_2129\n",
      "Predicting image IMG_2198\n",
      "Predicting image IMG_0546\n",
      "Predicting image IMG_1079\n",
      "Predicting image IMG_0543\n",
      "Predicting image IMG_1818\n",
      "Predicting image IMG_0540\n",
      "Predicting image IMG_2153\n",
      "Predicting image IMG_0016\n",
      "Predicting image IMG_0542\n",
      "Predicting image IMG_1085\n",
      "Predicting image IMG_0014\n",
      "Predicting image IMG_1875\n",
      "Predicting image IMG_1857\n",
      "Predicting image IMG_0545\n",
      "Predicting image IMG_2285\n",
      "Predicting image IMG_2242\n",
      "Predicting image IMG_1787\n",
      "Predicting image IMG_1082\n",
      "Predicting image IMG_0017\n",
      "Predicting image IMG_1753\n",
      "Predicting image IMG_0003\n",
      "Predicting image IMG_2145\n",
      "Predicting image IMG_1093\n",
      "Predicting image IMG_0547\n",
      "Predicting image IMG_0001\n"
     ]
    },
    {
     "data": {
      "text/html": [
       "<div>\n",
       "<style scoped>\n",
       "    .dataframe tbody tr th:only-of-type {\n",
       "        vertical-align: middle;\n",
       "    }\n",
       "\n",
       "    .dataframe tbody tr th {\n",
       "        vertical-align: top;\n",
       "    }\n",
       "\n",
       "    .dataframe thead th {\n",
       "        text-align: right;\n",
       "    }\n",
       "</style>\n",
       "<table border=\"1\" class=\"dataframe\">\n",
       "  <thead>\n",
       "    <tr style=\"text-align: right;\">\n",
       "      <th></th>\n",
       "      <th>image_number</th>\n",
       "      <th>clear</th>\n",
       "      <th>cloudy</th>\n",
       "      <th>amber</th>\n",
       "    </tr>\n",
       "  </thead>\n",
       "  <tbody>\n",
       "    <tr>\n",
       "      <th>0</th>\n",
       "      <td>IMG_2129</td>\n",
       "      <td>59</td>\n",
       "      <td>218</td>\n",
       "      <td>47</td>\n",
       "    </tr>\n",
       "    <tr>\n",
       "      <th>1</th>\n",
       "      <td>IMG_2198</td>\n",
       "      <td>22</td>\n",
       "      <td>246</td>\n",
       "      <td>18</td>\n",
       "    </tr>\n",
       "    <tr>\n",
       "      <th>2</th>\n",
       "      <td>IMG_0546</td>\n",
       "      <td>44</td>\n",
       "      <td>111</td>\n",
       "      <td>22</td>\n",
       "    </tr>\n",
       "    <tr>\n",
       "      <th>3</th>\n",
       "      <td>IMG_1079</td>\n",
       "      <td>73</td>\n",
       "      <td>198</td>\n",
       "      <td>13</td>\n",
       "    </tr>\n",
       "    <tr>\n",
       "      <th>4</th>\n",
       "      <td>IMG_0543</td>\n",
       "      <td>40</td>\n",
       "      <td>196</td>\n",
       "      <td>26</td>\n",
       "    </tr>\n",
       "  </tbody>\n",
       "</table>\n",
       "</div>"
      ],
      "text/plain": [
       "  image_number  clear  cloudy  amber\n",
       "0     IMG_2129     59     218     47\n",
       "1     IMG_2198     22     246     18\n",
       "2     IMG_0546     44     111     22\n",
       "3     IMG_1079     73     198     13\n",
       "4     IMG_0543     40     196     26"
      ]
     },
     "execution_count": 9,
     "metadata": {},
     "output_type": "execute_result"
    }
   ],
   "source": [
    "# create predictions pandas dataframe using detectron2\n",
    "yolov9_preds = []\n",
    "for image_number in preprocessed_images:\n",
    "    print(f\"Predicting image {image_number}\")\n",
    "    trichome_dist = detect_trichome_dist_with_ultralytics(image_number, preprocessed_images, model_yolov9)\n",
    "    yolov9_preds.append({\"image_number\": image_number,\n",
    "                            \"clear\": trichome_dist[\"clear\"],\n",
    "                            \"cloudy\": trichome_dist[\"cloudy\"],\n",
    "                            \"amber\": trichome_dist[\"amber\"]})\n",
    "\n",
    "yolov9_preds_df = pd.DataFrame(yolov9_preds)\n",
    "yolov9_preds_df.head()"
   ]
  },
  {
   "cell_type": "code",
   "execution_count": 10,
   "metadata": {},
   "outputs": [
    {
     "name": "stdout",
     "output_type": "stream",
     "text": [
      "{'RMSE Clear': 28.55830742668275, 'RMSE Cloudy': 67.02812268569984, 'RMSE Amber': 26.54893884595303, 'Overall RMSE': 77.54477614702559}\n"
     ]
    }
   ],
   "source": [
    "rmse_results = calculate_rmse(ground_truth_df, yolov9_preds_df)\n",
    "print(rmse_results)"
   ]
  },
  {
   "cell_type": "markdown",
   "metadata": {},
   "source": [
    "### Compare Models RMSE Scores"
   ]
  },
  {
   "cell_type": "code",
   "execution_count": 16,
   "metadata": {},
   "outputs": [],
   "source": [
    "mask_rcnn_score = {'RMSE Clear': 29.454005865730075, 'RMSE Cloudy': 26.70061941085032, 'RMSE Amber': 8.833938053804856, 'Overall RMSE': 40.72468538859447}\n",
    "rt_detr_score = {'RMSE Clear': 23.456178454563048, 'RMSE Cloudy': 82.99397568498571, 'RMSE Amber': 23.17657969058088, 'Overall RMSE': 89.30479356588958}\n",
    "yolov5_score = {'RMSE Clear': 33.27681105283609, 'RMSE Cloudy': 70.24380618739497, 'RMSE Amber': 11.924441609245596, 'Overall RMSE': 78.63670115938721}\n",
    "yolov8_score = {'RMSE Clear': 45.738806953597525, 'RMSE Cloudy': 44.85446551819648, 'RMSE Amber': 11.283071049483484, 'Overall RMSE': 65.04820697582086}\n",
    "yolov9_score = {'RMSE Clear': 28.55830742668275, 'RMSE Cloudy': 67.02812268569984, 'RMSE Amber': 26.54893884595303, 'Overall RMSE': 77.54477614702559}\n",
    "\n",
    "# create scores df\n",
    "scores_df = pd.DataFrame([mask_rcnn_score, rt_detr_score, yolov5_score, yolov8_score, yolov9_score], index=[\"Mask RCNN\", \"RT-DETR\", \"YOLOv5\", \"YOLOv8\", \"YOLOv9\"])"
   ]
  },
  {
   "cell_type": "code",
   "execution_count": 17,
   "metadata": {},
   "outputs": [
    {
     "data": {
      "text/html": [
       "<div>\n",
       "<style scoped>\n",
       "    .dataframe tbody tr th:only-of-type {\n",
       "        vertical-align: middle;\n",
       "    }\n",
       "\n",
       "    .dataframe tbody tr th {\n",
       "        vertical-align: top;\n",
       "    }\n",
       "\n",
       "    .dataframe thead th {\n",
       "        text-align: right;\n",
       "    }\n",
       "</style>\n",
       "<table border=\"1\" class=\"dataframe\">\n",
       "  <thead>\n",
       "    <tr style=\"text-align: right;\">\n",
       "      <th></th>\n",
       "      <th>RMSE Clear</th>\n",
       "      <th>RMSE Cloudy</th>\n",
       "      <th>RMSE Amber</th>\n",
       "      <th>Overall RMSE</th>\n",
       "    </tr>\n",
       "  </thead>\n",
       "  <tbody>\n",
       "    <tr>\n",
       "      <th>Mask RCNN</th>\n",
       "      <td>29.454006</td>\n",
       "      <td>26.700619</td>\n",
       "      <td>8.833938</td>\n",
       "      <td>40.724685</td>\n",
       "    </tr>\n",
       "    <tr>\n",
       "      <th>RT-DETR</th>\n",
       "      <td>23.456178</td>\n",
       "      <td>82.993976</td>\n",
       "      <td>23.176580</td>\n",
       "      <td>89.304794</td>\n",
       "    </tr>\n",
       "    <tr>\n",
       "      <th>YOLOv5</th>\n",
       "      <td>33.276811</td>\n",
       "      <td>70.243806</td>\n",
       "      <td>11.924442</td>\n",
       "      <td>78.636701</td>\n",
       "    </tr>\n",
       "    <tr>\n",
       "      <th>YOLOv8</th>\n",
       "      <td>45.738807</td>\n",
       "      <td>44.854466</td>\n",
       "      <td>11.283071</td>\n",
       "      <td>65.048207</td>\n",
       "    </tr>\n",
       "    <tr>\n",
       "      <th>YOLOv9</th>\n",
       "      <td>28.558307</td>\n",
       "      <td>67.028123</td>\n",
       "      <td>26.548939</td>\n",
       "      <td>77.544776</td>\n",
       "    </tr>\n",
       "  </tbody>\n",
       "</table>\n",
       "</div>"
      ],
      "text/plain": [
       "           RMSE Clear  RMSE Cloudy  RMSE Amber  Overall RMSE\n",
       "Mask RCNN   29.454006    26.700619    8.833938     40.724685\n",
       "RT-DETR     23.456178    82.993976   23.176580     89.304794\n",
       "YOLOv5      33.276811    70.243806   11.924442     78.636701\n",
       "YOLOv8      45.738807    44.854466   11.283071     65.048207\n",
       "YOLOv9      28.558307    67.028123   26.548939     77.544776"
      ]
     },
     "execution_count": 17,
     "metadata": {},
     "output_type": "execute_result"
    }
   ],
   "source": [
    "scores_df"
   ]
  }
 ],
 "metadata": {
  "kernelspec": {
   "display_name": "detectron",
   "language": "python",
   "name": "python3"
  },
  "language_info": {
   "codemirror_mode": {
    "name": "ipython",
    "version": 3
   },
   "file_extension": ".py",
   "mimetype": "text/x-python",
   "name": "python",
   "nbconvert_exporter": "python",
   "pygments_lexer": "ipython3",
   "version": "3.9.18"
  }
 },
 "nbformat": 4,
 "nbformat_minor": 2
}
