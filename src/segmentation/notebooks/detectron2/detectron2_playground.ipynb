{
 "cells": [
  {
   "cell_type": "code",
   "execution_count": 12,
   "metadata": {},
   "outputs": [],
   "source": [
    "import os\n",
    "import json\n",
    "import urllib.request\n",
    "\n",
    "import sys\n",
    "sys.path.append(\"/home/etaylor/pycharmProjects/thesis/notebooks/fast-labeling-workflow/detectron2\")\n",
    "sys.path.append(\"/home/etaylor/pycharmProjects/thesis/notebooks/fast-labeling-workflow\")\n",
    "\n",
    "import detectron2\n",
    "from detectron2 import model_zoo\n",
    "from detectron2.engine import DefaultTrainer, DefaultPredictor\n",
    "from detectron2.config import get_cfg\n",
    "from detectron2.data import MetadataCatalog\n",
    "from detectron2.data.datasets import register_coco_instances, load_coco_json\n",
    "from detectron2.utils.visualizer import Visualizer, ColorMode\n",
    "\n",
    "import numpy as np\n",
    "import cv2\n",
    "import matplotlib.pyplot as plt\n",
    "\n",
    "from pycocotools import mask\n",
    "\n",
    "from segments.utils import export_dataset\n",
    "import utils"
   ]
  },
  {
   "cell_type": "code",
   "execution_count": 20,
   "metadata": {},
   "outputs": [],
   "source": [
    "cfg = get_cfg()\n",
    "\n",
    "#Load model config and pretrained model\n",
    "instance_segmentation_model = \"COCO-InstanceSegmentation/mask_rcnn_R_50_FPN_3x.yaml\"\n",
    "detection_model = \"COCO-Detection/faster_rcnn_R_50_FPN_3x.yaml\"\n",
    "cfg.merge_from_file(model_zoo.get_config_file(instance_segmentation_model))\n",
    "cfg.MODEL.WEIGHTS = model_zoo.get_checkpoint_url(instance_segmentation_model)\n",
    "\n",
    "cfg.MODEL.ROI_HEADS.SCORE_THRESH_TEST = 0.5\n",
    "cfg.MODEL.DEVICE = 'cuda'\n",
    "\n",
    "predictor = DefaultPredictor(cfg)"
   ]
  },
  {
   "cell_type": "code",
   "execution_count": 21,
   "metadata": {},
   "outputs": [],
   "source": [
    "class Model:\n",
    "    def __init__(self, predictor):\n",
    "        self.predictor = predictor\n",
    "\n",
    "    def _convert_to_segments_format(self, image, outputs):\n",
    "        # https://tech.amikelive.com/node-718/what-object-categories-labels-are-in-coco-dataset/\n",
    "        segmentation_bitmap = np.zeros((image.shape[0], image.shape[1]), np.uint32)\n",
    "        annotations = []\n",
    "        counter = 1\n",
    "        instances = outputs['instances']\n",
    "        for i in range(len(instances.pred_classes)):\n",
    "            category_id = int(instances.pred_classes[i])\n",
    "            instance_id = counter\n",
    "            mask = instances.pred_masks[i].cpu()\n",
    "            segmentation_bitmap[mask] = instance_id\n",
    "            annotations.append({'id': instance_id, 'category_id': category_id})\n",
    "            counter += 1\n",
    "        return segmentation_bitmap, annotations\n",
    "\n",
    "    def __call__(self, image):\n",
    "        image = np.array(image)\n",
    "        outputs = self.predictor(image)\n",
    "        label, label_data = self._convert_to_segments_format(image, outputs)\n",
    "\n",
    "        return label, label_data"
   ]
  },
  {
   "cell_type": "code",
   "execution_count": 22,
   "metadata": {},
   "outputs": [],
   "source": [
    "image = cv2.imread('/home/etaylor/images/trichomes_patches/week5_3xzoom_regular_best_images/IMG_0003_p26.jpg')\n",
    "model = Model(predictor)\n",
    "pred, bitmap = model(image)"
   ]
  },
  {
   "cell_type": "code",
   "execution_count": 25,
   "metadata": {},
   "outputs": [
    {
     "data": {
      "text/plain": [
       "[]"
      ]
     },
     "execution_count": 25,
     "metadata": {},
     "output_type": "execute_result"
    }
   ],
   "source": [
    "bitmap"
   ]
  }
 ],
 "metadata": {
  "kernelspec": {
   "display_name": "test_env",
   "language": "python",
   "name": "python3"
  },
  "language_info": {
   "codemirror_mode": {
    "name": "ipython",
    "version": 3
   },
   "file_extension": ".py",
   "mimetype": "text/x-python",
   "name": "python",
   "nbconvert_exporter": "python",
   "pygments_lexer": "ipython3",
   "version": "3.11.4"
  },
  "orig_nbformat": 4
 },
 "nbformat": 4,
 "nbformat_minor": 2
}
