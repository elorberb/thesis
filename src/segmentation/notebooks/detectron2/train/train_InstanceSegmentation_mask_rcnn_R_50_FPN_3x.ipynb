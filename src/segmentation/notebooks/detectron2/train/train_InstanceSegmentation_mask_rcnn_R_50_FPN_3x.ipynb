{
 "cells": [
  {
   "cell_type": "code",
   "execution_count": 1,
   "metadata": {},
   "outputs": [
    {
     "data": {
      "text/plain": [
       "<Logger detectron2 (DEBUG)>"
      ]
     },
     "execution_count": 1,
     "metadata": {},
     "output_type": "execute_result"
    }
   ],
   "source": [
    "# This notebook have built from this tutorial: https://github.com/bnsreenu/python_for_microscopists/blob/master/330_Detectron2_Instance_3D_EM_Platelet.ipynb\n",
    "import os\n",
    "\n",
    "# Setup detectron2 logger\n",
    "from detectron2.utils.logger import setup_logger\n",
    "setup_logger()"
   ]
  },
  {
   "cell_type": "code",
   "execution_count": 2,
   "metadata": {},
   "outputs": [],
   "source": [
    "import torch\n",
    "torch.cuda.empty_cache()  # Free up unutilized memory"
   ]
  },
  {
   "cell_type": "markdown",
   "metadata": {},
   "source": [
    "checking the version and if we have cuda available"
   ]
  },
  {
   "cell_type": "code",
   "execution_count": 3,
   "metadata": {},
   "outputs": [
    {
     "name": "stdout",
     "output_type": "stream",
     "text": [
      "nvcc: NVIDIA (R) Cuda compiler driver\n",
      "Copyright (c) 2005-2021 NVIDIA Corporation\n",
      "Built on Sun_Aug_15_21:14:11_PDT_2021\n",
      "Cuda compilation tools, release 11.4, V11.4.120\n",
      "Build cuda_11.4.r11.4/compiler.30300941_0\n",
      "torch:  1.9 ; cuda:  11.1\n",
      "detectron2: 0.6\n"
     ]
    }
   ],
   "source": [
    "from src.segmentation.framework_handlers.detectron2_handler import print_version_info\n",
    "\n",
    "!nvcc --version\n",
    "print_version_info()"
   ]
  },
  {
   "cell_type": "code",
   "execution_count": 7,
   "metadata": {},
   "outputs": [
    {
     "name": "stdout",
     "output_type": "stream",
     "text": [
      "Python 3.9.18\n"
     ]
    }
   ],
   "source": [
    "!python --version"
   ]
  },
  {
   "cell_type": "code",
   "execution_count": 4,
   "metadata": {},
   "outputs": [
    {
     "name": "stdout",
     "output_type": "stream",
     "text": [
      "Sun May  5 17:39:23 2024       \n",
      "+---------------------------------------------------------------------------------------+\n",
      "| NVIDIA-SMI 545.23.06              Driver Version: 545.23.06    CUDA Version: 12.3     |\n",
      "|-----------------------------------------+----------------------+----------------------+\n",
      "| GPU  Name                 Persistence-M | Bus-Id        Disp.A | Volatile Uncorr. ECC |\n",
      "| Fan  Temp   Perf          Pwr:Usage/Cap |         Memory-Usage | GPU-Util  Compute M. |\n",
      "|                                         |                      |               MIG M. |\n",
      "|=========================================+======================+======================|\n",
      "|   0  NVIDIA GeForce RTX 4090        On  | 00000000:C2:00.0 Off |                  Off |\n",
      "| 30%   26C    P8              19W / 450W |      3MiB / 24564MiB |      0%      Default |\n",
      "|                                         |                      |                  N/A |\n",
      "+-----------------------------------------+----------------------+----------------------+\n",
      "                                                                                         \n",
      "+---------------------------------------------------------------------------------------+\n",
      "| Processes:                                                                            |\n",
      "|  GPU   GI   CI        PID   Type   Process name                            GPU Memory |\n",
      "|        ID   ID                                                             Usage      |\n",
      "|=======================================================================================|\n",
      "|  No running processes found                                                           |\n",
      "+---------------------------------------------------------------------------------------+\n"
     ]
    }
   ],
   "source": [
    "!nvidia-smi"
   ]
  },
  {
   "cell_type": "code",
   "execution_count": 6,
   "metadata": {},
   "outputs": [
    {
     "name": "stdout",
     "output_type": "stream",
     "text": [
      "torch                       1.9.0+cu111\n",
      "torchaudio                  0.9.0\n",
      "torchvision                 0.10.0+cu111\n"
     ]
    }
   ],
   "source": [
    "!pip list | grep torch"
   ]
  },
  {
   "cell_type": "markdown",
   "metadata": {},
   "source": [
    "### Exporting the segments train and test dataset and regeister then to the detectron2 package\n",
    "\n",
    "Remember!! when loading datasets from segments the images will be saved to the segments folder and the json coco annotations file will be save to the `saving_path` defined"
   ]
  },
  {
   "cell_type": "code",
   "execution_count": 5,
   "metadata": {},
   "outputs": [
    {
     "data": {
      "text/plain": [
       "'05-05-2024_17-39-23'"
      ]
     },
     "execution_count": 5,
     "metadata": {},
     "output_type": "execute_result"
    }
   ],
   "source": [
    "from datetime import datetime\n",
    "\n",
    "# Get the current date and time of the model training process\n",
    "current_time = datetime.now().strftime(\"%d-%m-%Y_%H-%M-%S\")\n",
    "current_time"
   ]
  },
  {
   "cell_type": "code",
   "execution_count": 6,
   "metadata": {},
   "outputs": [
    {
     "name": "stdout",
     "output_type": "stream",
     "text": [
      "/home/etaylor/code_projects/thesis/checkpoints/detectron2/COCO-InstanceSegmentation/mask_rcnn_R_50_FPN_3x/05-05-2024_17-39-23\n"
     ]
    }
   ],
   "source": [
    "model = \"COCO-InstanceSegmentation/mask_rcnn_R_50_FPN_3x\"\n",
    "detectron2_models_path = \"/home/etaylor/code_projects/thesis/checkpoints/detectron2\"\n",
    "model_saving_path = os.path.join(detectron2_models_path, model, current_time)\n",
    "print(model_saving_path)"
   ]
  },
  {
   "cell_type": "code",
   "execution_count": 7,
   "metadata": {},
   "outputs": [
    {
     "name": "stdout",
     "output_type": "stream",
     "text": [
      "Initializing dataset...\n",
      "Preloading all samples. This may take a while...\n"
     ]
    },
    {
     "name": "stderr",
     "output_type": "stream",
     "text": [
      "100%|\u001b[38;2;255;153;0m██████████\u001b[0m| 395/395 [00:00<00:00, 441.62it/s]\n"
     ]
    },
    {
     "name": "stdout",
     "output_type": "stream",
     "text": [
      "Initialized dataset with 395 images.\n",
      "Exporting dataset. This may take a while...\n"
     ]
    },
    {
     "name": "stderr",
     "output_type": "stream",
     "text": [
      "  4%|\u001b[38;2;255;153;0m▍         \u001b[0m| 15/395 [00:00<00:10, 37.56it/s]Skipping instance with 0 labeled pixels: IMG_0048_p7.png, instance_id: 15, category_id: 1\n",
      "Skipping instance with 0 labeled pixels: IMG_0048_p8.png, instance_id: 9, category_id: 2\n",
      "  7%|\u001b[38;2;255;153;0m▋         \u001b[0m| 27/395 [00:00<00:08, 45.67it/s]Skipping instance with 0 labeled pixels: IMG_1186_p8.png, instance_id: 8, category_id: 1\n",
      " 30%|\u001b[38;2;255;153;0m██▉       \u001b[0m| 117/395 [00:02<00:06, 40.83it/s]Skipping instance with 0 labeled pixels: IMG_2134_p0.png, instance_id: 2, category_id: 1\n",
      " 34%|\u001b[38;2;255;153;0m███▎      \u001b[0m| 133/395 [00:03<00:06, 40.73it/s]Skipping instance with 0 labeled pixels: IMG_9998_p2.png, instance_id: 3, category_id: 2\n",
      " 35%|\u001b[38;2;255;153;0m███▍      \u001b[0m| 138/395 [00:03<00:06, 41.35it/s]Skipping instance with 0 labeled pixels: IMG_9998_p8.png, instance_id: 35, category_id: 1\n",
      " 44%|\u001b[38;2;255;153;0m████▎     \u001b[0m| 172/395 [00:04<00:06, 36.25it/s]Skipping instance with 0 labeled pixels: IMG_1827_p8.png, instance_id: 18, category_id: 2\n",
      " 78%|\u001b[38;2;255;153;0m███████▊  \u001b[0m| 308/395 [00:07<00:01, 44.98it/s]Skipping instance with 0 labeled pixels: IMG_0572_p8.png, instance_id: 8, category_id: 1\n",
      "100%|\u001b[38;2;255;153;0m██████████\u001b[0m| 395/395 [00:10<00:00, 38.51it/s]\n"
     ]
    },
    {
     "name": "stdout",
     "output_type": "stream",
     "text": [
      "Exported to ./export_coco-instance_etaylor_cannabis_patches_train_26-04-2024_15-44-44_v0.1.json. Images in segments/etaylor_cannabis_patches_train_26-04-2024_15-44-44/v0.1\n",
      "Initializing dataset...\n",
      "Preloading all samples. This may take a while...\n"
     ]
    },
    {
     "name": "stderr",
     "output_type": "stream",
     "text": [
      "100%|\u001b[38;2;255;153;0m██████████\u001b[0m| 108/108 [00:00<00:00, 367.03it/s]\n"
     ]
    },
    {
     "name": "stdout",
     "output_type": "stream",
     "text": [
      "Initialized dataset with 108 images.\n",
      "Exporting dataset. This may take a while...\n"
     ]
    },
    {
     "name": "stderr",
     "output_type": "stream",
     "text": [
      " 57%|\u001b[38;2;255;153;0m█████▋    \u001b[0m| 62/108 [00:01<00:01, 36.78it/s]Skipping instance with 0 labeled pixels: IMG_2271_p10.png, instance_id: 17, category_id: 2\n",
      "100%|\u001b[38;2;255;153;0m██████████\u001b[0m| 108/108 [00:02<00:00, 39.89it/s]"
     ]
    },
    {
     "name": "stdout",
     "output_type": "stream",
     "text": [
      "Exported to ./export_coco-instance_etaylor_cannabis_patches_test_26-04-2024_15-44-44_v0.1.json. Images in segments/etaylor_cannabis_patches_test_26-04-2024_15-44-44/v0.1\n",
      "\u001b[5m\u001b[31mWARNING\u001b[0m \u001b[32m[05/05 17:39:43 d2.data.datasets.coco]: \u001b[0m\n",
      "Category ids in annotations are not in [1, #categories]! We'll apply a mapping for you.\n",
      "\n",
      "\u001b[32m[05/05 17:39:43 d2.data.datasets.coco]: \u001b[0mLoaded 369 images in COCO format from segments/etaylor_cannabis_patches_train_26-04-2024_15-44-44/annotations/export_coco-instance_etaylor_cannabis_patches_train_26-04-2024_15-44-44_v0.1.json\n",
      "\u001b[5m\u001b[31mWARNING\u001b[0m \u001b[32m[05/05 17:39:43 d2.data.datasets.coco]: \u001b[0m\n",
      "Category ids in annotations are not in [1, #categories]! We'll apply a mapping for you.\n",
      "\n",
      "\u001b[32m[05/05 17:39:43 d2.data.datasets.coco]: \u001b[0mLoaded 106 images in COCO format from segments/etaylor_cannabis_patches_test_26-04-2024_15-44-44/annotations/export_coco-instance_etaylor_cannabis_patches_test_26-04-2024_15-44-44_v0.1.json\n"
     ]
    },
    {
     "name": "stderr",
     "output_type": "stream",
     "text": [
      "\n"
     ]
    }
   ],
   "source": [
    "from src.segmentation.framework_handlers.detectron2_handler import prepare_and_register_datasets\n",
    "\n",
    "dataset_name_train = \"etaylor/cannabis_patches_train_26-04-2024_15-44-44\"\n",
    "dataset_name_test = \"etaylor/cannabis_patches_test_26-04-2024_15-44-44\"\n",
    "release_train = \"v0.1\"\n",
    "release_test = \"v0.1\"\n",
    "detectron2_models_path = \"/home/etaylor/code_projects/thesis/checkpoints/detectron2\"\n",
    "model_saving_path = os.path.join(detectron2_models_path, model, current_time)\n",
    "\n",
    "metadata_train, dataset_dicts_train, metadata_test, dataset_dicts_test = prepare_and_register_datasets(dataset_name_train, dataset_name_test, release_train, release_test)"
   ]
  },
  {
   "cell_type": "markdown",
   "metadata": {},
   "source": [
    "plot train samples with annotations"
   ]
  },
  {
   "cell_type": "code",
   "execution_count": null,
   "metadata": {},
   "outputs": [],
   "source": [
    "from src.segmentation.framework_handlers.detectron2_handler import plot_train_samples\n",
    "\n",
    "plot_train_samples(dataset_dicts_train, metadata_train, indices=[1,2])"
   ]
  },
  {
   "cell_type": "markdown",
   "metadata": {},
   "source": [
    "Define the training params and to which model to fine tune"
   ]
  },
  {
   "cell_type": "code",
   "execution_count": 8,
   "metadata": {},
   "outputs": [],
   "source": [
    "from detectron2.config import get_cfg\n",
    "from detectron2.engine import DefaultTrainer\n",
    "from detectron2 import model_zoo\n",
    "from detectron2.engine import DefaultPredictor"
   ]
  },
  {
   "cell_type": "code",
   "execution_count": 9,
   "metadata": {},
   "outputs": [
    {
     "name": "stdout",
     "output_type": "stream",
     "text": [
      "\u001b[32m[05/05 17:40:21 d2.engine.defaults]: \u001b[0mModel:\n",
      "GeneralizedRCNN(\n",
      "  (backbone): FPN(\n",
      "    (fpn_lateral2): Conv2d(256, 256, kernel_size=(1, 1), stride=(1, 1))\n",
      "    (fpn_output2): Conv2d(256, 256, kernel_size=(3, 3), stride=(1, 1), padding=(1, 1))\n",
      "    (fpn_lateral3): Conv2d(512, 256, kernel_size=(1, 1), stride=(1, 1))\n",
      "    (fpn_output3): Conv2d(256, 256, kernel_size=(3, 3), stride=(1, 1), padding=(1, 1))\n",
      "    (fpn_lateral4): Conv2d(1024, 256, kernel_size=(1, 1), stride=(1, 1))\n",
      "    (fpn_output4): Conv2d(256, 256, kernel_size=(3, 3), stride=(1, 1), padding=(1, 1))\n",
      "    (fpn_lateral5): Conv2d(2048, 256, kernel_size=(1, 1), stride=(1, 1))\n",
      "    (fpn_output5): Conv2d(256, 256, kernel_size=(3, 3), stride=(1, 1), padding=(1, 1))\n",
      "    (top_block): LastLevelMaxPool()\n",
      "    (bottom_up): ResNet(\n",
      "      (stem): BasicStem(\n",
      "        (conv1): Conv2d(\n",
      "          3, 64, kernel_size=(7, 7), stride=(2, 2), padding=(3, 3), bias=False\n",
      "          (norm): FrozenBatchNorm2d(num_features=64, eps=1e-05)\n",
      "        )\n",
      "      )\n",
      "      (res2): Sequential(\n",
      "        (0): BottleneckBlock(\n",
      "          (shortcut): Conv2d(\n",
      "            64, 256, kernel_size=(1, 1), stride=(1, 1), bias=False\n",
      "            (norm): FrozenBatchNorm2d(num_features=256, eps=1e-05)\n",
      "          )\n",
      "          (conv1): Conv2d(\n",
      "            64, 64, kernel_size=(1, 1), stride=(1, 1), bias=False\n",
      "            (norm): FrozenBatchNorm2d(num_features=64, eps=1e-05)\n",
      "          )\n",
      "          (conv2): Conv2d(\n",
      "            64, 64, kernel_size=(3, 3), stride=(1, 1), padding=(1, 1), bias=False\n",
      "            (norm): FrozenBatchNorm2d(num_features=64, eps=1e-05)\n",
      "          )\n",
      "          (conv3): Conv2d(\n",
      "            64, 256, kernel_size=(1, 1), stride=(1, 1), bias=False\n",
      "            (norm): FrozenBatchNorm2d(num_features=256, eps=1e-05)\n",
      "          )\n",
      "        )\n",
      "        (1): BottleneckBlock(\n",
      "          (conv1): Conv2d(\n",
      "            256, 64, kernel_size=(1, 1), stride=(1, 1), bias=False\n",
      "            (norm): FrozenBatchNorm2d(num_features=64, eps=1e-05)\n",
      "          )\n",
      "          (conv2): Conv2d(\n",
      "            64, 64, kernel_size=(3, 3), stride=(1, 1), padding=(1, 1), bias=False\n",
      "            (norm): FrozenBatchNorm2d(num_features=64, eps=1e-05)\n",
      "          )\n",
      "          (conv3): Conv2d(\n",
      "            64, 256, kernel_size=(1, 1), stride=(1, 1), bias=False\n",
      "            (norm): FrozenBatchNorm2d(num_features=256, eps=1e-05)\n",
      "          )\n",
      "        )\n",
      "        (2): BottleneckBlock(\n",
      "          (conv1): Conv2d(\n",
      "            256, 64, kernel_size=(1, 1), stride=(1, 1), bias=False\n",
      "            (norm): FrozenBatchNorm2d(num_features=64, eps=1e-05)\n",
      "          )\n",
      "          (conv2): Conv2d(\n",
      "            64, 64, kernel_size=(3, 3), stride=(1, 1), padding=(1, 1), bias=False\n",
      "            (norm): FrozenBatchNorm2d(num_features=64, eps=1e-05)\n",
      "          )\n",
      "          (conv3): Conv2d(\n",
      "            64, 256, kernel_size=(1, 1), stride=(1, 1), bias=False\n",
      "            (norm): FrozenBatchNorm2d(num_features=256, eps=1e-05)\n",
      "          )\n",
      "        )\n",
      "      )\n",
      "      (res3): Sequential(\n",
      "        (0): BottleneckBlock(\n",
      "          (shortcut): Conv2d(\n",
      "            256, 512, kernel_size=(1, 1), stride=(2, 2), bias=False\n",
      "            (norm): FrozenBatchNorm2d(num_features=512, eps=1e-05)\n",
      "          )\n",
      "          (conv1): Conv2d(\n",
      "            256, 128, kernel_size=(1, 1), stride=(2, 2), bias=False\n",
      "            (norm): FrozenBatchNorm2d(num_features=128, eps=1e-05)\n",
      "          )\n",
      "          (conv2): Conv2d(\n",
      "            128, 128, kernel_size=(3, 3), stride=(1, 1), padding=(1, 1), bias=False\n",
      "            (norm): FrozenBatchNorm2d(num_features=128, eps=1e-05)\n",
      "          )\n",
      "          (conv3): Conv2d(\n",
      "            128, 512, kernel_size=(1, 1), stride=(1, 1), bias=False\n",
      "            (norm): FrozenBatchNorm2d(num_features=512, eps=1e-05)\n",
      "          )\n",
      "        )\n",
      "        (1): BottleneckBlock(\n",
      "          (conv1): Conv2d(\n",
      "            512, 128, kernel_size=(1, 1), stride=(1, 1), bias=False\n",
      "            (norm): FrozenBatchNorm2d(num_features=128, eps=1e-05)\n",
      "          )\n",
      "          (conv2): Conv2d(\n",
      "            128, 128, kernel_size=(3, 3), stride=(1, 1), padding=(1, 1), bias=False\n",
      "            (norm): FrozenBatchNorm2d(num_features=128, eps=1e-05)\n",
      "          )\n",
      "          (conv3): Conv2d(\n",
      "            128, 512, kernel_size=(1, 1), stride=(1, 1), bias=False\n",
      "            (norm): FrozenBatchNorm2d(num_features=512, eps=1e-05)\n",
      "          )\n",
      "        )\n",
      "        (2): BottleneckBlock(\n",
      "          (conv1): Conv2d(\n",
      "            512, 128, kernel_size=(1, 1), stride=(1, 1), bias=False\n",
      "            (norm): FrozenBatchNorm2d(num_features=128, eps=1e-05)\n",
      "          )\n",
      "          (conv2): Conv2d(\n",
      "            128, 128, kernel_size=(3, 3), stride=(1, 1), padding=(1, 1), bias=False\n",
      "            (norm): FrozenBatchNorm2d(num_features=128, eps=1e-05)\n",
      "          )\n",
      "          (conv3): Conv2d(\n",
      "            128, 512, kernel_size=(1, 1), stride=(1, 1), bias=False\n",
      "            (norm): FrozenBatchNorm2d(num_features=512, eps=1e-05)\n",
      "          )\n",
      "        )\n",
      "        (3): BottleneckBlock(\n",
      "          (conv1): Conv2d(\n",
      "            512, 128, kernel_size=(1, 1), stride=(1, 1), bias=False\n",
      "            (norm): FrozenBatchNorm2d(num_features=128, eps=1e-05)\n",
      "          )\n",
      "          (conv2): Conv2d(\n",
      "            128, 128, kernel_size=(3, 3), stride=(1, 1), padding=(1, 1), bias=False\n",
      "            (norm): FrozenBatchNorm2d(num_features=128, eps=1e-05)\n",
      "          )\n",
      "          (conv3): Conv2d(\n",
      "            128, 512, kernel_size=(1, 1), stride=(1, 1), bias=False\n",
      "            (norm): FrozenBatchNorm2d(num_features=512, eps=1e-05)\n",
      "          )\n",
      "        )\n",
      "      )\n",
      "      (res4): Sequential(\n",
      "        (0): BottleneckBlock(\n",
      "          (shortcut): Conv2d(\n",
      "            512, 1024, kernel_size=(1, 1), stride=(2, 2), bias=False\n",
      "            (norm): FrozenBatchNorm2d(num_features=1024, eps=1e-05)\n",
      "          )\n",
      "          (conv1): Conv2d(\n",
      "            512, 256, kernel_size=(1, 1), stride=(2, 2), bias=False\n",
      "            (norm): FrozenBatchNorm2d(num_features=256, eps=1e-05)\n",
      "          )\n",
      "          (conv2): Conv2d(\n",
      "            256, 256, kernel_size=(3, 3), stride=(1, 1), padding=(1, 1), bias=False\n",
      "            (norm): FrozenBatchNorm2d(num_features=256, eps=1e-05)\n",
      "          )\n",
      "          (conv3): Conv2d(\n",
      "            256, 1024, kernel_size=(1, 1), stride=(1, 1), bias=False\n",
      "            (norm): FrozenBatchNorm2d(num_features=1024, eps=1e-05)\n",
      "          )\n",
      "        )\n",
      "        (1): BottleneckBlock(\n",
      "          (conv1): Conv2d(\n",
      "            1024, 256, kernel_size=(1, 1), stride=(1, 1), bias=False\n",
      "            (norm): FrozenBatchNorm2d(num_features=256, eps=1e-05)\n",
      "          )\n",
      "          (conv2): Conv2d(\n",
      "            256, 256, kernel_size=(3, 3), stride=(1, 1), padding=(1, 1), bias=False\n",
      "            (norm): FrozenBatchNorm2d(num_features=256, eps=1e-05)\n",
      "          )\n",
      "          (conv3): Conv2d(\n",
      "            256, 1024, kernel_size=(1, 1), stride=(1, 1), bias=False\n",
      "            (norm): FrozenBatchNorm2d(num_features=1024, eps=1e-05)\n",
      "          )\n",
      "        )\n",
      "        (2): BottleneckBlock(\n",
      "          (conv1): Conv2d(\n",
      "            1024, 256, kernel_size=(1, 1), stride=(1, 1), bias=False\n",
      "            (norm): FrozenBatchNorm2d(num_features=256, eps=1e-05)\n",
      "          )\n",
      "          (conv2): Conv2d(\n",
      "            256, 256, kernel_size=(3, 3), stride=(1, 1), padding=(1, 1), bias=False\n",
      "            (norm): FrozenBatchNorm2d(num_features=256, eps=1e-05)\n",
      "          )\n",
      "          (conv3): Conv2d(\n",
      "            256, 1024, kernel_size=(1, 1), stride=(1, 1), bias=False\n",
      "            (norm): FrozenBatchNorm2d(num_features=1024, eps=1e-05)\n",
      "          )\n",
      "        )\n",
      "        (3): BottleneckBlock(\n",
      "          (conv1): Conv2d(\n",
      "            1024, 256, kernel_size=(1, 1), stride=(1, 1), bias=False\n",
      "            (norm): FrozenBatchNorm2d(num_features=256, eps=1e-05)\n",
      "          )\n",
      "          (conv2): Conv2d(\n",
      "            256, 256, kernel_size=(3, 3), stride=(1, 1), padding=(1, 1), bias=False\n",
      "            (norm): FrozenBatchNorm2d(num_features=256, eps=1e-05)\n",
      "          )\n",
      "          (conv3): Conv2d(\n",
      "            256, 1024, kernel_size=(1, 1), stride=(1, 1), bias=False\n",
      "            (norm): FrozenBatchNorm2d(num_features=1024, eps=1e-05)\n",
      "          )\n",
      "        )\n",
      "        (4): BottleneckBlock(\n",
      "          (conv1): Conv2d(\n",
      "            1024, 256, kernel_size=(1, 1), stride=(1, 1), bias=False\n",
      "            (norm): FrozenBatchNorm2d(num_features=256, eps=1e-05)\n",
      "          )\n",
      "          (conv2): Conv2d(\n",
      "            256, 256, kernel_size=(3, 3), stride=(1, 1), padding=(1, 1), bias=False\n",
      "            (norm): FrozenBatchNorm2d(num_features=256, eps=1e-05)\n",
      "          )\n",
      "          (conv3): Conv2d(\n",
      "            256, 1024, kernel_size=(1, 1), stride=(1, 1), bias=False\n",
      "            (norm): FrozenBatchNorm2d(num_features=1024, eps=1e-05)\n",
      "          )\n",
      "        )\n",
      "        (5): BottleneckBlock(\n",
      "          (conv1): Conv2d(\n",
      "            1024, 256, kernel_size=(1, 1), stride=(1, 1), bias=False\n",
      "            (norm): FrozenBatchNorm2d(num_features=256, eps=1e-05)\n",
      "          )\n",
      "          (conv2): Conv2d(\n",
      "            256, 256, kernel_size=(3, 3), stride=(1, 1), padding=(1, 1), bias=False\n",
      "            (norm): FrozenBatchNorm2d(num_features=256, eps=1e-05)\n",
      "          )\n",
      "          (conv3): Conv2d(\n",
      "            256, 1024, kernel_size=(1, 1), stride=(1, 1), bias=False\n",
      "            (norm): FrozenBatchNorm2d(num_features=1024, eps=1e-05)\n",
      "          )\n",
      "        )\n",
      "      )\n",
      "      (res5): Sequential(\n",
      "        (0): BottleneckBlock(\n",
      "          (shortcut): Conv2d(\n",
      "            1024, 2048, kernel_size=(1, 1), stride=(2, 2), bias=False\n",
      "            (norm): FrozenBatchNorm2d(num_features=2048, eps=1e-05)\n",
      "          )\n",
      "          (conv1): Conv2d(\n",
      "            1024, 512, kernel_size=(1, 1), stride=(2, 2), bias=False\n",
      "            (norm): FrozenBatchNorm2d(num_features=512, eps=1e-05)\n",
      "          )\n",
      "          (conv2): Conv2d(\n",
      "            512, 512, kernel_size=(3, 3), stride=(1, 1), padding=(1, 1), bias=False\n",
      "            (norm): FrozenBatchNorm2d(num_features=512, eps=1e-05)\n",
      "          )\n",
      "          (conv3): Conv2d(\n",
      "            512, 2048, kernel_size=(1, 1), stride=(1, 1), bias=False\n",
      "            (norm): FrozenBatchNorm2d(num_features=2048, eps=1e-05)\n",
      "          )\n",
      "        )\n",
      "        (1): BottleneckBlock(\n",
      "          (conv1): Conv2d(\n",
      "            2048, 512, kernel_size=(1, 1), stride=(1, 1), bias=False\n",
      "            (norm): FrozenBatchNorm2d(num_features=512, eps=1e-05)\n",
      "          )\n",
      "          (conv2): Conv2d(\n",
      "            512, 512, kernel_size=(3, 3), stride=(1, 1), padding=(1, 1), bias=False\n",
      "            (norm): FrozenBatchNorm2d(num_features=512, eps=1e-05)\n",
      "          )\n",
      "          (conv3): Conv2d(\n",
      "            512, 2048, kernel_size=(1, 1), stride=(1, 1), bias=False\n",
      "            (norm): FrozenBatchNorm2d(num_features=2048, eps=1e-05)\n",
      "          )\n",
      "        )\n",
      "        (2): BottleneckBlock(\n",
      "          (conv1): Conv2d(\n",
      "            2048, 512, kernel_size=(1, 1), stride=(1, 1), bias=False\n",
      "            (norm): FrozenBatchNorm2d(num_features=512, eps=1e-05)\n",
      "          )\n",
      "          (conv2): Conv2d(\n",
      "            512, 512, kernel_size=(3, 3), stride=(1, 1), padding=(1, 1), bias=False\n",
      "            (norm): FrozenBatchNorm2d(num_features=512, eps=1e-05)\n",
      "          )\n",
      "          (conv3): Conv2d(\n",
      "            512, 2048, kernel_size=(1, 1), stride=(1, 1), bias=False\n",
      "            (norm): FrozenBatchNorm2d(num_features=2048, eps=1e-05)\n",
      "          )\n",
      "        )\n",
      "      )\n",
      "    )\n",
      "  )\n",
      "  (proposal_generator): RPN(\n",
      "    (rpn_head): StandardRPNHead(\n",
      "      (conv): Conv2d(\n",
      "        256, 256, kernel_size=(3, 3), stride=(1, 1), padding=(1, 1)\n",
      "        (activation): ReLU()\n",
      "      )\n",
      "      (objectness_logits): Conv2d(256, 3, kernel_size=(1, 1), stride=(1, 1))\n",
      "      (anchor_deltas): Conv2d(256, 12, kernel_size=(1, 1), stride=(1, 1))\n",
      "    )\n",
      "    (anchor_generator): DefaultAnchorGenerator(\n",
      "      (cell_anchors): BufferList()\n",
      "    )\n",
      "  )\n",
      "  (roi_heads): StandardROIHeads(\n",
      "    (box_pooler): ROIPooler(\n",
      "      (level_poolers): ModuleList(\n",
      "        (0): ROIAlign(output_size=(7, 7), spatial_scale=0.25, sampling_ratio=0, aligned=True)\n",
      "        (1): ROIAlign(output_size=(7, 7), spatial_scale=0.125, sampling_ratio=0, aligned=True)\n",
      "        (2): ROIAlign(output_size=(7, 7), spatial_scale=0.0625, sampling_ratio=0, aligned=True)\n",
      "        (3): ROIAlign(output_size=(7, 7), spatial_scale=0.03125, sampling_ratio=0, aligned=True)\n",
      "      )\n",
      "    )\n",
      "    (box_head): FastRCNNConvFCHead(\n",
      "      (flatten): Flatten(start_dim=1, end_dim=-1)\n",
      "      (fc1): Linear(in_features=12544, out_features=1024, bias=True)\n",
      "      (fc_relu1): ReLU()\n",
      "      (fc2): Linear(in_features=1024, out_features=1024, bias=True)\n",
      "      (fc_relu2): ReLU()\n",
      "    )\n",
      "    (box_predictor): FastRCNNOutputLayers(\n",
      "      (cls_score): Linear(in_features=1024, out_features=5, bias=True)\n",
      "      (bbox_pred): Linear(in_features=1024, out_features=16, bias=True)\n",
      "    )\n",
      "    (mask_pooler): ROIPooler(\n",
      "      (level_poolers): ModuleList(\n",
      "        (0): ROIAlign(output_size=(14, 14), spatial_scale=0.25, sampling_ratio=0, aligned=True)\n",
      "        (1): ROIAlign(output_size=(14, 14), spatial_scale=0.125, sampling_ratio=0, aligned=True)\n",
      "        (2): ROIAlign(output_size=(14, 14), spatial_scale=0.0625, sampling_ratio=0, aligned=True)\n",
      "        (3): ROIAlign(output_size=(14, 14), spatial_scale=0.03125, sampling_ratio=0, aligned=True)\n",
      "      )\n",
      "    )\n",
      "    (mask_head): MaskRCNNConvUpsampleHead(\n",
      "      (mask_fcn1): Conv2d(\n",
      "        256, 256, kernel_size=(3, 3), stride=(1, 1), padding=(1, 1)\n",
      "        (activation): ReLU()\n",
      "      )\n",
      "      (mask_fcn2): Conv2d(\n",
      "        256, 256, kernel_size=(3, 3), stride=(1, 1), padding=(1, 1)\n",
      "        (activation): ReLU()\n",
      "      )\n",
      "      (mask_fcn3): Conv2d(\n",
      "        256, 256, kernel_size=(3, 3), stride=(1, 1), padding=(1, 1)\n",
      "        (activation): ReLU()\n",
      "      )\n",
      "      (mask_fcn4): Conv2d(\n",
      "        256, 256, kernel_size=(3, 3), stride=(1, 1), padding=(1, 1)\n",
      "        (activation): ReLU()\n",
      "      )\n",
      "      (deconv): ConvTranspose2d(256, 256, kernel_size=(2, 2), stride=(2, 2))\n",
      "      (deconv_relu): ReLU()\n",
      "      (predictor): Conv2d(256, 4, kernel_size=(1, 1), stride=(1, 1))\n",
      "    )\n",
      "  )\n",
      ")\n",
      "\u001b[5m\u001b[31mWARNING\u001b[0m \u001b[32m[05/05 17:40:21 d2.data.datasets.coco]: \u001b[0m\n",
      "Category ids in annotations are not in [1, #categories]! We'll apply a mapping for you.\n",
      "\n",
      "\u001b[32m[05/05 17:40:21 d2.data.datasets.coco]: \u001b[0mLoaded 369 images in COCO format from segments/etaylor_cannabis_patches_train_26-04-2024_15-44-44/annotations/export_coco-instance_etaylor_cannabis_patches_train_26-04-2024_15-44-44_v0.1.json\n",
      "\u001b[32m[05/05 17:40:21 d2.data.build]: \u001b[0mRemoved 0 images with no usable annotations. 369 images left.\n",
      "\u001b[32m[05/05 17:40:21 d2.data.build]: \u001b[0mDistribution of instances among all 4 categories:\n",
      "\u001b[36m|  category  | #instances   |  category  | #instances   |  category  | #instances   |\n",
      "|:----------:|:-------------|:----------:|:-------------|:----------:|:-------------|\n",
      "|  trichome  | 0            |   clear    | 1970         |   cloudy   | 3485         |\n",
      "|   amber    | 421          |            |              |            |              |\n",
      "|   total    | 5876         |            |              |            |              |\u001b[0m\n",
      "\u001b[32m[05/05 17:40:21 d2.data.dataset_mapper]: \u001b[0m[DatasetMapper] Augmentations used in training: [ResizeShortestEdge(short_edge_length=(640, 672, 704, 736, 768, 800), max_size=1333, sample_style='choice'), RandomFlip()]\n",
      "\u001b[32m[05/05 17:40:21 d2.data.build]: \u001b[0mUsing training sampler TrainingSampler\n",
      "\u001b[32m[05/05 17:40:21 d2.data.common]: \u001b[0mSerializing the dataset using: <class 'detectron2.data.common._TorchSerializedList'>\n",
      "\u001b[32m[05/05 17:40:21 d2.data.common]: \u001b[0mSerializing 369 elements to byte tensors and concatenating them all ...\n",
      "\u001b[32m[05/05 17:40:21 d2.data.common]: \u001b[0mSerialized dataset takes 0.85 MiB\n",
      "\u001b[32m[05/05 17:40:21 d2.data.build]: \u001b[0mMaking batched data loader with batch_size=2\n",
      "\u001b[32m[05/05 17:40:21 d2.checkpoint.detection_checkpoint]: \u001b[0m[DetectionCheckpointer] Loading from https://dl.fbaipublicfiles.com/detectron2/COCO-InstanceSegmentation/mask_rcnn_R_50_FPN_3x/137849600/model_final_f10217.pkl ...\n"
     ]
    },
    {
     "name": "stderr",
     "output_type": "stream",
     "text": [
      "Skip loading parameter 'roi_heads.box_predictor.cls_score.weight' to the model due to incompatible shapes: (81, 1024) in the checkpoint but (5, 1024) in the model! You might want to double check if this is expected.\n",
      "Skip loading parameter 'roi_heads.box_predictor.cls_score.bias' to the model due to incompatible shapes: (81,) in the checkpoint but (5,) in the model! You might want to double check if this is expected.\n",
      "Skip loading parameter 'roi_heads.box_predictor.bbox_pred.weight' to the model due to incompatible shapes: (320, 1024) in the checkpoint but (16, 1024) in the model! You might want to double check if this is expected.\n",
      "Skip loading parameter 'roi_heads.box_predictor.bbox_pred.bias' to the model due to incompatible shapes: (320,) in the checkpoint but (16,) in the model! You might want to double check if this is expected.\n",
      "Skip loading parameter 'roi_heads.mask_head.predictor.weight' to the model due to incompatible shapes: (80, 256, 1, 1) in the checkpoint but (4, 256, 1, 1) in the model! You might want to double check if this is expected.\n",
      "Skip loading parameter 'roi_heads.mask_head.predictor.bias' to the model due to incompatible shapes: (80,) in the checkpoint but (4,) in the model! You might want to double check if this is expected.\n",
      "Some model parameters or buffers are not found in the checkpoint:\n",
      "\u001b[34mroi_heads.box_predictor.bbox_pred.{bias, weight}\u001b[0m\n",
      "\u001b[34mroi_heads.box_predictor.cls_score.{bias, weight}\u001b[0m\n",
      "\u001b[34mroi_heads.mask_head.predictor.{bias, weight}\u001b[0m\n"
     ]
    }
   ],
   "source": [
    "cfg = get_cfg()\n",
    "cfg.OUTPUT_DIR = model_saving_path\n",
    "cfg.merge_from_file(model_zoo.get_config_file(f\"{model}.yaml\"))\n",
    "cfg.DATASETS.TRAIN = (dataset_name_train,)\n",
    "cfg.DATASETS.TEST = ()\n",
    "cfg.INPUT.MASK_FORMAT = \"bitmask\"\n",
    "cfg.DATALOADER.NUM_WORKERS = 2\n",
    "cfg.MODEL.WEIGHTS = model_zoo.get_checkpoint_url(f\"{model}.yaml\")  # Let training initialize from model zoo\n",
    "cfg.SOLVER.IMS_PER_BATCH = 2  # This is the real \"batch size\" commonly known to deep learning people\n",
    "cfg.SOLVER.BASE_LR = 0.00025  # pick a good LR\n",
    "cfg.SOLVER.MAX_ITER = 1000\n",
    "cfg.SOLVER.STEPS = []        # do not decay learning rate\n",
    "cfg.MODEL.ROI_HEADS.BATCH_SIZE_PER_IMAGE = 512   # Default is 512.\n",
    "cfg.MODEL.ROI_HEADS.NUM_CLASSES = 4  # We have 4 classes.\n",
    "# NOTE: this config means the number of classes, without the background. Do not use num_classes+1 here.\n",
    "\n",
    "os.makedirs(cfg.OUTPUT_DIR, exist_ok=True)\n",
    "trainer = DefaultTrainer(cfg) #Create an instance of of DefaultTrainer with the given configuration\n",
    "trainer.resume_or_load(resume=False) #Load a pretrained model if available (resume training) or start training from scratch if no pretrained model is available\n"
   ]
  },
  {
   "cell_type": "code",
   "execution_count": 10,
   "metadata": {},
   "outputs": [
    {
     "name": "stdout",
     "output_type": "stream",
     "text": [
      "\u001b[32m[05/05 17:40:23 d2.engine.train_loop]: \u001b[0mStarting training from iteration 0\n"
     ]
    },
    {
     "name": "stderr",
     "output_type": "stream",
     "text": [
      "/home/etaylor/.conda/envs/detectron/lib/python3.9/site-packages/detectron2/data/detection_utils.py:446: UserWarning: The given NumPy array is not writeable, and PyTorch does not support non-writeable tensors. This means you can write to the underlying (supposedly non-writeable) NumPy array using the tensor. You may want to copy the array to protect its data or make it writeable before converting it to a tensor. This type of warning will be suppressed for the rest of this program. (Triggered internally at  /pytorch/torch/csrc/utils/tensor_numpy.cpp:180.)\n",
      "  torch.stack([torch.from_numpy(np.ascontiguousarray(x)) for x in masks])\n",
      "/home/etaylor/.conda/envs/detectron/lib/python3.9/site-packages/detectron2/data/detection_utils.py:446: UserWarning: The given NumPy array is not writeable, and PyTorch does not support non-writeable tensors. This means you can write to the underlying (supposedly non-writeable) NumPy array using the tensor. You may want to copy the array to protect its data or make it writeable before converting it to a tensor. This type of warning will be suppressed for the rest of this program. (Triggered internally at  /pytorch/torch/csrc/utils/tensor_numpy.cpp:180.)\n",
      "  torch.stack([torch.from_numpy(np.ascontiguousarray(x)) for x in masks])\n",
      "/home/etaylor/.conda/envs/detectron/lib/python3.9/site-packages/torch/nn/functional.py:718: UserWarning: Named tensors and all their associated APIs are an experimental feature and subject to change. Please do not use them for anything important until they are released as stable. (Triggered internally at  /pytorch/c10/core/TensorImpl.h:1156.)\n",
      "  return torch.max_pool2d(input, kernel_size, stride, padding, dilation, ceil_mode)\n"
     ]
    },
    {
     "name": "stdout",
     "output_type": "stream",
     "text": [
      "\u001b[32m[05/05 17:40:27 d2.utils.events]: \u001b[0m eta: 0:01:52  iter: 19  total_loss: 4.138  loss_cls: 1.598  loss_box_reg: 0.2733  loss_mask: 0.6961  loss_rpn_cls: 1.425  loss_rpn_loc: 0.1079    time: 0.1207  last_time: 0.1142  data_time: 0.0380  last_data_time: 0.0083   lr: 4.9953e-06  max_mem: 3238M\n",
      "\u001b[32m[05/05 17:40:30 d2.utils.events]: \u001b[0m eta: 0:01:46  iter: 39  total_loss: 3.284  loss_cls: 1.43  loss_box_reg: 0.3589  loss_mask: 0.6917  loss_rpn_cls: 0.803  loss_rpn_loc: 0.08934    time: 0.1165  last_time: 0.1219  data_time: 0.0084  last_data_time: 0.0151   lr: 9.9902e-06  max_mem: 3238M\n",
      "\u001b[32m[05/05 17:40:32 d2.utils.events]: \u001b[0m eta: 0:01:45  iter: 59  total_loss: 2.945  loss_cls: 1.227  loss_box_reg: 0.5063  loss_mask: 0.68  loss_rpn_cls: 0.3725  loss_rpn_loc: 0.09496    time: 0.1162  last_time: 0.1313  data_time: 0.0086  last_data_time: 0.0140   lr: 1.4985e-05  max_mem: 3375M\n",
      "\u001b[32m[05/05 17:40:35 d2.utils.events]: \u001b[0m eta: 0:01:45  iter: 79  total_loss: 2.626  loss_cls: 0.9877  loss_box_reg: 0.5542  loss_mask: 0.6638  loss_rpn_cls: 0.2032  loss_rpn_loc: 0.09762    time: 0.1169  last_time: 0.1608  data_time: 0.0098  last_data_time: 0.0419   lr: 1.998e-05  max_mem: 3384M\n",
      "\u001b[32m[05/05 17:40:37 d2.utils.events]: \u001b[0m eta: 0:01:43  iter: 99  total_loss: 2.165  loss_cls: 0.7841  loss_box_reg: 0.5168  loss_mask: 0.6445  loss_rpn_cls: 0.115  loss_rpn_loc: 0.06444    time: 0.1168  last_time: 0.1124  data_time: 0.0098  last_data_time: 0.0051   lr: 2.4975e-05  max_mem: 3384M\n",
      "\u001b[32m[05/05 17:40:39 d2.utils.events]: \u001b[0m eta: 0:01:41  iter: 119  total_loss: 2.01  loss_cls: 0.6639  loss_box_reg: 0.524  loss_mask: 0.6149  loss_rpn_cls: 0.08611  loss_rpn_loc: 0.07473    time: 0.1170  last_time: 0.1086  data_time: 0.0095  last_data_time: 0.0057   lr: 2.997e-05  max_mem: 3514M\n",
      "\u001b[32m[05/05 17:40:42 d2.utils.events]: \u001b[0m eta: 0:01:38  iter: 139  total_loss: 2.096  loss_cls: 0.6767  loss_box_reg: 0.6182  loss_mask: 0.5808  loss_rpn_cls: 0.08645  loss_rpn_loc: 0.08264    time: 0.1164  last_time: 0.1059  data_time: 0.0081  last_data_time: 0.0060   lr: 3.4965e-05  max_mem: 3514M\n",
      "\u001b[32m[05/05 17:40:44 d2.utils.events]: \u001b[0m eta: 0:01:36  iter: 159  total_loss: 1.781  loss_cls: 0.5688  loss_box_reg: 0.5829  loss_mask: 0.5336  loss_rpn_cls: 0.0628  loss_rpn_loc: 0.06065    time: 0.1165  last_time: 0.1126  data_time: 0.0075  last_data_time: 0.0052   lr: 3.996e-05  max_mem: 3514M\n",
      "\u001b[32m[05/05 17:40:46 d2.utils.events]: \u001b[0m eta: 0:01:34  iter: 179  total_loss: 1.755  loss_cls: 0.5366  loss_box_reg: 0.5423  loss_mask: 0.5098  loss_rpn_cls: 0.08477  loss_rpn_loc: 0.05539    time: 0.1169  last_time: 0.1056  data_time: 0.0082  last_data_time: 0.0066   lr: 4.4955e-05  max_mem: 3514M\n",
      "\u001b[32m[05/05 17:40:49 d2.utils.events]: \u001b[0m eta: 0:01:32  iter: 199  total_loss: 1.938  loss_cls: 0.5983  loss_box_reg: 0.6751  loss_mask: 0.478  loss_rpn_cls: 0.05644  loss_rpn_loc: 0.07714    time: 0.1179  last_time: 0.1179  data_time: 0.0132  last_data_time: 0.0061   lr: 4.995e-05  max_mem: 3514M\n",
      "\u001b[32m[05/05 17:40:51 d2.utils.events]: \u001b[0m eta: 0:01:30  iter: 219  total_loss: 1.872  loss_cls: 0.5562  loss_box_reg: 0.6082  loss_mask: 0.4369  loss_rpn_cls: 0.07363  loss_rpn_loc: 0.07223    time: 0.1187  last_time: 0.1085  data_time: 0.0098  last_data_time: 0.0065   lr: 5.4945e-05  max_mem: 3514M\n",
      "\u001b[32m[05/05 17:40:54 d2.utils.events]: \u001b[0m eta: 0:01:28  iter: 239  total_loss: 1.832  loss_cls: 0.5521  loss_box_reg: 0.6006  loss_mask: 0.4142  loss_rpn_cls: 0.06973  loss_rpn_loc: 0.06774    time: 0.1186  last_time: 0.1316  data_time: 0.0078  last_data_time: 0.0144   lr: 5.994e-05  max_mem: 3514M\n",
      "\u001b[32m[05/05 17:40:56 d2.utils.events]: \u001b[0m eta: 0:01:25  iter: 259  total_loss: 1.569  loss_cls: 0.4617  loss_box_reg: 0.5607  loss_mask: 0.3983  loss_rpn_cls: 0.06152  loss_rpn_loc: 0.05119    time: 0.1179  last_time: 0.1009  data_time: 0.0060  last_data_time: 0.0048   lr: 6.4935e-05  max_mem: 3514M\n",
      "\u001b[32m[05/05 17:40:58 d2.utils.events]: \u001b[0m eta: 0:01:23  iter: 279  total_loss: 1.67  loss_cls: 0.4745  loss_box_reg: 0.6712  loss_mask: 0.3828  loss_rpn_cls: 0.05292  loss_rpn_loc: 0.05299    time: 0.1176  last_time: 0.1180  data_time: 0.0059  last_data_time: 0.0061   lr: 6.993e-05  max_mem: 3514M\n",
      "\u001b[32m[05/05 17:41:01 d2.utils.events]: \u001b[0m eta: 0:01:20  iter: 299  total_loss: 1.625  loss_cls: 0.4821  loss_box_reg: 0.6331  loss_mask: 0.3586  loss_rpn_cls: 0.05759  loss_rpn_loc: 0.07341    time: 0.1176  last_time: 0.1383  data_time: 0.0084  last_data_time: 0.0216   lr: 7.4925e-05  max_mem: 3514M\n",
      "\u001b[32m[05/05 17:41:03 d2.utils.events]: \u001b[0m eta: 0:01:18  iter: 319  total_loss: 1.647  loss_cls: 0.5153  loss_box_reg: 0.6129  loss_mask: 0.3766  loss_rpn_cls: 0.06226  loss_rpn_loc: 0.06618    time: 0.1181  last_time: 0.0997  data_time: 0.0100  last_data_time: 0.0044   lr: 7.992e-05  max_mem: 3524M\n",
      "\u001b[32m[05/05 17:41:06 d2.utils.events]: \u001b[0m eta: 0:01:16  iter: 339  total_loss: 1.534  loss_cls: 0.4566  loss_box_reg: 0.598  loss_mask: 0.3412  loss_rpn_cls: 0.04917  loss_rpn_loc: 0.07441    time: 0.1182  last_time: 0.1101  data_time: 0.0102  last_data_time: 0.0040   lr: 8.4915e-05  max_mem: 3524M\n",
      "\u001b[32m[05/05 17:41:08 d2.utils.events]: \u001b[0m eta: 0:01:14  iter: 359  total_loss: 1.48  loss_cls: 0.4229  loss_box_reg: 0.5678  loss_mask: 0.3499  loss_rpn_cls: 0.0541  loss_rpn_loc: 0.05808    time: 0.1183  last_time: 0.1260  data_time: 0.0069  last_data_time: 0.0042   lr: 8.991e-05  max_mem: 3524M\n",
      "\u001b[32m[05/05 17:41:11 d2.utils.events]: \u001b[0m eta: 0:01:12  iter: 379  total_loss: 1.454  loss_cls: 0.4677  loss_box_reg: 0.5475  loss_mask: 0.3225  loss_rpn_cls: 0.05526  loss_rpn_loc: 0.06962    time: 0.1190  last_time: 0.1086  data_time: 0.0150  last_data_time: 0.0059   lr: 9.4905e-05  max_mem: 3524M\n",
      "\u001b[32m[05/05 17:41:13 d2.utils.events]: \u001b[0m eta: 0:01:10  iter: 399  total_loss: 1.373  loss_cls: 0.4447  loss_box_reg: 0.4761  loss_mask: 0.3031  loss_rpn_cls: 0.05272  loss_rpn_loc: 0.06083    time: 0.1194  last_time: 0.1285  data_time: 0.0095  last_data_time: 0.0102   lr: 9.99e-05  max_mem: 3524M\n",
      "\u001b[32m[05/05 17:41:16 d2.utils.events]: \u001b[0m eta: 0:01:08  iter: 419  total_loss: 1.316  loss_cls: 0.4188  loss_box_reg: 0.4606  loss_mask: 0.2925  loss_rpn_cls: 0.05482  loss_rpn_loc: 0.05594    time: 0.1201  last_time: 0.1093  data_time: 0.0102  last_data_time: 0.0061   lr: 0.0001049  max_mem: 3524M\n",
      "\u001b[32m[05/05 17:41:18 d2.utils.events]: \u001b[0m eta: 0:01:06  iter: 439  total_loss: 1.238  loss_cls: 0.3856  loss_box_reg: 0.4237  loss_mask: 0.2982  loss_rpn_cls: 0.05598  loss_rpn_loc: 0.05771    time: 0.1203  last_time: 0.1130  data_time: 0.0090  last_data_time: 0.0067   lr: 0.00010989  max_mem: 3524M\n",
      "\u001b[32m[05/05 17:41:21 d2.utils.events]: \u001b[0m eta: 0:01:03  iter: 459  total_loss: 1.247  loss_cls: 0.4335  loss_box_reg: 0.4302  loss_mask: 0.2598  loss_rpn_cls: 0.05776  loss_rpn_loc: 0.05243    time: 0.1203  last_time: 0.1278  data_time: 0.0083  last_data_time: 0.0132   lr: 0.00011489  max_mem: 3524M\n",
      "\u001b[32m[05/05 17:41:23 d2.utils.events]: \u001b[0m eta: 0:01:01  iter: 479  total_loss: 1.296  loss_cls: 0.4402  loss_box_reg: 0.4347  loss_mask: 0.2699  loss_rpn_cls: 0.07034  loss_rpn_loc: 0.07478    time: 0.1205  last_time: 0.1516  data_time: 0.0097  last_data_time: 0.0290   lr: 0.00011988  max_mem: 3524M\n",
      "\u001b[32m[05/05 17:41:26 d2.utils.events]: \u001b[0m eta: 0:00:59  iter: 499  total_loss: 1.233  loss_cls: 0.4175  loss_box_reg: 0.3977  loss_mask: 0.2494  loss_rpn_cls: 0.06151  loss_rpn_loc: 0.06982    time: 0.1209  last_time: 0.1281  data_time: 0.0098  last_data_time: 0.0148   lr: 0.00012488  max_mem: 3524M\n",
      "\u001b[32m[05/05 17:41:29 d2.utils.events]: \u001b[0m eta: 0:00:57  iter: 519  total_loss: 1.155  loss_cls: 0.4181  loss_box_reg: 0.3569  loss_mask: 0.2523  loss_rpn_cls: 0.06052  loss_rpn_loc: 0.06544    time: 0.1212  last_time: 0.1256  data_time: 0.0105  last_data_time: 0.0117   lr: 0.00012987  max_mem: 3524M\n",
      "\u001b[32m[05/05 17:41:31 d2.utils.events]: \u001b[0m eta: 0:00:54  iter: 539  total_loss: 1.117  loss_cls: 0.3879  loss_box_reg: 0.3526  loss_mask: 0.2156  loss_rpn_cls: 0.05434  loss_rpn_loc: 0.0555    time: 0.1214  last_time: 0.1456  data_time: 0.0096  last_data_time: 0.0109   lr: 0.00013487  max_mem: 3524M\n",
      "\u001b[32m[05/05 17:41:34 d2.utils.events]: \u001b[0m eta: 0:00:52  iter: 559  total_loss: 1.076  loss_cls: 0.3901  loss_box_reg: 0.3462  loss_mask: 0.2228  loss_rpn_cls: 0.04848  loss_rpn_loc: 0.067    time: 0.1216  last_time: 0.1154  data_time: 0.0087  last_data_time: 0.0060   lr: 0.00013986  max_mem: 3524M\n",
      "\u001b[32m[05/05 17:41:36 d2.utils.events]: \u001b[0m eta: 0:00:50  iter: 579  total_loss: 1.114  loss_cls: 0.3957  loss_box_reg: 0.3408  loss_mask: 0.2262  loss_rpn_cls: 0.04837  loss_rpn_loc: 0.05297    time: 0.1217  last_time: 0.1106  data_time: 0.0109  last_data_time: 0.0084   lr: 0.00014486  max_mem: 3524M\n",
      "\u001b[32m[05/05 17:41:39 d2.utils.events]: \u001b[0m eta: 0:00:48  iter: 599  total_loss: 0.9828  loss_cls: 0.346  loss_box_reg: 0.2831  loss_mask: 0.2359  loss_rpn_cls: 0.03951  loss_rpn_loc: 0.03938    time: 0.1218  last_time: 0.1307  data_time: 0.0082  last_data_time: 0.0150   lr: 0.00014985  max_mem: 3524M\n",
      "\u001b[32m[05/05 17:41:41 d2.utils.events]: \u001b[0m eta: 0:00:45  iter: 619  total_loss: 1.026  loss_cls: 0.3639  loss_box_reg: 0.2824  loss_mask: 0.2219  loss_rpn_cls: 0.04275  loss_rpn_loc: 0.04642    time: 0.1218  last_time: 0.1139  data_time: 0.0104  last_data_time: 0.0049   lr: 0.00015485  max_mem: 3524M\n",
      "\u001b[32m[05/05 17:41:44 d2.utils.events]: \u001b[0m eta: 0:00:43  iter: 639  total_loss: 1.15  loss_cls: 0.3666  loss_box_reg: 0.3315  loss_mask: 0.2341  loss_rpn_cls: 0.0498  loss_rpn_loc: 0.0537    time: 0.1219  last_time: 0.1217  data_time: 0.0082  last_data_time: 0.0069   lr: 0.00015984  max_mem: 3524M\n",
      "\u001b[32m[05/05 17:41:46 d2.utils.events]: \u001b[0m eta: 0:00:40  iter: 659  total_loss: 1.056  loss_cls: 0.3706  loss_box_reg: 0.3296  loss_mask: 0.2316  loss_rpn_cls: 0.04959  loss_rpn_loc: 0.06009    time: 0.1220  last_time: 0.1371  data_time: 0.0103  last_data_time: 0.0221   lr: 0.00016484  max_mem: 3524M\n",
      "\u001b[32m[05/05 17:41:49 d2.utils.events]: \u001b[0m eta: 0:00:38  iter: 679  total_loss: 1.135  loss_cls: 0.432  loss_box_reg: 0.311  loss_mask: 0.2108  loss_rpn_cls: 0.06117  loss_rpn_loc: 0.06933    time: 0.1222  last_time: 0.1299  data_time: 0.0126  last_data_time: 0.0070   lr: 0.00016983  max_mem: 3524M\n",
      "\u001b[32m[05/05 17:41:51 d2.utils.events]: \u001b[0m eta: 0:00:36  iter: 699  total_loss: 1.081  loss_cls: 0.3897  loss_box_reg: 0.3158  loss_mask: 0.2147  loss_rpn_cls: 0.04832  loss_rpn_loc: 0.06    time: 0.1224  last_time: 0.1016  data_time: 0.0096  last_data_time: 0.0059   lr: 0.00017483  max_mem: 3524M\n",
      "\u001b[32m[05/05 17:41:54 d2.utils.events]: \u001b[0m eta: 0:00:33  iter: 719  total_loss: 1.002  loss_cls: 0.3269  loss_box_reg: 0.3012  loss_mask: 0.2299  loss_rpn_cls: 0.04234  loss_rpn_loc: 0.05061    time: 0.1225  last_time: 0.1191  data_time: 0.0113  last_data_time: 0.0126   lr: 0.00017982  max_mem: 3527M\n",
      "\u001b[32m[05/05 17:41:57 d2.utils.events]: \u001b[0m eta: 0:00:31  iter: 739  total_loss: 1.136  loss_cls: 0.4265  loss_box_reg: 0.3372  loss_mask: 0.2307  loss_rpn_cls: 0.03683  loss_rpn_loc: 0.08316    time: 0.1227  last_time: 0.1302  data_time: 0.0128  last_data_time: 0.0143   lr: 0.00018482  max_mem: 3527M\n",
      "\u001b[32m[05/05 17:41:59 d2.utils.events]: \u001b[0m eta: 0:00:29  iter: 759  total_loss: 0.9155  loss_cls: 0.3393  loss_box_reg: 0.2841  loss_mask: 0.2153  loss_rpn_cls: 0.03804  loss_rpn_loc: 0.04989    time: 0.1228  last_time: 0.0947  data_time: 0.0080  last_data_time: 0.0059   lr: 0.00018981  max_mem: 3527M\n",
      "\u001b[32m[05/05 17:42:02 d2.utils.events]: \u001b[0m eta: 0:00:26  iter: 779  total_loss: 1.043  loss_cls: 0.3764  loss_box_reg: 0.2979  loss_mask: 0.2115  loss_rpn_cls: 0.0454  loss_rpn_loc: 0.06866    time: 0.1230  last_time: 0.1259  data_time: 0.0138  last_data_time: 0.0073   lr: 0.00019481  max_mem: 3527M\n",
      "\u001b[32m[05/05 17:42:04 d2.utils.events]: \u001b[0m eta: 0:00:24  iter: 799  total_loss: 0.9629  loss_cls: 0.3506  loss_box_reg: 0.2896  loss_mask: 0.2086  loss_rpn_cls: 0.03109  loss_rpn_loc: 0.0448    time: 0.1231  last_time: 0.1214  data_time: 0.0098  last_data_time: 0.0088   lr: 0.0001998  max_mem: 3527M\n",
      "\u001b[32m[05/05 17:42:07 d2.utils.events]: \u001b[0m eta: 0:00:21  iter: 819  total_loss: 1.018  loss_cls: 0.3728  loss_box_reg: 0.275  loss_mask: 0.2007  loss_rpn_cls: 0.04029  loss_rpn_loc: 0.05248    time: 0.1232  last_time: 0.1233  data_time: 0.0112  last_data_time: 0.0072   lr: 0.0002048  max_mem: 3527M\n",
      "\u001b[32m[05/05 17:42:09 d2.utils.events]: \u001b[0m eta: 0:00:19  iter: 839  total_loss: 1.063  loss_cls: 0.402  loss_box_reg: 0.3118  loss_mask: 0.211  loss_rpn_cls: 0.05842  loss_rpn_loc: 0.06232    time: 0.1232  last_time: 0.1225  data_time: 0.0077  last_data_time: 0.0113   lr: 0.00020979  max_mem: 3527M\n",
      "\u001b[32m[05/05 17:42:12 d2.utils.events]: \u001b[0m eta: 0:00:17  iter: 859  total_loss: 0.9345  loss_cls: 0.3442  loss_box_reg: 0.2596  loss_mask: 0.1931  loss_rpn_cls: 0.03622  loss_rpn_loc: 0.04887    time: 0.1232  last_time: 0.1224  data_time: 0.0089  last_data_time: 0.0080   lr: 0.00021479  max_mem: 3527M\n",
      "\u001b[32m[05/05 17:42:15 d2.utils.events]: \u001b[0m eta: 0:00:14  iter: 879  total_loss: 1.008  loss_cls: 0.342  loss_box_reg: 0.3124  loss_mask: 0.2195  loss_rpn_cls: 0.04969  loss_rpn_loc: 0.04769    time: 0.1234  last_time: 0.1426  data_time: 0.0092  last_data_time: 0.0035   lr: 0.00021978  max_mem: 3527M\n",
      "\u001b[32m[05/05 17:42:17 d2.utils.events]: \u001b[0m eta: 0:00:12  iter: 899  total_loss: 0.9743  loss_cls: 0.3573  loss_box_reg: 0.2801  loss_mask: 0.2155  loss_rpn_cls: 0.05542  loss_rpn_loc: 0.06856    time: 0.1234  last_time: 0.1343  data_time: 0.0115  last_data_time: 0.0131   lr: 0.00022478  max_mem: 3527M\n",
      "\u001b[32m[05/05 17:42:20 d2.utils.events]: \u001b[0m eta: 0:00:09  iter: 919  total_loss: 0.8204  loss_cls: 0.3201  loss_box_reg: 0.2507  loss_mask: 0.2259  loss_rpn_cls: 0.03156  loss_rpn_loc: 0.04579    time: 0.1235  last_time: 0.1350  data_time: 0.0078  last_data_time: 0.0083   lr: 0.00022977  max_mem: 3527M\n",
      "\u001b[32m[05/05 17:42:22 d2.utils.events]: \u001b[0m eta: 0:00:07  iter: 939  total_loss: 1.001  loss_cls: 0.369  loss_box_reg: 0.2986  loss_mask: 0.2148  loss_rpn_cls: 0.03886  loss_rpn_loc: 0.05445    time: 0.1236  last_time: 0.1434  data_time: 0.0097  last_data_time: 0.0068   lr: 0.00023477  max_mem: 3527M\n",
      "\u001b[32m[05/05 17:42:25 d2.utils.events]: \u001b[0m eta: 0:00:04  iter: 959  total_loss: 0.9315  loss_cls: 0.3555  loss_box_reg: 0.2693  loss_mask: 0.2047  loss_rpn_cls: 0.036  loss_rpn_loc: 0.05624    time: 0.1236  last_time: 0.1006  data_time: 0.0071  last_data_time: 0.0052   lr: 0.00023976  max_mem: 3527M\n",
      "\u001b[32m[05/05 17:42:27 d2.utils.events]: \u001b[0m eta: 0:00:02  iter: 979  total_loss: 0.9324  loss_cls: 0.3125  loss_box_reg: 0.2815  loss_mask: 0.2331  loss_rpn_cls: 0.05456  loss_rpn_loc: 0.06347    time: 0.1236  last_time: 0.1235  data_time: 0.0100  last_data_time: 0.0084   lr: 0.00024476  max_mem: 3527M\n",
      "\u001b[32m[05/05 17:42:31 d2.utils.events]: \u001b[0m eta: 0:00:00  iter: 999  total_loss: 0.8676  loss_cls: 0.343  loss_box_reg: 0.2664  loss_mask: 0.1953  loss_rpn_cls: 0.02872  loss_rpn_loc: 0.04648    time: 0.1238  last_time: 0.1969  data_time: 0.0140  last_data_time: 0.0787   lr: 0.00024975  max_mem: 3527M\n",
      "\u001b[32m[05/05 17:42:31 d2.engine.hooks]: \u001b[0mOverall training speed: 998 iterations in 0:02:03 (0.1238 s / it)\n",
      "\u001b[32m[05/05 17:42:31 d2.engine.hooks]: \u001b[0mTotal training time: 0:02:06 (0:00:03 on hooks)\n"
     ]
    }
   ],
   "source": [
    "trainer.train() # Start the training process"
   ]
  },
  {
   "cell_type": "code",
   "execution_count": 10,
   "metadata": {},
   "outputs": [
    {
     "name": "stdout",
     "output_type": "stream",
     "text": [
      "saving config to /home/etaylor/code_projects/thesis/checkpoints/detectron2/COCO-InstanceSegmentation/mask_rcnn_R_50_FPN_3x/27-04-2024_12-56-46/config.yaml\n"
     ]
    }
   ],
   "source": [
    "import yaml\n",
    "# Save the configuration to a config.yaml file\n",
    "config_yaml_path = os.path.join(cfg.OUTPUT_DIR, \"config.yaml\")\n",
    "print(f\"saving config to {config_yaml_path}\")\n",
    "with open(config_yaml_path, 'w') as file:\n",
    "    yaml.dump(cfg, file)"
   ]
  },
  {
   "cell_type": "code",
   "execution_count": 12,
   "metadata": {},
   "outputs": [
    {
     "data": {
      "text/plain": [
       "'/home/etaylor/code_projects/thesis/checkpoints/detectron2/COCO-InstanceSegmentation/mask_rcnn_R_50_FPN_3x/27-04-2024_12-56-46'"
      ]
     },
     "execution_count": 12,
     "metadata": {},
     "output_type": "execute_result"
    }
   ],
   "source": [
    "cfg.OUTPUT_DIR"
   ]
  },
  {
   "cell_type": "code",
   "execution_count": 11,
   "metadata": {},
   "outputs": [
    {
     "name": "stdout",
     "output_type": "stream",
     "text": [
      "\u001b[32m[05/05 17:42:32 d2.checkpoint.detection_checkpoint]: \u001b[0m[DetectionCheckpointer] Loading from /home/etaylor/code_projects/thesis/checkpoints/detectron2/COCO-InstanceSegmentation/mask_rcnn_R_50_FPN_3x/05-05-2024_17-39-23/model_final.pth ...\n"
     ]
    }
   ],
   "source": [
    "# Inference should use the config with parameters that are used in training\n",
    "# cfg now already contains everything we've set previously. We changed it a little bit for inference:\n",
    "cfg.MODEL.WEIGHTS = os.path.join(cfg.OUTPUT_DIR, \"model_final.pth\")  # path to the model we just trained\n",
    "cfg.MODEL.ROI_HEADS.SCORE_THRESH_TEST = 0.5   # set a custom testing threshold\n",
    "predictor = DefaultPredictor(cfg)"
   ]
  },
  {
   "cell_type": "markdown",
   "metadata": {},
   "source": [
    "### In order to keep playing with the model use `predictor`"
   ]
  },
  {
   "cell_type": "markdown",
   "metadata": {},
   "source": [
    "Plot model predictions on test set"
   ]
  },
  {
   "cell_type": "code",
   "execution_count": null,
   "metadata": {},
   "outputs": [],
   "source": [
    "from src.segmentation.framework_handlers.detectron2_handler import plot_test_predictions\n",
    "\n",
    "plot_test_predictions(dataset_dicts_test, metadata_test, predictor)"
   ]
  },
  {
   "cell_type": "markdown",
   "metadata": {},
   "source": [
    "#### Register new test set and evaluate metrics"
   ]
  },
  {
   "cell_type": "code",
   "execution_count": 24,
   "metadata": {},
   "outputs": [
    {
     "name": "stdout",
     "output_type": "stream",
     "text": [
      "Initializing dataset...\n",
      "Preloading all samples. This may take a while...\n"
     ]
    },
    {
     "name": "stderr",
     "output_type": "stream",
     "text": [
      "100%|\u001b[38;2;255;153;0m██████████\u001b[0m| 15/15 [00:03<00:00,  4.78it/s]\n"
     ]
    },
    {
     "name": "stdout",
     "output_type": "stream",
     "text": [
      "Initialized dataset with 15 images.\n",
      "Exporting dataset. This may take a while...\n"
     ]
    },
    {
     "name": "stderr",
     "output_type": "stream",
     "text": [
      "100%|\u001b[38;2;255;153;0m██████████\u001b[0m| 15/15 [00:01<00:00, 12.75it/s]"
     ]
    },
    {
     "name": "stdout",
     "output_type": "stream",
     "text": [
      "Exported to ./export_coco-instance_etaylor_cannabis_patches_week9_15_06_2023_3x_regular_IMG_2285_v0.2.json. Images in segments/etaylor_cannabis_patches_week9_15_06_2023_3x_regular_IMG_2285/v0.2\n",
      "\u001b[5m\u001b[31mWARNING\u001b[0m \u001b[32m[12/30 01:19:25 d2.data.datasets.coco]: \u001b[0m\n",
      "Category ids in annotations are not in [1, #categories]! We'll apply a mapping for you.\n",
      "\n",
      "\u001b[32m[12/30 01:19:25 d2.data.datasets.coco]: \u001b[0mLoaded 15 images in COCO format from segments/etaylor_cannabis_patches_week9_15_06_2023_3x_regular_IMG_2285/annotations/export_coco-instance_etaylor_cannabis_patches_week9_15_06_2023_3x_regular_IMG_2285_v0.2.json\n"
     ]
    },
    {
     "name": "stderr",
     "output_type": "stream",
     "text": [
      "\n"
     ]
    }
   ],
   "source": [
    "# Register new test set\n",
    "from src.segmentation.framework_handlers.detectron2_handler import convert_segments_to_coco_format\n",
    "from detectron2.data import DatasetCatalog, MetadataCatalog\n",
    "from detectron2.data.datasets import register_coco_instances\n",
    "\n",
    "dataset_name_test = \"etaylor/cannabis_patches_week9_15_06_2023_3x_regular_IMG_2285\"\n",
    "release_test = \"v0.2\"\n",
    "\n",
    "# Convert segments dataset to coco format for testing dataset\n",
    "_, test_export_json_path, test_saved_images_path = convert_segments_to_coco_format(\n",
    "    dataset_name=dataset_name_test, \n",
    "    release_version=release_test, \n",
    ")\n",
    "\n",
    "register_coco_instances(dataset_name_test, {}, test_export_json_path, test_saved_images_path)\n",
    "\n",
    "metadata_test = MetadataCatalog.get(dataset_name_test)\n",
    "dataset_dicts_test = DatasetCatalog.get(dataset_name_test)"
   ]
  },
  {
   "cell_type": "markdown",
   "metadata": {},
   "source": [
    "Evaluate the performance of the trained model on the test dataset using the `COCOEvaluator`"
   ]
  },
  {
   "cell_type": "code",
   "execution_count": 15,
   "metadata": {},
   "outputs": [
    {
     "name": "stdout",
     "output_type": "stream",
     "text": [
      "\u001b[5m\u001b[31mWARNING\u001b[0m \u001b[32m[05/05 17:46:59 d2.data.datasets.coco]: \u001b[0m\n",
      "Category ids in annotations are not in [1, #categories]! We'll apply a mapping for you.\n",
      "\n",
      "\u001b[32m[05/05 17:46:59 d2.data.datasets.coco]: \u001b[0mLoaded 106 images in COCO format from segments/etaylor_cannabis_patches_test_26-04-2024_15-44-44/annotations/export_coco-instance_etaylor_cannabis_patches_test_26-04-2024_15-44-44_v0.1.json\n",
      "\u001b[32m[05/05 17:46:59 d2.data.dataset_mapper]: \u001b[0m[DatasetMapper] Augmentations used in inference: [ResizeShortestEdge(short_edge_length=(800, 800), max_size=1333, sample_style='choice')]\n",
      "\u001b[32m[05/05 17:46:59 d2.data.common]: \u001b[0mSerializing the dataset using: <class 'detectron2.data.common._TorchSerializedList'>\n",
      "\u001b[32m[05/05 17:46:59 d2.data.common]: \u001b[0mSerializing 106 elements to byte tensors and concatenating them all ...\n",
      "\u001b[32m[05/05 17:46:59 d2.data.common]: \u001b[0mSerialized dataset takes 0.22 MiB\n",
      "\u001b[32m[05/05 17:46:59 d2.evaluation.evaluator]: \u001b[0mStart inference on 106 batches\n"
     ]
    },
    {
     "name": "stdout",
     "output_type": "stream",
     "text": [
      "\u001b[32m[05/05 17:47:00 d2.evaluation.evaluator]: \u001b[0mInference done 11/106. Dataloading: 0.0010 s/iter. Inference: 0.0369 s/iter. Eval: 0.0088 s/iter. Total: 0.0467 s/iter. ETA=0:00:04\n",
      "\u001b[32m[05/05 17:47:04 d2.evaluation.evaluator]: \u001b[0mTotal inference time: 0:00:04.775814 (0.047285 s / iter per device, on 1 devices)\n",
      "\u001b[32m[05/05 17:47:04 d2.evaluation.evaluator]: \u001b[0mTotal inference pure compute time: 0:00:03 (0.036493 s / iter per device, on 1 devices)\n",
      "\u001b[32m[05/05 17:47:04 d2.evaluation.coco_evaluation]: \u001b[0mPreparing results for COCO format ...\n",
      "\u001b[32m[05/05 17:47:04 d2.evaluation.coco_evaluation]: \u001b[0mSaving results to /home/etaylor/code_projects/thesis/checkpoints/detectron2/COCO-InstanceSegmentation/mask_rcnn_R_50_FPN_3x/05-05-2024_17-39-23/etaylor/cannabis_patches_test_26-04-2024_15-44-44/coco_instances_results.json\n",
      "\u001b[32m[05/05 17:47:04 d2.evaluation.coco_evaluation]: \u001b[0mEvaluating predictions with unofficial COCO API...\n",
      "Loading and preparing results...\n",
      "DONE (t=0.00s)\n",
      "creating index...\n",
      "index created!\n",
      "\u001b[32m[05/05 17:47:04 d2.evaluation.fast_eval_api]: \u001b[0mEvaluate annotation type *bbox*\n",
      "\u001b[32m[05/05 17:47:04 d2.evaluation.fast_eval_api]: \u001b[0mCOCOeval_opt.evaluate() finished in 0.16 seconds.\n",
      "\u001b[32m[05/05 17:47:04 d2.evaluation.fast_eval_api]: \u001b[0mAccumulating evaluation results...\n",
      "\u001b[32m[05/05 17:47:04 d2.evaluation.fast_eval_api]: \u001b[0mCOCOeval_opt.accumulate() finished in 0.01 seconds.\n",
      " Average Precision  (AP) @[ IoU=0.50:0.95 | area=   all | maxDets=100 ] = 0.175\n",
      " Average Precision  (AP) @[ IoU=0.50      | area=   all | maxDets=100 ] = 0.233\n",
      " Average Precision  (AP) @[ IoU=0.75      | area=   all | maxDets=100 ] = 0.209\n",
      " Average Precision  (AP) @[ IoU=0.50:0.95 | area= small | maxDets=100 ] = 0.181\n",
      " Average Precision  (AP) @[ IoU=0.50:0.95 | area=medium | maxDets=100 ] = 0.175\n",
      " Average Precision  (AP) @[ IoU=0.50:0.95 | area= large | maxDets=100 ] = -1.000\n",
      " Average Recall     (AR) @[ IoU=0.50:0.95 | area=   all | maxDets=  1 ] = 0.043\n",
      " Average Recall     (AR) @[ IoU=0.50:0.95 | area=   all | maxDets= 10 ] = 0.188\n",
      " Average Recall     (AR) @[ IoU=0.50:0.95 | area=   all | maxDets=100 ] = 0.234\n",
      " Average Recall     (AR) @[ IoU=0.50:0.95 | area= small | maxDets=100 ] = 0.214\n",
      " Average Recall     (AR) @[ IoU=0.50:0.95 | area=medium | maxDets=100 ] = 0.237\n",
      " Average Recall     (AR) @[ IoU=0.50:0.95 | area= large | maxDets=100 ] = -1.000\n",
      "\u001b[32m[05/05 17:47:04 d2.evaluation.coco_evaluation]: \u001b[0mEvaluation results for bbox: \n",
      "|   AP   |  AP50  |  AP75  |  APs   |  APm   |  APl  |\n",
      "|:------:|:------:|:------:|:------:|:------:|:-----:|\n",
      "| 17.465 | 23.281 | 20.905 | 18.141 | 17.517 |  nan  |\n",
      "\u001b[32m[05/05 17:47:04 d2.evaluation.coco_evaluation]: \u001b[0mSome metrics cannot be computed and is shown as NaN.\n",
      "\u001b[32m[05/05 17:47:04 d2.evaluation.coco_evaluation]: \u001b[0mPer-category bbox AP: \n",
      "| category   | AP    | category   | AP    | category   | AP     |\n",
      "|:-----------|:------|:-----------|:------|:-----------|:-------|\n",
      "| trichome   | nan   | clear      | 5.442 | cloudy     | 45.320 |\n",
      "| amber      | 1.634 |            |       |            |        |\n",
      "Loading and preparing results...\n",
      "DONE (t=0.01s)\n",
      "creating index...\n",
      "index created!\n",
      "\u001b[32m[05/05 17:47:04 d2.evaluation.fast_eval_api]: \u001b[0mEvaluate annotation type *segm*\n",
      "\u001b[32m[05/05 17:47:04 d2.evaluation.fast_eval_api]: \u001b[0mCOCOeval_opt.evaluate() finished in 0.03 seconds.\n",
      "\u001b[32m[05/05 17:47:04 d2.evaluation.fast_eval_api]: \u001b[0mAccumulating evaluation results...\n",
      "\u001b[32m[05/05 17:47:04 d2.evaluation.fast_eval_api]: \u001b[0mCOCOeval_opt.accumulate() finished in 0.01 seconds.\n",
      " Average Precision  (AP) @[ IoU=0.50:0.95 | area=   all | maxDets=100 ] = 0.177\n",
      " Average Precision  (AP) @[ IoU=0.50      | area=   all | maxDets=100 ] = 0.229\n",
      " Average Precision  (AP) @[ IoU=0.75      | area=   all | maxDets=100 ] = 0.210\n",
      " Average Precision  (AP) @[ IoU=0.50:0.95 | area= small | maxDets=100 ] = 0.144\n",
      " Average Precision  (AP) @[ IoU=0.50:0.95 | area=medium | maxDets=100 ] = 0.187\n",
      " Average Precision  (AP) @[ IoU=0.50:0.95 | area= large | maxDets=100 ] = -1.000\n",
      " Average Recall     (AR) @[ IoU=0.50:0.95 | area=   all | maxDets=  1 ] = 0.043\n",
      " Average Recall     (AR) @[ IoU=0.50:0.95 | area=   all | maxDets= 10 ] = 0.192\n",
      " Average Recall     (AR) @[ IoU=0.50:0.95 | area=   all | maxDets=100 ] = 0.238\n",
      " Average Recall     (AR) @[ IoU=0.50:0.95 | area= small | maxDets=100 ] = 0.212\n",
      " Average Recall     (AR) @[ IoU=0.50:0.95 | area=medium | maxDets=100 ] = 0.243\n",
      " Average Recall     (AR) @[ IoU=0.50:0.95 | area= large | maxDets=100 ] = -1.000\n",
      "\u001b[32m[05/05 17:47:04 d2.evaluation.coco_evaluation]: \u001b[0mEvaluation results for segm: \n",
      "|   AP   |  AP50  |  AP75  |  APs   |  APm   |  APl  |\n",
      "|:------:|:------:|:------:|:------:|:------:|:-----:|\n",
      "| 17.736 | 22.896 | 20.962 | 14.398 | 18.707 |  nan  |\n",
      "\u001b[32m[05/05 17:47:04 d2.evaluation.coco_evaluation]: \u001b[0mSome metrics cannot be computed and is shown as NaN.\n",
      "\u001b[32m[05/05 17:47:04 d2.evaluation.coco_evaluation]: \u001b[0mPer-category segm AP: \n",
      "| category   | AP    | category   | AP    | category   | AP     |\n",
      "|:-----------|:------|:-----------|:------|:-----------|:-------|\n",
      "| trichome   | nan   | clear      | 5.355 | cloudy     | 46.367 |\n",
      "| amber      | 1.485 |            |       |            |        |\n"
     ]
    }
   ],
   "source": [
    "from detectron2.evaluation import COCOEvaluator, inference_on_dataset, DatasetEvaluator\n",
    "from detectron2.data import build_detection_test_loader\n",
    "import json\n",
    "\n",
    "evaluator = COCOEvaluator(dataset_name_test, output_dir=os.path.join(cfg.OUTPUT_DIR, dataset_name_test))\n",
    "val_loader = build_detection_test_loader(cfg, dataset_name_test)\n",
    "eval_results = inference_on_dataset(predictor.model, val_loader, evaluator)\n",
    "\n",
    "# Check if the directory exists\n",
    "output_dir = os.path.join(cfg.OUTPUT_DIR, os.path.basename(dataset_name_test))\n",
    "if not os.path.exists(output_dir):\n",
    "    os.mkdir(output_dir)\n",
    "    \n",
    "eval_results_saving_path = os.path.join(cfg.OUTPUT_DIR, os.path.basename(dataset_name_test), \"evaluation_results.json\")\n",
    "# Save the eval_results dictionary to a JSON file\n",
    "with open(eval_results_saving_path, 'w') as file:\n",
    "    json.dump(eval_results, file, indent=4)"
   ]
  },
  {
   "cell_type": "code",
   "execution_count": null,
   "metadata": {},
   "outputs": [],
   "source": []
  },
  {
   "cell_type": "markdown",
   "metadata": {},
   "source": [
    "#### Segment images and save object level information into a csv file.\n",
    "\n"
   ]
  },
  {
   "cell_type": "code",
   "execution_count": 11,
   "metadata": {},
   "outputs": [
    {
     "data": {
      "text/plain": [
       "'Object-level information saved to CSV file at /home/etaylor/code_projects/thesis/segments/etaylor_cannabis_patches_week8_07_06_2023_3x_regular_IMG_1753/detected_objects.csv'"
      ]
     },
     "execution_count": 11,
     "metadata": {},
     "output_type": "execute_result"
    }
   ],
   "source": [
    "from src.segmentation.framework_handlers.detectron2_handler import extract_object_info_to_csv\n",
    "\n",
    "dataset_directory = \"/home/etaylor/code_projects/thesis/segments/etaylor_cannabis_patches_week8_07_06_2023_3x_regular_IMG_1753\" \n",
    "input_images_directory = os.path.join(dataset_directory, \"v0.1\")\n",
    "csv_file_name = \"detected_objects.csv\"\n",
    "output_csv_path = os.path.join(dataset_directory,csv_file_name)\n",
    "\n",
    "extract_object_info_to_csv(input_images_directory, output_csv_path, predictor, metadata_train)"
   ]
  },
  {
   "cell_type": "code",
   "execution_count": null,
   "metadata": {},
   "outputs": [],
   "source": [
    "from src.segmentation.framework_handlers.detectron2_handler import plot_class_statistics\n",
    "\n",
    "plot_class_statistics(output_csv_path, metadata_train)"
   ]
  },
  {
   "cell_type": "code",
   "execution_count": 12,
   "metadata": {},
   "outputs": [
    {
     "name": "stderr",
     "output_type": "stream",
     "text": [
      "/tmp/ipykernel_24632/3811209441.py:19: FutureWarning: \n",
      "\n",
      "The `ci` parameter is deprecated. Use `errorbar=None` for the same effect.\n",
      "\n",
      "  sns.barplot(x=\"Class Name\", y=\"Object Number\", data=avg_objects_per_class, ci=None, order=class_names)\n"
     ]
    },
    {
     "data": {
      "image/png": "[encoded data removed]",
      "text/plain": [
       "<Figure size 1000x600 with 1 Axes>"
      ]
     },
     "metadata": {},
     "output_type": "display_data"
    },
    {
     "name": "stderr",
     "output_type": "stream",
     "text": [
      "/tmp/ipykernel_24632/3811209441.py:33: FutureWarning: \n",
      "\n",
      "The `ci` parameter is deprecated. Use `errorbar=None` for the same effect.\n",
      "\n",
      "  sns.barplot(x=\"Class Name\", y=\"Area\", data=avg_area_per_class, ci=None, order=class_names)\n"
     ]
    },
    {
     "data": {
      "image/png": "[encoded data removed]",
      "text/plain": [
       "<Figure size 1000x600 with 1 Axes>"
      ]
     },
     "metadata": {},
     "output_type": "display_data"
    }
   ],
   "source": [
    "import pandas as pd\n",
    "import seaborn as sns\n",
    "import matplotlib.pyplot as plt\n",
    "\n",
    "# Load the CSV file into a pandas DataFrame\n",
    "df = pd.read_csv(output_csv_path)\n",
    "\n",
    "# Get class names from train_metadata.thing_classes\n",
    "class_names = metadata_train.thing_classes\n",
    "\n",
    "# Group the data by both \"File Name\" and \"Class Name\" and calculate the average number of objects per image for each class\n",
    "# first group the data by both \"File Name\" and \"Class Name\" and count the number of objects within each group.\n",
    "#Then, group the data by \"Class Name\" only and calculate the mean of the counts, which gives us the average number of objects per image for each class.\n",
    "avg_objects_per_class = df.groupby([\"File Name\", \"Class Name\"])[\"Object Number\"].count().reset_index()\n",
    "avg_objects_per_class = avg_objects_per_class.groupby(\"Class Name\")[\"Object Number\"].mean().reset_index()\n",
    "\n",
    "# Plot: Average number of objects per image for each class\n",
    "plt.figure(figsize=(10, 6))\n",
    "sns.barplot(x=\"Class Name\", y=\"Object Number\", data=avg_objects_per_class, ci=None, order=class_names)\n",
    "plt.xticks(rotation=45)\n",
    "plt.xlabel(\"Class Name\")\n",
    "plt.ylabel(\"Average Number of Objects per Image\")\n",
    "plt.title(\"Average Number of Objects per Image for Each Class\")\n",
    "plt.tight_layout()\n",
    "plt.show()\n",
    "\n",
    "\n",
    "# Group the data by class and calculate the average area of objects for each class\n",
    "avg_area_per_class = df.groupby(\"Class Name\")[\"Area\"].mean().reset_index()\n",
    "\n",
    "# Plot: Average area of objects for each class\n",
    "plt.figure(figsize=(10, 6))\n",
    "sns.barplot(x=\"Class Name\", y=\"Area\", data=avg_area_per_class, ci=None, order=class_names)\n",
    "plt.xticks(rotation=45)\n",
    "plt.xlabel(\"Class Name\")\n",
    "plt.ylabel(\"Average Area of Objects\")\n",
    "plt.title(\"Average Area of Objects for Each Class\")\n",
    "plt.tight_layout()\n",
    "plt.show()\n"
   ]
  }
 ],
 "metadata": {
  "kernelspec": {
   "display_name": "test_env",
   "language": "python",
   "name": "python3"
  },
  "language_info": {
   "codemirror_mode": {
    "name": "ipython",
    "version": 3
   },
   "file_extension": ".py",
   "mimetype": "text/x-python",
   "name": "python",
   "nbconvert_exporter": "python",
   "pygments_lexer": "ipython3",
   "version": "3.9.18"
  },
  "orig_nbformat": 4
 },
 "nbformat": 4,
 "nbformat_minor": 2
}
