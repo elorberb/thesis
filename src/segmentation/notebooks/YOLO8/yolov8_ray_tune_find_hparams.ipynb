{
 "cells": [
  {
   "cell_type": "code",
   "execution_count": null,
   "metadata": {},
   "outputs": [
    {
     "name": "stdout",
     "output_type": "stream",
     "text": [
      "Mon Apr  8 14:11:09 2024       \n",
      "+---------------------------------------------------------------------------------------+\n",
      "| NVIDIA-SMI 545.23.06              Driver Version: 545.23.06    CUDA Version: 12.3     |\n",
      "|-----------------------------------------+----------------------+----------------------+\n",
      "| GPU  Name                 Persistence-M | Bus-Id        Disp.A | Volatile Uncorr. ECC |\n",
      "| Fan  Temp   Perf          Pwr:Usage/Cap |         Memory-Usage | GPU-Util  Compute M. |\n",
      "|                                         |                      |               MIG M. |\n",
      "|=========================================+======================+======================|\n"
     ]
    },
    {
     "name": "stdout",
     "output_type": "stream",
     "text": [
      "|   0  NVIDIA GeForce RTX 4090        On  | 00000000:C2:00.0 Off |                  Off |\n",
      "| 30%   27C    P8              31W / 450W |      3MiB / 24564MiB |      0%      Default |\n",
      "|                                         |                      |                  N/A |\n",
      "+-----------------------------------------+----------------------+----------------------+\n",
      "                                                                                         \n",
      "+---------------------------------------------------------------------------------------+\n",
      "| Processes:                                                                            |\n",
      "|  GPU   GI   CI        PID   Type   Process name                            GPU Memory |\n",
      "|        ID   ID                                                             Usage      |\n",
      "|=======================================================================================|\n",
      "|  No running processes found                                                           |\n",
      "+---------------------------------------------------------------------------------------+\n"
     ]
    }
   ],
   "source": [
    "!nvidia-smi"
   ]
  },
  {
   "cell_type": "code",
   "execution_count": null,
   "metadata": {},
   "outputs": [
    {
     "name": "stdout",
     "output_type": "stream",
     "text": [
      "Ultralytics YOLOv8.0.229 🚀 Python-3.10.13 torch-2.1.1+cu121 CUDA:0 (NVIDIA GeForce RTX 4090, 24217MiB)\n",
      "Setup complete ✅ (32 CPUs, 251.7 GB RAM, 31.8/332.3 GB disk)\n"
     ]
    }
   ],
   "source": [
    "from src.segmentation.framework_handlers import yolo_handler\n",
    "yolov8_handler.validate_version_and_gpu()"
   ]
  },
  {
   "cell_type": "markdown",
   "metadata": {},
   "source": [
    "### Prepare Dataset\n",
    "In this section, the dataset along with YOLO annotations is processed to conform to the input structure required by YOLO. The YOLO format necessitates organizing the dataset into two main directories, `images` and `labels`. Each of these directories is further divided into two subdirectories, `train` and `val`, for training and validation datasets respectively. This structure facilitates YOLO's training and validation processes."
   ]
  },
  {
   "cell_type": "code",
   "execution_count": null,
   "metadata": {},
   "outputs": [
    {
     "name": "stderr",
     "output_type": "stream",
     "text": [
      "Annotations /sise/home/etaylor/code_projects/thesis/segments/etaylor_cannabis_patches_test/annotations/export_coco-instance_etaylor_cannabis_patches_test_v0.1.json:  53%|█████▎    | 47/89 [00:00<00:00, 465.70it/s]"
     ]
    },
    {
     "name": "stderr",
     "output_type": "stream",
     "text": [
      "Annotations /sise/home/etaylor/code_projects/thesis/segments/etaylor_cannabis_patches_test/annotations/export_coco-instance_etaylor_cannabis_patches_test_v0.1.json: 100%|██████████| 89/89 [00:00<00:00, 479.47it/s]"
     ]
    },
    {
     "name": "stdout",
     "output_type": "stream",
     "text": [
      "COCO data converted successfully.\n",
      "Results saved to /sise/home/etaylor/code_projects/thesis/segments/etaylor_cannabis_patches_test/annotations/yolo\n"
     ]
    },
    {
     "name": "stderr",
     "output_type": "stream",
     "text": [
      "\n"
     ]
    },
    {
     "name": "stdout",
     "output_type": "stream",
     "text": [
      "The folder /home/etaylor/code_projects/thesis/segments/etaylor_cannabis_patches_test/annotations/yolo has been deleted.\n"
     ]
    }
   ],
   "source": [
    "# prepare data to fine tune yolo v8\n",
    "from src.segmentation.framework_handlers.yolo_handler import prepare_data_for_yolo\n",
    "annotations_folder_name = \"etaylor_cannabis_patches_test\"\n",
    "dataset_version = \"v0.1\"\n",
    "saving_yaml_path = \"/home/etaylor/code_projects/thesis/src/segmentation/notebooks/YOLO8\"\n",
    "yaml_file_path = prepare_data_for_yolo(annotations_folder_name, dataset_version, saving_yaml_path, train_percentage=0.8)"
   ]
  },
  {
   "cell_type": "markdown",
   "metadata": {},
   "source": [
    "### Ultralytics Settings\n",
    "\n",
    "In here we can modify the settings of the yolo runs. "
   ]
  },
  {
   "cell_type": "code",
   "execution_count": null,
   "metadata": {},
   "outputs": [
    {
     "name": "stdout",
     "output_type": "stream",
     "text": [
      "{'settings_version': '0.0.4', 'datasets_dir': '/sise/home/etaylor/datasets', 'weights_dir': '/home/etaylor/weights', 'runs_dir': '/home/etaylor/code_projects/thesis/src/segmentation/notebooks/YOLO8/runs', 'uuid': '958bdde9742b290d62523897603d59c1039672389661ad1a173c1e862ebe77c6', 'sync': True, 'api_key': '', 'clearml': True, 'comet': True, 'dvc': True, 'hub': True, 'mlflow': True, 'neptune': True, 'raytune': True, 'tensorboard': False, 'wandb': True}\n"
     ]
    }
   ],
   "source": [
    "from ultralytics import settings\n",
    "\n",
    "runs_dir = \"/home/etaylor/code_projects/thesis/src/segmentation/notebooks/YOLO8/runs\"\n",
    "# Update a setting\n",
    "settings.update({'runs_dir': runs_dir})\n",
    "\n",
    "# View all settings\n",
    "print(settings)"
   ]
  },
  {
   "cell_type": "code",
   "execution_count": 7,
   "metadata": {},
   "outputs": [],
   "source": [
    "# in case dataset already converted from coco to yolo format use manual path\n",
    "yaml_path = \"/home/etaylor/code_projects/thesis/src/segmentation/notebooks/YOLO8/instance_segmentation/data.yaml\""
   ]
  },
  {
   "cell_type": "markdown",
   "metadata": {},
   "source": [
    "### Find best Hyper params with [Ray Tune](https://docs.ultralytics.com/integrations/ray-tune/#custom-search-space-example)\n",
    "\n",
    "In the provided code snippet, Ray Tune is utilized for hyperparameter tuning of a YOLOv8n segmentation model using a specific model checkpoint and dataset defined in a YAML file."
   ]
  },
  {
   "cell_type": "code",
   "execution_count": null,
   "metadata": {},
   "outputs": [],
   "source": [
    "from ultralytics import YOLO\n",
    "\n",
    "model_checkpoint_path = '/home/etaylor/code_projects/thesis/checkpoints/yolo/yolov8n-seg.pt'\n",
    "model = YOLO(model_checkpoint_path) # pass any model type\n",
    "\n",
    "# Start tuning hyperparameters for YOLOv8n training on the COCO8 dataset\n",
    "result_grid = model.tune(data=yaml_file_path, use_ray=True)"
   ]
  },
  {
   "cell_type": "markdown",
   "metadata": {},
   "source": [
    "### Basic Trial-Level Analysis\n",
    "Access individual trial hyperparameter configurations and the last reported metrics.\n",
    "\n"
   ]
  },
  {
   "cell_type": "code",
   "execution_count": 10,
   "metadata": {},
   "outputs": [
    {
     "name": "stdout",
     "output_type": "stream",
     "text": [
      "Trial #0: Configuration: {'lr0': 0.013022099726378083, 'lrf': 0.9437005496597051, 'momentum': 0.6975878806580793, 'weight_decay': 0.0008342974436230575, 'warmup_epochs': 0.25155517091431046, 'warmup_momentum': 0.13049383735872452, 'box': 0.12091941281814352, 'cls': 1.1190074351950952, 'hsv_h': 0.01450226465606047, 'hsv_s': 0.22940964929390675, 'hsv_v': 0.35213392324608483, 'degrees': 24.03759343592748, 'translate': 0.07232507054782537, 'scale': 0.4843422241740211, 'shear': 5.19509841780944, 'perspective': 0.0006856305105964295, 'flipud': 0.18766660600441276, 'fliplr': 0.17761833344872546, 'mosaic': 0.4338229868148046, 'mixup': 0.9853802344738387, 'copy_paste': 0.827117390211561, 'data': '/home/etaylor/code_projects/thesis/src/segmentation/notebooks/YOLO8/instance_segmentation/data.yaml'}, Last Reported Metrics: {'trial_id': '2c333_00000', 'date': '2024-04-06_18-41-50', 'timestamp': 1712418110, 'pid': 16218, 'hostname': 'cs-pheno-24', 'node_ip': '132.72.40.55', 'config': {'lr0': 0.013022099726378083, 'lrf': 0.9437005496597051, 'momentum': 0.6975878806580793, 'weight_decay': 0.0008342974436230575, 'warmup_epochs': 0.25155517091431046, 'warmup_momentum': 0.13049383735872452, 'box': 0.12091941281814352, 'cls': 1.1190074351950952, 'hsv_h': 0.01450226465606047, 'hsv_s': 0.22940964929390675, 'hsv_v': 0.35213392324608483, 'degrees': 24.03759343592748, 'translate': 0.07232507054782537, 'scale': 0.4843422241740211, 'shear': 5.19509841780944, 'perspective': 0.0006856305105964295, 'flipud': 0.18766660600441276, 'fliplr': 0.17761833344872546, 'mosaic': 0.4338229868148046, 'mixup': 0.9853802344738387, 'copy_paste': 0.827117390211561, 'data': '/home/etaylor/code_projects/thesis/src/segmentation/notebooks/YOLO8/instance_segmentation/data.yaml'}}\n",
      "Trial #1: Configuration: {'lr0': 0.027415951002042565, 'lrf': 0.656040468820568, 'momentum': 0.7300463294713775, 'weight_decay': 0.0008775758486615501, 'warmup_epochs': 3.403189702834068, 'warmup_momentum': 0.41832254286518766, 'box': 0.07786370564392521, 'cls': 2.6426763388335917, 'hsv_h': 0.04461973046280013, 'hsv_s': 0.271749709183582, 'hsv_v': 0.03715442811047257, 'degrees': 34.90902129001666, 'translate': 0.5706989843369326, 'scale': 0.4089129782490409, 'shear': 7.248229754903348, 'perspective': 0.0009128818234020003, 'flipud': 0.6264979404559439, 'fliplr': 0.33232521765415335, 'mosaic': 0.6315694785439195, 'mixup': 0.11174019279488068, 'copy_paste': 0.7708106406658397, 'data': '/home/etaylor/code_projects/thesis/src/segmentation/notebooks/YOLO8/instance_segmentation/data.yaml'}, Last Reported Metrics: {'trial_id': '2c333_00001', 'date': '2024-04-06_18-42-07', 'timestamp': 1712418127, 'pid': 16329, 'hostname': 'cs-pheno-24', 'node_ip': '132.72.40.55', 'config': {'lr0': 0.027415951002042565, 'lrf': 0.656040468820568, 'momentum': 0.7300463294713775, 'weight_decay': 0.0008775758486615501, 'warmup_epochs': 3.403189702834068, 'warmup_momentum': 0.41832254286518766, 'box': 0.07786370564392521, 'cls': 2.6426763388335917, 'hsv_h': 0.04461973046280013, 'hsv_s': 0.271749709183582, 'hsv_v': 0.03715442811047257, 'degrees': 34.90902129001666, 'translate': 0.5706989843369326, 'scale': 0.4089129782490409, 'shear': 7.248229754903348, 'perspective': 0.0009128818234020003, 'flipud': 0.6264979404559439, 'fliplr': 0.33232521765415335, 'mosaic': 0.6315694785439195, 'mixup': 0.11174019279488068, 'copy_paste': 0.7708106406658397, 'data': '/home/etaylor/code_projects/thesis/src/segmentation/notebooks/YOLO8/instance_segmentation/data.yaml'}}\n",
      "Trial #2: Configuration: {'lr0': 0.07376829262932913, 'lrf': 0.27175619070018625, 'momentum': 0.8025702805264916, 'weight_decay': 0.0002225823692350175, 'warmup_epochs': 4.798371022210219, 'warmup_momentum': 0.9117865411532703, 'box': 0.19765534857710407, 'cls': 2.859053283151613, 'hsv_h': 0.096319739297414, 'hsv_s': 0.4882689794205637, 'hsv_v': 0.8606974659767785, 'degrees': 7.113397286123955, 'translate': 0.16903404885068946, 'scale': 0.2759660492547183, 'shear': 9.410839295305275, 'perspective': 0.00015588454564068431, 'flipud': 0.11791929034197213, 'fliplr': 0.14392023359151662, 'mosaic': 0.6374555620513863, 'mixup': 0.3829343718636018, 'copy_paste': 0.30838466450091995, 'data': '/home/etaylor/code_projects/thesis/src/segmentation/notebooks/YOLO8/instance_segmentation/data.yaml'}, Last Reported Metrics: {'trial_id': '2c333_00002', 'date': '2024-04-06_18-42-22', 'timestamp': 1712418142, 'pid': 16427, 'hostname': 'cs-pheno-24', 'node_ip': '132.72.40.55', 'config': {'lr0': 0.07376829262932913, 'lrf': 0.27175619070018625, 'momentum': 0.8025702805264916, 'weight_decay': 0.0002225823692350175, 'warmup_epochs': 4.798371022210219, 'warmup_momentum': 0.9117865411532703, 'box': 0.19765534857710407, 'cls': 2.859053283151613, 'hsv_h': 0.096319739297414, 'hsv_s': 0.4882689794205637, 'hsv_v': 0.8606974659767785, 'degrees': 7.113397286123955, 'translate': 0.16903404885068946, 'scale': 0.2759660492547183, 'shear': 9.410839295305275, 'perspective': 0.00015588454564068431, 'flipud': 0.11791929034197213, 'fliplr': 0.14392023359151662, 'mosaic': 0.6374555620513863, 'mixup': 0.3829343718636018, 'copy_paste': 0.30838466450091995, 'data': '/home/etaylor/code_projects/thesis/src/segmentation/notebooks/YOLO8/instance_segmentation/data.yaml'}}\n",
      "Trial #3: Configuration: {'lr0': 0.021839198393668578, 'lrf': 0.20482378391916387, 'momentum': 0.6702034072817751, 'weight_decay': 0.0008138905818069092, 'warmup_epochs': 2.172532689770375, 'warmup_momentum': 0.5878390585949398, 'box': 0.14926214073532965, 'cls': 1.2781278095765745, 'hsv_h': 0.09668797053749284, 'hsv_s': 0.6443074310727831, 'hsv_v': 0.8628303192124032, 'degrees': 17.672819042709136, 'translate': 0.08843047052792072, 'scale': 0.050350453735042454, 'shear': 0.0623152144232908, 'perspective': 0.0009881359080434558, 'flipud': 0.4574100119660489, 'fliplr': 0.4529594106706145, 'mosaic': 0.010123174943922675, 'mixup': 0.08082279505697576, 'copy_paste': 0.526800284055974, 'data': '/home/etaylor/code_projects/thesis/src/segmentation/notebooks/YOLO8/instance_segmentation/data.yaml'}, Last Reported Metrics: {'trial_id': '2c333_00003', 'date': '2024-04-06_18-42-39', 'timestamp': 1712418159, 'pid': 16521, 'hostname': 'cs-pheno-24', 'node_ip': '132.72.40.55', 'config': {'lr0': 0.021839198393668578, 'lrf': 0.20482378391916387, 'momentum': 0.6702034072817751, 'weight_decay': 0.0008138905818069092, 'warmup_epochs': 2.172532689770375, 'warmup_momentum': 0.5878390585949398, 'box': 0.14926214073532965, 'cls': 1.2781278095765745, 'hsv_h': 0.09668797053749284, 'hsv_s': 0.6443074310727831, 'hsv_v': 0.8628303192124032, 'degrees': 17.672819042709136, 'translate': 0.08843047052792072, 'scale': 0.050350453735042454, 'shear': 0.0623152144232908, 'perspective': 0.0009881359080434558, 'flipud': 0.4574100119660489, 'fliplr': 0.4529594106706145, 'mosaic': 0.010123174943922675, 'mixup': 0.08082279505697576, 'copy_paste': 0.526800284055974, 'data': '/home/etaylor/code_projects/thesis/src/segmentation/notebooks/YOLO8/instance_segmentation/data.yaml'}}\n",
      "Trial #4: Configuration: {'lr0': 0.02349575948381865, 'lrf': 0.1402670661875689, 'momentum': 0.7531058364046802, 'weight_decay': 0.0004494963163871558, 'warmup_epochs': 2.2873883161377813, 'warmup_momentum': 0.15443133496391953, 'box': 0.1683230936289346, 'cls': 0.8645861141813391, 'hsv_h': 0.03981516892367684, 'hsv_s': 0.165316729899908, 'hsv_v': 0.4558128981989823, 'degrees': 41.65268955314122, 'translate': 0.25638704478494867, 'scale': 0.6364511478776552, 'shear': 6.3576840194690645, 'perspective': 0.000914276915943505, 'flipud': 0.1326993277609151, 'fliplr': 0.09612031667478893, 'mosaic': 0.39548321848290824, 'mixup': 0.6886042771076093, 'copy_paste': 0.8124279093832362, 'data': '/home/etaylor/code_projects/thesis/src/segmentation/notebooks/YOLO8/instance_segmentation/data.yaml'}, Last Reported Metrics: {'trial_id': '2c333_00004', 'date': '2024-04-06_18-42-54', 'timestamp': 1712418174, 'pid': 16615, 'hostname': 'cs-pheno-24', 'node_ip': '132.72.40.55', 'config': {'lr0': 0.02349575948381865, 'lrf': 0.1402670661875689, 'momentum': 0.7531058364046802, 'weight_decay': 0.0004494963163871558, 'warmup_epochs': 2.2873883161377813, 'warmup_momentum': 0.15443133496391953, 'box': 0.1683230936289346, 'cls': 0.8645861141813391, 'hsv_h': 0.03981516892367684, 'hsv_s': 0.165316729899908, 'hsv_v': 0.4558128981989823, 'degrees': 41.65268955314122, 'translate': 0.25638704478494867, 'scale': 0.6364511478776552, 'shear': 6.3576840194690645, 'perspective': 0.000914276915943505, 'flipud': 0.1326993277609151, 'fliplr': 0.09612031667478893, 'mosaic': 0.39548321848290824, 'mixup': 0.6886042771076093, 'copy_paste': 0.8124279093832362, 'data': '/home/etaylor/code_projects/thesis/src/segmentation/notebooks/YOLO8/instance_segmentation/data.yaml'}}\n",
      "Trial #5: Configuration: {'lr0': 0.07077469140727462, 'lrf': 0.753080441548041, 'momentum': 0.7727874496184235, 'weight_decay': 0.000878673611631319, 'warmup_epochs': 2.8929299786761464, 'warmup_momentum': 0.03918936949574645, 'box': 0.09234872054375218, 'cls': 3.342337262547576, 'hsv_h': 0.060817937938593525, 'hsv_s': 0.8233492666295228, 'hsv_v': 0.7486415417656717, 'degrees': 35.24071888832364, 'translate': 0.31765283947758455, 'scale': 0.3065765883688651, 'shear': 1.7672399902434022, 'perspective': 0.0003566500163841594, 'flipud': 0.5402163372424194, 'fliplr': 0.1627874639217487, 'mosaic': 0.45364546242907133, 'mixup': 0.4694537289272368, 'copy_paste': 0.8315832548865213, 'data': '/home/etaylor/code_projects/thesis/src/segmentation/notebooks/YOLO8/instance_segmentation/data.yaml'}, Last Reported Metrics: {'trial_id': '2c333_00005', 'date': '2024-04-06_18-43-10', 'timestamp': 1712418190, 'pid': 16693, 'hostname': 'cs-pheno-24', 'node_ip': '132.72.40.55', 'config': {'lr0': 0.07077469140727462, 'lrf': 0.753080441548041, 'momentum': 0.7727874496184235, 'weight_decay': 0.000878673611631319, 'warmup_epochs': 2.8929299786761464, 'warmup_momentum': 0.03918936949574645, 'box': 0.09234872054375218, 'cls': 3.342337262547576, 'hsv_h': 0.060817937938593525, 'hsv_s': 0.8233492666295228, 'hsv_v': 0.7486415417656717, 'degrees': 35.24071888832364, 'translate': 0.31765283947758455, 'scale': 0.3065765883688651, 'shear': 1.7672399902434022, 'perspective': 0.0003566500163841594, 'flipud': 0.5402163372424194, 'fliplr': 0.1627874639217487, 'mosaic': 0.45364546242907133, 'mixup': 0.4694537289272368, 'copy_paste': 0.8315832548865213, 'data': '/home/etaylor/code_projects/thesis/src/segmentation/notebooks/YOLO8/instance_segmentation/data.yaml'}}\n",
      "Trial #6: Configuration: {'lr0': 0.004257065634188615, 'lrf': 0.13559211528130535, 'momentum': 0.8095353836226561, 'weight_decay': 0.0006091348609194525, 'warmup_epochs': 1.7330868802682597, 'warmup_momentum': 0.6317621216263368, 'box': 0.09702823058748859, 'cls': 0.9757535472573873, 'hsv_h': 0.03814247503444639, 'hsv_s': 0.8848972434622908, 'hsv_v': 0.15200452921496416, 'degrees': 6.194083195354382, 'translate': 0.3994856666106357, 'scale': 0.29583631445230024, 'shear': 6.761382341472881, 'perspective': 0.00028298681794776946, 'flipud': 0.6280210754221168, 'fliplr': 0.844379610004678, 'mosaic': 0.4942646461007828, 'mixup': 0.7624570160750163, 'copy_paste': 0.23910154970846653, 'data': '/home/etaylor/code_projects/thesis/src/segmentation/notebooks/YOLO8/instance_segmentation/data.yaml'}, Last Reported Metrics: {'trial_id': '2c333_00006', 'date': '2024-04-06_18-43-25', 'timestamp': 1712418205, 'pid': 16774, 'hostname': 'cs-pheno-24', 'node_ip': '132.72.40.55', 'config': {'lr0': 0.004257065634188615, 'lrf': 0.13559211528130535, 'momentum': 0.8095353836226561, 'weight_decay': 0.0006091348609194525, 'warmup_epochs': 1.7330868802682597, 'warmup_momentum': 0.6317621216263368, 'box': 0.09702823058748859, 'cls': 0.9757535472573873, 'hsv_h': 0.03814247503444639, 'hsv_s': 0.8848972434622908, 'hsv_v': 0.15200452921496416, 'degrees': 6.194083195354382, 'translate': 0.3994856666106357, 'scale': 0.29583631445230024, 'shear': 6.761382341472881, 'perspective': 0.00028298681794776946, 'flipud': 0.6280210754221168, 'fliplr': 0.844379610004678, 'mosaic': 0.4942646461007828, 'mixup': 0.7624570160750163, 'copy_paste': 0.23910154970846653, 'data': '/home/etaylor/code_projects/thesis/src/segmentation/notebooks/YOLO8/instance_segmentation/data.yaml'}}\n",
      "Trial #7: Configuration: {'lr0': 0.06739793868249426, 'lrf': 0.48455016168734993, 'momentum': 0.9333244242147052, 'weight_decay': 0.0006679848990063557, 'warmup_epochs': 1.0865310247092963, 'warmup_momentum': 0.8630574344502191, 'box': 0.12946676453295045, 'cls': 3.7724691877490226, 'hsv_h': 0.04841305053317192, 'hsv_s': 0.7275138467602019, 'hsv_v': 0.8990595750077053, 'degrees': 23.778960257379428, 'translate': 0.7322152222990798, 'scale': 0.5517953689021325, 'shear': 3.8589060295566058, 'perspective': 3.0248938971542906e-05, 'flipud': 0.5389458044776648, 'fliplr': 0.4795650140238912, 'mosaic': 0.06867321257808956, 'mixup': 0.799816370606973, 'copy_paste': 0.15608084806192235, 'data': '/home/etaylor/code_projects/thesis/src/segmentation/notebooks/YOLO8/instance_segmentation/data.yaml'}, Last Reported Metrics: {'trial_id': '2c333_00007', 'date': '2024-04-06_18-43-40', 'timestamp': 1712418220, 'pid': 16860, 'hostname': 'cs-pheno-24', 'node_ip': '132.72.40.55', 'config': {'lr0': 0.06739793868249426, 'lrf': 0.48455016168734993, 'momentum': 0.9333244242147052, 'weight_decay': 0.0006679848990063557, 'warmup_epochs': 1.0865310247092963, 'warmup_momentum': 0.8630574344502191, 'box': 0.12946676453295045, 'cls': 3.7724691877490226, 'hsv_h': 0.04841305053317192, 'hsv_s': 0.7275138467602019, 'hsv_v': 0.8990595750077053, 'degrees': 23.778960257379428, 'translate': 0.7322152222990798, 'scale': 0.5517953689021325, 'shear': 3.8589060295566058, 'perspective': 3.0248938971542906e-05, 'flipud': 0.5389458044776648, 'fliplr': 0.4795650140238912, 'mosaic': 0.06867321257808956, 'mixup': 0.799816370606973, 'copy_paste': 0.15608084806192235, 'data': '/home/etaylor/code_projects/thesis/src/segmentation/notebooks/YOLO8/instance_segmentation/data.yaml'}}\n",
      "Trial #8: Configuration: {'lr0': 0.06932526346327723, 'lrf': 0.106082188661674, 'momentum': 0.7635520166070819, 'weight_decay': 0.0008181637719198576, 'warmup_epochs': 0.08110107538607247, 'warmup_momentum': 0.45792956598647555, 'box': 0.06303555784682002, 'cls': 0.7021773079805294, 'hsv_h': 0.07775275193837433, 'hsv_s': 0.8213218351987517, 'hsv_v': 0.022233603780057423, 'degrees': 11.889883510493071, 'translate': 0.5565548903520995, 'scale': 0.728740203977285, 'shear': 8.41044220245739, 'perspective': 0.0004829301105385844, 'flipud': 0.11343494998283765, 'fliplr': 0.937758067163709, 'mosaic': 0.3092311673457344, 'mixup': 0.7101636003527455, 'copy_paste': 0.5113341384390032, 'data': '/home/etaylor/code_projects/thesis/src/segmentation/notebooks/YOLO8/instance_segmentation/data.yaml'}, Last Reported Metrics: {'trial_id': '2c333_00008', 'date': '2024-04-06_18-43-55', 'timestamp': 1712418235, 'pid': 16940, 'hostname': 'cs-pheno-24', 'node_ip': '132.72.40.55', 'config': {'lr0': 0.06932526346327723, 'lrf': 0.106082188661674, 'momentum': 0.7635520166070819, 'weight_decay': 0.0008181637719198576, 'warmup_epochs': 0.08110107538607247, 'warmup_momentum': 0.45792956598647555, 'box': 0.06303555784682002, 'cls': 0.7021773079805294, 'hsv_h': 0.07775275193837433, 'hsv_s': 0.8213218351987517, 'hsv_v': 0.022233603780057423, 'degrees': 11.889883510493071, 'translate': 0.5565548903520995, 'scale': 0.728740203977285, 'shear': 8.41044220245739, 'perspective': 0.0004829301105385844, 'flipud': 0.11343494998283765, 'fliplr': 0.937758067163709, 'mosaic': 0.3092311673457344, 'mixup': 0.7101636003527455, 'copy_paste': 0.5113341384390032, 'data': '/home/etaylor/code_projects/thesis/src/segmentation/notebooks/YOLO8/instance_segmentation/data.yaml'}}\n",
      "Trial #9: Configuration: {'lr0': 0.08929950049274474, 'lrf': 0.5813018855573522, 'momentum': 0.908202039078097, 'weight_decay': 0.00012213882654607634, 'warmup_epochs': 3.090789388986529, 'warmup_momentum': 0.7950985564149071, 'box': 0.08186071078724941, 'cls': 1.955949814851183, 'hsv_h': 0.06693244436359673, 'hsv_s': 0.2987798250925817, 'hsv_v': 0.25591765818557377, 'degrees': 15.040382876196741, 'translate': 0.6411031708952474, 'scale': 0.8430776720666184, 'shear': 4.071116252275731, 'perspective': 0.0008896764074380043, 'flipud': 0.41831517233126003, 'fliplr': 0.6959145847837744, 'mosaic': 0.2670341538157538, 'mixup': 0.9238782731393775, 'copy_paste': 0.1506553847937241, 'data': '/home/etaylor/code_projects/thesis/src/segmentation/notebooks/YOLO8/instance_segmentation/data.yaml'}, Last Reported Metrics: {'trial_id': '2c333_00009', 'date': '2024-04-06_18-44-12', 'timestamp': 1712418252, 'pid': 17020, 'hostname': 'cs-pheno-24', 'node_ip': '132.72.40.55', 'config': {'lr0': 0.08929950049274474, 'lrf': 0.5813018855573522, 'momentum': 0.908202039078097, 'weight_decay': 0.00012213882654607634, 'warmup_epochs': 3.090789388986529, 'warmup_momentum': 0.7950985564149071, 'box': 0.08186071078724941, 'cls': 1.955949814851183, 'hsv_h': 0.06693244436359673, 'hsv_s': 0.2987798250925817, 'hsv_v': 0.25591765818557377, 'degrees': 15.040382876196741, 'translate': 0.6411031708952474, 'scale': 0.8430776720666184, 'shear': 4.071116252275731, 'perspective': 0.0008896764074380043, 'flipud': 0.41831517233126003, 'fliplr': 0.6959145847837744, 'mosaic': 0.2670341538157538, 'mixup': 0.9238782731393775, 'copy_paste': 0.1506553847937241, 'data': '/home/etaylor/code_projects/thesis/src/segmentation/notebooks/YOLO8/instance_segmentation/data.yaml'}}\n"
     ]
    }
   ],
   "source": [
    "for i, result in enumerate(result_grid):\n",
    "    print(f\"Trial #{i}: Configuration: {result.config}, Last Reported Metrics: {result.metrics}\")"
   ]
  },
  {
   "cell_type": "markdown",
   "metadata": {},
   "source": [
    "#### Plotting the Entire History of Reported Metrics for a Trial\n"
   ]
  },
  {
   "cell_type": "code",
   "execution_count": null,
   "metadata": {},
   "outputs": [],
   "source": [
    "import matplotlib.pyplot as plt\n",
    "\n",
    "for result in result_grid:\n",
    "    plt.plot(result.metrics_dataframe[\"training_iteration\"], result.metrics_dataframe[\"mean_accuracy\"], label=f\"Trial {i}\")\n",
    "\n",
    "plt.xlabel('Training Iterations')\n",
    "plt.ylabel('Mean Accuracy')\n",
    "plt.legend()\n",
    "plt.show()"
   ]
  }
 ],
 "metadata": {
  "kernelspec": {
   "display_name": "yolo8",
   "language": "python",
   "name": "python3"
  },
  "language_info": {
   "codemirror_mode": {
    "name": "ipython",
    "version": 3
   },
   "file_extension": ".py",
   "mimetype": "text/x-python",
   "name": "python",
   "nbconvert_exporter": "python",
   "pygments_lexer": "ipython3",
   "version": "3.10.13"
  }
 },
 "nbformat": 4,
 "nbformat_minor": 2
}
