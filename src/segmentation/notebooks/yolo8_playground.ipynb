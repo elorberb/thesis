{
 "cells": [
  {
   "cell_type": "code",
   "execution_count": 1,
   "metadata": {},
   "outputs": [
    {
     "name": "stdout",
     "output_type": "stream",
     "text": [
      "Initializing dataset...\n",
      "Preloading all samples. This may take a while...\n"
     ]
    },
    {
     "name": "stderr",
     "output_type": "stream",
     "text": [
      "100%|\u001b[38;2;255;153;0m██████████\u001b[0m| 50/50 [00:00<00:00, 239.81it/s]"
     ]
    },
    {
     "name": "stdout",
     "output_type": "stream",
     "text": [
      "Initialized dataset with 50 images.\n"
     ]
    },
    {
     "name": "stderr",
     "output_type": "stream",
     "text": [
      "\n"
     ]
    }
   ],
   "source": [
    "from segments.utils import export_dataset\n",
    "from src.annotation_handling.segmentsai_handler import SegmentsAIHandler\n",
    "SEGMENTS_HANDLER = SegmentsAIHandler()\n",
    "\n",
    "\n",
    "dataset_name = \"etaylor/all_cannabis_patches_multi_class\"\n",
    "release_version = \"v0.1\"\n",
    "dataset = SEGMENTS_HANDLER.get_dataset_instance(dataset_name, version=release_version)"
   ]
  },
  {
   "cell_type": "code",
   "execution_count": 3,
   "metadata": {},
   "outputs": [],
   "source": [
    "def convert_segments_to_format(\n",
    "    dataset_name, release_version, export_format=\"coco-instance\", output_dir=\".\"\n",
    "):\n",
    "    # get the dataset instance\n",
    "    dataset = SEGMENTS_HANDLER.get_dataset_instance(dataset_name, version=release_version)\n",
    "        \n",
    "    # export the dataset - format is coco instance segmentation\n",
    "    export_file, image_dir = export_dataset(dataset, export_format=export_format, export_folder=output_dir)\n",
    "    return dataset, export_file, image_dir"
   ]
  },
  {
   "cell_type": "code",
   "execution_count": 7,
   "metadata": {},
   "outputs": [
    {
     "name": "stdout",
     "output_type": "stream",
     "text": [
      "Initializing dataset...\n",
      "Preloading all samples. This may take a while...\n"
     ]
    },
    {
     "name": "stderr",
     "output_type": "stream",
     "text": [
      "100%|\u001b[38;2;255;153;0m██████████\u001b[0m| 50/50 [00:00<00:00, 320.80it/s]"
     ]
    },
    {
     "name": "stdout",
     "output_type": "stream",
     "text": [
      "Initialized dataset with 50 images.\n",
      "Exporting dataset. This may take a while...\n"
     ]
    },
    {
     "name": "stderr",
     "output_type": "stream",
     "text": [
      "\n"
     ]
    },
    {
     "ename": "ValueError",
     "evalue": "Only datasets of type \"vector\", \"bboxes\" and \"image-vector-sequence\" can be exported to this format.",
     "output_type": "error",
     "traceback": [
      "\u001b[0;31m---------------------------------------------------------------------------\u001b[0m",
      "\u001b[0;31mValueError\u001b[0m                                Traceback (most recent call last)",
      "\u001b[1;32m/home/etaylor/code_projects/thesis/src/segmentation/notebooks/yolo8_playground.ipynb Cell 3\u001b[0m line \u001b[0;36m1\n\u001b[0;32m----> <a href='vscode-notebook-cell://ssh-remote%2B7b22686f73744e616d65223a223133322e37322e36372e323137222c2275736572223a22657461796c6f72227d/home/etaylor/code_projects/thesis/src/segmentation/notebooks/yolo8_playground.ipynb#W3sdnNjb2RlLXJlbW90ZQ%3D%3D?line=0'>1</a>\u001b[0m convert_segments_to_format(dataset_name, release_version, export_format\u001b[39m=\u001b[39;49m\u001b[39m\"\u001b[39;49m\u001b[39myolo\u001b[39;49m\u001b[39m\"\u001b[39;49m)\n",
      "\u001b[1;32m/home/etaylor/code_projects/thesis/src/segmentation/notebooks/yolo8_playground.ipynb Cell 3\u001b[0m line \u001b[0;36m8\n\u001b[1;32m      <a href='vscode-notebook-cell://ssh-remote%2B7b22686f73744e616d65223a223133322e37322e36372e323137222c2275736572223a22657461796c6f72227d/home/etaylor/code_projects/thesis/src/segmentation/notebooks/yolo8_playground.ipynb#W3sdnNjb2RlLXJlbW90ZQ%3D%3D?line=4'>5</a>\u001b[0m dataset \u001b[39m=\u001b[39m SEGMENTS_HANDLER\u001b[39m.\u001b[39mget_dataset_instance(dataset_name, version\u001b[39m=\u001b[39mrelease_version)\n\u001b[1;32m      <a href='vscode-notebook-cell://ssh-remote%2B7b22686f73744e616d65223a223133322e37322e36372e323137222c2275736572223a22657461796c6f72227d/home/etaylor/code_projects/thesis/src/segmentation/notebooks/yolo8_playground.ipynb#W3sdnNjb2RlLXJlbW90ZQ%3D%3D?line=6'>7</a>\u001b[0m \u001b[39m# export the dataset - format is coco instance segmentation\u001b[39;00m\n\u001b[0;32m----> <a href='vscode-notebook-cell://ssh-remote%2B7b22686f73744e616d65223a223133322e37322e36372e323137222c2275736572223a22657461796c6f72227d/home/etaylor/code_projects/thesis/src/segmentation/notebooks/yolo8_playground.ipynb#W3sdnNjb2RlLXJlbW90ZQ%3D%3D?line=7'>8</a>\u001b[0m export_file, image_dir \u001b[39m=\u001b[39m export_dataset(dataset, export_format\u001b[39m=\u001b[39;49mexport_format, export_folder\u001b[39m=\u001b[39;49moutput_dir)\n\u001b[1;32m      <a href='vscode-notebook-cell://ssh-remote%2B7b22686f73744e616d65223a223133322e37322e36372e323137222c2275736572223a22657461796c6f72227d/home/etaylor/code_projects/thesis/src/segmentation/notebooks/yolo8_playground.ipynb#W3sdnNjb2RlLXJlbW90ZQ%3D%3D?line=8'>9</a>\u001b[0m \u001b[39mreturn\u001b[39;00m dataset, export_file, image_dir\n",
      "File \u001b[0;32m~/.conda/envs/yolo8/lib/python3.10/site-packages/segments/utils.py:264\u001b[0m, in \u001b[0;36mexport_dataset\u001b[0;34m(dataset, export_folder, export_format, id_increment, **kwargs)\u001b[0m\n\u001b[1;32m    262\u001b[0m \u001b[39melif\u001b[39;00m export_format \u001b[39m==\u001b[39m ExportFormat\u001b[39m.\u001b[39mYOLO:\n\u001b[1;32m    263\u001b[0m     \u001b[39mif\u001b[39;00m dataset\u001b[39m.\u001b[39mtask_type \u001b[39mnot\u001b[39;00m \u001b[39min\u001b[39;00m COMPATIBLE_TASK_TYPES[export_format]:\n\u001b[0;32m--> 264\u001b[0m         \u001b[39mraise\u001b[39;00m \u001b[39mValueError\u001b[39;00m(\n\u001b[1;32m    265\u001b[0m             \u001b[39m'\u001b[39m\u001b[39mOnly datasets of type \u001b[39m\u001b[39m\"\u001b[39m\u001b[39mvector\u001b[39m\u001b[39m\"\u001b[39m\u001b[39m, \u001b[39m\u001b[39m\"\u001b[39m\u001b[39mbboxes\u001b[39m\u001b[39m\"\u001b[39m\u001b[39m and \u001b[39m\u001b[39m\"\u001b[39m\u001b[39mimage-vector-sequence\u001b[39m\u001b[39m\"\u001b[39m\u001b[39m can be exported to this format.\u001b[39m\u001b[39m'\u001b[39m\n\u001b[1;32m    266\u001b[0m         )\n\u001b[1;32m    267\u001b[0m     \u001b[39mfrom\u001b[39;00m \u001b[39m.\u001b[39;00m\u001b[39mexport\u001b[39;00m \u001b[39mimport\u001b[39;00m export_yolo\n\u001b[1;32m    269\u001b[0m     \u001b[39mreturn\u001b[39;00m export_yolo(\n\u001b[1;32m    270\u001b[0m         dataset,\n\u001b[1;32m    271\u001b[0m         export_folder,\n\u001b[1;32m    272\u001b[0m         image_width\u001b[39m=\u001b[39mkwargs\u001b[39m.\u001b[39mget(\u001b[39m\"\u001b[39m\u001b[39mimage_width\u001b[39m\u001b[39m\"\u001b[39m, \u001b[39mNone\u001b[39;00m),\n\u001b[1;32m    273\u001b[0m         image_height\u001b[39m=\u001b[39mkwargs\u001b[39m.\u001b[39mget(\u001b[39m\"\u001b[39m\u001b[39mimage_height\u001b[39m\u001b[39m\"\u001b[39m, \u001b[39mNone\u001b[39;00m),\n\u001b[1;32m    274\u001b[0m     )\n",
      "\u001b[0;31mValueError\u001b[0m: Only datasets of type \"vector\", \"bboxes\" and \"image-vector-sequence\" can be exported to this format."
     ]
    }
   ],
   "source": [
    "convert_segments_to_format(dataset_name, release_version, export_format=\"yolo\")"
   ]
  },
  {
   "cell_type": "code",
   "execution_count": null,
   "metadata": {},
   "outputs": [],
   "source": [
    "image_path = \"/home/etaylor/images/processed_images/cannabis_patches/week9_15_06_2023/3x_regular/IMG_2129/IMG_2129_p7.png\""
   ]
  }
 ],
 "metadata": {
  "kernelspec": {
   "display_name": "yolo8",
   "language": "python",
   "name": "python3"
  },
  "language_info": {
   "codemirror_mode": {
    "name": "ipython",
    "version": 3
   },
   "file_extension": ".py",
   "mimetype": "text/x-python",
   "name": "python",
   "nbconvert_exporter": "python",
   "pygments_lexer": "ipython3",
   "version": "3.10.13"
  }
 },
 "nbformat": 4,
 "nbformat_minor": 2
}
