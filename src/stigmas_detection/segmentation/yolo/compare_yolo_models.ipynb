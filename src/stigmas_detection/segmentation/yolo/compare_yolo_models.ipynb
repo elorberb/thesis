{
 "cells": [
  {
   "cell_type": "code",
   "execution_count": 1,
   "metadata": {},
   "outputs": [
    {
     "name": "stdout",
     "output_type": "stream",
     "text": [
      "Sun Jan  5 20:08:22 2025       \n",
      "+-----------------------------------------------------------------------------------------+\n",
      "| NVIDIA-SMI 550.54.15              Driver Version: 550.54.15      CUDA Version: 12.4     |\n",
      "|-----------------------------------------+------------------------+----------------------+\n",
      "| GPU  Name                 Persistence-M | Bus-Id          Disp.A | Volatile Uncorr. ECC |\n",
      "| Fan  Temp   Perf          Pwr:Usage/Cap |           Memory-Usage | GPU-Util  Compute M. |\n",
      "|                                         |                        |               MIG M. |\n",
      "|=========================================+========================+======================|\n",
      "|   0  NVIDIA GeForce GTX 1080 Ti     On  |   00000000:03:00.0 Off |                  N/A |\n",
      "| 21%   39C    P8             10W /  250W |       1MiB /  11264MiB |      0%      Default |\n",
      "|                                         |                        |                  N/A |\n",
      "+-----------------------------------------+------------------------+----------------------+\n",
      "                                                                                         \n",
      "+-----------------------------------------------------------------------------------------+\n",
      "| Processes:                                                                              |\n",
      "|  GPU   GI   CI        PID   Type   Process name                              GPU Memory |\n",
      "|        ID   ID                                                               Usage      |\n",
      "|=========================================================================================|\n",
      "|  No running processes found                                                             |\n",
      "+-----------------------------------------------------------------------------------------+\n"
     ]
    }
   ],
   "source": [
    "!nvidia-smi"
   ]
  },
  {
   "cell_type": "code",
   "execution_count": 2,
   "metadata": {},
   "outputs": [],
   "source": [
    "import torch\n",
    "torch.cuda.empty_cache()  # Free up unutilized memory"
   ]
  },
  {
   "cell_type": "code",
   "execution_count": 3,
   "metadata": {},
   "outputs": [
    {
     "name": "stdout",
     "output_type": "stream",
     "text": [
      "Ultralytics 8.3.56 🚀 Python-3.9.19 torch-2.3.1+cu121 CUDA:0 (NVIDIA GeForce GTX 1080 Ti, 11165MiB)\n",
      "Setup complete ✅ (12 CPUs, 125.2 GB RAM, 13.9/336.4 GB disk)\n"
     ]
    }
   ],
   "source": [
    "from src.segmentation.framework_handlers import ultralytics_handler\n",
    "ultralytics_handler.validate_version_and_gpu()"
   ]
  },
  {
   "cell_type": "markdown",
   "metadata": {},
   "source": [
    "### Prepare Dataset\n",
    "In this section, the dataset along with YOLO annotations is processed to conform to the input structure required by YOLO. The YOLO format necessitates organizing the dataset into two main directories, `images` and `labels`. Each of these directories is further divided into two subdirectories, `train` and `val`, for training and validation datasets respectively. This structure facilitates YOLO's training and validation processes.\n",
    "WE can process the data by two options:\n",
    "- Single SegmentsAI dataset\n",
    "- Two SegmentsAI datasets, one for train and the other for test"
   ]
  },
  {
   "cell_type": "markdown",
   "metadata": {},
   "source": [
    "Option 1: prepare data using a single dataset by splitting to train and test"
   ]
  },
  {
   "cell_type": "markdown",
   "metadata": {},
   "source": [
    "### Ultralytics Settings\n",
    "\n",
    "In here we can modify the settings of the yolo runs. "
   ]
  },
  {
   "cell_type": "code",
   "execution_count": 4,
   "metadata": {},
   "outputs": [
    {
     "name": "stdout",
     "output_type": "stream",
     "text": [
      "JSONDict(\"/home/etaylor/.config/Ultralytics/settings.json\"):\n",
      "{\n",
      "  \"settings_version\": \"0.0.6\",\n",
      "  \"datasets_dir\": \"/home/etaylor/code_projects/thesis/src/stigmas_detection/segmentation/yolo/runs/datasets\",\n",
      "  \"weights_dir\": \"/home/etaylor/code_projects/thesis/src/stigmas_detection/segmentation/yolo/runs/weights\",\n",
      "  \"runs_dir\": \"/home/etaylor/code_projects/thesis/src/stigmas_detection/segmentation/yolo/runs\",\n",
      "  \"uuid\": \"01de958df926b4e70f7bb00e8bdc993b48b07bc8d023fc13b26874ee84610e6f\",\n",
      "  \"sync\": true,\n",
      "  \"api_key\": \"\",\n",
      "  \"openai_api_key\": \"\",\n",
      "  \"clearml\": true,\n",
      "  \"comet\": true,\n",
      "  \"dvc\": true,\n",
      "  \"hub\": true,\n",
      "  \"mlflow\": true,\n",
      "  \"neptune\": true,\n",
      "  \"raytune\": true,\n",
      "  \"tensorboard\": true,\n",
      "  \"wandb\": false,\n",
      "  \"vscode_msg\": true\n",
      "}\n"
     ]
    }
   ],
   "source": [
    "from ultralytics import settings\n",
    "import config\n",
    "\n",
    "# Update a setting\n",
    "yolo_runs_dir = \"/home/etaylor/code_projects/thesis/src/stigmas_detection/segmentation/yolo/runs\"\n",
    "settings.update(\n",
    "    {\n",
    "        'runs_dir': yolo_runs_dir,\n",
    "        'weights_dir': f\"{yolo_runs_dir}/weights\",\n",
    "        'datasets_dir': f\"{yolo_runs_dir}/datasets\",\n",
    "    }\n",
    ")\n",
    "\n",
    "# View all settings\n",
    "print(settings)"
   ]
  },
  {
   "cell_type": "code",
   "execution_count": 5,
   "metadata": {},
   "outputs": [],
   "source": [
    "import torch\n",
    "import gc\n",
    "\n",
    "gc.collect()\n",
    "torch.cuda.empty_cache()"
   ]
  },
  {
   "cell_type": "code",
   "execution_count": 7,
   "metadata": {},
   "outputs": [
    {
     "name": "stdout",
     "output_type": "stream",
     "text": [
      "Training model: yolov11n-seg\n",
      "Ultralytics 8.3.56 🚀 Python-3.9.19 torch-2.3.1+cu121 CUDA:0 (NVIDIA GeForce GTX 1080 Ti, 11165MiB)\n",
      "\u001b[34m\u001b[1mengine/trainer: \u001b[0mtask=segment, mode=train, model=/home/etaylor/code_projects/thesis/checkpoints/stigmas_segmentation/yolo/pre_trained/yolo11n-seg.pt, data=/home/etaylor/code_projects/thesis/src/stigmas_detection/segmentation/yolo/yaml/stigmas_dataset_yolo.yaml, epochs=50, time=None, patience=100, batch=2, imgsz=640, save=True, save_period=-1, cache=False, device=None, workers=8, project=None, name=train28, exist_ok=False, pretrained=True, optimizer=auto, verbose=True, seed=0, deterministic=True, single_cls=False, rect=False, cos_lr=False, close_mosaic=10, resume=False, amp=True, fraction=1.0, profile=False, freeze=None, multi_scale=False, overlap_mask=True, mask_ratio=4, dropout=0.0, val=True, split=val, save_json=False, save_hybrid=False, conf=None, iou=0.7, max_det=300, half=False, dnn=False, plots=True, source=None, vid_stride=1, stream_buffer=False, visualize=False, augment=False, agnostic_nms=False, classes=None, retina_masks=False, embed=None, show=False, save_frames=False, save_txt=False, save_conf=False, save_crop=False, show_labels=True, show_conf=True, show_boxes=True, line_width=None, format=torchscript, keras=False, optimize=False, int8=False, dynamic=False, simplify=True, opset=None, workspace=None, nms=False, lr0=0.01, lrf=0.01, momentum=0.937, weight_decay=0.0005, warmup_epochs=3.0, warmup_momentum=0.8, warmup_bias_lr=0.1, box=7.5, cls=0.5, dfl=1.5, pose=12.0, kobj=1.0, nbs=64, hsv_h=0.015, hsv_s=0.7, hsv_v=0.4, degrees=0.0, translate=0.1, scale=0.5, shear=0.0, perspective=0.0, flipud=0.0, fliplr=0.5, bgr=0.0, mosaic=1.0, mixup=0.0, copy_paste=0.0, copy_paste_mode=flip, auto_augment=randaugment, erasing=0.4, crop_fraction=1.0, cfg=None, tracker=botsort.yaml, save_dir=/home/etaylor/code_projects/thesis/src/stigmas_detection/segmentation/yolo/runs/segment/train28\n",
      "Overriding model.yaml nc=80 with nc=1\n",
      "\n",
      "                   from  n    params  module                                       arguments                     \n",
      "  0                  -1  1       464  ultralytics.nn.modules.conv.Conv             [3, 16, 3, 2]                 \n",
      "  1                  -1  1      4672  ultralytics.nn.modules.conv.Conv             [16, 32, 3, 2]                \n",
      "  2                  -1  1      6640  ultralytics.nn.modules.block.C3k2            [32, 64, 1, False, 0.25]      \n",
      "  3                  -1  1     36992  ultralytics.nn.modules.conv.Conv             [64, 64, 3, 2]                \n",
      "  4                  -1  1     26080  ultralytics.nn.modules.block.C3k2            [64, 128, 1, False, 0.25]     \n",
      "  5                  -1  1    147712  ultralytics.nn.modules.conv.Conv             [128, 128, 3, 2]              \n",
      "  6                  -1  1     87040  ultralytics.nn.modules.block.C3k2            [128, 128, 1, True]           \n",
      "  7                  -1  1    295424  ultralytics.nn.modules.conv.Conv             [128, 256, 3, 2]              \n",
      "  8                  -1  1    346112  ultralytics.nn.modules.block.C3k2            [256, 256, 1, True]           \n",
      "  9                  -1  1    164608  ultralytics.nn.modules.block.SPPF            [256, 256, 5]                 \n",
      " 10                  -1  1    249728  ultralytics.nn.modules.block.C2PSA           [256, 256, 1]                 \n",
      " 11                  -1  1         0  torch.nn.modules.upsampling.Upsample         [None, 2, 'nearest']          \n",
      " 12             [-1, 6]  1         0  ultralytics.nn.modules.conv.Concat           [1]                           \n",
      " 13                  -1  1    111296  ultralytics.nn.modules.block.C3k2            [384, 128, 1, False]          \n",
      " 14                  -1  1         0  torch.nn.modules.upsampling.Upsample         [None, 2, 'nearest']          \n",
      " 15             [-1, 4]  1         0  ultralytics.nn.modules.conv.Concat           [1]                           \n",
      " 16                  -1  1     32096  ultralytics.nn.modules.block.C3k2            [256, 64, 1, False]           \n",
      " 17                  -1  1     36992  ultralytics.nn.modules.conv.Conv             [64, 64, 3, 2]                \n",
      " 18            [-1, 13]  1         0  ultralytics.nn.modules.conv.Concat           [1]                           \n",
      " 19                  -1  1     86720  ultralytics.nn.modules.block.C3k2            [192, 128, 1, False]          \n",
      " 20                  -1  1    147712  ultralytics.nn.modules.conv.Conv             [128, 128, 3, 2]              \n",
      " 21            [-1, 10]  1         0  ultralytics.nn.modules.conv.Concat           [1]                           \n",
      " 22                  -1  1    378880  ultralytics.nn.modules.block.C3k2            [384, 256, 1, True]           \n",
      " 23        [16, 19, 22]  1    683635  ultralytics.nn.modules.head.Segment          [1, 32, 64, [64, 128, 256]]   \n",
      "YOLO11n-seg summary: 355 layers, 2,842,803 parameters, 2,842,787 gradients, 10.4 GFLOPs\n",
      "\n",
      "Transferred 510/561 items from pretrained weights\n",
      "\u001b[34m\u001b[1mTensorBoard: \u001b[0mStart with 'tensorboard --logdir /home/etaylor/code_projects/thesis/src/stigmas_detection/segmentation/yolo/runs/segment/train28', view at http://localhost:6006/\n",
      "Freezing layer 'model.23.dfl.conv.weight'\n",
      "\u001b[34m\u001b[1mAMP: \u001b[0mrunning Automatic Mixed Precision (AMP) checks...\n",
      "\u001b[34m\u001b[1mAMP: \u001b[0mchecks passed ✅\n"
     ]
    },
    {
     "name": "stderr",
     "output_type": "stream",
     "text": [
      "\u001b[34m\u001b[1mtrain: \u001b[0mScanning /sise/home/etaylor/code_projects/thesis/segments/etaylor_stigmas_dataset/yolo_formatted/labels/train.cache... 87 images, 0 backgrounds, 0 corrupt: 100%|██████████| 87/87 [00:00<?, ?it/s]\n",
      "/home/etaylor/.conda/envs/detectron_fastai/lib/python3.9/site-packages/torch/utils/data/dataloader.py:558: UserWarning: This DataLoader will create 8 worker processes in total. Our suggested max number of worker in current system is 6, which is smaller than what this DataLoader is going to create. Please be aware that excessive worker creation might get DataLoader running slow or even freeze, lower the worker number to avoid potential slowness/freeze if necessary.\n",
      "  warnings.warn(_create_warning_msg(\n",
      "\u001b[34m\u001b[1mval: \u001b[0mScanning /sise/home/etaylor/code_projects/thesis/segments/etaylor_stigmas_dataset/yolo_formatted/labels/val.cache... 25 images, 0 backgrounds, 0 corrupt: 100%|██████████| 25/25 [00:00<?, ?it/s]\n",
      "/home/etaylor/.conda/envs/detectron_fastai/lib/python3.9/site-packages/torch/utils/data/dataloader.py:558: UserWarning: This DataLoader will create 12 worker processes in total. Our suggested max number of worker in current system is 6, which is smaller than what this DataLoader is going to create. Please be aware that excessive worker creation might get DataLoader running slow or even freeze, lower the worker number to avoid potential slowness/freeze if necessary.\n",
      "  warnings.warn(_create_warning_msg(\n"
     ]
    },
    {
     "name": "stdout",
     "output_type": "stream",
     "text": [
      "Plotting labels to /home/etaylor/code_projects/thesis/src/stigmas_detection/segmentation/yolo/runs/segment/train28/labels.jpg... \n",
      "\u001b[34m\u001b[1moptimizer:\u001b[0m 'optimizer=auto' found, ignoring 'lr0=0.01' and 'momentum=0.937' and determining best 'optimizer', 'lr0' and 'momentum' automatically... \n",
      "\u001b[34m\u001b[1moptimizer:\u001b[0m AdamW(lr=0.002, momentum=0.9) with parameter groups 90 weight(decay=0.0), 101 weight(decay=0.0005), 100 bias(decay=0.0)\n",
      "\u001b[34m\u001b[1mTensorBoard: \u001b[0mmodel graph visualization added ✅\n",
      "Image sizes 640 train, 640 val\n",
      "Using 8 dataloader workers\n",
      "Logging results to \u001b[1m/home/etaylor/code_projects/thesis/src/stigmas_detection/segmentation/yolo/runs/segment/train28\u001b[0m\n",
      "Starting training for 50 epochs...\n",
      "\n",
      "      Epoch    GPU_mem   box_loss   seg_loss   cls_loss   dfl_loss  Instances       Size\n"
     ]
    },
    {
     "name": "stderr",
     "output_type": "stream",
     "text": [
      "       1/50      2.08G      2.019      4.137      3.121      1.816         17        640: 100%|██████████| 44/44 [00:06<00:00,  6.82it/s]\n",
      "                 Class     Images  Instances      Box(P          R      mAP50  mAP50-95)     Mask(P          R      mAP50  mAP50-95): 100%|██████████| 7/7 [00:00<00:00, 10.95it/s]"
     ]
    },
    {
     "name": "stdout",
     "output_type": "stream",
     "text": [
      "                   all         25        190     0.0212      0.837      0.154     0.0573    0.00733      0.289     0.0157    0.00332\n"
     ]
    },
    {
     "name": "stderr",
     "output_type": "stream",
     "text": [
      "\n"
     ]
    },
    {
     "name": "stdout",
     "output_type": "stream",
     "text": [
      "\n",
      "      Epoch    GPU_mem   box_loss   seg_loss   cls_loss   dfl_loss  Instances       Size\n"
     ]
    },
    {
     "name": "stderr",
     "output_type": "stream",
     "text": [
      "       2/50     0.944G        1.9      3.632      2.727      1.642         16        640: 100%|██████████| 44/44 [00:05<00:00,  7.95it/s]\n",
      "                 Class     Images  Instances      Box(P          R      mAP50  mAP50-95)     Mask(P          R      mAP50  mAP50-95): 100%|██████████| 7/7 [00:00<00:00, 11.21it/s]"
     ]
    },
    {
     "name": "stdout",
     "output_type": "stream",
     "text": [
      "                   all         25        190      0.228      0.274      0.139     0.0514     0.0157     0.0316    0.00444   0.000972\n"
     ]
    },
    {
     "name": "stderr",
     "output_type": "stream",
     "text": [
      "\n"
     ]
    },
    {
     "name": "stdout",
     "output_type": "stream",
     "text": [
      "\n",
      "      Epoch    GPU_mem   box_loss   seg_loss   cls_loss   dfl_loss  Instances       Size\n"
     ]
    },
    {
     "name": "stderr",
     "output_type": "stream",
     "text": [
      "       3/50     0.843G      1.869      3.521      2.467      1.646         11        640: 100%|██████████| 44/44 [00:05<00:00,  7.98it/s]\n",
      "                 Class     Images  Instances      Box(P          R      mAP50  mAP50-95)     Mask(P          R      mAP50  mAP50-95): 100%|██████████| 7/7 [00:00<00:00, 10.21it/s]"
     ]
    },
    {
     "name": "stdout",
     "output_type": "stream",
     "text": [
      "                   all         25        190      0.215      0.284      0.169     0.0537     0.0791        0.1     0.0231    0.00456\n"
     ]
    },
    {
     "name": "stderr",
     "output_type": "stream",
     "text": [
      "\n"
     ]
    },
    {
     "name": "stdout",
     "output_type": "stream",
     "text": [
      "\n",
      "      Epoch    GPU_mem   box_loss   seg_loss   cls_loss   dfl_loss  Instances       Size\n"
     ]
    },
    {
     "name": "stderr",
     "output_type": "stream",
     "text": [
      "       4/50     0.828G      2.033      3.484      2.393      1.742         17        640: 100%|██████████| 44/44 [00:05<00:00,  8.02it/s]\n",
      "                 Class     Images  Instances      Box(P          R      mAP50  mAP50-95)     Mask(P          R      mAP50  mAP50-95): 100%|██████████| 7/7 [00:00<00:00, 10.66it/s]"
     ]
    },
    {
     "name": "stdout",
     "output_type": "stream",
     "text": [
      "                   all         25        190      0.341      0.484      0.306      0.121      0.143      0.202     0.0678     0.0125\n"
     ]
    },
    {
     "name": "stderr",
     "output_type": "stream",
     "text": [
      "\n"
     ]
    },
    {
     "name": "stdout",
     "output_type": "stream",
     "text": [
      "\n",
      "      Epoch    GPU_mem   box_loss   seg_loss   cls_loss   dfl_loss  Instances       Size\n"
     ]
    },
    {
     "name": "stderr",
     "output_type": "stream",
     "text": [
      "       5/50     0.854G      1.986      3.476      2.226      1.733          9        640: 100%|██████████| 44/44 [00:05<00:00,  7.95it/s]\n",
      "                 Class     Images  Instances      Box(P          R      mAP50  mAP50-95)     Mask(P          R      mAP50  mAP50-95): 100%|██████████| 7/7 [00:00<00:00, 10.79it/s]"
     ]
    },
    {
     "name": "stdout",
     "output_type": "stream",
     "text": [
      "                   all         25        190      0.244       0.35      0.194     0.0732     0.0892      0.111     0.0263    0.00529\n"
     ]
    },
    {
     "name": "stderr",
     "output_type": "stream",
     "text": [
      "\n"
     ]
    },
    {
     "name": "stdout",
     "output_type": "stream",
     "text": [
      "\n",
      "      Epoch    GPU_mem   box_loss   seg_loss   cls_loss   dfl_loss  Instances       Size\n"
     ]
    },
    {
     "name": "stderr",
     "output_type": "stream",
     "text": [
      "       6/50     0.843G      1.918        3.4      2.227      1.702          7        640: 100%|██████████| 44/44 [00:05<00:00,  7.73it/s]\n",
      "                 Class     Images  Instances      Box(P          R      mAP50  mAP50-95)     Mask(P          R      mAP50  mAP50-95): 100%|██████████| 7/7 [00:00<00:00, 11.49it/s]"
     ]
    },
    {
     "name": "stdout",
     "output_type": "stream",
     "text": [
      "                   all         25        190       0.22       0.42      0.203     0.0774     0.0704      0.168     0.0303    0.00741\n"
     ]
    },
    {
     "name": "stderr",
     "output_type": "stream",
     "text": [
      "\n"
     ]
    },
    {
     "name": "stdout",
     "output_type": "stream",
     "text": [
      "\n",
      "      Epoch    GPU_mem   box_loss   seg_loss   cls_loss   dfl_loss  Instances       Size\n"
     ]
    },
    {
     "name": "stderr",
     "output_type": "stream",
     "text": [
      "       7/50     0.807G      1.925      3.352      2.182      1.723         16        640: 100%|██████████| 44/44 [00:05<00:00,  7.85it/s]\n",
      "                 Class     Images  Instances      Box(P          R      mAP50  mAP50-95)     Mask(P          R      mAP50  mAP50-95): 100%|██████████| 7/7 [00:00<00:00, 10.10it/s]"
     ]
    },
    {
     "name": "stdout",
     "output_type": "stream",
     "text": [
      "                   all         25        190      0.382      0.463      0.333       0.14      0.143      0.189     0.0583     0.0119\n"
     ]
    },
    {
     "name": "stderr",
     "output_type": "stream",
     "text": [
      "\n"
     ]
    },
    {
     "name": "stdout",
     "output_type": "stream",
     "text": [
      "\n",
      "      Epoch    GPU_mem   box_loss   seg_loss   cls_loss   dfl_loss  Instances       Size\n"
     ]
    },
    {
     "name": "stderr",
     "output_type": "stream",
     "text": [
      "       8/50     0.803G      1.885      3.323      2.207      1.684          4        640: 100%|██████████| 44/44 [00:05<00:00,  7.98it/s]\n",
      "                 Class     Images  Instances      Box(P          R      mAP50  mAP50-95)     Mask(P          R      mAP50  mAP50-95): 100%|██████████| 7/7 [00:00<00:00,  9.13it/s]"
     ]
    },
    {
     "name": "stdout",
     "output_type": "stream",
     "text": [
      "                   all         25        190      0.386        0.4      0.347       0.14      0.211      0.232      0.112     0.0233\n"
     ]
    },
    {
     "name": "stderr",
     "output_type": "stream",
     "text": [
      "\n"
     ]
    },
    {
     "name": "stdout",
     "output_type": "stream",
     "text": [
      "\n",
      "      Epoch    GPU_mem   box_loss   seg_loss   cls_loss   dfl_loss  Instances       Size\n"
     ]
    },
    {
     "name": "stderr",
     "output_type": "stream",
     "text": [
      "       9/50     0.805G      1.871      3.378      2.035      1.654         14        640: 100%|██████████| 44/44 [00:05<00:00,  8.02it/s]\n",
      "                 Class     Images  Instances      Box(P          R      mAP50  mAP50-95)     Mask(P          R      mAP50  mAP50-95): 100%|██████████| 7/7 [00:00<00:00, 11.77it/s]"
     ]
    },
    {
     "name": "stdout",
     "output_type": "stream",
     "text": [
      "                   all         25        190      0.395      0.468      0.381       0.17       0.24      0.289      0.136     0.0314\n"
     ]
    },
    {
     "name": "stderr",
     "output_type": "stream",
     "text": [
      "\n"
     ]
    },
    {
     "name": "stdout",
     "output_type": "stream",
     "text": [
      "\n",
      "      Epoch    GPU_mem   box_loss   seg_loss   cls_loss   dfl_loss  Instances       Size\n"
     ]
    },
    {
     "name": "stderr",
     "output_type": "stream",
     "text": [
      "      10/50     0.952G      1.803      3.261      1.954      1.606          5        640: 100%|██████████| 44/44 [00:05<00:00,  7.73it/s]\n",
      "                 Class     Images  Instances      Box(P          R      mAP50  mAP50-95)     Mask(P          R      mAP50  mAP50-95): 100%|██████████| 7/7 [00:00<00:00, 10.66it/s]"
     ]
    },
    {
     "name": "stdout",
     "output_type": "stream",
     "text": [
      "                   all         25        190      0.335      0.516      0.341      0.153      0.181      0.284      0.109     0.0199\n"
     ]
    },
    {
     "name": "stderr",
     "output_type": "stream",
     "text": [
      "\n"
     ]
    },
    {
     "name": "stdout",
     "output_type": "stream",
     "text": [
      "\n",
      "      Epoch    GPU_mem   box_loss   seg_loss   cls_loss   dfl_loss  Instances       Size\n"
     ]
    },
    {
     "name": "stderr",
     "output_type": "stream",
     "text": [
      "      11/50      1.04G      1.804      3.169      1.931      1.607          6        640: 100%|██████████| 44/44 [00:05<00:00,  7.89it/s]\n",
      "                 Class     Images  Instances      Box(P          R      mAP50  mAP50-95)     Mask(P          R      mAP50  mAP50-95): 100%|██████████| 7/7 [00:00<00:00, 11.49it/s]"
     ]
    },
    {
     "name": "stdout",
     "output_type": "stream",
     "text": [
      "                   all         25        190      0.395      0.419      0.353      0.161      0.227      0.258      0.118     0.0275\n"
     ]
    },
    {
     "name": "stderr",
     "output_type": "stream",
     "text": [
      "\n"
     ]
    },
    {
     "name": "stdout",
     "output_type": "stream",
     "text": [
      "\n",
      "      Epoch    GPU_mem   box_loss   seg_loss   cls_loss   dfl_loss  Instances       Size\n"
     ]
    },
    {
     "name": "stderr",
     "output_type": "stream",
     "text": [
      "      12/50     0.826G      1.849      3.256      2.006       1.64         25        640: 100%|██████████| 44/44 [00:05<00:00,  7.77it/s]\n",
      "                 Class     Images  Instances      Box(P          R      mAP50  mAP50-95)     Mask(P          R      mAP50  mAP50-95): 100%|██████████| 7/7 [00:00<00:00, 11.32it/s]"
     ]
    },
    {
     "name": "stdout",
     "output_type": "stream",
     "text": [
      "                   all         25        190      0.451      0.479      0.418      0.176      0.369      0.263      0.195     0.0387\n"
     ]
    },
    {
     "name": "stderr",
     "output_type": "stream",
     "text": [
      "\n"
     ]
    },
    {
     "name": "stdout",
     "output_type": "stream",
     "text": [
      "\n",
      "      Epoch    GPU_mem   box_loss   seg_loss   cls_loss   dfl_loss  Instances       Size\n"
     ]
    },
    {
     "name": "stderr",
     "output_type": "stream",
     "text": [
      "      13/50     0.975G       1.84       3.19      2.026       1.63          5        640: 100%|██████████| 44/44 [00:05<00:00,  7.74it/s]\n",
      "                 Class     Images  Instances      Box(P          R      mAP50  mAP50-95)     Mask(P          R      mAP50  mAP50-95): 100%|██████████| 7/7 [00:00<00:00, 11.42it/s]"
     ]
    },
    {
     "name": "stdout",
     "output_type": "stream",
     "text": [
      "                   all         25        190      0.412      0.547      0.414      0.188      0.312      0.326      0.185     0.0423\n"
     ]
    },
    {
     "name": "stderr",
     "output_type": "stream",
     "text": [
      "\n"
     ]
    },
    {
     "name": "stdout",
     "output_type": "stream",
     "text": [
      "\n",
      "      Epoch    GPU_mem   box_loss   seg_loss   cls_loss   dfl_loss  Instances       Size\n"
     ]
    },
    {
     "name": "stderr",
     "output_type": "stream",
     "text": [
      "      14/50     0.837G       1.78      3.106      1.936      1.589         15        640: 100%|██████████| 44/44 [00:05<00:00,  7.87it/s]\n",
      "                 Class     Images  Instances      Box(P          R      mAP50  mAP50-95)     Mask(P          R      mAP50  mAP50-95): 100%|██████████| 7/7 [00:00<00:00, 10.42it/s]\n"
     ]
    },
    {
     "name": "stdout",
     "output_type": "stream",
     "text": [
      "                   all         25        190      0.509      0.495      0.484      0.222        0.4      0.374      0.288     0.0648\n",
      "\n",
      "      Epoch    GPU_mem   box_loss   seg_loss   cls_loss   dfl_loss  Instances       Size\n"
     ]
    },
    {
     "name": "stderr",
     "output_type": "stream",
     "text": [
      "      15/50     0.992G      1.743      3.025       1.94      1.554         10        640: 100%|██████████| 44/44 [00:05<00:00,  7.64it/s]\n",
      "                 Class     Images  Instances      Box(P          R      mAP50  mAP50-95)     Mask(P          R      mAP50  mAP50-95): 100%|██████████| 7/7 [00:00<00:00, 10.75it/s]"
     ]
    },
    {
     "name": "stdout",
     "output_type": "stream",
     "text": [
      "                   all         25        190       0.45      0.516      0.465      0.245      0.397      0.305      0.238     0.0576\n"
     ]
    },
    {
     "name": "stderr",
     "output_type": "stream",
     "text": [
      "\n"
     ]
    },
    {
     "name": "stdout",
     "output_type": "stream",
     "text": [
      "\n",
      "      Epoch    GPU_mem   box_loss   seg_loss   cls_loss   dfl_loss  Instances       Size\n"
     ]
    },
    {
     "name": "stderr",
     "output_type": "stream",
     "text": [
      "      16/50     0.854G      1.761      3.086      1.872       1.58         30        640: 100%|██████████| 44/44 [00:05<00:00,  7.72it/s]\n",
      "                 Class     Images  Instances      Box(P          R      mAP50  mAP50-95)     Mask(P          R      mAP50  mAP50-95): 100%|██████████| 7/7 [00:00<00:00, 11.43it/s]"
     ]
    },
    {
     "name": "stdout",
     "output_type": "stream",
     "text": [
      "                   all         25        190      0.464      0.516      0.468      0.234      0.397      0.321      0.243     0.0602\n"
     ]
    },
    {
     "name": "stderr",
     "output_type": "stream",
     "text": [
      "\n"
     ]
    },
    {
     "name": "stdout",
     "output_type": "stream",
     "text": [
      "\n",
      "      Epoch    GPU_mem   box_loss   seg_loss   cls_loss   dfl_loss  Instances       Size\n"
     ]
    },
    {
     "name": "stderr",
     "output_type": "stream",
     "text": [
      "      17/50     0.979G      1.727       3.01      1.818       1.56         35        640: 100%|██████████| 44/44 [00:05<00:00,  7.75it/s]\n",
      "                 Class     Images  Instances      Box(P          R      mAP50  mAP50-95)     Mask(P          R      mAP50  mAP50-95): 100%|██████████| 7/7 [00:00<00:00, 11.27it/s]"
     ]
    },
    {
     "name": "stdout",
     "output_type": "stream",
     "text": [
      "                   all         25        190      0.538      0.453      0.493      0.225      0.345      0.389       0.27     0.0602\n"
     ]
    },
    {
     "name": "stderr",
     "output_type": "stream",
     "text": [
      "\n"
     ]
    },
    {
     "name": "stdout",
     "output_type": "stream",
     "text": [
      "\n",
      "      Epoch    GPU_mem   box_loss   seg_loss   cls_loss   dfl_loss  Instances       Size\n"
     ]
    },
    {
     "name": "stderr",
     "output_type": "stream",
     "text": [
      "      18/50     0.862G      1.702      3.009      1.862      1.528          9        640: 100%|██████████| 44/44 [00:05<00:00,  8.09it/s]\n",
      "                 Class     Images  Instances      Box(P          R      mAP50  mAP50-95)     Mask(P          R      mAP50  mAP50-95): 100%|██████████| 7/7 [00:00<00:00,  9.91it/s]"
     ]
    },
    {
     "name": "stdout",
     "output_type": "stream",
     "text": [
      "                   all         25        190      0.495      0.505      0.493      0.237      0.316      0.361      0.231     0.0579\n"
     ]
    },
    {
     "name": "stderr",
     "output_type": "stream",
     "text": [
      "\n"
     ]
    },
    {
     "name": "stdout",
     "output_type": "stream",
     "text": [
      "\n",
      "      Epoch    GPU_mem   box_loss   seg_loss   cls_loss   dfl_loss  Instances       Size\n"
     ]
    },
    {
     "name": "stderr",
     "output_type": "stream",
     "text": [
      "      19/50      0.86G      1.676      2.997      1.822      1.514          6        640: 100%|██████████| 44/44 [00:05<00:00,  7.90it/s]\n",
      "                 Class     Images  Instances      Box(P          R      mAP50  mAP50-95)     Mask(P          R      mAP50  mAP50-95): 100%|██████████| 7/7 [00:00<00:00, 10.03it/s]"
     ]
    },
    {
     "name": "stdout",
     "output_type": "stream",
     "text": [
      "                   all         25        190      0.489      0.514      0.501      0.258      0.348      0.357      0.259     0.0682\n"
     ]
    },
    {
     "name": "stderr",
     "output_type": "stream",
     "text": [
      "\n"
     ]
    },
    {
     "name": "stdout",
     "output_type": "stream",
     "text": [
      "\n",
      "      Epoch    GPU_mem   box_loss   seg_loss   cls_loss   dfl_loss  Instances       Size\n"
     ]
    },
    {
     "name": "stderr",
     "output_type": "stream",
     "text": [
      "      20/50     0.956G       1.66      2.934      1.785      1.507         23        640: 100%|██████████| 44/44 [00:05<00:00,  7.77it/s]\n",
      "                 Class     Images  Instances      Box(P          R      mAP50  mAP50-95)     Mask(P          R      mAP50  mAP50-95): 100%|██████████| 7/7 [00:00<00:00, 11.41it/s]"
     ]
    },
    {
     "name": "stdout",
     "output_type": "stream",
     "text": [
      "                   all         25        190      0.521      0.511      0.473      0.231      0.337      0.342      0.232     0.0632\n"
     ]
    },
    {
     "name": "stderr",
     "output_type": "stream",
     "text": [
      "\n"
     ]
    },
    {
     "name": "stdout",
     "output_type": "stream",
     "text": [
      "\n",
      "      Epoch    GPU_mem   box_loss   seg_loss   cls_loss   dfl_loss  Instances       Size\n"
     ]
    },
    {
     "name": "stderr",
     "output_type": "stream",
     "text": [
      "      21/50     0.965G      1.626      2.931      1.801        1.5          7        640: 100%|██████████| 44/44 [00:05<00:00,  7.87it/s]\n",
      "                 Class     Images  Instances      Box(P          R      mAP50  mAP50-95)     Mask(P          R      mAP50  mAP50-95): 100%|██████████| 7/7 [00:00<00:00, 11.43it/s]"
     ]
    },
    {
     "name": "stdout",
     "output_type": "stream",
     "text": [
      "                   all         25        190      0.494      0.537      0.447      0.222      0.332      0.363      0.213     0.0564\n"
     ]
    },
    {
     "name": "stderr",
     "output_type": "stream",
     "text": [
      "\n"
     ]
    },
    {
     "name": "stdout",
     "output_type": "stream",
     "text": [
      "\n",
      "      Epoch    GPU_mem   box_loss   seg_loss   cls_loss   dfl_loss  Instances       Size\n"
     ]
    },
    {
     "name": "stderr",
     "output_type": "stream",
     "text": [
      "      22/50     0.927G      1.631      2.974      1.775      1.491         13        640: 100%|██████████| 44/44 [00:05<00:00,  7.78it/s]\n",
      "                 Class     Images  Instances      Box(P          R      mAP50  mAP50-95)     Mask(P          R      mAP50  mAP50-95): 100%|██████████| 7/7 [00:00<00:00, 10.71it/s]\n"
     ]
    },
    {
     "name": "stdout",
     "output_type": "stream",
     "text": [
      "                   all         25        190      0.486      0.505      0.474      0.245      0.368       0.34      0.251     0.0721\n",
      "\n",
      "      Epoch    GPU_mem   box_loss   seg_loss   cls_loss   dfl_loss  Instances       Size\n"
     ]
    },
    {
     "name": "stderr",
     "output_type": "stream",
     "text": [
      "      23/50     0.763G      1.585      2.819      1.723      1.464         10        640: 100%|██████████| 44/44 [00:05<00:00,  7.89it/s]\n",
      "                 Class     Images  Instances      Box(P          R      mAP50  mAP50-95)     Mask(P          R      mAP50  mAP50-95): 100%|██████████| 7/7 [00:00<00:00, 10.69it/s]"
     ]
    },
    {
     "name": "stdout",
     "output_type": "stream",
     "text": [
      "                   all         25        190      0.515      0.458      0.469      0.252      0.469      0.332      0.315     0.0913\n"
     ]
    },
    {
     "name": "stderr",
     "output_type": "stream",
     "text": [
      "\n"
     ]
    },
    {
     "name": "stdout",
     "output_type": "stream",
     "text": [
      "\n",
      "      Epoch    GPU_mem   box_loss   seg_loss   cls_loss   dfl_loss  Instances       Size\n"
     ]
    },
    {
     "name": "stderr",
     "output_type": "stream",
     "text": [
      "      24/50     0.833G      1.599      2.829      1.752      1.479          4        640: 100%|██████████| 44/44 [00:05<00:00,  8.22it/s]\n",
      "                 Class     Images  Instances      Box(P          R      mAP50  mAP50-95)     Mask(P          R      mAP50  mAP50-95): 100%|██████████| 7/7 [00:00<00:00, 11.13it/s]"
     ]
    },
    {
     "name": "stdout",
     "output_type": "stream",
     "text": [
      "                   all         25        190      0.475       0.52      0.494      0.259       0.41      0.363      0.299     0.0831\n"
     ]
    },
    {
     "name": "stderr",
     "output_type": "stream",
     "text": [
      "\n"
     ]
    },
    {
     "name": "stdout",
     "output_type": "stream",
     "text": [
      "\n",
      "      Epoch    GPU_mem   box_loss   seg_loss   cls_loss   dfl_loss  Instances       Size\n"
     ]
    },
    {
     "name": "stderr",
     "output_type": "stream",
     "text": [
      "      25/50     0.851G      1.583      2.845      1.704      1.454          6        640: 100%|██████████| 44/44 [00:05<00:00,  7.80it/s]\n",
      "                 Class     Images  Instances      Box(P          R      mAP50  mAP50-95)     Mask(P          R      mAP50  mAP50-95): 100%|██████████| 7/7 [00:00<00:00, 11.32it/s]"
     ]
    },
    {
     "name": "stdout",
     "output_type": "stream",
     "text": [
      "                   all         25        190      0.541      0.502      0.535      0.284      0.476      0.374       0.31     0.0846\n"
     ]
    },
    {
     "name": "stderr",
     "output_type": "stream",
     "text": [
      "\n"
     ]
    },
    {
     "name": "stdout",
     "output_type": "stream",
     "text": [
      "\n",
      "      Epoch    GPU_mem   box_loss   seg_loss   cls_loss   dfl_loss  Instances       Size\n"
     ]
    },
    {
     "name": "stderr",
     "output_type": "stream",
     "text": [
      "      26/50     0.904G      1.552      2.736      1.649      1.443         14        640: 100%|██████████| 44/44 [00:05<00:00,  8.05it/s]\n",
      "                 Class     Images  Instances      Box(P          R      mAP50  mAP50-95)     Mask(P          R      mAP50  mAP50-95): 100%|██████████| 7/7 [00:00<00:00, 12.29it/s]"
     ]
    },
    {
     "name": "stdout",
     "output_type": "stream",
     "text": [
      "                   all         25        190      0.497        0.6      0.553      0.291      0.514      0.374      0.324     0.0866\n"
     ]
    },
    {
     "name": "stderr",
     "output_type": "stream",
     "text": [
      "\n"
     ]
    },
    {
     "name": "stdout",
     "output_type": "stream",
     "text": [
      "\n",
      "      Epoch    GPU_mem   box_loss   seg_loss   cls_loss   dfl_loss  Instances       Size\n"
     ]
    },
    {
     "name": "stderr",
     "output_type": "stream",
     "text": [
      "      27/50     0.948G       1.63      2.844        1.7        1.5          7        640: 100%|██████████| 44/44 [00:05<00:00,  7.69it/s]\n",
      "                 Class     Images  Instances      Box(P          R      mAP50  mAP50-95)     Mask(P          R      mAP50  mAP50-95): 100%|██████████| 7/7 [00:00<00:00, 10.07it/s]"
     ]
    },
    {
     "name": "stdout",
     "output_type": "stream",
     "text": [
      "                   all         25        190      0.585      0.526       0.58      0.311      0.475       0.41      0.363     0.0952\n"
     ]
    },
    {
     "name": "stderr",
     "output_type": "stream",
     "text": [
      "\n"
     ]
    },
    {
     "name": "stdout",
     "output_type": "stream",
     "text": [
      "\n",
      "      Epoch    GPU_mem   box_loss   seg_loss   cls_loss   dfl_loss  Instances       Size\n"
     ]
    },
    {
     "name": "stderr",
     "output_type": "stream",
     "text": [
      "      28/50     0.937G      1.593      2.751      1.643      1.459          6        640: 100%|██████████| 44/44 [00:05<00:00,  7.72it/s]\n",
      "                 Class     Images  Instances      Box(P          R      mAP50  mAP50-95)     Mask(P          R      mAP50  mAP50-95): 100%|██████████| 7/7 [00:00<00:00, 10.64it/s]"
     ]
    },
    {
     "name": "stdout",
     "output_type": "stream",
     "text": [
      "                   all         25        190      0.539      0.479       0.53      0.279      0.369      0.337      0.292     0.0733\n"
     ]
    },
    {
     "name": "stderr",
     "output_type": "stream",
     "text": [
      "\n"
     ]
    },
    {
     "name": "stdout",
     "output_type": "stream",
     "text": [
      "\n",
      "      Epoch    GPU_mem   box_loss   seg_loss   cls_loss   dfl_loss  Instances       Size\n"
     ]
    },
    {
     "name": "stderr",
     "output_type": "stream",
     "text": [
      "      29/50     0.837G       1.56       2.75      1.652      1.444          8        640: 100%|██████████| 44/44 [00:05<00:00,  7.87it/s]\n",
      "                 Class     Images  Instances      Box(P          R      mAP50  mAP50-95)     Mask(P          R      mAP50  mAP50-95): 100%|██████████| 7/7 [00:00<00:00,  9.57it/s]"
     ]
    },
    {
     "name": "stdout",
     "output_type": "stream",
     "text": [
      "                   all         25        190       0.46      0.533       0.52      0.275      0.387      0.405      0.353     0.0851\n"
     ]
    },
    {
     "name": "stderr",
     "output_type": "stream",
     "text": [
      "\n"
     ]
    },
    {
     "name": "stdout",
     "output_type": "stream",
     "text": [
      "\n",
      "      Epoch    GPU_mem   box_loss   seg_loss   cls_loss   dfl_loss  Instances       Size\n"
     ]
    },
    {
     "name": "stderr",
     "output_type": "stream",
     "text": [
      "      30/50     0.862G      1.543      2.733       1.67      1.418         20        640: 100%|██████████| 44/44 [00:05<00:00,  8.09it/s]\n",
      "                 Class     Images  Instances      Box(P          R      mAP50  mAP50-95)     Mask(P          R      mAP50  mAP50-95): 100%|██████████| 7/7 [00:00<00:00, 11.36it/s]"
     ]
    },
    {
     "name": "stdout",
     "output_type": "stream",
     "text": [
      "                   all         25        190      0.559      0.516      0.533      0.273      0.454        0.4       0.37     0.0921\n"
     ]
    },
    {
     "name": "stderr",
     "output_type": "stream",
     "text": [
      "\n"
     ]
    },
    {
     "name": "stdout",
     "output_type": "stream",
     "text": [
      "\n",
      "      Epoch    GPU_mem   box_loss   seg_loss   cls_loss   dfl_loss  Instances       Size\n"
     ]
    },
    {
     "name": "stderr",
     "output_type": "stream",
     "text": [
      "      31/50     0.841G      1.519       2.73       1.65      1.398          5        640: 100%|██████████| 44/44 [00:05<00:00,  7.88it/s]\n",
      "                 Class     Images  Instances      Box(P          R      mAP50  mAP50-95)     Mask(P          R      mAP50  mAP50-95): 100%|██████████| 7/7 [00:00<00:00, 10.95it/s]\n"
     ]
    },
    {
     "name": "stdout",
     "output_type": "stream",
     "text": [
      "                   all         25        190      0.613        0.5      0.529      0.273      0.498      0.405      0.373      0.102\n",
      "\n",
      "      Epoch    GPU_mem   box_loss   seg_loss   cls_loss   dfl_loss  Instances       Size\n"
     ]
    },
    {
     "name": "stderr",
     "output_type": "stream",
     "text": [
      "      32/50     0.872G      1.576      2.728       1.68      1.443         30        640: 100%|██████████| 44/44 [00:05<00:00,  8.01it/s]\n",
      "                 Class     Images  Instances      Box(P          R      mAP50  mAP50-95)     Mask(P          R      mAP50  mAP50-95): 100%|██████████| 7/7 [00:00<00:00, 10.87it/s]"
     ]
    },
    {
     "name": "stdout",
     "output_type": "stream",
     "text": [
      "                   all         25        190      0.551      0.558      0.542      0.286      0.473      0.458      0.399       0.11\n"
     ]
    },
    {
     "name": "stderr",
     "output_type": "stream",
     "text": [
      "\n"
     ]
    },
    {
     "name": "stdout",
     "output_type": "stream",
     "text": [
      "\n",
      "      Epoch    GPU_mem   box_loss   seg_loss   cls_loss   dfl_loss  Instances       Size\n"
     ]
    },
    {
     "name": "stderr",
     "output_type": "stream",
     "text": [
      "      33/50     0.801G      1.514      2.723      1.643      1.436         26        640: 100%|██████████| 44/44 [00:05<00:00,  7.82it/s]\n",
      "                 Class     Images  Instances      Box(P          R      mAP50  mAP50-95)     Mask(P          R      mAP50  mAP50-95): 100%|██████████| 7/7 [00:00<00:00, 11.16it/s]"
     ]
    },
    {
     "name": "stdout",
     "output_type": "stream",
     "text": [
      "                   all         25        190      0.589      0.528      0.547      0.294      0.579      0.384      0.391       0.11\n"
     ]
    },
    {
     "name": "stderr",
     "output_type": "stream",
     "text": [
      "\n"
     ]
    },
    {
     "name": "stdout",
     "output_type": "stream",
     "text": [
      "\n",
      "      Epoch    GPU_mem   box_loss   seg_loss   cls_loss   dfl_loss  Instances       Size\n"
     ]
    },
    {
     "name": "stderr",
     "output_type": "stream",
     "text": [
      "      34/50     0.877G      1.513      2.722      1.631       1.44          6        640: 100%|██████████| 44/44 [00:05<00:00,  7.75it/s]\n",
      "                 Class     Images  Instances      Box(P          R      mAP50  mAP50-95)     Mask(P          R      mAP50  mAP50-95): 100%|██████████| 7/7 [00:00<00:00, 10.53it/s]\n"
     ]
    },
    {
     "name": "stdout",
     "output_type": "stream",
     "text": [
      "                   all         25        190      0.518      0.595      0.555        0.3      0.472      0.479      0.416      0.115\n",
      "\n",
      "      Epoch    GPU_mem   box_loss   seg_loss   cls_loss   dfl_loss  Instances       Size\n"
     ]
    },
    {
     "name": "stderr",
     "output_type": "stream",
     "text": [
      "      35/50     0.895G      1.491      2.717      1.591      1.398          5        640: 100%|██████████| 44/44 [00:05<00:00,  7.63it/s]\n",
      "                 Class     Images  Instances      Box(P          R      mAP50  mAP50-95)     Mask(P          R      mAP50  mAP50-95): 100%|██████████| 7/7 [00:00<00:00, 11.28it/s]"
     ]
    },
    {
     "name": "stdout",
     "output_type": "stream",
     "text": [
      "                   all         25        190      0.552      0.547      0.571      0.303       0.57      0.395      0.418      0.113\n"
     ]
    },
    {
     "name": "stderr",
     "output_type": "stream",
     "text": [
      "\n"
     ]
    },
    {
     "name": "stdout",
     "output_type": "stream",
     "text": [
      "\n",
      "      Epoch    GPU_mem   box_loss   seg_loss   cls_loss   dfl_loss  Instances       Size\n"
     ]
    },
    {
     "name": "stderr",
     "output_type": "stream",
     "text": [
      "      36/50     0.912G      1.495      2.716      1.603      1.411         11        640: 100%|██████████| 44/44 [00:05<00:00,  7.91it/s]\n",
      "                 Class     Images  Instances      Box(P          R      mAP50  mAP50-95)     Mask(P          R      mAP50  mAP50-95): 100%|██████████| 7/7 [00:00<00:00, 10.10it/s]\n"
     ]
    },
    {
     "name": "stdout",
     "output_type": "stream",
     "text": [
      "                   all         25        190      0.644      0.514       0.59      0.312      0.557       0.43      0.441      0.115\n",
      "\n",
      "      Epoch    GPU_mem   box_loss   seg_loss   cls_loss   dfl_loss  Instances       Size\n"
     ]
    },
    {
     "name": "stderr",
     "output_type": "stream",
     "text": [
      "      37/50         1G      1.497      2.746      1.584      1.396         17        640: 100%|██████████| 44/44 [00:05<00:00,  7.74it/s]\n",
      "                 Class     Images  Instances      Box(P          R      mAP50  mAP50-95)     Mask(P          R      mAP50  mAP50-95): 100%|██████████| 7/7 [00:00<00:00, 10.79it/s]\n"
     ]
    },
    {
     "name": "stdout",
     "output_type": "stream",
     "text": [
      "                   all         25        190      0.694      0.526      0.612      0.327      0.614      0.416      0.449      0.121\n",
      "\n",
      "      Epoch    GPU_mem   box_loss   seg_loss   cls_loss   dfl_loss  Instances       Size\n"
     ]
    },
    {
     "name": "stderr",
     "output_type": "stream",
     "text": [
      "      38/50     0.872G      1.481      2.758       1.55        1.4         17        640: 100%|██████████| 44/44 [00:05<00:00,  7.82it/s]\n",
      "                 Class     Images  Instances      Box(P          R      mAP50  mAP50-95)     Mask(P          R      mAP50  mAP50-95): 100%|██████████| 7/7 [00:00<00:00, 10.37it/s]"
     ]
    },
    {
     "name": "stdout",
     "output_type": "stream",
     "text": [
      "                   all         25        190      0.614      0.547       0.62      0.335      0.649      0.379      0.439      0.119\n"
     ]
    },
    {
     "name": "stderr",
     "output_type": "stream",
     "text": [
      "\n"
     ]
    },
    {
     "name": "stdout",
     "output_type": "stream",
     "text": [
      "\n",
      "      Epoch    GPU_mem   box_loss   seg_loss   cls_loss   dfl_loss  Instances       Size\n"
     ]
    },
    {
     "name": "stderr",
     "output_type": "stream",
     "text": [
      "      39/50     0.885G      1.485      2.731      1.505      1.375         14        640: 100%|██████████| 44/44 [00:05<00:00,  7.86it/s]\n",
      "                 Class     Images  Instances      Box(P          R      mAP50  mAP50-95)     Mask(P          R      mAP50  mAP50-95): 100%|██████████| 7/7 [00:00<00:00, 12.26it/s]"
     ]
    },
    {
     "name": "stdout",
     "output_type": "stream",
     "text": [
      "                   all         25        190      0.632      0.589      0.626      0.339      0.695      0.416      0.478      0.123\n"
     ]
    },
    {
     "name": "stderr",
     "output_type": "stream",
     "text": [
      "\n"
     ]
    },
    {
     "name": "stdout",
     "output_type": "stream",
     "text": [
      "\n",
      "      Epoch    GPU_mem   box_loss   seg_loss   cls_loss   dfl_loss  Instances       Size\n"
     ]
    },
    {
     "name": "stderr",
     "output_type": "stream",
     "text": [
      "      40/50     0.925G      1.451      2.576      1.481      1.377         25        640: 100%|██████████| 44/44 [00:05<00:00,  7.73it/s]\n",
      "                 Class     Images  Instances      Box(P          R      mAP50  mAP50-95)     Mask(P          R      mAP50  mAP50-95): 100%|██████████| 7/7 [00:00<00:00, 11.96it/s]"
     ]
    },
    {
     "name": "stdout",
     "output_type": "stream",
     "text": [
      "                   all         25        190      0.632      0.542       0.61      0.327      0.682      0.385      0.447      0.115\n"
     ]
    },
    {
     "name": "stderr",
     "output_type": "stream",
     "text": [
      "\n"
     ]
    },
    {
     "name": "stdout",
     "output_type": "stream",
     "text": [
      "Closing dataloader mosaic\n"
     ]
    },
    {
     "name": "stderr",
     "output_type": "stream",
     "text": [
      "/home/etaylor/.conda/envs/detectron_fastai/lib/python3.9/site-packages/torch/utils/data/dataloader.py:558: UserWarning: This DataLoader will create 8 worker processes in total. Our suggested max number of worker in current system is 6, which is smaller than what this DataLoader is going to create. Please be aware that excessive worker creation might get DataLoader running slow or even freeze, lower the worker number to avoid potential slowness/freeze if necessary.\n",
      "  warnings.warn(_create_warning_msg(\n"
     ]
    },
    {
     "name": "stdout",
     "output_type": "stream",
     "text": [
      "\n",
      "      Epoch    GPU_mem   box_loss   seg_loss   cls_loss   dfl_loss  Instances       Size\n"
     ]
    },
    {
     "name": "stderr",
     "output_type": "stream",
     "text": [
      "      41/50     0.822G      1.412      2.558      1.804      1.371          2        640: 100%|██████████| 44/44 [00:05<00:00,  7.86it/s]\n",
      "                 Class     Images  Instances      Box(P          R      mAP50  mAP50-95)     Mask(P          R      mAP50  mAP50-95): 100%|██████████| 7/7 [00:00<00:00, 12.29it/s]"
     ]
    },
    {
     "name": "stdout",
     "output_type": "stream",
     "text": [
      "                   all         25        190      0.593      0.605      0.591      0.331      0.491      0.463      0.424       0.11\n"
     ]
    },
    {
     "name": "stderr",
     "output_type": "stream",
     "text": [
      "\n"
     ]
    },
    {
     "name": "stdout",
     "output_type": "stream",
     "text": [
      "\n",
      "      Epoch    GPU_mem   box_loss   seg_loss   cls_loss   dfl_loss  Instances       Size\n"
     ]
    },
    {
     "name": "stderr",
     "output_type": "stream",
     "text": [
      "      42/50     0.789G      1.424      2.596       1.75      1.388         13        640: 100%|██████████| 44/44 [00:04<00:00,  9.39it/s]\n",
      "                 Class     Images  Instances      Box(P          R      mAP50  mAP50-95)     Mask(P          R      mAP50  mAP50-95): 100%|██████████| 7/7 [00:00<00:00, 11.01it/s]"
     ]
    },
    {
     "name": "stdout",
     "output_type": "stream",
     "text": [
      "                   all         25        190      0.564      0.563      0.578      0.327       0.51      0.432       0.41      0.111\n"
     ]
    },
    {
     "name": "stderr",
     "output_type": "stream",
     "text": [
      "\n"
     ]
    },
    {
     "name": "stdout",
     "output_type": "stream",
     "text": [
      "\n",
      "      Epoch    GPU_mem   box_loss   seg_loss   cls_loss   dfl_loss  Instances       Size\n"
     ]
    },
    {
     "name": "stderr",
     "output_type": "stream",
     "text": [
      "      43/50     0.801G      1.479      2.575      1.729      1.402          1        640: 100%|██████████| 44/44 [00:04<00:00,  9.34it/s]\n",
      "                 Class     Images  Instances      Box(P          R      mAP50  mAP50-95)     Mask(P          R      mAP50  mAP50-95): 100%|██████████| 7/7 [00:00<00:00, 11.97it/s]"
     ]
    },
    {
     "name": "stdout",
     "output_type": "stream",
     "text": [
      "                   all         25        190      0.611      0.505      0.557      0.315      0.504      0.416      0.402      0.107\n"
     ]
    },
    {
     "name": "stderr",
     "output_type": "stream",
     "text": [
      "\n"
     ]
    },
    {
     "name": "stdout",
     "output_type": "stream",
     "text": [
      "\n",
      "      Epoch    GPU_mem   box_loss   seg_loss   cls_loss   dfl_loss  Instances       Size\n"
     ]
    },
    {
     "name": "stderr",
     "output_type": "stream",
     "text": [
      "      44/50     0.757G      1.412      2.453      1.628      1.383          4        640: 100%|██████████| 44/44 [00:04<00:00,  9.27it/s]\n",
      "                 Class     Images  Instances      Box(P          R      mAP50  mAP50-95)     Mask(P          R      mAP50  mAP50-95): 100%|██████████| 7/7 [00:00<00:00, 11.06it/s]"
     ]
    },
    {
     "name": "stdout",
     "output_type": "stream",
     "text": [
      "                   all         25        190       0.66        0.5      0.581      0.321        0.6      0.427      0.421      0.111\n"
     ]
    },
    {
     "name": "stderr",
     "output_type": "stream",
     "text": [
      "\n"
     ]
    },
    {
     "name": "stdout",
     "output_type": "stream",
     "text": [
      "\n",
      "      Epoch    GPU_mem   box_loss   seg_loss   cls_loss   dfl_loss  Instances       Size\n"
     ]
    },
    {
     "name": "stderr",
     "output_type": "stream",
     "text": [
      "      45/50     0.801G       1.44      2.451      1.636      1.388          9        640: 100%|██████████| 44/44 [00:04<00:00,  9.35it/s]\n",
      "                 Class     Images  Instances      Box(P          R      mAP50  mAP50-95)     Mask(P          R      mAP50  mAP50-95): 100%|██████████| 7/7 [00:00<00:00, 11.70it/s]"
     ]
    },
    {
     "name": "stdout",
     "output_type": "stream",
     "text": [
      "                   all         25        190      0.594      0.532      0.567      0.312        0.6      0.389      0.408      0.106\n"
     ]
    },
    {
     "name": "stderr",
     "output_type": "stream",
     "text": [
      "\n"
     ]
    },
    {
     "name": "stdout",
     "output_type": "stream",
     "text": [
      "\n",
      "      Epoch    GPU_mem   box_loss   seg_loss   cls_loss   dfl_loss  Instances       Size\n"
     ]
    },
    {
     "name": "stderr",
     "output_type": "stream",
     "text": [
      "      46/50     0.799G      1.414      2.537      1.613      1.397          5        640: 100%|██████████| 44/44 [00:04<00:00,  9.45it/s]\n",
      "                 Class     Images  Instances      Box(P          R      mAP50  mAP50-95)     Mask(P          R      mAP50  mAP50-95): 100%|██████████| 7/7 [00:00<00:00, 11.38it/s]"
     ]
    },
    {
     "name": "stdout",
     "output_type": "stream",
     "text": [
      "                   all         25        190      0.586      0.547      0.561      0.311      0.577      0.395      0.401        0.1\n"
     ]
    },
    {
     "name": "stderr",
     "output_type": "stream",
     "text": [
      "\n"
     ]
    },
    {
     "name": "stdout",
     "output_type": "stream",
     "text": [
      "\n",
      "      Epoch    GPU_mem   box_loss   seg_loss   cls_loss   dfl_loss  Instances       Size\n"
     ]
    },
    {
     "name": "stderr",
     "output_type": "stream",
     "text": [
      "      47/50     0.763G      1.402      2.447      1.546      1.364          9        640: 100%|██████████| 44/44 [00:04<00:00,  9.34it/s]\n",
      "                 Class     Images  Instances      Box(P          R      mAP50  mAP50-95)     Mask(P          R      mAP50  mAP50-95): 100%|██████████| 7/7 [00:00<00:00, 11.60it/s]"
     ]
    },
    {
     "name": "stdout",
     "output_type": "stream",
     "text": [
      "                   all         25        190      0.631      0.521      0.569      0.316      0.523      0.432      0.433      0.104\n"
     ]
    },
    {
     "name": "stderr",
     "output_type": "stream",
     "text": [
      "\n"
     ]
    },
    {
     "name": "stdout",
     "output_type": "stream",
     "text": [
      "\n",
      "      Epoch    GPU_mem   box_loss   seg_loss   cls_loss   dfl_loss  Instances       Size\n"
     ]
    },
    {
     "name": "stderr",
     "output_type": "stream",
     "text": [
      "      48/50     0.845G      1.376      2.503      1.635      1.368          4        640: 100%|██████████| 44/44 [00:04<00:00,  9.41it/s]\n",
      "                 Class     Images  Instances      Box(P          R      mAP50  mAP50-95)     Mask(P          R      mAP50  mAP50-95): 100%|██████████| 7/7 [00:00<00:00, 11.23it/s]"
     ]
    },
    {
     "name": "stdout",
     "output_type": "stream",
     "text": [
      "                   all         25        190      0.629      0.521      0.576      0.321      0.545      0.442      0.439       0.11\n"
     ]
    },
    {
     "name": "stderr",
     "output_type": "stream",
     "text": [
      "\n"
     ]
    },
    {
     "name": "stdout",
     "output_type": "stream",
     "text": [
      "\n",
      "      Epoch    GPU_mem   box_loss   seg_loss   cls_loss   dfl_loss  Instances       Size\n"
     ]
    },
    {
     "name": "stderr",
     "output_type": "stream",
     "text": [
      "      49/50     0.786G      1.344      2.426      1.547      1.327          6        640: 100%|██████████| 44/44 [00:04<00:00,  9.21it/s]\n",
      "                 Class     Images  Instances      Box(P          R      mAP50  mAP50-95)     Mask(P          R      mAP50  mAP50-95): 100%|██████████| 7/7 [00:00<00:00, 11.19it/s]"
     ]
    },
    {
     "name": "stdout",
     "output_type": "stream",
     "text": [
      "                   all         25        190      0.635      0.514      0.574      0.324      0.558      0.452      0.455      0.114\n"
     ]
    },
    {
     "name": "stderr",
     "output_type": "stream",
     "text": [
      "\n"
     ]
    },
    {
     "name": "stdout",
     "output_type": "stream",
     "text": [
      "\n",
      "      Epoch    GPU_mem   box_loss   seg_loss   cls_loss   dfl_loss  Instances       Size\n"
     ]
    },
    {
     "name": "stderr",
     "output_type": "stream",
     "text": [
      "      50/50     0.761G      1.339       2.41      1.562      1.328         12        640: 100%|██████████| 44/44 [00:04<00:00,  9.47it/s]\n",
      "                 Class     Images  Instances      Box(P          R      mAP50  mAP50-95)     Mask(P          R      mAP50  mAP50-95): 100%|██████████| 7/7 [00:00<00:00, 11.01it/s]"
     ]
    },
    {
     "name": "stdout",
     "output_type": "stream",
     "text": [
      "                   all         25        190      0.664      0.495      0.576      0.327      0.578      0.432      0.446      0.116\n"
     ]
    },
    {
     "name": "stderr",
     "output_type": "stream",
     "text": [
      "\n"
     ]
    },
    {
     "name": "stdout",
     "output_type": "stream",
     "text": [
      "\n",
      "50 epochs completed in 0.098 hours.\n",
      "Optimizer stripped from /home/etaylor/code_projects/thesis/src/stigmas_detection/segmentation/yolo/runs/segment/train28/weights/last.pt, 6.0MB\n",
      "Optimizer stripped from /home/etaylor/code_projects/thesis/src/stigmas_detection/segmentation/yolo/runs/segment/train28/weights/best.pt, 6.0MB\n",
      "\n",
      "Validating /home/etaylor/code_projects/thesis/src/stigmas_detection/segmentation/yolo/runs/segment/train28/weights/best.pt...\n",
      "Ultralytics 8.3.56 🚀 Python-3.9.19 torch-2.3.1+cu121 CUDA:0 (NVIDIA GeForce GTX 1080 Ti, 11165MiB)\n",
      "YOLO11n-seg summary (fused): 265 layers, 2,834,763 parameters, 0 gradients, 10.2 GFLOPs\n"
     ]
    },
    {
     "name": "stderr",
     "output_type": "stream",
     "text": [
      "                 Class     Images  Instances      Box(P          R      mAP50  mAP50-95)     Mask(P          R      mAP50  mAP50-95): 100%|██████████| 7/7 [00:01<00:00,  6.90it/s]\n"
     ]
    },
    {
     "name": "stdout",
     "output_type": "stream",
     "text": [
      "                   all         25        190      0.629      0.589      0.626      0.339      0.699      0.416      0.478      0.123\n",
      "Speed: 0.3ms preprocess, 7.3ms inference, 0.0ms loss, 10.7ms postprocess per image\n",
      "Results saved to \u001b[1m/home/etaylor/code_projects/thesis/src/stigmas_detection/segmentation/yolo/runs/segment/train28\u001b[0m\n",
      "Ultralytics 8.3.56 🚀 Python-3.9.19 torch-2.3.1+cu121 CUDA:0 (NVIDIA GeForce GTX 1080 Ti, 11165MiB)\n",
      "YOLO11n-seg summary (fused): 265 layers, 2,834,763 parameters, 0 gradients, 10.2 GFLOPs\n"
     ]
    },
    {
     "name": "stderr",
     "output_type": "stream",
     "text": [
      "\u001b[34m\u001b[1mval: \u001b[0mScanning /sise/home/etaylor/code_projects/thesis/segments/etaylor_stigmas_dataset/yolo_formatted/labels/val.cache... 25 images, 0 backgrounds, 0 corrupt: 100%|██████████| 25/25 [00:00<?, ?it/s]\n",
      "/home/etaylor/.conda/envs/detectron_fastai/lib/python3.9/site-packages/torch/utils/data/dataloader.py:558: UserWarning: This DataLoader will create 8 worker processes in total. Our suggested max number of worker in current system is 6, which is smaller than what this DataLoader is going to create. Please be aware that excessive worker creation might get DataLoader running slow or even freeze, lower the worker number to avoid potential slowness/freeze if necessary.\n",
      "  warnings.warn(_create_warning_msg(\n",
      "                 Class     Images  Instances      Box(P          R      mAP50  mAP50-95)     Mask(P          R      mAP50  mAP50-95): 100%|██████████| 13/13 [00:03<00:00,  3.92it/s]\n"
     ]
    },
    {
     "name": "stdout",
     "output_type": "stream",
     "text": [
      "                   all         25        190      0.631      0.589      0.627      0.338      0.699      0.416      0.478      0.122\n",
      "Speed: 0.9ms preprocess, 29.4ms inference, 0.0ms loss, 14.3ms postprocess per image\n",
      "Results saved to \u001b[1m/home/etaylor/code_projects/thesis/src/stigmas_detection/segmentation/yolo/runs/segment/train282\u001b[0m\n",
      "Validation results for yolov11n-seg: ultralytics.utils.metrics.SegmentMetrics object with attributes:\n",
      "\n",
      "ap_class_index: array([0])\n",
      "box: ultralytics.utils.metrics.Metric object\n",
      "confusion_matrix: <ultralytics.utils.metrics.ConfusionMatrix object at 0x7fc490c595e0>\n",
      "curves: ['Precision-Recall(B)', 'F1-Confidence(B)', 'Precision-Confidence(B)', 'Recall-Confidence(B)', 'Precision-Recall(M)', 'F1-Confidence(M)', 'Precision-Confidence(M)', 'Recall-Confidence(M)']\n",
      "curves_results: [[array([          0,    0.001001,    0.002002,    0.003003,    0.004004,    0.005005,    0.006006,    0.007007,    0.008008,    0.009009,     0.01001,    0.011011,    0.012012,    0.013013,    0.014014,    0.015015,    0.016016,    0.017017,    0.018018,    0.019019,     0.02002,    0.021021,    0.022022,    0.023023,\n",
      "          0.024024,    0.025025,    0.026026,    0.027027,    0.028028,    0.029029,     0.03003,    0.031031,    0.032032,    0.033033,    0.034034,    0.035035,    0.036036,    0.037037,    0.038038,    0.039039,     0.04004,    0.041041,    0.042042,    0.043043,    0.044044,    0.045045,    0.046046,    0.047047,\n",
      "          0.048048,    0.049049,     0.05005,    0.051051,    0.052052,    0.053053,    0.054054,    0.055055,    0.056056,    0.057057,    0.058058,    0.059059,     0.06006,    0.061061,    0.062062,    0.063063,    0.064064,    0.065065,    0.066066,    0.067067,    0.068068,    0.069069,     0.07007,    0.071071,\n",
      "          0.072072,    0.073073,    0.074074,    0.075075,    0.076076,    0.077077,    0.078078,    0.079079,     0.08008,    0.081081,    0.082082,    0.083083,    0.084084,    0.085085,    0.086086,    0.087087,    0.088088,    0.089089,     0.09009,    0.091091,    0.092092,    0.093093,    0.094094,    0.095095,\n",
      "          0.096096,    0.097097,    0.098098,    0.099099,      0.1001,      0.1011,      0.1021,      0.1031,      0.1041,     0.10511,     0.10611,     0.10711,     0.10811,     0.10911,     0.11011,     0.11111,     0.11211,     0.11311,     0.11411,     0.11512,     0.11612,     0.11712,     0.11812,     0.11912,\n",
      "           0.12012,     0.12112,     0.12212,     0.12312,     0.12412,     0.12513,     0.12613,     0.12713,     0.12813,     0.12913,     0.13013,     0.13113,     0.13213,     0.13313,     0.13413,     0.13514,     0.13614,     0.13714,     0.13814,     0.13914,     0.14014,     0.14114,     0.14214,     0.14314,\n",
      "           0.14414,     0.14515,     0.14615,     0.14715,     0.14815,     0.14915,     0.15015,     0.15115,     0.15215,     0.15315,     0.15415,     0.15516,     0.15616,     0.15716,     0.15816,     0.15916,     0.16016,     0.16116,     0.16216,     0.16316,     0.16416,     0.16517,     0.16617,     0.16717,\n",
      "           0.16817,     0.16917,     0.17017,     0.17117,     0.17217,     0.17317,     0.17417,     0.17518,     0.17618,     0.17718,     0.17818,     0.17918,     0.18018,     0.18118,     0.18218,     0.18318,     0.18418,     0.18519,     0.18619,     0.18719,     0.18819,     0.18919,     0.19019,     0.19119,\n",
      "           0.19219,     0.19319,     0.19419,      0.1952,      0.1962,      0.1972,      0.1982,      0.1992,      0.2002,      0.2012,      0.2022,      0.2032,      0.2042,     0.20521,     0.20621,     0.20721,     0.20821,     0.20921,     0.21021,     0.21121,     0.21221,     0.21321,     0.21421,     0.21522,\n",
      "           0.21622,     0.21722,     0.21822,     0.21922,     0.22022,     0.22122,     0.22222,     0.22322,     0.22422,     0.22523,     0.22623,     0.22723,     0.22823,     0.22923,     0.23023,     0.23123,     0.23223,     0.23323,     0.23423,     0.23524,     0.23624,     0.23724,     0.23824,     0.23924,\n",
      "           0.24024,     0.24124,     0.24224,     0.24324,     0.24424,     0.24525,     0.24625,     0.24725,     0.24825,     0.24925,     0.25025,     0.25125,     0.25225,     0.25325,     0.25425,     0.25526,     0.25626,     0.25726,     0.25826,     0.25926,     0.26026,     0.26126,     0.26226,     0.26326,\n",
      "           0.26426,     0.26527,     0.26627,     0.26727,     0.26827,     0.26927,     0.27027,     0.27127,     0.27227,     0.27327,     0.27427,     0.27528,     0.27628,     0.27728,     0.27828,     0.27928,     0.28028,     0.28128,     0.28228,     0.28328,     0.28428,     0.28529,     0.28629,     0.28729,\n",
      "           0.28829,     0.28929,     0.29029,     0.29129,     0.29229,     0.29329,     0.29429,      0.2953,      0.2963,      0.2973,      0.2983,      0.2993,      0.3003,      0.3013,      0.3023,      0.3033,      0.3043,     0.30531,     0.30631,     0.30731,     0.30831,     0.30931,     0.31031,     0.31131,\n",
      "           0.31231,     0.31331,     0.31431,     0.31532,     0.31632,     0.31732,     0.31832,     0.31932,     0.32032,     0.32132,     0.32232,     0.32332,     0.32432,     0.32533,     0.32633,     0.32733,     0.32833,     0.32933,     0.33033,     0.33133,     0.33233,     0.33333,     0.33433,     0.33534,\n",
      "           0.33634,     0.33734,     0.33834,     0.33934,     0.34034,     0.34134,     0.34234,     0.34334,     0.34434,     0.34535,     0.34635,     0.34735,     0.34835,     0.34935,     0.35035,     0.35135,     0.35235,     0.35335,     0.35435,     0.35536,     0.35636,     0.35736,     0.35836,     0.35936,\n",
      "           0.36036,     0.36136,     0.36236,     0.36336,     0.36436,     0.36537,     0.36637,     0.36737,     0.36837,     0.36937,     0.37037,     0.37137,     0.37237,     0.37337,     0.37437,     0.37538,     0.37638,     0.37738,     0.37838,     0.37938,     0.38038,     0.38138,     0.38238,     0.38338,\n",
      "           0.38438,     0.38539,     0.38639,     0.38739,     0.38839,     0.38939,     0.39039,     0.39139,     0.39239,     0.39339,     0.39439,      0.3954,      0.3964,      0.3974,      0.3984,      0.3994,      0.4004,      0.4014,      0.4024,      0.4034,      0.4044,     0.40541,     0.40641,     0.40741,\n",
      "           0.40841,     0.40941,     0.41041,     0.41141,     0.41241,     0.41341,     0.41441,     0.41542,     0.41642,     0.41742,     0.41842,     0.41942,     0.42042,     0.42142,     0.42242,     0.42342,     0.42442,     0.42543,     0.42643,     0.42743,     0.42843,     0.42943,     0.43043,     0.43143,\n",
      "           0.43243,     0.43343,     0.43443,     0.43544,     0.43644,     0.43744,     0.43844,     0.43944,     0.44044,     0.44144,     0.44244,     0.44344,     0.44444,     0.44545,     0.44645,     0.44745,     0.44845,     0.44945,     0.45045,     0.45145,     0.45245,     0.45345,     0.45445,     0.45546,\n",
      "           0.45646,     0.45746,     0.45846,     0.45946,     0.46046,     0.46146,     0.46246,     0.46346,     0.46446,     0.46547,     0.46647,     0.46747,     0.46847,     0.46947,     0.47047,     0.47147,     0.47247,     0.47347,     0.47447,     0.47548,     0.47648,     0.47748,     0.47848,     0.47948,\n",
      "           0.48048,     0.48148,     0.48248,     0.48348,     0.48448,     0.48549,     0.48649,     0.48749,     0.48849,     0.48949,     0.49049,     0.49149,     0.49249,     0.49349,     0.49449,      0.4955,      0.4965,      0.4975,      0.4985,      0.4995,      0.5005,      0.5015,      0.5025,      0.5035,\n",
      "            0.5045,     0.50551,     0.50651,     0.50751,     0.50851,     0.50951,     0.51051,     0.51151,     0.51251,     0.51351,     0.51451,     0.51552,     0.51652,     0.51752,     0.51852,     0.51952,     0.52052,     0.52152,     0.52252,     0.52352,     0.52452,     0.52553,     0.52653,     0.52753,\n",
      "           0.52853,     0.52953,     0.53053,     0.53153,     0.53253,     0.53353,     0.53453,     0.53554,     0.53654,     0.53754,     0.53854,     0.53954,     0.54054,     0.54154,     0.54254,     0.54354,     0.54454,     0.54555,     0.54655,     0.54755,     0.54855,     0.54955,     0.55055,     0.55155,\n",
      "           0.55255,     0.55355,     0.55455,     0.55556,     0.55656,     0.55756,     0.55856,     0.55956,     0.56056,     0.56156,     0.56256,     0.56356,     0.56456,     0.56557,     0.56657,     0.56757,     0.56857,     0.56957,     0.57057,     0.57157,     0.57257,     0.57357,     0.57457,     0.57558,\n",
      "           0.57658,     0.57758,     0.57858,     0.57958,     0.58058,     0.58158,     0.58258,     0.58358,     0.58458,     0.58559,     0.58659,     0.58759,     0.58859,     0.58959,     0.59059,     0.59159,     0.59259,     0.59359,     0.59459,      0.5956,      0.5966,      0.5976,      0.5986,      0.5996,\n",
      "            0.6006,      0.6016,      0.6026,      0.6036,      0.6046,     0.60561,     0.60661,     0.60761,     0.60861,     0.60961,     0.61061,     0.61161,     0.61261,     0.61361,     0.61461,     0.61562,     0.61662,     0.61762,     0.61862,     0.61962,     0.62062,     0.62162,     0.62262,     0.62362,\n",
      "           0.62462,     0.62563,     0.62663,     0.62763,     0.62863,     0.62963,     0.63063,     0.63163,     0.63263,     0.63363,     0.63463,     0.63564,     0.63664,     0.63764,     0.63864,     0.63964,     0.64064,     0.64164,     0.64264,     0.64364,     0.64464,     0.64565,     0.64665,     0.64765,\n",
      "           0.64865,     0.64965,     0.65065,     0.65165,     0.65265,     0.65365,     0.65465,     0.65566,     0.65666,     0.65766,     0.65866,     0.65966,     0.66066,     0.66166,     0.66266,     0.66366,     0.66466,     0.66567,     0.66667,     0.66767,     0.66867,     0.66967,     0.67067,     0.67167,\n",
      "           0.67267,     0.67367,     0.67467,     0.67568,     0.67668,     0.67768,     0.67868,     0.67968,     0.68068,     0.68168,     0.68268,     0.68368,     0.68468,     0.68569,     0.68669,     0.68769,     0.68869,     0.68969,     0.69069,     0.69169,     0.69269,     0.69369,     0.69469,      0.6957,\n",
      "            0.6967,      0.6977,      0.6987,      0.6997,      0.7007,      0.7017,      0.7027,      0.7037,      0.7047,     0.70571,     0.70671,     0.70771,     0.70871,     0.70971,     0.71071,     0.71171,     0.71271,     0.71371,     0.71471,     0.71572,     0.71672,     0.71772,     0.71872,     0.71972,\n",
      "           0.72072,     0.72172,     0.72272,     0.72372,     0.72472,     0.72573,     0.72673,     0.72773,     0.72873,     0.72973,     0.73073,     0.73173,     0.73273,     0.73373,     0.73473,     0.73574,     0.73674,     0.73774,     0.73874,     0.73974,     0.74074,     0.74174,     0.74274,     0.74374,\n",
      "           0.74474,     0.74575,     0.74675,     0.74775,     0.74875,     0.74975,     0.75075,     0.75175,     0.75275,     0.75375,     0.75475,     0.75576,     0.75676,     0.75776,     0.75876,     0.75976,     0.76076,     0.76176,     0.76276,     0.76376,     0.76476,     0.76577,     0.76677,     0.76777,\n",
      "           0.76877,     0.76977,     0.77077,     0.77177,     0.77277,     0.77377,     0.77477,     0.77578,     0.77678,     0.77778,     0.77878,     0.77978,     0.78078,     0.78178,     0.78278,     0.78378,     0.78478,     0.78579,     0.78679,     0.78779,     0.78879,     0.78979,     0.79079,     0.79179,\n",
      "           0.79279,     0.79379,     0.79479,      0.7958,      0.7968,      0.7978,      0.7988,      0.7998,      0.8008,      0.8018,      0.8028,      0.8038,      0.8048,     0.80581,     0.80681,     0.80781,     0.80881,     0.80981,     0.81081,     0.81181,     0.81281,     0.81381,     0.81481,     0.81582,\n",
      "           0.81682,     0.81782,     0.81882,     0.81982,     0.82082,     0.82182,     0.82282,     0.82382,     0.82482,     0.82583,     0.82683,     0.82783,     0.82883,     0.82983,     0.83083,     0.83183,     0.83283,     0.83383,     0.83483,     0.83584,     0.83684,     0.83784,     0.83884,     0.83984,\n",
      "           0.84084,     0.84184,     0.84284,     0.84384,     0.84484,     0.84585,     0.84685,     0.84785,     0.84885,     0.84985,     0.85085,     0.85185,     0.85285,     0.85385,     0.85485,     0.85586,     0.85686,     0.85786,     0.85886,     0.85986,     0.86086,     0.86186,     0.86286,     0.86386,\n",
      "           0.86486,     0.86587,     0.86687,     0.86787,     0.86887,     0.86987,     0.87087,     0.87187,     0.87287,     0.87387,     0.87487,     0.87588,     0.87688,     0.87788,     0.87888,     0.87988,     0.88088,     0.88188,     0.88288,     0.88388,     0.88488,     0.88589,     0.88689,     0.88789,\n",
      "           0.88889,     0.88989,     0.89089,     0.89189,     0.89289,     0.89389,     0.89489,      0.8959,      0.8969,      0.8979,      0.8989,      0.8999,      0.9009,      0.9019,      0.9029,      0.9039,      0.9049,     0.90591,     0.90691,     0.90791,     0.90891,     0.90991,     0.91091,     0.91191,\n",
      "           0.91291,     0.91391,     0.91491,     0.91592,     0.91692,     0.91792,     0.91892,     0.91992,     0.92092,     0.92192,     0.92292,     0.92392,     0.92492,     0.92593,     0.92693,     0.92793,     0.92893,     0.92993,     0.93093,     0.93193,     0.93293,     0.93393,     0.93493,     0.93594,\n",
      "           0.93694,     0.93794,     0.93894,     0.93994,     0.94094,     0.94194,     0.94294,     0.94394,     0.94494,     0.94595,     0.94695,     0.94795,     0.94895,     0.94995,     0.95095,     0.95195,     0.95295,     0.95395,     0.95495,     0.95596,     0.95696,     0.95796,     0.95896,     0.95996,\n",
      "           0.96096,     0.96196,     0.96296,     0.96396,     0.96496,     0.96597,     0.96697,     0.96797,     0.96897,     0.96997,     0.97097,     0.97197,     0.97297,     0.97397,     0.97497,     0.97598,     0.97698,     0.97798,     0.97898,     0.97998,     0.98098,     0.98198,     0.98298,     0.98398,\n",
      "           0.98498,     0.98599,     0.98699,     0.98799,     0.98899,     0.98999,     0.99099,     0.99199,     0.99299,     0.99399,     0.99499,       0.996,       0.997,       0.998,       0.999,           1]), array([[          1,           1,           1,           1,           1,           1,           1,           1,           1,           1,           1,     0.90909,     0.90909,     0.90909,     0.90909,     0.90909,     0.90909,     0.90909,     0.90909,     0.90909,     0.90909,     0.90909,     0.90909,\n",
      "            0.90909,     0.90909,     0.90909,     0.90909,     0.90909,     0.90909,     0.90909,     0.90909,     0.90909,     0.90909,     0.90909,     0.90909,     0.90909,     0.90909,     0.90909,     0.90909,     0.90909,     0.90909,     0.90909,     0.90909,     0.90909,     0.90909,     0.90909,\n",
      "            0.90909,     0.90909,     0.90909,     0.90909,     0.90909,     0.90909,     0.90909,     0.88889,     0.88889,     0.88889,     0.88889,     0.88889,     0.88889,     0.88889,     0.88889,     0.88889,     0.88889,     0.88889,     0.88889,     0.88889,     0.88889,     0.88889,     0.88889,\n",
      "            0.88889,     0.88889,     0.88889,     0.88889,     0.88889,     0.88889,     0.88889,     0.88889,     0.88889,     0.88889,     0.88889,     0.88889,     0.88889,     0.88889,     0.88889,     0.88889,     0.88889,     0.88889,     0.88889,     0.88889,     0.88889,     0.88889,     0.88889,\n",
      "            0.88889,     0.88889,     0.88889,     0.88889,     0.88889,     0.88889,     0.88889,     0.88889,     0.88889,     0.88889,     0.88889,     0.88889,     0.88889,     0.88889,     0.88889,     0.88889,     0.88889,     0.88889,     0.88889,     0.88889,     0.88889,     0.88889,     0.88889,\n",
      "            0.88889,     0.88889,     0.88889,     0.88889,     0.88889,     0.88889,     0.88889,     0.88889,     0.88889,     0.88889,     0.88889,     0.88889,     0.88889,     0.88889,     0.88889,     0.88889,     0.88889,     0.88889,     0.88889,     0.88889,     0.88889,     0.88889,     0.88889,\n",
      "            0.88889,     0.88889,     0.88889,     0.88889,     0.88889,     0.88889,     0.88889,     0.88889,     0.88889,     0.88889,     0.88889,     0.88889,     0.88889,     0.88889,     0.88889,     0.88889,     0.88889,     0.88889,     0.88889,     0.88889,     0.88889,     0.88889,     0.88889,\n",
      "            0.88889,     0.88889,     0.88889,     0.88889,     0.88889,     0.88889,     0.88889,     0.88889,     0.88889,     0.88889,     0.88889,     0.88889,     0.88889,     0.88889,     0.88889,     0.88889,     0.88889,     0.88889,     0.88889,     0.88889,     0.88889,     0.88889,     0.88889,\n",
      "            0.88889,     0.88889,     0.88889,     0.88889,     0.88889,     0.88889,     0.88889,     0.88889,     0.88889,     0.88889,     0.88889,     0.88889,     0.88889,     0.88889,     0.88889,     0.88889,     0.88889,     0.88889,     0.88889,     0.88889,     0.88889,     0.88889,     0.88889,\n",
      "            0.88889,     0.88889,     0.88889,     0.88889,     0.88462,     0.88462,     0.88462,     0.88462,     0.88462,     0.88462,     0.88462,     0.88462,     0.88462,     0.88462,     0.88462,     0.88462,     0.88462,     0.88462,     0.88462,     0.88462,     0.88462,     0.88462,     0.88462,\n",
      "            0.88462,     0.88462,     0.88462,     0.88462,     0.88462,     0.88462,     0.88462,     0.88462,     0.88462,     0.88462,     0.88462,     0.88462,     0.88235,     0.88235,     0.88235,     0.88235,     0.88235,     0.88235,     0.88235,     0.88235,     0.88235,     0.88235,     0.88235,\n",
      "            0.88235,     0.88235,     0.88235,     0.88235,     0.88235,     0.88235,     0.88235,     0.88235,     0.88235,     0.88235,     0.88235,     0.88235,     0.88235,     0.88235,     0.88235,     0.88235,     0.88235,     0.88235,     0.88235,     0.88235,     0.88235,     0.88235,     0.88235,\n",
      "            0.88235,     0.88235,     0.88235,     0.88235,     0.88235,     0.88235,     0.88235,     0.88235,     0.88235,     0.88235,     0.88235,     0.88235,     0.88235,     0.88235,     0.88235,     0.88235,     0.88235,     0.88235,     0.88235,     0.88235,     0.88235,     0.88235,     0.88235,\n",
      "            0.88235,     0.88235,     0.88235,     0.88235,     0.88235,     0.88235,     0.88235,     0.88235,     0.88235,     0.88235,     0.88235,     0.88235,     0.88235,     0.88235,     0.88235,     0.88235,     0.88235,     0.87838,     0.87838,     0.87838,     0.87838,     0.87838,     0.87838,\n",
      "            0.87838,     0.87838,     0.87838,     0.87838,     0.87838,     0.87838,     0.87838,     0.87838,     0.87838,     0.87838,     0.87838,     0.87838,     0.87838,     0.87838,     0.87838,     0.87838,     0.87838,     0.87838,     0.87838,     0.87838,     0.87179,     0.87179,     0.87179,\n",
      "            0.87179,     0.87179,     0.87179,     0.87179,     0.87179,     0.87179,     0.87179,     0.87179,     0.87179,     0.87179,     0.87179,     0.87179,     0.87179,     0.87059,     0.87059,     0.87059,     0.87059,     0.87059,     0.87059,     0.87059,     0.87059,     0.87059,     0.87059,\n",
      "            0.87059,     0.87059,     0.87059,     0.87059,     0.87059,     0.87059,     0.87059,     0.87059,     0.87059,     0.87059,     0.87059,     0.87059,     0.87059,     0.87059,     0.87059,     0.87059,     0.87059,     0.87059,     0.87059,     0.87059,     0.87059,     0.87059,     0.86957,\n",
      "            0.86957,     0.86957,     0.86957,     0.86957,     0.86957,     0.86957,     0.86957,     0.86957,     0.86957,     0.86957,     0.86957,     0.86957,     0.86957,     0.86957,     0.86957,     0.86957,     0.86957,     0.86957,     0.86957,     0.86957,     0.86957,     0.86957,     0.86957,\n",
      "            0.86957,     0.86957,     0.86957,     0.86957,     0.86957,     0.86957,     0.86957,     0.85567,     0.85567,     0.85567,     0.85567,     0.85567,     0.85567,     0.85567,     0.85567,     0.85567,     0.85567,     0.85567,     0.85567,     0.85567,     0.85567,     0.85567,     0.85567,\n",
      "            0.84848,     0.84848,     0.84848,     0.84848,     0.84848,     0.83333,     0.83333,     0.83333,     0.83333,     0.83333,     0.82075,     0.82075,     0.82075,     0.82075,     0.82075,     0.82075,     0.82075,     0.82075,     0.82075,     0.82075,     0.82075,     0.78761,     0.78761,\n",
      "            0.78761,     0.78761,     0.78761,     0.78761,     0.78761,     0.78761,     0.78761,     0.78761,     0.76033,     0.76033,     0.76033,     0.76033,     0.76033,     0.76033,     0.76033,     0.76033,     0.76033,     0.76033,     0.76033,     0.76033,     0.76033,     0.76033,     0.76033,\n",
      "            0.76033,      0.7561,      0.7561,      0.7561,      0.7561,      0.7561,       0.752,       0.752,       0.752,       0.752,       0.752,       0.752,     0.72519,     0.72519,     0.72519,     0.72519,     0.72519,     0.69286,     0.69286,     0.69286,     0.69286,     0.69286,     0.69286,\n",
      "            0.69286,     0.69286,     0.69286,     0.69286,     0.69286,     0.69014,     0.69014,     0.69014,     0.69014,     0.69014,     0.65789,     0.65789,     0.65789,     0.65789,     0.65789,     0.65789,     0.65789,     0.65789,     0.65789,     0.65789,     0.65217,     0.65217,     0.65217,\n",
      "            0.65217,     0.65217,     0.65217,     0.65217,     0.65217,     0.65217,     0.65217,     0.65217,     0.65217,     0.65217,     0.65217,     0.65217,     0.65217,     0.65217,     0.65217,     0.65217,     0.65217,     0.65217,     0.65217,     0.65217,     0.65217,     0.65217,     0.65217,\n",
      "            0.65217,     0.63636,     0.63636,     0.63636,     0.63636,     0.63636,     0.63636,     0.63636,     0.63636,     0.63636,     0.63636,     0.63636,     0.63636,     0.63636,     0.63636,     0.63636,     0.63636,     0.63636,     0.63636,     0.63636,     0.63636,     0.63636,     0.63636,\n",
      "            0.63636,     0.63636,     0.63636,     0.63636,     0.63636,     0.63636,     0.63636,     0.63636,     0.63636,     0.63636,     0.63636,     0.63636,     0.63636,     0.63636,     0.61413,     0.61413,     0.61413,     0.61413,     0.61413,     0.61413,     0.58673,     0.58673,     0.58673,\n",
      "            0.58673,     0.58673,     0.58673,     0.58673,     0.58673,     0.58673,     0.58673,      0.5545,      0.5545,      0.5545,      0.5545,      0.5545,      0.5545,      0.5545,      0.5545,      0.5545,      0.5545,      0.5545,     0.55399,     0.55399,     0.55399,     0.55399,     0.55399,\n",
      "            0.55093,     0.55093,     0.55093,     0.55093,     0.55093,     0.53812,     0.53812,     0.53812,     0.53812,     0.53812,      0.5354,      0.5354,      0.5354,      0.5354,      0.5354,      0.5354,     0.53247,     0.53247,     0.53247,     0.53247,     0.53247,     0.53247,     0.53247,\n",
      "            0.53247,     0.53247,     0.53247,     0.52321,     0.52321,     0.52321,     0.52321,     0.52321,     0.50198,     0.50198,     0.50198,     0.50198,     0.50198,     0.50198,     0.50198,     0.50198,     0.50198,     0.50198,     0.50198,     0.50198,     0.50198,     0.50198,     0.50198,\n",
      "            0.50198,         0.5,         0.5,         0.5,         0.5,         0.5,         0.5,     0.49807,     0.49807,     0.49807,     0.49807,     0.49807,     0.47101,     0.47101,     0.47101,     0.47101,     0.47101,     0.44295,     0.44295,     0.44295,     0.44295,     0.44295,     0.44295,\n",
      "            0.44295,     0.44295,     0.44295,     0.44295,     0.44295,     0.42492,     0.42492,     0.42492,     0.42492,     0.42492,     0.41875,     0.41875,     0.41875,     0.41875,     0.41875,     0.41538,     0.41538,     0.41538,     0.41538,     0.41538,     0.41463,     0.41463,     0.41463,\n",
      "            0.41463,     0.41463,     0.41463,     0.41265,     0.41265,     0.41265,     0.41265,     0.41265,     0.40469,     0.40469,     0.40469,     0.40469,     0.40469,     0.38082,     0.38082,     0.38082,     0.38082,     0.38082,     0.36939,     0.36939,     0.36939,     0.36939,     0.36939,\n",
      "            0.36939,     0.36154,     0.36154,     0.36154,     0.36154,     0.36154,     0.35678,     0.35678,     0.35678,     0.35678,     0.35678,     0.35181,     0.35181,     0.35181,     0.35181,     0.35181,     0.35181,     0.35181,     0.35181,     0.35181,     0.35181,     0.35181,     0.35181,\n",
      "            0.35181,     0.35181,     0.35181,     0.35181,     0.35181,     0.35181,     0.35181,     0.35181,     0.35181,     0.34169,     0.34169,     0.34169,     0.34169,     0.34169,     0.34169,     0.34169,     0.34169,     0.34169,     0.34169,     0.34169,     0.34169,     0.34169,     0.34169,\n",
      "            0.34169,     0.34169,     0.34169,     0.34169,     0.34169,     0.34169,     0.34169,     0.33933,     0.33933,     0.33933,     0.33933,     0.33933,     0.33551,     0.33551,     0.33551,     0.33551,     0.33551,     0.33551,     0.33551,     0.33551,     0.33551,     0.33551,     0.33551,\n",
      "            0.33551,     0.33551,     0.33551,     0.33551,     0.33551,     0.32359,     0.32359,     0.32359,     0.32359,     0.32359,     0.31837,     0.31837,     0.31837,     0.31837,     0.31837,     0.31837,     0.31337,     0.31337,     0.31337,     0.31337,     0.31337,     0.31299,     0.31299,\n",
      "            0.31299,     0.31299,     0.31299,     0.31299,     0.31299,     0.31299,     0.31299,     0.31299,     0.31299,     0.29963,     0.29963,     0.29963,     0.29963,     0.29963,     0.29433,     0.29433,     0.29433,     0.29433,     0.29433,     0.26003,     0.26003,     0.26003,     0.26003,\n",
      "            0.26003,     0.25589,     0.25589,     0.25589,     0.25589,     0.25589,     0.25589,     0.24225,     0.24225,     0.24225,     0.24225,     0.24225,     0.23913,     0.23913,     0.23913,     0.23913,     0.23913,     0.23891,     0.23891,     0.23891,     0.23891,     0.23891,     0.23891,\n",
      "            0.23891,     0.23891,     0.23891,     0.23891,     0.23891,     0.23729,     0.23729,     0.23729,     0.23729,     0.23729,     0.21879,     0.21879,     0.21879,     0.21879,     0.21879,     0.21879,     0.21879,     0.21879,     0.21879,     0.21879,     0.21811,     0.21811,     0.21811,\n",
      "            0.21811,     0.21811,     0.21811,     0.21001,     0.21001,     0.21001,     0.21001,     0.21001,     0.20665,     0.20665,     0.20665,     0.20665,     0.20665,     0.20665,     0.20665,     0.20665,     0.20665,     0.20665,     0.19084,     0.19084,     0.19084,     0.19084,     0.19084,\n",
      "            0.19084,     0.15771,     0.15771,     0.15771,     0.15771,     0.15771,     0.14137,     0.14137,     0.14137,     0.14137,     0.14137,     0.14049,     0.14049,     0.14049,     0.14049,     0.14049,     0.10554,     0.10554,     0.10554,     0.10554,     0.10554,     0.10554,    0.079646,\n",
      "           0.079646,    0.079646,    0.079646,    0.079646,    0.077549,    0.077549,    0.077549,    0.077549,    0.077549,    0.057851,    0.057851,    0.057851,    0.057851,    0.057851,    0.057188,    0.057188,    0.057188,    0.057188,    0.057188,    0.057188,    0.053026,    0.053026,    0.053026,\n",
      "           0.053026,    0.053026,     0.04027,     0.04027,     0.04027,     0.04027,     0.04027,    0.024395,    0.023457,    0.022519,     0.02158,    0.020642,    0.019704,    0.018765,    0.017827,    0.016889,    0.015951,    0.015012,    0.014074,    0.013136,    0.012198,    0.011259,    0.010321,\n",
      "          0.0093827,   0.0084444,   0.0075062,   0.0065679,   0.0056296,   0.0046914,   0.0037531,   0.0028148,   0.0018765,  0.00093827,           0]]), 'Recall', 'Precision'], [array([          0,    0.001001,    0.002002,    0.003003,    0.004004,    0.005005,    0.006006,    0.007007,    0.008008,    0.009009,     0.01001,    0.011011,    0.012012,    0.013013,    0.014014,    0.015015,    0.016016,    0.017017,    0.018018,    0.019019,     0.02002,    0.021021,    0.022022,    0.023023,\n",
      "          0.024024,    0.025025,    0.026026,    0.027027,    0.028028,    0.029029,     0.03003,    0.031031,    0.032032,    0.033033,    0.034034,    0.035035,    0.036036,    0.037037,    0.038038,    0.039039,     0.04004,    0.041041,    0.042042,    0.043043,    0.044044,    0.045045,    0.046046,    0.047047,\n",
      "          0.048048,    0.049049,     0.05005,    0.051051,    0.052052,    0.053053,    0.054054,    0.055055,    0.056056,    0.057057,    0.058058,    0.059059,     0.06006,    0.061061,    0.062062,    0.063063,    0.064064,    0.065065,    0.066066,    0.067067,    0.068068,    0.069069,     0.07007,    0.071071,\n",
      "          0.072072,    0.073073,    0.074074,    0.075075,    0.076076,    0.077077,    0.078078,    0.079079,     0.08008,    0.081081,    0.082082,    0.083083,    0.084084,    0.085085,    0.086086,    0.087087,    0.088088,    0.089089,     0.09009,    0.091091,    0.092092,    0.093093,    0.094094,    0.095095,\n",
      "          0.096096,    0.097097,    0.098098,    0.099099,      0.1001,      0.1011,      0.1021,      0.1031,      0.1041,     0.10511,     0.10611,     0.10711,     0.10811,     0.10911,     0.11011,     0.11111,     0.11211,     0.11311,     0.11411,     0.11512,     0.11612,     0.11712,     0.11812,     0.11912,\n",
      "           0.12012,     0.12112,     0.12212,     0.12312,     0.12412,     0.12513,     0.12613,     0.12713,     0.12813,     0.12913,     0.13013,     0.13113,     0.13213,     0.13313,     0.13413,     0.13514,     0.13614,     0.13714,     0.13814,     0.13914,     0.14014,     0.14114,     0.14214,     0.14314,\n",
      "           0.14414,     0.14515,     0.14615,     0.14715,     0.14815,     0.14915,     0.15015,     0.15115,     0.15215,     0.15315,     0.15415,     0.15516,     0.15616,     0.15716,     0.15816,     0.15916,     0.16016,     0.16116,     0.16216,     0.16316,     0.16416,     0.16517,     0.16617,     0.16717,\n",
      "           0.16817,     0.16917,     0.17017,     0.17117,     0.17217,     0.17317,     0.17417,     0.17518,     0.17618,     0.17718,     0.17818,     0.17918,     0.18018,     0.18118,     0.18218,     0.18318,     0.18418,     0.18519,     0.18619,     0.18719,     0.18819,     0.18919,     0.19019,     0.19119,\n",
      "           0.19219,     0.19319,     0.19419,      0.1952,      0.1962,      0.1972,      0.1982,      0.1992,      0.2002,      0.2012,      0.2022,      0.2032,      0.2042,     0.20521,     0.20621,     0.20721,     0.20821,     0.20921,     0.21021,     0.21121,     0.21221,     0.21321,     0.21421,     0.21522,\n",
      "           0.21622,     0.21722,     0.21822,     0.21922,     0.22022,     0.22122,     0.22222,     0.22322,     0.22422,     0.22523,     0.22623,     0.22723,     0.22823,     0.22923,     0.23023,     0.23123,     0.23223,     0.23323,     0.23423,     0.23524,     0.23624,     0.23724,     0.23824,     0.23924,\n",
      "           0.24024,     0.24124,     0.24224,     0.24324,     0.24424,     0.24525,     0.24625,     0.24725,     0.24825,     0.24925,     0.25025,     0.25125,     0.25225,     0.25325,     0.25425,     0.25526,     0.25626,     0.25726,     0.25826,     0.25926,     0.26026,     0.26126,     0.26226,     0.26326,\n",
      "           0.26426,     0.26527,     0.26627,     0.26727,     0.26827,     0.26927,     0.27027,     0.27127,     0.27227,     0.27327,     0.27427,     0.27528,     0.27628,     0.27728,     0.27828,     0.27928,     0.28028,     0.28128,     0.28228,     0.28328,     0.28428,     0.28529,     0.28629,     0.28729,\n",
      "           0.28829,     0.28929,     0.29029,     0.29129,     0.29229,     0.29329,     0.29429,      0.2953,      0.2963,      0.2973,      0.2983,      0.2993,      0.3003,      0.3013,      0.3023,      0.3033,      0.3043,     0.30531,     0.30631,     0.30731,     0.30831,     0.30931,     0.31031,     0.31131,\n",
      "           0.31231,     0.31331,     0.31431,     0.31532,     0.31632,     0.31732,     0.31832,     0.31932,     0.32032,     0.32132,     0.32232,     0.32332,     0.32432,     0.32533,     0.32633,     0.32733,     0.32833,     0.32933,     0.33033,     0.33133,     0.33233,     0.33333,     0.33433,     0.33534,\n",
      "           0.33634,     0.33734,     0.33834,     0.33934,     0.34034,     0.34134,     0.34234,     0.34334,     0.34434,     0.34535,     0.34635,     0.34735,     0.34835,     0.34935,     0.35035,     0.35135,     0.35235,     0.35335,     0.35435,     0.35536,     0.35636,     0.35736,     0.35836,     0.35936,\n",
      "           0.36036,     0.36136,     0.36236,     0.36336,     0.36436,     0.36537,     0.36637,     0.36737,     0.36837,     0.36937,     0.37037,     0.37137,     0.37237,     0.37337,     0.37437,     0.37538,     0.37638,     0.37738,     0.37838,     0.37938,     0.38038,     0.38138,     0.38238,     0.38338,\n",
      "           0.38438,     0.38539,     0.38639,     0.38739,     0.38839,     0.38939,     0.39039,     0.39139,     0.39239,     0.39339,     0.39439,      0.3954,      0.3964,      0.3974,      0.3984,      0.3994,      0.4004,      0.4014,      0.4024,      0.4034,      0.4044,     0.40541,     0.40641,     0.40741,\n",
      "           0.40841,     0.40941,     0.41041,     0.41141,     0.41241,     0.41341,     0.41441,     0.41542,     0.41642,     0.41742,     0.41842,     0.41942,     0.42042,     0.42142,     0.42242,     0.42342,     0.42442,     0.42543,     0.42643,     0.42743,     0.42843,     0.42943,     0.43043,     0.43143,\n",
      "           0.43243,     0.43343,     0.43443,     0.43544,     0.43644,     0.43744,     0.43844,     0.43944,     0.44044,     0.44144,     0.44244,     0.44344,     0.44444,     0.44545,     0.44645,     0.44745,     0.44845,     0.44945,     0.45045,     0.45145,     0.45245,     0.45345,     0.45445,     0.45546,\n",
      "           0.45646,     0.45746,     0.45846,     0.45946,     0.46046,     0.46146,     0.46246,     0.46346,     0.46446,     0.46547,     0.46647,     0.46747,     0.46847,     0.46947,     0.47047,     0.47147,     0.47247,     0.47347,     0.47447,     0.47548,     0.47648,     0.47748,     0.47848,     0.47948,\n",
      "           0.48048,     0.48148,     0.48248,     0.48348,     0.48448,     0.48549,     0.48649,     0.48749,     0.48849,     0.48949,     0.49049,     0.49149,     0.49249,     0.49349,     0.49449,      0.4955,      0.4965,      0.4975,      0.4985,      0.4995,      0.5005,      0.5015,      0.5025,      0.5035,\n",
      "            0.5045,     0.50551,     0.50651,     0.50751,     0.50851,     0.50951,     0.51051,     0.51151,     0.51251,     0.51351,     0.51451,     0.51552,     0.51652,     0.51752,     0.51852,     0.51952,     0.52052,     0.52152,     0.52252,     0.52352,     0.52452,     0.52553,     0.52653,     0.52753,\n",
      "           0.52853,     0.52953,     0.53053,     0.53153,     0.53253,     0.53353,     0.53453,     0.53554,     0.53654,     0.53754,     0.53854,     0.53954,     0.54054,     0.54154,     0.54254,     0.54354,     0.54454,     0.54555,     0.54655,     0.54755,     0.54855,     0.54955,     0.55055,     0.55155,\n",
      "           0.55255,     0.55355,     0.55455,     0.55556,     0.55656,     0.55756,     0.55856,     0.55956,     0.56056,     0.56156,     0.56256,     0.56356,     0.56456,     0.56557,     0.56657,     0.56757,     0.56857,     0.56957,     0.57057,     0.57157,     0.57257,     0.57357,     0.57457,     0.57558,\n",
      "           0.57658,     0.57758,     0.57858,     0.57958,     0.58058,     0.58158,     0.58258,     0.58358,     0.58458,     0.58559,     0.58659,     0.58759,     0.58859,     0.58959,     0.59059,     0.59159,     0.59259,     0.59359,     0.59459,      0.5956,      0.5966,      0.5976,      0.5986,      0.5996,\n",
      "            0.6006,      0.6016,      0.6026,      0.6036,      0.6046,     0.60561,     0.60661,     0.60761,     0.60861,     0.60961,     0.61061,     0.61161,     0.61261,     0.61361,     0.61461,     0.61562,     0.61662,     0.61762,     0.61862,     0.61962,     0.62062,     0.62162,     0.62262,     0.62362,\n",
      "           0.62462,     0.62563,     0.62663,     0.62763,     0.62863,     0.62963,     0.63063,     0.63163,     0.63263,     0.63363,     0.63463,     0.63564,     0.63664,     0.63764,     0.63864,     0.63964,     0.64064,     0.64164,     0.64264,     0.64364,     0.64464,     0.64565,     0.64665,     0.64765,\n",
      "           0.64865,     0.64965,     0.65065,     0.65165,     0.65265,     0.65365,     0.65465,     0.65566,     0.65666,     0.65766,     0.65866,     0.65966,     0.66066,     0.66166,     0.66266,     0.66366,     0.66466,     0.66567,     0.66667,     0.66767,     0.66867,     0.66967,     0.67067,     0.67167,\n",
      "           0.67267,     0.67367,     0.67467,     0.67568,     0.67668,     0.67768,     0.67868,     0.67968,     0.68068,     0.68168,     0.68268,     0.68368,     0.68468,     0.68569,     0.68669,     0.68769,     0.68869,     0.68969,     0.69069,     0.69169,     0.69269,     0.69369,     0.69469,      0.6957,\n",
      "            0.6967,      0.6977,      0.6987,      0.6997,      0.7007,      0.7017,      0.7027,      0.7037,      0.7047,     0.70571,     0.70671,     0.70771,     0.70871,     0.70971,     0.71071,     0.71171,     0.71271,     0.71371,     0.71471,     0.71572,     0.71672,     0.71772,     0.71872,     0.71972,\n",
      "           0.72072,     0.72172,     0.72272,     0.72372,     0.72472,     0.72573,     0.72673,     0.72773,     0.72873,     0.72973,     0.73073,     0.73173,     0.73273,     0.73373,     0.73473,     0.73574,     0.73674,     0.73774,     0.73874,     0.73974,     0.74074,     0.74174,     0.74274,     0.74374,\n",
      "           0.74474,     0.74575,     0.74675,     0.74775,     0.74875,     0.74975,     0.75075,     0.75175,     0.75275,     0.75375,     0.75475,     0.75576,     0.75676,     0.75776,     0.75876,     0.75976,     0.76076,     0.76176,     0.76276,     0.76376,     0.76476,     0.76577,     0.76677,     0.76777,\n",
      "           0.76877,     0.76977,     0.77077,     0.77177,     0.77277,     0.77377,     0.77477,     0.77578,     0.77678,     0.77778,     0.77878,     0.77978,     0.78078,     0.78178,     0.78278,     0.78378,     0.78478,     0.78579,     0.78679,     0.78779,     0.78879,     0.78979,     0.79079,     0.79179,\n",
      "           0.79279,     0.79379,     0.79479,      0.7958,      0.7968,      0.7978,      0.7988,      0.7998,      0.8008,      0.8018,      0.8028,      0.8038,      0.8048,     0.80581,     0.80681,     0.80781,     0.80881,     0.80981,     0.81081,     0.81181,     0.81281,     0.81381,     0.81481,     0.81582,\n",
      "           0.81682,     0.81782,     0.81882,     0.81982,     0.82082,     0.82182,     0.82282,     0.82382,     0.82482,     0.82583,     0.82683,     0.82783,     0.82883,     0.82983,     0.83083,     0.83183,     0.83283,     0.83383,     0.83483,     0.83584,     0.83684,     0.83784,     0.83884,     0.83984,\n",
      "           0.84084,     0.84184,     0.84284,     0.84384,     0.84484,     0.84585,     0.84685,     0.84785,     0.84885,     0.84985,     0.85085,     0.85185,     0.85285,     0.85385,     0.85485,     0.85586,     0.85686,     0.85786,     0.85886,     0.85986,     0.86086,     0.86186,     0.86286,     0.86386,\n",
      "           0.86486,     0.86587,     0.86687,     0.86787,     0.86887,     0.86987,     0.87087,     0.87187,     0.87287,     0.87387,     0.87487,     0.87588,     0.87688,     0.87788,     0.87888,     0.87988,     0.88088,     0.88188,     0.88288,     0.88388,     0.88488,     0.88589,     0.88689,     0.88789,\n",
      "           0.88889,     0.88989,     0.89089,     0.89189,     0.89289,     0.89389,     0.89489,      0.8959,      0.8969,      0.8979,      0.8989,      0.8999,      0.9009,      0.9019,      0.9029,      0.9039,      0.9049,     0.90591,     0.90691,     0.90791,     0.90891,     0.90991,     0.91091,     0.91191,\n",
      "           0.91291,     0.91391,     0.91491,     0.91592,     0.91692,     0.91792,     0.91892,     0.91992,     0.92092,     0.92192,     0.92292,     0.92392,     0.92492,     0.92593,     0.92693,     0.92793,     0.92893,     0.92993,     0.93093,     0.93193,     0.93293,     0.93393,     0.93493,     0.93594,\n",
      "           0.93694,     0.93794,     0.93894,     0.93994,     0.94094,     0.94194,     0.94294,     0.94394,     0.94494,     0.94595,     0.94695,     0.94795,     0.94895,     0.94995,     0.95095,     0.95195,     0.95295,     0.95395,     0.95495,     0.95596,     0.95696,     0.95796,     0.95896,     0.95996,\n",
      "           0.96096,     0.96196,     0.96296,     0.96396,     0.96496,     0.96597,     0.96697,     0.96797,     0.96897,     0.96997,     0.97097,     0.97197,     0.97297,     0.97397,     0.97497,     0.97598,     0.97698,     0.97798,     0.97898,     0.97998,     0.98098,     0.98198,     0.98298,     0.98398,\n",
      "           0.98498,     0.98599,     0.98699,     0.98799,     0.98899,     0.98999,     0.99099,     0.99199,     0.99299,     0.99399,     0.99499,       0.996,       0.997,       0.998,       0.999,           1]), array([[   0.048114,    0.048114,    0.048114,     0.04936,    0.054912,    0.065443,    0.078145,    0.090915,     0.10386,     0.11607,     0.12763,     0.13815,     0.14674,     0.15747,     0.16727,     0.17493,     0.18217,     0.18943,     0.19722,     0.20327,     0.20986,     0.21484,     0.22096,\n",
      "            0.22745,     0.23202,     0.23853,     0.24419,     0.24693,     0.25291,     0.25727,     0.26144,     0.26883,     0.27354,      0.2798,     0.28578,     0.28981,      0.2941,     0.29902,     0.30681,     0.31221,     0.31735,     0.32261,     0.32715,     0.33048,     0.33577,     0.33624,\n",
      "            0.34035,     0.34393,     0.34665,     0.35032,     0.34994,     0.35264,     0.35748,     0.36037,     0.36312,     0.36777,     0.37062,     0.37367,     0.37481,     0.37325,     0.37683,     0.37912,     0.38297,     0.38545,     0.38834,     0.39046,      0.3925,      0.3975,     0.39897,\n",
      "            0.40254,     0.40582,     0.41076,     0.41259,     0.41522,     0.41938,     0.42084,     0.42332,     0.42594,     0.42731,     0.42878,     0.43132,     0.43615,     0.43695,     0.43905,     0.44105,     0.44158,     0.44511,     0.44905,     0.45429,     0.45351,     0.45395,     0.45469,\n",
      "            0.45724,     0.45824,      0.4618,      0.4612,     0.46434,     0.46715,     0.47331,     0.47062,     0.47044,     0.47332,     0.47357,     0.47518,      0.4739,     0.46967,     0.47283,     0.47699,     0.47887,     0.48244,     0.47849,     0.47527,     0.47667,     0.47555,     0.47737,\n",
      "            0.47904,     0.48086,     0.48237,     0.48124,     0.48268,     0.48409,     0.48541,     0.48485,     0.48637,      0.4875,     0.48884,        0.49,     0.49185,     0.49025,     0.49224,     0.49279,      0.4944,     0.49568,     0.49736,     0.49773,      0.4981,     0.49964,      0.5005,\n",
      "            0.49863,     0.50279,     0.50321,     0.50362,     0.50771,     0.50899,     0.51012,     0.51042,     0.51068,     0.51094,      0.5119,     0.51321,     0.51631,      0.5171,     0.51757,     0.51913,     0.51772,     0.51846,     0.52005,     0.52151,     0.52321,     0.52381,     0.52302,\n",
      "            0.52439,     0.52469,      0.5271,     0.52793,     0.52852,     0.52613,     0.52736,     0.52937,     0.53172,     0.53311,     0.53454,     0.53697,     0.53811,     0.53932,     0.53976,     0.53812,     0.53751,      0.5377,     0.54084,      0.5416,     0.54323,     0.54383,     0.54549,\n",
      "            0.54683,     0.54896,      0.5502,     0.55588,     0.55706,      0.5577,     0.55542,     0.55914,     0.55987,     0.56016,     0.56045,     0.56074,     0.56121,     0.56184,       0.564,     0.56734,     0.56941,     0.57231,     0.57377,      0.5744,       0.572,     0.57321,     0.57387,\n",
      "            0.57142,     0.57316,     0.56786,      0.5657,     0.56388,     0.56557,     0.56905,      0.5715,       0.572,      0.5725,     0.57357,     0.57659,     0.57866,     0.58007,     0.57832,     0.57791,     0.57878,     0.58084,     0.58214,     0.58423,     0.58017,     0.57893,      0.5806,\n",
      "             0.5792,     0.58119,     0.58222,     0.58318,       0.585,     0.58294,     0.58349,     0.58404,     0.58502,     0.58402,     0.58302,     0.58219,     0.58277,     0.57726,     0.57815,     0.57866,     0.57918,     0.58061,     0.58234,     0.58258,     0.58282,     0.58306,      0.5833,\n",
      "            0.58354,     0.58379,     0.58419,     0.58458,     0.58498,      0.5871,     0.58974,     0.59166,     0.59267,     0.59461,     0.59305,     0.59048,     0.59008,     0.59069,      0.5913,     0.59184,     0.59229,     0.59274,     0.59327,     0.59532,     0.59692,     0.59916,     0.59989,\n",
      "            0.60035,      0.6008,     0.60122,      0.6016,     0.60198,     0.60236,     0.60283,      0.6037,     0.60368,     0.60188,     0.60128,     0.60239,     0.60272,     0.60306,      0.6034,     0.60373,     0.60607,     0.60737,     0.60799,      0.6086,      0.6091,     0.60957,     0.61004,\n",
      "            0.60751,     0.60569,     0.60487,     0.60406,     0.60324,     0.60243,     0.60076,     0.59879,     0.59501,     0.59258,      0.5891,     0.58834,     0.58849,     0.58864,     0.58879,     0.58894,     0.58909,     0.58923,     0.58938,     0.58953,     0.58968,     0.58983,     0.59348,\n",
      "            0.59406,     0.59464,     0.59513,     0.59555,     0.59596,     0.59637,     0.59712,     0.59825,     0.59497,     0.59151,     0.58963,     0.58864,     0.58764,     0.58665,     0.58538,     0.58388,     0.58238,     0.58266,     0.58329,     0.58403,      0.5853,     0.58261,      0.5843,\n",
      "            0.58285,      0.5814,     0.58037,      0.5798,     0.57923,     0.57866,     0.57809,     0.57752,     0.57695,      0.5781,     0.58344,     0.58363,     0.58382,     0.58401,     0.58419,     0.58438,     0.58457,     0.58476,     0.58494,     0.58548,     0.58684,     0.58735,     0.58785,\n",
      "            0.58836,     0.58899,     0.58972,     0.59028,     0.58966,     0.58904,     0.58843,     0.58781,     0.58719,     0.58657,     0.58625,     0.58685,     0.58745,     0.58731,     0.58537,     0.58332,     0.58015,     0.58108,     0.58166,     0.58223,     0.58281,     0.58406,     0.58487,\n",
      "            0.58532,     0.58578,     0.58623,     0.59012,     0.59069,     0.59125,     0.59182,     0.58826,     0.58815,     0.58893,     0.58993,     0.59116,     0.59268,     0.59565,      0.5967,     0.59361,     0.59294,     0.59127,     0.58978,     0.59028,     0.59077,     0.59126,     0.58688,\n",
      "            0.58534,     0.58379,     0.58208,     0.57959,     0.57835,     0.57962,     0.58199,     0.58282,     0.58362,     0.58377,     0.58392,     0.58407,     0.58422,     0.58437,     0.58452,     0.58467,     0.58482,     0.58497,     0.58512,     0.58527,     0.58542,     0.58579,     0.58668,\n",
      "             0.5873,     0.58607,     0.58484,     0.58361,     0.58254,     0.58179,     0.58105,      0.5803,     0.57955,      0.5788,     0.57819,     0.58075,     0.58202,     0.58335,     0.58449,      0.5855,     0.58601,     0.58625,     0.58649,     0.58673,     0.58697,     0.58721,     0.58744,\n",
      "            0.58768,     0.58559,     0.58118,     0.57827,     0.57947,     0.58081,     0.58162,     0.57775,     0.57946,     0.58107,     0.58048,     0.57989,      0.5793,     0.57871,     0.57813,     0.57754,     0.57695,     0.57641,     0.57684,     0.57726,     0.57768,     0.57811,     0.57732,\n",
      "            0.57376,     0.57274,     0.57198,     0.57122,     0.57046,      0.5697,     0.56894,     0.56762,     0.56515,     0.56365,     0.56456,     0.56556,     0.56729,     0.56642,     0.56542,     0.56441,      0.5634,     0.56239,     0.56177,     0.56119,     0.56061,     0.56003,     0.55945,\n",
      "            0.55888,      0.5583,     0.55772,     0.55712,     0.55505,     0.55298,     0.55054,     0.54774,     0.54507,     0.54247,     0.53636,     0.53657,     0.53679,       0.537,     0.53721,     0.53743,     0.53764,     0.53785,     0.53806,      0.5357,     0.52731,     0.52672,     0.52613,\n",
      "            0.52554,     0.52494,     0.52435,     0.52376,     0.52317,     0.52257,     0.51579,      0.5104,     0.50874,     0.50707,     0.50591,       0.506,     0.50306,     0.50147,     0.50078,     0.50009,      0.4994,     0.49872,     0.49803,     0.49734,     0.49665,     0.49528,     0.49291,\n",
      "            0.49057,     0.49103,     0.49149,     0.49195,     0.49241,     0.49068,     0.48887,     0.48705,     0.48539,     0.48378,     0.48216,     0.47996,     0.47588,     0.47452,     0.47381,     0.47309,     0.47238,     0.47167,     0.47095,     0.47024,     0.46952,      0.4688,     0.46808,\n",
      "            0.46736,     0.46664,     0.46591,     0.46519,     0.46446,     0.46374,     0.46372,     0.46465,     0.46403,     0.46187,      0.4597,     0.45174,     0.44889,     0.44065,     0.43478,      0.4307,     0.42827,     0.42764,     0.42701,     0.42637,     0.42574,     0.42511,     0.42447,\n",
      "            0.42384,     0.42321,     0.42257,     0.42129,     0.41956,     0.41783,     0.41609,      0.4132,     0.41023,     0.40726,     0.40428,     0.40156,     0.39898,     0.39678,     0.39695,     0.39711,     0.39727,     0.39744,      0.3976,     0.39776,     0.39792,     0.39808,     0.39824,\n",
      "             0.3982,     0.39715,     0.39609,     0.39503,     0.39397,      0.3929,     0.39184,     0.38997,     0.38809,     0.38621,     0.38373,     0.38063,     0.37873,     0.37909,     0.37945,      0.3798,     0.38016,     0.37976,     0.37934,     0.37892,      0.3785,     0.37808,     0.37765,\n",
      "            0.37723,     0.37681,     0.37639,     0.37597,     0.37555,     0.37513,      0.3747,     0.37428,     0.37386,     0.37342,     0.37227,     0.37111,     0.36996,      0.3688,     0.36764,     0.35895,     0.35264,     0.35211,     0.35157,     0.35103,      0.3505,     0.34996,     0.34942,\n",
      "            0.34888,     0.34835,     0.34781,     0.34727,     0.34673,     0.34619,     0.34563,     0.34506,     0.34448,     0.34391,     0.34334,     0.34276,     0.34219,     0.34162,     0.34104,     0.34047,     0.33989,     0.33932,     0.33919,     0.33968,     0.34017,     0.33958,     0.33773,\n",
      "            0.33587,     0.33401,     0.32396,     0.31822,      0.3162,     0.31418,     0.31215,     0.30834,     0.30381,     0.29721,     0.29571,     0.29442,     0.29313,     0.29184,     0.29055,     0.28909,     0.28682,     0.28455,     0.28227,     0.27569,     0.27327,     0.27196,     0.27065,\n",
      "            0.26933,     0.26802,      0.2667,     0.26477,     0.26281,     0.26086,     0.25887,     0.25488,     0.24993,     0.24178,     0.23957,     0.23736,     0.23491,     0.22918,     0.22667,     0.22578,     0.22488,     0.22398,     0.22308,     0.22218,     0.22128,     0.22038,     0.21947,\n",
      "            0.21564,     0.21108,     0.21169,     0.21165,     0.21098,     0.21031,     0.20964,     0.20897,      0.2083,     0.20763,     0.20696,     0.20629,     0.20561,     0.20494,     0.20427,     0.20329,      0.2007,      0.1981,      0.1955,      0.1944,      0.1934,     0.19239,     0.19139,\n",
      "            0.19038,     0.18937,     0.18836,     0.18735,     0.18579,     0.18379,     0.18179,     0.17979,     0.17844,     0.17857,      0.1787,     0.17882,     0.17894,     0.17907,     0.17919,      0.1776,     0.17433,     0.17104,     0.16702,     0.16288,     0.16107,     0.15998,     0.15889,\n",
      "            0.15779,      0.1567,      0.1556,     0.15451,     0.15341,     0.15381,     0.15086,     0.14775,     0.14483,     0.14371,      0.1426,     0.14148,     0.14036,     0.13924,     0.13812,       0.137,     0.13577,     0.13183,     0.12786,     0.12492,     0.12233,     0.11974,     0.11743,\n",
      "            0.11632,     0.11522,     0.11411,     0.11299,     0.11188,     0.11077,     0.10966,     0.10854,     0.10437,    0.099649,    0.099464,    0.089642,     0.08803,    0.086415,    0.084798,    0.083178,    0.081556,    0.080116,     0.07913,    0.078142,    0.077154,    0.076164,    0.075174,\n",
      "           0.074183,    0.073191,    0.072198,    0.071204,    0.070315,     0.06953,    0.068744,    0.067958,    0.067171,    0.066384,    0.065596,    0.064808,    0.064019,    0.063229,    0.062439,    0.061649,    0.060818,    0.059463,    0.058106,    0.056748,    0.055389,    0.054028,    0.052665,\n",
      "             0.0513,    0.047339,    0.042692,     0.04067,    0.040118,    0.039564,    0.039011,    0.038457,    0.037903,    0.037349,    0.036795,     0.03624,    0.035686,    0.035131,    0.034575,     0.03402,    0.033464,    0.032908,    0.032352,    0.031795,    0.031238,    0.030796,    0.030498,\n",
      "           0.030201,    0.029903,    0.029605,    0.029307,    0.029009,    0.028711,    0.028413,    0.028115,    0.027816,    0.027518,     0.02722,    0.026921,    0.026623,    0.026325,    0.026026,    0.025727,    0.025429,     0.02513,    0.024831,    0.024532,    0.024233,    0.023934,    0.023635,\n",
      "           0.023336,    0.023037,    0.022737,    0.022438,    0.022139,    0.021839,    0.021539,     0.02124,     0.02094,    0.020728,    0.020736,    0.020744,    0.020751,    0.020758,    0.020765,    0.020771,    0.020777,    0.020783,    0.020788,    0.020794,    0.020799,    0.020804,    0.020809,\n",
      "           0.020813,    0.020818,    0.020822,    0.020826,     0.02083,    0.018853,           0,           0,           0,           0,           0,           0,           0,           0,           0,           0,           0,           0,           0,           0,           0,           0,           0,\n",
      "                  0,           0,           0,           0,           0,           0,           0,           0,           0,           0,           0,           0,           0,           0,           0,           0,           0,           0,           0,           0,           0,           0,           0,\n",
      "                  0,           0,           0,           0,           0,           0,           0,           0,           0,           0,           0,           0,           0,           0,           0,           0,           0,           0,           0,           0,           0,           0,           0,\n",
      "                  0,           0,           0,           0,           0,           0,           0,           0,           0,           0,           0]]), 'Confidence', 'F1'], [array([          0,    0.001001,    0.002002,    0.003003,    0.004004,    0.005005,    0.006006,    0.007007,    0.008008,    0.009009,     0.01001,    0.011011,    0.012012,    0.013013,    0.014014,    0.015015,    0.016016,    0.017017,    0.018018,    0.019019,     0.02002,    0.021021,    0.022022,    0.023023,\n",
      "          0.024024,    0.025025,    0.026026,    0.027027,    0.028028,    0.029029,     0.03003,    0.031031,    0.032032,    0.033033,    0.034034,    0.035035,    0.036036,    0.037037,    0.038038,    0.039039,     0.04004,    0.041041,    0.042042,    0.043043,    0.044044,    0.045045,    0.046046,    0.047047,\n",
      "          0.048048,    0.049049,     0.05005,    0.051051,    0.052052,    0.053053,    0.054054,    0.055055,    0.056056,    0.057057,    0.058058,    0.059059,     0.06006,    0.061061,    0.062062,    0.063063,    0.064064,    0.065065,    0.066066,    0.067067,    0.068068,    0.069069,     0.07007,    0.071071,\n",
      "          0.072072,    0.073073,    0.074074,    0.075075,    0.076076,    0.077077,    0.078078,    0.079079,     0.08008,    0.081081,    0.082082,    0.083083,    0.084084,    0.085085,    0.086086,    0.087087,    0.088088,    0.089089,     0.09009,    0.091091,    0.092092,    0.093093,    0.094094,    0.095095,\n",
      "          0.096096,    0.097097,    0.098098,    0.099099,      0.1001,      0.1011,      0.1021,      0.1031,      0.1041,     0.10511,     0.10611,     0.10711,     0.10811,     0.10911,     0.11011,     0.11111,     0.11211,     0.11311,     0.11411,     0.11512,     0.11612,     0.11712,     0.11812,     0.11912,\n",
      "           0.12012,     0.12112,     0.12212,     0.12312,     0.12412,     0.12513,     0.12613,     0.12713,     0.12813,     0.12913,     0.13013,     0.13113,     0.13213,     0.13313,     0.13413,     0.13514,     0.13614,     0.13714,     0.13814,     0.13914,     0.14014,     0.14114,     0.14214,     0.14314,\n",
      "           0.14414,     0.14515,     0.14615,     0.14715,     0.14815,     0.14915,     0.15015,     0.15115,     0.15215,     0.15315,     0.15415,     0.15516,     0.15616,     0.15716,     0.15816,     0.15916,     0.16016,     0.16116,     0.16216,     0.16316,     0.16416,     0.16517,     0.16617,     0.16717,\n",
      "           0.16817,     0.16917,     0.17017,     0.17117,     0.17217,     0.17317,     0.17417,     0.17518,     0.17618,     0.17718,     0.17818,     0.17918,     0.18018,     0.18118,     0.18218,     0.18318,     0.18418,     0.18519,     0.18619,     0.18719,     0.18819,     0.18919,     0.19019,     0.19119,\n",
      "           0.19219,     0.19319,     0.19419,      0.1952,      0.1962,      0.1972,      0.1982,      0.1992,      0.2002,      0.2012,      0.2022,      0.2032,      0.2042,     0.20521,     0.20621,     0.20721,     0.20821,     0.20921,     0.21021,     0.21121,     0.21221,     0.21321,     0.21421,     0.21522,\n",
      "           0.21622,     0.21722,     0.21822,     0.21922,     0.22022,     0.22122,     0.22222,     0.22322,     0.22422,     0.22523,     0.22623,     0.22723,     0.22823,     0.22923,     0.23023,     0.23123,     0.23223,     0.23323,     0.23423,     0.23524,     0.23624,     0.23724,     0.23824,     0.23924,\n",
      "           0.24024,     0.24124,     0.24224,     0.24324,     0.24424,     0.24525,     0.24625,     0.24725,     0.24825,     0.24925,     0.25025,     0.25125,     0.25225,     0.25325,     0.25425,     0.25526,     0.25626,     0.25726,     0.25826,     0.25926,     0.26026,     0.26126,     0.26226,     0.26326,\n",
      "           0.26426,     0.26527,     0.26627,     0.26727,     0.26827,     0.26927,     0.27027,     0.27127,     0.27227,     0.27327,     0.27427,     0.27528,     0.27628,     0.27728,     0.27828,     0.27928,     0.28028,     0.28128,     0.28228,     0.28328,     0.28428,     0.28529,     0.28629,     0.28729,\n",
      "           0.28829,     0.28929,     0.29029,     0.29129,     0.29229,     0.29329,     0.29429,      0.2953,      0.2963,      0.2973,      0.2983,      0.2993,      0.3003,      0.3013,      0.3023,      0.3033,      0.3043,     0.30531,     0.30631,     0.30731,     0.30831,     0.30931,     0.31031,     0.31131,\n",
      "           0.31231,     0.31331,     0.31431,     0.31532,     0.31632,     0.31732,     0.31832,     0.31932,     0.32032,     0.32132,     0.32232,     0.32332,     0.32432,     0.32533,     0.32633,     0.32733,     0.32833,     0.32933,     0.33033,     0.33133,     0.33233,     0.33333,     0.33433,     0.33534,\n",
      "           0.33634,     0.33734,     0.33834,     0.33934,     0.34034,     0.34134,     0.34234,     0.34334,     0.34434,     0.34535,     0.34635,     0.34735,     0.34835,     0.34935,     0.35035,     0.35135,     0.35235,     0.35335,     0.35435,     0.35536,     0.35636,     0.35736,     0.35836,     0.35936,\n",
      "           0.36036,     0.36136,     0.36236,     0.36336,     0.36436,     0.36537,     0.36637,     0.36737,     0.36837,     0.36937,     0.37037,     0.37137,     0.37237,     0.37337,     0.37437,     0.37538,     0.37638,     0.37738,     0.37838,     0.37938,     0.38038,     0.38138,     0.38238,     0.38338,\n",
      "           0.38438,     0.38539,     0.38639,     0.38739,     0.38839,     0.38939,     0.39039,     0.39139,     0.39239,     0.39339,     0.39439,      0.3954,      0.3964,      0.3974,      0.3984,      0.3994,      0.4004,      0.4014,      0.4024,      0.4034,      0.4044,     0.40541,     0.40641,     0.40741,\n",
      "           0.40841,     0.40941,     0.41041,     0.41141,     0.41241,     0.41341,     0.41441,     0.41542,     0.41642,     0.41742,     0.41842,     0.41942,     0.42042,     0.42142,     0.42242,     0.42342,     0.42442,     0.42543,     0.42643,     0.42743,     0.42843,     0.42943,     0.43043,     0.43143,\n",
      "           0.43243,     0.43343,     0.43443,     0.43544,     0.43644,     0.43744,     0.43844,     0.43944,     0.44044,     0.44144,     0.44244,     0.44344,     0.44444,     0.44545,     0.44645,     0.44745,     0.44845,     0.44945,     0.45045,     0.45145,     0.45245,     0.45345,     0.45445,     0.45546,\n",
      "           0.45646,     0.45746,     0.45846,     0.45946,     0.46046,     0.46146,     0.46246,     0.46346,     0.46446,     0.46547,     0.46647,     0.46747,     0.46847,     0.46947,     0.47047,     0.47147,     0.47247,     0.47347,     0.47447,     0.47548,     0.47648,     0.47748,     0.47848,     0.47948,\n",
      "           0.48048,     0.48148,     0.48248,     0.48348,     0.48448,     0.48549,     0.48649,     0.48749,     0.48849,     0.48949,     0.49049,     0.49149,     0.49249,     0.49349,     0.49449,      0.4955,      0.4965,      0.4975,      0.4985,      0.4995,      0.5005,      0.5015,      0.5025,      0.5035,\n",
      "            0.5045,     0.50551,     0.50651,     0.50751,     0.50851,     0.50951,     0.51051,     0.51151,     0.51251,     0.51351,     0.51451,     0.51552,     0.51652,     0.51752,     0.51852,     0.51952,     0.52052,     0.52152,     0.52252,     0.52352,     0.52452,     0.52553,     0.52653,     0.52753,\n",
      "           0.52853,     0.52953,     0.53053,     0.53153,     0.53253,     0.53353,     0.53453,     0.53554,     0.53654,     0.53754,     0.53854,     0.53954,     0.54054,     0.54154,     0.54254,     0.54354,     0.54454,     0.54555,     0.54655,     0.54755,     0.54855,     0.54955,     0.55055,     0.55155,\n",
      "           0.55255,     0.55355,     0.55455,     0.55556,     0.55656,     0.55756,     0.55856,     0.55956,     0.56056,     0.56156,     0.56256,     0.56356,     0.56456,     0.56557,     0.56657,     0.56757,     0.56857,     0.56957,     0.57057,     0.57157,     0.57257,     0.57357,     0.57457,     0.57558,\n",
      "           0.57658,     0.57758,     0.57858,     0.57958,     0.58058,     0.58158,     0.58258,     0.58358,     0.58458,     0.58559,     0.58659,     0.58759,     0.58859,     0.58959,     0.59059,     0.59159,     0.59259,     0.59359,     0.59459,      0.5956,      0.5966,      0.5976,      0.5986,      0.5996,\n",
      "            0.6006,      0.6016,      0.6026,      0.6036,      0.6046,     0.60561,     0.60661,     0.60761,     0.60861,     0.60961,     0.61061,     0.61161,     0.61261,     0.61361,     0.61461,     0.61562,     0.61662,     0.61762,     0.61862,     0.61962,     0.62062,     0.62162,     0.62262,     0.62362,\n",
      "           0.62462,     0.62563,     0.62663,     0.62763,     0.62863,     0.62963,     0.63063,     0.63163,     0.63263,     0.63363,     0.63463,     0.63564,     0.63664,     0.63764,     0.63864,     0.63964,     0.64064,     0.64164,     0.64264,     0.64364,     0.64464,     0.64565,     0.64665,     0.64765,\n",
      "           0.64865,     0.64965,     0.65065,     0.65165,     0.65265,     0.65365,     0.65465,     0.65566,     0.65666,     0.65766,     0.65866,     0.65966,     0.66066,     0.66166,     0.66266,     0.66366,     0.66466,     0.66567,     0.66667,     0.66767,     0.66867,     0.66967,     0.67067,     0.67167,\n",
      "           0.67267,     0.67367,     0.67467,     0.67568,     0.67668,     0.67768,     0.67868,     0.67968,     0.68068,     0.68168,     0.68268,     0.68368,     0.68468,     0.68569,     0.68669,     0.68769,     0.68869,     0.68969,     0.69069,     0.69169,     0.69269,     0.69369,     0.69469,      0.6957,\n",
      "            0.6967,      0.6977,      0.6987,      0.6997,      0.7007,      0.7017,      0.7027,      0.7037,      0.7047,     0.70571,     0.70671,     0.70771,     0.70871,     0.70971,     0.71071,     0.71171,     0.71271,     0.71371,     0.71471,     0.71572,     0.71672,     0.71772,     0.71872,     0.71972,\n",
      "           0.72072,     0.72172,     0.72272,     0.72372,     0.72472,     0.72573,     0.72673,     0.72773,     0.72873,     0.72973,     0.73073,     0.73173,     0.73273,     0.73373,     0.73473,     0.73574,     0.73674,     0.73774,     0.73874,     0.73974,     0.74074,     0.74174,     0.74274,     0.74374,\n",
      "           0.74474,     0.74575,     0.74675,     0.74775,     0.74875,     0.74975,     0.75075,     0.75175,     0.75275,     0.75375,     0.75475,     0.75576,     0.75676,     0.75776,     0.75876,     0.75976,     0.76076,     0.76176,     0.76276,     0.76376,     0.76476,     0.76577,     0.76677,     0.76777,\n",
      "           0.76877,     0.76977,     0.77077,     0.77177,     0.77277,     0.77377,     0.77477,     0.77578,     0.77678,     0.77778,     0.77878,     0.77978,     0.78078,     0.78178,     0.78278,     0.78378,     0.78478,     0.78579,     0.78679,     0.78779,     0.78879,     0.78979,     0.79079,     0.79179,\n",
      "           0.79279,     0.79379,     0.79479,      0.7958,      0.7968,      0.7978,      0.7988,      0.7998,      0.8008,      0.8018,      0.8028,      0.8038,      0.8048,     0.80581,     0.80681,     0.80781,     0.80881,     0.80981,     0.81081,     0.81181,     0.81281,     0.81381,     0.81481,     0.81582,\n",
      "           0.81682,     0.81782,     0.81882,     0.81982,     0.82082,     0.82182,     0.82282,     0.82382,     0.82482,     0.82583,     0.82683,     0.82783,     0.82883,     0.82983,     0.83083,     0.83183,     0.83283,     0.83383,     0.83483,     0.83584,     0.83684,     0.83784,     0.83884,     0.83984,\n",
      "           0.84084,     0.84184,     0.84284,     0.84384,     0.84484,     0.84585,     0.84685,     0.84785,     0.84885,     0.84985,     0.85085,     0.85185,     0.85285,     0.85385,     0.85485,     0.85586,     0.85686,     0.85786,     0.85886,     0.85986,     0.86086,     0.86186,     0.86286,     0.86386,\n",
      "           0.86486,     0.86587,     0.86687,     0.86787,     0.86887,     0.86987,     0.87087,     0.87187,     0.87287,     0.87387,     0.87487,     0.87588,     0.87688,     0.87788,     0.87888,     0.87988,     0.88088,     0.88188,     0.88288,     0.88388,     0.88488,     0.88589,     0.88689,     0.88789,\n",
      "           0.88889,     0.88989,     0.89089,     0.89189,     0.89289,     0.89389,     0.89489,      0.8959,      0.8969,      0.8979,      0.8989,      0.8999,      0.9009,      0.9019,      0.9029,      0.9039,      0.9049,     0.90591,     0.90691,     0.90791,     0.90891,     0.90991,     0.91091,     0.91191,\n",
      "           0.91291,     0.91391,     0.91491,     0.91592,     0.91692,     0.91792,     0.91892,     0.91992,     0.92092,     0.92192,     0.92292,     0.92392,     0.92492,     0.92593,     0.92693,     0.92793,     0.92893,     0.92993,     0.93093,     0.93193,     0.93293,     0.93393,     0.93493,     0.93594,\n",
      "           0.93694,     0.93794,     0.93894,     0.93994,     0.94094,     0.94194,     0.94294,     0.94394,     0.94494,     0.94595,     0.94695,     0.94795,     0.94895,     0.94995,     0.95095,     0.95195,     0.95295,     0.95395,     0.95495,     0.95596,     0.95696,     0.95796,     0.95896,     0.95996,\n",
      "           0.96096,     0.96196,     0.96296,     0.96396,     0.96496,     0.96597,     0.96697,     0.96797,     0.96897,     0.96997,     0.97097,     0.97197,     0.97297,     0.97397,     0.97497,     0.97598,     0.97698,     0.97798,     0.97898,     0.97998,     0.98098,     0.98198,     0.98298,     0.98398,\n",
      "           0.98498,     0.98599,     0.98699,     0.98799,     0.98899,     0.98999,     0.99099,     0.99199,     0.99299,     0.99399,     0.99499,       0.996,       0.997,       0.998,       0.999,           1]), array([[   0.024667,    0.024667,    0.024667,    0.025322,    0.028253,    0.033859,    0.040715,    0.047696,    0.054889,    0.061797,    0.068396,    0.074477,    0.079569,    0.085917,     0.09178,    0.096418,     0.10083,      0.1053,     0.11021,       0.114,     0.11816,     0.12133,     0.12525,\n",
      "            0.12943,      0.1324,     0.13666,     0.14041,     0.14245,     0.14645,     0.14938,      0.1522,     0.15723,     0.16062,     0.16496,     0.16913,     0.17196,     0.17499,     0.17848,     0.18406,     0.18796,     0.19193,     0.19579,     0.19914,     0.20162,     0.20557,     0.20646,\n",
      "            0.20986,     0.21259,     0.21466,     0.21749,     0.21781,     0.22024,     0.22402,      0.2263,     0.22847,     0.23217,     0.23445,     0.23689,     0.23858,      0.2381,     0.24103,     0.24333,     0.24651,     0.24857,     0.25097,     0.25275,     0.25493,     0.25916,      0.2609,\n",
      "            0.26397,     0.26679,     0.27109,     0.27268,     0.27499,     0.27864,     0.27993,     0.28213,     0.28446,     0.28568,     0.28701,     0.28929,     0.29364,     0.29502,     0.29693,     0.29876,     0.29992,     0.30319,     0.30686,     0.31177,     0.31177,     0.31293,      0.3144,\n",
      "            0.31684,      0.3186,     0.32205,      0.3223,     0.32537,     0.32813,     0.33425,     0.33337,      0.3338,     0.33702,     0.33823,     0.33987,     0.33979,     0.33718,     0.34148,     0.34583,     0.34781,     0.35159,     0.34922,     0.34729,     0.34879,     0.34872,     0.35068,\n",
      "            0.35249,     0.35447,     0.35639,     0.35608,     0.35765,     0.35921,     0.36066,     0.36129,     0.36298,     0.36425,     0.36574,     0.36705,     0.36912,     0.36864,      0.3709,     0.37152,     0.37336,     0.37482,     0.37675,     0.37717,     0.37759,     0.37937,     0.38036,\n",
      "            0.37962,     0.38447,     0.38495,     0.38544,     0.39025,     0.39177,     0.39311,     0.39346,     0.39377,     0.39408,     0.39523,     0.39679,     0.40051,     0.40145,     0.40203,     0.40392,     0.40384,     0.40474,     0.40668,     0.40847,     0.41159,     0.41303,     0.41381,\n",
      "            0.41736,     0.41825,     0.42269,     0.42377,     0.42472,     0.42322,     0.42498,     0.42759,     0.43066,     0.43249,     0.43438,      0.4376,     0.43912,     0.44072,     0.44218,     0.44116,     0.44157,     0.44287,     0.44715,     0.44818,     0.45043,     0.45124,     0.45353,\n",
      "             0.4554,     0.45836,     0.46008,     0.46809,     0.46976,     0.47068,     0.46992,     0.47528,     0.47632,     0.47674,     0.47717,     0.47759,     0.47828,     0.47919,     0.48234,     0.48725,     0.49031,     0.49462,     0.49681,     0.49794,     0.49647,     0.49881,     0.49982,\n",
      "            0.49901,     0.50166,      0.4986,     0.49727,     0.49615,     0.49901,     0.50445,     0.50831,      0.5091,      0.5099,     0.51159,     0.51642,     0.51975,     0.52277,      0.5217,     0.52191,     0.52333,     0.52672,     0.52885,     0.53232,     0.53446,     0.53438,     0.53724,\n",
      "            0.53868,     0.54212,     0.54393,      0.5456,      0.5488,     0.54923,     0.55021,     0.55119,     0.55364,     0.55304,     0.55244,     0.55208,     0.55404,     0.55174,     0.55336,     0.55431,     0.55525,     0.55788,     0.56109,     0.56153,     0.56198,     0.56243,     0.56287,\n",
      "            0.56332,     0.56379,     0.56453,     0.56527,     0.56601,     0.56999,       0.575,     0.57865,     0.58059,     0.58601,      0.5851,     0.58361,     0.58549,      0.5867,     0.58791,     0.58897,     0.58987,     0.59076,     0.59181,      0.5959,     0.59911,     0.60366,     0.60514,\n",
      "            0.60606,     0.60698,     0.60784,     0.60862,      0.6094,     0.61018,     0.61115,     0.61293,     0.61379,     0.61278,     0.61358,     0.61588,     0.61658,     0.61729,       0.618,      0.6187,     0.62363,     0.62639,      0.6277,     0.62902,     0.63008,     0.63109,      0.6321,\n",
      "             0.6339,     0.63563,     0.63519,     0.63474,     0.63429,     0.63384,     0.63292,     0.63183,     0.63069,     0.63117,     0.62923,     0.62899,     0.62933,     0.62967,     0.63001,     0.63035,     0.63069,     0.63103,     0.63137,     0.63171,     0.63205,     0.63239,     0.64084,\n",
      "            0.64221,     0.64357,     0.64471,     0.64569,     0.64666,     0.64763,     0.64941,     0.65208,     0.65037,     0.64848,     0.64745,     0.64691,     0.64636,     0.64581,     0.64511,     0.64428,     0.64345,      0.6446,     0.64615,     0.64796,      0.6511,     0.65002,     0.65762,\n",
      "            0.65683,     0.65604,     0.65548,     0.65516,     0.65485,     0.65454,     0.65422,     0.65391,      0.6536,     0.65754,     0.67153,     0.67202,     0.67252,     0.67302,     0.67352,     0.67402,     0.67451,     0.67501,     0.67551,     0.67695,      0.6806,     0.68196,     0.68333,\n",
      "            0.68469,      0.6864,      0.6884,      0.6901,     0.68978,     0.68946,     0.68914,     0.68882,      0.6885,     0.68818,     0.68835,     0.69002,     0.69168,     0.69257,     0.69156,     0.69051,     0.68886,     0.69355,     0.69519,     0.69684,     0.69848,     0.70208,     0.70444,\n",
      "            0.70576,     0.70709,     0.70841,     0.71987,     0.72156,     0.72326,     0.72495,     0.72344,     0.72504,     0.72743,     0.73048,     0.73427,     0.73897,     0.74829,     0.75194,     0.75402,     0.75551,     0.75478,     0.75423,     0.75585,     0.75747,     0.75909,     0.75824,\n",
      "            0.75755,     0.75687,      0.7561,     0.75498,     0.75568,     0.76003,     0.76825,     0.77117,     0.77394,     0.77448,     0.77501,     0.77554,     0.77607,      0.7766,     0.77714,     0.77767,      0.7782,     0.77873,     0.77926,      0.7798,     0.78033,     0.78164,     0.78483,\n",
      "            0.78755,     0.78705,     0.78655,     0.78605,     0.78561,     0.78531,       0.785,      0.7847,     0.78439,     0.78408,     0.78422,     0.79369,     0.79846,     0.80349,     0.80783,     0.81169,     0.81368,      0.8146,     0.81552,     0.81645,     0.81737,      0.8183,     0.81922,\n",
      "            0.82015,     0.81995,     0.81837,     0.81746,      0.8223,     0.82769,     0.83314,     0.83347,     0.84062,     0.84841,     0.84822,     0.84804,     0.84785,     0.84767,     0.84748,      0.8473,     0.84711,     0.84704,     0.84888,     0.85072,     0.85255,     0.85439,     0.85534,\n",
      "            0.85427,     0.85396,     0.85372,     0.85349,     0.85326,     0.85302,     0.85279,     0.85238,     0.85161,     0.85228,     0.85648,      0.8611,     0.86914,      0.8693,     0.86901,     0.86873,     0.86845,     0.86816,     0.86799,     0.86782,     0.86766,     0.86749,     0.86733,\n",
      "            0.86716,       0.867,     0.86683,     0.86666,     0.86606,     0.86546,     0.86475,     0.86392,     0.86313,     0.86235,     0.86111,     0.86221,     0.86332,     0.86443,     0.86554,     0.86665,     0.86775,     0.86886,     0.86997,     0.86987,     0.86742,     0.86724,     0.86707,\n",
      "            0.86689,     0.86671,     0.86654,     0.86636,     0.86618,     0.86601,     0.86394,     0.86228,     0.86175,     0.86123,     0.86272,     0.87136,     0.87048,     0.87001,      0.8698,     0.86959,     0.86938,     0.86917,     0.86896,     0.86875,     0.86854,     0.86812,     0.86739,\n",
      "            0.86671,      0.8696,     0.87248,     0.87537,     0.87826,     0.87787,     0.87734,     0.87681,     0.87633,     0.87585,     0.87537,     0.87471,     0.87347,     0.87306,     0.87284,     0.87262,      0.8724,     0.87218,     0.87196,     0.87174,     0.87152,     0.87129,     0.87107,\n",
      "            0.87084,     0.87061,     0.87038,     0.87015,     0.86992,      0.8697,     0.87239,     0.87904,     0.88203,      0.8814,     0.88076,     0.87836,     0.87748,      0.8749,     0.87301,     0.87167,     0.87087,     0.87065,     0.87044,     0.87022,     0.87001,      0.8698,     0.86958,\n",
      "            0.86937,     0.86915,     0.86894,      0.8685,      0.8679,      0.8673,      0.8667,     0.86567,     0.86462,     0.86354,     0.86245,     0.86144,     0.86048,     0.85987,     0.86141,     0.86295,     0.86448,     0.86602,     0.86756,      0.8691,     0.87063,     0.87217,     0.87371,\n",
      "            0.87494,     0.87457,      0.8742,     0.87383,     0.87347,      0.8731,     0.87273,     0.87206,     0.87139,     0.87071,     0.86981,     0.86867,     0.86925,     0.87307,     0.87688,      0.8807,     0.88452,     0.88448,     0.88434,     0.88419,     0.88405,     0.88391,     0.88377,\n",
      "            0.88363,     0.88348,     0.88334,      0.8832,     0.88306,     0.88292,     0.88278,     0.88263,     0.88249,     0.88235,     0.88194,     0.88154,     0.88114,     0.88074,     0.88034,     0.87722,     0.87489,     0.87468,     0.87447,     0.87427,     0.87406,     0.87386,     0.87365,\n",
      "            0.87345,     0.87324,     0.87303,     0.87283,     0.87262,     0.87242,      0.8722,     0.87197,     0.87174,     0.87151,     0.87129,     0.87106,     0.87083,     0.87061,     0.87038,     0.87015,     0.86992,      0.8697,     0.87232,     0.87884,     0.88535,     0.88859,     0.88793,\n",
      "            0.88727,     0.88661,     0.88286,     0.88065,     0.87985,     0.87904,     0.87823,     0.87666,     0.87477,     0.87191,     0.87124,     0.87065,     0.87007,     0.86949,     0.86891,     0.86824,     0.86717,     0.86609,     0.86502,     0.86178,     0.86056,     0.85988,      0.8592,\n",
      "            0.85852,     0.85784,     0.85716,     0.85611,     0.85505,     0.85399,     0.85291,     0.85063,     0.84776,     0.84282,     0.84142,     0.84002,     0.83845,     0.83461,     0.83291,     0.83227,     0.83163,     0.83099,     0.83035,     0.82971,     0.82907,     0.82843,     0.82779,\n",
      "            0.82492,     0.82367,     0.84246,     0.85162,     0.85116,      0.8507,     0.85024,     0.84977,     0.84931,     0.84885,     0.84839,     0.84793,     0.84746,       0.847,     0.84654,     0.84585,     0.84393,     0.84202,     0.84011,     0.83925,     0.83845,     0.83766,     0.83686,\n",
      "            0.83607,     0.83527,     0.83447,     0.83368,     0.83237,     0.83067,     0.82896,     0.82726,      0.8278,     0.83332,     0.83883,     0.84435,     0.84986,     0.85538,     0.86089,      0.8624,     0.85993,     0.85746,     0.85419,      0.8508,     0.84925,     0.84827,     0.84728,\n",
      "             0.8463,     0.84532,     0.84434,     0.84336,     0.84237,      0.8868,     0.88669,     0.88442,     0.88227,     0.88136,     0.88044,     0.87953,     0.87862,      0.8777,     0.87679,     0.87588,     0.87486,     0.87124,     0.86761,     0.86468,     0.86199,     0.85931,     0.85689,\n",
      "            0.85557,     0.85425,     0.85293,     0.85162,      0.8503,     0.84898,     0.84767,     0.84635,     0.84066,     0.83421,     0.90268,     0.89958,     0.89771,     0.89584,     0.89397,     0.89209,     0.89022,     0.88848,     0.88706,     0.88564,     0.88422,      0.8828,     0.88138,\n",
      "            0.87997,     0.87855,     0.87713,     0.87571,     0.87428,     0.87284,     0.87141,     0.86997,     0.86853,      0.8671,     0.86566,     0.86422,     0.86279,     0.86135,     0.85991,     0.85848,     0.85691,     0.85364,     0.85037,     0.84709,     0.84382,     0.84055,     0.83728,\n",
      "              0.834,     0.82102,     0.80554,     0.79823,     0.79549,     0.79274,     0.78999,     0.78725,      0.7845,     0.78175,       0.779,     0.77626,     0.77351,     0.77076,     0.76801,     0.76527,     0.76252,     0.75977,     0.75702,     0.75428,     0.75153,     0.74892,     0.74648,\n",
      "            0.74404,      0.7416,     0.73916,     0.73672,     0.73428,     0.73184,      0.7294,     0.72696,     0.72452,     0.72208,     0.71964,      0.7172,     0.71477,     0.71233,     0.70989,     0.70745,     0.70501,     0.70257,     0.70013,     0.69769,     0.69525,     0.69281,     0.69037,\n",
      "            0.68793,     0.68549,     0.68305,     0.68061,     0.67817,     0.67573,     0.67329,     0.67085,     0.66841,     0.67161,     0.68901,     0.70642,     0.72382,     0.74122,     0.75863,     0.77603,     0.79344,     0.81084,     0.82825,     0.84565,     0.86306,     0.88046,     0.89786,\n",
      "            0.91527,     0.93267,     0.95008,     0.96748,     0.98489,           1,           1,           1,           1,           1,           1,           1,           1,           1,           1,           1,           1,           1,           1,           1,           1,           1,           1,\n",
      "                  1,           1,           1,           1,           1,           1,           1,           1,           1,           1,           1,           1,           1,           1,           1,           1,           1,           1,           1,           1,           1,           1,           1,\n",
      "                  1,           1,           1,           1,           1,           1,           1,           1,           1,           1,           1,           1,           1,           1,           1,           1,           1,           1,           1,           1,           1,           1,           1,\n",
      "                  1,           1,           1,           1,           1,           1,           1,           1,           1,           1,           1]]), 'Confidence', 'Precision'], [array([          0,    0.001001,    0.002002,    0.003003,    0.004004,    0.005005,    0.006006,    0.007007,    0.008008,    0.009009,     0.01001,    0.011011,    0.012012,    0.013013,    0.014014,    0.015015,    0.016016,    0.017017,    0.018018,    0.019019,     0.02002,    0.021021,    0.022022,    0.023023,\n",
      "          0.024024,    0.025025,    0.026026,    0.027027,    0.028028,    0.029029,     0.03003,    0.031031,    0.032032,    0.033033,    0.034034,    0.035035,    0.036036,    0.037037,    0.038038,    0.039039,     0.04004,    0.041041,    0.042042,    0.043043,    0.044044,    0.045045,    0.046046,    0.047047,\n",
      "          0.048048,    0.049049,     0.05005,    0.051051,    0.052052,    0.053053,    0.054054,    0.055055,    0.056056,    0.057057,    0.058058,    0.059059,     0.06006,    0.061061,    0.062062,    0.063063,    0.064064,    0.065065,    0.066066,    0.067067,    0.068068,    0.069069,     0.07007,    0.071071,\n",
      "          0.072072,    0.073073,    0.074074,    0.075075,    0.076076,    0.077077,    0.078078,    0.079079,     0.08008,    0.081081,    0.082082,    0.083083,    0.084084,    0.085085,    0.086086,    0.087087,    0.088088,    0.089089,     0.09009,    0.091091,    0.092092,    0.093093,    0.094094,    0.095095,\n",
      "          0.096096,    0.097097,    0.098098,    0.099099,      0.1001,      0.1011,      0.1021,      0.1031,      0.1041,     0.10511,     0.10611,     0.10711,     0.10811,     0.10911,     0.11011,     0.11111,     0.11211,     0.11311,     0.11411,     0.11512,     0.11612,     0.11712,     0.11812,     0.11912,\n",
      "           0.12012,     0.12112,     0.12212,     0.12312,     0.12412,     0.12513,     0.12613,     0.12713,     0.12813,     0.12913,     0.13013,     0.13113,     0.13213,     0.13313,     0.13413,     0.13514,     0.13614,     0.13714,     0.13814,     0.13914,     0.14014,     0.14114,     0.14214,     0.14314,\n",
      "           0.14414,     0.14515,     0.14615,     0.14715,     0.14815,     0.14915,     0.15015,     0.15115,     0.15215,     0.15315,     0.15415,     0.15516,     0.15616,     0.15716,     0.15816,     0.15916,     0.16016,     0.16116,     0.16216,     0.16316,     0.16416,     0.16517,     0.16617,     0.16717,\n",
      "           0.16817,     0.16917,     0.17017,     0.17117,     0.17217,     0.17317,     0.17417,     0.17518,     0.17618,     0.17718,     0.17818,     0.17918,     0.18018,     0.18118,     0.18218,     0.18318,     0.18418,     0.18519,     0.18619,     0.18719,     0.18819,     0.18919,     0.19019,     0.19119,\n",
      "           0.19219,     0.19319,     0.19419,      0.1952,      0.1962,      0.1972,      0.1982,      0.1992,      0.2002,      0.2012,      0.2022,      0.2032,      0.2042,     0.20521,     0.20621,     0.20721,     0.20821,     0.20921,     0.21021,     0.21121,     0.21221,     0.21321,     0.21421,     0.21522,\n",
      "           0.21622,     0.21722,     0.21822,     0.21922,     0.22022,     0.22122,     0.22222,     0.22322,     0.22422,     0.22523,     0.22623,     0.22723,     0.22823,     0.22923,     0.23023,     0.23123,     0.23223,     0.23323,     0.23423,     0.23524,     0.23624,     0.23724,     0.23824,     0.23924,\n",
      "           0.24024,     0.24124,     0.24224,     0.24324,     0.24424,     0.24525,     0.24625,     0.24725,     0.24825,     0.24925,     0.25025,     0.25125,     0.25225,     0.25325,     0.25425,     0.25526,     0.25626,     0.25726,     0.25826,     0.25926,     0.26026,     0.26126,     0.26226,     0.26326,\n",
      "           0.26426,     0.26527,     0.26627,     0.26727,     0.26827,     0.26927,     0.27027,     0.27127,     0.27227,     0.27327,     0.27427,     0.27528,     0.27628,     0.27728,     0.27828,     0.27928,     0.28028,     0.28128,     0.28228,     0.28328,     0.28428,     0.28529,     0.28629,     0.28729,\n",
      "           0.28829,     0.28929,     0.29029,     0.29129,     0.29229,     0.29329,     0.29429,      0.2953,      0.2963,      0.2973,      0.2983,      0.2993,      0.3003,      0.3013,      0.3023,      0.3033,      0.3043,     0.30531,     0.30631,     0.30731,     0.30831,     0.30931,     0.31031,     0.31131,\n",
      "           0.31231,     0.31331,     0.31431,     0.31532,     0.31632,     0.31732,     0.31832,     0.31932,     0.32032,     0.32132,     0.32232,     0.32332,     0.32432,     0.32533,     0.32633,     0.32733,     0.32833,     0.32933,     0.33033,     0.33133,     0.33233,     0.33333,     0.33433,     0.33534,\n",
      "           0.33634,     0.33734,     0.33834,     0.33934,     0.34034,     0.34134,     0.34234,     0.34334,     0.34434,     0.34535,     0.34635,     0.34735,     0.34835,     0.34935,     0.35035,     0.35135,     0.35235,     0.35335,     0.35435,     0.35536,     0.35636,     0.35736,     0.35836,     0.35936,\n",
      "           0.36036,     0.36136,     0.36236,     0.36336,     0.36436,     0.36537,     0.36637,     0.36737,     0.36837,     0.36937,     0.37037,     0.37137,     0.37237,     0.37337,     0.37437,     0.37538,     0.37638,     0.37738,     0.37838,     0.37938,     0.38038,     0.38138,     0.38238,     0.38338,\n",
      "           0.38438,     0.38539,     0.38639,     0.38739,     0.38839,     0.38939,     0.39039,     0.39139,     0.39239,     0.39339,     0.39439,      0.3954,      0.3964,      0.3974,      0.3984,      0.3994,      0.4004,      0.4014,      0.4024,      0.4034,      0.4044,     0.40541,     0.40641,     0.40741,\n",
      "           0.40841,     0.40941,     0.41041,     0.41141,     0.41241,     0.41341,     0.41441,     0.41542,     0.41642,     0.41742,     0.41842,     0.41942,     0.42042,     0.42142,     0.42242,     0.42342,     0.42442,     0.42543,     0.42643,     0.42743,     0.42843,     0.42943,     0.43043,     0.43143,\n",
      "           0.43243,     0.43343,     0.43443,     0.43544,     0.43644,     0.43744,     0.43844,     0.43944,     0.44044,     0.44144,     0.44244,     0.44344,     0.44444,     0.44545,     0.44645,     0.44745,     0.44845,     0.44945,     0.45045,     0.45145,     0.45245,     0.45345,     0.45445,     0.45546,\n",
      "           0.45646,     0.45746,     0.45846,     0.45946,     0.46046,     0.46146,     0.46246,     0.46346,     0.46446,     0.46547,     0.46647,     0.46747,     0.46847,     0.46947,     0.47047,     0.47147,     0.47247,     0.47347,     0.47447,     0.47548,     0.47648,     0.47748,     0.47848,     0.47948,\n",
      "           0.48048,     0.48148,     0.48248,     0.48348,     0.48448,     0.48549,     0.48649,     0.48749,     0.48849,     0.48949,     0.49049,     0.49149,     0.49249,     0.49349,     0.49449,      0.4955,      0.4965,      0.4975,      0.4985,      0.4995,      0.5005,      0.5015,      0.5025,      0.5035,\n",
      "            0.5045,     0.50551,     0.50651,     0.50751,     0.50851,     0.50951,     0.51051,     0.51151,     0.51251,     0.51351,     0.51451,     0.51552,     0.51652,     0.51752,     0.51852,     0.51952,     0.52052,     0.52152,     0.52252,     0.52352,     0.52452,     0.52553,     0.52653,     0.52753,\n",
      "           0.52853,     0.52953,     0.53053,     0.53153,     0.53253,     0.53353,     0.53453,     0.53554,     0.53654,     0.53754,     0.53854,     0.53954,     0.54054,     0.54154,     0.54254,     0.54354,     0.54454,     0.54555,     0.54655,     0.54755,     0.54855,     0.54955,     0.55055,     0.55155,\n",
      "           0.55255,     0.55355,     0.55455,     0.55556,     0.55656,     0.55756,     0.55856,     0.55956,     0.56056,     0.56156,     0.56256,     0.56356,     0.56456,     0.56557,     0.56657,     0.56757,     0.56857,     0.56957,     0.57057,     0.57157,     0.57257,     0.57357,     0.57457,     0.57558,\n",
      "           0.57658,     0.57758,     0.57858,     0.57958,     0.58058,     0.58158,     0.58258,     0.58358,     0.58458,     0.58559,     0.58659,     0.58759,     0.58859,     0.58959,     0.59059,     0.59159,     0.59259,     0.59359,     0.59459,      0.5956,      0.5966,      0.5976,      0.5986,      0.5996,\n",
      "            0.6006,      0.6016,      0.6026,      0.6036,      0.6046,     0.60561,     0.60661,     0.60761,     0.60861,     0.60961,     0.61061,     0.61161,     0.61261,     0.61361,     0.61461,     0.61562,     0.61662,     0.61762,     0.61862,     0.61962,     0.62062,     0.62162,     0.62262,     0.62362,\n",
      "           0.62462,     0.62563,     0.62663,     0.62763,     0.62863,     0.62963,     0.63063,     0.63163,     0.63263,     0.63363,     0.63463,     0.63564,     0.63664,     0.63764,     0.63864,     0.63964,     0.64064,     0.64164,     0.64264,     0.64364,     0.64464,     0.64565,     0.64665,     0.64765,\n",
      "           0.64865,     0.64965,     0.65065,     0.65165,     0.65265,     0.65365,     0.65465,     0.65566,     0.65666,     0.65766,     0.65866,     0.65966,     0.66066,     0.66166,     0.66266,     0.66366,     0.66466,     0.66567,     0.66667,     0.66767,     0.66867,     0.66967,     0.67067,     0.67167,\n",
      "           0.67267,     0.67367,     0.67467,     0.67568,     0.67668,     0.67768,     0.67868,     0.67968,     0.68068,     0.68168,     0.68268,     0.68368,     0.68468,     0.68569,     0.68669,     0.68769,     0.68869,     0.68969,     0.69069,     0.69169,     0.69269,     0.69369,     0.69469,      0.6957,\n",
      "            0.6967,      0.6977,      0.6987,      0.6997,      0.7007,      0.7017,      0.7027,      0.7037,      0.7047,     0.70571,     0.70671,     0.70771,     0.70871,     0.70971,     0.71071,     0.71171,     0.71271,     0.71371,     0.71471,     0.71572,     0.71672,     0.71772,     0.71872,     0.71972,\n",
      "           0.72072,     0.72172,     0.72272,     0.72372,     0.72472,     0.72573,     0.72673,     0.72773,     0.72873,     0.72973,     0.73073,     0.73173,     0.73273,     0.73373,     0.73473,     0.73574,     0.73674,     0.73774,     0.73874,     0.73974,     0.74074,     0.74174,     0.74274,     0.74374,\n",
      "           0.74474,     0.74575,     0.74675,     0.74775,     0.74875,     0.74975,     0.75075,     0.75175,     0.75275,     0.75375,     0.75475,     0.75576,     0.75676,     0.75776,     0.75876,     0.75976,     0.76076,     0.76176,     0.76276,     0.76376,     0.76476,     0.76577,     0.76677,     0.76777,\n",
      "           0.76877,     0.76977,     0.77077,     0.77177,     0.77277,     0.77377,     0.77477,     0.77578,     0.77678,     0.77778,     0.77878,     0.77978,     0.78078,     0.78178,     0.78278,     0.78378,     0.78478,     0.78579,     0.78679,     0.78779,     0.78879,     0.78979,     0.79079,     0.79179,\n",
      "           0.79279,     0.79379,     0.79479,      0.7958,      0.7968,      0.7978,      0.7988,      0.7998,      0.8008,      0.8018,      0.8028,      0.8038,      0.8048,     0.80581,     0.80681,     0.80781,     0.80881,     0.80981,     0.81081,     0.81181,     0.81281,     0.81381,     0.81481,     0.81582,\n",
      "           0.81682,     0.81782,     0.81882,     0.81982,     0.82082,     0.82182,     0.82282,     0.82382,     0.82482,     0.82583,     0.82683,     0.82783,     0.82883,     0.82983,     0.83083,     0.83183,     0.83283,     0.83383,     0.83483,     0.83584,     0.83684,     0.83784,     0.83884,     0.83984,\n",
      "           0.84084,     0.84184,     0.84284,     0.84384,     0.84484,     0.84585,     0.84685,     0.84785,     0.84885,     0.84985,     0.85085,     0.85185,     0.85285,     0.85385,     0.85485,     0.85586,     0.85686,     0.85786,     0.85886,     0.85986,     0.86086,     0.86186,     0.86286,     0.86386,\n",
      "           0.86486,     0.86587,     0.86687,     0.86787,     0.86887,     0.86987,     0.87087,     0.87187,     0.87287,     0.87387,     0.87487,     0.87588,     0.87688,     0.87788,     0.87888,     0.87988,     0.88088,     0.88188,     0.88288,     0.88388,     0.88488,     0.88589,     0.88689,     0.88789,\n",
      "           0.88889,     0.88989,     0.89089,     0.89189,     0.89289,     0.89389,     0.89489,      0.8959,      0.8969,      0.8979,      0.8989,      0.8999,      0.9009,      0.9019,      0.9029,      0.9039,      0.9049,     0.90591,     0.90691,     0.90791,     0.90891,     0.90991,     0.91091,     0.91191,\n",
      "           0.91291,     0.91391,     0.91491,     0.91592,     0.91692,     0.91792,     0.91892,     0.91992,     0.92092,     0.92192,     0.92292,     0.92392,     0.92492,     0.92593,     0.92693,     0.92793,     0.92893,     0.92993,     0.93093,     0.93193,     0.93293,     0.93393,     0.93493,     0.93594,\n",
      "           0.93694,     0.93794,     0.93894,     0.93994,     0.94094,     0.94194,     0.94294,     0.94394,     0.94494,     0.94595,     0.94695,     0.94795,     0.94895,     0.94995,     0.95095,     0.95195,     0.95295,     0.95395,     0.95495,     0.95596,     0.95696,     0.95796,     0.95896,     0.95996,\n",
      "           0.96096,     0.96196,     0.96296,     0.96396,     0.96496,     0.96597,     0.96697,     0.96797,     0.96897,     0.96997,     0.97097,     0.97197,     0.97297,     0.97397,     0.97497,     0.97598,     0.97698,     0.97798,     0.97898,     0.97998,     0.98098,     0.98198,     0.98298,     0.98398,\n",
      "           0.98498,     0.98599,     0.98699,     0.98799,     0.98899,     0.98999,     0.99099,     0.99199,     0.99299,     0.99399,     0.99499,       0.996,       0.997,       0.998,       0.999,           1]), array([[    0.97368,     0.97368,     0.97368,     0.97368,     0.97368,     0.97368,     0.96842,     0.96842,     0.96316,     0.95263,     0.95263,     0.95263,     0.94211,     0.94211,     0.94211,     0.94211,     0.94211,     0.94211,     0.93684,     0.93684,     0.93684,     0.93684,     0.93684,\n",
      "            0.93684,     0.93684,     0.93684,     0.93621,     0.92632,     0.92632,     0.92632,     0.92632,     0.92632,     0.92105,     0.92105,     0.92105,     0.92105,     0.92105,     0.92105,     0.92105,     0.92105,     0.91579,     0.91579,     0.91579,     0.91579,     0.91579,     0.90526,\n",
      "                0.9,         0.9,         0.9,         0.9,     0.88947,     0.88421,     0.88421,     0.88421,     0.88421,     0.88421,     0.88421,     0.88421,     0.87368,     0.86316,     0.86316,     0.85789,     0.85789,     0.85789,     0.85789,     0.85789,     0.85263,     0.85263,     0.84737,\n",
      "            0.84737,     0.84737,     0.84737,     0.84737,     0.84737,     0.84737,     0.84737,     0.84737,     0.84737,     0.84737,     0.84737,     0.84737,     0.84737,     0.84211,     0.84211,     0.84211,     0.83684,     0.83684,     0.83684,     0.83684,     0.83158,     0.82632,     0.82105,\n",
      "            0.82105,     0.81579,     0.81579,     0.81053,     0.81053,     0.81053,     0.81053,         0.8,     0.79642,     0.79474,     0.78947,     0.78947,     0.78286,     0.77368,     0.76842,     0.76842,     0.76842,     0.76842,     0.75973,     0.75263,     0.75263,     0.74737,     0.74737,\n",
      "            0.74737,     0.74737,      0.7461,     0.74211,     0.74211,     0.74211,     0.74211,     0.73684,     0.73684,     0.73684,     0.73684,     0.73684,     0.73684,     0.73158,     0.73158,     0.73158,     0.73158,     0.73158,     0.73158,     0.73158,     0.73158,     0.73158,     0.73158,\n",
      "            0.72632,     0.72632,     0.72632,     0.72632,     0.72632,     0.72632,     0.72632,     0.72632,     0.72632,     0.72632,     0.72632,     0.72632,     0.72632,     0.72632,     0.72632,     0.72632,     0.72105,     0.72105,     0.72105,     0.72105,     0.71789,     0.71579,     0.71053,\n",
      "            0.70526,     0.70382,         0.7,         0.7,     0.69944,     0.69516,     0.69474,     0.69474,     0.69474,     0.69474,     0.69474,     0.69474,     0.69474,     0.69474,     0.69258,     0.68971,     0.68671,     0.68421,     0.68421,     0.68421,     0.68421,     0.68421,     0.68421,\n",
      "            0.68421,     0.68421,     0.68421,     0.68421,     0.68421,     0.68421,     0.67895,     0.67895,     0.67895,     0.67895,     0.67895,     0.67895,     0.67895,     0.67895,     0.67895,     0.67895,     0.67895,     0.67895,     0.67895,     0.67859,     0.67463,     0.67368,     0.67368,\n",
      "            0.66842,     0.66842,     0.65946,     0.65597,     0.65302,     0.65263,     0.65263,     0.65263,     0.65263,     0.65263,     0.65263,     0.65263,     0.65263,     0.65148,     0.64871,     0.64737,     0.64737,     0.64737,     0.64737,     0.64737,     0.63444,     0.63158,     0.63158,\n",
      "            0.62632,     0.62632,     0.62632,     0.62632,     0.62632,     0.62105,     0.62105,     0.62105,     0.62018,     0.61868,     0.61718,     0.61579,     0.61464,     0.60526,     0.60526,     0.60526,     0.60526,     0.60526,     0.60526,     0.60526,     0.60526,     0.60526,     0.60526,\n",
      "            0.60526,     0.60526,     0.60526,     0.60526,     0.60526,     0.60526,     0.60526,     0.60526,     0.60526,     0.60346,     0.60121,     0.59752,     0.59474,     0.59474,     0.59474,     0.59474,     0.59474,     0.59474,     0.59474,     0.59474,     0.59474,     0.59474,     0.59474,\n",
      "            0.59474,     0.59474,     0.59474,     0.59474,     0.59474,     0.59474,     0.59474,     0.59474,      0.5939,     0.59136,     0.58947,     0.58947,     0.58947,     0.58947,     0.58947,     0.58947,     0.58947,     0.58947,     0.58947,     0.58947,     0.58947,     0.58947,     0.58947,\n",
      "            0.58324,     0.57844,     0.57733,     0.57621,      0.5751,     0.57398,     0.57172,     0.56903,     0.56316,     0.55843,     0.55379,     0.55263,     0.55263,     0.55263,     0.55263,     0.55263,     0.55263,     0.55263,     0.55263,     0.55263,     0.55263,     0.55263,     0.55263,\n",
      "            0.55263,     0.55263,     0.55263,     0.55263,     0.55263,     0.55263,     0.55263,     0.55263,     0.54827,     0.54375,     0.54128,        0.54,     0.53871,     0.53742,     0.53577,     0.53383,     0.53189,     0.53158,     0.53158,     0.53158,     0.53158,     0.52786,     0.52568,\n",
      "            0.52384,       0.522,     0.52071,     0.51999,     0.51927,     0.51855,     0.51783,     0.51711,     0.51639,     0.51579,     0.51579,     0.51579,     0.51579,     0.51579,     0.51579,     0.51579,     0.51579,     0.51579,     0.51579,     0.51579,     0.51579,     0.51579,     0.51579,\n",
      "            0.51579,     0.51579,     0.51579,     0.51569,     0.51492,     0.51416,      0.5134,     0.51263,     0.51187,      0.5111,     0.51053,     0.51053,     0.51053,     0.50983,     0.50745,     0.50494,     0.50108,         0.5,         0.5,         0.5,         0.5,         0.5,         0.5,\n",
      "                0.5,         0.5,         0.5,         0.5,         0.5,         0.5,         0.5,     0.49565,     0.49474,     0.49474,     0.49474,     0.49474,     0.49474,     0.49474,     0.49459,     0.48947,     0.48794,       0.486,     0.48421,     0.48421,     0.48421,     0.48421,      0.4787,\n",
      "            0.47692,     0.47514,     0.47318,     0.47032,     0.46842,     0.46842,     0.46842,     0.46842,     0.46842,     0.46842,     0.46842,     0.46842,     0.46842,     0.46842,     0.46842,     0.46842,     0.46842,     0.46842,     0.46842,     0.46842,     0.46842,     0.46842,     0.46842,\n",
      "            0.46824,     0.46686,     0.46548,     0.46409,     0.46289,     0.46205,     0.46121,     0.46038,     0.45954,     0.45871,     0.45789,     0.45789,     0.45789,     0.45789,     0.45789,     0.45789,     0.45789,     0.45789,     0.45789,     0.45789,     0.45789,     0.45789,     0.45789,\n",
      "            0.45789,     0.45542,     0.45059,     0.44737,     0.44737,     0.44737,     0.44675,     0.44211,     0.44211,     0.44184,     0.44121,     0.44058,     0.43995,     0.43932,     0.43869,     0.43807,     0.43744,     0.43684,     0.43684,     0.43684,     0.43684,     0.43684,     0.43569,\n",
      "            0.43194,     0.43086,     0.43006,     0.42926,     0.42846,     0.42766,     0.42686,     0.42548,     0.42289,     0.42105,     0.42105,     0.42105,     0.42105,     0.42007,     0.41903,     0.41799,     0.41695,     0.41591,     0.41526,     0.41467,     0.41408,     0.41349,     0.41289,\n",
      "             0.4123,     0.41171,     0.41111,      0.4105,     0.40839,     0.40629,     0.40381,     0.40098,      0.3983,     0.39569,     0.38947,     0.38947,     0.38947,     0.38947,     0.38947,     0.38947,     0.38947,     0.38947,     0.38947,     0.38702,     0.37879,     0.37821,     0.37764,\n",
      "            0.37706,     0.37649,     0.37591,     0.37533,     0.37476,     0.37418,     0.36763,     0.36248,      0.3609,     0.35931,     0.35789,     0.35651,     0.35375,     0.35225,     0.35161,     0.35096,     0.35032,     0.34968,     0.34904,     0.34839,     0.34775,     0.34647,     0.34427,\n",
      "            0.34211,     0.34211,     0.34211,     0.34211,     0.34211,      0.3405,     0.33883,     0.33717,     0.33565,     0.33418,     0.33271,     0.33072,     0.32702,      0.3258,     0.32516,     0.32452,     0.32388,     0.32324,      0.3226,     0.32195,     0.32131,     0.32067,     0.32003,\n",
      "            0.31938,     0.31874,     0.31809,     0.31745,     0.31681,     0.31616,     0.31579,     0.31579,     0.31483,     0.31292,     0.31101,     0.30406,     0.30158,     0.29448,     0.28947,     0.28601,     0.28396,     0.28342,     0.28289,     0.28236,     0.28183,     0.28129,     0.28076,\n",
      "            0.28023,      0.2797,     0.27917,      0.2781,     0.27665,     0.27521,     0.27376,     0.27136,     0.26891,     0.26646,     0.26402,      0.2618,     0.25969,     0.25789,     0.25789,     0.25789,     0.25789,     0.25789,     0.25789,     0.25789,     0.25789,     0.25789,     0.25789,\n",
      "            0.25776,      0.2569,     0.25605,      0.2552,     0.25434,     0.25349,     0.25263,     0.25114,     0.24964,     0.24814,     0.24617,     0.24371,     0.24211,     0.24211,     0.24211,     0.24211,     0.24211,     0.24178,     0.24145,     0.24112,     0.24079,     0.24046,     0.24013,\n",
      "            0.23981,     0.23948,     0.23915,     0.23882,     0.23849,     0.23816,     0.23783,      0.2375,     0.23717,     0.23683,     0.23593,     0.23503,     0.23413,     0.23323,     0.23233,     0.22564,     0.22083,     0.22042,     0.22001,      0.2196,      0.2192,     0.21879,     0.21838,\n",
      "            0.21798,     0.21757,     0.21716,     0.21675,     0.21635,     0.21594,     0.21552,     0.21509,     0.21465,     0.21422,     0.21379,     0.21336,     0.21293,      0.2125,     0.21207,     0.21164,     0.21121,     0.21078,     0.21053,     0.21053,     0.21053,      0.2099,     0.20852,\n",
      "            0.20714,     0.20577,     0.19837,      0.1942,     0.19273,     0.19127,     0.18981,     0.18707,     0.18383,     0.17914,     0.17808,     0.17717,     0.17626,     0.17535,     0.17444,     0.17342,     0.17183,     0.17024,     0.16865,     0.16409,     0.16242,     0.16152,     0.16062,\n",
      "            0.15972,     0.15882,     0.15792,      0.1566,     0.15527,     0.15394,     0.15259,      0.1499,     0.14657,     0.14113,     0.13967,     0.13821,     0.13659,     0.13283,     0.13119,      0.1306,     0.13002,     0.12943,     0.12885,     0.12826,     0.12768,     0.12709,     0.12651,\n",
      "            0.12403,     0.12105,     0.12105,     0.12084,     0.12041,     0.11999,     0.11956,     0.11913,     0.11871,     0.11828,     0.11785,     0.11743,       0.117,     0.11657,     0.11615,     0.11553,     0.11389,     0.11225,     0.11062,     0.10993,     0.10931,     0.10868,     0.10805,\n",
      "            0.10742,     0.10679,     0.10616,     0.10554,     0.10456,     0.10333,     0.10209,     0.10085,         0.1,         0.1,         0.1,         0.1,         0.1,         0.1,         0.1,    0.098995,    0.096995,    0.094995,    0.092561,    0.090062,    0.088973,    0.088318,    0.087664,\n",
      "           0.087009,    0.086354,    0.085699,    0.085044,     0.08439,    0.084211,    0.082442,    0.080611,    0.078888,    0.078234,    0.077581,    0.076927,    0.076274,     0.07562,    0.074967,    0.074313,    0.073598,    0.071307,    0.069017,    0.067323,    0.065838,    0.064353,    0.063035,\n",
      "           0.062404,    0.061773,    0.061142,    0.060512,    0.059881,     0.05925,    0.058619,    0.057988,    0.055638,     0.05299,    0.052632,    0.047171,    0.046284,    0.045397,     0.04451,    0.043623,    0.042736,     0.04195,    0.041412,    0.040874,    0.040337,    0.039799,    0.039261,\n",
      "           0.038724,    0.038186,    0.037648,    0.037111,     0.03663,    0.036207,    0.035783,     0.03536,    0.034936,    0.034513,     0.03409,    0.033666,    0.033243,    0.032819,    0.032396,    0.031972,    0.031528,    0.030804,    0.030081,    0.029358,    0.028634,    0.027911,    0.027187,\n",
      "           0.026464,    0.024372,    0.021927,    0.020867,    0.020578,    0.020288,    0.019999,     0.01971,    0.019421,    0.019132,    0.018842,    0.018553,    0.018264,    0.017975,    0.017686,    0.017397,    0.017107,    0.016818,    0.016529,     0.01624,    0.015951,    0.015721,    0.015567,\n",
      "           0.015413,    0.015259,    0.015105,    0.014951,    0.014797,    0.014643,    0.014489,    0.014335,     0.01418,    0.014026,    0.013872,    0.013718,    0.013564,     0.01341,    0.013256,    0.013102,    0.012948,    0.012794,     0.01264,    0.012486,    0.012332,    0.012177,    0.012023,\n",
      "           0.011869,    0.011715,    0.011561,    0.011407,    0.011253,    0.011099,    0.010945,    0.010791,    0.010637,    0.010526,    0.010526,    0.010526,    0.010526,    0.010526,    0.010526,    0.010526,    0.010526,    0.010526,    0.010526,    0.010526,    0.010526,    0.010526,    0.010526,\n",
      "           0.010526,    0.010526,    0.010526,    0.010526,    0.010526,    0.009516,           0,           0,           0,           0,           0,           0,           0,           0,           0,           0,           0,           0,           0,           0,           0,           0,           0,\n",
      "                  0,           0,           0,           0,           0,           0,           0,           0,           0,           0,           0,           0,           0,           0,           0,           0,           0,           0,           0,           0,           0,           0,           0,\n",
      "                  0,           0,           0,           0,           0,           0,           0,           0,           0,           0,           0,           0,           0,           0,           0,           0,           0,           0,           0,           0,           0,           0,           0,\n",
      "                  0,           0,           0,           0,           0,           0,           0,           0,           0,           0,           0]]), 'Confidence', 'Recall'], [array([          0,    0.001001,    0.002002,    0.003003,    0.004004,    0.005005,    0.006006,    0.007007,    0.008008,    0.009009,     0.01001,    0.011011,    0.012012,    0.013013,    0.014014,    0.015015,    0.016016,    0.017017,    0.018018,    0.019019,     0.02002,    0.021021,    0.022022,    0.023023,\n",
      "          0.024024,    0.025025,    0.026026,    0.027027,    0.028028,    0.029029,     0.03003,    0.031031,    0.032032,    0.033033,    0.034034,    0.035035,    0.036036,    0.037037,    0.038038,    0.039039,     0.04004,    0.041041,    0.042042,    0.043043,    0.044044,    0.045045,    0.046046,    0.047047,\n",
      "          0.048048,    0.049049,     0.05005,    0.051051,    0.052052,    0.053053,    0.054054,    0.055055,    0.056056,    0.057057,    0.058058,    0.059059,     0.06006,    0.061061,    0.062062,    0.063063,    0.064064,    0.065065,    0.066066,    0.067067,    0.068068,    0.069069,     0.07007,    0.071071,\n",
      "          0.072072,    0.073073,    0.074074,    0.075075,    0.076076,    0.077077,    0.078078,    0.079079,     0.08008,    0.081081,    0.082082,    0.083083,    0.084084,    0.085085,    0.086086,    0.087087,    0.088088,    0.089089,     0.09009,    0.091091,    0.092092,    0.093093,    0.094094,    0.095095,\n",
      "          0.096096,    0.097097,    0.098098,    0.099099,      0.1001,      0.1011,      0.1021,      0.1031,      0.1041,     0.10511,     0.10611,     0.10711,     0.10811,     0.10911,     0.11011,     0.11111,     0.11211,     0.11311,     0.11411,     0.11512,     0.11612,     0.11712,     0.11812,     0.11912,\n",
      "           0.12012,     0.12112,     0.12212,     0.12312,     0.12412,     0.12513,     0.12613,     0.12713,     0.12813,     0.12913,     0.13013,     0.13113,     0.13213,     0.13313,     0.13413,     0.13514,     0.13614,     0.13714,     0.13814,     0.13914,     0.14014,     0.14114,     0.14214,     0.14314,\n",
      "           0.14414,     0.14515,     0.14615,     0.14715,     0.14815,     0.14915,     0.15015,     0.15115,     0.15215,     0.15315,     0.15415,     0.15516,     0.15616,     0.15716,     0.15816,     0.15916,     0.16016,     0.16116,     0.16216,     0.16316,     0.16416,     0.16517,     0.16617,     0.16717,\n",
      "           0.16817,     0.16917,     0.17017,     0.17117,     0.17217,     0.17317,     0.17417,     0.17518,     0.17618,     0.17718,     0.17818,     0.17918,     0.18018,     0.18118,     0.18218,     0.18318,     0.18418,     0.18519,     0.18619,     0.18719,     0.18819,     0.18919,     0.19019,     0.19119,\n",
      "           0.19219,     0.19319,     0.19419,      0.1952,      0.1962,      0.1972,      0.1982,      0.1992,      0.2002,      0.2012,      0.2022,      0.2032,      0.2042,     0.20521,     0.20621,     0.20721,     0.20821,     0.20921,     0.21021,     0.21121,     0.21221,     0.21321,     0.21421,     0.21522,\n",
      "           0.21622,     0.21722,     0.21822,     0.21922,     0.22022,     0.22122,     0.22222,     0.22322,     0.22422,     0.22523,     0.22623,     0.22723,     0.22823,     0.22923,     0.23023,     0.23123,     0.23223,     0.23323,     0.23423,     0.23524,     0.23624,     0.23724,     0.23824,     0.23924,\n",
      "           0.24024,     0.24124,     0.24224,     0.24324,     0.24424,     0.24525,     0.24625,     0.24725,     0.24825,     0.24925,     0.25025,     0.25125,     0.25225,     0.25325,     0.25425,     0.25526,     0.25626,     0.25726,     0.25826,     0.25926,     0.26026,     0.26126,     0.26226,     0.26326,\n",
      "           0.26426,     0.26527,     0.26627,     0.26727,     0.26827,     0.26927,     0.27027,     0.27127,     0.27227,     0.27327,     0.27427,     0.27528,     0.27628,     0.27728,     0.27828,     0.27928,     0.28028,     0.28128,     0.28228,     0.28328,     0.28428,     0.28529,     0.28629,     0.28729,\n",
      "           0.28829,     0.28929,     0.29029,     0.29129,     0.29229,     0.29329,     0.29429,      0.2953,      0.2963,      0.2973,      0.2983,      0.2993,      0.3003,      0.3013,      0.3023,      0.3033,      0.3043,     0.30531,     0.30631,     0.30731,     0.30831,     0.30931,     0.31031,     0.31131,\n",
      "           0.31231,     0.31331,     0.31431,     0.31532,     0.31632,     0.31732,     0.31832,     0.31932,     0.32032,     0.32132,     0.32232,     0.32332,     0.32432,     0.32533,     0.32633,     0.32733,     0.32833,     0.32933,     0.33033,     0.33133,     0.33233,     0.33333,     0.33433,     0.33534,\n",
      "           0.33634,     0.33734,     0.33834,     0.33934,     0.34034,     0.34134,     0.34234,     0.34334,     0.34434,     0.34535,     0.34635,     0.34735,     0.34835,     0.34935,     0.35035,     0.35135,     0.35235,     0.35335,     0.35435,     0.35536,     0.35636,     0.35736,     0.35836,     0.35936,\n",
      "           0.36036,     0.36136,     0.36236,     0.36336,     0.36436,     0.36537,     0.36637,     0.36737,     0.36837,     0.36937,     0.37037,     0.37137,     0.37237,     0.37337,     0.37437,     0.37538,     0.37638,     0.37738,     0.37838,     0.37938,     0.38038,     0.38138,     0.38238,     0.38338,\n",
      "           0.38438,     0.38539,     0.38639,     0.38739,     0.38839,     0.38939,     0.39039,     0.39139,     0.39239,     0.39339,     0.39439,      0.3954,      0.3964,      0.3974,      0.3984,      0.3994,      0.4004,      0.4014,      0.4024,      0.4034,      0.4044,     0.40541,     0.40641,     0.40741,\n",
      "           0.40841,     0.40941,     0.41041,     0.41141,     0.41241,     0.41341,     0.41441,     0.41542,     0.41642,     0.41742,     0.41842,     0.41942,     0.42042,     0.42142,     0.42242,     0.42342,     0.42442,     0.42543,     0.42643,     0.42743,     0.42843,     0.42943,     0.43043,     0.43143,\n",
      "           0.43243,     0.43343,     0.43443,     0.43544,     0.43644,     0.43744,     0.43844,     0.43944,     0.44044,     0.44144,     0.44244,     0.44344,     0.44444,     0.44545,     0.44645,     0.44745,     0.44845,     0.44945,     0.45045,     0.45145,     0.45245,     0.45345,     0.45445,     0.45546,\n",
      "           0.45646,     0.45746,     0.45846,     0.45946,     0.46046,     0.46146,     0.46246,     0.46346,     0.46446,     0.46547,     0.46647,     0.46747,     0.46847,     0.46947,     0.47047,     0.47147,     0.47247,     0.47347,     0.47447,     0.47548,     0.47648,     0.47748,     0.47848,     0.47948,\n",
      "           0.48048,     0.48148,     0.48248,     0.48348,     0.48448,     0.48549,     0.48649,     0.48749,     0.48849,     0.48949,     0.49049,     0.49149,     0.49249,     0.49349,     0.49449,      0.4955,      0.4965,      0.4975,      0.4985,      0.4995,      0.5005,      0.5015,      0.5025,      0.5035,\n",
      "            0.5045,     0.50551,     0.50651,     0.50751,     0.50851,     0.50951,     0.51051,     0.51151,     0.51251,     0.51351,     0.51451,     0.51552,     0.51652,     0.51752,     0.51852,     0.51952,     0.52052,     0.52152,     0.52252,     0.52352,     0.52452,     0.52553,     0.52653,     0.52753,\n",
      "           0.52853,     0.52953,     0.53053,     0.53153,     0.53253,     0.53353,     0.53453,     0.53554,     0.53654,     0.53754,     0.53854,     0.53954,     0.54054,     0.54154,     0.54254,     0.54354,     0.54454,     0.54555,     0.54655,     0.54755,     0.54855,     0.54955,     0.55055,     0.55155,\n",
      "           0.55255,     0.55355,     0.55455,     0.55556,     0.55656,     0.55756,     0.55856,     0.55956,     0.56056,     0.56156,     0.56256,     0.56356,     0.56456,     0.56557,     0.56657,     0.56757,     0.56857,     0.56957,     0.57057,     0.57157,     0.57257,     0.57357,     0.57457,     0.57558,\n",
      "           0.57658,     0.57758,     0.57858,     0.57958,     0.58058,     0.58158,     0.58258,     0.58358,     0.58458,     0.58559,     0.58659,     0.58759,     0.58859,     0.58959,     0.59059,     0.59159,     0.59259,     0.59359,     0.59459,      0.5956,      0.5966,      0.5976,      0.5986,      0.5996,\n",
      "            0.6006,      0.6016,      0.6026,      0.6036,      0.6046,     0.60561,     0.60661,     0.60761,     0.60861,     0.60961,     0.61061,     0.61161,     0.61261,     0.61361,     0.61461,     0.61562,     0.61662,     0.61762,     0.61862,     0.61962,     0.62062,     0.62162,     0.62262,     0.62362,\n",
      "           0.62462,     0.62563,     0.62663,     0.62763,     0.62863,     0.62963,     0.63063,     0.63163,     0.63263,     0.63363,     0.63463,     0.63564,     0.63664,     0.63764,     0.63864,     0.63964,     0.64064,     0.64164,     0.64264,     0.64364,     0.64464,     0.64565,     0.64665,     0.64765,\n",
      "           0.64865,     0.64965,     0.65065,     0.65165,     0.65265,     0.65365,     0.65465,     0.65566,     0.65666,     0.65766,     0.65866,     0.65966,     0.66066,     0.66166,     0.66266,     0.66366,     0.66466,     0.66567,     0.66667,     0.66767,     0.66867,     0.66967,     0.67067,     0.67167,\n",
      "           0.67267,     0.67367,     0.67467,     0.67568,     0.67668,     0.67768,     0.67868,     0.67968,     0.68068,     0.68168,     0.68268,     0.68368,     0.68468,     0.68569,     0.68669,     0.68769,     0.68869,     0.68969,     0.69069,     0.69169,     0.69269,     0.69369,     0.69469,      0.6957,\n",
      "            0.6967,      0.6977,      0.6987,      0.6997,      0.7007,      0.7017,      0.7027,      0.7037,      0.7047,     0.70571,     0.70671,     0.70771,     0.70871,     0.70971,     0.71071,     0.71171,     0.71271,     0.71371,     0.71471,     0.71572,     0.71672,     0.71772,     0.71872,     0.71972,\n",
      "           0.72072,     0.72172,     0.72272,     0.72372,     0.72472,     0.72573,     0.72673,     0.72773,     0.72873,     0.72973,     0.73073,     0.73173,     0.73273,     0.73373,     0.73473,     0.73574,     0.73674,     0.73774,     0.73874,     0.73974,     0.74074,     0.74174,     0.74274,     0.74374,\n",
      "           0.74474,     0.74575,     0.74675,     0.74775,     0.74875,     0.74975,     0.75075,     0.75175,     0.75275,     0.75375,     0.75475,     0.75576,     0.75676,     0.75776,     0.75876,     0.75976,     0.76076,     0.76176,     0.76276,     0.76376,     0.76476,     0.76577,     0.76677,     0.76777,\n",
      "           0.76877,     0.76977,     0.77077,     0.77177,     0.77277,     0.77377,     0.77477,     0.77578,     0.77678,     0.77778,     0.77878,     0.77978,     0.78078,     0.78178,     0.78278,     0.78378,     0.78478,     0.78579,     0.78679,     0.78779,     0.78879,     0.78979,     0.79079,     0.79179,\n",
      "           0.79279,     0.79379,     0.79479,      0.7958,      0.7968,      0.7978,      0.7988,      0.7998,      0.8008,      0.8018,      0.8028,      0.8038,      0.8048,     0.80581,     0.80681,     0.80781,     0.80881,     0.80981,     0.81081,     0.81181,     0.81281,     0.81381,     0.81481,     0.81582,\n",
      "           0.81682,     0.81782,     0.81882,     0.81982,     0.82082,     0.82182,     0.82282,     0.82382,     0.82482,     0.82583,     0.82683,     0.82783,     0.82883,     0.82983,     0.83083,     0.83183,     0.83283,     0.83383,     0.83483,     0.83584,     0.83684,     0.83784,     0.83884,     0.83984,\n",
      "           0.84084,     0.84184,     0.84284,     0.84384,     0.84484,     0.84585,     0.84685,     0.84785,     0.84885,     0.84985,     0.85085,     0.85185,     0.85285,     0.85385,     0.85485,     0.85586,     0.85686,     0.85786,     0.85886,     0.85986,     0.86086,     0.86186,     0.86286,     0.86386,\n",
      "           0.86486,     0.86587,     0.86687,     0.86787,     0.86887,     0.86987,     0.87087,     0.87187,     0.87287,     0.87387,     0.87487,     0.87588,     0.87688,     0.87788,     0.87888,     0.87988,     0.88088,     0.88188,     0.88288,     0.88388,     0.88488,     0.88589,     0.88689,     0.88789,\n",
      "           0.88889,     0.88989,     0.89089,     0.89189,     0.89289,     0.89389,     0.89489,      0.8959,      0.8969,      0.8979,      0.8989,      0.8999,      0.9009,      0.9019,      0.9029,      0.9039,      0.9049,     0.90591,     0.90691,     0.90791,     0.90891,     0.90991,     0.91091,     0.91191,\n",
      "           0.91291,     0.91391,     0.91491,     0.91592,     0.91692,     0.91792,     0.91892,     0.91992,     0.92092,     0.92192,     0.92292,     0.92392,     0.92492,     0.92593,     0.92693,     0.92793,     0.92893,     0.92993,     0.93093,     0.93193,     0.93293,     0.93393,     0.93493,     0.93594,\n",
      "           0.93694,     0.93794,     0.93894,     0.93994,     0.94094,     0.94194,     0.94294,     0.94394,     0.94494,     0.94595,     0.94695,     0.94795,     0.94895,     0.94995,     0.95095,     0.95195,     0.95295,     0.95395,     0.95495,     0.95596,     0.95696,     0.95796,     0.95896,     0.95996,\n",
      "           0.96096,     0.96196,     0.96296,     0.96396,     0.96496,     0.96597,     0.96697,     0.96797,     0.96897,     0.96997,     0.97097,     0.97197,     0.97297,     0.97397,     0.97497,     0.97598,     0.97698,     0.97798,     0.97898,     0.97998,     0.98098,     0.98198,     0.98298,     0.98398,\n",
      "           0.98498,     0.98599,     0.98699,     0.98799,     0.98899,     0.98999,     0.99099,     0.99199,     0.99299,     0.99399,     0.99499,       0.996,       0.997,       0.998,       0.999,           1]), array([[          1,           1,           1,           1,           1,           1,           1,           1,           1,           1,           1,     0.90909,     0.90909,     0.90909,     0.90909,     0.90909,     0.90909,     0.90909,     0.90909,     0.90909,     0.90909,     0.90909,     0.90909,\n",
      "            0.90909,     0.90909,     0.90909,     0.90909,     0.90909,     0.90909,     0.90909,     0.90909,     0.90909,     0.90909,     0.90909,     0.90909,     0.90909,     0.90909,     0.90909,     0.90909,     0.90909,     0.90909,     0.90909,     0.90909,     0.90909,     0.90909,     0.90909,\n",
      "            0.90909,     0.90909,     0.90909,     0.90909,     0.90909,     0.90909,     0.90909,     0.88889,     0.88889,     0.88889,     0.88889,     0.88889,     0.88889,     0.88889,     0.88889,     0.88889,     0.88889,     0.88889,     0.88889,     0.88889,     0.88889,     0.88889,     0.88889,\n",
      "            0.88889,     0.88889,     0.88889,     0.88889,     0.88889,     0.88889,     0.88889,     0.88889,     0.88889,     0.88889,     0.88889,     0.88889,     0.88889,     0.88889,     0.88889,     0.88889,     0.88889,     0.88889,     0.88889,     0.88889,     0.88889,     0.88889,     0.88889,\n",
      "            0.88889,     0.88889,     0.88889,     0.88889,     0.88889,     0.88889,     0.88889,     0.88889,     0.88889,     0.88889,     0.88889,     0.88889,     0.88889,     0.88889,     0.88889,     0.88889,     0.88889,     0.88889,     0.88889,     0.88889,     0.88889,     0.88889,     0.88889,\n",
      "            0.88889,     0.88889,     0.88889,     0.88889,     0.88889,     0.88889,     0.88889,     0.88889,     0.88889,     0.88889,     0.88889,     0.88889,     0.88235,     0.88235,     0.88235,     0.88235,     0.88235,     0.88235,     0.88235,     0.88235,     0.88235,     0.88235,     0.88235,\n",
      "            0.88235,     0.88235,     0.88235,     0.88235,     0.88235,     0.88235,     0.88235,     0.88235,     0.88235,     0.88235,     0.88235,     0.88235,     0.88235,     0.88235,     0.88235,     0.88235,     0.88235,     0.88235,     0.88235,     0.88235,     0.87805,     0.87805,     0.87805,\n",
      "            0.87805,     0.87805,     0.87805,     0.87805,     0.87805,     0.87805,     0.87805,     0.87805,     0.87805,     0.87805,     0.87805,     0.87805,     0.87805,     0.87805,     0.87805,     0.87805,     0.87805,     0.87805,     0.87805,     0.87805,     0.87805,     0.87805,     0.87805,\n",
      "            0.87805,     0.87805,     0.87805,     0.87805,     0.87805,     0.87805,       0.875,       0.875,       0.875,       0.875,       0.875,       0.875,       0.875,       0.875,       0.875,       0.875,       0.875,       0.875,       0.875,       0.875,       0.875,       0.875,       0.875,\n",
      "              0.875,       0.875,       0.875,       0.875,       0.875,       0.875,       0.875,       0.875,       0.875,       0.875,       0.875,       0.875,       0.875,       0.875,       0.875,       0.875,       0.875,       0.875,       0.875,       0.875,       0.875,       0.875,       0.875,\n",
      "              0.875,       0.875,       0.875,       0.875,       0.875,       0.875,       0.875,       0.875,       0.875,       0.875,       0.875,       0.875,       0.875,       0.875,       0.875,       0.875,       0.875,       0.875,       0.875,       0.875,       0.875,       0.875,       0.875,\n",
      "              0.875,       0.875,       0.875,       0.875,       0.875,     0.85484,     0.85484,     0.85484,     0.85484,     0.85484,     0.85484,     0.85484,     0.85484,     0.85484,     0.85484,     0.85484,     0.85484,     0.85484,     0.85484,     0.85484,     0.85484,     0.85484,     0.85484,\n",
      "            0.85484,     0.85484,     0.85484,     0.84848,     0.84848,     0.84848,     0.84848,     0.84848,     0.84848,     0.84848,     0.84848,     0.84848,     0.84848,     0.84848,     0.84848,     0.84848,     0.84848,     0.84848,     0.84848,     0.83824,     0.83824,     0.83824,     0.83824,\n",
      "            0.83824,     0.83562,     0.83562,     0.83562,     0.83562,     0.83562,     0.83562,     0.83562,     0.83562,     0.83562,     0.83562,     0.83562,     0.83562,     0.83562,     0.83562,     0.83562,     0.83562,     0.83562,     0.83562,     0.83562,     0.83562,     0.83562,     0.82051,\n",
      "            0.82051,     0.82051,     0.82051,     0.82051,     0.82051,     0.82051,     0.82051,     0.82051,     0.82051,     0.82051,     0.82051,     0.82051,     0.82051,     0.82051,     0.82051,      0.8125,      0.8125,      0.8125,      0.8125,      0.8125,     0.80723,     0.80723,     0.80723,\n",
      "            0.80723,     0.80723,     0.80723,     0.80723,     0.80723,     0.80723,     0.80723,     0.80723,         0.8,         0.8,         0.8,         0.8,         0.8,     0.78261,     0.78261,     0.78261,     0.78261,     0.78261,     0.78261,     0.78261,     0.78261,     0.78261,     0.78261,\n",
      "            0.78261,     0.78261,     0.78261,     0.78261,     0.78261,     0.78261,     0.78261,     0.78261,     0.78261,     0.78261,     0.78261,      0.7732,      0.7732,      0.7732,      0.7732,      0.7732,      0.7732,      0.7732,      0.7732,      0.7732,      0.7732,      0.7732,      0.7732,\n",
      "             0.7732,      0.7732,      0.7732,      0.7732,     0.76768,     0.76768,     0.76768,     0.76768,     0.76768,      0.7549,      0.7549,      0.7549,      0.7549,      0.7549,     0.73585,     0.73585,     0.73585,     0.73585,     0.73585,     0.73585,     0.70536,     0.70536,     0.70536,\n",
      "            0.70536,     0.70536,     0.66116,     0.66116,     0.66116,     0.66116,     0.66116,     0.65854,     0.65854,     0.65854,     0.65854,     0.65854,       0.656,       0.656,       0.656,       0.656,       0.656,       0.656,     0.63359,     0.63359,     0.63359,     0.63359,     0.63359,\n",
      "            0.62222,     0.62222,     0.62222,     0.62222,     0.62222,     0.61151,     0.61151,     0.61151,     0.61151,     0.61151,     0.60563,     0.60563,     0.60563,     0.60563,     0.60563,     0.60563,     0.57237,     0.57237,     0.57237,     0.57237,     0.57237,     0.56774,     0.56774,\n",
      "            0.56774,     0.56774,     0.56774,     0.56604,     0.56604,     0.56604,     0.56604,     0.56604,     0.56604,     0.56604,     0.56604,     0.56604,     0.56604,     0.56604,     0.56522,     0.56522,     0.56522,     0.56522,     0.56522,      0.5503,      0.5503,      0.5503,      0.5503,\n",
      "             0.5503,      0.5503,      0.5503,      0.5503,      0.5503,      0.5503,     0.54651,     0.54651,     0.54651,     0.54651,     0.54651,     0.54651,      0.5163,      0.5163,      0.5163,      0.5163,      0.5163,      0.4949,      0.4949,      0.4949,      0.4949,      0.4949,      0.4949,\n",
      "             0.4949,      0.4949,      0.4949,      0.4949,      0.4949,     0.46759,     0.46759,     0.46759,     0.46759,     0.46759,     0.46759,     0.46759,     0.46759,     0.46759,     0.46759,     0.46759,     0.46759,     0.46759,     0.46759,     0.46759,     0.46759,     0.46759,     0.46759,\n",
      "            0.46759,     0.46759,     0.46759,      0.4574,      0.4574,      0.4574,      0.4574,      0.4574,     0.44589,     0.44589,     0.44589,     0.44589,     0.44589,     0.41502,     0.41502,     0.41502,     0.41502,     0.41502,     0.41502,     0.41502,     0.41502,     0.41502,     0.41502,\n",
      "            0.41502,     0.41406,     0.41406,     0.41406,     0.41406,     0.41406,     0.41313,     0.41313,     0.41313,     0.41313,     0.41313,     0.36242,     0.36242,     0.36242,     0.36242,     0.36242,     0.34936,     0.34936,     0.34936,     0.34936,     0.34936,     0.34936,     0.34375,\n",
      "            0.34375,     0.34375,     0.34375,     0.34375,     0.34154,     0.34154,     0.34154,     0.34154,     0.34154,     0.29551,     0.29551,     0.29551,     0.29551,     0.29551,     0.28974,     0.28974,     0.28974,     0.28974,     0.28974,     0.28974,     0.28715,     0.28715,     0.28715,\n",
      "            0.28715,     0.28715,     0.28193,     0.28193,     0.28193,     0.28193,     0.28193,     0.28193,     0.28193,     0.28193,     0.28193,     0.28193,     0.28193,     0.28193,     0.28193,     0.28193,     0.28193,     0.28193,     0.27107,     0.27107,     0.27107,     0.27107,     0.27107,\n",
      "            0.27107,     0.27107,     0.27107,     0.27107,     0.27107,     0.26144,     0.26144,     0.26144,     0.26144,     0.26144,       0.258,       0.258,       0.258,       0.258,       0.258,       0.258,      0.2547,      0.2547,      0.2547,      0.2547,      0.2547,     0.24213,     0.24213,\n",
      "            0.24213,     0.24213,     0.24213,     0.23221,     0.23221,     0.23221,     0.23221,     0.23221,     0.22645,     0.22645,     0.22645,     0.22645,     0.22645,     0.22645,     0.22067,     0.22067,     0.22067,     0.22067,     0.22067,     0.19844,     0.19844,     0.19844,     0.19844,\n",
      "            0.19844,     0.18907,     0.18907,     0.18907,     0.18907,     0.18907,     0.18907,     0.18696,     0.18696,     0.18696,     0.18696,     0.18696,     0.18362,     0.18362,     0.18362,     0.18362,     0.18362,     0.16645,     0.16645,     0.16645,     0.16645,     0.16645,     0.15796,\n",
      "            0.15796,     0.15796,     0.15796,     0.15796,     0.15796,     0.15796,     0.15796,     0.15796,     0.15796,     0.15796,      0.1421,      0.1421,      0.1421,      0.1421,      0.1421,     0.11578,     0.11578,     0.11578,     0.11578,     0.11578,     0.11467,     0.11467,     0.11467,\n",
      "            0.11467,     0.11467,     0.11467,     0.10942,     0.10942,     0.10942,     0.10942,     0.10942,    0.094327,    0.094327,    0.094327,    0.094327,    0.094327,    0.091207,    0.091207,    0.091207,    0.091207,    0.091207,    0.062222,    0.062222,    0.062222,    0.062222,    0.062222,\n",
      "           0.062222,    0.054064,    0.054064,    0.054064,    0.054064,    0.054064,    0.052244,    0.052244,    0.052244,    0.052244,    0.052244,    0.039039,    0.039039,    0.039039,    0.039039,    0.039039,     0.03321,     0.03321,     0.03321,     0.03321,     0.03321,     0.03321,    0.031563,\n",
      "           0.031563,    0.031563,    0.031563,    0.031563,    0.030582,    0.030582,    0.030582,    0.030582,    0.030582,    0.027308,    0.027308,    0.027308,    0.027308,    0.027308,    0.019592,    0.019506,    0.019419,    0.019332,    0.019245,    0.019159,    0.019072,    0.018985,    0.018899,\n",
      "           0.018812,    0.018725,    0.018639,    0.018552,    0.018465,    0.018379,    0.018292,    0.018205,    0.018118,    0.018032,    0.017945,    0.017858,    0.017772,    0.017685,    0.017598,    0.017512,    0.017425,    0.017338,    0.017252,    0.017165,    0.017078,    0.016992,    0.016905,\n",
      "           0.016818,    0.016731,    0.016645,    0.016558,    0.016471,    0.016385,    0.016298,    0.016211,    0.016125,    0.016038,    0.015951,    0.015865,    0.015778,    0.015691,    0.015604,    0.015518,    0.015431,    0.015344,    0.015258,    0.015171,    0.015084,    0.014998,    0.014911,\n",
      "           0.014824,    0.014738,    0.014651,    0.014564,    0.014477,    0.014391,    0.014304,    0.014217,    0.014131,    0.014044,    0.013957,    0.013871,    0.013784,    0.013697,    0.013611,    0.013524,    0.013437,     0.01335,    0.013264,    0.013177,     0.01309,    0.013004,    0.012917,\n",
      "            0.01283,    0.012744,    0.012657,     0.01257,    0.012484,    0.012397,     0.01231,    0.012223,    0.012137,     0.01205,    0.011963,    0.011877,     0.01179,    0.011703,    0.011617,     0.01153,    0.011443,    0.011357,     0.01127,    0.011183,    0.011096,     0.01101,    0.010923,\n",
      "           0.010836,     0.01075,    0.010663,    0.010576,     0.01049,    0.010403,    0.010316,     0.01023,    0.010143,    0.010056,   0.0099695,   0.0098828,   0.0097961,   0.0097094,   0.0096227,    0.009536,   0.0094494,   0.0093627,    0.009276,   0.0091893,   0.0091026,   0.0090159,   0.0089292,\n",
      "          0.0088425,   0.0087558,   0.0086691,   0.0085824,   0.0084958,   0.0084091,   0.0083224,   0.0082357,    0.008149,   0.0080623,   0.0079756,   0.0078889,   0.0078022,   0.0077155,   0.0076288,   0.0075421,   0.0074555,   0.0073688,   0.0072821,   0.0071954,   0.0071087,    0.007022,   0.0069353,\n",
      "          0.0068486,   0.0067619,   0.0066752,   0.0065885,   0.0065019,   0.0064152,   0.0063285,   0.0062418,   0.0061551,   0.0060684,   0.0059817,    0.005895,   0.0058083,   0.0057216,   0.0056349,   0.0055482,   0.0054616,   0.0053749,   0.0052882,   0.0052015,   0.0051148,   0.0050281,   0.0049414,\n",
      "          0.0048547,    0.004768,   0.0046813,   0.0045946,   0.0045079,   0.0044213,   0.0043346,   0.0042479,   0.0041612,   0.0040745,   0.0039878,   0.0039011,   0.0038144,   0.0037277,    0.003641,   0.0035543,   0.0034677,    0.003381,   0.0032943,   0.0032076,   0.0031209,   0.0030342,   0.0029475,\n",
      "          0.0028608,   0.0027741,   0.0026874,   0.0026007,    0.002514,   0.0024274,   0.0023407,    0.002254,   0.0021673,   0.0020806,   0.0019939,   0.0019072,   0.0018205,   0.0017338,   0.0016471,   0.0015604,   0.0014738,   0.0013871,   0.0013004,   0.0012137,    0.001127,   0.0010403,   0.0009536,\n",
      "         0.00086691,  0.00078022,  0.00069353,  0.00060684,  0.00052015,  0.00043346,  0.00034677,  0.00026007,  0.00017338,  8.6691e-05,           0]]), 'Recall', 'Precision'], [array([          0,    0.001001,    0.002002,    0.003003,    0.004004,    0.005005,    0.006006,    0.007007,    0.008008,    0.009009,     0.01001,    0.011011,    0.012012,    0.013013,    0.014014,    0.015015,    0.016016,    0.017017,    0.018018,    0.019019,     0.02002,    0.021021,    0.022022,    0.023023,\n",
      "          0.024024,    0.025025,    0.026026,    0.027027,    0.028028,    0.029029,     0.03003,    0.031031,    0.032032,    0.033033,    0.034034,    0.035035,    0.036036,    0.037037,    0.038038,    0.039039,     0.04004,    0.041041,    0.042042,    0.043043,    0.044044,    0.045045,    0.046046,    0.047047,\n",
      "          0.048048,    0.049049,     0.05005,    0.051051,    0.052052,    0.053053,    0.054054,    0.055055,    0.056056,    0.057057,    0.058058,    0.059059,     0.06006,    0.061061,    0.062062,    0.063063,    0.064064,    0.065065,    0.066066,    0.067067,    0.068068,    0.069069,     0.07007,    0.071071,\n",
      "          0.072072,    0.073073,    0.074074,    0.075075,    0.076076,    0.077077,    0.078078,    0.079079,     0.08008,    0.081081,    0.082082,    0.083083,    0.084084,    0.085085,    0.086086,    0.087087,    0.088088,    0.089089,     0.09009,    0.091091,    0.092092,    0.093093,    0.094094,    0.095095,\n",
      "          0.096096,    0.097097,    0.098098,    0.099099,      0.1001,      0.1011,      0.1021,      0.1031,      0.1041,     0.10511,     0.10611,     0.10711,     0.10811,     0.10911,     0.11011,     0.11111,     0.11211,     0.11311,     0.11411,     0.11512,     0.11612,     0.11712,     0.11812,     0.11912,\n",
      "           0.12012,     0.12112,     0.12212,     0.12312,     0.12412,     0.12513,     0.12613,     0.12713,     0.12813,     0.12913,     0.13013,     0.13113,     0.13213,     0.13313,     0.13413,     0.13514,     0.13614,     0.13714,     0.13814,     0.13914,     0.14014,     0.14114,     0.14214,     0.14314,\n",
      "           0.14414,     0.14515,     0.14615,     0.14715,     0.14815,     0.14915,     0.15015,     0.15115,     0.15215,     0.15315,     0.15415,     0.15516,     0.15616,     0.15716,     0.15816,     0.15916,     0.16016,     0.16116,     0.16216,     0.16316,     0.16416,     0.16517,     0.16617,     0.16717,\n",
      "           0.16817,     0.16917,     0.17017,     0.17117,     0.17217,     0.17317,     0.17417,     0.17518,     0.17618,     0.17718,     0.17818,     0.17918,     0.18018,     0.18118,     0.18218,     0.18318,     0.18418,     0.18519,     0.18619,     0.18719,     0.18819,     0.18919,     0.19019,     0.19119,\n",
      "           0.19219,     0.19319,     0.19419,      0.1952,      0.1962,      0.1972,      0.1982,      0.1992,      0.2002,      0.2012,      0.2022,      0.2032,      0.2042,     0.20521,     0.20621,     0.20721,     0.20821,     0.20921,     0.21021,     0.21121,     0.21221,     0.21321,     0.21421,     0.21522,\n",
      "           0.21622,     0.21722,     0.21822,     0.21922,     0.22022,     0.22122,     0.22222,     0.22322,     0.22422,     0.22523,     0.22623,     0.22723,     0.22823,     0.22923,     0.23023,     0.23123,     0.23223,     0.23323,     0.23423,     0.23524,     0.23624,     0.23724,     0.23824,     0.23924,\n",
      "           0.24024,     0.24124,     0.24224,     0.24324,     0.24424,     0.24525,     0.24625,     0.24725,     0.24825,     0.24925,     0.25025,     0.25125,     0.25225,     0.25325,     0.25425,     0.25526,     0.25626,     0.25726,     0.25826,     0.25926,     0.26026,     0.26126,     0.26226,     0.26326,\n",
      "           0.26426,     0.26527,     0.26627,     0.26727,     0.26827,     0.26927,     0.27027,     0.27127,     0.27227,     0.27327,     0.27427,     0.27528,     0.27628,     0.27728,     0.27828,     0.27928,     0.28028,     0.28128,     0.28228,     0.28328,     0.28428,     0.28529,     0.28629,     0.28729,\n",
      "           0.28829,     0.28929,     0.29029,     0.29129,     0.29229,     0.29329,     0.29429,      0.2953,      0.2963,      0.2973,      0.2983,      0.2993,      0.3003,      0.3013,      0.3023,      0.3033,      0.3043,     0.30531,     0.30631,     0.30731,     0.30831,     0.30931,     0.31031,     0.31131,\n",
      "           0.31231,     0.31331,     0.31431,     0.31532,     0.31632,     0.31732,     0.31832,     0.31932,     0.32032,     0.32132,     0.32232,     0.32332,     0.32432,     0.32533,     0.32633,     0.32733,     0.32833,     0.32933,     0.33033,     0.33133,     0.33233,     0.33333,     0.33433,     0.33534,\n",
      "           0.33634,     0.33734,     0.33834,     0.33934,     0.34034,     0.34134,     0.34234,     0.34334,     0.34434,     0.34535,     0.34635,     0.34735,     0.34835,     0.34935,     0.35035,     0.35135,     0.35235,     0.35335,     0.35435,     0.35536,     0.35636,     0.35736,     0.35836,     0.35936,\n",
      "           0.36036,     0.36136,     0.36236,     0.36336,     0.36436,     0.36537,     0.36637,     0.36737,     0.36837,     0.36937,     0.37037,     0.37137,     0.37237,     0.37337,     0.37437,     0.37538,     0.37638,     0.37738,     0.37838,     0.37938,     0.38038,     0.38138,     0.38238,     0.38338,\n",
      "           0.38438,     0.38539,     0.38639,     0.38739,     0.38839,     0.38939,     0.39039,     0.39139,     0.39239,     0.39339,     0.39439,      0.3954,      0.3964,      0.3974,      0.3984,      0.3994,      0.4004,      0.4014,      0.4024,      0.4034,      0.4044,     0.40541,     0.40641,     0.40741,\n",
      "           0.40841,     0.40941,     0.41041,     0.41141,     0.41241,     0.41341,     0.41441,     0.41542,     0.41642,     0.41742,     0.41842,     0.41942,     0.42042,     0.42142,     0.42242,     0.42342,     0.42442,     0.42543,     0.42643,     0.42743,     0.42843,     0.42943,     0.43043,     0.43143,\n",
      "           0.43243,     0.43343,     0.43443,     0.43544,     0.43644,     0.43744,     0.43844,     0.43944,     0.44044,     0.44144,     0.44244,     0.44344,     0.44444,     0.44545,     0.44645,     0.44745,     0.44845,     0.44945,     0.45045,     0.45145,     0.45245,     0.45345,     0.45445,     0.45546,\n",
      "           0.45646,     0.45746,     0.45846,     0.45946,     0.46046,     0.46146,     0.46246,     0.46346,     0.46446,     0.46547,     0.46647,     0.46747,     0.46847,     0.46947,     0.47047,     0.47147,     0.47247,     0.47347,     0.47447,     0.47548,     0.47648,     0.47748,     0.47848,     0.47948,\n",
      "           0.48048,     0.48148,     0.48248,     0.48348,     0.48448,     0.48549,     0.48649,     0.48749,     0.48849,     0.48949,     0.49049,     0.49149,     0.49249,     0.49349,     0.49449,      0.4955,      0.4965,      0.4975,      0.4985,      0.4995,      0.5005,      0.5015,      0.5025,      0.5035,\n",
      "            0.5045,     0.50551,     0.50651,     0.50751,     0.50851,     0.50951,     0.51051,     0.51151,     0.51251,     0.51351,     0.51451,     0.51552,     0.51652,     0.51752,     0.51852,     0.51952,     0.52052,     0.52152,     0.52252,     0.52352,     0.52452,     0.52553,     0.52653,     0.52753,\n",
      "           0.52853,     0.52953,     0.53053,     0.53153,     0.53253,     0.53353,     0.53453,     0.53554,     0.53654,     0.53754,     0.53854,     0.53954,     0.54054,     0.54154,     0.54254,     0.54354,     0.54454,     0.54555,     0.54655,     0.54755,     0.54855,     0.54955,     0.55055,     0.55155,\n",
      "           0.55255,     0.55355,     0.55455,     0.55556,     0.55656,     0.55756,     0.55856,     0.55956,     0.56056,     0.56156,     0.56256,     0.56356,     0.56456,     0.56557,     0.56657,     0.56757,     0.56857,     0.56957,     0.57057,     0.57157,     0.57257,     0.57357,     0.57457,     0.57558,\n",
      "           0.57658,     0.57758,     0.57858,     0.57958,     0.58058,     0.58158,     0.58258,     0.58358,     0.58458,     0.58559,     0.58659,     0.58759,     0.58859,     0.58959,     0.59059,     0.59159,     0.59259,     0.59359,     0.59459,      0.5956,      0.5966,      0.5976,      0.5986,      0.5996,\n",
      "            0.6006,      0.6016,      0.6026,      0.6036,      0.6046,     0.60561,     0.60661,     0.60761,     0.60861,     0.60961,     0.61061,     0.61161,     0.61261,     0.61361,     0.61461,     0.61562,     0.61662,     0.61762,     0.61862,     0.61962,     0.62062,     0.62162,     0.62262,     0.62362,\n",
      "           0.62462,     0.62563,     0.62663,     0.62763,     0.62863,     0.62963,     0.63063,     0.63163,     0.63263,     0.63363,     0.63463,     0.63564,     0.63664,     0.63764,     0.63864,     0.63964,     0.64064,     0.64164,     0.64264,     0.64364,     0.64464,     0.64565,     0.64665,     0.64765,\n",
      "           0.64865,     0.64965,     0.65065,     0.65165,     0.65265,     0.65365,     0.65465,     0.65566,     0.65666,     0.65766,     0.65866,     0.65966,     0.66066,     0.66166,     0.66266,     0.66366,     0.66466,     0.66567,     0.66667,     0.66767,     0.66867,     0.66967,     0.67067,     0.67167,\n",
      "           0.67267,     0.67367,     0.67467,     0.67568,     0.67668,     0.67768,     0.67868,     0.67968,     0.68068,     0.68168,     0.68268,     0.68368,     0.68468,     0.68569,     0.68669,     0.68769,     0.68869,     0.68969,     0.69069,     0.69169,     0.69269,     0.69369,     0.69469,      0.6957,\n",
      "            0.6967,      0.6977,      0.6987,      0.6997,      0.7007,      0.7017,      0.7027,      0.7037,      0.7047,     0.70571,     0.70671,     0.70771,     0.70871,     0.70971,     0.71071,     0.71171,     0.71271,     0.71371,     0.71471,     0.71572,     0.71672,     0.71772,     0.71872,     0.71972,\n",
      "           0.72072,     0.72172,     0.72272,     0.72372,     0.72472,     0.72573,     0.72673,     0.72773,     0.72873,     0.72973,     0.73073,     0.73173,     0.73273,     0.73373,     0.73473,     0.73574,     0.73674,     0.73774,     0.73874,     0.73974,     0.74074,     0.74174,     0.74274,     0.74374,\n",
      "           0.74474,     0.74575,     0.74675,     0.74775,     0.74875,     0.74975,     0.75075,     0.75175,     0.75275,     0.75375,     0.75475,     0.75576,     0.75676,     0.75776,     0.75876,     0.75976,     0.76076,     0.76176,     0.76276,     0.76376,     0.76476,     0.76577,     0.76677,     0.76777,\n",
      "           0.76877,     0.76977,     0.77077,     0.77177,     0.77277,     0.77377,     0.77477,     0.77578,     0.77678,     0.77778,     0.77878,     0.77978,     0.78078,     0.78178,     0.78278,     0.78378,     0.78478,     0.78579,     0.78679,     0.78779,     0.78879,     0.78979,     0.79079,     0.79179,\n",
      "           0.79279,     0.79379,     0.79479,      0.7958,      0.7968,      0.7978,      0.7988,      0.7998,      0.8008,      0.8018,      0.8028,      0.8038,      0.8048,     0.80581,     0.80681,     0.80781,     0.80881,     0.80981,     0.81081,     0.81181,     0.81281,     0.81381,     0.81481,     0.81582,\n",
      "           0.81682,     0.81782,     0.81882,     0.81982,     0.82082,     0.82182,     0.82282,     0.82382,     0.82482,     0.82583,     0.82683,     0.82783,     0.82883,     0.82983,     0.83083,     0.83183,     0.83283,     0.83383,     0.83483,     0.83584,     0.83684,     0.83784,     0.83884,     0.83984,\n",
      "           0.84084,     0.84184,     0.84284,     0.84384,     0.84484,     0.84585,     0.84685,     0.84785,     0.84885,     0.84985,     0.85085,     0.85185,     0.85285,     0.85385,     0.85485,     0.85586,     0.85686,     0.85786,     0.85886,     0.85986,     0.86086,     0.86186,     0.86286,     0.86386,\n",
      "           0.86486,     0.86587,     0.86687,     0.86787,     0.86887,     0.86987,     0.87087,     0.87187,     0.87287,     0.87387,     0.87487,     0.87588,     0.87688,     0.87788,     0.87888,     0.87988,     0.88088,     0.88188,     0.88288,     0.88388,     0.88488,     0.88589,     0.88689,     0.88789,\n",
      "           0.88889,     0.88989,     0.89089,     0.89189,     0.89289,     0.89389,     0.89489,      0.8959,      0.8969,      0.8979,      0.8989,      0.8999,      0.9009,      0.9019,      0.9029,      0.9039,      0.9049,     0.90591,     0.90691,     0.90791,     0.90891,     0.90991,     0.91091,     0.91191,\n",
      "           0.91291,     0.91391,     0.91491,     0.91592,     0.91692,     0.91792,     0.91892,     0.91992,     0.92092,     0.92192,     0.92292,     0.92392,     0.92492,     0.92593,     0.92693,     0.92793,     0.92893,     0.92993,     0.93093,     0.93193,     0.93293,     0.93393,     0.93493,     0.93594,\n",
      "           0.93694,     0.93794,     0.93894,     0.93994,     0.94094,     0.94194,     0.94294,     0.94394,     0.94494,     0.94595,     0.94695,     0.94795,     0.94895,     0.94995,     0.95095,     0.95195,     0.95295,     0.95395,     0.95495,     0.95596,     0.95696,     0.95796,     0.95896,     0.95996,\n",
      "           0.96096,     0.96196,     0.96296,     0.96396,     0.96496,     0.96597,     0.96697,     0.96797,     0.96897,     0.96997,     0.97097,     0.97197,     0.97297,     0.97397,     0.97497,     0.97598,     0.97698,     0.97798,     0.97898,     0.97998,     0.98098,     0.98198,     0.98298,     0.98398,\n",
      "           0.98498,     0.98599,     0.98699,     0.98799,     0.98899,     0.98999,     0.99099,     0.99199,     0.99299,     0.99399,     0.99499,       0.996,       0.997,       0.998,       0.999,           1]), array([[   0.038231,    0.038231,    0.038231,    0.039221,    0.043633,       0.052,    0.061157,    0.070657,     0.08059,    0.091057,    0.099424,     0.10686,     0.11445,     0.12228,     0.12989,     0.13584,     0.14146,      0.1471,     0.15401,     0.15873,      0.1627,     0.16656,     0.17006,\n",
      "            0.17506,     0.17857,     0.18359,     0.18807,     0.19081,     0.19543,     0.19734,     0.19905,     0.20468,     0.20946,     0.21425,     0.21883,     0.22191,     0.22519,     0.22896,     0.23493,     0.23728,     0.24257,     0.24659,     0.25006,     0.25261,     0.25665,     0.25609,\n",
      "            0.26074,     0.26348,     0.26556,     0.26686,     0.26918,     0.27288,     0.27662,     0.27886,     0.28099,     0.28459,     0.28679,     0.28915,     0.29127,     0.29132,     0.29411,     0.29539,     0.29839,     0.30032,     0.30257,     0.30423,     0.30528,     0.30916,     0.31223,\n",
      "            0.31503,      0.3176,     0.32147,     0.32289,     0.32496,     0.32821,     0.32935,     0.33037,      0.3307,     0.33176,      0.3329,     0.33488,     0.33591,     0.33864,     0.34026,     0.34181,      0.3416,     0.34433,     0.34738,     0.35143,     0.35018,     0.35275,     0.35559,\n",
      "            0.35758,     0.36068,     0.36348,     0.36238,     0.36484,     0.36704,     0.36881,     0.36845,     0.36996,     0.37301,      0.3757,     0.37697,     0.37513,     0.37382,     0.37891,     0.38225,     0.38375,     0.38661,     0.38236,     0.38221,     0.38334,     0.38178,     0.38324,\n",
      "            0.38458,     0.38605,     0.38791,     0.38568,     0.38683,     0.38796,     0.38902,     0.38788,      0.3891,        0.39,     0.39107,       0.392,     0.39348,     0.39149,     0.39309,     0.39352,     0.39481,     0.39583,     0.39718,     0.39747,     0.39776,     0.39899,     0.39968,\n",
      "            0.40107,     0.40442,     0.40475,     0.40508,     0.40837,     0.40941,     0.41031,     0.41055,     0.41076,     0.41097,     0.41175,      0.4128,     0.41529,     0.41592,     0.41631,     0.41756,     0.41947,     0.42007,     0.42135,     0.42254,     0.42578,     0.42752,     0.43004,\n",
      "            0.43047,     0.43053,     0.43198,     0.43267,     0.43349,     0.43419,     0.43148,     0.43312,     0.43504,     0.43618,     0.43735,     0.43934,     0.44027,     0.44126,     0.44131,     0.43957,     0.44081,     0.44257,     0.44516,     0.44577,     0.44712,     0.44761,     0.44898,\n",
      "            0.45009,     0.45184,     0.45285,     0.45753,      0.4585,     0.45903,     0.46069,     0.46379,     0.46438,     0.46463,     0.46487,     0.46511,      0.4655,     0.46602,     0.46781,     0.47059,      0.4723,     0.47471,     0.47592,     0.47639,     0.47382,     0.47469,     0.47524,\n",
      "            0.47244,     0.47387,     0.47134,     0.47038,     0.46844,     0.46979,     0.47268,     0.47471,     0.47513,     0.47555,     0.47643,     0.47894,     0.48066,     0.48268,     0.48328,     0.48394,     0.48467,      0.4864,     0.48748,     0.48924,     0.49092,     0.49209,     0.49351,\n",
      "            0.49159,     0.49328,     0.49416,     0.49496,     0.49651,     0.49326,     0.49183,     0.49041,     0.49069,     0.48962,     0.48855,     0.48765,     0.48796,     0.48691,     0.48765,     0.48809,     0.48853,     0.48973,     0.49119,     0.49139,     0.49159,      0.4918,       0.492,\n",
      "             0.4922,     0.49242,     0.49275,     0.49308,     0.49342,     0.49521,     0.49744,     0.49905,      0.4999,     0.50126,      0.4996,     0.49686,     0.49608,      0.4966,     0.49711,     0.49756,     0.49794,     0.49832,     0.49877,     0.50049,     0.50183,     0.50372,     0.50434,\n",
      "            0.50472,     0.50509,     0.50545,     0.50577,     0.50609,     0.50641,      0.5068,     0.50753,     0.50739,     0.50546,     0.50465,     0.50558,     0.50586,     0.50614,     0.50642,      0.5067,     0.50867,     0.50976,     0.51028,     0.51079,     0.51121,     0.51161,       0.512,\n",
      "            0.51533,     0.51804,     0.51835,     0.51865,     0.51895,     0.51926,      0.5178,     0.51571,     0.51716,     0.51439,     0.51072,      0.5099,     0.51003,     0.51016,     0.51028,     0.51041,     0.51054,     0.51067,      0.5108,     0.51093,     0.51106,     0.51118,     0.51435,\n",
      "            0.51485,     0.51536,     0.51578,     0.51614,      0.5165,     0.51686,     0.51751,     0.51848,     0.51501,      0.5153,     0.51509,     0.51405,     0.51301,     0.51196,     0.51062,     0.50904,     0.50746,     0.50767,     0.50821,     0.50886,     0.50997,     0.50709,     0.50825,\n",
      "            0.50672,     0.50519,      0.5045,      0.5047,      0.5049,     0.50511,     0.50531,     0.50551,     0.50571,     0.50731,       0.512,     0.51217,     0.51233,      0.5125,     0.51266,     0.51282,     0.51299,     0.51315,     0.51332,     0.51379,     0.51498,     0.51543,     0.51587,\n",
      "            0.51631,     0.51687,     0.51751,     0.51799,     0.51734,     0.51669,     0.51604,     0.51539,     0.51474,     0.51409,     0.51373,     0.51425,     0.51478,     0.51536,     0.51607,     0.51644,     0.51312,      0.5138,     0.51431,     0.51482,     0.51532,     0.51643,     0.51628,\n",
      "            0.51513,     0.51398,     0.51282,     0.51558,     0.51607,     0.51657,     0.51706,      0.5133,     0.51306,     0.51375,     0.51462,     0.51569,     0.51702,     0.51961,      0.5205,     0.51701,     0.51619,     0.51443,     0.51286,     0.51329,     0.51371,     0.51414,     0.50976,\n",
      "            0.51031,     0.51087,     0.51149,     0.51239,     0.51336,     0.51449,      0.5166,     0.51734,     0.51804,     0.51817,     0.51831,     0.51844,     0.51858,     0.51871,     0.51884,     0.51898,     0.51911,     0.51924,     0.51938,     0.51951,     0.51964,     0.51997,     0.52076,\n",
      "            0.52151,     0.52197,     0.52242,     0.52287,     0.52293,     0.52215,     0.52137,     0.52059,     0.51981,     0.51903,     0.51838,     0.52067,     0.52181,       0.523,     0.52403,     0.52493,     0.52539,      0.5256,     0.52582,     0.52603,     0.52625,     0.52646,     0.52667,\n",
      "            0.52689,     0.52468,     0.52273,     0.52384,     0.52494,     0.52614,     0.52681,     0.52273,     0.52427,     0.52569,     0.52508,     0.52447,     0.52386,     0.52325,     0.52264,     0.52203,     0.52141,     0.52085,     0.52124,     0.52162,       0.522,     0.52238,     0.52152,\n",
      "            0.51783,     0.51677,     0.51598,     0.51519,      0.5144,     0.51361,     0.51282,     0.51145,     0.50888,     0.50728,     0.50811,     0.50901,     0.51056,     0.50965,      0.5086,     0.50756,     0.50651,     0.50546,     0.50481,     0.50421,     0.50361,       0.503,      0.5024,\n",
      "             0.5018,      0.5012,      0.5006,     0.49998,     0.49783,     0.49567,     0.49313,     0.49022,     0.48978,     0.49066,     0.49287,     0.49307,     0.49326,     0.49346,     0.49366,     0.49385,     0.49405,     0.49424,     0.49444,     0.49199,     0.49067,     0.49007,     0.48946,\n",
      "            0.48886,     0.48825,     0.48764,     0.48704,     0.48643,     0.48582,     0.47997,     0.48076,     0.47906,     0.47736,     0.47615,     0.47612,     0.47313,     0.47149,     0.47079,     0.47009,     0.46939,     0.46869,     0.46799,     0.46729,     0.46658,     0.46518,     0.46277,\n",
      "            0.46038,     0.46082,     0.46125,     0.46168,      0.4621,     0.46266,     0.46322,     0.46377,     0.46256,     0.46092,     0.45928,     0.45705,      0.4529,     0.45152,      0.4508,     0.45008,     0.44935,     0.44863,      0.4479,     0.44718,     0.44645,     0.44572,     0.44499,\n",
      "            0.44425,     0.44352,     0.44279,     0.44205,     0.44131,     0.44058,     0.44053,     0.44142,     0.44076,     0.43856,     0.43636,      0.4361,     0.43322,      0.4249,     0.41897,     0.42007,     0.42033,      0.4197,     0.41906,     0.41843,     0.41779,     0.41715,     0.41652,\n",
      "            0.41588,     0.41524,     0.41461,     0.41332,     0.41158,     0.40984,     0.40809,     0.40518,      0.4022,     0.39921,     0.39622,     0.39558,     0.39622,     0.39678,     0.39695,     0.39711,     0.39727,     0.39744,      0.3976,     0.39776,     0.39792,     0.39808,     0.39824,\n",
      "             0.3982,     0.39715,     0.39609,     0.39503,     0.39397,      0.3929,     0.39184,     0.38997,     0.38809,     0.38621,     0.38373,     0.38063,     0.37807,     0.37654,     0.37501,     0.37348,     0.37194,     0.37149,     0.37107,     0.37065,     0.37022,      0.3698,     0.36938,\n",
      "            0.36895,     0.36853,     0.36811,     0.36768,     0.36726,     0.36684,     0.36641,     0.36599,     0.36556,     0.36513,     0.36396,      0.3628,     0.36164,     0.36047,     0.35931,     0.35058,     0.34424,      0.3437,     0.34316,     0.34262,     0.34208,     0.34154,       0.341,\n",
      "            0.34046,     0.33992,     0.33938,     0.33884,     0.33829,     0.33775,     0.33719,     0.33661,     0.33604,     0.33546,     0.33489,     0.33431,     0.33373,     0.33316,     0.33258,       0.332,     0.33142,     0.33084,      0.3295,     0.32711,     0.32471,     0.32357,     0.32394,\n",
      "             0.3243,     0.32466,     0.31536,     0.31048,     0.31086,     0.31124,      0.3116,     0.30834,     0.30381,     0.29721,     0.29571,     0.29442,     0.29313,     0.29184,     0.29055,     0.28909,     0.28682,     0.28455,     0.28227,     0.27569,     0.27327,     0.27196,     0.27065,\n",
      "            0.26933,     0.26802,      0.2667,     0.26697,     0.26727,     0.26757,     0.26779,     0.26383,      0.2589,     0.25079,      0.2486,      0.2464,     0.24396,     0.23826,     0.23577,     0.23487,     0.23398,     0.23309,     0.23219,      0.2313,      0.2304,      0.2295,      0.2286,\n",
      "             0.2248,     0.22026,     0.22089,     0.22087,      0.2202,     0.21954,     0.21887,      0.2182,     0.21754,     0.21687,      0.2162,     0.21553,     0.21486,     0.21419,     0.21353,     0.21255,     0.20997,     0.20739,      0.2048,     0.20371,     0.20271,     0.20171,     0.20071,\n",
      "            0.19971,     0.19871,      0.1977,      0.1967,     0.19514,     0.19315,     0.19116,     0.18917,      0.1874,     0.18615,      0.1849,     0.18365,     0.18239,     0.18113,     0.17987,      0.1776,     0.17433,     0.17104,     0.16702,     0.16288,     0.16107,     0.15998,     0.15889,\n",
      "            0.15779,      0.1567,      0.1556,     0.15451,     0.15341,     0.15381,     0.15086,     0.14775,     0.14483,     0.14371,      0.1426,     0.14148,     0.14036,     0.13924,     0.13812,       0.137,     0.13577,     0.13183,     0.12786,     0.12492,     0.12233,     0.11974,     0.11743,\n",
      "            0.11632,     0.11522,     0.11411,     0.11299,     0.11188,     0.11077,     0.10966,     0.10854,     0.10437,    0.099649,    0.099464,    0.089642,     0.08803,    0.086415,    0.084798,    0.083178,    0.081556,    0.080116,     0.07913,    0.078142,    0.077154,    0.076164,    0.075174,\n",
      "           0.074183,    0.073191,    0.072198,    0.071204,    0.070315,     0.06953,    0.068744,    0.067958,    0.067171,    0.066384,    0.065596,    0.064808,    0.064019,    0.063229,    0.062439,    0.061649,    0.060818,    0.059463,    0.058106,    0.056748,    0.055389,    0.054028,    0.052665,\n",
      "             0.0513,    0.047339,    0.042692,     0.04067,    0.040118,    0.039564,    0.039011,    0.038457,    0.037903,    0.037349,    0.036795,     0.03624,    0.035686,    0.035131,    0.034575,     0.03402,    0.033464,    0.032908,    0.032352,    0.031795,    0.031238,    0.030796,    0.030498,\n",
      "           0.030201,    0.029903,    0.029605,    0.029307,    0.029009,    0.028711,    0.028413,    0.028115,    0.027816,    0.027518,     0.02722,    0.026921,    0.026623,    0.026325,    0.026026,    0.025727,    0.025429,     0.02513,    0.024831,    0.024532,    0.024233,    0.023934,    0.023635,\n",
      "           0.023336,    0.023037,    0.022737,    0.022438,    0.022139,    0.021839,    0.021539,     0.02124,     0.02094,    0.020728,    0.020736,    0.020744,    0.020751,    0.020758,    0.020765,    0.020771,    0.020777,    0.020783,    0.020788,    0.020794,    0.020799,    0.020804,    0.020809,\n",
      "           0.020813,    0.020818,    0.020822,    0.020826,     0.02083,    0.018853,           0,           0,           0,           0,           0,           0,           0,           0,           0,           0,           0,           0,           0,           0,           0,           0,           0,\n",
      "                  0,           0,           0,           0,           0,           0,           0,           0,           0,           0,           0,           0,           0,           0,           0,           0,           0,           0,           0,           0,           0,           0,           0,\n",
      "                  0,           0,           0,           0,           0,           0,           0,           0,           0,           0,           0,           0,           0,           0,           0,           0,           0,           0,           0,           0,           0,           0,           0,\n",
      "                  0,           0,           0,           0,           0,           0,           0,           0,           0,           0,           0]]), 'Confidence', 'F1'], [array([          0,    0.001001,    0.002002,    0.003003,    0.004004,    0.005005,    0.006006,    0.007007,    0.008008,    0.009009,     0.01001,    0.011011,    0.012012,    0.013013,    0.014014,    0.015015,    0.016016,    0.017017,    0.018018,    0.019019,     0.02002,    0.021021,    0.022022,    0.023023,\n",
      "          0.024024,    0.025025,    0.026026,    0.027027,    0.028028,    0.029029,     0.03003,    0.031031,    0.032032,    0.033033,    0.034034,    0.035035,    0.036036,    0.037037,    0.038038,    0.039039,     0.04004,    0.041041,    0.042042,    0.043043,    0.044044,    0.045045,    0.046046,    0.047047,\n",
      "          0.048048,    0.049049,     0.05005,    0.051051,    0.052052,    0.053053,    0.054054,    0.055055,    0.056056,    0.057057,    0.058058,    0.059059,     0.06006,    0.061061,    0.062062,    0.063063,    0.064064,    0.065065,    0.066066,    0.067067,    0.068068,    0.069069,     0.07007,    0.071071,\n",
      "          0.072072,    0.073073,    0.074074,    0.075075,    0.076076,    0.077077,    0.078078,    0.079079,     0.08008,    0.081081,    0.082082,    0.083083,    0.084084,    0.085085,    0.086086,    0.087087,    0.088088,    0.089089,     0.09009,    0.091091,    0.092092,    0.093093,    0.094094,    0.095095,\n",
      "          0.096096,    0.097097,    0.098098,    0.099099,      0.1001,      0.1011,      0.1021,      0.1031,      0.1041,     0.10511,     0.10611,     0.10711,     0.10811,     0.10911,     0.11011,     0.11111,     0.11211,     0.11311,     0.11411,     0.11512,     0.11612,     0.11712,     0.11812,     0.11912,\n",
      "           0.12012,     0.12112,     0.12212,     0.12312,     0.12412,     0.12513,     0.12613,     0.12713,     0.12813,     0.12913,     0.13013,     0.13113,     0.13213,     0.13313,     0.13413,     0.13514,     0.13614,     0.13714,     0.13814,     0.13914,     0.14014,     0.14114,     0.14214,     0.14314,\n",
      "           0.14414,     0.14515,     0.14615,     0.14715,     0.14815,     0.14915,     0.15015,     0.15115,     0.15215,     0.15315,     0.15415,     0.15516,     0.15616,     0.15716,     0.15816,     0.15916,     0.16016,     0.16116,     0.16216,     0.16316,     0.16416,     0.16517,     0.16617,     0.16717,\n",
      "           0.16817,     0.16917,     0.17017,     0.17117,     0.17217,     0.17317,     0.17417,     0.17518,     0.17618,     0.17718,     0.17818,     0.17918,     0.18018,     0.18118,     0.18218,     0.18318,     0.18418,     0.18519,     0.18619,     0.18719,     0.18819,     0.18919,     0.19019,     0.19119,\n",
      "           0.19219,     0.19319,     0.19419,      0.1952,      0.1962,      0.1972,      0.1982,      0.1992,      0.2002,      0.2012,      0.2022,      0.2032,      0.2042,     0.20521,     0.20621,     0.20721,     0.20821,     0.20921,     0.21021,     0.21121,     0.21221,     0.21321,     0.21421,     0.21522,\n",
      "           0.21622,     0.21722,     0.21822,     0.21922,     0.22022,     0.22122,     0.22222,     0.22322,     0.22422,     0.22523,     0.22623,     0.22723,     0.22823,     0.22923,     0.23023,     0.23123,     0.23223,     0.23323,     0.23423,     0.23524,     0.23624,     0.23724,     0.23824,     0.23924,\n",
      "           0.24024,     0.24124,     0.24224,     0.24324,     0.24424,     0.24525,     0.24625,     0.24725,     0.24825,     0.24925,     0.25025,     0.25125,     0.25225,     0.25325,     0.25425,     0.25526,     0.25626,     0.25726,     0.25826,     0.25926,     0.26026,     0.26126,     0.26226,     0.26326,\n",
      "           0.26426,     0.26527,     0.26627,     0.26727,     0.26827,     0.26927,     0.27027,     0.27127,     0.27227,     0.27327,     0.27427,     0.27528,     0.27628,     0.27728,     0.27828,     0.27928,     0.28028,     0.28128,     0.28228,     0.28328,     0.28428,     0.28529,     0.28629,     0.28729,\n",
      "           0.28829,     0.28929,     0.29029,     0.29129,     0.29229,     0.29329,     0.29429,      0.2953,      0.2963,      0.2973,      0.2983,      0.2993,      0.3003,      0.3013,      0.3023,      0.3033,      0.3043,     0.30531,     0.30631,     0.30731,     0.30831,     0.30931,     0.31031,     0.31131,\n",
      "           0.31231,     0.31331,     0.31431,     0.31532,     0.31632,     0.31732,     0.31832,     0.31932,     0.32032,     0.32132,     0.32232,     0.32332,     0.32432,     0.32533,     0.32633,     0.32733,     0.32833,     0.32933,     0.33033,     0.33133,     0.33233,     0.33333,     0.33433,     0.33534,\n",
      "           0.33634,     0.33734,     0.33834,     0.33934,     0.34034,     0.34134,     0.34234,     0.34334,     0.34434,     0.34535,     0.34635,     0.34735,     0.34835,     0.34935,     0.35035,     0.35135,     0.35235,     0.35335,     0.35435,     0.35536,     0.35636,     0.35736,     0.35836,     0.35936,\n",
      "           0.36036,     0.36136,     0.36236,     0.36336,     0.36436,     0.36537,     0.36637,     0.36737,     0.36837,     0.36937,     0.37037,     0.37137,     0.37237,     0.37337,     0.37437,     0.37538,     0.37638,     0.37738,     0.37838,     0.37938,     0.38038,     0.38138,     0.38238,     0.38338,\n",
      "           0.38438,     0.38539,     0.38639,     0.38739,     0.38839,     0.38939,     0.39039,     0.39139,     0.39239,     0.39339,     0.39439,      0.3954,      0.3964,      0.3974,      0.3984,      0.3994,      0.4004,      0.4014,      0.4024,      0.4034,      0.4044,     0.40541,     0.40641,     0.40741,\n",
      "           0.40841,     0.40941,     0.41041,     0.41141,     0.41241,     0.41341,     0.41441,     0.41542,     0.41642,     0.41742,     0.41842,     0.41942,     0.42042,     0.42142,     0.42242,     0.42342,     0.42442,     0.42543,     0.42643,     0.42743,     0.42843,     0.42943,     0.43043,     0.43143,\n",
      "           0.43243,     0.43343,     0.43443,     0.43544,     0.43644,     0.43744,     0.43844,     0.43944,     0.44044,     0.44144,     0.44244,     0.44344,     0.44444,     0.44545,     0.44645,     0.44745,     0.44845,     0.44945,     0.45045,     0.45145,     0.45245,     0.45345,     0.45445,     0.45546,\n",
      "           0.45646,     0.45746,     0.45846,     0.45946,     0.46046,     0.46146,     0.46246,     0.46346,     0.46446,     0.46547,     0.46647,     0.46747,     0.46847,     0.46947,     0.47047,     0.47147,     0.47247,     0.47347,     0.47447,     0.47548,     0.47648,     0.47748,     0.47848,     0.47948,\n",
      "           0.48048,     0.48148,     0.48248,     0.48348,     0.48448,     0.48549,     0.48649,     0.48749,     0.48849,     0.48949,     0.49049,     0.49149,     0.49249,     0.49349,     0.49449,      0.4955,      0.4965,      0.4975,      0.4985,      0.4995,      0.5005,      0.5015,      0.5025,      0.5035,\n",
      "            0.5045,     0.50551,     0.50651,     0.50751,     0.50851,     0.50951,     0.51051,     0.51151,     0.51251,     0.51351,     0.51451,     0.51552,     0.51652,     0.51752,     0.51852,     0.51952,     0.52052,     0.52152,     0.52252,     0.52352,     0.52452,     0.52553,     0.52653,     0.52753,\n",
      "           0.52853,     0.52953,     0.53053,     0.53153,     0.53253,     0.53353,     0.53453,     0.53554,     0.53654,     0.53754,     0.53854,     0.53954,     0.54054,     0.54154,     0.54254,     0.54354,     0.54454,     0.54555,     0.54655,     0.54755,     0.54855,     0.54955,     0.55055,     0.55155,\n",
      "           0.55255,     0.55355,     0.55455,     0.55556,     0.55656,     0.55756,     0.55856,     0.55956,     0.56056,     0.56156,     0.56256,     0.56356,     0.56456,     0.56557,     0.56657,     0.56757,     0.56857,     0.56957,     0.57057,     0.57157,     0.57257,     0.57357,     0.57457,     0.57558,\n",
      "           0.57658,     0.57758,     0.57858,     0.57958,     0.58058,     0.58158,     0.58258,     0.58358,     0.58458,     0.58559,     0.58659,     0.58759,     0.58859,     0.58959,     0.59059,     0.59159,     0.59259,     0.59359,     0.59459,      0.5956,      0.5966,      0.5976,      0.5986,      0.5996,\n",
      "            0.6006,      0.6016,      0.6026,      0.6036,      0.6046,     0.60561,     0.60661,     0.60761,     0.60861,     0.60961,     0.61061,     0.61161,     0.61261,     0.61361,     0.61461,     0.61562,     0.61662,     0.61762,     0.61862,     0.61962,     0.62062,     0.62162,     0.62262,     0.62362,\n",
      "           0.62462,     0.62563,     0.62663,     0.62763,     0.62863,     0.62963,     0.63063,     0.63163,     0.63263,     0.63363,     0.63463,     0.63564,     0.63664,     0.63764,     0.63864,     0.63964,     0.64064,     0.64164,     0.64264,     0.64364,     0.64464,     0.64565,     0.64665,     0.64765,\n",
      "           0.64865,     0.64965,     0.65065,     0.65165,     0.65265,     0.65365,     0.65465,     0.65566,     0.65666,     0.65766,     0.65866,     0.65966,     0.66066,     0.66166,     0.66266,     0.66366,     0.66466,     0.66567,     0.66667,     0.66767,     0.66867,     0.66967,     0.67067,     0.67167,\n",
      "           0.67267,     0.67367,     0.67467,     0.67568,     0.67668,     0.67768,     0.67868,     0.67968,     0.68068,     0.68168,     0.68268,     0.68368,     0.68468,     0.68569,     0.68669,     0.68769,     0.68869,     0.68969,     0.69069,     0.69169,     0.69269,     0.69369,     0.69469,      0.6957,\n",
      "            0.6967,      0.6977,      0.6987,      0.6997,      0.7007,      0.7017,      0.7027,      0.7037,      0.7047,     0.70571,     0.70671,     0.70771,     0.70871,     0.70971,     0.71071,     0.71171,     0.71271,     0.71371,     0.71471,     0.71572,     0.71672,     0.71772,     0.71872,     0.71972,\n",
      "           0.72072,     0.72172,     0.72272,     0.72372,     0.72472,     0.72573,     0.72673,     0.72773,     0.72873,     0.72973,     0.73073,     0.73173,     0.73273,     0.73373,     0.73473,     0.73574,     0.73674,     0.73774,     0.73874,     0.73974,     0.74074,     0.74174,     0.74274,     0.74374,\n",
      "           0.74474,     0.74575,     0.74675,     0.74775,     0.74875,     0.74975,     0.75075,     0.75175,     0.75275,     0.75375,     0.75475,     0.75576,     0.75676,     0.75776,     0.75876,     0.75976,     0.76076,     0.76176,     0.76276,     0.76376,     0.76476,     0.76577,     0.76677,     0.76777,\n",
      "           0.76877,     0.76977,     0.77077,     0.77177,     0.77277,     0.77377,     0.77477,     0.77578,     0.77678,     0.77778,     0.77878,     0.77978,     0.78078,     0.78178,     0.78278,     0.78378,     0.78478,     0.78579,     0.78679,     0.78779,     0.78879,     0.78979,     0.79079,     0.79179,\n",
      "           0.79279,     0.79379,     0.79479,      0.7958,      0.7968,      0.7978,      0.7988,      0.7998,      0.8008,      0.8018,      0.8028,      0.8038,      0.8048,     0.80581,     0.80681,     0.80781,     0.80881,     0.80981,     0.81081,     0.81181,     0.81281,     0.81381,     0.81481,     0.81582,\n",
      "           0.81682,     0.81782,     0.81882,     0.81982,     0.82082,     0.82182,     0.82282,     0.82382,     0.82482,     0.82583,     0.82683,     0.82783,     0.82883,     0.82983,     0.83083,     0.83183,     0.83283,     0.83383,     0.83483,     0.83584,     0.83684,     0.83784,     0.83884,     0.83984,\n",
      "           0.84084,     0.84184,     0.84284,     0.84384,     0.84484,     0.84585,     0.84685,     0.84785,     0.84885,     0.84985,     0.85085,     0.85185,     0.85285,     0.85385,     0.85485,     0.85586,     0.85686,     0.85786,     0.85886,     0.85986,     0.86086,     0.86186,     0.86286,     0.86386,\n",
      "           0.86486,     0.86587,     0.86687,     0.86787,     0.86887,     0.86987,     0.87087,     0.87187,     0.87287,     0.87387,     0.87487,     0.87588,     0.87688,     0.87788,     0.87888,     0.87988,     0.88088,     0.88188,     0.88288,     0.88388,     0.88488,     0.88589,     0.88689,     0.88789,\n",
      "           0.88889,     0.88989,     0.89089,     0.89189,     0.89289,     0.89389,     0.89489,      0.8959,      0.8969,      0.8979,      0.8989,      0.8999,      0.9009,      0.9019,      0.9029,      0.9039,      0.9049,     0.90591,     0.90691,     0.90791,     0.90891,     0.90991,     0.91091,     0.91191,\n",
      "           0.91291,     0.91391,     0.91491,     0.91592,     0.91692,     0.91792,     0.91892,     0.91992,     0.92092,     0.92192,     0.92292,     0.92392,     0.92492,     0.92593,     0.92693,     0.92793,     0.92893,     0.92993,     0.93093,     0.93193,     0.93293,     0.93393,     0.93493,     0.93594,\n",
      "           0.93694,     0.93794,     0.93894,     0.93994,     0.94094,     0.94194,     0.94294,     0.94394,     0.94494,     0.94595,     0.94695,     0.94795,     0.94895,     0.94995,     0.95095,     0.95195,     0.95295,     0.95395,     0.95495,     0.95596,     0.95696,     0.95796,     0.95896,     0.95996,\n",
      "           0.96096,     0.96196,     0.96296,     0.96396,     0.96496,     0.96597,     0.96697,     0.96797,     0.96897,     0.96997,     0.97097,     0.97197,     0.97297,     0.97397,     0.97497,     0.97598,     0.97698,     0.97798,     0.97898,     0.97998,     0.98098,     0.98198,     0.98298,     0.98398,\n",
      "           0.98498,     0.98599,     0.98699,     0.98799,     0.98899,     0.98999,     0.99099,     0.99199,     0.99299,     0.99399,     0.99499,       0.996,       0.997,       0.998,       0.999,           1]), array([[     0.0196,      0.0196,      0.0196,    0.020121,    0.022449,    0.026904,    0.031864,    0.037068,    0.042591,    0.048482,    0.053281,    0.057606,    0.062059,    0.066717,    0.071271,    0.074872,    0.078299,    0.081772,    0.086062,    0.089024,    0.091611,    0.094066,    0.096401,\n",
      "           0.099621,     0.10191,     0.10518,     0.10814,     0.11007,     0.11317,     0.11458,     0.11588,     0.11971,     0.12299,     0.12631,      0.1295,     0.13167,     0.13399,     0.13667,     0.14094,     0.14285,      0.1467,     0.14966,     0.15222,     0.15411,     0.15713,     0.15725,\n",
      "            0.16077,     0.16286,     0.16445,     0.16567,     0.16755,     0.17042,     0.17335,     0.17511,      0.1768,     0.17965,     0.18142,     0.18331,      0.1854,     0.18584,     0.18812,     0.18959,     0.19207,     0.19367,     0.19554,     0.19693,     0.19828,     0.20157,     0.20419,\n",
      "            0.20658,     0.20879,     0.21215,      0.2134,     0.21521,     0.21807,     0.21908,     0.22019,     0.22086,      0.2218,     0.22283,      0.2246,     0.22616,     0.22864,     0.23012,     0.23154,     0.23202,     0.23454,     0.23738,     0.24118,     0.24073,     0.24317,     0.24588,\n",
      "            0.24779,     0.25077,     0.25349,     0.25324,     0.25565,     0.25782,     0.26045,     0.26099,     0.26251,      0.2656,     0.26833,     0.26963,     0.26898,     0.26837,     0.27365,     0.27714,     0.27872,     0.28175,     0.27906,     0.27929,     0.28049,     0.27996,     0.28153,\n",
      "            0.28298,     0.28457,     0.28661,     0.28537,     0.28663,     0.28787,     0.28904,     0.28903,     0.29039,      0.2914,     0.29259,     0.29364,      0.2953,     0.29439,     0.29619,     0.29668,     0.29815,     0.29931,     0.30086,     0.30119,     0.30153,     0.30295,     0.30374,\n",
      "            0.30535,     0.30925,     0.30964,     0.31003,      0.3139,     0.31512,      0.3162,     0.31648,     0.31673,     0.31698,      0.3179,     0.31916,     0.32215,     0.32291,     0.32337,     0.32489,      0.3272,     0.32793,      0.3295,     0.33095,     0.33494,      0.3371,     0.34025,\n",
      "            0.34261,     0.34318,     0.34642,      0.3473,     0.34836,     0.34927,     0.34771,     0.34985,     0.35236,     0.35386,      0.3554,     0.35803,     0.35928,     0.36059,     0.36154,     0.36037,     0.36213,     0.36451,     0.36804,     0.36889,     0.37074,     0.37141,     0.37329,\n",
      "            0.37483,     0.37726,     0.37868,     0.38527,     0.38665,     0.38741,     0.38978,     0.39422,     0.39509,     0.39544,     0.39579,     0.39614,     0.39671,     0.39747,     0.40008,     0.40415,     0.40669,     0.41027,     0.41208,     0.41297,     0.41126,     0.41308,     0.41391,\n",
      "            0.41257,     0.41476,     0.41385,     0.41348,     0.41217,      0.4145,     0.41902,     0.42222,     0.42288,     0.42355,     0.42495,     0.42897,     0.43173,       0.435,     0.43597,     0.43705,     0.43824,     0.44107,     0.44286,     0.44576,     0.45224,     0.45422,     0.45665,\n",
      "             0.4572,     0.46012,     0.46166,     0.46307,     0.46579,     0.46473,     0.46378,     0.46282,     0.46437,     0.46365,     0.46293,     0.46242,      0.4639,     0.46538,     0.46674,     0.46754,     0.46834,     0.47056,     0.47326,     0.47364,     0.47402,     0.47439,     0.47477,\n",
      "            0.47515,     0.47555,     0.47617,     0.47679,     0.47741,     0.48078,       0.485,     0.48808,     0.48971,     0.49401,      0.4929,     0.49107,     0.49223,     0.49324,     0.49426,     0.49515,     0.49591,     0.49666,     0.49754,     0.50098,     0.50368,      0.5075,     0.50875,\n",
      "            0.50952,     0.51029,     0.51102,     0.51167,     0.51233,     0.51298,      0.5138,      0.5153,     0.51588,     0.51461,     0.51496,      0.5169,     0.51749,     0.51808,     0.51867,     0.51927,      0.5234,     0.52572,     0.52682,     0.52793,     0.52881,     0.52966,     0.53051,\n",
      "            0.53771,     0.54366,     0.54433,       0.545,     0.54566,     0.54633,     0.54552,     0.54417,     0.54817,     0.54789,      0.5455,     0.54512,     0.54542,     0.54571,     0.54601,      0.5463,      0.5466,     0.54689,     0.54719,     0.54748,     0.54778,     0.54807,      0.5554,\n",
      "            0.55658,     0.55776,     0.55875,     0.55959,     0.56044,     0.56128,     0.56282,     0.56514,     0.56297,     0.56494,     0.56561,     0.56494,     0.56427,     0.56359,     0.56273,      0.5617,     0.56068,     0.56164,     0.56298,     0.56456,      0.5673,     0.56576,     0.57203,\n",
      "            0.57104,     0.57005,     0.56979,     0.57031,     0.57082,     0.57134,     0.57186,     0.57238,      0.5729,     0.57703,      0.5893,     0.58974,     0.59017,     0.59061,     0.59105,     0.59148,     0.59192,     0.59236,     0.59279,     0.59406,     0.59726,     0.59846,     0.59965,\n",
      "            0.60085,     0.60235,     0.60411,     0.60558,     0.60517,     0.60477,     0.60436,     0.60396,     0.60355,     0.60314,      0.6032,     0.60465,     0.60611,     0.60772,      0.6097,     0.61134,     0.60927,     0.61324,      0.6147,     0.61615,     0.61761,     0.62079,     0.62183,\n",
      "            0.62112,     0.62041,      0.6197,     0.62894,     0.63042,      0.6319,     0.63338,     0.63126,     0.63248,     0.63457,     0.63723,     0.64054,     0.64463,     0.65276,     0.65592,     0.65673,     0.65772,     0.65669,     0.65585,     0.65726,     0.65867,     0.66008,      0.6586,\n",
      "            0.66046,     0.66233,     0.66441,     0.66746,     0.67078,     0.67464,     0.68193,     0.68452,     0.68698,     0.68746,     0.68793,      0.6884,     0.68887,     0.68934,     0.68982,     0.69029,     0.69076,     0.69123,     0.69171,     0.69218,     0.69265,     0.69382,     0.69665,\n",
      "            0.69933,     0.70097,     0.70261,     0.70425,     0.70522,      0.7048,     0.70438,     0.70396,     0.70353,     0.70311,      0.7031,     0.71159,     0.71586,     0.72037,     0.72426,     0.72773,      0.7295,     0.73033,     0.73116,     0.73199,     0.73282,     0.73365,     0.73447,\n",
      "             0.7353,     0.73467,     0.73607,     0.74052,      0.7449,     0.74979,     0.75462,     0.75409,     0.76056,     0.76756,     0.76727,     0.76699,     0.76671,     0.76642,     0.76614,     0.76586,     0.76557,      0.7654,     0.76706,     0.76872,     0.77038,     0.77204,     0.77268,\n",
      "            0.77099,      0.7705,     0.77014,     0.76977,      0.7694,     0.76904,     0.76867,     0.76803,     0.76682,     0.76705,     0.77083,     0.77499,     0.78223,     0.78216,     0.78169,     0.78122,     0.78075,     0.78027,     0.77998,      0.7797,     0.77943,     0.77915,     0.77888,\n",
      "             0.7786,     0.77833,     0.77805,     0.77777,     0.77677,     0.77577,     0.77458,     0.77321,      0.7756,        0.78,     0.79129,     0.79231,     0.79332,     0.79434,     0.79536,     0.79638,      0.7974,     0.79841,     0.79943,     0.79889,     0.80716,      0.8069,     0.80664,\n",
      "            0.80639,     0.80613,     0.80587,     0.80562,     0.80536,      0.8051,     0.80397,     0.81219,     0.81148,     0.81076,     0.81198,      0.8199,     0.81868,     0.81801,     0.81772,     0.81742,     0.81713,     0.81684,     0.81655,     0.81626,     0.81596,     0.81537,     0.81435,\n",
      "            0.81337,     0.81608,     0.81879,      0.8215,     0.82422,     0.82776,     0.83134,     0.83492,      0.8351,     0.83446,     0.83382,     0.83295,      0.8313,     0.83075,     0.83045,     0.83016,     0.82987,     0.82957,     0.82928,     0.82899,     0.82869,     0.82839,     0.82809,\n",
      "            0.82778,     0.82748,     0.82717,     0.82687,     0.82657,     0.82626,     0.82877,     0.83509,      0.8378,     0.83692,     0.83604,     0.84795,     0.84685,     0.84363,     0.84128,     0.85019,     0.85472,     0.85448,     0.85424,       0.854,     0.85376,     0.85352,     0.85328,\n",
      "            0.85304,      0.8528,     0.85256,     0.85206,     0.85139,     0.85071,     0.85004,     0.84888,     0.84769,     0.84648,     0.84526,     0.84866,     0.85458,     0.85987,     0.86141,     0.86295,     0.86448,     0.86602,     0.86756,      0.8691,     0.87063,     0.87217,     0.87371,\n",
      "            0.87494,     0.87457,      0.8742,     0.87383,     0.87347,      0.8731,     0.87273,     0.87206,     0.87139,     0.87071,     0.86981,     0.86867,     0.86772,     0.86714,     0.86656,     0.86598,      0.8654,     0.86522,     0.86506,     0.86489,     0.86473,     0.86456,      0.8644,\n",
      "            0.86423,     0.86407,      0.8639,     0.86373,     0.86357,      0.8634,     0.86324,     0.86307,     0.86291,     0.86274,     0.86227,      0.8618,     0.86133,     0.86086,     0.86039,     0.85676,     0.85403,     0.85379,     0.85355,     0.85331,     0.85307,     0.85283,     0.85259,\n",
      "            0.85235,     0.85211,     0.85187,     0.85163,     0.85139,     0.85115,      0.8509,     0.85063,     0.85037,      0.8501,     0.84984,     0.84957,     0.84931,     0.84904,     0.84877,     0.84851,     0.84824,     0.84798,     0.84734,      0.8462,     0.84506,     0.84674,     0.85176,\n",
      "            0.85678,      0.8618,     0.85944,     0.85929,      0.8651,     0.87091,     0.87672,     0.87666,     0.87477,     0.87191,     0.87124,     0.87065,     0.87007,     0.86949,     0.86891,     0.86824,     0.86717,     0.86609,     0.86502,     0.86178,     0.86056,     0.85988,      0.8592,\n",
      "            0.85852,     0.85784,     0.85716,     0.86335,     0.86972,     0.87609,     0.88232,      0.8805,     0.87821,     0.87425,     0.87313,     0.87201,     0.87076,     0.86769,     0.86632,     0.86581,      0.8653,     0.86479,     0.86428,     0.86377,     0.86326,     0.86275,     0.86224,\n",
      "            0.85993,     0.85949,     0.87909,     0.88872,     0.88837,     0.88802,     0.88768,     0.88733,     0.88698,     0.88664,     0.88629,     0.88594,      0.8856,     0.88525,     0.88491,     0.88438,     0.88295,     0.88152,     0.88008,     0.87944,     0.87884,     0.87824,     0.87765,\n",
      "            0.87705,     0.87645,     0.87586,     0.87526,     0.87428,       0.873,     0.87172,     0.87045,     0.86929,     0.86842,     0.86755,     0.86668,     0.86581,     0.86494,     0.86407,      0.8624,     0.85993,     0.85746,     0.85419,      0.8508,     0.84925,     0.84827,     0.84728,\n",
      "             0.8463,     0.84532,     0.84434,     0.84336,     0.84237,      0.8868,     0.88669,     0.88442,     0.88227,     0.88136,     0.88044,     0.87953,     0.87862,      0.8777,     0.87679,     0.87588,     0.87486,     0.87124,     0.86761,     0.86468,     0.86199,     0.85931,     0.85689,\n",
      "            0.85557,     0.85425,     0.85293,     0.85162,      0.8503,     0.84898,     0.84767,     0.84635,     0.84066,     0.83421,     0.90268,     0.89958,     0.89771,     0.89584,     0.89397,     0.89209,     0.89022,     0.88848,     0.88706,     0.88564,     0.88422,      0.8828,     0.88138,\n",
      "            0.87997,     0.87855,     0.87713,     0.87571,     0.87428,     0.87284,     0.87141,     0.86997,     0.86853,      0.8671,     0.86566,     0.86422,     0.86279,     0.86135,     0.85991,     0.85848,     0.85691,     0.85364,     0.85037,     0.84709,     0.84382,     0.84055,     0.83728,\n",
      "              0.834,     0.82102,     0.80554,     0.79823,     0.79549,     0.79274,     0.78999,     0.78725,      0.7845,     0.78175,       0.779,     0.77626,     0.77351,     0.77076,     0.76801,     0.76527,     0.76252,     0.75977,     0.75702,     0.75428,     0.75153,     0.74892,     0.74648,\n",
      "            0.74404,      0.7416,     0.73916,     0.73672,     0.73428,     0.73184,      0.7294,     0.72696,     0.72452,     0.72208,     0.71964,      0.7172,     0.71477,     0.71233,     0.70989,     0.70745,     0.70501,     0.70257,     0.70013,     0.69769,     0.69525,     0.69281,     0.69037,\n",
      "            0.68793,     0.68549,     0.68305,     0.68061,     0.67817,     0.67573,     0.67329,     0.67085,     0.66841,     0.67161,     0.68901,     0.70642,     0.72382,     0.74122,     0.75863,     0.77603,     0.79344,     0.81084,     0.82825,     0.84565,     0.86306,     0.88046,     0.89786,\n",
      "            0.91527,     0.93267,     0.95008,     0.96748,     0.98489,           1,           1,           1,           1,           1,           1,           1,           1,           1,           1,           1,           1,           1,           1,           1,           1,           1,           1,\n",
      "                  1,           1,           1,           1,           1,           1,           1,           1,           1,           1,           1,           1,           1,           1,           1,           1,           1,           1,           1,           1,           1,           1,           1,\n",
      "                  1,           1,           1,           1,           1,           1,           1,           1,           1,           1,           1,           1,           1,           1,           1,           1,           1,           1,           1,           1,           1,           1,           1,\n",
      "                  1,           1,           1,           1,           1,           1,           1,           1,           1,           1,           1]]), 'Confidence', 'Precision'], [array([          0,    0.001001,    0.002002,    0.003003,    0.004004,    0.005005,    0.006006,    0.007007,    0.008008,    0.009009,     0.01001,    0.011011,    0.012012,    0.013013,    0.014014,    0.015015,    0.016016,    0.017017,    0.018018,    0.019019,     0.02002,    0.021021,    0.022022,    0.023023,\n",
      "          0.024024,    0.025025,    0.026026,    0.027027,    0.028028,    0.029029,     0.03003,    0.031031,    0.032032,    0.033033,    0.034034,    0.035035,    0.036036,    0.037037,    0.038038,    0.039039,     0.04004,    0.041041,    0.042042,    0.043043,    0.044044,    0.045045,    0.046046,    0.047047,\n",
      "          0.048048,    0.049049,     0.05005,    0.051051,    0.052052,    0.053053,    0.054054,    0.055055,    0.056056,    0.057057,    0.058058,    0.059059,     0.06006,    0.061061,    0.062062,    0.063063,    0.064064,    0.065065,    0.066066,    0.067067,    0.068068,    0.069069,     0.07007,    0.071071,\n",
      "          0.072072,    0.073073,    0.074074,    0.075075,    0.076076,    0.077077,    0.078078,    0.079079,     0.08008,    0.081081,    0.082082,    0.083083,    0.084084,    0.085085,    0.086086,    0.087087,    0.088088,    0.089089,     0.09009,    0.091091,    0.092092,    0.093093,    0.094094,    0.095095,\n",
      "          0.096096,    0.097097,    0.098098,    0.099099,      0.1001,      0.1011,      0.1021,      0.1031,      0.1041,     0.10511,     0.10611,     0.10711,     0.10811,     0.10911,     0.11011,     0.11111,     0.11211,     0.11311,     0.11411,     0.11512,     0.11612,     0.11712,     0.11812,     0.11912,\n",
      "           0.12012,     0.12112,     0.12212,     0.12312,     0.12412,     0.12513,     0.12613,     0.12713,     0.12813,     0.12913,     0.13013,     0.13113,     0.13213,     0.13313,     0.13413,     0.13514,     0.13614,     0.13714,     0.13814,     0.13914,     0.14014,     0.14114,     0.14214,     0.14314,\n",
      "           0.14414,     0.14515,     0.14615,     0.14715,     0.14815,     0.14915,     0.15015,     0.15115,     0.15215,     0.15315,     0.15415,     0.15516,     0.15616,     0.15716,     0.15816,     0.15916,     0.16016,     0.16116,     0.16216,     0.16316,     0.16416,     0.16517,     0.16617,     0.16717,\n",
      "           0.16817,     0.16917,     0.17017,     0.17117,     0.17217,     0.17317,     0.17417,     0.17518,     0.17618,     0.17718,     0.17818,     0.17918,     0.18018,     0.18118,     0.18218,     0.18318,     0.18418,     0.18519,     0.18619,     0.18719,     0.18819,     0.18919,     0.19019,     0.19119,\n",
      "           0.19219,     0.19319,     0.19419,      0.1952,      0.1962,      0.1972,      0.1982,      0.1992,      0.2002,      0.2012,      0.2022,      0.2032,      0.2042,     0.20521,     0.20621,     0.20721,     0.20821,     0.20921,     0.21021,     0.21121,     0.21221,     0.21321,     0.21421,     0.21522,\n",
      "           0.21622,     0.21722,     0.21822,     0.21922,     0.22022,     0.22122,     0.22222,     0.22322,     0.22422,     0.22523,     0.22623,     0.22723,     0.22823,     0.22923,     0.23023,     0.23123,     0.23223,     0.23323,     0.23423,     0.23524,     0.23624,     0.23724,     0.23824,     0.23924,\n",
      "           0.24024,     0.24124,     0.24224,     0.24324,     0.24424,     0.24525,     0.24625,     0.24725,     0.24825,     0.24925,     0.25025,     0.25125,     0.25225,     0.25325,     0.25425,     0.25526,     0.25626,     0.25726,     0.25826,     0.25926,     0.26026,     0.26126,     0.26226,     0.26326,\n",
      "           0.26426,     0.26527,     0.26627,     0.26727,     0.26827,     0.26927,     0.27027,     0.27127,     0.27227,     0.27327,     0.27427,     0.27528,     0.27628,     0.27728,     0.27828,     0.27928,     0.28028,     0.28128,     0.28228,     0.28328,     0.28428,     0.28529,     0.28629,     0.28729,\n",
      "           0.28829,     0.28929,     0.29029,     0.29129,     0.29229,     0.29329,     0.29429,      0.2953,      0.2963,      0.2973,      0.2983,      0.2993,      0.3003,      0.3013,      0.3023,      0.3033,      0.3043,     0.30531,     0.30631,     0.30731,     0.30831,     0.30931,     0.31031,     0.31131,\n",
      "           0.31231,     0.31331,     0.31431,     0.31532,     0.31632,     0.31732,     0.31832,     0.31932,     0.32032,     0.32132,     0.32232,     0.32332,     0.32432,     0.32533,     0.32633,     0.32733,     0.32833,     0.32933,     0.33033,     0.33133,     0.33233,     0.33333,     0.33433,     0.33534,\n",
      "           0.33634,     0.33734,     0.33834,     0.33934,     0.34034,     0.34134,     0.34234,     0.34334,     0.34434,     0.34535,     0.34635,     0.34735,     0.34835,     0.34935,     0.35035,     0.35135,     0.35235,     0.35335,     0.35435,     0.35536,     0.35636,     0.35736,     0.35836,     0.35936,\n",
      "           0.36036,     0.36136,     0.36236,     0.36336,     0.36436,     0.36537,     0.36637,     0.36737,     0.36837,     0.36937,     0.37037,     0.37137,     0.37237,     0.37337,     0.37437,     0.37538,     0.37638,     0.37738,     0.37838,     0.37938,     0.38038,     0.38138,     0.38238,     0.38338,\n",
      "           0.38438,     0.38539,     0.38639,     0.38739,     0.38839,     0.38939,     0.39039,     0.39139,     0.39239,     0.39339,     0.39439,      0.3954,      0.3964,      0.3974,      0.3984,      0.3994,      0.4004,      0.4014,      0.4024,      0.4034,      0.4044,     0.40541,     0.40641,     0.40741,\n",
      "           0.40841,     0.40941,     0.41041,     0.41141,     0.41241,     0.41341,     0.41441,     0.41542,     0.41642,     0.41742,     0.41842,     0.41942,     0.42042,     0.42142,     0.42242,     0.42342,     0.42442,     0.42543,     0.42643,     0.42743,     0.42843,     0.42943,     0.43043,     0.43143,\n",
      "           0.43243,     0.43343,     0.43443,     0.43544,     0.43644,     0.43744,     0.43844,     0.43944,     0.44044,     0.44144,     0.44244,     0.44344,     0.44444,     0.44545,     0.44645,     0.44745,     0.44845,     0.44945,     0.45045,     0.45145,     0.45245,     0.45345,     0.45445,     0.45546,\n",
      "           0.45646,     0.45746,     0.45846,     0.45946,     0.46046,     0.46146,     0.46246,     0.46346,     0.46446,     0.46547,     0.46647,     0.46747,     0.46847,     0.46947,     0.47047,     0.47147,     0.47247,     0.47347,     0.47447,     0.47548,     0.47648,     0.47748,     0.47848,     0.47948,\n",
      "           0.48048,     0.48148,     0.48248,     0.48348,     0.48448,     0.48549,     0.48649,     0.48749,     0.48849,     0.48949,     0.49049,     0.49149,     0.49249,     0.49349,     0.49449,      0.4955,      0.4965,      0.4975,      0.4985,      0.4995,      0.5005,      0.5015,      0.5025,      0.5035,\n",
      "            0.5045,     0.50551,     0.50651,     0.50751,     0.50851,     0.50951,     0.51051,     0.51151,     0.51251,     0.51351,     0.51451,     0.51552,     0.51652,     0.51752,     0.51852,     0.51952,     0.52052,     0.52152,     0.52252,     0.52352,     0.52452,     0.52553,     0.52653,     0.52753,\n",
      "           0.52853,     0.52953,     0.53053,     0.53153,     0.53253,     0.53353,     0.53453,     0.53554,     0.53654,     0.53754,     0.53854,     0.53954,     0.54054,     0.54154,     0.54254,     0.54354,     0.54454,     0.54555,     0.54655,     0.54755,     0.54855,     0.54955,     0.55055,     0.55155,\n",
      "           0.55255,     0.55355,     0.55455,     0.55556,     0.55656,     0.55756,     0.55856,     0.55956,     0.56056,     0.56156,     0.56256,     0.56356,     0.56456,     0.56557,     0.56657,     0.56757,     0.56857,     0.56957,     0.57057,     0.57157,     0.57257,     0.57357,     0.57457,     0.57558,\n",
      "           0.57658,     0.57758,     0.57858,     0.57958,     0.58058,     0.58158,     0.58258,     0.58358,     0.58458,     0.58559,     0.58659,     0.58759,     0.58859,     0.58959,     0.59059,     0.59159,     0.59259,     0.59359,     0.59459,      0.5956,      0.5966,      0.5976,      0.5986,      0.5996,\n",
      "            0.6006,      0.6016,      0.6026,      0.6036,      0.6046,     0.60561,     0.60661,     0.60761,     0.60861,     0.60961,     0.61061,     0.61161,     0.61261,     0.61361,     0.61461,     0.61562,     0.61662,     0.61762,     0.61862,     0.61962,     0.62062,     0.62162,     0.62262,     0.62362,\n",
      "           0.62462,     0.62563,     0.62663,     0.62763,     0.62863,     0.62963,     0.63063,     0.63163,     0.63263,     0.63363,     0.63463,     0.63564,     0.63664,     0.63764,     0.63864,     0.63964,     0.64064,     0.64164,     0.64264,     0.64364,     0.64464,     0.64565,     0.64665,     0.64765,\n",
      "           0.64865,     0.64965,     0.65065,     0.65165,     0.65265,     0.65365,     0.65465,     0.65566,     0.65666,     0.65766,     0.65866,     0.65966,     0.66066,     0.66166,     0.66266,     0.66366,     0.66466,     0.66567,     0.66667,     0.66767,     0.66867,     0.66967,     0.67067,     0.67167,\n",
      "           0.67267,     0.67367,     0.67467,     0.67568,     0.67668,     0.67768,     0.67868,     0.67968,     0.68068,     0.68168,     0.68268,     0.68368,     0.68468,     0.68569,     0.68669,     0.68769,     0.68869,     0.68969,     0.69069,     0.69169,     0.69269,     0.69369,     0.69469,      0.6957,\n",
      "            0.6967,      0.6977,      0.6987,      0.6997,      0.7007,      0.7017,      0.7027,      0.7037,      0.7047,     0.70571,     0.70671,     0.70771,     0.70871,     0.70971,     0.71071,     0.71171,     0.71271,     0.71371,     0.71471,     0.71572,     0.71672,     0.71772,     0.71872,     0.71972,\n",
      "           0.72072,     0.72172,     0.72272,     0.72372,     0.72472,     0.72573,     0.72673,     0.72773,     0.72873,     0.72973,     0.73073,     0.73173,     0.73273,     0.73373,     0.73473,     0.73574,     0.73674,     0.73774,     0.73874,     0.73974,     0.74074,     0.74174,     0.74274,     0.74374,\n",
      "           0.74474,     0.74575,     0.74675,     0.74775,     0.74875,     0.74975,     0.75075,     0.75175,     0.75275,     0.75375,     0.75475,     0.75576,     0.75676,     0.75776,     0.75876,     0.75976,     0.76076,     0.76176,     0.76276,     0.76376,     0.76476,     0.76577,     0.76677,     0.76777,\n",
      "           0.76877,     0.76977,     0.77077,     0.77177,     0.77277,     0.77377,     0.77477,     0.77578,     0.77678,     0.77778,     0.77878,     0.77978,     0.78078,     0.78178,     0.78278,     0.78378,     0.78478,     0.78579,     0.78679,     0.78779,     0.78879,     0.78979,     0.79079,     0.79179,\n",
      "           0.79279,     0.79379,     0.79479,      0.7958,      0.7968,      0.7978,      0.7988,      0.7998,      0.8008,      0.8018,      0.8028,      0.8038,      0.8048,     0.80581,     0.80681,     0.80781,     0.80881,     0.80981,     0.81081,     0.81181,     0.81281,     0.81381,     0.81481,     0.81582,\n",
      "           0.81682,     0.81782,     0.81882,     0.81982,     0.82082,     0.82182,     0.82282,     0.82382,     0.82482,     0.82583,     0.82683,     0.82783,     0.82883,     0.82983,     0.83083,     0.83183,     0.83283,     0.83383,     0.83483,     0.83584,     0.83684,     0.83784,     0.83884,     0.83984,\n",
      "           0.84084,     0.84184,     0.84284,     0.84384,     0.84484,     0.84585,     0.84685,     0.84785,     0.84885,     0.84985,     0.85085,     0.85185,     0.85285,     0.85385,     0.85485,     0.85586,     0.85686,     0.85786,     0.85886,     0.85986,     0.86086,     0.86186,     0.86286,     0.86386,\n",
      "           0.86486,     0.86587,     0.86687,     0.86787,     0.86887,     0.86987,     0.87087,     0.87187,     0.87287,     0.87387,     0.87487,     0.87588,     0.87688,     0.87788,     0.87888,     0.87988,     0.88088,     0.88188,     0.88288,     0.88388,     0.88488,     0.88589,     0.88689,     0.88789,\n",
      "           0.88889,     0.88989,     0.89089,     0.89189,     0.89289,     0.89389,     0.89489,      0.8959,      0.8969,      0.8979,      0.8989,      0.8999,      0.9009,      0.9019,      0.9029,      0.9039,      0.9049,     0.90591,     0.90691,     0.90791,     0.90891,     0.90991,     0.91091,     0.91191,\n",
      "           0.91291,     0.91391,     0.91491,     0.91592,     0.91692,     0.91792,     0.91892,     0.91992,     0.92092,     0.92192,     0.92292,     0.92392,     0.92492,     0.92593,     0.92693,     0.92793,     0.92893,     0.92993,     0.93093,     0.93193,     0.93293,     0.93393,     0.93493,     0.93594,\n",
      "           0.93694,     0.93794,     0.93894,     0.93994,     0.94094,     0.94194,     0.94294,     0.94394,     0.94494,     0.94595,     0.94695,     0.94795,     0.94895,     0.94995,     0.95095,     0.95195,     0.95295,     0.95395,     0.95495,     0.95596,     0.95696,     0.95796,     0.95896,     0.95996,\n",
      "           0.96096,     0.96196,     0.96296,     0.96396,     0.96496,     0.96597,     0.96697,     0.96797,     0.96897,     0.96997,     0.97097,     0.97197,     0.97297,     0.97397,     0.97497,     0.97598,     0.97698,     0.97798,     0.97898,     0.97998,     0.98098,     0.98198,     0.98298,     0.98398,\n",
      "           0.98498,     0.98599,     0.98699,     0.98799,     0.98899,     0.98999,     0.99099,     0.99199,     0.99299,     0.99399,     0.99499,       0.996,       0.997,       0.998,       0.999,           1]), array([[    0.77368,     0.77368,     0.77368,     0.77368,     0.77368,     0.77368,     0.75789,     0.75263,     0.74737,     0.74737,     0.74211,     0.73684,     0.73478,     0.73158,     0.73158,     0.73158,     0.73158,     0.73158,     0.73158,     0.73158,     0.72632,     0.72632,     0.72105,\n",
      "            0.72105,     0.72105,     0.72105,     0.72105,     0.71579,     0.71579,     0.71053,     0.70526,     0.70526,     0.70526,     0.70526,     0.70526,     0.70526,     0.70526,     0.70526,     0.70526,         0.7,         0.7,         0.7,         0.7,         0.7,         0.7,     0.68947,\n",
      "            0.68947,     0.68947,     0.68947,     0.68559,     0.68421,     0.68421,     0.68421,     0.68421,     0.68421,     0.68421,     0.68421,     0.68421,     0.67895,     0.67368,     0.67368,     0.66842,     0.66842,     0.66842,     0.66842,     0.66842,     0.66316,     0.66316,     0.66316,\n",
      "            0.66316,     0.66316,     0.66316,     0.66316,     0.66316,     0.66316,     0.66316,     0.66132,     0.65789,     0.65789,     0.65789,     0.65789,     0.65263,     0.65263,     0.65263,     0.65263,     0.64737,     0.64737,     0.64737,     0.64737,     0.64211,     0.64211,     0.64211,\n",
      "            0.64211,     0.64211,     0.64211,     0.63684,     0.63684,     0.63684,     0.63158,     0.62632,     0.62632,     0.62632,     0.62632,     0.62632,      0.6197,     0.61579,     0.61579,     0.61579,     0.61579,     0.61579,      0.6071,     0.60526,     0.60526,         0.6,         0.6,\n",
      "                0.6,         0.6,         0.6,     0.59474,     0.59474,     0.59474,     0.59474,     0.58947,     0.58947,     0.58947,     0.58947,     0.58947,     0.58947,     0.58421,     0.58421,     0.58421,     0.58421,     0.58421,     0.58421,     0.58421,     0.58421,     0.58421,     0.58421,\n",
      "            0.58421,     0.58421,     0.58421,     0.58421,     0.58421,     0.58421,     0.58421,     0.58421,     0.58421,     0.58421,     0.58421,     0.58421,     0.58421,     0.58421,     0.58421,     0.58421,     0.58421,     0.58421,     0.58421,     0.58421,     0.58421,     0.58421,     0.58421,\n",
      "            0.57895,      0.5775,     0.57368,     0.57368,     0.57368,     0.57368,     0.56842,     0.56842,     0.56842,     0.56842,     0.56842,     0.56842,     0.56842,     0.56842,     0.56626,      0.5634,     0.56316,     0.56316,     0.56316,     0.56316,     0.56316,     0.56316,     0.56316,\n",
      "            0.56316,     0.56316,     0.56316,     0.56316,     0.56316,     0.56316,     0.56316,     0.56316,     0.56316,     0.56316,     0.56316,     0.56316,     0.56316,     0.56316,     0.56316,     0.56316,     0.56316,     0.56316,     0.56316,      0.5628,     0.55884,     0.55789,     0.55789,\n",
      "            0.55263,     0.55263,     0.54737,     0.54544,      0.5425,     0.54211,     0.54211,     0.54211,     0.54211,     0.54211,     0.54211,     0.54211,     0.54211,     0.54211,     0.54211,     0.54211,     0.54211,     0.54211,     0.54211,     0.54211,     0.53684,     0.53684,     0.53684,\n",
      "            0.53158,     0.53158,     0.53158,     0.53158,     0.53158,     0.52551,      0.5235,     0.52149,     0.52018,     0.51868,     0.51718,     0.51579,     0.51464,     0.51053,     0.51053,     0.51053,     0.51053,     0.51053,     0.51053,     0.51053,     0.51053,     0.51053,     0.51053,\n",
      "            0.51053,     0.51053,     0.51053,     0.51053,     0.51053,     0.51053,     0.51053,     0.51053,     0.51053,     0.50872,     0.50647,     0.50278,         0.5,         0.5,         0.5,         0.5,         0.5,         0.5,         0.5,         0.5,         0.5,         0.5,         0.5,\n",
      "                0.5,         0.5,         0.5,         0.5,         0.5,         0.5,         0.5,         0.5,     0.49916,     0.49662,     0.49474,     0.49474,     0.49474,     0.49474,     0.49474,     0.49474,     0.49474,     0.49474,     0.49474,     0.49474,     0.49474,     0.49474,     0.49474,\n",
      "            0.49474,     0.49474,     0.49474,     0.49474,     0.49474,     0.49474,     0.49277,     0.49008,     0.48947,     0.48474,      0.4801,     0.47895,     0.47895,     0.47895,     0.47895,     0.47895,     0.47895,     0.47895,     0.47895,     0.47895,     0.47895,     0.47895,     0.47895,\n",
      "            0.47895,     0.47895,     0.47895,     0.47895,     0.47895,     0.47895,     0.47895,     0.47895,     0.47459,     0.47368,     0.47286,     0.47158,     0.47029,       0.469,     0.46735,     0.46541,     0.46347,     0.46316,     0.46316,     0.46316,     0.46316,     0.45944,     0.45726,\n",
      "            0.45542,     0.45358,     0.45263,     0.45263,     0.45263,     0.45263,     0.45263,     0.45263,     0.45263,     0.45263,     0.45263,     0.45263,     0.45263,     0.45263,     0.45263,     0.45263,     0.45263,     0.45263,     0.45263,     0.45263,     0.45263,     0.45263,     0.45263,\n",
      "            0.45263,     0.45263,     0.45263,     0.45253,     0.45177,       0.451,     0.45024,     0.44947,     0.44871,     0.44794,     0.44737,     0.44737,     0.44737,     0.44737,     0.44737,     0.44704,     0.44318,     0.44211,     0.44211,     0.44211,     0.44211,     0.44211,     0.44137,\n",
      "            0.44004,     0.43872,     0.43739,     0.43684,     0.43684,     0.43684,     0.43684,     0.43249,     0.43158,     0.43158,     0.43158,     0.43158,     0.43158,     0.43158,     0.43143,     0.42632,     0.42478,     0.42284,     0.42105,     0.42105,     0.42105,     0.42105,     0.41579,\n",
      "            0.41579,     0.41579,     0.41579,     0.41579,     0.41579,     0.41579,     0.41579,     0.41579,     0.41579,     0.41579,     0.41579,     0.41579,     0.41579,     0.41579,     0.41579,     0.41579,     0.41579,     0.41579,     0.41579,     0.41579,     0.41579,     0.41579,     0.41579,\n",
      "            0.41579,     0.41579,     0.41579,     0.41579,     0.41552,     0.41468,     0.41385,     0.41301,     0.41218,     0.41134,     0.41053,     0.41053,     0.41053,     0.41053,     0.41053,     0.41053,     0.41053,     0.41053,     0.41053,     0.41053,     0.41053,     0.41053,     0.41053,\n",
      "            0.41053,     0.40805,     0.40526,     0.40526,     0.40526,     0.40526,     0.40465,         0.4,         0.4,     0.39973,     0.39911,     0.39848,     0.39785,     0.39722,     0.39659,     0.39596,     0.39533,     0.39474,     0.39474,     0.39474,     0.39474,     0.39474,     0.39359,\n",
      "            0.38983,     0.38875,     0.38795,     0.38715,     0.38635,     0.38555,     0.38475,     0.38338,     0.38079,     0.37895,     0.37895,     0.37895,     0.37895,     0.37796,     0.37692,     0.37588,     0.37484,      0.3738,     0.37316,     0.37257,     0.37197,     0.37138,     0.37079,\n",
      "            0.37019,      0.3696,     0.36901,      0.3684,     0.36629,     0.36418,      0.3617,     0.35888,     0.35789,     0.35789,     0.35789,     0.35789,     0.35789,     0.35789,     0.35789,     0.35789,     0.35789,     0.35789,     0.35789,     0.35544,     0.35247,      0.3519,     0.35132,\n",
      "            0.35075,     0.35017,     0.34959,     0.34902,     0.34844,     0.34787,     0.34211,     0.34143,     0.33984,     0.33826,     0.33684,     0.33546,      0.3327,      0.3312,     0.33055,     0.32991,     0.32927,     0.32863,     0.32798,     0.32734,      0.3267,     0.32542,     0.32322,\n",
      "            0.32105,     0.32105,     0.32105,     0.32105,     0.32105,     0.32105,     0.32105,     0.32105,     0.31987,     0.31839,     0.31692,     0.31493,     0.31123,     0.31001,     0.30937,     0.30873,     0.30809,     0.30745,     0.30681,     0.30617,     0.30552,     0.30488,     0.30424,\n",
      "            0.30359,     0.30295,      0.3023,     0.30166,     0.30102,     0.30037,         0.3,         0.3,     0.29904,     0.29713,     0.29522,     0.29353,     0.29105,     0.28396,     0.27895,     0.27895,     0.27869,     0.27816,     0.27763,      0.2771,     0.27656,     0.27603,      0.2755,\n",
      "            0.27497,     0.27444,      0.2739,     0.27283,     0.27139,     0.26994,      0.2685,      0.2661,     0.26365,      0.2612,     0.25876,     0.25789,     0.25789,     0.25789,     0.25789,     0.25789,     0.25789,     0.25789,     0.25789,     0.25789,     0.25789,     0.25789,     0.25789,\n",
      "            0.25776,      0.2569,     0.25605,      0.2552,     0.25434,     0.25349,     0.25263,     0.25114,     0.24964,     0.24814,     0.24617,     0.24371,     0.24169,     0.24048,     0.23928,     0.23808,     0.23687,     0.23652,     0.23619,     0.23586,     0.23553,      0.2352,     0.23487,\n",
      "            0.23454,     0.23421,     0.23388,     0.23355,     0.23322,     0.23289,     0.23256,     0.23223,      0.2319,     0.23156,     0.23066,     0.22976,     0.22886,     0.22797,     0.22707,     0.22038,     0.21556,     0.21516,     0.21475,     0.21434,     0.21393,     0.21353,     0.21312,\n",
      "            0.21271,     0.21231,      0.2119,     0.21149,     0.21108,     0.21068,     0.21025,     0.20982,     0.20939,     0.20896,     0.20853,      0.2081,     0.20767,     0.20724,     0.20681,     0.20637,     0.20594,     0.20551,     0.20451,     0.20274,     0.20096,         0.2,         0.2,\n",
      "                0.2,         0.2,     0.19311,     0.18947,     0.18947,     0.18947,     0.18947,     0.18707,     0.18383,     0.17914,     0.17808,     0.17717,     0.17626,     0.17535,     0.17444,     0.17342,     0.17183,     0.17024,     0.16865,     0.16409,     0.16242,     0.16152,     0.16062,\n",
      "            0.15972,     0.15882,     0.15792,     0.15789,     0.15789,     0.15789,     0.15785,     0.15516,     0.15183,     0.14639,     0.14493,     0.14347,     0.14185,     0.13809,     0.13645,     0.13587,     0.13528,      0.1347,     0.13411,     0.13353,     0.13294,     0.13236,     0.13177,\n",
      "             0.1293,     0.12632,     0.12632,      0.1261,     0.12568,     0.12525,     0.12482,      0.1244,     0.12397,     0.12354,     0.12312,     0.12269,     0.12226,     0.12184,     0.12141,     0.12079,     0.11915,     0.11752,     0.11588,      0.1152,     0.11457,     0.11394,     0.11331,\n",
      "            0.11268,     0.11206,     0.11143,      0.1108,     0.10983,     0.10859,     0.10735,     0.10612,     0.10502,     0.10425,     0.10348,      0.1027,     0.10193,     0.10116,     0.10038,    0.098995,    0.096995,    0.094995,    0.092561,    0.090062,    0.088973,    0.088318,    0.087664,\n",
      "           0.087009,    0.086354,    0.085699,    0.085044,     0.08439,    0.084211,    0.082442,    0.080611,    0.078888,    0.078234,    0.077581,    0.076927,    0.076274,     0.07562,    0.074967,    0.074313,    0.073598,    0.071307,    0.069017,    0.067323,    0.065838,    0.064353,    0.063035,\n",
      "           0.062404,    0.061773,    0.061142,    0.060512,    0.059881,     0.05925,    0.058619,    0.057988,    0.055638,     0.05299,    0.052632,    0.047171,    0.046284,    0.045397,     0.04451,    0.043623,    0.042736,     0.04195,    0.041412,    0.040874,    0.040337,    0.039799,    0.039261,\n",
      "           0.038724,    0.038186,    0.037648,    0.037111,     0.03663,    0.036207,    0.035783,     0.03536,    0.034936,    0.034513,     0.03409,    0.033666,    0.033243,    0.032819,    0.032396,    0.031972,    0.031528,    0.030804,    0.030081,    0.029358,    0.028634,    0.027911,    0.027187,\n",
      "           0.026464,    0.024372,    0.021927,    0.020867,    0.020578,    0.020288,    0.019999,     0.01971,    0.019421,    0.019132,    0.018842,    0.018553,    0.018264,    0.017975,    0.017686,    0.017397,    0.017107,    0.016818,    0.016529,     0.01624,    0.015951,    0.015721,    0.015567,\n",
      "           0.015413,    0.015259,    0.015105,    0.014951,    0.014797,    0.014643,    0.014489,    0.014335,     0.01418,    0.014026,    0.013872,    0.013718,    0.013564,     0.01341,    0.013256,    0.013102,    0.012948,    0.012794,     0.01264,    0.012486,    0.012332,    0.012177,    0.012023,\n",
      "           0.011869,    0.011715,    0.011561,    0.011407,    0.011253,    0.011099,    0.010945,    0.010791,    0.010637,    0.010526,    0.010526,    0.010526,    0.010526,    0.010526,    0.010526,    0.010526,    0.010526,    0.010526,    0.010526,    0.010526,    0.010526,    0.010526,    0.010526,\n",
      "           0.010526,    0.010526,    0.010526,    0.010526,    0.010526,    0.009516,           0,           0,           0,           0,           0,           0,           0,           0,           0,           0,           0,           0,           0,           0,           0,           0,           0,\n",
      "                  0,           0,           0,           0,           0,           0,           0,           0,           0,           0,           0,           0,           0,           0,           0,           0,           0,           0,           0,           0,           0,           0,           0,\n",
      "                  0,           0,           0,           0,           0,           0,           0,           0,           0,           0,           0,           0,           0,           0,           0,           0,           0,           0,           0,           0,           0,           0,           0,\n",
      "                  0,           0,           0,           0,           0,           0,           0,           0,           0,           0,           0]]), 'Confidence', 'Recall']]\n",
      "fitness: 0.5242457653535144\n",
      "keys: ['metrics/precision(B)', 'metrics/recall(B)', 'metrics/mAP50(B)', 'metrics/mAP50-95(B)', 'metrics/precision(M)', 'metrics/recall(M)', 'metrics/mAP50(M)', 'metrics/mAP50-95(M)']\n",
      "maps: array([     0.4597])\n",
      "names: {0: 'stigma'}\n",
      "plot: True\n",
      "results_dict: {'metrics/precision(B)': 0.6310890732091206, 'metrics/recall(B)': 0.5894736842105263, 'metrics/mAP50(B)': 0.6267163425144563, 'metrics/mAP50-95(B)': 0.33781404980652097, 'metrics/precision(M)': 0.6993265200642469, 'metrics/recall(M)': 0.41578947368421054, 'metrics/mAP50(M)': 0.4784032198781001, 'metrics/mAP50-95(M)': 0.12189018254265538, 'fitness': 0.5242457653535144}\n",
      "save_dir: PosixPath('/home/etaylor/code_projects/thesis/src/stigmas_detection/segmentation/yolo/runs/segment/train282')\n",
      "seg: ultralytics.utils.metrics.Metric object\n",
      "speed: {'preprocess': 0.9144878387451172, 'inference': 29.397850036621094, 'loss': 0.0073146820068359375, 'postprocess': 14.280614852905273}\n",
      "task: 'segment'\n",
      "Fine-tuned model saved to: /home/etaylor/code_projects/thesis/checkpoints/stigmas_segmentation/yolo/fine_tuned/yolov11n-seg_fine_tuned.pt\n",
      "Training model: yolov11s-seg\n",
      "Ultralytics 8.3.56 🚀 Python-3.9.19 torch-2.3.1+cu121 CUDA:0 (NVIDIA GeForce GTX 1080 Ti, 11165MiB)\n",
      "\u001b[34m\u001b[1mengine/trainer: \u001b[0mtask=segment, mode=train, model=/home/etaylor/code_projects/thesis/checkpoints/stigmas_segmentation/yolo/pre_trained/yolo11s-seg.pt, data=/home/etaylor/code_projects/thesis/src/stigmas_detection/segmentation/yolo/yaml/stigmas_dataset_yolo.yaml, epochs=50, time=None, patience=100, batch=2, imgsz=640, save=True, save_period=-1, cache=False, device=None, workers=8, project=None, name=train29, exist_ok=False, pretrained=True, optimizer=auto, verbose=True, seed=0, deterministic=True, single_cls=False, rect=False, cos_lr=False, close_mosaic=10, resume=False, amp=True, fraction=1.0, profile=False, freeze=None, multi_scale=False, overlap_mask=True, mask_ratio=4, dropout=0.0, val=True, split=val, save_json=False, save_hybrid=False, conf=None, iou=0.7, max_det=300, half=False, dnn=False, plots=True, source=None, vid_stride=1, stream_buffer=False, visualize=False, augment=False, agnostic_nms=False, classes=None, retina_masks=False, embed=None, show=False, save_frames=False, save_txt=False, save_conf=False, save_crop=False, show_labels=True, show_conf=True, show_boxes=True, line_width=None, format=torchscript, keras=False, optimize=False, int8=False, dynamic=False, simplify=True, opset=None, workspace=None, nms=False, lr0=0.01, lrf=0.01, momentum=0.937, weight_decay=0.0005, warmup_epochs=3.0, warmup_momentum=0.8, warmup_bias_lr=0.1, box=7.5, cls=0.5, dfl=1.5, pose=12.0, kobj=1.0, nbs=64, hsv_h=0.015, hsv_s=0.7, hsv_v=0.4, degrees=0.0, translate=0.1, scale=0.5, shear=0.0, perspective=0.0, flipud=0.0, fliplr=0.5, bgr=0.0, mosaic=1.0, mixup=0.0, copy_paste=0.0, copy_paste_mode=flip, auto_augment=randaugment, erasing=0.4, crop_fraction=1.0, cfg=None, tracker=botsort.yaml, save_dir=/home/etaylor/code_projects/thesis/src/stigmas_detection/segmentation/yolo/runs/segment/train29\n",
      "Overriding model.yaml nc=80 with nc=1\n",
      "\n",
      "                   from  n    params  module                                       arguments                     \n",
      "  0                  -1  1       928  ultralytics.nn.modules.conv.Conv             [3, 32, 3, 2]                 \n",
      "  1                  -1  1     18560  ultralytics.nn.modules.conv.Conv             [32, 64, 3, 2]                \n",
      "  2                  -1  1     26080  ultralytics.nn.modules.block.C3k2            [64, 128, 1, False, 0.25]     \n",
      "  3                  -1  1    147712  ultralytics.nn.modules.conv.Conv             [128, 128, 3, 2]              \n",
      "  4                  -1  1    103360  ultralytics.nn.modules.block.C3k2            [128, 256, 1, False, 0.25]    \n",
      "  5                  -1  1    590336  ultralytics.nn.modules.conv.Conv             [256, 256, 3, 2]              \n",
      "  6                  -1  1    346112  ultralytics.nn.modules.block.C3k2            [256, 256, 1, True]           \n",
      "  7                  -1  1   1180672  ultralytics.nn.modules.conv.Conv             [256, 512, 3, 2]              \n",
      "  8                  -1  1   1380352  ultralytics.nn.modules.block.C3k2            [512, 512, 1, True]           \n",
      "  9                  -1  1    656896  ultralytics.nn.modules.block.SPPF            [512, 512, 5]                 \n",
      " 10                  -1  1    990976  ultralytics.nn.modules.block.C2PSA           [512, 512, 1]                 \n",
      " 11                  -1  1         0  torch.nn.modules.upsampling.Upsample         [None, 2, 'nearest']          \n",
      " 12             [-1, 6]  1         0  ultralytics.nn.modules.conv.Concat           [1]                           \n",
      " 13                  -1  1    443776  ultralytics.nn.modules.block.C3k2            [768, 256, 1, False]          \n",
      " 14                  -1  1         0  torch.nn.modules.upsampling.Upsample         [None, 2, 'nearest']          \n",
      " 15             [-1, 4]  1         0  ultralytics.nn.modules.conv.Concat           [1]                           \n",
      " 16                  -1  1    127680  ultralytics.nn.modules.block.C3k2            [512, 128, 1, False]          \n",
      " 17                  -1  1    147712  ultralytics.nn.modules.conv.Conv             [128, 128, 3, 2]              \n",
      " 18            [-1, 13]  1         0  ultralytics.nn.modules.conv.Concat           [1]                           \n",
      " 19                  -1  1    345472  ultralytics.nn.modules.block.C3k2            [384, 256, 1, False]          \n",
      " 20                  -1  1    590336  ultralytics.nn.modules.conv.Conv             [256, 256, 3, 2]              \n",
      " 21            [-1, 10]  1         0  ultralytics.nn.modules.conv.Concat           [1]                           \n",
      " 22                  -1  1   1511424  ultralytics.nn.modules.block.C3k2            [768, 512, 1, True]           \n",
      " 23        [16, 19, 22]  1   1474291  ultralytics.nn.modules.head.Segment          [1, 32, 128, [128, 256, 512]] \n",
      "YOLO11s-seg summary: 355 layers, 10,082,675 parameters, 10,082,659 gradients, 35.6 GFLOPs\n",
      "\n",
      "Transferred 555/561 items from pretrained weights\n",
      "\u001b[34m\u001b[1mTensorBoard: \u001b[0mStart with 'tensorboard --logdir /home/etaylor/code_projects/thesis/src/stigmas_detection/segmentation/yolo/runs/segment/train29', view at http://localhost:6006/\n",
      "Freezing layer 'model.23.dfl.conv.weight'\n",
      "\u001b[34m\u001b[1mAMP: \u001b[0mrunning Automatic Mixed Precision (AMP) checks...\n",
      "\u001b[34m\u001b[1mAMP: \u001b[0mchecks passed ✅\n"
     ]
    },
    {
     "name": "stderr",
     "output_type": "stream",
     "text": [
      "\u001b[34m\u001b[1mtrain: \u001b[0mScanning /sise/home/etaylor/code_projects/thesis/segments/etaylor_stigmas_dataset/yolo_formatted/labels/train.cache... 87 images, 0 backgrounds, 0 corrupt: 100%|██████████| 87/87 [00:00<?, ?it/s]\n",
      "/home/etaylor/.conda/envs/detectron_fastai/lib/python3.9/site-packages/torch/utils/data/dataloader.py:558: UserWarning: This DataLoader will create 8 worker processes in total. Our suggested max number of worker in current system is 6, which is smaller than what this DataLoader is going to create. Please be aware that excessive worker creation might get DataLoader running slow or even freeze, lower the worker number to avoid potential slowness/freeze if necessary.\n",
      "  warnings.warn(_create_warning_msg(\n",
      "\u001b[34m\u001b[1mval: \u001b[0mScanning /sise/home/etaylor/code_projects/thesis/segments/etaylor_stigmas_dataset/yolo_formatted/labels/val.cache... 25 images, 0 backgrounds, 0 corrupt: 100%|██████████| 25/25 [00:00<?, ?it/s]\n",
      "/home/etaylor/.conda/envs/detectron_fastai/lib/python3.9/site-packages/torch/utils/data/dataloader.py:558: UserWarning: This DataLoader will create 12 worker processes in total. Our suggested max number of worker in current system is 6, which is smaller than what this DataLoader is going to create. Please be aware that excessive worker creation might get DataLoader running slow or even freeze, lower the worker number to avoid potential slowness/freeze if necessary.\n",
      "  warnings.warn(_create_warning_msg(\n"
     ]
    },
    {
     "name": "stdout",
     "output_type": "stream",
     "text": [
      "Plotting labels to /home/etaylor/code_projects/thesis/src/stigmas_detection/segmentation/yolo/runs/segment/train29/labels.jpg... \n",
      "\u001b[34m\u001b[1moptimizer:\u001b[0m 'optimizer=auto' found, ignoring 'lr0=0.01' and 'momentum=0.937' and determining best 'optimizer', 'lr0' and 'momentum' automatically... \n",
      "\u001b[34m\u001b[1moptimizer:\u001b[0m AdamW(lr=0.002, momentum=0.9) with parameter groups 90 weight(decay=0.0), 101 weight(decay=0.0005), 100 bias(decay=0.0)\n",
      "\u001b[34m\u001b[1mTensorBoard: \u001b[0mmodel graph visualization added ✅\n",
      "Image sizes 640 train, 640 val\n",
      "Using 8 dataloader workers\n",
      "Logging results to \u001b[1m/home/etaylor/code_projects/thesis/src/stigmas_detection/segmentation/yolo/runs/segment/train29\u001b[0m\n",
      "Starting training for 50 epochs...\n",
      "\n",
      "      Epoch    GPU_mem   box_loss   seg_loss   cls_loss   dfl_loss  Instances       Size\n"
     ]
    },
    {
     "name": "stderr",
     "output_type": "stream",
     "text": [
      "       1/50      1.29G      2.023      3.876      2.795      1.927         17        640: 100%|██████████| 44/44 [00:06<00:00,  6.31it/s]\n",
      "                 Class     Images  Instances      Box(P          R      mAP50  mAP50-95)     Mask(P          R      mAP50  mAP50-95): 100%|██████████| 7/7 [00:00<00:00,  9.42it/s]\n"
     ]
    },
    {
     "name": "stdout",
     "output_type": "stream",
     "text": [
      "                   all         25        190      0.191      0.222      0.112     0.0414     0.0863      0.126     0.0307    0.00731\n",
      "\n",
      "      Epoch    GPU_mem   box_loss   seg_loss   cls_loss   dfl_loss  Instances       Size\n"
     ]
    },
    {
     "name": "stderr",
     "output_type": "stream",
     "text": [
      "       2/50      1.23G      1.975      3.609       2.42      1.735         16        640: 100%|██████████| 44/44 [00:06<00:00,  7.33it/s]\n",
      "                 Class     Images  Instances      Box(P          R      mAP50  mAP50-95)     Mask(P          R      mAP50  mAP50-95): 100%|██████████| 7/7 [00:00<00:00,  9.74it/s]\n"
     ]
    },
    {
     "name": "stdout",
     "output_type": "stream",
     "text": [
      "                   all         25        190      0.199        0.3      0.126     0.0434     0.0731      0.147     0.0304     0.0056\n",
      "\n",
      "      Epoch    GPU_mem   box_loss   seg_loss   cls_loss   dfl_loss  Instances       Size\n"
     ]
    },
    {
     "name": "stderr",
     "output_type": "stream",
     "text": [
      "       3/50      1.17G      2.023      4.757      2.514      1.842         11        640: 100%|██████████| 44/44 [00:06<00:00,  7.23it/s]\n",
      "                 Class     Images  Instances      Box(P          R      mAP50  mAP50-95)     Mask(P          R      mAP50  mAP50-95): 100%|██████████| 7/7 [00:00<00:00,  9.59it/s]"
     ]
    },
    {
     "name": "stdout",
     "output_type": "stream",
     "text": [
      "                   all         25        190      0.181      0.311      0.132     0.0456    0.00631     0.0579    0.00146   0.000416\n"
     ]
    },
    {
     "name": "stderr",
     "output_type": "stream",
     "text": [
      "\n"
     ]
    },
    {
     "name": "stdout",
     "output_type": "stream",
     "text": [
      "\n",
      "      Epoch    GPU_mem   box_loss   seg_loss   cls_loss   dfl_loss  Instances       Size\n"
     ]
    },
    {
     "name": "stderr",
     "output_type": "stream",
     "text": [
      "       4/50      1.16G      2.105      5.499      2.756      1.923         17        640: 100%|██████████| 44/44 [00:06<00:00,  7.03it/s]\n",
      "                 Class     Images  Instances      Box(P          R      mAP50  mAP50-95)     Mask(P          R      mAP50  mAP50-95): 100%|██████████| 7/7 [00:00<00:00,  9.60it/s]"
     ]
    },
    {
     "name": "stdout",
     "output_type": "stream",
     "text": [
      "                   all         25        190     0.0678      0.126     0.0319    0.00956     0.0283     0.0421    0.00457   0.000958\n"
     ]
    },
    {
     "name": "stderr",
     "output_type": "stream",
     "text": [
      "\n"
     ]
    },
    {
     "name": "stdout",
     "output_type": "stream",
     "text": [
      "\n",
      "      Epoch    GPU_mem   box_loss   seg_loss   cls_loss   dfl_loss  Instances       Size\n"
     ]
    },
    {
     "name": "stderr",
     "output_type": "stream",
     "text": [
      "       5/50      1.16G      2.286      4.029      2.751      2.055          9        640: 100%|██████████| 44/44 [00:05<00:00,  7.45it/s]\n",
      "                 Class     Images  Instances      Box(P          R      mAP50  mAP50-95)     Mask(P          R      mAP50  mAP50-95): 100%|██████████| 7/7 [00:00<00:00,  9.99it/s]"
     ]
    },
    {
     "name": "stdout",
     "output_type": "stream",
     "text": [
      "                   all         25        190      0.101      0.253     0.0651     0.0224     0.0707      0.142     0.0223    0.00488\n"
     ]
    },
    {
     "name": "stderr",
     "output_type": "stream",
     "text": [
      "\n"
     ]
    },
    {
     "name": "stdout",
     "output_type": "stream",
     "text": [
      "\n",
      "      Epoch    GPU_mem   box_loss   seg_loss   cls_loss   dfl_loss  Instances       Size\n"
     ]
    },
    {
     "name": "stderr",
     "output_type": "stream",
     "text": [
      "       6/50      1.23G      2.144       4.09      2.504      1.995          7        640: 100%|██████████| 44/44 [00:06<00:00,  7.09it/s]\n",
      "                 Class     Images  Instances      Box(P          R      mAP50  mAP50-95)     Mask(P          R      mAP50  mAP50-95): 100%|██████████| 7/7 [00:00<00:00, 10.26it/s]"
     ]
    },
    {
     "name": "stdout",
     "output_type": "stream",
     "text": [
      "                   all         25        190     0.0547      0.479     0.0435     0.0146    0.00189     0.0211   0.000606   8.87e-05\n"
     ]
    },
    {
     "name": "stderr",
     "output_type": "stream",
     "text": [
      "\n"
     ]
    },
    {
     "name": "stdout",
     "output_type": "stream",
     "text": [
      "\n",
      "      Epoch    GPU_mem   box_loss   seg_loss   cls_loss   dfl_loss  Instances       Size\n"
     ]
    },
    {
     "name": "stderr",
     "output_type": "stream",
     "text": [
      "       7/50      1.18G       2.17      3.731       2.59      2.002         16        640: 100%|██████████| 44/44 [00:06<00:00,  7.16it/s]\n",
      "                 Class     Images  Instances      Box(P          R      mAP50  mAP50-95)     Mask(P          R      mAP50  mAP50-95): 100%|██████████| 7/7 [00:00<00:00,  9.62it/s]"
     ]
    },
    {
     "name": "stdout",
     "output_type": "stream",
     "text": [
      "                   all         25        190      0.143      0.221      0.108     0.0391     0.0206      0.158     0.0106     0.0022\n"
     ]
    },
    {
     "name": "stderr",
     "output_type": "stream",
     "text": [
      "\n"
     ]
    },
    {
     "name": "stdout",
     "output_type": "stream",
     "text": [
      "\n",
      "      Epoch    GPU_mem   box_loss   seg_loss   cls_loss   dfl_loss  Instances       Size\n"
     ]
    },
    {
     "name": "stderr",
     "output_type": "stream",
     "text": [
      "       8/50      1.18G      2.193      3.605      2.736      2.027          4        640: 100%|██████████| 44/44 [00:06<00:00,  7.32it/s]\n",
      "                 Class     Images  Instances      Box(P          R      mAP50  mAP50-95)     Mask(P          R      mAP50  mAP50-95): 100%|██████████| 7/7 [00:00<00:00,  9.41it/s]"
     ]
    },
    {
     "name": "stdout",
     "output_type": "stream",
     "text": [
      "                   all         25        190      0.114      0.242     0.0848     0.0308     0.0355      0.142      0.013    0.00249\n"
     ]
    },
    {
     "name": "stderr",
     "output_type": "stream",
     "text": [
      "\n"
     ]
    },
    {
     "name": "stdout",
     "output_type": "stream",
     "text": [
      "\n",
      "      Epoch    GPU_mem   box_loss   seg_loss   cls_loss   dfl_loss  Instances       Size\n"
     ]
    },
    {
     "name": "stderr",
     "output_type": "stream",
     "text": [
      "       9/50      1.19G       2.09      3.651      2.265      1.948         14        640: 100%|██████████| 44/44 [00:06<00:00,  7.11it/s]\n",
      "                 Class     Images  Instances      Box(P          R      mAP50  mAP50-95)     Mask(P          R      mAP50  mAP50-95): 100%|██████████| 7/7 [00:00<00:00, 10.66it/s]"
     ]
    },
    {
     "name": "stdout",
     "output_type": "stream",
     "text": [
      "                   all         25        190      0.102      0.195     0.0838     0.0263      0.015      0.205    0.00746    0.00171\n"
     ]
    },
    {
     "name": "stderr",
     "output_type": "stream",
     "text": [
      "\n"
     ]
    },
    {
     "name": "stdout",
     "output_type": "stream",
     "text": [
      "\n",
      "      Epoch    GPU_mem   box_loss   seg_loss   cls_loss   dfl_loss  Instances       Size\n"
     ]
    },
    {
     "name": "stderr",
     "output_type": "stream",
     "text": [
      "      10/50      1.27G      2.044       3.56      2.105      1.873          5        640: 100%|██████████| 44/44 [00:06<00:00,  6.97it/s]\n",
      "                 Class     Images  Instances      Box(P          R      mAP50  mAP50-95)     Mask(P          R      mAP50  mAP50-95): 100%|██████████| 7/7 [00:00<00:00,  9.86it/s]\n"
     ]
    },
    {
     "name": "stdout",
     "output_type": "stream",
     "text": [
      "                   all         25        190      0.169      0.342      0.118     0.0406     0.0682      0.195      0.028    0.00576\n",
      "\n",
      "      Epoch    GPU_mem   box_loss   seg_loss   cls_loss   dfl_loss  Instances       Size\n"
     ]
    },
    {
     "name": "stderr",
     "output_type": "stream",
     "text": [
      "      11/50      1.26G      2.004      3.413      2.085      1.885          6        640: 100%|██████████| 44/44 [00:06<00:00,  7.25it/s]\n",
      "                 Class     Images  Instances      Box(P          R      mAP50  mAP50-95)     Mask(P          R      mAP50  mAP50-95): 100%|██████████| 7/7 [00:00<00:00, 10.39it/s]"
     ]
    },
    {
     "name": "stdout",
     "output_type": "stream",
     "text": [
      "                   all         25        190      0.243      0.442      0.221     0.0787      0.148      0.195     0.0758     0.0144\n"
     ]
    },
    {
     "name": "stderr",
     "output_type": "stream",
     "text": [
      "\n"
     ]
    },
    {
     "name": "stdout",
     "output_type": "stream",
     "text": [
      "\n",
      "      Epoch    GPU_mem   box_loss   seg_loss   cls_loss   dfl_loss  Instances       Size\n"
     ]
    },
    {
     "name": "stderr",
     "output_type": "stream",
     "text": [
      "      12/50      1.15G      2.014      3.512      2.064      1.846         25        640: 100%|██████████| 44/44 [00:06<00:00,  7.17it/s]\n",
      "                 Class     Images  Instances      Box(P          R      mAP50  mAP50-95)     Mask(P          R      mAP50  mAP50-95): 100%|██████████| 7/7 [00:00<00:00, 10.44it/s]"
     ]
    },
    {
     "name": "stdout",
     "output_type": "stream",
     "text": [
      "                   all         25        190      0.471      0.395      0.404      0.182      0.288      0.189      0.133     0.0263\n"
     ]
    },
    {
     "name": "stderr",
     "output_type": "stream",
     "text": [
      "\n"
     ]
    },
    {
     "name": "stdout",
     "output_type": "stream",
     "text": [
      "\n",
      "      Epoch    GPU_mem   box_loss   seg_loss   cls_loss   dfl_loss  Instances       Size\n"
     ]
    },
    {
     "name": "stderr",
     "output_type": "stream",
     "text": [
      "      13/50      1.22G      1.984      3.454      2.086      1.828          5        640: 100%|██████████| 44/44 [00:06<00:00,  7.00it/s]\n",
      "                 Class     Images  Instances      Box(P          R      mAP50  mAP50-95)     Mask(P          R      mAP50  mAP50-95): 100%|██████████| 7/7 [00:00<00:00, 10.63it/s]"
     ]
    },
    {
     "name": "stdout",
     "output_type": "stream",
     "text": [
      "                   all         25        190      0.246        0.4      0.212     0.0875      0.114      0.247     0.0585      0.012\n"
     ]
    },
    {
     "name": "stderr",
     "output_type": "stream",
     "text": [
      "\n"
     ]
    },
    {
     "name": "stdout",
     "output_type": "stream",
     "text": [
      "\n",
      "      Epoch    GPU_mem   box_loss   seg_loss   cls_loss   dfl_loss  Instances       Size\n"
     ]
    },
    {
     "name": "stderr",
     "output_type": "stream",
     "text": [
      "      14/50      1.24G      1.885       3.33      2.013      1.808         15        640: 100%|██████████| 44/44 [00:06<00:00,  7.16it/s]\n",
      "                 Class     Images  Instances      Box(P          R      mAP50  mAP50-95)     Mask(P          R      mAP50  mAP50-95): 100%|██████████| 7/7 [00:00<00:00,  9.76it/s]"
     ]
    },
    {
     "name": "stdout",
     "output_type": "stream",
     "text": [
      "                   all         25        190      0.257      0.416      0.212     0.0861      0.143      0.237      0.062     0.0148\n"
     ]
    },
    {
     "name": "stderr",
     "output_type": "stream",
     "text": [
      "\n"
     ]
    },
    {
     "name": "stdout",
     "output_type": "stream",
     "text": [
      "\n",
      "      Epoch    GPU_mem   box_loss   seg_loss   cls_loss   dfl_loss  Instances       Size\n"
     ]
    },
    {
     "name": "stderr",
     "output_type": "stream",
     "text": [
      "      15/50      1.25G      1.877      3.289      1.954      1.772         10        640: 100%|██████████| 44/44 [00:06<00:00,  6.88it/s]\n",
      "                 Class     Images  Instances      Box(P          R      mAP50  mAP50-95)     Mask(P          R      mAP50  mAP50-95): 100%|██████████| 7/7 [00:00<00:00, 10.57it/s]"
     ]
    },
    {
     "name": "stdout",
     "output_type": "stream",
     "text": [
      "                   all         25        190      0.402      0.478       0.41      0.187      0.213      0.232      0.109     0.0281\n"
     ]
    },
    {
     "name": "stderr",
     "output_type": "stream",
     "text": [
      "\n"
     ]
    },
    {
     "name": "stdout",
     "output_type": "stream",
     "text": [
      "\n",
      "      Epoch    GPU_mem   box_loss   seg_loss   cls_loss   dfl_loss  Instances       Size\n"
     ]
    },
    {
     "name": "stderr",
     "output_type": "stream",
     "text": [
      "      16/50       1.2G      1.897      3.321      1.846      1.789         30        640: 100%|██████████| 44/44 [00:06<00:00,  7.32it/s]\n",
      "                 Class     Images  Instances      Box(P          R      mAP50  mAP50-95)     Mask(P          R      mAP50  mAP50-95): 100%|██████████| 7/7 [00:00<00:00, 10.48it/s]"
     ]
    },
    {
     "name": "stdout",
     "output_type": "stream",
     "text": [
      "                   all         25        190      0.426      0.458      0.378      0.164      0.212      0.216        0.1     0.0211\n"
     ]
    },
    {
     "name": "stderr",
     "output_type": "stream",
     "text": [
      "\n"
     ]
    },
    {
     "name": "stdout",
     "output_type": "stream",
     "text": [
      "\n",
      "      Epoch    GPU_mem   box_loss   seg_loss   cls_loss   dfl_loss  Instances       Size\n"
     ]
    },
    {
     "name": "stderr",
     "output_type": "stream",
     "text": [
      "      17/50       1.3G      1.856      3.265      1.816       1.75         35        640: 100%|██████████| 44/44 [00:06<00:00,  7.02it/s]\n",
      "                 Class     Images  Instances      Box(P          R      mAP50  mAP50-95)     Mask(P          R      mAP50  mAP50-95): 100%|██████████| 7/7 [00:00<00:00, 10.61it/s]"
     ]
    },
    {
     "name": "stdout",
     "output_type": "stream",
     "text": [
      "                   all         25        190      0.391        0.5       0.39      0.154      0.258      0.258      0.116     0.0248\n"
     ]
    },
    {
     "name": "stderr",
     "output_type": "stream",
     "text": [
      "\n"
     ]
    },
    {
     "name": "stdout",
     "output_type": "stream",
     "text": [
      "\n",
      "      Epoch    GPU_mem   box_loss   seg_loss   cls_loss   dfl_loss  Instances       Size\n"
     ]
    },
    {
     "name": "stderr",
     "output_type": "stream",
     "text": [
      "      18/50      1.18G      1.829      3.217      1.851      1.708          9        640: 100%|██████████| 44/44 [00:06<00:00,  7.19it/s]\n",
      "                 Class     Images  Instances      Box(P          R      mAP50  mAP50-95)     Mask(P          R      mAP50  mAP50-95): 100%|██████████| 7/7 [00:00<00:00, 10.59it/s]"
     ]
    },
    {
     "name": "stdout",
     "output_type": "stream",
     "text": [
      "                   all         25        190      0.376      0.579      0.414      0.189      0.255      0.279      0.153     0.0366\n"
     ]
    },
    {
     "name": "stderr",
     "output_type": "stream",
     "text": [
      "\n"
     ]
    },
    {
     "name": "stdout",
     "output_type": "stream",
     "text": [
      "\n",
      "      Epoch    GPU_mem   box_loss   seg_loss   cls_loss   dfl_loss  Instances       Size\n"
     ]
    },
    {
     "name": "stderr",
     "output_type": "stream",
     "text": [
      "      19/50      1.19G      1.783      3.175      1.804      1.666          6        640: 100%|██████████| 44/44 [00:06<00:00,  7.20it/s]\n",
      "                 Class     Images  Instances      Box(P          R      mAP50  mAP50-95)     Mask(P          R      mAP50  mAP50-95): 100%|██████████| 7/7 [00:00<00:00, 11.07it/s]"
     ]
    },
    {
     "name": "stdout",
     "output_type": "stream",
     "text": [
      "                   all         25        190      0.406      0.537      0.445      0.216       0.24      0.321      0.164     0.0381\n"
     ]
    },
    {
     "name": "stderr",
     "output_type": "stream",
     "text": [
      "\n"
     ]
    },
    {
     "name": "stdout",
     "output_type": "stream",
     "text": [
      "\n",
      "      Epoch    GPU_mem   box_loss   seg_loss   cls_loss   dfl_loss  Instances       Size\n"
     ]
    },
    {
     "name": "stderr",
     "output_type": "stream",
     "text": [
      "      20/50      1.29G      1.734      3.146      1.719      1.649         23        640: 100%|██████████| 44/44 [00:06<00:00,  7.18it/s]\n",
      "                 Class     Images  Instances      Box(P          R      mAP50  mAP50-95)     Mask(P          R      mAP50  mAP50-95): 100%|██████████| 7/7 [00:00<00:00, 11.78it/s]"
     ]
    },
    {
     "name": "stdout",
     "output_type": "stream",
     "text": [
      "                   all         25        190      0.561      0.457      0.509      0.236      0.305      0.295      0.196     0.0436\n"
     ]
    },
    {
     "name": "stderr",
     "output_type": "stream",
     "text": [
      "\n"
     ]
    },
    {
     "name": "stdout",
     "output_type": "stream",
     "text": [
      "\n",
      "      Epoch    GPU_mem   box_loss   seg_loss   cls_loss   dfl_loss  Instances       Size\n"
     ]
    },
    {
     "name": "stderr",
     "output_type": "stream",
     "text": [
      "      21/50       1.3G      1.715      3.133      1.707      1.652          7        640: 100%|██████████| 44/44 [00:05<00:00,  7.48it/s]\n",
      "                 Class     Images  Instances      Box(P          R      mAP50  mAP50-95)     Mask(P          R      mAP50  mAP50-95): 100%|██████████| 7/7 [00:00<00:00, 11.38it/s]"
     ]
    },
    {
     "name": "stdout",
     "output_type": "stream",
     "text": [
      "                   all         25        190      0.535      0.453      0.474      0.224      0.341      0.321      0.222     0.0488\n"
     ]
    },
    {
     "name": "stderr",
     "output_type": "stream",
     "text": [
      "\n"
     ]
    },
    {
     "name": "stdout",
     "output_type": "stream",
     "text": [
      "\n",
      "      Epoch    GPU_mem   box_loss   seg_loss   cls_loss   dfl_loss  Instances       Size\n"
     ]
    },
    {
     "name": "stderr",
     "output_type": "stream",
     "text": [
      "      22/50       1.3G      1.763      3.192      1.662      1.666         13        640: 100%|██████████| 44/44 [00:06<00:00,  7.22it/s]\n",
      "                 Class     Images  Instances      Box(P          R      mAP50  mAP50-95)     Mask(P          R      mAP50  mAP50-95): 100%|██████████| 7/7 [00:00<00:00, 10.39it/s]\n"
     ]
    },
    {
     "name": "stdout",
     "output_type": "stream",
     "text": [
      "                   all         25        190      0.461      0.468      0.447       0.21      0.312      0.316      0.213     0.0493\n",
      "\n",
      "      Epoch    GPU_mem   box_loss   seg_loss   cls_loss   dfl_loss  Instances       Size\n"
     ]
    },
    {
     "name": "stderr",
     "output_type": "stream",
     "text": [
      "      23/50      1.15G      1.689       3.05      1.635      1.638         10        640: 100%|██████████| 44/44 [00:06<00:00,  7.23it/s]\n",
      "                 Class     Images  Instances      Box(P          R      mAP50  mAP50-95)     Mask(P          R      mAP50  mAP50-95): 100%|██████████| 7/7 [00:00<00:00, 10.97it/s]"
     ]
    },
    {
     "name": "stdout",
     "output_type": "stream",
     "text": [
      "                   all         25        190      0.516      0.484      0.502      0.251       0.37      0.343      0.246     0.0557\n"
     ]
    },
    {
     "name": "stderr",
     "output_type": "stream",
     "text": [
      "\n"
     ]
    },
    {
     "name": "stdout",
     "output_type": "stream",
     "text": [
      "\n",
      "      Epoch    GPU_mem   box_loss   seg_loss   cls_loss   dfl_loss  Instances       Size\n"
     ]
    },
    {
     "name": "stderr",
     "output_type": "stream",
     "text": [
      "      24/50      1.16G      1.704      3.044      1.652        1.6          4        640: 100%|██████████| 44/44 [00:05<00:00,  7.46it/s]\n",
      "                 Class     Images  Instances      Box(P          R      mAP50  mAP50-95)     Mask(P          R      mAP50  mAP50-95): 100%|██████████| 7/7 [00:00<00:00, 10.22it/s]\n"
     ]
    },
    {
     "name": "stdout",
     "output_type": "stream",
     "text": [
      "                   all         25        190      0.455      0.568      0.502      0.238       0.32      0.347      0.213     0.0547\n",
      "\n",
      "      Epoch    GPU_mem   box_loss   seg_loss   cls_loss   dfl_loss  Instances       Size\n"
     ]
    },
    {
     "name": "stderr",
     "output_type": "stream",
     "text": [
      "      25/50      1.19G      1.635      3.033      1.643      1.573          6        640: 100%|██████████| 44/44 [00:06<00:00,  7.27it/s]\n",
      "                 Class     Images  Instances      Box(P          R      mAP50  mAP50-95)     Mask(P          R      mAP50  mAP50-95): 100%|██████████| 7/7 [00:00<00:00, 12.60it/s]"
     ]
    },
    {
     "name": "stdout",
     "output_type": "stream",
     "text": [
      "                   all         25        190      0.461      0.521      0.505      0.238      0.376      0.355      0.251     0.0609\n"
     ]
    },
    {
     "name": "stderr",
     "output_type": "stream",
     "text": [
      "\n"
     ]
    },
    {
     "name": "stdout",
     "output_type": "stream",
     "text": [
      "\n",
      "      Epoch    GPU_mem   box_loss   seg_loss   cls_loss   dfl_loss  Instances       Size\n"
     ]
    },
    {
     "name": "stderr",
     "output_type": "stream",
     "text": [
      "      26/50      1.22G       1.64      2.967      1.597      1.577         14        640: 100%|██████████| 44/44 [00:05<00:00,  7.57it/s]\n",
      "                 Class     Images  Instances      Box(P          R      mAP50  mAP50-95)     Mask(P          R      mAP50  mAP50-95): 100%|██████████| 7/7 [00:00<00:00, 12.71it/s]"
     ]
    },
    {
     "name": "stdout",
     "output_type": "stream",
     "text": [
      "                   all         25        190       0.54      0.516      0.485       0.23       0.37      0.305      0.202     0.0478\n"
     ]
    },
    {
     "name": "stderr",
     "output_type": "stream",
     "text": [
      "\n"
     ]
    },
    {
     "name": "stdout",
     "output_type": "stream",
     "text": [
      "\n",
      "      Epoch    GPU_mem   box_loss   seg_loss   cls_loss   dfl_loss  Instances       Size\n"
     ]
    },
    {
     "name": "stderr",
     "output_type": "stream",
     "text": [
      "      27/50      1.31G      1.653      3.028      1.587      1.598          7        640: 100%|██████████| 44/44 [00:06<00:00,  7.17it/s]\n",
      "                 Class     Images  Instances      Box(P          R      mAP50  mAP50-95)     Mask(P          R      mAP50  mAP50-95): 100%|██████████| 7/7 [00:00<00:00, 12.27it/s]"
     ]
    },
    {
     "name": "stdout",
     "output_type": "stream",
     "text": [
      "                   all         25        190      0.491      0.553      0.508      0.256      0.359      0.311      0.198     0.0449\n"
     ]
    },
    {
     "name": "stderr",
     "output_type": "stream",
     "text": [
      "\n"
     ]
    },
    {
     "name": "stdout",
     "output_type": "stream",
     "text": [
      "\n",
      "      Epoch    GPU_mem   box_loss   seg_loss   cls_loss   dfl_loss  Instances       Size\n"
     ]
    },
    {
     "name": "stderr",
     "output_type": "stream",
     "text": [
      "      28/50      1.28G      1.658      2.942      1.583      1.601          6        640: 100%|██████████| 44/44 [00:06<00:00,  7.23it/s]\n",
      "                 Class     Images  Instances      Box(P          R      mAP50  mAP50-95)     Mask(P          R      mAP50  mAP50-95): 100%|██████████| 7/7 [00:00<00:00, 12.05it/s]"
     ]
    },
    {
     "name": "stdout",
     "output_type": "stream",
     "text": [
      "                   all         25        190      0.483      0.405      0.469      0.236      0.296      0.269      0.179      0.042\n"
     ]
    },
    {
     "name": "stderr",
     "output_type": "stream",
     "text": [
      "\n"
     ]
    },
    {
     "name": "stdout",
     "output_type": "stream",
     "text": [
      "\n",
      "      Epoch    GPU_mem   box_loss   seg_loss   cls_loss   dfl_loss  Instances       Size\n"
     ]
    },
    {
     "name": "stderr",
     "output_type": "stream",
     "text": [
      "      29/50      1.16G      1.596      2.949      1.576      1.574          8        640: 100%|██████████| 44/44 [00:05<00:00,  7.37it/s]\n",
      "                 Class     Images  Instances      Box(P          R      mAP50  mAP50-95)     Mask(P          R      mAP50  mAP50-95): 100%|██████████| 7/7 [00:00<00:00, 11.15it/s]"
     ]
    },
    {
     "name": "stdout",
     "output_type": "stream",
     "text": [
      "                   all         25        190      0.544      0.479      0.511      0.261      0.353      0.284      0.223     0.0535\n"
     ]
    },
    {
     "name": "stderr",
     "output_type": "stream",
     "text": [
      "\n"
     ]
    },
    {
     "name": "stdout",
     "output_type": "stream",
     "text": [
      "\n",
      "      Epoch    GPU_mem   box_loss   seg_loss   cls_loss   dfl_loss  Instances       Size\n"
     ]
    },
    {
     "name": "stderr",
     "output_type": "stream",
     "text": [
      "      30/50      1.18G      1.572       2.88      1.521      1.535         20        640: 100%|██████████| 44/44 [00:06<00:00,  7.30it/s]\n",
      "                 Class     Images  Instances      Box(P          R      mAP50  mAP50-95)     Mask(P          R      mAP50  mAP50-95): 100%|██████████| 7/7 [00:00<00:00, 11.02it/s]"
     ]
    },
    {
     "name": "stdout",
     "output_type": "stream",
     "text": [
      "                   all         25        190      0.574       0.46      0.535      0.287      0.463      0.295       0.27     0.0684\n"
     ]
    },
    {
     "name": "stderr",
     "output_type": "stream",
     "text": [
      "\n"
     ]
    },
    {
     "name": "stdout",
     "output_type": "stream",
     "text": [
      "\n",
      "      Epoch    GPU_mem   box_loss   seg_loss   cls_loss   dfl_loss  Instances       Size\n"
     ]
    },
    {
     "name": "stderr",
     "output_type": "stream",
     "text": [
      "      31/50      1.18G       1.56       2.89      1.516       1.53          5        640: 100%|██████████| 44/44 [00:06<00:00,  7.30it/s]\n",
      "                 Class     Images  Instances      Box(P          R      mAP50  mAP50-95)     Mask(P          R      mAP50  mAP50-95): 100%|██████████| 7/7 [00:00<00:00, 10.10it/s]"
     ]
    },
    {
     "name": "stdout",
     "output_type": "stream",
     "text": [
      "                   all         25        190      0.587      0.532      0.531      0.288      0.413      0.374      0.295     0.0851\n"
     ]
    },
    {
     "name": "stderr",
     "output_type": "stream",
     "text": [
      "\n"
     ]
    },
    {
     "name": "stdout",
     "output_type": "stream",
     "text": [
      "\n",
      "      Epoch    GPU_mem   box_loss   seg_loss   cls_loss   dfl_loss  Instances       Size\n"
     ]
    },
    {
     "name": "stderr",
     "output_type": "stream",
     "text": [
      "      32/50      1.24G      1.608      2.885      1.579      1.577         30        640: 100%|██████████| 44/44 [00:06<00:00,  7.15it/s]\n",
      "                 Class     Images  Instances      Box(P          R      mAP50  mAP50-95)     Mask(P          R      mAP50  mAP50-95): 100%|██████████| 7/7 [00:00<00:00, 10.75it/s]"
     ]
    },
    {
     "name": "stdout",
     "output_type": "stream",
     "text": [
      "                   all         25        190      0.553      0.528      0.503       0.27      0.388      0.371      0.293     0.0812\n"
     ]
    },
    {
     "name": "stderr",
     "output_type": "stream",
     "text": [
      "\n"
     ]
    },
    {
     "name": "stdout",
     "output_type": "stream",
     "text": [
      "\n",
      "      Epoch    GPU_mem   box_loss   seg_loss   cls_loss   dfl_loss  Instances       Size\n"
     ]
    },
    {
     "name": "stderr",
     "output_type": "stream",
     "text": [
      "      33/50      1.16G      1.554      2.913      1.494      1.553         26        640: 100%|██████████| 44/44 [00:06<00:00,  7.23it/s]\n",
      "                 Class     Images  Instances      Box(P          R      mAP50  mAP50-95)     Mask(P          R      mAP50  mAP50-95): 100%|██████████| 7/7 [00:00<00:00, 12.38it/s]"
     ]
    },
    {
     "name": "stdout",
     "output_type": "stream",
     "text": [
      "                   all         25        190      0.608      0.537      0.539      0.288      0.458      0.379      0.328     0.0792\n"
     ]
    },
    {
     "name": "stderr",
     "output_type": "stream",
     "text": [
      "\n"
     ]
    },
    {
     "name": "stdout",
     "output_type": "stream",
     "text": [
      "\n",
      "      Epoch    GPU_mem   box_loss   seg_loss   cls_loss   dfl_loss  Instances       Size\n"
     ]
    },
    {
     "name": "stderr",
     "output_type": "stream",
     "text": [
      "      34/50       1.2G      1.585      2.906      1.489      1.575          6        640: 100%|██████████| 44/44 [00:06<00:00,  7.20it/s]\n",
      "                 Class     Images  Instances      Box(P          R      mAP50  mAP50-95)     Mask(P          R      mAP50  mAP50-95): 100%|██████████| 7/7 [00:00<00:00, 11.87it/s]"
     ]
    },
    {
     "name": "stdout",
     "output_type": "stream",
     "text": [
      "                   all         25        190      0.602      0.517       0.53      0.286      0.495      0.374      0.329     0.0858\n"
     ]
    },
    {
     "name": "stderr",
     "output_type": "stream",
     "text": [
      "\n"
     ]
    },
    {
     "name": "stdout",
     "output_type": "stream",
     "text": [
      "\n",
      "      Epoch    GPU_mem   box_loss   seg_loss   cls_loss   dfl_loss  Instances       Size\n"
     ]
    },
    {
     "name": "stderr",
     "output_type": "stream",
     "text": [
      "      35/50      1.23G      1.568       2.87      1.455      1.522          5        640: 100%|██████████| 44/44 [00:06<00:00,  7.25it/s]\n",
      "                 Class     Images  Instances      Box(P          R      mAP50  mAP50-95)     Mask(P          R      mAP50  mAP50-95): 100%|██████████| 7/7 [00:00<00:00, 11.07it/s]"
     ]
    },
    {
     "name": "stdout",
     "output_type": "stream",
     "text": [
      "                   all         25        190      0.547      0.568      0.525      0.279      0.433      0.353      0.283     0.0744\n"
     ]
    },
    {
     "name": "stderr",
     "output_type": "stream",
     "text": [
      "\n"
     ]
    },
    {
     "name": "stdout",
     "output_type": "stream",
     "text": [
      "\n",
      "      Epoch    GPU_mem   box_loss   seg_loss   cls_loss   dfl_loss  Instances       Size\n"
     ]
    },
    {
     "name": "stderr",
     "output_type": "stream",
     "text": [
      "      36/50      1.19G      1.567      2.891      1.453      1.524         11        640: 100%|██████████| 44/44 [00:06<00:00,  7.26it/s]\n",
      "                 Class     Images  Instances      Box(P          R      mAP50  mAP50-95)     Mask(P          R      mAP50  mAP50-95): 100%|██████████| 7/7 [00:00<00:00, 10.04it/s]"
     ]
    },
    {
     "name": "stdout",
     "output_type": "stream",
     "text": [
      "                   all         25        190      0.507      0.606       0.52      0.264      0.313      0.384      0.225     0.0618\n"
     ]
    },
    {
     "name": "stderr",
     "output_type": "stream",
     "text": [
      "\n"
     ]
    },
    {
     "name": "stdout",
     "output_type": "stream",
     "text": [
      "\n",
      "      Epoch    GPU_mem   box_loss   seg_loss   cls_loss   dfl_loss  Instances       Size\n"
     ]
    },
    {
     "name": "stderr",
     "output_type": "stream",
     "text": [
      "      37/50      1.33G      1.556      2.907      1.469      1.516         17        640: 100%|██████████| 44/44 [00:06<00:00,  7.18it/s]\n",
      "                 Class     Images  Instances      Box(P          R      mAP50  mAP50-95)     Mask(P          R      mAP50  mAP50-95): 100%|██████████| 7/7 [00:00<00:00, 12.29it/s]"
     ]
    },
    {
     "name": "stdout",
     "output_type": "stream",
     "text": [
      "                   all         25        190      0.558      0.537      0.535      0.284        0.4      0.353      0.252      0.067\n"
     ]
    },
    {
     "name": "stderr",
     "output_type": "stream",
     "text": [
      "\n"
     ]
    },
    {
     "name": "stdout",
     "output_type": "stream",
     "text": [
      "\n",
      "      Epoch    GPU_mem   box_loss   seg_loss   cls_loss   dfl_loss  Instances       Size\n"
     ]
    },
    {
     "name": "stderr",
     "output_type": "stream",
     "text": [
      "      38/50      1.26G      1.551      2.873      1.431      1.514         17        640: 100%|██████████| 44/44 [00:06<00:00,  7.28it/s]\n",
      "                 Class     Images  Instances      Box(P          R      mAP50  mAP50-95)     Mask(P          R      mAP50  mAP50-95): 100%|██████████| 7/7 [00:00<00:00, 11.10it/s]"
     ]
    },
    {
     "name": "stdout",
     "output_type": "stream",
     "text": [
      "                   all         25        190      0.641        0.5      0.577      0.315      0.443      0.347      0.288     0.0811\n"
     ]
    },
    {
     "name": "stderr",
     "output_type": "stream",
     "text": [
      "\n"
     ]
    },
    {
     "name": "stdout",
     "output_type": "stream",
     "text": [
      "\n",
      "      Epoch    GPU_mem   box_loss   seg_loss   cls_loss   dfl_loss  Instances       Size\n"
     ]
    },
    {
     "name": "stderr",
     "output_type": "stream",
     "text": [
      "      39/50      1.23G      1.515       2.89      1.419       1.48         14        640: 100%|██████████| 44/44 [00:05<00:00,  7.42it/s]\n",
      "                 Class     Images  Instances      Box(P          R      mAP50  mAP50-95)     Mask(P          R      mAP50  mAP50-95): 100%|██████████| 7/7 [00:00<00:00, 11.78it/s]"
     ]
    },
    {
     "name": "stdout",
     "output_type": "stream",
     "text": [
      "                   all         25        190      0.618      0.511      0.564      0.319      0.498      0.379      0.328     0.0885\n"
     ]
    },
    {
     "name": "stderr",
     "output_type": "stream",
     "text": [
      "\n"
     ]
    },
    {
     "name": "stdout",
     "output_type": "stream",
     "text": [
      "\n",
      "      Epoch    GPU_mem   box_loss   seg_loss   cls_loss   dfl_loss  Instances       Size\n"
     ]
    },
    {
     "name": "stderr",
     "output_type": "stream",
     "text": [
      "      40/50       1.2G      1.471      2.784      1.372      1.476         25        640: 100%|██████████| 44/44 [00:06<00:00,  7.20it/s]\n",
      "                 Class     Images  Instances      Box(P          R      mAP50  mAP50-95)     Mask(P          R      mAP50  mAP50-95): 100%|██████████| 7/7 [00:00<00:00, 10.59it/s]"
     ]
    },
    {
     "name": "stdout",
     "output_type": "stream",
     "text": [
      "                   all         25        190      0.624      0.558      0.566      0.318       0.46        0.4      0.333     0.0842\n"
     ]
    },
    {
     "name": "stderr",
     "output_type": "stream",
     "text": [
      "\n"
     ]
    },
    {
     "name": "stdout",
     "output_type": "stream",
     "text": [
      "Closing dataloader mosaic\n"
     ]
    },
    {
     "name": "stderr",
     "output_type": "stream",
     "text": [
      "/home/etaylor/.conda/envs/detectron_fastai/lib/python3.9/site-packages/torch/utils/data/dataloader.py:558: UserWarning: This DataLoader will create 8 worker processes in total. Our suggested max number of worker in current system is 6, which is smaller than what this DataLoader is going to create. Please be aware that excessive worker creation might get DataLoader running slow or even freeze, lower the worker number to avoid potential slowness/freeze if necessary.\n",
      "  warnings.warn(_create_warning_msg(\n"
     ]
    },
    {
     "name": "stdout",
     "output_type": "stream",
     "text": [
      "\n",
      "      Epoch    GPU_mem   box_loss   seg_loss   cls_loss   dfl_loss  Instances       Size\n"
     ]
    },
    {
     "name": "stderr",
     "output_type": "stream",
     "text": [
      "      41/50       1.2G      1.423      2.667       1.42      1.473          2        640: 100%|██████████| 44/44 [00:06<00:00,  7.26it/s]\n",
      "                 Class     Images  Instances      Box(P          R      mAP50  mAP50-95)     Mask(P          R      mAP50  mAP50-95): 100%|██████████| 7/7 [00:00<00:00, 11.95it/s]"
     ]
    },
    {
     "name": "stdout",
     "output_type": "stream",
     "text": [
      "                   all         25        190      0.576      0.574      0.532      0.292      0.476      0.358      0.297     0.0715\n"
     ]
    },
    {
     "name": "stderr",
     "output_type": "stream",
     "text": [
      "\n"
     ]
    },
    {
     "name": "stdout",
     "output_type": "stream",
     "text": [
      "\n",
      "      Epoch    GPU_mem   box_loss   seg_loss   cls_loss   dfl_loss  Instances       Size\n"
     ]
    },
    {
     "name": "stderr",
     "output_type": "stream",
     "text": [
      "      42/50      1.15G      1.491      2.729      1.466      1.513         13        640: 100%|██████████| 44/44 [00:05<00:00,  8.45it/s]\n",
      "                 Class     Images  Instances      Box(P          R      mAP50  mAP50-95)     Mask(P          R      mAP50  mAP50-95): 100%|██████████| 7/7 [00:00<00:00, 10.92it/s]"
     ]
    },
    {
     "name": "stdout",
     "output_type": "stream",
     "text": [
      "                   all         25        190      0.584      0.576      0.542      0.296      0.436      0.384      0.302     0.0717\n"
     ]
    },
    {
     "name": "stderr",
     "output_type": "stream",
     "text": [
      "\n"
     ]
    },
    {
     "name": "stdout",
     "output_type": "stream",
     "text": [
      "\n",
      "      Epoch    GPU_mem   box_loss   seg_loss   cls_loss   dfl_loss  Instances       Size\n"
     ]
    },
    {
     "name": "stderr",
     "output_type": "stream",
     "text": [
      "      43/50      1.17G      1.486      2.701      1.457      1.505          1        640: 100%|██████████| 44/44 [00:05<00:00,  8.35it/s]\n",
      "                 Class     Images  Instances      Box(P          R      mAP50  mAP50-95)     Mask(P          R      mAP50  mAP50-95): 100%|██████████| 7/7 [00:00<00:00, 11.10it/s]"
     ]
    },
    {
     "name": "stdout",
     "output_type": "stream",
     "text": [
      "                   all         25        190      0.577      0.559      0.552      0.304      0.445      0.379      0.312     0.0739\n"
     ]
    },
    {
     "name": "stderr",
     "output_type": "stream",
     "text": [
      "\n"
     ]
    },
    {
     "name": "stdout",
     "output_type": "stream",
     "text": [
      "\n",
      "      Epoch    GPU_mem   box_loss   seg_loss   cls_loss   dfl_loss  Instances       Size\n"
     ]
    },
    {
     "name": "stderr",
     "output_type": "stream",
     "text": [
      "      44/50      1.13G      1.419      2.618        1.4      1.497          4        640: 100%|██████████| 44/44 [00:05<00:00,  8.30it/s]\n",
      "                 Class     Images  Instances      Box(P          R      mAP50  mAP50-95)     Mask(P          R      mAP50  mAP50-95): 100%|██████████| 7/7 [00:00<00:00, 11.43it/s]"
     ]
    },
    {
     "name": "stdout",
     "output_type": "stream",
     "text": [
      "                   all         25        190      0.587      0.547      0.563      0.313      0.423      0.395      0.305     0.0784\n"
     ]
    },
    {
     "name": "stderr",
     "output_type": "stream",
     "text": [
      "\n"
     ]
    },
    {
     "name": "stdout",
     "output_type": "stream",
     "text": [
      "\n",
      "      Epoch    GPU_mem   box_loss   seg_loss   cls_loss   dfl_loss  Instances       Size\n"
     ]
    },
    {
     "name": "stderr",
     "output_type": "stream",
     "text": [
      "      45/50      1.17G      1.451      2.593      1.387      1.476          9        640: 100%|██████████| 44/44 [00:05<00:00,  8.42it/s]\n",
      "                 Class     Images  Instances      Box(P          R      mAP50  mAP50-95)     Mask(P          R      mAP50  mAP50-95): 100%|██████████| 7/7 [00:00<00:00, 12.48it/s]"
     ]
    },
    {
     "name": "stdout",
     "output_type": "stream",
     "text": [
      "                   all         25        190        0.6      0.532       0.55      0.311      0.446      0.389      0.312     0.0762\n"
     ]
    },
    {
     "name": "stderr",
     "output_type": "stream",
     "text": [
      "\n"
     ]
    },
    {
     "name": "stdout",
     "output_type": "stream",
     "text": [
      "\n",
      "      Epoch    GPU_mem   box_loss   seg_loss   cls_loss   dfl_loss  Instances       Size\n"
     ]
    },
    {
     "name": "stderr",
     "output_type": "stream",
     "text": [
      "      46/50      1.17G      1.445       2.68      1.386      1.506          5        640: 100%|██████████| 44/44 [00:05<00:00,  8.40it/s]\n",
      "                 Class     Images  Instances      Box(P          R      mAP50  mAP50-95)     Mask(P          R      mAP50  mAP50-95): 100%|██████████| 7/7 [00:00<00:00, 12.22it/s]"
     ]
    },
    {
     "name": "stdout",
     "output_type": "stream",
     "text": [
      "                   all         25        190      0.602      0.549      0.557      0.318      0.442      0.389       0.33     0.0819\n"
     ]
    },
    {
     "name": "stderr",
     "output_type": "stream",
     "text": [
      "\n"
     ]
    },
    {
     "name": "stdout",
     "output_type": "stream",
     "text": [
      "\n",
      "      Epoch    GPU_mem   box_loss   seg_loss   cls_loss   dfl_loss  Instances       Size\n"
     ]
    },
    {
     "name": "stderr",
     "output_type": "stream",
     "text": [
      "      47/50      1.16G      1.397      2.559      1.311      1.455          9        640: 100%|██████████| 44/44 [00:05<00:00,  8.43it/s]\n",
      "                 Class     Images  Instances      Box(P          R      mAP50  mAP50-95)     Mask(P          R      mAP50  mAP50-95): 100%|██████████| 7/7 [00:00<00:00, 12.04it/s]"
     ]
    },
    {
     "name": "stdout",
     "output_type": "stream",
     "text": [
      "                   all         25        190      0.625      0.558      0.588      0.329      0.493        0.4       0.36     0.0881\n"
     ]
    },
    {
     "name": "stderr",
     "output_type": "stream",
     "text": [
      "\n"
     ]
    },
    {
     "name": "stdout",
     "output_type": "stream",
     "text": [
      "\n",
      "      Epoch    GPU_mem   box_loss   seg_loss   cls_loss   dfl_loss  Instances       Size\n"
     ]
    },
    {
     "name": "stderr",
     "output_type": "stream",
     "text": [
      "      48/50      1.23G      1.389      2.622      1.388      1.471          4        640: 100%|██████████| 44/44 [00:05<00:00,  8.51it/s]\n",
      "                 Class     Images  Instances      Box(P          R      mAP50  mAP50-95)     Mask(P          R      mAP50  mAP50-95): 100%|██████████| 7/7 [00:00<00:00, 12.60it/s]"
     ]
    },
    {
     "name": "stdout",
     "output_type": "stream",
     "text": [
      "                   all         25        190      0.607      0.563      0.574      0.329       0.46      0.416      0.362     0.0923\n"
     ]
    },
    {
     "name": "stderr",
     "output_type": "stream",
     "text": [
      "\n"
     ]
    },
    {
     "name": "stdout",
     "output_type": "stream",
     "text": [
      "\n",
      "      Epoch    GPU_mem   box_loss   seg_loss   cls_loss   dfl_loss  Instances       Size\n"
     ]
    },
    {
     "name": "stderr",
     "output_type": "stream",
     "text": [
      "      49/50      1.16G      1.402      2.572      1.383      1.478          6        640: 100%|██████████| 44/44 [00:05<00:00,  8.34it/s]\n",
      "                 Class     Images  Instances      Box(P          R      mAP50  mAP50-95)     Mask(P          R      mAP50  mAP50-95): 100%|██████████| 7/7 [00:00<00:00, 11.28it/s]"
     ]
    },
    {
     "name": "stdout",
     "output_type": "stream",
     "text": [
      "                   all         25        190      0.577      0.542      0.578      0.325      0.439      0.411      0.366     0.0927\n"
     ]
    },
    {
     "name": "stderr",
     "output_type": "stream",
     "text": [
      "\n"
     ]
    },
    {
     "name": "stdout",
     "output_type": "stream",
     "text": [
      "\n",
      "      Epoch    GPU_mem   box_loss   seg_loss   cls_loss   dfl_loss  Instances       Size\n"
     ]
    },
    {
     "name": "stderr",
     "output_type": "stream",
     "text": [
      "      50/50      1.14G      1.383      2.541      1.352      1.453         12        640: 100%|██████████| 44/44 [00:05<00:00,  8.45it/s]\n",
      "                 Class     Images  Instances      Box(P          R      mAP50  mAP50-95)     Mask(P          R      mAP50  mAP50-95): 100%|██████████| 7/7 [00:00<00:00, 11.86it/s]"
     ]
    },
    {
     "name": "stdout",
     "output_type": "stream",
     "text": [
      "                   all         25        190      0.554      0.537      0.572      0.321       0.41      0.437      0.372     0.0915\n"
     ]
    },
    {
     "name": "stderr",
     "output_type": "stream",
     "text": [
      "\n"
     ]
    },
    {
     "name": "stdout",
     "output_type": "stream",
     "text": [
      "\n",
      "50 epochs completed in 0.119 hours.\n",
      "Optimizer stripped from /home/etaylor/code_projects/thesis/src/stigmas_detection/segmentation/yolo/runs/segment/train29/weights/last.pt, 20.5MB\n",
      "Optimizer stripped from /home/etaylor/code_projects/thesis/src/stigmas_detection/segmentation/yolo/runs/segment/train29/weights/best.pt, 20.5MB\n",
      "\n",
      "Validating /home/etaylor/code_projects/thesis/src/stigmas_detection/segmentation/yolo/runs/segment/train29/weights/best.pt...\n",
      "Ultralytics 8.3.56 🚀 Python-3.9.19 torch-2.3.1+cu121 CUDA:0 (NVIDIA GeForce GTX 1080 Ti, 11165MiB)\n",
      "YOLO11s-seg summary (fused): 265 layers, 10,067,203 parameters, 0 gradients, 35.3 GFLOPs\n"
     ]
    },
    {
     "name": "stderr",
     "output_type": "stream",
     "text": [
      "                 Class     Images  Instances      Box(P          R      mAP50  mAP50-95)     Mask(P          R      mAP50  mAP50-95): 100%|██████████| 7/7 [00:01<00:00,  6.76it/s]\n"
     ]
    },
    {
     "name": "stdout",
     "output_type": "stream",
     "text": [
      "                   all         25        190      0.613      0.563      0.574      0.329      0.461      0.416      0.363     0.0933\n",
      "Speed: 0.3ms preprocess, 14.6ms inference, 0.0ms loss, 5.2ms postprocess per image\n",
      "Results saved to \u001b[1m/home/etaylor/code_projects/thesis/src/stigmas_detection/segmentation/yolo/runs/segment/train29\u001b[0m\n",
      "Ultralytics 8.3.56 🚀 Python-3.9.19 torch-2.3.1+cu121 CUDA:0 (NVIDIA GeForce GTX 1080 Ti, 11165MiB)\n",
      "YOLO11s-seg summary (fused): 265 layers, 10,067,203 parameters, 0 gradients, 35.3 GFLOPs\n"
     ]
    },
    {
     "name": "stderr",
     "output_type": "stream",
     "text": [
      "\u001b[34m\u001b[1mval: \u001b[0mScanning /sise/home/etaylor/code_projects/thesis/segments/etaylor_stigmas_dataset/yolo_formatted/labels/val.cache... 25 images, 0 backgrounds, 0 corrupt: 100%|██████████| 25/25 [00:00<?, ?it/s]\n",
      "/home/etaylor/.conda/envs/detectron_fastai/lib/python3.9/site-packages/torch/utils/data/dataloader.py:558: UserWarning: This DataLoader will create 8 worker processes in total. Our suggested max number of worker in current system is 6, which is smaller than what this DataLoader is going to create. Please be aware that excessive worker creation might get DataLoader running slow or even freeze, lower the worker number to avoid potential slowness/freeze if necessary.\n",
      "  warnings.warn(_create_warning_msg(\n",
      "                 Class     Images  Instances      Box(P          R      mAP50  mAP50-95)     Mask(P          R      mAP50  mAP50-95): 100%|██████████| 13/13 [00:03<00:00,  3.41it/s]\n"
     ]
    },
    {
     "name": "stdout",
     "output_type": "stream",
     "text": [
      "                   all         25        190      0.606      0.563      0.574      0.329      0.459      0.411      0.359     0.0922\n",
      "Speed: 0.8ms preprocess, 43.2ms inference, 0.0ms loss, 16.4ms postprocess per image\n",
      "Results saved to \u001b[1m/home/etaylor/code_projects/thesis/src/stigmas_detection/segmentation/yolo/runs/segment/train292\u001b[0m\n",
      "Validation results for yolov11s-seg: ultralytics.utils.metrics.SegmentMetrics object with attributes:\n",
      "\n",
      "ap_class_index: array([0])\n",
      "box: ultralytics.utils.metrics.Metric object\n",
      "confusion_matrix: <ultralytics.utils.metrics.ConfusionMatrix object at 0x7fc45eb58520>\n",
      "curves: ['Precision-Recall(B)', 'F1-Confidence(B)', 'Precision-Confidence(B)', 'Recall-Confidence(B)', 'Precision-Recall(M)', 'F1-Confidence(M)', 'Precision-Confidence(M)', 'Recall-Confidence(M)']\n",
      "curves_results: [[array([          0,    0.001001,    0.002002,    0.003003,    0.004004,    0.005005,    0.006006,    0.007007,    0.008008,    0.009009,     0.01001,    0.011011,    0.012012,    0.013013,    0.014014,    0.015015,    0.016016,    0.017017,    0.018018,    0.019019,     0.02002,    0.021021,    0.022022,    0.023023,\n",
      "          0.024024,    0.025025,    0.026026,    0.027027,    0.028028,    0.029029,     0.03003,    0.031031,    0.032032,    0.033033,    0.034034,    0.035035,    0.036036,    0.037037,    0.038038,    0.039039,     0.04004,    0.041041,    0.042042,    0.043043,    0.044044,    0.045045,    0.046046,    0.047047,\n",
      "          0.048048,    0.049049,     0.05005,    0.051051,    0.052052,    0.053053,    0.054054,    0.055055,    0.056056,    0.057057,    0.058058,    0.059059,     0.06006,    0.061061,    0.062062,    0.063063,    0.064064,    0.065065,    0.066066,    0.067067,    0.068068,    0.069069,     0.07007,    0.071071,\n",
      "          0.072072,    0.073073,    0.074074,    0.075075,    0.076076,    0.077077,    0.078078,    0.079079,     0.08008,    0.081081,    0.082082,    0.083083,    0.084084,    0.085085,    0.086086,    0.087087,    0.088088,    0.089089,     0.09009,    0.091091,    0.092092,    0.093093,    0.094094,    0.095095,\n",
      "          0.096096,    0.097097,    0.098098,    0.099099,      0.1001,      0.1011,      0.1021,      0.1031,      0.1041,     0.10511,     0.10611,     0.10711,     0.10811,     0.10911,     0.11011,     0.11111,     0.11211,     0.11311,     0.11411,     0.11512,     0.11612,     0.11712,     0.11812,     0.11912,\n",
      "           0.12012,     0.12112,     0.12212,     0.12312,     0.12412,     0.12513,     0.12613,     0.12713,     0.12813,     0.12913,     0.13013,     0.13113,     0.13213,     0.13313,     0.13413,     0.13514,     0.13614,     0.13714,     0.13814,     0.13914,     0.14014,     0.14114,     0.14214,     0.14314,\n",
      "           0.14414,     0.14515,     0.14615,     0.14715,     0.14815,     0.14915,     0.15015,     0.15115,     0.15215,     0.15315,     0.15415,     0.15516,     0.15616,     0.15716,     0.15816,     0.15916,     0.16016,     0.16116,     0.16216,     0.16316,     0.16416,     0.16517,     0.16617,     0.16717,\n",
      "           0.16817,     0.16917,     0.17017,     0.17117,     0.17217,     0.17317,     0.17417,     0.17518,     0.17618,     0.17718,     0.17818,     0.17918,     0.18018,     0.18118,     0.18218,     0.18318,     0.18418,     0.18519,     0.18619,     0.18719,     0.18819,     0.18919,     0.19019,     0.19119,\n",
      "           0.19219,     0.19319,     0.19419,      0.1952,      0.1962,      0.1972,      0.1982,      0.1992,      0.2002,      0.2012,      0.2022,      0.2032,      0.2042,     0.20521,     0.20621,     0.20721,     0.20821,     0.20921,     0.21021,     0.21121,     0.21221,     0.21321,     0.21421,     0.21522,\n",
      "           0.21622,     0.21722,     0.21822,     0.21922,     0.22022,     0.22122,     0.22222,     0.22322,     0.22422,     0.22523,     0.22623,     0.22723,     0.22823,     0.22923,     0.23023,     0.23123,     0.23223,     0.23323,     0.23423,     0.23524,     0.23624,     0.23724,     0.23824,     0.23924,\n",
      "           0.24024,     0.24124,     0.24224,     0.24324,     0.24424,     0.24525,     0.24625,     0.24725,     0.24825,     0.24925,     0.25025,     0.25125,     0.25225,     0.25325,     0.25425,     0.25526,     0.25626,     0.25726,     0.25826,     0.25926,     0.26026,     0.26126,     0.26226,     0.26326,\n",
      "           0.26426,     0.26527,     0.26627,     0.26727,     0.26827,     0.26927,     0.27027,     0.27127,     0.27227,     0.27327,     0.27427,     0.27528,     0.27628,     0.27728,     0.27828,     0.27928,     0.28028,     0.28128,     0.28228,     0.28328,     0.28428,     0.28529,     0.28629,     0.28729,\n",
      "           0.28829,     0.28929,     0.29029,     0.29129,     0.29229,     0.29329,     0.29429,      0.2953,      0.2963,      0.2973,      0.2983,      0.2993,      0.3003,      0.3013,      0.3023,      0.3033,      0.3043,     0.30531,     0.30631,     0.30731,     0.30831,     0.30931,     0.31031,     0.31131,\n",
      "           0.31231,     0.31331,     0.31431,     0.31532,     0.31632,     0.31732,     0.31832,     0.31932,     0.32032,     0.32132,     0.32232,     0.32332,     0.32432,     0.32533,     0.32633,     0.32733,     0.32833,     0.32933,     0.33033,     0.33133,     0.33233,     0.33333,     0.33433,     0.33534,\n",
      "           0.33634,     0.33734,     0.33834,     0.33934,     0.34034,     0.34134,     0.34234,     0.34334,     0.34434,     0.34535,     0.34635,     0.34735,     0.34835,     0.34935,     0.35035,     0.35135,     0.35235,     0.35335,     0.35435,     0.35536,     0.35636,     0.35736,     0.35836,     0.35936,\n",
      "           0.36036,     0.36136,     0.36236,     0.36336,     0.36436,     0.36537,     0.36637,     0.36737,     0.36837,     0.36937,     0.37037,     0.37137,     0.37237,     0.37337,     0.37437,     0.37538,     0.37638,     0.37738,     0.37838,     0.37938,     0.38038,     0.38138,     0.38238,     0.38338,\n",
      "           0.38438,     0.38539,     0.38639,     0.38739,     0.38839,     0.38939,     0.39039,     0.39139,     0.39239,     0.39339,     0.39439,      0.3954,      0.3964,      0.3974,      0.3984,      0.3994,      0.4004,      0.4014,      0.4024,      0.4034,      0.4044,     0.40541,     0.40641,     0.40741,\n",
      "           0.40841,     0.40941,     0.41041,     0.41141,     0.41241,     0.41341,     0.41441,     0.41542,     0.41642,     0.41742,     0.41842,     0.41942,     0.42042,     0.42142,     0.42242,     0.42342,     0.42442,     0.42543,     0.42643,     0.42743,     0.42843,     0.42943,     0.43043,     0.43143,\n",
      "           0.43243,     0.43343,     0.43443,     0.43544,     0.43644,     0.43744,     0.43844,     0.43944,     0.44044,     0.44144,     0.44244,     0.44344,     0.44444,     0.44545,     0.44645,     0.44745,     0.44845,     0.44945,     0.45045,     0.45145,     0.45245,     0.45345,     0.45445,     0.45546,\n",
      "           0.45646,     0.45746,     0.45846,     0.45946,     0.46046,     0.46146,     0.46246,     0.46346,     0.46446,     0.46547,     0.46647,     0.46747,     0.46847,     0.46947,     0.47047,     0.47147,     0.47247,     0.47347,     0.47447,     0.47548,     0.47648,     0.47748,     0.47848,     0.47948,\n",
      "           0.48048,     0.48148,     0.48248,     0.48348,     0.48448,     0.48549,     0.48649,     0.48749,     0.48849,     0.48949,     0.49049,     0.49149,     0.49249,     0.49349,     0.49449,      0.4955,      0.4965,      0.4975,      0.4985,      0.4995,      0.5005,      0.5015,      0.5025,      0.5035,\n",
      "            0.5045,     0.50551,     0.50651,     0.50751,     0.50851,     0.50951,     0.51051,     0.51151,     0.51251,     0.51351,     0.51451,     0.51552,     0.51652,     0.51752,     0.51852,     0.51952,     0.52052,     0.52152,     0.52252,     0.52352,     0.52452,     0.52553,     0.52653,     0.52753,\n",
      "           0.52853,     0.52953,     0.53053,     0.53153,     0.53253,     0.53353,     0.53453,     0.53554,     0.53654,     0.53754,     0.53854,     0.53954,     0.54054,     0.54154,     0.54254,     0.54354,     0.54454,     0.54555,     0.54655,     0.54755,     0.54855,     0.54955,     0.55055,     0.55155,\n",
      "           0.55255,     0.55355,     0.55455,     0.55556,     0.55656,     0.55756,     0.55856,     0.55956,     0.56056,     0.56156,     0.56256,     0.56356,     0.56456,     0.56557,     0.56657,     0.56757,     0.56857,     0.56957,     0.57057,     0.57157,     0.57257,     0.57357,     0.57457,     0.57558,\n",
      "           0.57658,     0.57758,     0.57858,     0.57958,     0.58058,     0.58158,     0.58258,     0.58358,     0.58458,     0.58559,     0.58659,     0.58759,     0.58859,     0.58959,     0.59059,     0.59159,     0.59259,     0.59359,     0.59459,      0.5956,      0.5966,      0.5976,      0.5986,      0.5996,\n",
      "            0.6006,      0.6016,      0.6026,      0.6036,      0.6046,     0.60561,     0.60661,     0.60761,     0.60861,     0.60961,     0.61061,     0.61161,     0.61261,     0.61361,     0.61461,     0.61562,     0.61662,     0.61762,     0.61862,     0.61962,     0.62062,     0.62162,     0.62262,     0.62362,\n",
      "           0.62462,     0.62563,     0.62663,     0.62763,     0.62863,     0.62963,     0.63063,     0.63163,     0.63263,     0.63363,     0.63463,     0.63564,     0.63664,     0.63764,     0.63864,     0.63964,     0.64064,     0.64164,     0.64264,     0.64364,     0.64464,     0.64565,     0.64665,     0.64765,\n",
      "           0.64865,     0.64965,     0.65065,     0.65165,     0.65265,     0.65365,     0.65465,     0.65566,     0.65666,     0.65766,     0.65866,     0.65966,     0.66066,     0.66166,     0.66266,     0.66366,     0.66466,     0.66567,     0.66667,     0.66767,     0.66867,     0.66967,     0.67067,     0.67167,\n",
      "           0.67267,     0.67367,     0.67467,     0.67568,     0.67668,     0.67768,     0.67868,     0.67968,     0.68068,     0.68168,     0.68268,     0.68368,     0.68468,     0.68569,     0.68669,     0.68769,     0.68869,     0.68969,     0.69069,     0.69169,     0.69269,     0.69369,     0.69469,      0.6957,\n",
      "            0.6967,      0.6977,      0.6987,      0.6997,      0.7007,      0.7017,      0.7027,      0.7037,      0.7047,     0.70571,     0.70671,     0.70771,     0.70871,     0.70971,     0.71071,     0.71171,     0.71271,     0.71371,     0.71471,     0.71572,     0.71672,     0.71772,     0.71872,     0.71972,\n",
      "           0.72072,     0.72172,     0.72272,     0.72372,     0.72472,     0.72573,     0.72673,     0.72773,     0.72873,     0.72973,     0.73073,     0.73173,     0.73273,     0.73373,     0.73473,     0.73574,     0.73674,     0.73774,     0.73874,     0.73974,     0.74074,     0.74174,     0.74274,     0.74374,\n",
      "           0.74474,     0.74575,     0.74675,     0.74775,     0.74875,     0.74975,     0.75075,     0.75175,     0.75275,     0.75375,     0.75475,     0.75576,     0.75676,     0.75776,     0.75876,     0.75976,     0.76076,     0.76176,     0.76276,     0.76376,     0.76476,     0.76577,     0.76677,     0.76777,\n",
      "           0.76877,     0.76977,     0.77077,     0.77177,     0.77277,     0.77377,     0.77477,     0.77578,     0.77678,     0.77778,     0.77878,     0.77978,     0.78078,     0.78178,     0.78278,     0.78378,     0.78478,     0.78579,     0.78679,     0.78779,     0.78879,     0.78979,     0.79079,     0.79179,\n",
      "           0.79279,     0.79379,     0.79479,      0.7958,      0.7968,      0.7978,      0.7988,      0.7998,      0.8008,      0.8018,      0.8028,      0.8038,      0.8048,     0.80581,     0.80681,     0.80781,     0.80881,     0.80981,     0.81081,     0.81181,     0.81281,     0.81381,     0.81481,     0.81582,\n",
      "           0.81682,     0.81782,     0.81882,     0.81982,     0.82082,     0.82182,     0.82282,     0.82382,     0.82482,     0.82583,     0.82683,     0.82783,     0.82883,     0.82983,     0.83083,     0.83183,     0.83283,     0.83383,     0.83483,     0.83584,     0.83684,     0.83784,     0.83884,     0.83984,\n",
      "           0.84084,     0.84184,     0.84284,     0.84384,     0.84484,     0.84585,     0.84685,     0.84785,     0.84885,     0.84985,     0.85085,     0.85185,     0.85285,     0.85385,     0.85485,     0.85586,     0.85686,     0.85786,     0.85886,     0.85986,     0.86086,     0.86186,     0.86286,     0.86386,\n",
      "           0.86486,     0.86587,     0.86687,     0.86787,     0.86887,     0.86987,     0.87087,     0.87187,     0.87287,     0.87387,     0.87487,     0.87588,     0.87688,     0.87788,     0.87888,     0.87988,     0.88088,     0.88188,     0.88288,     0.88388,     0.88488,     0.88589,     0.88689,     0.88789,\n",
      "           0.88889,     0.88989,     0.89089,     0.89189,     0.89289,     0.89389,     0.89489,      0.8959,      0.8969,      0.8979,      0.8989,      0.8999,      0.9009,      0.9019,      0.9029,      0.9039,      0.9049,     0.90591,     0.90691,     0.90791,     0.90891,     0.90991,     0.91091,     0.91191,\n",
      "           0.91291,     0.91391,     0.91491,     0.91592,     0.91692,     0.91792,     0.91892,     0.91992,     0.92092,     0.92192,     0.92292,     0.92392,     0.92492,     0.92593,     0.92693,     0.92793,     0.92893,     0.92993,     0.93093,     0.93193,     0.93293,     0.93393,     0.93493,     0.93594,\n",
      "           0.93694,     0.93794,     0.93894,     0.93994,     0.94094,     0.94194,     0.94294,     0.94394,     0.94494,     0.94595,     0.94695,     0.94795,     0.94895,     0.94995,     0.95095,     0.95195,     0.95295,     0.95395,     0.95495,     0.95596,     0.95696,     0.95796,     0.95896,     0.95996,\n",
      "           0.96096,     0.96196,     0.96296,     0.96396,     0.96496,     0.96597,     0.96697,     0.96797,     0.96897,     0.96997,     0.97097,     0.97197,     0.97297,     0.97397,     0.97497,     0.97598,     0.97698,     0.97798,     0.97898,     0.97998,     0.98098,     0.98198,     0.98298,     0.98398,\n",
      "           0.98498,     0.98599,     0.98699,     0.98799,     0.98899,     0.98999,     0.99099,     0.99199,     0.99299,     0.99399,     0.99499,       0.996,       0.997,       0.998,       0.999,           1]), array([[          1,           1,           1,           1,           1,           1,           1,           1,           1,           1,           1,           1,           1,           1,           1,           1,           1,           1,           1,           1,           1,           1,           1,\n",
      "                  1,           1,           1,           1,           1,           1,           1,           1,           1,           1,           1,           1,           1,           1,           1,           1,           1,           1,           1,           1,           1,           1,           1,\n",
      "                  1,           1,           1,           1,           1,           1,           1,           1,           1,           1,           1,           1,     0.95238,     0.95238,     0.95238,     0.95238,     0.95238,     0.95238,     0.95238,     0.95238,     0.95238,     0.95238,     0.95238,\n",
      "            0.95238,     0.95238,     0.95238,     0.95238,     0.95238,     0.95238,     0.95238,     0.95238,     0.95238,     0.95238,     0.95238,     0.95238,     0.95238,     0.95238,     0.95238,     0.95238,     0.95238,     0.95238,     0.95238,     0.95238,     0.95238,     0.95238,     0.95238,\n",
      "            0.95238,     0.95238,     0.95238,     0.95238,     0.95238,     0.95238,     0.95238,     0.95238,     0.95238,     0.95238,     0.95238,     0.95238,     0.95238,     0.95238,     0.93103,     0.93103,     0.93103,     0.93103,     0.93103,     0.93103,     0.93103,     0.93103,     0.93103,\n",
      "            0.93103,     0.93103,     0.93103,     0.93103,     0.93103,     0.93103,     0.93103,     0.93103,     0.93103,     0.93103,     0.93103,     0.93103,     0.93103,     0.93103,     0.93103,     0.93103,     0.93103,     0.93103,     0.93103,     0.93103,     0.93103,     0.93103,     0.93103,\n",
      "            0.93103,     0.93103,     0.93103,     0.93103,     0.90909,     0.90909,     0.90909,     0.90909,     0.90909,     0.90909,     0.90909,     0.90909,     0.90909,     0.90909,     0.90909,     0.90909,     0.90909,     0.90909,     0.90909,     0.90909,     0.90698,     0.90698,     0.90698,\n",
      "            0.90698,     0.90698,     0.90698,     0.90698,     0.90698,     0.90698,     0.90698,     0.90698,     0.90698,     0.90698,     0.90698,     0.90698,     0.90698,     0.90698,     0.90698,     0.90698,     0.90698,     0.90698,     0.90698,     0.90698,     0.90698,     0.90698,     0.90698,\n",
      "            0.90698,     0.90698,     0.90698,     0.90698,     0.90698,     0.90698,     0.90698,     0.90698,     0.90698,     0.90698,     0.90698,     0.90698,     0.90698,     0.90698,     0.90698,     0.90698,     0.90698,     0.90698,     0.90698,     0.90698,     0.90698,     0.90698,      0.8913,\n",
      "             0.8913,      0.8913,      0.8913,      0.8913,      0.8913,      0.8913,      0.8913,      0.8913,      0.8913,     0.87755,     0.87755,     0.87755,     0.87755,     0.87755,     0.87755,     0.87755,     0.87755,     0.87755,     0.87755,     0.87755,     0.87719,     0.87719,     0.87719,\n",
      "            0.87719,     0.87719,     0.87719,     0.87719,     0.87719,     0.87719,     0.87719,     0.87719,     0.87719,     0.87719,     0.87719,     0.87719,     0.87719,     0.87719,     0.87719,     0.87719,     0.87719,     0.87719,     0.87719,     0.87719,     0.87719,     0.87719,     0.87719,\n",
      "            0.87719,     0.87719,     0.87719,     0.87719,     0.87719,     0.87719,     0.87719,     0.87719,     0.87719,     0.87719,     0.86667,     0.86667,     0.86667,     0.86667,     0.86667,     0.86667,     0.86667,     0.86667,     0.86667,     0.86667,     0.86667,     0.85484,     0.85484,\n",
      "            0.85484,     0.85484,     0.85484,     0.83562,     0.83562,     0.83562,     0.83562,     0.83562,     0.83562,     0.83562,     0.83562,     0.83562,     0.83562,     0.83562,     0.83562,     0.83562,     0.83562,     0.83562,     0.83562,     0.83562,     0.83562,     0.83562,     0.83562,\n",
      "            0.83562,     0.83562,     0.83562,     0.83562,     0.83562,     0.83562,     0.83562,     0.83562,     0.83562,     0.83562,     0.83562,     0.83562,     0.83562,     0.83562,     0.83562,     0.83562,     0.83562,     0.83562,     0.83562,     0.83562,     0.83562,     0.83562,     0.82667,\n",
      "            0.82667,     0.82667,     0.82667,     0.82667,     0.80247,     0.80247,     0.80247,     0.80247,     0.80247,     0.80247,     0.80247,     0.80247,     0.80247,     0.80247,     0.80247,     0.80247,     0.80247,     0.80247,     0.80247,     0.80247,      0.7907,      0.7907,      0.7907,\n",
      "             0.7907,      0.7907,      0.7907,      0.7907,      0.7907,      0.7907,      0.7907,      0.7907,      0.7907,      0.7907,      0.7907,      0.7907,      0.7907,     0.76667,     0.76667,     0.76667,     0.76667,     0.76667,     0.75532,     0.75532,     0.75532,     0.75532,     0.75532,\n",
      "            0.75532,     0.75532,     0.75532,     0.75532,     0.75532,     0.75532,        0.75,        0.75,        0.75,        0.75,        0.75,     0.73737,     0.73737,     0.73737,     0.73737,     0.73737,     0.73333,     0.73333,     0.73333,     0.73333,     0.73333,     0.73333,     0.73333,\n",
      "            0.73333,     0.73333,     0.73333,     0.73333,     0.73333,     0.73333,     0.73333,     0.73333,     0.73333,     0.73333,     0.73333,     0.73333,     0.73333,     0.73333,     0.71681,     0.71681,     0.71681,     0.71681,     0.71681,     0.71681,     0.71681,     0.71681,     0.71681,\n",
      "            0.71681,     0.71681,     0.71681,     0.71681,     0.71681,     0.71681,     0.71681,     0.71681,     0.71681,     0.71681,     0.71681,     0.71681,     0.71186,     0.71186,     0.71186,     0.71186,     0.71186,     0.71186,     0.71186,     0.71186,     0.71186,     0.71186,     0.71186,\n",
      "            0.71186,     0.71186,     0.71186,     0.71186,     0.71186,     0.70833,     0.70833,     0.70833,     0.70833,     0.70833,     0.68254,     0.68254,     0.68254,     0.68254,     0.68254,     0.68254,     0.66165,     0.66165,     0.66165,     0.66165,     0.66165,     0.66165,     0.66165,\n",
      "            0.66165,     0.66165,     0.66165,     0.65563,     0.65563,     0.65563,     0.65563,     0.65563,     0.65563,     0.65563,     0.65563,     0.65563,     0.65563,     0.65563,     0.65563,     0.65563,     0.65563,     0.65563,     0.65563,     0.65563,     0.65563,     0.65563,     0.65563,\n",
      "            0.65563,     0.65563,     0.65563,     0.65563,     0.65563,     0.65563,     0.65563,     0.65563,     0.65563,     0.65563,     0.65563,     0.65563,     0.65563,     0.65563,     0.65563,     0.65563,     0.65563,     0.65563,     0.65563,     0.65563,     0.65563,     0.65563,     0.65563,\n",
      "            0.65563,     0.65563,     0.65563,     0.65563,     0.65563,     0.65563,     0.65563,     0.65563,     0.65563,     0.65563,     0.65563,     0.65563,     0.65563,     0.65563,     0.65563,     0.64744,     0.64744,     0.64744,     0.64744,     0.64744,     0.64744,     0.64744,     0.64744,\n",
      "            0.64744,     0.64744,     0.64744,     0.62963,     0.62963,     0.62963,     0.62963,     0.62963,     0.62424,     0.62424,     0.62424,     0.62424,     0.62424,     0.62275,     0.62275,     0.62275,     0.62275,     0.62275,      0.6213,      0.6213,      0.6213,      0.6213,      0.6213,\n",
      "             0.6213,     0.61988,     0.61988,     0.61988,     0.61988,     0.61988,     0.60795,     0.60795,     0.60795,     0.60795,     0.60795,     0.54634,     0.54634,     0.54634,     0.54634,     0.54634,     0.54634,     0.54634,     0.54634,     0.54634,     0.54634,     0.54634,     0.54634,\n",
      "            0.54634,     0.54634,     0.54634,     0.54634,     0.54634,     0.54634,     0.54634,     0.54634,     0.54634,     0.54634,     0.54634,     0.54634,     0.54634,     0.54634,     0.54327,     0.54327,     0.54327,     0.54327,     0.54327,     0.54327,     0.47899,     0.47899,     0.47899,\n",
      "            0.47899,     0.47899,     0.47325,     0.47325,     0.47325,     0.47325,     0.47325,     0.46774,     0.46774,     0.46774,     0.46774,     0.46774,     0.46429,     0.46429,     0.46429,     0.46429,     0.46429,     0.46429,     0.45946,     0.45946,     0.45946,     0.45946,     0.45946,\n",
      "            0.45946,     0.45946,     0.45946,     0.45946,     0.45946,        0.44,        0.44,        0.44,        0.44,        0.44,        0.44,        0.44,        0.44,        0.44,        0.44,        0.44,     0.41497,     0.41497,     0.41497,     0.41497,     0.41497,     0.41275,     0.41275,\n",
      "            0.41275,     0.41275,     0.41275,     0.40656,     0.40656,     0.40656,     0.40656,     0.40656,     0.38532,     0.38532,     0.38532,     0.38532,     0.38532,     0.38532,     0.38532,     0.38532,     0.38532,     0.38532,     0.38532,     0.38138,     0.38138,     0.38138,     0.38138,\n",
      "            0.38138,      0.3342,      0.3342,      0.3342,      0.3342,      0.3342,      0.3342,      0.3342,      0.3342,      0.3342,      0.3342,      0.3342,     0.32746,     0.32746,     0.32746,     0.32746,     0.32746,     0.32673,     0.32673,     0.32673,     0.32673,     0.32673,     0.32673,\n",
      "            0.32673,     0.32673,     0.32673,     0.32673,     0.32673,     0.32282,     0.32282,     0.32282,     0.32282,     0.32282,     0.32057,     0.32057,     0.32057,     0.32057,     0.32057,     0.31178,     0.31178,     0.31178,     0.31178,     0.31178,     0.31011,     0.31011,     0.31011,\n",
      "            0.31011,     0.31011,     0.31011,     0.31011,     0.31011,     0.31011,     0.31011,     0.31011,     0.31011,     0.31011,     0.31011,     0.31011,     0.31011,     0.30889,     0.30889,     0.30889,     0.30889,     0.30889,      0.2935,      0.2935,      0.2935,      0.2935,      0.2935,\n",
      "             0.2935,     0.29193,     0.29193,     0.29193,     0.29193,     0.29193,     0.28803,     0.28803,     0.28803,     0.28803,     0.28803,       0.286,       0.286,       0.286,       0.286,       0.286,     0.27799,     0.27799,     0.27799,     0.27799,     0.27799,     0.27799,     0.26148,\n",
      "            0.26148,     0.26148,     0.26148,     0.26148,     0.26148,     0.26148,     0.26148,     0.26148,     0.26148,     0.26148,     0.26148,     0.26148,     0.26148,     0.26148,     0.26148,     0.26148,     0.26148,     0.26148,     0.26148,     0.26148,     0.25126,     0.25126,     0.25126,\n",
      "            0.25126,     0.25126,     0.22189,     0.22189,     0.22189,     0.22189,     0.22189,     0.21238,     0.21238,     0.21238,     0.21238,     0.21238,      0.2075,      0.2075,      0.2075,      0.2075,      0.2075,      0.2075,      0.2075,      0.2075,      0.2075,      0.2075,      0.2075,\n",
      "             0.2075,      0.2075,      0.2075,      0.2075,      0.2075,      0.2075,      0.2075,      0.2075,      0.2075,      0.2075,     0.20051,     0.20051,     0.20051,     0.20051,     0.20051,     0.20051,     0.19699,     0.19699,     0.19699,     0.19699,     0.19699,     0.18192,     0.18192,\n",
      "            0.18192,     0.18192,     0.18192,     0.18192,     0.18192,     0.18192,     0.18192,     0.18192,     0.18192,      0.1658,      0.1658,      0.1658,      0.1658,      0.1658,     0.16139,     0.16139,     0.16139,     0.16139,     0.16139,     0.16139,     0.16139,     0.16139,     0.16139,\n",
      "            0.16139,     0.16139,     0.16139,     0.16139,     0.16139,     0.16139,     0.16139,     0.15774,     0.15774,     0.15774,     0.15774,     0.15774,     0.15774,     0.15774,     0.15774,     0.15774,     0.15774,     0.13529,     0.13529,     0.13529,     0.13529,     0.13529,     0.13462,\n",
      "            0.13462,     0.13462,     0.13462,     0.13462,     0.13462,     0.13462,     0.13462,     0.13462,     0.13462,     0.13462,     0.13234,     0.13234,     0.13234,     0.13234,     0.13234,     0.12908,     0.12908,     0.12908,     0.12908,     0.12908,     0.12355,     0.12355,     0.12355,\n",
      "            0.12355,     0.12355,     0.12355,     0.12348,     0.12348,     0.12348,     0.12348,     0.12348,     0.12348,     0.12348,     0.12348,     0.12348,     0.12348,     0.10695,     0.10695,     0.10695,     0.10695,     0.10695,     0.10222,     0.10222,     0.10222,     0.10222,     0.10222,\n",
      "            0.10222,    0.082629,    0.082629,    0.082629,    0.082629,    0.082629,    0.078527,    0.078527,    0.078527,    0.078527,    0.078527,    0.076133,    0.076133,    0.076133,    0.076133,    0.076133,    0.073151,    0.073151,    0.073151,    0.073151,    0.073151,    0.073151,     0.07226,\n",
      "            0.07226,     0.07226,     0.07226,     0.07226,    0.068037,    0.068037,    0.068037,    0.068037,    0.068037,    0.068037,    0.068037,    0.068037,    0.068037,    0.068037,    0.053353,    0.053353,    0.053353,    0.053353,    0.053353,    0.053353,    0.042524,    0.042524,    0.042524,\n",
      "           0.042524,    0.042524,    0.031351,    0.031351,    0.031351,    0.031351,    0.031351,    0.025163,    0.024196,    0.023228,     0.02226,    0.021292,    0.020324,    0.019356,    0.018389,    0.017421,    0.016453,    0.015485,    0.014517,     0.01355,    0.012582,    0.011614,    0.010646,\n",
      "          0.0096782,   0.0087104,   0.0077426,   0.0067748,   0.0058069,   0.0048391,   0.0038713,   0.0029035,   0.0019356,  0.00096782,           0]]), 'Recall', 'Precision'], [array([          0,    0.001001,    0.002002,    0.003003,    0.004004,    0.005005,    0.006006,    0.007007,    0.008008,    0.009009,     0.01001,    0.011011,    0.012012,    0.013013,    0.014014,    0.015015,    0.016016,    0.017017,    0.018018,    0.019019,     0.02002,    0.021021,    0.022022,    0.023023,\n",
      "          0.024024,    0.025025,    0.026026,    0.027027,    0.028028,    0.029029,     0.03003,    0.031031,    0.032032,    0.033033,    0.034034,    0.035035,    0.036036,    0.037037,    0.038038,    0.039039,     0.04004,    0.041041,    0.042042,    0.043043,    0.044044,    0.045045,    0.046046,    0.047047,\n",
      "          0.048048,    0.049049,     0.05005,    0.051051,    0.052052,    0.053053,    0.054054,    0.055055,    0.056056,    0.057057,    0.058058,    0.059059,     0.06006,    0.061061,    0.062062,    0.063063,    0.064064,    0.065065,    0.066066,    0.067067,    0.068068,    0.069069,     0.07007,    0.071071,\n",
      "          0.072072,    0.073073,    0.074074,    0.075075,    0.076076,    0.077077,    0.078078,    0.079079,     0.08008,    0.081081,    0.082082,    0.083083,    0.084084,    0.085085,    0.086086,    0.087087,    0.088088,    0.089089,     0.09009,    0.091091,    0.092092,    0.093093,    0.094094,    0.095095,\n",
      "          0.096096,    0.097097,    0.098098,    0.099099,      0.1001,      0.1011,      0.1021,      0.1031,      0.1041,     0.10511,     0.10611,     0.10711,     0.10811,     0.10911,     0.11011,     0.11111,     0.11211,     0.11311,     0.11411,     0.11512,     0.11612,     0.11712,     0.11812,     0.11912,\n",
      "           0.12012,     0.12112,     0.12212,     0.12312,     0.12412,     0.12513,     0.12613,     0.12713,     0.12813,     0.12913,     0.13013,     0.13113,     0.13213,     0.13313,     0.13413,     0.13514,     0.13614,     0.13714,     0.13814,     0.13914,     0.14014,     0.14114,     0.14214,     0.14314,\n",
      "           0.14414,     0.14515,     0.14615,     0.14715,     0.14815,     0.14915,     0.15015,     0.15115,     0.15215,     0.15315,     0.15415,     0.15516,     0.15616,     0.15716,     0.15816,     0.15916,     0.16016,     0.16116,     0.16216,     0.16316,     0.16416,     0.16517,     0.16617,     0.16717,\n",
      "           0.16817,     0.16917,     0.17017,     0.17117,     0.17217,     0.17317,     0.17417,     0.17518,     0.17618,     0.17718,     0.17818,     0.17918,     0.18018,     0.18118,     0.18218,     0.18318,     0.18418,     0.18519,     0.18619,     0.18719,     0.18819,     0.18919,     0.19019,     0.19119,\n",
      "           0.19219,     0.19319,     0.19419,      0.1952,      0.1962,      0.1972,      0.1982,      0.1992,      0.2002,      0.2012,      0.2022,      0.2032,      0.2042,     0.20521,     0.20621,     0.20721,     0.20821,     0.20921,     0.21021,     0.21121,     0.21221,     0.21321,     0.21421,     0.21522,\n",
      "           0.21622,     0.21722,     0.21822,     0.21922,     0.22022,     0.22122,     0.22222,     0.22322,     0.22422,     0.22523,     0.22623,     0.22723,     0.22823,     0.22923,     0.23023,     0.23123,     0.23223,     0.23323,     0.23423,     0.23524,     0.23624,     0.23724,     0.23824,     0.23924,\n",
      "           0.24024,     0.24124,     0.24224,     0.24324,     0.24424,     0.24525,     0.24625,     0.24725,     0.24825,     0.24925,     0.25025,     0.25125,     0.25225,     0.25325,     0.25425,     0.25526,     0.25626,     0.25726,     0.25826,     0.25926,     0.26026,     0.26126,     0.26226,     0.26326,\n",
      "           0.26426,     0.26527,     0.26627,     0.26727,     0.26827,     0.26927,     0.27027,     0.27127,     0.27227,     0.27327,     0.27427,     0.27528,     0.27628,     0.27728,     0.27828,     0.27928,     0.28028,     0.28128,     0.28228,     0.28328,     0.28428,     0.28529,     0.28629,     0.28729,\n",
      "           0.28829,     0.28929,     0.29029,     0.29129,     0.29229,     0.29329,     0.29429,      0.2953,      0.2963,      0.2973,      0.2983,      0.2993,      0.3003,      0.3013,      0.3023,      0.3033,      0.3043,     0.30531,     0.30631,     0.30731,     0.30831,     0.30931,     0.31031,     0.31131,\n",
      "           0.31231,     0.31331,     0.31431,     0.31532,     0.31632,     0.31732,     0.31832,     0.31932,     0.32032,     0.32132,     0.32232,     0.32332,     0.32432,     0.32533,     0.32633,     0.32733,     0.32833,     0.32933,     0.33033,     0.33133,     0.33233,     0.33333,     0.33433,     0.33534,\n",
      "           0.33634,     0.33734,     0.33834,     0.33934,     0.34034,     0.34134,     0.34234,     0.34334,     0.34434,     0.34535,     0.34635,     0.34735,     0.34835,     0.34935,     0.35035,     0.35135,     0.35235,     0.35335,     0.35435,     0.35536,     0.35636,     0.35736,     0.35836,     0.35936,\n",
      "           0.36036,     0.36136,     0.36236,     0.36336,     0.36436,     0.36537,     0.36637,     0.36737,     0.36837,     0.36937,     0.37037,     0.37137,     0.37237,     0.37337,     0.37437,     0.37538,     0.37638,     0.37738,     0.37838,     0.37938,     0.38038,     0.38138,     0.38238,     0.38338,\n",
      "           0.38438,     0.38539,     0.38639,     0.38739,     0.38839,     0.38939,     0.39039,     0.39139,     0.39239,     0.39339,     0.39439,      0.3954,      0.3964,      0.3974,      0.3984,      0.3994,      0.4004,      0.4014,      0.4024,      0.4034,      0.4044,     0.40541,     0.40641,     0.40741,\n",
      "           0.40841,     0.40941,     0.41041,     0.41141,     0.41241,     0.41341,     0.41441,     0.41542,     0.41642,     0.41742,     0.41842,     0.41942,     0.42042,     0.42142,     0.42242,     0.42342,     0.42442,     0.42543,     0.42643,     0.42743,     0.42843,     0.42943,     0.43043,     0.43143,\n",
      "           0.43243,     0.43343,     0.43443,     0.43544,     0.43644,     0.43744,     0.43844,     0.43944,     0.44044,     0.44144,     0.44244,     0.44344,     0.44444,     0.44545,     0.44645,     0.44745,     0.44845,     0.44945,     0.45045,     0.45145,     0.45245,     0.45345,     0.45445,     0.45546,\n",
      "           0.45646,     0.45746,     0.45846,     0.45946,     0.46046,     0.46146,     0.46246,     0.46346,     0.46446,     0.46547,     0.46647,     0.46747,     0.46847,     0.46947,     0.47047,     0.47147,     0.47247,     0.47347,     0.47447,     0.47548,     0.47648,     0.47748,     0.47848,     0.47948,\n",
      "           0.48048,     0.48148,     0.48248,     0.48348,     0.48448,     0.48549,     0.48649,     0.48749,     0.48849,     0.48949,     0.49049,     0.49149,     0.49249,     0.49349,     0.49449,      0.4955,      0.4965,      0.4975,      0.4985,      0.4995,      0.5005,      0.5015,      0.5025,      0.5035,\n",
      "            0.5045,     0.50551,     0.50651,     0.50751,     0.50851,     0.50951,     0.51051,     0.51151,     0.51251,     0.51351,     0.51451,     0.51552,     0.51652,     0.51752,     0.51852,     0.51952,     0.52052,     0.52152,     0.52252,     0.52352,     0.52452,     0.52553,     0.52653,     0.52753,\n",
      "           0.52853,     0.52953,     0.53053,     0.53153,     0.53253,     0.53353,     0.53453,     0.53554,     0.53654,     0.53754,     0.53854,     0.53954,     0.54054,     0.54154,     0.54254,     0.54354,     0.54454,     0.54555,     0.54655,     0.54755,     0.54855,     0.54955,     0.55055,     0.55155,\n",
      "           0.55255,     0.55355,     0.55455,     0.55556,     0.55656,     0.55756,     0.55856,     0.55956,     0.56056,     0.56156,     0.56256,     0.56356,     0.56456,     0.56557,     0.56657,     0.56757,     0.56857,     0.56957,     0.57057,     0.57157,     0.57257,     0.57357,     0.57457,     0.57558,\n",
      "           0.57658,     0.57758,     0.57858,     0.57958,     0.58058,     0.58158,     0.58258,     0.58358,     0.58458,     0.58559,     0.58659,     0.58759,     0.58859,     0.58959,     0.59059,     0.59159,     0.59259,     0.59359,     0.59459,      0.5956,      0.5966,      0.5976,      0.5986,      0.5996,\n",
      "            0.6006,      0.6016,      0.6026,      0.6036,      0.6046,     0.60561,     0.60661,     0.60761,     0.60861,     0.60961,     0.61061,     0.61161,     0.61261,     0.61361,     0.61461,     0.61562,     0.61662,     0.61762,     0.61862,     0.61962,     0.62062,     0.62162,     0.62262,     0.62362,\n",
      "           0.62462,     0.62563,     0.62663,     0.62763,     0.62863,     0.62963,     0.63063,     0.63163,     0.63263,     0.63363,     0.63463,     0.63564,     0.63664,     0.63764,     0.63864,     0.63964,     0.64064,     0.64164,     0.64264,     0.64364,     0.64464,     0.64565,     0.64665,     0.64765,\n",
      "           0.64865,     0.64965,     0.65065,     0.65165,     0.65265,     0.65365,     0.65465,     0.65566,     0.65666,     0.65766,     0.65866,     0.65966,     0.66066,     0.66166,     0.66266,     0.66366,     0.66466,     0.66567,     0.66667,     0.66767,     0.66867,     0.66967,     0.67067,     0.67167,\n",
      "           0.67267,     0.67367,     0.67467,     0.67568,     0.67668,     0.67768,     0.67868,     0.67968,     0.68068,     0.68168,     0.68268,     0.68368,     0.68468,     0.68569,     0.68669,     0.68769,     0.68869,     0.68969,     0.69069,     0.69169,     0.69269,     0.69369,     0.69469,      0.6957,\n",
      "            0.6967,      0.6977,      0.6987,      0.6997,      0.7007,      0.7017,      0.7027,      0.7037,      0.7047,     0.70571,     0.70671,     0.70771,     0.70871,     0.70971,     0.71071,     0.71171,     0.71271,     0.71371,     0.71471,     0.71572,     0.71672,     0.71772,     0.71872,     0.71972,\n",
      "           0.72072,     0.72172,     0.72272,     0.72372,     0.72472,     0.72573,     0.72673,     0.72773,     0.72873,     0.72973,     0.73073,     0.73173,     0.73273,     0.73373,     0.73473,     0.73574,     0.73674,     0.73774,     0.73874,     0.73974,     0.74074,     0.74174,     0.74274,     0.74374,\n",
      "           0.74474,     0.74575,     0.74675,     0.74775,     0.74875,     0.74975,     0.75075,     0.75175,     0.75275,     0.75375,     0.75475,     0.75576,     0.75676,     0.75776,     0.75876,     0.75976,     0.76076,     0.76176,     0.76276,     0.76376,     0.76476,     0.76577,     0.76677,     0.76777,\n",
      "           0.76877,     0.76977,     0.77077,     0.77177,     0.77277,     0.77377,     0.77477,     0.77578,     0.77678,     0.77778,     0.77878,     0.77978,     0.78078,     0.78178,     0.78278,     0.78378,     0.78478,     0.78579,     0.78679,     0.78779,     0.78879,     0.78979,     0.79079,     0.79179,\n",
      "           0.79279,     0.79379,     0.79479,      0.7958,      0.7968,      0.7978,      0.7988,      0.7998,      0.8008,      0.8018,      0.8028,      0.8038,      0.8048,     0.80581,     0.80681,     0.80781,     0.80881,     0.80981,     0.81081,     0.81181,     0.81281,     0.81381,     0.81481,     0.81582,\n",
      "           0.81682,     0.81782,     0.81882,     0.81982,     0.82082,     0.82182,     0.82282,     0.82382,     0.82482,     0.82583,     0.82683,     0.82783,     0.82883,     0.82983,     0.83083,     0.83183,     0.83283,     0.83383,     0.83483,     0.83584,     0.83684,     0.83784,     0.83884,     0.83984,\n",
      "           0.84084,     0.84184,     0.84284,     0.84384,     0.84484,     0.84585,     0.84685,     0.84785,     0.84885,     0.84985,     0.85085,     0.85185,     0.85285,     0.85385,     0.85485,     0.85586,     0.85686,     0.85786,     0.85886,     0.85986,     0.86086,     0.86186,     0.86286,     0.86386,\n",
      "           0.86486,     0.86587,     0.86687,     0.86787,     0.86887,     0.86987,     0.87087,     0.87187,     0.87287,     0.87387,     0.87487,     0.87588,     0.87688,     0.87788,     0.87888,     0.87988,     0.88088,     0.88188,     0.88288,     0.88388,     0.88488,     0.88589,     0.88689,     0.88789,\n",
      "           0.88889,     0.88989,     0.89089,     0.89189,     0.89289,     0.89389,     0.89489,      0.8959,      0.8969,      0.8979,      0.8989,      0.8999,      0.9009,      0.9019,      0.9029,      0.9039,      0.9049,     0.90591,     0.90691,     0.90791,     0.90891,     0.90991,     0.91091,     0.91191,\n",
      "           0.91291,     0.91391,     0.91491,     0.91592,     0.91692,     0.91792,     0.91892,     0.91992,     0.92092,     0.92192,     0.92292,     0.92392,     0.92492,     0.92593,     0.92693,     0.92793,     0.92893,     0.92993,     0.93093,     0.93193,     0.93293,     0.93393,     0.93493,     0.93594,\n",
      "           0.93694,     0.93794,     0.93894,     0.93994,     0.94094,     0.94194,     0.94294,     0.94394,     0.94494,     0.94595,     0.94695,     0.94795,     0.94895,     0.94995,     0.95095,     0.95195,     0.95295,     0.95395,     0.95495,     0.95596,     0.95696,     0.95796,     0.95896,     0.95996,\n",
      "           0.96096,     0.96196,     0.96296,     0.96396,     0.96496,     0.96597,     0.96697,     0.96797,     0.96897,     0.96997,     0.97097,     0.97197,     0.97297,     0.97397,     0.97497,     0.97598,     0.97698,     0.97798,     0.97898,     0.97998,     0.98098,     0.98198,     0.98298,     0.98398,\n",
      "           0.98498,     0.98599,     0.98699,     0.98799,     0.98899,     0.98999,     0.99099,     0.99199,     0.99299,     0.99399,     0.99499,       0.996,       0.997,       0.998,       0.999,           1]), array([[   0.049591,    0.049594,    0.063416,    0.079142,    0.092864,       0.106,     0.11877,     0.12954,     0.13885,     0.14699,     0.15571,     0.16322,     0.17027,     0.17879,     0.18552,     0.19092,       0.198,     0.20331,     0.21033,     0.21644,     0.21736,     0.22245,     0.22585,\n",
      "            0.23095,     0.23354,     0.23345,     0.24035,     0.24673,     0.25096,     0.25503,     0.25914,     0.26297,     0.26629,     0.26888,     0.27025,     0.27284,     0.27689,     0.27857,     0.28311,     0.28586,     0.28813,     0.29219,     0.29607,     0.29727,     0.30206,     0.30434,\n",
      "            0.30877,      0.3121,     0.31771,     0.32202,      0.3236,     0.32712,     0.32985,     0.32677,     0.32872,     0.33133,     0.33366,     0.33358,     0.33654,     0.33925,     0.34165,     0.34456,     0.34625,     0.35021,     0.35194,     0.35521,     0.35923,     0.36187,     0.36449,\n",
      "            0.36635,     0.37143,     0.37423,     0.37677,     0.38039,     0.38072,     0.38207,     0.38573,     0.38919,     0.39039,     0.38913,     0.38685,     0.38838,     0.39053,     0.39225,     0.39392,     0.39548,     0.39878,     0.40129,     0.40397,     0.40606,     0.40622,     0.40786,\n",
      "            0.41251,     0.41424,     0.41289,     0.41425,     0.41708,     0.41743,     0.41838,     0.41921,     0.41959,      0.4194,     0.42273,     0.42351,     0.42492,     0.42796,     0.42998,     0.43103,     0.43265,     0.43408,      0.4298,     0.43168,     0.43102,     0.43553,     0.43683,\n",
      "            0.43807,     0.43946,     0.44041,     0.43931,     0.44052,     0.44288,      0.4436,     0.44204,     0.44319,     0.44281,      0.4428,     0.44407,     0.44612,     0.44704,     0.44537,     0.44598,     0.44384,     0.44479,     0.44672,     0.44902,     0.45235,     0.45329,     0.45438,\n",
      "            0.45524,     0.46021,     0.46127,     0.46327,     0.46595,     0.46784,     0.46868,      0.4699,      0.4709,     0.47394,     0.47681,     0.47784,     0.47873,     0.47983,     0.48164,     0.48236,     0.48409,      0.4854,     0.48455,     0.48631,     0.48736,      0.4818,     0.48277,\n",
      "            0.48439,     0.48498,     0.48575,     0.48757,     0.49069,     0.49267,     0.49473,     0.49605,     0.49851,      0.4997,     0.50085,     0.49839,     0.49895,     0.50052,     0.50217,     0.50278,     0.50368,     0.50234,     0.50215,     0.50311,     0.50351,     0.50391,     0.50105,\n",
      "             0.5025,     0.50296,     0.50522,     0.50602,     0.50699,     0.50891,     0.50973,     0.51047,     0.51314,     0.51423,     0.51522,     0.51642,     0.52034,     0.51543,     0.51589,     0.51697,     0.51905,     0.52024,     0.52269,     0.52379,     0.52473,      0.5256,     0.52632,\n",
      "             0.5286,     0.52762,     0.52375,     0.52447,     0.52734,     0.52644,     0.52866,     0.52931,     0.52906,      0.5276,     0.52647,     0.52827,     0.53011,     0.53033,     0.53055,     0.53076,     0.53098,     0.53091,      0.5278,     0.53042,     0.53148,     0.53179,     0.53211,\n",
      "            0.53242,     0.53248,     0.52939,     0.53189,     0.53247,     0.53313,     0.53447,     0.53497,     0.53548,     0.53943,     0.54174,     0.54294,      0.5447,     0.54551,     0.54756,     0.54855,     0.54927,     0.55124,      0.5517,     0.55215,     0.55268,     0.55423,     0.55522,\n",
      "             0.5569,     0.55736,     0.55782,     0.55914,     0.55993,     0.56053,     0.56104,     0.56148,     0.56191,     0.56252,     0.56343,     0.56404,     0.56458,     0.56586,     0.56752,     0.56475,     0.56472,     0.56528,     0.56595,     0.56682,     0.56466,     0.56261,     0.56132,\n",
      "            0.56004,     0.56054,     0.55923,     0.55833,     0.55737,     0.55632,     0.55392,     0.55363,      0.5556,     0.55637,      0.5569,     0.55775,     0.56032,     0.56154,     0.56286,     0.56612,     0.57115,     0.57237,     0.57268,       0.573,     0.57332,     0.57363,     0.57419,\n",
      "            0.57486,      0.5763,     0.57961,     0.58161,     0.58181,     0.58202,     0.58223,     0.58243,     0.58264,     0.58285,     0.58305,     0.58346,     0.58394,     0.58442,     0.58211,     0.58168,     0.58254,     0.58291,     0.58328,     0.58366,     0.58405,     0.58549,     0.58625,\n",
      "            0.58693,      0.5866,     0.58533,     0.58406,     0.58374,     0.58468,     0.58138,     0.58046,     0.57934,     0.57724,     0.57668,     0.57715,     0.57761,     0.57872,     0.57739,     0.57602,     0.57727,     0.58051,     0.58107,     0.58164,     0.58227,      0.5834,     0.57885,\n",
      "            0.57698,     0.57566,     0.57597,     0.57627,     0.57658,     0.57688,     0.57719,     0.58033,     0.57923,     0.57813,     0.57703,     0.57379,     0.57351,     0.56506,      0.5639,     0.56274,     0.56158,      0.5597,     0.55745,     0.55841,     0.55756,     0.55648,      0.5554,\n",
      "            0.55432,     0.55164,     0.55188,     0.55211,     0.55234,     0.55258,     0.55281,     0.55305,     0.55158,     0.54796,     0.54564,     0.54466,     0.54539,     0.54578,     0.54416,     0.54253,     0.54488,      0.5445,     0.54411,     0.54372,     0.54334,     0.54295,     0.54256,\n",
      "            0.54218,     0.54179,      0.5414,     0.54101,     0.54063,      0.5398,     0.53816,     0.53651,     0.53642,     0.53743,      0.5391,     0.54273,     0.54428,      0.5429,     0.54147,     0.54004,     0.54142,     0.54311,     0.54366,      0.5442,     0.54473,     0.54497,     0.54511,\n",
      "            0.54524,     0.54538,     0.54551,     0.54565,     0.54578,     0.54592,     0.54605,     0.54619,     0.54632,     0.54646,     0.54659,     0.54695,     0.54738,     0.54781,     0.54823,     0.54785,       0.547,     0.54614,     0.54529,     0.54444,     0.54506,     0.53888,     0.53307,\n",
      "            0.53382,     0.53275,      0.5292,     0.52759,     0.52599,     0.52315,     0.52013,     0.52044,     0.52076,     0.52107,     0.52138,     0.52169,     0.51895,     0.52121,     0.51694,     0.51644,     0.51595,     0.51545,     0.51495,     0.51445,     0.51395,     0.51346,     0.51296,\n",
      "            0.51246,     0.51196,     0.51089,      0.5098,     0.50872,     0.50763,      0.5085,     0.50806,     0.50762,     0.50718,     0.50674,      0.5063,     0.50585,     0.50541,     0.50497,     0.50453,     0.50409,     0.50365,     0.50365,       0.504,     0.50436,     0.50471,     0.50507,\n",
      "             0.5002,     0.50096,     0.50172,     0.50294,     0.50192,     0.50091,     0.49989,     0.49888,     0.49837,     0.49869,     0.49901,     0.49933,     0.49965,     0.49997,     0.49422,     0.49275,     0.49127,     0.48979,      0.4897,     0.49018,     0.49066,     0.49114,     0.49176,\n",
      "            0.49238,       0.491,     0.48894,     0.49078,      0.4912,     0.49145,      0.4917,     0.49195,      0.4922,     0.49245,      0.4927,     0.49069,     0.48807,     0.48465,     0.47799,     0.47956,     0.47879,     0.47779,     0.47678,     0.47578,     0.47477,      0.4739,     0.47334,\n",
      "            0.47277,     0.47221,     0.47165,     0.47108,     0.47052,     0.46995,     0.46939,     0.46882,     0.46796,     0.46621,     0.46446,     0.46271,     0.46297,     0.46325,     0.46354,     0.46382,     0.46411,     0.46439,     0.46503,     0.46572,     0.46641,     0.46711,     0.46781,\n",
      "             0.4663,     0.46437,     0.46242,     0.46247,     0.46287,     0.46328,     0.46368,     0.46257,     0.46002,     0.45769,     0.45622,     0.45474,     0.45326,     0.45051,     0.44505,      0.4423,     0.43747,     0.43198,     0.42902,     0.42836,     0.42888,     0.42939,     0.42913,\n",
      "            0.42779,     0.42644,      0.4251,     0.42375,     0.41977,     0.41745,     0.41774,     0.41802,      0.4183,     0.41858,     0.41886,     0.41773,     0.41458,     0.41503,     0.41548,     0.41593,     0.41495,      0.4137,     0.41245,      0.4112,     0.40995,     0.40852,     0.40701,\n",
      "            0.40551,       0.404,     0.40337,     0.40368,     0.40398,     0.40428,     0.40458,     0.40453,     0.39995,     0.39328,     0.38888,     0.38524,     0.37589,     0.37175,     0.36918,     0.36661,      0.3648,     0.36399,     0.36318,     0.36237,     0.36156,     0.36075,     0.35994,\n",
      "            0.35913,     0.35835,     0.35915,     0.35925,     0.35527,     0.35216,      0.3503,     0.34844,     0.34657,     0.34635,     0.34687,     0.34739,     0.34528,     0.34275,     0.33944,     0.33342,     0.33361,     0.33379,     0.33398,     0.33417,     0.33435,     0.33453,     0.33472,\n",
      "            0.33337,     0.33147,     0.32957,     0.32767,     0.31822,     0.31587,     0.31351,     0.31253,     0.31189,     0.31125,     0.31062,     0.30998,     0.30934,      0.3087,     0.30805,     0.30741,     0.30677,     0.30613,     0.30514,     0.30329,     0.30144,     0.29959,     0.28877,\n",
      "            0.28302,     0.28268,     0.28234,       0.282,     0.28167,     0.28133,     0.28099,     0.28065,     0.28031,     0.27997,     0.27963,     0.27929,     0.27894,      0.2786,     0.27826,     0.27792,     0.27758,     0.27724,      0.2769,     0.27656,     0.27622,     0.27587,     0.27537,\n",
      "            0.27257,     0.26975,     0.26791,     0.26806,     0.26821,     0.26836,     0.26851,     0.26866,     0.26881,     0.26896,     0.26614,     0.26068,     0.25953,     0.25837,     0.25721,     0.25605,     0.25488,     0.25372,      0.2461,     0.24585,     0.24481,     0.24377,     0.24273,\n",
      "            0.24169,     0.24065,      0.2396,     0.23856,      0.2374,     0.23624,     0.23508,     0.23391,     0.23275,     0.23158,     0.23041,     0.22912,     0.22782,     0.22653,     0.22523,     0.22393,     0.22262,     0.21432,     0.21168,     0.20933,     0.20697,     0.20214,     0.18947,\n",
      "            0.18893,     0.18918,     0.18943,     0.18406,      0.1798,      0.1783,     0.17679,     0.17528,     0.17377,     0.17226,     0.17056,     0.16886,     0.16715,     0.16544,     0.16372,     0.16279,     0.16199,     0.16119,      0.1604,      0.1596,      0.1588,       0.158,      0.1572,\n",
      "             0.1564,      0.1556,      0.1548,      0.1532,     0.15132,     0.14943,     0.14754,     0.14565,     0.14501,     0.14439,     0.14376,     0.14314,     0.14251,     0.14189,     0.14126,     0.14063,        0.14,     0.13938,     0.13875,     0.13812,     0.13749,     0.13686,     0.13321,\n",
      "             0.1272,     0.12161,     0.11754,     0.11581,     0.11407,     0.11233,     0.11059,     0.10891,     0.10896,       0.109,     0.10904,     0.10909,     0.10913,     0.10917,     0.10921,     0.10925,     0.10929,     0.10933,     0.10937,     0.10941,     0.10944,     0.10902,     0.10845,\n",
      "            0.10789,     0.10732,     0.10675,     0.10618,     0.10561,     0.10504,     0.10447,      0.1039,     0.10333,     0.10276,     0.10219,     0.10162,     0.10104,     0.10047,     0.09905,    0.093592,    0.087915,    0.081952,    0.080228,    0.079511,    0.078793,    0.078074,    0.077355,\n",
      "           0.076636,    0.075916,    0.075195,    0.074474,    0.073752,     0.07303,    0.072307,    0.071584,    0.069762,    0.065163,    0.061079,    0.060091,    0.059101,    0.058111,     0.05712,    0.056127,    0.055134,     0.05414,    0.053144,    0.052148,    0.051186,    0.050459,    0.049732,\n",
      "           0.049004,    0.048276,    0.047547,    0.046817,    0.046087,    0.045356,    0.044625,    0.043893,    0.043161,    0.042428,    0.041695,    0.040831,    0.039751,    0.038669,    0.037587,    0.036503,    0.035418,    0.034332,    0.033245,    0.032156,    0.031065,    0.029927,    0.028788,\n",
      "           0.027647,    0.026505,    0.025361,    0.024216,     0.02307,    0.021923,    0.020788,    0.019904,    0.019019,    0.018134,    0.017248,    0.016361,    0.015473,    0.014585,    0.013696,    0.012806,    0.011915,    0.011023,           0,           0,           0,           0,           0,\n",
      "                  0,           0,           0,           0,           0,           0,           0,           0,           0,           0,           0,           0,           0,           0,           0,           0,           0,           0,           0,           0,           0,           0,           0,\n",
      "                  0,           0,           0,           0,           0,           0,           0,           0,           0,           0,           0,           0,           0,           0,           0,           0,           0,           0,           0,           0,           0,           0,           0,\n",
      "                  0,           0,           0,           0,           0,           0,           0,           0,           0,           0,           0,           0,           0,           0,           0,           0,           0,           0,           0,           0,           0,           0,           0,\n",
      "                  0,           0,           0,           0,           0,           0,           0,           0,           0,           0,           0,           0,           0,           0,           0,           0,           0,           0,           0,           0,           0,           0,           0,\n",
      "                  0,           0,           0,           0,           0,           0,           0,           0,           0,           0,           0]]), 'Confidence', 'F1'], [array([          0,    0.001001,    0.002002,    0.003003,    0.004004,    0.005005,    0.006006,    0.007007,    0.008008,    0.009009,     0.01001,    0.011011,    0.012012,    0.013013,    0.014014,    0.015015,    0.016016,    0.017017,    0.018018,    0.019019,     0.02002,    0.021021,    0.022022,    0.023023,\n",
      "          0.024024,    0.025025,    0.026026,    0.027027,    0.028028,    0.029029,     0.03003,    0.031031,    0.032032,    0.033033,    0.034034,    0.035035,    0.036036,    0.037037,    0.038038,    0.039039,     0.04004,    0.041041,    0.042042,    0.043043,    0.044044,    0.045045,    0.046046,    0.047047,\n",
      "          0.048048,    0.049049,     0.05005,    0.051051,    0.052052,    0.053053,    0.054054,    0.055055,    0.056056,    0.057057,    0.058058,    0.059059,     0.06006,    0.061061,    0.062062,    0.063063,    0.064064,    0.065065,    0.066066,    0.067067,    0.068068,    0.069069,     0.07007,    0.071071,\n",
      "          0.072072,    0.073073,    0.074074,    0.075075,    0.076076,    0.077077,    0.078078,    0.079079,     0.08008,    0.081081,    0.082082,    0.083083,    0.084084,    0.085085,    0.086086,    0.087087,    0.088088,    0.089089,     0.09009,    0.091091,    0.092092,    0.093093,    0.094094,    0.095095,\n",
      "          0.096096,    0.097097,    0.098098,    0.099099,      0.1001,      0.1011,      0.1021,      0.1031,      0.1041,     0.10511,     0.10611,     0.10711,     0.10811,     0.10911,     0.11011,     0.11111,     0.11211,     0.11311,     0.11411,     0.11512,     0.11612,     0.11712,     0.11812,     0.11912,\n",
      "           0.12012,     0.12112,     0.12212,     0.12312,     0.12412,     0.12513,     0.12613,     0.12713,     0.12813,     0.12913,     0.13013,     0.13113,     0.13213,     0.13313,     0.13413,     0.13514,     0.13614,     0.13714,     0.13814,     0.13914,     0.14014,     0.14114,     0.14214,     0.14314,\n",
      "           0.14414,     0.14515,     0.14615,     0.14715,     0.14815,     0.14915,     0.15015,     0.15115,     0.15215,     0.15315,     0.15415,     0.15516,     0.15616,     0.15716,     0.15816,     0.15916,     0.16016,     0.16116,     0.16216,     0.16316,     0.16416,     0.16517,     0.16617,     0.16717,\n",
      "           0.16817,     0.16917,     0.17017,     0.17117,     0.17217,     0.17317,     0.17417,     0.17518,     0.17618,     0.17718,     0.17818,     0.17918,     0.18018,     0.18118,     0.18218,     0.18318,     0.18418,     0.18519,     0.18619,     0.18719,     0.18819,     0.18919,     0.19019,     0.19119,\n",
      "           0.19219,     0.19319,     0.19419,      0.1952,      0.1962,      0.1972,      0.1982,      0.1992,      0.2002,      0.2012,      0.2022,      0.2032,      0.2042,     0.20521,     0.20621,     0.20721,     0.20821,     0.20921,     0.21021,     0.21121,     0.21221,     0.21321,     0.21421,     0.21522,\n",
      "           0.21622,     0.21722,     0.21822,     0.21922,     0.22022,     0.22122,     0.22222,     0.22322,     0.22422,     0.22523,     0.22623,     0.22723,     0.22823,     0.22923,     0.23023,     0.23123,     0.23223,     0.23323,     0.23423,     0.23524,     0.23624,     0.23724,     0.23824,     0.23924,\n",
      "           0.24024,     0.24124,     0.24224,     0.24324,     0.24424,     0.24525,     0.24625,     0.24725,     0.24825,     0.24925,     0.25025,     0.25125,     0.25225,     0.25325,     0.25425,     0.25526,     0.25626,     0.25726,     0.25826,     0.25926,     0.26026,     0.26126,     0.26226,     0.26326,\n",
      "           0.26426,     0.26527,     0.26627,     0.26727,     0.26827,     0.26927,     0.27027,     0.27127,     0.27227,     0.27327,     0.27427,     0.27528,     0.27628,     0.27728,     0.27828,     0.27928,     0.28028,     0.28128,     0.28228,     0.28328,     0.28428,     0.28529,     0.28629,     0.28729,\n",
      "           0.28829,     0.28929,     0.29029,     0.29129,     0.29229,     0.29329,     0.29429,      0.2953,      0.2963,      0.2973,      0.2983,      0.2993,      0.3003,      0.3013,      0.3023,      0.3033,      0.3043,     0.30531,     0.30631,     0.30731,     0.30831,     0.30931,     0.31031,     0.31131,\n",
      "           0.31231,     0.31331,     0.31431,     0.31532,     0.31632,     0.31732,     0.31832,     0.31932,     0.32032,     0.32132,     0.32232,     0.32332,     0.32432,     0.32533,     0.32633,     0.32733,     0.32833,     0.32933,     0.33033,     0.33133,     0.33233,     0.33333,     0.33433,     0.33534,\n",
      "           0.33634,     0.33734,     0.33834,     0.33934,     0.34034,     0.34134,     0.34234,     0.34334,     0.34434,     0.34535,     0.34635,     0.34735,     0.34835,     0.34935,     0.35035,     0.35135,     0.35235,     0.35335,     0.35435,     0.35536,     0.35636,     0.35736,     0.35836,     0.35936,\n",
      "           0.36036,     0.36136,     0.36236,     0.36336,     0.36436,     0.36537,     0.36637,     0.36737,     0.36837,     0.36937,     0.37037,     0.37137,     0.37237,     0.37337,     0.37437,     0.37538,     0.37638,     0.37738,     0.37838,     0.37938,     0.38038,     0.38138,     0.38238,     0.38338,\n",
      "           0.38438,     0.38539,     0.38639,     0.38739,     0.38839,     0.38939,     0.39039,     0.39139,     0.39239,     0.39339,     0.39439,      0.3954,      0.3964,      0.3974,      0.3984,      0.3994,      0.4004,      0.4014,      0.4024,      0.4034,      0.4044,     0.40541,     0.40641,     0.40741,\n",
      "           0.40841,     0.40941,     0.41041,     0.41141,     0.41241,     0.41341,     0.41441,     0.41542,     0.41642,     0.41742,     0.41842,     0.41942,     0.42042,     0.42142,     0.42242,     0.42342,     0.42442,     0.42543,     0.42643,     0.42743,     0.42843,     0.42943,     0.43043,     0.43143,\n",
      "           0.43243,     0.43343,     0.43443,     0.43544,     0.43644,     0.43744,     0.43844,     0.43944,     0.44044,     0.44144,     0.44244,     0.44344,     0.44444,     0.44545,     0.44645,     0.44745,     0.44845,     0.44945,     0.45045,     0.45145,     0.45245,     0.45345,     0.45445,     0.45546,\n",
      "           0.45646,     0.45746,     0.45846,     0.45946,     0.46046,     0.46146,     0.46246,     0.46346,     0.46446,     0.46547,     0.46647,     0.46747,     0.46847,     0.46947,     0.47047,     0.47147,     0.47247,     0.47347,     0.47447,     0.47548,     0.47648,     0.47748,     0.47848,     0.47948,\n",
      "           0.48048,     0.48148,     0.48248,     0.48348,     0.48448,     0.48549,     0.48649,     0.48749,     0.48849,     0.48949,     0.49049,     0.49149,     0.49249,     0.49349,     0.49449,      0.4955,      0.4965,      0.4975,      0.4985,      0.4995,      0.5005,      0.5015,      0.5025,      0.5035,\n",
      "            0.5045,     0.50551,     0.50651,     0.50751,     0.50851,     0.50951,     0.51051,     0.51151,     0.51251,     0.51351,     0.51451,     0.51552,     0.51652,     0.51752,     0.51852,     0.51952,     0.52052,     0.52152,     0.52252,     0.52352,     0.52452,     0.52553,     0.52653,     0.52753,\n",
      "           0.52853,     0.52953,     0.53053,     0.53153,     0.53253,     0.53353,     0.53453,     0.53554,     0.53654,     0.53754,     0.53854,     0.53954,     0.54054,     0.54154,     0.54254,     0.54354,     0.54454,     0.54555,     0.54655,     0.54755,     0.54855,     0.54955,     0.55055,     0.55155,\n",
      "           0.55255,     0.55355,     0.55455,     0.55556,     0.55656,     0.55756,     0.55856,     0.55956,     0.56056,     0.56156,     0.56256,     0.56356,     0.56456,     0.56557,     0.56657,     0.56757,     0.56857,     0.56957,     0.57057,     0.57157,     0.57257,     0.57357,     0.57457,     0.57558,\n",
      "           0.57658,     0.57758,     0.57858,     0.57958,     0.58058,     0.58158,     0.58258,     0.58358,     0.58458,     0.58559,     0.58659,     0.58759,     0.58859,     0.58959,     0.59059,     0.59159,     0.59259,     0.59359,     0.59459,      0.5956,      0.5966,      0.5976,      0.5986,      0.5996,\n",
      "            0.6006,      0.6016,      0.6026,      0.6036,      0.6046,     0.60561,     0.60661,     0.60761,     0.60861,     0.60961,     0.61061,     0.61161,     0.61261,     0.61361,     0.61461,     0.61562,     0.61662,     0.61762,     0.61862,     0.61962,     0.62062,     0.62162,     0.62262,     0.62362,\n",
      "           0.62462,     0.62563,     0.62663,     0.62763,     0.62863,     0.62963,     0.63063,     0.63163,     0.63263,     0.63363,     0.63463,     0.63564,     0.63664,     0.63764,     0.63864,     0.63964,     0.64064,     0.64164,     0.64264,     0.64364,     0.64464,     0.64565,     0.64665,     0.64765,\n",
      "           0.64865,     0.64965,     0.65065,     0.65165,     0.65265,     0.65365,     0.65465,     0.65566,     0.65666,     0.65766,     0.65866,     0.65966,     0.66066,     0.66166,     0.66266,     0.66366,     0.66466,     0.66567,     0.66667,     0.66767,     0.66867,     0.66967,     0.67067,     0.67167,\n",
      "           0.67267,     0.67367,     0.67467,     0.67568,     0.67668,     0.67768,     0.67868,     0.67968,     0.68068,     0.68168,     0.68268,     0.68368,     0.68468,     0.68569,     0.68669,     0.68769,     0.68869,     0.68969,     0.69069,     0.69169,     0.69269,     0.69369,     0.69469,      0.6957,\n",
      "            0.6967,      0.6977,      0.6987,      0.6997,      0.7007,      0.7017,      0.7027,      0.7037,      0.7047,     0.70571,     0.70671,     0.70771,     0.70871,     0.70971,     0.71071,     0.71171,     0.71271,     0.71371,     0.71471,     0.71572,     0.71672,     0.71772,     0.71872,     0.71972,\n",
      "           0.72072,     0.72172,     0.72272,     0.72372,     0.72472,     0.72573,     0.72673,     0.72773,     0.72873,     0.72973,     0.73073,     0.73173,     0.73273,     0.73373,     0.73473,     0.73574,     0.73674,     0.73774,     0.73874,     0.73974,     0.74074,     0.74174,     0.74274,     0.74374,\n",
      "           0.74474,     0.74575,     0.74675,     0.74775,     0.74875,     0.74975,     0.75075,     0.75175,     0.75275,     0.75375,     0.75475,     0.75576,     0.75676,     0.75776,     0.75876,     0.75976,     0.76076,     0.76176,     0.76276,     0.76376,     0.76476,     0.76577,     0.76677,     0.76777,\n",
      "           0.76877,     0.76977,     0.77077,     0.77177,     0.77277,     0.77377,     0.77477,     0.77578,     0.77678,     0.77778,     0.77878,     0.77978,     0.78078,     0.78178,     0.78278,     0.78378,     0.78478,     0.78579,     0.78679,     0.78779,     0.78879,     0.78979,     0.79079,     0.79179,\n",
      "           0.79279,     0.79379,     0.79479,      0.7958,      0.7968,      0.7978,      0.7988,      0.7998,      0.8008,      0.8018,      0.8028,      0.8038,      0.8048,     0.80581,     0.80681,     0.80781,     0.80881,     0.80981,     0.81081,     0.81181,     0.81281,     0.81381,     0.81481,     0.81582,\n",
      "           0.81682,     0.81782,     0.81882,     0.81982,     0.82082,     0.82182,     0.82282,     0.82382,     0.82482,     0.82583,     0.82683,     0.82783,     0.82883,     0.82983,     0.83083,     0.83183,     0.83283,     0.83383,     0.83483,     0.83584,     0.83684,     0.83784,     0.83884,     0.83984,\n",
      "           0.84084,     0.84184,     0.84284,     0.84384,     0.84484,     0.84585,     0.84685,     0.84785,     0.84885,     0.84985,     0.85085,     0.85185,     0.85285,     0.85385,     0.85485,     0.85586,     0.85686,     0.85786,     0.85886,     0.85986,     0.86086,     0.86186,     0.86286,     0.86386,\n",
      "           0.86486,     0.86587,     0.86687,     0.86787,     0.86887,     0.86987,     0.87087,     0.87187,     0.87287,     0.87387,     0.87487,     0.87588,     0.87688,     0.87788,     0.87888,     0.87988,     0.88088,     0.88188,     0.88288,     0.88388,     0.88488,     0.88589,     0.88689,     0.88789,\n",
      "           0.88889,     0.88989,     0.89089,     0.89189,     0.89289,     0.89389,     0.89489,      0.8959,      0.8969,      0.8979,      0.8989,      0.8999,      0.9009,      0.9019,      0.9029,      0.9039,      0.9049,     0.90591,     0.90691,     0.90791,     0.90891,     0.90991,     0.91091,     0.91191,\n",
      "           0.91291,     0.91391,     0.91491,     0.91592,     0.91692,     0.91792,     0.91892,     0.91992,     0.92092,     0.92192,     0.92292,     0.92392,     0.92492,     0.92593,     0.92693,     0.92793,     0.92893,     0.92993,     0.93093,     0.93193,     0.93293,     0.93393,     0.93493,     0.93594,\n",
      "           0.93694,     0.93794,     0.93894,     0.93994,     0.94094,     0.94194,     0.94294,     0.94394,     0.94494,     0.94595,     0.94695,     0.94795,     0.94895,     0.94995,     0.95095,     0.95195,     0.95295,     0.95395,     0.95495,     0.95596,     0.95696,     0.95796,     0.95896,     0.95996,\n",
      "           0.96096,     0.96196,     0.96296,     0.96396,     0.96496,     0.96597,     0.96697,     0.96797,     0.96897,     0.96997,     0.97097,     0.97197,     0.97297,     0.97397,     0.97497,     0.97598,     0.97698,     0.97798,     0.97898,     0.97998,     0.98098,     0.98198,     0.98298,     0.98398,\n",
      "           0.98498,     0.98599,     0.98699,     0.98799,     0.98899,     0.98999,     0.99099,     0.99199,     0.99299,     0.99399,     0.99499,       0.996,       0.997,       0.998,       0.999,           1]), array([[   0.025444,    0.025445,    0.032781,    0.041257,    0.048784,    0.056102,    0.063308,    0.069522,    0.074982,    0.079827,    0.085044,    0.089544,    0.093804,    0.099003,     0.10321,     0.10664,     0.11108,     0.11443,      0.1189,     0.12282,     0.12371,     0.12701,     0.12935,\n",
      "            0.13282,     0.13454,     0.13485,     0.13948,     0.14379,     0.14668,     0.14946,      0.1523,     0.15494,     0.15743,     0.15942,     0.16076,     0.16279,     0.16568,      0.1671,     0.17037,     0.17237,     0.17403,       0.177,     0.17985,     0.18124,     0.18481,     0.18652,\n",
      "            0.18985,     0.19238,     0.19696,     0.20029,     0.20183,     0.20458,      0.2069,     0.20561,     0.20721,     0.20929,     0.21115,     0.21146,     0.21385,     0.21604,     0.21799,     0.22037,     0.22217,     0.22544,     0.22688,     0.22961,     0.23297,      0.2352,     0.23742,\n",
      "              0.239,     0.24334,     0.24575,     0.24795,     0.25109,     0.25193,     0.25311,     0.25633,      0.2594,     0.26078,     0.26053,     0.25971,     0.26109,     0.26304,      0.2646,     0.26612,     0.26755,     0.27057,     0.27289,     0.27538,     0.27732,     0.27818,     0.27973,\n",
      "            0.28412,     0.28576,     0.28523,     0.28706,     0.29004,      0.2912,     0.29213,     0.29294,     0.29331,     0.29396,     0.29725,     0.29802,     0.29941,     0.30244,     0.30447,     0.30552,      0.3078,     0.30954,     0.30786,     0.31001,     0.31034,     0.31504,     0.31641,\n",
      "             0.3177,     0.31917,     0.32127,     0.32121,     0.32251,     0.32504,     0.32582,      0.3253,     0.32655,     0.32732,     0.32853,     0.32993,      0.3322,     0.33364,     0.33257,     0.33332,     0.33195,     0.33329,     0.33546,     0.33805,     0.34184,     0.34292,     0.34417,\n",
      "            0.34516,     0.35091,     0.35214,     0.35447,     0.35762,     0.35986,     0.36085,      0.3623,     0.36349,     0.36712,     0.37058,     0.37182,      0.3729,     0.37424,     0.37645,     0.37733,     0.37945,     0.38121,     0.38174,     0.38393,     0.38524,     0.38185,     0.38307,\n",
      "            0.38511,     0.38585,     0.38684,     0.38915,     0.39313,     0.39568,     0.39835,     0.40007,     0.40327,     0.40484,     0.40635,     0.40515,     0.40589,     0.40798,     0.41017,     0.41099,      0.4122,     0.41162,     0.41228,     0.41358,     0.41412,     0.41466,     0.41298,\n",
      "            0.41496,     0.41559,     0.41869,     0.41979,     0.42112,     0.42378,     0.42491,     0.42595,     0.42968,     0.43121,      0.4326,     0.43429,     0.43987,     0.43791,     0.43857,     0.44013,     0.44316,      0.4449,     0.44848,     0.45011,     0.45151,     0.45278,     0.45386,\n",
      "            0.45726,      0.4579,     0.45542,     0.45673,     0.46111,     0.46239,     0.46616,     0.46716,     0.46735,     0.46641,     0.46583,     0.46865,     0.47157,     0.47191,     0.47225,     0.47259,     0.47294,     0.47308,     0.47109,      0.4753,       0.477,     0.47751,     0.47802,\n",
      "            0.47852,     0.47884,     0.47699,     0.48106,     0.48201,     0.48309,     0.48529,     0.48612,     0.48696,     0.49354,     0.49741,     0.49944,     0.50243,     0.50381,     0.50732,     0.50902,     0.51026,     0.51368,     0.51446,     0.51525,     0.51618,     0.51889,     0.52063,\n",
      "            0.52359,     0.52441,     0.52522,     0.52756,     0.52897,     0.53004,     0.53095,     0.53174,     0.53252,     0.53362,     0.53525,     0.53635,     0.53733,     0.53965,     0.54268,     0.54138,     0.54197,       0.543,     0.54423,     0.54585,     0.54486,      0.5436,     0.54281,\n",
      "            0.54202,     0.54327,     0.54333,     0.54378,     0.54401,     0.54472,     0.54373,     0.54443,     0.54824,     0.54974,     0.55079,     0.55244,     0.55752,     0.55992,     0.56257,     0.56911,     0.57936,     0.58188,     0.58254,     0.58319,     0.58385,      0.5845,     0.58566,\n",
      "            0.58705,     0.59008,     0.59705,     0.60131,     0.60175,     0.60219,     0.60263,     0.60308,     0.60352,     0.60396,      0.6044,     0.60528,     0.60632,     0.60736,     0.60646,     0.60758,     0.60946,     0.61028,     0.61109,     0.61191,     0.61277,     0.61597,     0.61764,\n",
      "            0.61916,     0.61951,     0.61878,     0.61806,     0.61855,     0.62068,     0.61926,     0.62151,     0.62207,      0.6225,     0.62291,       0.624,     0.62508,     0.62769,      0.6284,     0.62857,     0.63156,     0.63936,     0.64073,      0.6421,     0.64364,     0.64642,     0.64468,\n",
      "            0.64364,     0.64305,     0.64382,     0.64459,     0.64535,     0.64612,     0.64688,     0.65546,     0.65485,     0.65425,     0.65364,     0.65185,     0.65421,     0.65045,      0.6498,     0.64914,     0.64849,     0.64743,     0.64615,     0.64996,     0.64978,     0.64917,     0.64856,\n",
      "            0.64795,     0.65035,       0.651,     0.65166,     0.65231,     0.65296,     0.65361,     0.65427,     0.65376,     0.65171,     0.65038,     0.65055,     0.65263,     0.65428,     0.65335,     0.65242,     0.66165,     0.66143,     0.66121,     0.66099,     0.66077,     0.66055,     0.66033,\n",
      "            0.66011,     0.65989,     0.65967,     0.65945,     0.65923,     0.65876,     0.65782,     0.65688,     0.65827,     0.66134,     0.66641,     0.67762,     0.68247,     0.68177,     0.68098,      0.6802,     0.68556,     0.69099,     0.69277,     0.69451,     0.69625,     0.69705,     0.69749,\n",
      "            0.69793,     0.69838,     0.69882,     0.69926,     0.69971,     0.70015,     0.70059,     0.70104,     0.70148,     0.70193,     0.70237,     0.70355,     0.70497,      0.7064,     0.70782,     0.70805,     0.70761,     0.70716,     0.70672,     0.70627,     0.71166,     0.70844,     0.70537,\n",
      "            0.71383,     0.71582,     0.71397,     0.71312,     0.71228,     0.71077,     0.70957,     0.71074,     0.71191,     0.71308,     0.71425,     0.71542,     0.72129,      0.7301,     0.73073,     0.73048,     0.73022,     0.72996,     0.72971,     0.72945,     0.72919,     0.72893,     0.72868,\n",
      "            0.72842,     0.72816,      0.7276,     0.72703,     0.72647,      0.7259,     0.73262,      0.7324,     0.73217,     0.73194,     0.73171,     0.73148,     0.73125,     0.73102,     0.73079,     0.73056,     0.73033,      0.7301,     0.73083,     0.73233,     0.73384,     0.73535,     0.73685,\n",
      "            0.73557,     0.73886,     0.74215,     0.74972,     0.74921,      0.7487,     0.74819,     0.74768,     0.74792,     0.74938,     0.75083,     0.75229,     0.75374,      0.7552,     0.75245,      0.7517,     0.75096,     0.75021,     0.75161,     0.75387,     0.75613,     0.75843,     0.76139,\n",
      "            0.76435,     0.76576,     0.77138,      0.7806,     0.78274,     0.78402,     0.78531,     0.78659,     0.78787,     0.78915,     0.79043,     0.78977,     0.78859,     0.78704,     0.79294,     0.80166,     0.80207,     0.80163,     0.80119,     0.80075,     0.80031,     0.79992,     0.79967,\n",
      "            0.79942,     0.79917,     0.79892,     0.79866,     0.79841,     0.79816,     0.79791,     0.79766,     0.79727,     0.79647,     0.79568,     0.79488,     0.79654,     0.79824,     0.79993,     0.80162,     0.80332,     0.80501,      0.8089,     0.81306,     0.81728,     0.82162,     0.82596,\n",
      "            0.82601,     0.82523,     0.82445,     0.82653,     0.82913,     0.83174,     0.83434,     0.83511,     0.83411,      0.8332,     0.83262,     0.83203,     0.83144,     0.83034,     0.82811,     0.82697,     0.82495,     0.82261,     0.82133,     0.82343,     0.82726,     0.83109,      0.8331,\n",
      "            0.83254,     0.83198,     0.83142,     0.83086,     0.82917,     0.82915,     0.83139,     0.83362,     0.83586,      0.8381,     0.84034,     0.85374,     0.85447,     0.85833,      0.8622,     0.86607,     0.86629,     0.86585,      0.8654,     0.86496,     0.86452,       0.864,     0.86345,\n",
      "             0.8629,     0.86235,     0.86342,     0.86622,     0.86901,     0.87181,      0.8746,     0.87708,     0.87553,     0.87323,     0.87167,     0.87037,     0.86689,     0.86532,     0.86432,     0.86332,      0.8626,     0.86228,     0.86195,     0.86163,      0.8613,     0.86097,     0.86065,\n",
      "            0.86032,     0.86016,     0.86955,     0.87733,     0.87586,      0.8747,     0.87399,     0.87328,     0.87256,     0.87696,     0.88366,     0.89036,     0.89056,     0.88968,     0.88854,     0.88759,     0.89026,     0.89292,     0.89559,     0.89826,     0.90093,      0.9036,     0.90627,\n",
      "            0.90655,     0.90596,     0.90537,     0.90479,     0.90173,     0.90094,     0.90015,     0.89982,      0.8996,     0.89938,     0.89915,     0.89893,     0.89871,     0.89848,     0.89826,     0.89804,     0.89782,     0.89759,     0.89724,     0.89657,      0.8959,     0.89522,     0.89111,\n",
      "            0.88882,     0.88868,     0.88854,      0.8884,     0.88825,     0.88811,     0.88797,     0.88783,     0.88769,     0.88755,      0.8874,     0.88726,     0.88712,     0.88698,     0.88684,      0.8867,     0.88655,     0.88641,     0.88627,     0.88613,     0.88599,     0.88585,     0.88563,\n",
      "            0.88441,     0.88318,     0.88345,     0.88678,     0.89011,     0.89344,     0.89677,      0.9001,     0.90343,     0.90676,     0.90803,     0.90603,     0.90558,     0.90513,     0.90469,     0.90424,      0.9038,     0.90335,     0.91763,     0.93081,     0.93049,     0.93017,     0.92986,\n",
      "            0.92954,     0.92922,      0.9289,     0.92858,      0.9282,     0.92782,     0.92744,     0.92706,     0.92668,     0.92631,     0.92593,     0.92547,     0.92502,     0.92457,     0.92412,     0.92367,     0.92322,     0.92013,     0.91909,     0.91815,     0.91721,     0.91517,     0.90946,\n",
      "             0.9208,       0.933,      0.9452,     0.95086,     0.94965,     0.94919,     0.94874,     0.94828,     0.94783,     0.94737,      0.9468,     0.94624,     0.94567,      0.9451,     0.94453,     0.94419,      0.9439,     0.94361,     0.94331,     0.94302,     0.94272,     0.94243,     0.94214,\n",
      "            0.94184,     0.94155,     0.94125,     0.94061,     0.93983,     0.93906,     0.93828,     0.93751,     0.93721,     0.93693,     0.93664,     0.93635,     0.93606,     0.93577,     0.93548,     0.93519,      0.9349,     0.93461,     0.93433,     0.93404,     0.93375,     0.93346,     0.93157,\n",
      "            0.92842,     0.92509,      0.9226,     0.92141,     0.92021,     0.91901,     0.91782,     0.91692,     0.92319,     0.92947,     0.93574,     0.94202,      0.9483,     0.95457,     0.96085,     0.96713,      0.9734,     0.97968,     0.98595,     0.99223,     0.99851,           1,           1,\n",
      "                  1,           1,           1,           1,           1,           1,           1,           1,           1,           1,           1,           1,           1,           1,           1,           1,           1,           1,           1,           1,           1,           1,           1,\n",
      "                  1,           1,           1,           1,           1,           1,           1,           1,           1,           1,           1,           1,           1,           1,           1,           1,           1,           1,           1,           1,           1,           1,           1,\n",
      "                  1,           1,           1,           1,           1,           1,           1,           1,           1,           1,           1,           1,           1,           1,           1,           1,           1,           1,           1,           1,           1,           1,           1,\n",
      "                  1,           1,           1,           1,           1,           1,           1,           1,           1,           1,           1,           1,           1,           1,           1,           1,           1,           1,           1,           1,           1,           1,           1,\n",
      "                  1,           1,           1,           1,           1,           1,           1,           1,           1,           1,           1,           1,           1,           1,           1,           1,           1,           1,           1,           1,           1,           1,           1,\n",
      "                  1,           1,           1,           1,           1,           1,           1,           1,           1,           1,           1,           1,           1,           1,           1,           1,           1,           1,           1,           1,           1,           1,           1,\n",
      "                  1,           1,           1,           1,           1,           1,           1,           1,           1,           1,           1,           1,           1,           1,           1,           1,           1,           1,           1,           1,           1,           1,           1,\n",
      "                  1,           1,           1,           1,           1,           1,           1,           1,           1,           1,           1,           1,           1,           1,           1,           1,           1,           1,           1,           1,           1,           1,           1,\n",
      "                  1,           1,           1,           1,           1,           1,           1,           1,           1,           1,           1]]), 'Confidence', 'Precision'], [array([          0,    0.001001,    0.002002,    0.003003,    0.004004,    0.005005,    0.006006,    0.007007,    0.008008,    0.009009,     0.01001,    0.011011,    0.012012,    0.013013,    0.014014,    0.015015,    0.016016,    0.017017,    0.018018,    0.019019,     0.02002,    0.021021,    0.022022,    0.023023,\n",
      "          0.024024,    0.025025,    0.026026,    0.027027,    0.028028,    0.029029,     0.03003,    0.031031,    0.032032,    0.033033,    0.034034,    0.035035,    0.036036,    0.037037,    0.038038,    0.039039,     0.04004,    0.041041,    0.042042,    0.043043,    0.044044,    0.045045,    0.046046,    0.047047,\n",
      "          0.048048,    0.049049,     0.05005,    0.051051,    0.052052,    0.053053,    0.054054,    0.055055,    0.056056,    0.057057,    0.058058,    0.059059,     0.06006,    0.061061,    0.062062,    0.063063,    0.064064,    0.065065,    0.066066,    0.067067,    0.068068,    0.069069,     0.07007,    0.071071,\n",
      "          0.072072,    0.073073,    0.074074,    0.075075,    0.076076,    0.077077,    0.078078,    0.079079,     0.08008,    0.081081,    0.082082,    0.083083,    0.084084,    0.085085,    0.086086,    0.087087,    0.088088,    0.089089,     0.09009,    0.091091,    0.092092,    0.093093,    0.094094,    0.095095,\n",
      "          0.096096,    0.097097,    0.098098,    0.099099,      0.1001,      0.1011,      0.1021,      0.1031,      0.1041,     0.10511,     0.10611,     0.10711,     0.10811,     0.10911,     0.11011,     0.11111,     0.11211,     0.11311,     0.11411,     0.11512,     0.11612,     0.11712,     0.11812,     0.11912,\n",
      "           0.12012,     0.12112,     0.12212,     0.12312,     0.12412,     0.12513,     0.12613,     0.12713,     0.12813,     0.12913,     0.13013,     0.13113,     0.13213,     0.13313,     0.13413,     0.13514,     0.13614,     0.13714,     0.13814,     0.13914,     0.14014,     0.14114,     0.14214,     0.14314,\n",
      "           0.14414,     0.14515,     0.14615,     0.14715,     0.14815,     0.14915,     0.15015,     0.15115,     0.15215,     0.15315,     0.15415,     0.15516,     0.15616,     0.15716,     0.15816,     0.15916,     0.16016,     0.16116,     0.16216,     0.16316,     0.16416,     0.16517,     0.16617,     0.16717,\n",
      "           0.16817,     0.16917,     0.17017,     0.17117,     0.17217,     0.17317,     0.17417,     0.17518,     0.17618,     0.17718,     0.17818,     0.17918,     0.18018,     0.18118,     0.18218,     0.18318,     0.18418,     0.18519,     0.18619,     0.18719,     0.18819,     0.18919,     0.19019,     0.19119,\n",
      "           0.19219,     0.19319,     0.19419,      0.1952,      0.1962,      0.1972,      0.1982,      0.1992,      0.2002,      0.2012,      0.2022,      0.2032,      0.2042,     0.20521,     0.20621,     0.20721,     0.20821,     0.20921,     0.21021,     0.21121,     0.21221,     0.21321,     0.21421,     0.21522,\n",
      "           0.21622,     0.21722,     0.21822,     0.21922,     0.22022,     0.22122,     0.22222,     0.22322,     0.22422,     0.22523,     0.22623,     0.22723,     0.22823,     0.22923,     0.23023,     0.23123,     0.23223,     0.23323,     0.23423,     0.23524,     0.23624,     0.23724,     0.23824,     0.23924,\n",
      "           0.24024,     0.24124,     0.24224,     0.24324,     0.24424,     0.24525,     0.24625,     0.24725,     0.24825,     0.24925,     0.25025,     0.25125,     0.25225,     0.25325,     0.25425,     0.25526,     0.25626,     0.25726,     0.25826,     0.25926,     0.26026,     0.26126,     0.26226,     0.26326,\n",
      "           0.26426,     0.26527,     0.26627,     0.26727,     0.26827,     0.26927,     0.27027,     0.27127,     0.27227,     0.27327,     0.27427,     0.27528,     0.27628,     0.27728,     0.27828,     0.27928,     0.28028,     0.28128,     0.28228,     0.28328,     0.28428,     0.28529,     0.28629,     0.28729,\n",
      "           0.28829,     0.28929,     0.29029,     0.29129,     0.29229,     0.29329,     0.29429,      0.2953,      0.2963,      0.2973,      0.2983,      0.2993,      0.3003,      0.3013,      0.3023,      0.3033,      0.3043,     0.30531,     0.30631,     0.30731,     0.30831,     0.30931,     0.31031,     0.31131,\n",
      "           0.31231,     0.31331,     0.31431,     0.31532,     0.31632,     0.31732,     0.31832,     0.31932,     0.32032,     0.32132,     0.32232,     0.32332,     0.32432,     0.32533,     0.32633,     0.32733,     0.32833,     0.32933,     0.33033,     0.33133,     0.33233,     0.33333,     0.33433,     0.33534,\n",
      "           0.33634,     0.33734,     0.33834,     0.33934,     0.34034,     0.34134,     0.34234,     0.34334,     0.34434,     0.34535,     0.34635,     0.34735,     0.34835,     0.34935,     0.35035,     0.35135,     0.35235,     0.35335,     0.35435,     0.35536,     0.35636,     0.35736,     0.35836,     0.35936,\n",
      "           0.36036,     0.36136,     0.36236,     0.36336,     0.36436,     0.36537,     0.36637,     0.36737,     0.36837,     0.36937,     0.37037,     0.37137,     0.37237,     0.37337,     0.37437,     0.37538,     0.37638,     0.37738,     0.37838,     0.37938,     0.38038,     0.38138,     0.38238,     0.38338,\n",
      "           0.38438,     0.38539,     0.38639,     0.38739,     0.38839,     0.38939,     0.39039,     0.39139,     0.39239,     0.39339,     0.39439,      0.3954,      0.3964,      0.3974,      0.3984,      0.3994,      0.4004,      0.4014,      0.4024,      0.4034,      0.4044,     0.40541,     0.40641,     0.40741,\n",
      "           0.40841,     0.40941,     0.41041,     0.41141,     0.41241,     0.41341,     0.41441,     0.41542,     0.41642,     0.41742,     0.41842,     0.41942,     0.42042,     0.42142,     0.42242,     0.42342,     0.42442,     0.42543,     0.42643,     0.42743,     0.42843,     0.42943,     0.43043,     0.43143,\n",
      "           0.43243,     0.43343,     0.43443,     0.43544,     0.43644,     0.43744,     0.43844,     0.43944,     0.44044,     0.44144,     0.44244,     0.44344,     0.44444,     0.44545,     0.44645,     0.44745,     0.44845,     0.44945,     0.45045,     0.45145,     0.45245,     0.45345,     0.45445,     0.45546,\n",
      "           0.45646,     0.45746,     0.45846,     0.45946,     0.46046,     0.46146,     0.46246,     0.46346,     0.46446,     0.46547,     0.46647,     0.46747,     0.46847,     0.46947,     0.47047,     0.47147,     0.47247,     0.47347,     0.47447,     0.47548,     0.47648,     0.47748,     0.47848,     0.47948,\n",
      "           0.48048,     0.48148,     0.48248,     0.48348,     0.48448,     0.48549,     0.48649,     0.48749,     0.48849,     0.48949,     0.49049,     0.49149,     0.49249,     0.49349,     0.49449,      0.4955,      0.4965,      0.4975,      0.4985,      0.4995,      0.5005,      0.5015,      0.5025,      0.5035,\n",
      "            0.5045,     0.50551,     0.50651,     0.50751,     0.50851,     0.50951,     0.51051,     0.51151,     0.51251,     0.51351,     0.51451,     0.51552,     0.51652,     0.51752,     0.51852,     0.51952,     0.52052,     0.52152,     0.52252,     0.52352,     0.52452,     0.52553,     0.52653,     0.52753,\n",
      "           0.52853,     0.52953,     0.53053,     0.53153,     0.53253,     0.53353,     0.53453,     0.53554,     0.53654,     0.53754,     0.53854,     0.53954,     0.54054,     0.54154,     0.54254,     0.54354,     0.54454,     0.54555,     0.54655,     0.54755,     0.54855,     0.54955,     0.55055,     0.55155,\n",
      "           0.55255,     0.55355,     0.55455,     0.55556,     0.55656,     0.55756,     0.55856,     0.55956,     0.56056,     0.56156,     0.56256,     0.56356,     0.56456,     0.56557,     0.56657,     0.56757,     0.56857,     0.56957,     0.57057,     0.57157,     0.57257,     0.57357,     0.57457,     0.57558,\n",
      "           0.57658,     0.57758,     0.57858,     0.57958,     0.58058,     0.58158,     0.58258,     0.58358,     0.58458,     0.58559,     0.58659,     0.58759,     0.58859,     0.58959,     0.59059,     0.59159,     0.59259,     0.59359,     0.59459,      0.5956,      0.5966,      0.5976,      0.5986,      0.5996,\n",
      "            0.6006,      0.6016,      0.6026,      0.6036,      0.6046,     0.60561,     0.60661,     0.60761,     0.60861,     0.60961,     0.61061,     0.61161,     0.61261,     0.61361,     0.61461,     0.61562,     0.61662,     0.61762,     0.61862,     0.61962,     0.62062,     0.62162,     0.62262,     0.62362,\n",
      "           0.62462,     0.62563,     0.62663,     0.62763,     0.62863,     0.62963,     0.63063,     0.63163,     0.63263,     0.63363,     0.63463,     0.63564,     0.63664,     0.63764,     0.63864,     0.63964,     0.64064,     0.64164,     0.64264,     0.64364,     0.64464,     0.64565,     0.64665,     0.64765,\n",
      "           0.64865,     0.64965,     0.65065,     0.65165,     0.65265,     0.65365,     0.65465,     0.65566,     0.65666,     0.65766,     0.65866,     0.65966,     0.66066,     0.66166,     0.66266,     0.66366,     0.66466,     0.66567,     0.66667,     0.66767,     0.66867,     0.66967,     0.67067,     0.67167,\n",
      "           0.67267,     0.67367,     0.67467,     0.67568,     0.67668,     0.67768,     0.67868,     0.67968,     0.68068,     0.68168,     0.68268,     0.68368,     0.68468,     0.68569,     0.68669,     0.68769,     0.68869,     0.68969,     0.69069,     0.69169,     0.69269,     0.69369,     0.69469,      0.6957,\n",
      "            0.6967,      0.6977,      0.6987,      0.6997,      0.7007,      0.7017,      0.7027,      0.7037,      0.7047,     0.70571,     0.70671,     0.70771,     0.70871,     0.70971,     0.71071,     0.71171,     0.71271,     0.71371,     0.71471,     0.71572,     0.71672,     0.71772,     0.71872,     0.71972,\n",
      "           0.72072,     0.72172,     0.72272,     0.72372,     0.72472,     0.72573,     0.72673,     0.72773,     0.72873,     0.72973,     0.73073,     0.73173,     0.73273,     0.73373,     0.73473,     0.73574,     0.73674,     0.73774,     0.73874,     0.73974,     0.74074,     0.74174,     0.74274,     0.74374,\n",
      "           0.74474,     0.74575,     0.74675,     0.74775,     0.74875,     0.74975,     0.75075,     0.75175,     0.75275,     0.75375,     0.75475,     0.75576,     0.75676,     0.75776,     0.75876,     0.75976,     0.76076,     0.76176,     0.76276,     0.76376,     0.76476,     0.76577,     0.76677,     0.76777,\n",
      "           0.76877,     0.76977,     0.77077,     0.77177,     0.77277,     0.77377,     0.77477,     0.77578,     0.77678,     0.77778,     0.77878,     0.77978,     0.78078,     0.78178,     0.78278,     0.78378,     0.78478,     0.78579,     0.78679,     0.78779,     0.78879,     0.78979,     0.79079,     0.79179,\n",
      "           0.79279,     0.79379,     0.79479,      0.7958,      0.7968,      0.7978,      0.7988,      0.7998,      0.8008,      0.8018,      0.8028,      0.8038,      0.8048,     0.80581,     0.80681,     0.80781,     0.80881,     0.80981,     0.81081,     0.81181,     0.81281,     0.81381,     0.81481,     0.81582,\n",
      "           0.81682,     0.81782,     0.81882,     0.81982,     0.82082,     0.82182,     0.82282,     0.82382,     0.82482,     0.82583,     0.82683,     0.82783,     0.82883,     0.82983,     0.83083,     0.83183,     0.83283,     0.83383,     0.83483,     0.83584,     0.83684,     0.83784,     0.83884,     0.83984,\n",
      "           0.84084,     0.84184,     0.84284,     0.84384,     0.84484,     0.84585,     0.84685,     0.84785,     0.84885,     0.84985,     0.85085,     0.85185,     0.85285,     0.85385,     0.85485,     0.85586,     0.85686,     0.85786,     0.85886,     0.85986,     0.86086,     0.86186,     0.86286,     0.86386,\n",
      "           0.86486,     0.86587,     0.86687,     0.86787,     0.86887,     0.86987,     0.87087,     0.87187,     0.87287,     0.87387,     0.87487,     0.87588,     0.87688,     0.87788,     0.87888,     0.87988,     0.88088,     0.88188,     0.88288,     0.88388,     0.88488,     0.88589,     0.88689,     0.88789,\n",
      "           0.88889,     0.88989,     0.89089,     0.89189,     0.89289,     0.89389,     0.89489,      0.8959,      0.8969,      0.8979,      0.8989,      0.8999,      0.9009,      0.9019,      0.9029,      0.9039,      0.9049,     0.90591,     0.90691,     0.90791,     0.90891,     0.90991,     0.91091,     0.91191,\n",
      "           0.91291,     0.91391,     0.91491,     0.91592,     0.91692,     0.91792,     0.91892,     0.91992,     0.92092,     0.92192,     0.92292,     0.92392,     0.92492,     0.92593,     0.92693,     0.92793,     0.92893,     0.92993,     0.93093,     0.93193,     0.93293,     0.93393,     0.93493,     0.93594,\n",
      "           0.93694,     0.93794,     0.93894,     0.93994,     0.94094,     0.94194,     0.94294,     0.94394,     0.94494,     0.94595,     0.94695,     0.94795,     0.94895,     0.94995,     0.95095,     0.95195,     0.95295,     0.95395,     0.95495,     0.95596,     0.95696,     0.95796,     0.95896,     0.95996,\n",
      "           0.96096,     0.96196,     0.96296,     0.96396,     0.96496,     0.96597,     0.96697,     0.96797,     0.96897,     0.96997,     0.97097,     0.97197,     0.97297,     0.97397,     0.97497,     0.97598,     0.97698,     0.97798,     0.97898,     0.97998,     0.98098,     0.98198,     0.98298,     0.98398,\n",
      "           0.98498,     0.98599,     0.98699,     0.98799,     0.98899,     0.98999,     0.99099,     0.99199,     0.99299,     0.99399,     0.99499,       0.996,       0.997,       0.998,       0.999,           1]), array([[    0.97368,     0.97368,     0.96842,     0.96842,     0.96316,     0.95789,     0.95789,     0.94737,     0.93684,     0.92632,     0.92105,     0.92105,     0.92105,     0.92105,     0.91579,     0.91053,     0.91053,     0.91053,     0.91053,     0.91053,     0.89474,     0.89474,     0.88947,\n",
      "            0.88421,     0.88421,     0.86842,     0.86842,     0.86842,     0.86842,     0.86842,     0.86842,     0.86842,     0.86316,     0.85789,     0.84737,     0.84211,     0.84211,     0.83684,     0.83684,     0.83684,     0.83684,     0.83684,     0.83684,     0.82632,     0.82632,     0.82632,\n",
      "            0.82632,     0.82632,     0.82105,     0.82105,     0.81579,     0.81579,     0.81285,     0.79557,     0.79474,     0.79474,     0.79474,     0.78947,     0.78947,     0.78947,     0.78947,     0.78947,     0.78421,     0.78421,     0.78421,     0.78421,     0.78421,     0.78421,     0.78421,\n",
      "            0.78421,     0.78421,     0.78421,     0.78421,     0.78421,     0.77895,     0.77895,     0.77895,     0.77895,     0.77613,     0.76842,     0.75789,     0.75789,     0.75789,     0.75789,     0.75789,     0.75789,     0.75789,     0.75789,     0.75789,     0.75789,     0.75263,     0.75263,\n",
      "            0.75263,     0.75263,     0.74737,     0.74382,     0.74211,     0.73684,     0.73684,     0.73684,     0.73684,     0.73158,     0.73158,     0.73158,     0.73158,     0.73158,     0.73158,     0.73158,     0.72786,     0.72632,     0.71167,     0.71053,     0.70526,     0.70526,     0.70526,\n",
      "            0.70526,     0.70526,         0.7,     0.69474,     0.69474,     0.69474,     0.69474,     0.68947,     0.68947,     0.68421,     0.67895,     0.67895,     0.67895,     0.67724,     0.67399,     0.67368,      0.6695,     0.66842,     0.66842,     0.66842,     0.66842,     0.66842,     0.66842,\n",
      "            0.66842,     0.66842,     0.66842,     0.66842,     0.66842,     0.66842,     0.66842,     0.66842,     0.66842,     0.66842,     0.66842,     0.66842,     0.66842,     0.66842,     0.66842,     0.66842,     0.66842,     0.66794,     0.66316,     0.66316,     0.66316,     0.65263,     0.65263,\n",
      "            0.65263,     0.65263,     0.65263,     0.65263,     0.65263,     0.65263,     0.65263,     0.65263,     0.65263,     0.65263,     0.65263,     0.64737,     0.64737,     0.64737,     0.64737,     0.64737,     0.64737,     0.64436,     0.64211,     0.64211,     0.64211,     0.64211,     0.63687,\n",
      "            0.63684,     0.63684,     0.63684,     0.63684,     0.63684,     0.63684,     0.63684,     0.63684,     0.63684,     0.63684,     0.63684,     0.63684,     0.63684,     0.62632,     0.62632,     0.62632,     0.62632,     0.62632,     0.62632,     0.62632,     0.62632,     0.62632,     0.62632,\n",
      "            0.62632,     0.62239,      0.6162,     0.61579,     0.61579,      0.6111,     0.61053,     0.61053,     0.60956,     0.60728,     0.60526,     0.60526,     0.60526,     0.60526,     0.60526,     0.60526,     0.60526,     0.60484,     0.60003,         0.6,         0.6,         0.6,         0.6,\n",
      "                0.6,     0.59965,     0.59474,     0.59474,     0.59474,     0.59474,     0.59474,     0.59474,     0.59474,     0.59474,     0.59474,     0.59474,     0.59474,     0.59474,     0.59474,     0.59474,     0.59474,     0.59474,     0.59474,     0.59474,     0.59474,     0.59474,     0.59474,\n",
      "            0.59474,     0.59474,     0.59474,     0.59474,     0.59474,     0.59474,     0.59474,     0.59474,     0.59474,     0.59474,     0.59474,     0.59474,     0.59474,     0.59474,     0.59474,     0.59023,     0.58947,     0.58947,     0.58947,     0.58947,     0.58597,       0.583,     0.58115,\n",
      "            0.57929,     0.57895,      0.5761,     0.57368,     0.57141,     0.56842,     0.56449,     0.56316,     0.56316,     0.56316,     0.56316,     0.56316,     0.56316,     0.56316,     0.56316,     0.56316,     0.56316,     0.56316,     0.56316,     0.56316,     0.56316,     0.56316,     0.56316,\n",
      "            0.56316,     0.56316,     0.56316,     0.56316,     0.56316,     0.56316,     0.56316,     0.56316,     0.56316,     0.56316,     0.56316,     0.56316,     0.56316,     0.56316,     0.55964,     0.55789,     0.55789,     0.55789,     0.55789,     0.55789,     0.55789,     0.55789,     0.55789,\n",
      "            0.55789,     0.55701,     0.55531,     0.55361,     0.55263,     0.55263,     0.54787,     0.54449,     0.54211,     0.53811,     0.53684,     0.53684,     0.53684,     0.53684,     0.53403,     0.53158,     0.53158,     0.53158,     0.53158,     0.53158,     0.53158,     0.53158,     0.52522,\n",
      "            0.52283,     0.52105,     0.52105,     0.52105,     0.52105,     0.52105,     0.52105,     0.52066,     0.51927,     0.51788,     0.51649,     0.51243,     0.51053,     0.49948,     0.49806,     0.49663,     0.49521,      0.4929,     0.49016,     0.48947,     0.48826,     0.48695,     0.48565,\n",
      "            0.48434,     0.47895,     0.47895,     0.47895,     0.47895,     0.47895,     0.47895,     0.47895,     0.47703,     0.47271,     0.46996,     0.46842,     0.46842,     0.46815,     0.46623,     0.46432,     0.46315,      0.4627,     0.46225,      0.4618,     0.46135,     0.46089,     0.46044,\n",
      "            0.45999,     0.45954,     0.45909,     0.45864,     0.45819,     0.45723,     0.45533,     0.45343,     0.45263,     0.45263,     0.45263,     0.45263,     0.45263,     0.45103,      0.4494,     0.44778,     0.44737,     0.44737,     0.44737,     0.44737,     0.44737,     0.44737,     0.44737,\n",
      "            0.44737,     0.44737,     0.44737,     0.44737,     0.44737,     0.44737,     0.44737,     0.44737,     0.44737,     0.44737,     0.44737,     0.44737,     0.44737,     0.44737,     0.44737,     0.44676,     0.44581,     0.44485,      0.4439,     0.44295,     0.44166,     0.43481,     0.42842,\n",
      "            0.42632,     0.42425,      0.4204,     0.41867,     0.41694,     0.41389,     0.41053,     0.41053,     0.41053,     0.41053,     0.41053,     0.41053,     0.40526,     0.40526,     0.39993,     0.39941,      0.3989,     0.39838,     0.39786,     0.39734,     0.39682,     0.39631,     0.39579,\n",
      "            0.39527,     0.39475,     0.39365,     0.39252,      0.3914,     0.39028,     0.38938,     0.38893,     0.38848,     0.38802,     0.38757,     0.38712,     0.38667,     0.38622,     0.38577,     0.38532,     0.38487,     0.38441,     0.38421,     0.38421,     0.38421,     0.38421,     0.38421,\n",
      "            0.37895,     0.37895,     0.37895,     0.37839,     0.37737,     0.37635,     0.37533,     0.37431,     0.37368,     0.37368,     0.37368,     0.37368,     0.37368,     0.37368,     0.36795,     0.36649,     0.36503,     0.36358,     0.36316,     0.36316,     0.36316,     0.36316,     0.36316,\n",
      "            0.36316,     0.36135,     0.35789,     0.35789,     0.35789,     0.35789,     0.35789,     0.35789,     0.35789,     0.35789,     0.35789,     0.35591,      0.3534,     0.35013,     0.34211,     0.34211,     0.34125,     0.34031,     0.33937,     0.33843,     0.33749,     0.33668,     0.33616,\n",
      "            0.33563,     0.33511,     0.33459,     0.33406,     0.33354,     0.33302,     0.33249,     0.33197,     0.33117,     0.32956,     0.32795,     0.32634,     0.32632,     0.32632,     0.32632,     0.32632,     0.32632,     0.32632,     0.32632,     0.32632,     0.32632,     0.32632,     0.32632,\n",
      "            0.32484,     0.32308,     0.32133,     0.32105,     0.32105,     0.32105,     0.32105,     0.31988,     0.31758,      0.3155,     0.31418,     0.31287,     0.31155,     0.30911,      0.3043,     0.30188,     0.29766,      0.2929,     0.29034,     0.28947,     0.28947,     0.28947,       0.289,\n",
      "            0.28785,      0.2867,     0.28555,      0.2844,     0.28102,     0.27895,     0.27895,     0.27895,     0.27895,     0.27895,     0.27895,     0.27652,     0.27368,     0.27368,     0.27368,     0.27368,     0.27281,     0.27178,     0.27075,     0.26971,     0.26868,      0.2675,     0.26626,\n",
      "            0.26503,     0.26379,     0.26316,     0.26316,     0.26316,     0.26316,     0.26316,     0.26289,     0.25917,     0.25379,     0.25027,     0.24736,     0.23997,     0.23672,     0.23472,     0.23272,     0.23131,     0.23068,     0.23006,     0.22943,     0.22881,     0.22818,     0.22756,\n",
      "            0.22693,     0.22632,     0.22632,     0.22587,     0.22282,     0.22046,     0.21905,     0.21764,     0.21623,     0.21579,     0.21579,     0.21579,     0.21416,     0.21226,     0.20979,     0.20526,     0.20526,     0.20526,     0.20526,     0.20526,     0.20526,     0.20526,     0.20526,\n",
      "            0.20424,     0.20285,     0.20145,     0.20006,      0.1932,      0.1915,     0.18981,     0.18911,     0.18865,     0.18819,     0.18773,     0.18728,     0.18682,     0.18636,     0.18591,     0.18545,     0.18499,     0.18453,     0.18383,     0.18252,     0.18121,      0.1799,     0.17231,\n",
      "            0.16831,     0.16807,     0.16784,      0.1676,     0.16737,     0.16713,      0.1669,     0.16666,     0.16643,     0.16619,     0.16596,     0.16573,     0.16549,     0.16526,     0.16502,     0.16479,     0.16455,     0.16432,     0.16408,     0.16385,     0.16361,     0.16338,     0.16303,\n",
      "            0.16111,     0.15919,     0.15789,     0.15789,     0.15789,     0.15789,     0.15789,     0.15789,     0.15789,     0.15789,     0.15592,     0.15224,     0.15147,     0.15069,     0.14991,     0.14914,     0.14836,     0.14759,     0.14211,     0.14163,     0.14095,     0.14027,     0.13959,\n",
      "             0.1389,     0.13822,     0.13754,     0.13686,     0.13611,     0.13535,      0.1346,     0.13384,     0.13309,     0.13233,     0.13158,     0.13074,     0.12991,     0.12908,     0.12824,     0.12741,     0.12657,     0.12128,     0.11961,     0.11813,     0.11664,     0.11362,     0.10575,\n",
      "            0.10526,     0.10526,     0.10526,     0.10189,    0.099299,    0.098388,    0.097477,    0.096566,    0.095655,    0.094744,    0.093722,    0.092699,    0.091675,    0.090652,    0.089629,    0.089072,    0.088598,    0.088125,    0.087651,    0.087177,    0.086703,     0.08623,    0.085756,\n",
      "           0.085282,    0.084809,    0.084335,    0.083393,    0.082284,    0.081175,    0.080066,    0.078957,    0.078586,    0.078221,    0.077856,    0.077492,    0.077127,    0.076762,    0.076397,    0.076033,    0.075668,    0.075303,    0.074938,    0.074574,    0.074209,    0.073844,    0.071735,\n",
      "           0.068277,    0.065085,    0.062769,    0.061786,    0.060803,    0.059821,    0.058838,    0.057895,    0.057895,    0.057895,    0.057895,    0.057895,    0.057895,    0.057895,    0.057895,    0.057895,    0.057895,    0.057895,    0.057895,    0.057895,    0.057895,    0.057653,    0.057336,\n",
      "           0.057018,    0.056701,    0.056384,    0.056066,    0.055749,    0.055432,    0.055115,    0.054797,     0.05448,    0.054163,    0.053845,    0.053528,    0.053211,    0.052893,    0.052105,    0.049093,    0.045978,    0.042727,     0.04179,    0.041401,    0.041012,    0.040623,    0.040234,\n",
      "           0.039845,    0.039456,    0.039066,    0.038677,    0.038288,    0.037899,     0.03751,    0.037121,    0.036142,    0.033679,    0.031502,    0.030976,    0.030451,    0.029925,      0.0294,    0.028874,    0.028349,    0.027823,    0.027297,    0.026772,    0.026265,    0.025883,      0.0255,\n",
      "           0.025117,    0.024735,    0.024352,     0.02397,    0.023587,    0.023204,    0.022822,    0.022439,    0.022057,    0.021674,    0.021291,    0.020841,    0.020278,    0.019716,    0.019153,    0.018591,    0.018028,    0.017466,    0.016903,    0.016341,    0.015778,    0.015191,    0.014604,\n",
      "           0.014017,     0.01343,    0.012843,    0.012257,     0.01167,    0.011083,    0.010503,    0.010052,    0.009601,     0.00915,   0.0086991,   0.0082481,   0.0077971,   0.0073461,   0.0068951,   0.0064441,   0.0059931,   0.0055421,           0,           0,           0,           0,           0,\n",
      "                  0,           0,           0,           0,           0,           0,           0,           0,           0,           0,           0,           0,           0,           0,           0,           0,           0,           0,           0,           0,           0,           0,           0,\n",
      "                  0,           0,           0,           0,           0,           0,           0,           0,           0,           0,           0,           0,           0,           0,           0,           0,           0,           0,           0,           0,           0,           0,           0,\n",
      "                  0,           0,           0,           0,           0,           0,           0,           0,           0,           0,           0,           0,           0,           0,           0,           0,           0,           0,           0,           0,           0,           0,           0,\n",
      "                  0,           0,           0,           0,           0,           0,           0,           0,           0,           0,           0,           0,           0,           0,           0,           0,           0,           0,           0,           0,           0,           0,           0,\n",
      "                  0,           0,           0,           0,           0,           0,           0,           0,           0,           0,           0]]), 'Confidence', 'Recall'], [array([          0,    0.001001,    0.002002,    0.003003,    0.004004,    0.005005,    0.006006,    0.007007,    0.008008,    0.009009,     0.01001,    0.011011,    0.012012,    0.013013,    0.014014,    0.015015,    0.016016,    0.017017,    0.018018,    0.019019,     0.02002,    0.021021,    0.022022,    0.023023,\n",
      "          0.024024,    0.025025,    0.026026,    0.027027,    0.028028,    0.029029,     0.03003,    0.031031,    0.032032,    0.033033,    0.034034,    0.035035,    0.036036,    0.037037,    0.038038,    0.039039,     0.04004,    0.041041,    0.042042,    0.043043,    0.044044,    0.045045,    0.046046,    0.047047,\n",
      "          0.048048,    0.049049,     0.05005,    0.051051,    0.052052,    0.053053,    0.054054,    0.055055,    0.056056,    0.057057,    0.058058,    0.059059,     0.06006,    0.061061,    0.062062,    0.063063,    0.064064,    0.065065,    0.066066,    0.067067,    0.068068,    0.069069,     0.07007,    0.071071,\n",
      "          0.072072,    0.073073,    0.074074,    0.075075,    0.076076,    0.077077,    0.078078,    0.079079,     0.08008,    0.081081,    0.082082,    0.083083,    0.084084,    0.085085,    0.086086,    0.087087,    0.088088,    0.089089,     0.09009,    0.091091,    0.092092,    0.093093,    0.094094,    0.095095,\n",
      "          0.096096,    0.097097,    0.098098,    0.099099,      0.1001,      0.1011,      0.1021,      0.1031,      0.1041,     0.10511,     0.10611,     0.10711,     0.10811,     0.10911,     0.11011,     0.11111,     0.11211,     0.11311,     0.11411,     0.11512,     0.11612,     0.11712,     0.11812,     0.11912,\n",
      "           0.12012,     0.12112,     0.12212,     0.12312,     0.12412,     0.12513,     0.12613,     0.12713,     0.12813,     0.12913,     0.13013,     0.13113,     0.13213,     0.13313,     0.13413,     0.13514,     0.13614,     0.13714,     0.13814,     0.13914,     0.14014,     0.14114,     0.14214,     0.14314,\n",
      "           0.14414,     0.14515,     0.14615,     0.14715,     0.14815,     0.14915,     0.15015,     0.15115,     0.15215,     0.15315,     0.15415,     0.15516,     0.15616,     0.15716,     0.15816,     0.15916,     0.16016,     0.16116,     0.16216,     0.16316,     0.16416,     0.16517,     0.16617,     0.16717,\n",
      "           0.16817,     0.16917,     0.17017,     0.17117,     0.17217,     0.17317,     0.17417,     0.17518,     0.17618,     0.17718,     0.17818,     0.17918,     0.18018,     0.18118,     0.18218,     0.18318,     0.18418,     0.18519,     0.18619,     0.18719,     0.18819,     0.18919,     0.19019,     0.19119,\n",
      "           0.19219,     0.19319,     0.19419,      0.1952,      0.1962,      0.1972,      0.1982,      0.1992,      0.2002,      0.2012,      0.2022,      0.2032,      0.2042,     0.20521,     0.20621,     0.20721,     0.20821,     0.20921,     0.21021,     0.21121,     0.21221,     0.21321,     0.21421,     0.21522,\n",
      "           0.21622,     0.21722,     0.21822,     0.21922,     0.22022,     0.22122,     0.22222,     0.22322,     0.22422,     0.22523,     0.22623,     0.22723,     0.22823,     0.22923,     0.23023,     0.23123,     0.23223,     0.23323,     0.23423,     0.23524,     0.23624,     0.23724,     0.23824,     0.23924,\n",
      "           0.24024,     0.24124,     0.24224,     0.24324,     0.24424,     0.24525,     0.24625,     0.24725,     0.24825,     0.24925,     0.25025,     0.25125,     0.25225,     0.25325,     0.25425,     0.25526,     0.25626,     0.25726,     0.25826,     0.25926,     0.26026,     0.26126,     0.26226,     0.26326,\n",
      "           0.26426,     0.26527,     0.26627,     0.26727,     0.26827,     0.26927,     0.27027,     0.27127,     0.27227,     0.27327,     0.27427,     0.27528,     0.27628,     0.27728,     0.27828,     0.27928,     0.28028,     0.28128,     0.28228,     0.28328,     0.28428,     0.28529,     0.28629,     0.28729,\n",
      "           0.28829,     0.28929,     0.29029,     0.29129,     0.29229,     0.29329,     0.29429,      0.2953,      0.2963,      0.2973,      0.2983,      0.2993,      0.3003,      0.3013,      0.3023,      0.3033,      0.3043,     0.30531,     0.30631,     0.30731,     0.30831,     0.30931,     0.31031,     0.31131,\n",
      "           0.31231,     0.31331,     0.31431,     0.31532,     0.31632,     0.31732,     0.31832,     0.31932,     0.32032,     0.32132,     0.32232,     0.32332,     0.32432,     0.32533,     0.32633,     0.32733,     0.32833,     0.32933,     0.33033,     0.33133,     0.33233,     0.33333,     0.33433,     0.33534,\n",
      "           0.33634,     0.33734,     0.33834,     0.33934,     0.34034,     0.34134,     0.34234,     0.34334,     0.34434,     0.34535,     0.34635,     0.34735,     0.34835,     0.34935,     0.35035,     0.35135,     0.35235,     0.35335,     0.35435,     0.35536,     0.35636,     0.35736,     0.35836,     0.35936,\n",
      "           0.36036,     0.36136,     0.36236,     0.36336,     0.36436,     0.36537,     0.36637,     0.36737,     0.36837,     0.36937,     0.37037,     0.37137,     0.37237,     0.37337,     0.37437,     0.37538,     0.37638,     0.37738,     0.37838,     0.37938,     0.38038,     0.38138,     0.38238,     0.38338,\n",
      "           0.38438,     0.38539,     0.38639,     0.38739,     0.38839,     0.38939,     0.39039,     0.39139,     0.39239,     0.39339,     0.39439,      0.3954,      0.3964,      0.3974,      0.3984,      0.3994,      0.4004,      0.4014,      0.4024,      0.4034,      0.4044,     0.40541,     0.40641,     0.40741,\n",
      "           0.40841,     0.40941,     0.41041,     0.41141,     0.41241,     0.41341,     0.41441,     0.41542,     0.41642,     0.41742,     0.41842,     0.41942,     0.42042,     0.42142,     0.42242,     0.42342,     0.42442,     0.42543,     0.42643,     0.42743,     0.42843,     0.42943,     0.43043,     0.43143,\n",
      "           0.43243,     0.43343,     0.43443,     0.43544,     0.43644,     0.43744,     0.43844,     0.43944,     0.44044,     0.44144,     0.44244,     0.44344,     0.44444,     0.44545,     0.44645,     0.44745,     0.44845,     0.44945,     0.45045,     0.45145,     0.45245,     0.45345,     0.45445,     0.45546,\n",
      "           0.45646,     0.45746,     0.45846,     0.45946,     0.46046,     0.46146,     0.46246,     0.46346,     0.46446,     0.46547,     0.46647,     0.46747,     0.46847,     0.46947,     0.47047,     0.47147,     0.47247,     0.47347,     0.47447,     0.47548,     0.47648,     0.47748,     0.47848,     0.47948,\n",
      "           0.48048,     0.48148,     0.48248,     0.48348,     0.48448,     0.48549,     0.48649,     0.48749,     0.48849,     0.48949,     0.49049,     0.49149,     0.49249,     0.49349,     0.49449,      0.4955,      0.4965,      0.4975,      0.4985,      0.4995,      0.5005,      0.5015,      0.5025,      0.5035,\n",
      "            0.5045,     0.50551,     0.50651,     0.50751,     0.50851,     0.50951,     0.51051,     0.51151,     0.51251,     0.51351,     0.51451,     0.51552,     0.51652,     0.51752,     0.51852,     0.51952,     0.52052,     0.52152,     0.52252,     0.52352,     0.52452,     0.52553,     0.52653,     0.52753,\n",
      "           0.52853,     0.52953,     0.53053,     0.53153,     0.53253,     0.53353,     0.53453,     0.53554,     0.53654,     0.53754,     0.53854,     0.53954,     0.54054,     0.54154,     0.54254,     0.54354,     0.54454,     0.54555,     0.54655,     0.54755,     0.54855,     0.54955,     0.55055,     0.55155,\n",
      "           0.55255,     0.55355,     0.55455,     0.55556,     0.55656,     0.55756,     0.55856,     0.55956,     0.56056,     0.56156,     0.56256,     0.56356,     0.56456,     0.56557,     0.56657,     0.56757,     0.56857,     0.56957,     0.57057,     0.57157,     0.57257,     0.57357,     0.57457,     0.57558,\n",
      "           0.57658,     0.57758,     0.57858,     0.57958,     0.58058,     0.58158,     0.58258,     0.58358,     0.58458,     0.58559,     0.58659,     0.58759,     0.58859,     0.58959,     0.59059,     0.59159,     0.59259,     0.59359,     0.59459,      0.5956,      0.5966,      0.5976,      0.5986,      0.5996,\n",
      "            0.6006,      0.6016,      0.6026,      0.6036,      0.6046,     0.60561,     0.60661,     0.60761,     0.60861,     0.60961,     0.61061,     0.61161,     0.61261,     0.61361,     0.61461,     0.61562,     0.61662,     0.61762,     0.61862,     0.61962,     0.62062,     0.62162,     0.62262,     0.62362,\n",
      "           0.62462,     0.62563,     0.62663,     0.62763,     0.62863,     0.62963,     0.63063,     0.63163,     0.63263,     0.63363,     0.63463,     0.63564,     0.63664,     0.63764,     0.63864,     0.63964,     0.64064,     0.64164,     0.64264,     0.64364,     0.64464,     0.64565,     0.64665,     0.64765,\n",
      "           0.64865,     0.64965,     0.65065,     0.65165,     0.65265,     0.65365,     0.65465,     0.65566,     0.65666,     0.65766,     0.65866,     0.65966,     0.66066,     0.66166,     0.66266,     0.66366,     0.66466,     0.66567,     0.66667,     0.66767,     0.66867,     0.66967,     0.67067,     0.67167,\n",
      "           0.67267,     0.67367,     0.67467,     0.67568,     0.67668,     0.67768,     0.67868,     0.67968,     0.68068,     0.68168,     0.68268,     0.68368,     0.68468,     0.68569,     0.68669,     0.68769,     0.68869,     0.68969,     0.69069,     0.69169,     0.69269,     0.69369,     0.69469,      0.6957,\n",
      "            0.6967,      0.6977,      0.6987,      0.6997,      0.7007,      0.7017,      0.7027,      0.7037,      0.7047,     0.70571,     0.70671,     0.70771,     0.70871,     0.70971,     0.71071,     0.71171,     0.71271,     0.71371,     0.71471,     0.71572,     0.71672,     0.71772,     0.71872,     0.71972,\n",
      "           0.72072,     0.72172,     0.72272,     0.72372,     0.72472,     0.72573,     0.72673,     0.72773,     0.72873,     0.72973,     0.73073,     0.73173,     0.73273,     0.73373,     0.73473,     0.73574,     0.73674,     0.73774,     0.73874,     0.73974,     0.74074,     0.74174,     0.74274,     0.74374,\n",
      "           0.74474,     0.74575,     0.74675,     0.74775,     0.74875,     0.74975,     0.75075,     0.75175,     0.75275,     0.75375,     0.75475,     0.75576,     0.75676,     0.75776,     0.75876,     0.75976,     0.76076,     0.76176,     0.76276,     0.76376,     0.76476,     0.76577,     0.76677,     0.76777,\n",
      "           0.76877,     0.76977,     0.77077,     0.77177,     0.77277,     0.77377,     0.77477,     0.77578,     0.77678,     0.77778,     0.77878,     0.77978,     0.78078,     0.78178,     0.78278,     0.78378,     0.78478,     0.78579,     0.78679,     0.78779,     0.78879,     0.78979,     0.79079,     0.79179,\n",
      "           0.79279,     0.79379,     0.79479,      0.7958,      0.7968,      0.7978,      0.7988,      0.7998,      0.8008,      0.8018,      0.8028,      0.8038,      0.8048,     0.80581,     0.80681,     0.80781,     0.80881,     0.80981,     0.81081,     0.81181,     0.81281,     0.81381,     0.81481,     0.81582,\n",
      "           0.81682,     0.81782,     0.81882,     0.81982,     0.82082,     0.82182,     0.82282,     0.82382,     0.82482,     0.82583,     0.82683,     0.82783,     0.82883,     0.82983,     0.83083,     0.83183,     0.83283,     0.83383,     0.83483,     0.83584,     0.83684,     0.83784,     0.83884,     0.83984,\n",
      "           0.84084,     0.84184,     0.84284,     0.84384,     0.84484,     0.84585,     0.84685,     0.84785,     0.84885,     0.84985,     0.85085,     0.85185,     0.85285,     0.85385,     0.85485,     0.85586,     0.85686,     0.85786,     0.85886,     0.85986,     0.86086,     0.86186,     0.86286,     0.86386,\n",
      "           0.86486,     0.86587,     0.86687,     0.86787,     0.86887,     0.86987,     0.87087,     0.87187,     0.87287,     0.87387,     0.87487,     0.87588,     0.87688,     0.87788,     0.87888,     0.87988,     0.88088,     0.88188,     0.88288,     0.88388,     0.88488,     0.88589,     0.88689,     0.88789,\n",
      "           0.88889,     0.88989,     0.89089,     0.89189,     0.89289,     0.89389,     0.89489,      0.8959,      0.8969,      0.8979,      0.8989,      0.8999,      0.9009,      0.9019,      0.9029,      0.9039,      0.9049,     0.90591,     0.90691,     0.90791,     0.90891,     0.90991,     0.91091,     0.91191,\n",
      "           0.91291,     0.91391,     0.91491,     0.91592,     0.91692,     0.91792,     0.91892,     0.91992,     0.92092,     0.92192,     0.92292,     0.92392,     0.92492,     0.92593,     0.92693,     0.92793,     0.92893,     0.92993,     0.93093,     0.93193,     0.93293,     0.93393,     0.93493,     0.93594,\n",
      "           0.93694,     0.93794,     0.93894,     0.93994,     0.94094,     0.94194,     0.94294,     0.94394,     0.94494,     0.94595,     0.94695,     0.94795,     0.94895,     0.94995,     0.95095,     0.95195,     0.95295,     0.95395,     0.95495,     0.95596,     0.95696,     0.95796,     0.95896,     0.95996,\n",
      "           0.96096,     0.96196,     0.96296,     0.96396,     0.96496,     0.96597,     0.96697,     0.96797,     0.96897,     0.96997,     0.97097,     0.97197,     0.97297,     0.97397,     0.97497,     0.97598,     0.97698,     0.97798,     0.97898,     0.97998,     0.98098,     0.98198,     0.98298,     0.98398,\n",
      "           0.98498,     0.98599,     0.98699,     0.98799,     0.98899,     0.98999,     0.99099,     0.99199,     0.99299,     0.99399,     0.99499,       0.996,       0.997,       0.998,       0.999,           1]), array([[    0.90909,     0.90909,     0.90909,     0.90909,     0.90909,     0.90909,     0.90909,     0.90909,     0.90909,     0.90909,     0.90909,     0.90909,     0.90909,     0.90909,     0.90909,     0.90909,     0.90909,     0.90909,     0.90909,     0.90909,     0.90909,     0.90909,     0.90909,\n",
      "            0.90909,     0.90909,     0.90909,     0.90909,     0.90909,     0.90909,     0.90909,     0.90909,     0.90909,     0.90909,     0.90909,     0.90909,     0.90909,     0.90909,     0.90909,     0.90909,     0.90909,     0.90909,     0.90909,     0.90909,     0.90909,     0.90909,     0.90909,\n",
      "            0.90909,     0.90909,     0.90909,     0.90909,     0.90909,     0.90909,     0.90909,     0.89655,     0.89655,     0.89655,     0.89655,     0.89655,     0.89655,     0.89655,     0.89655,     0.89655,     0.89655,     0.89655,     0.89655,     0.89655,     0.89655,     0.89655,     0.89655,\n",
      "            0.89655,     0.89655,     0.89655,     0.89655,     0.89655,     0.89655,     0.89655,     0.89655,     0.89655,     0.89655,     0.89655,     0.89655,     0.89655,     0.89655,     0.89655,     0.89655,     0.89655,     0.89655,     0.89655,     0.89655,     0.89655,     0.89655,     0.89655,\n",
      "            0.89655,     0.89655,     0.89655,     0.89655,     0.89655,     0.89655,     0.89655,     0.89655,     0.89655,     0.89655,     0.89655,     0.89655,     0.89655,     0.89655,     0.89655,     0.89655,     0.89655,     0.89655,     0.89655,     0.89655,     0.89655,     0.89655,     0.89655,\n",
      "            0.89655,     0.89655,     0.89655,     0.89655,     0.89655,     0.89655,     0.89655,     0.89655,     0.89655,     0.89655,     0.89655,     0.89655,     0.89655,     0.89655,     0.89655,     0.89655,     0.89655,     0.89655,     0.89655,     0.89655,     0.89655,     0.89655,     0.87879,\n",
      "            0.87879,     0.87879,     0.87879,     0.87879,     0.87879,     0.87879,     0.87879,     0.87879,     0.87879,     0.87879,     0.87879,     0.87879,     0.87879,     0.87879,     0.87879,     0.86111,     0.86111,     0.86111,     0.86111,     0.86111,     0.86111,     0.86111,     0.86111,\n",
      "            0.86111,     0.86111,     0.82051,     0.82051,     0.82051,     0.82051,     0.82051,     0.82051,     0.80952,     0.80952,     0.80952,     0.80952,     0.80952,     0.80952,     0.80952,     0.80952,     0.80952,     0.80952,     0.78261,     0.78261,     0.78261,     0.78261,     0.78261,\n",
      "            0.78261,     0.78261,     0.78261,     0.78261,     0.78261,     0.78261,     0.77551,     0.77551,     0.77551,     0.77551,     0.77551,     0.77551,     0.77551,     0.77551,     0.77551,     0.77551,     0.74545,     0.74545,     0.74545,     0.74545,     0.74545,     0.74545,     0.74545,\n",
      "            0.74545,     0.74545,     0.74545,     0.74545,     0.74545,     0.74545,     0.74545,     0.74545,     0.74545,     0.73684,     0.73684,     0.73684,     0.73684,     0.73684,     0.72881,     0.72881,     0.72881,     0.72881,     0.72881,     0.72881,     0.66667,     0.66667,     0.66667,\n",
      "            0.66667,     0.66667,     0.66197,     0.66197,     0.66197,     0.66197,     0.66197,     0.66197,     0.66197,     0.66197,     0.66197,     0.66197,     0.66197,     0.66197,     0.66197,     0.66197,     0.66197,     0.66197,     0.64474,     0.64474,     0.64474,     0.64474,     0.64474,\n",
      "            0.64474,     0.64474,     0.64474,     0.64474,     0.64474,       0.625,       0.625,       0.625,       0.625,       0.625,     0.61176,     0.61176,     0.61176,     0.61176,     0.61176,     0.61176,     0.61176,     0.61176,     0.61176,     0.61176,     0.61176,     0.57447,     0.57447,\n",
      "            0.57447,     0.57447,     0.57447,     0.57447,     0.57447,     0.57447,     0.57447,     0.57447,     0.57292,     0.57292,     0.57292,     0.57292,     0.57292,     0.57292,     0.55446,     0.55446,     0.55446,     0.55446,     0.55446,      0.5534,      0.5534,      0.5534,      0.5534,\n",
      "             0.5534,     0.55238,     0.55238,     0.55238,     0.55238,     0.55238,     0.54237,     0.54237,     0.54237,     0.54237,     0.54237,     0.54237,     0.54237,     0.54237,     0.54237,     0.54237,     0.54237,     0.54237,     0.54237,     0.54237,     0.54237,     0.54237,     0.54237,\n",
      "            0.54237,     0.54237,     0.54237,     0.54237,     0.54237,     0.54237,     0.54237,     0.54237,     0.54237,     0.54237,     0.54237,     0.54237,     0.54237,     0.54237,     0.54237,     0.51587,     0.51587,     0.51587,     0.51587,     0.51587,         0.5,         0.5,         0.5,\n",
      "                0.5,         0.5,         0.5,         0.5,         0.5,         0.5,         0.5,         0.5,         0.5,         0.5,         0.5,         0.5,         0.5,         0.5,         0.5,         0.5,         0.5,         0.5,         0.5,         0.5,         0.5,         0.5,         0.5,\n",
      "                0.5,         0.5,         0.5,         0.5,         0.5,         0.5,         0.5,         0.5,         0.5,         0.5,         0.5,         0.5,         0.5,         0.5,         0.5,         0.5,         0.5,         0.5,         0.5,         0.5,         0.5,         0.5,     0.48077,\n",
      "            0.48077,     0.48077,     0.48077,     0.48077,     0.46914,     0.46914,     0.46914,     0.46914,     0.46914,     0.46667,     0.46667,     0.46667,     0.46667,     0.46667,     0.46199,     0.46199,     0.46199,     0.46199,     0.46199,     0.46199,     0.46199,     0.46199,     0.46199,\n",
      "            0.46199,     0.46199,     0.40594,     0.40594,     0.40594,     0.40594,     0.40594,     0.40594,     0.40594,     0.40594,     0.40594,     0.40594,     0.40594,     0.40594,     0.40594,     0.40594,     0.40594,     0.40594,     0.39151,     0.39151,     0.39151,     0.39151,     0.39151,\n",
      "            0.36522,     0.36522,     0.36522,     0.36522,     0.36522,     0.36017,     0.36017,     0.36017,     0.36017,     0.36017,     0.34677,     0.34677,     0.34677,     0.34677,     0.34677,     0.34677,     0.33977,     0.33977,     0.33977,     0.33977,     0.33977,     0.33977,     0.33977,\n",
      "            0.33977,     0.33977,     0.33977,     0.32364,     0.32364,     0.32364,     0.32364,     0.32364,     0.32042,     0.32042,     0.32042,     0.32042,     0.32042,     0.32042,     0.32042,     0.32042,     0.32042,     0.32042,     0.32042,     0.31293,     0.31293,     0.31293,     0.31293,\n",
      "            0.31293,     0.31208,     0.31208,     0.31208,     0.31208,     0.31208,      0.3082,      0.3082,      0.3082,      0.3082,      0.3082,      0.3082,     0.30255,     0.30255,     0.30255,     0.30255,     0.30255,     0.29448,     0.29448,     0.29448,     0.29448,     0.29448,     0.29129,\n",
      "            0.29129,     0.29129,     0.29129,     0.29129,     0.29129,     0.28161,     0.28161,     0.28161,     0.28161,     0.28161,     0.26829,     0.26829,     0.26829,     0.26829,     0.26829,     0.25907,     0.25907,     0.25907,     0.25907,     0.25907,     0.25248,     0.25248,     0.25248,\n",
      "            0.25248,     0.25248,     0.25248,     0.25248,     0.25248,     0.25248,     0.25248,     0.25248,        0.25,        0.25,        0.25,        0.25,        0.25,     0.23476,     0.23476,     0.23476,     0.23476,     0.23476,     0.21298,     0.21298,     0.21298,     0.21298,     0.21298,\n",
      "            0.21298,       0.212,       0.212,       0.212,       0.212,       0.212,     0.20656,     0.20656,     0.20656,     0.20656,     0.20656,      0.1953,      0.1953,      0.1953,      0.1953,      0.1953,     0.17468,     0.17468,     0.17468,     0.17468,     0.17468,     0.17468,     0.14905,\n",
      "            0.14905,     0.14905,     0.14905,     0.14905,     0.14859,     0.14859,     0.14859,     0.14859,     0.14859,     0.14396,     0.14396,     0.14396,     0.14396,     0.14396,     0.12929,     0.12929,     0.12929,     0.12929,     0.12929,     0.12929,     0.11868,     0.11868,     0.11868,\n",
      "            0.11868,     0.11868,     0.11868,     0.11868,     0.11868,     0.11868,     0.11868,     0.11861,     0.11861,     0.11861,     0.11861,     0.11861,     0.10333,     0.10333,     0.10333,     0.10333,     0.10333,     0.10333,     0.10333,     0.10333,     0.10333,     0.10333,     0.10333,\n",
      "            0.10303,     0.10303,     0.10303,     0.10303,     0.10303,     0.10161,     0.10161,     0.10161,     0.10161,     0.10161,    0.098615,    0.098615,    0.098615,    0.098615,    0.098615,    0.098615,    0.087833,    0.087833,    0.087833,    0.087833,    0.087833,     0.08339,     0.08339,\n",
      "            0.08339,     0.08339,     0.08339,    0.050674,    0.050674,    0.050674,    0.050674,    0.050674,    0.047674,    0.047674,    0.047674,    0.047674,    0.047674,    0.047674,    0.047103,    0.047103,    0.047103,    0.047103,    0.047103,    0.044718,    0.044718,    0.044718,    0.044718,\n",
      "           0.044718,    0.044229,    0.044229,    0.044229,    0.044229,    0.044229,    0.044229,    0.042616,    0.042616,    0.042616,    0.042616,    0.042616,    0.041428,    0.041428,    0.041428,    0.041428,    0.041428,    0.037796,    0.037796,    0.037796,    0.037796,    0.037796,    0.030166,\n",
      "           0.030166,    0.030166,    0.030166,    0.030166,    0.030166,    0.030166,    0.030166,    0.030166,    0.030166,    0.030166,    0.024439,    0.024439,    0.024439,    0.024439,    0.024439,    0.022893,    0.022893,    0.022893,    0.022893,    0.022893,    0.018555,    0.018491,    0.018427,\n",
      "           0.018362,    0.018298,    0.018234,     0.01817,    0.018106,    0.018041,    0.017977,    0.017913,    0.017849,    0.017785,     0.01772,    0.017656,    0.017592,    0.017528,    0.017464,    0.017399,    0.017335,    0.017271,    0.017207,    0.017143,    0.017078,    0.017014,     0.01695,\n",
      "           0.016886,    0.016822,    0.016757,    0.016693,    0.016629,    0.016565,    0.016501,    0.016436,    0.016372,    0.016308,    0.016244,     0.01618,    0.016115,    0.016051,    0.015987,    0.015923,    0.015858,    0.015794,     0.01573,    0.015666,    0.015602,    0.015537,    0.015473,\n",
      "           0.015409,    0.015345,    0.015281,    0.015216,    0.015152,    0.015088,    0.015024,     0.01496,    0.014895,    0.014831,    0.014767,    0.014703,    0.014639,    0.014574,     0.01451,    0.014446,    0.014382,    0.014318,    0.014253,    0.014189,    0.014125,    0.014061,    0.013997,\n",
      "           0.013932,    0.013868,    0.013804,     0.01374,    0.013676,    0.013611,    0.013547,    0.013483,    0.013419,    0.013355,     0.01329,    0.013226,    0.013162,    0.013098,    0.013034,    0.012969,    0.012905,    0.012841,    0.012777,    0.012712,    0.012648,    0.012584,     0.01252,\n",
      "           0.012456,    0.012391,    0.012327,    0.012263,    0.012199,    0.012135,     0.01207,    0.012006,    0.011942,    0.011878,    0.011814,    0.011749,    0.011685,    0.011621,    0.011557,    0.011493,    0.011428,    0.011364,      0.0113,    0.011236,    0.011172,    0.011107,    0.011043,\n",
      "           0.010979,    0.010915,    0.010851,    0.010786,    0.010722,    0.010658,    0.010594,     0.01053,    0.010465,    0.010401,    0.010337,    0.010273,    0.010209,    0.010144,     0.01008,    0.010016,   0.0099517,   0.0098875,   0.0098233,   0.0097591,   0.0096949,   0.0096307,   0.0095665,\n",
      "          0.0095023,   0.0094381,   0.0093738,   0.0093096,   0.0092454,   0.0091812,    0.009117,   0.0090528,   0.0089886,   0.0089244,   0.0088602,    0.008796,   0.0087318,   0.0086676,   0.0086034,   0.0085392,    0.008475,   0.0084108,   0.0083466,   0.0082824,   0.0082182,    0.008154,   0.0080898,\n",
      "          0.0080256,   0.0079614,   0.0078971,   0.0078329,   0.0077687,   0.0077045,   0.0076403,   0.0075761,   0.0075119,   0.0074477,   0.0073835,   0.0073193,   0.0072551,   0.0071909,   0.0071267,   0.0070625,   0.0069983,   0.0069341,   0.0068699,   0.0068057,   0.0067415,   0.0066773,   0.0066131,\n",
      "          0.0065489,   0.0064846,   0.0064204,   0.0063562,    0.006292,   0.0062278,   0.0061636,   0.0060994,   0.0060352,    0.005971,   0.0059068,   0.0058426,   0.0057784,   0.0057142,     0.00565,   0.0055858,   0.0055216,   0.0054574,   0.0053932,    0.005329,   0.0052648,   0.0052006,   0.0051364,\n",
      "          0.0050722,   0.0050079,   0.0049437,   0.0048795,   0.0048153,   0.0047511,   0.0046869,   0.0046227,   0.0045585,   0.0044943,   0.0044301,   0.0043659,   0.0043017,   0.0042375,   0.0041733,   0.0041091,   0.0040449,   0.0039807,   0.0039165,   0.0038523,   0.0037881,   0.0037239,   0.0036597,\n",
      "          0.0035954,   0.0035312,    0.003467,   0.0034028,   0.0033386,   0.0032744,   0.0032102,    0.003146,   0.0030818,   0.0030176,   0.0029534,   0.0028892,    0.002825,   0.0027608,   0.0026966,   0.0026324,   0.0025682,    0.002504,   0.0024398,   0.0023756,   0.0023114,   0.0022472,    0.002183,\n",
      "          0.0021187,   0.0020545,   0.0019903,   0.0019261,   0.0018619,   0.0017977,   0.0017335,   0.0016693,   0.0016051,   0.0015409,   0.0014767,   0.0014125,   0.0013483,   0.0012841,   0.0012199,   0.0011557,   0.0010915,   0.0010273,  0.00096307,  0.00089886,  0.00083466,  0.00077045,  0.00070625,\n",
      "         0.00064204,  0.00057784,  0.00051364,  0.00044943,  0.00038523,  0.00032102,  0.00025682,  0.00019261,  0.00012841,  6.4204e-05,           0]]), 'Recall', 'Precision'], [array([          0,    0.001001,    0.002002,    0.003003,    0.004004,    0.005005,    0.006006,    0.007007,    0.008008,    0.009009,     0.01001,    0.011011,    0.012012,    0.013013,    0.014014,    0.015015,    0.016016,    0.017017,    0.018018,    0.019019,     0.02002,    0.021021,    0.022022,    0.023023,\n",
      "          0.024024,    0.025025,    0.026026,    0.027027,    0.028028,    0.029029,     0.03003,    0.031031,    0.032032,    0.033033,    0.034034,    0.035035,    0.036036,    0.037037,    0.038038,    0.039039,     0.04004,    0.041041,    0.042042,    0.043043,    0.044044,    0.045045,    0.046046,    0.047047,\n",
      "          0.048048,    0.049049,     0.05005,    0.051051,    0.052052,    0.053053,    0.054054,    0.055055,    0.056056,    0.057057,    0.058058,    0.059059,     0.06006,    0.061061,    0.062062,    0.063063,    0.064064,    0.065065,    0.066066,    0.067067,    0.068068,    0.069069,     0.07007,    0.071071,\n",
      "          0.072072,    0.073073,    0.074074,    0.075075,    0.076076,    0.077077,    0.078078,    0.079079,     0.08008,    0.081081,    0.082082,    0.083083,    0.084084,    0.085085,    0.086086,    0.087087,    0.088088,    0.089089,     0.09009,    0.091091,    0.092092,    0.093093,    0.094094,    0.095095,\n",
      "          0.096096,    0.097097,    0.098098,    0.099099,      0.1001,      0.1011,      0.1021,      0.1031,      0.1041,     0.10511,     0.10611,     0.10711,     0.10811,     0.10911,     0.11011,     0.11111,     0.11211,     0.11311,     0.11411,     0.11512,     0.11612,     0.11712,     0.11812,     0.11912,\n",
      "           0.12012,     0.12112,     0.12212,     0.12312,     0.12412,     0.12513,     0.12613,     0.12713,     0.12813,     0.12913,     0.13013,     0.13113,     0.13213,     0.13313,     0.13413,     0.13514,     0.13614,     0.13714,     0.13814,     0.13914,     0.14014,     0.14114,     0.14214,     0.14314,\n",
      "           0.14414,     0.14515,     0.14615,     0.14715,     0.14815,     0.14915,     0.15015,     0.15115,     0.15215,     0.15315,     0.15415,     0.15516,     0.15616,     0.15716,     0.15816,     0.15916,     0.16016,     0.16116,     0.16216,     0.16316,     0.16416,     0.16517,     0.16617,     0.16717,\n",
      "           0.16817,     0.16917,     0.17017,     0.17117,     0.17217,     0.17317,     0.17417,     0.17518,     0.17618,     0.17718,     0.17818,     0.17918,     0.18018,     0.18118,     0.18218,     0.18318,     0.18418,     0.18519,     0.18619,     0.18719,     0.18819,     0.18919,     0.19019,     0.19119,\n",
      "           0.19219,     0.19319,     0.19419,      0.1952,      0.1962,      0.1972,      0.1982,      0.1992,      0.2002,      0.2012,      0.2022,      0.2032,      0.2042,     0.20521,     0.20621,     0.20721,     0.20821,     0.20921,     0.21021,     0.21121,     0.21221,     0.21321,     0.21421,     0.21522,\n",
      "           0.21622,     0.21722,     0.21822,     0.21922,     0.22022,     0.22122,     0.22222,     0.22322,     0.22422,     0.22523,     0.22623,     0.22723,     0.22823,     0.22923,     0.23023,     0.23123,     0.23223,     0.23323,     0.23423,     0.23524,     0.23624,     0.23724,     0.23824,     0.23924,\n",
      "           0.24024,     0.24124,     0.24224,     0.24324,     0.24424,     0.24525,     0.24625,     0.24725,     0.24825,     0.24925,     0.25025,     0.25125,     0.25225,     0.25325,     0.25425,     0.25526,     0.25626,     0.25726,     0.25826,     0.25926,     0.26026,     0.26126,     0.26226,     0.26326,\n",
      "           0.26426,     0.26527,     0.26627,     0.26727,     0.26827,     0.26927,     0.27027,     0.27127,     0.27227,     0.27327,     0.27427,     0.27528,     0.27628,     0.27728,     0.27828,     0.27928,     0.28028,     0.28128,     0.28228,     0.28328,     0.28428,     0.28529,     0.28629,     0.28729,\n",
      "           0.28829,     0.28929,     0.29029,     0.29129,     0.29229,     0.29329,     0.29429,      0.2953,      0.2963,      0.2973,      0.2983,      0.2993,      0.3003,      0.3013,      0.3023,      0.3033,      0.3043,     0.30531,     0.30631,     0.30731,     0.30831,     0.30931,     0.31031,     0.31131,\n",
      "           0.31231,     0.31331,     0.31431,     0.31532,     0.31632,     0.31732,     0.31832,     0.31932,     0.32032,     0.32132,     0.32232,     0.32332,     0.32432,     0.32533,     0.32633,     0.32733,     0.32833,     0.32933,     0.33033,     0.33133,     0.33233,     0.33333,     0.33433,     0.33534,\n",
      "           0.33634,     0.33734,     0.33834,     0.33934,     0.34034,     0.34134,     0.34234,     0.34334,     0.34434,     0.34535,     0.34635,     0.34735,     0.34835,     0.34935,     0.35035,     0.35135,     0.35235,     0.35335,     0.35435,     0.35536,     0.35636,     0.35736,     0.35836,     0.35936,\n",
      "           0.36036,     0.36136,     0.36236,     0.36336,     0.36436,     0.36537,     0.36637,     0.36737,     0.36837,     0.36937,     0.37037,     0.37137,     0.37237,     0.37337,     0.37437,     0.37538,     0.37638,     0.37738,     0.37838,     0.37938,     0.38038,     0.38138,     0.38238,     0.38338,\n",
      "           0.38438,     0.38539,     0.38639,     0.38739,     0.38839,     0.38939,     0.39039,     0.39139,     0.39239,     0.39339,     0.39439,      0.3954,      0.3964,      0.3974,      0.3984,      0.3994,      0.4004,      0.4014,      0.4024,      0.4034,      0.4044,     0.40541,     0.40641,     0.40741,\n",
      "           0.40841,     0.40941,     0.41041,     0.41141,     0.41241,     0.41341,     0.41441,     0.41542,     0.41642,     0.41742,     0.41842,     0.41942,     0.42042,     0.42142,     0.42242,     0.42342,     0.42442,     0.42543,     0.42643,     0.42743,     0.42843,     0.42943,     0.43043,     0.43143,\n",
      "           0.43243,     0.43343,     0.43443,     0.43544,     0.43644,     0.43744,     0.43844,     0.43944,     0.44044,     0.44144,     0.44244,     0.44344,     0.44444,     0.44545,     0.44645,     0.44745,     0.44845,     0.44945,     0.45045,     0.45145,     0.45245,     0.45345,     0.45445,     0.45546,\n",
      "           0.45646,     0.45746,     0.45846,     0.45946,     0.46046,     0.46146,     0.46246,     0.46346,     0.46446,     0.46547,     0.46647,     0.46747,     0.46847,     0.46947,     0.47047,     0.47147,     0.47247,     0.47347,     0.47447,     0.47548,     0.47648,     0.47748,     0.47848,     0.47948,\n",
      "           0.48048,     0.48148,     0.48248,     0.48348,     0.48448,     0.48549,     0.48649,     0.48749,     0.48849,     0.48949,     0.49049,     0.49149,     0.49249,     0.49349,     0.49449,      0.4955,      0.4965,      0.4975,      0.4985,      0.4995,      0.5005,      0.5015,      0.5025,      0.5035,\n",
      "            0.5045,     0.50551,     0.50651,     0.50751,     0.50851,     0.50951,     0.51051,     0.51151,     0.51251,     0.51351,     0.51451,     0.51552,     0.51652,     0.51752,     0.51852,     0.51952,     0.52052,     0.52152,     0.52252,     0.52352,     0.52452,     0.52553,     0.52653,     0.52753,\n",
      "           0.52853,     0.52953,     0.53053,     0.53153,     0.53253,     0.53353,     0.53453,     0.53554,     0.53654,     0.53754,     0.53854,     0.53954,     0.54054,     0.54154,     0.54254,     0.54354,     0.54454,     0.54555,     0.54655,     0.54755,     0.54855,     0.54955,     0.55055,     0.55155,\n",
      "           0.55255,     0.55355,     0.55455,     0.55556,     0.55656,     0.55756,     0.55856,     0.55956,     0.56056,     0.56156,     0.56256,     0.56356,     0.56456,     0.56557,     0.56657,     0.56757,     0.56857,     0.56957,     0.57057,     0.57157,     0.57257,     0.57357,     0.57457,     0.57558,\n",
      "           0.57658,     0.57758,     0.57858,     0.57958,     0.58058,     0.58158,     0.58258,     0.58358,     0.58458,     0.58559,     0.58659,     0.58759,     0.58859,     0.58959,     0.59059,     0.59159,     0.59259,     0.59359,     0.59459,      0.5956,      0.5966,      0.5976,      0.5986,      0.5996,\n",
      "            0.6006,      0.6016,      0.6026,      0.6036,      0.6046,     0.60561,     0.60661,     0.60761,     0.60861,     0.60961,     0.61061,     0.61161,     0.61261,     0.61361,     0.61461,     0.61562,     0.61662,     0.61762,     0.61862,     0.61962,     0.62062,     0.62162,     0.62262,     0.62362,\n",
      "           0.62462,     0.62563,     0.62663,     0.62763,     0.62863,     0.62963,     0.63063,     0.63163,     0.63263,     0.63363,     0.63463,     0.63564,     0.63664,     0.63764,     0.63864,     0.63964,     0.64064,     0.64164,     0.64264,     0.64364,     0.64464,     0.64565,     0.64665,     0.64765,\n",
      "           0.64865,     0.64965,     0.65065,     0.65165,     0.65265,     0.65365,     0.65465,     0.65566,     0.65666,     0.65766,     0.65866,     0.65966,     0.66066,     0.66166,     0.66266,     0.66366,     0.66466,     0.66567,     0.66667,     0.66767,     0.66867,     0.66967,     0.67067,     0.67167,\n",
      "           0.67267,     0.67367,     0.67467,     0.67568,     0.67668,     0.67768,     0.67868,     0.67968,     0.68068,     0.68168,     0.68268,     0.68368,     0.68468,     0.68569,     0.68669,     0.68769,     0.68869,     0.68969,     0.69069,     0.69169,     0.69269,     0.69369,     0.69469,      0.6957,\n",
      "            0.6967,      0.6977,      0.6987,      0.6997,      0.7007,      0.7017,      0.7027,      0.7037,      0.7047,     0.70571,     0.70671,     0.70771,     0.70871,     0.70971,     0.71071,     0.71171,     0.71271,     0.71371,     0.71471,     0.71572,     0.71672,     0.71772,     0.71872,     0.71972,\n",
      "           0.72072,     0.72172,     0.72272,     0.72372,     0.72472,     0.72573,     0.72673,     0.72773,     0.72873,     0.72973,     0.73073,     0.73173,     0.73273,     0.73373,     0.73473,     0.73574,     0.73674,     0.73774,     0.73874,     0.73974,     0.74074,     0.74174,     0.74274,     0.74374,\n",
      "           0.74474,     0.74575,     0.74675,     0.74775,     0.74875,     0.74975,     0.75075,     0.75175,     0.75275,     0.75375,     0.75475,     0.75576,     0.75676,     0.75776,     0.75876,     0.75976,     0.76076,     0.76176,     0.76276,     0.76376,     0.76476,     0.76577,     0.76677,     0.76777,\n",
      "           0.76877,     0.76977,     0.77077,     0.77177,     0.77277,     0.77377,     0.77477,     0.77578,     0.77678,     0.77778,     0.77878,     0.77978,     0.78078,     0.78178,     0.78278,     0.78378,     0.78478,     0.78579,     0.78679,     0.78779,     0.78879,     0.78979,     0.79079,     0.79179,\n",
      "           0.79279,     0.79379,     0.79479,      0.7958,      0.7968,      0.7978,      0.7988,      0.7998,      0.8008,      0.8018,      0.8028,      0.8038,      0.8048,     0.80581,     0.80681,     0.80781,     0.80881,     0.80981,     0.81081,     0.81181,     0.81281,     0.81381,     0.81481,     0.81582,\n",
      "           0.81682,     0.81782,     0.81882,     0.81982,     0.82082,     0.82182,     0.82282,     0.82382,     0.82482,     0.82583,     0.82683,     0.82783,     0.82883,     0.82983,     0.83083,     0.83183,     0.83283,     0.83383,     0.83483,     0.83584,     0.83684,     0.83784,     0.83884,     0.83984,\n",
      "           0.84084,     0.84184,     0.84284,     0.84384,     0.84484,     0.84585,     0.84685,     0.84785,     0.84885,     0.84985,     0.85085,     0.85185,     0.85285,     0.85385,     0.85485,     0.85586,     0.85686,     0.85786,     0.85886,     0.85986,     0.86086,     0.86186,     0.86286,     0.86386,\n",
      "           0.86486,     0.86587,     0.86687,     0.86787,     0.86887,     0.86987,     0.87087,     0.87187,     0.87287,     0.87387,     0.87487,     0.87588,     0.87688,     0.87788,     0.87888,     0.87988,     0.88088,     0.88188,     0.88288,     0.88388,     0.88488,     0.88589,     0.88689,     0.88789,\n",
      "           0.88889,     0.88989,     0.89089,     0.89189,     0.89289,     0.89389,     0.89489,      0.8959,      0.8969,      0.8979,      0.8989,      0.8999,      0.9009,      0.9019,      0.9029,      0.9039,      0.9049,     0.90591,     0.90691,     0.90791,     0.90891,     0.90991,     0.91091,     0.91191,\n",
      "           0.91291,     0.91391,     0.91491,     0.91592,     0.91692,     0.91792,     0.91892,     0.91992,     0.92092,     0.92192,     0.92292,     0.92392,     0.92492,     0.92593,     0.92693,     0.92793,     0.92893,     0.92993,     0.93093,     0.93193,     0.93293,     0.93393,     0.93493,     0.93594,\n",
      "           0.93694,     0.93794,     0.93894,     0.93994,     0.94094,     0.94194,     0.94294,     0.94394,     0.94494,     0.94595,     0.94695,     0.94795,     0.94895,     0.94995,     0.95095,     0.95195,     0.95295,     0.95395,     0.95495,     0.95596,     0.95696,     0.95796,     0.95896,     0.95996,\n",
      "           0.96096,     0.96196,     0.96296,     0.96396,     0.96496,     0.96597,     0.96697,     0.96797,     0.96897,     0.96997,     0.97097,     0.97197,     0.97297,     0.97397,     0.97497,     0.97598,     0.97698,     0.97798,     0.97898,     0.97998,     0.98098,     0.98198,     0.98298,     0.98398,\n",
      "           0.98498,     0.98599,     0.98699,     0.98799,     0.98899,     0.98999,     0.99099,     0.99199,     0.99299,     0.99399,     0.99499,       0.996,       0.997,       0.998,       0.999,           1]), array([[   0.036188,     0.03619,    0.046183,    0.057206,    0.066477,    0.075712,    0.082876,    0.089237,    0.095948,     0.10272,     0.10944,     0.11472,     0.11967,     0.12566,     0.13114,     0.13574,     0.14078,     0.14455,     0.14833,     0.15263,     0.15471,     0.15833,      0.1617,\n",
      "            0.16634,     0.16821,     0.16978,      0.1748,     0.17645,     0.17643,     0.17929,     0.18219,     0.18487,     0.18835,     0.19135,     0.19471,     0.19781,     0.19728,     0.19798,      0.2012,     0.20316,     0.20477,     0.20766,     0.21041,     0.21207,     0.21548,     0.21711,\n",
      "            0.22027,     0.22265,      0.2281,      0.2312,     0.23174,     0.23426,     0.23588,     0.23564,     0.23729,     0.23917,     0.24085,      0.2424,     0.24455,     0.24652,     0.24827,     0.25038,      0.2533,     0.25619,     0.25746,     0.25985,     0.26279,     0.26472,     0.26664,\n",
      "            0.26661,     0.26922,     0.27125,     0.27309,     0.27572,     0.27783,     0.27881,     0.28148,       0.284,     0.28592,     0.28785,     0.29014,     0.28859,     0.29019,     0.29147,      0.2927,     0.29386,     0.29631,     0.29818,     0.30018,     0.30173,     0.30111,     0.30233,\n",
      "            0.30578,     0.30706,      0.3053,      0.3058,     0.30763,     0.31009,      0.3108,     0.31141,      0.3117,     0.31379,     0.31629,     0.31687,     0.31792,      0.3202,     0.32171,      0.3225,     0.32536,     0.32713,     0.32739,     0.32935,     0.33131,     0.33478,     0.33578,\n",
      "            0.33672,     0.33779,     0.34107,     0.33946,      0.3404,     0.34222,     0.34278,     0.34081,      0.3417,     0.34062,     0.34325,     0.34424,     0.34583,     0.34629,     0.34451,     0.34494,     0.34543,     0.34673,     0.34823,     0.35002,     0.35262,     0.35335,      0.3542,\n",
      "            0.35129,     0.35513,     0.35594,     0.35748,     0.35955,     0.36101,     0.36166,      0.3626,     0.36337,     0.36199,     0.36418,     0.36496,     0.36564,     0.36648,     0.36787,     0.36842,     0.36974,     0.37065,     0.36918,     0.37052,     0.37132,     0.36912,     0.36986,\n",
      "            0.37111,     0.37155,     0.37215,     0.37354,     0.37593,     0.37499,     0.37503,     0.37604,      0.3779,     0.37881,     0.37968,     0.37683,     0.37725,     0.37844,     0.37969,     0.38015,     0.38083,     0.37925,     0.37867,     0.37939,     0.37969,     0.37999,     0.37683,\n",
      "            0.37791,     0.37826,     0.37996,     0.38056,     0.38129,     0.38273,     0.38335,     0.38391,     0.38001,     0.37824,     0.37896,     0.37984,     0.38273,     0.38116,      0.3815,      0.3823,     0.38384,     0.38472,     0.38653,     0.38734,     0.38804,     0.38868,     0.38921,\n",
      "             0.3909,     0.38931,     0.38507,      0.3855,     0.38762,     0.38993,     0.39194,     0.39242,     0.39202,     0.39042,     0.38913,     0.39046,     0.39182,     0.39198,     0.39214,      0.3923,     0.39246,     0.39268,     0.39351,     0.39549,     0.39628,     0.39651,     0.39675,\n",
      "            0.39698,     0.39726,     0.39822,     0.39539,     0.39582,     0.39631,      0.3973,     0.39768,     0.39806,     0.39622,     0.39791,      0.3988,     0.40009,     0.40068,     0.40219,     0.40292,     0.40344,      0.4049,     0.40523,     0.40556,     0.40595,     0.40709,     0.40782,\n",
      "            0.40905,     0.40939,     0.40973,      0.4107,     0.41127,     0.41172,     0.41209,     0.41241,     0.41273,     0.41199,     0.40943,      0.4093,     0.40969,     0.41062,     0.41183,     0.41295,     0.41346,     0.41387,     0.41436,     0.41499,     0.41589,     0.41649,     0.41686,\n",
      "            0.41723,     0.41786,     0.41618,     0.41491,     0.41362,     0.41209,     0.40931,     0.40876,     0.41021,     0.41077,     0.41117,     0.41179,      0.4137,     0.41459,     0.41557,     0.41798,     0.42169,     0.42259,     0.42282,     0.42306,     0.42329,     0.42352,     0.42393,\n",
      "            0.42443,      0.4255,     0.42794,     0.42941,     0.42956,     0.42972,     0.42987,     0.43002,     0.43017,     0.43032,     0.43048,     0.43078,     0.43114,     0.43149,     0.43248,     0.43352,     0.43416,     0.43443,     0.43471,     0.43499,     0.43528,     0.43636,     0.43692,\n",
      "            0.43743,     0.43694,     0.43554,     0.43414,     0.43363,     0.43434,     0.43058,     0.43204,      0.4331,     0.43044,     0.42969,     0.43003,     0.43038,     0.43121,     0.42943,     0.42774,     0.42867,     0.43107,     0.43149,     0.43191,     0.43238,     0.43322,     0.42925,\n",
      "            0.42981,     0.43029,     0.43052,     0.43075,     0.43098,     0.43121,     0.43143,     0.43411,     0.43445,     0.43479,     0.43512,     0.43611,     0.43752,     0.43407,      0.4328,     0.43154,     0.43027,     0.42822,     0.42577,     0.42632,     0.42533,     0.42416,     0.42298,\n",
      "             0.4218,     0.41828,     0.41846,     0.41863,     0.41881,     0.41899,     0.41917,     0.41934,     0.41769,     0.41374,     0.41121,     0.41003,     0.41057,     0.41079,     0.40901,     0.40723,     0.40867,     0.40878,     0.40889,       0.409,     0.40911,     0.40922,     0.40932,\n",
      "            0.40943,     0.40954,     0.40965,     0.40976,     0.40987,     0.40932,     0.40753,     0.40573,     0.40543,      0.4062,     0.40746,     0.41021,     0.41138,     0.40986,      0.4083,     0.40674,     0.40766,     0.40893,     0.40934,     0.40975,     0.41015,     0.41033,     0.41043,\n",
      "            0.41054,     0.41064,     0.41074,     0.41084,     0.41094,     0.41104,     0.41115,     0.41125,     0.41135,     0.41145,     0.41155,     0.41182,     0.41214,     0.41247,     0.41279,     0.41306,      0.4133,     0.41354,     0.41379,     0.41403,     0.41515,     0.40842,     0.40209,\n",
      "            0.40201,     0.40057,     0.39669,     0.39494,     0.39319,      0.3901,     0.38676,       0.387,     0.38723,     0.38746,     0.38769,     0.38793,      0.3909,      0.3926,     0.38777,      0.3879,     0.38803,     0.38816,      0.3883,     0.38843,     0.38856,     0.38869,     0.38882,\n",
      "            0.38895,     0.38907,     0.38794,     0.38676,     0.38558,      0.3844,     0.38478,      0.3843,     0.38383,     0.38335,     0.38287,     0.38239,     0.38192,     0.38144,     0.38096,     0.38048,        0.38,     0.37953,     0.37946,     0.37973,        0.38,     0.38026,     0.38053,\n",
      "             0.3821,     0.38268,     0.38325,     0.38401,     0.38292,     0.38182,     0.38072,     0.37963,     0.37904,     0.37929,     0.37953,     0.37978,     0.38002,     0.38026,     0.37404,     0.37245,     0.37085,     0.36925,     0.36905,     0.36941,     0.36977,     0.37014,      0.3706,\n",
      "            0.37107,     0.37189,     0.37389,      0.3753,     0.37562,     0.37581,     0.37601,      0.3762,     0.37639,     0.37658,     0.37677,     0.37733,     0.37798,     0.37537,     0.36768,     0.36889,     0.36923,     0.36947,     0.36972,     0.36996,      0.3702,     0.37019,     0.36958,\n",
      "            0.36898,     0.36838,     0.36778,     0.36717,     0.36657,     0.36597,     0.36537,     0.36476,     0.36442,     0.36484,     0.36525,     0.36567,      0.3659,     0.36612,     0.36635,     0.36657,     0.36679,     0.36702,     0.36753,     0.36807,     0.36758,     0.36512,     0.36266,\n",
      "            0.36053,     0.35846,     0.35638,     0.35633,     0.35664,     0.35695,     0.35726,     0.35772,     0.35832,     0.35885,      0.3592,     0.35955,     0.35989,     0.35846,     0.35268,     0.34976,     0.34809,      0.3466,     0.34347,     0.34269,      0.3431,     0.34351,     0.34316,\n",
      "            0.34175,     0.34033,     0.33891,     0.33749,     0.33806,     0.33869,     0.33892,     0.33915,     0.33937,      0.3396,     0.33983,      0.3419,     0.34283,      0.3432,     0.34357,     0.34394,     0.34423,      0.3445,     0.34478,     0.34505,     0.34531,     0.34421,     0.34265,\n",
      "            0.34109,     0.33952,     0.33883,     0.33909,     0.33934,      0.3396,     0.33985,     0.33973,     0.33498,      0.3344,     0.33163,     0.32786,     0.31817,     0.31408,     0.31458,     0.31507,     0.31542,     0.31558,     0.31574,     0.31589,     0.31605,     0.31621,     0.31636,\n",
      "            0.31652,     0.31668,     0.31739,     0.31739,     0.31331,     0.31013,     0.30822,     0.30631,     0.30439,     0.30411,     0.30457,     0.30502,     0.30285,     0.30025,     0.29686,     0.29067,     0.29084,       0.291,     0.29116,     0.29132,     0.29148,     0.29164,      0.2918,\n",
      "            0.29209,     0.29243,     0.29276,     0.29309,     0.28355,     0.28114,     0.27873,     0.27835,     0.27845,     0.27856,     0.27867,     0.27877,     0.27888,     0.27899,     0.27909,     0.27919,      0.2793,      0.2794,     0.27893,     0.27705,     0.27518,      0.2733,     0.27345,\n",
      "            0.27417,     0.27383,     0.27349,     0.27315,     0.27281,     0.27247,     0.27212,     0.27178,     0.27144,      0.2711,     0.27076,     0.27042,     0.27007,     0.26973,     0.26939,     0.26905,      0.2687,     0.26836,     0.26802,     0.26767,     0.26733,     0.26699,     0.26648,\n",
      "            0.26366,     0.26083,     0.25898,     0.25912,     0.25927,     0.25942,     0.25956,     0.25971,     0.25985,     0.25999,     0.25716,     0.25167,     0.25051,     0.24934,     0.24818,     0.24701,     0.24584,     0.24467,     0.23698,     0.23671,     0.23567,     0.23463,     0.23358,\n",
      "            0.23253,     0.23148,     0.23044,     0.22939,     0.22822,     0.22705,     0.22589,     0.22472,     0.22354,     0.22237,      0.2212,      0.2199,     0.21859,     0.21729,     0.21598,     0.21468,     0.21337,     0.20501,     0.20237,         0.2,     0.19763,     0.19278,     0.18004,\n",
      "            0.17692,     0.17449,     0.17205,     0.16505,     0.16074,     0.15922,      0.1577,     0.15617,     0.15465,     0.15312,      0.1514,     0.14968,     0.14795,     0.14623,     0.14449,     0.14355,     0.14274,     0.14194,     0.14113,     0.14033,     0.13952,     0.13871,     0.13791,\n",
      "             0.1371,     0.13629,     0.13548,     0.13386,     0.13196,     0.13005,     0.12814,     0.12623,     0.12626,      0.1263,     0.12635,     0.12639,     0.12643,     0.12648,     0.12652,     0.12656,     0.12661,     0.12665,     0.12669,     0.12673,     0.12677,     0.12681,     0.12344,\n",
      "            0.11739,     0.11178,     0.10768,     0.10594,     0.10419,     0.10245,     0.10069,    0.099011,    0.099051,    0.099091,     0.09913,    0.099168,    0.099206,    0.099244,    0.099281,    0.099318,    0.099354,     0.09939,    0.099425,     0.09946,    0.099494,    0.099068,    0.098497,\n",
      "           0.097926,    0.097355,    0.096783,    0.096211,    0.095639,    0.095066,    0.094494,     0.09392,    0.093347,    0.092773,    0.092199,    0.091625,     0.09105,    0.090475,    0.089044,    0.083557,     0.07785,    0.071856,    0.070124,    0.069402,     0.06868,    0.067958,    0.067235,\n",
      "           0.066511,    0.065787,    0.065063,    0.064338,    0.063613,    0.062887,    0.062161,    0.061434,    0.059602,    0.054978,    0.050874,     0.04988,    0.048884,    0.047889,    0.046892,    0.045894,    0.044896,    0.043896,    0.042896,    0.041895,    0.040929,    0.040198,    0.039466,\n",
      "           0.038733,    0.038001,    0.037268,    0.036534,      0.0358,    0.035066,    0.034331,    0.033596,     0.03286,    0.032124,    0.031388,    0.030519,    0.029432,    0.028344,    0.027255,    0.026165,    0.025074,    0.023983,    0.022891,    0.021798,    0.020702,    0.019556,    0.018408,\n",
      "            0.01726,    0.016112,    0.014963,    0.013813,    0.012662,     0.01151,    0.010371,    0.009478,   0.0085854,   0.0076928,   0.0068002,   0.0059076,    0.005015,   0.0041225,   0.0032299,   0.0023373,   0.0014447,  0.00055212,           0,           0,           0,           0,           0,\n",
      "                  0,           0,           0,           0,           0,           0,           0,           0,           0,           0,           0,           0,           0,           0,           0,           0,           0,           0,           0,           0,           0,           0,           0,\n",
      "                  0,           0,           0,           0,           0,           0,           0,           0,           0,           0,           0,           0,           0,           0,           0,           0,           0,           0,           0,           0,           0,           0,           0,\n",
      "                  0,           0,           0,           0,           0,           0,           0,           0,           0,           0,           0,           0,           0,           0,           0,           0,           0,           0,           0,           0,           0,           0,           0,\n",
      "                  0,           0,           0,           0,           0,           0,           0,           0,           0,           0,           0,           0,           0,           0,           0,           0,           0,           0,           0,           0,           0,           0,           0,\n",
      "                  0,           0,           0,           0,           0,           0,           0,           0,           0,           0,           0]]), 'Confidence', 'F1'], [array([          0,    0.001001,    0.002002,    0.003003,    0.004004,    0.005005,    0.006006,    0.007007,    0.008008,    0.009009,     0.01001,    0.011011,    0.012012,    0.013013,    0.014014,    0.015015,    0.016016,    0.017017,    0.018018,    0.019019,     0.02002,    0.021021,    0.022022,    0.023023,\n",
      "          0.024024,    0.025025,    0.026026,    0.027027,    0.028028,    0.029029,     0.03003,    0.031031,    0.032032,    0.033033,    0.034034,    0.035035,    0.036036,    0.037037,    0.038038,    0.039039,     0.04004,    0.041041,    0.042042,    0.043043,    0.044044,    0.045045,    0.046046,    0.047047,\n",
      "          0.048048,    0.049049,     0.05005,    0.051051,    0.052052,    0.053053,    0.054054,    0.055055,    0.056056,    0.057057,    0.058058,    0.059059,     0.06006,    0.061061,    0.062062,    0.063063,    0.064064,    0.065065,    0.066066,    0.067067,    0.068068,    0.069069,     0.07007,    0.071071,\n",
      "          0.072072,    0.073073,    0.074074,    0.075075,    0.076076,    0.077077,    0.078078,    0.079079,     0.08008,    0.081081,    0.082082,    0.083083,    0.084084,    0.085085,    0.086086,    0.087087,    0.088088,    0.089089,     0.09009,    0.091091,    0.092092,    0.093093,    0.094094,    0.095095,\n",
      "          0.096096,    0.097097,    0.098098,    0.099099,      0.1001,      0.1011,      0.1021,      0.1031,      0.1041,     0.10511,     0.10611,     0.10711,     0.10811,     0.10911,     0.11011,     0.11111,     0.11211,     0.11311,     0.11411,     0.11512,     0.11612,     0.11712,     0.11812,     0.11912,\n",
      "           0.12012,     0.12112,     0.12212,     0.12312,     0.12412,     0.12513,     0.12613,     0.12713,     0.12813,     0.12913,     0.13013,     0.13113,     0.13213,     0.13313,     0.13413,     0.13514,     0.13614,     0.13714,     0.13814,     0.13914,     0.14014,     0.14114,     0.14214,     0.14314,\n",
      "           0.14414,     0.14515,     0.14615,     0.14715,     0.14815,     0.14915,     0.15015,     0.15115,     0.15215,     0.15315,     0.15415,     0.15516,     0.15616,     0.15716,     0.15816,     0.15916,     0.16016,     0.16116,     0.16216,     0.16316,     0.16416,     0.16517,     0.16617,     0.16717,\n",
      "           0.16817,     0.16917,     0.17017,     0.17117,     0.17217,     0.17317,     0.17417,     0.17518,     0.17618,     0.17718,     0.17818,     0.17918,     0.18018,     0.18118,     0.18218,     0.18318,     0.18418,     0.18519,     0.18619,     0.18719,     0.18819,     0.18919,     0.19019,     0.19119,\n",
      "           0.19219,     0.19319,     0.19419,      0.1952,      0.1962,      0.1972,      0.1982,      0.1992,      0.2002,      0.2012,      0.2022,      0.2032,      0.2042,     0.20521,     0.20621,     0.20721,     0.20821,     0.20921,     0.21021,     0.21121,     0.21221,     0.21321,     0.21421,     0.21522,\n",
      "           0.21622,     0.21722,     0.21822,     0.21922,     0.22022,     0.22122,     0.22222,     0.22322,     0.22422,     0.22523,     0.22623,     0.22723,     0.22823,     0.22923,     0.23023,     0.23123,     0.23223,     0.23323,     0.23423,     0.23524,     0.23624,     0.23724,     0.23824,     0.23924,\n",
      "           0.24024,     0.24124,     0.24224,     0.24324,     0.24424,     0.24525,     0.24625,     0.24725,     0.24825,     0.24925,     0.25025,     0.25125,     0.25225,     0.25325,     0.25425,     0.25526,     0.25626,     0.25726,     0.25826,     0.25926,     0.26026,     0.26126,     0.26226,     0.26326,\n",
      "           0.26426,     0.26527,     0.26627,     0.26727,     0.26827,     0.26927,     0.27027,     0.27127,     0.27227,     0.27327,     0.27427,     0.27528,     0.27628,     0.27728,     0.27828,     0.27928,     0.28028,     0.28128,     0.28228,     0.28328,     0.28428,     0.28529,     0.28629,     0.28729,\n",
      "           0.28829,     0.28929,     0.29029,     0.29129,     0.29229,     0.29329,     0.29429,      0.2953,      0.2963,      0.2973,      0.2983,      0.2993,      0.3003,      0.3013,      0.3023,      0.3033,      0.3043,     0.30531,     0.30631,     0.30731,     0.30831,     0.30931,     0.31031,     0.31131,\n",
      "           0.31231,     0.31331,     0.31431,     0.31532,     0.31632,     0.31732,     0.31832,     0.31932,     0.32032,     0.32132,     0.32232,     0.32332,     0.32432,     0.32533,     0.32633,     0.32733,     0.32833,     0.32933,     0.33033,     0.33133,     0.33233,     0.33333,     0.33433,     0.33534,\n",
      "           0.33634,     0.33734,     0.33834,     0.33934,     0.34034,     0.34134,     0.34234,     0.34334,     0.34434,     0.34535,     0.34635,     0.34735,     0.34835,     0.34935,     0.35035,     0.35135,     0.35235,     0.35335,     0.35435,     0.35536,     0.35636,     0.35736,     0.35836,     0.35936,\n",
      "           0.36036,     0.36136,     0.36236,     0.36336,     0.36436,     0.36537,     0.36637,     0.36737,     0.36837,     0.36937,     0.37037,     0.37137,     0.37237,     0.37337,     0.37437,     0.37538,     0.37638,     0.37738,     0.37838,     0.37938,     0.38038,     0.38138,     0.38238,     0.38338,\n",
      "           0.38438,     0.38539,     0.38639,     0.38739,     0.38839,     0.38939,     0.39039,     0.39139,     0.39239,     0.39339,     0.39439,      0.3954,      0.3964,      0.3974,      0.3984,      0.3994,      0.4004,      0.4014,      0.4024,      0.4034,      0.4044,     0.40541,     0.40641,     0.40741,\n",
      "           0.40841,     0.40941,     0.41041,     0.41141,     0.41241,     0.41341,     0.41441,     0.41542,     0.41642,     0.41742,     0.41842,     0.41942,     0.42042,     0.42142,     0.42242,     0.42342,     0.42442,     0.42543,     0.42643,     0.42743,     0.42843,     0.42943,     0.43043,     0.43143,\n",
      "           0.43243,     0.43343,     0.43443,     0.43544,     0.43644,     0.43744,     0.43844,     0.43944,     0.44044,     0.44144,     0.44244,     0.44344,     0.44444,     0.44545,     0.44645,     0.44745,     0.44845,     0.44945,     0.45045,     0.45145,     0.45245,     0.45345,     0.45445,     0.45546,\n",
      "           0.45646,     0.45746,     0.45846,     0.45946,     0.46046,     0.46146,     0.46246,     0.46346,     0.46446,     0.46547,     0.46647,     0.46747,     0.46847,     0.46947,     0.47047,     0.47147,     0.47247,     0.47347,     0.47447,     0.47548,     0.47648,     0.47748,     0.47848,     0.47948,\n",
      "           0.48048,     0.48148,     0.48248,     0.48348,     0.48448,     0.48549,     0.48649,     0.48749,     0.48849,     0.48949,     0.49049,     0.49149,     0.49249,     0.49349,     0.49449,      0.4955,      0.4965,      0.4975,      0.4985,      0.4995,      0.5005,      0.5015,      0.5025,      0.5035,\n",
      "            0.5045,     0.50551,     0.50651,     0.50751,     0.50851,     0.50951,     0.51051,     0.51151,     0.51251,     0.51351,     0.51451,     0.51552,     0.51652,     0.51752,     0.51852,     0.51952,     0.52052,     0.52152,     0.52252,     0.52352,     0.52452,     0.52553,     0.52653,     0.52753,\n",
      "           0.52853,     0.52953,     0.53053,     0.53153,     0.53253,     0.53353,     0.53453,     0.53554,     0.53654,     0.53754,     0.53854,     0.53954,     0.54054,     0.54154,     0.54254,     0.54354,     0.54454,     0.54555,     0.54655,     0.54755,     0.54855,     0.54955,     0.55055,     0.55155,\n",
      "           0.55255,     0.55355,     0.55455,     0.55556,     0.55656,     0.55756,     0.55856,     0.55956,     0.56056,     0.56156,     0.56256,     0.56356,     0.56456,     0.56557,     0.56657,     0.56757,     0.56857,     0.56957,     0.57057,     0.57157,     0.57257,     0.57357,     0.57457,     0.57558,\n",
      "           0.57658,     0.57758,     0.57858,     0.57958,     0.58058,     0.58158,     0.58258,     0.58358,     0.58458,     0.58559,     0.58659,     0.58759,     0.58859,     0.58959,     0.59059,     0.59159,     0.59259,     0.59359,     0.59459,      0.5956,      0.5966,      0.5976,      0.5986,      0.5996,\n",
      "            0.6006,      0.6016,      0.6026,      0.6036,      0.6046,     0.60561,     0.60661,     0.60761,     0.60861,     0.60961,     0.61061,     0.61161,     0.61261,     0.61361,     0.61461,     0.61562,     0.61662,     0.61762,     0.61862,     0.61962,     0.62062,     0.62162,     0.62262,     0.62362,\n",
      "           0.62462,     0.62563,     0.62663,     0.62763,     0.62863,     0.62963,     0.63063,     0.63163,     0.63263,     0.63363,     0.63463,     0.63564,     0.63664,     0.63764,     0.63864,     0.63964,     0.64064,     0.64164,     0.64264,     0.64364,     0.64464,     0.64565,     0.64665,     0.64765,\n",
      "           0.64865,     0.64965,     0.65065,     0.65165,     0.65265,     0.65365,     0.65465,     0.65566,     0.65666,     0.65766,     0.65866,     0.65966,     0.66066,     0.66166,     0.66266,     0.66366,     0.66466,     0.66567,     0.66667,     0.66767,     0.66867,     0.66967,     0.67067,     0.67167,\n",
      "           0.67267,     0.67367,     0.67467,     0.67568,     0.67668,     0.67768,     0.67868,     0.67968,     0.68068,     0.68168,     0.68268,     0.68368,     0.68468,     0.68569,     0.68669,     0.68769,     0.68869,     0.68969,     0.69069,     0.69169,     0.69269,     0.69369,     0.69469,      0.6957,\n",
      "            0.6967,      0.6977,      0.6987,      0.6997,      0.7007,      0.7017,      0.7027,      0.7037,      0.7047,     0.70571,     0.70671,     0.70771,     0.70871,     0.70971,     0.71071,     0.71171,     0.71271,     0.71371,     0.71471,     0.71572,     0.71672,     0.71772,     0.71872,     0.71972,\n",
      "           0.72072,     0.72172,     0.72272,     0.72372,     0.72472,     0.72573,     0.72673,     0.72773,     0.72873,     0.72973,     0.73073,     0.73173,     0.73273,     0.73373,     0.73473,     0.73574,     0.73674,     0.73774,     0.73874,     0.73974,     0.74074,     0.74174,     0.74274,     0.74374,\n",
      "           0.74474,     0.74575,     0.74675,     0.74775,     0.74875,     0.74975,     0.75075,     0.75175,     0.75275,     0.75375,     0.75475,     0.75576,     0.75676,     0.75776,     0.75876,     0.75976,     0.76076,     0.76176,     0.76276,     0.76376,     0.76476,     0.76577,     0.76677,     0.76777,\n",
      "           0.76877,     0.76977,     0.77077,     0.77177,     0.77277,     0.77377,     0.77477,     0.77578,     0.77678,     0.77778,     0.77878,     0.77978,     0.78078,     0.78178,     0.78278,     0.78378,     0.78478,     0.78579,     0.78679,     0.78779,     0.78879,     0.78979,     0.79079,     0.79179,\n",
      "           0.79279,     0.79379,     0.79479,      0.7958,      0.7968,      0.7978,      0.7988,      0.7998,      0.8008,      0.8018,      0.8028,      0.8038,      0.8048,     0.80581,     0.80681,     0.80781,     0.80881,     0.80981,     0.81081,     0.81181,     0.81281,     0.81381,     0.81481,     0.81582,\n",
      "           0.81682,     0.81782,     0.81882,     0.81982,     0.82082,     0.82182,     0.82282,     0.82382,     0.82482,     0.82583,     0.82683,     0.82783,     0.82883,     0.82983,     0.83083,     0.83183,     0.83283,     0.83383,     0.83483,     0.83584,     0.83684,     0.83784,     0.83884,     0.83984,\n",
      "           0.84084,     0.84184,     0.84284,     0.84384,     0.84484,     0.84585,     0.84685,     0.84785,     0.84885,     0.84985,     0.85085,     0.85185,     0.85285,     0.85385,     0.85485,     0.85586,     0.85686,     0.85786,     0.85886,     0.85986,     0.86086,     0.86186,     0.86286,     0.86386,\n",
      "           0.86486,     0.86587,     0.86687,     0.86787,     0.86887,     0.86987,     0.87087,     0.87187,     0.87287,     0.87387,     0.87487,     0.87588,     0.87688,     0.87788,     0.87888,     0.87988,     0.88088,     0.88188,     0.88288,     0.88388,     0.88488,     0.88589,     0.88689,     0.88789,\n",
      "           0.88889,     0.88989,     0.89089,     0.89189,     0.89289,     0.89389,     0.89489,      0.8959,      0.8969,      0.8979,      0.8989,      0.8999,      0.9009,      0.9019,      0.9029,      0.9039,      0.9049,     0.90591,     0.90691,     0.90791,     0.90891,     0.90991,     0.91091,     0.91191,\n",
      "           0.91291,     0.91391,     0.91491,     0.91592,     0.91692,     0.91792,     0.91892,     0.91992,     0.92092,     0.92192,     0.92292,     0.92392,     0.92492,     0.92593,     0.92693,     0.92793,     0.92893,     0.92993,     0.93093,     0.93193,     0.93293,     0.93393,     0.93493,     0.93594,\n",
      "           0.93694,     0.93794,     0.93894,     0.93994,     0.94094,     0.94194,     0.94294,     0.94394,     0.94494,     0.94595,     0.94695,     0.94795,     0.94895,     0.94995,     0.95095,     0.95195,     0.95295,     0.95395,     0.95495,     0.95596,     0.95696,     0.95796,     0.95896,     0.95996,\n",
      "           0.96096,     0.96196,     0.96296,     0.96396,     0.96496,     0.96597,     0.96697,     0.96797,     0.96897,     0.96997,     0.97097,     0.97197,     0.97297,     0.97397,     0.97497,     0.97598,     0.97698,     0.97798,     0.97898,     0.97998,     0.98098,     0.98198,     0.98298,     0.98398,\n",
      "           0.98498,     0.98599,     0.98699,     0.98799,     0.98899,     0.98999,     0.99099,     0.99199,     0.99299,     0.99399,     0.99499,       0.996,       0.997,       0.998,       0.999,           1]), array([[   0.018567,    0.018568,    0.023873,    0.029822,    0.034922,    0.040073,    0.044177,    0.047893,    0.051813,    0.055788,    0.059774,    0.062937,    0.065931,    0.069585,    0.072962,     0.07582,    0.078975,    0.081357,    0.083848,    0.086611,     0.08805,    0.090403,    0.092608,\n",
      "           0.095661,      0.0969,    0.098073,     0.10144,     0.10283,     0.10312,     0.10508,     0.10707,     0.10893,     0.11135,     0.11345,     0.11583,     0.11803,     0.11805,     0.11876,     0.12108,      0.1225,     0.12368,     0.12579,     0.12782,     0.12929,     0.13184,     0.13306,\n",
      "            0.13544,     0.13724,     0.14141,      0.1438,     0.14454,      0.1465,     0.14796,     0.14827,     0.14958,     0.15108,     0.15242,     0.15366,      0.1554,     0.15699,     0.15841,     0.16013,     0.16253,     0.16492,     0.16597,     0.16797,     0.17043,     0.17206,     0.17368,\n",
      "            0.17393,     0.17638,     0.17813,     0.17972,       0.182,     0.18384,      0.1847,     0.18705,     0.18929,     0.19099,     0.19272,     0.19478,       0.194,     0.19545,     0.19661,     0.19774,      0.1988,     0.20105,     0.20277,     0.20462,     0.20606,      0.2062,     0.20735,\n",
      "             0.2106,     0.21182,     0.21091,      0.2119,     0.21393,     0.21632,     0.21701,     0.21761,     0.21789,     0.21994,      0.2224,     0.22298,     0.22402,     0.22628,      0.2278,     0.22859,     0.23147,     0.23327,     0.23451,     0.23653,     0.23855,     0.24216,     0.24321,\n",
      "             0.2442,     0.24533,      0.2488,     0.24821,     0.24921,     0.25117,     0.25177,     0.25081,     0.25177,     0.25178,     0.25467,     0.25576,     0.25752,     0.25844,     0.25725,      0.2578,     0.25835,     0.25981,      0.2615,     0.26352,     0.26648,     0.26731,     0.26829,\n",
      "            0.26634,     0.27078,     0.27173,     0.27353,     0.27596,     0.27768,     0.27845,     0.27957,     0.28049,      0.2804,     0.28304,     0.28399,     0.28481,     0.28584,     0.28753,     0.28819,     0.28982,      0.2911,     0.29085,     0.29252,     0.29351,     0.29254,     0.29348,\n",
      "            0.29505,     0.29561,     0.29637,     0.29814,     0.30119,     0.30117,     0.30197,     0.30328,     0.30571,     0.30689,     0.30804,     0.30633,     0.30689,     0.30847,     0.31013,     0.31075,     0.31166,     0.31076,      0.3109,     0.31188,     0.31229,     0.31269,     0.31059,\n",
      "            0.31208,     0.31255,     0.31488,     0.31571,     0.31671,     0.31871,     0.31956,     0.32034,      0.3182,     0.31717,     0.31819,     0.31944,     0.32354,     0.32383,     0.32432,     0.32547,     0.32771,       0.329,     0.33165,     0.33285,     0.33389,     0.33483,     0.33563,\n",
      "            0.33814,     0.33786,     0.33483,     0.33572,     0.33893,     0.34248,      0.3456,     0.34635,     0.34629,     0.34514,     0.34431,      0.3464,     0.34855,      0.3488,     0.34906,     0.34931,     0.34956,     0.34991,     0.35123,     0.35439,     0.35566,     0.35604,     0.35642,\n",
      "            0.35679,     0.35724,     0.35879,      0.3576,     0.35831,     0.35911,     0.36075,     0.36137,     0.36199,     0.36251,     0.36536,     0.36685,     0.36904,     0.37005,     0.37263,     0.37388,     0.37479,      0.3773,     0.37788,     0.37846,     0.37914,     0.38113,     0.38241,\n",
      "            0.38459,     0.38519,     0.38578,      0.3875,     0.38853,     0.38932,     0.38999,     0.39057,     0.39115,     0.39082,     0.38896,     0.38921,     0.38992,      0.3916,      0.3938,     0.39586,      0.3968,     0.39756,     0.39846,     0.39964,     0.40131,     0.40242,     0.40311,\n",
      "            0.40381,     0.40498,     0.40434,      0.4041,     0.40371,     0.40349,     0.40178,     0.40196,     0.40477,     0.40588,     0.40666,     0.40787,     0.41162,      0.4134,     0.41536,     0.42018,     0.42776,     0.42961,      0.4301,     0.43058,     0.43106,     0.43155,     0.43241,\n",
      "            0.43343,     0.43567,     0.44081,     0.44396,     0.44428,     0.44461,     0.44493,     0.44526,     0.44559,     0.44591,     0.44624,     0.44689,     0.44766,     0.44842,     0.45058,     0.45282,     0.45422,     0.45483,     0.45544,     0.45605,     0.45669,     0.45907,     0.46032,\n",
      "            0.46145,     0.46146,     0.46043,     0.45941,      0.4595,     0.46108,     0.45864,      0.4626,     0.46504,      0.4642,     0.46413,     0.46494,     0.46574,     0.46769,     0.46737,     0.46676,     0.46898,     0.47477,     0.47579,     0.47681,     0.47795,     0.48002,     0.47807,\n",
      "            0.47947,     0.48067,     0.48124,     0.48181,     0.48238,     0.48296,     0.48353,     0.49031,     0.49117,     0.49204,      0.4929,     0.49544,     0.49909,     0.49966,     0.49873,     0.49779,     0.49686,     0.49533,     0.49351,      0.4962,     0.49569,     0.49481,     0.49392,\n",
      "            0.49304,     0.49312,     0.49362,     0.49411,     0.49461,      0.4951,      0.4956,     0.49609,     0.49507,     0.49207,     0.49013,     0.48974,      0.4913,     0.49245,     0.49109,     0.48972,     0.49625,     0.49657,     0.49689,     0.49721,     0.49753,     0.49786,     0.49818,\n",
      "             0.4985,     0.49882,     0.49915,     0.49947,     0.49979,     0.49952,     0.49814,     0.49676,     0.49753,     0.49985,     0.50368,     0.51216,     0.51582,     0.51469,      0.5135,      0.5123,     0.51618,     0.52027,     0.52162,     0.52293,     0.52424,     0.52483,     0.52517,\n",
      "             0.5255,     0.52584,     0.52617,      0.5265,     0.52684,     0.52717,     0.52751,     0.52784,     0.52817,     0.52851,     0.52884,     0.52973,      0.5308,     0.53187,     0.53295,     0.53385,     0.53466,     0.53547,     0.53629,      0.5371,     0.54204,     0.53693,     0.53205,\n",
      "            0.53757,     0.53821,      0.5352,     0.53382,     0.53245,        0.53,     0.52763,      0.5285,     0.52937,     0.53024,     0.53111,     0.53198,     0.54331,     0.54995,     0.54815,     0.54867,     0.54919,     0.54972,     0.55024,     0.55076,     0.55129,     0.55181,     0.55234,\n",
      "            0.55286,     0.55338,     0.55249,     0.55156,     0.55062,     0.54969,     0.55437,     0.55399,     0.55361,     0.55323,     0.55285,     0.55246,     0.55208,      0.5517,     0.55132,     0.55094,     0.55055,     0.55017,     0.55062,     0.55176,     0.55289,     0.55403,     0.55516,\n",
      "             0.5619,     0.56441,     0.56692,     0.57244,     0.57157,      0.5707,     0.56983,     0.56896,     0.56884,     0.56995,     0.57106,     0.57216,     0.57327,     0.57438,     0.56947,     0.56818,     0.56688,     0.56559,     0.56643,     0.56813,     0.56983,     0.57157,      0.5738,\n",
      "            0.57603,     0.58001,     0.58988,     0.59693,     0.59857,     0.59955,     0.60053,     0.60151,     0.60249,     0.60347,     0.60445,     0.60733,     0.61073,     0.60957,     0.60995,     0.61666,     0.61853,     0.61991,     0.62129,     0.62267,     0.62405,     0.62485,     0.62438,\n",
      "            0.62391,     0.62344,     0.62297,     0.62249,     0.62202,     0.62155,     0.62108,     0.62061,     0.62087,     0.62331,     0.62574,     0.62817,     0.62953,     0.63086,      0.6322,     0.63354,     0.63488,     0.63622,     0.63929,     0.64258,     0.64409,      0.6422,     0.64031,\n",
      "            0.63864,     0.63701,     0.63539,     0.63683,     0.63884,     0.64085,     0.64286,     0.64583,     0.64973,     0.65328,     0.65558,     0.65788,     0.66018,     0.66067,     0.65623,     0.65394,     0.65644,        0.66,     0.65755,     0.65875,     0.66181,     0.66487,      0.6662,\n",
      "            0.66508,     0.66396,     0.66284,     0.66172,     0.66781,      0.6727,     0.67452,     0.67634,     0.67815,     0.67997,     0.68178,      0.6988,     0.70658,     0.70978,     0.71298,     0.71617,     0.71868,     0.72107,     0.72345,     0.72583,     0.72822,     0.72799,      0.7269,\n",
      "             0.7258,      0.7247,     0.72527,     0.72762,     0.72997,     0.73232,     0.73467,      0.7366,     0.73329,     0.74253,     0.74334,     0.74073,     0.73379,      0.7311,     0.73654,     0.74199,     0.74586,     0.74763,      0.7494,     0.75117,     0.75294,     0.75472,     0.75649,\n",
      "            0.75826,     0.76014,     0.76844,     0.77511,     0.77241,     0.77029,     0.76898,     0.76767,     0.76636,     0.77001,     0.77589,     0.78178,     0.78111,     0.77937,     0.77707,     0.77379,     0.77612,     0.77845,     0.78078,      0.7831,     0.78543,     0.78776,     0.79009,\n",
      "            0.79437,     0.79934,     0.80432,      0.8093,     0.80346,     0.80188,     0.80031,     0.80143,     0.80322,       0.805,     0.80678,     0.80856,     0.81034,     0.81213,     0.81391,     0.81569,     0.81747,     0.81925,     0.82017,     0.81899,     0.81782,     0.81664,     0.84393,\n",
      "            0.86103,     0.86085,     0.86067,     0.86049,     0.86032,     0.86014,     0.85996,     0.85979,     0.85961,     0.85943,     0.85926,     0.85908,      0.8589,     0.85872,     0.85855,     0.85837,     0.85819,     0.85802,     0.85784,     0.85766,     0.85749,     0.85731,     0.85704,\n",
      "            0.85551,     0.85397,       0.854,     0.85722,     0.86044,     0.86366,     0.86688,     0.87009,     0.87331,     0.87653,     0.87737,      0.8747,     0.87411,     0.87351,     0.87292,     0.87232,     0.87173,     0.87113,     0.88365,     0.89622,     0.89574,     0.89526,     0.89478,\n",
      "             0.8943,     0.89383,     0.89335,     0.89287,      0.8923,     0.89173,     0.89116,      0.8906,     0.89003,     0.88946,     0.88889,     0.88821,     0.88753,     0.88686,     0.88618,      0.8855,     0.88482,      0.8802,     0.87863,     0.87722,     0.87581,     0.87276,     0.86419,\n",
      "            0.86188,     0.86005,     0.85822,     0.85257,     0.84895,     0.84758,     0.84622,     0.84485,     0.84348,     0.84212,     0.84041,     0.83871,       0.837,      0.8353,     0.83359,     0.83258,      0.8317,     0.83082,     0.82994,     0.82906,     0.82817,     0.82729,     0.82641,\n",
      "            0.82553,     0.82464,     0.82376,     0.82182,     0.81949,     0.81717,     0.81484,     0.81252,     0.81622,     0.81997,     0.82373,     0.82748,     0.83124,     0.83499,     0.83874,      0.8425,     0.84625,     0.85001,     0.85376,     0.85751,     0.86127,     0.86502,     0.86314,\n",
      "            0.85684,     0.85018,     0.84521,     0.84281,     0.84042,     0.83803,     0.83563,     0.83356,     0.83926,     0.84497,     0.85068,     0.85638,     0.86209,     0.86779,      0.8735,     0.87921,     0.88491,     0.89062,     0.89632,     0.90203,     0.90773,     0.90867,     0.90813,\n",
      "            0.90758,     0.90703,     0.90648,     0.90593,     0.90538,     0.90484,     0.90429,     0.90374,     0.90319,     0.90264,      0.9021,     0.90155,       0.901,     0.90045,     0.89889,     0.89253,     0.88522,     0.87664,     0.87393,     0.87261,     0.87129,     0.86997,     0.86865,\n",
      "            0.86733,     0.86601,     0.86469,     0.86337,     0.86205,     0.86073,     0.85941,     0.85809,     0.85397,     0.84283,     0.83284,     0.82952,     0.82619,     0.82286,     0.81953,      0.8162,     0.81287,     0.80955,     0.80622,     0.80289,     0.79952,     0.79589,     0.79225,\n",
      "            0.78862,     0.78498,     0.78135,     0.77771,     0.77408,     0.77044,     0.76681,     0.76317,     0.75954,      0.7559,     0.75227,     0.74665,     0.73774,     0.72884,     0.71993,     0.71102,     0.70212,     0.69321,      0.6843,     0.67539,     0.66629,     0.64771,     0.62913,\n",
      "            0.61054,     0.59196,     0.57337,     0.55479,     0.53621,     0.51762,     0.49779,     0.45494,      0.4121,     0.36925,     0.32641,     0.28357,     0.24072,     0.19788,     0.15503,     0.11219,    0.069346,    0.026502,           1,           1,           1,           1,           1,\n",
      "                  1,           1,           1,           1,           1,           1,           1,           1,           1,           1,           1,           1,           1,           1,           1,           1,           1,           1,           1,           1,           1,           1,           1,\n",
      "                  1,           1,           1,           1,           1,           1,           1,           1,           1,           1,           1,           1,           1,           1,           1,           1,           1,           1,           1,           1,           1,           1,           1,\n",
      "                  1,           1,           1,           1,           1,           1,           1,           1,           1,           1,           1,           1,           1,           1,           1,           1,           1,           1,           1,           1,           1,           1,           1,\n",
      "                  1,           1,           1,           1,           1,           1,           1,           1,           1,           1,           1,           1,           1,           1,           1,           1,           1,           1,           1,           1,           1,           1,           1,\n",
      "                  1,           1,           1,           1,           1,           1,           1,           1,           1,           1,           1]]), 'Confidence', 'Precision'], [array([          0,    0.001001,    0.002002,    0.003003,    0.004004,    0.005005,    0.006006,    0.007007,    0.008008,    0.009009,     0.01001,    0.011011,    0.012012,    0.013013,    0.014014,    0.015015,    0.016016,    0.017017,    0.018018,    0.019019,     0.02002,    0.021021,    0.022022,    0.023023,\n",
      "          0.024024,    0.025025,    0.026026,    0.027027,    0.028028,    0.029029,     0.03003,    0.031031,    0.032032,    0.033033,    0.034034,    0.035035,    0.036036,    0.037037,    0.038038,    0.039039,     0.04004,    0.041041,    0.042042,    0.043043,    0.044044,    0.045045,    0.046046,    0.047047,\n",
      "          0.048048,    0.049049,     0.05005,    0.051051,    0.052052,    0.053053,    0.054054,    0.055055,    0.056056,    0.057057,    0.058058,    0.059059,     0.06006,    0.061061,    0.062062,    0.063063,    0.064064,    0.065065,    0.066066,    0.067067,    0.068068,    0.069069,     0.07007,    0.071071,\n",
      "          0.072072,    0.073073,    0.074074,    0.075075,    0.076076,    0.077077,    0.078078,    0.079079,     0.08008,    0.081081,    0.082082,    0.083083,    0.084084,    0.085085,    0.086086,    0.087087,    0.088088,    0.089089,     0.09009,    0.091091,    0.092092,    0.093093,    0.094094,    0.095095,\n",
      "          0.096096,    0.097097,    0.098098,    0.099099,      0.1001,      0.1011,      0.1021,      0.1031,      0.1041,     0.10511,     0.10611,     0.10711,     0.10811,     0.10911,     0.11011,     0.11111,     0.11211,     0.11311,     0.11411,     0.11512,     0.11612,     0.11712,     0.11812,     0.11912,\n",
      "           0.12012,     0.12112,     0.12212,     0.12312,     0.12412,     0.12513,     0.12613,     0.12713,     0.12813,     0.12913,     0.13013,     0.13113,     0.13213,     0.13313,     0.13413,     0.13514,     0.13614,     0.13714,     0.13814,     0.13914,     0.14014,     0.14114,     0.14214,     0.14314,\n",
      "           0.14414,     0.14515,     0.14615,     0.14715,     0.14815,     0.14915,     0.15015,     0.15115,     0.15215,     0.15315,     0.15415,     0.15516,     0.15616,     0.15716,     0.15816,     0.15916,     0.16016,     0.16116,     0.16216,     0.16316,     0.16416,     0.16517,     0.16617,     0.16717,\n",
      "           0.16817,     0.16917,     0.17017,     0.17117,     0.17217,     0.17317,     0.17417,     0.17518,     0.17618,     0.17718,     0.17818,     0.17918,     0.18018,     0.18118,     0.18218,     0.18318,     0.18418,     0.18519,     0.18619,     0.18719,     0.18819,     0.18919,     0.19019,     0.19119,\n",
      "           0.19219,     0.19319,     0.19419,      0.1952,      0.1962,      0.1972,      0.1982,      0.1992,      0.2002,      0.2012,      0.2022,      0.2032,      0.2042,     0.20521,     0.20621,     0.20721,     0.20821,     0.20921,     0.21021,     0.21121,     0.21221,     0.21321,     0.21421,     0.21522,\n",
      "           0.21622,     0.21722,     0.21822,     0.21922,     0.22022,     0.22122,     0.22222,     0.22322,     0.22422,     0.22523,     0.22623,     0.22723,     0.22823,     0.22923,     0.23023,     0.23123,     0.23223,     0.23323,     0.23423,     0.23524,     0.23624,     0.23724,     0.23824,     0.23924,\n",
      "           0.24024,     0.24124,     0.24224,     0.24324,     0.24424,     0.24525,     0.24625,     0.24725,     0.24825,     0.24925,     0.25025,     0.25125,     0.25225,     0.25325,     0.25425,     0.25526,     0.25626,     0.25726,     0.25826,     0.25926,     0.26026,     0.26126,     0.26226,     0.26326,\n",
      "           0.26426,     0.26527,     0.26627,     0.26727,     0.26827,     0.26927,     0.27027,     0.27127,     0.27227,     0.27327,     0.27427,     0.27528,     0.27628,     0.27728,     0.27828,     0.27928,     0.28028,     0.28128,     0.28228,     0.28328,     0.28428,     0.28529,     0.28629,     0.28729,\n",
      "           0.28829,     0.28929,     0.29029,     0.29129,     0.29229,     0.29329,     0.29429,      0.2953,      0.2963,      0.2973,      0.2983,      0.2993,      0.3003,      0.3013,      0.3023,      0.3033,      0.3043,     0.30531,     0.30631,     0.30731,     0.30831,     0.30931,     0.31031,     0.31131,\n",
      "           0.31231,     0.31331,     0.31431,     0.31532,     0.31632,     0.31732,     0.31832,     0.31932,     0.32032,     0.32132,     0.32232,     0.32332,     0.32432,     0.32533,     0.32633,     0.32733,     0.32833,     0.32933,     0.33033,     0.33133,     0.33233,     0.33333,     0.33433,     0.33534,\n",
      "           0.33634,     0.33734,     0.33834,     0.33934,     0.34034,     0.34134,     0.34234,     0.34334,     0.34434,     0.34535,     0.34635,     0.34735,     0.34835,     0.34935,     0.35035,     0.35135,     0.35235,     0.35335,     0.35435,     0.35536,     0.35636,     0.35736,     0.35836,     0.35936,\n",
      "           0.36036,     0.36136,     0.36236,     0.36336,     0.36436,     0.36537,     0.36637,     0.36737,     0.36837,     0.36937,     0.37037,     0.37137,     0.37237,     0.37337,     0.37437,     0.37538,     0.37638,     0.37738,     0.37838,     0.37938,     0.38038,     0.38138,     0.38238,     0.38338,\n",
      "           0.38438,     0.38539,     0.38639,     0.38739,     0.38839,     0.38939,     0.39039,     0.39139,     0.39239,     0.39339,     0.39439,      0.3954,      0.3964,      0.3974,      0.3984,      0.3994,      0.4004,      0.4014,      0.4024,      0.4034,      0.4044,     0.40541,     0.40641,     0.40741,\n",
      "           0.40841,     0.40941,     0.41041,     0.41141,     0.41241,     0.41341,     0.41441,     0.41542,     0.41642,     0.41742,     0.41842,     0.41942,     0.42042,     0.42142,     0.42242,     0.42342,     0.42442,     0.42543,     0.42643,     0.42743,     0.42843,     0.42943,     0.43043,     0.43143,\n",
      "           0.43243,     0.43343,     0.43443,     0.43544,     0.43644,     0.43744,     0.43844,     0.43944,     0.44044,     0.44144,     0.44244,     0.44344,     0.44444,     0.44545,     0.44645,     0.44745,     0.44845,     0.44945,     0.45045,     0.45145,     0.45245,     0.45345,     0.45445,     0.45546,\n",
      "           0.45646,     0.45746,     0.45846,     0.45946,     0.46046,     0.46146,     0.46246,     0.46346,     0.46446,     0.46547,     0.46647,     0.46747,     0.46847,     0.46947,     0.47047,     0.47147,     0.47247,     0.47347,     0.47447,     0.47548,     0.47648,     0.47748,     0.47848,     0.47948,\n",
      "           0.48048,     0.48148,     0.48248,     0.48348,     0.48448,     0.48549,     0.48649,     0.48749,     0.48849,     0.48949,     0.49049,     0.49149,     0.49249,     0.49349,     0.49449,      0.4955,      0.4965,      0.4975,      0.4985,      0.4995,      0.5005,      0.5015,      0.5025,      0.5035,\n",
      "            0.5045,     0.50551,     0.50651,     0.50751,     0.50851,     0.50951,     0.51051,     0.51151,     0.51251,     0.51351,     0.51451,     0.51552,     0.51652,     0.51752,     0.51852,     0.51952,     0.52052,     0.52152,     0.52252,     0.52352,     0.52452,     0.52553,     0.52653,     0.52753,\n",
      "           0.52853,     0.52953,     0.53053,     0.53153,     0.53253,     0.53353,     0.53453,     0.53554,     0.53654,     0.53754,     0.53854,     0.53954,     0.54054,     0.54154,     0.54254,     0.54354,     0.54454,     0.54555,     0.54655,     0.54755,     0.54855,     0.54955,     0.55055,     0.55155,\n",
      "           0.55255,     0.55355,     0.55455,     0.55556,     0.55656,     0.55756,     0.55856,     0.55956,     0.56056,     0.56156,     0.56256,     0.56356,     0.56456,     0.56557,     0.56657,     0.56757,     0.56857,     0.56957,     0.57057,     0.57157,     0.57257,     0.57357,     0.57457,     0.57558,\n",
      "           0.57658,     0.57758,     0.57858,     0.57958,     0.58058,     0.58158,     0.58258,     0.58358,     0.58458,     0.58559,     0.58659,     0.58759,     0.58859,     0.58959,     0.59059,     0.59159,     0.59259,     0.59359,     0.59459,      0.5956,      0.5966,      0.5976,      0.5986,      0.5996,\n",
      "            0.6006,      0.6016,      0.6026,      0.6036,      0.6046,     0.60561,     0.60661,     0.60761,     0.60861,     0.60961,     0.61061,     0.61161,     0.61261,     0.61361,     0.61461,     0.61562,     0.61662,     0.61762,     0.61862,     0.61962,     0.62062,     0.62162,     0.62262,     0.62362,\n",
      "           0.62462,     0.62563,     0.62663,     0.62763,     0.62863,     0.62963,     0.63063,     0.63163,     0.63263,     0.63363,     0.63463,     0.63564,     0.63664,     0.63764,     0.63864,     0.63964,     0.64064,     0.64164,     0.64264,     0.64364,     0.64464,     0.64565,     0.64665,     0.64765,\n",
      "           0.64865,     0.64965,     0.65065,     0.65165,     0.65265,     0.65365,     0.65465,     0.65566,     0.65666,     0.65766,     0.65866,     0.65966,     0.66066,     0.66166,     0.66266,     0.66366,     0.66466,     0.66567,     0.66667,     0.66767,     0.66867,     0.66967,     0.67067,     0.67167,\n",
      "           0.67267,     0.67367,     0.67467,     0.67568,     0.67668,     0.67768,     0.67868,     0.67968,     0.68068,     0.68168,     0.68268,     0.68368,     0.68468,     0.68569,     0.68669,     0.68769,     0.68869,     0.68969,     0.69069,     0.69169,     0.69269,     0.69369,     0.69469,      0.6957,\n",
      "            0.6967,      0.6977,      0.6987,      0.6997,      0.7007,      0.7017,      0.7027,      0.7037,      0.7047,     0.70571,     0.70671,     0.70771,     0.70871,     0.70971,     0.71071,     0.71171,     0.71271,     0.71371,     0.71471,     0.71572,     0.71672,     0.71772,     0.71872,     0.71972,\n",
      "           0.72072,     0.72172,     0.72272,     0.72372,     0.72472,     0.72573,     0.72673,     0.72773,     0.72873,     0.72973,     0.73073,     0.73173,     0.73273,     0.73373,     0.73473,     0.73574,     0.73674,     0.73774,     0.73874,     0.73974,     0.74074,     0.74174,     0.74274,     0.74374,\n",
      "           0.74474,     0.74575,     0.74675,     0.74775,     0.74875,     0.74975,     0.75075,     0.75175,     0.75275,     0.75375,     0.75475,     0.75576,     0.75676,     0.75776,     0.75876,     0.75976,     0.76076,     0.76176,     0.76276,     0.76376,     0.76476,     0.76577,     0.76677,     0.76777,\n",
      "           0.76877,     0.76977,     0.77077,     0.77177,     0.77277,     0.77377,     0.77477,     0.77578,     0.77678,     0.77778,     0.77878,     0.77978,     0.78078,     0.78178,     0.78278,     0.78378,     0.78478,     0.78579,     0.78679,     0.78779,     0.78879,     0.78979,     0.79079,     0.79179,\n",
      "           0.79279,     0.79379,     0.79479,      0.7958,      0.7968,      0.7978,      0.7988,      0.7998,      0.8008,      0.8018,      0.8028,      0.8038,      0.8048,     0.80581,     0.80681,     0.80781,     0.80881,     0.80981,     0.81081,     0.81181,     0.81281,     0.81381,     0.81481,     0.81582,\n",
      "           0.81682,     0.81782,     0.81882,     0.81982,     0.82082,     0.82182,     0.82282,     0.82382,     0.82482,     0.82583,     0.82683,     0.82783,     0.82883,     0.82983,     0.83083,     0.83183,     0.83283,     0.83383,     0.83483,     0.83584,     0.83684,     0.83784,     0.83884,     0.83984,\n",
      "           0.84084,     0.84184,     0.84284,     0.84384,     0.84484,     0.84585,     0.84685,     0.84785,     0.84885,     0.84985,     0.85085,     0.85185,     0.85285,     0.85385,     0.85485,     0.85586,     0.85686,     0.85786,     0.85886,     0.85986,     0.86086,     0.86186,     0.86286,     0.86386,\n",
      "           0.86486,     0.86587,     0.86687,     0.86787,     0.86887,     0.86987,     0.87087,     0.87187,     0.87287,     0.87387,     0.87487,     0.87588,     0.87688,     0.87788,     0.87888,     0.87988,     0.88088,     0.88188,     0.88288,     0.88388,     0.88488,     0.88589,     0.88689,     0.88789,\n",
      "           0.88889,     0.88989,     0.89089,     0.89189,     0.89289,     0.89389,     0.89489,      0.8959,      0.8969,      0.8979,      0.8989,      0.8999,      0.9009,      0.9019,      0.9029,      0.9039,      0.9049,     0.90591,     0.90691,     0.90791,     0.90891,     0.90991,     0.91091,     0.91191,\n",
      "           0.91291,     0.91391,     0.91491,     0.91592,     0.91692,     0.91792,     0.91892,     0.91992,     0.92092,     0.92192,     0.92292,     0.92392,     0.92492,     0.92593,     0.92693,     0.92793,     0.92893,     0.92993,     0.93093,     0.93193,     0.93293,     0.93393,     0.93493,     0.93594,\n",
      "           0.93694,     0.93794,     0.93894,     0.93994,     0.94094,     0.94194,     0.94294,     0.94394,     0.94494,     0.94595,     0.94695,     0.94795,     0.94895,     0.94995,     0.95095,     0.95195,     0.95295,     0.95395,     0.95495,     0.95596,     0.95696,     0.95796,     0.95896,     0.95996,\n",
      "           0.96096,     0.96196,     0.96296,     0.96396,     0.96496,     0.96597,     0.96697,     0.96797,     0.96897,     0.96997,     0.97097,     0.97197,     0.97297,     0.97397,     0.97497,     0.97598,     0.97698,     0.97798,     0.97898,     0.97998,     0.98098,     0.98198,     0.98298,     0.98398,\n",
      "           0.98498,     0.98599,     0.98699,     0.98799,     0.98899,     0.98999,     0.99099,     0.99199,     0.99299,     0.99399,     0.99499,       0.996,       0.997,       0.998,       0.999,           1]), array([[    0.71053,     0.71053,     0.70526,         0.7,     0.68947,     0.68421,     0.66842,     0.65263,     0.64737,     0.64737,     0.64737,     0.64737,     0.64737,     0.64737,     0.64737,     0.64737,     0.64737,     0.64737,     0.64211,     0.64211,     0.63684,     0.63684,     0.63684,\n",
      "            0.63684,     0.63684,     0.63158,     0.63158,     0.62105,     0.61053,     0.61053,     0.61053,     0.61053,     0.61053,     0.61053,     0.61053,     0.61053,         0.6,     0.59474,     0.59474,     0.59474,     0.59474,     0.59474,     0.59474,     0.58947,     0.58947,     0.58947,\n",
      "            0.58947,     0.58947,     0.58947,     0.58947,     0.58421,     0.58421,     0.58127,     0.57368,     0.57368,     0.57368,     0.57368,     0.57368,     0.57368,     0.57368,     0.57368,     0.57368,     0.57368,     0.57368,     0.57368,     0.57368,     0.57368,     0.57368,     0.57368,\n",
      "             0.5707,     0.56842,     0.56842,     0.56842,     0.56842,     0.56842,     0.56842,     0.56842,     0.56842,     0.56842,     0.56842,     0.56842,     0.56316,     0.56316,     0.56316,     0.56316,     0.56316,     0.56316,     0.56316,     0.56316,     0.56316,     0.55789,     0.55789,\n",
      "            0.55789,     0.55789,     0.55263,     0.54909,     0.54737,     0.54737,     0.54737,     0.54737,     0.54737,     0.54737,     0.54737,     0.54737,     0.54737,     0.54737,     0.54737,     0.54737,     0.54737,     0.54737,     0.54211,     0.54211,     0.54211,     0.54211,     0.54211,\n",
      "            0.54211,     0.54211,     0.54211,     0.53684,     0.53684,     0.53684,     0.53684,     0.53158,     0.53158,     0.52632,     0.52632,     0.52632,     0.52632,     0.52461,     0.52136,     0.52105,     0.52105,     0.52105,     0.52105,     0.52105,     0.52105,     0.52105,     0.52105,\n",
      "            0.51579,     0.51579,     0.51579,     0.51579,     0.51579,     0.51579,     0.51579,     0.51579,     0.51579,     0.51053,     0.51053,     0.51053,     0.51053,     0.51053,     0.51053,     0.51053,     0.51053,     0.51005,     0.50526,     0.50526,     0.50526,         0.5,         0.5,\n",
      "                0.5,         0.5,         0.5,         0.5,         0.5,     0.49675,     0.49474,     0.49474,     0.49474,     0.49474,     0.49474,     0.48947,     0.48947,     0.48947,     0.48947,     0.48947,     0.48947,     0.48647,     0.48421,     0.48421,     0.48421,     0.48421,     0.47897,\n",
      "            0.47895,     0.47895,     0.47895,     0.47895,     0.47895,     0.47895,     0.47895,     0.47895,     0.47162,     0.46842,     0.46842,     0.46842,     0.46842,     0.46316,     0.46316,     0.46316,     0.46316,     0.46316,     0.46316,     0.46316,     0.46316,     0.46316,     0.46316,\n",
      "            0.46316,     0.45924,     0.45305,     0.45263,     0.45263,     0.45263,     0.45263,     0.45263,     0.45167,     0.44938,     0.44737,     0.44737,     0.44737,     0.44737,     0.44737,     0.44737,     0.44737,     0.44737,     0.44737,     0.44737,     0.44737,     0.44737,     0.44737,\n",
      "            0.44737,     0.44737,     0.44737,     0.44211,     0.44211,     0.44211,     0.44211,     0.44211,     0.44211,     0.43684,     0.43684,     0.43684,     0.43684,     0.43684,     0.43684,     0.43684,     0.43684,     0.43684,     0.43684,     0.43684,     0.43684,     0.43684,     0.43684,\n",
      "            0.43684,     0.43684,     0.43684,     0.43684,     0.43684,     0.43684,     0.43684,     0.43684,     0.43684,     0.43559,     0.43218,     0.43158,     0.43158,     0.43158,     0.43158,     0.43158,     0.43158,     0.43158,     0.43158,     0.43158,     0.43158,     0.43158,     0.43158,\n",
      "            0.43158,     0.43158,     0.42873,     0.42632,     0.42404,     0.42105,     0.41713,     0.41579,     0.41579,     0.41579,     0.41579,     0.41579,     0.41579,     0.41579,     0.41579,     0.41579,     0.41579,     0.41579,     0.41579,     0.41579,     0.41579,     0.41579,     0.41579,\n",
      "            0.41579,     0.41579,     0.41579,     0.41579,     0.41579,     0.41579,     0.41579,     0.41579,     0.41579,     0.41579,     0.41579,     0.41579,     0.41579,     0.41579,     0.41579,     0.41579,     0.41579,     0.41579,     0.41579,     0.41579,     0.41579,     0.41579,     0.41579,\n",
      "            0.41579,     0.41491,      0.4132,      0.4115,     0.41053,     0.41053,     0.40576,     0.40526,     0.40526,     0.40127,         0.4,         0.4,         0.4,         0.4,     0.39719,     0.39474,     0.39474,     0.39474,     0.39474,     0.39474,     0.39474,     0.39474,     0.38947,\n",
      "            0.38947,     0.38947,     0.38947,     0.38947,     0.38947,     0.38947,     0.38947,     0.38947,     0.38947,     0.38947,     0.38947,     0.38947,     0.38947,     0.38369,     0.38227,     0.38084,     0.37942,     0.37712,     0.37437,     0.37368,     0.37247,     0.37116,     0.36986,\n",
      "            0.36855,     0.36316,     0.36316,     0.36316,     0.36316,     0.36316,     0.36316,     0.36316,     0.36124,     0.35692,     0.35417,     0.35263,     0.35263,     0.35236,     0.35045,     0.34853,     0.34737,     0.34737,     0.34737,     0.34737,     0.34737,     0.34737,     0.34737,\n",
      "            0.34737,     0.34737,     0.34737,     0.34737,     0.34737,     0.34671,      0.3448,      0.3429,     0.34211,     0.34211,     0.34211,     0.34211,     0.34211,      0.3405,     0.33888,     0.33725,     0.33684,     0.33684,     0.33684,     0.33684,     0.33684,     0.33684,     0.33684,\n",
      "            0.33684,     0.33684,     0.33684,     0.33684,     0.33684,     0.33684,     0.33684,     0.33684,     0.33684,     0.33684,     0.33684,     0.33684,     0.33684,     0.33684,     0.33684,     0.33684,     0.33684,     0.33684,     0.33684,     0.33684,      0.3364,     0.32955,     0.32316,\n",
      "            0.32105,     0.31899,     0.31514,     0.31341,     0.31168,     0.30863,     0.30526,     0.30526,     0.30526,     0.30526,     0.30526,     0.30526,     0.30526,     0.30526,         0.3,         0.3,         0.3,         0.3,         0.3,         0.3,         0.3,         0.3,         0.3,\n",
      "                0.3,         0.3,     0.29891,     0.29779,     0.29666,     0.29554,     0.29464,     0.29419,     0.29374,     0.29329,     0.29284,     0.29238,     0.29193,     0.29148,     0.29103,     0.29058,     0.29013,     0.28968,     0.28947,     0.28947,     0.28947,     0.28947,     0.28947,\n",
      "            0.28947,     0.28947,     0.28947,     0.28891,      0.2879,     0.28688,     0.28586,     0.28484,     0.28421,     0.28421,     0.28421,     0.28421,     0.28421,     0.28421,     0.27848,     0.27702,     0.27556,      0.2741,     0.27368,     0.27368,     0.27368,     0.27368,     0.27368,\n",
      "            0.27368,     0.27368,     0.27368,     0.27368,     0.27368,     0.27368,     0.27368,     0.27368,     0.27368,     0.27368,     0.27368,     0.27368,     0.27368,     0.27118,     0.26316,     0.26316,     0.26316,     0.26316,     0.26316,     0.26316,     0.26316,       0.263,     0.26247,\n",
      "            0.26195,     0.26143,      0.2609,     0.26038,     0.25986,     0.25933,     0.25881,     0.25828,     0.25789,     0.25789,     0.25789,     0.25789,     0.25789,     0.25789,     0.25789,     0.25789,     0.25789,     0.25789,     0.25789,     0.25789,     0.25717,     0.25507,     0.25297,\n",
      "            0.25116,      0.2494,     0.24764,     0.24737,     0.24737,     0.24737,     0.24737,     0.24737,     0.24737,     0.24737,     0.24737,     0.24737,     0.24737,     0.24595,     0.24114,     0.23872,     0.23684,       0.235,     0.23244,     0.23158,     0.23158,     0.23158,      0.2311,\n",
      "            0.22995,      0.2288,     0.22765,      0.2265,     0.22632,     0.22632,     0.22632,     0.22632,     0.22632,     0.22632,     0.22632,     0.22632,     0.22632,     0.22632,     0.22632,     0.22632,     0.22632,     0.22632,     0.22632,     0.22632,     0.22632,     0.22539,     0.22416,\n",
      "            0.22292,     0.22169,     0.22105,     0.22105,     0.22105,     0.22105,     0.22105,     0.22078,     0.21707,     0.21579,     0.21342,     0.21052,     0.20313,         0.2,         0.2,         0.2,         0.2,         0.2,         0.2,         0.2,         0.2,         0.2,         0.2,\n",
      "                0.2,         0.2,         0.2,     0.19955,     0.19651,     0.19415,     0.19274,     0.19132,     0.18991,     0.18947,     0.18947,     0.18947,     0.18784,     0.18594,     0.18347,     0.17895,     0.17895,     0.17895,     0.17895,     0.17895,     0.17895,     0.17895,     0.17895,\n",
      "            0.17895,     0.17895,     0.17895,     0.17895,     0.17215,     0.17045,     0.16875,     0.16842,     0.16842,     0.16842,     0.16842,     0.16842,     0.16842,     0.16842,     0.16842,     0.16842,     0.16842,     0.16842,     0.16804,     0.16673,     0.16542,     0.16411,     0.16316,\n",
      "            0.16304,     0.16281,     0.16258,     0.16234,     0.16211,     0.16187,     0.16164,      0.1614,     0.16117,     0.16093,      0.1607,     0.16046,     0.16023,     0.15999,     0.15976,     0.15952,     0.15929,     0.15905,     0.15882,     0.15858,     0.15835,     0.15811,     0.15777,\n",
      "            0.15585,     0.15392,     0.15263,     0.15263,     0.15263,     0.15263,     0.15263,     0.15263,     0.15263,     0.15263,     0.15066,     0.14698,      0.1462,     0.14543,     0.14465,     0.14388,      0.1431,     0.14232,     0.13684,     0.13637,     0.13568,       0.135,     0.13432,\n",
      "            0.13364,     0.13296,     0.13228,      0.1316,     0.13084,     0.13009,     0.12933,     0.12858,     0.12782,     0.12707,     0.12632,     0.12548,     0.12465,     0.12381,     0.12298,     0.12214,     0.12131,     0.11602,     0.11435,     0.11287,     0.11138,     0.10836,     0.10049,\n",
      "           0.098577,    0.097093,     0.09561,    0.091367,    0.088773,    0.087862,    0.086951,     0.08604,    0.085129,    0.084218,    0.083196,    0.082172,    0.081149,    0.080126,    0.079103,    0.078546,    0.078072,    0.077598,    0.077124,    0.076651,    0.076177,    0.075703,     0.07523,\n",
      "           0.074756,    0.074282,    0.073808,    0.072866,    0.071758,    0.070649,     0.06954,    0.068431,    0.068421,    0.068421,    0.068421,    0.068421,    0.068421,    0.068421,    0.068421,    0.068421,    0.068421,    0.068421,    0.068421,    0.068421,    0.068421,    0.068421,    0.066472,\n",
      "           0.063014,    0.059822,    0.057505,    0.056523,     0.05554,    0.054558,    0.053575,    0.052632,    0.052632,    0.052632,    0.052632,    0.052632,    0.052632,    0.052632,    0.052632,    0.052632,    0.052632,    0.052632,    0.052632,    0.052632,    0.052632,     0.05239,    0.052072,\n",
      "           0.051755,    0.051438,    0.051121,    0.050803,    0.050486,    0.050169,    0.049851,    0.049534,    0.049217,    0.048899,    0.048582,    0.048265,    0.047948,     0.04763,    0.046842,     0.04383,    0.040715,    0.037463,    0.036527,    0.036138,    0.035749,     0.03536,    0.034971,\n",
      "           0.034582,    0.034192,    0.033803,    0.033414,    0.033025,    0.032636,    0.032247,    0.031857,    0.030879,    0.028416,    0.026238,    0.025713,    0.025187,    0.024662,    0.024136,    0.023611,    0.023085,     0.02256,    0.022034,    0.021509,    0.021002,     0.02062,    0.020237,\n",
      "           0.019854,    0.019472,    0.019089,    0.018706,    0.018324,    0.017941,    0.017559,    0.017176,    0.016793,    0.016411,    0.016028,    0.015578,    0.015015,    0.014453,     0.01389,    0.013328,    0.012765,    0.012203,     0.01164,    0.011078,    0.010515,   0.0099277,   0.0093408,\n",
      "           0.008754,   0.0081671,   0.0075802,   0.0069934,   0.0064065,   0.0058197,   0.0052399,   0.0047889,   0.0043379,   0.0038869,   0.0034359,   0.0029849,   0.0025339,   0.0020829,   0.0016319,   0.0011809,  0.00072995,  0.00027896,           0,           0,           0,           0,           0,\n",
      "                  0,           0,           0,           0,           0,           0,           0,           0,           0,           0,           0,           0,           0,           0,           0,           0,           0,           0,           0,           0,           0,           0,           0,\n",
      "                  0,           0,           0,           0,           0,           0,           0,           0,           0,           0,           0,           0,           0,           0,           0,           0,           0,           0,           0,           0,           0,           0,           0,\n",
      "                  0,           0,           0,           0,           0,           0,           0,           0,           0,           0,           0,           0,           0,           0,           0,           0,           0,           0,           0,           0,           0,           0,           0,\n",
      "                  0,           0,           0,           0,           0,           0,           0,           0,           0,           0,           0,           0,           0,           0,           0,           0,           0,           0,           0,           0,           0,           0,           0,\n",
      "                  0,           0,           0,           0,           0,           0,           0,           0,           0,           0,           0]]), 'Confidence', 'Recall']]\n",
      "fitness: 0.472720094685618\n",
      "keys: ['metrics/precision(B)', 'metrics/recall(B)', 'metrics/mAP50(B)', 'metrics/mAP50-95(B)', 'metrics/precision(M)', 'metrics/recall(M)', 'metrics/mAP50(M)', 'metrics/mAP50-95(M)']\n",
      "maps: array([     0.4216])\n",
      "names: {0: 'stigma'}\n",
      "plot: True\n",
      "results_dict: {'metrics/precision(B)': 0.6063198685235355, 'metrics/recall(B)': 0.5631578947368421, 'metrics/mAP50(B)': 0.5736179863434397, 'metrics/mAP50-95(B)': 0.32939011545454633, 'metrics/precision(M)': 0.45949656579152204, 'metrics/recall(M)': 0.4105263157894737, 'metrics/mAP50(M)': 0.35915587201830396, 'metrics/mAP50-95(M)': 0.0922128943781688, 'fitness': 0.472720094685618}\n",
      "save_dir: PosixPath('/home/etaylor/code_projects/thesis/src/stigmas_detection/segmentation/yolo/runs/segment/train292')\n",
      "seg: ultralytics.utils.metrics.Metric object\n",
      "speed: {'preprocess': 0.8159351348876953, 'inference': 43.19485664367676, 'loss': 0.009050369262695312, 'postprocess': 16.374177932739258}\n",
      "task: 'segment'\n",
      "Fine-tuned model saved to: /home/etaylor/code_projects/thesis/checkpoints/stigmas_segmentation/yolo/fine_tuned/yolov11s-seg_fine_tuned.pt\n",
      "Training model: yolov11m-seg\n",
      "Ultralytics 8.3.56 🚀 Python-3.9.19 torch-2.3.1+cu121 CUDA:0 (NVIDIA GeForce GTX 1080 Ti, 11165MiB)\n",
      "\u001b[34m\u001b[1mengine/trainer: \u001b[0mtask=segment, mode=train, model=/home/etaylor/code_projects/thesis/checkpoints/stigmas_segmentation/yolo/pre_trained/yolo11m-seg.pt, data=/home/etaylor/code_projects/thesis/src/stigmas_detection/segmentation/yolo/yaml/stigmas_dataset_yolo.yaml, epochs=50, time=None, patience=100, batch=2, imgsz=640, save=True, save_period=-1, cache=False, device=None, workers=8, project=None, name=train30, exist_ok=False, pretrained=True, optimizer=auto, verbose=True, seed=0, deterministic=True, single_cls=False, rect=False, cos_lr=False, close_mosaic=10, resume=False, amp=True, fraction=1.0, profile=False, freeze=None, multi_scale=False, overlap_mask=True, mask_ratio=4, dropout=0.0, val=True, split=val, save_json=False, save_hybrid=False, conf=None, iou=0.7, max_det=300, half=False, dnn=False, plots=True, source=None, vid_stride=1, stream_buffer=False, visualize=False, augment=False, agnostic_nms=False, classes=None, retina_masks=False, embed=None, show=False, save_frames=False, save_txt=False, save_conf=False, save_crop=False, show_labels=True, show_conf=True, show_boxes=True, line_width=None, format=torchscript, keras=False, optimize=False, int8=False, dynamic=False, simplify=True, opset=None, workspace=None, nms=False, lr0=0.01, lrf=0.01, momentum=0.937, weight_decay=0.0005, warmup_epochs=3.0, warmup_momentum=0.8, warmup_bias_lr=0.1, box=7.5, cls=0.5, dfl=1.5, pose=12.0, kobj=1.0, nbs=64, hsv_h=0.015, hsv_s=0.7, hsv_v=0.4, degrees=0.0, translate=0.1, scale=0.5, shear=0.0, perspective=0.0, flipud=0.0, fliplr=0.5, bgr=0.0, mosaic=1.0, mixup=0.0, copy_paste=0.0, copy_paste_mode=flip, auto_augment=randaugment, erasing=0.4, crop_fraction=1.0, cfg=None, tracker=botsort.yaml, save_dir=/home/etaylor/code_projects/thesis/src/stigmas_detection/segmentation/yolo/runs/segment/train30\n",
      "Overriding model.yaml nc=80 with nc=1\n",
      "\n",
      "                   from  n    params  module                                       arguments                     \n",
      "  0                  -1  1      1856  ultralytics.nn.modules.conv.Conv             [3, 64, 3, 2]                 \n",
      "  1                  -1  1     73984  ultralytics.nn.modules.conv.Conv             [64, 128, 3, 2]               \n",
      "  2                  -1  1    111872  ultralytics.nn.modules.block.C3k2            [128, 256, 1, True, 0.25]     \n",
      "  3                  -1  1    590336  ultralytics.nn.modules.conv.Conv             [256, 256, 3, 2]              \n",
      "  4                  -1  1    444928  ultralytics.nn.modules.block.C3k2            [256, 512, 1, True, 0.25]     \n",
      "  5                  -1  1   2360320  ultralytics.nn.modules.conv.Conv             [512, 512, 3, 2]              \n",
      "  6                  -1  1   1380352  ultralytics.nn.modules.block.C3k2            [512, 512, 1, True]           \n",
      "  7                  -1  1   2360320  ultralytics.nn.modules.conv.Conv             [512, 512, 3, 2]              \n",
      "  8                  -1  1   1380352  ultralytics.nn.modules.block.C3k2            [512, 512, 1, True]           \n",
      "  9                  -1  1    656896  ultralytics.nn.modules.block.SPPF            [512, 512, 5]                 \n",
      " 10                  -1  1    990976  ultralytics.nn.modules.block.C2PSA           [512, 512, 1]                 \n",
      " 11                  -1  1         0  torch.nn.modules.upsampling.Upsample         [None, 2, 'nearest']          \n",
      " 12             [-1, 6]  1         0  ultralytics.nn.modules.conv.Concat           [1]                           \n",
      " 13                  -1  1   1642496  ultralytics.nn.modules.block.C3k2            [1024, 512, 1, True]          \n",
      " 14                  -1  1         0  torch.nn.modules.upsampling.Upsample         [None, 2, 'nearest']          \n",
      " 15             [-1, 4]  1         0  ultralytics.nn.modules.conv.Concat           [1]                           \n",
      " 16                  -1  1    542720  ultralytics.nn.modules.block.C3k2            [1024, 256, 1, True]          \n",
      " 17                  -1  1    590336  ultralytics.nn.modules.conv.Conv             [256, 256, 3, 2]              \n",
      " 18            [-1, 13]  1         0  ultralytics.nn.modules.conv.Concat           [1]                           \n",
      " 19                  -1  1   1511424  ultralytics.nn.modules.block.C3k2            [768, 512, 1, True]           \n",
      " 20                  -1  1   2360320  ultralytics.nn.modules.conv.Conv             [512, 512, 3, 2]              \n",
      " 21            [-1, 10]  1         0  ultralytics.nn.modules.conv.Concat           [1]                           \n",
      " 22                  -1  1   1642496  ultralytics.nn.modules.block.C3k2            [1024, 512, 1, True]          \n",
      " 23        [16, 19, 22]  1   3718003  ultralytics.nn.modules.head.Segment          [1, 32, 256, [256, 512, 512]] \n",
      "YOLO11m-seg summary: 445 layers, 22,359,987 parameters, 22,359,971 gradients, 123.6 GFLOPs\n",
      "\n",
      "Transferred 705/711 items from pretrained weights\n",
      "\u001b[34m\u001b[1mTensorBoard: \u001b[0mStart with 'tensorboard --logdir /home/etaylor/code_projects/thesis/src/stigmas_detection/segmentation/yolo/runs/segment/train30', view at http://localhost:6006/\n",
      "Freezing layer 'model.23.dfl.conv.weight'\n",
      "\u001b[34m\u001b[1mAMP: \u001b[0mrunning Automatic Mixed Precision (AMP) checks...\n",
      "\u001b[34m\u001b[1mAMP: \u001b[0mchecks passed ✅\n"
     ]
    },
    {
     "name": "stderr",
     "output_type": "stream",
     "text": [
      "\u001b[34m\u001b[1mtrain: \u001b[0mScanning /sise/home/etaylor/code_projects/thesis/segments/etaylor_stigmas_dataset/yolo_formatted/labels/train.cache... 87 images, 0 backgrounds, 0 corrupt: 100%|██████████| 87/87 [00:00<?, ?it/s]\n",
      "/home/etaylor/.conda/envs/detectron_fastai/lib/python3.9/site-packages/torch/utils/data/dataloader.py:558: UserWarning: This DataLoader will create 8 worker processes in total. Our suggested max number of worker in current system is 6, which is smaller than what this DataLoader is going to create. Please be aware that excessive worker creation might get DataLoader running slow or even freeze, lower the worker number to avoid potential slowness/freeze if necessary.\n",
      "  warnings.warn(_create_warning_msg(\n",
      "\u001b[34m\u001b[1mval: \u001b[0mScanning /sise/home/etaylor/code_projects/thesis/segments/etaylor_stigmas_dataset/yolo_formatted/labels/val.cache... 25 images, 0 backgrounds, 0 corrupt: 100%|██████████| 25/25 [00:00<?, ?it/s]\n",
      "/home/etaylor/.conda/envs/detectron_fastai/lib/python3.9/site-packages/torch/utils/data/dataloader.py:558: UserWarning: This DataLoader will create 12 worker processes in total. Our suggested max number of worker in current system is 6, which is smaller than what this DataLoader is going to create. Please be aware that excessive worker creation might get DataLoader running slow or even freeze, lower the worker number to avoid potential slowness/freeze if necessary.\n",
      "  warnings.warn(_create_warning_msg(\n"
     ]
    },
    {
     "name": "stdout",
     "output_type": "stream",
     "text": [
      "Plotting labels to /home/etaylor/code_projects/thesis/src/stigmas_detection/segmentation/yolo/runs/segment/train30/labels.jpg... \n",
      "\u001b[34m\u001b[1moptimizer:\u001b[0m 'optimizer=auto' found, ignoring 'lr0=0.01' and 'momentum=0.937' and determining best 'optimizer', 'lr0' and 'momentum' automatically... \n",
      "\u001b[34m\u001b[1moptimizer:\u001b[0m AdamW(lr=0.002, momentum=0.9) with parameter groups 115 weight(decay=0.0), 126 weight(decay=0.0005), 125 bias(decay=0.0)\n",
      "\u001b[34m\u001b[1mTensorBoard: \u001b[0mmodel graph visualization added ✅\n",
      "Image sizes 640 train, 640 val\n",
      "Using 8 dataloader workers\n",
      "Logging results to \u001b[1m/home/etaylor/code_projects/thesis/src/stigmas_detection/segmentation/yolo/runs/segment/train30\u001b[0m\n",
      "Starting training for 50 epochs...\n",
      "\n",
      "      Epoch    GPU_mem   box_loss   seg_loss   cls_loss   dfl_loss  Instances       Size\n"
     ]
    },
    {
     "name": "stderr",
     "output_type": "stream",
     "text": [
      "       1/50      2.42G      2.076      4.106      3.398      1.975         17        640: 100%|██████████| 44/44 [00:10<00:00,  4.36it/s]\n",
      "                 Class     Images  Instances      Box(P          R      mAP50  mAP50-95)     Mask(P          R      mAP50  mAP50-95): 100%|██████████| 7/7 [00:00<00:00,  7.57it/s]\n"
     ]
    },
    {
     "name": "stdout",
     "output_type": "stream",
     "text": [
      "                   all         25        190     0.0677      0.132     0.0311    0.00938     0.0202     0.0158    0.00162   0.000329\n",
      "\n",
      "      Epoch    GPU_mem   box_loss   seg_loss   cls_loss   dfl_loss  Instances       Size\n"
     ]
    },
    {
     "name": "stderr",
     "output_type": "stream",
     "text": [
      "       2/50      2.17G       2.41      4.415      4.418      2.219         16        640: 100%|██████████| 44/44 [00:09<00:00,  4.76it/s]\n",
      "                 Class     Images  Instances      Box(P          R      mAP50  mAP50-95)     Mask(P          R      mAP50  mAP50-95): 100%|██████████| 7/7 [00:00<00:00, 10.09it/s]"
     ]
    },
    {
     "name": "stdout",
     "output_type": "stream",
     "text": [
      "                   all         25        190     0.0102      0.253    0.00797    0.00253          0          0          0          0\n"
     ]
    },
    {
     "name": "stderr",
     "output_type": "stream",
     "text": [
      "\n"
     ]
    },
    {
     "name": "stdout",
     "output_type": "stream",
     "text": [
      "\n",
      "      Epoch    GPU_mem   box_loss   seg_loss   cls_loss   dfl_loss  Instances       Size\n"
     ]
    },
    {
     "name": "stderr",
     "output_type": "stream",
     "text": [
      "       3/50      2.09G      2.659      4.521      3.261      2.503         11        640: 100%|██████████| 44/44 [00:09<00:00,  4.81it/s]\n",
      "                 Class     Images  Instances      Box(P          R      mAP50  mAP50-95)     Mask(P          R      mAP50  mAP50-95): 100%|██████████| 7/7 [00:00<00:00,  8.63it/s]"
     ]
    },
    {
     "name": "stdout",
     "output_type": "stream",
     "text": [
      "                   all         25        190     0.0263     0.0789    0.00993    0.00284   0.000267     0.0105   0.000135    2.7e-05\n"
     ]
    },
    {
     "name": "stderr",
     "output_type": "stream",
     "text": [
      "\n"
     ]
    },
    {
     "name": "stdout",
     "output_type": "stream",
     "text": [
      "\n",
      "      Epoch    GPU_mem   box_loss   seg_loss   cls_loss   dfl_loss  Instances       Size\n"
     ]
    },
    {
     "name": "stderr",
     "output_type": "stream",
     "text": [
      "       4/50      2.06G       2.91      5.153       4.22      2.856         17        640: 100%|██████████| 44/44 [00:09<00:00,  4.69it/s]\n",
      "                 Class     Images  Instances      Box(P          R      mAP50  mAP50-95)     Mask(P          R      mAP50  mAP50-95): 100%|██████████| 7/7 [00:00<00:00,  8.88it/s]"
     ]
    },
    {
     "name": "stdout",
     "output_type": "stream",
     "text": [
      "                   all         25        190     0.0383      0.153     0.0253    0.00705    0.00528     0.0211   0.000865   0.000197\n"
     ]
    },
    {
     "name": "stderr",
     "output_type": "stream",
     "text": [
      "\n"
     ]
    },
    {
     "name": "stdout",
     "output_type": "stream",
     "text": [
      "\n",
      "      Epoch    GPU_mem   box_loss   seg_loss   cls_loss   dfl_loss  Instances       Size\n"
     ]
    },
    {
     "name": "stderr",
     "output_type": "stream",
     "text": [
      "       5/50      2.08G      3.059      4.438      3.193      2.974          9        640: 100%|██████████| 44/44 [00:09<00:00,  4.78it/s]\n",
      "                 Class     Images  Instances      Box(P          R      mAP50  mAP50-95)     Mask(P          R      mAP50  mAP50-95): 100%|██████████| 7/7 [00:00<00:00,  8.27it/s]"
     ]
    },
    {
     "name": "stdout",
     "output_type": "stream",
     "text": [
      "                   all         25        190     0.0898     0.0579      0.029    0.00705    0.00227    0.00526   0.000217   2.84e-05\n"
     ]
    },
    {
     "name": "stderr",
     "output_type": "stream",
     "text": [
      "\n"
     ]
    },
    {
     "name": "stdout",
     "output_type": "stream",
     "text": [
      "\n",
      "      Epoch    GPU_mem   box_loss   seg_loss   cls_loss   dfl_loss  Instances       Size\n"
     ]
    },
    {
     "name": "stderr",
     "output_type": "stream",
     "text": [
      "       6/50      2.13G      2.825      4.152      3.105      2.802          7        640: 100%|██████████| 44/44 [00:09<00:00,  4.53it/s]\n",
      "                 Class     Images  Instances      Box(P          R      mAP50  mAP50-95)     Mask(P          R      mAP50  mAP50-95): 100%|██████████| 7/7 [00:00<00:00,  9.80it/s]"
     ]
    },
    {
     "name": "stdout",
     "output_type": "stream",
     "text": [
      "                   all         25        190      0.122     0.0263      0.014    0.00475    0.00139     0.0158   0.000754   0.000171\n"
     ]
    },
    {
     "name": "stderr",
     "output_type": "stream",
     "text": [
      "\n"
     ]
    },
    {
     "name": "stdout",
     "output_type": "stream",
     "text": [
      "\n",
      "      Epoch    GPU_mem   box_loss   seg_loss   cls_loss   dfl_loss  Instances       Size\n"
     ]
    },
    {
     "name": "stderr",
     "output_type": "stream",
     "text": [
      "       7/50       2.1G      2.808      4.224      2.945      2.759         16        640: 100%|██████████| 44/44 [00:09<00:00,  4.63it/s]\n",
      "                 Class     Images  Instances      Box(P          R      mAP50  mAP50-95)     Mask(P          R      mAP50  mAP50-95): 100%|██████████| 7/7 [00:00<00:00,  8.13it/s]"
     ]
    },
    {
     "name": "stdout",
     "output_type": "stream",
     "text": [
      "                   all         25        190    0.00493      0.195    0.00295    0.00103    0.00227     0.0895    0.00124   0.000341\n"
     ]
    },
    {
     "name": "stderr",
     "output_type": "stream",
     "text": [
      "\n"
     ]
    },
    {
     "name": "stdout",
     "output_type": "stream",
     "text": [
      "\n",
      "      Epoch    GPU_mem   box_loss   seg_loss   cls_loss   dfl_loss  Instances       Size\n"
     ]
    },
    {
     "name": "stderr",
     "output_type": "stream",
     "text": [
      "       8/50       2.1G      2.787       4.06      2.909      2.748          4        640: 100%|██████████| 44/44 [00:09<00:00,  4.59it/s]\n",
      "                 Class     Images  Instances      Box(P          R      mAP50  mAP50-95)     Mask(P          R      mAP50  mAP50-95): 100%|██████████| 7/7 [00:00<00:00,  7.72it/s]"
     ]
    },
    {
     "name": "stdout",
     "output_type": "stream",
     "text": [
      "                   all         25        190     0.0068      0.268    0.00435    0.00143     0.0032      0.126    0.00181   0.000459\n"
     ]
    },
    {
     "name": "stderr",
     "output_type": "stream",
     "text": [
      "\n"
     ]
    },
    {
     "name": "stdout",
     "output_type": "stream",
     "text": [
      "\n",
      "      Epoch    GPU_mem   box_loss   seg_loss   cls_loss   dfl_loss  Instances       Size\n"
     ]
    },
    {
     "name": "stderr",
     "output_type": "stream",
     "text": [
      "       9/50      2.12G      2.613      4.028      2.657      2.589         14        640: 100%|██████████| 44/44 [00:09<00:00,  4.64it/s]\n",
      "                 Class     Images  Instances      Box(P          R      mAP50  mAP50-95)     Mask(P          R      mAP50  mAP50-95): 100%|██████████| 7/7 [00:00<00:00,  8.41it/s]\n"
     ]
    },
    {
     "name": "stdout",
     "output_type": "stream",
     "text": [
      "                   all         25        190    0.00507        0.2    0.00308    0.00124     0.0016     0.0632   0.000862   0.000274\n",
      "\n",
      "      Epoch    GPU_mem   box_loss   seg_loss   cls_loss   dfl_loss  Instances       Size\n"
     ]
    },
    {
     "name": "stderr",
     "output_type": "stream",
     "text": [
      "      10/50      2.09G      2.553      3.902      2.566      2.529          5        640: 100%|██████████| 44/44 [00:09<00:00,  4.73it/s]\n",
      "                 Class     Images  Instances      Box(P          R      mAP50  mAP50-95)     Mask(P          R      mAP50  mAP50-95): 100%|██████████| 7/7 [00:00<00:00,  8.10it/s]\n"
     ]
    },
    {
     "name": "stdout",
     "output_type": "stream",
     "text": [
      "                   all         25        190    0.00728      0.274    0.00464    0.00199     0.0024     0.0947    0.00133   0.000332\n",
      "\n",
      "      Epoch    GPU_mem   box_loss   seg_loss   cls_loss   dfl_loss  Instances       Size\n"
     ]
    },
    {
     "name": "stderr",
     "output_type": "stream",
     "text": [
      "      11/50      2.18G      2.405      3.751      2.474      2.478          6        640: 100%|██████████| 44/44 [00:09<00:00,  4.67it/s]\n",
      "                 Class     Images  Instances      Box(P          R      mAP50  mAP50-95)     Mask(P          R      mAP50  mAP50-95): 100%|██████████| 7/7 [00:00<00:00,  8.54it/s]\n"
     ]
    },
    {
     "name": "stdout",
     "output_type": "stream",
     "text": [
      "                   all         25        190    0.00696      0.274    0.00457    0.00212    0.00251     0.0895    0.00134   0.000337\n",
      "\n",
      "      Epoch    GPU_mem   box_loss   seg_loss   cls_loss   dfl_loss  Instances       Size\n"
     ]
    },
    {
     "name": "stderr",
     "output_type": "stream",
     "text": [
      "      12/50      2.08G       2.43      3.882      2.551      2.466         25        640: 100%|██████████| 44/44 [00:09<00:00,  4.62it/s]\n",
      "                 Class     Images  Instances      Box(P          R      mAP50  mAP50-95)     Mask(P          R      mAP50  mAP50-95): 100%|██████████| 7/7 [00:00<00:00,  8.32it/s]"
     ]
    },
    {
     "name": "stdout",
     "output_type": "stream",
     "text": [
      "                   all         25        190     0.0164      0.647     0.0151    0.00643    0.00707      0.279     0.0049    0.00127\n"
     ]
    },
    {
     "name": "stderr",
     "output_type": "stream",
     "text": [
      "\n"
     ]
    },
    {
     "name": "stdout",
     "output_type": "stream",
     "text": [
      "\n",
      "      Epoch    GPU_mem   box_loss   seg_loss   cls_loss   dfl_loss  Instances       Size\n"
     ]
    },
    {
     "name": "stderr",
     "output_type": "stream",
     "text": [
      "      13/50      2.12G      2.355      3.767      2.453      2.428          5        640: 100%|██████████| 44/44 [00:09<00:00,  4.64it/s]\n",
      "                 Class     Images  Instances      Box(P          R      mAP50  mAP50-95)     Mask(P          R      mAP50  mAP50-95): 100%|██████████| 7/7 [00:00<00:00,  8.46it/s]"
     ]
    },
    {
     "name": "stdout",
     "output_type": "stream",
     "text": [
      "                   all         25        190     0.0581      0.516     0.0486     0.0176     0.0249      0.221     0.0119    0.00254\n"
     ]
    },
    {
     "name": "stderr",
     "output_type": "stream",
     "text": [
      "\n"
     ]
    },
    {
     "name": "stdout",
     "output_type": "stream",
     "text": [
      "\n",
      "      Epoch    GPU_mem   box_loss   seg_loss   cls_loss   dfl_loss  Instances       Size\n"
     ]
    },
    {
     "name": "stderr",
     "output_type": "stream",
     "text": [
      "      14/50      2.15G      2.296      3.662      2.388      2.433         15        640: 100%|██████████| 44/44 [00:09<00:00,  4.53it/s]\n",
      "                 Class     Images  Instances      Box(P          R      mAP50  mAP50-95)     Mask(P          R      mAP50  mAP50-95): 100%|██████████| 7/7 [00:00<00:00,  8.41it/s]\n"
     ]
    },
    {
     "name": "stdout",
     "output_type": "stream",
     "text": [
      "                   all         25        190     0.0804      0.195     0.0596     0.0181     0.0345      0.111     0.0255    0.00537\n",
      "\n",
      "      Epoch    GPU_mem   box_loss   seg_loss   cls_loss   dfl_loss  Instances       Size\n"
     ]
    },
    {
     "name": "stderr",
     "output_type": "stream",
     "text": [
      "      15/50       2.2G      2.255      3.608       2.38        2.4         10        640: 100%|██████████| 44/44 [00:09<00:00,  4.56it/s]\n",
      "                 Class     Images  Instances      Box(P          R      mAP50  mAP50-95)     Mask(P          R      mAP50  mAP50-95): 100%|██████████| 7/7 [00:00<00:00,  7.97it/s]\n"
     ]
    },
    {
     "name": "stdout",
     "output_type": "stream",
     "text": [
      "                   all         25        190      0.176      0.179      0.127      0.037     0.0679     0.0947     0.0431    0.00727\n",
      "\n",
      "      Epoch    GPU_mem   box_loss   seg_loss   cls_loss   dfl_loss  Instances       Size\n"
     ]
    },
    {
     "name": "stderr",
     "output_type": "stream",
     "text": [
      "      16/50      2.14G      2.253      3.661      2.288       2.39         30        640: 100%|██████████| 44/44 [00:09<00:00,  4.64it/s]\n",
      "                 Class     Images  Instances      Box(P          R      mAP50  mAP50-95)     Mask(P          R      mAP50  mAP50-95): 100%|██████████| 7/7 [00:00<00:00,  8.31it/s]"
     ]
    },
    {
     "name": "stdout",
     "output_type": "stream",
     "text": [
      "                   all         25        190      0.111      0.179     0.0726     0.0226     0.0736      0.121      0.023    0.00477\n"
     ]
    },
    {
     "name": "stderr",
     "output_type": "stream",
     "text": [
      "\n"
     ]
    },
    {
     "name": "stdout",
     "output_type": "stream",
     "text": [
      "\n",
      "      Epoch    GPU_mem   box_loss   seg_loss   cls_loss   dfl_loss  Instances       Size\n"
     ]
    },
    {
     "name": "stderr",
     "output_type": "stream",
     "text": [
      "      17/50       2.2G      2.171      3.534      2.203      2.346         35        640: 100%|██████████| 44/44 [00:09<00:00,  4.72it/s]\n",
      "                 Class     Images  Instances      Box(P          R      mAP50  mAP50-95)     Mask(P          R      mAP50  mAP50-95): 100%|██████████| 7/7 [00:00<00:00,  8.35it/s]\n"
     ]
    },
    {
     "name": "stdout",
     "output_type": "stream",
     "text": [
      "                   all         25        190      0.164      0.368      0.126     0.0413     0.0814      0.174     0.0393    0.00801\n",
      "\n",
      "      Epoch    GPU_mem   box_loss   seg_loss   cls_loss   dfl_loss  Instances       Size\n"
     ]
    },
    {
     "name": "stderr",
     "output_type": "stream",
     "text": [
      "      18/50      2.07G      2.154      3.504       2.28      2.311          9        640: 100%|██████████| 44/44 [00:09<00:00,  4.66it/s]\n",
      "                 Class     Images  Instances      Box(P          R      mAP50  mAP50-95)     Mask(P          R      mAP50  mAP50-95): 100%|██████████| 7/7 [00:00<00:00,  8.42it/s]\n"
     ]
    },
    {
     "name": "stdout",
     "output_type": "stream",
     "text": [
      "                   all         25        190      0.191      0.321      0.151     0.0486     0.0803      0.163     0.0392     0.0072\n",
      "\n",
      "      Epoch    GPU_mem   box_loss   seg_loss   cls_loss   dfl_loss  Instances       Size\n"
     ]
    },
    {
     "name": "stderr",
     "output_type": "stream",
     "text": [
      "      19/50      2.11G      2.047      3.474      2.197      2.236          6        640: 100%|██████████| 44/44 [00:09<00:00,  4.59it/s]\n",
      "                 Class     Images  Instances      Box(P          R      mAP50  mAP50-95)     Mask(P          R      mAP50  mAP50-95): 100%|██████████| 7/7 [00:00<00:00,  8.81it/s]\n"
     ]
    },
    {
     "name": "stdout",
     "output_type": "stream",
     "text": [
      "                   all         25        190      0.209      0.327      0.173     0.0543     0.0664      0.132      0.029    0.00606\n",
      "\n",
      "      Epoch    GPU_mem   box_loss   seg_loss   cls_loss   dfl_loss  Instances       Size\n"
     ]
    },
    {
     "name": "stderr",
     "output_type": "stream",
     "text": [
      "      20/50      2.22G      2.054      3.471      2.124      2.245         23        640: 100%|██████████| 44/44 [00:09<00:00,  4.59it/s]\n",
      "                 Class     Images  Instances      Box(P          R      mAP50  mAP50-95)     Mask(P          R      mAP50  mAP50-95): 100%|██████████| 7/7 [00:00<00:00,  8.32it/s]\n"
     ]
    },
    {
     "name": "stdout",
     "output_type": "stream",
     "text": [
      "                   all         25        190      0.249      0.342      0.212     0.0733      0.127      0.184     0.0594      0.013\n",
      "\n",
      "      Epoch    GPU_mem   box_loss   seg_loss   cls_loss   dfl_loss  Instances       Size\n"
     ]
    },
    {
     "name": "stderr",
     "output_type": "stream",
     "text": [
      "      21/50      2.22G      2.014      3.426      2.149       2.26          7        640: 100%|██████████| 44/44 [00:09<00:00,  4.59it/s]\n",
      "                 Class     Images  Instances      Box(P          R      mAP50  mAP50-95)     Mask(P          R      mAP50  mAP50-95): 100%|██████████| 7/7 [00:00<00:00,  7.60it/s]\n"
     ]
    },
    {
     "name": "stdout",
     "output_type": "stream",
     "text": [
      "                   all         25        190      0.222        0.3      0.184     0.0612      0.119      0.153     0.0596     0.0117\n",
      "\n",
      "      Epoch    GPU_mem   box_loss   seg_loss   cls_loss   dfl_loss  Instances       Size\n"
     ]
    },
    {
     "name": "stderr",
     "output_type": "stream",
     "text": [
      "      22/50      2.23G       2.06      3.483      2.119      2.242         13        640: 100%|██████████| 44/44 [00:09<00:00,  4.57it/s]\n",
      "                 Class     Images  Instances      Box(P          R      mAP50  mAP50-95)     Mask(P          R      mAP50  mAP50-95): 100%|██████████| 7/7 [00:00<00:00,  8.82it/s]\n"
     ]
    },
    {
     "name": "stdout",
     "output_type": "stream",
     "text": [
      "                   all         25        190      0.189      0.379      0.147     0.0499     0.0998      0.216     0.0492    0.00996\n",
      "\n",
      "      Epoch    GPU_mem   box_loss   seg_loss   cls_loss   dfl_loss  Instances       Size\n"
     ]
    },
    {
     "name": "stderr",
     "output_type": "stream",
     "text": [
      "      23/50      2.06G      1.994      3.328      2.041      2.223         10        640: 100%|██████████| 44/44 [00:09<00:00,  4.61it/s]\n",
      "                 Class     Images  Instances      Box(P          R      mAP50  mAP50-95)     Mask(P          R      mAP50  mAP50-95): 100%|██████████| 7/7 [00:00<00:00,  8.42it/s]\n"
     ]
    },
    {
     "name": "stdout",
     "output_type": "stream",
     "text": [
      "                   all         25        190      0.205      0.342      0.156     0.0541      0.117      0.195     0.0498       0.01\n",
      "\n",
      "      Epoch    GPU_mem   box_loss   seg_loss   cls_loss   dfl_loss  Instances       Size\n"
     ]
    },
    {
     "name": "stderr",
     "output_type": "stream",
     "text": [
      "      24/50      2.06G      1.999      3.372      2.064      2.198          4        640: 100%|██████████| 44/44 [00:09<00:00,  4.59it/s]\n",
      "                 Class     Images  Instances      Box(P          R      mAP50  mAP50-95)     Mask(P          R      mAP50  mAP50-95): 100%|██████████| 7/7 [00:00<00:00,  8.19it/s]"
     ]
    },
    {
     "name": "stdout",
     "output_type": "stream",
     "text": [
      "                   all         25        190      0.274      0.374      0.217     0.0773      0.129      0.168      0.055     0.0122\n"
     ]
    },
    {
     "name": "stderr",
     "output_type": "stream",
     "text": [
      "\n"
     ]
    },
    {
     "name": "stdout",
     "output_type": "stream",
     "text": [
      "\n",
      "      Epoch    GPU_mem   box_loss   seg_loss   cls_loss   dfl_loss  Instances       Size\n"
     ]
    },
    {
     "name": "stderr",
     "output_type": "stream",
     "text": [
      "      25/50      2.11G      1.948      3.341      2.036      2.179          6        640: 100%|██████████| 44/44 [00:09<00:00,  4.62it/s]\n",
      "                 Class     Images  Instances      Box(P          R      mAP50  mAP50-95)     Mask(P          R      mAP50  mAP50-95): 100%|██████████| 7/7 [00:00<00:00,  8.81it/s]"
     ]
    },
    {
     "name": "stdout",
     "output_type": "stream",
     "text": [
      "                   all         25        190      0.267      0.389      0.226      0.078      0.103      0.179     0.0413    0.00937\n"
     ]
    },
    {
     "name": "stderr",
     "output_type": "stream",
     "text": [
      "\n"
     ]
    },
    {
     "name": "stdout",
     "output_type": "stream",
     "text": [
      "\n",
      "      Epoch    GPU_mem   box_loss   seg_loss   cls_loss   dfl_loss  Instances       Size\n"
     ]
    },
    {
     "name": "stderr",
     "output_type": "stream",
     "text": [
      "      26/50      2.07G      1.949      3.266      1.986      2.195         14        640: 100%|██████████| 44/44 [00:09<00:00,  4.74it/s]\n",
      "                 Class     Images  Instances      Box(P          R      mAP50  mAP50-95)     Mask(P          R      mAP50  mAP50-95): 100%|██████████| 7/7 [00:00<00:00,  8.55it/s]"
     ]
    },
    {
     "name": "stdout",
     "output_type": "stream",
     "text": [
      "                   all         25        190      0.249      0.437      0.229     0.0808      0.105        0.2      0.051     0.0112\n"
     ]
    },
    {
     "name": "stderr",
     "output_type": "stream",
     "text": [
      "\n"
     ]
    },
    {
     "name": "stdout",
     "output_type": "stream",
     "text": [
      "\n",
      "      Epoch    GPU_mem   box_loss   seg_loss   cls_loss   dfl_loss  Instances       Size\n"
     ]
    },
    {
     "name": "stderr",
     "output_type": "stream",
     "text": [
      "      27/50      2.24G      1.996       3.37      2.055      2.236          7        640: 100%|██████████| 44/44 [00:09<00:00,  4.71it/s]\n",
      "                 Class     Images  Instances      Box(P          R      mAP50  mAP50-95)     Mask(P          R      mAP50  mAP50-95): 100%|██████████| 7/7 [00:00<00:00,  8.16it/s]"
     ]
    },
    {
     "name": "stdout",
     "output_type": "stream",
     "text": [
      "                   all         25        190       0.26      0.447      0.216     0.0806      0.103      0.221     0.0541      0.011\n"
     ]
    },
    {
     "name": "stderr",
     "output_type": "stream",
     "text": [
      "\n"
     ]
    },
    {
     "name": "stdout",
     "output_type": "stream",
     "text": [
      "\n",
      "      Epoch    GPU_mem   box_loss   seg_loss   cls_loss   dfl_loss  Instances       Size\n"
     ]
    },
    {
     "name": "stderr",
     "output_type": "stream",
     "text": [
      "      28/50      2.21G      2.019       3.26      2.009      2.201          6        640: 100%|██████████| 44/44 [00:09<00:00,  4.55it/s]\n",
      "                 Class     Images  Instances      Box(P          R      mAP50  mAP50-95)     Mask(P          R      mAP50  mAP50-95): 100%|██████████| 7/7 [00:00<00:00,  8.52it/s]\n"
     ]
    },
    {
     "name": "stdout",
     "output_type": "stream",
     "text": [
      "                   all         25        190      0.224      0.388      0.199     0.0738      0.125      0.216     0.0729     0.0161\n",
      "\n",
      "      Epoch    GPU_mem   box_loss   seg_loss   cls_loss   dfl_loss  Instances       Size\n"
     ]
    },
    {
     "name": "stderr",
     "output_type": "stream",
     "text": [
      "      29/50      2.08G      1.918      3.246      2.032      2.178          8        640: 100%|██████████| 44/44 [00:09<00:00,  4.70it/s]\n",
      "                 Class     Images  Instances      Box(P          R      mAP50  mAP50-95)     Mask(P          R      mAP50  mAP50-95): 100%|██████████| 7/7 [00:00<00:00,  8.28it/s]"
     ]
    },
    {
     "name": "stdout",
     "output_type": "stream",
     "text": [
      "                   all         25        190      0.266      0.395      0.231     0.0892      0.151      0.221      0.082     0.0201\n"
     ]
    },
    {
     "name": "stderr",
     "output_type": "stream",
     "text": [
      "\n"
     ]
    },
    {
     "name": "stdout",
     "output_type": "stream",
     "text": [
      "\n",
      "      Epoch    GPU_mem   box_loss   seg_loss   cls_loss   dfl_loss  Instances       Size\n"
     ]
    },
    {
     "name": "stderr",
     "output_type": "stream",
     "text": [
      "      30/50      2.12G      1.903      3.221      1.975      2.127         20        640: 100%|██████████| 44/44 [00:09<00:00,  4.51it/s]\n",
      "                 Class     Images  Instances      Box(P          R      mAP50  mAP50-95)     Mask(P          R      mAP50  mAP50-95): 100%|██████████| 7/7 [00:00<00:00,  8.56it/s]\n"
     ]
    },
    {
     "name": "stdout",
     "output_type": "stream",
     "text": [
      "                   all         25        190      0.299      0.468      0.277      0.105      0.151      0.253       0.09     0.0215\n",
      "\n",
      "      Epoch    GPU_mem   box_loss   seg_loss   cls_loss   dfl_loss  Instances       Size\n"
     ]
    },
    {
     "name": "stderr",
     "output_type": "stream",
     "text": [
      "      31/50      2.08G       1.85      3.178      1.936       2.08          5        640: 100%|██████████| 44/44 [00:09<00:00,  4.66it/s]\n",
      "                 Class     Images  Instances      Box(P          R      mAP50  mAP50-95)     Mask(P          R      mAP50  mAP50-95): 100%|██████████| 7/7 [00:00<00:00,  8.67it/s]"
     ]
    },
    {
     "name": "stdout",
     "output_type": "stream",
     "text": [
      "                   all         25        190      0.291      0.384      0.263     0.0979      0.142        0.2     0.0658     0.0153\n"
     ]
    },
    {
     "name": "stderr",
     "output_type": "stream",
     "text": [
      "\n"
     ]
    },
    {
     "name": "stdout",
     "output_type": "stream",
     "text": [
      "\n",
      "      Epoch    GPU_mem   box_loss   seg_loss   cls_loss   dfl_loss  Instances       Size\n"
     ]
    },
    {
     "name": "stderr",
     "output_type": "stream",
     "text": [
      "      32/50      2.17G      1.949      3.235      2.029      2.163         30        640: 100%|██████████| 44/44 [00:09<00:00,  4.78it/s]\n",
      "                 Class     Images  Instances      Box(P          R      mAP50  mAP50-95)     Mask(P          R      mAP50  mAP50-95): 100%|██████████| 7/7 [00:00<00:00,  8.45it/s]\n"
     ]
    },
    {
     "name": "stdout",
     "output_type": "stream",
     "text": [
      "                   all         25        190      0.344      0.405      0.277      0.103      0.142      0.211     0.0648     0.0158\n",
      "\n",
      "      Epoch    GPU_mem   box_loss   seg_loss   cls_loss   dfl_loss  Instances       Size\n"
     ]
    },
    {
     "name": "stderr",
     "output_type": "stream",
     "text": [
      "      33/50       2.1G      1.853      3.239      1.989      2.134         26        640: 100%|██████████| 44/44 [00:09<00:00,  4.68it/s]\n",
      "                 Class     Images  Instances      Box(P          R      mAP50  mAP50-95)     Mask(P          R      mAP50  mAP50-95): 100%|██████████| 7/7 [00:00<00:00,  8.67it/s]\n"
     ]
    },
    {
     "name": "stdout",
     "output_type": "stream",
     "text": [
      "                   all         25        190      0.316      0.311      0.314      0.124      0.162      0.232      0.104     0.0224\n",
      "\n",
      "      Epoch    GPU_mem   box_loss   seg_loss   cls_loss   dfl_loss  Instances       Size\n"
     ]
    },
    {
     "name": "stderr",
     "output_type": "stream",
     "text": [
      "      34/50      2.09G      1.892      3.241      1.999      2.124          6        640: 100%|██████████| 44/44 [00:09<00:00,  4.65it/s]\n",
      "                 Class     Images  Instances      Box(P          R      mAP50  mAP50-95)     Mask(P          R      mAP50  mAP50-95): 100%|██████████| 7/7 [00:00<00:00,  8.62it/s]\n"
     ]
    },
    {
     "name": "stdout",
     "output_type": "stream",
     "text": [
      "                   all         25        190      0.254      0.411      0.268      0.115      0.197      0.211      0.107     0.0235\n",
      "\n",
      "      Epoch    GPU_mem   box_loss   seg_loss   cls_loss   dfl_loss  Instances       Size\n"
     ]
    },
    {
     "name": "stderr",
     "output_type": "stream",
     "text": [
      "      35/50      2.15G      1.842      3.201      1.914      2.045          5        640: 100%|██████████| 44/44 [00:09<00:00,  4.65it/s]\n",
      "                 Class     Images  Instances      Box(P          R      mAP50  mAP50-95)     Mask(P          R      mAP50  mAP50-95): 100%|██████████| 7/7 [00:00<00:00,  8.46it/s]\n"
     ]
    },
    {
     "name": "stdout",
     "output_type": "stream",
     "text": [
      "                   all         25        190      0.271      0.453      0.268      0.109      0.202      0.209      0.113     0.0252\n",
      "\n",
      "      Epoch    GPU_mem   box_loss   seg_loss   cls_loss   dfl_loss  Instances       Size\n"
     ]
    },
    {
     "name": "stderr",
     "output_type": "stream",
     "text": [
      "      36/50      2.11G      1.834      3.174      1.929      2.085         11        640: 100%|██████████| 44/44 [00:09<00:00,  4.48it/s]\n",
      "                 Class     Images  Instances      Box(P          R      mAP50  mAP50-95)     Mask(P          R      mAP50  mAP50-95): 100%|██████████| 7/7 [00:00<00:00,  8.32it/s]\n"
     ]
    },
    {
     "name": "stdout",
     "output_type": "stream",
     "text": [
      "                   all         25        190      0.292        0.4      0.276      0.115      0.187      0.279     0.0904      0.021\n",
      "\n",
      "      Epoch    GPU_mem   box_loss   seg_loss   cls_loss   dfl_loss  Instances       Size\n"
     ]
    },
    {
     "name": "stderr",
     "output_type": "stream",
     "text": [
      "      37/50      2.24G      1.894      3.227      1.917      2.087         17        640: 100%|██████████| 44/44 [00:09<00:00,  4.68it/s]\n",
      "                 Class     Images  Instances      Box(P          R      mAP50  mAP50-95)     Mask(P          R      mAP50  mAP50-95): 100%|██████████| 7/7 [00:00<00:00,  8.34it/s]\n"
     ]
    },
    {
     "name": "stdout",
     "output_type": "stream",
     "text": [
      "                   all         25        190       0.28      0.418      0.272      0.118      0.154      0.289     0.0805     0.0186\n",
      "\n",
      "      Epoch    GPU_mem   box_loss   seg_loss   cls_loss   dfl_loss  Instances       Size\n"
     ]
    },
    {
     "name": "stderr",
     "output_type": "stream",
     "text": [
      "      38/50      2.16G      1.862      3.178       1.87      2.088         17        640: 100%|██████████| 44/44 [00:09<00:00,  4.58it/s]\n",
      "                 Class     Images  Instances      Box(P          R      mAP50  mAP50-95)     Mask(P          R      mAP50  mAP50-95): 100%|██████████| 7/7 [00:00<00:00,  8.67it/s]"
     ]
    },
    {
     "name": "stdout",
     "output_type": "stream",
     "text": [
      "                   all         25        190      0.277      0.442      0.261      0.117      0.142      0.274     0.0787     0.0193\n"
     ]
    },
    {
     "name": "stderr",
     "output_type": "stream",
     "text": [
      "\n"
     ]
    },
    {
     "name": "stdout",
     "output_type": "stream",
     "text": [
      "\n",
      "      Epoch    GPU_mem   box_loss   seg_loss   cls_loss   dfl_loss  Instances       Size\n"
     ]
    },
    {
     "name": "stderr",
     "output_type": "stream",
     "text": [
      "      39/50      2.13G      1.819      3.222      1.817      2.031         14        640: 100%|██████████| 44/44 [00:09<00:00,  4.58it/s]\n",
      "                 Class     Images  Instances      Box(P          R      mAP50  mAP50-95)     Mask(P          R      mAP50  mAP50-95): 100%|██████████| 7/7 [00:00<00:00,  8.65it/s]\n"
     ]
    },
    {
     "name": "stdout",
     "output_type": "stream",
     "text": [
      "                   all         25        190      0.274      0.442      0.286      0.131       0.18      0.269      0.107     0.0231\n",
      "\n",
      "      Epoch    GPU_mem   box_loss   seg_loss   cls_loss   dfl_loss  Instances       Size\n"
     ]
    },
    {
     "name": "stderr",
     "output_type": "stream",
     "text": [
      "      40/50      2.18G       1.79      3.121      1.814      2.048         25        640: 100%|██████████| 44/44 [00:09<00:00,  4.69it/s]\n",
      "                 Class     Images  Instances      Box(P          R      mAP50  mAP50-95)     Mask(P          R      mAP50  mAP50-95): 100%|██████████| 7/7 [00:00<00:00,  8.27it/s]\n"
     ]
    },
    {
     "name": "stdout",
     "output_type": "stream",
     "text": [
      "                   all         25        190      0.301      0.453      0.281      0.124      0.167      0.321      0.105     0.0225\n",
      "Closing dataloader mosaic\n"
     ]
    },
    {
     "name": "stderr",
     "output_type": "stream",
     "text": [
      "/home/etaylor/.conda/envs/detectron_fastai/lib/python3.9/site-packages/torch/utils/data/dataloader.py:558: UserWarning: This DataLoader will create 8 worker processes in total. Our suggested max number of worker in current system is 6, which is smaller than what this DataLoader is going to create. Please be aware that excessive worker creation might get DataLoader running slow or even freeze, lower the worker number to avoid potential slowness/freeze if necessary.\n",
      "  warnings.warn(_create_warning_msg(\n"
     ]
    },
    {
     "name": "stdout",
     "output_type": "stream",
     "text": [
      "\n",
      "      Epoch    GPU_mem   box_loss   seg_loss   cls_loss   dfl_loss  Instances       Size\n"
     ]
    },
    {
     "name": "stderr",
     "output_type": "stream",
     "text": [
      "      41/50      2.12G      1.854      3.099      2.073      2.149          2        640: 100%|██████████| 44/44 [00:10<00:00,  4.37it/s]\n",
      "                 Class     Images  Instances      Box(P          R      mAP50  mAP50-95)     Mask(P          R      mAP50  mAP50-95): 100%|██████████| 7/7 [00:00<00:00,  8.26it/s]"
     ]
    },
    {
     "name": "stdout",
     "output_type": "stream",
     "text": [
      "                   all         25        190      0.302      0.468      0.269       0.11      0.148      0.284     0.0885     0.0188\n"
     ]
    },
    {
     "name": "stderr",
     "output_type": "stream",
     "text": [
      "\n"
     ]
    },
    {
     "name": "stdout",
     "output_type": "stream",
     "text": [
      "\n",
      "      Epoch    GPU_mem   box_loss   seg_loss   cls_loss   dfl_loss  Instances       Size\n"
     ]
    },
    {
     "name": "stderr",
     "output_type": "stream",
     "text": [
      "      42/50      2.03G      1.872      3.104       2.02      2.164         13        640: 100%|██████████| 44/44 [00:09<00:00,  4.86it/s]\n",
      "                 Class     Images  Instances      Box(P          R      mAP50  mAP50-95)     Mask(P          R      mAP50  mAP50-95): 100%|██████████| 7/7 [00:00<00:00,  8.56it/s]\n"
     ]
    },
    {
     "name": "stdout",
     "output_type": "stream",
     "text": [
      "                   all         25        190      0.308      0.484      0.264       0.11      0.169      0.289     0.0936     0.0183\n",
      "\n",
      "      Epoch    GPU_mem   box_loss   seg_loss   cls_loss   dfl_loss  Instances       Size\n"
     ]
    },
    {
     "name": "stderr",
     "output_type": "stream",
     "text": [
      "      43/50       2.1G       1.83      3.101      2.028      2.128          1        640: 100%|██████████| 44/44 [00:09<00:00,  4.82it/s]\n",
      "                 Class     Images  Instances      Box(P          R      mAP50  mAP50-95)     Mask(P          R      mAP50  mAP50-95): 100%|██████████| 7/7 [00:00<00:00,  8.89it/s]\n"
     ]
    },
    {
     "name": "stdout",
     "output_type": "stream",
     "text": [
      "                   all         25        190      0.289      0.437      0.254      0.109      0.174      0.289     0.0909     0.0187\n",
      "\n",
      "      Epoch    GPU_mem   box_loss   seg_loss   cls_loss   dfl_loss  Instances       Size\n"
     ]
    },
    {
     "name": "stderr",
     "output_type": "stream",
     "text": [
      "      44/50      2.04G      1.821      3.014      2.001      2.152          4        640: 100%|██████████| 44/44 [00:09<00:00,  4.84it/s]\n",
      "                 Class     Images  Instances      Box(P          R      mAP50  mAP50-95)     Mask(P          R      mAP50  mAP50-95): 100%|██████████| 7/7 [00:00<00:00,  8.79it/s]"
     ]
    },
    {
     "name": "stdout",
     "output_type": "stream",
     "text": [
      "                   all         25        190      0.342      0.468      0.305      0.134      0.179      0.263      0.114     0.0241\n"
     ]
    },
    {
     "name": "stderr",
     "output_type": "stream",
     "text": [
      "\n"
     ]
    },
    {
     "name": "stdout",
     "output_type": "stream",
     "text": [
      "\n",
      "      Epoch    GPU_mem   box_loss   seg_loss   cls_loss   dfl_loss  Instances       Size\n"
     ]
    },
    {
     "name": "stderr",
     "output_type": "stream",
     "text": [
      "      45/50      2.08G      1.786      3.011       1.95      2.083          9        640: 100%|██████████| 44/44 [00:09<00:00,  4.85it/s]\n",
      "                 Class     Images  Instances      Box(P          R      mAP50  mAP50-95)     Mask(P          R      mAP50  mAP50-95): 100%|██████████| 7/7 [00:00<00:00,  8.86it/s]"
     ]
    },
    {
     "name": "stdout",
     "output_type": "stream",
     "text": [
      "                   all         25        190      0.359      0.449      0.298      0.131      0.181      0.258      0.113     0.0239\n"
     ]
    },
    {
     "name": "stderr",
     "output_type": "stream",
     "text": [
      "\n"
     ]
    },
    {
     "name": "stdout",
     "output_type": "stream",
     "text": [
      "\n",
      "      Epoch    GPU_mem   box_loss   seg_loss   cls_loss   dfl_loss  Instances       Size\n"
     ]
    },
    {
     "name": "stderr",
     "output_type": "stream",
     "text": [
      "      46/50       2.1G      1.809      3.067      1.975      2.132          5        640: 100%|██████████| 44/44 [00:09<00:00,  4.83it/s]\n",
      "                 Class     Images  Instances      Box(P          R      mAP50  mAP50-95)     Mask(P          R      mAP50  mAP50-95): 100%|██████████| 7/7 [00:00<00:00,  8.77it/s]\n"
     ]
    },
    {
     "name": "stdout",
     "output_type": "stream",
     "text": [
      "                   all         25        190      0.327      0.426      0.295      0.131      0.192      0.266      0.119     0.0251\n",
      "\n",
      "      Epoch    GPU_mem   box_loss   seg_loss   cls_loss   dfl_loss  Instances       Size\n"
     ]
    },
    {
     "name": "stderr",
     "output_type": "stream",
     "text": [
      "      47/50      2.06G      1.746      2.986      1.887       2.06          9        640: 100%|██████████| 44/44 [00:09<00:00,  4.88it/s]\n",
      "                 Class     Images  Instances      Box(P          R      mAP50  mAP50-95)     Mask(P          R      mAP50  mAP50-95): 100%|██████████| 7/7 [00:00<00:00,  8.67it/s]\n"
     ]
    },
    {
     "name": "stdout",
     "output_type": "stream",
     "text": [
      "                   all         25        190      0.331      0.405      0.262      0.111      0.189      0.253      0.104     0.0211\n",
      "\n",
      "      Epoch    GPU_mem   box_loss   seg_loss   cls_loss   dfl_loss  Instances       Size\n"
     ]
    },
    {
     "name": "stderr",
     "output_type": "stream",
     "text": [
      "      48/50      2.15G      1.727      3.022      1.946      2.069          4        640: 100%|██████████| 44/44 [00:09<00:00,  4.76it/s]\n",
      "                 Class     Images  Instances      Box(P          R      mAP50  mAP50-95)     Mask(P          R      mAP50  mAP50-95): 100%|██████████| 7/7 [00:00<00:00,  8.67it/s]\n"
     ]
    },
    {
     "name": "stdout",
     "output_type": "stream",
     "text": [
      "                   all         25        190      0.341      0.421      0.316      0.143      0.244      0.247      0.134     0.0283\n",
      "\n",
      "      Epoch    GPU_mem   box_loss   seg_loss   cls_loss   dfl_loss  Instances       Size\n"
     ]
    },
    {
     "name": "stderr",
     "output_type": "stream",
     "text": [
      "      49/50      2.08G      1.746      2.951      1.901      2.074          6        640: 100%|██████████| 44/44 [00:09<00:00,  4.85it/s]\n",
      "                 Class     Images  Instances      Box(P          R      mAP50  mAP50-95)     Mask(P          R      mAP50  mAP50-95): 100%|██████████| 7/7 [00:00<00:00,  8.43it/s]\n"
     ]
    },
    {
     "name": "stdout",
     "output_type": "stream",
     "text": [
      "                   all         25        190      0.326      0.458      0.313       0.14      0.248      0.258      0.139     0.0288\n",
      "\n",
      "      Epoch    GPU_mem   box_loss   seg_loss   cls_loss   dfl_loss  Instances       Size\n"
     ]
    },
    {
     "name": "stderr",
     "output_type": "stream",
     "text": [
      "      50/50      2.01G      1.751      2.928      1.884      2.065         12        640: 100%|██████████| 44/44 [00:09<00:00,  4.87it/s]\n",
      "                 Class     Images  Instances      Box(P          R      mAP50  mAP50-95)     Mask(P          R      mAP50  mAP50-95): 100%|██████████| 7/7 [00:00<00:00,  8.58it/s]\n"
     ]
    },
    {
     "name": "stdout",
     "output_type": "stream",
     "text": [
      "                   all         25        190      0.311      0.436      0.306      0.137      0.262      0.256      0.138     0.0286\n",
      "\n",
      "50 epochs completed in 0.174 hours.\n",
      "Optimizer stripped from /home/etaylor/code_projects/thesis/src/stigmas_detection/segmentation/yolo/runs/segment/train30/weights/last.pt, 45.1MB\n",
      "Optimizer stripped from /home/etaylor/code_projects/thesis/src/stigmas_detection/segmentation/yolo/runs/segment/train30/weights/best.pt, 45.1MB\n",
      "\n",
      "Validating /home/etaylor/code_projects/thesis/src/stigmas_detection/segmentation/yolo/runs/segment/train30/weights/best.pt...\n",
      "Ultralytics 8.3.56 🚀 Python-3.9.19 torch-2.3.1+cu121 CUDA:0 (NVIDIA GeForce GTX 1080 Ti, 11165MiB)\n",
      "YOLO11m-seg summary (fused): 330 layers, 22,336,083 parameters, 0 gradients, 123.0 GFLOPs\n"
     ]
    },
    {
     "name": "stderr",
     "output_type": "stream",
     "text": [
      "                 Class     Images  Instances      Box(P          R      mAP50  mAP50-95)     Mask(P          R      mAP50  mAP50-95): 100%|██████████| 7/7 [00:01<00:00,  5.85it/s]\n"
     ]
    },
    {
     "name": "stdout",
     "output_type": "stream",
     "text": [
      "                   all         25        190      0.338      0.421      0.316      0.143      0.245      0.247      0.135     0.0286\n",
      "Speed: 0.2ms preprocess, 21.6ms inference, 0.1ms loss, 7.7ms postprocess per image\n",
      "Results saved to \u001b[1m/home/etaylor/code_projects/thesis/src/stigmas_detection/segmentation/yolo/runs/segment/train30\u001b[0m\n",
      "Ultralytics 8.3.56 🚀 Python-3.9.19 torch-2.3.1+cu121 CUDA:0 (NVIDIA GeForce GTX 1080 Ti, 11165MiB)\n",
      "YOLO11m-seg summary (fused): 330 layers, 22,336,083 parameters, 0 gradients, 123.0 GFLOPs\n"
     ]
    },
    {
     "name": "stderr",
     "output_type": "stream",
     "text": [
      "\u001b[34m\u001b[1mval: \u001b[0mScanning /sise/home/etaylor/code_projects/thesis/segments/etaylor_stigmas_dataset/yolo_formatted/labels/val.cache... 25 images, 0 backgrounds, 0 corrupt: 100%|██████████| 25/25 [00:00<?, ?it/s]\n",
      "/home/etaylor/.conda/envs/detectron_fastai/lib/python3.9/site-packages/torch/utils/data/dataloader.py:558: UserWarning: This DataLoader will create 8 worker processes in total. Our suggested max number of worker in current system is 6, which is smaller than what this DataLoader is going to create. Please be aware that excessive worker creation might get DataLoader running slow or even freeze, lower the worker number to avoid potential slowness/freeze if necessary.\n",
      "  warnings.warn(_create_warning_msg(\n",
      "                 Class     Images  Instances      Box(P          R      mAP50  mAP50-95)     Mask(P          R      mAP50  mAP50-95): 100%|██████████| 13/13 [00:03<00:00,  4.11it/s]\n"
     ]
    },
    {
     "name": "stdout",
     "output_type": "stream",
     "text": [
      "                   all         25        190      0.358      0.411      0.323      0.143      0.245      0.247      0.134     0.0281\n",
      "Speed: 1.1ms preprocess, 32.7ms inference, 0.0ms loss, 8.9ms postprocess per image\n",
      "Results saved to \u001b[1m/home/etaylor/code_projects/thesis/src/stigmas_detection/segmentation/yolo/runs/segment/train302\u001b[0m\n",
      "Validation results for yolov11m-seg: ultralytics.utils.metrics.SegmentMetrics object with attributes:\n",
      "\n",
      "ap_class_index: array([0])\n",
      "box: ultralytics.utils.metrics.Metric object\n",
      "confusion_matrix: <ultralytics.utils.metrics.ConfusionMatrix object at 0x7fc416499bb0>\n",
      "curves: ['Precision-Recall(B)', 'F1-Confidence(B)', 'Precision-Confidence(B)', 'Recall-Confidence(B)', 'Precision-Recall(M)', 'F1-Confidence(M)', 'Precision-Confidence(M)', 'Recall-Confidence(M)']\n",
      "curves_results: [[array([          0,    0.001001,    0.002002,    0.003003,    0.004004,    0.005005,    0.006006,    0.007007,    0.008008,    0.009009,     0.01001,    0.011011,    0.012012,    0.013013,    0.014014,    0.015015,    0.016016,    0.017017,    0.018018,    0.019019,     0.02002,    0.021021,    0.022022,    0.023023,\n",
      "          0.024024,    0.025025,    0.026026,    0.027027,    0.028028,    0.029029,     0.03003,    0.031031,    0.032032,    0.033033,    0.034034,    0.035035,    0.036036,    0.037037,    0.038038,    0.039039,     0.04004,    0.041041,    0.042042,    0.043043,    0.044044,    0.045045,    0.046046,    0.047047,\n",
      "          0.048048,    0.049049,     0.05005,    0.051051,    0.052052,    0.053053,    0.054054,    0.055055,    0.056056,    0.057057,    0.058058,    0.059059,     0.06006,    0.061061,    0.062062,    0.063063,    0.064064,    0.065065,    0.066066,    0.067067,    0.068068,    0.069069,     0.07007,    0.071071,\n",
      "          0.072072,    0.073073,    0.074074,    0.075075,    0.076076,    0.077077,    0.078078,    0.079079,     0.08008,    0.081081,    0.082082,    0.083083,    0.084084,    0.085085,    0.086086,    0.087087,    0.088088,    0.089089,     0.09009,    0.091091,    0.092092,    0.093093,    0.094094,    0.095095,\n",
      "          0.096096,    0.097097,    0.098098,    0.099099,      0.1001,      0.1011,      0.1021,      0.1031,      0.1041,     0.10511,     0.10611,     0.10711,     0.10811,     0.10911,     0.11011,     0.11111,     0.11211,     0.11311,     0.11411,     0.11512,     0.11612,     0.11712,     0.11812,     0.11912,\n",
      "           0.12012,     0.12112,     0.12212,     0.12312,     0.12412,     0.12513,     0.12613,     0.12713,     0.12813,     0.12913,     0.13013,     0.13113,     0.13213,     0.13313,     0.13413,     0.13514,     0.13614,     0.13714,     0.13814,     0.13914,     0.14014,     0.14114,     0.14214,     0.14314,\n",
      "           0.14414,     0.14515,     0.14615,     0.14715,     0.14815,     0.14915,     0.15015,     0.15115,     0.15215,     0.15315,     0.15415,     0.15516,     0.15616,     0.15716,     0.15816,     0.15916,     0.16016,     0.16116,     0.16216,     0.16316,     0.16416,     0.16517,     0.16617,     0.16717,\n",
      "           0.16817,     0.16917,     0.17017,     0.17117,     0.17217,     0.17317,     0.17417,     0.17518,     0.17618,     0.17718,     0.17818,     0.17918,     0.18018,     0.18118,     0.18218,     0.18318,     0.18418,     0.18519,     0.18619,     0.18719,     0.18819,     0.18919,     0.19019,     0.19119,\n",
      "           0.19219,     0.19319,     0.19419,      0.1952,      0.1962,      0.1972,      0.1982,      0.1992,      0.2002,      0.2012,      0.2022,      0.2032,      0.2042,     0.20521,     0.20621,     0.20721,     0.20821,     0.20921,     0.21021,     0.21121,     0.21221,     0.21321,     0.21421,     0.21522,\n",
      "           0.21622,     0.21722,     0.21822,     0.21922,     0.22022,     0.22122,     0.22222,     0.22322,     0.22422,     0.22523,     0.22623,     0.22723,     0.22823,     0.22923,     0.23023,     0.23123,     0.23223,     0.23323,     0.23423,     0.23524,     0.23624,     0.23724,     0.23824,     0.23924,\n",
      "           0.24024,     0.24124,     0.24224,     0.24324,     0.24424,     0.24525,     0.24625,     0.24725,     0.24825,     0.24925,     0.25025,     0.25125,     0.25225,     0.25325,     0.25425,     0.25526,     0.25626,     0.25726,     0.25826,     0.25926,     0.26026,     0.26126,     0.26226,     0.26326,\n",
      "           0.26426,     0.26527,     0.26627,     0.26727,     0.26827,     0.26927,     0.27027,     0.27127,     0.27227,     0.27327,     0.27427,     0.27528,     0.27628,     0.27728,     0.27828,     0.27928,     0.28028,     0.28128,     0.28228,     0.28328,     0.28428,     0.28529,     0.28629,     0.28729,\n",
      "           0.28829,     0.28929,     0.29029,     0.29129,     0.29229,     0.29329,     0.29429,      0.2953,      0.2963,      0.2973,      0.2983,      0.2993,      0.3003,      0.3013,      0.3023,      0.3033,      0.3043,     0.30531,     0.30631,     0.30731,     0.30831,     0.30931,     0.31031,     0.31131,\n",
      "           0.31231,     0.31331,     0.31431,     0.31532,     0.31632,     0.31732,     0.31832,     0.31932,     0.32032,     0.32132,     0.32232,     0.32332,     0.32432,     0.32533,     0.32633,     0.32733,     0.32833,     0.32933,     0.33033,     0.33133,     0.33233,     0.33333,     0.33433,     0.33534,\n",
      "           0.33634,     0.33734,     0.33834,     0.33934,     0.34034,     0.34134,     0.34234,     0.34334,     0.34434,     0.34535,     0.34635,     0.34735,     0.34835,     0.34935,     0.35035,     0.35135,     0.35235,     0.35335,     0.35435,     0.35536,     0.35636,     0.35736,     0.35836,     0.35936,\n",
      "           0.36036,     0.36136,     0.36236,     0.36336,     0.36436,     0.36537,     0.36637,     0.36737,     0.36837,     0.36937,     0.37037,     0.37137,     0.37237,     0.37337,     0.37437,     0.37538,     0.37638,     0.37738,     0.37838,     0.37938,     0.38038,     0.38138,     0.38238,     0.38338,\n",
      "           0.38438,     0.38539,     0.38639,     0.38739,     0.38839,     0.38939,     0.39039,     0.39139,     0.39239,     0.39339,     0.39439,      0.3954,      0.3964,      0.3974,      0.3984,      0.3994,      0.4004,      0.4014,      0.4024,      0.4034,      0.4044,     0.40541,     0.40641,     0.40741,\n",
      "           0.40841,     0.40941,     0.41041,     0.41141,     0.41241,     0.41341,     0.41441,     0.41542,     0.41642,     0.41742,     0.41842,     0.41942,     0.42042,     0.42142,     0.42242,     0.42342,     0.42442,     0.42543,     0.42643,     0.42743,     0.42843,     0.42943,     0.43043,     0.43143,\n",
      "           0.43243,     0.43343,     0.43443,     0.43544,     0.43644,     0.43744,     0.43844,     0.43944,     0.44044,     0.44144,     0.44244,     0.44344,     0.44444,     0.44545,     0.44645,     0.44745,     0.44845,     0.44945,     0.45045,     0.45145,     0.45245,     0.45345,     0.45445,     0.45546,\n",
      "           0.45646,     0.45746,     0.45846,     0.45946,     0.46046,     0.46146,     0.46246,     0.46346,     0.46446,     0.46547,     0.46647,     0.46747,     0.46847,     0.46947,     0.47047,     0.47147,     0.47247,     0.47347,     0.47447,     0.47548,     0.47648,     0.47748,     0.47848,     0.47948,\n",
      "           0.48048,     0.48148,     0.48248,     0.48348,     0.48448,     0.48549,     0.48649,     0.48749,     0.48849,     0.48949,     0.49049,     0.49149,     0.49249,     0.49349,     0.49449,      0.4955,      0.4965,      0.4975,      0.4985,      0.4995,      0.5005,      0.5015,      0.5025,      0.5035,\n",
      "            0.5045,     0.50551,     0.50651,     0.50751,     0.50851,     0.50951,     0.51051,     0.51151,     0.51251,     0.51351,     0.51451,     0.51552,     0.51652,     0.51752,     0.51852,     0.51952,     0.52052,     0.52152,     0.52252,     0.52352,     0.52452,     0.52553,     0.52653,     0.52753,\n",
      "           0.52853,     0.52953,     0.53053,     0.53153,     0.53253,     0.53353,     0.53453,     0.53554,     0.53654,     0.53754,     0.53854,     0.53954,     0.54054,     0.54154,     0.54254,     0.54354,     0.54454,     0.54555,     0.54655,     0.54755,     0.54855,     0.54955,     0.55055,     0.55155,\n",
      "           0.55255,     0.55355,     0.55455,     0.55556,     0.55656,     0.55756,     0.55856,     0.55956,     0.56056,     0.56156,     0.56256,     0.56356,     0.56456,     0.56557,     0.56657,     0.56757,     0.56857,     0.56957,     0.57057,     0.57157,     0.57257,     0.57357,     0.57457,     0.57558,\n",
      "           0.57658,     0.57758,     0.57858,     0.57958,     0.58058,     0.58158,     0.58258,     0.58358,     0.58458,     0.58559,     0.58659,     0.58759,     0.58859,     0.58959,     0.59059,     0.59159,     0.59259,     0.59359,     0.59459,      0.5956,      0.5966,      0.5976,      0.5986,      0.5996,\n",
      "            0.6006,      0.6016,      0.6026,      0.6036,      0.6046,     0.60561,     0.60661,     0.60761,     0.60861,     0.60961,     0.61061,     0.61161,     0.61261,     0.61361,     0.61461,     0.61562,     0.61662,     0.61762,     0.61862,     0.61962,     0.62062,     0.62162,     0.62262,     0.62362,\n",
      "           0.62462,     0.62563,     0.62663,     0.62763,     0.62863,     0.62963,     0.63063,     0.63163,     0.63263,     0.63363,     0.63463,     0.63564,     0.63664,     0.63764,     0.63864,     0.63964,     0.64064,     0.64164,     0.64264,     0.64364,     0.64464,     0.64565,     0.64665,     0.64765,\n",
      "           0.64865,     0.64965,     0.65065,     0.65165,     0.65265,     0.65365,     0.65465,     0.65566,     0.65666,     0.65766,     0.65866,     0.65966,     0.66066,     0.66166,     0.66266,     0.66366,     0.66466,     0.66567,     0.66667,     0.66767,     0.66867,     0.66967,     0.67067,     0.67167,\n",
      "           0.67267,     0.67367,     0.67467,     0.67568,     0.67668,     0.67768,     0.67868,     0.67968,     0.68068,     0.68168,     0.68268,     0.68368,     0.68468,     0.68569,     0.68669,     0.68769,     0.68869,     0.68969,     0.69069,     0.69169,     0.69269,     0.69369,     0.69469,      0.6957,\n",
      "            0.6967,      0.6977,      0.6987,      0.6997,      0.7007,      0.7017,      0.7027,      0.7037,      0.7047,     0.70571,     0.70671,     0.70771,     0.70871,     0.70971,     0.71071,     0.71171,     0.71271,     0.71371,     0.71471,     0.71572,     0.71672,     0.71772,     0.71872,     0.71972,\n",
      "           0.72072,     0.72172,     0.72272,     0.72372,     0.72472,     0.72573,     0.72673,     0.72773,     0.72873,     0.72973,     0.73073,     0.73173,     0.73273,     0.73373,     0.73473,     0.73574,     0.73674,     0.73774,     0.73874,     0.73974,     0.74074,     0.74174,     0.74274,     0.74374,\n",
      "           0.74474,     0.74575,     0.74675,     0.74775,     0.74875,     0.74975,     0.75075,     0.75175,     0.75275,     0.75375,     0.75475,     0.75576,     0.75676,     0.75776,     0.75876,     0.75976,     0.76076,     0.76176,     0.76276,     0.76376,     0.76476,     0.76577,     0.76677,     0.76777,\n",
      "           0.76877,     0.76977,     0.77077,     0.77177,     0.77277,     0.77377,     0.77477,     0.77578,     0.77678,     0.77778,     0.77878,     0.77978,     0.78078,     0.78178,     0.78278,     0.78378,     0.78478,     0.78579,     0.78679,     0.78779,     0.78879,     0.78979,     0.79079,     0.79179,\n",
      "           0.79279,     0.79379,     0.79479,      0.7958,      0.7968,      0.7978,      0.7988,      0.7998,      0.8008,      0.8018,      0.8028,      0.8038,      0.8048,     0.80581,     0.80681,     0.80781,     0.80881,     0.80981,     0.81081,     0.81181,     0.81281,     0.81381,     0.81481,     0.81582,\n",
      "           0.81682,     0.81782,     0.81882,     0.81982,     0.82082,     0.82182,     0.82282,     0.82382,     0.82482,     0.82583,     0.82683,     0.82783,     0.82883,     0.82983,     0.83083,     0.83183,     0.83283,     0.83383,     0.83483,     0.83584,     0.83684,     0.83784,     0.83884,     0.83984,\n",
      "           0.84084,     0.84184,     0.84284,     0.84384,     0.84484,     0.84585,     0.84685,     0.84785,     0.84885,     0.84985,     0.85085,     0.85185,     0.85285,     0.85385,     0.85485,     0.85586,     0.85686,     0.85786,     0.85886,     0.85986,     0.86086,     0.86186,     0.86286,     0.86386,\n",
      "           0.86486,     0.86587,     0.86687,     0.86787,     0.86887,     0.86987,     0.87087,     0.87187,     0.87287,     0.87387,     0.87487,     0.87588,     0.87688,     0.87788,     0.87888,     0.87988,     0.88088,     0.88188,     0.88288,     0.88388,     0.88488,     0.88589,     0.88689,     0.88789,\n",
      "           0.88889,     0.88989,     0.89089,     0.89189,     0.89289,     0.89389,     0.89489,      0.8959,      0.8969,      0.8979,      0.8989,      0.8999,      0.9009,      0.9019,      0.9029,      0.9039,      0.9049,     0.90591,     0.90691,     0.90791,     0.90891,     0.90991,     0.91091,     0.91191,\n",
      "           0.91291,     0.91391,     0.91491,     0.91592,     0.91692,     0.91792,     0.91892,     0.91992,     0.92092,     0.92192,     0.92292,     0.92392,     0.92492,     0.92593,     0.92693,     0.92793,     0.92893,     0.92993,     0.93093,     0.93193,     0.93293,     0.93393,     0.93493,     0.93594,\n",
      "           0.93694,     0.93794,     0.93894,     0.93994,     0.94094,     0.94194,     0.94294,     0.94394,     0.94494,     0.94595,     0.94695,     0.94795,     0.94895,     0.94995,     0.95095,     0.95195,     0.95295,     0.95395,     0.95495,     0.95596,     0.95696,     0.95796,     0.95896,     0.95996,\n",
      "           0.96096,     0.96196,     0.96296,     0.96396,     0.96496,     0.96597,     0.96697,     0.96797,     0.96897,     0.96997,     0.97097,     0.97197,     0.97297,     0.97397,     0.97497,     0.97598,     0.97698,     0.97798,     0.97898,     0.97998,     0.98098,     0.98198,     0.98298,     0.98398,\n",
      "           0.98498,     0.98599,     0.98699,     0.98799,     0.98899,     0.98999,     0.99099,     0.99199,     0.99299,     0.99399,     0.99499,       0.996,       0.997,       0.998,       0.999,           1]), array([[    0.83333,     0.83333,     0.83333,     0.83333,     0.83333,     0.83333,     0.83333,     0.83333,     0.83333,     0.83333,     0.83333,     0.83333,     0.83333,     0.83333,     0.83333,     0.83333,     0.83333,     0.83333,     0.83333,     0.83333,     0.83333,     0.83333,     0.83333,\n",
      "            0.83333,     0.83333,     0.83333,     0.83333,     0.58974,     0.58974,     0.58974,     0.58974,     0.58974,     0.58974,     0.58974,     0.58974,     0.58974,     0.58974,     0.58974,     0.58974,     0.58974,     0.58974,     0.58974,     0.58974,     0.58974,     0.58974,     0.58974,\n",
      "            0.58974,     0.58974,     0.58974,     0.58974,     0.58974,     0.58974,     0.58974,     0.58974,     0.58974,     0.58974,     0.58974,     0.58974,     0.58974,     0.58974,     0.58974,     0.58974,     0.58974,     0.58974,     0.58974,     0.58974,     0.58974,     0.58974,     0.58974,\n",
      "            0.58974,     0.58974,     0.58974,     0.58974,     0.58974,     0.58974,     0.58974,     0.58974,     0.58974,     0.58974,     0.58974,     0.58974,     0.58974,     0.58974,     0.58974,     0.58974,     0.58974,     0.58974,     0.58974,     0.58974,     0.58974,     0.58974,     0.58974,\n",
      "            0.58974,     0.58974,     0.58974,     0.58974,     0.58974,     0.58974,     0.58974,     0.58974,     0.58974,     0.58974,     0.58974,     0.58974,     0.58974,     0.58974,     0.58974,     0.58974,     0.58974,     0.58974,     0.58974,     0.58974,     0.58974,     0.58974,     0.58974,\n",
      "            0.58974,     0.58974,     0.58974,     0.58974,     0.58974,     0.58974,      0.5814,      0.5814,      0.5814,      0.5814,      0.5814,      0.5814,      0.5814,      0.5814,      0.5814,      0.5814,      0.5814,     0.57778,     0.57778,     0.57778,     0.57778,     0.57778,     0.57447,\n",
      "            0.57447,     0.57447,     0.57447,     0.57447,      0.5493,      0.5493,      0.5493,      0.5493,      0.5493,      0.5493,      0.5493,      0.5493,      0.5493,      0.5493,      0.5493,      0.5493,      0.5493,      0.5493,      0.5493,      0.5493,      0.5493,      0.5493,      0.5493,\n",
      "             0.5493,      0.5493,      0.5493,      0.5493,      0.5493,      0.5493,      0.5493,      0.5493,      0.5493,      0.5493,      0.5493,      0.5493,      0.5493,      0.5493,      0.5493,      0.5493,      0.5493,      0.5493,      0.5493,      0.5493,      0.5493,      0.5493,      0.5493,\n",
      "             0.5493,      0.5493,      0.5493,      0.5493,      0.5493,      0.5493,      0.5493,      0.5493,      0.5493,      0.5493,      0.5493,      0.5493,      0.5493,      0.5493,      0.5493,      0.5493,      0.5493,      0.5493,      0.5493,      0.5493,      0.5493,      0.5493,     0.54054,\n",
      "            0.54054,     0.54054,     0.54054,     0.54054,         0.5,         0.5,         0.5,         0.5,         0.5,         0.5,         0.5,         0.5,         0.5,         0.5,     0.49451,     0.49451,     0.49451,     0.49451,     0.49451,     0.49451,     0.49451,     0.49451,     0.49451,\n",
      "            0.49451,     0.49451,     0.49451,     0.49451,     0.49451,     0.49451,     0.49451,     0.48421,     0.48421,     0.48421,     0.48421,     0.48421,     0.47573,     0.47573,     0.47573,     0.47573,     0.47573,     0.47573,     0.47573,     0.47573,     0.47573,     0.47573,     0.47573,\n",
      "            0.47573,     0.47573,     0.47573,     0.47573,     0.47573,     0.45045,     0.45045,     0.45045,     0.45045,     0.45045,     0.44853,     0.44853,     0.44853,     0.44853,     0.44853,     0.44853,     0.44853,     0.44853,     0.44853,     0.44853,     0.44853,     0.44853,     0.44853,\n",
      "            0.44853,     0.44853,     0.44853,     0.44853,     0.44853,     0.44853,     0.44853,     0.44853,     0.44853,     0.44853,     0.44853,     0.44853,     0.44853,     0.44853,     0.44853,     0.44853,     0.44853,     0.44853,     0.44853,     0.44853,     0.44853,     0.44853,     0.44853,\n",
      "            0.44853,     0.44853,     0.44853,     0.44853,     0.44853,     0.44853,     0.44853,     0.44853,     0.44853,     0.44853,     0.44853,     0.44853,     0.44853,     0.44853,     0.44853,     0.44853,     0.44853,     0.44853,     0.44853,     0.44853,     0.44853,     0.44853,     0.43662,\n",
      "            0.43662,     0.43662,     0.43662,     0.43662,     0.43624,     0.43624,     0.43624,     0.43624,     0.43624,     0.43624,     0.43624,     0.43624,     0.43624,     0.43624,     0.43624,     0.43624,     0.43624,     0.43624,     0.43624,     0.43624,     0.43421,     0.43421,     0.43421,\n",
      "            0.43421,     0.43421,     0.43421,     0.42949,     0.42949,     0.42949,     0.42949,     0.42949,     0.42236,     0.42236,     0.42236,     0.42236,     0.42236,     0.41818,     0.41818,     0.41818,     0.41818,     0.41818,     0.41618,     0.41618,     0.41618,     0.41618,     0.41618,\n",
      "            0.41618,     0.41618,     0.41618,     0.41618,     0.41618,     0.41618,     0.41618,     0.41618,     0.41618,     0.41618,     0.41618,     0.41477,     0.41477,     0.41477,     0.41477,     0.41477,     0.41111,     0.41111,     0.41111,     0.41111,     0.41111,     0.41111,     0.40984,\n",
      "            0.40984,     0.40984,     0.40984,     0.40984,     0.38974,     0.38974,     0.38974,     0.38974,     0.38974,       0.385,       0.385,       0.385,       0.385,       0.385,     0.36036,     0.36036,     0.36036,     0.36036,     0.36036,     0.36036,     0.36036,     0.36036,     0.36036,\n",
      "            0.36036,     0.36036,     0.36036,     0.36036,     0.36036,     0.36036,     0.36036,     0.35526,     0.35526,     0.35526,     0.35526,     0.35526,     0.34583,     0.34583,     0.34583,     0.34583,     0.34583,     0.34583,     0.34583,     0.34583,     0.34583,     0.34583,     0.34583,\n",
      "              0.336,       0.336,       0.336,       0.336,       0.336,     0.33091,     0.33091,     0.33091,     0.33091,     0.33091,     0.33091,     0.33091,     0.33091,     0.33091,     0.33091,     0.33091,     0.33091,     0.33091,     0.33091,     0.33091,     0.33091,     0.33091,     0.33091,\n",
      "            0.33091,     0.33091,     0.33091,     0.33091,     0.33091,     0.33091,     0.33091,     0.33091,     0.33091,     0.33091,     0.33091,     0.33091,     0.33091,     0.33091,     0.33091,     0.33091,     0.33091,     0.33091,     0.33091,     0.31683,     0.31683,     0.31683,     0.31683,\n",
      "            0.31683,     0.31683,     0.31683,     0.31683,     0.31683,     0.31683,     0.31683,     0.31683,     0.31683,     0.31683,     0.31683,     0.31683,     0.31683,     0.31683,     0.31683,     0.31683,     0.31683,     0.31683,     0.31683,     0.31683,     0.31683,     0.31683,     0.31494,\n",
      "            0.31494,     0.31494,     0.31494,     0.31494,     0.31494,      0.3121,      0.3121,      0.3121,      0.3121,      0.3121,     0.30211,     0.30211,     0.30211,     0.30211,     0.30211,     0.30211,     0.30211,     0.30211,     0.30211,     0.30211,     0.29882,     0.29882,     0.29882,\n",
      "            0.29882,     0.29882,     0.29882,      0.2963,      0.2963,      0.2963,      0.2963,      0.2963,      0.2963,      0.2963,      0.2963,      0.2963,      0.2963,      0.2963,      0.2963,      0.2963,      0.2963,      0.2963,     0.28571,     0.28571,     0.28571,     0.28571,     0.28571,\n",
      "            0.28571,     0.28571,     0.28571,     0.28571,     0.28571,     0.28571,      0.2772,      0.2772,      0.2772,      0.2772,      0.2772,     0.27342,     0.27342,     0.27342,     0.27342,     0.27342,      0.2725,      0.2725,      0.2725,      0.2725,      0.2725,      0.2725,     0.25761,\n",
      "            0.25761,     0.25761,     0.25761,     0.25761,     0.25747,     0.25747,     0.25747,     0.25747,     0.25747,     0.25747,     0.25747,     0.25747,     0.25747,     0.25747,     0.25111,     0.25111,     0.25111,     0.25111,     0.25111,     0.25111,     0.25055,     0.25055,     0.25055,\n",
      "            0.25055,     0.25055,     0.24786,     0.24786,     0.24786,     0.24786,     0.24786,     0.24786,     0.24786,     0.24786,     0.24786,     0.24786,     0.23214,     0.23214,     0.23214,     0.23214,     0.23214,     0.23214,     0.21441,     0.21441,     0.21441,     0.21441,     0.21441,\n",
      "            0.21441,     0.21441,     0.21441,     0.21441,     0.21441,     0.21201,     0.21201,     0.21201,     0.21201,     0.21201,     0.21007,     0.21007,     0.21007,     0.21007,     0.21007,     0.21007,     0.20819,     0.20819,     0.20819,     0.20819,     0.20819,     0.20295,     0.20295,\n",
      "            0.20295,     0.20295,     0.20295,     0.20295,     0.20295,     0.20295,     0.20295,     0.20295,      0.1941,      0.1941,      0.1941,      0.1941,      0.1941,      0.1941,     0.19394,     0.19394,     0.19394,     0.19394,     0.19394,     0.19394,     0.19394,     0.19394,     0.19394,\n",
      "            0.19394,     0.19394,     0.19394,     0.19394,     0.19394,     0.19394,     0.19394,     0.19231,     0.19231,     0.19231,     0.19231,     0.19231,     0.19231,     0.19231,     0.19231,     0.19231,     0.19231,     0.18688,     0.18688,     0.18688,     0.18688,     0.18688,     0.18462,\n",
      "            0.18462,     0.18462,     0.18462,     0.18462,     0.18462,     0.18169,     0.18169,     0.18169,     0.18169,     0.18169,     0.18108,     0.18108,     0.18108,     0.18108,     0.18108,     0.17746,     0.17746,     0.17746,     0.17746,     0.17746,     0.17746,     0.17746,     0.17746,\n",
      "            0.17746,     0.17746,     0.17746,     0.17746,     0.17746,     0.17746,     0.17746,     0.17746,      0.1767,      0.1767,      0.1767,      0.1767,      0.1767,     0.16972,     0.16972,     0.16972,     0.16972,     0.16972,     0.16826,     0.16826,     0.16826,     0.16826,     0.16826,\n",
      "            0.16826,     0.16826,     0.16826,     0.16826,     0.16826,     0.16826,     0.16045,     0.16045,     0.16045,     0.16045,     0.16045,     0.14697,     0.14697,     0.14697,     0.14697,     0.14697,     0.14118,     0.14118,     0.14118,     0.14118,     0.14118,     0.14118,      0.1377,\n",
      "             0.1377,      0.1377,      0.1377,      0.1377,     0.13687,     0.13687,     0.13687,     0.13687,     0.13687,     0.13687,     0.13687,     0.13687,     0.13687,     0.13687,     0.13121,     0.13121,     0.13121,     0.13121,     0.13121,     0.13121,     0.12753,     0.12753,     0.12753,\n",
      "            0.12753,     0.12753,     0.12753,     0.12753,     0.12753,     0.12753,     0.12753,     0.12753,     0.12753,     0.12753,     0.12753,     0.12753,     0.12531,     0.12531,     0.12531,     0.12531,     0.12531,     0.12531,     0.12289,     0.12289,     0.12289,     0.12289,     0.12289,\n",
      "             0.1205,      0.1205,      0.1205,      0.1205,      0.1205,     0.10631,     0.10631,     0.10631,     0.10631,     0.10631,    0.099174,    0.099174,    0.099174,    0.099174,    0.099174,    0.099174,    0.098064,    0.098064,    0.098064,    0.098064,    0.098064,    0.097411,    0.097411,\n",
      "           0.097411,    0.097411,    0.097411,     0.09159,     0.09159,     0.09159,     0.09159,     0.09159,     0.09159,    0.090703,    0.090703,    0.090703,    0.090703,    0.090703,    0.090653,    0.090653,    0.090653,    0.090653,    0.090653,     0.08677,     0.08677,     0.08677,     0.08677,\n",
      "            0.08677,    0.086061,    0.086061,    0.086061,    0.086061,    0.086061,    0.086061,    0.084536,    0.084536,    0.084536,    0.084536,    0.084536,    0.084521,    0.084521,    0.084521,    0.084521,    0.084521,    0.084521,    0.084521,    0.084521,    0.084521,    0.084521,    0.083416,\n",
      "           0.083416,    0.083416,    0.083416,    0.083416,    0.083416,    0.083416,    0.083416,    0.083416,    0.083416,    0.083416,    0.078641,    0.078641,    0.078641,    0.078641,    0.078641,     0.07637,     0.07637,     0.07637,     0.07637,     0.07637,    0.075597,    0.075597,    0.075597,\n",
      "           0.075597,    0.075597,    0.075597,     0.06535,     0.06535,     0.06535,     0.06535,     0.06535,    0.065234,    0.065234,    0.065234,    0.065234,    0.065234,    0.062545,    0.062545,    0.062545,    0.062545,    0.062545,    0.062037,    0.062037,    0.062037,    0.062037,    0.062037,\n",
      "           0.062037,    0.062037,    0.062037,    0.062037,    0.062037,    0.062037,    0.061063,    0.061063,    0.061063,    0.061063,    0.061063,    0.061063,    0.061063,    0.061063,    0.061063,    0.061063,    0.058192,    0.058192,    0.058192,    0.058192,    0.058192,    0.058192,    0.049153,\n",
      "           0.049153,    0.049153,    0.049153,    0.049153,    0.035497,    0.035497,    0.035497,    0.035497,    0.035497,    0.024085,    0.023573,     0.02306,    0.022548,    0.022035,    0.021523,    0.021011,    0.020498,    0.019986,    0.019473,    0.018961,    0.018448,    0.017936,    0.017423,\n",
      "           0.016911,    0.016398,    0.015886,    0.015374,    0.014861,    0.014349,    0.013836,    0.013324,    0.012811,    0.012299,    0.011786,    0.011274,    0.010761,    0.010249,   0.0097366,   0.0092241,   0.0087117,   0.0081992,   0.0076868,   0.0071743,   0.0066619,   0.0061494,    0.005637,\n",
      "          0.0051245,   0.0046121,   0.0040996,   0.0035872,   0.0030747,   0.0025623,   0.0020498,   0.0015374,   0.0010249,  0.00051245,           0]]), 'Recall', 'Precision'], [array([          0,    0.001001,    0.002002,    0.003003,    0.004004,    0.005005,    0.006006,    0.007007,    0.008008,    0.009009,     0.01001,    0.011011,    0.012012,    0.013013,    0.014014,    0.015015,    0.016016,    0.017017,    0.018018,    0.019019,     0.02002,    0.021021,    0.022022,    0.023023,\n",
      "          0.024024,    0.025025,    0.026026,    0.027027,    0.028028,    0.029029,     0.03003,    0.031031,    0.032032,    0.033033,    0.034034,    0.035035,    0.036036,    0.037037,    0.038038,    0.039039,     0.04004,    0.041041,    0.042042,    0.043043,    0.044044,    0.045045,    0.046046,    0.047047,\n",
      "          0.048048,    0.049049,     0.05005,    0.051051,    0.052052,    0.053053,    0.054054,    0.055055,    0.056056,    0.057057,    0.058058,    0.059059,     0.06006,    0.061061,    0.062062,    0.063063,    0.064064,    0.065065,    0.066066,    0.067067,    0.068068,    0.069069,     0.07007,    0.071071,\n",
      "          0.072072,    0.073073,    0.074074,    0.075075,    0.076076,    0.077077,    0.078078,    0.079079,     0.08008,    0.081081,    0.082082,    0.083083,    0.084084,    0.085085,    0.086086,    0.087087,    0.088088,    0.089089,     0.09009,    0.091091,    0.092092,    0.093093,    0.094094,    0.095095,\n",
      "          0.096096,    0.097097,    0.098098,    0.099099,      0.1001,      0.1011,      0.1021,      0.1031,      0.1041,     0.10511,     0.10611,     0.10711,     0.10811,     0.10911,     0.11011,     0.11111,     0.11211,     0.11311,     0.11411,     0.11512,     0.11612,     0.11712,     0.11812,     0.11912,\n",
      "           0.12012,     0.12112,     0.12212,     0.12312,     0.12412,     0.12513,     0.12613,     0.12713,     0.12813,     0.12913,     0.13013,     0.13113,     0.13213,     0.13313,     0.13413,     0.13514,     0.13614,     0.13714,     0.13814,     0.13914,     0.14014,     0.14114,     0.14214,     0.14314,\n",
      "           0.14414,     0.14515,     0.14615,     0.14715,     0.14815,     0.14915,     0.15015,     0.15115,     0.15215,     0.15315,     0.15415,     0.15516,     0.15616,     0.15716,     0.15816,     0.15916,     0.16016,     0.16116,     0.16216,     0.16316,     0.16416,     0.16517,     0.16617,     0.16717,\n",
      "           0.16817,     0.16917,     0.17017,     0.17117,     0.17217,     0.17317,     0.17417,     0.17518,     0.17618,     0.17718,     0.17818,     0.17918,     0.18018,     0.18118,     0.18218,     0.18318,     0.18418,     0.18519,     0.18619,     0.18719,     0.18819,     0.18919,     0.19019,     0.19119,\n",
      "           0.19219,     0.19319,     0.19419,      0.1952,      0.1962,      0.1972,      0.1982,      0.1992,      0.2002,      0.2012,      0.2022,      0.2032,      0.2042,     0.20521,     0.20621,     0.20721,     0.20821,     0.20921,     0.21021,     0.21121,     0.21221,     0.21321,     0.21421,     0.21522,\n",
      "           0.21622,     0.21722,     0.21822,     0.21922,     0.22022,     0.22122,     0.22222,     0.22322,     0.22422,     0.22523,     0.22623,     0.22723,     0.22823,     0.22923,     0.23023,     0.23123,     0.23223,     0.23323,     0.23423,     0.23524,     0.23624,     0.23724,     0.23824,     0.23924,\n",
      "           0.24024,     0.24124,     0.24224,     0.24324,     0.24424,     0.24525,     0.24625,     0.24725,     0.24825,     0.24925,     0.25025,     0.25125,     0.25225,     0.25325,     0.25425,     0.25526,     0.25626,     0.25726,     0.25826,     0.25926,     0.26026,     0.26126,     0.26226,     0.26326,\n",
      "           0.26426,     0.26527,     0.26627,     0.26727,     0.26827,     0.26927,     0.27027,     0.27127,     0.27227,     0.27327,     0.27427,     0.27528,     0.27628,     0.27728,     0.27828,     0.27928,     0.28028,     0.28128,     0.28228,     0.28328,     0.28428,     0.28529,     0.28629,     0.28729,\n",
      "           0.28829,     0.28929,     0.29029,     0.29129,     0.29229,     0.29329,     0.29429,      0.2953,      0.2963,      0.2973,      0.2983,      0.2993,      0.3003,      0.3013,      0.3023,      0.3033,      0.3043,     0.30531,     0.30631,     0.30731,     0.30831,     0.30931,     0.31031,     0.31131,\n",
      "           0.31231,     0.31331,     0.31431,     0.31532,     0.31632,     0.31732,     0.31832,     0.31932,     0.32032,     0.32132,     0.32232,     0.32332,     0.32432,     0.32533,     0.32633,     0.32733,     0.32833,     0.32933,     0.33033,     0.33133,     0.33233,     0.33333,     0.33433,     0.33534,\n",
      "           0.33634,     0.33734,     0.33834,     0.33934,     0.34034,     0.34134,     0.34234,     0.34334,     0.34434,     0.34535,     0.34635,     0.34735,     0.34835,     0.34935,     0.35035,     0.35135,     0.35235,     0.35335,     0.35435,     0.35536,     0.35636,     0.35736,     0.35836,     0.35936,\n",
      "           0.36036,     0.36136,     0.36236,     0.36336,     0.36436,     0.36537,     0.36637,     0.36737,     0.36837,     0.36937,     0.37037,     0.37137,     0.37237,     0.37337,     0.37437,     0.37538,     0.37638,     0.37738,     0.37838,     0.37938,     0.38038,     0.38138,     0.38238,     0.38338,\n",
      "           0.38438,     0.38539,     0.38639,     0.38739,     0.38839,     0.38939,     0.39039,     0.39139,     0.39239,     0.39339,     0.39439,      0.3954,      0.3964,      0.3974,      0.3984,      0.3994,      0.4004,      0.4014,      0.4024,      0.4034,      0.4044,     0.40541,     0.40641,     0.40741,\n",
      "           0.40841,     0.40941,     0.41041,     0.41141,     0.41241,     0.41341,     0.41441,     0.41542,     0.41642,     0.41742,     0.41842,     0.41942,     0.42042,     0.42142,     0.42242,     0.42342,     0.42442,     0.42543,     0.42643,     0.42743,     0.42843,     0.42943,     0.43043,     0.43143,\n",
      "           0.43243,     0.43343,     0.43443,     0.43544,     0.43644,     0.43744,     0.43844,     0.43944,     0.44044,     0.44144,     0.44244,     0.44344,     0.44444,     0.44545,     0.44645,     0.44745,     0.44845,     0.44945,     0.45045,     0.45145,     0.45245,     0.45345,     0.45445,     0.45546,\n",
      "           0.45646,     0.45746,     0.45846,     0.45946,     0.46046,     0.46146,     0.46246,     0.46346,     0.46446,     0.46547,     0.46647,     0.46747,     0.46847,     0.46947,     0.47047,     0.47147,     0.47247,     0.47347,     0.47447,     0.47548,     0.47648,     0.47748,     0.47848,     0.47948,\n",
      "           0.48048,     0.48148,     0.48248,     0.48348,     0.48448,     0.48549,     0.48649,     0.48749,     0.48849,     0.48949,     0.49049,     0.49149,     0.49249,     0.49349,     0.49449,      0.4955,      0.4965,      0.4975,      0.4985,      0.4995,      0.5005,      0.5015,      0.5025,      0.5035,\n",
      "            0.5045,     0.50551,     0.50651,     0.50751,     0.50851,     0.50951,     0.51051,     0.51151,     0.51251,     0.51351,     0.51451,     0.51552,     0.51652,     0.51752,     0.51852,     0.51952,     0.52052,     0.52152,     0.52252,     0.52352,     0.52452,     0.52553,     0.52653,     0.52753,\n",
      "           0.52853,     0.52953,     0.53053,     0.53153,     0.53253,     0.53353,     0.53453,     0.53554,     0.53654,     0.53754,     0.53854,     0.53954,     0.54054,     0.54154,     0.54254,     0.54354,     0.54454,     0.54555,     0.54655,     0.54755,     0.54855,     0.54955,     0.55055,     0.55155,\n",
      "           0.55255,     0.55355,     0.55455,     0.55556,     0.55656,     0.55756,     0.55856,     0.55956,     0.56056,     0.56156,     0.56256,     0.56356,     0.56456,     0.56557,     0.56657,     0.56757,     0.56857,     0.56957,     0.57057,     0.57157,     0.57257,     0.57357,     0.57457,     0.57558,\n",
      "           0.57658,     0.57758,     0.57858,     0.57958,     0.58058,     0.58158,     0.58258,     0.58358,     0.58458,     0.58559,     0.58659,     0.58759,     0.58859,     0.58959,     0.59059,     0.59159,     0.59259,     0.59359,     0.59459,      0.5956,      0.5966,      0.5976,      0.5986,      0.5996,\n",
      "            0.6006,      0.6016,      0.6026,      0.6036,      0.6046,     0.60561,     0.60661,     0.60761,     0.60861,     0.60961,     0.61061,     0.61161,     0.61261,     0.61361,     0.61461,     0.61562,     0.61662,     0.61762,     0.61862,     0.61962,     0.62062,     0.62162,     0.62262,     0.62362,\n",
      "           0.62462,     0.62563,     0.62663,     0.62763,     0.62863,     0.62963,     0.63063,     0.63163,     0.63263,     0.63363,     0.63463,     0.63564,     0.63664,     0.63764,     0.63864,     0.63964,     0.64064,     0.64164,     0.64264,     0.64364,     0.64464,     0.64565,     0.64665,     0.64765,\n",
      "           0.64865,     0.64965,     0.65065,     0.65165,     0.65265,     0.65365,     0.65465,     0.65566,     0.65666,     0.65766,     0.65866,     0.65966,     0.66066,     0.66166,     0.66266,     0.66366,     0.66466,     0.66567,     0.66667,     0.66767,     0.66867,     0.66967,     0.67067,     0.67167,\n",
      "           0.67267,     0.67367,     0.67467,     0.67568,     0.67668,     0.67768,     0.67868,     0.67968,     0.68068,     0.68168,     0.68268,     0.68368,     0.68468,     0.68569,     0.68669,     0.68769,     0.68869,     0.68969,     0.69069,     0.69169,     0.69269,     0.69369,     0.69469,      0.6957,\n",
      "            0.6967,      0.6977,      0.6987,      0.6997,      0.7007,      0.7017,      0.7027,      0.7037,      0.7047,     0.70571,     0.70671,     0.70771,     0.70871,     0.70971,     0.71071,     0.71171,     0.71271,     0.71371,     0.71471,     0.71572,     0.71672,     0.71772,     0.71872,     0.71972,\n",
      "           0.72072,     0.72172,     0.72272,     0.72372,     0.72472,     0.72573,     0.72673,     0.72773,     0.72873,     0.72973,     0.73073,     0.73173,     0.73273,     0.73373,     0.73473,     0.73574,     0.73674,     0.73774,     0.73874,     0.73974,     0.74074,     0.74174,     0.74274,     0.74374,\n",
      "           0.74474,     0.74575,     0.74675,     0.74775,     0.74875,     0.74975,     0.75075,     0.75175,     0.75275,     0.75375,     0.75475,     0.75576,     0.75676,     0.75776,     0.75876,     0.75976,     0.76076,     0.76176,     0.76276,     0.76376,     0.76476,     0.76577,     0.76677,     0.76777,\n",
      "           0.76877,     0.76977,     0.77077,     0.77177,     0.77277,     0.77377,     0.77477,     0.77578,     0.77678,     0.77778,     0.77878,     0.77978,     0.78078,     0.78178,     0.78278,     0.78378,     0.78478,     0.78579,     0.78679,     0.78779,     0.78879,     0.78979,     0.79079,     0.79179,\n",
      "           0.79279,     0.79379,     0.79479,      0.7958,      0.7968,      0.7978,      0.7988,      0.7998,      0.8008,      0.8018,      0.8028,      0.8038,      0.8048,     0.80581,     0.80681,     0.80781,     0.80881,     0.80981,     0.81081,     0.81181,     0.81281,     0.81381,     0.81481,     0.81582,\n",
      "           0.81682,     0.81782,     0.81882,     0.81982,     0.82082,     0.82182,     0.82282,     0.82382,     0.82482,     0.82583,     0.82683,     0.82783,     0.82883,     0.82983,     0.83083,     0.83183,     0.83283,     0.83383,     0.83483,     0.83584,     0.83684,     0.83784,     0.83884,     0.83984,\n",
      "           0.84084,     0.84184,     0.84284,     0.84384,     0.84484,     0.84585,     0.84685,     0.84785,     0.84885,     0.84985,     0.85085,     0.85185,     0.85285,     0.85385,     0.85485,     0.85586,     0.85686,     0.85786,     0.85886,     0.85986,     0.86086,     0.86186,     0.86286,     0.86386,\n",
      "           0.86486,     0.86587,     0.86687,     0.86787,     0.86887,     0.86987,     0.87087,     0.87187,     0.87287,     0.87387,     0.87487,     0.87588,     0.87688,     0.87788,     0.87888,     0.87988,     0.88088,     0.88188,     0.88288,     0.88388,     0.88488,     0.88589,     0.88689,     0.88789,\n",
      "           0.88889,     0.88989,     0.89089,     0.89189,     0.89289,     0.89389,     0.89489,      0.8959,      0.8969,      0.8979,      0.8989,      0.8999,      0.9009,      0.9019,      0.9029,      0.9039,      0.9049,     0.90591,     0.90691,     0.90791,     0.90891,     0.90991,     0.91091,     0.91191,\n",
      "           0.91291,     0.91391,     0.91491,     0.91592,     0.91692,     0.91792,     0.91892,     0.91992,     0.92092,     0.92192,     0.92292,     0.92392,     0.92492,     0.92593,     0.92693,     0.92793,     0.92893,     0.92993,     0.93093,     0.93193,     0.93293,     0.93393,     0.93493,     0.93594,\n",
      "           0.93694,     0.93794,     0.93894,     0.93994,     0.94094,     0.94194,     0.94294,     0.94394,     0.94494,     0.94595,     0.94695,     0.94795,     0.94895,     0.94995,     0.95095,     0.95195,     0.95295,     0.95395,     0.95495,     0.95596,     0.95696,     0.95796,     0.95896,     0.95996,\n",
      "           0.96096,     0.96196,     0.96296,     0.96396,     0.96496,     0.96597,     0.96697,     0.96797,     0.96897,     0.96997,     0.97097,     0.97197,     0.97297,     0.97397,     0.97497,     0.97598,     0.97698,     0.97798,     0.97898,     0.97998,     0.98098,     0.98198,     0.98298,     0.98398,\n",
      "           0.98498,     0.98599,     0.98699,     0.98799,     0.98899,     0.98999,     0.99099,     0.99199,     0.99299,     0.99399,     0.99499,       0.996,       0.997,       0.998,       0.999,           1]), array([[   0.047296,    0.047296,    0.051294,    0.057521,    0.064094,    0.069162,    0.074197,    0.078212,    0.082059,    0.085841,    0.089213,     0.09259,    0.095456,    0.098137,     0.10133,     0.10502,     0.10781,     0.11046,     0.11274,     0.11458,     0.11624,     0.11868,     0.12103,\n",
      "            0.12219,     0.12463,     0.12754,     0.13108,     0.13339,     0.13596,     0.13857,     0.13978,     0.14166,     0.14411,     0.14581,     0.14807,     0.15095,     0.15151,     0.15342,     0.15424,     0.15635,     0.15679,     0.16013,     0.16337,      0.1647,     0.16575,     0.16846,\n",
      "            0.17052,     0.17407,     0.17478,     0.17636,     0.17886,      0.1815,     0.18398,     0.18559,     0.18719,     0.19004,     0.19207,     0.19516,     0.19785,     0.20014,       0.204,     0.20831,     0.20916,      0.2128,     0.21399,      0.2165,     0.21952,     0.21869,     0.22193,\n",
      "            0.22453,     0.22652,     0.23007,     0.23143,     0.23285,     0.23366,     0.23638,     0.23762,     0.24121,     0.24573,     0.24834,      0.2505,     0.25391,     0.25711,     0.26065,     0.26346,     0.26353,     0.26731,     0.26908,     0.27238,     0.27312,     0.27381,     0.27506,\n",
      "            0.27767,     0.28078,     0.28316,     0.28193,     0.28364,     0.28481,      0.2865,     0.28782,     0.28854,      0.2908,     0.29003,     0.29325,     0.29373,     0.29783,     0.29865,     0.29858,      0.2996,     0.29921,     0.29796,     0.30032,      0.3023,     0.30501,     0.30715,\n",
      "            0.30731,     0.30809,     0.31085,     0.31437,     0.31569,     0.31472,     0.31546,     0.31802,     0.31795,     0.31956,     0.32342,     0.32577,     0.32864,      0.3306,     0.33199,     0.33564,     0.33873,     0.34241,      0.3445,      0.3468,     0.34951,     0.35239,     0.34924,\n",
      "            0.34979,     0.35237,     0.35272,     0.35152,     0.35398,     0.35591,     0.35803,     0.35386,     0.35414,     0.35789,     0.35899,     0.36294,     0.36487,     0.36551,     0.36679,       0.368,     0.36871,      0.3676,     0.37125,     0.36976,     0.37268,     0.37592,     0.37768,\n",
      "            0.37299,      0.3756,     0.37717,     0.38082,     0.38397,     0.38256,     0.37783,     0.38212,     0.38039,     0.37981,     0.37942,     0.38026,     0.38171,     0.38355,     0.38481,     0.38697,     0.38774,     0.38834,     0.38697,     0.38671,     0.38888,     0.38387,     0.38196,\n",
      "            0.38043,     0.37936,       0.381,     0.38312,     0.38655,     0.39086,     0.38266,     0.37598,     0.37095,     0.37339,     0.37669,      0.3801,     0.37814,     0.37861,     0.37933,     0.38432,     0.38596,     0.37906,     0.38099,      0.3827,     0.38511,     0.38461,     0.38628,\n",
      "            0.38832,     0.38175,      0.3822,     0.37968,     0.38099,     0.38175,     0.38309,     0.38482,     0.38791,     0.39083,     0.39142,     0.39227,     0.39415,      0.3908,     0.39281,     0.39313,     0.39345,     0.39377,     0.39427,     0.39478,     0.39215,     0.39306,     0.39368,\n",
      "            0.39912,     0.40084,     0.39848,      0.3994,     0.39661,     0.39859,     0.39629,     0.39335,     0.38589,     0.38556,     0.38713,     0.38422,     0.38477,     0.38624,     0.38722,     0.38346,     0.38194,     0.38275,     0.38325,     0.38004,     0.36923,     0.37052,     0.37311,\n",
      "            0.37188,     0.37065,     0.36942,     0.36958,     0.37063,     0.37228,     0.37346,      0.3706,     0.36727,     0.36435,     0.35975,     0.35525,     0.35581,     0.35534,     0.35276,     0.35195,     0.35322,     0.33967,     0.33802,     0.33863,     0.33511,      0.3337,      0.3344,\n",
      "            0.33562,     0.33644,     0.33369,     0.33141,     0.33259,     0.32798,     0.32828,     0.32859,     0.32889,     0.32959,     0.33062,     0.33186,     0.32681,     0.32763,     0.32912,     0.33109,      0.3329,     0.33395,     0.32032,     0.31853,     0.31883,     0.31913,     0.31943,\n",
      "             0.3224,     0.31796,     0.31951,     0.31771,     0.31437,     0.31472,     0.31507,     0.31532,     0.30957,     0.31014,      0.3068,     0.30612,     0.30334,     0.29942,     0.29626,     0.29649,     0.29669,     0.29689,     0.29709,     0.29729,     0.29768,     0.29827,     0.30244,\n",
      "            0.29778,     0.29752,     0.28645,     0.28632,     0.28605,      0.2825,     0.27892,     0.27527,     0.27378,     0.27445,     0.26795,     0.26865,     0.26049,     0.25872,     0.25696,     0.25519,     0.25542,     0.25293,     0.25043,     0.24823,     0.24644,     0.24465,     0.24285,\n",
      "            0.24278,      0.2438,     0.24172,     0.23929,     0.23686,     0.23693,     0.23714,     0.23734,     0.23755,     0.23788,     0.23867,     0.23632,     0.23392,     0.23151,     0.23093,     0.22509,     0.22555,     0.22598,     0.22631,     0.22663,     0.22701,     0.22766,     0.22587,\n",
      "            0.22308,     0.22035,     0.22071,     0.22107,     0.21971,     0.21595,     0.21372,     0.21383,     0.21394,     0.21405,     0.21417,     0.21428,     0.21439,     0.21449,     0.21419,     0.21019,     0.20493,     0.19926,     0.19952,     0.19978,     0.20002,      0.2002,     0.20038,\n",
      "            0.20056,     0.20073,     0.20064,     0.19948,     0.19831,     0.19713,     0.19596,     0.19479,     0.19362,      0.1925,     0.19143,     0.19037,     0.18931,     0.18824,     0.18718,     0.18612,     0.18505,     0.17834,     0.17118,     0.16083,     0.16106,     0.16128,      0.1602,\n",
      "            0.15591,     0.15164,     0.14741,     0.14488,      0.1451,     0.14532,     0.14501,     0.13844,     0.13767,     0.13772,     0.13778,     0.13784,     0.13789,     0.13795,       0.138,     0.13806,     0.13811,     0.13817,     0.13822,      0.1383,      0.1384,      0.1385,      0.1386,\n",
      "             0.1387,      0.1388,     0.13868,      0.1333,     0.13034,      0.1306,     0.13084,     0.12515,     0.11907,     0.11241,     0.10431,     0.10165,     0.09902,    0.096385,    0.089081,    0.080571,    0.077099,    0.077314,    0.077362,    0.077409,    0.077456,    0.077502,    0.077548,\n",
      "           0.077593,    0.077637,    0.076787,     0.07334,    0.069887,    0.068614,    0.068376,     0.06417,    0.059955,    0.059417,     0.05943,    0.059443,    0.059456,    0.059469,    0.059481,    0.059494,    0.059506,    0.059519,    0.059531,    0.059543,    0.059555,    0.059567,    0.059579,\n",
      "           0.059591,    0.059603,    0.059615,    0.059626,    0.059638,    0.059649,    0.059661,    0.059672,    0.059683,    0.059694,    0.059523,    0.059033,    0.058543,    0.058053,    0.057562,    0.057071,    0.056581,     0.05609,    0.055599,    0.055108,    0.054616,    0.054125,    0.053633,\n",
      "           0.053142,     0.05265,    0.052158,    0.051666,    0.051174,    0.050681,    0.050189,    0.050217,    0.050283,    0.050317,     0.05035,    0.050382,    0.050413,    0.050444,    0.050473,    0.050502,    0.050599,    0.050695,    0.050765,    0.050778,     0.05079,    0.050803,    0.050815,\n",
      "           0.050827,    0.050839,    0.050851,    0.050863,    0.050875,    0.050886,    0.050897,    0.050908,    0.050919,     0.05093,    0.050941,    0.050952,    0.050962,    0.050972,    0.050982,    0.050993,    0.051002,    0.051012,    0.050985,    0.050768,    0.050552,    0.050335,    0.050118,\n",
      "           0.049901,    0.049685,    0.049468,    0.049251,    0.049034,    0.048817,      0.0486,    0.048383,    0.048166,    0.047949,    0.047732,    0.047514,    0.047297,     0.04708,    0.046863,    0.046645,    0.046428,     0.04621,    0.045993,    0.045775,    0.045558,     0.04534,    0.045123,\n",
      "           0.044905,    0.044687,     0.04447,    0.044252,    0.044034,    0.043816,    0.043598,     0.04338,    0.043162,    0.042944,    0.042726,    0.042508,     0.04229,    0.042072,    0.041854,    0.041635,    0.041417,    0.041199,    0.040978,    0.040748,    0.040518,    0.040288,    0.040058,\n",
      "           0.039828,    0.039598,    0.039368,    0.039138,    0.038908,    0.038678,    0.038448,    0.038217,    0.037987,    0.037757,    0.037526,    0.037296,    0.037065,    0.036835,    0.036604,    0.036374,    0.036143,    0.035913,    0.035682,    0.035451,     0.03522,     0.03499,    0.034759,\n",
      "           0.034528,    0.034297,    0.034066,    0.033835,    0.033604,    0.033373,    0.033141,     0.03291,    0.032679,    0.032448,    0.032216,    0.031985,    0.031753,    0.031522,     0.03129,    0.031059,    0.030745,    0.030323,    0.029902,     0.02948,    0.029059,    0.028637,    0.028215,\n",
      "           0.027793,    0.027371,    0.026949,    0.026526,    0.026104,    0.025681,    0.025258,    0.024835,    0.024412,    0.023989,    0.023566,    0.023143,    0.022719,    0.022295,    0.021871,    0.021447,    0.021023,    0.020437,    0.019467,    0.018497,    0.017526,    0.016555,    0.015584,\n",
      "           0.014612,    0.013639,    0.012666,    0.011692,    0.010717,    0.010102,    0.009648,   0.0091937,   0.0087393,    0.008285,   0.0078307,   0.0073763,    0.006922,   0.0064677,   0.0060133,    0.005559,   0.0051046,   0.0046503,    0.004196,   0.0037416,   0.0032873,    0.002833,   0.0023786,\n",
      "          0.0019243,     0.00147,   0.0010156,  0.00056128,  0.00010694,           0,           0,           0,           0,           0,           0,           0,           0,           0,           0,           0,           0,           0,           0,           0,           0,           0,           0,\n",
      "                  0,           0,           0,           0,           0,           0,           0,           0,           0,           0,           0,           0,           0,           0,           0,           0,           0,           0,           0,           0,           0,           0,           0,\n",
      "                  0,           0,           0,           0,           0,           0,           0,           0,           0,           0,           0,           0,           0,           0,           0,           0,           0,           0,           0,           0,           0,           0,           0,\n",
      "                  0,           0,           0,           0,           0,           0,           0,           0,           0,           0,           0,           0,           0,           0,           0,           0,           0,           0,           0,           0,           0,           0,           0,\n",
      "                  0,           0,           0,           0,           0,           0,           0,           0,           0,           0,           0,           0,           0,           0,           0,           0,           0,           0,           0,           0,           0,           0,           0,\n",
      "                  0,           0,           0,           0,           0,           0,           0,           0,           0,           0,           0,           0,           0,           0,           0,           0,           0,           0,           0,           0,           0,           0,           0,\n",
      "                  0,           0,           0,           0,           0,           0,           0,           0,           0,           0,           0,           0,           0,           0,           0,           0,           0,           0,           0,           0,           0,           0,           0,\n",
      "                  0,           0,           0,           0,           0,           0,           0,           0,           0,           0,           0,           0,           0,           0,           0,           0,           0,           0,           0,           0,           0,           0,           0,\n",
      "                  0,           0,           0,           0,           0,           0,           0,           0,           0,           0,           0,           0,           0,           0,           0,           0,           0,           0,           0,           0,           0,           0,           0,\n",
      "                  0,           0,           0,           0,           0,           0,           0,           0,           0,           0,           0,           0,           0,           0,           0,           0,           0,           0,           0,           0,           0,           0,           0,\n",
      "                  0,           0,           0,           0,           0,           0,           0,           0,           0,           0,           0,           0,           0,           0,           0,           0,           0,           0,           0,           0,           0,           0,           0,\n",
      "                  0,           0,           0,           0,           0,           0,           0,           0,           0,           0,           0,           0,           0,           0,           0,           0,           0,           0,           0,           0,           0,           0,           0,\n",
      "                  0,           0,           0,           0,           0,           0,           0,           0,           0,           0,           0,           0,           0,           0,           0,           0,           0,           0,           0,           0,           0,           0,           0,\n",
      "                  0,           0,           0,           0,           0,           0,           0,           0,           0,           0,           0]]), 'Confidence', 'F1'], [array([          0,    0.001001,    0.002002,    0.003003,    0.004004,    0.005005,    0.006006,    0.007007,    0.008008,    0.009009,     0.01001,    0.011011,    0.012012,    0.013013,    0.014014,    0.015015,    0.016016,    0.017017,    0.018018,    0.019019,     0.02002,    0.021021,    0.022022,    0.023023,\n",
      "          0.024024,    0.025025,    0.026026,    0.027027,    0.028028,    0.029029,     0.03003,    0.031031,    0.032032,    0.033033,    0.034034,    0.035035,    0.036036,    0.037037,    0.038038,    0.039039,     0.04004,    0.041041,    0.042042,    0.043043,    0.044044,    0.045045,    0.046046,    0.047047,\n",
      "          0.048048,    0.049049,     0.05005,    0.051051,    0.052052,    0.053053,    0.054054,    0.055055,    0.056056,    0.057057,    0.058058,    0.059059,     0.06006,    0.061061,    0.062062,    0.063063,    0.064064,    0.065065,    0.066066,    0.067067,    0.068068,    0.069069,     0.07007,    0.071071,\n",
      "          0.072072,    0.073073,    0.074074,    0.075075,    0.076076,    0.077077,    0.078078,    0.079079,     0.08008,    0.081081,    0.082082,    0.083083,    0.084084,    0.085085,    0.086086,    0.087087,    0.088088,    0.089089,     0.09009,    0.091091,    0.092092,    0.093093,    0.094094,    0.095095,\n",
      "          0.096096,    0.097097,    0.098098,    0.099099,      0.1001,      0.1011,      0.1021,      0.1031,      0.1041,     0.10511,     0.10611,     0.10711,     0.10811,     0.10911,     0.11011,     0.11111,     0.11211,     0.11311,     0.11411,     0.11512,     0.11612,     0.11712,     0.11812,     0.11912,\n",
      "           0.12012,     0.12112,     0.12212,     0.12312,     0.12412,     0.12513,     0.12613,     0.12713,     0.12813,     0.12913,     0.13013,     0.13113,     0.13213,     0.13313,     0.13413,     0.13514,     0.13614,     0.13714,     0.13814,     0.13914,     0.14014,     0.14114,     0.14214,     0.14314,\n",
      "           0.14414,     0.14515,     0.14615,     0.14715,     0.14815,     0.14915,     0.15015,     0.15115,     0.15215,     0.15315,     0.15415,     0.15516,     0.15616,     0.15716,     0.15816,     0.15916,     0.16016,     0.16116,     0.16216,     0.16316,     0.16416,     0.16517,     0.16617,     0.16717,\n",
      "           0.16817,     0.16917,     0.17017,     0.17117,     0.17217,     0.17317,     0.17417,     0.17518,     0.17618,     0.17718,     0.17818,     0.17918,     0.18018,     0.18118,     0.18218,     0.18318,     0.18418,     0.18519,     0.18619,     0.18719,     0.18819,     0.18919,     0.19019,     0.19119,\n",
      "           0.19219,     0.19319,     0.19419,      0.1952,      0.1962,      0.1972,      0.1982,      0.1992,      0.2002,      0.2012,      0.2022,      0.2032,      0.2042,     0.20521,     0.20621,     0.20721,     0.20821,     0.20921,     0.21021,     0.21121,     0.21221,     0.21321,     0.21421,     0.21522,\n",
      "           0.21622,     0.21722,     0.21822,     0.21922,     0.22022,     0.22122,     0.22222,     0.22322,     0.22422,     0.22523,     0.22623,     0.22723,     0.22823,     0.22923,     0.23023,     0.23123,     0.23223,     0.23323,     0.23423,     0.23524,     0.23624,     0.23724,     0.23824,     0.23924,\n",
      "           0.24024,     0.24124,     0.24224,     0.24324,     0.24424,     0.24525,     0.24625,     0.24725,     0.24825,     0.24925,     0.25025,     0.25125,     0.25225,     0.25325,     0.25425,     0.25526,     0.25626,     0.25726,     0.25826,     0.25926,     0.26026,     0.26126,     0.26226,     0.26326,\n",
      "           0.26426,     0.26527,     0.26627,     0.26727,     0.26827,     0.26927,     0.27027,     0.27127,     0.27227,     0.27327,     0.27427,     0.27528,     0.27628,     0.27728,     0.27828,     0.27928,     0.28028,     0.28128,     0.28228,     0.28328,     0.28428,     0.28529,     0.28629,     0.28729,\n",
      "           0.28829,     0.28929,     0.29029,     0.29129,     0.29229,     0.29329,     0.29429,      0.2953,      0.2963,      0.2973,      0.2983,      0.2993,      0.3003,      0.3013,      0.3023,      0.3033,      0.3043,     0.30531,     0.30631,     0.30731,     0.30831,     0.30931,     0.31031,     0.31131,\n",
      "           0.31231,     0.31331,     0.31431,     0.31532,     0.31632,     0.31732,     0.31832,     0.31932,     0.32032,     0.32132,     0.32232,     0.32332,     0.32432,     0.32533,     0.32633,     0.32733,     0.32833,     0.32933,     0.33033,     0.33133,     0.33233,     0.33333,     0.33433,     0.33534,\n",
      "           0.33634,     0.33734,     0.33834,     0.33934,     0.34034,     0.34134,     0.34234,     0.34334,     0.34434,     0.34535,     0.34635,     0.34735,     0.34835,     0.34935,     0.35035,     0.35135,     0.35235,     0.35335,     0.35435,     0.35536,     0.35636,     0.35736,     0.35836,     0.35936,\n",
      "           0.36036,     0.36136,     0.36236,     0.36336,     0.36436,     0.36537,     0.36637,     0.36737,     0.36837,     0.36937,     0.37037,     0.37137,     0.37237,     0.37337,     0.37437,     0.37538,     0.37638,     0.37738,     0.37838,     0.37938,     0.38038,     0.38138,     0.38238,     0.38338,\n",
      "           0.38438,     0.38539,     0.38639,     0.38739,     0.38839,     0.38939,     0.39039,     0.39139,     0.39239,     0.39339,     0.39439,      0.3954,      0.3964,      0.3974,      0.3984,      0.3994,      0.4004,      0.4014,      0.4024,      0.4034,      0.4044,     0.40541,     0.40641,     0.40741,\n",
      "           0.40841,     0.40941,     0.41041,     0.41141,     0.41241,     0.41341,     0.41441,     0.41542,     0.41642,     0.41742,     0.41842,     0.41942,     0.42042,     0.42142,     0.42242,     0.42342,     0.42442,     0.42543,     0.42643,     0.42743,     0.42843,     0.42943,     0.43043,     0.43143,\n",
      "           0.43243,     0.43343,     0.43443,     0.43544,     0.43644,     0.43744,     0.43844,     0.43944,     0.44044,     0.44144,     0.44244,     0.44344,     0.44444,     0.44545,     0.44645,     0.44745,     0.44845,     0.44945,     0.45045,     0.45145,     0.45245,     0.45345,     0.45445,     0.45546,\n",
      "           0.45646,     0.45746,     0.45846,     0.45946,     0.46046,     0.46146,     0.46246,     0.46346,     0.46446,     0.46547,     0.46647,     0.46747,     0.46847,     0.46947,     0.47047,     0.47147,     0.47247,     0.47347,     0.47447,     0.47548,     0.47648,     0.47748,     0.47848,     0.47948,\n",
      "           0.48048,     0.48148,     0.48248,     0.48348,     0.48448,     0.48549,     0.48649,     0.48749,     0.48849,     0.48949,     0.49049,     0.49149,     0.49249,     0.49349,     0.49449,      0.4955,      0.4965,      0.4975,      0.4985,      0.4995,      0.5005,      0.5015,      0.5025,      0.5035,\n",
      "            0.5045,     0.50551,     0.50651,     0.50751,     0.50851,     0.50951,     0.51051,     0.51151,     0.51251,     0.51351,     0.51451,     0.51552,     0.51652,     0.51752,     0.51852,     0.51952,     0.52052,     0.52152,     0.52252,     0.52352,     0.52452,     0.52553,     0.52653,     0.52753,\n",
      "           0.52853,     0.52953,     0.53053,     0.53153,     0.53253,     0.53353,     0.53453,     0.53554,     0.53654,     0.53754,     0.53854,     0.53954,     0.54054,     0.54154,     0.54254,     0.54354,     0.54454,     0.54555,     0.54655,     0.54755,     0.54855,     0.54955,     0.55055,     0.55155,\n",
      "           0.55255,     0.55355,     0.55455,     0.55556,     0.55656,     0.55756,     0.55856,     0.55956,     0.56056,     0.56156,     0.56256,     0.56356,     0.56456,     0.56557,     0.56657,     0.56757,     0.56857,     0.56957,     0.57057,     0.57157,     0.57257,     0.57357,     0.57457,     0.57558,\n",
      "           0.57658,     0.57758,     0.57858,     0.57958,     0.58058,     0.58158,     0.58258,     0.58358,     0.58458,     0.58559,     0.58659,     0.58759,     0.58859,     0.58959,     0.59059,     0.59159,     0.59259,     0.59359,     0.59459,      0.5956,      0.5966,      0.5976,      0.5986,      0.5996,\n",
      "            0.6006,      0.6016,      0.6026,      0.6036,      0.6046,     0.60561,     0.60661,     0.60761,     0.60861,     0.60961,     0.61061,     0.61161,     0.61261,     0.61361,     0.61461,     0.61562,     0.61662,     0.61762,     0.61862,     0.61962,     0.62062,     0.62162,     0.62262,     0.62362,\n",
      "           0.62462,     0.62563,     0.62663,     0.62763,     0.62863,     0.62963,     0.63063,     0.63163,     0.63263,     0.63363,     0.63463,     0.63564,     0.63664,     0.63764,     0.63864,     0.63964,     0.64064,     0.64164,     0.64264,     0.64364,     0.64464,     0.64565,     0.64665,     0.64765,\n",
      "           0.64865,     0.64965,     0.65065,     0.65165,     0.65265,     0.65365,     0.65465,     0.65566,     0.65666,     0.65766,     0.65866,     0.65966,     0.66066,     0.66166,     0.66266,     0.66366,     0.66466,     0.66567,     0.66667,     0.66767,     0.66867,     0.66967,     0.67067,     0.67167,\n",
      "           0.67267,     0.67367,     0.67467,     0.67568,     0.67668,     0.67768,     0.67868,     0.67968,     0.68068,     0.68168,     0.68268,     0.68368,     0.68468,     0.68569,     0.68669,     0.68769,     0.68869,     0.68969,     0.69069,     0.69169,     0.69269,     0.69369,     0.69469,      0.6957,\n",
      "            0.6967,      0.6977,      0.6987,      0.6997,      0.7007,      0.7017,      0.7027,      0.7037,      0.7047,     0.70571,     0.70671,     0.70771,     0.70871,     0.70971,     0.71071,     0.71171,     0.71271,     0.71371,     0.71471,     0.71572,     0.71672,     0.71772,     0.71872,     0.71972,\n",
      "           0.72072,     0.72172,     0.72272,     0.72372,     0.72472,     0.72573,     0.72673,     0.72773,     0.72873,     0.72973,     0.73073,     0.73173,     0.73273,     0.73373,     0.73473,     0.73574,     0.73674,     0.73774,     0.73874,     0.73974,     0.74074,     0.74174,     0.74274,     0.74374,\n",
      "           0.74474,     0.74575,     0.74675,     0.74775,     0.74875,     0.74975,     0.75075,     0.75175,     0.75275,     0.75375,     0.75475,     0.75576,     0.75676,     0.75776,     0.75876,     0.75976,     0.76076,     0.76176,     0.76276,     0.76376,     0.76476,     0.76577,     0.76677,     0.76777,\n",
      "           0.76877,     0.76977,     0.77077,     0.77177,     0.77277,     0.77377,     0.77477,     0.77578,     0.77678,     0.77778,     0.77878,     0.77978,     0.78078,     0.78178,     0.78278,     0.78378,     0.78478,     0.78579,     0.78679,     0.78779,     0.78879,     0.78979,     0.79079,     0.79179,\n",
      "           0.79279,     0.79379,     0.79479,      0.7958,      0.7968,      0.7978,      0.7988,      0.7998,      0.8008,      0.8018,      0.8028,      0.8038,      0.8048,     0.80581,     0.80681,     0.80781,     0.80881,     0.80981,     0.81081,     0.81181,     0.81281,     0.81381,     0.81481,     0.81582,\n",
      "           0.81682,     0.81782,     0.81882,     0.81982,     0.82082,     0.82182,     0.82282,     0.82382,     0.82482,     0.82583,     0.82683,     0.82783,     0.82883,     0.82983,     0.83083,     0.83183,     0.83283,     0.83383,     0.83483,     0.83584,     0.83684,     0.83784,     0.83884,     0.83984,\n",
      "           0.84084,     0.84184,     0.84284,     0.84384,     0.84484,     0.84585,     0.84685,     0.84785,     0.84885,     0.84985,     0.85085,     0.85185,     0.85285,     0.85385,     0.85485,     0.85586,     0.85686,     0.85786,     0.85886,     0.85986,     0.86086,     0.86186,     0.86286,     0.86386,\n",
      "           0.86486,     0.86587,     0.86687,     0.86787,     0.86887,     0.86987,     0.87087,     0.87187,     0.87287,     0.87387,     0.87487,     0.87588,     0.87688,     0.87788,     0.87888,     0.87988,     0.88088,     0.88188,     0.88288,     0.88388,     0.88488,     0.88589,     0.88689,     0.88789,\n",
      "           0.88889,     0.88989,     0.89089,     0.89189,     0.89289,     0.89389,     0.89489,      0.8959,      0.8969,      0.8979,      0.8989,      0.8999,      0.9009,      0.9019,      0.9029,      0.9039,      0.9049,     0.90591,     0.90691,     0.90791,     0.90891,     0.90991,     0.91091,     0.91191,\n",
      "           0.91291,     0.91391,     0.91491,     0.91592,     0.91692,     0.91792,     0.91892,     0.91992,     0.92092,     0.92192,     0.92292,     0.92392,     0.92492,     0.92593,     0.92693,     0.92793,     0.92893,     0.92993,     0.93093,     0.93193,     0.93293,     0.93393,     0.93493,     0.93594,\n",
      "           0.93694,     0.93794,     0.93894,     0.93994,     0.94094,     0.94194,     0.94294,     0.94394,     0.94494,     0.94595,     0.94695,     0.94795,     0.94895,     0.94995,     0.95095,     0.95195,     0.95295,     0.95395,     0.95495,     0.95596,     0.95696,     0.95796,     0.95896,     0.95996,\n",
      "           0.96096,     0.96196,     0.96296,     0.96396,     0.96496,     0.96597,     0.96697,     0.96797,     0.96897,     0.96997,     0.97097,     0.97197,     0.97297,     0.97397,     0.97497,     0.97598,     0.97698,     0.97798,     0.97898,     0.97998,     0.98098,     0.98198,     0.98298,     0.98398,\n",
      "           0.98498,     0.98599,     0.98699,     0.98799,     0.98899,     0.98999,     0.99099,     0.99199,     0.99299,     0.99399,     0.99499,       0.996,       0.997,       0.998,       0.999,           1]), array([[    0.02425,     0.02425,    0.026357,    0.029656,    0.033162,    0.035891,    0.038611,     0.04079,    0.042887,    0.044957,     0.04681,    0.048674,    0.050275,    0.051765,    0.053542,    0.055608,    0.057175,    0.058691,    0.059981,    0.061067,    0.062057,    0.063479,    0.064822,\n",
      "           0.065542,     0.06695,    0.068632,     0.07069,    0.072034,    0.073532,    0.075063,    0.075809,    0.076959,    0.078409,    0.079455,    0.080803,    0.082516,    0.082946,    0.084094,    0.084736,    0.086012,     0.08639,    0.088417,    0.090398,    0.091337,    0.092052,    0.093722,\n",
      "           0.095003,    0.097211,    0.097798,    0.098864,     0.10044,     0.10211,     0.10368,     0.10471,     0.10581,     0.10764,     0.10894,     0.11094,     0.11268,     0.11416,     0.11669,     0.11951,     0.12019,      0.1226,     0.12351,     0.12519,     0.12735,      0.1272,      0.1294,\n",
      "            0.13117,     0.13268,     0.13513,     0.13623,     0.13738,     0.13812,     0.14003,     0.14108,     0.14362,     0.14683,     0.14891,     0.15046,     0.15293,     0.15526,     0.15785,     0.15992,     0.16021,     0.16301,     0.16433,      0.1668,     0.16762,     0.16842,     0.16966,\n",
      "            0.17164,     0.17403,     0.17617,     0.17585,     0.17752,     0.17843,     0.17976,     0.18115,     0.18208,     0.18388,     0.18364,     0.18623,     0.18701,     0.19034,     0.19143,      0.1916,     0.19263,     0.19274,      0.1926,     0.19503,     0.19671,     0.19901,     0.20084,\n",
      "            0.20152,     0.20267,     0.20506,     0.20814,     0.20986,     0.20957,     0.21082,     0.21312,      0.2137,     0.21576,      0.2193,     0.22147,     0.22413,     0.22595,     0.22725,     0.23144,     0.23439,     0.23792,     0.23995,     0.24218,     0.24483,     0.24767,      0.2459,\n",
      "            0.24685,     0.24943,      0.2507,     0.25043,     0.25293,     0.25491,     0.25709,      0.2548,     0.25612,     0.26006,     0.26123,     0.26543,      0.2675,      0.2682,     0.26958,     0.27088,     0.27285,     0.27285,     0.27689,     0.27652,     0.27979,     0.28346,     0.28547,\n",
      "            0.28276,     0.28588,     0.28771,     0.29198,      0.2957,     0.29501,     0.29306,     0.29851,     0.29781,     0.29935,     0.30008,     0.30114,     0.30296,     0.30528,     0.30689,     0.30964,     0.31063,     0.31139,     0.31156,     0.31322,     0.31644,     0.31359,     0.31317,\n",
      "            0.31311,     0.31405,     0.31631,     0.31925,     0.32404,     0.33014,     0.32535,     0.32153,     0.31884,     0.32316,     0.32814,     0.33334,     0.33335,     0.33407,      0.3352,     0.34307,     0.34569,     0.34124,     0.34438,     0.34719,     0.35116,      0.3531,     0.35681,\n",
      "            0.36031,     0.35548,     0.35752,     0.35713,     0.35946,     0.36081,     0.36322,     0.36634,     0.37197,     0.37738,     0.37849,     0.38008,     0.38446,     0.38201,     0.38587,     0.38649,     0.38711,     0.38773,     0.38871,      0.3897,     0.38959,     0.39139,     0.39262,\n",
      "            0.40359,     0.40713,     0.40707,     0.40984,     0.40983,      0.4141,     0.41529,     0.41519,     0.41167,     0.41787,     0.42156,     0.42201,     0.42336,     0.42693,     0.42934,     0.42792,     0.43229,     0.43435,     0.43564,      0.4335,     0.42514,     0.42857,     0.43631,\n",
      "            0.43531,     0.43431,     0.43331,     0.43538,     0.43831,     0.44296,     0.44632,     0.44556,     0.44283,     0.44042,     0.43897,     0.43521,     0.43712,     0.43769,     0.43551,     0.43674,     0.44066,     0.42924,     0.42884,      0.4308,     0.42779,     0.42743,     0.42974,\n",
      "             0.4338,     0.43652,     0.43443,     0.43302,     0.43709,     0.43516,     0.43625,     0.43733,     0.43841,     0.44089,      0.4446,     0.45012,       0.446,     0.44905,     0.45471,     0.46228,     0.46944,     0.47526,     0.46648,     0.46548,     0.46676,     0.46803,     0.46931,\n",
      "            0.48236,      0.4836,     0.49085,     0.49209,     0.48931,       0.491,      0.4927,      0.4943,      0.4897,     0.49261,     0.49073,     0.49759,     0.49686,     0.49798,     0.49981,     0.50113,     0.50227,     0.50342,     0.50457,     0.50572,     0.50795,     0.51144,     0.53997,\n",
      "            0.54211,     0.54799,     0.53697,     0.54051,     0.54333,     0.53971,     0.53602,     0.53221,     0.53287,     0.53801,     0.53311,     0.53871,     0.53069,     0.52873,     0.52678,     0.52482,     0.53268,     0.52986,     0.52704,     0.52454,     0.52246,     0.52038,      0.5183,\n",
      "            0.52504,     0.53476,     0.53315,     0.53028,     0.52742,     0.52923,      0.5313,     0.53336,     0.53542,     0.53882,     0.54703,     0.54434,     0.54147,     0.53859,     0.54727,     0.54108,      0.5464,     0.55153,     0.55542,      0.5593,     0.56394,      0.5721,     0.57203,\n",
      "            0.56859,     0.56531,     0.57014,     0.57497,     0.57579,     0.57104,     0.56882,     0.57041,       0.572,     0.57359,     0.57519,     0.57678,     0.57837,     0.57996,     0.58087,     0.57569,     0.56877,     0.56297,     0.56716,     0.57136,     0.57539,     0.57838,     0.58136,\n",
      "            0.58435,     0.58734,     0.58943,     0.58783,     0.58622,     0.58462,     0.58302,     0.58142,     0.57981,     0.57825,     0.57673,     0.57521,     0.57369,     0.57217,     0.57065,     0.56913,     0.56761,     0.55757,     0.54645,     0.53196,     0.53693,     0.54191,     0.54334,\n",
      "            0.53597,     0.52851,     0.52086,     0.51829,     0.52397,     0.52965,     0.54962,     0.53727,     0.53725,       0.539,     0.54075,      0.5425,     0.54425,       0.546,     0.54776,     0.54951,     0.55126,     0.55301,     0.55476,     0.55735,     0.56063,     0.56392,      0.5672,\n",
      "            0.57048,     0.57377,     0.57652,     0.56599,     0.56413,     0.57371,     0.58329,     0.57158,     0.55853,     0.54353,     0.52392,      0.5169,     0.50996,     0.50302,     0.48221,     0.45602,     0.45652,       0.472,     0.47562,     0.47923,     0.48285,     0.48647,     0.49008,\n",
      "             0.4937,     0.49731,     0.49685,     0.48459,     0.47232,     0.49852,     0.53608,     0.51914,      0.5022,     0.50161,     0.50347,     0.50532,     0.50718,     0.50903,     0.51089,     0.51274,      0.5146,     0.51645,     0.51831,     0.52016,     0.52202,     0.52387,     0.52573,\n",
      "            0.52758,     0.52944,     0.53129,     0.53314,       0.535,     0.53685,     0.53871,     0.54056,     0.54242,     0.54427,     0.54462,     0.54232,     0.54001,     0.53771,     0.53541,     0.53311,     0.53081,     0.52851,      0.5262,      0.5239,      0.5216,      0.5193,       0.517,\n",
      "            0.51469,     0.51239,     0.51009,     0.50779,     0.50549,     0.50319,     0.50088,     0.54736,     0.56331,     0.57199,     0.58068,     0.58936,     0.59804,     0.60672,      0.6154,     0.62408,     0.65523,     0.68903,     0.71559,     0.72075,      0.7259,     0.73106,     0.73621,\n",
      "            0.74137,     0.74653,     0.75168,     0.75684,     0.76199,     0.76715,     0.77231,     0.77746,     0.78262,     0.78777,     0.79293,     0.79809,     0.80324,      0.8084,     0.81355,     0.81871,     0.82387,     0.82902,     0.83321,     0.83249,     0.83176,     0.83104,     0.83031,\n",
      "            0.82959,     0.82886,     0.82814,     0.82741,     0.82669,     0.82596,     0.82524,     0.82451,     0.82379,     0.82306,     0.82233,     0.82161,     0.82088,     0.82016,     0.81943,     0.81871,     0.81798,     0.81726,     0.81653,     0.81581,     0.81508,     0.81436,     0.81363,\n",
      "            0.81291,     0.81218,     0.81145,     0.81073,        0.81,     0.80928,     0.80855,     0.80783,      0.8071,     0.80638,     0.80565,     0.80493,      0.8042,     0.80348,     0.80275,     0.80202,      0.8013,     0.80057,     0.79976,     0.79862,     0.79748,     0.79634,     0.79519,\n",
      "            0.79405,     0.79291,     0.79177,     0.79062,     0.78948,     0.78834,      0.7872,     0.78606,     0.78491,     0.78377,     0.78263,     0.78149,     0.78034,      0.7792,     0.77806,     0.77692,     0.77578,     0.77463,     0.77349,     0.77235,     0.77121,     0.77006,     0.76892,\n",
      "            0.76778,     0.76664,     0.76549,     0.76435,     0.76321,     0.76207,     0.76093,     0.75978,     0.75864,      0.7575,     0.75636,     0.75521,     0.75407,     0.75293,     0.75179,     0.75065,      0.7485,     0.74505,     0.74159,     0.73814,     0.73469,     0.73124,     0.72778,\n",
      "            0.72433,     0.72088,     0.71743,     0.71397,     0.71052,     0.70707,     0.70362,     0.70016,     0.69671,     0.69326,     0.68981,     0.68635,      0.6829,     0.67945,       0.676,     0.67254,     0.66909,     0.66199,     0.64627,     0.63056,     0.61484,     0.59913,     0.58342,\n",
      "             0.5677,     0.55199,     0.53627,     0.52056,     0.50484,     0.48491,      0.4631,      0.4413,     0.41949,     0.39768,     0.37587,     0.35406,     0.33226,     0.31045,     0.28864,     0.26683,     0.24502,     0.22321,     0.20141,      0.1796,     0.15779,     0.13598,     0.11417,\n",
      "           0.092366,    0.070558,     0.04875,    0.026941,   0.0051333,           1,           1,           1,           1,           1,           1,           1,           1,           1,           1,           1,           1,           1,           1,           1,           1,           1,           1,\n",
      "                  1,           1,           1,           1,           1,           1,           1,           1,           1,           1,           1,           1,           1,           1,           1,           1,           1,           1,           1,           1,           1,           1,           1,\n",
      "                  1,           1,           1,           1,           1,           1,           1,           1,           1,           1,           1,           1,           1,           1,           1,           1,           1,           1,           1,           1,           1,           1,           1,\n",
      "                  1,           1,           1,           1,           1,           1,           1,           1,           1,           1,           1,           1,           1,           1,           1,           1,           1,           1,           1,           1,           1,           1,           1,\n",
      "                  1,           1,           1,           1,           1,           1,           1,           1,           1,           1,           1,           1,           1,           1,           1,           1,           1,           1,           1,           1,           1,           1,           1,\n",
      "                  1,           1,           1,           1,           1,           1,           1,           1,           1,           1,           1,           1,           1,           1,           1,           1,           1,           1,           1,           1,           1,           1,           1,\n",
      "                  1,           1,           1,           1,           1,           1,           1,           1,           1,           1,           1,           1,           1,           1,           1,           1,           1,           1,           1,           1,           1,           1,           1,\n",
      "                  1,           1,           1,           1,           1,           1,           1,           1,           1,           1,           1,           1,           1,           1,           1,           1,           1,           1,           1,           1,           1,           1,           1,\n",
      "                  1,           1,           1,           1,           1,           1,           1,           1,           1,           1,           1,           1,           1,           1,           1,           1,           1,           1,           1,           1,           1,           1,           1,\n",
      "                  1,           1,           1,           1,           1,           1,           1,           1,           1,           1,           1,           1,           1,           1,           1,           1,           1,           1,           1,           1,           1,           1,           1,\n",
      "                  1,           1,           1,           1,           1,           1,           1,           1,           1,           1,           1,           1,           1,           1,           1,           1,           1,           1,           1,           1,           1,           1,           1,\n",
      "                  1,           1,           1,           1,           1,           1,           1,           1,           1,           1,           1,           1,           1,           1,           1,           1,           1,           1,           1,           1,           1,           1,           1,\n",
      "                  1,           1,           1,           1,           1,           1,           1,           1,           1,           1,           1,           1,           1,           1,           1,           1,           1,           1,           1,           1,           1,           1,           1,\n",
      "                  1,           1,           1,           1,           1,           1,           1,           1,           1,           1,           1]]), 'Confidence', 'Precision'], [array([          0,    0.001001,    0.002002,    0.003003,    0.004004,    0.005005,    0.006006,    0.007007,    0.008008,    0.009009,     0.01001,    0.011011,    0.012012,    0.013013,    0.014014,    0.015015,    0.016016,    0.017017,    0.018018,    0.019019,     0.02002,    0.021021,    0.022022,    0.023023,\n",
      "          0.024024,    0.025025,    0.026026,    0.027027,    0.028028,    0.029029,     0.03003,    0.031031,    0.032032,    0.033033,    0.034034,    0.035035,    0.036036,    0.037037,    0.038038,    0.039039,     0.04004,    0.041041,    0.042042,    0.043043,    0.044044,    0.045045,    0.046046,    0.047047,\n",
      "          0.048048,    0.049049,     0.05005,    0.051051,    0.052052,    0.053053,    0.054054,    0.055055,    0.056056,    0.057057,    0.058058,    0.059059,     0.06006,    0.061061,    0.062062,    0.063063,    0.064064,    0.065065,    0.066066,    0.067067,    0.068068,    0.069069,     0.07007,    0.071071,\n",
      "          0.072072,    0.073073,    0.074074,    0.075075,    0.076076,    0.077077,    0.078078,    0.079079,     0.08008,    0.081081,    0.082082,    0.083083,    0.084084,    0.085085,    0.086086,    0.087087,    0.088088,    0.089089,     0.09009,    0.091091,    0.092092,    0.093093,    0.094094,    0.095095,\n",
      "          0.096096,    0.097097,    0.098098,    0.099099,      0.1001,      0.1011,      0.1021,      0.1031,      0.1041,     0.10511,     0.10611,     0.10711,     0.10811,     0.10911,     0.11011,     0.11111,     0.11211,     0.11311,     0.11411,     0.11512,     0.11612,     0.11712,     0.11812,     0.11912,\n",
      "           0.12012,     0.12112,     0.12212,     0.12312,     0.12412,     0.12513,     0.12613,     0.12713,     0.12813,     0.12913,     0.13013,     0.13113,     0.13213,     0.13313,     0.13413,     0.13514,     0.13614,     0.13714,     0.13814,     0.13914,     0.14014,     0.14114,     0.14214,     0.14314,\n",
      "           0.14414,     0.14515,     0.14615,     0.14715,     0.14815,     0.14915,     0.15015,     0.15115,     0.15215,     0.15315,     0.15415,     0.15516,     0.15616,     0.15716,     0.15816,     0.15916,     0.16016,     0.16116,     0.16216,     0.16316,     0.16416,     0.16517,     0.16617,     0.16717,\n",
      "           0.16817,     0.16917,     0.17017,     0.17117,     0.17217,     0.17317,     0.17417,     0.17518,     0.17618,     0.17718,     0.17818,     0.17918,     0.18018,     0.18118,     0.18218,     0.18318,     0.18418,     0.18519,     0.18619,     0.18719,     0.18819,     0.18919,     0.19019,     0.19119,\n",
      "           0.19219,     0.19319,     0.19419,      0.1952,      0.1962,      0.1972,      0.1982,      0.1992,      0.2002,      0.2012,      0.2022,      0.2032,      0.2042,     0.20521,     0.20621,     0.20721,     0.20821,     0.20921,     0.21021,     0.21121,     0.21221,     0.21321,     0.21421,     0.21522,\n",
      "           0.21622,     0.21722,     0.21822,     0.21922,     0.22022,     0.22122,     0.22222,     0.22322,     0.22422,     0.22523,     0.22623,     0.22723,     0.22823,     0.22923,     0.23023,     0.23123,     0.23223,     0.23323,     0.23423,     0.23524,     0.23624,     0.23724,     0.23824,     0.23924,\n",
      "           0.24024,     0.24124,     0.24224,     0.24324,     0.24424,     0.24525,     0.24625,     0.24725,     0.24825,     0.24925,     0.25025,     0.25125,     0.25225,     0.25325,     0.25425,     0.25526,     0.25626,     0.25726,     0.25826,     0.25926,     0.26026,     0.26126,     0.26226,     0.26326,\n",
      "           0.26426,     0.26527,     0.26627,     0.26727,     0.26827,     0.26927,     0.27027,     0.27127,     0.27227,     0.27327,     0.27427,     0.27528,     0.27628,     0.27728,     0.27828,     0.27928,     0.28028,     0.28128,     0.28228,     0.28328,     0.28428,     0.28529,     0.28629,     0.28729,\n",
      "           0.28829,     0.28929,     0.29029,     0.29129,     0.29229,     0.29329,     0.29429,      0.2953,      0.2963,      0.2973,      0.2983,      0.2993,      0.3003,      0.3013,      0.3023,      0.3033,      0.3043,     0.30531,     0.30631,     0.30731,     0.30831,     0.30931,     0.31031,     0.31131,\n",
      "           0.31231,     0.31331,     0.31431,     0.31532,     0.31632,     0.31732,     0.31832,     0.31932,     0.32032,     0.32132,     0.32232,     0.32332,     0.32432,     0.32533,     0.32633,     0.32733,     0.32833,     0.32933,     0.33033,     0.33133,     0.33233,     0.33333,     0.33433,     0.33534,\n",
      "           0.33634,     0.33734,     0.33834,     0.33934,     0.34034,     0.34134,     0.34234,     0.34334,     0.34434,     0.34535,     0.34635,     0.34735,     0.34835,     0.34935,     0.35035,     0.35135,     0.35235,     0.35335,     0.35435,     0.35536,     0.35636,     0.35736,     0.35836,     0.35936,\n",
      "           0.36036,     0.36136,     0.36236,     0.36336,     0.36436,     0.36537,     0.36637,     0.36737,     0.36837,     0.36937,     0.37037,     0.37137,     0.37237,     0.37337,     0.37437,     0.37538,     0.37638,     0.37738,     0.37838,     0.37938,     0.38038,     0.38138,     0.38238,     0.38338,\n",
      "           0.38438,     0.38539,     0.38639,     0.38739,     0.38839,     0.38939,     0.39039,     0.39139,     0.39239,     0.39339,     0.39439,      0.3954,      0.3964,      0.3974,      0.3984,      0.3994,      0.4004,      0.4014,      0.4024,      0.4034,      0.4044,     0.40541,     0.40641,     0.40741,\n",
      "           0.40841,     0.40941,     0.41041,     0.41141,     0.41241,     0.41341,     0.41441,     0.41542,     0.41642,     0.41742,     0.41842,     0.41942,     0.42042,     0.42142,     0.42242,     0.42342,     0.42442,     0.42543,     0.42643,     0.42743,     0.42843,     0.42943,     0.43043,     0.43143,\n",
      "           0.43243,     0.43343,     0.43443,     0.43544,     0.43644,     0.43744,     0.43844,     0.43944,     0.44044,     0.44144,     0.44244,     0.44344,     0.44444,     0.44545,     0.44645,     0.44745,     0.44845,     0.44945,     0.45045,     0.45145,     0.45245,     0.45345,     0.45445,     0.45546,\n",
      "           0.45646,     0.45746,     0.45846,     0.45946,     0.46046,     0.46146,     0.46246,     0.46346,     0.46446,     0.46547,     0.46647,     0.46747,     0.46847,     0.46947,     0.47047,     0.47147,     0.47247,     0.47347,     0.47447,     0.47548,     0.47648,     0.47748,     0.47848,     0.47948,\n",
      "           0.48048,     0.48148,     0.48248,     0.48348,     0.48448,     0.48549,     0.48649,     0.48749,     0.48849,     0.48949,     0.49049,     0.49149,     0.49249,     0.49349,     0.49449,      0.4955,      0.4965,      0.4975,      0.4985,      0.4995,      0.5005,      0.5015,      0.5025,      0.5035,\n",
      "            0.5045,     0.50551,     0.50651,     0.50751,     0.50851,     0.50951,     0.51051,     0.51151,     0.51251,     0.51351,     0.51451,     0.51552,     0.51652,     0.51752,     0.51852,     0.51952,     0.52052,     0.52152,     0.52252,     0.52352,     0.52452,     0.52553,     0.52653,     0.52753,\n",
      "           0.52853,     0.52953,     0.53053,     0.53153,     0.53253,     0.53353,     0.53453,     0.53554,     0.53654,     0.53754,     0.53854,     0.53954,     0.54054,     0.54154,     0.54254,     0.54354,     0.54454,     0.54555,     0.54655,     0.54755,     0.54855,     0.54955,     0.55055,     0.55155,\n",
      "           0.55255,     0.55355,     0.55455,     0.55556,     0.55656,     0.55756,     0.55856,     0.55956,     0.56056,     0.56156,     0.56256,     0.56356,     0.56456,     0.56557,     0.56657,     0.56757,     0.56857,     0.56957,     0.57057,     0.57157,     0.57257,     0.57357,     0.57457,     0.57558,\n",
      "           0.57658,     0.57758,     0.57858,     0.57958,     0.58058,     0.58158,     0.58258,     0.58358,     0.58458,     0.58559,     0.58659,     0.58759,     0.58859,     0.58959,     0.59059,     0.59159,     0.59259,     0.59359,     0.59459,      0.5956,      0.5966,      0.5976,      0.5986,      0.5996,\n",
      "            0.6006,      0.6016,      0.6026,      0.6036,      0.6046,     0.60561,     0.60661,     0.60761,     0.60861,     0.60961,     0.61061,     0.61161,     0.61261,     0.61361,     0.61461,     0.61562,     0.61662,     0.61762,     0.61862,     0.61962,     0.62062,     0.62162,     0.62262,     0.62362,\n",
      "           0.62462,     0.62563,     0.62663,     0.62763,     0.62863,     0.62963,     0.63063,     0.63163,     0.63263,     0.63363,     0.63463,     0.63564,     0.63664,     0.63764,     0.63864,     0.63964,     0.64064,     0.64164,     0.64264,     0.64364,     0.64464,     0.64565,     0.64665,     0.64765,\n",
      "           0.64865,     0.64965,     0.65065,     0.65165,     0.65265,     0.65365,     0.65465,     0.65566,     0.65666,     0.65766,     0.65866,     0.65966,     0.66066,     0.66166,     0.66266,     0.66366,     0.66466,     0.66567,     0.66667,     0.66767,     0.66867,     0.66967,     0.67067,     0.67167,\n",
      "           0.67267,     0.67367,     0.67467,     0.67568,     0.67668,     0.67768,     0.67868,     0.67968,     0.68068,     0.68168,     0.68268,     0.68368,     0.68468,     0.68569,     0.68669,     0.68769,     0.68869,     0.68969,     0.69069,     0.69169,     0.69269,     0.69369,     0.69469,      0.6957,\n",
      "            0.6967,      0.6977,      0.6987,      0.6997,      0.7007,      0.7017,      0.7027,      0.7037,      0.7047,     0.70571,     0.70671,     0.70771,     0.70871,     0.70971,     0.71071,     0.71171,     0.71271,     0.71371,     0.71471,     0.71572,     0.71672,     0.71772,     0.71872,     0.71972,\n",
      "           0.72072,     0.72172,     0.72272,     0.72372,     0.72472,     0.72573,     0.72673,     0.72773,     0.72873,     0.72973,     0.73073,     0.73173,     0.73273,     0.73373,     0.73473,     0.73574,     0.73674,     0.73774,     0.73874,     0.73974,     0.74074,     0.74174,     0.74274,     0.74374,\n",
      "           0.74474,     0.74575,     0.74675,     0.74775,     0.74875,     0.74975,     0.75075,     0.75175,     0.75275,     0.75375,     0.75475,     0.75576,     0.75676,     0.75776,     0.75876,     0.75976,     0.76076,     0.76176,     0.76276,     0.76376,     0.76476,     0.76577,     0.76677,     0.76777,\n",
      "           0.76877,     0.76977,     0.77077,     0.77177,     0.77277,     0.77377,     0.77477,     0.77578,     0.77678,     0.77778,     0.77878,     0.77978,     0.78078,     0.78178,     0.78278,     0.78378,     0.78478,     0.78579,     0.78679,     0.78779,     0.78879,     0.78979,     0.79079,     0.79179,\n",
      "           0.79279,     0.79379,     0.79479,      0.7958,      0.7968,      0.7978,      0.7988,      0.7998,      0.8008,      0.8018,      0.8028,      0.8038,      0.8048,     0.80581,     0.80681,     0.80781,     0.80881,     0.80981,     0.81081,     0.81181,     0.81281,     0.81381,     0.81481,     0.81582,\n",
      "           0.81682,     0.81782,     0.81882,     0.81982,     0.82082,     0.82182,     0.82282,     0.82382,     0.82482,     0.82583,     0.82683,     0.82783,     0.82883,     0.82983,     0.83083,     0.83183,     0.83283,     0.83383,     0.83483,     0.83584,     0.83684,     0.83784,     0.83884,     0.83984,\n",
      "           0.84084,     0.84184,     0.84284,     0.84384,     0.84484,     0.84585,     0.84685,     0.84785,     0.84885,     0.84985,     0.85085,     0.85185,     0.85285,     0.85385,     0.85485,     0.85586,     0.85686,     0.85786,     0.85886,     0.85986,     0.86086,     0.86186,     0.86286,     0.86386,\n",
      "           0.86486,     0.86587,     0.86687,     0.86787,     0.86887,     0.86987,     0.87087,     0.87187,     0.87287,     0.87387,     0.87487,     0.87588,     0.87688,     0.87788,     0.87888,     0.87988,     0.88088,     0.88188,     0.88288,     0.88388,     0.88488,     0.88589,     0.88689,     0.88789,\n",
      "           0.88889,     0.88989,     0.89089,     0.89189,     0.89289,     0.89389,     0.89489,      0.8959,      0.8969,      0.8979,      0.8989,      0.8999,      0.9009,      0.9019,      0.9029,      0.9039,      0.9049,     0.90591,     0.90691,     0.90791,     0.90891,     0.90991,     0.91091,     0.91191,\n",
      "           0.91291,     0.91391,     0.91491,     0.91592,     0.91692,     0.91792,     0.91892,     0.91992,     0.92092,     0.92192,     0.92292,     0.92392,     0.92492,     0.92593,     0.92693,     0.92793,     0.92893,     0.92993,     0.93093,     0.93193,     0.93293,     0.93393,     0.93493,     0.93594,\n",
      "           0.93694,     0.93794,     0.93894,     0.93994,     0.94094,     0.94194,     0.94294,     0.94394,     0.94494,     0.94595,     0.94695,     0.94795,     0.94895,     0.94995,     0.95095,     0.95195,     0.95295,     0.95395,     0.95495,     0.95596,     0.95696,     0.95796,     0.95896,     0.95996,\n",
      "           0.96096,     0.96196,     0.96296,     0.96396,     0.96496,     0.96597,     0.96697,     0.96797,     0.96897,     0.96997,     0.97097,     0.97197,     0.97297,     0.97397,     0.97497,     0.97598,     0.97698,     0.97798,     0.97898,     0.97998,     0.98098,     0.98198,     0.98298,     0.98398,\n",
      "           0.98498,     0.98599,     0.98699,     0.98799,     0.98899,     0.98999,     0.99099,     0.99199,     0.99299,     0.99399,     0.99499,       0.996,       0.997,       0.998,       0.999,           1]), array([[    0.95263,     0.95263,     0.95263,     0.95263,     0.95263,     0.94737,     0.94737,     0.94737,     0.94737,     0.94737,     0.94737,     0.94737,     0.94211,     0.94211,     0.94211,     0.94211,     0.94211,     0.93684,     0.93684,     0.92632,     0.91579,     0.91053,     0.91053,\n",
      "                0.9,         0.9,         0.9,         0.9,         0.9,         0.9,         0.9,     0.89474,     0.88947,     0.88947,     0.88421,     0.88421,     0.88421,     0.87368,     0.87368,     0.85789,     0.85789,     0.84737,     0.84737,     0.84737,     0.83684,     0.83158,     0.83158,\n",
      "            0.83158,     0.83158,     0.82105,     0.81579,     0.81579,     0.81579,     0.81579,     0.81579,     0.81053,     0.81053,     0.81053,     0.81053,     0.81053,     0.81053,     0.81053,     0.81053,     0.80526,     0.80526,         0.8,         0.8,     0.79474,     0.77895,     0.77895,\n",
      "            0.77895,     0.77368,     0.77368,     0.76842,     0.76316,     0.75789,     0.75789,     0.75263,     0.75263,     0.75263,     0.74737,     0.74737,     0.74737,     0.74737,     0.74737,     0.74737,     0.74211,     0.74211,     0.74211,     0.74211,     0.73684,     0.73158,     0.72632,\n",
      "            0.72632,     0.72632,     0.72105,     0.71053,     0.70526,     0.70526,     0.70526,         0.7,     0.69474,     0.69474,     0.68947,     0.68947,     0.68421,     0.68421,     0.67895,     0.67611,     0.67368,     0.66842,     0.65789,     0.65263,     0.65263,     0.65263,     0.65263,\n",
      "            0.64689,     0.64211,     0.64211,     0.64211,     0.63684,     0.63158,     0.62632,     0.62632,      0.6208,     0.61579,     0.61579,     0.61579,     0.61579,     0.61579,     0.61579,     0.61053,     0.61053,     0.61053,     0.61053,     0.61053,     0.61053,     0.61053,     0.60239,\n",
      "                0.6,         0.6,     0.59474,     0.58947,     0.58947,     0.58947,     0.58947,     0.57895,     0.57368,     0.57368,     0.57368,     0.57368,     0.57368,     0.57368,     0.57368,     0.57368,     0.56842,     0.56316,     0.56316,     0.55789,     0.55789,     0.55789,     0.55789,\n",
      "            0.54778,     0.54737,     0.54737,     0.54737,     0.54737,       0.544,     0.53158,     0.53079,     0.52632,     0.51944,     0.51579,     0.51579,     0.51579,     0.51579,     0.51579,     0.51579,     0.51579,     0.51579,     0.51053,     0.50526,     0.50435,     0.49474,     0.48947,\n",
      "            0.48462,     0.47895,     0.47895,     0.47895,     0.47895,     0.47895,     0.46449,     0.45263,     0.44344,     0.44211,     0.44211,     0.44211,     0.43684,     0.43684,     0.43684,     0.43684,     0.43684,     0.42632,     0.42632,     0.42632,     0.42632,      0.4223,     0.42105,\n",
      "            0.42105,     0.41221,     0.41053,     0.40526,     0.40526,     0.40526,     0.40526,     0.40526,     0.40526,     0.40526,     0.40526,     0.40526,     0.40434,         0.4,         0.4,         0.4,         0.4,         0.4,         0.4,         0.4,     0.39474,     0.39474,     0.39474,\n",
      "            0.39474,     0.39474,     0.39025,     0.38947,     0.38421,     0.38421,     0.37895,     0.37368,     0.36316,     0.35789,     0.35789,     0.35263,     0.35263,     0.35263,     0.35263,     0.34737,     0.34211,     0.34211,     0.34211,     0.33832,     0.32632,     0.32632,      0.3259,\n",
      "            0.32459,     0.32327,     0.32196,     0.32105,     0.32105,     0.32105,     0.32105,     0.31723,     0.31374,     0.31068,     0.30475,     0.30012,         0.3,     0.29907,     0.29643,     0.29474,     0.29474,     0.28103,     0.27895,     0.27895,     0.27544,     0.27368,     0.27368,\n",
      "            0.27368,     0.27368,     0.27088,     0.26842,     0.26842,     0.26316,     0.26316,     0.26316,     0.26316,     0.26316,     0.26316,     0.26281,     0.25789,     0.25789,     0.25789,     0.25789,     0.25789,     0.25742,     0.24391,     0.24211,     0.24211,     0.24211,     0.24211,\n",
      "            0.24211,     0.23684,     0.23684,     0.23458,     0.23158,     0.23158,     0.23158,      0.2315,     0.22632,     0.22632,     0.22316,     0.22105,     0.21831,     0.21406,     0.21053,     0.21053,     0.21053,     0.21053,     0.21053,     0.21053,     0.21053,     0.21053,     0.21005,\n",
      "            0.20526,     0.20419,     0.19532,     0.19474,     0.19413,     0.19133,      0.1885,     0.18564,     0.18421,     0.18421,     0.17895,     0.17895,     0.17261,     0.17126,     0.16992,     0.16858,     0.16799,     0.16611,     0.16423,     0.16259,     0.16125,     0.15991,     0.15858,\n",
      "            0.15789,     0.15789,     0.15629,     0.15451,     0.15272,     0.15263,     0.15263,     0.15263,     0.15263,     0.15263,     0.15263,     0.15092,     0.14918,     0.14745,     0.14634,     0.14211,     0.14211,     0.14211,     0.14211,     0.14211,     0.14211,     0.14211,     0.14072,\n",
      "            0.13876,     0.13684,     0.13684,     0.13684,     0.13575,     0.13315,     0.13158,     0.13158,     0.13158,     0.13158,     0.13158,     0.13158,     0.13158,     0.13158,      0.1313,     0.12857,     0.12498,     0.12105,     0.12105,     0.12105,     0.12105,     0.12105,     0.12105,\n",
      "            0.12105,     0.12105,      0.1209,     0.12012,     0.11934,     0.11856,     0.11777,     0.11699,     0.11621,     0.11547,     0.11476,     0.11406,     0.11336,     0.11265,     0.11195,     0.11125,     0.11054,     0.10614,     0.10149,    0.094737,    0.094737,    0.094737,    0.093952,\n",
      "           0.091223,    0.088519,    0.085857,    0.084211,    0.084211,    0.084211,     0.08352,    0.079459,    0.078947,    0.078947,    0.078947,    0.078947,    0.078947,    0.078947,    0.078947,    0.078947,    0.078947,    0.078947,    0.078947,    0.078947,    0.078947,    0.078947,    0.078947,\n",
      "           0.078947,    0.078947,    0.078823,    0.075547,    0.073684,    0.073684,    0.073684,     0.07027,     0.06664,    0.062689,     0.05792,    0.056368,    0.054834,    0.053299,    0.049073,    0.044189,    0.042105,    0.042105,    0.042105,    0.042105,    0.042105,    0.042105,    0.042105,\n",
      "           0.042105,    0.042105,    0.041609,    0.039672,    0.037735,    0.036842,    0.036517,    0.034199,    0.031881,    0.031579,    0.031579,    0.031579,    0.031579,    0.031579,    0.031579,    0.031579,    0.031579,    0.031579,    0.031579,    0.031579,    0.031579,    0.031579,    0.031579,\n",
      "           0.031579,    0.031579,    0.031579,    0.031579,    0.031579,    0.031579,    0.031579,    0.031579,    0.031579,    0.031579,    0.031482,    0.031216,    0.030949,    0.030683,    0.030416,    0.030149,    0.029883,    0.029616,     0.02935,    0.029083,    0.028817,     0.02855,    0.028284,\n",
      "           0.028017,    0.027751,    0.027484,    0.027218,    0.026951,    0.026685,    0.026418,    0.026316,    0.026316,    0.026316,    0.026316,    0.026316,    0.026316,    0.026316,    0.026316,    0.026316,    0.026316,    0.026316,    0.026316,    0.026316,    0.026316,    0.026316,    0.026316,\n",
      "           0.026316,    0.026316,    0.026316,    0.026316,    0.026316,    0.026316,    0.026316,    0.026316,    0.026316,    0.026316,    0.026316,    0.026316,    0.026316,    0.026316,    0.026316,    0.026316,    0.026316,    0.026316,    0.026297,    0.026182,    0.026068,    0.025953,    0.025839,\n",
      "           0.025724,     0.02561,    0.025495,    0.025381,    0.025266,    0.025152,    0.025037,    0.024923,    0.024808,    0.024694,    0.024579,    0.024465,     0.02435,    0.024236,    0.024121,    0.024006,    0.023892,    0.023777,    0.023663,    0.023548,    0.023434,    0.023319,    0.023205,\n",
      "            0.02309,    0.022976,    0.022861,    0.022747,    0.022632,    0.022518,    0.022403,    0.022289,    0.022174,     0.02206,    0.021945,     0.02183,    0.021716,    0.021601,    0.021487,    0.021372,    0.021258,    0.021143,    0.021028,    0.020907,    0.020787,    0.020667,    0.020547,\n",
      "           0.020426,    0.020306,    0.020186,    0.020066,    0.019945,    0.019825,    0.019705,    0.019585,    0.019465,    0.019344,    0.019224,    0.019104,    0.018984,    0.018863,    0.018743,    0.018623,    0.018503,    0.018382,    0.018262,    0.018142,    0.018022,    0.017901,    0.017781,\n",
      "           0.017661,    0.017541,    0.017421,      0.0173,     0.01718,     0.01706,     0.01694,    0.016819,    0.016699,    0.016579,    0.016459,    0.016338,    0.016218,    0.016098,    0.015978,    0.015857,    0.015695,    0.015477,    0.015259,    0.015041,    0.014822,    0.014604,    0.014386,\n",
      "           0.014168,     0.01395,    0.013732,    0.013514,    0.013296,    0.013078,     0.01286,    0.012642,    0.012424,    0.012206,    0.011988,     0.01177,    0.011552,    0.011334,    0.011116,    0.010898,    0.010679,    0.010379,   0.0098823,   0.0093861,   0.0088898,   0.0083936,   0.0078973,\n",
      "          0.0074011,   0.0069048,   0.0064086,   0.0059123,   0.0054161,   0.0051043,   0.0048748,   0.0046452,   0.0044157,   0.0041861,   0.0039565,    0.003727,   0.0034974,   0.0032679,   0.0030383,   0.0028087,   0.0025792,   0.0023496,   0.0021201,   0.0018905,    0.001661,   0.0014314,   0.0012018,\n",
      "         0.00097227,  0.00074271,  0.00051315,  0.00028359,  5.4035e-05,           0,           0,           0,           0,           0,           0,           0,           0,           0,           0,           0,           0,           0,           0,           0,           0,           0,           0,\n",
      "                  0,           0,           0,           0,           0,           0,           0,           0,           0,           0,           0,           0,           0,           0,           0,           0,           0,           0,           0,           0,           0,           0,           0,\n",
      "                  0,           0,           0,           0,           0,           0,           0,           0,           0,           0,           0,           0,           0,           0,           0,           0,           0,           0,           0,           0,           0,           0,           0,\n",
      "                  0,           0,           0,           0,           0,           0,           0,           0,           0,           0,           0,           0,           0,           0,           0,           0,           0,           0,           0,           0,           0,           0,           0,\n",
      "                  0,           0,           0,           0,           0,           0,           0,           0,           0,           0,           0,           0,           0,           0,           0,           0,           0,           0,           0,           0,           0,           0,           0,\n",
      "                  0,           0,           0,           0,           0,           0,           0,           0,           0,           0,           0,           0,           0,           0,           0,           0,           0,           0,           0,           0,           0,           0,           0,\n",
      "                  0,           0,           0,           0,           0,           0,           0,           0,           0,           0,           0,           0,           0,           0,           0,           0,           0,           0,           0,           0,           0,           0,           0,\n",
      "                  0,           0,           0,           0,           0,           0,           0,           0,           0,           0,           0,           0,           0,           0,           0,           0,           0,           0,           0,           0,           0,           0,           0,\n",
      "                  0,           0,           0,           0,           0,           0,           0,           0,           0,           0,           0,           0,           0,           0,           0,           0,           0,           0,           0,           0,           0,           0,           0,\n",
      "                  0,           0,           0,           0,           0,           0,           0,           0,           0,           0,           0,           0,           0,           0,           0,           0,           0,           0,           0,           0,           0,           0,           0,\n",
      "                  0,           0,           0,           0,           0,           0,           0,           0,           0,           0,           0,           0,           0,           0,           0,           0,           0,           0,           0,           0,           0,           0,           0,\n",
      "                  0,           0,           0,           0,           0,           0,           0,           0,           0,           0,           0,           0,           0,           0,           0,           0,           0,           0,           0,           0,           0,           0,           0,\n",
      "                  0,           0,           0,           0,           0,           0,           0,           0,           0,           0,           0,           0,           0,           0,           0,           0,           0,           0,           0,           0,           0,           0,           0,\n",
      "                  0,           0,           0,           0,           0,           0,           0,           0,           0,           0,           0]]), 'Confidence', 'Recall'], [array([          0,    0.001001,    0.002002,    0.003003,    0.004004,    0.005005,    0.006006,    0.007007,    0.008008,    0.009009,     0.01001,    0.011011,    0.012012,    0.013013,    0.014014,    0.015015,    0.016016,    0.017017,    0.018018,    0.019019,     0.02002,    0.021021,    0.022022,    0.023023,\n",
      "          0.024024,    0.025025,    0.026026,    0.027027,    0.028028,    0.029029,     0.03003,    0.031031,    0.032032,    0.033033,    0.034034,    0.035035,    0.036036,    0.037037,    0.038038,    0.039039,     0.04004,    0.041041,    0.042042,    0.043043,    0.044044,    0.045045,    0.046046,    0.047047,\n",
      "          0.048048,    0.049049,     0.05005,    0.051051,    0.052052,    0.053053,    0.054054,    0.055055,    0.056056,    0.057057,    0.058058,    0.059059,     0.06006,    0.061061,    0.062062,    0.063063,    0.064064,    0.065065,    0.066066,    0.067067,    0.068068,    0.069069,     0.07007,    0.071071,\n",
      "          0.072072,    0.073073,    0.074074,    0.075075,    0.076076,    0.077077,    0.078078,    0.079079,     0.08008,    0.081081,    0.082082,    0.083083,    0.084084,    0.085085,    0.086086,    0.087087,    0.088088,    0.089089,     0.09009,    0.091091,    0.092092,    0.093093,    0.094094,    0.095095,\n",
      "          0.096096,    0.097097,    0.098098,    0.099099,      0.1001,      0.1011,      0.1021,      0.1031,      0.1041,     0.10511,     0.10611,     0.10711,     0.10811,     0.10911,     0.11011,     0.11111,     0.11211,     0.11311,     0.11411,     0.11512,     0.11612,     0.11712,     0.11812,     0.11912,\n",
      "           0.12012,     0.12112,     0.12212,     0.12312,     0.12412,     0.12513,     0.12613,     0.12713,     0.12813,     0.12913,     0.13013,     0.13113,     0.13213,     0.13313,     0.13413,     0.13514,     0.13614,     0.13714,     0.13814,     0.13914,     0.14014,     0.14114,     0.14214,     0.14314,\n",
      "           0.14414,     0.14515,     0.14615,     0.14715,     0.14815,     0.14915,     0.15015,     0.15115,     0.15215,     0.15315,     0.15415,     0.15516,     0.15616,     0.15716,     0.15816,     0.15916,     0.16016,     0.16116,     0.16216,     0.16316,     0.16416,     0.16517,     0.16617,     0.16717,\n",
      "           0.16817,     0.16917,     0.17017,     0.17117,     0.17217,     0.17317,     0.17417,     0.17518,     0.17618,     0.17718,     0.17818,     0.17918,     0.18018,     0.18118,     0.18218,     0.18318,     0.18418,     0.18519,     0.18619,     0.18719,     0.18819,     0.18919,     0.19019,     0.19119,\n",
      "           0.19219,     0.19319,     0.19419,      0.1952,      0.1962,      0.1972,      0.1982,      0.1992,      0.2002,      0.2012,      0.2022,      0.2032,      0.2042,     0.20521,     0.20621,     0.20721,     0.20821,     0.20921,     0.21021,     0.21121,     0.21221,     0.21321,     0.21421,     0.21522,\n",
      "           0.21622,     0.21722,     0.21822,     0.21922,     0.22022,     0.22122,     0.22222,     0.22322,     0.22422,     0.22523,     0.22623,     0.22723,     0.22823,     0.22923,     0.23023,     0.23123,     0.23223,     0.23323,     0.23423,     0.23524,     0.23624,     0.23724,     0.23824,     0.23924,\n",
      "           0.24024,     0.24124,     0.24224,     0.24324,     0.24424,     0.24525,     0.24625,     0.24725,     0.24825,     0.24925,     0.25025,     0.25125,     0.25225,     0.25325,     0.25425,     0.25526,     0.25626,     0.25726,     0.25826,     0.25926,     0.26026,     0.26126,     0.26226,     0.26326,\n",
      "           0.26426,     0.26527,     0.26627,     0.26727,     0.26827,     0.26927,     0.27027,     0.27127,     0.27227,     0.27327,     0.27427,     0.27528,     0.27628,     0.27728,     0.27828,     0.27928,     0.28028,     0.28128,     0.28228,     0.28328,     0.28428,     0.28529,     0.28629,     0.28729,\n",
      "           0.28829,     0.28929,     0.29029,     0.29129,     0.29229,     0.29329,     0.29429,      0.2953,      0.2963,      0.2973,      0.2983,      0.2993,      0.3003,      0.3013,      0.3023,      0.3033,      0.3043,     0.30531,     0.30631,     0.30731,     0.30831,     0.30931,     0.31031,     0.31131,\n",
      "           0.31231,     0.31331,     0.31431,     0.31532,     0.31632,     0.31732,     0.31832,     0.31932,     0.32032,     0.32132,     0.32232,     0.32332,     0.32432,     0.32533,     0.32633,     0.32733,     0.32833,     0.32933,     0.33033,     0.33133,     0.33233,     0.33333,     0.33433,     0.33534,\n",
      "           0.33634,     0.33734,     0.33834,     0.33934,     0.34034,     0.34134,     0.34234,     0.34334,     0.34434,     0.34535,     0.34635,     0.34735,     0.34835,     0.34935,     0.35035,     0.35135,     0.35235,     0.35335,     0.35435,     0.35536,     0.35636,     0.35736,     0.35836,     0.35936,\n",
      "           0.36036,     0.36136,     0.36236,     0.36336,     0.36436,     0.36537,     0.36637,     0.36737,     0.36837,     0.36937,     0.37037,     0.37137,     0.37237,     0.37337,     0.37437,     0.37538,     0.37638,     0.37738,     0.37838,     0.37938,     0.38038,     0.38138,     0.38238,     0.38338,\n",
      "           0.38438,     0.38539,     0.38639,     0.38739,     0.38839,     0.38939,     0.39039,     0.39139,     0.39239,     0.39339,     0.39439,      0.3954,      0.3964,      0.3974,      0.3984,      0.3994,      0.4004,      0.4014,      0.4024,      0.4034,      0.4044,     0.40541,     0.40641,     0.40741,\n",
      "           0.40841,     0.40941,     0.41041,     0.41141,     0.41241,     0.41341,     0.41441,     0.41542,     0.41642,     0.41742,     0.41842,     0.41942,     0.42042,     0.42142,     0.42242,     0.42342,     0.42442,     0.42543,     0.42643,     0.42743,     0.42843,     0.42943,     0.43043,     0.43143,\n",
      "           0.43243,     0.43343,     0.43443,     0.43544,     0.43644,     0.43744,     0.43844,     0.43944,     0.44044,     0.44144,     0.44244,     0.44344,     0.44444,     0.44545,     0.44645,     0.44745,     0.44845,     0.44945,     0.45045,     0.45145,     0.45245,     0.45345,     0.45445,     0.45546,\n",
      "           0.45646,     0.45746,     0.45846,     0.45946,     0.46046,     0.46146,     0.46246,     0.46346,     0.46446,     0.46547,     0.46647,     0.46747,     0.46847,     0.46947,     0.47047,     0.47147,     0.47247,     0.47347,     0.47447,     0.47548,     0.47648,     0.47748,     0.47848,     0.47948,\n",
      "           0.48048,     0.48148,     0.48248,     0.48348,     0.48448,     0.48549,     0.48649,     0.48749,     0.48849,     0.48949,     0.49049,     0.49149,     0.49249,     0.49349,     0.49449,      0.4955,      0.4965,      0.4975,      0.4985,      0.4995,      0.5005,      0.5015,      0.5025,      0.5035,\n",
      "            0.5045,     0.50551,     0.50651,     0.50751,     0.50851,     0.50951,     0.51051,     0.51151,     0.51251,     0.51351,     0.51451,     0.51552,     0.51652,     0.51752,     0.51852,     0.51952,     0.52052,     0.52152,     0.52252,     0.52352,     0.52452,     0.52553,     0.52653,     0.52753,\n",
      "           0.52853,     0.52953,     0.53053,     0.53153,     0.53253,     0.53353,     0.53453,     0.53554,     0.53654,     0.53754,     0.53854,     0.53954,     0.54054,     0.54154,     0.54254,     0.54354,     0.54454,     0.54555,     0.54655,     0.54755,     0.54855,     0.54955,     0.55055,     0.55155,\n",
      "           0.55255,     0.55355,     0.55455,     0.55556,     0.55656,     0.55756,     0.55856,     0.55956,     0.56056,     0.56156,     0.56256,     0.56356,     0.56456,     0.56557,     0.56657,     0.56757,     0.56857,     0.56957,     0.57057,     0.57157,     0.57257,     0.57357,     0.57457,     0.57558,\n",
      "           0.57658,     0.57758,     0.57858,     0.57958,     0.58058,     0.58158,     0.58258,     0.58358,     0.58458,     0.58559,     0.58659,     0.58759,     0.58859,     0.58959,     0.59059,     0.59159,     0.59259,     0.59359,     0.59459,      0.5956,      0.5966,      0.5976,      0.5986,      0.5996,\n",
      "            0.6006,      0.6016,      0.6026,      0.6036,      0.6046,     0.60561,     0.60661,     0.60761,     0.60861,     0.60961,     0.61061,     0.61161,     0.61261,     0.61361,     0.61461,     0.61562,     0.61662,     0.61762,     0.61862,     0.61962,     0.62062,     0.62162,     0.62262,     0.62362,\n",
      "           0.62462,     0.62563,     0.62663,     0.62763,     0.62863,     0.62963,     0.63063,     0.63163,     0.63263,     0.63363,     0.63463,     0.63564,     0.63664,     0.63764,     0.63864,     0.63964,     0.64064,     0.64164,     0.64264,     0.64364,     0.64464,     0.64565,     0.64665,     0.64765,\n",
      "           0.64865,     0.64965,     0.65065,     0.65165,     0.65265,     0.65365,     0.65465,     0.65566,     0.65666,     0.65766,     0.65866,     0.65966,     0.66066,     0.66166,     0.66266,     0.66366,     0.66466,     0.66567,     0.66667,     0.66767,     0.66867,     0.66967,     0.67067,     0.67167,\n",
      "           0.67267,     0.67367,     0.67467,     0.67568,     0.67668,     0.67768,     0.67868,     0.67968,     0.68068,     0.68168,     0.68268,     0.68368,     0.68468,     0.68569,     0.68669,     0.68769,     0.68869,     0.68969,     0.69069,     0.69169,     0.69269,     0.69369,     0.69469,      0.6957,\n",
      "            0.6967,      0.6977,      0.6987,      0.6997,      0.7007,      0.7017,      0.7027,      0.7037,      0.7047,     0.70571,     0.70671,     0.70771,     0.70871,     0.70971,     0.71071,     0.71171,     0.71271,     0.71371,     0.71471,     0.71572,     0.71672,     0.71772,     0.71872,     0.71972,\n",
      "           0.72072,     0.72172,     0.72272,     0.72372,     0.72472,     0.72573,     0.72673,     0.72773,     0.72873,     0.72973,     0.73073,     0.73173,     0.73273,     0.73373,     0.73473,     0.73574,     0.73674,     0.73774,     0.73874,     0.73974,     0.74074,     0.74174,     0.74274,     0.74374,\n",
      "           0.74474,     0.74575,     0.74675,     0.74775,     0.74875,     0.74975,     0.75075,     0.75175,     0.75275,     0.75375,     0.75475,     0.75576,     0.75676,     0.75776,     0.75876,     0.75976,     0.76076,     0.76176,     0.76276,     0.76376,     0.76476,     0.76577,     0.76677,     0.76777,\n",
      "           0.76877,     0.76977,     0.77077,     0.77177,     0.77277,     0.77377,     0.77477,     0.77578,     0.77678,     0.77778,     0.77878,     0.77978,     0.78078,     0.78178,     0.78278,     0.78378,     0.78478,     0.78579,     0.78679,     0.78779,     0.78879,     0.78979,     0.79079,     0.79179,\n",
      "           0.79279,     0.79379,     0.79479,      0.7958,      0.7968,      0.7978,      0.7988,      0.7998,      0.8008,      0.8018,      0.8028,      0.8038,      0.8048,     0.80581,     0.80681,     0.80781,     0.80881,     0.80981,     0.81081,     0.81181,     0.81281,     0.81381,     0.81481,     0.81582,\n",
      "           0.81682,     0.81782,     0.81882,     0.81982,     0.82082,     0.82182,     0.82282,     0.82382,     0.82482,     0.82583,     0.82683,     0.82783,     0.82883,     0.82983,     0.83083,     0.83183,     0.83283,     0.83383,     0.83483,     0.83584,     0.83684,     0.83784,     0.83884,     0.83984,\n",
      "           0.84084,     0.84184,     0.84284,     0.84384,     0.84484,     0.84585,     0.84685,     0.84785,     0.84885,     0.84985,     0.85085,     0.85185,     0.85285,     0.85385,     0.85485,     0.85586,     0.85686,     0.85786,     0.85886,     0.85986,     0.86086,     0.86186,     0.86286,     0.86386,\n",
      "           0.86486,     0.86587,     0.86687,     0.86787,     0.86887,     0.86987,     0.87087,     0.87187,     0.87287,     0.87387,     0.87487,     0.87588,     0.87688,     0.87788,     0.87888,     0.87988,     0.88088,     0.88188,     0.88288,     0.88388,     0.88488,     0.88589,     0.88689,     0.88789,\n",
      "           0.88889,     0.88989,     0.89089,     0.89189,     0.89289,     0.89389,     0.89489,      0.8959,      0.8969,      0.8979,      0.8989,      0.8999,      0.9009,      0.9019,      0.9029,      0.9039,      0.9049,     0.90591,     0.90691,     0.90791,     0.90891,     0.90991,     0.91091,     0.91191,\n",
      "           0.91291,     0.91391,     0.91491,     0.91592,     0.91692,     0.91792,     0.91892,     0.91992,     0.92092,     0.92192,     0.92292,     0.92392,     0.92492,     0.92593,     0.92693,     0.92793,     0.92893,     0.92993,     0.93093,     0.93193,     0.93293,     0.93393,     0.93493,     0.93594,\n",
      "           0.93694,     0.93794,     0.93894,     0.93994,     0.94094,     0.94194,     0.94294,     0.94394,     0.94494,     0.94595,     0.94695,     0.94795,     0.94895,     0.94995,     0.95095,     0.95195,     0.95295,     0.95395,     0.95495,     0.95596,     0.95696,     0.95796,     0.95896,     0.95996,\n",
      "           0.96096,     0.96196,     0.96296,     0.96396,     0.96496,     0.96597,     0.96697,     0.96797,     0.96897,     0.96997,     0.97097,     0.97197,     0.97297,     0.97397,     0.97497,     0.97598,     0.97698,     0.97798,     0.97898,     0.97998,     0.98098,     0.98198,     0.98298,     0.98398,\n",
      "           0.98498,     0.98599,     0.98699,     0.98799,     0.98899,     0.98999,     0.99099,     0.99199,     0.99299,     0.99399,     0.99499,       0.996,       0.997,       0.998,       0.999,           1]), array([[    0.66667,     0.66667,     0.66667,     0.66667,     0.66667,     0.66667,     0.66667,     0.66667,     0.66667,     0.66667,     0.66667,         0.5,         0.5,         0.5,         0.5,         0.5,     0.42222,     0.42222,     0.42222,     0.42222,     0.42222,     0.42222,     0.42222,\n",
      "            0.42222,     0.42222,     0.42222,     0.42222,     0.42222,     0.42222,     0.42222,     0.42222,     0.42222,     0.42222,     0.42222,     0.42222,     0.42222,     0.42222,     0.42222,     0.42222,     0.42222,     0.42222,     0.42222,     0.42222,     0.42222,     0.42222,     0.42222,\n",
      "            0.42222,     0.42222,     0.42222,     0.42222,     0.42222,     0.42222,     0.42222,     0.42222,     0.42222,     0.42222,     0.42222,     0.42222,     0.42222,     0.42222,     0.42222,     0.42222,     0.42222,     0.42222,     0.42222,     0.42222,     0.42222,     0.42222,     0.42222,\n",
      "            0.42222,     0.42222,     0.42222,     0.42222,     0.42222,     0.42222,     0.42222,     0.42222,     0.42222,     0.42222,     0.42222,     0.42222,     0.42222,     0.42222,     0.42222,     0.42222,     0.42222,     0.42222,     0.42222,     0.42222,     0.42222,     0.42222,     0.42222,\n",
      "            0.42222,     0.42222,     0.42222,     0.42222,     0.42222,     0.42222,     0.42222,     0.42222,     0.39216,     0.39216,     0.39216,     0.39216,     0.39216,     0.39216,       0.375,       0.375,       0.375,       0.375,       0.375,     0.36667,     0.36667,     0.36667,     0.36667,\n",
      "            0.36667,     0.34328,     0.34328,     0.34328,     0.34328,     0.34328,     0.33803,     0.33803,     0.33803,     0.33803,     0.33803,     0.33803,     0.33784,     0.33784,     0.33784,     0.33784,     0.33784,     0.32222,     0.32222,     0.32222,     0.32222,     0.32222,     0.32222,\n",
      "            0.32222,     0.32222,     0.32222,     0.32222,     0.32222,     0.32222,     0.32222,     0.32222,     0.32222,     0.32222,     0.32222,     0.32222,     0.32222,     0.32222,     0.32222,     0.31579,     0.31579,     0.31579,     0.31579,     0.31579,     0.31068,     0.31068,     0.31068,\n",
      "            0.31068,     0.31068,     0.31068,     0.31068,     0.31068,     0.31068,     0.31068,     0.31068,     0.30909,     0.30909,     0.30909,     0.30909,     0.30909,     0.30909,     0.30909,     0.30909,     0.30909,     0.30909,     0.30252,     0.30252,     0.30252,     0.30252,     0.30252,\n",
      "            0.30252,     0.30252,     0.30252,     0.30252,     0.30252,     0.30252,     0.30081,     0.30081,     0.30081,     0.30081,     0.30081,     0.27941,     0.27941,     0.27941,     0.27941,     0.27941,     0.27632,     0.27632,     0.27632,     0.27632,     0.27632,     0.27632,     0.27632,\n",
      "            0.27632,     0.27632,     0.27632,     0.27632,     0.27632,     0.27632,     0.27632,     0.27632,     0.27632,     0.27632,     0.27632,     0.27632,     0.27632,     0.27632,     0.26708,     0.26708,     0.26708,     0.26708,     0.26708,     0.26708,     0.26667,     0.26667,     0.26667,\n",
      "            0.26667,     0.26667,     0.26316,     0.26316,     0.26316,     0.26316,     0.26316,     0.26111,     0.26111,     0.26111,     0.26111,     0.26111,     0.26111,     0.26111,     0.26111,     0.26111,     0.26111,     0.26111,     0.22072,     0.22072,     0.22072,     0.22072,     0.22072,\n",
      "            0.22072,     0.22072,     0.22072,     0.22072,     0.22072,     0.21339,     0.21339,     0.21339,     0.21339,     0.21339,     0.21339,     0.21339,     0.21339,     0.21339,     0.21339,     0.21339,      0.2037,      0.2037,      0.2037,      0.2037,      0.2037,      0.2037,      0.2037,\n",
      "             0.2037,      0.2037,      0.2037,      0.2037,      0.2037,      0.2037,      0.2037,      0.2037,      0.2037,      0.2037,      0.2037,      0.2037,      0.2037,      0.2037,      0.1877,      0.1877,      0.1877,      0.1877,      0.1877,      0.1877,      0.1877,      0.1877,      0.1877,\n",
      "             0.1877,      0.1877,      0.1877,      0.1877,      0.1877,      0.1877,     0.17949,     0.17949,     0.17949,     0.17949,     0.17949,     0.17949,     0.17949,     0.17949,     0.17949,     0.17949,     0.17949,     0.17949,     0.17949,     0.17949,     0.17949,     0.17949,     0.17949,\n",
      "            0.17949,     0.17949,     0.17949,     0.17949,     0.17949,     0.17949,     0.17949,     0.17949,     0.17949,     0.17949,      0.1752,      0.1752,      0.1752,      0.1752,      0.1752,      0.1752,      0.1752,      0.1752,      0.1752,      0.1752,     0.17098,     0.17098,     0.17098,\n",
      "            0.17098,     0.17098,     0.17098,     0.15877,     0.15877,     0.15877,     0.15877,     0.15877,     0.15632,     0.15632,     0.15632,     0.15632,     0.15632,     0.15385,     0.15385,     0.15385,     0.15385,     0.15385,     0.15385,     0.15385,     0.15385,     0.15385,     0.15385,\n",
      "            0.15385,     0.15287,     0.15287,     0.15287,     0.15287,     0.15287,     0.15287,     0.15287,     0.15287,     0.15287,     0.15287,     0.13012,     0.13012,     0.13012,     0.13012,     0.13012,     0.12542,     0.12542,     0.12542,     0.12542,     0.12542,     0.12542,     0.12278,\n",
      "            0.12278,     0.12278,     0.12278,     0.12278,     0.12278,     0.12278,     0.12278,     0.12278,     0.12278,     0.11667,     0.11667,     0.11667,     0.11667,     0.11667,     0.11624,     0.11624,     0.11624,     0.11624,     0.11624,     0.11624,     0.11449,     0.11449,     0.11449,\n",
      "            0.11449,     0.11449,     0.11412,     0.11412,     0.11412,     0.11412,     0.11412,     0.11329,     0.11329,     0.11329,     0.11329,     0.11329,     0.11202,     0.11202,     0.11202,     0.11202,     0.11202,     0.11202,     0.10983,     0.10983,     0.10983,     0.10983,     0.10983,\n",
      "            0.10983,     0.10983,     0.10983,     0.10983,     0.10983,     0.10983,     0.10983,     0.10983,     0.10983,     0.10983,     0.10983,     0.10983,     0.10983,     0.10983,     0.10983,     0.10983,     0.10714,     0.10714,     0.10714,     0.10714,     0.10714,     0.10654,     0.10654,\n",
      "            0.10654,     0.10654,     0.10654,     0.10621,     0.10621,     0.10621,     0.10621,     0.10621,    0.089731,    0.089731,    0.089731,    0.089731,    0.089731,    0.089731,     0.08473,     0.08473,     0.08473,     0.08473,     0.08473,    0.082155,    0.082155,    0.082155,    0.082155,\n",
      "           0.082155,    0.082155,    0.082155,    0.082155,    0.082155,    0.082155,    0.081882,    0.081882,    0.081882,    0.081882,    0.081882,    0.081882,    0.080304,    0.080304,    0.080304,    0.080304,    0.080304,    0.073115,    0.073115,    0.073115,    0.073115,    0.073115,    0.070751,\n",
      "           0.070751,    0.070751,    0.070751,    0.070751,    0.070751,    0.067901,    0.067901,    0.067901,    0.067901,    0.067901,    0.067901,    0.067901,    0.067901,    0.067901,    0.067901,    0.053562,    0.053562,    0.053562,    0.053562,    0.053562,    0.052062,    0.052062,    0.052062,\n",
      "           0.052062,    0.052062,    0.052062,    0.045719,    0.045719,    0.045719,    0.045719,    0.045719,    0.042632,    0.042632,    0.042632,    0.042632,    0.042632,    0.041851,    0.041851,    0.041851,    0.041851,    0.041851,    0.036157,    0.036157,    0.036157,    0.036157,    0.036157,\n",
      "           0.036157,    0.031976,    0.031976,    0.031976,    0.031976,    0.031976,    0.031704,    0.031704,    0.031704,    0.031704,    0.031704,    0.026713,    0.026713,    0.026713,    0.026713,    0.026713,    0.014465,    0.014431,    0.014397,    0.014364,     0.01433,    0.014297,    0.014263,\n",
      "            0.01423,    0.014196,    0.014162,    0.014129,    0.014095,    0.014062,    0.014028,    0.013995,    0.013961,    0.013928,    0.013894,     0.01386,    0.013827,    0.013793,     0.01376,    0.013726,    0.013693,    0.013659,    0.013625,    0.013592,    0.013558,    0.013525,    0.013491,\n",
      "           0.013458,    0.013424,    0.013391,    0.013357,    0.013323,     0.01329,    0.013256,    0.013223,    0.013189,    0.013156,    0.013122,    0.013089,    0.013055,    0.013021,    0.012988,    0.012954,    0.012921,    0.012887,    0.012854,     0.01282,    0.012786,    0.012753,    0.012719,\n",
      "           0.012686,    0.012652,    0.012619,    0.012585,    0.012552,    0.012518,    0.012484,    0.012451,    0.012417,    0.012384,     0.01235,    0.012317,    0.012283,     0.01225,    0.012216,    0.012182,    0.012149,    0.012115,    0.012082,    0.012048,    0.012015,    0.011981,    0.011947,\n",
      "           0.011914,     0.01188,    0.011847,    0.011813,     0.01178,    0.011746,    0.011713,    0.011679,    0.011645,    0.011612,    0.011578,    0.011545,    0.011511,    0.011478,    0.011444,    0.011411,    0.011377,    0.011343,     0.01131,    0.011276,    0.011243,    0.011209,    0.011176,\n",
      "           0.011142,    0.011108,    0.011075,    0.011041,    0.011008,    0.010974,    0.010941,    0.010907,    0.010874,     0.01084,    0.010806,    0.010773,    0.010739,    0.010706,    0.010672,    0.010639,    0.010605,    0.010572,    0.010538,    0.010504,    0.010471,    0.010437,    0.010404,\n",
      "            0.01037,    0.010337,    0.010303,    0.010269,    0.010236,    0.010202,    0.010169,    0.010135,    0.010102,    0.010068,    0.010035,    0.010001,   0.0099674,   0.0099339,   0.0099003,   0.0098667,   0.0098332,   0.0097996,   0.0097661,   0.0097325,   0.0096989,   0.0096654,   0.0096318,\n",
      "          0.0095983,   0.0095647,   0.0095311,   0.0094976,    0.009464,   0.0094305,   0.0093969,   0.0093633,   0.0093298,   0.0092962,   0.0092627,   0.0092291,   0.0091955,    0.009162,   0.0091284,   0.0090949,   0.0090613,   0.0090277,   0.0089942,   0.0089606,   0.0089271,   0.0088935,   0.0088599,\n",
      "          0.0088264,   0.0087928,   0.0087592,   0.0087257,   0.0086921,   0.0086586,    0.008625,   0.0085914,   0.0085579,   0.0085243,   0.0084908,   0.0084572,   0.0084236,   0.0083901,   0.0083565,    0.008323,   0.0082894,   0.0082558,   0.0082223,   0.0081887,   0.0081552,   0.0081216,    0.008088,\n",
      "          0.0080545,   0.0080209,   0.0079874,   0.0079538,   0.0079202,   0.0078867,   0.0078531,   0.0078196,    0.007786,   0.0077524,   0.0077189,   0.0076853,   0.0076518,   0.0076182,   0.0075846,   0.0075511,   0.0075175,    0.007484,   0.0074504,   0.0074168,   0.0073833,   0.0073497,   0.0073162,\n",
      "          0.0072826,    0.007249,   0.0072155,   0.0071819,   0.0071484,   0.0071148,   0.0070812,   0.0070477,   0.0070141,   0.0069806,    0.006947,   0.0069134,   0.0068799,   0.0068463,   0.0068127,   0.0067792,   0.0067456,   0.0067121,   0.0066785,   0.0066449,   0.0066114,   0.0065778,   0.0065443,\n",
      "          0.0065107,   0.0064771,   0.0064436,     0.00641,   0.0063765,   0.0063429,   0.0063093,   0.0062758,   0.0062422,   0.0062087,   0.0061751,   0.0061415,    0.006108,   0.0060744,   0.0060409,   0.0060073,   0.0059737,   0.0059402,   0.0059066,   0.0058731,   0.0058395,   0.0058059,   0.0057724,\n",
      "          0.0057388,   0.0057053,   0.0056717,   0.0056381,   0.0056046,    0.005571,   0.0055375,   0.0055039,   0.0054703,   0.0054368,   0.0054032,   0.0053697,   0.0053361,   0.0053025,    0.005269,   0.0052354,   0.0052019,   0.0051683,   0.0051347,   0.0051012,   0.0050676,   0.0050341,   0.0050005,\n",
      "          0.0049669,   0.0049334,   0.0048998,   0.0048662,   0.0048327,   0.0047991,   0.0047656,    0.004732,   0.0046984,   0.0046649,   0.0046313,   0.0045978,   0.0045642,   0.0045306,   0.0044971,   0.0044635,     0.00443,   0.0043964,   0.0043628,   0.0043293,   0.0042957,   0.0042622,   0.0042286,\n",
      "           0.004195,   0.0041615,   0.0041279,   0.0040944,   0.0040608,   0.0040272,   0.0039937,   0.0039601,   0.0039266,    0.003893,   0.0038594,   0.0038259,   0.0037923,   0.0037588,   0.0037252,   0.0036916,   0.0036581,   0.0036245,    0.003591,   0.0035574,   0.0035238,   0.0034903,   0.0034567,\n",
      "          0.0034232,   0.0033896,    0.003356,   0.0033225,   0.0032889,   0.0032554,   0.0032218,   0.0031882,   0.0031547,   0.0031211,   0.0030876,    0.003054,   0.0030204,   0.0029869,   0.0029533,   0.0029197,   0.0028862,   0.0028526,   0.0028191,   0.0027855,   0.0027519,   0.0027184,   0.0026848,\n",
      "          0.0026513,   0.0026177,   0.0025841,   0.0025506,    0.002517,   0.0024835,   0.0024499,   0.0024163,   0.0023828,   0.0023492,   0.0023157,   0.0022821,   0.0022485,    0.002215,   0.0021814,   0.0021479,   0.0021143,   0.0020807,   0.0020472,   0.0020136,   0.0019801,   0.0019465,   0.0019129,\n",
      "          0.0018794,   0.0018458,   0.0018123,   0.0017787,   0.0017451,   0.0017116,    0.001678,   0.0016445,   0.0016109,   0.0015773,   0.0015438,   0.0015102,   0.0014767,   0.0014431,   0.0014095,    0.001376,   0.0013424,   0.0013089,   0.0012753,   0.0012417,   0.0012082,   0.0011746,   0.0011411,\n",
      "          0.0011075,   0.0010739,   0.0010404,   0.0010068,  0.00097325,  0.00093969,  0.00090613,  0.00087257,  0.00083901,  0.00080545,  0.00077189,  0.00073833,  0.00070477,  0.00067121,  0.00063765,  0.00060409,  0.00057053,  0.00053697,  0.00050341,  0.00046984,  0.00043628,  0.00040272,  0.00036916,\n",
      "          0.0003356,  0.00030204,  0.00026848,  0.00023492,  0.00020136,   0.0001678,  0.00013424,  0.00010068,  6.7121e-05,   3.356e-05,           0]]), 'Recall', 'Precision'], [array([          0,    0.001001,    0.002002,    0.003003,    0.004004,    0.005005,    0.006006,    0.007007,    0.008008,    0.009009,     0.01001,    0.011011,    0.012012,    0.013013,    0.014014,    0.015015,    0.016016,    0.017017,    0.018018,    0.019019,     0.02002,    0.021021,    0.022022,    0.023023,\n",
      "          0.024024,    0.025025,    0.026026,    0.027027,    0.028028,    0.029029,     0.03003,    0.031031,    0.032032,    0.033033,    0.034034,    0.035035,    0.036036,    0.037037,    0.038038,    0.039039,     0.04004,    0.041041,    0.042042,    0.043043,    0.044044,    0.045045,    0.046046,    0.047047,\n",
      "          0.048048,    0.049049,     0.05005,    0.051051,    0.052052,    0.053053,    0.054054,    0.055055,    0.056056,    0.057057,    0.058058,    0.059059,     0.06006,    0.061061,    0.062062,    0.063063,    0.064064,    0.065065,    0.066066,    0.067067,    0.068068,    0.069069,     0.07007,    0.071071,\n",
      "          0.072072,    0.073073,    0.074074,    0.075075,    0.076076,    0.077077,    0.078078,    0.079079,     0.08008,    0.081081,    0.082082,    0.083083,    0.084084,    0.085085,    0.086086,    0.087087,    0.088088,    0.089089,     0.09009,    0.091091,    0.092092,    0.093093,    0.094094,    0.095095,\n",
      "          0.096096,    0.097097,    0.098098,    0.099099,      0.1001,      0.1011,      0.1021,      0.1031,      0.1041,     0.10511,     0.10611,     0.10711,     0.10811,     0.10911,     0.11011,     0.11111,     0.11211,     0.11311,     0.11411,     0.11512,     0.11612,     0.11712,     0.11812,     0.11912,\n",
      "           0.12012,     0.12112,     0.12212,     0.12312,     0.12412,     0.12513,     0.12613,     0.12713,     0.12813,     0.12913,     0.13013,     0.13113,     0.13213,     0.13313,     0.13413,     0.13514,     0.13614,     0.13714,     0.13814,     0.13914,     0.14014,     0.14114,     0.14214,     0.14314,\n",
      "           0.14414,     0.14515,     0.14615,     0.14715,     0.14815,     0.14915,     0.15015,     0.15115,     0.15215,     0.15315,     0.15415,     0.15516,     0.15616,     0.15716,     0.15816,     0.15916,     0.16016,     0.16116,     0.16216,     0.16316,     0.16416,     0.16517,     0.16617,     0.16717,\n",
      "           0.16817,     0.16917,     0.17017,     0.17117,     0.17217,     0.17317,     0.17417,     0.17518,     0.17618,     0.17718,     0.17818,     0.17918,     0.18018,     0.18118,     0.18218,     0.18318,     0.18418,     0.18519,     0.18619,     0.18719,     0.18819,     0.18919,     0.19019,     0.19119,\n",
      "           0.19219,     0.19319,     0.19419,      0.1952,      0.1962,      0.1972,      0.1982,      0.1992,      0.2002,      0.2012,      0.2022,      0.2032,      0.2042,     0.20521,     0.20621,     0.20721,     0.20821,     0.20921,     0.21021,     0.21121,     0.21221,     0.21321,     0.21421,     0.21522,\n",
      "           0.21622,     0.21722,     0.21822,     0.21922,     0.22022,     0.22122,     0.22222,     0.22322,     0.22422,     0.22523,     0.22623,     0.22723,     0.22823,     0.22923,     0.23023,     0.23123,     0.23223,     0.23323,     0.23423,     0.23524,     0.23624,     0.23724,     0.23824,     0.23924,\n",
      "           0.24024,     0.24124,     0.24224,     0.24324,     0.24424,     0.24525,     0.24625,     0.24725,     0.24825,     0.24925,     0.25025,     0.25125,     0.25225,     0.25325,     0.25425,     0.25526,     0.25626,     0.25726,     0.25826,     0.25926,     0.26026,     0.26126,     0.26226,     0.26326,\n",
      "           0.26426,     0.26527,     0.26627,     0.26727,     0.26827,     0.26927,     0.27027,     0.27127,     0.27227,     0.27327,     0.27427,     0.27528,     0.27628,     0.27728,     0.27828,     0.27928,     0.28028,     0.28128,     0.28228,     0.28328,     0.28428,     0.28529,     0.28629,     0.28729,\n",
      "           0.28829,     0.28929,     0.29029,     0.29129,     0.29229,     0.29329,     0.29429,      0.2953,      0.2963,      0.2973,      0.2983,      0.2993,      0.3003,      0.3013,      0.3023,      0.3033,      0.3043,     0.30531,     0.30631,     0.30731,     0.30831,     0.30931,     0.31031,     0.31131,\n",
      "           0.31231,     0.31331,     0.31431,     0.31532,     0.31632,     0.31732,     0.31832,     0.31932,     0.32032,     0.32132,     0.32232,     0.32332,     0.32432,     0.32533,     0.32633,     0.32733,     0.32833,     0.32933,     0.33033,     0.33133,     0.33233,     0.33333,     0.33433,     0.33534,\n",
      "           0.33634,     0.33734,     0.33834,     0.33934,     0.34034,     0.34134,     0.34234,     0.34334,     0.34434,     0.34535,     0.34635,     0.34735,     0.34835,     0.34935,     0.35035,     0.35135,     0.35235,     0.35335,     0.35435,     0.35536,     0.35636,     0.35736,     0.35836,     0.35936,\n",
      "           0.36036,     0.36136,     0.36236,     0.36336,     0.36436,     0.36537,     0.36637,     0.36737,     0.36837,     0.36937,     0.37037,     0.37137,     0.37237,     0.37337,     0.37437,     0.37538,     0.37638,     0.37738,     0.37838,     0.37938,     0.38038,     0.38138,     0.38238,     0.38338,\n",
      "           0.38438,     0.38539,     0.38639,     0.38739,     0.38839,     0.38939,     0.39039,     0.39139,     0.39239,     0.39339,     0.39439,      0.3954,      0.3964,      0.3974,      0.3984,      0.3994,      0.4004,      0.4014,      0.4024,      0.4034,      0.4044,     0.40541,     0.40641,     0.40741,\n",
      "           0.40841,     0.40941,     0.41041,     0.41141,     0.41241,     0.41341,     0.41441,     0.41542,     0.41642,     0.41742,     0.41842,     0.41942,     0.42042,     0.42142,     0.42242,     0.42342,     0.42442,     0.42543,     0.42643,     0.42743,     0.42843,     0.42943,     0.43043,     0.43143,\n",
      "           0.43243,     0.43343,     0.43443,     0.43544,     0.43644,     0.43744,     0.43844,     0.43944,     0.44044,     0.44144,     0.44244,     0.44344,     0.44444,     0.44545,     0.44645,     0.44745,     0.44845,     0.44945,     0.45045,     0.45145,     0.45245,     0.45345,     0.45445,     0.45546,\n",
      "           0.45646,     0.45746,     0.45846,     0.45946,     0.46046,     0.46146,     0.46246,     0.46346,     0.46446,     0.46547,     0.46647,     0.46747,     0.46847,     0.46947,     0.47047,     0.47147,     0.47247,     0.47347,     0.47447,     0.47548,     0.47648,     0.47748,     0.47848,     0.47948,\n",
      "           0.48048,     0.48148,     0.48248,     0.48348,     0.48448,     0.48549,     0.48649,     0.48749,     0.48849,     0.48949,     0.49049,     0.49149,     0.49249,     0.49349,     0.49449,      0.4955,      0.4965,      0.4975,      0.4985,      0.4995,      0.5005,      0.5015,      0.5025,      0.5035,\n",
      "            0.5045,     0.50551,     0.50651,     0.50751,     0.50851,     0.50951,     0.51051,     0.51151,     0.51251,     0.51351,     0.51451,     0.51552,     0.51652,     0.51752,     0.51852,     0.51952,     0.52052,     0.52152,     0.52252,     0.52352,     0.52452,     0.52553,     0.52653,     0.52753,\n",
      "           0.52853,     0.52953,     0.53053,     0.53153,     0.53253,     0.53353,     0.53453,     0.53554,     0.53654,     0.53754,     0.53854,     0.53954,     0.54054,     0.54154,     0.54254,     0.54354,     0.54454,     0.54555,     0.54655,     0.54755,     0.54855,     0.54955,     0.55055,     0.55155,\n",
      "           0.55255,     0.55355,     0.55455,     0.55556,     0.55656,     0.55756,     0.55856,     0.55956,     0.56056,     0.56156,     0.56256,     0.56356,     0.56456,     0.56557,     0.56657,     0.56757,     0.56857,     0.56957,     0.57057,     0.57157,     0.57257,     0.57357,     0.57457,     0.57558,\n",
      "           0.57658,     0.57758,     0.57858,     0.57958,     0.58058,     0.58158,     0.58258,     0.58358,     0.58458,     0.58559,     0.58659,     0.58759,     0.58859,     0.58959,     0.59059,     0.59159,     0.59259,     0.59359,     0.59459,      0.5956,      0.5966,      0.5976,      0.5986,      0.5996,\n",
      "            0.6006,      0.6016,      0.6026,      0.6036,      0.6046,     0.60561,     0.60661,     0.60761,     0.60861,     0.60961,     0.61061,     0.61161,     0.61261,     0.61361,     0.61461,     0.61562,     0.61662,     0.61762,     0.61862,     0.61962,     0.62062,     0.62162,     0.62262,     0.62362,\n",
      "           0.62462,     0.62563,     0.62663,     0.62763,     0.62863,     0.62963,     0.63063,     0.63163,     0.63263,     0.63363,     0.63463,     0.63564,     0.63664,     0.63764,     0.63864,     0.63964,     0.64064,     0.64164,     0.64264,     0.64364,     0.64464,     0.64565,     0.64665,     0.64765,\n",
      "           0.64865,     0.64965,     0.65065,     0.65165,     0.65265,     0.65365,     0.65465,     0.65566,     0.65666,     0.65766,     0.65866,     0.65966,     0.66066,     0.66166,     0.66266,     0.66366,     0.66466,     0.66567,     0.66667,     0.66767,     0.66867,     0.66967,     0.67067,     0.67167,\n",
      "           0.67267,     0.67367,     0.67467,     0.67568,     0.67668,     0.67768,     0.67868,     0.67968,     0.68068,     0.68168,     0.68268,     0.68368,     0.68468,     0.68569,     0.68669,     0.68769,     0.68869,     0.68969,     0.69069,     0.69169,     0.69269,     0.69369,     0.69469,      0.6957,\n",
      "            0.6967,      0.6977,      0.6987,      0.6997,      0.7007,      0.7017,      0.7027,      0.7037,      0.7047,     0.70571,     0.70671,     0.70771,     0.70871,     0.70971,     0.71071,     0.71171,     0.71271,     0.71371,     0.71471,     0.71572,     0.71672,     0.71772,     0.71872,     0.71972,\n",
      "           0.72072,     0.72172,     0.72272,     0.72372,     0.72472,     0.72573,     0.72673,     0.72773,     0.72873,     0.72973,     0.73073,     0.73173,     0.73273,     0.73373,     0.73473,     0.73574,     0.73674,     0.73774,     0.73874,     0.73974,     0.74074,     0.74174,     0.74274,     0.74374,\n",
      "           0.74474,     0.74575,     0.74675,     0.74775,     0.74875,     0.74975,     0.75075,     0.75175,     0.75275,     0.75375,     0.75475,     0.75576,     0.75676,     0.75776,     0.75876,     0.75976,     0.76076,     0.76176,     0.76276,     0.76376,     0.76476,     0.76577,     0.76677,     0.76777,\n",
      "           0.76877,     0.76977,     0.77077,     0.77177,     0.77277,     0.77377,     0.77477,     0.77578,     0.77678,     0.77778,     0.77878,     0.77978,     0.78078,     0.78178,     0.78278,     0.78378,     0.78478,     0.78579,     0.78679,     0.78779,     0.78879,     0.78979,     0.79079,     0.79179,\n",
      "           0.79279,     0.79379,     0.79479,      0.7958,      0.7968,      0.7978,      0.7988,      0.7998,      0.8008,      0.8018,      0.8028,      0.8038,      0.8048,     0.80581,     0.80681,     0.80781,     0.80881,     0.80981,     0.81081,     0.81181,     0.81281,     0.81381,     0.81481,     0.81582,\n",
      "           0.81682,     0.81782,     0.81882,     0.81982,     0.82082,     0.82182,     0.82282,     0.82382,     0.82482,     0.82583,     0.82683,     0.82783,     0.82883,     0.82983,     0.83083,     0.83183,     0.83283,     0.83383,     0.83483,     0.83584,     0.83684,     0.83784,     0.83884,     0.83984,\n",
      "           0.84084,     0.84184,     0.84284,     0.84384,     0.84484,     0.84585,     0.84685,     0.84785,     0.84885,     0.84985,     0.85085,     0.85185,     0.85285,     0.85385,     0.85485,     0.85586,     0.85686,     0.85786,     0.85886,     0.85986,     0.86086,     0.86186,     0.86286,     0.86386,\n",
      "           0.86486,     0.86587,     0.86687,     0.86787,     0.86887,     0.86987,     0.87087,     0.87187,     0.87287,     0.87387,     0.87487,     0.87588,     0.87688,     0.87788,     0.87888,     0.87988,     0.88088,     0.88188,     0.88288,     0.88388,     0.88488,     0.88589,     0.88689,     0.88789,\n",
      "           0.88889,     0.88989,     0.89089,     0.89189,     0.89289,     0.89389,     0.89489,      0.8959,      0.8969,      0.8979,      0.8989,      0.8999,      0.9009,      0.9019,      0.9029,      0.9039,      0.9049,     0.90591,     0.90691,     0.90791,     0.90891,     0.90991,     0.91091,     0.91191,\n",
      "           0.91291,     0.91391,     0.91491,     0.91592,     0.91692,     0.91792,     0.91892,     0.91992,     0.92092,     0.92192,     0.92292,     0.92392,     0.92492,     0.92593,     0.92693,     0.92793,     0.92893,     0.92993,     0.93093,     0.93193,     0.93293,     0.93393,     0.93493,     0.93594,\n",
      "           0.93694,     0.93794,     0.93894,     0.93994,     0.94094,     0.94194,     0.94294,     0.94394,     0.94494,     0.94595,     0.94695,     0.94795,     0.94895,     0.94995,     0.95095,     0.95195,     0.95295,     0.95395,     0.95495,     0.95596,     0.95696,     0.95796,     0.95896,     0.95996,\n",
      "           0.96096,     0.96196,     0.96296,     0.96396,     0.96496,     0.96597,     0.96697,     0.96797,     0.96897,     0.96997,     0.97097,     0.97197,     0.97297,     0.97397,     0.97497,     0.97598,     0.97698,     0.97798,     0.97898,     0.97998,     0.98098,     0.98198,     0.98298,     0.98398,\n",
      "           0.98498,     0.98599,     0.98699,     0.98799,     0.98899,     0.98999,     0.99099,     0.99199,     0.99299,     0.99399,     0.99499,       0.996,       0.997,       0.998,       0.999,           1]), array([[   0.028221,    0.028221,    0.030606,    0.034322,    0.038244,    0.041497,    0.044518,    0.046927,    0.049236,    0.051028,    0.053032,     0.05504,     0.05706,    0.058663,    0.060003,    0.061602,    0.063239,     0.06516,    0.066506,    0.067707,    0.069475,    0.071347,    0.072757,\n",
      "           0.074312,    0.075798,    0.077567,    0.078957,    0.079567,    0.081097,    0.082655,    0.083865,    0.084661,    0.086127,    0.087659,    0.089021,    0.090747,    0.092183,    0.093347,    0.094624,     0.09592,    0.096414,    0.098462,     0.10046,     0.10255,     0.10386,     0.10555,\n",
      "            0.10685,     0.10907,     0.11092,     0.11264,     0.11424,     0.11593,     0.11751,     0.11854,     0.11912,      0.1197,     0.12098,     0.12293,     0.12334,     0.12476,     0.12717,      0.1285,     0.12987,     0.13213,     0.13374,     0.13532,     0.13811,      0.1389,     0.13946,\n",
      "            0.13957,     0.14022,     0.14242,     0.14266,     0.14452,     0.14604,     0.14774,     0.14955,     0.15013,     0.15294,     0.15565,       0.157,     0.15914,     0.16115,     0.16336,     0.16513,     0.16634,     0.16873,     0.16984,     0.17192,     0.17167,     0.17198,     0.17341,\n",
      "            0.17304,     0.17498,     0.17568,     0.17542,     0.17357,     0.17428,     0.17532,     0.17745,     0.17706,     0.17844,     0.17712,     0.17908,      0.1785,      0.1787,     0.18058,     0.18004,     0.18023,     0.17905,     0.18116,     0.18407,     0.18528,     0.18694,     0.18578,\n",
      "            0.18502,     0.18688,     0.18855,     0.18811,     0.19046,     0.19145,     0.19352,     0.19242,     0.19408,     0.19665,     0.19903,     0.20048,     0.20224,     0.20344,      0.2043,     0.20833,     0.21025,     0.21253,     0.21383,     0.21525,     0.21693,     0.21569,     0.21359,\n",
      "            0.21478,     0.21637,     0.21538,     0.21342,     0.21491,     0.21609,     0.21737,     0.21553,     0.21768,      0.2167,     0.21737,     0.21976,     0.22093,     0.22132,      0.2221,     0.22283,     0.22532,     0.22674,     0.22899,     0.22674,     0.22853,     0.23052,      0.2316,\n",
      "            0.22605,     0.22753,     0.22848,     0.23069,      0.2326,     0.23081,     0.22445,     0.22677,     0.22443,     0.22321,     0.22455,     0.22505,     0.22591,       0.227,     0.22775,     0.22903,     0.22948,     0.22983,     0.23138,     0.22558,     0.22726,      0.2246,     0.22589,\n",
      "            0.22724,     0.22928,     0.23027,     0.23156,     0.23363,     0.23623,     0.23848,     0.23171,     0.22566,      0.2267,      0.2287,     0.23077,     0.23235,     0.23264,     0.23308,     0.23615,     0.23715,     0.23104,     0.23048,     0.23151,     0.23297,     0.23488,     0.23659,\n",
      "            0.23785,     0.23065,      0.2303,     0.23175,     0.23255,     0.23302,     0.23384,     0.23489,     0.23677,     0.23856,     0.23892,     0.23944,     0.24113,     0.24168,     0.24292,     0.24312,     0.24332,     0.24352,     0.24383,     0.24414,     0.24574,     0.24632,      0.2467,\n",
      "            0.25011,     0.25119,     0.25259,     0.25367,     0.24992,     0.24571,     0.24768,      0.2493,     0.24608,     0.24381,      0.2448,     0.24085,      0.2412,     0.24212,     0.24274,     0.24402,     0.24092,     0.24143,     0.24174,     0.23814,     0.23226,     0.23307,     0.23452,\n",
      "            0.23319,     0.23186,     0.23052,     0.23023,     0.23088,     0.23191,     0.23265,     0.22918,     0.22797,     0.22837,     0.22988,     0.23051,     0.23096,     0.23138,     0.23174,     0.23254,     0.23338,     0.23537,     0.23598,      0.2364,     0.23266,     0.23102,     0.23151,\n",
      "            0.23235,     0.23292,     0.22995,     0.22744,     0.22825,     0.22302,     0.22323,     0.22344,     0.22365,     0.22412,     0.22482,     0.22596,     0.22587,     0.22145,     0.22005,     0.21622,     0.21741,     0.21788,     0.20737,     0.20774,     0.20793,     0.20813,     0.20832,\n",
      "            0.21026,     0.20491,     0.20591,     0.20672,     0.20666,     0.20467,     0.20269,     0.20073,     0.20158,     0.20195,     0.19827,     0.19679,     0.19364,     0.18899,     0.18516,     0.18531,     0.18543,     0.18556,     0.18568,     0.18581,     0.18605,     0.18642,     0.18877,\n",
      "            0.18325,     0.18249,     0.17753,     0.17798,     0.17838,     0.17875,     0.17768,     0.17381,     0.17209,     0.17251,     0.17338,     0.17384,     0.17475,     0.17493,      0.1751,     0.17528,      0.1754,     0.17279,     0.17017,     0.16875,     0.16892,      0.1691,     0.16927,\n",
      "            0.16995,     0.17066,     0.16846,     0.16593,     0.16339,      0.1634,     0.16354,     0.16368,     0.16383,     0.16405,      0.1646,     0.16483,     0.16506,     0.16528,     0.16449,      0.1584,     0.15872,     0.15903,     0.15925,     0.15948,     0.15975,     0.16021,     0.16052,\n",
      "            0.16077,     0.16102,     0.16129,     0.16155,     0.16008,     0.15619,     0.15388,     0.15396,     0.15404,     0.15412,      0.1542,     0.15428,     0.15436,     0.15444,     0.15409,     0.14995,     0.14451,     0.13862,      0.1388,     0.13898,     0.13915,     0.13927,      0.1394,\n",
      "            0.13952,     0.13964,      0.1395,     0.13829,     0.13708,     0.13587,     0.13466,     0.13345,     0.13224,     0.13107,     0.12998,     0.12888,     0.12778,     0.12668,     0.12558,     0.12448,     0.12338,      0.1238,     0.12429,     0.11473,     0.11211,     0.10949,     0.10635,\n",
      "            0.10194,     0.09754,    0.093191,    0.090551,    0.090688,    0.090823,    0.090177,    0.083421,    0.082599,    0.082633,    0.082668,    0.082702,    0.082736,    0.082769,    0.082803,    0.082836,    0.082869,    0.082902,    0.082935,    0.082983,    0.083043,    0.083103,    0.083162,\n",
      "            0.08322,    0.083278,    0.083343,    0.083587,    0.083792,    0.083954,    0.084111,    0.078281,     0.07524,     0.07466,    0.066395,    0.066445,    0.066538,    0.066628,    0.066886,    0.061375,    0.053363,    0.048321,    0.048351,    0.048381,     0.04841,    0.048439,    0.048467,\n",
      "           0.048496,    0.048523,    0.048567,    0.048657,    0.048742,     0.03964,    0.038809,    0.034537,     0.03026,    0.029709,    0.029715,    0.029722,    0.029728,    0.029734,    0.029741,    0.029747,    0.029753,    0.029759,    0.029765,    0.029772,    0.029778,    0.029784,     0.02979,\n",
      "           0.029796,    0.029801,    0.029807,    0.029813,    0.029819,    0.029825,     0.02983,    0.029836,    0.029842,    0.029847,    0.029854,    0.029862,     0.02987,    0.029878,    0.029886,    0.029894,    0.029902,     0.02991,    0.029917,    0.029925,    0.029932,     0.02994,    0.029947,\n",
      "           0.029955,    0.029962,    0.029969,    0.029976,    0.029983,     0.02999,    0.029997,     0.03013,     0.03017,     0.03019,     0.03021,    0.030229,    0.030248,    0.030266,    0.030284,    0.030301,     0.03036,    0.030417,    0.030459,    0.030467,    0.030474,    0.030482,    0.030489,\n",
      "           0.030496,    0.030504,    0.030511,    0.030518,    0.030525,    0.030532,    0.030538,    0.030545,    0.030552,    0.030558,    0.030565,    0.030571,    0.030577,    0.030583,    0.030589,    0.030596,    0.030601,    0.030607,    0.030576,    0.030357,    0.030138,    0.029918,    0.029699,\n",
      "           0.029479,     0.02926,    0.029041,    0.028821,    0.028602,    0.028382,    0.028163,    0.027943,    0.027724,    0.027504,    0.027285,    0.027065,    0.026845,    0.026626,    0.026406,    0.026186,    0.025967,    0.025747,    0.025527,    0.025308,    0.025088,    0.024868,    0.024648,\n",
      "           0.024428,    0.024208,    0.023989,    0.023769,    0.023549,    0.023329,    0.023109,    0.022889,    0.022669,    0.022449,    0.022229,    0.022009,    0.021788,    0.021568,    0.021348,    0.021128,    0.020908,    0.020687,    0.020513,    0.020516,    0.020519,    0.020522,    0.020525,\n",
      "           0.020528,    0.020531,    0.020534,    0.020536,    0.020539,    0.020542,    0.020545,    0.020547,     0.02055,    0.020552,    0.020555,    0.020557,     0.02056,    0.020562,    0.020565,    0.020567,     0.02057,    0.020572,    0.020575,    0.020577,    0.020579,    0.020582,    0.020584,\n",
      "           0.020586,    0.020588,    0.020591,    0.020593,    0.020595,    0.020597,    0.020599,    0.020601,    0.020603,    0.020605,    0.020607,     0.02061,    0.020612,    0.020614,    0.020615,    0.020617,    0.020621,    0.020627,    0.020632,    0.020638,    0.020643,    0.020648,    0.020653,\n",
      "           0.020658,    0.020663,    0.020668,    0.020672,    0.020677,    0.020681,    0.020685,    0.020689,    0.020694,    0.020697,    0.020701,    0.020705,    0.020709,    0.020713,    0.020716,     0.02072,    0.020723,    0.020437,    0.019467,    0.018497,    0.017526,    0.016555,    0.015584,\n",
      "           0.014612,    0.013639,    0.012666,    0.011692,    0.010717,    0.010102,    0.009648,   0.0091937,   0.0087393,    0.008285,   0.0078307,   0.0073763,    0.006922,   0.0064677,   0.0060133,    0.005559,   0.0051046,   0.0046503,    0.004196,   0.0037416,   0.0032873,    0.002833,   0.0023786,\n",
      "          0.0019243,     0.00147,   0.0010156,  0.00056128,  0.00010694,           0,           0,           0,           0,           0,           0,           0,           0,           0,           0,           0,           0,           0,           0,           0,           0,           0,           0,\n",
      "                  0,           0,           0,           0,           0,           0,           0,           0,           0,           0,           0,           0,           0,           0,           0,           0,           0,           0,           0,           0,           0,           0,           0,\n",
      "                  0,           0,           0,           0,           0,           0,           0,           0,           0,           0,           0,           0,           0,           0,           0,           0,           0,           0,           0,           0,           0,           0,           0,\n",
      "                  0,           0,           0,           0,           0,           0,           0,           0,           0,           0,           0,           0,           0,           0,           0,           0,           0,           0,           0,           0,           0,           0,           0,\n",
      "                  0,           0,           0,           0,           0,           0,           0,           0,           0,           0,           0,           0,           0,           0,           0,           0,           0,           0,           0,           0,           0,           0,           0,\n",
      "                  0,           0,           0,           0,           0,           0,           0,           0,           0,           0,           0,           0,           0,           0,           0,           0,           0,           0,           0,           0,           0,           0,           0,\n",
      "                  0,           0,           0,           0,           0,           0,           0,           0,           0,           0,           0,           0,           0,           0,           0,           0,           0,           0,           0,           0,           0,           0,           0,\n",
      "                  0,           0,           0,           0,           0,           0,           0,           0,           0,           0,           0,           0,           0,           0,           0,           0,           0,           0,           0,           0,           0,           0,           0,\n",
      "                  0,           0,           0,           0,           0,           0,           0,           0,           0,           0,           0,           0,           0,           0,           0,           0,           0,           0,           0,           0,           0,           0,           0,\n",
      "                  0,           0,           0,           0,           0,           0,           0,           0,           0,           0,           0,           0,           0,           0,           0,           0,           0,           0,           0,           0,           0,           0,           0,\n",
      "                  0,           0,           0,           0,           0,           0,           0,           0,           0,           0,           0,           0,           0,           0,           0,           0,           0,           0,           0,           0,           0,           0,           0,\n",
      "                  0,           0,           0,           0,           0,           0,           0,           0,           0,           0,           0,           0,           0,           0,           0,           0,           0,           0,           0,           0,           0,           0,           0,\n",
      "                  0,           0,           0,           0,           0,           0,           0,           0,           0,           0,           0,           0,           0,           0,           0,           0,           0,           0,           0,           0,           0,           0,           0,\n",
      "                  0,           0,           0,           0,           0,           0,           0,           0,           0,           0,           0]]), 'Confidence', 'F1'], [array([          0,    0.001001,    0.002002,    0.003003,    0.004004,    0.005005,    0.006006,    0.007007,    0.008008,    0.009009,     0.01001,    0.011011,    0.012012,    0.013013,    0.014014,    0.015015,    0.016016,    0.017017,    0.018018,    0.019019,     0.02002,    0.021021,    0.022022,    0.023023,\n",
      "          0.024024,    0.025025,    0.026026,    0.027027,    0.028028,    0.029029,     0.03003,    0.031031,    0.032032,    0.033033,    0.034034,    0.035035,    0.036036,    0.037037,    0.038038,    0.039039,     0.04004,    0.041041,    0.042042,    0.043043,    0.044044,    0.045045,    0.046046,    0.047047,\n",
      "          0.048048,    0.049049,     0.05005,    0.051051,    0.052052,    0.053053,    0.054054,    0.055055,    0.056056,    0.057057,    0.058058,    0.059059,     0.06006,    0.061061,    0.062062,    0.063063,    0.064064,    0.065065,    0.066066,    0.067067,    0.068068,    0.069069,     0.07007,    0.071071,\n",
      "          0.072072,    0.073073,    0.074074,    0.075075,    0.076076,    0.077077,    0.078078,    0.079079,     0.08008,    0.081081,    0.082082,    0.083083,    0.084084,    0.085085,    0.086086,    0.087087,    0.088088,    0.089089,     0.09009,    0.091091,    0.092092,    0.093093,    0.094094,    0.095095,\n",
      "          0.096096,    0.097097,    0.098098,    0.099099,      0.1001,      0.1011,      0.1021,      0.1031,      0.1041,     0.10511,     0.10611,     0.10711,     0.10811,     0.10911,     0.11011,     0.11111,     0.11211,     0.11311,     0.11411,     0.11512,     0.11612,     0.11712,     0.11812,     0.11912,\n",
      "           0.12012,     0.12112,     0.12212,     0.12312,     0.12412,     0.12513,     0.12613,     0.12713,     0.12813,     0.12913,     0.13013,     0.13113,     0.13213,     0.13313,     0.13413,     0.13514,     0.13614,     0.13714,     0.13814,     0.13914,     0.14014,     0.14114,     0.14214,     0.14314,\n",
      "           0.14414,     0.14515,     0.14615,     0.14715,     0.14815,     0.14915,     0.15015,     0.15115,     0.15215,     0.15315,     0.15415,     0.15516,     0.15616,     0.15716,     0.15816,     0.15916,     0.16016,     0.16116,     0.16216,     0.16316,     0.16416,     0.16517,     0.16617,     0.16717,\n",
      "           0.16817,     0.16917,     0.17017,     0.17117,     0.17217,     0.17317,     0.17417,     0.17518,     0.17618,     0.17718,     0.17818,     0.17918,     0.18018,     0.18118,     0.18218,     0.18318,     0.18418,     0.18519,     0.18619,     0.18719,     0.18819,     0.18919,     0.19019,     0.19119,\n",
      "           0.19219,     0.19319,     0.19419,      0.1952,      0.1962,      0.1972,      0.1982,      0.1992,      0.2002,      0.2012,      0.2022,      0.2032,      0.2042,     0.20521,     0.20621,     0.20721,     0.20821,     0.20921,     0.21021,     0.21121,     0.21221,     0.21321,     0.21421,     0.21522,\n",
      "           0.21622,     0.21722,     0.21822,     0.21922,     0.22022,     0.22122,     0.22222,     0.22322,     0.22422,     0.22523,     0.22623,     0.22723,     0.22823,     0.22923,     0.23023,     0.23123,     0.23223,     0.23323,     0.23423,     0.23524,     0.23624,     0.23724,     0.23824,     0.23924,\n",
      "           0.24024,     0.24124,     0.24224,     0.24324,     0.24424,     0.24525,     0.24625,     0.24725,     0.24825,     0.24925,     0.25025,     0.25125,     0.25225,     0.25325,     0.25425,     0.25526,     0.25626,     0.25726,     0.25826,     0.25926,     0.26026,     0.26126,     0.26226,     0.26326,\n",
      "           0.26426,     0.26527,     0.26627,     0.26727,     0.26827,     0.26927,     0.27027,     0.27127,     0.27227,     0.27327,     0.27427,     0.27528,     0.27628,     0.27728,     0.27828,     0.27928,     0.28028,     0.28128,     0.28228,     0.28328,     0.28428,     0.28529,     0.28629,     0.28729,\n",
      "           0.28829,     0.28929,     0.29029,     0.29129,     0.29229,     0.29329,     0.29429,      0.2953,      0.2963,      0.2973,      0.2983,      0.2993,      0.3003,      0.3013,      0.3023,      0.3033,      0.3043,     0.30531,     0.30631,     0.30731,     0.30831,     0.30931,     0.31031,     0.31131,\n",
      "           0.31231,     0.31331,     0.31431,     0.31532,     0.31632,     0.31732,     0.31832,     0.31932,     0.32032,     0.32132,     0.32232,     0.32332,     0.32432,     0.32533,     0.32633,     0.32733,     0.32833,     0.32933,     0.33033,     0.33133,     0.33233,     0.33333,     0.33433,     0.33534,\n",
      "           0.33634,     0.33734,     0.33834,     0.33934,     0.34034,     0.34134,     0.34234,     0.34334,     0.34434,     0.34535,     0.34635,     0.34735,     0.34835,     0.34935,     0.35035,     0.35135,     0.35235,     0.35335,     0.35435,     0.35536,     0.35636,     0.35736,     0.35836,     0.35936,\n",
      "           0.36036,     0.36136,     0.36236,     0.36336,     0.36436,     0.36537,     0.36637,     0.36737,     0.36837,     0.36937,     0.37037,     0.37137,     0.37237,     0.37337,     0.37437,     0.37538,     0.37638,     0.37738,     0.37838,     0.37938,     0.38038,     0.38138,     0.38238,     0.38338,\n",
      "           0.38438,     0.38539,     0.38639,     0.38739,     0.38839,     0.38939,     0.39039,     0.39139,     0.39239,     0.39339,     0.39439,      0.3954,      0.3964,      0.3974,      0.3984,      0.3994,      0.4004,      0.4014,      0.4024,      0.4034,      0.4044,     0.40541,     0.40641,     0.40741,\n",
      "           0.40841,     0.40941,     0.41041,     0.41141,     0.41241,     0.41341,     0.41441,     0.41542,     0.41642,     0.41742,     0.41842,     0.41942,     0.42042,     0.42142,     0.42242,     0.42342,     0.42442,     0.42543,     0.42643,     0.42743,     0.42843,     0.42943,     0.43043,     0.43143,\n",
      "           0.43243,     0.43343,     0.43443,     0.43544,     0.43644,     0.43744,     0.43844,     0.43944,     0.44044,     0.44144,     0.44244,     0.44344,     0.44444,     0.44545,     0.44645,     0.44745,     0.44845,     0.44945,     0.45045,     0.45145,     0.45245,     0.45345,     0.45445,     0.45546,\n",
      "           0.45646,     0.45746,     0.45846,     0.45946,     0.46046,     0.46146,     0.46246,     0.46346,     0.46446,     0.46547,     0.46647,     0.46747,     0.46847,     0.46947,     0.47047,     0.47147,     0.47247,     0.47347,     0.47447,     0.47548,     0.47648,     0.47748,     0.47848,     0.47948,\n",
      "           0.48048,     0.48148,     0.48248,     0.48348,     0.48448,     0.48549,     0.48649,     0.48749,     0.48849,     0.48949,     0.49049,     0.49149,     0.49249,     0.49349,     0.49449,      0.4955,      0.4965,      0.4975,      0.4985,      0.4995,      0.5005,      0.5015,      0.5025,      0.5035,\n",
      "            0.5045,     0.50551,     0.50651,     0.50751,     0.50851,     0.50951,     0.51051,     0.51151,     0.51251,     0.51351,     0.51451,     0.51552,     0.51652,     0.51752,     0.51852,     0.51952,     0.52052,     0.52152,     0.52252,     0.52352,     0.52452,     0.52553,     0.52653,     0.52753,\n",
      "           0.52853,     0.52953,     0.53053,     0.53153,     0.53253,     0.53353,     0.53453,     0.53554,     0.53654,     0.53754,     0.53854,     0.53954,     0.54054,     0.54154,     0.54254,     0.54354,     0.54454,     0.54555,     0.54655,     0.54755,     0.54855,     0.54955,     0.55055,     0.55155,\n",
      "           0.55255,     0.55355,     0.55455,     0.55556,     0.55656,     0.55756,     0.55856,     0.55956,     0.56056,     0.56156,     0.56256,     0.56356,     0.56456,     0.56557,     0.56657,     0.56757,     0.56857,     0.56957,     0.57057,     0.57157,     0.57257,     0.57357,     0.57457,     0.57558,\n",
      "           0.57658,     0.57758,     0.57858,     0.57958,     0.58058,     0.58158,     0.58258,     0.58358,     0.58458,     0.58559,     0.58659,     0.58759,     0.58859,     0.58959,     0.59059,     0.59159,     0.59259,     0.59359,     0.59459,      0.5956,      0.5966,      0.5976,      0.5986,      0.5996,\n",
      "            0.6006,      0.6016,      0.6026,      0.6036,      0.6046,     0.60561,     0.60661,     0.60761,     0.60861,     0.60961,     0.61061,     0.61161,     0.61261,     0.61361,     0.61461,     0.61562,     0.61662,     0.61762,     0.61862,     0.61962,     0.62062,     0.62162,     0.62262,     0.62362,\n",
      "           0.62462,     0.62563,     0.62663,     0.62763,     0.62863,     0.62963,     0.63063,     0.63163,     0.63263,     0.63363,     0.63463,     0.63564,     0.63664,     0.63764,     0.63864,     0.63964,     0.64064,     0.64164,     0.64264,     0.64364,     0.64464,     0.64565,     0.64665,     0.64765,\n",
      "           0.64865,     0.64965,     0.65065,     0.65165,     0.65265,     0.65365,     0.65465,     0.65566,     0.65666,     0.65766,     0.65866,     0.65966,     0.66066,     0.66166,     0.66266,     0.66366,     0.66466,     0.66567,     0.66667,     0.66767,     0.66867,     0.66967,     0.67067,     0.67167,\n",
      "           0.67267,     0.67367,     0.67467,     0.67568,     0.67668,     0.67768,     0.67868,     0.67968,     0.68068,     0.68168,     0.68268,     0.68368,     0.68468,     0.68569,     0.68669,     0.68769,     0.68869,     0.68969,     0.69069,     0.69169,     0.69269,     0.69369,     0.69469,      0.6957,\n",
      "            0.6967,      0.6977,      0.6987,      0.6997,      0.7007,      0.7017,      0.7027,      0.7037,      0.7047,     0.70571,     0.70671,     0.70771,     0.70871,     0.70971,     0.71071,     0.71171,     0.71271,     0.71371,     0.71471,     0.71572,     0.71672,     0.71772,     0.71872,     0.71972,\n",
      "           0.72072,     0.72172,     0.72272,     0.72372,     0.72472,     0.72573,     0.72673,     0.72773,     0.72873,     0.72973,     0.73073,     0.73173,     0.73273,     0.73373,     0.73473,     0.73574,     0.73674,     0.73774,     0.73874,     0.73974,     0.74074,     0.74174,     0.74274,     0.74374,\n",
      "           0.74474,     0.74575,     0.74675,     0.74775,     0.74875,     0.74975,     0.75075,     0.75175,     0.75275,     0.75375,     0.75475,     0.75576,     0.75676,     0.75776,     0.75876,     0.75976,     0.76076,     0.76176,     0.76276,     0.76376,     0.76476,     0.76577,     0.76677,     0.76777,\n",
      "           0.76877,     0.76977,     0.77077,     0.77177,     0.77277,     0.77377,     0.77477,     0.77578,     0.77678,     0.77778,     0.77878,     0.77978,     0.78078,     0.78178,     0.78278,     0.78378,     0.78478,     0.78579,     0.78679,     0.78779,     0.78879,     0.78979,     0.79079,     0.79179,\n",
      "           0.79279,     0.79379,     0.79479,      0.7958,      0.7968,      0.7978,      0.7988,      0.7998,      0.8008,      0.8018,      0.8028,      0.8038,      0.8048,     0.80581,     0.80681,     0.80781,     0.80881,     0.80981,     0.81081,     0.81181,     0.81281,     0.81381,     0.81481,     0.81582,\n",
      "           0.81682,     0.81782,     0.81882,     0.81982,     0.82082,     0.82182,     0.82282,     0.82382,     0.82482,     0.82583,     0.82683,     0.82783,     0.82883,     0.82983,     0.83083,     0.83183,     0.83283,     0.83383,     0.83483,     0.83584,     0.83684,     0.83784,     0.83884,     0.83984,\n",
      "           0.84084,     0.84184,     0.84284,     0.84384,     0.84484,     0.84585,     0.84685,     0.84785,     0.84885,     0.84985,     0.85085,     0.85185,     0.85285,     0.85385,     0.85485,     0.85586,     0.85686,     0.85786,     0.85886,     0.85986,     0.86086,     0.86186,     0.86286,     0.86386,\n",
      "           0.86486,     0.86587,     0.86687,     0.86787,     0.86887,     0.86987,     0.87087,     0.87187,     0.87287,     0.87387,     0.87487,     0.87588,     0.87688,     0.87788,     0.87888,     0.87988,     0.88088,     0.88188,     0.88288,     0.88388,     0.88488,     0.88589,     0.88689,     0.88789,\n",
      "           0.88889,     0.88989,     0.89089,     0.89189,     0.89289,     0.89389,     0.89489,      0.8959,      0.8969,      0.8979,      0.8989,      0.8999,      0.9009,      0.9019,      0.9029,      0.9039,      0.9049,     0.90591,     0.90691,     0.90791,     0.90891,     0.90991,     0.91091,     0.91191,\n",
      "           0.91291,     0.91391,     0.91491,     0.91592,     0.91692,     0.91792,     0.91892,     0.91992,     0.92092,     0.92192,     0.92292,     0.92392,     0.92492,     0.92593,     0.92693,     0.92793,     0.92893,     0.92993,     0.93093,     0.93193,     0.93293,     0.93393,     0.93493,     0.93594,\n",
      "           0.93694,     0.93794,     0.93894,     0.93994,     0.94094,     0.94194,     0.94294,     0.94394,     0.94494,     0.94595,     0.94695,     0.94795,     0.94895,     0.94995,     0.95095,     0.95195,     0.95295,     0.95395,     0.95495,     0.95596,     0.95696,     0.95796,     0.95896,     0.95996,\n",
      "           0.96096,     0.96196,     0.96296,     0.96396,     0.96496,     0.96597,     0.96697,     0.96797,     0.96897,     0.96997,     0.97097,     0.97197,     0.97297,     0.97397,     0.97497,     0.97598,     0.97698,     0.97798,     0.97898,     0.97998,     0.98098,     0.98198,     0.98298,     0.98398,\n",
      "           0.98498,     0.98599,     0.98699,     0.98799,     0.98899,     0.98999,     0.99099,     0.99199,     0.99299,     0.99399,     0.99499,       0.996,       0.997,       0.998,       0.999,           1]), array([[   0.014469,    0.014469,    0.015727,    0.017695,    0.019788,    0.021535,    0.023166,    0.024474,    0.025732,    0.026725,    0.027826,    0.028934,    0.030052,    0.030943,    0.031706,    0.032619,    0.033538,    0.034621,    0.035382,    0.036085,    0.037092,    0.038161,    0.038968,\n",
      "           0.039862,    0.040718,    0.041741,    0.042579,    0.042968,    0.043861,    0.044775,    0.045486,    0.045993,     0.04686,    0.047768,    0.048578,    0.049608,    0.050467,    0.051166,    0.051985,    0.052768,    0.053122,    0.054368,    0.055586,     0.05687,    0.057678,    0.058725,\n",
      "           0.059527,     0.06091,    0.062064,    0.063145,    0.064151,     0.06522,    0.066221,    0.066877,    0.067335,    0.067799,    0.068619,    0.069877,    0.070241,    0.071166,    0.072739,    0.073725,    0.074628,    0.076123,    0.077195,    0.078245,     0.08012,    0.080791,    0.081313,\n",
      "           0.081539,    0.082136,     0.08365,    0.083979,    0.085271,    0.086327,    0.087517,    0.088791,    0.089387,    0.091386,     0.09333,    0.094305,    0.095854,    0.097313,    0.098933,     0.10023,     0.10113,      0.1029,     0.10373,     0.10528,     0.10536,     0.10579,     0.10696,\n",
      "            0.10697,     0.10845,      0.1093,     0.10942,     0.10863,     0.10919,        0.11,     0.11169,     0.11173,     0.11284,     0.11215,     0.11373,     0.11364,     0.11421,     0.11575,     0.11553,     0.11588,     0.11534,      0.1171,     0.11954,     0.12056,     0.12198,     0.12147,\n",
      "            0.12133,     0.12293,     0.12438,     0.12454,     0.12661,     0.12749,     0.12933,     0.12894,     0.13045,     0.13278,     0.13496,     0.13629,     0.13793,     0.13905,     0.13985,     0.14365,     0.14548,     0.14768,     0.14894,     0.15032,     0.15196,     0.15159,     0.15039,\n",
      "            0.15157,     0.15316,     0.15308,     0.15204,     0.15356,     0.15477,     0.15609,     0.15519,     0.15743,     0.15747,     0.15817,     0.16072,     0.16197,     0.16239,     0.16323,     0.16402,     0.16674,      0.1683,     0.17079,     0.16956,     0.17157,     0.17382,     0.17505,\n",
      "            0.17137,     0.17318,     0.17428,     0.17687,     0.17912,     0.17799,      0.1741,     0.17715,     0.17571,     0.17592,      0.1776,     0.17823,      0.1793,     0.18068,     0.18163,     0.18326,     0.18384,     0.18429,      0.1863,     0.18271,     0.18493,     0.18349,     0.18521,\n",
      "            0.18703,     0.18981,     0.19117,     0.19295,     0.19585,     0.19953,     0.20276,     0.19815,     0.19396,      0.1962,     0.19923,     0.20239,     0.20483,     0.20527,     0.20597,      0.2108,     0.21241,     0.20799,     0.20833,     0.21003,     0.21243,     0.21563,     0.21854,\n",
      "            0.22069,     0.21478,     0.21543,     0.21799,     0.21941,     0.22024,     0.22171,     0.22361,     0.22705,     0.23035,     0.23103,       0.232,     0.23521,     0.23624,     0.23863,     0.23902,      0.2394,     0.23978,     0.24039,       0.241,     0.24414,     0.24527,     0.24604,\n",
      "            0.25292,     0.25513,     0.25803,      0.2603,     0.25825,     0.25527,     0.25955,     0.26315,     0.26251,     0.26424,     0.26657,     0.26455,     0.26539,     0.26763,     0.26914,     0.27231,     0.27267,     0.27397,     0.27479,     0.27164,     0.26743,     0.26958,     0.27424,\n",
      "            0.27296,     0.27167,     0.27039,     0.27122,     0.27305,     0.27595,     0.27804,     0.27554,     0.27487,     0.27606,     0.28051,      0.2824,     0.28375,       0.285,     0.28611,     0.28856,     0.29115,     0.29744,     0.29938,     0.30075,       0.297,     0.29591,     0.29751,\n",
      "            0.30032,     0.30221,     0.29937,     0.29717,     0.29997,     0.29591,     0.29665,     0.29738,     0.29812,      0.2998,     0.30233,     0.30649,     0.30824,     0.30351,     0.30401,      0.3019,     0.30657,     0.31007,     0.30199,     0.30357,     0.30441,     0.30524,     0.30607,\n",
      "            0.31458,     0.31165,     0.31633,      0.3202,     0.32164,     0.31929,     0.31694,     0.31466,     0.31888,     0.32077,     0.31712,     0.31988,     0.31716,     0.31431,     0.31238,      0.3132,     0.31392,     0.31464,     0.31536,     0.31607,     0.31747,     0.31965,     0.33701,\n",
      "            0.33361,     0.33611,      0.3328,       0.336,     0.33882,     0.34151,     0.34145,     0.33604,     0.33495,     0.33818,     0.34496,     0.34858,     0.35603,     0.35751,       0.359,     0.36048,     0.36578,     0.36195,     0.35813,      0.3566,     0.35816,     0.35972,     0.36127,\n",
      "            0.36753,     0.37434,     0.37154,     0.36769,     0.36383,     0.36499,     0.36641,     0.36783,     0.36926,      0.3716,     0.37726,     0.37971,     0.38211,     0.38451,     0.38979,     0.38076,     0.38451,     0.38811,     0.39085,     0.39358,     0.39685,     0.40259,     0.40657,\n",
      "            0.40984,     0.41311,     0.41664,     0.42017,     0.41951,     0.41301,     0.40955,     0.41069,     0.41184,     0.41299,     0.41413,     0.41528,     0.41643,     0.41757,     0.41788,     0.41068,     0.40107,     0.39163,     0.39455,     0.39746,     0.40027,     0.40235,     0.40443,\n",
      "            0.40651,     0.40858,     0.40981,      0.4075,      0.4052,     0.40289,     0.40059,     0.39829,     0.39598,     0.39373,     0.39155,     0.38936,     0.38718,     0.38499,     0.38281,     0.38062,     0.37843,     0.38713,     0.39686,     0.37938,     0.37358,     0.36777,     0.36067,\n",
      "            0.35036,     0.33991,      0.3292,     0.32393,     0.32748,     0.33103,     0.34176,      0.3237,     0.32235,      0.3234,     0.32445,      0.3255,     0.32655,      0.3276,     0.32865,      0.3297,     0.33076,     0.33181,     0.33286,     0.33441,     0.33638,     0.33835,     0.34032,\n",
      "            0.34229,     0.34426,     0.34648,      0.3551,     0.36266,     0.36881,     0.37497,     0.35737,     0.35318,     0.36094,     0.33348,     0.33817,     0.34303,     0.34789,     0.36245,     0.34723,     0.31523,       0.295,     0.29726,     0.29952,     0.30178,     0.30404,      0.3063,\n",
      "            0.30856,     0.31082,     0.31447,     0.32213,      0.3298,     0.28782,     0.30412,     0.27872,     0.25331,     0.25081,     0.25173,     0.25266,     0.25359,     0.25452,     0.25544,     0.25637,      0.2573,     0.25823,     0.25915,     0.26008,     0.26101,     0.26194,     0.26286,\n",
      "            0.26379,     0.26472,     0.26565,     0.26657,      0.2675,     0.26843,     0.26935,     0.27028,     0.27121,     0.27214,     0.27323,     0.27461,     0.27599,     0.27737,     0.27875,     0.28013,     0.28152,      0.2829,     0.28428,     0.28566,     0.28704,     0.28842,      0.2898,\n",
      "            0.29118,     0.29256,     0.29395,     0.29533,     0.29671,     0.29809,     0.29947,     0.32842,     0.33799,      0.3432,     0.34841,     0.35361,     0.35882,     0.36403,     0.36924,     0.37445,     0.39314,     0.41342,     0.42935,     0.43245,     0.43554,     0.43863,     0.44173,\n",
      "            0.44482,     0.44792,     0.45101,      0.4541,      0.4572,     0.46029,     0.46338,     0.46648,     0.46957,     0.47266,     0.47576,     0.47885,     0.48195,     0.48504,     0.48813,     0.49123,     0.49432,     0.49741,     0.49964,     0.49747,     0.49529,     0.49312,     0.49094,\n",
      "            0.48876,     0.48659,     0.48441,     0.48224,     0.48006,     0.47788,     0.47571,     0.47353,     0.47136,     0.46918,       0.467,     0.46483,     0.46265,     0.46048,      0.4583,     0.45612,     0.45395,     0.45177,      0.4496,     0.44742,     0.44524,     0.44307,     0.44089,\n",
      "            0.43872,     0.43654,     0.43436,     0.43219,     0.43001,     0.42784,     0.42566,     0.42348,     0.42131,     0.41913,     0.41695,     0.41478,      0.4126,     0.41043,     0.40825,     0.40607,      0.4039,     0.40172,     0.40048,     0.40276,     0.40504,     0.40733,     0.40961,\n",
      "             0.4119,     0.41418,     0.41647,     0.41875,     0.42104,     0.42332,     0.42561,     0.42789,     0.43017,     0.43246,     0.43474,     0.43703,     0.43931,      0.4416,     0.44388,     0.44617,     0.44845,     0.45073,     0.45302,      0.4553,     0.45759,     0.45987,     0.46216,\n",
      "            0.46444,     0.46673,     0.46901,     0.47129,     0.47358,     0.47586,     0.47815,     0.48043,     0.48272,       0.485,     0.48729,     0.48957,     0.49186,     0.49414,     0.49642,     0.49871,       0.503,     0.50991,     0.51681,     0.52372,     0.53062,     0.53753,     0.54443,\n",
      "            0.55134,     0.55824,     0.56515,     0.57205,     0.57896,     0.58586,     0.59277,     0.59967,     0.60658,     0.61348,     0.62039,     0.62729,      0.6342,      0.6411,     0.64801,     0.65491,     0.66182,     0.66199,     0.64627,     0.63056,     0.61484,     0.59913,     0.58342,\n",
      "             0.5677,     0.55199,     0.53627,     0.52056,     0.50484,     0.48491,      0.4631,      0.4413,     0.41949,     0.39768,     0.37587,     0.35406,     0.33226,     0.31045,     0.28864,     0.26683,     0.24502,     0.22321,     0.20141,      0.1796,     0.15779,     0.13598,     0.11417,\n",
      "           0.092366,    0.070558,     0.04875,    0.026941,   0.0051333,           1,           1,           1,           1,           1,           1,           1,           1,           1,           1,           1,           1,           1,           1,           1,           1,           1,           1,\n",
      "                  1,           1,           1,           1,           1,           1,           1,           1,           1,           1,           1,           1,           1,           1,           1,           1,           1,           1,           1,           1,           1,           1,           1,\n",
      "                  1,           1,           1,           1,           1,           1,           1,           1,           1,           1,           1,           1,           1,           1,           1,           1,           1,           1,           1,           1,           1,           1,           1,\n",
      "                  1,           1,           1,           1,           1,           1,           1,           1,           1,           1,           1,           1,           1,           1,           1,           1,           1,           1,           1,           1,           1,           1,           1,\n",
      "                  1,           1,           1,           1,           1,           1,           1,           1,           1,           1,           1,           1,           1,           1,           1,           1,           1,           1,           1,           1,           1,           1,           1,\n",
      "                  1,           1,           1,           1,           1,           1,           1,           1,           1,           1,           1,           1,           1,           1,           1,           1,           1,           1,           1,           1,           1,           1,           1,\n",
      "                  1,           1,           1,           1,           1,           1,           1,           1,           1,           1,           1,           1,           1,           1,           1,           1,           1,           1,           1,           1,           1,           1,           1,\n",
      "                  1,           1,           1,           1,           1,           1,           1,           1,           1,           1,           1,           1,           1,           1,           1,           1,           1,           1,           1,           1,           1,           1,           1,\n",
      "                  1,           1,           1,           1,           1,           1,           1,           1,           1,           1,           1,           1,           1,           1,           1,           1,           1,           1,           1,           1,           1,           1,           1,\n",
      "                  1,           1,           1,           1,           1,           1,           1,           1,           1,           1,           1,           1,           1,           1,           1,           1,           1,           1,           1,           1,           1,           1,           1,\n",
      "                  1,           1,           1,           1,           1,           1,           1,           1,           1,           1,           1,           1,           1,           1,           1,           1,           1,           1,           1,           1,           1,           1,           1,\n",
      "                  1,           1,           1,           1,           1,           1,           1,           1,           1,           1,           1,           1,           1,           1,           1,           1,           1,           1,           1,           1,           1,           1,           1,\n",
      "                  1,           1,           1,           1,           1,           1,           1,           1,           1,           1,           1,           1,           1,           1,           1,           1,           1,           1,           1,           1,           1,           1,           1,\n",
      "                  1,           1,           1,           1,           1,           1,           1,           1,           1,           1,           1]]), 'Confidence', 'Precision'], [array([          0,    0.001001,    0.002002,    0.003003,    0.004004,    0.005005,    0.006006,    0.007007,    0.008008,    0.009009,     0.01001,    0.011011,    0.012012,    0.013013,    0.014014,    0.015015,    0.016016,    0.017017,    0.018018,    0.019019,     0.02002,    0.021021,    0.022022,    0.023023,\n",
      "          0.024024,    0.025025,    0.026026,    0.027027,    0.028028,    0.029029,     0.03003,    0.031031,    0.032032,    0.033033,    0.034034,    0.035035,    0.036036,    0.037037,    0.038038,    0.039039,     0.04004,    0.041041,    0.042042,    0.043043,    0.044044,    0.045045,    0.046046,    0.047047,\n",
      "          0.048048,    0.049049,     0.05005,    0.051051,    0.052052,    0.053053,    0.054054,    0.055055,    0.056056,    0.057057,    0.058058,    0.059059,     0.06006,    0.061061,    0.062062,    0.063063,    0.064064,    0.065065,    0.066066,    0.067067,    0.068068,    0.069069,     0.07007,    0.071071,\n",
      "          0.072072,    0.073073,    0.074074,    0.075075,    0.076076,    0.077077,    0.078078,    0.079079,     0.08008,    0.081081,    0.082082,    0.083083,    0.084084,    0.085085,    0.086086,    0.087087,    0.088088,    0.089089,     0.09009,    0.091091,    0.092092,    0.093093,    0.094094,    0.095095,\n",
      "          0.096096,    0.097097,    0.098098,    0.099099,      0.1001,      0.1011,      0.1021,      0.1031,      0.1041,     0.10511,     0.10611,     0.10711,     0.10811,     0.10911,     0.11011,     0.11111,     0.11211,     0.11311,     0.11411,     0.11512,     0.11612,     0.11712,     0.11812,     0.11912,\n",
      "           0.12012,     0.12112,     0.12212,     0.12312,     0.12412,     0.12513,     0.12613,     0.12713,     0.12813,     0.12913,     0.13013,     0.13113,     0.13213,     0.13313,     0.13413,     0.13514,     0.13614,     0.13714,     0.13814,     0.13914,     0.14014,     0.14114,     0.14214,     0.14314,\n",
      "           0.14414,     0.14515,     0.14615,     0.14715,     0.14815,     0.14915,     0.15015,     0.15115,     0.15215,     0.15315,     0.15415,     0.15516,     0.15616,     0.15716,     0.15816,     0.15916,     0.16016,     0.16116,     0.16216,     0.16316,     0.16416,     0.16517,     0.16617,     0.16717,\n",
      "           0.16817,     0.16917,     0.17017,     0.17117,     0.17217,     0.17317,     0.17417,     0.17518,     0.17618,     0.17718,     0.17818,     0.17918,     0.18018,     0.18118,     0.18218,     0.18318,     0.18418,     0.18519,     0.18619,     0.18719,     0.18819,     0.18919,     0.19019,     0.19119,\n",
      "           0.19219,     0.19319,     0.19419,      0.1952,      0.1962,      0.1972,      0.1982,      0.1992,      0.2002,      0.2012,      0.2022,      0.2032,      0.2042,     0.20521,     0.20621,     0.20721,     0.20821,     0.20921,     0.21021,     0.21121,     0.21221,     0.21321,     0.21421,     0.21522,\n",
      "           0.21622,     0.21722,     0.21822,     0.21922,     0.22022,     0.22122,     0.22222,     0.22322,     0.22422,     0.22523,     0.22623,     0.22723,     0.22823,     0.22923,     0.23023,     0.23123,     0.23223,     0.23323,     0.23423,     0.23524,     0.23624,     0.23724,     0.23824,     0.23924,\n",
      "           0.24024,     0.24124,     0.24224,     0.24324,     0.24424,     0.24525,     0.24625,     0.24725,     0.24825,     0.24925,     0.25025,     0.25125,     0.25225,     0.25325,     0.25425,     0.25526,     0.25626,     0.25726,     0.25826,     0.25926,     0.26026,     0.26126,     0.26226,     0.26326,\n",
      "           0.26426,     0.26527,     0.26627,     0.26727,     0.26827,     0.26927,     0.27027,     0.27127,     0.27227,     0.27327,     0.27427,     0.27528,     0.27628,     0.27728,     0.27828,     0.27928,     0.28028,     0.28128,     0.28228,     0.28328,     0.28428,     0.28529,     0.28629,     0.28729,\n",
      "           0.28829,     0.28929,     0.29029,     0.29129,     0.29229,     0.29329,     0.29429,      0.2953,      0.2963,      0.2973,      0.2983,      0.2993,      0.3003,      0.3013,      0.3023,      0.3033,      0.3043,     0.30531,     0.30631,     0.30731,     0.30831,     0.30931,     0.31031,     0.31131,\n",
      "           0.31231,     0.31331,     0.31431,     0.31532,     0.31632,     0.31732,     0.31832,     0.31932,     0.32032,     0.32132,     0.32232,     0.32332,     0.32432,     0.32533,     0.32633,     0.32733,     0.32833,     0.32933,     0.33033,     0.33133,     0.33233,     0.33333,     0.33433,     0.33534,\n",
      "           0.33634,     0.33734,     0.33834,     0.33934,     0.34034,     0.34134,     0.34234,     0.34334,     0.34434,     0.34535,     0.34635,     0.34735,     0.34835,     0.34935,     0.35035,     0.35135,     0.35235,     0.35335,     0.35435,     0.35536,     0.35636,     0.35736,     0.35836,     0.35936,\n",
      "           0.36036,     0.36136,     0.36236,     0.36336,     0.36436,     0.36537,     0.36637,     0.36737,     0.36837,     0.36937,     0.37037,     0.37137,     0.37237,     0.37337,     0.37437,     0.37538,     0.37638,     0.37738,     0.37838,     0.37938,     0.38038,     0.38138,     0.38238,     0.38338,\n",
      "           0.38438,     0.38539,     0.38639,     0.38739,     0.38839,     0.38939,     0.39039,     0.39139,     0.39239,     0.39339,     0.39439,      0.3954,      0.3964,      0.3974,      0.3984,      0.3994,      0.4004,      0.4014,      0.4024,      0.4034,      0.4044,     0.40541,     0.40641,     0.40741,\n",
      "           0.40841,     0.40941,     0.41041,     0.41141,     0.41241,     0.41341,     0.41441,     0.41542,     0.41642,     0.41742,     0.41842,     0.41942,     0.42042,     0.42142,     0.42242,     0.42342,     0.42442,     0.42543,     0.42643,     0.42743,     0.42843,     0.42943,     0.43043,     0.43143,\n",
      "           0.43243,     0.43343,     0.43443,     0.43544,     0.43644,     0.43744,     0.43844,     0.43944,     0.44044,     0.44144,     0.44244,     0.44344,     0.44444,     0.44545,     0.44645,     0.44745,     0.44845,     0.44945,     0.45045,     0.45145,     0.45245,     0.45345,     0.45445,     0.45546,\n",
      "           0.45646,     0.45746,     0.45846,     0.45946,     0.46046,     0.46146,     0.46246,     0.46346,     0.46446,     0.46547,     0.46647,     0.46747,     0.46847,     0.46947,     0.47047,     0.47147,     0.47247,     0.47347,     0.47447,     0.47548,     0.47648,     0.47748,     0.47848,     0.47948,\n",
      "           0.48048,     0.48148,     0.48248,     0.48348,     0.48448,     0.48549,     0.48649,     0.48749,     0.48849,     0.48949,     0.49049,     0.49149,     0.49249,     0.49349,     0.49449,      0.4955,      0.4965,      0.4975,      0.4985,      0.4995,      0.5005,      0.5015,      0.5025,      0.5035,\n",
      "            0.5045,     0.50551,     0.50651,     0.50751,     0.50851,     0.50951,     0.51051,     0.51151,     0.51251,     0.51351,     0.51451,     0.51552,     0.51652,     0.51752,     0.51852,     0.51952,     0.52052,     0.52152,     0.52252,     0.52352,     0.52452,     0.52553,     0.52653,     0.52753,\n",
      "           0.52853,     0.52953,     0.53053,     0.53153,     0.53253,     0.53353,     0.53453,     0.53554,     0.53654,     0.53754,     0.53854,     0.53954,     0.54054,     0.54154,     0.54254,     0.54354,     0.54454,     0.54555,     0.54655,     0.54755,     0.54855,     0.54955,     0.55055,     0.55155,\n",
      "           0.55255,     0.55355,     0.55455,     0.55556,     0.55656,     0.55756,     0.55856,     0.55956,     0.56056,     0.56156,     0.56256,     0.56356,     0.56456,     0.56557,     0.56657,     0.56757,     0.56857,     0.56957,     0.57057,     0.57157,     0.57257,     0.57357,     0.57457,     0.57558,\n",
      "           0.57658,     0.57758,     0.57858,     0.57958,     0.58058,     0.58158,     0.58258,     0.58358,     0.58458,     0.58559,     0.58659,     0.58759,     0.58859,     0.58959,     0.59059,     0.59159,     0.59259,     0.59359,     0.59459,      0.5956,      0.5966,      0.5976,      0.5986,      0.5996,\n",
      "            0.6006,      0.6016,      0.6026,      0.6036,      0.6046,     0.60561,     0.60661,     0.60761,     0.60861,     0.60961,     0.61061,     0.61161,     0.61261,     0.61361,     0.61461,     0.61562,     0.61662,     0.61762,     0.61862,     0.61962,     0.62062,     0.62162,     0.62262,     0.62362,\n",
      "           0.62462,     0.62563,     0.62663,     0.62763,     0.62863,     0.62963,     0.63063,     0.63163,     0.63263,     0.63363,     0.63463,     0.63564,     0.63664,     0.63764,     0.63864,     0.63964,     0.64064,     0.64164,     0.64264,     0.64364,     0.64464,     0.64565,     0.64665,     0.64765,\n",
      "           0.64865,     0.64965,     0.65065,     0.65165,     0.65265,     0.65365,     0.65465,     0.65566,     0.65666,     0.65766,     0.65866,     0.65966,     0.66066,     0.66166,     0.66266,     0.66366,     0.66466,     0.66567,     0.66667,     0.66767,     0.66867,     0.66967,     0.67067,     0.67167,\n",
      "           0.67267,     0.67367,     0.67467,     0.67568,     0.67668,     0.67768,     0.67868,     0.67968,     0.68068,     0.68168,     0.68268,     0.68368,     0.68468,     0.68569,     0.68669,     0.68769,     0.68869,     0.68969,     0.69069,     0.69169,     0.69269,     0.69369,     0.69469,      0.6957,\n",
      "            0.6967,      0.6977,      0.6987,      0.6997,      0.7007,      0.7017,      0.7027,      0.7037,      0.7047,     0.70571,     0.70671,     0.70771,     0.70871,     0.70971,     0.71071,     0.71171,     0.71271,     0.71371,     0.71471,     0.71572,     0.71672,     0.71772,     0.71872,     0.71972,\n",
      "           0.72072,     0.72172,     0.72272,     0.72372,     0.72472,     0.72573,     0.72673,     0.72773,     0.72873,     0.72973,     0.73073,     0.73173,     0.73273,     0.73373,     0.73473,     0.73574,     0.73674,     0.73774,     0.73874,     0.73974,     0.74074,     0.74174,     0.74274,     0.74374,\n",
      "           0.74474,     0.74575,     0.74675,     0.74775,     0.74875,     0.74975,     0.75075,     0.75175,     0.75275,     0.75375,     0.75475,     0.75576,     0.75676,     0.75776,     0.75876,     0.75976,     0.76076,     0.76176,     0.76276,     0.76376,     0.76476,     0.76577,     0.76677,     0.76777,\n",
      "           0.76877,     0.76977,     0.77077,     0.77177,     0.77277,     0.77377,     0.77477,     0.77578,     0.77678,     0.77778,     0.77878,     0.77978,     0.78078,     0.78178,     0.78278,     0.78378,     0.78478,     0.78579,     0.78679,     0.78779,     0.78879,     0.78979,     0.79079,     0.79179,\n",
      "           0.79279,     0.79379,     0.79479,      0.7958,      0.7968,      0.7978,      0.7988,      0.7998,      0.8008,      0.8018,      0.8028,      0.8038,      0.8048,     0.80581,     0.80681,     0.80781,     0.80881,     0.80981,     0.81081,     0.81181,     0.81281,     0.81381,     0.81481,     0.81582,\n",
      "           0.81682,     0.81782,     0.81882,     0.81982,     0.82082,     0.82182,     0.82282,     0.82382,     0.82482,     0.82583,     0.82683,     0.82783,     0.82883,     0.82983,     0.83083,     0.83183,     0.83283,     0.83383,     0.83483,     0.83584,     0.83684,     0.83784,     0.83884,     0.83984,\n",
      "           0.84084,     0.84184,     0.84284,     0.84384,     0.84484,     0.84585,     0.84685,     0.84785,     0.84885,     0.84985,     0.85085,     0.85185,     0.85285,     0.85385,     0.85485,     0.85586,     0.85686,     0.85786,     0.85886,     0.85986,     0.86086,     0.86186,     0.86286,     0.86386,\n",
      "           0.86486,     0.86587,     0.86687,     0.86787,     0.86887,     0.86987,     0.87087,     0.87187,     0.87287,     0.87387,     0.87487,     0.87588,     0.87688,     0.87788,     0.87888,     0.87988,     0.88088,     0.88188,     0.88288,     0.88388,     0.88488,     0.88589,     0.88689,     0.88789,\n",
      "           0.88889,     0.88989,     0.89089,     0.89189,     0.89289,     0.89389,     0.89489,      0.8959,      0.8969,      0.8979,      0.8989,      0.8999,      0.9009,      0.9019,      0.9029,      0.9039,      0.9049,     0.90591,     0.90691,     0.90791,     0.90891,     0.90991,     0.91091,     0.91191,\n",
      "           0.91291,     0.91391,     0.91491,     0.91592,     0.91692,     0.91792,     0.91892,     0.91992,     0.92092,     0.92192,     0.92292,     0.92392,     0.92492,     0.92593,     0.92693,     0.92793,     0.92893,     0.92993,     0.93093,     0.93193,     0.93293,     0.93393,     0.93493,     0.93594,\n",
      "           0.93694,     0.93794,     0.93894,     0.93994,     0.94094,     0.94194,     0.94294,     0.94394,     0.94494,     0.94595,     0.94695,     0.94795,     0.94895,     0.94995,     0.95095,     0.95195,     0.95295,     0.95395,     0.95495,     0.95596,     0.95696,     0.95796,     0.95896,     0.95996,\n",
      "           0.96096,     0.96196,     0.96296,     0.96396,     0.96496,     0.96597,     0.96697,     0.96797,     0.96897,     0.96997,     0.97097,     0.97197,     0.97297,     0.97397,     0.97497,     0.97598,     0.97698,     0.97798,     0.97898,     0.97998,     0.98098,     0.98198,     0.98298,     0.98398,\n",
      "           0.98498,     0.98599,     0.98699,     0.98799,     0.98899,     0.98999,     0.99099,     0.99199,     0.99299,     0.99399,     0.99499,       0.996,       0.997,       0.998,       0.999,           1]), array([[    0.56842,     0.56842,     0.56842,     0.56842,     0.56842,     0.56842,     0.56842,     0.56842,     0.56842,     0.56316,     0.56316,     0.56316,     0.56316,     0.56316,     0.55789,     0.55263,     0.55263,     0.55263,     0.55263,     0.54737,     0.54737,     0.54737,     0.54737,\n",
      "            0.54737,     0.54737,     0.54737,     0.54211,     0.53684,     0.53684,     0.53684,     0.53684,     0.53158,     0.53158,     0.53158,     0.53158,     0.53158,     0.53158,     0.53158,     0.52632,     0.52632,     0.52105,     0.52105,     0.52105,     0.52105,     0.52105,     0.52105,\n",
      "            0.52105,     0.52105,     0.52105,     0.52105,     0.52105,     0.52105,     0.52105,     0.52105,     0.51579,     0.51053,     0.51053,     0.51053,     0.50526,     0.50526,     0.50526,         0.5,         0.5,         0.5,         0.5,         0.5,         0.5,     0.49474,     0.48947,\n",
      "            0.48421,     0.47895,     0.47895,     0.47368,     0.47368,     0.47368,     0.47368,     0.47368,     0.46842,     0.46842,     0.46842,     0.46842,     0.46842,     0.46842,     0.46842,     0.46842,     0.46842,     0.46842,     0.46842,     0.46842,     0.46316,      0.4595,     0.45789,\n",
      "            0.45263,     0.45263,     0.44737,     0.44211,     0.43158,     0.43158,     0.43158,     0.43158,     0.42632,     0.42632,     0.42105,     0.42105,     0.41579,     0.41053,     0.41053,     0.40769,     0.40526,         0.4,         0.4,         0.4,         0.4,         0.4,     0.39474,\n",
      "            0.38947,     0.38947,     0.38947,     0.38421,     0.38421,     0.38421,     0.38421,     0.37895,     0.37895,     0.37895,     0.37895,     0.37895,     0.37895,     0.37895,     0.37895,     0.37895,     0.37895,     0.37895,     0.37895,     0.37895,     0.37895,     0.37368,     0.36842,\n",
      "            0.36842,     0.36842,     0.36316,     0.35789,     0.35789,     0.35789,     0.35789,     0.35263,     0.35263,     0.34737,     0.34737,     0.34737,     0.34737,     0.34737,     0.34737,     0.34737,     0.34737,     0.34737,     0.34737,     0.34211,     0.34211,     0.34211,     0.34211,\n",
      "            0.33199,     0.33158,     0.33158,     0.33158,     0.33158,     0.32821,     0.31579,       0.315,     0.31053,     0.30526,     0.30526,     0.30526,     0.30526,     0.30526,     0.30526,     0.30526,     0.30526,     0.30526,     0.30526,     0.29474,     0.29474,     0.28947,     0.28947,\n",
      "            0.28947,     0.28947,     0.28947,     0.28947,     0.28947,     0.28947,     0.28947,     0.27895,     0.26976,     0.26842,     0.26842,     0.26842,     0.26842,     0.26842,     0.26842,     0.26842,     0.26842,     0.25985,     0.25789,     0.25789,     0.25789,     0.25789,     0.25789,\n",
      "            0.25789,     0.24906,     0.24737,     0.24737,     0.24737,     0.24737,     0.24737,     0.24737,     0.24737,     0.24737,     0.24737,     0.24737,     0.24737,     0.24737,     0.24737,     0.24737,     0.24737,     0.24737,     0.24737,     0.24737,     0.24737,     0.24737,     0.24737,\n",
      "            0.24737,     0.24737,     0.24737,     0.24737,     0.24211,     0.23684,     0.23684,     0.23684,     0.23158,     0.22632,     0.22632,     0.22105,     0.22105,     0.22105,     0.22105,     0.22105,     0.21579,     0.21579,     0.21579,       0.212,     0.20526,     0.20526,     0.20485,\n",
      "            0.20353,     0.20222,      0.2009,         0.2,         0.2,         0.2,         0.2,     0.19618,     0.19474,     0.19474,     0.19474,     0.19474,     0.19474,     0.19474,     0.19474,     0.19474,     0.19474,     0.19474,     0.19474,     0.19474,     0.19123,     0.18947,     0.18947,\n",
      "            0.18947,     0.18947,     0.18667,     0.18421,     0.18421,     0.17895,     0.17895,     0.17895,     0.17895,     0.17895,     0.17895,     0.17895,     0.17824,     0.17432,     0.17243,     0.16842,     0.16842,     0.16794,     0.15789,     0.15789,     0.15789,     0.15789,     0.15789,\n",
      "            0.15789,     0.15263,     0.15263,     0.15263,     0.15223,     0.15061,     0.14898,     0.14737,     0.14737,     0.14737,     0.14422,     0.14211,     0.13936,     0.13512,     0.13158,     0.13158,     0.13158,     0.13158,     0.13158,     0.13158,     0.13158,     0.13158,      0.1311,\n",
      "            0.12632,     0.12525,     0.12105,     0.12105,     0.12105,     0.12105,     0.12008,     0.11722,     0.11579,     0.11579,     0.11579,     0.11579,     0.11579,     0.11579,     0.11579,     0.11579,     0.11536,     0.11348,      0.1116,     0.11053,     0.11053,     0.11053,     0.11053,\n",
      "            0.11053,     0.11053,     0.10892,     0.10714,     0.10535,     0.10526,     0.10526,     0.10526,     0.10526,     0.10526,     0.10526,     0.10526,     0.10526,     0.10526,     0.10424,         0.1,         0.1,         0.1,         0.1,         0.1,         0.1,         0.1,         0.1,\n",
      "                0.1,         0.1,         0.1,         0.1,    0.098912,    0.096306,    0.094737,    0.094737,    0.094737,    0.094737,    0.094737,    0.094737,    0.094737,    0.094737,    0.094461,    0.091723,    0.088136,    0.084211,    0.084211,    0.084211,    0.084211,    0.084211,    0.084211,\n",
      "           0.084211,    0.084211,    0.084058,    0.083277,    0.082495,    0.081714,    0.080933,    0.080151,     0.07937,    0.078625,    0.077921,    0.077218,    0.076515,    0.075812,    0.075109,    0.074405,    0.073702,    0.073684,    0.073684,    0.067586,    0.065953,    0.064321,    0.062373,\n",
      "           0.059644,     0.05694,    0.054278,    0.052632,    0.052632,    0.052632,    0.051941,     0.04788,    0.047368,    0.047368,    0.047368,    0.047368,    0.047368,    0.047368,    0.047368,    0.047368,    0.047368,    0.047368,    0.047368,    0.047368,    0.047368,    0.047368,    0.047368,\n",
      "           0.047368,    0.047368,    0.047368,    0.047368,    0.047368,    0.047368,    0.047368,    0.043954,    0.042105,    0.041636,    0.036868,    0.036842,    0.036842,    0.036842,    0.036842,    0.033663,    0.029149,    0.026316,    0.026316,    0.026316,    0.026316,    0.026316,    0.026316,\n",
      "           0.026316,    0.026316,    0.026316,    0.026316,    0.026316,    0.021286,    0.020727,    0.018409,    0.016091,    0.015789,    0.015789,    0.015789,    0.015789,    0.015789,    0.015789,    0.015789,    0.015789,    0.015789,    0.015789,    0.015789,    0.015789,    0.015789,    0.015789,\n",
      "           0.015789,    0.015789,    0.015789,    0.015789,    0.015789,    0.015789,    0.015789,    0.015789,    0.015789,    0.015789,    0.015789,    0.015789,    0.015789,    0.015789,    0.015789,    0.015789,    0.015789,    0.015789,    0.015789,    0.015789,    0.015789,    0.015789,    0.015789,\n",
      "           0.015789,    0.015789,    0.015789,    0.015789,    0.015789,    0.015789,    0.015789,    0.015789,    0.015789,    0.015789,    0.015789,    0.015789,    0.015789,    0.015789,    0.015789,    0.015789,    0.015789,    0.015789,    0.015789,    0.015789,    0.015789,    0.015789,    0.015789,\n",
      "           0.015789,    0.015789,    0.015789,    0.015789,    0.015789,    0.015789,    0.015789,    0.015789,    0.015789,    0.015789,    0.015789,    0.015789,    0.015789,    0.015789,    0.015789,    0.015789,    0.015789,    0.015789,    0.015771,    0.015656,    0.015542,    0.015427,    0.015313,\n",
      "           0.015198,    0.015084,    0.014969,    0.014854,     0.01474,    0.014625,    0.014511,    0.014396,    0.014282,    0.014167,    0.014053,    0.013938,    0.013824,    0.013709,    0.013595,     0.01348,    0.013366,    0.013251,    0.013137,    0.013022,    0.012908,    0.012793,    0.012678,\n",
      "           0.012564,    0.012449,    0.012335,     0.01222,    0.012106,    0.011991,    0.011877,    0.011762,    0.011648,    0.011533,    0.011419,    0.011304,     0.01119,    0.011075,    0.010961,    0.010846,    0.010732,    0.010617,    0.010526,    0.010526,    0.010526,    0.010526,    0.010526,\n",
      "           0.010526,    0.010526,    0.010526,    0.010526,    0.010526,    0.010526,    0.010526,    0.010526,    0.010526,    0.010526,    0.010526,    0.010526,    0.010526,    0.010526,    0.010526,    0.010526,    0.010526,    0.010526,    0.010526,    0.010526,    0.010526,    0.010526,    0.010526,\n",
      "           0.010526,    0.010526,    0.010526,    0.010526,    0.010526,    0.010526,    0.010526,    0.010526,    0.010526,    0.010526,    0.010526,    0.010526,    0.010526,    0.010526,    0.010526,    0.010526,    0.010526,    0.010526,    0.010526,    0.010526,    0.010526,    0.010526,    0.010526,\n",
      "           0.010526,    0.010526,    0.010526,    0.010526,    0.010526,    0.010526,    0.010526,    0.010526,    0.010526,    0.010526,    0.010526,    0.010526,    0.010526,    0.010526,    0.010526,    0.010526,    0.010526,    0.010379,   0.0098823,   0.0093861,   0.0088898,   0.0083936,   0.0078973,\n",
      "          0.0074011,   0.0069048,   0.0064086,   0.0059123,   0.0054161,   0.0051043,   0.0048748,   0.0046452,   0.0044157,   0.0041861,   0.0039565,    0.003727,   0.0034974,   0.0032679,   0.0030383,   0.0028087,   0.0025792,   0.0023496,   0.0021201,   0.0018905,    0.001661,   0.0014314,   0.0012018,\n",
      "         0.00097227,  0.00074271,  0.00051315,  0.00028359,  5.4035e-05,           0,           0,           0,           0,           0,           0,           0,           0,           0,           0,           0,           0,           0,           0,           0,           0,           0,           0,\n",
      "                  0,           0,           0,           0,           0,           0,           0,           0,           0,           0,           0,           0,           0,           0,           0,           0,           0,           0,           0,           0,           0,           0,           0,\n",
      "                  0,           0,           0,           0,           0,           0,           0,           0,           0,           0,           0,           0,           0,           0,           0,           0,           0,           0,           0,           0,           0,           0,           0,\n",
      "                  0,           0,           0,           0,           0,           0,           0,           0,           0,           0,           0,           0,           0,           0,           0,           0,           0,           0,           0,           0,           0,           0,           0,\n",
      "                  0,           0,           0,           0,           0,           0,           0,           0,           0,           0,           0,           0,           0,           0,           0,           0,           0,           0,           0,           0,           0,           0,           0,\n",
      "                  0,           0,           0,           0,           0,           0,           0,           0,           0,           0,           0,           0,           0,           0,           0,           0,           0,           0,           0,           0,           0,           0,           0,\n",
      "                  0,           0,           0,           0,           0,           0,           0,           0,           0,           0,           0,           0,           0,           0,           0,           0,           0,           0,           0,           0,           0,           0,           0,\n",
      "                  0,           0,           0,           0,           0,           0,           0,           0,           0,           0,           0,           0,           0,           0,           0,           0,           0,           0,           0,           0,           0,           0,           0,\n",
      "                  0,           0,           0,           0,           0,           0,           0,           0,           0,           0,           0,           0,           0,           0,           0,           0,           0,           0,           0,           0,           0,           0,           0,\n",
      "                  0,           0,           0,           0,           0,           0,           0,           0,           0,           0,           0,           0,           0,           0,           0,           0,           0,           0,           0,           0,           0,           0,           0,\n",
      "                  0,           0,           0,           0,           0,           0,           0,           0,           0,           0,           0,           0,           0,           0,           0,           0,           0,           0,           0,           0,           0,           0,           0,\n",
      "                  0,           0,           0,           0,           0,           0,           0,           0,           0,           0,           0,           0,           0,           0,           0,           0,           0,           0,           0,           0,           0,           0,           0,\n",
      "                  0,           0,           0,           0,           0,           0,           0,           0,           0,           0,           0,           0,           0,           0,           0,           0,           0,           0,           0,           0,           0,           0,           0,\n",
      "                  0,           0,           0,           0,           0,           0,           0,           0,           0,           0,           0]]), 'Confidence', 'Recall']]\n",
      "fitness: 0.20009994365610073\n",
      "keys: ['metrics/precision(B)', 'metrics/recall(B)', 'metrics/mAP50(B)', 'metrics/mAP50-95(B)', 'metrics/precision(M)', 'metrics/recall(M)', 'metrics/mAP50(M)', 'metrics/mAP50-95(M)']\n",
      "maps: array([    0.17151])\n",
      "names: {0: 'stigma'}\n",
      "plot: True\n",
      "results_dict: {'metrics/precision(B)': 0.35752303478299746, 'metrics/recall(B)': 0.4105263157894737, 'metrics/mAP50(B)': 0.3231044715982979, 'metrics/mAP50-95(B)': 0.14337130167207218, 'metrics/precision(M)': 0.24527085975756313, 'metrics/recall(M)': 0.24736842105263157, 'metrics/mAP50(M)': 0.13429814102871301, 'metrics/mAP50-95(M)': 0.028139456542816327, 'fitness': 0.20009994365610073}\n",
      "save_dir: PosixPath('/home/etaylor/code_projects/thesis/src/stigmas_detection/segmentation/yolo/runs/segment/train302')\n",
      "seg: ultralytics.utils.metrics.Metric object\n",
      "speed: {'preprocess': 1.0653495788574219, 'inference': 32.680816650390625, 'loss': 0.008077621459960938, 'postprocess': 8.90599250793457}\n",
      "task: 'segment'\n",
      "Fine-tuned model saved to: /home/etaylor/code_projects/thesis/checkpoints/stigmas_segmentation/yolo/fine_tuned/yolov11m-seg_fine_tuned.pt\n"
     ]
    },
    {
     "ename": "TypeError",
     "evalue": "Object of type SegmentMetrics is not JSON serializable",
     "output_type": "error",
     "traceback": [
      "\u001b[0;31m---------------------------------------------------------------------------\u001b[0m",
      "\u001b[0;31mTypeError\u001b[0m                                 Traceback (most recent call last)",
      "Cell \u001b[0;32mIn[7], line 62\u001b[0m\n\u001b[1;32m     59\u001b[0m summary_file_path \u001b[38;5;241m=\u001b[39m os\u001b[38;5;241m.\u001b[39mpath\u001b[38;5;241m.\u001b[39mjoin(fine_tuned_checkpoint_dir, \u001b[38;5;124m\"\u001b[39m\u001b[38;5;124mfine_tuning_results.json\u001b[39m\u001b[38;5;124m\"\u001b[39m)\n\u001b[1;32m     61\u001b[0m \u001b[38;5;28;01mwith\u001b[39;00m \u001b[38;5;28mopen\u001b[39m(summary_file_path, \u001b[38;5;124m\"\u001b[39m\u001b[38;5;124mw\u001b[39m\u001b[38;5;124m\"\u001b[39m) \u001b[38;5;28;01mas\u001b[39;00m f:\n\u001b[0;32m---> 62\u001b[0m     \u001b[43mjson\u001b[49m\u001b[38;5;241;43m.\u001b[39;49m\u001b[43mdump\u001b[49m\u001b[43m(\u001b[49m\u001b[43mresults_summary\u001b[49m\u001b[43m,\u001b[49m\u001b[43m \u001b[49m\u001b[43mf\u001b[49m\u001b[43m)\u001b[49m\n\u001b[1;32m     64\u001b[0m \u001b[38;5;28mprint\u001b[39m(\u001b[38;5;124m\"\u001b[39m\u001b[38;5;124mFine-tuning complete. Results saved.\u001b[39m\u001b[38;5;124m\"\u001b[39m)\n",
      "File \u001b[0;32m~/.conda/envs/detectron_fastai/lib/python3.9/json/__init__.py:179\u001b[0m, in \u001b[0;36mdump\u001b[0;34m(obj, fp, skipkeys, ensure_ascii, check_circular, allow_nan, cls, indent, separators, default, sort_keys, **kw)\u001b[0m\n\u001b[1;32m    173\u001b[0m     iterable \u001b[38;5;241m=\u001b[39m \u001b[38;5;28mcls\u001b[39m(skipkeys\u001b[38;5;241m=\u001b[39mskipkeys, ensure_ascii\u001b[38;5;241m=\u001b[39mensure_ascii,\n\u001b[1;32m    174\u001b[0m         check_circular\u001b[38;5;241m=\u001b[39mcheck_circular, allow_nan\u001b[38;5;241m=\u001b[39mallow_nan, indent\u001b[38;5;241m=\u001b[39mindent,\n\u001b[1;32m    175\u001b[0m         separators\u001b[38;5;241m=\u001b[39mseparators,\n\u001b[1;32m    176\u001b[0m         default\u001b[38;5;241m=\u001b[39mdefault, sort_keys\u001b[38;5;241m=\u001b[39msort_keys, \u001b[38;5;241m*\u001b[39m\u001b[38;5;241m*\u001b[39mkw)\u001b[38;5;241m.\u001b[39miterencode(obj)\n\u001b[1;32m    177\u001b[0m \u001b[38;5;66;03m# could accelerate with writelines in some versions of Python, at\u001b[39;00m\n\u001b[1;32m    178\u001b[0m \u001b[38;5;66;03m# a debuggability cost\u001b[39;00m\n\u001b[0;32m--> 179\u001b[0m \u001b[38;5;28;01mfor\u001b[39;00m chunk \u001b[38;5;129;01min\u001b[39;00m iterable:\n\u001b[1;32m    180\u001b[0m     fp\u001b[38;5;241m.\u001b[39mwrite(chunk)\n",
      "File \u001b[0;32m~/.conda/envs/detectron_fastai/lib/python3.9/json/encoder.py:431\u001b[0m, in \u001b[0;36m_make_iterencode.<locals>._iterencode\u001b[0;34m(o, _current_indent_level)\u001b[0m\n\u001b[1;32m    429\u001b[0m     \u001b[38;5;28;01myield from\u001b[39;00m _iterencode_list(o, _current_indent_level)\n\u001b[1;32m    430\u001b[0m \u001b[38;5;28;01melif\u001b[39;00m \u001b[38;5;28misinstance\u001b[39m(o, \u001b[38;5;28mdict\u001b[39m):\n\u001b[0;32m--> 431\u001b[0m     \u001b[38;5;28;01myield from\u001b[39;00m _iterencode_dict(o, _current_indent_level)\n\u001b[1;32m    432\u001b[0m \u001b[38;5;28;01melse\u001b[39;00m:\n\u001b[1;32m    433\u001b[0m     \u001b[38;5;28;01mif\u001b[39;00m markers \u001b[38;5;129;01mis\u001b[39;00m \u001b[38;5;129;01mnot\u001b[39;00m \u001b[38;5;28;01mNone\u001b[39;00m:\n",
      "File \u001b[0;32m~/.conda/envs/detectron_fastai/lib/python3.9/json/encoder.py:405\u001b[0m, in \u001b[0;36m_make_iterencode.<locals>._iterencode_dict\u001b[0;34m(dct, _current_indent_level)\u001b[0m\n\u001b[1;32m    403\u001b[0m         \u001b[38;5;28;01melse\u001b[39;00m:\n\u001b[1;32m    404\u001b[0m             chunks \u001b[38;5;241m=\u001b[39m _iterencode(value, _current_indent_level)\n\u001b[0;32m--> 405\u001b[0m         \u001b[38;5;28;01myield from\u001b[39;00m chunks\n\u001b[1;32m    406\u001b[0m \u001b[38;5;28;01mif\u001b[39;00m newline_indent \u001b[38;5;129;01mis\u001b[39;00m \u001b[38;5;129;01mnot\u001b[39;00m \u001b[38;5;28;01mNone\u001b[39;00m:\n\u001b[1;32m    407\u001b[0m     _current_indent_level \u001b[38;5;241m-\u001b[39m\u001b[38;5;241m=\u001b[39m \u001b[38;5;241m1\u001b[39m\n",
      "File \u001b[0;32m~/.conda/envs/detectron_fastai/lib/python3.9/json/encoder.py:438\u001b[0m, in \u001b[0;36m_make_iterencode.<locals>._iterencode\u001b[0;34m(o, _current_indent_level)\u001b[0m\n\u001b[1;32m    436\u001b[0m         \u001b[38;5;28;01mraise\u001b[39;00m \u001b[38;5;167;01mValueError\u001b[39;00m(\u001b[38;5;124m\"\u001b[39m\u001b[38;5;124mCircular reference detected\u001b[39m\u001b[38;5;124m\"\u001b[39m)\n\u001b[1;32m    437\u001b[0m     markers[markerid] \u001b[38;5;241m=\u001b[39m o\n\u001b[0;32m--> 438\u001b[0m o \u001b[38;5;241m=\u001b[39m \u001b[43m_default\u001b[49m\u001b[43m(\u001b[49m\u001b[43mo\u001b[49m\u001b[43m)\u001b[49m\n\u001b[1;32m    439\u001b[0m \u001b[38;5;28;01myield from\u001b[39;00m _iterencode(o, _current_indent_level)\n\u001b[1;32m    440\u001b[0m \u001b[38;5;28;01mif\u001b[39;00m markers \u001b[38;5;129;01mis\u001b[39;00m \u001b[38;5;129;01mnot\u001b[39;00m \u001b[38;5;28;01mNone\u001b[39;00m:\n",
      "File \u001b[0;32m~/.conda/envs/detectron_fastai/lib/python3.9/json/encoder.py:179\u001b[0m, in \u001b[0;36mJSONEncoder.default\u001b[0;34m(self, o)\u001b[0m\n\u001b[1;32m    160\u001b[0m \u001b[38;5;28;01mdef\u001b[39;00m \u001b[38;5;21mdefault\u001b[39m(\u001b[38;5;28mself\u001b[39m, o):\n\u001b[1;32m    161\u001b[0m \u001b[38;5;250m    \u001b[39m\u001b[38;5;124;03m\"\"\"Implement this method in a subclass such that it returns\u001b[39;00m\n\u001b[1;32m    162\u001b[0m \u001b[38;5;124;03m    a serializable object for ``o``, or calls the base implementation\u001b[39;00m\n\u001b[1;32m    163\u001b[0m \u001b[38;5;124;03m    (to raise a ``TypeError``).\u001b[39;00m\n\u001b[0;32m   (...)\u001b[0m\n\u001b[1;32m    177\u001b[0m \n\u001b[1;32m    178\u001b[0m \u001b[38;5;124;03m    \"\"\"\u001b[39;00m\n\u001b[0;32m--> 179\u001b[0m     \u001b[38;5;28;01mraise\u001b[39;00m \u001b[38;5;167;01mTypeError\u001b[39;00m(\u001b[38;5;124mf\u001b[39m\u001b[38;5;124m'\u001b[39m\u001b[38;5;124mObject of type \u001b[39m\u001b[38;5;132;01m{\u001b[39;00mo\u001b[38;5;241m.\u001b[39m\u001b[38;5;18m__class__\u001b[39m\u001b[38;5;241m.\u001b[39m\u001b[38;5;18m__name__\u001b[39m\u001b[38;5;132;01m}\u001b[39;00m\u001b[38;5;124m \u001b[39m\u001b[38;5;124m'\u001b[39m\n\u001b[1;32m    180\u001b[0m                     \u001b[38;5;124mf\u001b[39m\u001b[38;5;124m'\u001b[39m\u001b[38;5;124mis not JSON serializable\u001b[39m\u001b[38;5;124m'\u001b[39m)\n",
      "\u001b[0;31mTypeError\u001b[0m: Object of type SegmentMetrics is not JSON serializable"
     ]
    }
   ],
   "source": [
    "import os\n",
    "import json\n",
    "from ultralytics import YOLO\n",
    "import torch\n",
    "import gc\n",
    "\n",
    "# Path to the dataset YAML configuration\n",
    "yaml_file_path = \"/home/etaylor/code_projects/thesis/src/stigmas_detection/segmentation/yolo/yaml/stigmas_dataset_yolo.yaml\"\n",
    "\n",
    "# Paths to model checkpoints and fine-tuned checkpoint storage\n",
    "pre_trained_checkpoint_dir = \"/home/etaylor/code_projects/thesis/checkpoints/stigmas_segmentation/yolo/pre_trained\"\n",
    "fine_tuned_checkpoint_dir = \"/home/etaylor/code_projects/thesis/checkpoints/stigmas_segmentation/yolo/fine_tuned\"\n",
    "\n",
    "# YOLO segmentation model checkpoints\n",
    "available_models_checkpoints = {\n",
    "    # \"yolov8n-seg\": os.path.join(pre_trained_checkpoint_dir, \"yolov8n-seg.pt\"),\n",
    "    # \"yolov8s-seg\": os.path.join(pre_trained_checkpoint_dir, \"yolov8s-seg.pt\"),\n",
    "    # \"yolov8m-seg\": os.path.join(pre_trained_checkpoint_dir, \"yolov8m-seg.pt\"),\n",
    "    # \"yolov8l-seg\": os.path.join(pre_trained_checkpoint_dir, \"yolov8l-seg.pt\"),\n",
    "    # \"yolov8x-seg\": os.path.join(pre_trained_checkpoint_dir, \"yolov8x-seg.pt\"),\n",
    "    \"yolov11n-seg\": os.path.join(pre_trained_checkpoint_dir, \"yolo11n-seg.pt\"),\n",
    "    \"yolov11s-seg\": os.path.join(pre_trained_checkpoint_dir, \"yolo11s-seg.pt\"),\n",
    "    \"yolov11m-seg\": os.path.join(pre_trained_checkpoint_dir, \"yolo11m-seg.pt\"),\n",
    "    # \"yolov11l-seg\": os.path.join(pre_trained_checkpoint_dir, \"yolo11l-seg.pt\"),\n",
    "    # \"yolov11x-seg\": os.path.join(pre_trained_checkpoint_dir, \"yolo11x-seg.pt\")\n",
    "}\n",
    "\n",
    "# Ensure fine-tuned checkpoint directory exists\n",
    "os.makedirs(fine_tuned_checkpoint_dir, exist_ok=True)\n",
    "\n",
    "# Train and fine-tune each model\n",
    "results_summary = {}\n",
    "\n",
    "for model_name, checkpoint_name in available_models_checkpoints.items():\n",
    "    print(f\"Training model: {model_name}\")\n",
    "\n",
    "    # Load the pre-trained model checkpoint from the original path\n",
    "    model = YOLO(checkpoint_name)\n",
    "\n",
    "    # Train the model\n",
    "    results = model.train(data=yaml_file_path, epochs=50, imgsz=640, batch=2)\n",
    "\n",
    "    # Validate the trained model\n",
    "    valid_results = model.val()\n",
    "    print(f\"Validation results for {model_name}:\", valid_results)\n",
    "\n",
    "    # Save the fine-tuned checkpoint\n",
    "    fine_tuned_checkpoint_path = os.path.join(fine_tuned_checkpoint_dir, f\"{model_name}_fine_tuned.pt\")\n",
    "    model.save(fine_tuned_checkpoint_path)\n",
    "    print(f\"Fine-tuned model saved to: {fine_tuned_checkpoint_path}\")\n",
    "\n",
    "    # Save the results\n",
    "    results_summary[model_name] = valid_results\n",
    "    \n",
    "    gc.collect()\n",
    "    torch.cuda.empty_cache()\n",
    "\n",
    "# Save all results to a JSON file\n",
    "summary_file_path = os.path.join(fine_tuned_checkpoint_dir, \"fine_tuning_results.json\")\n",
    "\n",
    "with open(summary_file_path, \"w\") as f:\n",
    "    json.dump(results_summary, f)\n",
    "\n",
    "print(\"Fine-tuning complete. Results saved.\")\n"
   ]
  },
  {
   "cell_type": "markdown",
   "metadata": {},
   "source": [
    "### Perform Infrence with the model"
   ]
  },
  {
   "cell_type": "code",
   "execution_count": 8,
   "metadata": {},
   "outputs": [
    {
     "name": "stdout",
     "output_type": "stream",
     "text": [
      "\n",
      "0: 640x640 (no detections), 19.5ms\n",
      "Speed: 12.6ms preprocess, 19.5ms inference, 1.2ms postprocess per image at shape (1, 3, 640, 640)\n"
     ]
    }
   ],
   "source": [
    "import cv2\n",
    "\n",
    "image = cv2.imread(\"/home/etaylor/code_projects/thesis/segments/etaylor_cannabis_patches_train/v0.1/IMG_2198_p12.png\")\n",
    "\n",
    "# Perform inference\n",
    "results = model.predict(image)"
   ]
  },
  {
   "cell_type": "code",
   "execution_count": null,
   "metadata": {},
   "outputs": [],
   "source": []
  }
 ],
 "metadata": {
  "kernelspec": {
   "display_name": "yolo8",
   "language": "python",
   "name": "python3"
  },
  "language_info": {
   "codemirror_mode": {
    "name": "ipython",
    "version": 3
   },
   "file_extension": ".py",
   "mimetype": "text/x-python",
   "name": "python",
   "nbconvert_exporter": "python",
   "pygments_lexer": "ipython3",
   "version": "3.9.19"
  }
 },
 "nbformat": 4,
 "nbformat_minor": 2
}
