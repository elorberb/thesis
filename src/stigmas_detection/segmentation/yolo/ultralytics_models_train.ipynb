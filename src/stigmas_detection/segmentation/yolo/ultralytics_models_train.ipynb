{
 "cells": [
  {
   "cell_type": "code",
   "execution_count": 1,
   "metadata": {},
   "outputs": [
    {
     "name": "stdout",
     "output_type": "stream",
     "text": [
      "Thu Jan  2 20:44:55 2025       \n",
      "+-----------------------------------------------------------------------------------------+\n",
      "| NVIDIA-SMI 550.54.15              Driver Version: 550.54.15      CUDA Version: 12.4     |\n",
      "|-----------------------------------------+------------------------+----------------------+\n",
      "| GPU  Name                 Persistence-M | Bus-Id          Disp.A | Volatile Uncorr. ECC |\n",
      "| Fan  Temp   Perf          Pwr:Usage/Cap |           Memory-Usage | GPU-Util  Compute M. |\n",
      "|                                         |                        |               MIG M. |\n",
      "|=========================================+========================+======================|\n",
      "|   0  NVIDIA GeForce RTX 3090        On  |   00000000:02:00.0 Off |                  N/A |\n",
      "| 31%   48C    P8             22W /  350W |    5799MiB /  24576MiB |      0%      Default |\n",
      "|                                         |                        |                  N/A |\n",
      "+-----------------------------------------+------------------------+----------------------+\n",
      "                                                                                         \n",
      "+-----------------------------------------------------------------------------------------+\n",
      "| Processes:                                                                              |\n",
      "|  GPU   GI   CI        PID   Type   Process name                              GPU Memory |\n",
      "|        ID   ID                                                               Usage      |\n",
      "|=========================================================================================|\n",
      "|    0   N/A  N/A   2024113      C   ...da/envs/detectron_fastai/bin/python       1964MiB |\n",
      "|    0   N/A  N/A   2029981      C   ...da/envs/detectron_fastai/bin/python       3826MiB |\n",
      "+-----------------------------------------------------------------------------------------+\n"
     ]
    }
   ],
   "source": [
    "!nvidia-smi"
   ]
  },
  {
   "cell_type": "code",
   "execution_count": 2,
   "metadata": {},
   "outputs": [],
   "source": [
    "import torch\n",
    "torch.cuda.empty_cache()  # Free up unutilized memory"
   ]
  },
  {
   "cell_type": "code",
   "execution_count": 3,
   "metadata": {},
   "outputs": [
    {
     "name": "stdout",
     "output_type": "stream",
     "text": [
      "Ultralytics 8.3.56 🚀 Python-3.9.19 torch-2.3.1+cu121 CUDA:0 (NVIDIA GeForce RTX 3090, 24253MiB)\n",
      "Setup complete ✅ (12 CPUs, 125.2 GB RAM, 15.7/336.4 GB disk)\n"
     ]
    }
   ],
   "source": [
    "from src.segmentation.framework_handlers import ultralytics_handler\n",
    "ultralytics_handler.validate_version_and_gpu()"
   ]
  },
  {
   "cell_type": "markdown",
   "metadata": {},
   "source": [
    "### Prepare Dataset\n",
    "In this section, the dataset along with YOLO annotations is processed to conform to the input structure required by YOLO. The YOLO format necessitates organizing the dataset into two main directories, `images` and `labels`. Each of these directories is further divided into two subdirectories, `train` and `val`, for training and validation datasets respectively. This structure facilitates YOLO's training and validation processes.\n",
    "WE can process the data by two options:\n",
    "- Single SegmentsAI dataset\n",
    "- Two SegmentsAI datasets, one for train and the other for test"
   ]
  },
  {
   "cell_type": "markdown",
   "metadata": {},
   "source": [
    "Option 1: prepare data using a single dataset by splitting to train and test"
   ]
  },
  {
   "cell_type": "markdown",
   "metadata": {},
   "source": [
    "### Ultralytics Settings\n",
    "\n",
    "In here we can modify the settings of the yolo runs. "
   ]
  },
  {
   "cell_type": "code",
   "execution_count": 7,
   "metadata": {},
   "outputs": [
    {
     "name": "stdout",
     "output_type": "stream",
     "text": [
      "JSONDict(\"/home/etaylor/.config/Ultralytics/settings.json\"):\n",
      "{\n",
      "  \"settings_version\": \"0.0.6\",\n",
      "  \"datasets_dir\": \"/home/etaylor/code_projects/thesis/src/stigmas_detection/segmentation/yolo/runs/datasets\",\n",
      "  \"weights_dir\": \"/home/etaylor/code_projects/thesis/src/stigmas_detection/segmentation/yolo/runs/weights\",\n",
      "  \"runs_dir\": \"/home/etaylor/code_projects/thesis/src/stigmas_detection/segmentation/yolo/runs\",\n",
      "  \"uuid\": \"01de958df926b4e70f7bb00e8bdc993b48b07bc8d023fc13b26874ee84610e6f\",\n",
      "  \"sync\": true,\n",
      "  \"api_key\": \"\",\n",
      "  \"openai_api_key\": \"\",\n",
      "  \"clearml\": true,\n",
      "  \"comet\": true,\n",
      "  \"dvc\": true,\n",
      "  \"hub\": true,\n",
      "  \"mlflow\": true,\n",
      "  \"neptune\": true,\n",
      "  \"raytune\": true,\n",
      "  \"tensorboard\": true,\n",
      "  \"wandb\": false,\n",
      "  \"vscode_msg\": true\n",
      "}\n"
     ]
    }
   ],
   "source": [
    "from ultralytics import settings\n",
    "import config\n",
    "\n",
    "# Update a setting\n",
    "yolo_runs_dir = \"/home/etaylor/code_projects/thesis/src/stigmas_detection/segmentation/yolo/runs\"\n",
    "settings.update(\n",
    "    {\n",
    "        'runs_dir': yolo_runs_dir,\n",
    "        'weights_dir': f\"{yolo_runs_dir}/weights\",\n",
    "        'datasets_dir': f\"{yolo_runs_dir}/datasets\",\n",
    "    }\n",
    ")\n",
    "\n",
    "# View all settings\n",
    "print(settings)"
   ]
  },
  {
   "cell_type": "code",
   "execution_count": 5,
   "metadata": {},
   "outputs": [],
   "source": [
    "# import os\n",
    "\n",
    "# # in case dataset already converted from coco to yolo format use manual path\n",
    "# yaml_file_path = \"/home/etaylor/code_projects/thesis/src/segmentation/notebooks/ultralytics/yaml_files/yolo_dataset_config.yaml\"\n",
    "\n",
    "# # currently available models for train and hparams fine tune\n",
    "# ultralytics_checkpoint_paths = \"/home/etaylor/code_projects/thesis/checkpoints/ultralytics\"\n",
    "\n",
    "# available_models_checkpoints = {\n",
    "#     \"yolov5\": \"yolov5xu.pt\",\n",
    "#     \"yolov8\": \"yolov8x.pt\",\n",
    "#     \"yolov9\": \"yolov9c.pt\",\n",
    "#     \"rt_detr\": \"rtdetr-x.pt\",\n",
    "#     \"yolov10\": \"yolov10n.pt\",\n",
    "# }\n",
    "# model_checkpoint_path = os.path.join(ultralytics_checkpoint_paths, available_models_checkpoints[\"yolov10\"])"
   ]
  },
  {
   "cell_type": "markdown",
   "metadata": {},
   "source": [
    "Here we can select between using the yolo models or the RT_DETR models"
   ]
  },
  {
   "cell_type": "code",
   "execution_count": 10,
   "metadata": {},
   "outputs": [],
   "source": [
    "from ultralytics import YOLO\n",
    "\n",
    "model = YOLO('yolov8m-seg.pt')\n",
    "\n",
    "yaml_file_path = \"/home/etaylor/code_projects/thesis/src/stigmas_detection/segmentation/yolo/yaml/stigmas_dataset_yolo.yaml\""
   ]
  },
  {
   "cell_type": "code",
   "execution_count": 9,
   "metadata": {},
   "outputs": [],
   "source": [
    "yaml_file_path = \"/home/etaylor/code_projects/thesis/src/stigmas_detection/segmentation/yolo/yaml/stigmas_dataset_yolo.yaml\""
   ]
  },
  {
   "cell_type": "markdown",
   "metadata": {},
   "source": [
    "If using the RT DETR models use the code below"
   ]
  },
  {
   "cell_type": "code",
   "execution_count": null,
   "metadata": {},
   "outputs": [],
   "source": [
    "# from ultralytics import RTDETR\n",
    "\n",
    "# model_checkpoint_path = os.path.join(ultralytics_checkpoint_paths, available_models_checkpoints[\"rt_detr\"])\n",
    "# model = RTDETR(model_checkpoint_path)"
   ]
  },
  {
   "cell_type": "code",
   "execution_count": 11,
   "metadata": {},
   "outputs": [
    {
     "name": "stdout",
     "output_type": "stream",
     "text": [
      "Ultralytics 8.3.56 🚀 Python-3.9.19 torch-2.3.1+cu121 CUDA:0 (NVIDIA GeForce RTX 3090, 24253MiB)\n",
      "\u001b[34m\u001b[1mengine/trainer: \u001b[0mtask=segment, mode=train, model=yolov8m-seg.pt, data=/home/etaylor/code_projects/thesis/src/stigmas_detection/segmentation/yolo/yaml/stigmas_dataset_yolo.yaml, epochs=50, time=None, patience=100, batch=16, imgsz=640, save=True, save_period=-1, cache=False, device=None, workers=8, project=None, name=train2, exist_ok=False, pretrained=True, optimizer=auto, verbose=True, seed=0, deterministic=True, single_cls=False, rect=False, cos_lr=False, close_mosaic=10, resume=False, amp=True, fraction=1.0, profile=False, freeze=None, multi_scale=False, overlap_mask=True, mask_ratio=4, dropout=0.0, val=True, split=val, save_json=False, save_hybrid=False, conf=None, iou=0.7, max_det=300, half=False, dnn=False, plots=True, source=None, vid_stride=1, stream_buffer=False, visualize=False, augment=False, agnostic_nms=False, classes=None, retina_masks=False, embed=None, show=False, save_frames=False, save_txt=False, save_conf=False, save_crop=False, show_labels=True, show_conf=True, show_boxes=True, line_width=None, format=torchscript, keras=False, optimize=False, int8=False, dynamic=False, simplify=True, opset=None, workspace=None, nms=False, lr0=0.01, lrf=0.01, momentum=0.937, weight_decay=0.0005, warmup_epochs=3.0, warmup_momentum=0.8, warmup_bias_lr=0.1, box=7.5, cls=0.5, dfl=1.5, pose=12.0, kobj=1.0, nbs=64, hsv_h=0.015, hsv_s=0.7, hsv_v=0.4, degrees=0.0, translate=0.1, scale=0.5, shear=0.0, perspective=0.0, flipud=0.0, fliplr=0.5, bgr=0.0, mosaic=1.0, mixup=0.0, copy_paste=0.0, copy_paste_mode=flip, auto_augment=randaugment, erasing=0.4, crop_fraction=1.0, cfg=None, tracker=botsort.yaml, save_dir=/home/etaylor/code_projects/thesis/src/stigmas_detection/segmentation/yolo/runs/segment/train2\n",
      "Overriding model.yaml nc=80 with nc=1\n",
      "\n",
      "                   from  n    params  module                                       arguments                     \n",
      "  0                  -1  1      1392  ultralytics.nn.modules.conv.Conv             [3, 48, 3, 2]                 \n",
      "  1                  -1  1     41664  ultralytics.nn.modules.conv.Conv             [48, 96, 3, 2]                \n",
      "  2                  -1  2    111360  ultralytics.nn.modules.block.C2f             [96, 96, 2, True]             \n",
      "  3                  -1  1    166272  ultralytics.nn.modules.conv.Conv             [96, 192, 3, 2]               \n",
      "  4                  -1  4    813312  ultralytics.nn.modules.block.C2f             [192, 192, 4, True]           \n",
      "  5                  -1  1    664320  ultralytics.nn.modules.conv.Conv             [192, 384, 3, 2]              \n",
      "  6                  -1  4   3248640  ultralytics.nn.modules.block.C2f             [384, 384, 4, True]           \n",
      "  7                  -1  1   1991808  ultralytics.nn.modules.conv.Conv             [384, 576, 3, 2]              \n",
      "  8                  -1  2   3985920  ultralytics.nn.modules.block.C2f             [576, 576, 2, True]           \n",
      "  9                  -1  1    831168  ultralytics.nn.modules.block.SPPF            [576, 576, 5]                 \n",
      " 10                  -1  1         0  torch.nn.modules.upsampling.Upsample         [None, 2, 'nearest']          \n",
      " 11             [-1, 6]  1         0  ultralytics.nn.modules.conv.Concat           [1]                           \n",
      " 12                  -1  2   1993728  ultralytics.nn.modules.block.C2f             [960, 384, 2]                 \n",
      " 13                  -1  1         0  torch.nn.modules.upsampling.Upsample         [None, 2, 'nearest']          \n",
      " 14             [-1, 4]  1         0  ultralytics.nn.modules.conv.Concat           [1]                           \n",
      " 15                  -1  2    517632  ultralytics.nn.modules.block.C2f             [576, 192, 2]                 \n",
      " 16                  -1  1    332160  ultralytics.nn.modules.conv.Conv             [192, 192, 3, 2]              \n",
      " 17            [-1, 12]  1         0  ultralytics.nn.modules.conv.Concat           [1]                           \n",
      " 18                  -1  2   1846272  ultralytics.nn.modules.block.C2f             [576, 384, 2]                 \n",
      " 19                  -1  1   1327872  ultralytics.nn.modules.conv.Conv             [384, 384, 3, 2]              \n",
      " 20             [-1, 9]  1         0  ultralytics.nn.modules.conv.Concat           [1]                           \n",
      " 21                  -1  2   4207104  ultralytics.nn.modules.block.C2f             [960, 576, 2]                 \n",
      " 22        [15, 18, 21]  1   5159603  ultralytics.nn.modules.head.Segment          [1, 32, 192, [192, 384, 576]] \n",
      "YOLOv8m-seg summary: 331 layers, 27,240,227 parameters, 27,240,211 gradients, 110.4 GFLOPs\n",
      "\n",
      "Transferred 531/537 items from pretrained weights\n",
      "\u001b[34m\u001b[1mTensorBoard: \u001b[0mStart with 'tensorboard --logdir /home/etaylor/code_projects/thesis/src/stigmas_detection/segmentation/yolo/runs/segment/train2', view at http://localhost:6006/\n",
      "Freezing layer 'model.22.dfl.conv.weight'\n",
      "\u001b[34m\u001b[1mAMP: \u001b[0mrunning Automatic Mixed Precision (AMP) checks...\n",
      "\u001b[34m\u001b[1mAMP: \u001b[0mchecks passed ✅\n"
     ]
    },
    {
     "name": "stderr",
     "output_type": "stream",
     "text": [
      "\u001b[34m\u001b[1mtrain: \u001b[0mScanning /sise/home/etaylor/code_projects/thesis/segments/etaylor_stigmas_dataset/yolo_formatted/labels/train... 87 images, 0 backgrounds, 0 corrupt: 100%|██████████| 87/87 [00:00<00:00, 310.35it/s]"
     ]
    },
    {
     "name": "stdout",
     "output_type": "stream",
     "text": [
      "\u001b[34m\u001b[1mtrain: \u001b[0mNew cache created: /sise/home/etaylor/code_projects/thesis/segments/etaylor_stigmas_dataset/yolo_formatted/labels/train.cache\n"
     ]
    },
    {
     "name": "stderr",
     "output_type": "stream",
     "text": [
      "\n",
      "/home/etaylor/.conda/envs/detectron_fastai/lib/python3.9/site-packages/torch/utils/data/dataloader.py:558: UserWarning: This DataLoader will create 8 worker processes in total. Our suggested max number of worker in current system is 6, which is smaller than what this DataLoader is going to create. Please be aware that excessive worker creation might get DataLoader running slow or even freeze, lower the worker number to avoid potential slowness/freeze if necessary.\n",
      "  warnings.warn(_create_warning_msg(\n",
      "\u001b[34m\u001b[1mval: \u001b[0mScanning /sise/home/etaylor/code_projects/thesis/segments/etaylor_stigmas_dataset/yolo_formatted/labels/val... 25 images, 0 backgrounds, 0 corrupt: 100%|██████████| 25/25 [00:00<00:00, 260.84it/s]"
     ]
    },
    {
     "name": "stdout",
     "output_type": "stream",
     "text": [
      "\u001b[34m\u001b[1mval: \u001b[0mNew cache created: /sise/home/etaylor/code_projects/thesis/segments/etaylor_stigmas_dataset/yolo_formatted/labels/val.cache\n"
     ]
    },
    {
     "name": "stderr",
     "output_type": "stream",
     "text": [
      "\n",
      "/home/etaylor/.conda/envs/detectron_fastai/lib/python3.9/site-packages/torch/utils/data/dataloader.py:558: UserWarning: This DataLoader will create 12 worker processes in total. Our suggested max number of worker in current system is 6, which is smaller than what this DataLoader is going to create. Please be aware that excessive worker creation might get DataLoader running slow or even freeze, lower the worker number to avoid potential slowness/freeze if necessary.\n",
      "  warnings.warn(_create_warning_msg(\n"
     ]
    },
    {
     "name": "stdout",
     "output_type": "stream",
     "text": [
      "Plotting labels to /home/etaylor/code_projects/thesis/src/stigmas_detection/segmentation/yolo/runs/segment/train2/labels.jpg... \n",
      "\u001b[34m\u001b[1moptimizer:\u001b[0m 'optimizer=auto' found, ignoring 'lr0=0.01' and 'momentum=0.937' and determining best 'optimizer', 'lr0' and 'momentum' automatically... \n",
      "\u001b[34m\u001b[1moptimizer:\u001b[0m AdamW(lr=0.002, momentum=0.9) with parameter groups 86 weight(decay=0.0), 97 weight(decay=0.0005), 96 bias(decay=0.0)\n",
      "\u001b[34m\u001b[1mTensorBoard: \u001b[0mmodel graph visualization added ✅\n",
      "Image sizes 640 train, 640 val\n",
      "Using 8 dataloader workers\n",
      "Logging results to \u001b[1m/home/etaylor/code_projects/thesis/src/stigmas_detection/segmentation/yolo/runs/segment/train2\u001b[0m\n",
      "Starting training for 50 epochs...\n",
      "\n",
      "      Epoch    GPU_mem   box_loss   seg_loss   cls_loss   dfl_loss  Instances       Size\n"
     ]
    },
    {
     "name": "stderr",
     "output_type": "stream",
     "text": [
      "       1/50      8.81G      2.077      4.878      3.417      2.036        119        640: 100%|██████████| 6/6 [00:10<00:00,  1.78s/it]\n",
      "                 Class     Images  Instances      Box(P          R      mAP50  mAP50-95)     Mask(P          R      mAP50  mAP50-95): 100%|██████████| 1/1 [00:00<00:00,  1.73it/s]"
     ]
    },
    {
     "name": "stdout",
     "output_type": "stream",
     "text": [
      "                   all         25        190      0.434      0.263      0.221     0.0881       0.29      0.163     0.0823     0.0184\n"
     ]
    },
    {
     "name": "stderr",
     "output_type": "stream",
     "text": [
      "\n"
     ]
    },
    {
     "name": "stdout",
     "output_type": "stream",
     "text": [
      "\n",
      "      Epoch    GPU_mem   box_loss   seg_loss   cls_loss   dfl_loss  Instances       Size\n"
     ]
    },
    {
     "name": "stderr",
     "output_type": "stream",
     "text": [
      "       2/50      8.79G      1.838      3.514       2.19      1.743         99        640: 100%|██████████| 6/6 [00:01<00:00,  3.06it/s]\n",
      "                 Class     Images  Instances      Box(P          R      mAP50  mAP50-95)     Mask(P          R      mAP50  mAP50-95): 100%|██████████| 1/1 [00:00<00:00,  2.02it/s]"
     ]
    },
    {
     "name": "stdout",
     "output_type": "stream",
     "text": [
      "                   all         25        190       0.15      0.405      0.119     0.0514     0.0717      0.263     0.0324    0.00681\n"
     ]
    },
    {
     "name": "stderr",
     "output_type": "stream",
     "text": [
      "\n"
     ]
    },
    {
     "name": "stdout",
     "output_type": "stream",
     "text": [
      "\n",
      "      Epoch    GPU_mem   box_loss   seg_loss   cls_loss   dfl_loss  Instances       Size\n"
     ]
    },
    {
     "name": "stderr",
     "output_type": "stream",
     "text": [
      "       3/50      8.73G      1.661      2.995      1.886      1.584         73        640: 100%|██████████| 6/6 [00:01<00:00,  3.13it/s]\n",
      "                 Class     Images  Instances      Box(P          R      mAP50  mAP50-95)     Mask(P          R      mAP50  mAP50-95): 100%|██████████| 1/1 [00:00<00:00,  1.38it/s]"
     ]
    },
    {
     "name": "stdout",
     "output_type": "stream",
     "text": [
      "                   all         25        190      0.521      0.374      0.399      0.195      0.431      0.268      0.221     0.0608\n"
     ]
    },
    {
     "name": "stderr",
     "output_type": "stream",
     "text": [
      "\n"
     ]
    },
    {
     "name": "stdout",
     "output_type": "stream",
     "text": [
      "\n",
      "      Epoch    GPU_mem   box_loss   seg_loss   cls_loss   dfl_loss  Instances       Size\n"
     ]
    },
    {
     "name": "stderr",
     "output_type": "stream",
     "text": [
      "       4/50      8.95G      1.594      2.889      1.601      1.505         73        640: 100%|██████████| 6/6 [00:01<00:00,  3.55it/s]\n",
      "                 Class     Images  Instances      Box(P          R      mAP50  mAP50-95)     Mask(P          R      mAP50  mAP50-95): 100%|██████████| 1/1 [00:00<00:00,  1.46it/s]"
     ]
    },
    {
     "name": "stdout",
     "output_type": "stream",
     "text": [
      "                   all         25        190      0.246      0.573      0.266      0.136      0.185      0.432      0.149     0.0434\n"
     ]
    },
    {
     "name": "stderr",
     "output_type": "stream",
     "text": [
      "\n"
     ]
    },
    {
     "name": "stdout",
     "output_type": "stream",
     "text": [
      "\n",
      "      Epoch    GPU_mem   box_loss   seg_loss   cls_loss   dfl_loss  Instances       Size\n"
     ]
    },
    {
     "name": "stderr",
     "output_type": "stream",
     "text": [
      "       5/50      9.01G      1.625      2.759      1.473      1.555        125        640: 100%|██████████| 6/6 [00:01<00:00,  3.29it/s]\n",
      "                 Class     Images  Instances      Box(P          R      mAP50  mAP50-95)     Mask(P          R      mAP50  mAP50-95): 100%|██████████| 1/1 [00:00<00:00,  1.21it/s]"
     ]
    },
    {
     "name": "stdout",
     "output_type": "stream",
     "text": [
      "                   all         25        190      0.247      0.311      0.215      0.109       0.18      0.226      0.111     0.0293\n"
     ]
    },
    {
     "name": "stderr",
     "output_type": "stream",
     "text": [
      "\n"
     ]
    },
    {
     "name": "stdout",
     "output_type": "stream",
     "text": [
      "\n",
      "      Epoch    GPU_mem   box_loss   seg_loss   cls_loss   dfl_loss  Instances       Size\n"
     ]
    },
    {
     "name": "stderr",
     "output_type": "stream",
     "text": [
      "       6/50      9.05G      1.589      2.685      1.452      1.492         58        640: 100%|██████████| 6/6 [00:01<00:00,  3.34it/s]\n",
      "                 Class     Images  Instances      Box(P          R      mAP50  mAP50-95)     Mask(P          R      mAP50  mAP50-95): 100%|██████████| 1/1 [00:00<00:00,  1.24it/s]"
     ]
    },
    {
     "name": "stdout",
     "output_type": "stream",
     "text": [
      "                   all         25        190     0.0969      0.579     0.0979     0.0514     0.0735      0.353     0.0488     0.0133\n"
     ]
    },
    {
     "name": "stderr",
     "output_type": "stream",
     "text": [
      "\n"
     ]
    },
    {
     "name": "stdout",
     "output_type": "stream",
     "text": [
      "\n",
      "      Epoch    GPU_mem   box_loss   seg_loss   cls_loss   dfl_loss  Instances       Size\n"
     ]
    },
    {
     "name": "stderr",
     "output_type": "stream",
     "text": [
      "       7/50      8.86G      1.546      2.741      1.442      1.521         92        640: 100%|██████████| 6/6 [00:01<00:00,  3.41it/s]\n",
      "                 Class     Images  Instances      Box(P          R      mAP50  mAP50-95)     Mask(P          R      mAP50  mAP50-95): 100%|██████████| 1/1 [00:00<00:00,  1.66it/s]"
     ]
    },
    {
     "name": "stdout",
     "output_type": "stream",
     "text": [
      "                   all         25        190      0.127      0.574      0.144     0.0728      0.103      0.211      0.065     0.0151\n"
     ]
    },
    {
     "name": "stderr",
     "output_type": "stream",
     "text": [
      "\n"
     ]
    },
    {
     "name": "stdout",
     "output_type": "stream",
     "text": [
      "\n",
      "      Epoch    GPU_mem   box_loss   seg_loss   cls_loss   dfl_loss  Instances       Size\n"
     ]
    },
    {
     "name": "stderr",
     "output_type": "stream",
     "text": [
      "       8/50      8.65G      1.624      2.915      1.724      1.553         88        640: 100%|██████████| 6/6 [00:01<00:00,  3.16it/s]\n",
      "                 Class     Images  Instances      Box(P          R      mAP50  mAP50-95)     Mask(P          R      mAP50  mAP50-95): 100%|██████████| 1/1 [00:00<00:00,  2.08it/s]"
     ]
    },
    {
     "name": "stdout",
     "output_type": "stream",
     "text": [
      "                   all         25        190       0.12      0.658      0.126     0.0537     0.0726      0.116     0.0313    0.00755\n"
     ]
    },
    {
     "name": "stderr",
     "output_type": "stream",
     "text": [
      "\n"
     ]
    },
    {
     "name": "stdout",
     "output_type": "stream",
     "text": [
      "\n",
      "      Epoch    GPU_mem   box_loss   seg_loss   cls_loss   dfl_loss  Instances       Size\n"
     ]
    },
    {
     "name": "stderr",
     "output_type": "stream",
     "text": [
      "       9/50      8.98G      1.587      2.776      1.485      1.526         69        640: 100%|██████████| 6/6 [00:02<00:00,  2.93it/s]\n",
      "                 Class     Images  Instances      Box(P          R      mAP50  mAP50-95)     Mask(P          R      mAP50  mAP50-95): 100%|██████████| 1/1 [00:00<00:00,  2.18it/s]"
     ]
    },
    {
     "name": "stdout",
     "output_type": "stream",
     "text": [
      "                   all         25        190      0.189      0.563      0.156     0.0708      0.106      0.305       0.05     0.0105\n"
     ]
    },
    {
     "name": "stderr",
     "output_type": "stream",
     "text": [
      "\n"
     ]
    },
    {
     "name": "stdout",
     "output_type": "stream",
     "text": [
      "\n",
      "      Epoch    GPU_mem   box_loss   seg_loss   cls_loss   dfl_loss  Instances       Size\n"
     ]
    },
    {
     "name": "stderr",
     "output_type": "stream",
     "text": [
      "      10/50      9.11G      1.577      2.867      1.392      1.535        118        640: 100%|██████████| 6/6 [00:01<00:00,  3.09it/s]\n",
      "                 Class     Images  Instances      Box(P          R      mAP50  mAP50-95)     Mask(P          R      mAP50  mAP50-95): 100%|██████████| 1/1 [00:00<00:00,  1.57it/s]"
     ]
    },
    {
     "name": "stdout",
     "output_type": "stream",
     "text": [
      "                   all         25        190      0.375      0.405      0.326       0.15      0.257      0.274      0.155     0.0319\n"
     ]
    },
    {
     "name": "stderr",
     "output_type": "stream",
     "text": [
      "\n"
     ]
    },
    {
     "name": "stdout",
     "output_type": "stream",
     "text": [
      "\n",
      "      Epoch    GPU_mem   box_loss   seg_loss   cls_loss   dfl_loss  Instances       Size\n"
     ]
    },
    {
     "name": "stderr",
     "output_type": "stream",
     "text": [
      "      11/50       9.1G      1.594      2.782      1.435      1.589         51        640: 100%|██████████| 6/6 [00:01<00:00,  3.27it/s]\n",
      "                 Class     Images  Instances      Box(P          R      mAP50  mAP50-95)     Mask(P          R      mAP50  mAP50-95): 100%|██████████| 1/1 [00:00<00:00,  2.11it/s]"
     ]
    },
    {
     "name": "stdout",
     "output_type": "stream",
     "text": [
      "                   all         25        190      0.424      0.511      0.416      0.206      0.241      0.262      0.154     0.0342\n"
     ]
    },
    {
     "name": "stderr",
     "output_type": "stream",
     "text": [
      "\n"
     ]
    },
    {
     "name": "stdout",
     "output_type": "stream",
     "text": [
      "\n",
      "      Epoch    GPU_mem   box_loss   seg_loss   cls_loss   dfl_loss  Instances       Size\n"
     ]
    },
    {
     "name": "stderr",
     "output_type": "stream",
     "text": [
      "      12/50      9.19G      1.535      2.658      1.335      1.492        140        640: 100%|██████████| 6/6 [00:01<00:00,  3.40it/s]\n",
      "                 Class     Images  Instances      Box(P          R      mAP50  mAP50-95)     Mask(P          R      mAP50  mAP50-95): 100%|██████████| 1/1 [00:00<00:00,  1.80it/s]"
     ]
    },
    {
     "name": "stdout",
     "output_type": "stream",
     "text": [
      "                   all         25        190      0.263      0.584      0.343      0.163      0.164      0.363       0.14     0.0359\n"
     ]
    },
    {
     "name": "stderr",
     "output_type": "stream",
     "text": [
      "\n"
     ]
    },
    {
     "name": "stdout",
     "output_type": "stream",
     "text": [
      "\n",
      "      Epoch    GPU_mem   box_loss   seg_loss   cls_loss   dfl_loss  Instances       Size\n"
     ]
    },
    {
     "name": "stderr",
     "output_type": "stream",
     "text": [
      "      13/50      9.17G      1.494      2.642      1.359      1.487        146        640: 100%|██████████| 6/6 [00:01<00:00,  3.18it/s]\n",
      "                 Class     Images  Instances      Box(P          R      mAP50  mAP50-95)     Mask(P          R      mAP50  mAP50-95): 100%|██████████| 1/1 [00:00<00:00,  1.85it/s]"
     ]
    },
    {
     "name": "stdout",
     "output_type": "stream",
     "text": [
      "                   all         25        190      0.288      0.421      0.263      0.117      0.116      0.121      0.042     0.0107\n"
     ]
    },
    {
     "name": "stderr",
     "output_type": "stream",
     "text": [
      "\n"
     ]
    },
    {
     "name": "stdout",
     "output_type": "stream",
     "text": [
      "\n",
      "      Epoch    GPU_mem   box_loss   seg_loss   cls_loss   dfl_loss  Instances       Size\n"
     ]
    },
    {
     "name": "stderr",
     "output_type": "stream",
     "text": [
      "      14/50      8.82G      1.479      2.645      1.369      1.479         77        640: 100%|██████████| 6/6 [00:01<00:00,  3.35it/s]\n",
      "                 Class     Images  Instances      Box(P          R      mAP50  mAP50-95)     Mask(P          R      mAP50  mAP50-95): 100%|██████████| 1/1 [00:00<00:00,  2.80it/s]"
     ]
    },
    {
     "name": "stdout",
     "output_type": "stream",
     "text": [
      "                   all         25        190     0.0378      0.426     0.0274     0.0106     0.0161      0.132     0.0064    0.00144\n"
     ]
    },
    {
     "name": "stderr",
     "output_type": "stream",
     "text": [
      "\n"
     ]
    },
    {
     "name": "stdout",
     "output_type": "stream",
     "text": [
      "\n",
      "      Epoch    GPU_mem   box_loss   seg_loss   cls_loss   dfl_loss  Instances       Size\n"
     ]
    },
    {
     "name": "stderr",
     "output_type": "stream",
     "text": [
      "      15/50      8.82G      1.499      2.668      1.339      1.495         91        640: 100%|██████████| 6/6 [00:01<00:00,  3.25it/s]\n",
      "                 Class     Images  Instances      Box(P          R      mAP50  mAP50-95)     Mask(P          R      mAP50  mAP50-95): 100%|██████████| 1/1 [00:00<00:00,  1.92it/s]"
     ]
    },
    {
     "name": "stdout",
     "output_type": "stream",
     "text": [
      "                   all         25        190     0.0106      0.332      0.012    0.00743     0.0054      0.163    0.00297   0.000785\n"
     ]
    },
    {
     "name": "stderr",
     "output_type": "stream",
     "text": [
      "\n"
     ]
    },
    {
     "name": "stdout",
     "output_type": "stream",
     "text": [
      "\n",
      "      Epoch    GPU_mem   box_loss   seg_loss   cls_loss   dfl_loss  Instances       Size\n"
     ]
    },
    {
     "name": "stderr",
     "output_type": "stream",
     "text": [
      "      16/50      8.94G      1.529      2.657      1.324       1.49         81        640: 100%|██████████| 6/6 [00:01<00:00,  3.24it/s]\n",
      "                 Class     Images  Instances      Box(P          R      mAP50  mAP50-95)     Mask(P          R      mAP50  mAP50-95): 100%|██████████| 1/1 [00:00<00:00,  2.50it/s]"
     ]
    },
    {
     "name": "stdout",
     "output_type": "stream",
     "text": [
      "                   all         25        190    0.00811      0.316     0.0104    0.00515    0.00286      0.105    0.00655    0.00294\n"
     ]
    },
    {
     "name": "stderr",
     "output_type": "stream",
     "text": [
      "\n"
     ]
    },
    {
     "name": "stdout",
     "output_type": "stream",
     "text": [
      "\n",
      "      Epoch    GPU_mem   box_loss   seg_loss   cls_loss   dfl_loss  Instances       Size\n"
     ]
    },
    {
     "name": "stderr",
     "output_type": "stream",
     "text": [
      "      17/50      8.61G      1.476      2.553      1.251      1.496        107        640: 100%|██████████| 6/6 [00:01<00:00,  3.35it/s]\n",
      "                 Class     Images  Instances      Box(P          R      mAP50  mAP50-95)     Mask(P          R      mAP50  mAP50-95): 100%|██████████| 1/1 [00:00<00:00,  3.08it/s]"
     ]
    },
    {
     "name": "stdout",
     "output_type": "stream",
     "text": [
      "                   all         25        190     0.0271      0.447     0.0256     0.0104     0.0142      0.174     0.0111    0.00362\n"
     ]
    },
    {
     "name": "stderr",
     "output_type": "stream",
     "text": [
      "\n"
     ]
    },
    {
     "name": "stdout",
     "output_type": "stream",
     "text": [
      "\n",
      "      Epoch    GPU_mem   box_loss   seg_loss   cls_loss   dfl_loss  Instances       Size\n"
     ]
    },
    {
     "name": "stderr",
     "output_type": "stream",
     "text": [
      "      18/50      8.88G      1.439      2.552      1.196      1.429        151        640: 100%|██████████| 6/6 [00:01<00:00,  3.35it/s]\n",
      "                 Class     Images  Instances      Box(P          R      mAP50  mAP50-95)     Mask(P          R      mAP50  mAP50-95): 100%|██████████| 1/1 [00:00<00:00,  2.26it/s]"
     ]
    },
    {
     "name": "stdout",
     "output_type": "stream",
     "text": [
      "                   all         25        190      0.431      0.532      0.425      0.208      0.244      0.316      0.171      0.043\n"
     ]
    },
    {
     "name": "stderr",
     "output_type": "stream",
     "text": [
      "\n"
     ]
    },
    {
     "name": "stdout",
     "output_type": "stream",
     "text": [
      "\n",
      "      Epoch    GPU_mem   box_loss   seg_loss   cls_loss   dfl_loss  Instances       Size\n"
     ]
    },
    {
     "name": "stderr",
     "output_type": "stream",
     "text": [
      "      19/50      8.71G      1.462       2.53      1.204      1.474         94        640: 100%|██████████| 6/6 [00:01<00:00,  3.37it/s]\n",
      "                 Class     Images  Instances      Box(P          R      mAP50  mAP50-95)     Mask(P          R      mAP50  mAP50-95): 100%|██████████| 1/1 [00:00<00:00,  2.37it/s]"
     ]
    },
    {
     "name": "stdout",
     "output_type": "stream",
     "text": [
      "                   all         25        190      0.391       0.56      0.384      0.182      0.277      0.305      0.166     0.0451\n"
     ]
    },
    {
     "name": "stderr",
     "output_type": "stream",
     "text": [
      "\n"
     ]
    },
    {
     "name": "stdout",
     "output_type": "stream",
     "text": [
      "\n",
      "      Epoch    GPU_mem   box_loss   seg_loss   cls_loss   dfl_loss  Instances       Size\n"
     ]
    },
    {
     "name": "stderr",
     "output_type": "stream",
     "text": [
      "      20/50      8.87G      1.388      2.441      1.172      1.401        104        640: 100%|██████████| 6/6 [00:01<00:00,  3.45it/s]\n",
      "                 Class     Images  Instances      Box(P          R      mAP50  mAP50-95)     Mask(P          R      mAP50  mAP50-95): 100%|██████████| 1/1 [00:00<00:00,  1.72it/s]"
     ]
    },
    {
     "name": "stdout",
     "output_type": "stream",
     "text": [
      "                   all         25        190      0.381      0.568      0.388      0.175      0.286      0.326      0.174     0.0398\n"
     ]
    },
    {
     "name": "stderr",
     "output_type": "stream",
     "text": [
      "\n"
     ]
    },
    {
     "name": "stdout",
     "output_type": "stream",
     "text": [
      "\n",
      "      Epoch    GPU_mem   box_loss   seg_loss   cls_loss   dfl_loss  Instances       Size\n"
     ]
    },
    {
     "name": "stderr",
     "output_type": "stream",
     "text": [
      "      21/50      8.77G      1.352       2.52       1.12      1.415        120        640: 100%|██████████| 6/6 [00:01<00:00,  3.20it/s]\n",
      "                 Class     Images  Instances      Box(P          R      mAP50  mAP50-95)     Mask(P          R      mAP50  mAP50-95): 100%|██████████| 1/1 [00:00<00:00,  2.66it/s]"
     ]
    },
    {
     "name": "stdout",
     "output_type": "stream",
     "text": [
      "                   all         25        190      0.447      0.505      0.419      0.192      0.405      0.363      0.267     0.0613\n"
     ]
    },
    {
     "name": "stderr",
     "output_type": "stream",
     "text": [
      "\n"
     ]
    },
    {
     "name": "stdout",
     "output_type": "stream",
     "text": [
      "\n",
      "      Epoch    GPU_mem   box_loss   seg_loss   cls_loss   dfl_loss  Instances       Size\n"
     ]
    },
    {
     "name": "stderr",
     "output_type": "stream",
     "text": [
      "      22/50      8.93G      1.355      2.426      1.083      1.372        113        640: 100%|██████████| 6/6 [00:01<00:00,  3.38it/s]\n",
      "                 Class     Images  Instances      Box(P          R      mAP50  mAP50-95)     Mask(P          R      mAP50  mAP50-95): 100%|██████████| 1/1 [00:00<00:00,  2.23it/s]"
     ]
    },
    {
     "name": "stdout",
     "output_type": "stream",
     "text": [
      "                   all         25        190      0.296      0.553      0.266      0.119      0.222      0.358      0.127     0.0308\n"
     ]
    },
    {
     "name": "stderr",
     "output_type": "stream",
     "text": [
      "\n"
     ]
    },
    {
     "name": "stdout",
     "output_type": "stream",
     "text": [
      "\n",
      "      Epoch    GPU_mem   box_loss   seg_loss   cls_loss   dfl_loss  Instances       Size\n"
     ]
    },
    {
     "name": "stderr",
     "output_type": "stream",
     "text": [
      "      23/50      8.85G      1.381      2.448      1.124       1.41         86        640: 100%|██████████| 6/6 [00:01<00:00,  3.21it/s]\n",
      "                 Class     Images  Instances      Box(P          R      mAP50  mAP50-95)     Mask(P          R      mAP50  mAP50-95): 100%|██████████| 1/1 [00:00<00:00,  2.03it/s]"
     ]
    },
    {
     "name": "stdout",
     "output_type": "stream",
     "text": [
      "                   all         25        190      0.513      0.521      0.471      0.233      0.507      0.342      0.332     0.0969\n"
     ]
    },
    {
     "name": "stderr",
     "output_type": "stream",
     "text": [
      "\n"
     ]
    },
    {
     "name": "stdout",
     "output_type": "stream",
     "text": [
      "\n",
      "      Epoch    GPU_mem   box_loss   seg_loss   cls_loss   dfl_loss  Instances       Size\n"
     ]
    },
    {
     "name": "stderr",
     "output_type": "stream",
     "text": [
      "      24/50      8.77G      1.308      2.339      1.124      1.389         82        640: 100%|██████████| 6/6 [00:01<00:00,  3.05it/s]\n",
      "                 Class     Images  Instances      Box(P          R      mAP50  mAP50-95)     Mask(P          R      mAP50  mAP50-95): 100%|██████████| 1/1 [00:00<00:00,  2.58it/s]"
     ]
    },
    {
     "name": "stdout",
     "output_type": "stream",
     "text": [
      "                   all         25        190      0.545      0.521      0.481      0.259      0.511      0.353      0.297     0.0889\n"
     ]
    },
    {
     "name": "stderr",
     "output_type": "stream",
     "text": [
      "\n"
     ]
    },
    {
     "name": "stdout",
     "output_type": "stream",
     "text": [
      "\n",
      "      Epoch    GPU_mem   box_loss   seg_loss   cls_loss   dfl_loss  Instances       Size\n"
     ]
    },
    {
     "name": "stderr",
     "output_type": "stream",
     "text": [
      "      25/50      9.35G      1.304      2.359       1.05      1.355        105        640: 100%|██████████| 6/6 [00:01<00:00,  3.16it/s]\n",
      "                 Class     Images  Instances      Box(P          R      mAP50  mAP50-95)     Mask(P          R      mAP50  mAP50-95): 100%|██████████| 1/1 [00:00<00:00,  2.64it/s]"
     ]
    },
    {
     "name": "stdout",
     "output_type": "stream",
     "text": [
      "                   all         25        190      0.551      0.521      0.505      0.265      0.379      0.384      0.307     0.0949\n"
     ]
    },
    {
     "name": "stderr",
     "output_type": "stream",
     "text": [
      "\n"
     ]
    },
    {
     "name": "stdout",
     "output_type": "stream",
     "text": [
      "\n",
      "      Epoch    GPU_mem   box_loss   seg_loss   cls_loss   dfl_loss  Instances       Size\n"
     ]
    },
    {
     "name": "stderr",
     "output_type": "stream",
     "text": [
      "      26/50      8.86G      1.267       2.35      1.017      1.345         61        640: 100%|██████████| 6/6 [00:01<00:00,  3.19it/s]\n",
      "                 Class     Images  Instances      Box(P          R      mAP50  mAP50-95)     Mask(P          R      mAP50  mAP50-95): 100%|██████████| 1/1 [00:00<00:00,  3.62it/s]"
     ]
    },
    {
     "name": "stdout",
     "output_type": "stream",
     "text": [
      "                   all         25        190      0.582      0.498       0.52      0.272      0.329      0.384      0.283      0.092\n"
     ]
    },
    {
     "name": "stderr",
     "output_type": "stream",
     "text": [
      "\n"
     ]
    },
    {
     "name": "stdout",
     "output_type": "stream",
     "text": [
      "\n",
      "      Epoch    GPU_mem   box_loss   seg_loss   cls_loss   dfl_loss  Instances       Size\n"
     ]
    },
    {
     "name": "stderr",
     "output_type": "stream",
     "text": [
      "      27/50      8.78G      1.272      2.308      1.007      1.317         97        640: 100%|██████████| 6/6 [00:01<00:00,  3.06it/s]\n",
      "                 Class     Images  Instances      Box(P          R      mAP50  mAP50-95)     Mask(P          R      mAP50  mAP50-95): 100%|██████████| 1/1 [00:00<00:00,  3.19it/s]"
     ]
    },
    {
     "name": "stdout",
     "output_type": "stream",
     "text": [
      "                   all         25        190      0.507      0.516      0.475      0.241      0.395      0.305      0.248     0.0696\n"
     ]
    },
    {
     "name": "stderr",
     "output_type": "stream",
     "text": [
      "\n"
     ]
    },
    {
     "name": "stdout",
     "output_type": "stream",
     "text": [
      "\n",
      "      Epoch    GPU_mem   box_loss   seg_loss   cls_loss   dfl_loss  Instances       Size\n"
     ]
    },
    {
     "name": "stderr",
     "output_type": "stream",
     "text": [
      "      28/50      8.75G      1.263       2.39       1.01      1.346         81        640: 100%|██████████| 6/6 [00:01<00:00,  3.35it/s]\n",
      "                 Class     Images  Instances      Box(P          R      mAP50  mAP50-95)     Mask(P          R      mAP50  mAP50-95): 100%|██████████| 1/1 [00:00<00:00,  3.31it/s]"
     ]
    },
    {
     "name": "stdout",
     "output_type": "stream",
     "text": [
      "                   all         25        190      0.557      0.495      0.502      0.254      0.435      0.405      0.329      0.101\n"
     ]
    },
    {
     "name": "stderr",
     "output_type": "stream",
     "text": [
      "\n"
     ]
    },
    {
     "name": "stdout",
     "output_type": "stream",
     "text": [
      "\n",
      "      Epoch    GPU_mem   box_loss   seg_loss   cls_loss   dfl_loss  Instances       Size\n"
     ]
    },
    {
     "name": "stderr",
     "output_type": "stream",
     "text": [
      "      29/50      8.79G      1.203      2.328     0.9377      1.282         80        640: 100%|██████████| 6/6 [00:01<00:00,  3.43it/s]\n",
      "                 Class     Images  Instances      Box(P          R      mAP50  mAP50-95)     Mask(P          R      mAP50  mAP50-95): 100%|██████████| 1/1 [00:00<00:00,  3.06it/s]"
     ]
    },
    {
     "name": "stdout",
     "output_type": "stream",
     "text": [
      "                   all         25        190      0.609      0.526      0.548      0.287      0.417      0.452      0.347      0.107\n"
     ]
    },
    {
     "name": "stderr",
     "output_type": "stream",
     "text": [
      "\n"
     ]
    },
    {
     "name": "stdout",
     "output_type": "stream",
     "text": [
      "\n",
      "      Epoch    GPU_mem   box_loss   seg_loss   cls_loss   dfl_loss  Instances       Size\n"
     ]
    },
    {
     "name": "stderr",
     "output_type": "stream",
     "text": [
      "      30/50       8.8G      1.242      2.371     0.9969       1.34         95        640: 100%|██████████| 6/6 [00:01<00:00,  3.12it/s]\n",
      "                 Class     Images  Instances      Box(P          R      mAP50  mAP50-95)     Mask(P          R      mAP50  mAP50-95): 100%|██████████| 1/1 [00:00<00:00,  3.93it/s]"
     ]
    },
    {
     "name": "stdout",
     "output_type": "stream",
     "text": [
      "                   all         25        190      0.557      0.616       0.56      0.293      0.421      0.453      0.341      0.104\n"
     ]
    },
    {
     "name": "stderr",
     "output_type": "stream",
     "text": [
      "\n"
     ]
    },
    {
     "name": "stdout",
     "output_type": "stream",
     "text": [
      "\n",
      "      Epoch    GPU_mem   box_loss   seg_loss   cls_loss   dfl_loss  Instances       Size\n"
     ]
    },
    {
     "name": "stderr",
     "output_type": "stream",
     "text": [
      "      31/50      8.76G      1.189      2.148     0.9508      1.276         81        640: 100%|██████████| 6/6 [00:01<00:00,  3.49it/s]\n",
      "                 Class     Images  Instances      Box(P          R      mAP50  mAP50-95)     Mask(P          R      mAP50  mAP50-95): 100%|██████████| 1/1 [00:00<00:00,  3.71it/s]"
     ]
    },
    {
     "name": "stdout",
     "output_type": "stream",
     "text": [
      "                   all         25        190      0.541      0.589      0.547      0.285      0.487        0.4      0.356      0.104\n"
     ]
    },
    {
     "name": "stderr",
     "output_type": "stream",
     "text": [
      "\n"
     ]
    },
    {
     "name": "stdout",
     "output_type": "stream",
     "text": [
      "\n",
      "      Epoch    GPU_mem   box_loss   seg_loss   cls_loss   dfl_loss  Instances       Size\n"
     ]
    },
    {
     "name": "stderr",
     "output_type": "stream",
     "text": [
      "      32/50      8.84G      1.183      2.162     0.9176       1.29         98        640: 100%|██████████| 6/6 [00:01<00:00,  3.17it/s]\n",
      "                 Class     Images  Instances      Box(P          R      mAP50  mAP50-95)     Mask(P          R      mAP50  mAP50-95): 100%|██████████| 1/1 [00:00<00:00,  2.67it/s]"
     ]
    },
    {
     "name": "stdout",
     "output_type": "stream",
     "text": [
      "                   all         25        190      0.576      0.605      0.586      0.318      0.468      0.395      0.368      0.107\n"
     ]
    },
    {
     "name": "stderr",
     "output_type": "stream",
     "text": [
      "\n"
     ]
    },
    {
     "name": "stdout",
     "output_type": "stream",
     "text": [
      "\n",
      "      Epoch    GPU_mem   box_loss   seg_loss   cls_loss   dfl_loss  Instances       Size\n"
     ]
    },
    {
     "name": "stderr",
     "output_type": "stream",
     "text": [
      "      33/50      8.78G      1.162      2.125     0.8691      1.284        117        640: 100%|██████████| 6/6 [00:01<00:00,  3.06it/s]\n",
      "                 Class     Images  Instances      Box(P          R      mAP50  mAP50-95)     Mask(P          R      mAP50  mAP50-95): 100%|██████████| 1/1 [00:00<00:00,  3.75it/s]"
     ]
    },
    {
     "name": "stdout",
     "output_type": "stream",
     "text": [
      "                   all         25        190        0.6      0.574      0.592      0.307      0.495      0.407      0.377      0.113\n"
     ]
    },
    {
     "name": "stderr",
     "output_type": "stream",
     "text": [
      "\n"
     ]
    },
    {
     "name": "stdout",
     "output_type": "stream",
     "text": [
      "\n",
      "      Epoch    GPU_mem   box_loss   seg_loss   cls_loss   dfl_loss  Instances       Size\n"
     ]
    },
    {
     "name": "stderr",
     "output_type": "stream",
     "text": [
      "      34/50       8.9G      1.144      2.069     0.8595      1.238        116        640: 100%|██████████| 6/6 [00:01<00:00,  3.09it/s]\n",
      "                 Class     Images  Instances      Box(P          R      mAP50  mAP50-95)     Mask(P          R      mAP50  mAP50-95): 100%|██████████| 1/1 [00:00<00:00,  3.34it/s]"
     ]
    },
    {
     "name": "stdout",
     "output_type": "stream",
     "text": [
      "                   all         25        190      0.656      0.558      0.572      0.269       0.52      0.421      0.353     0.0918\n"
     ]
    },
    {
     "name": "stderr",
     "output_type": "stream",
     "text": [
      "\n"
     ]
    },
    {
     "name": "stdout",
     "output_type": "stream",
     "text": [
      "\n",
      "      Epoch    GPU_mem   box_loss   seg_loss   cls_loss   dfl_loss  Instances       Size\n"
     ]
    },
    {
     "name": "stderr",
     "output_type": "stream",
     "text": [
      "      35/50      9.05G      1.136      2.099     0.8549      1.238         77        640: 100%|██████████| 6/6 [00:01<00:00,  3.22it/s]\n",
      "                 Class     Images  Instances      Box(P          R      mAP50  mAP50-95)     Mask(P          R      mAP50  mAP50-95): 100%|██████████| 1/1 [00:00<00:00,  3.31it/s]"
     ]
    },
    {
     "name": "stdout",
     "output_type": "stream",
     "text": [
      "                   all         25        190      0.582      0.585       0.56       0.27      0.424      0.426       0.32     0.0844\n"
     ]
    },
    {
     "name": "stderr",
     "output_type": "stream",
     "text": [
      "\n"
     ]
    },
    {
     "name": "stdout",
     "output_type": "stream",
     "text": [
      "\n",
      "      Epoch    GPU_mem   box_loss   seg_loss   cls_loss   dfl_loss  Instances       Size\n"
     ]
    },
    {
     "name": "stderr",
     "output_type": "stream",
     "text": [
      "      36/50      8.76G      1.114      2.062     0.8727      1.224         78        640: 100%|██████████| 6/6 [00:01<00:00,  3.20it/s]\n",
      "                 Class     Images  Instances      Box(P          R      mAP50  mAP50-95)     Mask(P          R      mAP50  mAP50-95): 100%|██████████| 1/1 [00:00<00:00,  4.06it/s]"
     ]
    },
    {
     "name": "stdout",
     "output_type": "stream",
     "text": [
      "                   all         25        190      0.629      0.563      0.564      0.269      0.441      0.395      0.309     0.0928\n"
     ]
    },
    {
     "name": "stderr",
     "output_type": "stream",
     "text": [
      "\n"
     ]
    },
    {
     "name": "stdout",
     "output_type": "stream",
     "text": [
      "\n",
      "      Epoch    GPU_mem   box_loss   seg_loss   cls_loss   dfl_loss  Instances       Size\n"
     ]
    },
    {
     "name": "stderr",
     "output_type": "stream",
     "text": [
      "      37/50      8.73G      1.083      1.984      0.816      1.232         82        640: 100%|██████████| 6/6 [00:01<00:00,  3.33it/s]\n",
      "                 Class     Images  Instances      Box(P          R      mAP50  mAP50-95)     Mask(P          R      mAP50  mAP50-95): 100%|██████████| 1/1 [00:00<00:00,  2.50it/s]"
     ]
    },
    {
     "name": "stdout",
     "output_type": "stream",
     "text": [
      "                   all         25        190       0.63      0.526       0.55      0.278      0.484      0.363      0.304     0.0907\n"
     ]
    },
    {
     "name": "stderr",
     "output_type": "stream",
     "text": [
      "\n"
     ]
    },
    {
     "name": "stdout",
     "output_type": "stream",
     "text": [
      "\n",
      "      Epoch    GPU_mem   box_loss   seg_loss   cls_loss   dfl_loss  Instances       Size\n"
     ]
    },
    {
     "name": "stderr",
     "output_type": "stream",
     "text": [
      "      38/50      8.91G      1.081      2.051     0.8417       1.21         63        640: 100%|██████████| 6/6 [00:01<00:00,  3.01it/s]\n",
      "                 Class     Images  Instances      Box(P          R      mAP50  mAP50-95)     Mask(P          R      mAP50  mAP50-95): 100%|██████████| 1/1 [00:00<00:00,  4.70it/s]"
     ]
    },
    {
     "name": "stdout",
     "output_type": "stream",
     "text": [
      "                   all         25        190      0.604      0.479       0.51      0.262      0.441      0.353       0.29     0.0882\n"
     ]
    },
    {
     "name": "stderr",
     "output_type": "stream",
     "text": [
      "\n"
     ]
    },
    {
     "name": "stdout",
     "output_type": "stream",
     "text": [
      "\n",
      "      Epoch    GPU_mem   box_loss   seg_loss   cls_loss   dfl_loss  Instances       Size\n"
     ]
    },
    {
     "name": "stderr",
     "output_type": "stream",
     "text": [
      "      39/50      8.75G      1.127      2.088     0.8392      1.253         66        640: 100%|██████████| 6/6 [00:01<00:00,  3.25it/s]\n",
      "                 Class     Images  Instances      Box(P          R      mAP50  mAP50-95)     Mask(P          R      mAP50  mAP50-95): 100%|██████████| 1/1 [00:00<00:00,  2.06it/s]"
     ]
    },
    {
     "name": "stdout",
     "output_type": "stream",
     "text": [
      "                   all         25        190      0.617      0.505      0.544      0.286      0.514      0.421      0.368      0.114\n"
     ]
    },
    {
     "name": "stderr",
     "output_type": "stream",
     "text": [
      "\n"
     ]
    },
    {
     "name": "stdout",
     "output_type": "stream",
     "text": [
      "\n",
      "      Epoch    GPU_mem   box_loss   seg_loss   cls_loss   dfl_loss  Instances       Size\n"
     ]
    },
    {
     "name": "stderr",
     "output_type": "stream",
     "text": [
      "      40/50      8.96G      1.047      1.947     0.7679      1.179        117        640: 100%|██████████| 6/6 [00:01<00:00,  3.16it/s]\n",
      "                 Class     Images  Instances      Box(P          R      mAP50  mAP50-95)     Mask(P          R      mAP50  mAP50-95): 100%|██████████| 1/1 [00:00<00:00,  3.28it/s]"
     ]
    },
    {
     "name": "stdout",
     "output_type": "stream",
     "text": [
      "                   all         25        190      0.602      0.579      0.591      0.326      0.608      0.426      0.438      0.146\n"
     ]
    },
    {
     "name": "stderr",
     "output_type": "stream",
     "text": [
      "\n"
     ]
    },
    {
     "name": "stdout",
     "output_type": "stream",
     "text": [
      "Closing dataloader mosaic\n"
     ]
    },
    {
     "name": "stderr",
     "output_type": "stream",
     "text": [
      "/home/etaylor/.conda/envs/detectron_fastai/lib/python3.9/site-packages/torch/utils/data/dataloader.py:558: UserWarning: This DataLoader will create 8 worker processes in total. Our suggested max number of worker in current system is 6, which is smaller than what this DataLoader is going to create. Please be aware that excessive worker creation might get DataLoader running slow or even freeze, lower the worker number to avoid potential slowness/freeze if necessary.\n",
      "  warnings.warn(_create_warning_msg(\n"
     ]
    },
    {
     "name": "stdout",
     "output_type": "stream",
     "text": [
      "\n",
      "      Epoch    GPU_mem   box_loss   seg_loss   cls_loss   dfl_loss  Instances       Size\n"
     ]
    },
    {
     "name": "stderr",
     "output_type": "stream",
     "text": [
      "      41/50      8.47G      1.011      1.808     0.7969      1.213         52        640: 100%|██████████| 6/6 [00:07<00:00,  1.28s/it]\n",
      "                 Class     Images  Instances      Box(P          R      mAP50  mAP50-95)     Mask(P          R      mAP50  mAP50-95): 100%|██████████| 1/1 [00:00<00:00,  1.60it/s]"
     ]
    },
    {
     "name": "stdout",
     "output_type": "stream",
     "text": [
      "                   all         25        190       0.67      0.547      0.591      0.318      0.614      0.447      0.435      0.135\n"
     ]
    },
    {
     "name": "stderr",
     "output_type": "stream",
     "text": [
      "\n"
     ]
    },
    {
     "name": "stdout",
     "output_type": "stream",
     "text": [
      "\n",
      "      Epoch    GPU_mem   box_loss   seg_loss   cls_loss   dfl_loss  Instances       Size\n"
     ]
    },
    {
     "name": "stderr",
     "output_type": "stream",
     "text": [
      "      42/50      8.64G      1.006      1.841     0.7875      1.233         47        640: 100%|██████████| 6/6 [00:01<00:00,  3.44it/s]\n",
      "                 Class     Images  Instances      Box(P          R      mAP50  mAP50-95)     Mask(P          R      mAP50  mAP50-95): 100%|██████████| 1/1 [00:00<00:00,  3.09it/s]"
     ]
    },
    {
     "name": "stdout",
     "output_type": "stream",
     "text": [
      "                   all         25        190      0.712      0.516      0.599      0.322      0.655       0.43      0.449       0.13\n"
     ]
    },
    {
     "name": "stderr",
     "output_type": "stream",
     "text": [
      "\n"
     ]
    },
    {
     "name": "stdout",
     "output_type": "stream",
     "text": [
      "\n",
      "      Epoch    GPU_mem   box_loss   seg_loss   cls_loss   dfl_loss  Instances       Size\n"
     ]
    },
    {
     "name": "stderr",
     "output_type": "stream",
     "text": [
      "      43/50      8.84G     0.9794      1.825     0.7674      1.228         36        640: 100%|██████████| 6/6 [00:01<00:00,  3.87it/s]\n",
      "                 Class     Images  Instances      Box(P          R      mAP50  mAP50-95)     Mask(P          R      mAP50  mAP50-95): 100%|██████████| 1/1 [00:00<00:00,  2.77it/s]"
     ]
    },
    {
     "name": "stdout",
     "output_type": "stream",
     "text": [
      "                   all         25        190      0.598      0.595      0.597      0.324      0.614      0.437      0.436      0.135\n"
     ]
    },
    {
     "name": "stderr",
     "output_type": "stream",
     "text": [
      "\n"
     ]
    },
    {
     "name": "stdout",
     "output_type": "stream",
     "text": [
      "\n",
      "      Epoch    GPU_mem   box_loss   seg_loss   cls_loss   dfl_loss  Instances       Size\n"
     ]
    },
    {
     "name": "stderr",
     "output_type": "stream",
     "text": [
      "      44/50       8.7G     0.9333      1.761     0.6949      1.195         48        640: 100%|██████████| 6/6 [00:01<00:00,  3.78it/s]\n",
      "                 Class     Images  Instances      Box(P          R      mAP50  mAP50-95)     Mask(P          R      mAP50  mAP50-95): 100%|██████████| 1/1 [00:00<00:00,  2.99it/s]"
     ]
    },
    {
     "name": "stdout",
     "output_type": "stream",
     "text": [
      "                   all         25        190      0.615      0.595      0.599      0.323      0.623      0.421      0.444      0.139\n"
     ]
    },
    {
     "name": "stderr",
     "output_type": "stream",
     "text": [
      "\n"
     ]
    },
    {
     "name": "stdout",
     "output_type": "stream",
     "text": [
      "\n",
      "      Epoch    GPU_mem   box_loss   seg_loss   cls_loss   dfl_loss  Instances       Size\n"
     ]
    },
    {
     "name": "stderr",
     "output_type": "stream",
     "text": [
      "      45/50       8.5G     0.9145      1.788     0.6897      1.191         56        640: 100%|██████████| 6/6 [00:01<00:00,  3.89it/s]\n",
      "                 Class     Images  Instances      Box(P          R      mAP50  mAP50-95)     Mask(P          R      mAP50  mAP50-95): 100%|██████████| 1/1 [00:00<00:00,  3.16it/s]"
     ]
    },
    {
     "name": "stdout",
     "output_type": "stream",
     "text": [
      "                   all         25        190      0.642      0.563      0.596       0.32      0.701      0.383      0.439      0.139\n"
     ]
    },
    {
     "name": "stderr",
     "output_type": "stream",
     "text": [
      "\n"
     ]
    },
    {
     "name": "stdout",
     "output_type": "stream",
     "text": [
      "\n",
      "      Epoch    GPU_mem   box_loss   seg_loss   cls_loss   dfl_loss  Instances       Size\n"
     ]
    },
    {
     "name": "stderr",
     "output_type": "stream",
     "text": [
      "      46/50      8.75G     0.9219      1.677     0.7009      1.161         38        640: 100%|██████████| 6/6 [00:01<00:00,  3.81it/s]\n",
      "                 Class     Images  Instances      Box(P          R      mAP50  mAP50-95)     Mask(P          R      mAP50  mAP50-95): 100%|██████████| 1/1 [00:00<00:00,  3.55it/s]"
     ]
    },
    {
     "name": "stdout",
     "output_type": "stream",
     "text": [
      "                   all         25        190      0.577       0.64       0.59      0.333      0.622      0.453      0.461      0.152\n"
     ]
    },
    {
     "name": "stderr",
     "output_type": "stream",
     "text": [
      "\n"
     ]
    },
    {
     "name": "stdout",
     "output_type": "stream",
     "text": [
      "\n",
      "      Epoch    GPU_mem   box_loss   seg_loss   cls_loss   dfl_loss  Instances       Size\n"
     ]
    },
    {
     "name": "stderr",
     "output_type": "stream",
     "text": [
      "      47/50      8.85G     0.8876      1.678     0.6433      1.133         58        640: 100%|██████████| 6/6 [00:01<00:00,  3.99it/s]\n",
      "                 Class     Images  Instances      Box(P          R      mAP50  mAP50-95)     Mask(P          R      mAP50  mAP50-95): 100%|██████████| 1/1 [00:00<00:00,  3.63it/s]"
     ]
    },
    {
     "name": "stdout",
     "output_type": "stream",
     "text": [
      "                   all         25        190      0.617      0.589      0.591      0.333      0.607      0.453      0.457      0.147\n"
     ]
    },
    {
     "name": "stderr",
     "output_type": "stream",
     "text": [
      "\n"
     ]
    },
    {
     "name": "stdout",
     "output_type": "stream",
     "text": [
      "\n",
      "      Epoch    GPU_mem   box_loss   seg_loss   cls_loss   dfl_loss  Instances       Size\n"
     ]
    },
    {
     "name": "stderr",
     "output_type": "stream",
     "text": [
      "      48/50      8.55G      0.846      1.631     0.6056      1.123         51        640: 100%|██████████| 6/6 [00:01<00:00,  3.80it/s]\n",
      "                 Class     Images  Instances      Box(P          R      mAP50  mAP50-95)     Mask(P          R      mAP50  mAP50-95): 100%|██████████| 1/1 [00:00<00:00,  3.40it/s]"
     ]
    },
    {
     "name": "stdout",
     "output_type": "stream",
     "text": [
      "                   all         25        190      0.615        0.6      0.594      0.332      0.526      0.484      0.432       0.13\n"
     ]
    },
    {
     "name": "stderr",
     "output_type": "stream",
     "text": [
      "\n"
     ]
    },
    {
     "name": "stdout",
     "output_type": "stream",
     "text": [
      "\n",
      "      Epoch    GPU_mem   box_loss   seg_loss   cls_loss   dfl_loss  Instances       Size\n"
     ]
    },
    {
     "name": "stderr",
     "output_type": "stream",
     "text": [
      "      49/50      8.47G     0.8447      1.682     0.6505      1.154         43        640: 100%|██████████| 6/6 [00:01<00:00,  3.97it/s]\n",
      "                 Class     Images  Instances      Box(P          R      mAP50  mAP50-95)     Mask(P          R      mAP50  mAP50-95): 100%|██████████| 1/1 [00:00<00:00,  3.63it/s]"
     ]
    },
    {
     "name": "stdout",
     "output_type": "stream",
     "text": [
      "                   all         25        190      0.635      0.574      0.601      0.334      0.561      0.471      0.433      0.128\n"
     ]
    },
    {
     "name": "stderr",
     "output_type": "stream",
     "text": [
      "\n"
     ]
    },
    {
     "name": "stdout",
     "output_type": "stream",
     "text": [
      "\n",
      "      Epoch    GPU_mem   box_loss   seg_loss   cls_loss   dfl_loss  Instances       Size\n"
     ]
    },
    {
     "name": "stderr",
     "output_type": "stream",
     "text": [
      "      50/50      8.59G     0.8551      1.658     0.6116      1.134         42        640: 100%|██████████| 6/6 [00:01<00:00,  3.81it/s]\n",
      "                 Class     Images  Instances      Box(P          R      mAP50  mAP50-95)     Mask(P          R      mAP50  mAP50-95): 100%|██████████| 1/1 [00:00<00:00,  3.42it/s]"
     ]
    },
    {
     "name": "stdout",
     "output_type": "stream",
     "text": [
      "                   all         25        190       0.61      0.621      0.616      0.345       0.59      0.474      0.448      0.137\n"
     ]
    },
    {
     "name": "stderr",
     "output_type": "stream",
     "text": [
      "\n"
     ]
    },
    {
     "name": "stdout",
     "output_type": "stream",
     "text": [
      "\n",
      "50 epochs completed in 0.057 hours.\n",
      "Optimizer stripped from /home/etaylor/code_projects/thesis/src/stigmas_detection/segmentation/yolo/runs/segment/train2/weights/last.pt, 54.8MB\n",
      "Optimizer stripped from /home/etaylor/code_projects/thesis/src/stigmas_detection/segmentation/yolo/runs/segment/train2/weights/best.pt, 54.8MB\n",
      "\n",
      "Validating /home/etaylor/code_projects/thesis/src/stigmas_detection/segmentation/yolo/runs/segment/train2/weights/best.pt...\n",
      "Ultralytics 8.3.56 🚀 Python-3.9.19 torch-2.3.1+cu121 CUDA:0 (NVIDIA GeForce RTX 3090, 24253MiB)\n",
      "YOLOv8m-seg summary (fused): 245 layers, 27,222,963 parameters, 0 gradients, 110.0 GFLOPs\n"
     ]
    },
    {
     "name": "stderr",
     "output_type": "stream",
     "text": [
      "                 Class     Images  Instances      Box(P          R      mAP50  mAP50-95)     Mask(P          R      mAP50  mAP50-95): 100%|██████████| 1/1 [00:00<00:00,  2.74it/s]\n"
     ]
    },
    {
     "name": "stdout",
     "output_type": "stream",
     "text": [
      "                   all         25        190      0.575      0.626       0.59      0.334      0.622      0.453      0.461      0.152\n",
      "Speed: 0.1ms preprocess, 3.1ms inference, 0.0ms loss, 0.6ms postprocess per image\n",
      "Results saved to \u001b[1m/home/etaylor/code_projects/thesis/src/stigmas_detection/segmentation/yolo/runs/segment/train2\u001b[0m\n"
     ]
    }
   ],
   "source": [
    "# regular train of the model\n",
    "results = model.train(data=yaml_file_path, epochs=50, imgsz=640)"
   ]
  },
  {
   "cell_type": "code",
   "execution_count": 12,
   "metadata": {},
   "outputs": [
    {
     "name": "stdout",
     "output_type": "stream",
     "text": [
      "Ultralytics 8.3.56 🚀 Python-3.9.19 torch-2.3.1+cu121 CUDA:0 (NVIDIA GeForce RTX 3090, 24253MiB)\n",
      "YOLOv8m-seg summary (fused): 245 layers, 27,222,963 parameters, 0 gradients, 110.0 GFLOPs\n"
     ]
    },
    {
     "name": "stderr",
     "output_type": "stream",
     "text": [
      "\u001b[34m\u001b[1mval: \u001b[0mScanning /sise/home/etaylor/code_projects/thesis/segments/etaylor_stigmas_dataset/yolo_formatted/labels/val.cache... 25 images, 0 backgrounds, 0 corrupt: 100%|██████████| 25/25 [00:00<?, ?it/s]\n",
      "/home/etaylor/.conda/envs/detectron_fastai/lib/python3.9/site-packages/torch/utils/data/dataloader.py:558: UserWarning: This DataLoader will create 8 worker processes in total. Our suggested max number of worker in current system is 6, which is smaller than what this DataLoader is going to create. Please be aware that excessive worker creation might get DataLoader running slow or even freeze, lower the worker number to avoid potential slowness/freeze if necessary.\n",
      "  warnings.warn(_create_warning_msg(\n",
      "                 Class     Images  Instances      Box(P          R      mAP50  mAP50-95)     Mask(P          R      mAP50  mAP50-95): 100%|██████████| 2/2 [00:06<00:00,  3.26s/it]\n"
     ]
    },
    {
     "name": "stdout",
     "output_type": "stream",
     "text": [
      "                   all         25        190      0.577       0.64      0.591      0.336      0.615      0.447      0.457      0.151\n",
      "Speed: 0.1ms preprocess, 54.5ms inference, 0.0ms loss, 2.0ms postprocess per image\n",
      "Results saved to \u001b[1m/home/etaylor/code_projects/thesis/src/stigmas_detection/segmentation/yolo/runs/segment/train22\u001b[0m\n",
      "ultralytics.utils.metrics.SegmentMetrics object with attributes:\n",
      "\n",
      "ap_class_index: array([0])\n",
      "box: ultralytics.utils.metrics.Metric object\n",
      "confusion_matrix: <ultralytics.utils.metrics.ConfusionMatrix object at 0x7f4a285c24c0>\n",
      "curves: ['Precision-Recall(B)', 'F1-Confidence(B)', 'Precision-Confidence(B)', 'Recall-Confidence(B)', 'Precision-Recall(M)', 'F1-Confidence(M)', 'Precision-Confidence(M)', 'Recall-Confidence(M)']\n",
      "curves_results: [[array([          0,    0.001001,    0.002002,    0.003003,    0.004004,    0.005005,    0.006006,    0.007007,    0.008008,    0.009009,     0.01001,    0.011011,    0.012012,    0.013013,    0.014014,    0.015015,    0.016016,    0.017017,    0.018018,    0.019019,     0.02002,    0.021021,    0.022022,    0.023023,\n",
      "          0.024024,    0.025025,    0.026026,    0.027027,    0.028028,    0.029029,     0.03003,    0.031031,    0.032032,    0.033033,    0.034034,    0.035035,    0.036036,    0.037037,    0.038038,    0.039039,     0.04004,    0.041041,    0.042042,    0.043043,    0.044044,    0.045045,    0.046046,    0.047047,\n",
      "          0.048048,    0.049049,     0.05005,    0.051051,    0.052052,    0.053053,    0.054054,    0.055055,    0.056056,    0.057057,    0.058058,    0.059059,     0.06006,    0.061061,    0.062062,    0.063063,    0.064064,    0.065065,    0.066066,    0.067067,    0.068068,    0.069069,     0.07007,    0.071071,\n",
      "          0.072072,    0.073073,    0.074074,    0.075075,    0.076076,    0.077077,    0.078078,    0.079079,     0.08008,    0.081081,    0.082082,    0.083083,    0.084084,    0.085085,    0.086086,    0.087087,    0.088088,    0.089089,     0.09009,    0.091091,    0.092092,    0.093093,    0.094094,    0.095095,\n",
      "          0.096096,    0.097097,    0.098098,    0.099099,      0.1001,      0.1011,      0.1021,      0.1031,      0.1041,     0.10511,     0.10611,     0.10711,     0.10811,     0.10911,     0.11011,     0.11111,     0.11211,     0.11311,     0.11411,     0.11512,     0.11612,     0.11712,     0.11812,     0.11912,\n",
      "           0.12012,     0.12112,     0.12212,     0.12312,     0.12412,     0.12513,     0.12613,     0.12713,     0.12813,     0.12913,     0.13013,     0.13113,     0.13213,     0.13313,     0.13413,     0.13514,     0.13614,     0.13714,     0.13814,     0.13914,     0.14014,     0.14114,     0.14214,     0.14314,\n",
      "           0.14414,     0.14515,     0.14615,     0.14715,     0.14815,     0.14915,     0.15015,     0.15115,     0.15215,     0.15315,     0.15415,     0.15516,     0.15616,     0.15716,     0.15816,     0.15916,     0.16016,     0.16116,     0.16216,     0.16316,     0.16416,     0.16517,     0.16617,     0.16717,\n",
      "           0.16817,     0.16917,     0.17017,     0.17117,     0.17217,     0.17317,     0.17417,     0.17518,     0.17618,     0.17718,     0.17818,     0.17918,     0.18018,     0.18118,     0.18218,     0.18318,     0.18418,     0.18519,     0.18619,     0.18719,     0.18819,     0.18919,     0.19019,     0.19119,\n",
      "           0.19219,     0.19319,     0.19419,      0.1952,      0.1962,      0.1972,      0.1982,      0.1992,      0.2002,      0.2012,      0.2022,      0.2032,      0.2042,     0.20521,     0.20621,     0.20721,     0.20821,     0.20921,     0.21021,     0.21121,     0.21221,     0.21321,     0.21421,     0.21522,\n",
      "           0.21622,     0.21722,     0.21822,     0.21922,     0.22022,     0.22122,     0.22222,     0.22322,     0.22422,     0.22523,     0.22623,     0.22723,     0.22823,     0.22923,     0.23023,     0.23123,     0.23223,     0.23323,     0.23423,     0.23524,     0.23624,     0.23724,     0.23824,     0.23924,\n",
      "           0.24024,     0.24124,     0.24224,     0.24324,     0.24424,     0.24525,     0.24625,     0.24725,     0.24825,     0.24925,     0.25025,     0.25125,     0.25225,     0.25325,     0.25425,     0.25526,     0.25626,     0.25726,     0.25826,     0.25926,     0.26026,     0.26126,     0.26226,     0.26326,\n",
      "           0.26426,     0.26527,     0.26627,     0.26727,     0.26827,     0.26927,     0.27027,     0.27127,     0.27227,     0.27327,     0.27427,     0.27528,     0.27628,     0.27728,     0.27828,     0.27928,     0.28028,     0.28128,     0.28228,     0.28328,     0.28428,     0.28529,     0.28629,     0.28729,\n",
      "           0.28829,     0.28929,     0.29029,     0.29129,     0.29229,     0.29329,     0.29429,      0.2953,      0.2963,      0.2973,      0.2983,      0.2993,      0.3003,      0.3013,      0.3023,      0.3033,      0.3043,     0.30531,     0.30631,     0.30731,     0.30831,     0.30931,     0.31031,     0.31131,\n",
      "           0.31231,     0.31331,     0.31431,     0.31532,     0.31632,     0.31732,     0.31832,     0.31932,     0.32032,     0.32132,     0.32232,     0.32332,     0.32432,     0.32533,     0.32633,     0.32733,     0.32833,     0.32933,     0.33033,     0.33133,     0.33233,     0.33333,     0.33433,     0.33534,\n",
      "           0.33634,     0.33734,     0.33834,     0.33934,     0.34034,     0.34134,     0.34234,     0.34334,     0.34434,     0.34535,     0.34635,     0.34735,     0.34835,     0.34935,     0.35035,     0.35135,     0.35235,     0.35335,     0.35435,     0.35536,     0.35636,     0.35736,     0.35836,     0.35936,\n",
      "           0.36036,     0.36136,     0.36236,     0.36336,     0.36436,     0.36537,     0.36637,     0.36737,     0.36837,     0.36937,     0.37037,     0.37137,     0.37237,     0.37337,     0.37437,     0.37538,     0.37638,     0.37738,     0.37838,     0.37938,     0.38038,     0.38138,     0.38238,     0.38338,\n",
      "           0.38438,     0.38539,     0.38639,     0.38739,     0.38839,     0.38939,     0.39039,     0.39139,     0.39239,     0.39339,     0.39439,      0.3954,      0.3964,      0.3974,      0.3984,      0.3994,      0.4004,      0.4014,      0.4024,      0.4034,      0.4044,     0.40541,     0.40641,     0.40741,\n",
      "           0.40841,     0.40941,     0.41041,     0.41141,     0.41241,     0.41341,     0.41441,     0.41542,     0.41642,     0.41742,     0.41842,     0.41942,     0.42042,     0.42142,     0.42242,     0.42342,     0.42442,     0.42543,     0.42643,     0.42743,     0.42843,     0.42943,     0.43043,     0.43143,\n",
      "           0.43243,     0.43343,     0.43443,     0.43544,     0.43644,     0.43744,     0.43844,     0.43944,     0.44044,     0.44144,     0.44244,     0.44344,     0.44444,     0.44545,     0.44645,     0.44745,     0.44845,     0.44945,     0.45045,     0.45145,     0.45245,     0.45345,     0.45445,     0.45546,\n",
      "           0.45646,     0.45746,     0.45846,     0.45946,     0.46046,     0.46146,     0.46246,     0.46346,     0.46446,     0.46547,     0.46647,     0.46747,     0.46847,     0.46947,     0.47047,     0.47147,     0.47247,     0.47347,     0.47447,     0.47548,     0.47648,     0.47748,     0.47848,     0.47948,\n",
      "           0.48048,     0.48148,     0.48248,     0.48348,     0.48448,     0.48549,     0.48649,     0.48749,     0.48849,     0.48949,     0.49049,     0.49149,     0.49249,     0.49349,     0.49449,      0.4955,      0.4965,      0.4975,      0.4985,      0.4995,      0.5005,      0.5015,      0.5025,      0.5035,\n",
      "            0.5045,     0.50551,     0.50651,     0.50751,     0.50851,     0.50951,     0.51051,     0.51151,     0.51251,     0.51351,     0.51451,     0.51552,     0.51652,     0.51752,     0.51852,     0.51952,     0.52052,     0.52152,     0.52252,     0.52352,     0.52452,     0.52553,     0.52653,     0.52753,\n",
      "           0.52853,     0.52953,     0.53053,     0.53153,     0.53253,     0.53353,     0.53453,     0.53554,     0.53654,     0.53754,     0.53854,     0.53954,     0.54054,     0.54154,     0.54254,     0.54354,     0.54454,     0.54555,     0.54655,     0.54755,     0.54855,     0.54955,     0.55055,     0.55155,\n",
      "           0.55255,     0.55355,     0.55455,     0.55556,     0.55656,     0.55756,     0.55856,     0.55956,     0.56056,     0.56156,     0.56256,     0.56356,     0.56456,     0.56557,     0.56657,     0.56757,     0.56857,     0.56957,     0.57057,     0.57157,     0.57257,     0.57357,     0.57457,     0.57558,\n",
      "           0.57658,     0.57758,     0.57858,     0.57958,     0.58058,     0.58158,     0.58258,     0.58358,     0.58458,     0.58559,     0.58659,     0.58759,     0.58859,     0.58959,     0.59059,     0.59159,     0.59259,     0.59359,     0.59459,      0.5956,      0.5966,      0.5976,      0.5986,      0.5996,\n",
      "            0.6006,      0.6016,      0.6026,      0.6036,      0.6046,     0.60561,     0.60661,     0.60761,     0.60861,     0.60961,     0.61061,     0.61161,     0.61261,     0.61361,     0.61461,     0.61562,     0.61662,     0.61762,     0.61862,     0.61962,     0.62062,     0.62162,     0.62262,     0.62362,\n",
      "           0.62462,     0.62563,     0.62663,     0.62763,     0.62863,     0.62963,     0.63063,     0.63163,     0.63263,     0.63363,     0.63463,     0.63564,     0.63664,     0.63764,     0.63864,     0.63964,     0.64064,     0.64164,     0.64264,     0.64364,     0.64464,     0.64565,     0.64665,     0.64765,\n",
      "           0.64865,     0.64965,     0.65065,     0.65165,     0.65265,     0.65365,     0.65465,     0.65566,     0.65666,     0.65766,     0.65866,     0.65966,     0.66066,     0.66166,     0.66266,     0.66366,     0.66466,     0.66567,     0.66667,     0.66767,     0.66867,     0.66967,     0.67067,     0.67167,\n",
      "           0.67267,     0.67367,     0.67467,     0.67568,     0.67668,     0.67768,     0.67868,     0.67968,     0.68068,     0.68168,     0.68268,     0.68368,     0.68468,     0.68569,     0.68669,     0.68769,     0.68869,     0.68969,     0.69069,     0.69169,     0.69269,     0.69369,     0.69469,      0.6957,\n",
      "            0.6967,      0.6977,      0.6987,      0.6997,      0.7007,      0.7017,      0.7027,      0.7037,      0.7047,     0.70571,     0.70671,     0.70771,     0.70871,     0.70971,     0.71071,     0.71171,     0.71271,     0.71371,     0.71471,     0.71572,     0.71672,     0.71772,     0.71872,     0.71972,\n",
      "           0.72072,     0.72172,     0.72272,     0.72372,     0.72472,     0.72573,     0.72673,     0.72773,     0.72873,     0.72973,     0.73073,     0.73173,     0.73273,     0.73373,     0.73473,     0.73574,     0.73674,     0.73774,     0.73874,     0.73974,     0.74074,     0.74174,     0.74274,     0.74374,\n",
      "           0.74474,     0.74575,     0.74675,     0.74775,     0.74875,     0.74975,     0.75075,     0.75175,     0.75275,     0.75375,     0.75475,     0.75576,     0.75676,     0.75776,     0.75876,     0.75976,     0.76076,     0.76176,     0.76276,     0.76376,     0.76476,     0.76577,     0.76677,     0.76777,\n",
      "           0.76877,     0.76977,     0.77077,     0.77177,     0.77277,     0.77377,     0.77477,     0.77578,     0.77678,     0.77778,     0.77878,     0.77978,     0.78078,     0.78178,     0.78278,     0.78378,     0.78478,     0.78579,     0.78679,     0.78779,     0.78879,     0.78979,     0.79079,     0.79179,\n",
      "           0.79279,     0.79379,     0.79479,      0.7958,      0.7968,      0.7978,      0.7988,      0.7998,      0.8008,      0.8018,      0.8028,      0.8038,      0.8048,     0.80581,     0.80681,     0.80781,     0.80881,     0.80981,     0.81081,     0.81181,     0.81281,     0.81381,     0.81481,     0.81582,\n",
      "           0.81682,     0.81782,     0.81882,     0.81982,     0.82082,     0.82182,     0.82282,     0.82382,     0.82482,     0.82583,     0.82683,     0.82783,     0.82883,     0.82983,     0.83083,     0.83183,     0.83283,     0.83383,     0.83483,     0.83584,     0.83684,     0.83784,     0.83884,     0.83984,\n",
      "           0.84084,     0.84184,     0.84284,     0.84384,     0.84484,     0.84585,     0.84685,     0.84785,     0.84885,     0.84985,     0.85085,     0.85185,     0.85285,     0.85385,     0.85485,     0.85586,     0.85686,     0.85786,     0.85886,     0.85986,     0.86086,     0.86186,     0.86286,     0.86386,\n",
      "           0.86486,     0.86587,     0.86687,     0.86787,     0.86887,     0.86987,     0.87087,     0.87187,     0.87287,     0.87387,     0.87487,     0.87588,     0.87688,     0.87788,     0.87888,     0.87988,     0.88088,     0.88188,     0.88288,     0.88388,     0.88488,     0.88589,     0.88689,     0.88789,\n",
      "           0.88889,     0.88989,     0.89089,     0.89189,     0.89289,     0.89389,     0.89489,      0.8959,      0.8969,      0.8979,      0.8989,      0.8999,      0.9009,      0.9019,      0.9029,      0.9039,      0.9049,     0.90591,     0.90691,     0.90791,     0.90891,     0.90991,     0.91091,     0.91191,\n",
      "           0.91291,     0.91391,     0.91491,     0.91592,     0.91692,     0.91792,     0.91892,     0.91992,     0.92092,     0.92192,     0.92292,     0.92392,     0.92492,     0.92593,     0.92693,     0.92793,     0.92893,     0.92993,     0.93093,     0.93193,     0.93293,     0.93393,     0.93493,     0.93594,\n",
      "           0.93694,     0.93794,     0.93894,     0.93994,     0.94094,     0.94194,     0.94294,     0.94394,     0.94494,     0.94595,     0.94695,     0.94795,     0.94895,     0.94995,     0.95095,     0.95195,     0.95295,     0.95395,     0.95495,     0.95596,     0.95696,     0.95796,     0.95896,     0.95996,\n",
      "           0.96096,     0.96196,     0.96296,     0.96396,     0.96496,     0.96597,     0.96697,     0.96797,     0.96897,     0.96997,     0.97097,     0.97197,     0.97297,     0.97397,     0.97497,     0.97598,     0.97698,     0.97798,     0.97898,     0.97998,     0.98098,     0.98198,     0.98298,     0.98398,\n",
      "           0.98498,     0.98599,     0.98699,     0.98799,     0.98899,     0.98999,     0.99099,     0.99199,     0.99299,     0.99399,     0.99499,       0.996,       0.997,       0.998,       0.999,           1]), array([[          1,           1,           1,           1,           1,           1,           1,           1,           1,           1,           1,     0.88889,     0.88889,     0.88889,     0.88889,     0.88889,     0.88889,     0.88889,     0.88889,     0.88889,     0.88889,     0.88889,     0.88889,\n",
      "            0.88889,     0.88889,     0.88889,     0.88889,     0.88889,     0.88889,     0.88889,     0.88889,     0.88889,     0.88889,     0.88889,     0.88889,     0.88889,     0.88889,     0.88889,     0.88889,     0.88889,     0.88889,     0.88889,     0.88889,     0.88571,     0.88571,     0.88571,\n",
      "            0.88571,     0.88571,     0.88571,     0.88571,     0.88571,     0.88571,     0.88571,     0.88571,     0.88571,     0.88571,     0.88571,     0.88571,     0.88571,     0.88571,     0.88571,     0.88571,     0.88571,     0.88571,     0.88571,     0.88571,     0.88571,     0.88571,     0.88571,\n",
      "            0.88571,     0.88571,     0.88571,     0.88571,     0.88571,     0.88571,     0.88571,     0.88571,     0.88571,     0.88571,     0.88571,     0.88571,     0.88571,     0.88571,     0.88571,     0.88571,     0.88571,     0.88571,     0.88571,     0.88571,     0.88571,     0.88571,     0.88571,\n",
      "            0.88571,     0.88571,     0.88571,     0.88571,     0.88571,     0.88571,     0.88571,     0.88571,     0.88571,     0.88571,     0.88571,     0.88571,     0.88571,     0.88571,     0.88571,     0.88571,     0.88571,     0.88571,     0.88571,     0.88571,     0.88571,     0.88571,     0.88571,\n",
      "            0.88571,     0.88571,     0.88571,     0.88571,     0.88571,     0.88571,     0.88571,     0.88571,     0.88571,     0.88571,     0.88571,     0.88571,     0.88571,     0.88571,     0.88571,     0.88571,     0.88571,     0.88571,     0.88571,     0.88571,     0.88571,     0.88571,     0.88571,\n",
      "            0.88571,     0.88571,     0.88571,     0.88571,     0.88571,     0.88571,     0.88571,     0.88571,     0.88571,     0.88571,     0.88571,     0.88571,     0.88571,     0.88571,     0.88571,     0.88571,     0.88571,     0.88571,     0.88571,     0.88571,     0.88571,     0.88571,     0.88571,\n",
      "            0.88571,     0.88571,       0.875,       0.875,       0.875,       0.875,       0.875,       0.875,       0.875,       0.875,       0.875,       0.875,       0.875,       0.875,       0.875,       0.875,       0.875,       0.875,       0.875,       0.875,       0.875,       0.875,       0.875,\n",
      "              0.875,     0.84483,     0.84483,     0.84483,     0.84483,     0.84483,     0.84483,     0.84483,     0.84483,     0.84483,     0.84483,     0.84483,     0.84483,     0.84483,     0.84483,     0.84483,     0.84483,     0.84483,     0.84483,     0.84483,     0.84483,     0.84483,     0.84483,\n",
      "            0.84483,     0.84483,     0.84483,     0.84483,     0.84483,     0.84483,     0.84483,     0.84483,     0.84483,     0.84483,     0.84483,     0.84483,     0.84483,     0.84483,     0.84483,     0.84483,     0.84483,     0.84483,     0.84483,     0.84483,     0.84483,     0.84483,     0.84483,\n",
      "            0.84483,     0.84483,     0.84483,     0.84483,     0.84483,     0.84483,     0.84483,     0.84483,     0.84483,     0.84483,     0.84483,     0.84483,     0.84483,     0.84483,     0.84483,     0.84483,     0.84483,     0.84483,     0.84483,     0.84483,     0.84483,     0.84483,     0.84483,\n",
      "            0.84483,     0.84483,     0.84483,     0.84483,     0.84483,     0.82353,     0.82353,     0.82353,     0.82353,     0.82353,     0.82353,     0.82353,     0.82353,     0.82353,     0.82353,     0.82353,     0.82353,     0.82353,     0.82353,     0.82353,     0.82353,     0.82353,     0.82353,\n",
      "            0.82353,     0.82353,     0.82353,     0.82353,     0.82353,     0.82353,     0.82353,     0.82353,     0.82353,     0.82353,     0.82353,     0.82353,     0.82353,     0.82353,     0.82353,     0.82353,     0.82353,     0.82353,     0.82353,     0.81944,     0.81944,     0.81944,     0.81944,\n",
      "            0.81944,     0.81944,     0.81944,     0.81944,     0.81944,     0.81944,     0.81944,     0.81944,     0.81944,     0.81944,     0.81944,     0.81944,     0.81579,     0.81579,     0.81579,     0.81579,     0.81579,     0.81579,     0.81579,     0.81579,     0.81579,     0.81579,     0.81579,\n",
      "            0.81579,     0.81579,     0.81579,     0.81579,     0.79268,     0.79268,     0.79268,     0.79268,     0.79268,     0.79268,     0.79268,     0.79268,     0.79268,     0.79268,     0.79268,     0.79268,     0.79268,     0.79268,     0.79268,     0.79268,     0.78571,     0.78571,     0.78571,\n",
      "            0.78571,     0.78571,     0.78571,     0.77273,     0.77273,     0.77273,     0.77273,     0.77273,     0.77273,     0.77273,     0.77273,     0.77273,     0.77273,     0.77174,     0.77174,     0.77174,     0.77174,     0.77174,     0.77174,     0.77174,     0.77174,     0.77174,     0.77174,\n",
      "            0.77174,     0.77174,     0.77174,     0.77174,     0.77174,     0.77174,      0.7549,      0.7549,      0.7549,      0.7549,      0.7549,      0.7549,      0.7549,      0.7549,      0.7549,      0.7549,      0.7549,      0.7549,      0.7549,      0.7549,      0.7549,      0.7549,      0.7549,\n",
      "             0.7549,      0.7549,      0.7549,      0.7549,      0.7549,      0.7549,      0.7549,      0.7549,      0.7549,      0.7549,      0.7549,      0.7549,      0.7549,      0.7549,     0.75238,     0.75238,     0.75238,     0.75238,     0.75238,     0.75238,     0.75238,     0.75238,     0.75238,\n",
      "            0.75238,     0.75238,        0.75,        0.75,        0.75,        0.75,        0.75,        0.75,        0.75,        0.75,        0.75,        0.75,     0.74545,     0.74545,     0.74545,     0.74545,     0.74545,     0.74545,     0.73684,     0.73684,     0.73684,     0.73684,     0.73684,\n",
      "            0.73684,     0.73684,     0.73684,     0.73684,     0.73684,     0.73276,     0.73276,     0.73276,     0.73276,     0.73276,     0.72881,     0.72881,     0.72881,     0.72881,     0.72881,     0.72881,     0.72581,     0.72581,     0.72581,     0.72581,     0.72581,     0.72581,     0.72581,\n",
      "            0.72581,     0.72581,     0.72581,     0.72581,     0.72581,     0.72581,     0.72581,     0.72581,     0.72581,     0.72581,     0.72581,     0.72581,     0.72581,     0.72581,     0.71654,     0.71654,     0.71654,     0.71654,     0.71654,     0.70229,     0.70229,     0.70229,     0.70229,\n",
      "            0.70229,     0.69403,     0.69403,     0.69403,     0.69403,     0.69403,     0.69118,     0.69118,     0.69118,     0.69118,     0.69118,     0.69118,     0.66434,     0.66434,     0.66434,     0.66434,     0.66434,     0.65753,     0.65753,     0.65753,     0.65753,     0.65753,     0.65541,\n",
      "            0.65541,     0.65541,     0.65541,     0.65541,     0.65541,     0.64286,     0.64286,     0.64286,     0.64286,     0.64286,     0.64286,     0.64286,     0.64286,     0.64286,     0.64286,     0.62722,     0.62722,     0.62722,     0.62722,     0.62722,     0.62722,     0.62722,     0.62722,\n",
      "            0.62722,     0.62722,     0.62722,     0.62722,     0.62722,     0.62722,     0.62722,     0.62722,     0.62722,     0.62722,     0.62722,     0.62722,     0.62722,     0.62722,     0.62722,     0.62722,     0.62722,     0.62722,     0.62722,     0.62722,     0.62722,     0.62722,     0.62722,\n",
      "            0.62722,     0.62722,     0.62722,     0.62722,     0.62722,     0.62722,     0.62209,     0.62209,     0.62209,     0.62209,     0.62209,     0.62069,     0.62069,     0.62069,     0.62069,     0.62069,     0.61932,     0.61932,     0.61932,     0.61932,     0.61932,     0.61932,     0.61667,\n",
      "            0.61667,     0.61667,     0.61667,     0.61667,     0.61667,     0.61667,     0.61667,     0.61667,     0.61667,     0.61081,     0.61081,     0.61081,     0.61081,     0.61081,     0.61081,     0.61081,     0.61081,     0.61081,     0.61081,     0.61081,     0.58376,     0.58376,     0.58376,\n",
      "            0.58376,     0.58376,     0.58376,     0.58376,     0.58376,     0.58376,     0.58376,        0.58,        0.58,        0.58,        0.58,        0.58,     0.57843,     0.57843,     0.57843,     0.57843,     0.57843,     0.57843,     0.57843,     0.57843,     0.57843,     0.57843,     0.57843,\n",
      "             0.5782,      0.5782,      0.5782,      0.5782,      0.5782,      0.5782,      0.5782,      0.5782,      0.5782,      0.5782,      0.5782,      0.5782,      0.5782,      0.5782,      0.5782,      0.5782,      0.5782,      0.5782,      0.5782,      0.5782,      0.5782,     0.56164,     0.56164,\n",
      "            0.56164,     0.56164,     0.56164,     0.55605,     0.55605,     0.55605,     0.55605,     0.55605,     0.53165,     0.53165,     0.53165,     0.53165,     0.53165,     0.53165,     0.53165,     0.53165,     0.53165,     0.53165,     0.53165,     0.52697,     0.52697,     0.52697,     0.52697,\n",
      "            0.52697,     0.52245,     0.52245,     0.52245,     0.52245,     0.52245,     0.52245,     0.50787,     0.50787,     0.50787,     0.50787,     0.50787,     0.50584,     0.50584,     0.50584,     0.50584,     0.50584,     0.50192,     0.50192,     0.50192,     0.50192,     0.50192,     0.49624,\n",
      "            0.49624,     0.49624,     0.49624,     0.49624,     0.49624,     0.45548,     0.45548,     0.45548,     0.45548,     0.45548,     0.45302,     0.45302,     0.45302,     0.45302,     0.45302,     0.45302,     0.45302,     0.45302,     0.45302,     0.45302,      0.4373,      0.4373,      0.4373,\n",
      "             0.4373,      0.4373,      0.4373,     0.40896,     0.40896,     0.40896,     0.40896,     0.40896,     0.40828,     0.40828,     0.40828,     0.40828,     0.40828,     0.40173,     0.40173,     0.40173,     0.40173,     0.40173,     0.40115,     0.40115,     0.40115,     0.40115,     0.40115,\n",
      "            0.40115,     0.38692,     0.38692,     0.38692,     0.38692,     0.38692,     0.38692,     0.38692,     0.38692,     0.38692,     0.38692,     0.37047,     0.37047,     0.37047,     0.37047,     0.37047,     0.34368,     0.34368,     0.34368,     0.34368,     0.34368,     0.34368,     0.34279,\n",
      "            0.34279,     0.34279,     0.34279,     0.34279,     0.31739,     0.31739,     0.31739,     0.31739,     0.31739,     0.30947,     0.30947,     0.30947,     0.30947,     0.30947,     0.30642,     0.30642,     0.30642,     0.30642,     0.30642,     0.30642,     0.29741,     0.29741,     0.29741,\n",
      "            0.29741,     0.29741,     0.27076,     0.27076,     0.27076,     0.27076,     0.27076,     0.26399,     0.26399,     0.26399,     0.26399,     0.26399,     0.25763,     0.25763,     0.25763,     0.25763,     0.25763,     0.25763,     0.25164,     0.25164,     0.25164,     0.25164,     0.25164,\n",
      "            0.25122,     0.25122,     0.25122,     0.25122,     0.25122,       0.231,       0.231,       0.231,       0.231,       0.231,     0.22975,     0.22975,     0.22975,     0.22975,     0.22975,     0.22975,     0.22365,     0.22365,     0.22365,     0.22365,     0.22365,     0.21123,     0.21123,\n",
      "            0.21123,     0.21123,     0.21123,     0.20757,     0.20757,     0.20757,     0.20757,     0.20757,     0.20757,     0.20177,     0.20177,     0.20177,     0.20177,     0.20177,     0.19121,     0.19121,     0.19121,     0.19121,     0.19121,     0.17532,     0.17532,     0.17532,     0.17532,\n",
      "            0.17532,     0.17377,     0.17377,     0.17377,     0.17377,     0.17377,     0.17377,     0.17227,     0.17227,     0.17227,     0.17227,     0.17227,      0.1701,      0.1701,      0.1701,      0.1701,      0.1701,      0.1687,      0.1687,      0.1687,      0.1687,      0.1687,     0.14911,\n",
      "            0.14911,     0.14911,     0.14911,     0.14911,     0.14911,     0.14571,     0.14571,     0.14571,     0.14571,     0.14571,     0.14038,     0.14038,     0.14038,     0.14038,     0.14038,     0.14038,     0.14038,     0.14038,     0.14038,     0.14038,     0.13658,     0.13658,     0.13658,\n",
      "            0.13658,     0.13658,     0.13658,     0.12741,     0.12741,     0.12741,     0.12741,     0.12741,     0.12527,     0.12527,     0.12527,     0.12527,     0.12527,     0.11962,     0.11962,     0.11962,     0.11962,     0.11962,     0.11962,     0.11962,     0.11962,     0.11962,     0.11962,\n",
      "            0.11962,    0.099773,    0.099773,    0.099773,    0.099773,    0.099773,    0.078215,    0.078215,    0.078215,    0.078215,    0.078215,    0.078173,    0.078173,    0.078173,    0.078173,    0.078173,    0.075406,    0.074209,    0.073012,    0.071816,    0.070619,    0.069422,    0.068225,\n",
      "           0.067028,    0.065831,    0.064634,    0.063437,     0.06224,    0.061043,    0.059846,    0.058649,    0.057452,    0.056256,    0.055059,    0.053862,    0.052665,    0.051468,    0.050271,    0.049074,    0.047877,     0.04668,    0.045483,    0.044286,    0.043089,    0.041892,    0.040695,\n",
      "           0.039499,    0.038302,    0.037105,    0.035908,    0.034711,    0.033514,    0.032317,     0.03112,    0.029923,    0.028726,    0.027529,    0.026332,    0.025135,    0.023939,    0.022742,    0.021545,    0.020348,    0.019151,    0.017954,    0.016757,     0.01556,    0.014363,    0.013166,\n",
      "           0.011969,    0.010772,   0.0095754,   0.0083785,   0.0071816,   0.0059846,   0.0047877,   0.0035908,   0.0023939,   0.0011969,           0]]), 'Recall', 'Precision'], [array([          0,    0.001001,    0.002002,    0.003003,    0.004004,    0.005005,    0.006006,    0.007007,    0.008008,    0.009009,     0.01001,    0.011011,    0.012012,    0.013013,    0.014014,    0.015015,    0.016016,    0.017017,    0.018018,    0.019019,     0.02002,    0.021021,    0.022022,    0.023023,\n",
      "          0.024024,    0.025025,    0.026026,    0.027027,    0.028028,    0.029029,     0.03003,    0.031031,    0.032032,    0.033033,    0.034034,    0.035035,    0.036036,    0.037037,    0.038038,    0.039039,     0.04004,    0.041041,    0.042042,    0.043043,    0.044044,    0.045045,    0.046046,    0.047047,\n",
      "          0.048048,    0.049049,     0.05005,    0.051051,    0.052052,    0.053053,    0.054054,    0.055055,    0.056056,    0.057057,    0.058058,    0.059059,     0.06006,    0.061061,    0.062062,    0.063063,    0.064064,    0.065065,    0.066066,    0.067067,    0.068068,    0.069069,     0.07007,    0.071071,\n",
      "          0.072072,    0.073073,    0.074074,    0.075075,    0.076076,    0.077077,    0.078078,    0.079079,     0.08008,    0.081081,    0.082082,    0.083083,    0.084084,    0.085085,    0.086086,    0.087087,    0.088088,    0.089089,     0.09009,    0.091091,    0.092092,    0.093093,    0.094094,    0.095095,\n",
      "          0.096096,    0.097097,    0.098098,    0.099099,      0.1001,      0.1011,      0.1021,      0.1031,      0.1041,     0.10511,     0.10611,     0.10711,     0.10811,     0.10911,     0.11011,     0.11111,     0.11211,     0.11311,     0.11411,     0.11512,     0.11612,     0.11712,     0.11812,     0.11912,\n",
      "           0.12012,     0.12112,     0.12212,     0.12312,     0.12412,     0.12513,     0.12613,     0.12713,     0.12813,     0.12913,     0.13013,     0.13113,     0.13213,     0.13313,     0.13413,     0.13514,     0.13614,     0.13714,     0.13814,     0.13914,     0.14014,     0.14114,     0.14214,     0.14314,\n",
      "           0.14414,     0.14515,     0.14615,     0.14715,     0.14815,     0.14915,     0.15015,     0.15115,     0.15215,     0.15315,     0.15415,     0.15516,     0.15616,     0.15716,     0.15816,     0.15916,     0.16016,     0.16116,     0.16216,     0.16316,     0.16416,     0.16517,     0.16617,     0.16717,\n",
      "           0.16817,     0.16917,     0.17017,     0.17117,     0.17217,     0.17317,     0.17417,     0.17518,     0.17618,     0.17718,     0.17818,     0.17918,     0.18018,     0.18118,     0.18218,     0.18318,     0.18418,     0.18519,     0.18619,     0.18719,     0.18819,     0.18919,     0.19019,     0.19119,\n",
      "           0.19219,     0.19319,     0.19419,      0.1952,      0.1962,      0.1972,      0.1982,      0.1992,      0.2002,      0.2012,      0.2022,      0.2032,      0.2042,     0.20521,     0.20621,     0.20721,     0.20821,     0.20921,     0.21021,     0.21121,     0.21221,     0.21321,     0.21421,     0.21522,\n",
      "           0.21622,     0.21722,     0.21822,     0.21922,     0.22022,     0.22122,     0.22222,     0.22322,     0.22422,     0.22523,     0.22623,     0.22723,     0.22823,     0.22923,     0.23023,     0.23123,     0.23223,     0.23323,     0.23423,     0.23524,     0.23624,     0.23724,     0.23824,     0.23924,\n",
      "           0.24024,     0.24124,     0.24224,     0.24324,     0.24424,     0.24525,     0.24625,     0.24725,     0.24825,     0.24925,     0.25025,     0.25125,     0.25225,     0.25325,     0.25425,     0.25526,     0.25626,     0.25726,     0.25826,     0.25926,     0.26026,     0.26126,     0.26226,     0.26326,\n",
      "           0.26426,     0.26527,     0.26627,     0.26727,     0.26827,     0.26927,     0.27027,     0.27127,     0.27227,     0.27327,     0.27427,     0.27528,     0.27628,     0.27728,     0.27828,     0.27928,     0.28028,     0.28128,     0.28228,     0.28328,     0.28428,     0.28529,     0.28629,     0.28729,\n",
      "           0.28829,     0.28929,     0.29029,     0.29129,     0.29229,     0.29329,     0.29429,      0.2953,      0.2963,      0.2973,      0.2983,      0.2993,      0.3003,      0.3013,      0.3023,      0.3033,      0.3043,     0.30531,     0.30631,     0.30731,     0.30831,     0.30931,     0.31031,     0.31131,\n",
      "           0.31231,     0.31331,     0.31431,     0.31532,     0.31632,     0.31732,     0.31832,     0.31932,     0.32032,     0.32132,     0.32232,     0.32332,     0.32432,     0.32533,     0.32633,     0.32733,     0.32833,     0.32933,     0.33033,     0.33133,     0.33233,     0.33333,     0.33433,     0.33534,\n",
      "           0.33634,     0.33734,     0.33834,     0.33934,     0.34034,     0.34134,     0.34234,     0.34334,     0.34434,     0.34535,     0.34635,     0.34735,     0.34835,     0.34935,     0.35035,     0.35135,     0.35235,     0.35335,     0.35435,     0.35536,     0.35636,     0.35736,     0.35836,     0.35936,\n",
      "           0.36036,     0.36136,     0.36236,     0.36336,     0.36436,     0.36537,     0.36637,     0.36737,     0.36837,     0.36937,     0.37037,     0.37137,     0.37237,     0.37337,     0.37437,     0.37538,     0.37638,     0.37738,     0.37838,     0.37938,     0.38038,     0.38138,     0.38238,     0.38338,\n",
      "           0.38438,     0.38539,     0.38639,     0.38739,     0.38839,     0.38939,     0.39039,     0.39139,     0.39239,     0.39339,     0.39439,      0.3954,      0.3964,      0.3974,      0.3984,      0.3994,      0.4004,      0.4014,      0.4024,      0.4034,      0.4044,     0.40541,     0.40641,     0.40741,\n",
      "           0.40841,     0.40941,     0.41041,     0.41141,     0.41241,     0.41341,     0.41441,     0.41542,     0.41642,     0.41742,     0.41842,     0.41942,     0.42042,     0.42142,     0.42242,     0.42342,     0.42442,     0.42543,     0.42643,     0.42743,     0.42843,     0.42943,     0.43043,     0.43143,\n",
      "           0.43243,     0.43343,     0.43443,     0.43544,     0.43644,     0.43744,     0.43844,     0.43944,     0.44044,     0.44144,     0.44244,     0.44344,     0.44444,     0.44545,     0.44645,     0.44745,     0.44845,     0.44945,     0.45045,     0.45145,     0.45245,     0.45345,     0.45445,     0.45546,\n",
      "           0.45646,     0.45746,     0.45846,     0.45946,     0.46046,     0.46146,     0.46246,     0.46346,     0.46446,     0.46547,     0.46647,     0.46747,     0.46847,     0.46947,     0.47047,     0.47147,     0.47247,     0.47347,     0.47447,     0.47548,     0.47648,     0.47748,     0.47848,     0.47948,\n",
      "           0.48048,     0.48148,     0.48248,     0.48348,     0.48448,     0.48549,     0.48649,     0.48749,     0.48849,     0.48949,     0.49049,     0.49149,     0.49249,     0.49349,     0.49449,      0.4955,      0.4965,      0.4975,      0.4985,      0.4995,      0.5005,      0.5015,      0.5025,      0.5035,\n",
      "            0.5045,     0.50551,     0.50651,     0.50751,     0.50851,     0.50951,     0.51051,     0.51151,     0.51251,     0.51351,     0.51451,     0.51552,     0.51652,     0.51752,     0.51852,     0.51952,     0.52052,     0.52152,     0.52252,     0.52352,     0.52452,     0.52553,     0.52653,     0.52753,\n",
      "           0.52853,     0.52953,     0.53053,     0.53153,     0.53253,     0.53353,     0.53453,     0.53554,     0.53654,     0.53754,     0.53854,     0.53954,     0.54054,     0.54154,     0.54254,     0.54354,     0.54454,     0.54555,     0.54655,     0.54755,     0.54855,     0.54955,     0.55055,     0.55155,\n",
      "           0.55255,     0.55355,     0.55455,     0.55556,     0.55656,     0.55756,     0.55856,     0.55956,     0.56056,     0.56156,     0.56256,     0.56356,     0.56456,     0.56557,     0.56657,     0.56757,     0.56857,     0.56957,     0.57057,     0.57157,     0.57257,     0.57357,     0.57457,     0.57558,\n",
      "           0.57658,     0.57758,     0.57858,     0.57958,     0.58058,     0.58158,     0.58258,     0.58358,     0.58458,     0.58559,     0.58659,     0.58759,     0.58859,     0.58959,     0.59059,     0.59159,     0.59259,     0.59359,     0.59459,      0.5956,      0.5966,      0.5976,      0.5986,      0.5996,\n",
      "            0.6006,      0.6016,      0.6026,      0.6036,      0.6046,     0.60561,     0.60661,     0.60761,     0.60861,     0.60961,     0.61061,     0.61161,     0.61261,     0.61361,     0.61461,     0.61562,     0.61662,     0.61762,     0.61862,     0.61962,     0.62062,     0.62162,     0.62262,     0.62362,\n",
      "           0.62462,     0.62563,     0.62663,     0.62763,     0.62863,     0.62963,     0.63063,     0.63163,     0.63263,     0.63363,     0.63463,     0.63564,     0.63664,     0.63764,     0.63864,     0.63964,     0.64064,     0.64164,     0.64264,     0.64364,     0.64464,     0.64565,     0.64665,     0.64765,\n",
      "           0.64865,     0.64965,     0.65065,     0.65165,     0.65265,     0.65365,     0.65465,     0.65566,     0.65666,     0.65766,     0.65866,     0.65966,     0.66066,     0.66166,     0.66266,     0.66366,     0.66466,     0.66567,     0.66667,     0.66767,     0.66867,     0.66967,     0.67067,     0.67167,\n",
      "           0.67267,     0.67367,     0.67467,     0.67568,     0.67668,     0.67768,     0.67868,     0.67968,     0.68068,     0.68168,     0.68268,     0.68368,     0.68468,     0.68569,     0.68669,     0.68769,     0.68869,     0.68969,     0.69069,     0.69169,     0.69269,     0.69369,     0.69469,      0.6957,\n",
      "            0.6967,      0.6977,      0.6987,      0.6997,      0.7007,      0.7017,      0.7027,      0.7037,      0.7047,     0.70571,     0.70671,     0.70771,     0.70871,     0.70971,     0.71071,     0.71171,     0.71271,     0.71371,     0.71471,     0.71572,     0.71672,     0.71772,     0.71872,     0.71972,\n",
      "           0.72072,     0.72172,     0.72272,     0.72372,     0.72472,     0.72573,     0.72673,     0.72773,     0.72873,     0.72973,     0.73073,     0.73173,     0.73273,     0.73373,     0.73473,     0.73574,     0.73674,     0.73774,     0.73874,     0.73974,     0.74074,     0.74174,     0.74274,     0.74374,\n",
      "           0.74474,     0.74575,     0.74675,     0.74775,     0.74875,     0.74975,     0.75075,     0.75175,     0.75275,     0.75375,     0.75475,     0.75576,     0.75676,     0.75776,     0.75876,     0.75976,     0.76076,     0.76176,     0.76276,     0.76376,     0.76476,     0.76577,     0.76677,     0.76777,\n",
      "           0.76877,     0.76977,     0.77077,     0.77177,     0.77277,     0.77377,     0.77477,     0.77578,     0.77678,     0.77778,     0.77878,     0.77978,     0.78078,     0.78178,     0.78278,     0.78378,     0.78478,     0.78579,     0.78679,     0.78779,     0.78879,     0.78979,     0.79079,     0.79179,\n",
      "           0.79279,     0.79379,     0.79479,      0.7958,      0.7968,      0.7978,      0.7988,      0.7998,      0.8008,      0.8018,      0.8028,      0.8038,      0.8048,     0.80581,     0.80681,     0.80781,     0.80881,     0.80981,     0.81081,     0.81181,     0.81281,     0.81381,     0.81481,     0.81582,\n",
      "           0.81682,     0.81782,     0.81882,     0.81982,     0.82082,     0.82182,     0.82282,     0.82382,     0.82482,     0.82583,     0.82683,     0.82783,     0.82883,     0.82983,     0.83083,     0.83183,     0.83283,     0.83383,     0.83483,     0.83584,     0.83684,     0.83784,     0.83884,     0.83984,\n",
      "           0.84084,     0.84184,     0.84284,     0.84384,     0.84484,     0.84585,     0.84685,     0.84785,     0.84885,     0.84985,     0.85085,     0.85185,     0.85285,     0.85385,     0.85485,     0.85586,     0.85686,     0.85786,     0.85886,     0.85986,     0.86086,     0.86186,     0.86286,     0.86386,\n",
      "           0.86486,     0.86587,     0.86687,     0.86787,     0.86887,     0.86987,     0.87087,     0.87187,     0.87287,     0.87387,     0.87487,     0.87588,     0.87688,     0.87788,     0.87888,     0.87988,     0.88088,     0.88188,     0.88288,     0.88388,     0.88488,     0.88589,     0.88689,     0.88789,\n",
      "           0.88889,     0.88989,     0.89089,     0.89189,     0.89289,     0.89389,     0.89489,      0.8959,      0.8969,      0.8979,      0.8989,      0.8999,      0.9009,      0.9019,      0.9029,      0.9039,      0.9049,     0.90591,     0.90691,     0.90791,     0.90891,     0.90991,     0.91091,     0.91191,\n",
      "           0.91291,     0.91391,     0.91491,     0.91592,     0.91692,     0.91792,     0.91892,     0.91992,     0.92092,     0.92192,     0.92292,     0.92392,     0.92492,     0.92593,     0.92693,     0.92793,     0.92893,     0.92993,     0.93093,     0.93193,     0.93293,     0.93393,     0.93493,     0.93594,\n",
      "           0.93694,     0.93794,     0.93894,     0.93994,     0.94094,     0.94194,     0.94294,     0.94394,     0.94494,     0.94595,     0.94695,     0.94795,     0.94895,     0.94995,     0.95095,     0.95195,     0.95295,     0.95395,     0.95495,     0.95596,     0.95696,     0.95796,     0.95896,     0.95996,\n",
      "           0.96096,     0.96196,     0.96296,     0.96396,     0.96496,     0.96597,     0.96697,     0.96797,     0.96897,     0.96997,     0.97097,     0.97197,     0.97297,     0.97397,     0.97497,     0.97598,     0.97698,     0.97798,     0.97898,     0.97998,     0.98098,     0.98198,     0.98298,     0.98398,\n",
      "           0.98498,     0.98599,     0.98699,     0.98799,     0.98899,     0.98999,     0.99099,     0.99199,     0.99299,     0.99399,     0.99499,       0.996,       0.997,       0.998,       0.999,           1]), array([[    0.13977,     0.13982,     0.20285,     0.23853,      0.2655,     0.28762,     0.30208,      0.3198,     0.33387,     0.34557,     0.35308,       0.362,      0.3739,     0.38151,     0.38851,     0.39585,     0.39784,      0.4028,      0.4057,     0.41117,      0.4209,     0.42497,     0.43023,\n",
      "            0.43627,     0.43871,     0.44094,     0.44538,     0.44757,     0.44821,      0.4539,     0.45582,     0.46029,      0.4631,     0.46774,     0.46903,     0.47151,     0.47282,     0.47162,     0.47384,     0.47749,     0.48248,     0.48353,     0.48514,     0.48705,     0.49032,     0.49573,\n",
      "            0.49514,      0.4961,     0.49787,     0.49855,     0.49967,     0.50238,     0.50421,     0.50547,     0.50565,     0.51022,     0.51266,     0.51515,     0.51613,     0.51708,     0.51688,     0.51789,     0.51758,     0.51725,     0.51979,     0.52037,     0.52186,     0.52251,     0.52012,\n",
      "            0.52063,     0.52134,     0.51931,     0.52061,     0.52159,     0.52251,     0.52328,     0.52414,     0.52479,     0.52647,     0.52847,     0.53031,     0.53124,     0.53418,     0.53691,      0.5402,     0.54193,     0.54234,     0.54274,     0.54131,     0.54065,     0.54218,     0.54252,\n",
      "            0.54285,     0.54319,     0.54545,      0.5468,     0.54913,     0.55029,     0.55079,     0.55132,     0.55189,     0.55291,     0.55221,      0.5515,      0.5508,     0.55066,     0.55021,     0.55175,     0.54918,     0.54978,      0.5507,     0.55165,     0.55472,     0.55533,     0.55606,\n",
      "            0.55712,     0.55798,     0.56075,     0.56152,     0.56416,     0.56604,     0.56709,     0.56784,     0.56819,     0.56855,      0.5689,      0.5695,     0.57015,     0.57217,     0.57439,     0.57519,     0.57567,     0.57614,      0.5766,     0.57703,     0.57746,     0.57893,      0.5774,\n",
      "            0.57584,     0.57677,     0.57778,     0.57963,        0.58,     0.58036,     0.58072,     0.57786,      0.5781,     0.57835,     0.57859,     0.57884,     0.57921,     0.58111,     0.57867,     0.57941,     0.58091,      0.5799,     0.58194,     0.58316,     0.58463,      0.5851,     0.58556,\n",
      "            0.58682,     0.58815,     0.58748,     0.58601,     0.58805,     0.58864,     0.58924,     0.58779,     0.58608,     0.58748,     0.58827,     0.58613,     0.58425,     0.58507,     0.58551,     0.58594,     0.58633,     0.58655,     0.58676,     0.58698,      0.5872,     0.58741,     0.58763,\n",
      "            0.58812,     0.58868,     0.58941,      0.5906,     0.59193,     0.59229,     0.59264,     0.59299,     0.59337,     0.59391,     0.59445,     0.59487,     0.59517,     0.59548,     0.59578,     0.59608,     0.59637,     0.59666,     0.59695,     0.59723,     0.59752,     0.59843,      0.5992,\n",
      "            0.59957,     0.59994,     0.60031,     0.59893,     0.59863,     0.59916,     0.59968,     0.60022,     0.60078,     0.60134,     0.60065,     0.59959,     0.59852,     0.59859,     0.59954,     0.59988,     0.60022,     0.60055,     0.60089,     0.60262,     0.60358,     0.60426,     0.60476,\n",
      "            0.60525,     0.60589,     0.60662,     0.60827,     0.60771,     0.60714,     0.60657,     0.60601,     0.60544,     0.60487,     0.60427,     0.60368,     0.60309,     0.60249,      0.6019,     0.60105,      0.5997,     0.59835,     0.59831,     0.59875,     0.59919,     0.59896,     0.59711,\n",
      "            0.59627,     0.59708,     0.59784,     0.59857,     0.59836,     0.59687,     0.59535,     0.59323,     0.59286,     0.59423,      0.5945,     0.59352,     0.59253,     0.59155,     0.59168,     0.59226,     0.59284,     0.59332,     0.59381,     0.59429,     0.59017,     0.58908,       0.588,\n",
      "            0.58703,     0.58717,     0.58731,     0.58745,     0.58759,     0.58773,     0.58787,     0.58802,     0.58816,      0.5883,     0.58844,     0.58862,     0.58892,     0.58922,     0.58952,     0.58982,     0.59025,     0.59156,     0.59181,       0.592,     0.59219,     0.59238,     0.59257,\n",
      "            0.59276,     0.59295,     0.59314,     0.59409,     0.59518,     0.59623,     0.59693,      0.5976,     0.59973,     0.60071,     0.60259,     0.59882,     0.59859,     0.59837,     0.59814,     0.59791,     0.59769,     0.59746,     0.59723,     0.59701,     0.59678,     0.59655,     0.59633,\n",
      "             0.5961,     0.59587,     0.59564,     0.59542,     0.59519,     0.59688,     0.59778,     0.59844,      0.5986,     0.59876,     0.59893,     0.59909,     0.59925,     0.59942,     0.59958,     0.59974,     0.59991,      0.5977,     0.59544,     0.59439,     0.59334,     0.59243,      0.5929,\n",
      "            0.59336,     0.59383,     0.59426,     0.59467,     0.59508,     0.59548,     0.59209,     0.59266,     0.59322,     0.58998,     0.59078,     0.58907,     0.58907,     0.59016,     0.59019,     0.58969,     0.58919,     0.58868,     0.58818,     0.58767,     0.58717,     0.58666,     0.58616,\n",
      "            0.58565,     0.58514,     0.58463,     0.58412,     0.58361,     0.58311,     0.58266,     0.58298,      0.5833,     0.58363,     0.58395,     0.58427,     0.58389,     0.58351,     0.58313,     0.58275,     0.58237,     0.58199,     0.58161,     0.58123,     0.58085,     0.58047,     0.57945,\n",
      "            0.57777,     0.57643,     0.57766,     0.57317,     0.57063,     0.56574,     0.56738,     0.56759,      0.5678,     0.56801,     0.56822,     0.56843,     0.56863,     0.56884,     0.56906,     0.56928,      0.5695,     0.56972,     0.56994,     0.57016,     0.57038,      0.5706,      0.5712,\n",
      "             0.5718,     0.57238,     0.57287,     0.57336,     0.57386,     0.57456,     0.57528,     0.57321,     0.57021,     0.56801,     0.56752,     0.56793,     0.56833,     0.56874,     0.57094,     0.57176,     0.57235,     0.57256,     0.57277,     0.57298,     0.57319,      0.5734,     0.57361,\n",
      "            0.57381,     0.57241,     0.56987,     0.57013,      0.5704,     0.57066,     0.57093,     0.57119,     0.57121,     0.56861,     0.56734,     0.56774,     0.56814,     0.56854,     0.56936,     0.56922,     0.56663,      0.5665,     0.56678,     0.56706,     0.56734,     0.56762,      0.5679,\n",
      "            0.56811,      0.5683,     0.56849,     0.56867,     0.56886,     0.56905,     0.56924,     0.56942,     0.56961,      0.5712,     0.57156,      0.5717,     0.57183,     0.57197,     0.57211,     0.57225,     0.57239,     0.57253,     0.57267,     0.57281,     0.57294,     0.57308,     0.57368,\n",
      "            0.57509,      0.5765,     0.57573,     0.57462,     0.57351,      0.5724,     0.57259,     0.57289,     0.57319,     0.57349,     0.57379,     0.57258,     0.57001,     0.57041,     0.57081,     0.57121,     0.57148,      0.5716,     0.57172,     0.57183,     0.57195,     0.57207,     0.57218,\n",
      "             0.5723,     0.57241,     0.57253,     0.57265,     0.57276,     0.57288,     0.57299,     0.57311,     0.57297,     0.57138,     0.56978,     0.56897,     0.56958,     0.57019,     0.57215,     0.57287,     0.57029,     0.57148,     0.57213,     0.57277,     0.56852,     0.56714,     0.56576,\n",
      "            0.56439,     0.56358,     0.56293,     0.56228,     0.56163,     0.56097,     0.56032,     0.55967,     0.55962,     0.55981,        0.56,     0.56019,     0.56038,     0.56057,     0.56075,     0.56094,     0.56113,     0.56023,     0.55718,     0.55821,       0.554,     0.55448,     0.55496,\n",
      "            0.55545,     0.55337,     0.55101,     0.55248,     0.55139,      0.5503,     0.54921,     0.54811,     0.54747,     0.54697,     0.54646,     0.54596,     0.54546,     0.54495,     0.54445,     0.54394,     0.54344,      0.5431,     0.54332,     0.54354,     0.54376,     0.54399,     0.54421,\n",
      "            0.54443,     0.54465,      0.5449,     0.54541,     0.54592,     0.54643,     0.54383,     0.54234,     0.54319,     0.54181,     0.53803,     0.53399,     0.53039,     0.52953,     0.52867,     0.52782,     0.52696,      0.5261,     0.52572,     0.52602,     0.52631,     0.52661,      0.5269,\n",
      "             0.5272,     0.52719,     0.52656,     0.52592,     0.52528,     0.52465,     0.52401,     0.52337,     0.52273,     0.52204,     0.52126,     0.52049,     0.51971,     0.51893,     0.51815,     0.51738,     0.51418,     0.51122,     0.50922,      0.5072,     0.50745,     0.50803,     0.50861,\n",
      "            0.50592,     0.50299,     0.50123,     0.49948,     0.49856,      0.4996,      0.5005,     0.50133,     0.50232,     0.50351,     0.49662,      0.4949,     0.49317,     0.49101,     0.48873,     0.48761,     0.48797,     0.48833,     0.48869,     0.48904,     0.48883,     0.48811,     0.48739,\n",
      "            0.48668,     0.48596,     0.48524,     0.48452,      0.4838,     0.48301,     0.48221,     0.48141,     0.48061,     0.47981,       0.479,     0.47828,     0.47855,     0.47881,     0.47908,     0.47934,     0.47961,     0.47987,     0.48035,     0.48104,     0.48172,     0.47683,     0.47646,\n",
      "            0.47677,     0.47708,     0.47738,     0.47769,     0.47217,     0.47113,      0.4701,     0.46906,     0.46801,     0.46697,     0.46591,     0.46483,     0.46375,     0.46268,      0.4616,     0.46109,     0.46139,     0.46169,     0.46199,     0.46229,     0.46258,      0.4628,     0.46298,\n",
      "            0.46316,     0.46333,     0.46351,     0.46368,     0.46386,     0.46403,     0.46421,     0.46438,     0.46493,     0.46559,     0.46478,     0.45758,     0.45419,     0.45294,     0.45168,     0.45043,     0.44917,      0.4495,     0.44861,     0.43261,     0.43275,     0.43306,     0.43337,\n",
      "            0.43368,     0.43399,     0.43147,     0.42743,     0.42427,     0.42094,     0.41706,     0.40296,     0.40118,     0.39939,      0.3976,     0.39623,     0.39517,     0.39412,     0.39307,     0.39201,     0.39095,     0.39202,     0.39224,     0.39246,     0.39268,     0.39289,     0.39311,\n",
      "            0.39333,     0.39354,     0.39379,     0.39405,      0.3943,     0.39456,     0.39481,     0.39506,     0.39259,     0.38481,     0.37542,     0.37399,     0.37257,     0.37115,     0.36972,     0.36796,     0.36568,      0.3634,      0.3617,     0.36072,     0.35974,     0.35876,     0.35778,\n",
      "             0.3568,     0.35582,     0.35592,     0.35645,     0.35072,     0.34202,      0.3402,     0.33838,     0.33655,     0.33434,       0.332,     0.32966,     0.32637,     0.32277,     0.31694,      0.3156,     0.31256,      0.3095,     0.30474,     0.30195,     0.30248,       0.303,     0.30407,\n",
      "            0.30259,      0.3002,      0.2978,     0.28901,     0.28672,     0.28443,     0.28214,     0.28058,     0.27909,      0.2776,      0.2761,      0.2746,     0.27452,     0.27475,     0.27497,     0.27519,     0.27541,     0.27381,     0.26866,     0.25751,     0.25432,     0.25196,     0.25114,\n",
      "            0.25032,      0.2495,     0.24868,     0.24786,     0.24703,     0.24621,     0.24538,     0.24456,     0.24329,     0.24186,     0.24043,       0.239,     0.23757,     0.23586,     0.23262,     0.22938,     0.22529,     0.22077,     0.21102,     0.20686,     0.20273,     0.19873,     0.19615,\n",
      "             0.1952,     0.19426,     0.19332,     0.19237,     0.19143,     0.19048,     0.18953,     0.18858,     0.18723,     0.18386,     0.18049,     0.17798,     0.17599,     0.17399,     0.17199,      0.1669,     0.14288,     0.13702,     0.12562,      0.1245,     0.12337,     0.12225,     0.12112,\n",
      "            0.11999,     0.11886,     0.11773,      0.1112,     0.10569,     0.10286,     0.10002,    0.095496,     0.08911,    0.089439,    0.088542,    0.086932,    0.085319,    0.083705,    0.082088,    0.080469,    0.080046,    0.080108,    0.080169,    0.080228,    0.080285,    0.080341,    0.080395,\n",
      "           0.070294,    0.069465,    0.068636,    0.067806,    0.066975,    0.066143,    0.065311,    0.064479,    0.063646,    0.062812,    0.061977,    0.061142,    0.054539,    0.049146,    0.046019,    0.042884,    0.040826,    0.040337,    0.039848,    0.039358,    0.038869,    0.038379,    0.037889,\n",
      "           0.037399,    0.036909,    0.036419,    0.035928,    0.035437,    0.034946,    0.034455,    0.033964,    0.033472,     0.03298,    0.032488,    0.031996,    0.031504,    0.031011,    0.026654,    0.021493,    0.020759,     0.02079,    0.020815,    0.020659,    0.019468,    0.018276,    0.017082,\n",
      "           0.015887,    0.014691,    0.013493,    0.012293,    0.011092,           0,           0,           0,           0,           0,           0,           0,           0,           0,           0,           0,           0,           0,           0,           0,           0,           0,           0,\n",
      "                  0,           0,           0,           0,           0,           0,           0,           0,           0,           0,           0,           0,           0,           0,           0,           0,           0,           0,           0,           0,           0,           0,           0,\n",
      "                  0,           0,           0,           0,           0,           0,           0,           0,           0,           0,           0,           0,           0,           0,           0,           0,           0,           0,           0,           0,           0,           0,           0,\n",
      "                  0,           0,           0,           0,           0,           0,           0,           0,           0,           0,           0]]), 'Confidence', 'F1'], [array([          0,    0.001001,    0.002002,    0.003003,    0.004004,    0.005005,    0.006006,    0.007007,    0.008008,    0.009009,     0.01001,    0.011011,    0.012012,    0.013013,    0.014014,    0.015015,    0.016016,    0.017017,    0.018018,    0.019019,     0.02002,    0.021021,    0.022022,    0.023023,\n",
      "          0.024024,    0.025025,    0.026026,    0.027027,    0.028028,    0.029029,     0.03003,    0.031031,    0.032032,    0.033033,    0.034034,    0.035035,    0.036036,    0.037037,    0.038038,    0.039039,     0.04004,    0.041041,    0.042042,    0.043043,    0.044044,    0.045045,    0.046046,    0.047047,\n",
      "          0.048048,    0.049049,     0.05005,    0.051051,    0.052052,    0.053053,    0.054054,    0.055055,    0.056056,    0.057057,    0.058058,    0.059059,     0.06006,    0.061061,    0.062062,    0.063063,    0.064064,    0.065065,    0.066066,    0.067067,    0.068068,    0.069069,     0.07007,    0.071071,\n",
      "          0.072072,    0.073073,    0.074074,    0.075075,    0.076076,    0.077077,    0.078078,    0.079079,     0.08008,    0.081081,    0.082082,    0.083083,    0.084084,    0.085085,    0.086086,    0.087087,    0.088088,    0.089089,     0.09009,    0.091091,    0.092092,    0.093093,    0.094094,    0.095095,\n",
      "          0.096096,    0.097097,    0.098098,    0.099099,      0.1001,      0.1011,      0.1021,      0.1031,      0.1041,     0.10511,     0.10611,     0.10711,     0.10811,     0.10911,     0.11011,     0.11111,     0.11211,     0.11311,     0.11411,     0.11512,     0.11612,     0.11712,     0.11812,     0.11912,\n",
      "           0.12012,     0.12112,     0.12212,     0.12312,     0.12412,     0.12513,     0.12613,     0.12713,     0.12813,     0.12913,     0.13013,     0.13113,     0.13213,     0.13313,     0.13413,     0.13514,     0.13614,     0.13714,     0.13814,     0.13914,     0.14014,     0.14114,     0.14214,     0.14314,\n",
      "           0.14414,     0.14515,     0.14615,     0.14715,     0.14815,     0.14915,     0.15015,     0.15115,     0.15215,     0.15315,     0.15415,     0.15516,     0.15616,     0.15716,     0.15816,     0.15916,     0.16016,     0.16116,     0.16216,     0.16316,     0.16416,     0.16517,     0.16617,     0.16717,\n",
      "           0.16817,     0.16917,     0.17017,     0.17117,     0.17217,     0.17317,     0.17417,     0.17518,     0.17618,     0.17718,     0.17818,     0.17918,     0.18018,     0.18118,     0.18218,     0.18318,     0.18418,     0.18519,     0.18619,     0.18719,     0.18819,     0.18919,     0.19019,     0.19119,\n",
      "           0.19219,     0.19319,     0.19419,      0.1952,      0.1962,      0.1972,      0.1982,      0.1992,      0.2002,      0.2012,      0.2022,      0.2032,      0.2042,     0.20521,     0.20621,     0.20721,     0.20821,     0.20921,     0.21021,     0.21121,     0.21221,     0.21321,     0.21421,     0.21522,\n",
      "           0.21622,     0.21722,     0.21822,     0.21922,     0.22022,     0.22122,     0.22222,     0.22322,     0.22422,     0.22523,     0.22623,     0.22723,     0.22823,     0.22923,     0.23023,     0.23123,     0.23223,     0.23323,     0.23423,     0.23524,     0.23624,     0.23724,     0.23824,     0.23924,\n",
      "           0.24024,     0.24124,     0.24224,     0.24324,     0.24424,     0.24525,     0.24625,     0.24725,     0.24825,     0.24925,     0.25025,     0.25125,     0.25225,     0.25325,     0.25425,     0.25526,     0.25626,     0.25726,     0.25826,     0.25926,     0.26026,     0.26126,     0.26226,     0.26326,\n",
      "           0.26426,     0.26527,     0.26627,     0.26727,     0.26827,     0.26927,     0.27027,     0.27127,     0.27227,     0.27327,     0.27427,     0.27528,     0.27628,     0.27728,     0.27828,     0.27928,     0.28028,     0.28128,     0.28228,     0.28328,     0.28428,     0.28529,     0.28629,     0.28729,\n",
      "           0.28829,     0.28929,     0.29029,     0.29129,     0.29229,     0.29329,     0.29429,      0.2953,      0.2963,      0.2973,      0.2983,      0.2993,      0.3003,      0.3013,      0.3023,      0.3033,      0.3043,     0.30531,     0.30631,     0.30731,     0.30831,     0.30931,     0.31031,     0.31131,\n",
      "           0.31231,     0.31331,     0.31431,     0.31532,     0.31632,     0.31732,     0.31832,     0.31932,     0.32032,     0.32132,     0.32232,     0.32332,     0.32432,     0.32533,     0.32633,     0.32733,     0.32833,     0.32933,     0.33033,     0.33133,     0.33233,     0.33333,     0.33433,     0.33534,\n",
      "           0.33634,     0.33734,     0.33834,     0.33934,     0.34034,     0.34134,     0.34234,     0.34334,     0.34434,     0.34535,     0.34635,     0.34735,     0.34835,     0.34935,     0.35035,     0.35135,     0.35235,     0.35335,     0.35435,     0.35536,     0.35636,     0.35736,     0.35836,     0.35936,\n",
      "           0.36036,     0.36136,     0.36236,     0.36336,     0.36436,     0.36537,     0.36637,     0.36737,     0.36837,     0.36937,     0.37037,     0.37137,     0.37237,     0.37337,     0.37437,     0.37538,     0.37638,     0.37738,     0.37838,     0.37938,     0.38038,     0.38138,     0.38238,     0.38338,\n",
      "           0.38438,     0.38539,     0.38639,     0.38739,     0.38839,     0.38939,     0.39039,     0.39139,     0.39239,     0.39339,     0.39439,      0.3954,      0.3964,      0.3974,      0.3984,      0.3994,      0.4004,      0.4014,      0.4024,      0.4034,      0.4044,     0.40541,     0.40641,     0.40741,\n",
      "           0.40841,     0.40941,     0.41041,     0.41141,     0.41241,     0.41341,     0.41441,     0.41542,     0.41642,     0.41742,     0.41842,     0.41942,     0.42042,     0.42142,     0.42242,     0.42342,     0.42442,     0.42543,     0.42643,     0.42743,     0.42843,     0.42943,     0.43043,     0.43143,\n",
      "           0.43243,     0.43343,     0.43443,     0.43544,     0.43644,     0.43744,     0.43844,     0.43944,     0.44044,     0.44144,     0.44244,     0.44344,     0.44444,     0.44545,     0.44645,     0.44745,     0.44845,     0.44945,     0.45045,     0.45145,     0.45245,     0.45345,     0.45445,     0.45546,\n",
      "           0.45646,     0.45746,     0.45846,     0.45946,     0.46046,     0.46146,     0.46246,     0.46346,     0.46446,     0.46547,     0.46647,     0.46747,     0.46847,     0.46947,     0.47047,     0.47147,     0.47247,     0.47347,     0.47447,     0.47548,     0.47648,     0.47748,     0.47848,     0.47948,\n",
      "           0.48048,     0.48148,     0.48248,     0.48348,     0.48448,     0.48549,     0.48649,     0.48749,     0.48849,     0.48949,     0.49049,     0.49149,     0.49249,     0.49349,     0.49449,      0.4955,      0.4965,      0.4975,      0.4985,      0.4995,      0.5005,      0.5015,      0.5025,      0.5035,\n",
      "            0.5045,     0.50551,     0.50651,     0.50751,     0.50851,     0.50951,     0.51051,     0.51151,     0.51251,     0.51351,     0.51451,     0.51552,     0.51652,     0.51752,     0.51852,     0.51952,     0.52052,     0.52152,     0.52252,     0.52352,     0.52452,     0.52553,     0.52653,     0.52753,\n",
      "           0.52853,     0.52953,     0.53053,     0.53153,     0.53253,     0.53353,     0.53453,     0.53554,     0.53654,     0.53754,     0.53854,     0.53954,     0.54054,     0.54154,     0.54254,     0.54354,     0.54454,     0.54555,     0.54655,     0.54755,     0.54855,     0.54955,     0.55055,     0.55155,\n",
      "           0.55255,     0.55355,     0.55455,     0.55556,     0.55656,     0.55756,     0.55856,     0.55956,     0.56056,     0.56156,     0.56256,     0.56356,     0.56456,     0.56557,     0.56657,     0.56757,     0.56857,     0.56957,     0.57057,     0.57157,     0.57257,     0.57357,     0.57457,     0.57558,\n",
      "           0.57658,     0.57758,     0.57858,     0.57958,     0.58058,     0.58158,     0.58258,     0.58358,     0.58458,     0.58559,     0.58659,     0.58759,     0.58859,     0.58959,     0.59059,     0.59159,     0.59259,     0.59359,     0.59459,      0.5956,      0.5966,      0.5976,      0.5986,      0.5996,\n",
      "            0.6006,      0.6016,      0.6026,      0.6036,      0.6046,     0.60561,     0.60661,     0.60761,     0.60861,     0.60961,     0.61061,     0.61161,     0.61261,     0.61361,     0.61461,     0.61562,     0.61662,     0.61762,     0.61862,     0.61962,     0.62062,     0.62162,     0.62262,     0.62362,\n",
      "           0.62462,     0.62563,     0.62663,     0.62763,     0.62863,     0.62963,     0.63063,     0.63163,     0.63263,     0.63363,     0.63463,     0.63564,     0.63664,     0.63764,     0.63864,     0.63964,     0.64064,     0.64164,     0.64264,     0.64364,     0.64464,     0.64565,     0.64665,     0.64765,\n",
      "           0.64865,     0.64965,     0.65065,     0.65165,     0.65265,     0.65365,     0.65465,     0.65566,     0.65666,     0.65766,     0.65866,     0.65966,     0.66066,     0.66166,     0.66266,     0.66366,     0.66466,     0.66567,     0.66667,     0.66767,     0.66867,     0.66967,     0.67067,     0.67167,\n",
      "           0.67267,     0.67367,     0.67467,     0.67568,     0.67668,     0.67768,     0.67868,     0.67968,     0.68068,     0.68168,     0.68268,     0.68368,     0.68468,     0.68569,     0.68669,     0.68769,     0.68869,     0.68969,     0.69069,     0.69169,     0.69269,     0.69369,     0.69469,      0.6957,\n",
      "            0.6967,      0.6977,      0.6987,      0.6997,      0.7007,      0.7017,      0.7027,      0.7037,      0.7047,     0.70571,     0.70671,     0.70771,     0.70871,     0.70971,     0.71071,     0.71171,     0.71271,     0.71371,     0.71471,     0.71572,     0.71672,     0.71772,     0.71872,     0.71972,\n",
      "           0.72072,     0.72172,     0.72272,     0.72372,     0.72472,     0.72573,     0.72673,     0.72773,     0.72873,     0.72973,     0.73073,     0.73173,     0.73273,     0.73373,     0.73473,     0.73574,     0.73674,     0.73774,     0.73874,     0.73974,     0.74074,     0.74174,     0.74274,     0.74374,\n",
      "           0.74474,     0.74575,     0.74675,     0.74775,     0.74875,     0.74975,     0.75075,     0.75175,     0.75275,     0.75375,     0.75475,     0.75576,     0.75676,     0.75776,     0.75876,     0.75976,     0.76076,     0.76176,     0.76276,     0.76376,     0.76476,     0.76577,     0.76677,     0.76777,\n",
      "           0.76877,     0.76977,     0.77077,     0.77177,     0.77277,     0.77377,     0.77477,     0.77578,     0.77678,     0.77778,     0.77878,     0.77978,     0.78078,     0.78178,     0.78278,     0.78378,     0.78478,     0.78579,     0.78679,     0.78779,     0.78879,     0.78979,     0.79079,     0.79179,\n",
      "           0.79279,     0.79379,     0.79479,      0.7958,      0.7968,      0.7978,      0.7988,      0.7998,      0.8008,      0.8018,      0.8028,      0.8038,      0.8048,     0.80581,     0.80681,     0.80781,     0.80881,     0.80981,     0.81081,     0.81181,     0.81281,     0.81381,     0.81481,     0.81582,\n",
      "           0.81682,     0.81782,     0.81882,     0.81982,     0.82082,     0.82182,     0.82282,     0.82382,     0.82482,     0.82583,     0.82683,     0.82783,     0.82883,     0.82983,     0.83083,     0.83183,     0.83283,     0.83383,     0.83483,     0.83584,     0.83684,     0.83784,     0.83884,     0.83984,\n",
      "           0.84084,     0.84184,     0.84284,     0.84384,     0.84484,     0.84585,     0.84685,     0.84785,     0.84885,     0.84985,     0.85085,     0.85185,     0.85285,     0.85385,     0.85485,     0.85586,     0.85686,     0.85786,     0.85886,     0.85986,     0.86086,     0.86186,     0.86286,     0.86386,\n",
      "           0.86486,     0.86587,     0.86687,     0.86787,     0.86887,     0.86987,     0.87087,     0.87187,     0.87287,     0.87387,     0.87487,     0.87588,     0.87688,     0.87788,     0.87888,     0.87988,     0.88088,     0.88188,     0.88288,     0.88388,     0.88488,     0.88589,     0.88689,     0.88789,\n",
      "           0.88889,     0.88989,     0.89089,     0.89189,     0.89289,     0.89389,     0.89489,      0.8959,      0.8969,      0.8979,      0.8989,      0.8999,      0.9009,      0.9019,      0.9029,      0.9039,      0.9049,     0.90591,     0.90691,     0.90791,     0.90891,     0.90991,     0.91091,     0.91191,\n",
      "           0.91291,     0.91391,     0.91491,     0.91592,     0.91692,     0.91792,     0.91892,     0.91992,     0.92092,     0.92192,     0.92292,     0.92392,     0.92492,     0.92593,     0.92693,     0.92793,     0.92893,     0.92993,     0.93093,     0.93193,     0.93293,     0.93393,     0.93493,     0.93594,\n",
      "           0.93694,     0.93794,     0.93894,     0.93994,     0.94094,     0.94194,     0.94294,     0.94394,     0.94494,     0.94595,     0.94695,     0.94795,     0.94895,     0.94995,     0.95095,     0.95195,     0.95295,     0.95395,     0.95495,     0.95596,     0.95696,     0.95796,     0.95896,     0.95996,\n",
      "           0.96096,     0.96196,     0.96296,     0.96396,     0.96496,     0.96597,     0.96697,     0.96797,     0.96897,     0.96997,     0.97097,     0.97197,     0.97297,     0.97397,     0.97497,     0.97598,     0.97698,     0.97798,     0.97898,     0.97998,     0.98098,     0.98198,     0.98298,     0.98398,\n",
      "           0.98498,     0.98599,     0.98699,     0.98799,     0.98899,     0.98999,     0.99099,     0.99199,     0.99299,     0.99399,     0.99499,       0.996,       0.997,       0.998,       0.999,           1]), array([[    0.07552,    0.075545,     0.11398,     0.13761,     0.15654,     0.17277,      0.1838,     0.19738,     0.20886,     0.21847,     0.22489,     0.23304,       0.243,     0.25046,      0.2571,     0.26356,     0.26592,     0.27037,     0.27363,     0.27863,     0.28764,     0.29145,     0.29677,\n",
      "            0.30298,     0.30615,     0.30918,     0.31356,     0.31573,     0.31728,     0.32301,     0.32496,     0.32952,      0.3324,     0.33721,     0.33854,     0.34114,     0.34252,     0.34287,     0.34576,     0.34966,     0.35504,     0.35618,     0.35793,     0.36001,      0.3636,     0.36958,\n",
      "             0.3696,     0.37128,     0.37326,     0.37403,     0.37529,     0.37836,     0.38043,     0.38187,     0.38489,     0.39021,     0.39307,       0.396,     0.39717,     0.39829,     0.39952,     0.40081,     0.40106,     0.40164,     0.40471,     0.40542,     0.40723,     0.40802,     0.40676,\n",
      "             0.4074,     0.40826,     0.40747,     0.40906,     0.41028,     0.41142,     0.41238,     0.41344,     0.41426,     0.41636,     0.41885,     0.42117,     0.42235,     0.42608,     0.42956,     0.43378,     0.43602,     0.43655,     0.43707,      0.4363,     0.43633,     0.43833,     0.43877,\n",
      "             0.4392,     0.43964,     0.44262,      0.4444,     0.44748,     0.44903,     0.44969,      0.4504,     0.45116,     0.45279,     0.45236,     0.45192,     0.45148,     0.45165,     0.45194,     0.45532,     0.45406,     0.45487,     0.45613,     0.45744,     0.46167,     0.46252,     0.46353,\n",
      "            0.46501,     0.46621,     0.47009,     0.47117,      0.4749,     0.47757,     0.47908,     0.48014,     0.48065,     0.48115,     0.48166,     0.48252,     0.48345,     0.48636,     0.48958,     0.49074,     0.49144,     0.49213,      0.4928,     0.49343,     0.49406,     0.49621,      0.4953,\n",
      "            0.49435,     0.49573,     0.49722,     0.49997,     0.50053,     0.50107,      0.5016,     0.50012,     0.50049,     0.50085,     0.50122,     0.50159,     0.50215,      0.5055,     0.50402,     0.50533,     0.50761,     0.50904,     0.51219,     0.51409,     0.51638,      0.5171,     0.51782,\n",
      "            0.51979,     0.52189,     0.52183,     0.52094,     0.52492,     0.52588,     0.52684,     0.52605,     0.52505,     0.52731,     0.53051,     0.52922,     0.52809,     0.53019,      0.5309,     0.53161,     0.53226,     0.53262,     0.53297,     0.53333,     0.53369,     0.53405,     0.53441,\n",
      "            0.53521,     0.53614,     0.53735,     0.53934,     0.54157,     0.54216,     0.54275,     0.54334,     0.54397,     0.54488,     0.54579,      0.5465,     0.54702,     0.54753,     0.54804,     0.54855,     0.54904,     0.54953,     0.55002,     0.55051,     0.55099,     0.55255,     0.55386,\n",
      "            0.55449,     0.55512,     0.55575,     0.55514,     0.55672,     0.55763,     0.55854,     0.55947,     0.56044,     0.56142,     0.56117,     0.56054,     0.55992,      0.5606,     0.56227,     0.56286,     0.56346,     0.56405,     0.56465,     0.56771,     0.56941,     0.57063,     0.57151,\n",
      "             0.5724,     0.57354,     0.57486,     0.57808,     0.57775,     0.57743,      0.5771,     0.57677,     0.57644,     0.57611,     0.57577,     0.57542,     0.57508,     0.57474,     0.57439,      0.5739,     0.57311,     0.57232,     0.57271,     0.57351,     0.57431,     0.57457,     0.57349,\n",
      "            0.57339,     0.57489,     0.57631,     0.57765,     0.57807,      0.5772,     0.57632,     0.57507,     0.57619,     0.57877,     0.57978,     0.57921,     0.57863,     0.57806,     0.57868,     0.57981,     0.58092,     0.58185,     0.58278,     0.58371,     0.58134,      0.5807,     0.58006,\n",
      "            0.57951,     0.57979,     0.58006,     0.58034,     0.58062,     0.58089,     0.58117,     0.58144,     0.58172,       0.582,     0.58227,     0.58263,     0.58322,     0.58381,      0.5844,     0.58498,     0.58583,     0.58841,      0.5889,     0.58928,     0.58966,     0.59004,     0.59042,\n",
      "             0.5908,     0.59118,     0.59156,     0.59344,     0.59562,     0.59773,     0.59914,     0.60048,      0.6048,     0.60681,     0.61077,     0.60863,      0.6085,     0.60837,     0.60825,     0.60812,     0.60799,     0.60786,     0.60773,      0.6076,     0.60747,     0.60734,     0.60721,\n",
      "            0.60708,     0.60695,     0.60682,      0.6067,     0.60657,     0.61011,     0.61199,     0.61337,     0.61371,     0.61406,      0.6144,     0.61475,     0.61509,     0.61544,     0.61578,     0.61612,     0.61647,     0.61537,     0.61409,      0.6135,      0.6129,     0.61245,     0.61345,\n",
      "            0.61444,     0.61543,     0.61636,     0.61724,     0.61812,     0.61901,     0.61782,     0.61906,     0.62029,     0.61948,     0.62125,     0.62091,     0.62394,      0.6264,     0.62703,     0.62675,     0.62646,     0.62618,     0.62589,     0.62561,     0.62532,     0.62504,     0.62475,\n",
      "            0.62446,     0.62418,     0.62389,      0.6236,     0.62331,     0.62302,     0.62281,     0.62355,     0.62429,     0.62503,     0.62577,      0.6265,     0.62629,     0.62607,     0.62586,     0.62564,     0.62543,     0.62521,       0.625,     0.62478,     0.62457,     0.62435,     0.62377,\n",
      "            0.62281,     0.62233,     0.62563,     0.62306,      0.6216,     0.61876,     0.62276,     0.62326,     0.62377,     0.62427,     0.62477,     0.62528,     0.62578,     0.62628,      0.6268,     0.62734,     0.62788,     0.62841,     0.62895,     0.62949,     0.63003,     0.63057,     0.63203,\n",
      "            0.63351,     0.63492,     0.63614,     0.63735,     0.63857,     0.64031,     0.64211,     0.64153,     0.63983,     0.63859,     0.63884,     0.63987,      0.6409,     0.64194,     0.64757,     0.64968,     0.65121,     0.65175,      0.6523,     0.65284,     0.65338,     0.65393,     0.65447,\n",
      "            0.65502,     0.65454,     0.65342,     0.65412,     0.65481,     0.65551,      0.6562,      0.6569,     0.65741,     0.65597,     0.65565,     0.65672,     0.65779,     0.65886,     0.66107,     0.66359,     0.66217,     0.66263,     0.66339,     0.66416,     0.66492,     0.66568,     0.66645,\n",
      "            0.66704,     0.66756,     0.66807,     0.66859,     0.66911,     0.66963,     0.67015,     0.67067,     0.67118,     0.67561,     0.67662,     0.67701,      0.6774,     0.67779,     0.67818,     0.67857,     0.67896,     0.67935,     0.67974,     0.68013,     0.68052,     0.68091,     0.68261,\n",
      "             0.6866,     0.69064,     0.69067,     0.69009,     0.68952,     0.68894,      0.6897,     0.69057,     0.69145,     0.69233,     0.69321,     0.69325,     0.69277,     0.69395,     0.69514,     0.69633,     0.69713,     0.69748,     0.69782,     0.69817,     0.69852,     0.69887,     0.69921,\n",
      "            0.69956,     0.69991,     0.70026,      0.7006,     0.70095,      0.7013,     0.70165,     0.70199,     0.70217,     0.70135,     0.70053,     0.70066,     0.70252,     0.70438,     0.71038,      0.7159,     0.71641,     0.72017,     0.72223,     0.72429,     0.72349,     0.72281,     0.72213,\n",
      "            0.72145,     0.72105,     0.72073,      0.7204,     0.72008,     0.71975,     0.71942,      0.7191,     0.71946,     0.72009,     0.72071,     0.72134,     0.72196,     0.72259,     0.72321,     0.72384,     0.72446,     0.72447,     0.72454,     0.72803,     0.72736,     0.72903,      0.7307,\n",
      "            0.73238,     0.73168,      0.7311,     0.73677,     0.73624,      0.7357,     0.73517,     0.73464,     0.73432,     0.73408,     0.73383,     0.73358,     0.73333,     0.73308,     0.73283,     0.73258,     0.73234,     0.73233,     0.73314,     0.73395,     0.73476,     0.73557,     0.73638,\n",
      "            0.73719,       0.738,     0.73892,      0.7408,     0.74269,     0.74457,     0.74409,     0.74512,     0.74836,     0.74913,     0.74733,     0.74609,     0.74989,     0.74948,     0.74906,     0.74865,     0.74823,     0.74781,     0.74808,     0.74928,     0.75048,     0.75168,     0.75288,\n",
      "            0.75408,      0.7548,      0.7545,     0.75419,     0.75389,     0.75358,     0.75328,     0.75297,     0.75266,     0.75233,     0.75195,     0.75158,      0.7512,     0.75082,     0.75044,     0.75007,     0.74849,     0.74703,     0.74603,     0.74503,     0.74709,      0.7496,     0.75212,\n",
      "             0.7512,     0.74974,     0.74886,     0.74798,     0.74878,     0.75348,     0.75762,     0.76141,       0.766,     0.77155,     0.76847,     0.76764,     0.76682,     0.76577,     0.76466,     0.76482,     0.76659,     0.76836,     0.77013,      0.7719,     0.77254,      0.7722,     0.77186,\n",
      "            0.77151,     0.77117,     0.77083,     0.77048,     0.77014,     0.76975,     0.76936,     0.76897,     0.76858,     0.76819,      0.7678,     0.76755,     0.76892,      0.7703,     0.77167,     0.77305,     0.77442,      0.7758,     0.77832,     0.78194,     0.78555,     0.78343,      0.7846,\n",
      "            0.78627,     0.78795,     0.78962,     0.79129,     0.79005,     0.78957,     0.78909,     0.78861,     0.78812,     0.78764,     0.78714,     0.78663,     0.78612,     0.78562,     0.78511,     0.78554,     0.78728,     0.78903,     0.79077,     0.79252,     0.79426,     0.79555,      0.7966,\n",
      "            0.79765,     0.79869,     0.79974,     0.80078,     0.80183,     0.80287,     0.80392,     0.80497,     0.80829,     0.81225,      0.8152,     0.81212,     0.81065,      0.8101,     0.80955,     0.80899,     0.80844,     0.81365,     0.81869,     0.81167,     0.81381,     0.81603,     0.81825,\n",
      "            0.82047,     0.82269,     0.82239,     0.82064,     0.81924,     0.81776,     0.81601,     0.80943,     0.80856,     0.80769,     0.80683,     0.80615,     0.80563,     0.80511,     0.80458,     0.80406,     0.80353,      0.8168,     0.81872,     0.82064,     0.82256,     0.82448,      0.8264,\n",
      "            0.82832,     0.83023,     0.83247,     0.83476,     0.83704,     0.83933,     0.84162,     0.84391,     0.84375,     0.84044,     0.83632,     0.83567,     0.83502,     0.83438,     0.83373,     0.83291,     0.83185,     0.83078,     0.82998,      0.8295,     0.82903,     0.82856,     0.82808,\n",
      "            0.82761,     0.82714,     0.83294,     0.84295,     0.84033,     0.83621,     0.83532,     0.83443,     0.83354,     0.83242,     0.83124,     0.83006,     0.82835,     0.82647,     0.82333,     0.84058,     0.83902,     0.83746,     0.83493,     0.83672,     0.84496,      0.8532,     0.87036,\n",
      "            0.87424,      0.8732,     0.87216,      0.8682,     0.86712,     0.86604,     0.86496,     0.86419,     0.86345,     0.86272,     0.86198,     0.86124,      0.8648,     0.86929,     0.87378,     0.87827,     0.88276,     0.88495,      0.8827,     0.87754,       0.876,     0.87485,     0.87443,\n",
      "            0.87401,     0.87359,     0.87317,     0.87275,     0.87233,     0.87192,      0.8715,     0.87108,      0.8704,     0.86963,     0.86886,     0.86809,     0.86732,     0.86638,     0.86453,     0.86268,     0.86024,      0.8575,     0.85118,     0.84832,     0.84544,     0.84248,     0.87493,\n",
      "            0.87432,     0.87371,      0.8731,      0.8725,     0.87189,     0.87128,     0.87068,     0.87007,     0.86917,     0.86683,     0.86449,     0.86268,     0.86118,     0.85968,     0.85817,     0.85409,     0.83185,     0.82544,     0.81169,     0.81015,      0.8086,     0.80706,     0.80552,\n",
      "            0.80398,     0.80244,      0.8009,     0.79089,     0.78189,     0.77688,     0.77187,     0.76303,      0.7502,     0.79975,     0.81625,     0.81318,     0.81011,     0.80703,     0.80396,     0.80089,     0.80922,      0.8222,     0.83518,     0.84815,     0.86113,     0.87411,     0.88709,\n",
      "            0.87424,     0.87273,     0.87121,     0.86969,     0.86818,     0.86666,     0.86514,     0.86363,     0.86211,     0.86059,     0.85907,     0.85756,     0.84178,     0.82706,     0.81662,     0.80618,     0.79901,     0.79658,     0.79415,     0.79172,     0.78929,     0.78686,     0.78443,\n",
      "              0.782,     0.77957,     0.77714,     0.77471,     0.77228,     0.76985,     0.76742,     0.76499,     0.76256,     0.76013,      0.7577,     0.75527,     0.75284,     0.75041,     0.71502,     0.67292,     0.74328,     0.83325,     0.92322,           1,           1,           1,           1,\n",
      "                  1,           1,           1,           1,           1,           1,           1,           1,           1,           1,           1,           1,           1,           1,           1,           1,           1,           1,           1,           1,           1,           1,           1,\n",
      "                  1,           1,           1,           1,           1,           1,           1,           1,           1,           1,           1,           1,           1,           1,           1,           1,           1,           1,           1,           1,           1,           1,           1,\n",
      "                  1,           1,           1,           1,           1,           1,           1,           1,           1,           1,           1,           1,           1,           1,           1,           1,           1,           1,           1,           1,           1,           1,           1,\n",
      "                  1,           1,           1,           1,           1,           1,           1,           1,           1,           1,           1]]), 'Confidence', 'Precision'], [array([          0,    0.001001,    0.002002,    0.003003,    0.004004,    0.005005,    0.006006,    0.007007,    0.008008,    0.009009,     0.01001,    0.011011,    0.012012,    0.013013,    0.014014,    0.015015,    0.016016,    0.017017,    0.018018,    0.019019,     0.02002,    0.021021,    0.022022,    0.023023,\n",
      "          0.024024,    0.025025,    0.026026,    0.027027,    0.028028,    0.029029,     0.03003,    0.031031,    0.032032,    0.033033,    0.034034,    0.035035,    0.036036,    0.037037,    0.038038,    0.039039,     0.04004,    0.041041,    0.042042,    0.043043,    0.044044,    0.045045,    0.046046,    0.047047,\n",
      "          0.048048,    0.049049,     0.05005,    0.051051,    0.052052,    0.053053,    0.054054,    0.055055,    0.056056,    0.057057,    0.058058,    0.059059,     0.06006,    0.061061,    0.062062,    0.063063,    0.064064,    0.065065,    0.066066,    0.067067,    0.068068,    0.069069,     0.07007,    0.071071,\n",
      "          0.072072,    0.073073,    0.074074,    0.075075,    0.076076,    0.077077,    0.078078,    0.079079,     0.08008,    0.081081,    0.082082,    0.083083,    0.084084,    0.085085,    0.086086,    0.087087,    0.088088,    0.089089,     0.09009,    0.091091,    0.092092,    0.093093,    0.094094,    0.095095,\n",
      "          0.096096,    0.097097,    0.098098,    0.099099,      0.1001,      0.1011,      0.1021,      0.1031,      0.1041,     0.10511,     0.10611,     0.10711,     0.10811,     0.10911,     0.11011,     0.11111,     0.11211,     0.11311,     0.11411,     0.11512,     0.11612,     0.11712,     0.11812,     0.11912,\n",
      "           0.12012,     0.12112,     0.12212,     0.12312,     0.12412,     0.12513,     0.12613,     0.12713,     0.12813,     0.12913,     0.13013,     0.13113,     0.13213,     0.13313,     0.13413,     0.13514,     0.13614,     0.13714,     0.13814,     0.13914,     0.14014,     0.14114,     0.14214,     0.14314,\n",
      "           0.14414,     0.14515,     0.14615,     0.14715,     0.14815,     0.14915,     0.15015,     0.15115,     0.15215,     0.15315,     0.15415,     0.15516,     0.15616,     0.15716,     0.15816,     0.15916,     0.16016,     0.16116,     0.16216,     0.16316,     0.16416,     0.16517,     0.16617,     0.16717,\n",
      "           0.16817,     0.16917,     0.17017,     0.17117,     0.17217,     0.17317,     0.17417,     0.17518,     0.17618,     0.17718,     0.17818,     0.17918,     0.18018,     0.18118,     0.18218,     0.18318,     0.18418,     0.18519,     0.18619,     0.18719,     0.18819,     0.18919,     0.19019,     0.19119,\n",
      "           0.19219,     0.19319,     0.19419,      0.1952,      0.1962,      0.1972,      0.1982,      0.1992,      0.2002,      0.2012,      0.2022,      0.2032,      0.2042,     0.20521,     0.20621,     0.20721,     0.20821,     0.20921,     0.21021,     0.21121,     0.21221,     0.21321,     0.21421,     0.21522,\n",
      "           0.21622,     0.21722,     0.21822,     0.21922,     0.22022,     0.22122,     0.22222,     0.22322,     0.22422,     0.22523,     0.22623,     0.22723,     0.22823,     0.22923,     0.23023,     0.23123,     0.23223,     0.23323,     0.23423,     0.23524,     0.23624,     0.23724,     0.23824,     0.23924,\n",
      "           0.24024,     0.24124,     0.24224,     0.24324,     0.24424,     0.24525,     0.24625,     0.24725,     0.24825,     0.24925,     0.25025,     0.25125,     0.25225,     0.25325,     0.25425,     0.25526,     0.25626,     0.25726,     0.25826,     0.25926,     0.26026,     0.26126,     0.26226,     0.26326,\n",
      "           0.26426,     0.26527,     0.26627,     0.26727,     0.26827,     0.26927,     0.27027,     0.27127,     0.27227,     0.27327,     0.27427,     0.27528,     0.27628,     0.27728,     0.27828,     0.27928,     0.28028,     0.28128,     0.28228,     0.28328,     0.28428,     0.28529,     0.28629,     0.28729,\n",
      "           0.28829,     0.28929,     0.29029,     0.29129,     0.29229,     0.29329,     0.29429,      0.2953,      0.2963,      0.2973,      0.2983,      0.2993,      0.3003,      0.3013,      0.3023,      0.3033,      0.3043,     0.30531,     0.30631,     0.30731,     0.30831,     0.30931,     0.31031,     0.31131,\n",
      "           0.31231,     0.31331,     0.31431,     0.31532,     0.31632,     0.31732,     0.31832,     0.31932,     0.32032,     0.32132,     0.32232,     0.32332,     0.32432,     0.32533,     0.32633,     0.32733,     0.32833,     0.32933,     0.33033,     0.33133,     0.33233,     0.33333,     0.33433,     0.33534,\n",
      "           0.33634,     0.33734,     0.33834,     0.33934,     0.34034,     0.34134,     0.34234,     0.34334,     0.34434,     0.34535,     0.34635,     0.34735,     0.34835,     0.34935,     0.35035,     0.35135,     0.35235,     0.35335,     0.35435,     0.35536,     0.35636,     0.35736,     0.35836,     0.35936,\n",
      "           0.36036,     0.36136,     0.36236,     0.36336,     0.36436,     0.36537,     0.36637,     0.36737,     0.36837,     0.36937,     0.37037,     0.37137,     0.37237,     0.37337,     0.37437,     0.37538,     0.37638,     0.37738,     0.37838,     0.37938,     0.38038,     0.38138,     0.38238,     0.38338,\n",
      "           0.38438,     0.38539,     0.38639,     0.38739,     0.38839,     0.38939,     0.39039,     0.39139,     0.39239,     0.39339,     0.39439,      0.3954,      0.3964,      0.3974,      0.3984,      0.3994,      0.4004,      0.4014,      0.4024,      0.4034,      0.4044,     0.40541,     0.40641,     0.40741,\n",
      "           0.40841,     0.40941,     0.41041,     0.41141,     0.41241,     0.41341,     0.41441,     0.41542,     0.41642,     0.41742,     0.41842,     0.41942,     0.42042,     0.42142,     0.42242,     0.42342,     0.42442,     0.42543,     0.42643,     0.42743,     0.42843,     0.42943,     0.43043,     0.43143,\n",
      "           0.43243,     0.43343,     0.43443,     0.43544,     0.43644,     0.43744,     0.43844,     0.43944,     0.44044,     0.44144,     0.44244,     0.44344,     0.44444,     0.44545,     0.44645,     0.44745,     0.44845,     0.44945,     0.45045,     0.45145,     0.45245,     0.45345,     0.45445,     0.45546,\n",
      "           0.45646,     0.45746,     0.45846,     0.45946,     0.46046,     0.46146,     0.46246,     0.46346,     0.46446,     0.46547,     0.46647,     0.46747,     0.46847,     0.46947,     0.47047,     0.47147,     0.47247,     0.47347,     0.47447,     0.47548,     0.47648,     0.47748,     0.47848,     0.47948,\n",
      "           0.48048,     0.48148,     0.48248,     0.48348,     0.48448,     0.48549,     0.48649,     0.48749,     0.48849,     0.48949,     0.49049,     0.49149,     0.49249,     0.49349,     0.49449,      0.4955,      0.4965,      0.4975,      0.4985,      0.4995,      0.5005,      0.5015,      0.5025,      0.5035,\n",
      "            0.5045,     0.50551,     0.50651,     0.50751,     0.50851,     0.50951,     0.51051,     0.51151,     0.51251,     0.51351,     0.51451,     0.51552,     0.51652,     0.51752,     0.51852,     0.51952,     0.52052,     0.52152,     0.52252,     0.52352,     0.52452,     0.52553,     0.52653,     0.52753,\n",
      "           0.52853,     0.52953,     0.53053,     0.53153,     0.53253,     0.53353,     0.53453,     0.53554,     0.53654,     0.53754,     0.53854,     0.53954,     0.54054,     0.54154,     0.54254,     0.54354,     0.54454,     0.54555,     0.54655,     0.54755,     0.54855,     0.54955,     0.55055,     0.55155,\n",
      "           0.55255,     0.55355,     0.55455,     0.55556,     0.55656,     0.55756,     0.55856,     0.55956,     0.56056,     0.56156,     0.56256,     0.56356,     0.56456,     0.56557,     0.56657,     0.56757,     0.56857,     0.56957,     0.57057,     0.57157,     0.57257,     0.57357,     0.57457,     0.57558,\n",
      "           0.57658,     0.57758,     0.57858,     0.57958,     0.58058,     0.58158,     0.58258,     0.58358,     0.58458,     0.58559,     0.58659,     0.58759,     0.58859,     0.58959,     0.59059,     0.59159,     0.59259,     0.59359,     0.59459,      0.5956,      0.5966,      0.5976,      0.5986,      0.5996,\n",
      "            0.6006,      0.6016,      0.6026,      0.6036,      0.6046,     0.60561,     0.60661,     0.60761,     0.60861,     0.60961,     0.61061,     0.61161,     0.61261,     0.61361,     0.61461,     0.61562,     0.61662,     0.61762,     0.61862,     0.61962,     0.62062,     0.62162,     0.62262,     0.62362,\n",
      "           0.62462,     0.62563,     0.62663,     0.62763,     0.62863,     0.62963,     0.63063,     0.63163,     0.63263,     0.63363,     0.63463,     0.63564,     0.63664,     0.63764,     0.63864,     0.63964,     0.64064,     0.64164,     0.64264,     0.64364,     0.64464,     0.64565,     0.64665,     0.64765,\n",
      "           0.64865,     0.64965,     0.65065,     0.65165,     0.65265,     0.65365,     0.65465,     0.65566,     0.65666,     0.65766,     0.65866,     0.65966,     0.66066,     0.66166,     0.66266,     0.66366,     0.66466,     0.66567,     0.66667,     0.66767,     0.66867,     0.66967,     0.67067,     0.67167,\n",
      "           0.67267,     0.67367,     0.67467,     0.67568,     0.67668,     0.67768,     0.67868,     0.67968,     0.68068,     0.68168,     0.68268,     0.68368,     0.68468,     0.68569,     0.68669,     0.68769,     0.68869,     0.68969,     0.69069,     0.69169,     0.69269,     0.69369,     0.69469,      0.6957,\n",
      "            0.6967,      0.6977,      0.6987,      0.6997,      0.7007,      0.7017,      0.7027,      0.7037,      0.7047,     0.70571,     0.70671,     0.70771,     0.70871,     0.70971,     0.71071,     0.71171,     0.71271,     0.71371,     0.71471,     0.71572,     0.71672,     0.71772,     0.71872,     0.71972,\n",
      "           0.72072,     0.72172,     0.72272,     0.72372,     0.72472,     0.72573,     0.72673,     0.72773,     0.72873,     0.72973,     0.73073,     0.73173,     0.73273,     0.73373,     0.73473,     0.73574,     0.73674,     0.73774,     0.73874,     0.73974,     0.74074,     0.74174,     0.74274,     0.74374,\n",
      "           0.74474,     0.74575,     0.74675,     0.74775,     0.74875,     0.74975,     0.75075,     0.75175,     0.75275,     0.75375,     0.75475,     0.75576,     0.75676,     0.75776,     0.75876,     0.75976,     0.76076,     0.76176,     0.76276,     0.76376,     0.76476,     0.76577,     0.76677,     0.76777,\n",
      "           0.76877,     0.76977,     0.77077,     0.77177,     0.77277,     0.77377,     0.77477,     0.77578,     0.77678,     0.77778,     0.77878,     0.77978,     0.78078,     0.78178,     0.78278,     0.78378,     0.78478,     0.78579,     0.78679,     0.78779,     0.78879,     0.78979,     0.79079,     0.79179,\n",
      "           0.79279,     0.79379,     0.79479,      0.7958,      0.7968,      0.7978,      0.7988,      0.7998,      0.8008,      0.8018,      0.8028,      0.8038,      0.8048,     0.80581,     0.80681,     0.80781,     0.80881,     0.80981,     0.81081,     0.81181,     0.81281,     0.81381,     0.81481,     0.81582,\n",
      "           0.81682,     0.81782,     0.81882,     0.81982,     0.82082,     0.82182,     0.82282,     0.82382,     0.82482,     0.82583,     0.82683,     0.82783,     0.82883,     0.82983,     0.83083,     0.83183,     0.83283,     0.83383,     0.83483,     0.83584,     0.83684,     0.83784,     0.83884,     0.83984,\n",
      "           0.84084,     0.84184,     0.84284,     0.84384,     0.84484,     0.84585,     0.84685,     0.84785,     0.84885,     0.84985,     0.85085,     0.85185,     0.85285,     0.85385,     0.85485,     0.85586,     0.85686,     0.85786,     0.85886,     0.85986,     0.86086,     0.86186,     0.86286,     0.86386,\n",
      "           0.86486,     0.86587,     0.86687,     0.86787,     0.86887,     0.86987,     0.87087,     0.87187,     0.87287,     0.87387,     0.87487,     0.87588,     0.87688,     0.87788,     0.87888,     0.87988,     0.88088,     0.88188,     0.88288,     0.88388,     0.88488,     0.88589,     0.88689,     0.88789,\n",
      "           0.88889,     0.88989,     0.89089,     0.89189,     0.89289,     0.89389,     0.89489,      0.8959,      0.8969,      0.8979,      0.8989,      0.8999,      0.9009,      0.9019,      0.9029,      0.9039,      0.9049,     0.90591,     0.90691,     0.90791,     0.90891,     0.90991,     0.91091,     0.91191,\n",
      "           0.91291,     0.91391,     0.91491,     0.91592,     0.91692,     0.91792,     0.91892,     0.91992,     0.92092,     0.92192,     0.92292,     0.92392,     0.92492,     0.92593,     0.92693,     0.92793,     0.92893,     0.92993,     0.93093,     0.93193,     0.93293,     0.93393,     0.93493,     0.93594,\n",
      "           0.93694,     0.93794,     0.93894,     0.93994,     0.94094,     0.94194,     0.94294,     0.94394,     0.94494,     0.94595,     0.94695,     0.94795,     0.94895,     0.94995,     0.95095,     0.95195,     0.95295,     0.95395,     0.95495,     0.95596,     0.95696,     0.95796,     0.95896,     0.95996,\n",
      "           0.96096,     0.96196,     0.96296,     0.96396,     0.96496,     0.96597,     0.96697,     0.96797,     0.96897,     0.96997,     0.97097,     0.97197,     0.97297,     0.97397,     0.97497,     0.97598,     0.97698,     0.97798,     0.97898,     0.97998,     0.98098,     0.98198,     0.98298,     0.98398,\n",
      "           0.98498,     0.98599,     0.98699,     0.98799,     0.98899,     0.98999,     0.99099,     0.99199,     0.99299,     0.99399,     0.99499,       0.996,       0.997,       0.998,       0.999,           1]), array([[    0.93684,     0.93684,     0.92105,     0.89474,     0.87368,     0.85789,     0.84737,     0.84211,     0.83158,     0.82632,     0.82105,     0.81053,     0.81053,     0.80021,     0.79474,     0.79474,     0.78947,     0.78947,     0.78421,     0.78421,     0.78421,     0.78421,     0.78183,\n",
      "            0.77895,     0.77368,     0.76842,     0.76842,     0.76842,     0.76316,     0.76316,     0.76316,     0.76316,     0.76316,     0.76316,     0.76316,     0.76316,     0.76316,      0.7552,     0.75263,     0.75263,     0.75263,     0.75263,     0.75263,     0.75263,     0.75263,     0.75263,\n",
      "            0.74983,     0.74737,     0.74737,     0.74737,     0.74737,     0.74737,     0.74737,     0.74737,     0.73684,     0.73684,     0.73684,     0.73684,     0.73684,     0.73684,     0.73187,     0.73158,     0.72953,     0.72632,     0.72632,     0.72632,     0.72632,     0.72632,     0.72105,\n",
      "            0.72105,     0.72105,     0.71579,     0.71579,     0.71579,     0.71579,     0.71579,     0.71579,     0.71579,     0.71579,     0.71579,     0.71579,     0.71579,     0.71579,     0.71579,     0.71579,     0.71579,     0.71579,     0.71579,     0.71288,     0.71053,     0.71053,     0.71053,\n",
      "            0.71053,     0.71053,     0.71053,     0.71053,     0.71053,     0.71053,     0.71053,     0.71053,     0.71053,     0.70988,     0.70863,     0.70738,     0.70613,     0.70526,      0.7031,         0.7,     0.69474,     0.69474,     0.69474,     0.69474,     0.69474,     0.69474,     0.69474,\n",
      "            0.69474,     0.69474,     0.69474,     0.69474,     0.69474,     0.69474,     0.69474,     0.69474,     0.69474,     0.69474,     0.69474,     0.69474,     0.69474,     0.69474,     0.69474,     0.69474,     0.69474,     0.69474,     0.69474,     0.69474,     0.69474,     0.69474,     0.69213,\n",
      "             0.6895,     0.68947,     0.68947,     0.68947,     0.68947,     0.68947,     0.68947,     0.68421,     0.68421,     0.68421,     0.68421,     0.68421,     0.68421,      0.6833,     0.67927,     0.67895,     0.67895,     0.67368,     0.67368,     0.67368,     0.67368,     0.67368,     0.67368,\n",
      "            0.67368,     0.67368,     0.67202,     0.66964,     0.66842,     0.66842,     0.66842,     0.66596,     0.66316,     0.66316,     0.66014,     0.65675,     0.65376,     0.65263,     0.65263,     0.65263,     0.65263,     0.65263,     0.65263,     0.65263,     0.65263,     0.65263,     0.65263,\n",
      "            0.65263,     0.65263,     0.65263,     0.65263,     0.65263,     0.65263,     0.65263,     0.65263,     0.65263,     0.65263,     0.65263,     0.65263,     0.65263,     0.65263,     0.65263,     0.65263,     0.65263,     0.65263,     0.65263,     0.65263,     0.65263,     0.65263,     0.65263,\n",
      "            0.65263,     0.65263,     0.65263,     0.65022,     0.64737,     0.64737,     0.64737,     0.64737,     0.64737,     0.64737,     0.64612,     0.64448,     0.64285,     0.64211,     0.64211,     0.64211,     0.64211,     0.64211,     0.64211,     0.64211,     0.64211,     0.64211,     0.64211,\n",
      "            0.64211,     0.64211,     0.64211,     0.64179,     0.64093,     0.64008,     0.63922,     0.63836,     0.63751,     0.63664,     0.63575,     0.63485,     0.63396,     0.63307,     0.63217,     0.63089,     0.62887,     0.62685,     0.62632,     0.62632,     0.62632,     0.62552,     0.62276,\n",
      "            0.62105,     0.62105,     0.62105,     0.62105,     0.62013,     0.61793,     0.61569,     0.61257,     0.61053,     0.61053,     0.60998,     0.60855,     0.60712,     0.60569,     0.60526,     0.60526,     0.60526,     0.60526,     0.60526,     0.60526,     0.59927,     0.59771,     0.59615,\n",
      "            0.59474,     0.59474,     0.59474,     0.59474,     0.59474,     0.59474,     0.59474,     0.59474,     0.59474,     0.59474,     0.59474,     0.59474,     0.59474,     0.59474,     0.59474,     0.59474,     0.59474,     0.59474,     0.59474,     0.59474,     0.59474,     0.59474,     0.59474,\n",
      "            0.59474,     0.59474,     0.59474,     0.59474,     0.59474,     0.59474,     0.59474,     0.59474,     0.59474,     0.59474,     0.59463,     0.58932,       0.589,     0.58868,     0.58836,     0.58805,     0.58773,     0.58741,     0.58709,     0.58678,     0.58646,     0.58614,     0.58582,\n",
      "             0.5855,     0.58519,     0.58487,     0.58455,     0.58423,     0.58421,     0.58421,     0.58421,     0.58421,     0.58421,     0.58421,     0.58421,     0.58421,     0.58421,     0.58421,     0.58421,     0.58421,     0.58102,      0.5779,     0.57645,       0.575,     0.57368,     0.57368,\n",
      "            0.57368,     0.57368,     0.57368,     0.57368,     0.57368,     0.57368,     0.56842,     0.56842,     0.56842,     0.56316,     0.56316,     0.56033,     0.55789,     0.55789,     0.55745,     0.55677,      0.5561,     0.55542,     0.55475,     0.55408,      0.5534,     0.55273,     0.55205,\n",
      "            0.55138,      0.5507,     0.55002,     0.54935,     0.54867,       0.548,     0.54737,     0.54737,     0.54737,     0.54737,     0.54737,     0.54737,     0.54686,     0.54636,     0.54586,     0.54536,     0.54486,     0.54436,     0.54386,     0.54336,     0.54286,     0.54236,     0.54101,\n",
      "            0.53881,     0.53684,     0.53652,     0.53068,     0.52739,     0.52108,     0.52105,     0.52105,     0.52105,     0.52105,     0.52105,     0.52105,     0.52105,     0.52105,     0.52105,     0.52105,     0.52105,     0.52105,     0.52105,     0.52105,     0.52105,     0.52105,     0.52105,\n",
      "            0.52105,     0.52105,     0.52105,     0.52105,     0.52105,     0.52105,     0.52105,     0.51805,     0.51425,     0.51148,     0.51053,     0.51053,     0.51053,     0.51053,     0.51053,     0.51053,     0.51053,     0.51053,     0.51053,     0.51053,     0.51053,     0.51053,     0.51053,\n",
      "            0.51053,     0.50859,     0.50526,     0.50526,     0.50526,     0.50526,     0.50526,     0.50526,     0.50499,     0.50178,         0.5,         0.5,         0.5,         0.5,         0.5,     0.49834,     0.49518,     0.49474,     0.49474,     0.49474,     0.49474,     0.49474,     0.49474,\n",
      "            0.49474,     0.49474,     0.49474,     0.49474,     0.49474,     0.49474,     0.49474,     0.49474,     0.49474,     0.49474,     0.49474,     0.49474,     0.49474,     0.49474,     0.49474,     0.49474,     0.49474,     0.49474,     0.49474,     0.49474,     0.49474,     0.49474,     0.49474,\n",
      "            0.49474,     0.49474,     0.49358,     0.49225,     0.49092,     0.48958,     0.48947,     0.48947,     0.48947,     0.48947,     0.48947,     0.48769,     0.48421,     0.48421,     0.48421,     0.48421,     0.48421,     0.48421,     0.48421,     0.48421,     0.48421,     0.48421,     0.48421,\n",
      "            0.48421,     0.48421,     0.48421,     0.48421,     0.48421,     0.48421,     0.48421,     0.48421,     0.48393,     0.48205,     0.48017,     0.47895,     0.47895,     0.47895,     0.47895,     0.47747,     0.47368,     0.47368,     0.47368,     0.47368,     0.46822,     0.46664,     0.46506,\n",
      "            0.46348,     0.46257,     0.46182,     0.46108,     0.46033,     0.45959,     0.45885,      0.4581,     0.45789,     0.45789,     0.45789,     0.45789,     0.45789,     0.45789,     0.45789,     0.45789,     0.45789,     0.45669,     0.45263,     0.45263,     0.44737,     0.44737,     0.44737,\n",
      "            0.44737,     0.44494,     0.44211,     0.44194,     0.44074,     0.43953,     0.43833,     0.43713,     0.43642,     0.43587,     0.43532,     0.43477,     0.43421,     0.43366,     0.43311,     0.43256,     0.43201,     0.43158,     0.43158,     0.43158,     0.43158,     0.43158,     0.43158,\n",
      "            0.43158,     0.43158,     0.43158,     0.43158,     0.43158,     0.43158,     0.42851,     0.42632,     0.42632,     0.42437,     0.42031,     0.41579,     0.41029,     0.40939,     0.40849,     0.40759,     0.40669,     0.40579,     0.40526,     0.40526,     0.40526,     0.40526,     0.40526,\n",
      "            0.40526,     0.40505,     0.40439,     0.40372,     0.40306,      0.4024,     0.40174,     0.40107,     0.40041,     0.39969,     0.39889,     0.39809,     0.39728,     0.39648,     0.39568,     0.39488,     0.39159,     0.38857,     0.38652,     0.38447,     0.38421,     0.38421,     0.38421,\n",
      "            0.38139,     0.37844,     0.37668,     0.37492,     0.37368,     0.37368,     0.37368,     0.37368,     0.37368,     0.37368,     0.36685,     0.36516,     0.36347,     0.36135,     0.35914,     0.35789,     0.35789,     0.35789,     0.35789,     0.35789,     0.35753,     0.35683,     0.35614,\n",
      "            0.35545,     0.35476,     0.35406,     0.35337,     0.35268,     0.35192,     0.35115,     0.35038,     0.34961,     0.34885,     0.34808,     0.34737,     0.34737,     0.34737,     0.34737,     0.34737,     0.34737,     0.34737,     0.34737,     0.34737,     0.34737,     0.34271,     0.34211,\n",
      "            0.34211,     0.34211,     0.34211,     0.34211,      0.3367,     0.33573,     0.33476,      0.3338,     0.33283,     0.33186,     0.33088,     0.32988,     0.32889,     0.32789,      0.3269,     0.32632,     0.32632,     0.32632,     0.32632,     0.32632,     0.32632,     0.32632,     0.32632,\n",
      "            0.32632,     0.32632,     0.32632,     0.32632,     0.32632,     0.32632,     0.32632,     0.32632,     0.32632,     0.32632,     0.32506,     0.31852,     0.31547,     0.31435,     0.31322,      0.3121,     0.31097,     0.31053,     0.30895,     0.29489,     0.29474,     0.29474,     0.29474,\n",
      "            0.29474,     0.29474,     0.29245,     0.28897,     0.28626,     0.28341,     0.28012,     0.26825,     0.26677,     0.26528,      0.2638,     0.26266,     0.26179,     0.26093,     0.26006,     0.25919,     0.25832,     0.25789,     0.25789,     0.25789,     0.25789,     0.25789,     0.25789,\n",
      "            0.25789,     0.25789,     0.25789,     0.25789,     0.25789,     0.25789,     0.25789,     0.25789,     0.25581,     0.24953,     0.24203,      0.2409,     0.23978,     0.23865,     0.23753,     0.23614,     0.23435,     0.23257,     0.23124,     0.23048,     0.22971,     0.22895,     0.22819,\n",
      "            0.22742,     0.22666,     0.22632,     0.22601,     0.22161,     0.21497,     0.21359,     0.21222,     0.21084,     0.20918,     0.20743,     0.20567,     0.20322,     0.20054,     0.19625,     0.19427,     0.19205,     0.18983,     0.18638,     0.18421,     0.18421,     0.18421,     0.18421,\n",
      "            0.18296,     0.18125,     0.17955,     0.17336,     0.17176,     0.17016,     0.16856,     0.16748,     0.16644,     0.16541,     0.16438,     0.16334,     0.16316,     0.16316,     0.16316,     0.16316,     0.16316,     0.16196,     0.15844,      0.1509,     0.14876,     0.14718,     0.14663,\n",
      "            0.14608,     0.14553,     0.14499,     0.14444,     0.14389,     0.14334,     0.14279,     0.14225,     0.14141,     0.14046,     0.13952,     0.13858,     0.13764,     0.13651,     0.13439,     0.13228,     0.12962,      0.1267,     0.12044,     0.11779,     0.11518,     0.11265,     0.11045,\n",
      "            0.10987,     0.10928,     0.10869,      0.1081,     0.10752,     0.10693,     0.10634,     0.10575,     0.10491,     0.10284,     0.10076,    0.099228,     0.09801,    0.096791,    0.095573,    0.092489,    0.078151,    0.074712,    0.068079,     0.06743,    0.066781,    0.066132,    0.065483,\n",
      "           0.064834,    0.064185,    0.063536,    0.059802,    0.056675,    0.055074,    0.053474,    0.050935,    0.047368,    0.047368,     0.04681,     0.04592,    0.045031,    0.044141,    0.043252,    0.042363,    0.042105,    0.042105,    0.042105,    0.042105,    0.042105,    0.042105,    0.042105,\n",
      "           0.036619,    0.036172,    0.035725,    0.035278,    0.034831,    0.034384,    0.033937,     0.03349,    0.033042,    0.032595,    0.032148,    0.031701,    0.028183,    0.025326,    0.023677,    0.022028,    0.020948,    0.020692,    0.020437,    0.020181,    0.019925,    0.019669,    0.019414,\n",
      "           0.019158,    0.018902,    0.018646,     0.01839,    0.018135,    0.017879,    0.017623,    0.017367,    0.017112,    0.016856,      0.0166,    0.016344,    0.016088,    0.015833,     0.01358,    0.010921,    0.010526,    0.010526,    0.010526,    0.010437,   0.0098297,   0.0092222,   0.0086146,\n",
      "          0.0080071,   0.0073996,   0.0067921,   0.0061846,    0.005577,           0,           0,           0,           0,           0,           0,           0,           0,           0,           0,           0,           0,           0,           0,           0,           0,           0,           0,\n",
      "                  0,           0,           0,           0,           0,           0,           0,           0,           0,           0,           0,           0,           0,           0,           0,           0,           0,           0,           0,           0,           0,           0,           0,\n",
      "                  0,           0,           0,           0,           0,           0,           0,           0,           0,           0,           0,           0,           0,           0,           0,           0,           0,           0,           0,           0,           0,           0,           0,\n",
      "                  0,           0,           0,           0,           0,           0,           0,           0,           0,           0,           0]]), 'Confidence', 'Recall'], [array([          0,    0.001001,    0.002002,    0.003003,    0.004004,    0.005005,    0.006006,    0.007007,    0.008008,    0.009009,     0.01001,    0.011011,    0.012012,    0.013013,    0.014014,    0.015015,    0.016016,    0.017017,    0.018018,    0.019019,     0.02002,    0.021021,    0.022022,    0.023023,\n",
      "          0.024024,    0.025025,    0.026026,    0.027027,    0.028028,    0.029029,     0.03003,    0.031031,    0.032032,    0.033033,    0.034034,    0.035035,    0.036036,    0.037037,    0.038038,    0.039039,     0.04004,    0.041041,    0.042042,    0.043043,    0.044044,    0.045045,    0.046046,    0.047047,\n",
      "          0.048048,    0.049049,     0.05005,    0.051051,    0.052052,    0.053053,    0.054054,    0.055055,    0.056056,    0.057057,    0.058058,    0.059059,     0.06006,    0.061061,    0.062062,    0.063063,    0.064064,    0.065065,    0.066066,    0.067067,    0.068068,    0.069069,     0.07007,    0.071071,\n",
      "          0.072072,    0.073073,    0.074074,    0.075075,    0.076076,    0.077077,    0.078078,    0.079079,     0.08008,    0.081081,    0.082082,    0.083083,    0.084084,    0.085085,    0.086086,    0.087087,    0.088088,    0.089089,     0.09009,    0.091091,    0.092092,    0.093093,    0.094094,    0.095095,\n",
      "          0.096096,    0.097097,    0.098098,    0.099099,      0.1001,      0.1011,      0.1021,      0.1031,      0.1041,     0.10511,     0.10611,     0.10711,     0.10811,     0.10911,     0.11011,     0.11111,     0.11211,     0.11311,     0.11411,     0.11512,     0.11612,     0.11712,     0.11812,     0.11912,\n",
      "           0.12012,     0.12112,     0.12212,     0.12312,     0.12412,     0.12513,     0.12613,     0.12713,     0.12813,     0.12913,     0.13013,     0.13113,     0.13213,     0.13313,     0.13413,     0.13514,     0.13614,     0.13714,     0.13814,     0.13914,     0.14014,     0.14114,     0.14214,     0.14314,\n",
      "           0.14414,     0.14515,     0.14615,     0.14715,     0.14815,     0.14915,     0.15015,     0.15115,     0.15215,     0.15315,     0.15415,     0.15516,     0.15616,     0.15716,     0.15816,     0.15916,     0.16016,     0.16116,     0.16216,     0.16316,     0.16416,     0.16517,     0.16617,     0.16717,\n",
      "           0.16817,     0.16917,     0.17017,     0.17117,     0.17217,     0.17317,     0.17417,     0.17518,     0.17618,     0.17718,     0.17818,     0.17918,     0.18018,     0.18118,     0.18218,     0.18318,     0.18418,     0.18519,     0.18619,     0.18719,     0.18819,     0.18919,     0.19019,     0.19119,\n",
      "           0.19219,     0.19319,     0.19419,      0.1952,      0.1962,      0.1972,      0.1982,      0.1992,      0.2002,      0.2012,      0.2022,      0.2032,      0.2042,     0.20521,     0.20621,     0.20721,     0.20821,     0.20921,     0.21021,     0.21121,     0.21221,     0.21321,     0.21421,     0.21522,\n",
      "           0.21622,     0.21722,     0.21822,     0.21922,     0.22022,     0.22122,     0.22222,     0.22322,     0.22422,     0.22523,     0.22623,     0.22723,     0.22823,     0.22923,     0.23023,     0.23123,     0.23223,     0.23323,     0.23423,     0.23524,     0.23624,     0.23724,     0.23824,     0.23924,\n",
      "           0.24024,     0.24124,     0.24224,     0.24324,     0.24424,     0.24525,     0.24625,     0.24725,     0.24825,     0.24925,     0.25025,     0.25125,     0.25225,     0.25325,     0.25425,     0.25526,     0.25626,     0.25726,     0.25826,     0.25926,     0.26026,     0.26126,     0.26226,     0.26326,\n",
      "           0.26426,     0.26527,     0.26627,     0.26727,     0.26827,     0.26927,     0.27027,     0.27127,     0.27227,     0.27327,     0.27427,     0.27528,     0.27628,     0.27728,     0.27828,     0.27928,     0.28028,     0.28128,     0.28228,     0.28328,     0.28428,     0.28529,     0.28629,     0.28729,\n",
      "           0.28829,     0.28929,     0.29029,     0.29129,     0.29229,     0.29329,     0.29429,      0.2953,      0.2963,      0.2973,      0.2983,      0.2993,      0.3003,      0.3013,      0.3023,      0.3033,      0.3043,     0.30531,     0.30631,     0.30731,     0.30831,     0.30931,     0.31031,     0.31131,\n",
      "           0.31231,     0.31331,     0.31431,     0.31532,     0.31632,     0.31732,     0.31832,     0.31932,     0.32032,     0.32132,     0.32232,     0.32332,     0.32432,     0.32533,     0.32633,     0.32733,     0.32833,     0.32933,     0.33033,     0.33133,     0.33233,     0.33333,     0.33433,     0.33534,\n",
      "           0.33634,     0.33734,     0.33834,     0.33934,     0.34034,     0.34134,     0.34234,     0.34334,     0.34434,     0.34535,     0.34635,     0.34735,     0.34835,     0.34935,     0.35035,     0.35135,     0.35235,     0.35335,     0.35435,     0.35536,     0.35636,     0.35736,     0.35836,     0.35936,\n",
      "           0.36036,     0.36136,     0.36236,     0.36336,     0.36436,     0.36537,     0.36637,     0.36737,     0.36837,     0.36937,     0.37037,     0.37137,     0.37237,     0.37337,     0.37437,     0.37538,     0.37638,     0.37738,     0.37838,     0.37938,     0.38038,     0.38138,     0.38238,     0.38338,\n",
      "           0.38438,     0.38539,     0.38639,     0.38739,     0.38839,     0.38939,     0.39039,     0.39139,     0.39239,     0.39339,     0.39439,      0.3954,      0.3964,      0.3974,      0.3984,      0.3994,      0.4004,      0.4014,      0.4024,      0.4034,      0.4044,     0.40541,     0.40641,     0.40741,\n",
      "           0.40841,     0.40941,     0.41041,     0.41141,     0.41241,     0.41341,     0.41441,     0.41542,     0.41642,     0.41742,     0.41842,     0.41942,     0.42042,     0.42142,     0.42242,     0.42342,     0.42442,     0.42543,     0.42643,     0.42743,     0.42843,     0.42943,     0.43043,     0.43143,\n",
      "           0.43243,     0.43343,     0.43443,     0.43544,     0.43644,     0.43744,     0.43844,     0.43944,     0.44044,     0.44144,     0.44244,     0.44344,     0.44444,     0.44545,     0.44645,     0.44745,     0.44845,     0.44945,     0.45045,     0.45145,     0.45245,     0.45345,     0.45445,     0.45546,\n",
      "           0.45646,     0.45746,     0.45846,     0.45946,     0.46046,     0.46146,     0.46246,     0.46346,     0.46446,     0.46547,     0.46647,     0.46747,     0.46847,     0.46947,     0.47047,     0.47147,     0.47247,     0.47347,     0.47447,     0.47548,     0.47648,     0.47748,     0.47848,     0.47948,\n",
      "           0.48048,     0.48148,     0.48248,     0.48348,     0.48448,     0.48549,     0.48649,     0.48749,     0.48849,     0.48949,     0.49049,     0.49149,     0.49249,     0.49349,     0.49449,      0.4955,      0.4965,      0.4975,      0.4985,      0.4995,      0.5005,      0.5015,      0.5025,      0.5035,\n",
      "            0.5045,     0.50551,     0.50651,     0.50751,     0.50851,     0.50951,     0.51051,     0.51151,     0.51251,     0.51351,     0.51451,     0.51552,     0.51652,     0.51752,     0.51852,     0.51952,     0.52052,     0.52152,     0.52252,     0.52352,     0.52452,     0.52553,     0.52653,     0.52753,\n",
      "           0.52853,     0.52953,     0.53053,     0.53153,     0.53253,     0.53353,     0.53453,     0.53554,     0.53654,     0.53754,     0.53854,     0.53954,     0.54054,     0.54154,     0.54254,     0.54354,     0.54454,     0.54555,     0.54655,     0.54755,     0.54855,     0.54955,     0.55055,     0.55155,\n",
      "           0.55255,     0.55355,     0.55455,     0.55556,     0.55656,     0.55756,     0.55856,     0.55956,     0.56056,     0.56156,     0.56256,     0.56356,     0.56456,     0.56557,     0.56657,     0.56757,     0.56857,     0.56957,     0.57057,     0.57157,     0.57257,     0.57357,     0.57457,     0.57558,\n",
      "           0.57658,     0.57758,     0.57858,     0.57958,     0.58058,     0.58158,     0.58258,     0.58358,     0.58458,     0.58559,     0.58659,     0.58759,     0.58859,     0.58959,     0.59059,     0.59159,     0.59259,     0.59359,     0.59459,      0.5956,      0.5966,      0.5976,      0.5986,      0.5996,\n",
      "            0.6006,      0.6016,      0.6026,      0.6036,      0.6046,     0.60561,     0.60661,     0.60761,     0.60861,     0.60961,     0.61061,     0.61161,     0.61261,     0.61361,     0.61461,     0.61562,     0.61662,     0.61762,     0.61862,     0.61962,     0.62062,     0.62162,     0.62262,     0.62362,\n",
      "           0.62462,     0.62563,     0.62663,     0.62763,     0.62863,     0.62963,     0.63063,     0.63163,     0.63263,     0.63363,     0.63463,     0.63564,     0.63664,     0.63764,     0.63864,     0.63964,     0.64064,     0.64164,     0.64264,     0.64364,     0.64464,     0.64565,     0.64665,     0.64765,\n",
      "           0.64865,     0.64965,     0.65065,     0.65165,     0.65265,     0.65365,     0.65465,     0.65566,     0.65666,     0.65766,     0.65866,     0.65966,     0.66066,     0.66166,     0.66266,     0.66366,     0.66466,     0.66567,     0.66667,     0.66767,     0.66867,     0.66967,     0.67067,     0.67167,\n",
      "           0.67267,     0.67367,     0.67467,     0.67568,     0.67668,     0.67768,     0.67868,     0.67968,     0.68068,     0.68168,     0.68268,     0.68368,     0.68468,     0.68569,     0.68669,     0.68769,     0.68869,     0.68969,     0.69069,     0.69169,     0.69269,     0.69369,     0.69469,      0.6957,\n",
      "            0.6967,      0.6977,      0.6987,      0.6997,      0.7007,      0.7017,      0.7027,      0.7037,      0.7047,     0.70571,     0.70671,     0.70771,     0.70871,     0.70971,     0.71071,     0.71171,     0.71271,     0.71371,     0.71471,     0.71572,     0.71672,     0.71772,     0.71872,     0.71972,\n",
      "           0.72072,     0.72172,     0.72272,     0.72372,     0.72472,     0.72573,     0.72673,     0.72773,     0.72873,     0.72973,     0.73073,     0.73173,     0.73273,     0.73373,     0.73473,     0.73574,     0.73674,     0.73774,     0.73874,     0.73974,     0.74074,     0.74174,     0.74274,     0.74374,\n",
      "           0.74474,     0.74575,     0.74675,     0.74775,     0.74875,     0.74975,     0.75075,     0.75175,     0.75275,     0.75375,     0.75475,     0.75576,     0.75676,     0.75776,     0.75876,     0.75976,     0.76076,     0.76176,     0.76276,     0.76376,     0.76476,     0.76577,     0.76677,     0.76777,\n",
      "           0.76877,     0.76977,     0.77077,     0.77177,     0.77277,     0.77377,     0.77477,     0.77578,     0.77678,     0.77778,     0.77878,     0.77978,     0.78078,     0.78178,     0.78278,     0.78378,     0.78478,     0.78579,     0.78679,     0.78779,     0.78879,     0.78979,     0.79079,     0.79179,\n",
      "           0.79279,     0.79379,     0.79479,      0.7958,      0.7968,      0.7978,      0.7988,      0.7998,      0.8008,      0.8018,      0.8028,      0.8038,      0.8048,     0.80581,     0.80681,     0.80781,     0.80881,     0.80981,     0.81081,     0.81181,     0.81281,     0.81381,     0.81481,     0.81582,\n",
      "           0.81682,     0.81782,     0.81882,     0.81982,     0.82082,     0.82182,     0.82282,     0.82382,     0.82482,     0.82583,     0.82683,     0.82783,     0.82883,     0.82983,     0.83083,     0.83183,     0.83283,     0.83383,     0.83483,     0.83584,     0.83684,     0.83784,     0.83884,     0.83984,\n",
      "           0.84084,     0.84184,     0.84284,     0.84384,     0.84484,     0.84585,     0.84685,     0.84785,     0.84885,     0.84985,     0.85085,     0.85185,     0.85285,     0.85385,     0.85485,     0.85586,     0.85686,     0.85786,     0.85886,     0.85986,     0.86086,     0.86186,     0.86286,     0.86386,\n",
      "           0.86486,     0.86587,     0.86687,     0.86787,     0.86887,     0.86987,     0.87087,     0.87187,     0.87287,     0.87387,     0.87487,     0.87588,     0.87688,     0.87788,     0.87888,     0.87988,     0.88088,     0.88188,     0.88288,     0.88388,     0.88488,     0.88589,     0.88689,     0.88789,\n",
      "           0.88889,     0.88989,     0.89089,     0.89189,     0.89289,     0.89389,     0.89489,      0.8959,      0.8969,      0.8979,      0.8989,      0.8999,      0.9009,      0.9019,      0.9029,      0.9039,      0.9049,     0.90591,     0.90691,     0.90791,     0.90891,     0.90991,     0.91091,     0.91191,\n",
      "           0.91291,     0.91391,     0.91491,     0.91592,     0.91692,     0.91792,     0.91892,     0.91992,     0.92092,     0.92192,     0.92292,     0.92392,     0.92492,     0.92593,     0.92693,     0.92793,     0.92893,     0.92993,     0.93093,     0.93193,     0.93293,     0.93393,     0.93493,     0.93594,\n",
      "           0.93694,     0.93794,     0.93894,     0.93994,     0.94094,     0.94194,     0.94294,     0.94394,     0.94494,     0.94595,     0.94695,     0.94795,     0.94895,     0.94995,     0.95095,     0.95195,     0.95295,     0.95395,     0.95495,     0.95596,     0.95696,     0.95796,     0.95896,     0.95996,\n",
      "           0.96096,     0.96196,     0.96296,     0.96396,     0.96496,     0.96597,     0.96697,     0.96797,     0.96897,     0.96997,     0.97097,     0.97197,     0.97297,     0.97397,     0.97497,     0.97598,     0.97698,     0.97798,     0.97898,     0.97998,     0.98098,     0.98198,     0.98298,     0.98398,\n",
      "           0.98498,     0.98599,     0.98699,     0.98799,     0.98899,     0.98999,     0.99099,     0.99199,     0.99299,     0.99399,     0.99499,       0.996,       0.997,       0.998,       0.999,           1]), array([[          1,           1,           1,           1,           1,           1,           1,           1,           1,           1,           1,     0.88889,     0.88889,     0.88889,     0.88889,     0.88889,     0.88889,     0.88889,     0.88889,     0.88889,     0.88889,     0.88889,     0.88889,\n",
      "            0.88889,     0.88889,     0.88889,     0.88889,     0.88889,     0.88889,     0.88889,     0.88889,     0.88889,     0.88889,     0.88889,     0.88889,     0.88889,     0.88889,     0.88889,     0.88889,     0.88889,     0.88889,     0.88889,     0.88889,     0.88571,     0.88571,     0.88571,\n",
      "            0.88571,     0.88571,     0.88571,     0.88571,     0.88571,     0.88571,     0.88571,     0.88571,     0.88571,     0.88571,     0.88571,     0.88571,     0.88571,     0.88571,     0.88571,     0.88571,     0.88571,     0.88571,     0.88571,     0.88571,     0.88571,     0.88571,     0.88571,\n",
      "            0.88571,     0.88571,     0.88571,     0.88571,     0.88571,     0.88571,     0.88571,     0.88571,     0.88571,     0.88571,     0.88571,     0.88571,     0.88571,     0.88571,     0.88571,     0.88571,     0.88571,     0.88571,     0.88571,     0.88571,     0.88571,     0.88571,     0.88571,\n",
      "            0.88571,     0.88571,     0.88571,     0.88571,     0.88571,     0.88571,     0.88571,     0.88571,     0.88571,     0.88571,     0.88571,     0.88571,     0.88571,     0.88571,     0.88571,     0.88571,     0.88571,     0.88571,     0.88571,     0.88571,     0.88571,     0.88571,     0.88571,\n",
      "            0.88571,     0.88571,     0.88571,     0.88571,     0.88571,     0.88571,     0.88571,     0.88571,     0.88571,     0.88571,     0.88571,     0.88571,     0.88571,     0.88571,     0.88571,     0.88571,     0.88571,     0.88571,     0.88571,     0.88571,     0.88571,     0.88571,     0.88571,\n",
      "            0.88571,     0.88571,     0.88571,     0.88571,     0.88571,     0.88571,     0.88571,     0.88571,     0.88571,     0.88571,     0.88571,     0.88571,     0.88571,     0.88571,     0.88571,     0.88571,     0.88571,     0.88571,     0.88571,     0.88571,     0.88571,     0.88571,     0.88571,\n",
      "            0.88571,     0.88571,     0.87805,     0.87805,     0.87805,     0.87805,     0.87805,     0.87805,     0.87805,     0.87805,     0.87805,     0.87805,     0.87805,     0.87805,     0.87805,     0.87805,     0.87805,     0.87805,     0.87805,     0.87805,     0.87805,     0.87805,     0.87805,\n",
      "            0.87805,     0.87805,     0.87805,     0.87805,     0.87805,     0.87805,     0.84091,     0.84091,     0.84091,     0.84091,     0.84091,     0.82759,     0.82759,     0.82759,     0.82759,     0.82759,     0.82759,     0.82759,     0.82759,     0.82759,     0.82759,     0.82759,     0.82759,\n",
      "            0.82759,     0.82759,     0.82759,     0.82759,     0.82759,     0.82759,     0.82759,     0.82759,     0.82759,     0.82759,     0.82759,     0.82759,     0.82759,     0.82759,     0.82759,     0.82759,     0.82759,     0.82759,     0.82759,     0.82759,     0.82759,     0.82759,     0.82759,\n",
      "            0.82759,     0.82759,     0.82759,     0.82759,     0.82759,     0.82759,     0.82759,     0.82759,     0.82759,     0.82759,     0.82759,     0.82759,     0.82759,     0.82759,     0.82759,     0.82759,     0.82759,     0.82759,     0.82759,     0.82759,     0.82759,     0.82759,     0.82759,\n",
      "            0.80882,     0.80882,     0.80882,     0.80882,     0.80882,     0.80882,     0.80882,     0.80882,     0.80882,     0.80882,     0.80882,     0.80882,     0.80882,     0.80882,     0.80882,     0.80882,     0.80882,     0.80882,     0.80882,     0.80882,     0.80882,     0.80882,     0.80882,\n",
      "            0.80882,     0.80882,     0.80882,     0.80882,     0.80882,     0.80882,     0.80882,     0.80882,     0.80882,     0.80882,     0.80882,     0.80882,     0.80882,     0.80882,     0.80556,     0.80556,     0.80556,     0.80556,     0.80556,     0.80556,     0.80556,     0.80556,     0.80556,\n",
      "            0.80556,     0.80556,     0.80556,     0.80556,     0.80556,     0.80556,     0.80263,     0.80263,     0.80263,     0.80263,     0.80263,     0.80263,     0.80263,     0.80263,     0.80263,     0.80263,     0.80263,     0.80263,     0.80263,     0.80263,     0.80263,     0.80263,     0.78049,\n",
      "            0.78049,     0.78049,     0.78049,     0.78049,     0.78049,     0.78049,     0.78049,     0.78049,     0.78049,     0.78049,     0.78049,     0.78049,     0.78049,     0.78049,     0.78049,     0.77381,     0.77381,     0.77381,     0.77381,     0.77381,     0.76136,     0.76136,     0.76136,\n",
      "            0.76136,     0.76136,     0.76136,     0.76136,     0.76136,     0.76136,     0.76136,     0.76136,     0.73913,     0.73913,     0.73913,     0.73913,     0.73913,     0.72165,     0.72165,     0.72165,     0.72165,     0.72165,     0.72165,     0.72165,     0.72165,     0.72165,     0.72165,\n",
      "            0.72165,     0.71717,     0.71717,     0.71717,     0.71717,     0.71717,     0.71569,     0.71569,     0.71569,     0.71569,     0.71569,     0.71569,     0.71569,     0.71569,     0.71569,     0.71569,     0.71154,     0.71154,     0.71154,     0.71154,     0.71154,     0.71154,     0.71028,\n",
      "            0.71028,     0.71028,     0.71028,     0.71028,     0.71028,     0.71028,     0.71028,     0.71028,     0.71028,     0.68421,     0.68421,     0.68421,     0.68421,     0.68421,     0.68421,     0.68421,     0.68421,     0.68421,     0.68421,     0.68421,     0.66129,     0.66129,     0.66129,\n",
      "            0.66129,     0.66129,     0.66129,     0.66129,     0.66129,     0.66129,     0.66129,     0.66129,     0.66129,     0.66129,     0.66129,     0.66129,     0.66129,     0.66129,     0.66129,     0.66129,     0.66129,     0.66129,     0.63636,     0.63636,     0.63636,     0.63636,     0.63636,\n",
      "            0.63636,     0.63636,     0.63636,     0.63636,     0.63636,     0.63433,     0.63433,     0.63433,     0.63433,     0.63433,      0.6014,      0.6014,      0.6014,      0.6014,      0.6014,      0.6014,     0.58784,     0.58784,     0.58784,     0.58784,     0.58784,     0.54601,     0.54601,\n",
      "            0.54601,     0.54601,     0.54601,     0.54601,     0.54601,     0.54601,     0.54601,     0.54601,     0.54545,     0.54545,     0.54545,     0.54545,     0.54545,     0.54545,     0.54438,     0.54438,     0.54438,     0.54438,     0.54438,     0.54438,     0.54438,     0.54438,     0.54438,\n",
      "            0.54438,     0.53448,     0.53448,     0.53448,     0.53448,     0.53448,     0.52778,     0.52778,     0.52778,     0.52778,     0.52778,     0.52778,     0.52778,     0.52778,     0.52778,     0.52778,     0.52778,     0.52717,     0.52717,     0.52717,     0.52717,     0.52717,     0.52717,\n",
      "            0.52717,     0.52717,     0.52717,     0.52717,     0.52717,         0.5,         0.5,         0.5,         0.5,         0.5,     0.48768,     0.48768,     0.48768,     0.48768,     0.48768,     0.47847,     0.47847,     0.47847,     0.47847,     0.47847,     0.46119,     0.46119,     0.46119,\n",
      "            0.46119,     0.46119,     0.46119,     0.41633,     0.41633,     0.41633,     0.41633,     0.41633,     0.41036,     0.41036,     0.41036,     0.41036,     0.41036,     0.40945,     0.40945,     0.40945,     0.40945,     0.40945,     0.40856,     0.40856,     0.40856,     0.40856,     0.40856,\n",
      "            0.40856,     0.40226,     0.40226,     0.40226,     0.40226,     0.40226,     0.40226,     0.40226,     0.40226,     0.40226,     0.40226,     0.36986,     0.36986,     0.36986,     0.36986,     0.36986,     0.35048,     0.35048,     0.35048,     0.35048,     0.35048,     0.35048,     0.32544,\n",
      "            0.32544,     0.32544,     0.32544,     0.32544,     0.32081,     0.32081,     0.32081,     0.32081,     0.32081,     0.29016,     0.29016,     0.29016,     0.29016,     0.29016,     0.27494,     0.27494,     0.27494,     0.27494,     0.27494,     0.27494,     0.27208,     0.27208,     0.27208,\n",
      "            0.27208,     0.27208,     0.27187,     0.27187,     0.27187,     0.27187,     0.27187,     0.24421,     0.24421,     0.24421,     0.24421,     0.24421,     0.21119,     0.21119,     0.21119,     0.21119,     0.21119,     0.21119,         0.2,         0.2,         0.2,         0.2,         0.2,\n",
      "            0.17526,     0.17526,     0.17526,     0.17526,     0.17526,     0.17341,     0.17341,     0.17341,     0.17341,     0.17341,     0.16176,     0.16176,     0.16176,     0.16176,     0.16176,     0.16176,     0.13118,     0.13118,     0.13118,     0.13118,     0.13118,     0.13113,     0.13113,\n",
      "            0.13113,     0.13113,     0.13113,     0.12847,     0.12847,     0.12847,     0.12847,     0.12847,     0.12847,     0.12847,     0.12847,     0.12847,     0.12847,     0.12847,    0.089489,    0.089489,    0.089489,    0.089489,    0.089489,    0.087491,    0.087491,    0.087491,    0.087491,\n",
      "           0.087491,    0.087491,    0.087491,    0.087491,    0.087491,    0.087491,    0.087491,    0.056653,    0.056653,    0.056653,    0.056653,    0.056653,    0.054606,    0.054435,    0.054264,    0.054094,    0.053923,    0.053753,    0.053582,    0.053411,    0.053241,     0.05307,    0.052899,\n",
      "           0.052729,    0.052558,    0.052387,    0.052217,    0.052046,    0.051875,    0.051705,    0.051534,    0.051364,    0.051193,    0.051022,    0.050852,    0.050681,     0.05051,     0.05034,    0.050169,    0.049998,    0.049828,    0.049657,    0.049486,    0.049316,    0.049145,    0.048975,\n",
      "           0.048804,    0.048633,    0.048463,    0.048292,    0.048121,    0.047951,     0.04778,    0.047609,    0.047439,    0.047268,    0.047097,    0.046927,    0.046756,    0.046586,    0.046415,    0.046244,    0.046074,    0.045903,    0.045732,    0.045562,    0.045391,     0.04522,     0.04505,\n",
      "           0.044879,    0.044708,    0.044538,    0.044367,    0.044197,    0.044026,    0.043855,    0.043685,    0.043514,    0.043343,    0.043173,    0.043002,    0.042831,    0.042661,     0.04249,    0.042319,    0.042149,    0.041978,    0.041808,    0.041637,    0.041466,    0.041296,    0.041125,\n",
      "           0.040954,    0.040784,    0.040613,    0.040442,    0.040272,    0.040101,     0.03993,     0.03976,    0.039589,    0.039419,    0.039248,    0.039077,    0.038907,    0.038736,    0.038565,    0.038395,    0.038224,    0.038053,    0.037883,    0.037712,    0.037541,    0.037371,      0.0372,\n",
      "            0.03703,    0.036859,    0.036688,    0.036518,    0.036347,    0.036176,    0.036006,    0.035835,    0.035664,    0.035494,    0.035323,    0.035152,    0.034982,    0.034811,    0.034641,     0.03447,    0.034299,    0.034129,    0.033958,    0.033787,    0.033617,    0.033446,    0.033275,\n",
      "           0.033105,    0.032934,    0.032763,    0.032593,    0.032422,    0.032252,    0.032081,     0.03191,     0.03174,    0.031569,    0.031398,    0.031228,    0.031057,    0.030886,    0.030716,    0.030545,    0.030374,    0.030204,    0.030033,    0.029863,    0.029692,    0.029521,    0.029351,\n",
      "            0.02918,    0.029009,    0.028839,    0.028668,    0.028497,    0.028327,    0.028156,    0.027985,    0.027815,    0.027644,    0.027474,    0.027303,    0.027132,    0.026962,    0.026791,     0.02662,     0.02645,    0.026279,    0.026108,    0.025938,    0.025767,    0.025596,    0.025426,\n",
      "           0.025255,    0.025085,    0.024914,    0.024743,    0.024573,    0.024402,    0.024231,    0.024061,     0.02389,    0.023719,    0.023549,    0.023378,    0.023207,    0.023037,    0.022866,    0.022696,    0.022525,    0.022354,    0.022184,    0.022013,    0.021842,    0.021672,    0.021501,\n",
      "            0.02133,     0.02116,    0.020989,    0.020818,    0.020648,    0.020477,    0.020307,    0.020136,    0.019965,    0.019795,    0.019624,    0.019453,    0.019283,    0.019112,    0.018941,    0.018771,      0.0186,    0.018429,    0.018259,    0.018088,    0.017918,    0.017747,    0.017576,\n",
      "           0.017406,    0.017235,    0.017064,    0.016894,    0.016723,    0.016552,    0.016382,    0.016211,     0.01604,     0.01587,    0.015699,    0.015529,    0.015358,    0.015187,    0.015017,    0.014846,    0.014675,    0.014505,    0.014334,    0.014163,    0.013993,    0.013822,    0.013651,\n",
      "           0.013481,     0.01331,     0.01314,    0.012969,    0.012798,    0.012628,    0.012457,    0.012286,    0.012116,    0.011945,    0.011774,    0.011604,    0.011433,    0.011262,    0.011092,    0.010921,    0.010751,     0.01058,    0.010409,    0.010239,    0.010068,   0.0098973,   0.0097266,\n",
      "           0.009556,   0.0093854,   0.0092147,   0.0090441,   0.0088734,   0.0087028,   0.0085321,   0.0083615,   0.0081909,   0.0080202,   0.0078496,   0.0076789,   0.0075083,   0.0073376,    0.007167,   0.0069964,   0.0068257,   0.0066551,   0.0064844,   0.0063138,   0.0061431,   0.0059725,   0.0058019,\n",
      "          0.0056312,   0.0054606,   0.0052899,   0.0051193,   0.0049486,    0.004778,   0.0046074,   0.0044367,   0.0042661,   0.0040954,   0.0039248,   0.0037541,   0.0035835,   0.0034129,   0.0032422,   0.0030716,   0.0029009,   0.0027303,   0.0025596,    0.002389,   0.0022184,   0.0020477,   0.0018771,\n",
      "          0.0017064,   0.0015358,   0.0013651,   0.0011945,   0.0010239,  0.00085321,  0.00068257,  0.00051193,  0.00034129,  0.00017064,           0]]), 'Recall', 'Precision'], [array([          0,    0.001001,    0.002002,    0.003003,    0.004004,    0.005005,    0.006006,    0.007007,    0.008008,    0.009009,     0.01001,    0.011011,    0.012012,    0.013013,    0.014014,    0.015015,    0.016016,    0.017017,    0.018018,    0.019019,     0.02002,    0.021021,    0.022022,    0.023023,\n",
      "          0.024024,    0.025025,    0.026026,    0.027027,    0.028028,    0.029029,     0.03003,    0.031031,    0.032032,    0.033033,    0.034034,    0.035035,    0.036036,    0.037037,    0.038038,    0.039039,     0.04004,    0.041041,    0.042042,    0.043043,    0.044044,    0.045045,    0.046046,    0.047047,\n",
      "          0.048048,    0.049049,     0.05005,    0.051051,    0.052052,    0.053053,    0.054054,    0.055055,    0.056056,    0.057057,    0.058058,    0.059059,     0.06006,    0.061061,    0.062062,    0.063063,    0.064064,    0.065065,    0.066066,    0.067067,    0.068068,    0.069069,     0.07007,    0.071071,\n",
      "          0.072072,    0.073073,    0.074074,    0.075075,    0.076076,    0.077077,    0.078078,    0.079079,     0.08008,    0.081081,    0.082082,    0.083083,    0.084084,    0.085085,    0.086086,    0.087087,    0.088088,    0.089089,     0.09009,    0.091091,    0.092092,    0.093093,    0.094094,    0.095095,\n",
      "          0.096096,    0.097097,    0.098098,    0.099099,      0.1001,      0.1011,      0.1021,      0.1031,      0.1041,     0.10511,     0.10611,     0.10711,     0.10811,     0.10911,     0.11011,     0.11111,     0.11211,     0.11311,     0.11411,     0.11512,     0.11612,     0.11712,     0.11812,     0.11912,\n",
      "           0.12012,     0.12112,     0.12212,     0.12312,     0.12412,     0.12513,     0.12613,     0.12713,     0.12813,     0.12913,     0.13013,     0.13113,     0.13213,     0.13313,     0.13413,     0.13514,     0.13614,     0.13714,     0.13814,     0.13914,     0.14014,     0.14114,     0.14214,     0.14314,\n",
      "           0.14414,     0.14515,     0.14615,     0.14715,     0.14815,     0.14915,     0.15015,     0.15115,     0.15215,     0.15315,     0.15415,     0.15516,     0.15616,     0.15716,     0.15816,     0.15916,     0.16016,     0.16116,     0.16216,     0.16316,     0.16416,     0.16517,     0.16617,     0.16717,\n",
      "           0.16817,     0.16917,     0.17017,     0.17117,     0.17217,     0.17317,     0.17417,     0.17518,     0.17618,     0.17718,     0.17818,     0.17918,     0.18018,     0.18118,     0.18218,     0.18318,     0.18418,     0.18519,     0.18619,     0.18719,     0.18819,     0.18919,     0.19019,     0.19119,\n",
      "           0.19219,     0.19319,     0.19419,      0.1952,      0.1962,      0.1972,      0.1982,      0.1992,      0.2002,      0.2012,      0.2022,      0.2032,      0.2042,     0.20521,     0.20621,     0.20721,     0.20821,     0.20921,     0.21021,     0.21121,     0.21221,     0.21321,     0.21421,     0.21522,\n",
      "           0.21622,     0.21722,     0.21822,     0.21922,     0.22022,     0.22122,     0.22222,     0.22322,     0.22422,     0.22523,     0.22623,     0.22723,     0.22823,     0.22923,     0.23023,     0.23123,     0.23223,     0.23323,     0.23423,     0.23524,     0.23624,     0.23724,     0.23824,     0.23924,\n",
      "           0.24024,     0.24124,     0.24224,     0.24324,     0.24424,     0.24525,     0.24625,     0.24725,     0.24825,     0.24925,     0.25025,     0.25125,     0.25225,     0.25325,     0.25425,     0.25526,     0.25626,     0.25726,     0.25826,     0.25926,     0.26026,     0.26126,     0.26226,     0.26326,\n",
      "           0.26426,     0.26527,     0.26627,     0.26727,     0.26827,     0.26927,     0.27027,     0.27127,     0.27227,     0.27327,     0.27427,     0.27528,     0.27628,     0.27728,     0.27828,     0.27928,     0.28028,     0.28128,     0.28228,     0.28328,     0.28428,     0.28529,     0.28629,     0.28729,\n",
      "           0.28829,     0.28929,     0.29029,     0.29129,     0.29229,     0.29329,     0.29429,      0.2953,      0.2963,      0.2973,      0.2983,      0.2993,      0.3003,      0.3013,      0.3023,      0.3033,      0.3043,     0.30531,     0.30631,     0.30731,     0.30831,     0.30931,     0.31031,     0.31131,\n",
      "           0.31231,     0.31331,     0.31431,     0.31532,     0.31632,     0.31732,     0.31832,     0.31932,     0.32032,     0.32132,     0.32232,     0.32332,     0.32432,     0.32533,     0.32633,     0.32733,     0.32833,     0.32933,     0.33033,     0.33133,     0.33233,     0.33333,     0.33433,     0.33534,\n",
      "           0.33634,     0.33734,     0.33834,     0.33934,     0.34034,     0.34134,     0.34234,     0.34334,     0.34434,     0.34535,     0.34635,     0.34735,     0.34835,     0.34935,     0.35035,     0.35135,     0.35235,     0.35335,     0.35435,     0.35536,     0.35636,     0.35736,     0.35836,     0.35936,\n",
      "           0.36036,     0.36136,     0.36236,     0.36336,     0.36436,     0.36537,     0.36637,     0.36737,     0.36837,     0.36937,     0.37037,     0.37137,     0.37237,     0.37337,     0.37437,     0.37538,     0.37638,     0.37738,     0.37838,     0.37938,     0.38038,     0.38138,     0.38238,     0.38338,\n",
      "           0.38438,     0.38539,     0.38639,     0.38739,     0.38839,     0.38939,     0.39039,     0.39139,     0.39239,     0.39339,     0.39439,      0.3954,      0.3964,      0.3974,      0.3984,      0.3994,      0.4004,      0.4014,      0.4024,      0.4034,      0.4044,     0.40541,     0.40641,     0.40741,\n",
      "           0.40841,     0.40941,     0.41041,     0.41141,     0.41241,     0.41341,     0.41441,     0.41542,     0.41642,     0.41742,     0.41842,     0.41942,     0.42042,     0.42142,     0.42242,     0.42342,     0.42442,     0.42543,     0.42643,     0.42743,     0.42843,     0.42943,     0.43043,     0.43143,\n",
      "           0.43243,     0.43343,     0.43443,     0.43544,     0.43644,     0.43744,     0.43844,     0.43944,     0.44044,     0.44144,     0.44244,     0.44344,     0.44444,     0.44545,     0.44645,     0.44745,     0.44845,     0.44945,     0.45045,     0.45145,     0.45245,     0.45345,     0.45445,     0.45546,\n",
      "           0.45646,     0.45746,     0.45846,     0.45946,     0.46046,     0.46146,     0.46246,     0.46346,     0.46446,     0.46547,     0.46647,     0.46747,     0.46847,     0.46947,     0.47047,     0.47147,     0.47247,     0.47347,     0.47447,     0.47548,     0.47648,     0.47748,     0.47848,     0.47948,\n",
      "           0.48048,     0.48148,     0.48248,     0.48348,     0.48448,     0.48549,     0.48649,     0.48749,     0.48849,     0.48949,     0.49049,     0.49149,     0.49249,     0.49349,     0.49449,      0.4955,      0.4965,      0.4975,      0.4985,      0.4995,      0.5005,      0.5015,      0.5025,      0.5035,\n",
      "            0.5045,     0.50551,     0.50651,     0.50751,     0.50851,     0.50951,     0.51051,     0.51151,     0.51251,     0.51351,     0.51451,     0.51552,     0.51652,     0.51752,     0.51852,     0.51952,     0.52052,     0.52152,     0.52252,     0.52352,     0.52452,     0.52553,     0.52653,     0.52753,\n",
      "           0.52853,     0.52953,     0.53053,     0.53153,     0.53253,     0.53353,     0.53453,     0.53554,     0.53654,     0.53754,     0.53854,     0.53954,     0.54054,     0.54154,     0.54254,     0.54354,     0.54454,     0.54555,     0.54655,     0.54755,     0.54855,     0.54955,     0.55055,     0.55155,\n",
      "           0.55255,     0.55355,     0.55455,     0.55556,     0.55656,     0.55756,     0.55856,     0.55956,     0.56056,     0.56156,     0.56256,     0.56356,     0.56456,     0.56557,     0.56657,     0.56757,     0.56857,     0.56957,     0.57057,     0.57157,     0.57257,     0.57357,     0.57457,     0.57558,\n",
      "           0.57658,     0.57758,     0.57858,     0.57958,     0.58058,     0.58158,     0.58258,     0.58358,     0.58458,     0.58559,     0.58659,     0.58759,     0.58859,     0.58959,     0.59059,     0.59159,     0.59259,     0.59359,     0.59459,      0.5956,      0.5966,      0.5976,      0.5986,      0.5996,\n",
      "            0.6006,      0.6016,      0.6026,      0.6036,      0.6046,     0.60561,     0.60661,     0.60761,     0.60861,     0.60961,     0.61061,     0.61161,     0.61261,     0.61361,     0.61461,     0.61562,     0.61662,     0.61762,     0.61862,     0.61962,     0.62062,     0.62162,     0.62262,     0.62362,\n",
      "           0.62462,     0.62563,     0.62663,     0.62763,     0.62863,     0.62963,     0.63063,     0.63163,     0.63263,     0.63363,     0.63463,     0.63564,     0.63664,     0.63764,     0.63864,     0.63964,     0.64064,     0.64164,     0.64264,     0.64364,     0.64464,     0.64565,     0.64665,     0.64765,\n",
      "           0.64865,     0.64965,     0.65065,     0.65165,     0.65265,     0.65365,     0.65465,     0.65566,     0.65666,     0.65766,     0.65866,     0.65966,     0.66066,     0.66166,     0.66266,     0.66366,     0.66466,     0.66567,     0.66667,     0.66767,     0.66867,     0.66967,     0.67067,     0.67167,\n",
      "           0.67267,     0.67367,     0.67467,     0.67568,     0.67668,     0.67768,     0.67868,     0.67968,     0.68068,     0.68168,     0.68268,     0.68368,     0.68468,     0.68569,     0.68669,     0.68769,     0.68869,     0.68969,     0.69069,     0.69169,     0.69269,     0.69369,     0.69469,      0.6957,\n",
      "            0.6967,      0.6977,      0.6987,      0.6997,      0.7007,      0.7017,      0.7027,      0.7037,      0.7047,     0.70571,     0.70671,     0.70771,     0.70871,     0.70971,     0.71071,     0.71171,     0.71271,     0.71371,     0.71471,     0.71572,     0.71672,     0.71772,     0.71872,     0.71972,\n",
      "           0.72072,     0.72172,     0.72272,     0.72372,     0.72472,     0.72573,     0.72673,     0.72773,     0.72873,     0.72973,     0.73073,     0.73173,     0.73273,     0.73373,     0.73473,     0.73574,     0.73674,     0.73774,     0.73874,     0.73974,     0.74074,     0.74174,     0.74274,     0.74374,\n",
      "           0.74474,     0.74575,     0.74675,     0.74775,     0.74875,     0.74975,     0.75075,     0.75175,     0.75275,     0.75375,     0.75475,     0.75576,     0.75676,     0.75776,     0.75876,     0.75976,     0.76076,     0.76176,     0.76276,     0.76376,     0.76476,     0.76577,     0.76677,     0.76777,\n",
      "           0.76877,     0.76977,     0.77077,     0.77177,     0.77277,     0.77377,     0.77477,     0.77578,     0.77678,     0.77778,     0.77878,     0.77978,     0.78078,     0.78178,     0.78278,     0.78378,     0.78478,     0.78579,     0.78679,     0.78779,     0.78879,     0.78979,     0.79079,     0.79179,\n",
      "           0.79279,     0.79379,     0.79479,      0.7958,      0.7968,      0.7978,      0.7988,      0.7998,      0.8008,      0.8018,      0.8028,      0.8038,      0.8048,     0.80581,     0.80681,     0.80781,     0.80881,     0.80981,     0.81081,     0.81181,     0.81281,     0.81381,     0.81481,     0.81582,\n",
      "           0.81682,     0.81782,     0.81882,     0.81982,     0.82082,     0.82182,     0.82282,     0.82382,     0.82482,     0.82583,     0.82683,     0.82783,     0.82883,     0.82983,     0.83083,     0.83183,     0.83283,     0.83383,     0.83483,     0.83584,     0.83684,     0.83784,     0.83884,     0.83984,\n",
      "           0.84084,     0.84184,     0.84284,     0.84384,     0.84484,     0.84585,     0.84685,     0.84785,     0.84885,     0.84985,     0.85085,     0.85185,     0.85285,     0.85385,     0.85485,     0.85586,     0.85686,     0.85786,     0.85886,     0.85986,     0.86086,     0.86186,     0.86286,     0.86386,\n",
      "           0.86486,     0.86587,     0.86687,     0.86787,     0.86887,     0.86987,     0.87087,     0.87187,     0.87287,     0.87387,     0.87487,     0.87588,     0.87688,     0.87788,     0.87888,     0.87988,     0.88088,     0.88188,     0.88288,     0.88388,     0.88488,     0.88589,     0.88689,     0.88789,\n",
      "           0.88889,     0.88989,     0.89089,     0.89189,     0.89289,     0.89389,     0.89489,      0.8959,      0.8969,      0.8979,      0.8989,      0.8999,      0.9009,      0.9019,      0.9029,      0.9039,      0.9049,     0.90591,     0.90691,     0.90791,     0.90891,     0.90991,     0.91091,     0.91191,\n",
      "           0.91291,     0.91391,     0.91491,     0.91592,     0.91692,     0.91792,     0.91892,     0.91992,     0.92092,     0.92192,     0.92292,     0.92392,     0.92492,     0.92593,     0.92693,     0.92793,     0.92893,     0.92993,     0.93093,     0.93193,     0.93293,     0.93393,     0.93493,     0.93594,\n",
      "           0.93694,     0.93794,     0.93894,     0.93994,     0.94094,     0.94194,     0.94294,     0.94394,     0.94494,     0.94595,     0.94695,     0.94795,     0.94895,     0.94995,     0.95095,     0.95195,     0.95295,     0.95395,     0.95495,     0.95596,     0.95696,     0.95796,     0.95896,     0.95996,\n",
      "           0.96096,     0.96196,     0.96296,     0.96396,     0.96496,     0.96597,     0.96697,     0.96797,     0.96897,     0.96997,     0.97097,     0.97197,     0.97297,     0.97397,     0.97497,     0.97598,     0.97698,     0.97798,     0.97898,     0.97998,     0.98098,     0.98198,     0.98298,     0.98398,\n",
      "           0.98498,     0.98599,     0.98699,     0.98799,     0.98899,     0.98999,     0.99099,     0.99199,     0.99299,     0.99399,     0.99499,       0.996,       0.997,       0.998,       0.999,           1]), array([[     0.1013,     0.10133,     0.14837,     0.17539,     0.19993,     0.21704,     0.22703,     0.24185,     0.25568,     0.26413,      0.2716,     0.27737,      0.2865,      0.2961,     0.30103,     0.30672,     0.31031,     0.31418,     0.31585,     0.32011,     0.32768,     0.33085,     0.33597,\n",
      "            0.34194,     0.34619,     0.34731,     0.35081,     0.35254,     0.35548,     0.35999,     0.36151,     0.36506,     0.36729,     0.37097,     0.37199,     0.37396,       0.375,     0.37302,     0.37443,     0.37398,     0.37788,     0.37871,     0.37997,     0.38146,     0.38403,     0.38827,\n",
      "             0.3874,      0.3878,     0.38918,     0.38971,     0.39059,     0.39271,     0.39414,     0.39512,     0.40091,     0.40454,     0.40647,     0.40844,     0.40922,     0.40997,      0.4126,     0.41357,     0.41303,      0.4123,     0.41432,     0.41479,     0.41598,     0.41649,     0.41382,\n",
      "            0.41423,     0.41479,     0.41621,     0.41725,     0.41804,     0.41878,      0.4194,     0.42008,     0.42061,     0.42195,     0.42355,     0.42503,     0.42577,     0.42813,     0.43032,     0.43295,     0.43434,     0.43467,     0.43499,      0.4334,     0.43252,     0.43374,     0.43401,\n",
      "            0.43428,     0.43455,     0.43636,     0.43744,      0.4393,     0.44023,     0.44063,     0.44106,     0.44151,     0.44274,     0.44295,     0.44317,     0.44338,     0.44381,     0.44482,     0.44804,     0.44517,     0.44565,      0.4464,     0.44717,     0.44966,     0.45015,     0.45074,\n",
      "             0.4516,      0.4523,     0.45455,     0.45517,     0.45731,     0.45883,     0.45969,     0.46029,     0.46058,     0.46087,     0.46116,     0.46164,     0.46216,      0.4638,      0.4656,     0.46625,     0.46664,     0.46703,      0.4674,     0.46775,      0.4681,     0.46928,     0.46763,\n",
      "            0.46595,     0.46342,      0.4631,     0.46459,     0.46489,     0.46518,     0.46546,     0.46673,     0.46693,     0.46713,     0.46733,     0.46752,     0.46783,     0.46921,     0.46658,     0.46712,     0.46833,     0.46664,     0.46374,     0.46471,     0.46588,     0.46625,     0.46662,\n",
      "            0.46762,     0.46868,     0.46785,     0.46625,     0.46766,     0.46813,     0.46861,     0.46919,     0.46979,     0.47092,      0.4737,     0.47442,     0.47505,     0.47655,     0.47691,     0.47726,     0.47758,     0.47775,     0.47793,     0.47811,     0.47828,     0.47846,     0.47864,\n",
      "            0.47903,     0.47949,     0.48008,     0.48105,     0.48214,     0.48243,     0.48271,       0.483,     0.48331,     0.48375,     0.48419,     0.48453,     0.48478,     0.48503,     0.48527,     0.48552,     0.48576,     0.48599,     0.48622,     0.48646,     0.48669,     0.48743,     0.48806,\n",
      "            0.48836,     0.48866,     0.48896,     0.48965,     0.49156,     0.49199,     0.49242,     0.49286,     0.49332,     0.49378,     0.49301,     0.49186,     0.49072,     0.49065,     0.49143,      0.4917,     0.49198,     0.49226,     0.49253,     0.49395,     0.49473,     0.49529,      0.4957,\n",
      "            0.49611,     0.49663,     0.49723,     0.49883,     0.49903,     0.49923,     0.49944,     0.49964,     0.49984,     0.50005,     0.50026,     0.50047,     0.50069,      0.5009,     0.50111,     0.50076,     0.49932,     0.49787,     0.49776,     0.49812,     0.49848,     0.49893,     0.49959,\n",
      "            0.50026,     0.50094,     0.50158,     0.50219,     0.50276,      0.5033,     0.50375,     0.50149,     0.50086,     0.50202,      0.5027,     0.50305,      0.5034,     0.50375,     0.50421,     0.50471,      0.5052,     0.50562,     0.50603,     0.50644,     0.50724,     0.50609,     0.50494,\n",
      "            0.50391,     0.50403,     0.50415,     0.50427,     0.50439,     0.50451,     0.50464,     0.50476,     0.50488,       0.505,     0.50512,     0.50528,     0.50553,     0.50579,     0.50605,     0.50631,     0.50668,      0.5078,     0.50801,     0.50817,     0.50834,      0.5085,     0.50867,\n",
      "            0.50883,     0.50899,     0.50916,     0.50997,      0.5109,     0.51181,     0.51241,     0.51298,     0.51481,     0.51565,     0.51736,      0.5186,     0.51836,     0.51812,     0.51788,     0.51764,      0.5174,     0.51716,     0.51692,     0.51668,     0.51644,      0.5162,     0.51596,\n",
      "            0.51572,     0.51548,     0.51524,       0.515,     0.51476,     0.51084,     0.51161,     0.51217,     0.51231,     0.51245,     0.51259,     0.51273,     0.51287,     0.51301,     0.51315,     0.51329,     0.51343,     0.51107,     0.50868,     0.50756,     0.50645,     0.50547,     0.50587,\n",
      "            0.50626,     0.50666,     0.50703,     0.50738,     0.50772,     0.50807,     0.50986,     0.51035,     0.51083,     0.50727,     0.50796,     0.50904,     0.51127,     0.51222,     0.51218,     0.51165,     0.51112,     0.51059,     0.51005,     0.50952,     0.50899,     0.50846,     0.50792,\n",
      "            0.50738,     0.50685,     0.50631,     0.50577,     0.50524,      0.5047,     0.50422,      0.5045,     0.50478,     0.50506,     0.50534,     0.50562,     0.50575,     0.50589,     0.50603,     0.50616,      0.5063,     0.50643,     0.50657,      0.5067,     0.50684,     0.50697,     0.50617,\n",
      "             0.5044,     0.50296,     0.50399,     0.49927,      0.4966,     0.49714,     0.49861,     0.49879,     0.49898,     0.49916,     0.49934,     0.49953,     0.49971,     0.49989,     0.50008,     0.50027,     0.50047,     0.50066,     0.50086,     0.50105,     0.50124,     0.50144,     0.50196,\n",
      "            0.50249,       0.503,     0.50343,     0.50387,      0.5043,     0.50491,     0.50555,     0.50666,     0.50772,      0.5085,     0.50901,     0.50938,     0.50974,     0.51011,     0.51208,     0.51281,     0.51334,     0.51353,     0.51372,     0.51391,      0.5141,     0.51428,     0.51447,\n",
      "            0.51466,     0.51317,     0.51051,     0.51074,     0.51098,     0.51122,     0.51145,     0.51169,     0.51198,     0.51292,     0.51359,     0.51396,     0.51432,     0.51468,     0.51542,     0.51511,     0.51243,     0.51227,     0.51252,     0.51277,     0.51302,     0.51327,     0.51352,\n",
      "            0.51372,     0.51389,     0.51406,     0.51423,      0.5144,     0.51456,     0.51473,      0.5149,     0.51507,     0.51651,     0.51683,     0.51696,     0.51708,     0.51721,     0.51734,     0.51746,     0.51759,     0.51771,     0.51784,     0.51796,     0.51809,     0.51821,     0.51876,\n",
      "            0.52003,      0.5213,     0.52183,     0.52223,     0.52264,     0.52304,     0.52333,     0.52361,     0.52388,     0.52416,     0.52443,     0.52315,     0.52044,     0.52081,     0.52118,     0.52154,      0.5216,      0.5213,       0.521,      0.5207,      0.5204,      0.5201,      0.5198,\n",
      "             0.5195,      0.5192,      0.5189,     0.51859,     0.51829,     0.51799,     0.51769,     0.51739,     0.51689,     0.51523,     0.51358,      0.5127,     0.51325,      0.5138,     0.51556,     0.51781,      0.5196,     0.52068,     0.52127,     0.52186,     0.51739,     0.51597,     0.51454,\n",
      "            0.51311,     0.51228,     0.51161,     0.51093,     0.51026,     0.50958,      0.5089,     0.50823,     0.50816,     0.50833,     0.50851,     0.50868,     0.50885,     0.50902,     0.50919,     0.50936,     0.50953,     0.50858,     0.50535,     0.50628,     0.50837,     0.50882,     0.50926,\n",
      "             0.5097,     0.51058,     0.51165,       0.513,     0.51188,     0.51076,     0.50964,     0.50852,     0.50786,     0.50734,     0.50682,      0.5063,     0.50579,     0.50527,     0.50475,     0.50423,     0.50371,     0.50336,     0.50356,     0.50377,     0.50398,     0.50418,     0.50439,\n",
      "            0.50459,      0.5048,     0.50503,      0.5055,     0.50598,     0.50645,     0.50766,     0.50886,     0.50966,     0.51071,     0.51108,     0.50618,     0.50317,      0.5023,     0.50143,     0.50055,     0.49968,      0.4988,     0.49841,     0.49869,     0.49897,     0.49925,     0.49953,\n",
      "            0.49981,     0.49979,     0.49914,      0.4985,     0.49785,      0.4972,     0.49655,      0.4959,     0.49525,     0.49454,     0.49375,     0.49296,     0.49217,     0.49138,     0.49059,     0.48979,     0.49067,     0.49045,     0.48841,     0.48637,      0.4866,     0.48715,      0.4877,\n",
      "            0.48498,       0.482,     0.48022,     0.47844,     0.47749,     0.47849,     0.47936,     0.48014,     0.48109,     0.48223,     0.47738,     0.47793,     0.47847,     0.47916,     0.47988,     0.48044,      0.4808,     0.48115,      0.4815,     0.48185,     0.48163,     0.48091,     0.48019,\n",
      "            0.47947,     0.47875,     0.47803,     0.47731,     0.47658,     0.47579,     0.47498,     0.47418,     0.47337,     0.47257,     0.47176,     0.47103,      0.4713,     0.47156,     0.47182,     0.47208,     0.47234,      0.4726,     0.47307,     0.47375,     0.47442,     0.46951,     0.46913,\n",
      "            0.46943,     0.46974,     0.47004,     0.47034,     0.46479,     0.46375,      0.4627,     0.46166,     0.46061,     0.45957,      0.4585,     0.45741,     0.45633,     0.45525,     0.45416,     0.45366,     0.45395,     0.45424,     0.45454,     0.45483,     0.45512,     0.45534,     0.45551,\n",
      "            0.45569,     0.45586,     0.45603,      0.4562,     0.45638,     0.45655,     0.45672,     0.45689,     0.45743,     0.45808,     0.45726,     0.45002,     0.44661,     0.44535,     0.44409,     0.44283,     0.44157,     0.44188,     0.44097,     0.42489,     0.42502,     0.42533,     0.42563,\n",
      "            0.42594,     0.42624,     0.42371,     0.41965,     0.41647,     0.41312,     0.40923,     0.39505,     0.39326,     0.39146,     0.38967,     0.38829,     0.38723,     0.38617,     0.38511,     0.38405,     0.38299,     0.38402,     0.38423,     0.38445,     0.38466,     0.38488,     0.38509,\n",
      "             0.3853,     0.38551,     0.38576,     0.38601,     0.38626,      0.3865,     0.38675,       0.387,     0.38451,     0.37669,     0.36725,     0.36582,     0.36439,     0.36296,     0.36153,     0.35976,     0.35747,     0.35518,     0.35347,     0.35249,      0.3515,     0.35052,     0.34953,\n",
      "            0.34854,     0.34755,     0.34765,     0.34815,     0.34239,     0.33364,     0.33182,     0.32999,     0.32815,     0.32593,     0.32358,     0.32123,     0.31791,     0.31429,     0.31452,      0.3156,     0.31256,      0.3095,      0.3098,     0.31057,     0.31112,     0.31166,     0.30595,\n",
      "            0.30259,      0.3002,      0.2978,     0.28901,     0.28672,     0.28443,     0.28214,     0.28058,     0.27909,      0.2776,      0.2761,      0.2746,     0.27452,     0.27475,     0.27497,     0.27519,     0.27541,     0.27381,     0.26866,     0.25751,     0.25432,     0.25196,     0.25114,\n",
      "            0.25032,      0.2495,     0.24868,     0.24786,     0.24703,     0.24621,     0.24538,     0.24456,     0.24329,     0.24186,     0.24043,       0.239,     0.23757,     0.23586,     0.23262,     0.22938,     0.22529,     0.22077,     0.21102,     0.20686,     0.20273,     0.19873,     0.19615,\n",
      "             0.1952,     0.19426,     0.19332,     0.19237,     0.19143,     0.19048,     0.18953,     0.18858,     0.18723,     0.18386,     0.18049,     0.17798,     0.17599,     0.17399,     0.17199,      0.1669,     0.14288,     0.13702,     0.12562,      0.1245,     0.12337,     0.12225,     0.12112,\n",
      "            0.11999,     0.11886,     0.11773,      0.1112,     0.10569,     0.10286,     0.10002,    0.095496,     0.08911,    0.089439,    0.088542,    0.086932,    0.085319,    0.083705,    0.082088,    0.080469,    0.080046,    0.080108,    0.080169,    0.080228,    0.080285,    0.080341,    0.080395,\n",
      "           0.070294,    0.069465,    0.068636,    0.067806,    0.066975,    0.066143,    0.065311,    0.064479,    0.063646,    0.062812,    0.061977,    0.061142,    0.054539,    0.049146,    0.046019,    0.042884,    0.040826,    0.040337,    0.039848,    0.039358,    0.038869,    0.038379,    0.037889,\n",
      "           0.037399,    0.036909,    0.036419,    0.035928,    0.035437,    0.034946,    0.034455,    0.033964,    0.033472,     0.03298,    0.032488,    0.031996,    0.031504,    0.031011,    0.026654,    0.021493,    0.020759,     0.02079,    0.020815,    0.020659,    0.019468,    0.018276,    0.017082,\n",
      "           0.015887,    0.014691,    0.013493,    0.012293,    0.011092,           0,           0,           0,           0,           0,           0,           0,           0,           0,           0,           0,           0,           0,           0,           0,           0,           0,           0,\n",
      "                  0,           0,           0,           0,           0,           0,           0,           0,           0,           0,           0,           0,           0,           0,           0,           0,           0,           0,           0,           0,           0,           0,           0,\n",
      "                  0,           0,           0,           0,           0,           0,           0,           0,           0,           0,           0,           0,           0,           0,           0,           0,           0,           0,           0,           0,           0,           0,           0,\n",
      "                  0,           0,           0,           0,           0,           0,           0,           0,           0,           0,           0]]), 'Confidence', 'F1'], [array([          0,    0.001001,    0.002002,    0.003003,    0.004004,    0.005005,    0.006006,    0.007007,    0.008008,    0.009009,     0.01001,    0.011011,    0.012012,    0.013013,    0.014014,    0.015015,    0.016016,    0.017017,    0.018018,    0.019019,     0.02002,    0.021021,    0.022022,    0.023023,\n",
      "          0.024024,    0.025025,    0.026026,    0.027027,    0.028028,    0.029029,     0.03003,    0.031031,    0.032032,    0.033033,    0.034034,    0.035035,    0.036036,    0.037037,    0.038038,    0.039039,     0.04004,    0.041041,    0.042042,    0.043043,    0.044044,    0.045045,    0.046046,    0.047047,\n",
      "          0.048048,    0.049049,     0.05005,    0.051051,    0.052052,    0.053053,    0.054054,    0.055055,    0.056056,    0.057057,    0.058058,    0.059059,     0.06006,    0.061061,    0.062062,    0.063063,    0.064064,    0.065065,    0.066066,    0.067067,    0.068068,    0.069069,     0.07007,    0.071071,\n",
      "          0.072072,    0.073073,    0.074074,    0.075075,    0.076076,    0.077077,    0.078078,    0.079079,     0.08008,    0.081081,    0.082082,    0.083083,    0.084084,    0.085085,    0.086086,    0.087087,    0.088088,    0.089089,     0.09009,    0.091091,    0.092092,    0.093093,    0.094094,    0.095095,\n",
      "          0.096096,    0.097097,    0.098098,    0.099099,      0.1001,      0.1011,      0.1021,      0.1031,      0.1041,     0.10511,     0.10611,     0.10711,     0.10811,     0.10911,     0.11011,     0.11111,     0.11211,     0.11311,     0.11411,     0.11512,     0.11612,     0.11712,     0.11812,     0.11912,\n",
      "           0.12012,     0.12112,     0.12212,     0.12312,     0.12412,     0.12513,     0.12613,     0.12713,     0.12813,     0.12913,     0.13013,     0.13113,     0.13213,     0.13313,     0.13413,     0.13514,     0.13614,     0.13714,     0.13814,     0.13914,     0.14014,     0.14114,     0.14214,     0.14314,\n",
      "           0.14414,     0.14515,     0.14615,     0.14715,     0.14815,     0.14915,     0.15015,     0.15115,     0.15215,     0.15315,     0.15415,     0.15516,     0.15616,     0.15716,     0.15816,     0.15916,     0.16016,     0.16116,     0.16216,     0.16316,     0.16416,     0.16517,     0.16617,     0.16717,\n",
      "           0.16817,     0.16917,     0.17017,     0.17117,     0.17217,     0.17317,     0.17417,     0.17518,     0.17618,     0.17718,     0.17818,     0.17918,     0.18018,     0.18118,     0.18218,     0.18318,     0.18418,     0.18519,     0.18619,     0.18719,     0.18819,     0.18919,     0.19019,     0.19119,\n",
      "           0.19219,     0.19319,     0.19419,      0.1952,      0.1962,      0.1972,      0.1982,      0.1992,      0.2002,      0.2012,      0.2022,      0.2032,      0.2042,     0.20521,     0.20621,     0.20721,     0.20821,     0.20921,     0.21021,     0.21121,     0.21221,     0.21321,     0.21421,     0.21522,\n",
      "           0.21622,     0.21722,     0.21822,     0.21922,     0.22022,     0.22122,     0.22222,     0.22322,     0.22422,     0.22523,     0.22623,     0.22723,     0.22823,     0.22923,     0.23023,     0.23123,     0.23223,     0.23323,     0.23423,     0.23524,     0.23624,     0.23724,     0.23824,     0.23924,\n",
      "           0.24024,     0.24124,     0.24224,     0.24324,     0.24424,     0.24525,     0.24625,     0.24725,     0.24825,     0.24925,     0.25025,     0.25125,     0.25225,     0.25325,     0.25425,     0.25526,     0.25626,     0.25726,     0.25826,     0.25926,     0.26026,     0.26126,     0.26226,     0.26326,\n",
      "           0.26426,     0.26527,     0.26627,     0.26727,     0.26827,     0.26927,     0.27027,     0.27127,     0.27227,     0.27327,     0.27427,     0.27528,     0.27628,     0.27728,     0.27828,     0.27928,     0.28028,     0.28128,     0.28228,     0.28328,     0.28428,     0.28529,     0.28629,     0.28729,\n",
      "           0.28829,     0.28929,     0.29029,     0.29129,     0.29229,     0.29329,     0.29429,      0.2953,      0.2963,      0.2973,      0.2983,      0.2993,      0.3003,      0.3013,      0.3023,      0.3033,      0.3043,     0.30531,     0.30631,     0.30731,     0.30831,     0.30931,     0.31031,     0.31131,\n",
      "           0.31231,     0.31331,     0.31431,     0.31532,     0.31632,     0.31732,     0.31832,     0.31932,     0.32032,     0.32132,     0.32232,     0.32332,     0.32432,     0.32533,     0.32633,     0.32733,     0.32833,     0.32933,     0.33033,     0.33133,     0.33233,     0.33333,     0.33433,     0.33534,\n",
      "           0.33634,     0.33734,     0.33834,     0.33934,     0.34034,     0.34134,     0.34234,     0.34334,     0.34434,     0.34535,     0.34635,     0.34735,     0.34835,     0.34935,     0.35035,     0.35135,     0.35235,     0.35335,     0.35435,     0.35536,     0.35636,     0.35736,     0.35836,     0.35936,\n",
      "           0.36036,     0.36136,     0.36236,     0.36336,     0.36436,     0.36537,     0.36637,     0.36737,     0.36837,     0.36937,     0.37037,     0.37137,     0.37237,     0.37337,     0.37437,     0.37538,     0.37638,     0.37738,     0.37838,     0.37938,     0.38038,     0.38138,     0.38238,     0.38338,\n",
      "           0.38438,     0.38539,     0.38639,     0.38739,     0.38839,     0.38939,     0.39039,     0.39139,     0.39239,     0.39339,     0.39439,      0.3954,      0.3964,      0.3974,      0.3984,      0.3994,      0.4004,      0.4014,      0.4024,      0.4034,      0.4044,     0.40541,     0.40641,     0.40741,\n",
      "           0.40841,     0.40941,     0.41041,     0.41141,     0.41241,     0.41341,     0.41441,     0.41542,     0.41642,     0.41742,     0.41842,     0.41942,     0.42042,     0.42142,     0.42242,     0.42342,     0.42442,     0.42543,     0.42643,     0.42743,     0.42843,     0.42943,     0.43043,     0.43143,\n",
      "           0.43243,     0.43343,     0.43443,     0.43544,     0.43644,     0.43744,     0.43844,     0.43944,     0.44044,     0.44144,     0.44244,     0.44344,     0.44444,     0.44545,     0.44645,     0.44745,     0.44845,     0.44945,     0.45045,     0.45145,     0.45245,     0.45345,     0.45445,     0.45546,\n",
      "           0.45646,     0.45746,     0.45846,     0.45946,     0.46046,     0.46146,     0.46246,     0.46346,     0.46446,     0.46547,     0.46647,     0.46747,     0.46847,     0.46947,     0.47047,     0.47147,     0.47247,     0.47347,     0.47447,     0.47548,     0.47648,     0.47748,     0.47848,     0.47948,\n",
      "           0.48048,     0.48148,     0.48248,     0.48348,     0.48448,     0.48549,     0.48649,     0.48749,     0.48849,     0.48949,     0.49049,     0.49149,     0.49249,     0.49349,     0.49449,      0.4955,      0.4965,      0.4975,      0.4985,      0.4995,      0.5005,      0.5015,      0.5025,      0.5035,\n",
      "            0.5045,     0.50551,     0.50651,     0.50751,     0.50851,     0.50951,     0.51051,     0.51151,     0.51251,     0.51351,     0.51451,     0.51552,     0.51652,     0.51752,     0.51852,     0.51952,     0.52052,     0.52152,     0.52252,     0.52352,     0.52452,     0.52553,     0.52653,     0.52753,\n",
      "           0.52853,     0.52953,     0.53053,     0.53153,     0.53253,     0.53353,     0.53453,     0.53554,     0.53654,     0.53754,     0.53854,     0.53954,     0.54054,     0.54154,     0.54254,     0.54354,     0.54454,     0.54555,     0.54655,     0.54755,     0.54855,     0.54955,     0.55055,     0.55155,\n",
      "           0.55255,     0.55355,     0.55455,     0.55556,     0.55656,     0.55756,     0.55856,     0.55956,     0.56056,     0.56156,     0.56256,     0.56356,     0.56456,     0.56557,     0.56657,     0.56757,     0.56857,     0.56957,     0.57057,     0.57157,     0.57257,     0.57357,     0.57457,     0.57558,\n",
      "           0.57658,     0.57758,     0.57858,     0.57958,     0.58058,     0.58158,     0.58258,     0.58358,     0.58458,     0.58559,     0.58659,     0.58759,     0.58859,     0.58959,     0.59059,     0.59159,     0.59259,     0.59359,     0.59459,      0.5956,      0.5966,      0.5976,      0.5986,      0.5996,\n",
      "            0.6006,      0.6016,      0.6026,      0.6036,      0.6046,     0.60561,     0.60661,     0.60761,     0.60861,     0.60961,     0.61061,     0.61161,     0.61261,     0.61361,     0.61461,     0.61562,     0.61662,     0.61762,     0.61862,     0.61962,     0.62062,     0.62162,     0.62262,     0.62362,\n",
      "           0.62462,     0.62563,     0.62663,     0.62763,     0.62863,     0.62963,     0.63063,     0.63163,     0.63263,     0.63363,     0.63463,     0.63564,     0.63664,     0.63764,     0.63864,     0.63964,     0.64064,     0.64164,     0.64264,     0.64364,     0.64464,     0.64565,     0.64665,     0.64765,\n",
      "           0.64865,     0.64965,     0.65065,     0.65165,     0.65265,     0.65365,     0.65465,     0.65566,     0.65666,     0.65766,     0.65866,     0.65966,     0.66066,     0.66166,     0.66266,     0.66366,     0.66466,     0.66567,     0.66667,     0.66767,     0.66867,     0.66967,     0.67067,     0.67167,\n",
      "           0.67267,     0.67367,     0.67467,     0.67568,     0.67668,     0.67768,     0.67868,     0.67968,     0.68068,     0.68168,     0.68268,     0.68368,     0.68468,     0.68569,     0.68669,     0.68769,     0.68869,     0.68969,     0.69069,     0.69169,     0.69269,     0.69369,     0.69469,      0.6957,\n",
      "            0.6967,      0.6977,      0.6987,      0.6997,      0.7007,      0.7017,      0.7027,      0.7037,      0.7047,     0.70571,     0.70671,     0.70771,     0.70871,     0.70971,     0.71071,     0.71171,     0.71271,     0.71371,     0.71471,     0.71572,     0.71672,     0.71772,     0.71872,     0.71972,\n",
      "           0.72072,     0.72172,     0.72272,     0.72372,     0.72472,     0.72573,     0.72673,     0.72773,     0.72873,     0.72973,     0.73073,     0.73173,     0.73273,     0.73373,     0.73473,     0.73574,     0.73674,     0.73774,     0.73874,     0.73974,     0.74074,     0.74174,     0.74274,     0.74374,\n",
      "           0.74474,     0.74575,     0.74675,     0.74775,     0.74875,     0.74975,     0.75075,     0.75175,     0.75275,     0.75375,     0.75475,     0.75576,     0.75676,     0.75776,     0.75876,     0.75976,     0.76076,     0.76176,     0.76276,     0.76376,     0.76476,     0.76577,     0.76677,     0.76777,\n",
      "           0.76877,     0.76977,     0.77077,     0.77177,     0.77277,     0.77377,     0.77477,     0.77578,     0.77678,     0.77778,     0.77878,     0.77978,     0.78078,     0.78178,     0.78278,     0.78378,     0.78478,     0.78579,     0.78679,     0.78779,     0.78879,     0.78979,     0.79079,     0.79179,\n",
      "           0.79279,     0.79379,     0.79479,      0.7958,      0.7968,      0.7978,      0.7988,      0.7998,      0.8008,      0.8018,      0.8028,      0.8038,      0.8048,     0.80581,     0.80681,     0.80781,     0.80881,     0.80981,     0.81081,     0.81181,     0.81281,     0.81381,     0.81481,     0.81582,\n",
      "           0.81682,     0.81782,     0.81882,     0.81982,     0.82082,     0.82182,     0.82282,     0.82382,     0.82482,     0.82583,     0.82683,     0.82783,     0.82883,     0.82983,     0.83083,     0.83183,     0.83283,     0.83383,     0.83483,     0.83584,     0.83684,     0.83784,     0.83884,     0.83984,\n",
      "           0.84084,     0.84184,     0.84284,     0.84384,     0.84484,     0.84585,     0.84685,     0.84785,     0.84885,     0.84985,     0.85085,     0.85185,     0.85285,     0.85385,     0.85485,     0.85586,     0.85686,     0.85786,     0.85886,     0.85986,     0.86086,     0.86186,     0.86286,     0.86386,\n",
      "           0.86486,     0.86587,     0.86687,     0.86787,     0.86887,     0.86987,     0.87087,     0.87187,     0.87287,     0.87387,     0.87487,     0.87588,     0.87688,     0.87788,     0.87888,     0.87988,     0.88088,     0.88188,     0.88288,     0.88388,     0.88488,     0.88589,     0.88689,     0.88789,\n",
      "           0.88889,     0.88989,     0.89089,     0.89189,     0.89289,     0.89389,     0.89489,      0.8959,      0.8969,      0.8979,      0.8989,      0.8999,      0.9009,      0.9019,      0.9029,      0.9039,      0.9049,     0.90591,     0.90691,     0.90791,     0.90891,     0.90991,     0.91091,     0.91191,\n",
      "           0.91291,     0.91391,     0.91491,     0.91592,     0.91692,     0.91792,     0.91892,     0.91992,     0.92092,     0.92192,     0.92292,     0.92392,     0.92492,     0.92593,     0.92693,     0.92793,     0.92893,     0.92993,     0.93093,     0.93193,     0.93293,     0.93393,     0.93493,     0.93594,\n",
      "           0.93694,     0.93794,     0.93894,     0.93994,     0.94094,     0.94194,     0.94294,     0.94394,     0.94494,     0.94595,     0.94695,     0.94795,     0.94895,     0.94995,     0.95095,     0.95195,     0.95295,     0.95395,     0.95495,     0.95596,     0.95696,     0.95796,     0.95896,     0.95996,\n",
      "           0.96096,     0.96196,     0.96296,     0.96396,     0.96496,     0.96597,     0.96697,     0.96797,     0.96897,     0.96997,     0.97097,     0.97197,     0.97297,     0.97397,     0.97497,     0.97598,     0.97698,     0.97798,     0.97898,     0.97998,     0.98098,     0.98198,     0.98298,     0.98398,\n",
      "           0.98498,     0.98599,     0.98699,     0.98799,     0.98899,     0.98999,     0.99099,     0.99199,     0.99299,     0.99399,     0.99499,       0.996,       0.997,       0.998,       0.999,           1]), array([[   0.054731,    0.054749,    0.083367,     0.10118,     0.11787,     0.13037,     0.13814,     0.14927,     0.15995,     0.16698,       0.173,     0.17856,     0.18619,     0.19439,     0.19921,     0.20422,     0.20742,     0.21089,     0.21303,     0.21692,     0.22394,      0.2269,     0.23175,\n",
      "            0.23747,     0.24159,     0.24353,     0.24698,     0.24869,     0.25163,     0.25618,     0.25772,     0.26134,     0.26363,     0.26744,      0.2685,     0.27056,     0.27165,     0.27118,     0.27322,     0.27386,     0.27807,     0.27897,     0.28034,     0.28196,     0.28478,     0.28946,\n",
      "            0.28917,     0.29022,     0.29177,     0.29237,     0.29336,     0.29576,     0.29738,      0.2985,     0.30516,     0.30938,     0.31165,     0.31398,      0.3149,     0.31578,     0.31892,     0.32007,     0.32004,     0.32015,     0.32259,     0.32316,      0.3246,     0.32523,     0.32363,\n",
      "            0.32413,     0.32482,     0.32657,     0.32785,     0.32883,     0.32974,     0.33051,     0.33136,     0.33201,      0.3337,      0.3357,     0.33756,      0.3385,     0.34149,     0.34428,     0.34766,     0.34946,     0.34988,      0.3503,     0.34933,     0.34906,     0.35066,     0.35101,\n",
      "            0.35136,     0.35171,     0.35409,     0.35552,     0.35799,     0.35922,     0.35975,     0.36032,     0.36093,     0.36257,     0.36286,     0.36315,     0.36344,     0.36401,     0.36537,     0.36973,     0.36806,     0.36872,     0.36974,      0.3708,     0.37423,     0.37492,     0.37574,\n",
      "            0.37694,     0.37791,     0.38106,     0.38194,     0.38496,     0.38712,     0.38834,      0.3892,     0.38962,     0.39003,     0.39044,     0.39113,     0.39189,     0.39424,     0.39686,      0.3978,     0.39836,     0.39893,     0.39947,     0.39998,     0.40049,     0.40223,     0.40114,\n",
      "            0.40001,     0.39831,     0.39854,     0.40074,     0.40119,     0.40162,     0.40205,     0.40394,     0.40424,     0.40454,     0.40483,     0.40513,     0.40559,     0.40816,     0.40639,      0.4074,     0.40923,     0.40962,     0.40815,     0.40966,     0.41149,     0.41206,     0.41264,\n",
      "            0.41421,     0.41588,     0.41557,     0.41449,     0.41746,     0.41822,     0.41898,      0.4199,     0.42087,     0.42268,      0.4272,     0.42836,      0.4294,     0.43185,     0.43243,     0.43301,     0.43353,     0.43382,     0.43412,     0.43441,      0.4347,     0.43499,     0.43528,\n",
      "            0.43594,     0.43669,     0.43768,      0.4393,     0.44111,      0.4416,     0.44208,     0.44256,     0.44307,     0.44381,     0.44455,     0.44514,     0.44555,     0.44597,     0.44639,      0.4468,      0.4472,      0.4476,       0.448,      0.4484,     0.44879,     0.45006,     0.45113,\n",
      "            0.45164,     0.45215,     0.45267,     0.45385,     0.45714,     0.45789,     0.45864,      0.4594,      0.4602,       0.461,      0.4606,     0.45983,     0.45906,     0.45951,     0.46088,     0.46136,     0.46185,     0.46234,     0.46283,     0.46533,     0.46673,     0.46773,     0.46845,\n",
      "            0.46918,     0.47011,      0.4712,     0.47407,     0.47444,      0.4748,     0.47517,     0.47554,     0.47591,     0.47628,     0.47666,     0.47705,     0.47744,     0.47783,     0.47821,     0.47814,     0.47718,     0.47621,     0.47645,     0.47712,     0.47779,     0.47861,     0.47983,\n",
      "            0.48106,     0.48232,     0.48351,     0.48464,     0.48571,     0.48671,     0.48764,     0.48614,     0.48678,     0.48896,     0.49026,     0.49093,     0.49159,     0.49226,     0.49314,      0.4941,     0.49504,     0.49584,     0.49663,     0.49742,     0.49965,     0.49889,     0.49813,\n",
      "            0.49746,     0.49769,     0.49793,     0.49817,     0.49841,     0.49864,     0.49888,     0.49912,     0.49935,     0.49959,     0.49983,     0.50014,     0.50064,     0.50114,     0.50165,     0.50215,     0.50288,      0.5051,     0.50552,     0.50584,     0.50617,     0.50649,     0.50682,\n",
      "            0.50714,     0.50747,      0.5078,     0.50942,     0.51128,      0.5131,      0.5143,     0.51546,     0.51917,     0.52089,     0.52438,      0.5271,     0.52694,     0.52679,     0.52663,     0.52647,     0.52632,     0.52616,     0.52601,     0.52585,     0.52569,     0.52554,     0.52538,\n",
      "            0.52523,     0.52507,     0.52491,     0.52476,      0.5246,     0.52217,     0.52378,     0.52496,     0.52525,     0.52555,     0.52584,     0.52614,     0.52643,     0.52672,     0.52702,     0.52731,     0.52761,     0.52618,     0.52461,     0.52387,     0.52314,     0.52255,      0.5234,\n",
      "            0.52425,     0.52509,     0.52588,     0.52664,     0.52739,     0.52814,     0.53202,     0.53308,     0.53414,     0.53264,     0.53416,     0.53656,     0.54153,     0.54366,     0.54415,      0.5438,     0.54345,     0.54311,     0.54276,     0.54241,     0.54206,     0.54172,     0.54136,\n",
      "            0.54101,     0.54066,     0.54031,     0.53995,      0.5396,     0.53925,     0.53897,     0.53961,     0.54025,     0.54089,     0.54153,     0.54217,     0.54248,      0.5428,     0.54311,     0.54342,     0.54373,     0.54405,     0.54436,     0.54467,     0.54498,      0.5453,     0.54488,\n",
      "            0.54372,     0.54301,     0.54584,     0.54272,     0.54095,     0.54373,     0.54727,     0.54772,     0.54816,      0.5486,     0.54904,     0.54949,     0.54993,     0.55037,     0.55083,      0.5513,     0.55177,     0.55224,     0.55272,     0.55319,     0.55366,     0.55413,     0.55542,\n",
      "            0.55672,     0.55796,     0.55903,      0.5601,     0.56117,     0.56269,     0.56428,     0.56704,     0.56972,     0.57169,     0.57298,      0.5739,     0.57483,     0.57576,     0.58081,      0.5827,     0.58407,     0.58456,     0.58505,     0.58554,     0.58603,     0.58651,       0.587,\n",
      "            0.58749,      0.5868,     0.58536,     0.58598,      0.5866,     0.58722,     0.58785,     0.58847,     0.58925,     0.59173,     0.59354,      0.5945,     0.59547,     0.59644,     0.59844,     0.60051,     0.59883,     0.59918,     0.59988,     0.60057,     0.60126,     0.60195,     0.60264,\n",
      "            0.60317,     0.60364,     0.60411,     0.60458,     0.60505,     0.60552,     0.60598,     0.60645,     0.60692,     0.61092,     0.61183,     0.61219,     0.61254,     0.61289,     0.61325,      0.6136,     0.61395,     0.61431,     0.61466,     0.61501,     0.61536,     0.61572,     0.61725,\n",
      "            0.62086,     0.62451,     0.62602,     0.62719,     0.62836,     0.62953,     0.63037,     0.63117,     0.63197,     0.63278,     0.63358,      0.6334,     0.63253,     0.63361,     0.63469,     0.63578,     0.63628,      0.6361,     0.63592,     0.63574,     0.63555,     0.63537,     0.63519,\n",
      "            0.63501,     0.63483,     0.63465,     0.63447,     0.63429,      0.6341,     0.63392,     0.63374,     0.63344,     0.63243,     0.63142,     0.63136,     0.63304,     0.63472,     0.64013,     0.64711,     0.65273,     0.65615,     0.65803,     0.65991,     0.65843,     0.65759,     0.65675,\n",
      "            0.65591,     0.65542,     0.65502,     0.65461,     0.65421,     0.65381,     0.65341,       0.653,      0.6533,     0.65387,     0.65444,     0.65501,     0.65557,     0.65614,     0.65671,     0.65728,     0.65784,     0.65768,     0.65714,     0.66031,     0.66746,     0.66899,     0.67053,\n",
      "            0.67207,     0.67512,     0.67888,     0.68412,     0.68348,     0.68285,     0.68221,     0.68157,     0.68119,     0.68089,     0.68059,     0.68029,        0.68,      0.6797,      0.6794,      0.6791,      0.6788,     0.67874,     0.67949,     0.68024,       0.681,     0.68175,      0.6825,\n",
      "            0.68325,       0.684,     0.68485,      0.6866,     0.68835,     0.69009,     0.69461,     0.69913,     0.70217,     0.70614,      0.7099,     0.70723,     0.71141,     0.71093,     0.71045,     0.70998,      0.7095,     0.70902,     0.70922,     0.71035,     0.71149,     0.71263,     0.71377,\n",
      "            0.71491,     0.71557,     0.71522,     0.71486,     0.71451,     0.71415,      0.7138,     0.71344,     0.71309,      0.7127,     0.71227,     0.71183,     0.71139,     0.71095,     0.71051,     0.71008,     0.71428,     0.71668,     0.71555,     0.71443,     0.71639,      0.7188,     0.72121,\n",
      "             0.7201,     0.71846,     0.71747,     0.71648,     0.71714,     0.72164,     0.72561,     0.72923,     0.73364,     0.73895,      0.7387,     0.74133,     0.74396,     0.74732,     0.75083,     0.75357,     0.75532,     0.75706,      0.7588,     0.76055,     0.76117,     0.76081,     0.76045,\n",
      "            0.76009,     0.75973,     0.75937,     0.75901,     0.75865,     0.75824,     0.75783,     0.75742,     0.75701,      0.7566,     0.75619,     0.75592,     0.75727,     0.75863,     0.75998,     0.76134,     0.76269,     0.76404,     0.76653,     0.77009,     0.77365,      0.7714,     0.77253,\n",
      "            0.77418,     0.77582,     0.77747,     0.77912,      0.7777,     0.77719,     0.77668,     0.77617,     0.77566,     0.77515,     0.77462,     0.77408,     0.77354,       0.773,     0.77247,     0.77287,     0.77459,      0.7763,     0.77802,     0.77974,     0.78145,     0.78272,     0.78375,\n",
      "            0.78478,     0.78581,     0.78684,     0.78787,      0.7889,     0.78993,     0.79095,     0.79198,     0.79525,     0.79915,       0.802,      0.7987,     0.79713,     0.79654,     0.79594,     0.79535,     0.79476,     0.79986,     0.80474,     0.79719,     0.79928,     0.80146,     0.80364,\n",
      "            0.80582,       0.808,     0.80759,     0.80569,     0.80418,     0.80257,     0.80067,     0.79354,     0.79261,     0.79167,     0.79073,        0.79,     0.78943,     0.78886,      0.7883,     0.78773,     0.78716,     0.80014,     0.80201,     0.80389,     0.80577,     0.80765,     0.80953,\n",
      "            0.81141,     0.81329,     0.81548,     0.81772,     0.81996,      0.8222,     0.82444,     0.82668,     0.82639,     0.82271,     0.81813,     0.81741,     0.81669,     0.81597,     0.81525,     0.81435,     0.81316,     0.81198,     0.81109,     0.81056,     0.81003,     0.80951,     0.80898,\n",
      "            0.80846,     0.80793,     0.81357,     0.82332,     0.82037,     0.81573,     0.81473,     0.81373,     0.81273,     0.81148,     0.81015,     0.80882,     0.80689,     0.80478,      0.8171,     0.84058,     0.83902,     0.83746,     0.84892,     0.86062,      0.8691,     0.87758,     0.87566,\n",
      "            0.87424,      0.8732,     0.87216,      0.8682,     0.86712,     0.86604,     0.86496,     0.86419,     0.86345,     0.86272,     0.86198,     0.86124,      0.8648,     0.86929,     0.87378,     0.87827,     0.88276,     0.88495,      0.8827,     0.87754,       0.876,     0.87485,     0.87443,\n",
      "            0.87401,     0.87359,     0.87317,     0.87275,     0.87233,     0.87192,      0.8715,     0.87108,      0.8704,     0.86963,     0.86886,     0.86809,     0.86732,     0.86638,     0.86453,     0.86268,     0.86024,      0.8575,     0.85118,     0.84832,     0.84544,     0.84248,     0.87493,\n",
      "            0.87432,     0.87371,      0.8731,      0.8725,     0.87189,     0.87128,     0.87068,     0.87007,     0.86917,     0.86683,     0.86449,     0.86268,     0.86118,     0.85968,     0.85817,     0.85409,     0.83185,     0.82544,     0.81169,     0.81015,      0.8086,     0.80706,     0.80552,\n",
      "            0.80398,     0.80244,      0.8009,     0.79089,     0.78189,     0.77688,     0.77187,     0.76303,      0.7502,     0.79975,     0.81625,     0.81318,     0.81011,     0.80703,     0.80396,     0.80089,     0.80922,      0.8222,     0.83518,     0.84815,     0.86113,     0.87411,     0.88709,\n",
      "            0.87424,     0.87273,     0.87121,     0.86969,     0.86818,     0.86666,     0.86514,     0.86363,     0.86211,     0.86059,     0.85907,     0.85756,     0.84178,     0.82706,     0.81662,     0.80618,     0.79901,     0.79658,     0.79415,     0.79172,     0.78929,     0.78686,     0.78443,\n",
      "              0.782,     0.77957,     0.77714,     0.77471,     0.77228,     0.76985,     0.76742,     0.76499,     0.76256,     0.76013,      0.7577,     0.75527,     0.75284,     0.75041,     0.71502,     0.67292,     0.74328,     0.83325,     0.92322,           1,           1,           1,           1,\n",
      "                  1,           1,           1,           1,           1,           1,           1,           1,           1,           1,           1,           1,           1,           1,           1,           1,           1,           1,           1,           1,           1,           1,           1,\n",
      "                  1,           1,           1,           1,           1,           1,           1,           1,           1,           1,           1,           1,           1,           1,           1,           1,           1,           1,           1,           1,           1,           1,           1,\n",
      "                  1,           1,           1,           1,           1,           1,           1,           1,           1,           1,           1,           1,           1,           1,           1,           1,           1,           1,           1,           1,           1,           1,           1,\n",
      "                  1,           1,           1,           1,           1,           1,           1,           1,           1,           1,           1]]), 'Confidence', 'Precision'], [array([          0,    0.001001,    0.002002,    0.003003,    0.004004,    0.005005,    0.006006,    0.007007,    0.008008,    0.009009,     0.01001,    0.011011,    0.012012,    0.013013,    0.014014,    0.015015,    0.016016,    0.017017,    0.018018,    0.019019,     0.02002,    0.021021,    0.022022,    0.023023,\n",
      "          0.024024,    0.025025,    0.026026,    0.027027,    0.028028,    0.029029,     0.03003,    0.031031,    0.032032,    0.033033,    0.034034,    0.035035,    0.036036,    0.037037,    0.038038,    0.039039,     0.04004,    0.041041,    0.042042,    0.043043,    0.044044,    0.045045,    0.046046,    0.047047,\n",
      "          0.048048,    0.049049,     0.05005,    0.051051,    0.052052,    0.053053,    0.054054,    0.055055,    0.056056,    0.057057,    0.058058,    0.059059,     0.06006,    0.061061,    0.062062,    0.063063,    0.064064,    0.065065,    0.066066,    0.067067,    0.068068,    0.069069,     0.07007,    0.071071,\n",
      "          0.072072,    0.073073,    0.074074,    0.075075,    0.076076,    0.077077,    0.078078,    0.079079,     0.08008,    0.081081,    0.082082,    0.083083,    0.084084,    0.085085,    0.086086,    0.087087,    0.088088,    0.089089,     0.09009,    0.091091,    0.092092,    0.093093,    0.094094,    0.095095,\n",
      "          0.096096,    0.097097,    0.098098,    0.099099,      0.1001,      0.1011,      0.1021,      0.1031,      0.1041,     0.10511,     0.10611,     0.10711,     0.10811,     0.10911,     0.11011,     0.11111,     0.11211,     0.11311,     0.11411,     0.11512,     0.11612,     0.11712,     0.11812,     0.11912,\n",
      "           0.12012,     0.12112,     0.12212,     0.12312,     0.12412,     0.12513,     0.12613,     0.12713,     0.12813,     0.12913,     0.13013,     0.13113,     0.13213,     0.13313,     0.13413,     0.13514,     0.13614,     0.13714,     0.13814,     0.13914,     0.14014,     0.14114,     0.14214,     0.14314,\n",
      "           0.14414,     0.14515,     0.14615,     0.14715,     0.14815,     0.14915,     0.15015,     0.15115,     0.15215,     0.15315,     0.15415,     0.15516,     0.15616,     0.15716,     0.15816,     0.15916,     0.16016,     0.16116,     0.16216,     0.16316,     0.16416,     0.16517,     0.16617,     0.16717,\n",
      "           0.16817,     0.16917,     0.17017,     0.17117,     0.17217,     0.17317,     0.17417,     0.17518,     0.17618,     0.17718,     0.17818,     0.17918,     0.18018,     0.18118,     0.18218,     0.18318,     0.18418,     0.18519,     0.18619,     0.18719,     0.18819,     0.18919,     0.19019,     0.19119,\n",
      "           0.19219,     0.19319,     0.19419,      0.1952,      0.1962,      0.1972,      0.1982,      0.1992,      0.2002,      0.2012,      0.2022,      0.2032,      0.2042,     0.20521,     0.20621,     0.20721,     0.20821,     0.20921,     0.21021,     0.21121,     0.21221,     0.21321,     0.21421,     0.21522,\n",
      "           0.21622,     0.21722,     0.21822,     0.21922,     0.22022,     0.22122,     0.22222,     0.22322,     0.22422,     0.22523,     0.22623,     0.22723,     0.22823,     0.22923,     0.23023,     0.23123,     0.23223,     0.23323,     0.23423,     0.23524,     0.23624,     0.23724,     0.23824,     0.23924,\n",
      "           0.24024,     0.24124,     0.24224,     0.24324,     0.24424,     0.24525,     0.24625,     0.24725,     0.24825,     0.24925,     0.25025,     0.25125,     0.25225,     0.25325,     0.25425,     0.25526,     0.25626,     0.25726,     0.25826,     0.25926,     0.26026,     0.26126,     0.26226,     0.26326,\n",
      "           0.26426,     0.26527,     0.26627,     0.26727,     0.26827,     0.26927,     0.27027,     0.27127,     0.27227,     0.27327,     0.27427,     0.27528,     0.27628,     0.27728,     0.27828,     0.27928,     0.28028,     0.28128,     0.28228,     0.28328,     0.28428,     0.28529,     0.28629,     0.28729,\n",
      "           0.28829,     0.28929,     0.29029,     0.29129,     0.29229,     0.29329,     0.29429,      0.2953,      0.2963,      0.2973,      0.2983,      0.2993,      0.3003,      0.3013,      0.3023,      0.3033,      0.3043,     0.30531,     0.30631,     0.30731,     0.30831,     0.30931,     0.31031,     0.31131,\n",
      "           0.31231,     0.31331,     0.31431,     0.31532,     0.31632,     0.31732,     0.31832,     0.31932,     0.32032,     0.32132,     0.32232,     0.32332,     0.32432,     0.32533,     0.32633,     0.32733,     0.32833,     0.32933,     0.33033,     0.33133,     0.33233,     0.33333,     0.33433,     0.33534,\n",
      "           0.33634,     0.33734,     0.33834,     0.33934,     0.34034,     0.34134,     0.34234,     0.34334,     0.34434,     0.34535,     0.34635,     0.34735,     0.34835,     0.34935,     0.35035,     0.35135,     0.35235,     0.35335,     0.35435,     0.35536,     0.35636,     0.35736,     0.35836,     0.35936,\n",
      "           0.36036,     0.36136,     0.36236,     0.36336,     0.36436,     0.36537,     0.36637,     0.36737,     0.36837,     0.36937,     0.37037,     0.37137,     0.37237,     0.37337,     0.37437,     0.37538,     0.37638,     0.37738,     0.37838,     0.37938,     0.38038,     0.38138,     0.38238,     0.38338,\n",
      "           0.38438,     0.38539,     0.38639,     0.38739,     0.38839,     0.38939,     0.39039,     0.39139,     0.39239,     0.39339,     0.39439,      0.3954,      0.3964,      0.3974,      0.3984,      0.3994,      0.4004,      0.4014,      0.4024,      0.4034,      0.4044,     0.40541,     0.40641,     0.40741,\n",
      "           0.40841,     0.40941,     0.41041,     0.41141,     0.41241,     0.41341,     0.41441,     0.41542,     0.41642,     0.41742,     0.41842,     0.41942,     0.42042,     0.42142,     0.42242,     0.42342,     0.42442,     0.42543,     0.42643,     0.42743,     0.42843,     0.42943,     0.43043,     0.43143,\n",
      "           0.43243,     0.43343,     0.43443,     0.43544,     0.43644,     0.43744,     0.43844,     0.43944,     0.44044,     0.44144,     0.44244,     0.44344,     0.44444,     0.44545,     0.44645,     0.44745,     0.44845,     0.44945,     0.45045,     0.45145,     0.45245,     0.45345,     0.45445,     0.45546,\n",
      "           0.45646,     0.45746,     0.45846,     0.45946,     0.46046,     0.46146,     0.46246,     0.46346,     0.46446,     0.46547,     0.46647,     0.46747,     0.46847,     0.46947,     0.47047,     0.47147,     0.47247,     0.47347,     0.47447,     0.47548,     0.47648,     0.47748,     0.47848,     0.47948,\n",
      "           0.48048,     0.48148,     0.48248,     0.48348,     0.48448,     0.48549,     0.48649,     0.48749,     0.48849,     0.48949,     0.49049,     0.49149,     0.49249,     0.49349,     0.49449,      0.4955,      0.4965,      0.4975,      0.4985,      0.4995,      0.5005,      0.5015,      0.5025,      0.5035,\n",
      "            0.5045,     0.50551,     0.50651,     0.50751,     0.50851,     0.50951,     0.51051,     0.51151,     0.51251,     0.51351,     0.51451,     0.51552,     0.51652,     0.51752,     0.51852,     0.51952,     0.52052,     0.52152,     0.52252,     0.52352,     0.52452,     0.52553,     0.52653,     0.52753,\n",
      "           0.52853,     0.52953,     0.53053,     0.53153,     0.53253,     0.53353,     0.53453,     0.53554,     0.53654,     0.53754,     0.53854,     0.53954,     0.54054,     0.54154,     0.54254,     0.54354,     0.54454,     0.54555,     0.54655,     0.54755,     0.54855,     0.54955,     0.55055,     0.55155,\n",
      "           0.55255,     0.55355,     0.55455,     0.55556,     0.55656,     0.55756,     0.55856,     0.55956,     0.56056,     0.56156,     0.56256,     0.56356,     0.56456,     0.56557,     0.56657,     0.56757,     0.56857,     0.56957,     0.57057,     0.57157,     0.57257,     0.57357,     0.57457,     0.57558,\n",
      "           0.57658,     0.57758,     0.57858,     0.57958,     0.58058,     0.58158,     0.58258,     0.58358,     0.58458,     0.58559,     0.58659,     0.58759,     0.58859,     0.58959,     0.59059,     0.59159,     0.59259,     0.59359,     0.59459,      0.5956,      0.5966,      0.5976,      0.5986,      0.5996,\n",
      "            0.6006,      0.6016,      0.6026,      0.6036,      0.6046,     0.60561,     0.60661,     0.60761,     0.60861,     0.60961,     0.61061,     0.61161,     0.61261,     0.61361,     0.61461,     0.61562,     0.61662,     0.61762,     0.61862,     0.61962,     0.62062,     0.62162,     0.62262,     0.62362,\n",
      "           0.62462,     0.62563,     0.62663,     0.62763,     0.62863,     0.62963,     0.63063,     0.63163,     0.63263,     0.63363,     0.63463,     0.63564,     0.63664,     0.63764,     0.63864,     0.63964,     0.64064,     0.64164,     0.64264,     0.64364,     0.64464,     0.64565,     0.64665,     0.64765,\n",
      "           0.64865,     0.64965,     0.65065,     0.65165,     0.65265,     0.65365,     0.65465,     0.65566,     0.65666,     0.65766,     0.65866,     0.65966,     0.66066,     0.66166,     0.66266,     0.66366,     0.66466,     0.66567,     0.66667,     0.66767,     0.66867,     0.66967,     0.67067,     0.67167,\n",
      "           0.67267,     0.67367,     0.67467,     0.67568,     0.67668,     0.67768,     0.67868,     0.67968,     0.68068,     0.68168,     0.68268,     0.68368,     0.68468,     0.68569,     0.68669,     0.68769,     0.68869,     0.68969,     0.69069,     0.69169,     0.69269,     0.69369,     0.69469,      0.6957,\n",
      "            0.6967,      0.6977,      0.6987,      0.6997,      0.7007,      0.7017,      0.7027,      0.7037,      0.7047,     0.70571,     0.70671,     0.70771,     0.70871,     0.70971,     0.71071,     0.71171,     0.71271,     0.71371,     0.71471,     0.71572,     0.71672,     0.71772,     0.71872,     0.71972,\n",
      "           0.72072,     0.72172,     0.72272,     0.72372,     0.72472,     0.72573,     0.72673,     0.72773,     0.72873,     0.72973,     0.73073,     0.73173,     0.73273,     0.73373,     0.73473,     0.73574,     0.73674,     0.73774,     0.73874,     0.73974,     0.74074,     0.74174,     0.74274,     0.74374,\n",
      "           0.74474,     0.74575,     0.74675,     0.74775,     0.74875,     0.74975,     0.75075,     0.75175,     0.75275,     0.75375,     0.75475,     0.75576,     0.75676,     0.75776,     0.75876,     0.75976,     0.76076,     0.76176,     0.76276,     0.76376,     0.76476,     0.76577,     0.76677,     0.76777,\n",
      "           0.76877,     0.76977,     0.77077,     0.77177,     0.77277,     0.77377,     0.77477,     0.77578,     0.77678,     0.77778,     0.77878,     0.77978,     0.78078,     0.78178,     0.78278,     0.78378,     0.78478,     0.78579,     0.78679,     0.78779,     0.78879,     0.78979,     0.79079,     0.79179,\n",
      "           0.79279,     0.79379,     0.79479,      0.7958,      0.7968,      0.7978,      0.7988,      0.7998,      0.8008,      0.8018,      0.8028,      0.8038,      0.8048,     0.80581,     0.80681,     0.80781,     0.80881,     0.80981,     0.81081,     0.81181,     0.81281,     0.81381,     0.81481,     0.81582,\n",
      "           0.81682,     0.81782,     0.81882,     0.81982,     0.82082,     0.82182,     0.82282,     0.82382,     0.82482,     0.82583,     0.82683,     0.82783,     0.82883,     0.82983,     0.83083,     0.83183,     0.83283,     0.83383,     0.83483,     0.83584,     0.83684,     0.83784,     0.83884,     0.83984,\n",
      "           0.84084,     0.84184,     0.84284,     0.84384,     0.84484,     0.84585,     0.84685,     0.84785,     0.84885,     0.84985,     0.85085,     0.85185,     0.85285,     0.85385,     0.85485,     0.85586,     0.85686,     0.85786,     0.85886,     0.85986,     0.86086,     0.86186,     0.86286,     0.86386,\n",
      "           0.86486,     0.86587,     0.86687,     0.86787,     0.86887,     0.86987,     0.87087,     0.87187,     0.87287,     0.87387,     0.87487,     0.87588,     0.87688,     0.87788,     0.87888,     0.87988,     0.88088,     0.88188,     0.88288,     0.88388,     0.88488,     0.88589,     0.88689,     0.88789,\n",
      "           0.88889,     0.88989,     0.89089,     0.89189,     0.89289,     0.89389,     0.89489,      0.8959,      0.8969,      0.8979,      0.8989,      0.8999,      0.9009,      0.9019,      0.9029,      0.9039,      0.9049,     0.90591,     0.90691,     0.90791,     0.90891,     0.90991,     0.91091,     0.91191,\n",
      "           0.91291,     0.91391,     0.91491,     0.91592,     0.91692,     0.91792,     0.91892,     0.91992,     0.92092,     0.92192,     0.92292,     0.92392,     0.92492,     0.92593,     0.92693,     0.92793,     0.92893,     0.92993,     0.93093,     0.93193,     0.93293,     0.93393,     0.93493,     0.93594,\n",
      "           0.93694,     0.93794,     0.93894,     0.93994,     0.94094,     0.94194,     0.94294,     0.94394,     0.94494,     0.94595,     0.94695,     0.94795,     0.94895,     0.94995,     0.95095,     0.95195,     0.95295,     0.95395,     0.95495,     0.95596,     0.95696,     0.95796,     0.95896,     0.95996,\n",
      "           0.96096,     0.96196,     0.96296,     0.96396,     0.96496,     0.96597,     0.96697,     0.96797,     0.96897,     0.96997,     0.97097,     0.97197,     0.97297,     0.97397,     0.97497,     0.97598,     0.97698,     0.97798,     0.97898,     0.97998,     0.98098,     0.98198,     0.98298,     0.98398,\n",
      "           0.98498,     0.98599,     0.98699,     0.98799,     0.98899,     0.98999,     0.99099,     0.99199,     0.99299,     0.99399,     0.99499,       0.996,       0.997,       0.998,       0.999,           1]), array([[    0.67895,     0.67895,     0.67368,     0.65789,     0.65789,     0.64737,     0.63684,     0.63684,     0.63684,     0.63158,     0.63158,     0.62105,     0.62105,     0.62105,     0.61579,     0.61579,     0.61579,     0.61579,     0.61053,     0.61053,     0.61053,     0.61053,     0.61053,\n",
      "            0.61053,     0.61053,     0.60526,     0.60526,     0.60526,     0.60526,     0.60526,     0.60526,     0.60526,     0.60526,     0.60526,     0.60526,     0.60526,     0.60526,     0.59731,     0.59474,     0.58947,     0.58947,     0.58947,     0.58947,     0.58947,     0.58947,     0.58947,\n",
      "            0.58667,     0.58421,     0.58421,     0.58421,     0.58421,     0.58421,     0.58421,     0.58421,     0.58421,     0.58421,     0.58421,     0.58421,     0.58421,     0.58421,     0.58421,     0.58421,     0.58217,     0.57895,     0.57895,     0.57895,     0.57895,     0.57895,     0.57368,\n",
      "            0.57368,     0.57368,     0.57368,     0.57368,     0.57368,     0.57368,     0.57368,     0.57368,     0.57368,     0.57368,     0.57368,     0.57368,     0.57368,     0.57368,     0.57368,     0.57368,     0.57368,     0.57368,     0.57368,     0.57078,     0.56842,     0.56842,     0.56842,\n",
      "            0.56842,     0.56842,     0.56842,     0.56842,     0.56842,     0.56842,     0.56842,     0.56842,     0.56842,     0.56842,     0.56842,     0.56842,     0.56842,     0.56842,     0.56842,     0.56842,     0.56316,     0.56316,     0.56316,     0.56316,     0.56316,     0.56316,     0.56316,\n",
      "            0.56316,     0.56316,     0.56316,     0.56316,     0.56316,     0.56316,     0.56316,     0.56316,     0.56316,     0.56316,     0.56316,     0.56316,     0.56316,     0.56316,     0.56316,     0.56316,     0.56316,     0.56316,     0.56316,     0.56316,     0.56316,     0.56316,     0.56055,\n",
      "            0.55793,     0.55399,     0.55263,     0.55263,     0.55263,     0.55263,     0.55263,     0.55263,     0.55263,     0.55263,     0.55263,     0.55263,     0.55263,     0.55172,     0.54769,     0.54737,     0.54737,     0.54211,     0.53684,     0.53684,     0.53684,     0.53684,     0.53684,\n",
      "            0.53684,     0.53684,     0.53518,      0.5328,     0.53158,     0.53158,     0.53158,     0.53158,     0.53158,     0.53158,     0.53158,     0.53158,     0.53158,     0.53158,     0.53158,     0.53158,     0.53158,     0.53158,     0.53158,     0.53158,     0.53158,     0.53158,     0.53158,\n",
      "            0.53158,     0.53158,     0.53158,     0.53158,     0.53158,     0.53158,     0.53158,     0.53158,     0.53158,     0.53158,     0.53158,     0.53158,     0.53158,     0.53158,     0.53158,     0.53158,     0.53158,     0.53158,     0.53158,     0.53158,     0.53158,     0.53158,     0.53158,\n",
      "            0.53158,     0.53158,     0.53158,     0.53158,     0.53158,     0.53158,     0.53158,     0.53158,     0.53158,     0.53158,     0.53033,     0.52869,     0.52706,     0.52632,     0.52632,     0.52632,     0.52632,     0.52632,     0.52632,     0.52632,     0.52632,     0.52632,     0.52632,\n",
      "            0.52632,     0.52632,     0.52632,     0.52632,     0.52632,     0.52632,     0.52632,     0.52632,     0.52632,     0.52632,     0.52632,     0.52632,     0.52632,     0.52632,     0.52632,     0.52563,     0.52361,     0.52158,     0.52105,     0.52105,     0.52105,     0.52105,     0.52105,\n",
      "            0.52105,     0.52105,     0.52105,     0.52105,     0.52105,     0.52105,     0.52095,     0.51784,     0.51579,     0.51579,     0.51579,     0.51579,     0.51579,     0.51579,     0.51579,     0.51579,     0.51579,     0.51579,     0.51579,     0.51579,     0.51506,      0.5135,     0.51194,\n",
      "            0.51053,     0.51053,     0.51053,     0.51053,     0.51053,     0.51053,     0.51053,     0.51053,     0.51053,     0.51053,     0.51053,     0.51053,     0.51053,     0.51053,     0.51053,     0.51053,     0.51053,     0.51053,     0.51053,     0.51053,     0.51053,     0.51053,     0.51053,\n",
      "            0.51053,     0.51053,     0.51053,     0.51053,     0.51053,     0.51053,     0.51053,     0.51053,     0.51053,     0.51053,     0.51053,     0.51037,     0.51005,     0.50974,     0.50942,      0.5091,     0.50878,     0.50846,     0.50815,     0.50783,     0.50751,     0.50719,     0.50687,\n",
      "            0.50656,     0.50624,     0.50592,      0.5056,     0.50529,         0.5,         0.5,         0.5,         0.5,         0.5,         0.5,         0.5,         0.5,         0.5,         0.5,         0.5,         0.5,     0.49681,     0.49368,     0.49224,     0.49079,     0.48947,     0.48947,\n",
      "            0.48947,     0.48947,     0.48947,     0.48947,     0.48947,     0.48947,     0.48947,     0.48947,     0.48947,     0.48421,     0.48421,     0.48421,     0.48421,     0.48421,     0.48376,     0.48309,     0.48241,     0.48174,     0.48107,     0.48039,     0.47972,     0.47904,     0.47837,\n",
      "            0.47769,     0.47702,     0.47634,     0.47566,     0.47499,     0.47431,     0.47368,     0.47368,     0.47368,     0.47368,     0.47368,     0.47368,     0.47368,     0.47368,     0.47368,     0.47368,     0.47368,     0.47368,     0.47368,     0.47368,     0.47368,     0.47368,     0.47259,\n",
      "            0.47039,     0.46842,      0.4681,     0.46226,     0.45897,     0.45789,     0.45789,     0.45789,     0.45789,     0.45789,     0.45789,     0.45789,     0.45789,     0.45789,     0.45789,     0.45789,     0.45789,     0.45789,     0.45789,     0.45789,     0.45789,     0.45789,     0.45789,\n",
      "            0.45789,     0.45789,     0.45789,     0.45789,     0.45789,     0.45789,     0.45789,     0.45789,     0.45789,     0.45789,     0.45789,     0.45789,     0.45789,     0.45789,     0.45789,     0.45789,     0.45789,     0.45789,     0.45789,     0.45789,     0.45789,     0.45789,     0.45789,\n",
      "            0.45789,     0.45595,     0.45263,     0.45263,     0.45263,     0.45263,     0.45263,     0.45263,     0.45263,     0.45263,     0.45263,     0.45263,     0.45263,     0.45263,     0.45263,     0.45097,     0.44782,     0.44737,     0.44737,     0.44737,     0.44737,     0.44737,     0.44737,\n",
      "            0.44737,     0.44737,     0.44737,     0.44737,     0.44737,     0.44737,     0.44737,     0.44737,     0.44737,     0.44737,     0.44737,     0.44737,     0.44737,     0.44737,     0.44737,     0.44737,     0.44737,     0.44737,     0.44737,     0.44737,     0.44737,     0.44737,     0.44737,\n",
      "            0.44737,     0.44737,     0.44737,     0.44737,     0.44737,     0.44737,     0.44737,     0.44737,     0.44737,     0.44737,     0.44737,     0.44559,     0.44211,     0.44211,     0.44211,     0.44211,     0.44195,      0.4416,     0.44126,     0.44092,     0.44057,     0.44023,     0.43988,\n",
      "            0.43954,      0.4392,     0.43885,     0.43851,     0.43817,     0.43782,     0.43748,     0.43713,     0.43656,     0.43468,      0.4328,     0.43158,     0.43158,     0.43158,     0.43158,     0.43158,     0.43158,     0.43158,     0.43158,     0.43158,     0.42612,     0.42454,     0.42296,\n",
      "            0.42138,     0.42046,     0.41972,     0.41897,     0.41823,     0.41748,     0.41674,       0.416,     0.41579,     0.41579,     0.41579,     0.41579,     0.41579,     0.41579,     0.41579,     0.41579,     0.41579,     0.41459,     0.41053,     0.41053,     0.41053,     0.41053,     0.41053,\n",
      "            0.41053,     0.41053,     0.41053,     0.41036,     0.40916,     0.40795,     0.40675,     0.40555,     0.40484,     0.40429,     0.40374,     0.40319,     0.40263,     0.40208,     0.40153,     0.40098,     0.40043,         0.4,         0.4,         0.4,         0.4,         0.4,         0.4,\n",
      "                0.4,         0.4,         0.4,         0.4,         0.4,         0.4,         0.4,         0.4,         0.4,         0.4,     0.39926,     0.39414,     0.38924,     0.38834,     0.38744,     0.38654,     0.38563,     0.38473,     0.38421,     0.38421,     0.38421,     0.38421,     0.38421,\n",
      "            0.38421,       0.384,     0.38334,     0.38267,     0.38201,     0.38135,     0.38068,     0.38002,     0.37936,     0.37864,     0.37784,     0.37703,     0.37623,     0.37543,     0.37463,     0.37382,     0.37368,     0.37278,     0.37073,     0.36868,     0.36842,     0.36842,     0.36842,\n",
      "             0.3656,     0.36265,     0.36089,     0.35913,     0.35789,     0.35789,     0.35789,     0.35789,     0.35789,     0.35789,     0.35263,     0.35263,     0.35263,     0.35263,     0.35263,     0.35263,     0.35263,     0.35263,     0.35263,     0.35263,     0.35226,     0.35157,     0.35088,\n",
      "            0.35019,     0.34949,      0.3488,     0.34811,     0.34742,     0.34665,     0.34589,     0.34512,     0.34435,     0.34358,     0.34281,     0.34211,     0.34211,     0.34211,     0.34211,     0.34211,     0.34211,     0.34211,     0.34211,     0.34211,     0.34211,     0.33745,     0.33684,\n",
      "            0.33684,     0.33684,     0.33684,     0.33684,     0.33144,     0.33047,      0.3295,     0.32853,     0.32757,      0.3266,     0.32561,     0.32462,     0.32362,     0.32263,     0.32163,     0.32105,     0.32105,     0.32105,     0.32105,     0.32105,     0.32105,     0.32105,     0.32105,\n",
      "            0.32105,     0.32105,     0.32105,     0.32105,     0.32105,     0.32105,     0.32105,     0.32105,     0.32105,     0.32105,     0.31979,     0.31326,     0.31021,     0.30908,     0.30796,     0.30683,     0.30571,     0.30526,     0.30369,     0.28963,     0.28947,     0.28947,     0.28947,\n",
      "            0.28947,     0.28947,     0.28719,     0.28371,       0.281,     0.27815,     0.27485,     0.26299,      0.2615,     0.26002,     0.25853,      0.2574,     0.25653,     0.25566,     0.25479,     0.25392,     0.25305,     0.25263,     0.25263,     0.25263,     0.25263,     0.25263,     0.25263,\n",
      "            0.25263,     0.25263,     0.25263,     0.25263,     0.25263,     0.25263,     0.25263,     0.25263,     0.25055,     0.24426,     0.23677,     0.23564,     0.23451,     0.23339,     0.23226,     0.23088,     0.22909,     0.22731,     0.22598,     0.22521,     0.22445,     0.22369,     0.22292,\n",
      "            0.22216,      0.2214,     0.22105,     0.22075,     0.21634,     0.20971,     0.20833,     0.20696,     0.20558,     0.20391,     0.20216,     0.20041,     0.19795,     0.19528,     0.19474,     0.19427,     0.19205,     0.18983,     0.18947,     0.18947,     0.18947,     0.18947,     0.18535,\n",
      "            0.18296,     0.18125,     0.17955,     0.17336,     0.17176,     0.17016,     0.16856,     0.16748,     0.16644,     0.16541,     0.16438,     0.16334,     0.16316,     0.16316,     0.16316,     0.16316,     0.16316,     0.16196,     0.15844,      0.1509,     0.14876,     0.14718,     0.14663,\n",
      "            0.14608,     0.14553,     0.14499,     0.14444,     0.14389,     0.14334,     0.14279,     0.14225,     0.14141,     0.14046,     0.13952,     0.13858,     0.13764,     0.13651,     0.13439,     0.13228,     0.12962,      0.1267,     0.12044,     0.11779,     0.11518,     0.11265,     0.11045,\n",
      "            0.10987,     0.10928,     0.10869,      0.1081,     0.10752,     0.10693,     0.10634,     0.10575,     0.10491,     0.10284,     0.10076,    0.099228,     0.09801,    0.096791,    0.095573,    0.092489,    0.078151,    0.074712,    0.068079,     0.06743,    0.066781,    0.066132,    0.065483,\n",
      "           0.064834,    0.064185,    0.063536,    0.059802,    0.056675,    0.055074,    0.053474,    0.050935,    0.047368,    0.047368,     0.04681,     0.04592,    0.045031,    0.044141,    0.043252,    0.042363,    0.042105,    0.042105,    0.042105,    0.042105,    0.042105,    0.042105,    0.042105,\n",
      "           0.036619,    0.036172,    0.035725,    0.035278,    0.034831,    0.034384,    0.033937,     0.03349,    0.033042,    0.032595,    0.032148,    0.031701,    0.028183,    0.025326,    0.023677,    0.022028,    0.020948,    0.020692,    0.020437,    0.020181,    0.019925,    0.019669,    0.019414,\n",
      "           0.019158,    0.018902,    0.018646,     0.01839,    0.018135,    0.017879,    0.017623,    0.017367,    0.017112,    0.016856,      0.0166,    0.016344,    0.016088,    0.015833,     0.01358,    0.010921,    0.010526,    0.010526,    0.010526,    0.010437,   0.0098297,   0.0092222,   0.0086146,\n",
      "          0.0080071,   0.0073996,   0.0067921,   0.0061846,    0.005577,           0,           0,           0,           0,           0,           0,           0,           0,           0,           0,           0,           0,           0,           0,           0,           0,           0,           0,\n",
      "                  0,           0,           0,           0,           0,           0,           0,           0,           0,           0,           0,           0,           0,           0,           0,           0,           0,           0,           0,           0,           0,           0,           0,\n",
      "                  0,           0,           0,           0,           0,           0,           0,           0,           0,           0,           0,           0,           0,           0,           0,           0,           0,           0,           0,           0,           0,           0,           0,\n",
      "                  0,           0,           0,           0,           0,           0,           0,           0,           0,           0,           0]]), 'Confidence', 'Recall']]\n",
      "fitness: 0.5435179338114411\n",
      "keys: ['metrics/precision(B)', 'metrics/recall(B)', 'metrics/mAP50(B)', 'metrics/mAP50-95(B)', 'metrics/precision(M)', 'metrics/recall(M)', 'metrics/mAP50(M)', 'metrics/mAP50-95(M)']\n",
      "maps: array([    0.48751])\n",
      "names: {0: 'stigma'}\n",
      "plot: True\n",
      "results_dict: {'metrics/precision(B)': 0.5774252461927247, 'metrics/recall(B)': 0.6400776261856674, 'metrics/mAP50(B)': 0.5908720687512298, 'metrics/mAP50-95(B)': 0.3360462579686863, 'metrics/precision(M)': 0.6150116133791682, 'metrics/recall(M)': 0.4473684210526316, 'metrics/mAP50(M)': 0.4567028189035759, 'metrics/mAP50-95(M)': 0.15146534763793643, 'fitness': 0.5435179338114411}\n",
      "save_dir: PosixPath('/home/etaylor/code_projects/thesis/src/stigmas_detection/segmentation/yolo/runs/segment/train22')\n",
      "seg: ultralytics.utils.metrics.Metric object\n",
      "speed: {'preprocess': 0.1396656036376953, 'inference': 54.49724197387695, 'loss': 0.00110626220703125, 'postprocess': 1.9958019256591797}\n",
      "task: 'segment'\n"
     ]
    }
   ],
   "source": [
    "valid_results = model.val()\n",
    "print(valid_results)"
   ]
  },
  {
   "cell_type": "code",
   "execution_count": null,
   "metadata": {},
   "outputs": [],
   "source": [
    "from IPython.display import Image as show_image\n",
    "show_image(filename=\"/sise/home/etaylor/runs/segment/train22/val_batch0_pred.jpg\")"
   ]
  },
  {
   "cell_type": "markdown",
   "metadata": {},
   "source": [
    "### Perform Infrence with the model"
   ]
  },
  {
   "cell_type": "code",
   "execution_count": 8,
   "metadata": {},
   "outputs": [
    {
     "name": "stdout",
     "output_type": "stream",
     "text": [
      "\n",
      "0: 640x640 (no detections), 19.5ms\n",
      "Speed: 12.6ms preprocess, 19.5ms inference, 1.2ms postprocess per image at shape (1, 3, 640, 640)\n"
     ]
    }
   ],
   "source": [
    "import cv2\n",
    "\n",
    "image = cv2.imread(\"/home/etaylor/code_projects/thesis/segments/etaylor_cannabis_patches_train/v0.1/IMG_2198_p12.png\")\n",
    "\n",
    "# Perform inference\n",
    "results = model.predict(image)"
   ]
  },
  {
   "cell_type": "code",
   "execution_count": null,
   "metadata": {},
   "outputs": [],
   "source": []
  }
 ],
 "metadata": {
  "kernelspec": {
   "display_name": "yolo8",
   "language": "python",
   "name": "python3"
  },
  "language_info": {
   "codemirror_mode": {
    "name": "ipython",
    "version": 3
   },
   "file_extension": ".py",
   "mimetype": "text/x-python",
   "name": "python",
   "nbconvert_exporter": "python",
   "pygments_lexer": "ipython3",
   "version": "3.9.19"
  }
 },
 "nbformat": 4,
 "nbformat_minor": 2
}
