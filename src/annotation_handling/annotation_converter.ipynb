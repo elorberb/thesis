{
 "cells": [
  {
   "cell_type": "markdown",
   "metadata": {},
   "source": [
    "### Convert COCO to YOLO for object detection"
   ]
  },
  {
   "cell_type": "code",
   "execution_count": 1,
   "metadata": {},
   "outputs": [],
   "source": [
    "from ultralytics.data.converter import convert_coco"
   ]
  },
  {
   "cell_type": "code",
   "execution_count": 2,
   "metadata": {},
   "outputs": [],
   "source": [
    "segments_base_folder = '/home/etaylor/code_projects/thesis/segments'\n",
    "segments_folder_name = \"\"\n",
    "\n",
    "annotations_dir = '/home/etaylor/code_projects/thesis/segments/etaylor_cannabis_patches_train/annotations'\n",
    "output_dir = \"/home/etaylor/code_projects/thesis/segments/etaylor_cannabis_patches_train/annotations/yolo\""
   ]
  },
  {
   "cell_type": "code",
   "execution_count": 3,
   "metadata": {},
   "outputs": [
    {
     "name": "stderr",
     "output_type": "stream",
     "text": [
      "Annotations /sise/home/etaylor/code_projects/thesis/segments/etaylor_cannabis_patches_train/annotations/export_coco-instance_etaylor_cannabis_patches_train_v0.1.json: 100%|██████████| 137/137 [00:00<00:00, 403.71it/s]"
     ]
    },
    {
     "name": "stdout",
     "output_type": "stream",
     "text": [
      "COCO data converted successfully.\n",
      "Results saved to /sise/home/etaylor/code_projects/thesis/segments/etaylor_cannabis_patches_train/annotations/yolo\n"
     ]
    },
    {
     "name": "stderr",
     "output_type": "stream",
     "text": [
      "\n"
     ]
    }
   ],
   "source": [
    "convert_coco(\n",
    "    labels_dir=annotations_dir,\n",
    "    save_dir=output_dir, \n",
    "    use_segments=False,\n",
    ")"
   ]
  },
  {
   "cell_type": "markdown",
   "metadata": {},
   "source": [
    "### Convert COCO to YOLO Instance Segmentation format"
   ]
  },
  {
   "cell_type": "code",
   "execution_count": 5,
   "metadata": {},
   "outputs": [],
   "source": [
    "import sys\n",
    "sys.path.append('/home/etaylor/code_projects')\n",
    "sys.path.append('/home/etaylor/code_projects/coco2yolo')\n",
    "from coco2yolo import general_json2yolo as c2y"
   ]
  },
  {
   "cell_type": "code",
   "execution_count": 9,
   "metadata": {},
   "outputs": [
    {
     "name": "stderr",
     "output_type": "stream",
     "text": [
      "Annotations /sise/home/etaylor/code_projects/thesis/segments/etaylor_cannabis_patches_week9_15_06_2023_3x_regular_IMG_2153/annotations/export_coco-instance_etaylor_cannabis_patches_week9_15_06_2023_3x_regular_IMG_2153_v0.2.json:   0%|          | 0/10 [00:00<?, ?it/s]"
     ]
    },
    {
     "name": "stderr",
     "output_type": "stream",
     "text": [
      "Annotations /sise/home/etaylor/code_projects/thesis/segments/etaylor_cannabis_patches_week9_15_06_2023_3x_regular_IMG_2153/annotations/export_coco-instance_etaylor_cannabis_patches_week9_15_06_2023_3x_regular_IMG_2153_v0.2.json: 100%|██████████| 10/10 [00:00<00:00, 30.18it/s]\n"
     ]
    }
   ],
   "source": [
    "import os\n",
    "import shutil\n",
    "\n",
    "# convert the RLE coco json to yolo format\n",
    "c2y.convert_coco_json(\n",
    "    json_dir=annotations_dir,\n",
    "    use_segments=True,\n",
    ")\n",
    "\n",
    "# Define the current location of the folder and the new destination\n",
    "current_location = 'new_dir'  # Replace with the current path of 'new_dir'\n",
    "new_location = annotations_dir  # Replace with your desired destination path\n",
    "\n",
    "# Move the folder to the new location\n",
    "shutil.move(current_location, new_location)\n",
    "\n",
    "# Define the new and old paths of the folder\n",
    "old_folder_path = os.path.join(new_location, 'new_dir')\n",
    "new_folder_path = os.path.join(new_location, 'yolo')\n",
    "\n",
    "# Rename the folder\n",
    "os.rename(old_folder_path, new_folder_path)"
   ]
  }
 ],
 "metadata": {
  "kernelspec": {
   "display_name": "yolo8",
   "language": "python",
   "name": "python3"
  },
  "language_info": {
   "codemirror_mode": {
    "name": "ipython",
    "version": 3
   },
   "file_extension": ".py",
   "mimetype": "text/x-python",
   "name": "python",
   "nbconvert_exporter": "python",
   "pygments_lexer": "ipython3",
   "version": "3.10.13"
  }
 },
 "nbformat": 4,
 "nbformat_minor": 2
}
