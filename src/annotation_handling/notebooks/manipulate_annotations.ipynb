{
 "cells": [
  {
   "cell_type": "code",
   "execution_count": 1,
   "metadata": {},
   "outputs": [],
   "source": [
    "from src.annotation_handling.segmentsai_handler import SegmentsAIHandler\n",
    "segmentsai_handler = SegmentsAIHandler()\n",
    "import config"
   ]
  },
  {
   "cell_type": "code",
   "execution_count": 2,
   "metadata": {},
   "outputs": [],
   "source": [
    "week = 'week8'\n",
    "zoom_type = '3xr'\n",
    "verbose = True"
   ]
  },
  {
   "cell_type": "markdown",
   "metadata": {},
   "source": [
    "#### Create train and test datasets per week "
   ]
  },
  {
   "cell_type": "code",
   "execution_count": null,
   "metadata": {},
   "outputs": [],
   "source": [
    "dataset_name_train = f\"cannabis_patches_{config.WEEKS_DIR[week]}_{config.ZOOM_TYPES_DIR[zoom_type]}_train\"\n",
    "description_train = (\n",
    "    f\"Train set for images from {week} {zoom_type}.\"\n",
    ")\n",
    "task_type = \"segmentation-bitmap\"\n",
    "\n",
    "task_attributes = {\n",
    "    \"format_version\": \"0.1\",\n",
    "    \"categories\": [{\"name\": \"trichome\", \"id\": 0, \"color\": [65,117,5]},\n",
    "                {\"name\": \"clear\", \"id\": 1, \"color\": [155,155,155]},\n",
    "                {\"name\": \"cloudy\", \"id\": 2, \"color\": [255,255,255]},\n",
    "                {\"name\": \"amber\", \"id\": 3, \"color\": [245,166,35]}]\n",
    "}\n",
    "\n",
    "# Create the train dataset:\n",
    "train_dataset_instance = segmentsai_handler.create_new_dataset(dataset_name_train, description_train, task_type, task_attributes)\n",
    "print(train_dataset_instance)\n",
    "\n",
    "dataset_name_test = f\"cannabis_patches_{config.WEEKS_DIR[week]}_{config.ZOOM_TYPES_DIR[zoom_type]}_test\"\n",
    "description_test = (\n",
    "    f\"Test set for images from {week} {zoom_type}.\"\n",
    ")\n",
    "\n",
    "# Create the test dataset:\n",
    "dataset_instance_test = segmentsai_handler.create_new_dataset(dataset_name_test, description_test, task_type, task_attributes)\n",
    "print(dataset_instance_test)"
   ]
  },
  {
   "cell_type": "markdown",
   "metadata": {},
   "source": [
    "#### Create train and test dataset combined"
   ]
  },
  {
   "cell_type": "code",
   "execution_count": 3,
   "metadata": {},
   "outputs": [
    {
     "name": "stdout",
     "output_type": "stream",
     "text": [
      "name='cannabis_patches_train' full_name='etaylor/cannabis_patches_train' cloned_from=None description='Train set for images from all weeks 3xr.' category='other' public=False owner=Owner(username='etaylor', created_at='2022-12-28T12:53:18Z', email=None) created_at='2023-12-30T10:12:06.049406Z' enable_ratings=False enable_skip_labeling=True enable_skip_reviewing=False enable_save_button=False enable_label_status_verified=False enable_same_dimensions_track_constraint=False enable_interpolation=True task_type='segmentation-bitmap' label_stats=LabelStats(REVIEWED=None, REVIEWING_IN_PROGRESS=None, LABELED=None, LABELING_IN_PROGRESS=None, REJECTED=None, PRELABELED=None, SKIPPED=None, VERIFIED=None, UNLABELED=None, TOTAL=None) labeling_inactivity_timeout_seconds=None samples_count=0 collaborators_count=None task_attributes=TaskAttributes(format_version='0.1', categories=[TaskAttributeCategory(name='trichome', id=0, color=(65, 117, 5), has_instances=None, attributes=None, dimensions=None), TaskAttributeCategory(name='clear', id=1, color=(155, 155, 155), has_instances=None, attributes=None, dimensions=None), TaskAttributeCategory(name='cloudy', id=2, color=(255, 255, 255), has_instances=None, attributes=None, dimensions=None), TaskAttributeCategory(name='amber', id=3, color=(245, 166, 35), has_instances=None, attributes=None, dimensions=None)], image_attributes=None) labelsets=None role=None readme='' metadata={} noncollaborator_can_label=False noncollaborator_can_review=False insights_urls=None embeddings_enabled=None\n",
      "name='cannabis_patches_test' full_name='etaylor/cannabis_patches_test' cloned_from=None description='Test set for images from all weeks 3xr.' category='other' public=False owner=Owner(username='etaylor', created_at='2022-12-28T12:53:18Z', email=None) created_at='2023-12-30T10:12:06.176739Z' enable_ratings=False enable_skip_labeling=True enable_skip_reviewing=False enable_save_button=False enable_label_status_verified=False enable_same_dimensions_track_constraint=False enable_interpolation=True task_type='segmentation-bitmap' label_stats=LabelStats(REVIEWED=None, REVIEWING_IN_PROGRESS=None, LABELED=None, LABELING_IN_PROGRESS=None, REJECTED=None, PRELABELED=None, SKIPPED=None, VERIFIED=None, UNLABELED=None, TOTAL=None) labeling_inactivity_timeout_seconds=None samples_count=0 collaborators_count=None task_attributes=TaskAttributes(format_version='0.1', categories=[TaskAttributeCategory(name='trichome', id=0, color=(65, 117, 5), has_instances=None, attributes=None, dimensions=None), TaskAttributeCategory(name='clear', id=1, color=(155, 155, 155), has_instances=None, attributes=None, dimensions=None), TaskAttributeCategory(name='cloudy', id=2, color=(255, 255, 255), has_instances=None, attributes=None, dimensions=None), TaskAttributeCategory(name='amber', id=3, color=(245, 166, 35), has_instances=None, attributes=None, dimensions=None)], image_attributes=None) labelsets=None role=None readme='' metadata={} noncollaborator_can_label=False noncollaborator_can_review=False insights_urls=None embeddings_enabled=None\n"
     ]
    }
   ],
   "source": [
    "dataset_name_train = f\"cannabis_patches_train\"\n",
    "description_train = (\n",
    "    f\"Train set for images from all weeks {zoom_type}.\"\n",
    ")\n",
    "task_type = \"segmentation-bitmap\"\n",
    "\n",
    "task_attributes = {\n",
    "    \"format_version\": \"0.1\",\n",
    "    \"categories\": [{\"name\": \"trichome\", \"id\": 0, \"color\": [65,117,5]},\n",
    "                {\"name\": \"clear\", \"id\": 1, \"color\": [155,155,155]},\n",
    "                {\"name\": \"cloudy\", \"id\": 2, \"color\": [255,255,255]},\n",
    "                {\"name\": \"amber\", \"id\": 3, \"color\": [245,166,35]}]\n",
    "}\n",
    "\n",
    "# Create the train dataset:\n",
    "train_dataset_instance = segmentsai_handler.create_new_dataset(dataset_name_train, description_train, task_type, task_attributes)\n",
    "print(train_dataset_instance)\n",
    "\n",
    "dataset_name_test = f\"cannabis_patches_test\"\n",
    "description_test = (\n",
    "    f\"Test set for images from all weeks {zoom_type}.\"\n",
    ")\n",
    "\n",
    "# Create the test dataset:\n",
    "dataset_instance_test = segmentsai_handler.create_new_dataset(dataset_name_test, description_test, task_type, task_attributes)\n",
    "print(dataset_instance_test)"
   ]
  },
  {
   "cell_type": "markdown",
   "metadata": {},
   "source": [
    "#### Decrease datasets annotations category id"
   ]
  },
  {
   "cell_type": "code",
   "execution_count": null,
   "metadata": {},
   "outputs": [],
   "source": [
    "# decrease label category ids - some of the datasets catagories are not in order (start with 1 and not 0)\n",
    "segmentsai_handler.decrement_label_category_ids(\"etaylor/cannabis_patches_week9_15_06_2023_3x_regular_IMG_2242\")\n",
    "segmentsai_handler.decrement_label_category_ids(\"etaylor/cannabis_patches_week9_15_06_2023_3x_regular_IMG_2305\")"
   ]
  },
  {
   "cell_type": "markdown",
   "metadata": {},
   "source": [
    "### Merge Segments Datasets"
   ]
  },
  {
   "cell_type": "code",
   "execution_count": 22,
   "metadata": {},
   "outputs": [],
   "source": [
    "week = 'week5'\n",
    "zoom_type = '3xr'\n",
    "verbose = True"
   ]
  },
  {
   "cell_type": "code",
   "execution_count": null,
   "metadata": {},
   "outputs": [],
   "source": [
    "dest_dataset_identifier = f\"etaylor/cannabis_patches_{config.WEEKS_DIR[week]}_{config.ZOOM_TYPES_DIR[zoom_type]}_train\"\n",
    "\n",
    "source_datasets = [\"0001\", \"0003\", \"0014\", \"0016\"]\n",
    "\n",
    "for dataset_number in source_datasets:\n",
    "    source_dataset_identifier = f\"etaylor/cannabis_patches_{config.WEEKS_DIR[week]}_{config.ZOOM_TYPES_DIR[zoom_type]}_IMG_{dataset_number}\"\n",
    "    print(f\"Copying dataset {source_dataset_identifier} to {dest_dataset_identifier}\")\n",
    "    segmentsai_handler.copy_dataset_contents(source_dataset_identifier, dest_dataset_identifier, verbose=verbose, only_patches=True)"
   ]
  },
  {
   "cell_type": "code",
   "execution_count": null,
   "metadata": {},
   "outputs": [],
   "source": [
    "dest_dataset_identifier = f\"etaylor/cannabis_patches_{config.WEEKS_DIR[week]}_{config.ZOOM_TYPES_DIR[zoom_type]}_test\"\n",
    "\n",
    "source_datasets = [\"0002\", \"0017\"]\n",
    "\n",
    "for dataset_number in source_datasets:\n",
    "    source_dataset_identifier = f\"etaylor/cannabis_patches_{config.WEEKS_DIR[week]}_{config.ZOOM_TYPES_DIR[zoom_type]}_IMG_{dataset_number}\"\n",
    "    print(f\"Copying dataset {source_dataset_identifier} to {dest_dataset_identifier}\")\n",
    "    segmentsai_handler.copy_dataset_contents(source_dataset_identifier, dest_dataset_identifier, verbose=verbose, only_patches=True)"
   ]
  },
  {
   "cell_type": "markdown",
   "metadata": {},
   "source": [
    "#### Move all datasets train and test per week to the combined datasets"
   ]
  },
  {
   "cell_type": "code",
   "execution_count": null,
   "metadata": {},
   "outputs": [],
   "source": [
    "dest_dataset_identifier_train = f\"etaylor/cannabis_patches_train\"\n",
    "\n",
    "weeks = [\"week5\", \"week7\", \"week8\", \"week9\"]\n",
    "\n",
    "for week in weeks:\n",
    "    source_dataset_identifier = f\"etaylor/cannabis_patches_{config.WEEKS_DIR[week]}_{config.ZOOM_TYPES_DIR[zoom_type]}_train\"\n",
    "    print(f\"Copying dataset {source_dataset_identifier} to {dest_dataset_identifier_train}\")\n",
    "    segmentsai_handler.copy_dataset_contents(source_dataset_identifier, dest_dataset_identifier_train, verbose=verbose, only_patches=True)"
   ]
  },
  {
   "cell_type": "code",
   "execution_count": null,
   "metadata": {},
   "outputs": [],
   "source": [
    "dest_dataset_identifier_test = f\"etaylor/cannabis_patches_test\"\n",
    "\n",
    "for week in weeks:\n",
    "    source_dataset_identifier = f\"etaylor/cannabis_patches_{config.WEEKS_DIR[week]}_{config.ZOOM_TYPES_DIR[zoom_type]}_test\"\n",
    "    print(f\"Copying dataset {source_dataset_identifier} to {dest_dataset_identifier_test}\")\n",
    "    segmentsai_handler.copy_dataset_contents(source_dataset_identifier, dest_dataset_identifier_test, verbose=verbose, only_patches=True)"
   ]
  }
 ],
 "metadata": {
  "kernelspec": {
   "display_name": "detectron",
   "language": "python",
   "name": "python3"
  },
  "language_info": {
   "codemirror_mode": {
    "name": "ipython",
    "version": 3
   },
   "file_extension": ".py",
   "mimetype": "text/x-python",
   "name": "python",
   "nbconvert_exporter": "python",
   "pygments_lexer": "ipython3",
   "version": "3.9.18"
  }
 },
 "nbformat": 4,
 "nbformat_minor": 2
}
