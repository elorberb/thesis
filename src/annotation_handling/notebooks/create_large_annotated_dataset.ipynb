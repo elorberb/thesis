{
 "cells": [
  {
   "cell_type": "code",
   "execution_count": 2,
   "metadata": {},
   "outputs": [],
   "source": [
    "import os\n",
    "os.chdir(\"/home/etaylor/pycharmProjects/thesis\")"
   ]
  },
  {
   "cell_type": "code",
   "execution_count": 3,
   "metadata": {},
   "outputs": [],
   "source": [
    "#TODO: if cant import i should comment the import for detectron in fast_labeling_utils.py\n",
    "from src.annotation_handling.segmentsai_handler_old import (setup_connection_segmentsai,\n",
    "                                                                   create_dataset,\n",
    "                                                                   copy_samples_and_annotations)"
   ]
  },
  {
   "cell_type": "code",
   "execution_count": 4,
   "metadata": {},
   "outputs": [],
   "source": [
    "client = setup_connection_segmentsai()"
   ]
  },
  {
   "cell_type": "markdown",
   "metadata": {},
   "source": [
    "### Create new dataset with all samples"
   ]
  },
  {
   "cell_type": "code",
   "execution_count": 13,
   "metadata": {},
   "outputs": [
    {
     "name": "stdout",
     "output_type": "stream",
     "text": [
      "name='cannabis_patches_week5_3x_regular_best_images' full_name='etaylor/cannabis_patches_week5_3x_regular_best_images' cloned_from=None description='Instance segmentation labeling for images of cannabis trichomes taken by iPhone 14 pro with moment macro lens. This Images were labeled by a only human compared the other images labeled with model assisting.' category='other' public=False owner=Owner(username='etaylor', created_at='2022-12-28T12:53:18Z', email=None) created_at='2023-09-02T10:46:53.989856Z' enable_ratings=False enable_skip_labeling=True enable_skip_reviewing=False enable_save_button=False enable_label_status_verified=False enable_same_dimensions_track_constraint=False enable_interpolation=True task_type='segmentation-bitmap' label_stats=LabelStats(TOTAL=None, LABELED=None, UNLABELED=None, PRELABELED=None) samples_count=0 collaborators_count=None task_attributes=TaskAttributes(format_version='0.1', categories=[TaskAttributeCategory(name='trichome', id=1, color=None, has_instances=None, attributes=None, dimensions=None)], image_attributes=None) labelsets=None role=None readme='' metadata={} noncollaborator_can_label=False noncollaborator_can_review=False embeddings_enabled=None\n"
     ]
    }
   ],
   "source": [
    "# ---- UNCOMMENT IF YOU WANT TO CREATE A NEW DATASET ----\n",
    "\n",
    "# name = f\"cannabis_patches_week5_3x_regular_best_images\"\n",
    "# description = f\"Instance segmentation labeling for images of cannabis trichomes taken by iPhone 14 pro with moment macro lens. This Images were labeled by a only human compared the other images labeled with model assisting.\"\n",
    "# task_type = \"segmentation-bitmap\"\n",
    "# task_attributes = {\n",
    "#     \"format_version\": \"0.1\",\n",
    "#     \"categories\": [\n",
    "#         {\"name\": \"trichome\", \"id\": 1},\n",
    "#     ]\n",
    "# }\n",
    "\n",
    "# #Create the dataset:\n",
    "# dataset_all_images = create_dataset(client, name, description, task_type, task_attributes)\n",
    "# print(dataset_all_images)"
   ]
  },
  {
   "cell_type": "markdown",
   "metadata": {},
   "source": [
    "### Transfer Images and Annotations from one dataset to the other"
   ]
  },
  {
   "cell_type": "code",
   "execution_count": 5,
   "metadata": {},
   "outputs": [],
   "source": [
    "src_dataset_identifier = 'etaylor/trichomes_patches_week9_3xzoom_regular_IMG_2145'\n",
    "dest_dataset_identifier = \"etaylor/cannabis_patches_all_images\""
   ]
  },
  {
   "cell_type": "code",
   "execution_count": 6,
   "metadata": {},
   "outputs": [],
   "source": [
    "copy_samples_and_annotations(client, src_dataset_identifier, dest_dataset_identifier, verbose=False)"
   ]
  }
 ],
 "metadata": {
  "kernelspec": {
   "display_name": "test_env",
   "language": "python",
   "name": "python3"
  },
  "language_info": {
   "codemirror_mode": {
    "name": "ipython",
    "version": 3
   },
   "file_extension": ".py",
   "mimetype": "text/x-python",
   "name": "python",
   "nbconvert_exporter": "python",
   "pygments_lexer": "ipython3",
   "version": "3.11.4"
  },
  "orig_nbformat": 4
 },
 "nbformat": 4,
 "nbformat_minor": 2
}
