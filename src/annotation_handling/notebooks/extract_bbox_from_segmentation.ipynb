{
 "cells": [
  {
   "cell_type": "code",
   "execution_count": 20,
   "metadata": {},
   "outputs": [],
   "source": [
    "import os\n",
    "import matplotlib.pyplot as plt\n",
    "os.chdir(\"/home/etaylor/pycharmProjects/thesis\")"
   ]
  },
  {
   "cell_type": "code",
   "execution_count": 2,
   "metadata": {},
   "outputs": [],
   "source": [
    "from src.annotation_handling import segmentsai_handler_old\n",
    "client = segmentsai_handler.setup_connection_segmentsai()"
   ]
  },
  {
   "cell_type": "code",
   "execution_count": 14,
   "metadata": {},
   "outputs": [],
   "source": [
    "dataset_identifier = \"etaylor/cannabis_full_image_week9_3xzoom_regular_best_sample\"\n",
    "dataset = client.get_dataset(dataset_identifier)"
   ]
  },
  {
   "cell_type": "code",
   "execution_count": 15,
   "metadata": {},
   "outputs": [],
   "source": [
    "samples = client.get_samples(dataset_identifier)"
   ]
  },
  {
   "cell_type": "code",
   "execution_count": 16,
   "metadata": {},
   "outputs": [
    {
     "data": {
      "text/plain": [
       "[Sample(uuid='4a1398fc-c31a-4925-9f4f-ff99c4fd34ac', name='IMG_2144.JPG', attributes=ImageSampleAttributes(image=URL(url='https://segmentsai-prod.s3.eu-west-2.amazonaws.com/assets/etaylor/b5a28874-5493-4827-abff-e130de9b74b4.jpg')), metadata={}, created_at='2023-09-29T11:03:28.770670Z', created_by='etaylor', assigned_labeler=None, assigned_reviewer=None, comments=[], priority=0.0, has_embedding=False, label=None, issues=None, dataset_full_name=None),\n",
       " Sample(uuid='8d889c2e-c484-4887-9a24-e39f81411be3', name='IMG_2145.JPG', attributes=ImageSampleAttributes(image=URL(url='https://segmentsai-prod.s3.eu-west-2.amazonaws.com/assets/etaylor/e837f2ce-1097-4611-afce-fef1f98247c9.jpg')), metadata={}, created_at='2023-09-29T11:03:28.201772Z', created_by='etaylor', assigned_labeler=None, assigned_reviewer=None, comments=[], priority=0.0, has_embedding=False, label=None, issues=None, dataset_full_name=None),\n",
       " Sample(uuid='71a55fb1-22e8-481f-93b0-3d97b68eb3bc', name='IMG_2158.JPG', attributes=ImageSampleAttributes(image=URL(url='https://segmentsai-prod.s3.eu-west-2.amazonaws.com/assets/etaylor/4f736450-f36b-40e9-8be8-8e258f27db2a.jpg')), metadata={}, created_at='2023-09-29T11:03:28.053657Z', created_by='etaylor', assigned_labeler=None, assigned_reviewer=None, comments=[], priority=0.0, has_embedding=False, label=None, issues=None, dataset_full_name=None),\n",
       " Sample(uuid='1a6888b2-12b9-455a-a78b-97c2a132f6f3', name='IMG_2159.JPG', attributes=ImageSampleAttributes(image=URL(url='https://segmentsai-prod.s3.eu-west-2.amazonaws.com/assets/etaylor/6b0dee9c-7e05-4604-ac9c-adbd7a8367fd.jpg')), metadata={}, created_at='2023-09-29T11:03:28.087240Z', created_by='etaylor', assigned_labeler=None, assigned_reviewer=None, comments=[], priority=0.0, has_embedding=False, label=None, issues=None, dataset_full_name=None),\n",
       " Sample(uuid='2f5ffa6b-8e7a-4ae0-93ce-40f7147e1729', name='IMG_2198.JPG', attributes=ImageSampleAttributes(image=URL(url='https://segmentsai-prod.s3.eu-west-2.amazonaws.com/assets/etaylor/64cb41f6-5316-4bcc-88c6-a61e07400f0a.jpg')), metadata={}, created_at='2023-09-29T11:03:30.801804Z', created_by='etaylor', assigned_labeler=None, assigned_reviewer=None, comments=[], priority=0.0, has_embedding=False, label=None, issues=None, dataset_full_name=None),\n",
       " Sample(uuid='24996c16-d229-407a-bc6c-d90c0b8c3736', name='IMG_2229.JPG', attributes=ImageSampleAttributes(image=URL(url='https://segmentsai-prod.s3.eu-west-2.amazonaws.com/assets/etaylor/59793e84-3d94-416a-ab65-cdc0d376fecb.jpg')), metadata={}, created_at='2023-09-29T11:03:29.952234Z', created_by='etaylor', assigned_labeler=None, assigned_reviewer=None, comments=[], priority=0.0, has_embedding=False, label=None, issues=None, dataset_full_name=None),\n",
       " Sample(uuid='ef20abcf-96c0-4126-bd90-a469d8b56ecd', name='IMG_2239.JPG', attributes=ImageSampleAttributes(image=URL(url='https://segmentsai-prod.s3.eu-west-2.amazonaws.com/assets/etaylor/8745dc0d-49bc-4404-b6bb-72ecf88aa0bf.jpg')), metadata={}, created_at='2023-09-29T11:03:30.377939Z', created_by='etaylor', assigned_labeler=None, assigned_reviewer=None, comments=[], priority=0.0, has_embedding=False, label=None, issues=None, dataset_full_name=None),\n",
       " Sample(uuid='1db3c97d-4c9a-4efb-a3ba-7cc61a8891ae', name='IMG_2240.JPG', attributes=ImageSampleAttributes(image=URL(url='https://segmentsai-prod.s3.eu-west-2.amazonaws.com/assets/etaylor/2888c331-e421-442f-b723-ac48f9d47716.jpg')), metadata={}, created_at='2023-09-29T11:03:31.065175Z', created_by='etaylor', assigned_labeler=None, assigned_reviewer=None, comments=[], priority=0.0, has_embedding=False, label=None, issues=None, dataset_full_name=None),\n",
       " Sample(uuid='680d26a8-2370-476d-b4c7-d7c4ed107e23', name='IMG_2257.JPG', attributes=ImageSampleAttributes(image=URL(url='https://segmentsai-prod.s3.eu-west-2.amazonaws.com/assets/etaylor/211cfb44-d1a9-4653-9dc2-1a7f88ffe508.jpg')), metadata={}, created_at='2023-09-29T11:03:31.069838Z', created_by='etaylor', assigned_labeler=None, assigned_reviewer=None, comments=[], priority=0.0, has_embedding=False, label=None, issues=None, dataset_full_name=None),\n",
       " Sample(uuid='8fe051d8-a2e6-48cb-8182-e4e961249fd3', name='IMG_2258.JPG', attributes=ImageSampleAttributes(image=URL(url='https://segmentsai-prod.s3.eu-west-2.amazonaws.com/assets/etaylor/4a2e0ddc-8650-4150-901d-aa22f6b8684e.jpg')), metadata={}, created_at='2023-09-29T11:03:28.809801Z', created_by='etaylor', assigned_labeler=None, assigned_reviewer=None, comments=[], priority=0.0, has_embedding=False, label=None, issues=None, dataset_full_name=None)]"
      ]
     },
     "execution_count": 16,
     "metadata": {},
     "output_type": "execute_result"
    }
   ],
   "source": [
    "samples"
   ]
  },
  {
   "cell_type": "code",
   "execution_count": 18,
   "metadata": {},
   "outputs": [
    {
     "data": {
      "text/plain": [
       "Label(sample_uuid='4a1398fc-c31a-4925-9f4f-ff99c4fd34ac', label_type='segmentation-bitmap', label_status='LABELED', labelset='ground-truth', attributes=ImageSegmentationLabelAttributes(annotations=[Annotation(id=1, category_id=3, attributes=None), Annotation(id=2, category_id=3, attributes=None), Annotation(id=3, category_id=3, attributes=None), Annotation(id=4, category_id=3, attributes=None), Annotation(id=5, category_id=3, attributes=None), Annotation(id=6, category_id=3, attributes=None), Annotation(id=7, category_id=3, attributes=None), Annotation(id=8, category_id=3, attributes=None), Annotation(id=9, category_id=3, attributes=None), Annotation(id=10, category_id=3, attributes=None), Annotation(id=11, category_id=3, attributes=None), Annotation(id=12, category_id=3, attributes=None), Annotation(id=13, category_id=3, attributes=None), Annotation(id=14, category_id=2, attributes=None), Annotation(id=15, category_id=2, attributes=None), Annotation(id=16, category_id=2, attributes=None), Annotation(id=17, category_id=2, attributes=None), Annotation(id=18, category_id=2, attributes=None), Annotation(id=19, category_id=2, attributes=None), Annotation(id=20, category_id=2, attributes=None), Annotation(id=21, category_id=2, attributes=None), Annotation(id=22, category_id=2, attributes=None), Annotation(id=23, category_id=2, attributes=None), Annotation(id=24, category_id=2, attributes=None), Annotation(id=25, category_id=2, attributes=None), Annotation(id=26, category_id=1, attributes=None), Annotation(id=27, category_id=1, attributes=None), Annotation(id=28, category_id=1, attributes=None), Annotation(id=29, category_id=1, attributes=None), Annotation(id=30, category_id=1, attributes=None), Annotation(id=31, category_id=1, attributes=None), Annotation(id=32, category_id=1, attributes=None), Annotation(id=33, category_id=1, attributes=None), Annotation(id=34, category_id=1, attributes=None), Annotation(id=35, category_id=1, attributes=None), Annotation(id=36, category_id=1, attributes=None), Annotation(id=37, category_id=1, attributes=None), Annotation(id=38, category_id=1, attributes=None), Annotation(id=39, category_id=1, attributes=None), Annotation(id=40, category_id=1, attributes=None), Annotation(id=41, category_id=1, attributes=None), Annotation(id=42, category_id=1, attributes=None), Annotation(id=43, category_id=2, attributes=None), Annotation(id=44, category_id=2, attributes=None), Annotation(id=45, category_id=2, attributes=None), Annotation(id=46, category_id=2, attributes=None), Annotation(id=47, category_id=2, attributes=None), Annotation(id=48, category_id=2, attributes=None), Annotation(id=49, category_id=2, attributes=None), Annotation(id=50, category_id=2, attributes=None), Annotation(id=51, category_id=2, attributes=None), Annotation(id=52, category_id=2, attributes=None), Annotation(id=53, category_id=2, attributes=None), Annotation(id=54, category_id=2, attributes=None), Annotation(id=55, category_id=1, attributes=None), Annotation(id=56, category_id=1, attributes=None), Annotation(id=57, category_id=1, attributes=None), Annotation(id=58, category_id=1, attributes=None), Annotation(id=59, category_id=1, attributes=None), Annotation(id=60, category_id=1, attributes=None), Annotation(id=61, category_id=1, attributes=None), Annotation(id=62, category_id=1, attributes=None), Annotation(id=63, category_id=1, attributes=None)], segmentation_bitmap=URL(url='https://segmentsai-prod.s3.eu-west-2.amazonaws.com/assets/etaylor/2a09332f-a7a2-4516-97bd-517b95c7f9c0.png'), image_attributes=None, format_version='0.1'), created_at='2023-09-29T11:10:36.025639Z', created_by='etaylor', updated_at='2023-10-04T11:31:59.576003Z', score=None, rating=None, reviewed_at=None, reviewed_by=None)"
      ]
     },
     "execution_count": 18,
     "metadata": {},
     "output_type": "execute_result"
    }
   ],
   "source": [
    "# Get the label of the sample\n",
    "label = client.get_label(samples[0].uuid, labelset='ground-truth')\n",
    "label"
   ]
  },
  {
   "cell_type": "code",
   "execution_count": 27,
   "metadata": {},
   "outputs": [
    {
     "name": "stdout",
     "output_type": "stream",
     "text": [
      "etay ('name', 'cannabis_full_image_week9_3xzoom_regular_best_sample')\n",
      "etay ('full_name', 'etaylor/cannabis_full_image_week9_3xzoom_regular_best_sample')\n",
      "etay ('cloned_from', None)\n",
      "etay ('description', '')\n",
      "etay ('category', 'agriculture')\n",
      "etay ('public', True)\n",
      "etay ('owner', Owner(username='etaylor', created_at='2022-12-28T12:53:18Z', email=None))\n",
      "etay ('created_at', '2023-09-29T11:03:18.350209Z')\n",
      "etay ('enable_ratings', False)\n",
      "etay ('enable_skip_labeling', True)\n",
      "etay ('enable_skip_reviewing', False)\n",
      "etay ('enable_save_button', False)\n",
      "etay ('enable_label_status_verified', False)\n",
      "etay ('enable_same_dimensions_track_constraint', False)\n",
      "etay ('enable_interpolation', True)\n",
      "etay ('task_type', 'segmentation-bitmap')\n",
      "etay ('label_stats', LabelStats(TOTAL=10, LABELED=9, UNLABELED=1, PRELABELED=None))\n",
      "etay ('samples_count', 10)\n",
      "etay ('collaborators_count', 0)\n",
      "etay ('task_attributes', TaskAttributes(format_version='0.1', categories=[TaskAttributeCategory(name='clear', id=1, color=(0, 113, 188), has_instances=None, attributes=None, dimensions=None), TaskAttributeCategory(name='milky', id=2, color=(216, 82, 24), has_instances=None, attributes=None, dimensions=None), TaskAttributeCategory(name='amber', id=3, color=(236, 176, 31), has_instances=None, attributes=None, dimensions=None)], image_attributes=None))\n",
      "etay ('labelsets', [Labelset(name='ground-truth', description='', is_groundtruth=True, created_at='2023-09-29T11:03:18.361292Z')])\n",
      "etay ('role', 'admin')\n",
      "etay ('readme', '# cannabis_full_image_week9_3xzoom_regular_best_sample')\n",
      "etay ('metadata', {})\n",
      "etay ('noncollaborator_can_label', False)\n",
      "etay ('noncollaborator_can_review', False)\n",
      "etay ('embeddings_enabled', False)\n"
     ]
    }
   ],
   "source": [
    "for sample in dataset:\n",
    "    print(\"etay\", sample)"
   ]
  },
  {
   "cell_type": "code",
   "execution_count": null,
   "metadata": {},
   "outputs": [],
   "source": []
  }
 ],
 "metadata": {
  "kernelspec": {
   "display_name": "test_env",
   "language": "python",
   "name": "python3"
  },
  "language_info": {
   "codemirror_mode": {
    "name": "ipython",
    "version": 3
   },
   "file_extension": ".py",
   "mimetype": "text/x-python",
   "name": "python",
   "nbconvert_exporter": "python",
   "pygments_lexer": "ipython3",
   "version": "3.11.4"
  },
  "orig_nbformat": 4
 },
 "nbformat": 4,
 "nbformat_minor": 2
}
