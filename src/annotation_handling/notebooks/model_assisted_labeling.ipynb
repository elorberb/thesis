{
  "cells": [
    {
      "cell_type": "code",
      "execution_count": 5,
      "metadata": {
        "id": "Wnygc-uoVLfx"
      },
      "outputs": [],
      "source": [
        "from extra_deps.fast_labeling_workflow.fast_labeling_utils import visualize, train_model\n",
        "from src.annotation_handling.segmentsai_handler_old import (setup_connection_segmentsai,\n",
        "                                                visualize_dataset,\n",
        "                                                create_dataset, \n",
        "                                                upload_images_to_segments,\n",
        "                                                generate_and_upload_predictions\n",
        "                                                )\n",
        "from segments import SegmentsDataset"
      ]
    },
    {
      "cell_type": "markdown",
      "metadata": {
        "id": "kw2JEh1Sk52I"
      },
      "source": [
        "#### Setup Global Variables"
      ]
    },
    {
      "cell_type": "code",
      "execution_count": 6,
      "metadata": {
        "id": "zgjm9kb2M9lL"
      },
      "outputs": [],
      "source": [
        "client = setup_connection_segmentsai()\n",
        "TRAIN_DATASET_NAME = 'etaylor/cannabis_patches_all_images'"
      ]
    },
    {
      "cell_type": "markdown",
      "metadata": {
        "id": "4bPRHcMrLm7l"
      },
      "source": [
        "#### 1. Upload your images and label a small subset"
      ]
    },
    {
      "cell_type": "markdown",
      "metadata": {
        "id": "20NDp5ubdoX5"
      },
      "source": [
        "##### Vizualize dataset images with masks"
      ]
    },
    {
      "cell_type": "code",
      "execution_count": null,
      "metadata": {
        "colab": {
          "background_save": true,
          "base_uri": "https://localhost:8080/",
          "height": 1000
        },
        "id": "FhD9WUM0Vv40",
        "outputId": "d76e231a-e4df-4e0e-b63d-6eed4dfc7f8c"
      },
      "outputs": [],
      "source": [
        "# Visualize the dataset\n",
        "visualize_dataset(client, TRAIN_DATASET_NAME)"
      ]
    },
    {
      "cell_type": "markdown",
      "metadata": {
        "id": "Rotyn89DLm7m"
      },
      "source": [
        "#### 2. Train a segmentation model on the labeled images\n"
      ]
    },
    {
      "cell_type": "code",
      "execution_count": 4,
      "metadata": {
        "colab": {
          "base_uri": "https://localhost:8080/"
        },
        "id": "RWWJKe0YfarR",
        "outputId": "0bc3cbea-c69c-4fc0-9c25-b6293ae5f760"
      },
      "outputs": [
        {
          "name": "stdout",
          "output_type": "stream",
          "text": [
            "Initializing dataset...\n",
            "Preloading all samples. This may take a while...\n"
          ]
        },
        {
          "name": "stderr",
          "output_type": "stream",
          "text": [
            "100%|\u001b[38;2;255;153;0m██████████\u001b[0m| 74/74 [00:00<00:00, 1059.95it/s]"
          ]
        },
        {
          "name": "stdout",
          "output_type": "stream",
          "text": [
            "Initialized dataset with 74 images.\n"
          ]
        },
        {
          "name": "stderr",
          "output_type": "stream",
          "text": [
            "\n"
          ]
        }
      ],
      "source": [
        "# Initialize a dataset from the release file\n",
        "release = client.get_release(TRAIN_DATASET_NAME, 'v0.1')\n",
        "dataset = SegmentsDataset(release)"
      ]
    },
    {
      "cell_type": "code",
      "execution_count": null,
      "metadata": {
        "colab": {
          "base_uri": "https://localhost:8080/"
        },
        "id": "ZCTlkGZVLm7o",
        "outputId": "5cdc4eb5-2f3e-4b9b-e586-ca4c32aeadc6"
      },
      "outputs": [],
      "source": [
        "# Train an instance segmentation model on the dataset\n",
        "model = train_model(dataset)"
      ]
    },
    {
      "cell_type": "markdown",
      "metadata": {
        "id": "l8MsoYDLduR8"
      },
      "source": [
        "#### Create a new dataset and upload images to him"
      ]
    },
    {
      "cell_type": "code",
      "execution_count": 6,
      "metadata": {
        "colab": {
          "base_uri": "https://localhost:8080/"
        },
        "id": "pK8SfINidxzP",
        "outputId": "3438e95d-4c34-4fb5-e573-5069fd59d4bf"
      },
      "outputs": [],
      "source": [
        "# Directory containing your images\n",
        "image_name = \"IMG_2145\"\n",
        "week = \"week9_3xzoom_regular\"\n",
        "\n",
        "name = f\"trichomes_patches_{week}_{image_name}\"\n",
        "description = f\"Trichomes patches week {week} of image {image_name}.\"\n",
        "task_type = \"segmentation-bitmap\"\n",
        "task_attributes = {\n",
        "    \"format_version\": \"0.1\",\n",
        "    \"categories\": [\n",
        "        {\"name\": \"trichome\", \"id\": 1},\n",
        "    ]\n",
        "}\n",
        "\n",
        "absolute_images_path = f\"/home/etaylor/images/images_patches/cannabis_patches/{week}/{image_name}\"\n",
        "sharpness_absolute_images_path = f\"/home/etaylor/images/images_patches/cannabis_patches/testing_methods/preprocess_by_sharpness/{week}/{image_name}\"\n",
        "\n",
        "dataset_name_test = f\"etaylor/{name}\"\n"
      ]
    },
    {
      "cell_type": "code",
      "execution_count": 7,
      "metadata": {},
      "outputs": [
        {
          "name": "stdout",
          "output_type": "stream",
          "text": [
            "name='trichomes_patches_week9_3xzoom_regular_IMG_2145' full_name='etaylor/trichomes_patches_week9_3xzoom_regular_IMG_2145' cloned_from=None description='Trichomes patches week week9_3xzoom_regular of image IMG_2145.' category='other' public=False owner=Owner(username='etaylor', created_at='2022-12-28T12:53:18Z', email=None) created_at='2023-10-04T15:29:52.497701Z' enable_ratings=False enable_skip_labeling=True enable_skip_reviewing=False enable_save_button=False enable_label_status_verified=False enable_same_dimensions_track_constraint=False enable_interpolation=True task_type='segmentation-bitmap' label_stats=LabelStats(TOTAL=None, LABELED=None, UNLABELED=None, PRELABELED=None) samples_count=0 collaborators_count=None task_attributes=TaskAttributes(format_version='0.1', categories=[TaskAttributeCategory(name='trichome', id=1, color=None, has_instances=None, attributes=None, dimensions=None)], image_attributes=None) labelsets=None role=None readme='' metadata={} noncollaborator_can_label=False noncollaborator_can_review=False embeddings_enabled=None\n"
          ]
        }
      ],
      "source": [
        "#Create the dataset:\n",
        "dataset_test = create_dataset(client, name, description, task_type, task_attributes)\n",
        "print(dataset_test)"
      ]
    },
    {
      "cell_type": "markdown",
      "metadata": {
        "id": "lpX-71UwlW6o"
      },
      "source": [
        "### Upload the Images that are not annotaed to the dataset"
      ]
    },
    {
      "cell_type": "code",
      "execution_count": null,
      "metadata": {
        "colab": {
          "base_uri": "https://localhost:8080/"
        },
        "id": "gozhWa6Ahvxm",
        "outputId": "f73115aa-9519-491c-ac9d-8da8a6b8b70b"
      },
      "outputs": [],
      "source": [
        "upload_images_to_segments(client, dataset_name_test, absolute_images_path)"
      ]
    },
    {
      "cell_type": "markdown",
      "metadata": {
        "id": "AFzfXjOCmeeF"
      },
      "source": [
        "#### Create a new release to the new dataset"
      ]
    },
    {
      "cell_type": "code",
      "execution_count": 9,
      "metadata": {
        "colab": {
          "base_uri": "https://localhost:8080/"
        },
        "id": "vLTSvFbpmmRi",
        "outputId": "791f17fc-3fc0-469e-891d-85ba358f1779"
      },
      "outputs": [
        {
          "name": "stdout",
          "output_type": "stream",
          "text": [
            "uuid='c90f2bbe-e2c6-416b-9324-94aaf2ba5fb3' name='v0.1' description='upload predictions to datset.' release_type='JSON' attributes=URL(url='') status='PENDING' created_at='2023-10-04T15:30:17.664729Z' samples_count=21\n"
          ]
        }
      ],
      "source": [
        "name = 'v0.1'\n",
        "description = 'upload predictions to datset.'\n",
        "release = client.add_release(dataset_name_test, name, description)\n",
        "# if the release is already existing, you can get it with:\n",
        "# release = client.get_release(dataset_name_test, name)\n",
        "print(release)"
      ]
    },
    {
      "cell_type": "code",
      "execution_count": null,
      "metadata": {
        "colab": {
          "base_uri": "https://localhost:8080/",
          "height": 1000
        },
        "id": "ZYzC5LjnLm7o",
        "outputId": "21230882-737f-47dd-da7a-f1cbf6fc3678",
        "scrolled": true
      },
      "outputs": [],
      "source": [
        "generate_and_upload_predictions(client, dataset_name_test, model, visualize_flag=True)"
      ]
    },
    {
      "cell_type": "code",
      "execution_count": null,
      "metadata": {},
      "outputs": [],
      "source": [
        "# Delete the dataset - ONLY IF YOU WANT TO DELETE THE DATASET!!!\n",
        "client.delete_dataset(\"etaylor/trichomes_patches_week8_zoom3_regular_IMG_IMG_1809\")"
      ]
    }
  ],
  "metadata": {
    "accelerator": "GPU",
    "colab": {
      "provenance": []
    },
    "kernelspec": {
      "display_name": "Python 3",
      "name": "python3"
    },
    "language_info": {
      "codemirror_mode": {
        "name": "ipython",
        "version": 3
      },
      "file_extension": ".py",
      "mimetype": "text/x-python",
      "name": "python",
      "nbconvert_exporter": "python",
      "pygments_lexer": "ipython3",
      "version": "3.11.4"
    }
  },
  "nbformat": 4,
  "nbformat_minor": 0
}
